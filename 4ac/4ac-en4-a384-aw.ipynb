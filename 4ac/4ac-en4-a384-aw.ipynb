{
 "cells": [
  {
   "cell_type": "markdown",
   "id": "a6668d60",
   "metadata": {
    "_cell_guid": "b1076dfc-b9ad-4769-8c92-a6c4dae69d19",
    "_uuid": "8f2839f25d086af736a60e9eeb907d3b93b6e0e5",
    "papermill": {
     "duration": 0.004784,
     "end_time": "2022-09-14T04:41:00.069108",
     "exception": false,
     "start_time": "2022-09-14T04:41:00.064324",
     "status": "completed"
    },
    "tags": []
   },
   "source": [
    "### **Setup**"
   ]
  },
  {
   "cell_type": "code",
   "execution_count": 1,
   "id": "3a7b5bed",
   "metadata": {
    "execution": {
     "iopub.execute_input": "2022-09-14T04:41:00.079127Z",
     "iopub.status.busy": "2022-09-14T04:41:00.078232Z",
     "iopub.status.idle": "2022-09-14T04:41:11.533634Z",
     "shell.execute_reply": "2022-09-14T04:41:11.531978Z"
    },
    "papermill": {
     "duration": 11.463301,
     "end_time": "2022-09-14T04:41:11.536315",
     "exception": false,
     "start_time": "2022-09-14T04:41:00.073014",
     "status": "completed"
    },
    "tags": []
   },
   "outputs": [
    {
     "name": "stderr",
     "output_type": "stream",
     "text": [
      "WARNING: Running pip as the 'root' user can result in broken permissions and conflicting behaviour with the system package manager. It is recommended to use a virtual environment instead: https://pip.pypa.io/warnings/venv\n"
     ]
    }
   ],
   "source": [
    "%%bash\n",
    "pip install timm -q"
   ]
  },
  {
   "cell_type": "markdown",
   "id": "27ce4bf6",
   "metadata": {
    "papermill": {
     "duration": 0.004008,
     "end_time": "2022-09-14T04:41:11.544876",
     "exception": false,
     "start_time": "2022-09-14T04:41:11.540868",
     "status": "completed"
    },
    "tags": []
   },
   "source": [
    "### **Library Imports**"
   ]
  },
  {
   "cell_type": "code",
   "execution_count": 2,
   "id": "5bf78ff5",
   "metadata": {
    "execution": {
     "iopub.execute_input": "2022-09-14T04:41:11.554931Z",
     "iopub.status.busy": "2022-09-14T04:41:11.554558Z",
     "iopub.status.idle": "2022-09-14T04:41:15.892933Z",
     "shell.execute_reply": "2022-09-14T04:41:15.891837Z"
    },
    "papermill": {
     "duration": 4.346828,
     "end_time": "2022-09-14T04:41:15.895810",
     "exception": false,
     "start_time": "2022-09-14T04:41:11.548982",
     "status": "completed"
    },
    "tags": []
   },
   "outputs": [],
   "source": [
    "import os\n",
    "import re\n",
    "import cv2\n",
    "import timm\n",
    "import torch\n",
    "import numpy as np\n",
    "import pandas as pd\n",
    "import matplotlib.pyplot as plt\n",
    "\n",
    "from time import time\n",
    "from torch import nn, optim\n",
    "from torch.utils.data import Dataset\n",
    "from torch.utils.data import DataLoader as DL\n",
    "from torchvision import models, transforms\n",
    "\n",
    "from sklearn.model_selection import StratifiedKFold\n",
    "from sklearn.preprocessing import LabelEncoder\n",
    "from sklearn.metrics import accuracy_score"
   ]
  },
  {
   "cell_type": "markdown",
   "id": "a600ce37",
   "metadata": {
    "papermill": {
     "duration": 0.003593,
     "end_time": "2022-09-14T04:41:15.903540",
     "exception": false,
     "start_time": "2022-09-14T04:41:15.899947",
     "status": "completed"
    },
    "tags": []
   },
   "source": [
    "### **Utilities and Helpers**"
   ]
  },
  {
   "cell_type": "code",
   "execution_count": 3,
   "id": "4470cc08",
   "metadata": {
    "execution": {
     "iopub.execute_input": "2022-09-14T04:41:15.913174Z",
     "iopub.status.busy": "2022-09-14T04:41:15.912419Z",
     "iopub.status.idle": "2022-09-14T04:41:15.925872Z",
     "shell.execute_reply": "2022-09-14T04:41:15.925011Z"
    },
    "papermill": {
     "duration": 0.020438,
     "end_time": "2022-09-14T04:41:15.927821",
     "exception": false,
     "start_time": "2022-09-14T04:41:15.907383",
     "status": "completed"
    },
    "tags": []
   },
   "outputs": [],
   "source": [
    "SEED = 42\n",
    "SIZE = 384\n",
    "le = LabelEncoder()\n",
    "\n",
    "\n",
    "def breaker(num: int=50, char: str=\"*\") -> None:\n",
    "    print(\"\\n\" + num*char + \"\\n\")\n",
    "\n",
    "    \n",
    "def get_image(path: str, size: int=224) -> np.ndarray:\n",
    "    image = cv2.imread(path, cv2.IMREAD_COLOR)\n",
    "    image = cv2.cvtColor(src=image, code=cv2.COLOR_BGR2RGB)\n",
    "    return cv2.resize(src=image, dsize=(size, size), interpolation=cv2.INTER_AREA)\n",
    "\n",
    "\n",
    "def show_loss_graphs(L: list) -> None:\n",
    "    TL, VL = [], []\n",
    "    for i in range(len(L)):\n",
    "        TL.append(L[i][\"train\"])\n",
    "        VL.append(L[i][\"valid\"])\n",
    "    x_Axis = np.arange(1, len(TL) + 1)\n",
    "    plt.figure()\n",
    "    plt.plot(x_Axis, TL, \"r\", label=\"Train\")\n",
    "    plt.plot(x_Axis, VL, \"b\", label=\"Valid\")\n",
    "    plt.legend()\n",
    "    plt.grid()\n",
    "    plt.title(\"Loss Graph\")\n",
    "    plt.show()\n",
    "\n",
    "    \n",
    "def show_accuracy_graphs(A: list) -> None:\n",
    "    TA, VA = [], []\n",
    "    for i in range(len(A)):\n",
    "        TA.append(A[i][\"train\"])\n",
    "        VA.append(A[i][\"valid\"])\n",
    "    x_Axis = np.arange(1, len(TA) + 1)\n",
    "    plt.figure()\n",
    "    plt.plot(x_Axis, TA, \"r\", label=\"Train\")\n",
    "    plt.plot(x_Axis, VA, \"b\", label=\"Valid\")\n",
    "    plt.legend()\n",
    "    plt.grid()\n",
    "    plt.title(\"Accuracy Graph\")\n",
    "    plt.show()\n",
    "    \n",
    "\n",
    "def show_lr_graph(LR: list) -> None:\n",
    "    x_Axis = [i+1 for i in range(len(LR))]\n",
    "    plt.figure(figsize=(8, 6))\n",
    "    plt.plot(x_Axis, LR, \"rx\")\n",
    "    plt.grid()\n",
    "    plt.show()"
   ]
  },
  {
   "cell_type": "markdown",
   "id": "37f0a5cc",
   "metadata": {
    "papermill": {
     "duration": 0.003603,
     "end_time": "2022-09-14T04:41:15.935155",
     "exception": false,
     "start_time": "2022-09-14T04:41:15.931552",
     "status": "completed"
    },
    "tags": []
   },
   "source": [
    "### **Configuration**"
   ]
  },
  {
   "cell_type": "code",
   "execution_count": 4,
   "id": "86ea776f",
   "metadata": {
    "execution": {
     "iopub.execute_input": "2022-09-14T04:41:15.944167Z",
     "iopub.status.busy": "2022-09-14T04:41:15.943260Z",
     "iopub.status.idle": "2022-09-14T04:41:16.017234Z",
     "shell.execute_reply": "2022-09-14T04:41:16.016295Z"
    },
    "papermill": {
     "duration": 0.080676,
     "end_time": "2022-09-14T04:41:16.019499",
     "exception": false,
     "start_time": "2022-09-14T04:41:15.938823",
     "status": "completed"
    },
    "tags": []
   },
   "outputs": [],
   "source": [
    "class CFG(object):\n",
    "    def __init__(self, \n",
    "                 seed: int = 42,\n",
    "                 size: int = 224,\n",
    "                 n_splits: int = 5,\n",
    "                 batch_size: int = 16,\n",
    "                 epochs: int = 25,\n",
    "                 early_stopping: int = 5,\n",
    "                 lr: float = 1e-4,\n",
    "                 wd: float = 0.0,\n",
    "                 max_lr: float = 1e-3,\n",
    "                 pct_start: float = 0.2,\n",
    "                 steps_per_epoch: int = 100,\n",
    "                 div_factor: int = 1e3, \n",
    "                 final_div_factor: float = 1e3,\n",
    "                 ):\n",
    "        self.seed = seed\n",
    "        self.size = size\n",
    "        self.n_splits = n_splits\n",
    "        self.batch_size = batch_size\n",
    "        self.epochs = epochs\n",
    "        self.early_stopping = early_stopping\n",
    "        self.lr = lr\n",
    "        self.wd = wd\n",
    "        self.max_lr = max_lr\n",
    "        self.pct_start = pct_start\n",
    "        self.steps_per_epoch = steps_per_epoch\n",
    "        self.div_factor = div_factor\n",
    "        self.final_div_factor = final_div_factor\n",
    "        self.device = torch.device(\"cuda\" if torch.cuda.is_available() else \"cpu\")\n",
    "        self.train_transform = transforms.Compose([\n",
    "            transforms.ToTensor(),\n",
    "            transforms.Normalize([0.48805, 0.46218, 0.38043], [0.21471, 0.21141, 0.21124]),\n",
    "            transforms.RandomAffine(degrees=(-45, 45), translate=(0.15, 0.15), scale=(0.5, 1.5)),\n",
    "            transforms.RandomHorizontalFlip(p=0.25),\n",
    "            transforms.RandomVerticalFlip(p=0.25),\n",
    "        ])\n",
    "        self.valid_transform = transforms.Compose([\n",
    "            transforms.ToTensor(),\n",
    "            transforms.Normalize([0.48805, 0.46218, 0.38043], [0.21471, 0.21141, 0.21124]),\n",
    "        ])\n",
    "                                \n",
    "        self.save_path = \"saves\"\n",
    "        if not os.path.exists(self.save_path): os.makedirs(self.save_path)\n",
    "    \n",
    "cfg = CFG(seed=SEED, size=SIZE)"
   ]
  },
  {
   "cell_type": "markdown",
   "id": "690c2af5",
   "metadata": {
    "papermill": {
     "duration": 0.003656,
     "end_time": "2022-09-14T04:41:16.027304",
     "exception": false,
     "start_time": "2022-09-14T04:41:16.023648",
     "status": "completed"
    },
    "tags": []
   },
   "source": [
    "### **Dataset Template**"
   ]
  },
  {
   "cell_type": "code",
   "execution_count": 5,
   "id": "281e42dc",
   "metadata": {
    "execution": {
     "iopub.execute_input": "2022-09-14T04:41:16.037972Z",
     "iopub.status.busy": "2022-09-14T04:41:16.036305Z",
     "iopub.status.idle": "2022-09-14T04:41:16.044131Z",
     "shell.execute_reply": "2022-09-14T04:41:16.043161Z"
    },
    "papermill": {
     "duration": 0.01466,
     "end_time": "2022-09-14T04:41:16.046216",
     "exception": false,
     "start_time": "2022-09-14T04:41:16.031556",
     "status": "completed"
    },
    "tags": []
   },
   "outputs": [],
   "source": [
    "class DS(Dataset):\n",
    "    def __init__(\n",
    "        self, \n",
    "        base_path: str,\n",
    "        filenames: np.ndarray, \n",
    "        folder_names: np.ndarray, \n",
    "        labels: np.ndarray, \n",
    "        size: int,\n",
    "        transform=None):\n",
    "        \n",
    "        self.base_path = base_path\n",
    "        self.filenames = filenames\n",
    "        self.folder_names = folder_names\n",
    "        self.labels = labels\n",
    "        self.size = size\n",
    "        self.transform = transform\n",
    "    \n",
    "    def __len__(self):\n",
    "        return self.filenames.shape[0]\n",
    "    \n",
    "    def __getitem__(self, idx):\n",
    "        path = os.path.join(os.path.join(self.base_path, self.folder_names[idx]), self.filenames[idx])\n",
    "        image = get_image(path, self.size)\n",
    "        return self.transform(image), self.labels[idx]"
   ]
  },
  {
   "cell_type": "markdown",
   "id": "ef407e2f",
   "metadata": {
    "papermill": {
     "duration": 0.003601,
     "end_time": "2022-09-14T04:41:16.053555",
     "exception": false,
     "start_time": "2022-09-14T04:41:16.049954",
     "status": "completed"
    },
    "tags": []
   },
   "source": [
    "### **Model**"
   ]
  },
  {
   "cell_type": "code",
   "execution_count": 6,
   "id": "ac28bb65",
   "metadata": {
    "execution": {
     "iopub.execute_input": "2022-09-14T04:41:16.062127Z",
     "iopub.status.busy": "2022-09-14T04:41:16.061869Z",
     "iopub.status.idle": "2022-09-14T04:41:16.068762Z",
     "shell.execute_reply": "2022-09-14T04:41:16.067779Z"
    },
    "papermill": {
     "duration": 0.013509,
     "end_time": "2022-09-14T04:41:16.070806",
     "exception": false,
     "start_time": "2022-09-14T04:41:16.057297",
     "status": "completed"
    },
    "tags": []
   },
   "outputs": [],
   "source": [
    "class Model(nn.Module):\n",
    "    def __init__(self, model_name: str=\"efficientnet_b4\"):\n",
    "        super(Model, self).__init__()\n",
    "            \n",
    "        self.model = timm.create_model(model_name=model_name, pretrained=True)\n",
    "        self.model.classifier = nn.Linear(in_features=self.model.classifier.in_features, out_features=11)\n",
    "            \n",
    "    def freeze(self):\n",
    "        for params in self.parameters(): params.requires_grad = False\n",
    "\n",
    "    def forward(self, x):\n",
    "        return nn.LogSoftmax(dim=1)(self.model(x))"
   ]
  },
  {
   "cell_type": "markdown",
   "id": "ba9c366f",
   "metadata": {
    "papermill": {
     "duration": 0.003661,
     "end_time": "2022-09-14T04:41:16.078333",
     "exception": false,
     "start_time": "2022-09-14T04:41:16.074672",
     "status": "completed"
    },
    "tags": []
   },
   "source": [
    "### **Fit and Predict**"
   ]
  },
  {
   "cell_type": "code",
   "execution_count": 7,
   "id": "9224a3b3",
   "metadata": {
    "execution": {
     "iopub.execute_input": "2022-09-14T04:41:16.087270Z",
     "iopub.status.busy": "2022-09-14T04:41:16.087015Z",
     "iopub.status.idle": "2022-09-14T04:41:16.111172Z",
     "shell.execute_reply": "2022-09-14T04:41:16.110246Z"
    },
    "papermill": {
     "duration": 0.031108,
     "end_time": "2022-09-14T04:41:16.113165",
     "exception": false,
     "start_time": "2022-09-14T04:41:16.082057",
     "status": "completed"
    },
    "tags": []
   },
   "outputs": [],
   "source": [
    "def fit(model=None,\n",
    "        model_name=None,\n",
    "        optimizer=None, \n",
    "        scheduler_rlrop=None,\n",
    "        scheduler_oclr=None,\n",
    "        epochs=None, \n",
    "        early_stopping_patience=None, \n",
    "        dataloaders=None, \n",
    "        fold=None, \n",
    "        save_path=None,\n",
    "        device=None,\n",
    "        verbose=False) -> tuple:\n",
    "    \n",
    "    def get_accuracy(y_pred, y_true):\n",
    "        y_pred = torch.argmax(y_pred, dim=1)\n",
    "        return torch.count_nonzero(y_pred == y_true).item() / len(y_pred)\n",
    "    \n",
    "    \n",
    "    if verbose:\n",
    "        breaker()\n",
    "        print(f\" ----- {model_name.upper()} -----\")\n",
    "        breaker()\n",
    "        if fold: print(f\"Training Fold {fold}...\")\n",
    "        else: print(\"Training ...\")\n",
    "        breaker()\n",
    "        \n",
    "    bestLoss: dict = {\"train\" : np.inf, \"valid\" : np.inf} \n",
    "    bestAccs: dict = {\"train\" : 0.0, \"valid\" : 0.0}\n",
    "        \n",
    "    Losses: list = []\n",
    "    Accuracies: list = [] \n",
    "    LRs: list = []\n",
    "        \n",
    "    if fold: \n",
    "        ble_name = f\"{model_name}_ble_state_fold_{fold}.pt\"\n",
    "        bae_name = f\"{model_name}_bae_state_fold_{fold}.pt\"\n",
    "    else: \n",
    "        ble_name = f\"{model_name}_ble_state.pt\"\n",
    "        bae_name = f\"{model_name}_bae_state.pt\"\n",
    "    \n",
    "    start_time = time()\n",
    "    for e in range(epochs):\n",
    "        e_st = time()\n",
    "        epochLoss: dict = {\"train\" : 0.0, \"valid\" : 0.0} \n",
    "        epochAccs: dict = {\"train\" : 0.0, \"valid\" : 0.0}\n",
    "\n",
    "        for phase in [\"train\", \"valid\"]:\n",
    "            if phase == \"train\":\n",
    "                model.train()\n",
    "            else:\n",
    "                model.eval()\n",
    "            \n",
    "            lossPerPass: list = []\n",
    "            accsPerPass: list = []\n",
    "                \n",
    "            for X, y in dataloaders[phase]:\n",
    "                X, y = X.to(device), y.to(device).view(-1)\n",
    "\n",
    "                optimizer.zero_grad()\n",
    "                with torch.set_grad_enabled(phase == \"train\"):\n",
    "                    output = model(X)\n",
    "                    loss = torch.nn.NLLLoss()(output, y)\n",
    "                    if phase == \"train\":\n",
    "                        loss.backward()\n",
    "                        optimizer.step()\n",
    "                        if scheduler_oclr: scheduler_oclr.step()\n",
    "                lossPerPass.append(loss.item())\n",
    "                accsPerPass.append(get_accuracy(output, y))\n",
    "            epochLoss[phase] = np.mean(np.array(lossPerPass))\n",
    "            epochAccs[phase] = np.mean(np.array(accsPerPass))\n",
    "        if scheduler_oclr: LRs.append(scheduler_oclr.get_last_lr())\n",
    "        Losses.append(epochLoss)\n",
    "        Accuracies.append(epochAccs)\n",
    "    \n",
    "        if scheduler_oclr:\n",
    "            save_dict = {\"model_state_dict\"     : model.state_dict(),\n",
    "                         \"optim_state_dict\"     : optimizer.state_dict(),\n",
    "                         \"scheduler_state_dict\" : scheduler_oclr.state_dict()}\n",
    "        \n",
    "        elif scheduler_rlrop:\n",
    "            save_dict = {\"model_state_dict\"     : model.state_dict(),\n",
    "                         \"optim_state_dict\"     : optimizer.state_dict(),\n",
    "                         \"scheduler_state_dict\" : scheduler_rlrop.state_dict()}\n",
    "        \n",
    "        else:\n",
    "            save_dict = {\"model_state_dict\"     : model.state_dict(),\n",
    "                         \"optim_state_dict\"     : optimizer.state_dict()}\n",
    "        \n",
    "        \n",
    "        if early_stopping_patience:\n",
    "            if epochLoss[\"valid\"] < bestLoss[\"valid\"]:\n",
    "                bestLoss = epochLoss\n",
    "                BLE = e + 1\n",
    "                torch.save(save_dict, os.path.join(save_path, ble_name))\n",
    "                torch.save(save_dict, os.path.join(save_path, bae_name))\n",
    "                early_stopping_step = 0\n",
    "            else:\n",
    "                early_stopping_step += 1\n",
    "                if early_stopping_step > early_stopping_patience:\n",
    "                    print(\"\\nEarly Stopping at Epoch {}\".format(e + 1))\n",
    "                    break\n",
    "        \n",
    "        if epochLoss[\"valid\"] < bestLoss[\"valid\"]:\n",
    "            bestLoss = epochLoss\n",
    "            BLE = e + 1\n",
    "            torch.save(save_dict,os.path.join(save_path, ble_name))\n",
    "        \n",
    "        if epochAccs[\"valid\"] > bestAccs[\"valid\"]:\n",
    "            bestAccs = epochAccs\n",
    "            BAE = e + 1\n",
    "            torch.save(save_dict,os.path.join(save_path, bae_name))\n",
    "        \n",
    "        if scheduler_rlrop: scheduler_rlrop.step(epochLoss[\"valid\"])\n",
    "        \n",
    "        if verbose:\n",
    "            print(\"Epoch: {} | Train Loss: {:.5f} | Valid Loss: {:.5f} |\\\n",
    " Train Accs: {:.5f} | Valid Accs: {:.5f} | Time: {:.2f} seconds\".format(e+1, \n",
    "                                                                        epochLoss[\"train\"], epochLoss[\"valid\"], \n",
    "                                                                        epochAccs[\"train\"], epochAccs[\"valid\"], \n",
    "                                                                        time()-e_st))\n",
    "\n",
    "    if verbose:                                           \n",
    "        breaker()\n",
    "        print(f\"Best Validation Loss at Epoch {BLE}\")\n",
    "        breaker()\n",
    "        print(f\"Best Validation Accs at Epoch {BAE}\")\n",
    "        breaker()\n",
    "        print(\"Time Taken [{} Epochs] : {:.2f} minutes\".format(len(Losses), (time()-start_time)/60))\n",
    "    \n",
    "    return Losses, Accuracies, LRs, BLE, BAE, ble_name, bae_name\n",
    "\n",
    "\n",
    "def predict_batch(model=None, dataloader=None, path=None, device=None) -> np.ndarray:\n",
    "    model.load_state_dict(torch.load(path, map_location=device)[\"model_state_dict\"])\n",
    "    model.to(device)    \n",
    "    model.eval()\n",
    "    \n",
    "    y_pred = torch.zeros(1, 1).to(device)\n",
    "    \n",
    "    for X in dataloader:\n",
    "        X = X.to(device)\n",
    "        with torch.no_grad():\n",
    "            output = torch.argmax(torch.exp(model(X)), dim=1)\n",
    "        y_pred = torch.cat((y_pred, output.view(-1, 1)), dim=0)\n",
    "    \n",
    "    return y_pred[1:].detach().cpu().numpy()"
   ]
  },
  {
   "cell_type": "markdown",
   "id": "549dd677",
   "metadata": {
    "papermill": {
     "duration": 0.003753,
     "end_time": "2022-09-14T04:41:16.120823",
     "exception": false,
     "start_time": "2022-09-14T04:41:16.117070",
     "status": "completed"
    },
    "tags": []
   },
   "source": [
    "### **Train**"
   ]
  },
  {
   "cell_type": "code",
   "execution_count": 8,
   "id": "b0d54833",
   "metadata": {
    "execution": {
     "iopub.execute_input": "2022-09-14T04:41:16.129486Z",
     "iopub.status.busy": "2022-09-14T04:41:16.129232Z",
     "iopub.status.idle": "2022-09-14T04:41:16.153803Z",
     "shell.execute_reply": "2022-09-14T04:41:16.152895Z"
    },
    "papermill": {
     "duration": 0.031454,
     "end_time": "2022-09-14T04:41:16.156123",
     "exception": false,
     "start_time": "2022-09-14T04:41:16.124669",
     "status": "completed"
    },
    "tags": []
   },
   "outputs": [],
   "source": [
    "df = pd.read_csv(\"../input/4ac-dataframe/data.csv\")\n",
    "\n",
    "filenames = df.filenames.copy().values\n",
    "folder_names = df.folder_names.copy().values\n",
    "labels = df.classes.copy().values"
   ]
  },
  {
   "cell_type": "code",
   "execution_count": 9,
   "id": "e400846e",
   "metadata": {
    "execution": {
     "iopub.execute_input": "2022-09-14T04:41:16.165634Z",
     "iopub.status.busy": "2022-09-14T04:41:16.165382Z",
     "iopub.status.idle": "2022-09-14T05:41:21.984881Z",
     "shell.execute_reply": "2022-09-14T05:41:21.983899Z"
    },
    "papermill": {
     "duration": 3605.827883,
     "end_time": "2022-09-14T05:41:21.987832",
     "exception": false,
     "start_time": "2022-09-14T04:41:16.159949",
     "status": "completed"
    },
    "tags": []
   },
   "outputs": [
    {
     "name": "stderr",
     "output_type": "stream",
     "text": [
      "Downloading: \"https://github.com/rwightman/pytorch-image-models/releases/download/v0.1-weights/efficientnet_b4_ra2_320-7eb33cd5.pth\" to /root/.cache/torch/hub/checkpoints/efficientnet_b4_ra2_320-7eb33cd5.pth\n"
     ]
    },
    {
     "name": "stdout",
     "output_type": "stream",
     "text": [
      "\n",
      "**************************************************\n",
      "\n",
      " ----- EFFICIENTNET_B4 -----\n",
      "\n",
      "**************************************************\n",
      "\n",
      "Training Fold 1...\n",
      "\n",
      "**************************************************\n",
      "\n",
      "Epoch: 1 | Train Loss: 2.22864 | Valid Loss: 1.55455 | Train Accs: 0.38795 | Valid Accs: 0.69821 | Time: 155.61 seconds\n",
      "Epoch: 2 | Train Loss: 0.56417 | Valid Loss: 0.04995 | Train Accs: 0.86205 | Valid Accs: 0.98750 | Time: 124.84 seconds\n",
      "Epoch: 3 | Train Loss: 0.15358 | Valid Loss: 0.08604 | Train Accs: 0.95134 | Valid Accs: 0.96964 | Time: 122.45 seconds\n",
      "Epoch: 4 | Train Loss: 0.16065 | Valid Loss: 0.08364 | Train Accs: 0.94777 | Valid Accs: 0.97500 | Time: 122.55 seconds\n",
      "Epoch: 5 | Train Loss: 0.15582 | Valid Loss: 0.10476 | Train Accs: 0.94554 | Valid Accs: 0.96964 | Time: 123.64 seconds\n",
      "Epoch: 6 | Train Loss: 0.12443 | Valid Loss: 0.10609 | Train Accs: 0.96339 | Valid Accs: 0.95893 | Time: 122.24 seconds\n",
      "Epoch: 7 | Train Loss: 0.12019 | Valid Loss: 0.08639 | Train Accs: 0.96071 | Valid Accs: 0.97321 | Time: 122.08 seconds\n",
      "\n",
      "Early Stopping at Epoch 8\n",
      "\n",
      "**************************************************\n",
      "\n",
      "Best Validation Loss at Epoch 2\n",
      "\n",
      "**************************************************\n",
      "\n",
      "Best Validation Accs at Epoch 2\n",
      "\n",
      "**************************************************\n",
      "\n",
      "Time Taken [8 Epochs] : 16.91 minutes\n",
      "\n",
      "**************************************************\n",
      "\n"
     ]
    },
    {
     "data": {
      "image/png": "[encoded data removed]",
      "text/plain": [
       "<Figure size 432x288 with 1 Axes>"
      ]
     },
     "metadata": {
      "needs_background": "light"
     },
     "output_type": "display_data"
    },
    {
     "name": "stdout",
     "output_type": "stream",
     "text": [
      "\n",
      "**************************************************\n",
      "\n"
     ]
    },
    {
     "data": {
      "image/png": "[encoded data removed]",
      "text/plain": [
       "<Figure size 432x288 with 1 Axes>"
      ]
     },
     "metadata": {
      "needs_background": "light"
     },
     "output_type": "display_data"
    },
    {
     "name": "stdout",
     "output_type": "stream",
     "text": [
      "\n",
      "**************************************************\n",
      "\n"
     ]
    },
    {
     "data": {
      "image/png": "[encoded data removed]",
      "text/plain": [
       "<Figure size 576x432 with 1 Axes>"
      ]
     },
     "metadata": {
      "needs_background": "light"
     },
     "output_type": "display_data"
    },
    {
     "name": "stdout",
     "output_type": "stream",
     "text": [
      "\n",
      "**************************************************\n",
      "\n",
      "\n",
      "**************************************************\n",
      "\n",
      " ----- EFFICIENTNET_B4 -----\n",
      "\n",
      "**************************************************\n",
      "\n",
      "Training Fold 2...\n",
      "\n",
      "**************************************************\n",
      "\n",
      "Epoch: 1 | Train Loss: 2.36010 | Valid Loss: 2.22010 | Train Accs: 0.18527 | Valid Accs: 0.59780 | Time: 60.89 seconds\n",
      "Epoch: 2 | Train Loss: 1.55150 | Valid Loss: 0.61991 | Train Accs: 0.64955 | Valid Accs: 0.93866 | Time: 62.01 seconds\n",
      "Epoch: 3 | Train Loss: 0.31409 | Valid Loss: 0.09187 | Train Accs: 0.90759 | Valid Accs: 0.97338 | Time: 61.23 seconds\n",
      "Epoch: 4 | Train Loss: 0.19001 | Valid Loss: 0.10555 | Train Accs: 0.93259 | Valid Accs: 0.96123 | Time: 59.58 seconds\n",
      "Epoch: 5 | Train Loss: 0.11164 | Valid Loss: 0.07532 | Train Accs: 0.96473 | Valid Accs: 0.97627 | Time: 61.34 seconds\n",
      "Epoch: 6 | Train Loss: 0.09586 | Valid Loss: 0.06457 | Train Accs: 0.96429 | Valid Accs: 0.97569 | Time: 61.18 seconds\n",
      "Epoch: 7 | Train Loss: 0.09481 | Valid Loss: 0.08680 | Train Accs: 0.96741 | Valid Accs: 0.96875 | Time: 59.59 seconds\n",
      "Epoch: 8 | Train Loss: 0.07427 | Valid Loss: 0.12786 | Train Accs: 0.97545 | Valid Accs: 0.96528 | Time: 58.97 seconds\n",
      "Epoch: 9 | Train Loss: 0.07228 | Valid Loss: 0.07696 | Train Accs: 0.97411 | Valid Accs: 0.97569 | Time: 59.64 seconds\n",
      "Epoch: 10 | Train Loss: 0.05179 | Valid Loss: 0.09813 | Train Accs: 0.98304 | Valid Accs: 0.97222 | Time: 59.04 seconds\n",
      "Epoch: 11 | Train Loss: 0.05243 | Valid Loss: 0.07020 | Train Accs: 0.98036 | Valid Accs: 0.97743 | Time: 59.93 seconds\n",
      "\n",
      "Early Stopping at Epoch 12\n",
      "\n",
      "**************************************************\n",
      "\n",
      "Best Validation Loss at Epoch 6\n",
      "\n",
      "**************************************************\n",
      "\n",
      "Best Validation Accs at Epoch 11\n",
      "\n",
      "**************************************************\n",
      "\n",
      "Time Taken [12 Epochs] : 12.04 minutes\n",
      "\n",
      "**************************************************\n",
      "\n"
     ]
    },
    {
     "data": {
      "image/png": "[encoded data removed]",
      "text/plain": [
       "<Figure size 432x288 with 1 Axes>"
      ]
     },
     "metadata": {
      "needs_background": "light"
     },
     "output_type": "display_data"
    },
    {
     "name": "stdout",
     "output_type": "stream",
     "text": [
      "\n",
      "**************************************************\n",
      "\n"
     ]
    },
    {
     "data": {
      "image/png": "[encoded data removed]",
      "text/plain": [
       "<Figure size 432x288 with 1 Axes>"
      ]
     },
     "metadata": {
      "needs_background": "light"
     },
     "output_type": "display_data"
    },
    {
     "name": "stdout",
     "output_type": "stream",
     "text": [
      "\n",
      "**************************************************\n",
      "\n"
     ]
    },
    {
     "data": {
      "image/png": "[encoded data removed]",
      "text/plain": [
       "<Figure size 576x432 with 1 Axes>"
      ]
     },
     "metadata": {
      "needs_background": "light"
     },
     "output_type": "display_data"
    },
    {
     "name": "stdout",
     "output_type": "stream",
     "text": [
      "\n",
      "**************************************************\n",
      "\n",
      "\n",
      "**************************************************\n",
      "\n",
      " ----- EFFICIENTNET_B4 -----\n",
      "\n",
      "**************************************************\n",
      "\n",
      "Training Fold 3...\n",
      "\n",
      "**************************************************\n",
      "\n",
      "Epoch: 1 | Train Loss: 2.35892 | Valid Loss: 2.22346 | Train Accs: 0.18170 | Valid Accs: 0.60764 | Time: 60.98 seconds\n",
      "Epoch: 2 | Train Loss: 1.54941 | Valid Loss: 0.61080 | Train Accs: 0.62991 | Valid Accs: 0.95544 | Time: 61.71 seconds\n",
      "Epoch: 3 | Train Loss: 0.29272 | Valid Loss: 0.06758 | Train Accs: 0.91518 | Valid Accs: 0.98032 | Time: 61.08 seconds\n",
      "Epoch: 4 | Train Loss: 0.20051 | Valid Loss: 0.05477 | Train Accs: 0.92991 | Valid Accs: 0.98611 | Time: 61.42 seconds\n",
      "Epoch: 5 | Train Loss: 0.12554 | Valid Loss: 0.08507 | Train Accs: 0.95312 | Valid Accs: 0.97338 | Time: 59.31 seconds\n",
      "Epoch: 6 | Train Loss: 0.10757 | Valid Loss: 0.07401 | Train Accs: 0.96250 | Valid Accs: 0.97859 | Time: 58.63 seconds\n",
      "Epoch: 7 | Train Loss: 0.08750 | Valid Loss: 0.09489 | Train Accs: 0.97098 | Valid Accs: 0.97280 | Time: 59.42 seconds\n",
      "Epoch: 8 | Train Loss: 0.06003 | Valid Loss: 0.07527 | Train Accs: 0.98080 | Valid Accs: 0.97049 | Time: 58.98 seconds\n",
      "Epoch: 9 | Train Loss: 0.05361 | Valid Loss: 0.13313 | Train Accs: 0.98259 | Valid Accs: 0.96875 | Time: 61.53 seconds\n",
      "\n",
      "Early Stopping at Epoch 10\n",
      "\n",
      "**************************************************\n",
      "\n",
      "Best Validation Loss at Epoch 4\n",
      "\n",
      "**************************************************\n",
      "\n",
      "Best Validation Accs at Epoch 4\n",
      "\n",
      "**************************************************\n",
      "\n",
      "Time Taken [10 Epochs] : 10.04 minutes\n",
      "\n",
      "**************************************************\n",
      "\n"
     ]
    },
    {
     "data": {
      "image/png": "[encoded data removed]",
      "text/plain": [
       "<Figure size 432x288 with 1 Axes>"
      ]
     },
     "metadata": {
      "needs_background": "light"
     },
     "output_type": "display_data"
    },
    {
     "name": "stdout",
     "output_type": "stream",
     "text": [
      "\n",
      "**************************************************\n",
      "\n"
     ]
    },
    {
     "data": {
      "image/png": "[encoded data removed]",
      "text/plain": [
       "<Figure size 432x288 with 1 Axes>"
      ]
     },
     "metadata": {
      "needs_background": "light"
     },
     "output_type": "display_data"
    },
    {
     "name": "stdout",
     "output_type": "stream",
     "text": [
      "\n",
      "**************************************************\n",
      "\n"
     ]
    },
    {
     "data": {
      "image/png": "[encoded data removed]",
      "text/plain": [
       "<Figure size 576x432 with 1 Axes>"
      ]
     },
     "metadata": {
      "needs_background": "light"
     },
     "output_type": "display_data"
    },
    {
     "name": "stdout",
     "output_type": "stream",
     "text": [
      "\n",
      "**************************************************\n",
      "\n",
      "\n",
      "**************************************************\n",
      "\n",
      " ----- EFFICIENTNET_B4 -----\n",
      "\n",
      "**************************************************\n",
      "\n",
      "Training Fold 4...\n",
      "\n",
      "**************************************************\n",
      "\n",
      "Epoch: 1 | Train Loss: 2.36073 | Valid Loss: 2.22335 | Train Accs: 0.18125 | Valid Accs: 0.62153 | Time: 61.03 seconds\n",
      "Epoch: 2 | Train Loss: 1.54636 | Valid Loss: 0.59664 | Train Accs: 0.64196 | Valid Accs: 0.97338 | Time: 61.78 seconds\n",
      "Epoch: 3 | Train Loss: 0.29636 | Valid Loss: 0.06659 | Train Accs: 0.91250 | Valid Accs: 0.97396 | Time: 61.71 seconds\n",
      "Epoch: 4 | Train Loss: 0.21192 | Valid Loss: 0.06813 | Train Accs: 0.92679 | Valid Accs: 0.98090 | Time: 60.65 seconds\n",
      "Epoch: 5 | Train Loss: 0.15708 | Valid Loss: 0.06271 | Train Accs: 0.94911 | Valid Accs: 0.97280 | Time: 60.64 seconds\n",
      "Epoch: 6 | Train Loss: 0.12196 | Valid Loss: 0.06675 | Train Accs: 0.96429 | Valid Accs: 0.97743 | Time: 59.06 seconds\n",
      "Epoch: 7 | Train Loss: 0.07941 | Valid Loss: 0.09779 | Train Accs: 0.97411 | Valid Accs: 0.96875 | Time: 58.99 seconds\n",
      "Epoch: 8 | Train Loss: 0.04485 | Valid Loss: 0.08692 | Train Accs: 0.98393 | Valid Accs: 0.97164 | Time: 58.90 seconds\n",
      "Epoch: 9 | Train Loss: 0.04938 | Valid Loss: 0.08419 | Train Accs: 0.98527 | Valid Accs: 0.97743 | Time: 58.72 seconds\n",
      "Epoch: 10 | Train Loss: 0.06168 | Valid Loss: 0.09985 | Train Accs: 0.98170 | Valid Accs: 0.97164 | Time: 59.03 seconds\n",
      "\n",
      "Early Stopping at Epoch 11\n",
      "\n",
      "**************************************************\n",
      "\n",
      "Best Validation Loss at Epoch 5\n",
      "\n",
      "**************************************************\n",
      "\n",
      "Best Validation Accs at Epoch 4\n",
      "\n",
      "**************************************************\n",
      "\n",
      "Time Taken [11 Epochs] : 10.99 minutes\n",
      "\n",
      "**************************************************\n",
      "\n"
     ]
    },
    {
     "data": {
      "image/png": "[encoded data removed]",
      "text/plain": [
       "<Figure size 432x288 with 1 Axes>"
      ]
     },
     "metadata": {
      "needs_background": "light"
     },
     "output_type": "display_data"
    },
    {
     "name": "stdout",
     "output_type": "stream",
     "text": [
      "\n",
      "**************************************************\n",
      "\n"
     ]
    },
    {
     "data": {
      "image/png": "[encoded data removed]",
      "text/plain": [
       "<Figure size 432x288 with 1 Axes>"
      ]
     },
     "metadata": {
      "needs_background": "light"
     },
     "output_type": "display_data"
    },
    {
     "name": "stdout",
     "output_type": "stream",
     "text": [
      "\n",
      "**************************************************\n",
      "\n"
     ]
    },
    {
     "data": {
      "image/png": "[encoded data removed]",
      "text/plain": [
       "<Figure size 576x432 with 1 Axes>"
      ]
     },
     "metadata": {
      "needs_background": "light"
     },
     "output_type": "display_data"
    },
    {
     "name": "stdout",
     "output_type": "stream",
     "text": [
      "\n",
      "**************************************************\n",
      "\n",
      "\n",
      "**************************************************\n",
      "\n",
      " ----- EFFICIENTNET_B4 -----\n",
      "\n",
      "**************************************************\n",
      "\n",
      "Training Fold 5...\n",
      "\n",
      "**************************************************\n",
      "\n",
      "Epoch: 1 | Train Loss: 2.35968 | Valid Loss: 2.21705 | Train Accs: 0.18839 | Valid Accs: 0.62269 | Time: 60.63 seconds\n",
      "Epoch: 2 | Train Loss: 1.54745 | Valid Loss: 0.60802 | Train Accs: 0.64643 | Valid Accs: 0.95602 | Time: 60.88 seconds\n",
      "Epoch: 3 | Train Loss: 0.31259 | Valid Loss: 0.07907 | Train Accs: 0.90759 | Valid Accs: 0.97569 | Time: 61.19 seconds\n",
      "Epoch: 4 | Train Loss: 0.19422 | Valid Loss: 0.05777 | Train Accs: 0.92902 | Valid Accs: 0.97801 | Time: 60.88 seconds\n",
      "Epoch: 5 | Train Loss: 0.13033 | Valid Loss: 0.06969 | Train Accs: 0.95312 | Valid Accs: 0.97396 | Time: 58.46 seconds\n",
      "Epoch: 6 | Train Loss: 0.08939 | Valid Loss: 0.07744 | Train Accs: 0.96786 | Valid Accs: 0.97338 | Time: 58.75 seconds\n",
      "Epoch: 7 | Train Loss: 0.08432 | Valid Loss: 0.15296 | Train Accs: 0.97634 | Valid Accs: 0.94792 | Time: 58.47 seconds\n",
      "Epoch: 8 | Train Loss: 0.06656 | Valid Loss: 0.08806 | Train Accs: 0.97589 | Valid Accs: 0.96644 | Time: 58.77 seconds\n",
      "Epoch: 9 | Train Loss: 0.05993 | Valid Loss: 0.08844 | Train Accs: 0.98036 | Valid Accs: 0.97454 | Time: 58.33 seconds\n",
      "\n",
      "Early Stopping at Epoch 10\n",
      "\n",
      "**************************************************\n",
      "\n",
      "Best Validation Loss at Epoch 4\n",
      "\n",
      "**************************************************\n",
      "\n",
      "Best Validation Accs at Epoch 4\n",
      "\n",
      "**************************************************\n",
      "\n",
      "Time Taken [10 Epochs] : 9.91 minutes\n",
      "\n",
      "**************************************************\n",
      "\n"
     ]
    },
    {
     "data": {
      "image/png": "[encoded data removed]",
      "text/plain": [
       "<Figure size 432x288 with 1 Axes>"
      ]
     },
     "metadata": {
      "needs_background": "light"
     },
     "output_type": "display_data"
    },
    {
     "name": "stdout",
     "output_type": "stream",
     "text": [
      "\n",
      "**************************************************\n",
      "\n"
     ]
    },
    {
     "data": {
      "image/png": "[encoded data removed]",
      "text/plain": [
       "<Figure size 432x288 with 1 Axes>"
      ]
     },
     "metadata": {
      "needs_background": "light"
     },
     "output_type": "display_data"
    },
    {
     "name": "stdout",
     "output_type": "stream",
     "text": [
      "\n",
      "**************************************************\n",
      "\n"
     ]
    },
    {
     "data": {
      "image/png": "[encoded data removed]",
      "text/plain": [
       "<Figure size 576x432 with 1 Axes>"
      ]
     },
     "metadata": {
      "needs_background": "light"
     },
     "output_type": "display_data"
    },
    {
     "name": "stdout",
     "output_type": "stream",
     "text": [
      "\n",
      "**************************************************\n",
      "\n"
     ]
    }
   ],
   "source": [
    "fold: int = 1\n",
    "BLEs: list = []\n",
    "BAEs: list = []\n",
    "model_name: str = \"efficientnet_b4\"\n",
    "\n",
    "    \n",
    "for tr_idx, va_idx in StratifiedKFold(n_splits=cfg.n_splits, random_state=cfg.seed, shuffle=True).split(filenames, labels):\n",
    "\n",
    "    tr_filenames, va_filenames       = filenames[tr_idx], filenames[va_idx] \n",
    "    tr_folder_names, va_folder_names = folder_names[tr_idx], folder_names[va_idx] \n",
    "    tr_labels, va_labels             = labels[tr_idx], labels[va_idx]\n",
    "    \n",
    "    tr_data_setup = DS(\n",
    "        base_path=\"../input/4-animal-classification/train\", \n",
    "        filenames=tr_filenames, \n",
    "        folder_names=tr_folder_names,\n",
    "        labels=tr_labels.reshape(-1, 1),\n",
    "        size=cfg.size,\n",
    "        transform=cfg.train_transform)\n",
    "    \n",
    "    va_data_setup = DS(\n",
    "        base_path=\"../input/4-animal-classification/train\", \n",
    "        filenames=va_filenames, \n",
    "        folder_names=va_folder_names,\n",
    "        labels=va_labels.reshape(-1, 1),\n",
    "        size=cfg.size,\n",
    "        transform=cfg.valid_transform)\n",
    "\n",
    "    dataloaders = {\n",
    "        \"train\" : DL(tr_data_setup, batch_size=cfg.batch_size, shuffle=True, generator=torch.manual_seed(cfg.seed)),\n",
    "        \"valid\" : DL(va_data_setup, batch_size=cfg.batch_size, shuffle=False),\n",
    "    }\n",
    "\n",
    "    cfg = CFG(\n",
    "        epochs=25, \n",
    "        batch_size=64, \n",
    "        early_stopping=5,\n",
    "        steps_per_epoch=len(dataloaders[\"train\"])\n",
    "    )\n",
    "    \n",
    "    torch.manual_seed(cfg.seed)\n",
    "    model = Model(model_name=model_name).to(cfg.device)\n",
    "\n",
    "    # optimizer = optim.Adam([p for p in model.parameters() if p.requires_grad], lr=cfg.lr, weight_decay=cfg.wd)\n",
    "    optimizer = optim.AdamW([p for p in model.parameters() if p.requires_grad], lr=cfg.lr, weight_decay=cfg.wd)\n",
    "    # optimizer = optim.SGD([p for p in model.parameters() if p.requires_grad], lr=cfg.lr, weight_decay=cfg.wd, momentum=0.9)\n",
    "    \n",
    "    scheduler_oclr = optim.lr_scheduler.OneCycleLR(\n",
    "        optimizer=optimizer, \n",
    "        max_lr=cfg.max_lr, \n",
    "        epochs=cfg.epochs, \n",
    "        steps_per_epoch=cfg.steps_per_epoch,\n",
    "        pct_start=cfg.pct_start, \n",
    "        div_factor=cfg.div_factor, \n",
    "        final_div_factor=cfg.final_div_factor\n",
    "    )\n",
    "\n",
    "    # scheduler_rlrop = optim.lr_scheduler.ReduceLROnPlateau(\n",
    "    #     optimizer=optimizer,\n",
    "    #     patience=cfg.patience,\n",
    "    #     eps=cfg.eps,\n",
    "    #     verbose=True\n",
    "    # )\n",
    "\n",
    "    # scheduler_oclr = None\n",
    "    scheduler_rlrop = None\n",
    "    \n",
    "    L, A, LR, BLE, BAE, _, _ = fit(\n",
    "        model=model, \n",
    "        model_name=model_name,\n",
    "        optimizer=optimizer, \n",
    "        scheduler_oclr=scheduler_oclr,\n",
    "        scheduler_rlrop=scheduler_rlrop,\n",
    "        epochs=cfg.epochs, \n",
    "        early_stopping_patience=cfg.early_stopping, \n",
    "        dataloaders=dataloaders, \n",
    "        device=cfg.device,\n",
    "        save_path=cfg.save_path,\n",
    "        fold=fold,\n",
    "        verbose=True\n",
    "    )\n",
    "    \n",
    "    breaker()\n",
    "    show_loss_graphs(L)\n",
    "    breaker()\n",
    "    show_accuracy_graphs(A)\n",
    "    breaker()\n",
    "    if scheduler_oclr:\n",
    "        show_lr_graph(LR)\n",
    "        breaker()\n",
    "    \n",
    "    BLEs.append(BLE)\n",
    "    BAEs.append(BAE)\n",
    "    \n",
    "    fold += 1"
   ]
  },
  {
   "cell_type": "markdown",
   "id": "947bcbff",
   "metadata": {
    "papermill": {
     "duration": 0.010869,
     "end_time": "2022-09-14T05:41:22.010105",
     "exception": false,
     "start_time": "2022-09-14T05:41:21.999236",
     "status": "completed"
    },
    "tags": []
   },
   "source": [
    "### **Best Model**"
   ]
  },
  {
   "cell_type": "code",
   "execution_count": 10,
   "id": "569ed0da",
   "metadata": {
    "execution": {
     "iopub.execute_input": "2022-09-14T05:41:22.033648Z",
     "iopub.status.busy": "2022-09-14T05:41:22.033341Z",
     "iopub.status.idle": "2022-09-14T05:41:22.039148Z",
     "shell.execute_reply": "2022-09-14T05:41:22.038096Z"
    },
    "papermill": {
     "duration": 0.021633,
     "end_time": "2022-09-14T05:41:22.042622",
     "exception": false,
     "start_time": "2022-09-14T05:41:22.020989",
     "status": "completed"
    },
    "tags": []
   },
   "outputs": [
    {
     "name": "stdout",
     "output_type": "stream",
     "text": [
      "\n",
      "**************************************************\n",
      "\n",
      "Best Loss Model Fold     : 1\n",
      "Best Accuracy Model Fold : 2\n",
      "\n",
      "**************************************************\n",
      "\n"
     ]
    }
   ],
   "source": [
    "best_loss_index = BLEs.index(min(BLEs))\n",
    "best_accs_index = BAEs.index(max(BAEs))\n",
    "\n",
    "breaker()\n",
    "print(f\"Best Loss Model Fold     : {best_loss_index + 1}\")\n",
    "print(f\"Best Accuracy Model Fold : {best_accs_index + 1}\")\n",
    "breaker()"
   ]
  }
 ],
 "metadata": {
  "kernelspec": {
   "display_name": "Python 3",
   "language": "python",
   "name": "python3"
  },
  "language_info": {
   "codemirror_mode": {
    "name": "ipython",
    "version": 3
   },
   "file_extension": ".py",
   "mimetype": "text/x-python",
   "name": "python",
   "nbconvert_exporter": "python",
   "pygments_lexer": "ipython3",
   "version": "3.7.12"
  },
  "papermill": {
   "default_parameters": {},
   "duration": 3632.084449,
   "end_time": "2022-09-14T05:41:24.320736",
   "environment_variables": {},
   "exception": null,
   "input_path": "__notebook__.ipynb",
   "output_path": "__notebook__.ipynb",
   "parameters": {},
   "start_time": "2022-09-14T04:40:52.236287",
   "version": "2.3.4"
  }
 },
 "nbformat": 4,
 "nbformat_minor": 5
}
