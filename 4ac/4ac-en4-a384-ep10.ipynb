{
 "cells": [
  {
   "cell_type": "markdown",
   "id": "a11d1b92",
   "metadata": {
    "_cell_guid": "b1076dfc-b9ad-4769-8c92-a6c4dae69d19",
    "_uuid": "8f2839f25d086af736a60e9eeb907d3b93b6e0e5",
    "papermill": {
     "duration": 0.008887,
     "end_time": "2022-09-21T11:01:32.438408",
     "exception": false,
     "start_time": "2022-09-21T11:01:32.429521",
     "status": "completed"
    },
    "tags": []
   },
   "source": [
    "### **Setup**"
   ]
  },
  {
   "cell_type": "code",
   "execution_count": 1,
   "id": "8f2403e8",
   "metadata": {
    "execution": {
     "iopub.execute_input": "2022-09-21T11:01:32.456392Z",
     "iopub.status.busy": "2022-09-21T11:01:32.455882Z",
     "iopub.status.idle": "2022-09-21T11:01:43.248637Z",
     "shell.execute_reply": "2022-09-21T11:01:43.247557Z"
    },
    "papermill": {
     "duration": 10.804217,
     "end_time": "2022-09-21T11:01:43.250881",
     "exception": false,
     "start_time": "2022-09-21T11:01:32.446664",
     "status": "completed"
    },
    "tags": []
   },
   "outputs": [
    {
     "name": "stderr",
     "output_type": "stream",
     "text": [
      "WARNING: Running pip as the 'root' user can result in broken permissions and conflicting behaviour with the system package manager. It is recommended to use a virtual environment instead: https://pip.pypa.io/warnings/venv\n"
     ]
    }
   ],
   "source": [
    "%%bash\n",
    "pip install timm -q"
   ]
  },
  {
   "cell_type": "markdown",
   "id": "54d7e461",
   "metadata": {
    "papermill": {
     "duration": 0.003781,
     "end_time": "2022-09-21T11:01:43.258931",
     "exception": false,
     "start_time": "2022-09-21T11:01:43.255150",
     "status": "completed"
    },
    "tags": []
   },
   "source": [
    "### **Library Imports**"
   ]
  },
  {
   "cell_type": "code",
   "execution_count": 2,
   "id": "92720928",
   "metadata": {
    "execution": {
     "iopub.execute_input": "2022-09-21T11:01:43.268046Z",
     "iopub.status.busy": "2022-09-21T11:01:43.267737Z",
     "iopub.status.idle": "2022-09-21T11:01:47.190617Z",
     "shell.execute_reply": "2022-09-21T11:01:47.189502Z"
    },
    "papermill": {
     "duration": 3.930363,
     "end_time": "2022-09-21T11:01:47.193135",
     "exception": false,
     "start_time": "2022-09-21T11:01:43.262772",
     "status": "completed"
    },
    "tags": []
   },
   "outputs": [],
   "source": [
    "import os\n",
    "import re\n",
    "import cv2\n",
    "import timm\n",
    "import torch\n",
    "import numpy as np\n",
    "import pandas as pd\n",
    "import matplotlib.pyplot as plt\n",
    "\n",
    "from time import time\n",
    "from torch import nn, optim\n",
    "from torch.utils.data import Dataset\n",
    "from torch.utils.data import DataLoader as DL\n",
    "from torchvision import models, transforms\n",
    "\n",
    "from sklearn.model_selection import StratifiedKFold"
   ]
  },
  {
   "cell_type": "markdown",
   "id": "53a556ef",
   "metadata": {
    "papermill": {
     "duration": 0.004002,
     "end_time": "2022-09-21T11:01:47.201478",
     "exception": false,
     "start_time": "2022-09-21T11:01:47.197476",
     "status": "completed"
    },
    "tags": []
   },
   "source": [
    "### **Utilities and Helpers**"
   ]
  },
  {
   "cell_type": "code",
   "execution_count": 3,
   "id": "8e92cd25",
   "metadata": {
    "execution": {
     "iopub.execute_input": "2022-09-21T11:01:47.211548Z",
     "iopub.status.busy": "2022-09-21T11:01:47.210825Z",
     "iopub.status.idle": "2022-09-21T11:01:47.223821Z",
     "shell.execute_reply": "2022-09-21T11:01:47.222866Z"
    },
    "papermill": {
     "duration": 0.020259,
     "end_time": "2022-09-21T11:01:47.225869",
     "exception": false,
     "start_time": "2022-09-21T11:01:47.205610",
     "status": "completed"
    },
    "tags": []
   },
   "outputs": [],
   "source": [
    "SEED = 42\n",
    "SIZE = 384\n",
    "\n",
    "\n",
    "def breaker(num: int=50, char: str=\"*\") -> None:\n",
    "    print(\"\\n\" + num*char + \"\\n\")\n",
    "\n",
    "    \n",
    "def get_image(path: str, size: int=224) -> np.ndarray:\n",
    "    image = cv2.imread(path, cv2.IMREAD_COLOR)\n",
    "    image = cv2.cvtColor(src=image, code=cv2.COLOR_BGR2RGB)\n",
    "    return cv2.resize(src=image, dsize=(size, size), interpolation=cv2.INTER_AREA)\n",
    "\n",
    "\n",
    "def show_loss_graphs(L: list) -> None:\n",
    "    TL, VL = [], []\n",
    "    for i in range(len(L)):\n",
    "        TL.append(L[i][\"train\"])\n",
    "        VL.append(L[i][\"valid\"])\n",
    "    x_Axis = np.arange(1, len(TL) + 1)\n",
    "    plt.figure()\n",
    "    plt.plot(x_Axis, TL, \"r\", label=\"Train\")\n",
    "    plt.plot(x_Axis, VL, \"b\", label=\"Valid\")\n",
    "    plt.legend()\n",
    "    plt.grid()\n",
    "    plt.title(\"Loss Graph\")\n",
    "    plt.show()\n",
    "\n",
    "    \n",
    "def show_accuracy_graphs(A: list) -> None:\n",
    "    TA, VA = [], []\n",
    "    for i in range(len(A)):\n",
    "        TA.append(A[i][\"train\"])\n",
    "        VA.append(A[i][\"valid\"])\n",
    "    x_Axis = np.arange(1, len(TA) + 1)\n",
    "    plt.figure()\n",
    "    plt.plot(x_Axis, TA, \"r\", label=\"Train\")\n",
    "    plt.plot(x_Axis, VA, \"b\", label=\"Valid\")\n",
    "    plt.legend()\n",
    "    plt.grid()\n",
    "    plt.title(\"Accuracy Graph\")\n",
    "    plt.show()\n",
    "    \n",
    "\n",
    "def show_lr_graph(LR: list) -> None:\n",
    "    x_Axis = [i+1 for i in range(len(LR))]\n",
    "    plt.figure(figsize=(8, 6))\n",
    "    plt.plot(x_Axis, LR, \"rx\")\n",
    "    plt.grid()\n",
    "    plt.show()"
   ]
  },
  {
   "cell_type": "markdown",
   "id": "416cf899",
   "metadata": {
    "papermill": {
     "duration": 0.003856,
     "end_time": "2022-09-21T11:01:47.233830",
     "exception": false,
     "start_time": "2022-09-21T11:01:47.229974",
     "status": "completed"
    },
    "tags": []
   },
   "source": [
    "### **Configuration**"
   ]
  },
  {
   "cell_type": "code",
   "execution_count": 4,
   "id": "26aa1870",
   "metadata": {
    "execution": {
     "iopub.execute_input": "2022-09-21T11:01:47.242939Z",
     "iopub.status.busy": "2022-09-21T11:01:47.242670Z",
     "iopub.status.idle": "2022-09-21T11:01:47.317172Z",
     "shell.execute_reply": "2022-09-21T11:01:47.316211Z"
    },
    "papermill": {
     "duration": 0.081574,
     "end_time": "2022-09-21T11:01:47.319359",
     "exception": false,
     "start_time": "2022-09-21T11:01:47.237785",
     "status": "completed"
    },
    "tags": []
   },
   "outputs": [],
   "source": [
    "class CFG(object):\n",
    "    def __init__(self, \n",
    "                 seed: int = 42,\n",
    "                 size: int = 224,\n",
    "                 n_splits: int = 5,\n",
    "                 batch_size: int = 16,\n",
    "                 epochs: int = 25,\n",
    "                 early_stopping: int = 5,\n",
    "                 lr: float = 1e-4,\n",
    "                 wd: float = 0.0,\n",
    "                 max_lr: float = 1e-3,\n",
    "                 pct_start: float = 0.2,\n",
    "                 steps_per_epoch: int = 100,\n",
    "                 div_factor: int = 1e3, \n",
    "                 final_div_factor: float = 1e3,\n",
    "                 ):\n",
    "        self.seed = seed\n",
    "        self.size = size\n",
    "        self.n_splits = n_splits\n",
    "        self.batch_size = batch_size\n",
    "        self.epochs = epochs\n",
    "        self.early_stopping = early_stopping\n",
    "        self.lr = lr\n",
    "        self.wd = wd\n",
    "        self.max_lr = max_lr\n",
    "        self.pct_start = pct_start\n",
    "        self.steps_per_epoch = steps_per_epoch\n",
    "        self.div_factor = div_factor\n",
    "        self.final_div_factor = final_div_factor\n",
    "        self.device = torch.device(\"cuda\" if torch.cuda.is_available() else \"cpu\")\n",
    "        self.train_transform = transforms.Compose([\n",
    "            transforms.ToTensor(),\n",
    "            transforms.Normalize([0.48805, 0.46218, 0.38043], [0.21471, 0.21141, 0.21124]),\n",
    "            transforms.RandomAffine(degrees=(-45, 45), translate=(0.15, 0.15), scale=(0.5, 1.5)),\n",
    "            transforms.RandomHorizontalFlip(p=0.25),\n",
    "            transforms.RandomVerticalFlip(p=0.25),\n",
    "        ])\n",
    "        self.valid_transform = transforms.Compose([\n",
    "            transforms.ToTensor(),\n",
    "            transforms.Normalize([0.48805, 0.46218, 0.38043], [0.21471, 0.21141, 0.21124]),\n",
    "        ])\n",
    "                                \n",
    "        self.save_path = \"saves\"\n",
    "        if not os.path.exists(self.save_path): os.makedirs(self.save_path)\n",
    "    \n",
    "cfg = CFG(seed=SEED, size=SIZE)"
   ]
  },
  {
   "cell_type": "markdown",
   "id": "76fdb695",
   "metadata": {
    "papermill": {
     "duration": 0.003912,
     "end_time": "2022-09-21T11:01:47.327880",
     "exception": false,
     "start_time": "2022-09-21T11:01:47.323968",
     "status": "completed"
    },
    "tags": []
   },
   "source": [
    "### **Dataset Template**"
   ]
  },
  {
   "cell_type": "code",
   "execution_count": 5,
   "id": "9261bed4",
   "metadata": {
    "execution": {
     "iopub.execute_input": "2022-09-21T11:01:47.337862Z",
     "iopub.status.busy": "2022-09-21T11:01:47.337030Z",
     "iopub.status.idle": "2022-09-21T11:01:47.344354Z",
     "shell.execute_reply": "2022-09-21T11:01:47.343442Z"
    },
    "papermill": {
     "duration": 0.014323,
     "end_time": "2022-09-21T11:01:47.346332",
     "exception": false,
     "start_time": "2022-09-21T11:01:47.332009",
     "status": "completed"
    },
    "tags": []
   },
   "outputs": [],
   "source": [
    "class DS(Dataset):\n",
    "    def __init__(\n",
    "        self, \n",
    "        base_path: str,\n",
    "        filenames: np.ndarray, \n",
    "        folder_names: np.ndarray, \n",
    "        labels: np.ndarray, \n",
    "        size: int,\n",
    "        transform=None):\n",
    "        \n",
    "        self.base_path = base_path\n",
    "        self.filenames = filenames\n",
    "        self.folder_names = folder_names\n",
    "        self.labels = labels\n",
    "        self.size = size\n",
    "        self.transform = transform\n",
    "    \n",
    "    def __len__(self):\n",
    "        return self.filenames.shape[0]\n",
    "    \n",
    "    def __getitem__(self, idx):\n",
    "        path = os.path.join(os.path.join(self.base_path, self.folder_names[idx]), self.filenames[idx])\n",
    "        image = get_image(path, self.size)\n",
    "        return self.transform(image), self.labels[idx]"
   ]
  },
  {
   "cell_type": "code",
   "execution_count": 6,
   "id": "532a3d26",
   "metadata": {
    "execution": {
     "iopub.execute_input": "2022-09-21T11:01:47.355844Z",
     "iopub.status.busy": "2022-09-21T11:01:47.355568Z",
     "iopub.status.idle": "2022-09-21T11:01:47.360660Z",
     "shell.execute_reply": "2022-09-21T11:01:47.359824Z"
    },
    "papermill": {
     "duration": 0.012005,
     "end_time": "2022-09-21T11:01:47.362516",
     "exception": false,
     "start_time": "2022-09-21T11:01:47.350511",
     "status": "completed"
    },
    "tags": []
   },
   "outputs": [],
   "source": [
    "# class DS(Dataset):\n",
    "#     def __init__(\n",
    "#         self, \n",
    "#         base_path: str,\n",
    "#         filenames: np.ndarray, \n",
    "#         size: int,\n",
    "#         transform=None):\n",
    "        \n",
    "#         self.base_path = base_path\n",
    "#         self.filenames = filenames\n",
    "#         self.size = size\n",
    "#         self.transform = transform\n",
    "    \n",
    "#     def __len__(self):\n",
    "#         return self.filenames.shape[0]\n",
    "    \n",
    "#     def __getitem__(self, idx):\n",
    "#         path = os.path.join(self.base_path, str(self.filenames[idx]) + \".jpg\")\n",
    "#         image = get_image(path, self.size)\n",
    "#         return self.transform(image)"
   ]
  },
  {
   "cell_type": "markdown",
   "id": "4f0dab63",
   "metadata": {
    "papermill": {
     "duration": 0.003944,
     "end_time": "2022-09-21T11:01:47.370810",
     "exception": false,
     "start_time": "2022-09-21T11:01:47.366866",
     "status": "completed"
    },
    "tags": []
   },
   "source": [
    "### **Model**"
   ]
  },
  {
   "cell_type": "code",
   "execution_count": 7,
   "id": "ee56f7b9",
   "metadata": {
    "execution": {
     "iopub.execute_input": "2022-09-21T11:01:47.381723Z",
     "iopub.status.busy": "2022-09-21T11:01:47.380693Z",
     "iopub.status.idle": "2022-09-21T11:01:47.387376Z",
     "shell.execute_reply": "2022-09-21T11:01:47.386526Z"
    },
    "papermill": {
     "duration": 0.013779,
     "end_time": "2022-09-21T11:01:47.389341",
     "exception": false,
     "start_time": "2022-09-21T11:01:47.375562",
     "status": "completed"
    },
    "tags": []
   },
   "outputs": [],
   "source": [
    "class Model(nn.Module):\n",
    "    def __init__(self):\n",
    "        super(Model, self).__init__()\n",
    "            \n",
    "        self.model = timm.create_model(model_name=\"efficientnet_b4\", pretrained=True)\n",
    "        self.model.classifier = nn.Linear(in_features=self.model.classifier.in_features, out_features=11)\n",
    "            \n",
    "    def freeze(self):\n",
    "        for params in self.parameters(): params.requires_grad = False\n",
    "\n",
    "    def forward(self, x):\n",
    "        return nn.LogSoftmax(dim=1)(self.model(x))"
   ]
  },
  {
   "cell_type": "markdown",
   "id": "e82c3fb1",
   "metadata": {
    "papermill": {
     "duration": 0.003938,
     "end_time": "2022-09-21T11:01:47.397405",
     "exception": false,
     "start_time": "2022-09-21T11:01:47.393467",
     "status": "completed"
    },
    "tags": []
   },
   "source": [
    "### **Fit and Predict**"
   ]
  },
  {
   "cell_type": "code",
   "execution_count": 8,
   "id": "85067000",
   "metadata": {
    "execution": {
     "iopub.execute_input": "2022-09-21T11:01:47.407259Z",
     "iopub.status.busy": "2022-09-21T11:01:47.406982Z",
     "iopub.status.idle": "2022-09-21T11:01:47.428830Z",
     "shell.execute_reply": "2022-09-21T11:01:47.427955Z"
    },
    "papermill": {
     "duration": 0.029499,
     "end_time": "2022-09-21T11:01:47.430990",
     "exception": false,
     "start_time": "2022-09-21T11:01:47.401491",
     "status": "completed"
    },
    "tags": []
   },
   "outputs": [],
   "source": [
    "def fit(model=None,\n",
    "        optimizer=None, \n",
    "        scheduler_rlrop=None,\n",
    "        scheduler_oclr=None,\n",
    "        epochs=None, \n",
    "        early_stopping_patience=None, \n",
    "        dataloaders=None, \n",
    "        fold=None, \n",
    "        save_path=None,\n",
    "        device=None,\n",
    "        verbose=False) -> tuple:\n",
    "    \n",
    "    def get_accuracy(y_pred, y_true):\n",
    "        y_pred = torch.argmax(y_pred, dim=1)\n",
    "        return torch.count_nonzero(y_pred == y_true).item() / len(y_pred)\n",
    "    \n",
    "    if verbose:\n",
    "        breaker()\n",
    "        if fold: print(f\"Training Fold {fold}...\")\n",
    "        else: print(\"Training ...\")\n",
    "        breaker()\n",
    "        \n",
    "    bestLoss: dict = {\"train\" : np.inf, \"valid\" : np.inf} \n",
    "    bestAccs: dict = {\"train\" : 0.0, \"valid\" : 0.0}\n",
    "        \n",
    "    Losses: list = []\n",
    "    Accuracies: list = [] \n",
    "    LRs: list = []\n",
    "        \n",
    "    if fold: \n",
    "        ble_name = f\"ble_state_fold_{fold}.pt\"\n",
    "        bae_name = f\"bae_state_fold_{fold}.pt\"\n",
    "    else: \n",
    "        ble_name = f\"ble_state.pt\"\n",
    "        bae_name = f\"bae_state.pt\"\n",
    "    \n",
    "    start_time = time()\n",
    "    for e in range(epochs):\n",
    "        e_st = time()\n",
    "        epochLoss: dict = {\"train\" : 0.0, \"valid\" : 0.0} \n",
    "        epochAccs: dict = {\"train\" : 0.0, \"valid\" : 0.0}\n",
    "\n",
    "        for phase in [\"train\", \"valid\"]:\n",
    "            if phase == \"train\":\n",
    "                model.train()\n",
    "            else:\n",
    "                model.eval()\n",
    "            \n",
    "            lossPerPass: list = []\n",
    "            accsPerPass: list = []\n",
    "                \n",
    "            for X, y in dataloaders[phase]:\n",
    "                X, y = X.to(device), y.to(device).view(-1)\n",
    "\n",
    "                optimizer.zero_grad()\n",
    "                with torch.set_grad_enabled(phase == \"train\"):\n",
    "                    output = model(X)\n",
    "                    loss = torch.nn.NLLLoss()(output, y)\n",
    "                    if phase == \"train\":\n",
    "                        loss.backward()\n",
    "                        optimizer.step()\n",
    "                        if scheduler_oclr: scheduler_oclr.step()\n",
    "                lossPerPass.append(loss.item())\n",
    "                accsPerPass.append(get_accuracy(output, y))\n",
    "            epochLoss[phase] = np.mean(np.array(lossPerPass))\n",
    "            epochAccs[phase] = np.mean(np.array(accsPerPass))\n",
    "        if scheduler_oclr: LRs.append(scheduler_oclr.get_last_lr())\n",
    "        Losses.append(epochLoss)\n",
    "        Accuracies.append(epochAccs)\n",
    "    \n",
    "        if scheduler_oclr:\n",
    "            save_dict = {\"model_state_dict\"     : model.state_dict(),\n",
    "                         \"optim_state_dict\"     : optimizer.state_dict(),\n",
    "                         \"scheduler_state_dict\" : scheduler_oclr.state_dict()}\n",
    "        \n",
    "        elif scheduler_rlrop:\n",
    "            save_dict = {\"model_state_dict\"     : model.state_dict(),\n",
    "                         \"optim_state_dict\"     : optimizer.state_dict(),\n",
    "                         \"scheduler_state_dict\" : scheduler_rlrop.state_dict()}\n",
    "        \n",
    "        else:\n",
    "            save_dict = {\"model_state_dict\"     : model.state_dict(),\n",
    "                         \"optim_state_dict\"     : optimizer.state_dict()}\n",
    "        \n",
    "        \n",
    "        if early_stopping_patience:\n",
    "            if epochLoss[\"valid\"] < bestLoss[\"valid\"]:\n",
    "                bestLoss = epochLoss\n",
    "                BLE = e + 1\n",
    "                torch.save(save_dict, os.path.join(save_path, ble_name))\n",
    "                torch.save(save_dict, os.path.join(save_path, bae_name))\n",
    "                early_stopping_step = 0\n",
    "            else:\n",
    "                early_stopping_step += 1\n",
    "                if early_stopping_step > early_stopping_patience:\n",
    "                    print(\"\\nEarly Stopping at Epoch {}\".format(e + 1))\n",
    "                    break\n",
    "        \n",
    "        if epochLoss[\"valid\"] < bestLoss[\"valid\"]:\n",
    "            bestLoss = epochLoss\n",
    "            BLE = e + 1\n",
    "            torch.save(save_dict,os.path.join(save_path, ble_name))\n",
    "        \n",
    "        if epochAccs[\"valid\"] > bestAccs[\"valid\"]:\n",
    "            bestAccs = epochAccs\n",
    "            BAE = e + 1\n",
    "            torch.save(save_dict,os.path.join(save_path, bae_name))\n",
    "        \n",
    "        if scheduler_rlrop: scheduler_rlrop.step(epochLoss[\"valid\"])\n",
    "        \n",
    "        if verbose:\n",
    "            print(\"Epoch: {} | Train Loss: {:.5f} | Valid Loss: {:.5f} |\\\n",
    " Train Accs: {:.5f} | Valid Accs: {:.5f} | Time: {:.2f} seconds\".format(e+1, \n",
    "                                                                        epochLoss[\"train\"], epochLoss[\"valid\"], \n",
    "                                                                        epochAccs[\"train\"], epochAccs[\"valid\"], \n",
    "                                                                        time()-e_st))\n",
    "\n",
    "    if verbose:                                           \n",
    "        breaker()\n",
    "        print(f\"Best Validation Loss at Epoch {BLE}\")\n",
    "        breaker()\n",
    "        print(f\"Best Validation Accs at Epoch {BAE}\")\n",
    "        breaker()\n",
    "        print(\"Time Taken [{} Epochs] : {:.2f} minutes\".format(len(Losses), (time()-start_time)/60))\n",
    "    \n",
    "    return Losses, Accuracies, LRs, BLE, BAE, ble_name, bae_name\n",
    "\n",
    "\n",
    "# def predict_batch(model=None, dataloader=None, path=None, device=None) -> np.ndarray:\n",
    "#     model.load_state_dict(torch.load(path, map_location=device)[\"model_state_dict\"])\n",
    "#     model.to(device)    \n",
    "#     model.eval()\n",
    "    \n",
    "#     y_pred = torch.zeros(1, 1).to(device)\n",
    "    \n",
    "#     for X in dataloader:\n",
    "#         X = X.to(device)\n",
    "#         with torch.no_grad():\n",
    "#             output = torch.argmax(torch.exp(model(X)), dim=1)\n",
    "#         y_pred = torch.cat((y_pred, output.view(-1, 1)), dim=0)\n",
    "    \n",
    "#     return y_pred[1:].detach().cpu().numpy()"
   ]
  },
  {
   "cell_type": "markdown",
   "id": "d0250904",
   "metadata": {
    "papermill": {
     "duration": 0.004151,
     "end_time": "2022-09-21T11:01:47.439336",
     "exception": false,
     "start_time": "2022-09-21T11:01:47.435185",
     "status": "completed"
    },
    "tags": []
   },
   "source": [
    "### **Train**"
   ]
  },
  {
   "cell_type": "code",
   "execution_count": 9,
   "id": "c0075468",
   "metadata": {
    "execution": {
     "iopub.execute_input": "2022-09-21T11:01:47.449369Z",
     "iopub.status.busy": "2022-09-21T11:01:47.448548Z",
     "iopub.status.idle": "2022-09-21T11:01:47.485471Z",
     "shell.execute_reply": "2022-09-21T11:01:47.484593Z"
    },
    "papermill": {
     "duration": 0.044179,
     "end_time": "2022-09-21T11:01:47.487675",
     "exception": false,
     "start_time": "2022-09-21T11:01:47.443496",
     "status": "completed"
    },
    "tags": []
   },
   "outputs": [],
   "source": [
    "df = pd.read_csv(\"../input/4ac-dataframe/data.csv\")\n",
    "\n",
    "filenames = df.filenames.copy().values\n",
    "folder_names = df.folder_names.copy().values\n",
    "labels = df.classes.copy().values"
   ]
  },
  {
   "cell_type": "code",
   "execution_count": 10,
   "id": "fafad461",
   "metadata": {
    "execution": {
     "iopub.execute_input": "2022-09-21T11:01:47.498783Z",
     "iopub.status.busy": "2022-09-21T11:01:47.497984Z",
     "iopub.status.idle": "2022-09-21T12:05:31.302349Z",
     "shell.execute_reply": "2022-09-21T12:05:31.300825Z"
    },
    "papermill": {
     "duration": 3823.812401,
     "end_time": "2022-09-21T12:05:31.304461",
     "exception": false,
     "start_time": "2022-09-21T11:01:47.492060",
     "status": "completed"
    },
    "tags": []
   },
   "outputs": [
    {
     "name": "stderr",
     "output_type": "stream",
     "text": [
      "Downloading: \"https://github.com/rwightman/pytorch-image-models/releases/download/v0.1-weights/efficientnet_b4_ra2_320-7eb33cd5.pth\" to /root/.cache/torch/hub/checkpoints/efficientnet_b4_ra2_320-7eb33cd5.pth\n"
     ]
    },
    {
     "name": "stdout",
     "output_type": "stream",
     "text": [
      "\n",
      "**************************************************\n",
      "\n",
      "Training Fold 1...\n",
      "\n",
      "**************************************************\n",
      "\n",
      "Epoch: 1 | Train Loss: 1.56680 | Valid Loss: 0.05908 | Train Accs: 0.59911 | Valid Accs: 0.98571 | Time: 144.27 seconds\n",
      "Epoch: 2 | Train Loss: 0.22209 | Valid Loss: 0.05828 | Train Accs: 0.92946 | Valid Accs: 0.97857 | Time: 122.70 seconds\n",
      "Epoch: 3 | Train Loss: 0.18213 | Valid Loss: 0.08754 | Train Accs: 0.94554 | Valid Accs: 0.97679 | Time: 120.89 seconds\n",
      "Epoch: 4 | Train Loss: 0.13331 | Valid Loss: 0.06491 | Train Accs: 0.95089 | Valid Accs: 0.96964 | Time: 120.95 seconds\n",
      "Epoch: 5 | Train Loss: 0.07109 | Valid Loss: 0.06872 | Train Accs: 0.97545 | Valid Accs: 0.97857 | Time: 120.65 seconds\n",
      "Epoch: 6 | Train Loss: 0.05422 | Valid Loss: 0.08685 | Train Accs: 0.98304 | Valid Accs: 0.97857 | Time: 120.66 seconds\n",
      "Epoch: 7 | Train Loss: 0.05053 | Valid Loss: 0.04634 | Train Accs: 0.98482 | Valid Accs: 0.98750 | Time: 122.39 seconds\n",
      "Epoch: 8 | Train Loss: 0.02235 | Valid Loss: 0.04027 | Train Accs: 0.99286 | Valid Accs: 0.99107 | Time: 122.72 seconds\n",
      "Epoch: 9 | Train Loss: 0.01417 | Valid Loss: 0.04360 | Train Accs: 0.99598 | Valid Accs: 0.98929 | Time: 120.24 seconds\n",
      "Epoch: 10 | Train Loss: 0.01263 | Valid Loss: 0.04478 | Train Accs: 0.99687 | Valid Accs: 0.98929 | Time: 119.61 seconds\n",
      "\n",
      "**************************************************\n",
      "\n",
      "Best Validation Loss at Epoch 8\n",
      "\n",
      "**************************************************\n",
      "\n",
      "Best Validation Accs at Epoch 8\n",
      "\n",
      "**************************************************\n",
      "\n",
      "Time Taken [10 Epochs] : 20.59 minutes\n",
      "\n",
      "**************************************************\n",
      "\n"
     ]
    },
    {
     "data": {
      "image/png": "[encoded data removed]",
      "text/plain": [
       "<Figure size 432x288 with 1 Axes>"
      ]
     },
     "metadata": {
      "needs_background": "light"
     },
     "output_type": "display_data"
    },
    {
     "name": "stdout",
     "output_type": "stream",
     "text": [
      "\n",
      "**************************************************\n",
      "\n"
     ]
    },
    {
     "data": {
      "image/png": "[encoded data removed]",
      "text/plain": [
       "<Figure size 432x288 with 1 Axes>"
      ]
     },
     "metadata": {
      "needs_background": "light"
     },
     "output_type": "display_data"
    },
    {
     "name": "stdout",
     "output_type": "stream",
     "text": [
      "\n",
      "**************************************************\n",
      "\n"
     ]
    },
    {
     "data": {
      "image/png": "[encoded data removed]",
      "text/plain": [
       "<Figure size 576x432 with 1 Axes>"
      ]
     },
     "metadata": {
      "needs_background": "light"
     },
     "output_type": "display_data"
    },
    {
     "name": "stdout",
     "output_type": "stream",
     "text": [
      "\n",
      "**************************************************\n",
      "\n",
      "\n",
      "**************************************************\n",
      "\n",
      "Training Fold 2...\n",
      "\n",
      "**************************************************\n",
      "\n",
      "Epoch: 1 | Train Loss: 1.56541 | Valid Loss: 0.11238 | Train Accs: 0.52589 | Valid Accs: 0.97500 | Time: 64.75 seconds\n",
      "Epoch: 2 | Train Loss: 0.33728 | Valid Loss: 0.11376 | Train Accs: 0.88036 | Valid Accs: 0.96250 | Time: 63.29 seconds\n",
      "Epoch: 3 | Train Loss: 0.28956 | Valid Loss: 0.12095 | Train Accs: 0.89732 | Valid Accs: 0.95714 | Time: 63.23 seconds\n",
      "Epoch: 4 | Train Loss: 0.20406 | Valid Loss: 0.12117 | Train Accs: 0.93125 | Valid Accs: 0.96071 | Time: 63.61 seconds\n",
      "Epoch: 5 | Train Loss: 0.13337 | Valid Loss: 0.11098 | Train Accs: 0.95268 | Valid Accs: 0.95536 | Time: 64.59 seconds\n",
      "Epoch: 6 | Train Loss: 0.11240 | Valid Loss: 0.08952 | Train Accs: 0.96116 | Valid Accs: 0.96786 | Time: 64.37 seconds\n",
      "Epoch: 7 | Train Loss: 0.08760 | Valid Loss: 0.07441 | Train Accs: 0.96741 | Valid Accs: 0.97500 | Time: 64.37 seconds\n",
      "Epoch: 8 | Train Loss: 0.05371 | Valid Loss: 0.07668 | Train Accs: 0.98527 | Valid Accs: 0.97500 | Time: 63.61 seconds\n",
      "Epoch: 9 | Train Loss: 0.04291 | Valid Loss: 0.07496 | Train Accs: 0.98393 | Valid Accs: 0.97500 | Time: 63.52 seconds\n",
      "Epoch: 10 | Train Loss: 0.04753 | Valid Loss: 0.06738 | Train Accs: 0.98304 | Valid Accs: 0.97857 | Time: 65.44 seconds\n",
      "\n",
      "**************************************************\n",
      "\n",
      "Best Validation Loss at Epoch 10\n",
      "\n",
      "**************************************************\n",
      "\n",
      "Best Validation Accs at Epoch 10\n",
      "\n",
      "**************************************************\n",
      "\n",
      "Time Taken [10 Epochs] : 10.68 minutes\n",
      "\n",
      "**************************************************\n",
      "\n"
     ]
    },
    {
     "data": {
      "image/png": "[encoded data removed]",
      "text/plain": [
       "<Figure size 432x288 with 1 Axes>"
      ]
     },
     "metadata": {
      "needs_background": "light"
     },
     "output_type": "display_data"
    },
    {
     "name": "stdout",
     "output_type": "stream",
     "text": [
      "\n",
      "**************************************************\n",
      "\n"
     ]
    },
    {
     "data": {
      "image/png": "[encoded data removed]",
      "text/plain": [
       "<Figure size 432x288 with 1 Axes>"
      ]
     },
     "metadata": {
      "needs_background": "light"
     },
     "output_type": "display_data"
    },
    {
     "name": "stdout",
     "output_type": "stream",
     "text": [
      "\n",
      "**************************************************\n",
      "\n"
     ]
    },
    {
     "data": {
      "image/png": "[encoded data removed]",
      "text/plain": [
       "<Figure size 576x432 with 1 Axes>"
      ]
     },
     "metadata": {
      "needs_background": "light"
     },
     "output_type": "display_data"
    },
    {
     "name": "stdout",
     "output_type": "stream",
     "text": [
      "\n",
      "**************************************************\n",
      "\n",
      "\n",
      "**************************************************\n",
      "\n",
      "Training Fold 3...\n",
      "\n",
      "**************************************************\n",
      "\n",
      "Epoch: 1 | Train Loss: 1.56360 | Valid Loss: 0.11340 | Train Accs: 0.52411 | Valid Accs: 0.97321 | Time: 65.01 seconds\n",
      "Epoch: 2 | Train Loss: 0.32908 | Valid Loss: 0.13170 | Train Accs: 0.88661 | Valid Accs: 0.95536 | Time: 63.07 seconds\n",
      "Epoch: 3 | Train Loss: 0.26268 | Valid Loss: 0.09441 | Train Accs: 0.90446 | Valid Accs: 0.96786 | Time: 64.87 seconds\n",
      "Epoch: 4 | Train Loss: 0.21522 | Valid Loss: 0.10919 | Train Accs: 0.92902 | Valid Accs: 0.95714 | Time: 63.61 seconds\n",
      "Epoch: 5 | Train Loss: 0.13955 | Valid Loss: 0.13750 | Train Accs: 0.94821 | Valid Accs: 0.95714 | Time: 63.48 seconds\n",
      "Epoch: 6 | Train Loss: 0.11032 | Valid Loss: 0.08147 | Train Accs: 0.96205 | Valid Accs: 0.97143 | Time: 64.50 seconds\n",
      "Epoch: 7 | Train Loss: 0.08155 | Valid Loss: 0.06935 | Train Accs: 0.97277 | Valid Accs: 0.96964 | Time: 64.55 seconds\n",
      "Epoch: 8 | Train Loss: 0.05724 | Valid Loss: 0.06179 | Train Accs: 0.98214 | Valid Accs: 0.98036 | Time: 65.61 seconds\n",
      "Epoch: 9 | Train Loss: 0.04797 | Valid Loss: 0.05783 | Train Accs: 0.98348 | Valid Accs: 0.98214 | Time: 65.48 seconds\n",
      "Epoch: 10 | Train Loss: 0.03638 | Valid Loss: 0.06181 | Train Accs: 0.98884 | Valid Accs: 0.97857 | Time: 63.76 seconds\n",
      "\n",
      "**************************************************\n",
      "\n",
      "Best Validation Loss at Epoch 9\n",
      "\n",
      "**************************************************\n",
      "\n",
      "Best Validation Accs at Epoch 9\n",
      "\n",
      "**************************************************\n",
      "\n",
      "Time Taken [10 Epochs] : 10.73 minutes\n",
      "\n",
      "**************************************************\n",
      "\n"
     ]
    },
    {
     "data": {
      "image/png": "[encoded data removed]",
      "text/plain": [
       "<Figure size 432x288 with 1 Axes>"
      ]
     },
     "metadata": {
      "needs_background": "light"
     },
     "output_type": "display_data"
    },
    {
     "name": "stdout",
     "output_type": "stream",
     "text": [
      "\n",
      "**************************************************\n",
      "\n"
     ]
    },
    {
     "data": {
      "image/png": "[encoded data removed]",
      "text/plain": [
       "<Figure size 432x288 with 1 Axes>"
      ]
     },
     "metadata": {
      "needs_background": "light"
     },
     "output_type": "display_data"
    },
    {
     "name": "stdout",
     "output_type": "stream",
     "text": [
      "\n",
      "**************************************************\n",
      "\n"
     ]
    },
    {
     "data": {
      "image/png": "[encoded data removed]",
      "text/plain": [
       "<Figure size 576x432 with 1 Axes>"
      ]
     },
     "metadata": {
      "needs_background": "light"
     },
     "output_type": "display_data"
    },
    {
     "name": "stdout",
     "output_type": "stream",
     "text": [
      "\n",
      "**************************************************\n",
      "\n",
      "\n",
      "**************************************************\n",
      "\n",
      "Training Fold 4...\n",
      "\n",
      "**************************************************\n",
      "\n",
      "Epoch: 1 | Train Loss: 1.55586 | Valid Loss: 0.10130 | Train Accs: 0.52723 | Valid Accs: 0.96964 | Time: 65.60 seconds\n",
      "Epoch: 2 | Train Loss: 0.36219 | Valid Loss: 0.13046 | Train Accs: 0.87679 | Valid Accs: 0.95536 | Time: 64.06 seconds\n",
      "Epoch: 3 | Train Loss: 0.27689 | Valid Loss: 0.11238 | Train Accs: 0.90312 | Valid Accs: 0.95714 | Time: 63.73 seconds\n",
      "Epoch: 4 | Train Loss: 0.18647 | Valid Loss: 0.13373 | Train Accs: 0.93125 | Valid Accs: 0.95179 | Time: 63.71 seconds\n",
      "Epoch: 5 | Train Loss: 0.15436 | Valid Loss: 0.08501 | Train Accs: 0.94598 | Valid Accs: 0.96786 | Time: 64.93 seconds\n",
      "Epoch: 6 | Train Loss: 0.10806 | Valid Loss: 0.10563 | Train Accs: 0.95982 | Valid Accs: 0.96786 | Time: 64.19 seconds\n",
      "Epoch: 7 | Train Loss: 0.06970 | Valid Loss: 0.10015 | Train Accs: 0.97545 | Valid Accs: 0.97321 | Time: 64.70 seconds\n",
      "Epoch: 8 | Train Loss: 0.05709 | Valid Loss: 0.08404 | Train Accs: 0.98036 | Valid Accs: 0.97679 | Time: 65.23 seconds\n",
      "Epoch: 9 | Train Loss: 0.03798 | Valid Loss: 0.08396 | Train Accs: 0.98795 | Valid Accs: 0.98036 | Time: 66.16 seconds\n",
      "Epoch: 10 | Train Loss: 0.04041 | Valid Loss: 0.07054 | Train Accs: 0.98750 | Valid Accs: 0.97857 | Time: 65.12 seconds\n",
      "\n",
      "**************************************************\n",
      "\n",
      "Best Validation Loss at Epoch 10\n",
      "\n",
      "**************************************************\n",
      "\n",
      "Best Validation Accs at Epoch 9\n",
      "\n",
      "**************************************************\n",
      "\n",
      "Time Taken [10 Epochs] : 10.79 minutes\n",
      "\n",
      "**************************************************\n",
      "\n"
     ]
    },
    {
     "data": {
      "image/png": "[encoded data removed]",
      "text/plain": [
       "<Figure size 432x288 with 1 Axes>"
      ]
     },
     "metadata": {
      "needs_background": "light"
     },
     "output_type": "display_data"
    },
    {
     "name": "stdout",
     "output_type": "stream",
     "text": [
      "\n",
      "**************************************************\n",
      "\n"
     ]
    },
    {
     "data": {
      "image/png": "[encoded data removed]",
      "text/plain": [
       "<Figure size 432x288 with 1 Axes>"
      ]
     },
     "metadata": {
      "needs_background": "light"
     },
     "output_type": "display_data"
    },
    {
     "name": "stdout",
     "output_type": "stream",
     "text": [
      "\n",
      "**************************************************\n",
      "\n"
     ]
    },
    {
     "data": {
      "image/png": "[encoded data removed]",
      "text/plain": [
       "<Figure size 576x432 with 1 Axes>"
      ]
     },
     "metadata": {
      "needs_background": "light"
     },
     "output_type": "display_data"
    },
    {
     "name": "stdout",
     "output_type": "stream",
     "text": [
      "\n",
      "**************************************************\n",
      "\n",
      "\n",
      "**************************************************\n",
      "\n",
      "Training Fold 5...\n",
      "\n",
      "**************************************************\n",
      "\n",
      "Epoch: 1 | Train Loss: 1.55904 | Valid Loss: 0.12979 | Train Accs: 0.53348 | Valid Accs: 0.96607 | Time: 65.17 seconds\n",
      "Epoch: 2 | Train Loss: 0.34594 | Valid Loss: 0.13284 | Train Accs: 0.87768 | Valid Accs: 0.94643 | Time: 63.68 seconds\n",
      "Epoch: 3 | Train Loss: 0.26112 | Valid Loss: 0.12769 | Train Accs: 0.90402 | Valid Accs: 0.95000 | Time: 64.60 seconds\n",
      "Epoch: 4 | Train Loss: 0.18890 | Valid Loss: 0.11094 | Train Accs: 0.93170 | Valid Accs: 0.96250 | Time: 65.09 seconds\n",
      "Epoch: 5 | Train Loss: 0.14051 | Valid Loss: 0.12360 | Train Accs: 0.94643 | Valid Accs: 0.95536 | Time: 63.35 seconds\n",
      "Epoch: 6 | Train Loss: 0.10360 | Valid Loss: 0.07878 | Train Accs: 0.95714 | Valid Accs: 0.97500 | Time: 65.08 seconds\n",
      "Epoch: 7 | Train Loss: 0.06540 | Valid Loss: 0.08467 | Train Accs: 0.97902 | Valid Accs: 0.97143 | Time: 63.64 seconds\n",
      "Epoch: 8 | Train Loss: 0.05859 | Valid Loss: 0.07620 | Train Accs: 0.98170 | Valid Accs: 0.97500 | Time: 65.39 seconds\n",
      "Epoch: 9 | Train Loss: 0.04094 | Valid Loss: 0.08099 | Train Accs: 0.98795 | Valid Accs: 0.97679 | Time: 64.71 seconds\n",
      "Epoch: 10 | Train Loss: 0.04358 | Valid Loss: 0.08234 | Train Accs: 0.98527 | Valid Accs: 0.97679 | Time: 63.32 seconds\n",
      "\n",
      "**************************************************\n",
      "\n",
      "Best Validation Loss at Epoch 8\n",
      "\n",
      "**************************************************\n",
      "\n",
      "Best Validation Accs at Epoch 9\n",
      "\n",
      "**************************************************\n",
      "\n",
      "Time Taken [10 Epochs] : 10.73 minutes\n",
      "\n",
      "**************************************************\n",
      "\n"
     ]
    },
    {
     "data": {
      "image/png": "[encoded data removed]",
      "text/plain": [
       "<Figure size 432x288 with 1 Axes>"
      ]
     },
     "metadata": {
      "needs_background": "light"
     },
     "output_type": "display_data"
    },
    {
     "name": "stdout",
     "output_type": "stream",
     "text": [
      "\n",
      "**************************************************\n",
      "\n"
     ]
    },
    {
     "data": {
      "image/png": "[encoded data removed]",
      "text/plain": [
       "<Figure size 432x288 with 1 Axes>"
      ]
     },
     "metadata": {
      "needs_background": "light"
     },
     "output_type": "display_data"
    },
    {
     "name": "stdout",
     "output_type": "stream",
     "text": [
      "\n",
      "**************************************************\n",
      "\n"
     ]
    },
    {
     "data": {
      "image/png": "[encoded data removed]",
      "text/plain": [
       "<Figure size 576x432 with 1 Axes>"
      ]
     },
     "metadata": {
      "needs_background": "light"
     },
     "output_type": "display_data"
    },
    {
     "name": "stdout",
     "output_type": "stream",
     "text": [
      "\n",
      "**************************************************\n",
      "\n"
     ]
    }
   ],
   "source": [
    "fold: int = 1\n",
    "BLEs: list = []\n",
    "BAEs: list = []\n",
    "    \n",
    "for tr_idx, va_idx in StratifiedKFold(n_splits=cfg.n_splits, random_state=cfg.seed, shuffle=True).split(filenames, labels):\n",
    "\n",
    "    tr_filenames, va_filenames       = filenames[tr_idx], filenames[va_idx] \n",
    "    tr_folder_names, va_folder_names = folder_names[tr_idx], folder_names[va_idx] \n",
    "    tr_labels, va_labels             = labels[tr_idx], labels[va_idx]\n",
    "    \n",
    "    tr_data_setup = DS(\n",
    "        base_path=\"../input/4-animal-classification/train\", \n",
    "        filenames=tr_filenames, \n",
    "        folder_names=tr_folder_names,\n",
    "        labels=tr_labels.reshape(-1, 1),\n",
    "        size=cfg.size,\n",
    "        transform=cfg.train_transform)\n",
    "    \n",
    "    va_data_setup = DS(\n",
    "        base_path=\"../input/4-animal-classification/train\", \n",
    "        filenames=va_filenames, \n",
    "        folder_names=va_folder_names,\n",
    "        labels=va_labels.reshape(-1, 1),\n",
    "        size=cfg.size,\n",
    "        transform=cfg.valid_transform)\n",
    "\n",
    "    dataloaders = {\n",
    "        \"train\" : DL(tr_data_setup, batch_size=cfg.batch_size, shuffle=True, generator=torch.manual_seed(cfg.seed)),\n",
    "        \"valid\" : DL(va_data_setup, batch_size=cfg.batch_size, shuffle=False),\n",
    "    }\n",
    "\n",
    "    cfg = CFG(\n",
    "        epochs=10, \n",
    "        batch_size=16, \n",
    "        steps_per_epoch=len(dataloaders[\"train\"])\n",
    "    )\n",
    "    \n",
    "    torch.manual_seed(cfg.seed)\n",
    "    model = Model().to(cfg.device)\n",
    "\n",
    "    optimizer = optim.Adam([p for p in model.parameters() if p.requires_grad], lr=cfg.lr, weight_decay=cfg.wd)\n",
    "    # optimizer = optim.AdamW([p for p in model.parameters() if p.requires_grad], lr=cfg.lr, weight_decay=cfg.wd)\n",
    "    # optimizer = optim.SGD([p for p in model.parameters() if p.requires_grad], lr=cfg.lr, weight_decay=cfg.wd, momentum=0.9)\n",
    "    \n",
    "    scheduler_oclr = optim.lr_scheduler.OneCycleLR(\n",
    "        optimizer=optimizer, \n",
    "        max_lr=cfg.max_lr, \n",
    "        epochs=cfg.epochs, \n",
    "        steps_per_epoch=cfg.steps_per_epoch,\n",
    "        pct_start=cfg.pct_start, \n",
    "        div_factor=cfg.div_factor, \n",
    "        final_div_factor=cfg.final_div_factor\n",
    "    )\n",
    "\n",
    "    # scheduler_rlrop = optim.lr_scheduler.ReduceLROnPlateau(\n",
    "    #     optimizer=optimizer,\n",
    "    #     patience=cfg.patience,\n",
    "    #     eps=cfg.eps,\n",
    "    #     verbose=True\n",
    "    # )\n",
    "\n",
    "    # scheduler_oclr = None\n",
    "    scheduler_rlrop = None\n",
    "    \n",
    "    L, A, LR, BLE, BAE, _, _ = fit(\n",
    "        model=model, \n",
    "        optimizer=optimizer, \n",
    "        scheduler_oclr=scheduler_oclr,\n",
    "        scheduler_rlrop=scheduler_rlrop,\n",
    "        epochs=cfg.epochs, \n",
    "        early_stopping_patience=cfg.early_stopping, \n",
    "        dataloaders=dataloaders, \n",
    "        device=cfg.device,\n",
    "        save_path=cfg.save_path,\n",
    "        fold=fold,\n",
    "        verbose=True\n",
    "    )\n",
    "    \n",
    "    breaker()\n",
    "    show_loss_graphs(L)\n",
    "    breaker()\n",
    "    show_accuracy_graphs(A)\n",
    "    breaker()\n",
    "    if scheduler_oclr:\n",
    "        show_lr_graph(LR)\n",
    "        breaker()\n",
    "    \n",
    "    BLEs.append(BLE)\n",
    "    BAEs.append(BAE)\n",
    "    \n",
    "    fold += 1"
   ]
  },
  {
   "cell_type": "markdown",
   "id": "2524fc45",
   "metadata": {
    "papermill": {
     "duration": 0.011062,
     "end_time": "2022-09-21T12:05:31.327212",
     "exception": false,
     "start_time": "2022-09-21T12:05:31.316150",
     "status": "completed"
    },
    "tags": []
   },
   "source": [
    "### **Best Model**"
   ]
  },
  {
   "cell_type": "code",
   "execution_count": 11,
   "id": "eccb18c8",
   "metadata": {
    "execution": {
     "iopub.execute_input": "2022-09-21T12:05:31.360958Z",
     "iopub.status.busy": "2022-09-21T12:05:31.360400Z",
     "iopub.status.idle": "2022-09-21T12:05:31.367570Z",
     "shell.execute_reply": "2022-09-21T12:05:31.366317Z"
    },
    "papermill": {
     "duration": 0.031533,
     "end_time": "2022-09-21T12:05:31.371182",
     "exception": false,
     "start_time": "2022-09-21T12:05:31.339649",
     "status": "completed"
    },
    "tags": []
   },
   "outputs": [],
   "source": [
    "# best_loss_index = BLEs.index(min(BLEs))\n",
    "# best_accs_index = BAEs.index(max(BAEs))\n",
    "\n",
    "# breaker()\n",
    "# print(f\"Best Loss Model Fold     : {best_loss_index + 1}\")\n",
    "# print(f\"Best Accuracy Model Fold : {best_accs_index + 1}\")\n",
    "# breaker()"
   ]
  },
  {
   "cell_type": "markdown",
   "id": "507d11a1",
   "metadata": {
    "papermill": {
     "duration": 0.013596,
     "end_time": "2022-09-21T12:05:31.404477",
     "exception": false,
     "start_time": "2022-09-21T12:05:31.390881",
     "status": "completed"
    },
    "tags": []
   },
   "source": [
    "### **Submit**"
   ]
  },
  {
   "cell_type": "code",
   "execution_count": 12,
   "id": "63507943",
   "metadata": {
    "execution": {
     "iopub.execute_input": "2022-09-21T12:05:31.428195Z",
     "iopub.status.busy": "2022-09-21T12:05:31.427878Z",
     "iopub.status.idle": "2022-09-21T12:05:31.432603Z",
     "shell.execute_reply": "2022-09-21T12:05:31.431619Z"
    },
    "papermill": {
     "duration": 0.018695,
     "end_time": "2022-09-21T12:05:31.434612",
     "exception": false,
     "start_time": "2022-09-21T12:05:31.415917",
     "status": "completed"
    },
    "tags": []
   },
   "outputs": [],
   "source": [
    "# torch.manual_seed(cfg.seed)\n",
    "# model = Model().to(cfg.device)\n",
    "\n",
    "# ss_df = pd.read_csv(\"../input/4-animal-classification/Sample_submission.csv\")\n",
    "# ts_filenames = ss_df[\"ID\"]\n",
    "\n",
    "# ts_data_setup = DS(\n",
    "#     base_path=\"../input/4-animal-classification/test/test\", \n",
    "#     filenames=ts_filenames, \n",
    "#     size=cfg.size,\n",
    "#     transform=cfg.valid_transform,\n",
    "# )\n",
    "# ts_data = DL(ts_data_setup, batch_size=cfg.batch_size, shuffle=False)\n",
    "\n",
    "# y_pred = predict_batch(\n",
    "#     model=model,\n",
    "#     dataloader=ts_data,\n",
    "#     path=\"\",\n",
    "#     device=cfg.device\n",
    "# )\n",
    "\n",
    "# ss_df[\"Label\"] = y_pred.astype(\"uint8\")\n",
    "# ss_df.to_csv(\"submission.csv\", index=False)"
   ]
  }
 ],
 "metadata": {
  "kernelspec": {
   "display_name": "Python 3",
   "language": "python",
   "name": "python3"
  },
  "language_info": {
   "codemirror_mode": {
    "name": "ipython",
    "version": 3
   },
   "file_extension": ".py",
   "mimetype": "text/x-python",
   "name": "python",
   "nbconvert_exporter": "python",
   "pygments_lexer": "ipython3",
   "version": "3.7.12"
  },
  "papermill": {
   "default_parameters": {},
   "duration": 3849.114809,
   "end_time": "2022-09-21T12:05:33.745728",
   "environment_variables": {},
   "exception": null,
   "input_path": "__notebook__.ipynb",
   "output_path": "__notebook__.ipynb",
   "parameters": {},
   "start_time": "2022-09-21T11:01:24.630919",
   "version": "2.3.4"
  }
 },
 "nbformat": 4,
 "nbformat_minor": 5
}
