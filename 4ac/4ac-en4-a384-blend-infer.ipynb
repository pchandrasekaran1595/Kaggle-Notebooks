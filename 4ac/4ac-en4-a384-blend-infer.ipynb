{
 "cells": [
  {
   "cell_type": "markdown",
   "id": "df9e9233",
   "metadata": {
    "_cell_guid": "b1076dfc-b9ad-4769-8c92-a6c4dae69d19",
    "_uuid": "8f2839f25d086af736a60e9eeb907d3b93b6e0e5",
    "papermill": {
     "duration": 0.006924,
     "end_time": "2022-09-14T07:58:10.801370",
     "exception": false,
     "start_time": "2022-09-14T07:58:10.794446",
     "status": "completed"
    },
    "tags": []
   },
   "source": [
    "### **Setup**"
   ]
  },
  {
   "cell_type": "code",
   "execution_count": 1,
   "id": "8c7529fd",
   "metadata": {
    "execution": {
     "iopub.execute_input": "2022-09-14T07:58:10.814278Z",
     "iopub.status.busy": "2022-09-14T07:58:10.813650Z",
     "iopub.status.idle": "2022-09-14T07:58:24.382995Z",
     "shell.execute_reply": "2022-09-14T07:58:24.379836Z"
    },
    "papermill": {
     "duration": 13.580199,
     "end_time": "2022-09-14T07:58:24.387223",
     "exception": false,
     "start_time": "2022-09-14T07:58:10.807024",
     "status": "completed"
    },
    "tags": []
   },
   "outputs": [
    {
     "name": "stderr",
     "output_type": "stream",
     "text": [
      "WARNING: Running pip as the 'root' user can result in broken permissions and conflicting behaviour with the system package manager. It is recommended to use a virtual environment instead: https://pip.pypa.io/warnings/venv\n"
     ]
    }
   ],
   "source": [
    "%%bash\n",
    "pip install timm -q"
   ]
  },
  {
   "cell_type": "markdown",
   "id": "86334d00",
   "metadata": {
    "papermill": {
     "duration": 0.005407,
     "end_time": "2022-09-14T07:58:24.398741",
     "exception": false,
     "start_time": "2022-09-14T07:58:24.393334",
     "status": "completed"
    },
    "tags": []
   },
   "source": [
    "### **Library Imports**"
   ]
  },
  {
   "cell_type": "code",
   "execution_count": 2,
   "id": "ca1d5e4d",
   "metadata": {
    "execution": {
     "iopub.execute_input": "2022-09-14T07:58:24.411650Z",
     "iopub.status.busy": "2022-09-14T07:58:24.411219Z",
     "iopub.status.idle": "2022-09-14T07:58:29.246246Z",
     "shell.execute_reply": "2022-09-14T07:58:29.244451Z"
    },
    "papermill": {
     "duration": 4.845142,
     "end_time": "2022-09-14T07:58:29.249440",
     "exception": false,
     "start_time": "2022-09-14T07:58:24.404298",
     "status": "completed"
    },
    "tags": []
   },
   "outputs": [],
   "source": [
    "import os\n",
    "import re\n",
    "import cv2\n",
    "import timm\n",
    "import torch\n",
    "import numpy as np\n",
    "import pandas as pd\n",
    "import matplotlib.pyplot as plt\n",
    "\n",
    "from time import time\n",
    "from torch import nn, optim\n",
    "from torch.utils.data import Dataset\n",
    "from torch.utils.data import DataLoader as DL\n",
    "from torchvision import models, transforms\n",
    "\n",
    "from sklearn.metrics import accuracy_score"
   ]
  },
  {
   "cell_type": "markdown",
   "id": "c173e4e1",
   "metadata": {
    "papermill": {
     "duration": 0.005586,
     "end_time": "2022-09-14T07:58:29.263525",
     "exception": false,
     "start_time": "2022-09-14T07:58:29.257939",
     "status": "completed"
    },
    "tags": []
   },
   "source": [
    "### **Utilities and Helpers**"
   ]
  },
  {
   "cell_type": "code",
   "execution_count": 3,
   "id": "d7b098e4",
   "metadata": {
    "execution": {
     "iopub.execute_input": "2022-09-14T07:58:29.276718Z",
     "iopub.status.busy": "2022-09-14T07:58:29.275787Z",
     "iopub.status.idle": "2022-09-14T07:58:29.287010Z",
     "shell.execute_reply": "2022-09-14T07:58:29.285832Z"
    },
    "papermill": {
     "duration": 0.020517,
     "end_time": "2022-09-14T07:58:29.289443",
     "exception": false,
     "start_time": "2022-09-14T07:58:29.268926",
     "status": "completed"
    },
    "tags": []
   },
   "outputs": [],
   "source": [
    "SEED = 42\n",
    "SIZE = 384\n",
    "\n",
    "\n",
    "def breaker(num: int=50, char: str=\"*\") -> None:\n",
    "    print(\"\\n\" + num*char + \"\\n\")\n",
    "\n",
    "    \n",
    "def get_image(path: str, size: int=224) -> np.ndarray:\n",
    "    image = cv2.imread(path, cv2.IMREAD_COLOR)\n",
    "    image = cv2.cvtColor(src=image, code=cv2.COLOR_BGR2RGB)\n",
    "    return cv2.resize(src=image, dsize=(size, size), interpolation=cv2.INTER_AREA)\n",
    "\n",
    "\n",
    "# def show_loss_graphs(L: list) -> None:\n",
    "#     TL, VL = [], []\n",
    "#     for i in range(len(L)):\n",
    "#         TL.append(L[i][\"train\"])\n",
    "#         VL.append(L[i][\"valid\"])\n",
    "#     x_Axis = np.arange(1, len(TL) + 1)\n",
    "#     plt.figure()\n",
    "#     plt.plot(x_Axis, TL, \"r\", label=\"Train\")\n",
    "#     plt.plot(x_Axis, VL, \"b\", label=\"Valid\")\n",
    "#     plt.legend()\n",
    "#     plt.grid()\n",
    "#     plt.title(\"Loss Graph\")\n",
    "#     plt.show()\n",
    "\n",
    "    \n",
    "# def show_accuracy_graphs(A: list) -> None:\n",
    "#     TA, VA = [], []\n",
    "#     for i in range(len(A)):\n",
    "#         TA.append(A[i][\"train\"])\n",
    "#         VA.append(A[i][\"valid\"])\n",
    "#     x_Axis = np.arange(1, len(TA) + 1)\n",
    "#     plt.figure()\n",
    "#     plt.plot(x_Axis, TA, \"r\", label=\"Train\")\n",
    "#     plt.plot(x_Axis, VA, \"b\", label=\"Valid\")\n",
    "#     plt.legend()\n",
    "#     plt.grid()\n",
    "#     plt.title(\"Accuracy Graph\")\n",
    "#     plt.show()\n",
    "    \n",
    "\n",
    "# def show_lr_graph(LR: list) -> None:\n",
    "#     x_Axis = [i+1 for i in range(len(LR))]\n",
    "#     plt.figure(figsize=(8, 6))\n",
    "#     plt.plot(x_Axis, LR, \"rx\")\n",
    "#     plt.grid()\n",
    "#     plt.show()"
   ]
  },
  {
   "cell_type": "markdown",
   "id": "2eafbd58",
   "metadata": {
    "papermill": {
     "duration": 0.005246,
     "end_time": "2022-09-14T07:58:29.300208",
     "exception": false,
     "start_time": "2022-09-14T07:58:29.294962",
     "status": "completed"
    },
    "tags": []
   },
   "source": [
    "### **Configuration**"
   ]
  },
  {
   "cell_type": "code",
   "execution_count": 4,
   "id": "f12288f2",
   "metadata": {
    "execution": {
     "iopub.execute_input": "2022-09-14T07:58:29.312390Z",
     "iopub.status.busy": "2022-09-14T07:58:29.312068Z",
     "iopub.status.idle": "2022-09-14T07:58:29.415014Z",
     "shell.execute_reply": "2022-09-14T07:58:29.413464Z"
    },
    "papermill": {
     "duration": 0.112756,
     "end_time": "2022-09-14T07:58:29.418438",
     "exception": false,
     "start_time": "2022-09-14T07:58:29.305682",
     "status": "completed"
    },
    "tags": []
   },
   "outputs": [],
   "source": [
    "class CFG(object):\n",
    "    def __init__(self, \n",
    "                 seed: int = 42,\n",
    "                 size: int = 224,\n",
    "                 n_splits: int = 5,\n",
    "                 batch_size: int = 16,\n",
    "                 epochs: int = 25,\n",
    "                 early_stopping: int = 5,\n",
    "                 lr: float = 1e-4,\n",
    "                 wd: float = 0.0,\n",
    "                 max_lr: float = 1e-3,\n",
    "                 pct_start: float = 0.2,\n",
    "                 steps_per_epoch: int = 100,\n",
    "                 div_factor: int = 1e3, \n",
    "                 final_div_factor: float = 1e3,\n",
    "                 ):\n",
    "        self.seed = seed\n",
    "        self.size = size\n",
    "        self.n_splits = n_splits\n",
    "        self.batch_size = batch_size\n",
    "        self.epochs = epochs\n",
    "        self.early_stopping = early_stopping\n",
    "        self.lr = lr\n",
    "        self.wd = wd\n",
    "        self.max_lr = max_lr\n",
    "        self.pct_start = pct_start\n",
    "        self.steps_per_epoch = steps_per_epoch\n",
    "        self.div_factor = div_factor\n",
    "        self.final_div_factor = final_div_factor\n",
    "        self.device = torch.device(\"cuda\" if torch.cuda.is_available() else \"cpu\")\n",
    "        self.train_transform = transforms.Compose([\n",
    "            transforms.ToTensor(),\n",
    "            transforms.Normalize([0.48805, 0.46218, 0.38043], [0.21471, 0.21141, 0.21124]),\n",
    "            transforms.RandomAffine(degrees=(-45, 45), translate=(0.15, 0.15), scale=(0.5, 1.5)),\n",
    "            transforms.RandomHorizontalFlip(p=0.25),\n",
    "            transforms.RandomVerticalFlip(p=0.25),\n",
    "        ])\n",
    "        self.valid_transform = transforms.Compose([\n",
    "            transforms.ToTensor(),\n",
    "            transforms.Normalize([0.48805, 0.46218, 0.38043], [0.21471, 0.21141, 0.21124]),\n",
    "        ])\n",
    "                                \n",
    "        self.save_path = \"saves\"\n",
    "        if not os.path.exists(self.save_path): os.makedirs(self.save_path)\n",
    "    \n",
    "cfg = CFG(seed=SEED, size=SIZE)"
   ]
  },
  {
   "cell_type": "markdown",
   "id": "428bbf6a",
   "metadata": {
    "papermill": {
     "duration": 0.005098,
     "end_time": "2022-09-14T07:58:29.429260",
     "exception": false,
     "start_time": "2022-09-14T07:58:29.424162",
     "status": "completed"
    },
    "tags": []
   },
   "source": [
    "### **Dataset Template**"
   ]
  },
  {
   "cell_type": "code",
   "execution_count": 5,
   "id": "71ee10c3",
   "metadata": {
    "execution": {
     "iopub.execute_input": "2022-09-14T07:58:29.446997Z",
     "iopub.status.busy": "2022-09-14T07:58:29.444085Z",
     "iopub.status.idle": "2022-09-14T07:58:29.452907Z",
     "shell.execute_reply": "2022-09-14T07:58:29.451591Z"
    },
    "papermill": {
     "duration": 0.020859,
     "end_time": "2022-09-14T07:58:29.455684",
     "exception": false,
     "start_time": "2022-09-14T07:58:29.434825",
     "status": "completed"
    },
    "tags": []
   },
   "outputs": [],
   "source": [
    "# class DS(Dataset):\n",
    "#     def __init__(\n",
    "#         self, \n",
    "#         base_path: str,\n",
    "#         filenames: np.ndarray, \n",
    "#         folder_names: np.ndarray, \n",
    "#         labels: np.ndarray, \n",
    "#         size: int,\n",
    "#         transform=None):\n",
    "        \n",
    "#         self.base_path = base_path\n",
    "#         self.filenames = filenames\n",
    "#         self.folder_names = folder_names\n",
    "#         self.labels = labels\n",
    "#         self.size = size\n",
    "#         self.transform = transform\n",
    "    \n",
    "#     def __len__(self):\n",
    "#         return self.filenames.shape[0]\n",
    "    \n",
    "#     def __getitem__(self, idx):\n",
    "#         path = os.path.join(os.path.join(self.base_path, self.folder_names[idx]), self.filenames[idx])\n",
    "#         image = get_image(path, self.size)\n",
    "#         return self.transform(image), self.labels[idx]"
   ]
  },
  {
   "cell_type": "code",
   "execution_count": 6,
   "id": "1099eb8b",
   "metadata": {
    "execution": {
     "iopub.execute_input": "2022-09-14T07:58:29.467900Z",
     "iopub.status.busy": "2022-09-14T07:58:29.467516Z",
     "iopub.status.idle": "2022-09-14T07:58:29.475800Z",
     "shell.execute_reply": "2022-09-14T07:58:29.474470Z"
    },
    "papermill": {
     "duration": 0.017401,
     "end_time": "2022-09-14T07:58:29.478620",
     "exception": false,
     "start_time": "2022-09-14T07:58:29.461219",
     "status": "completed"
    },
    "tags": []
   },
   "outputs": [],
   "source": [
    "class DS(Dataset):\n",
    "    def __init__(\n",
    "        self, \n",
    "        base_path: str,\n",
    "        filenames: np.ndarray, \n",
    "        size: int,\n",
    "        transform=None):\n",
    "        \n",
    "        self.base_path = base_path\n",
    "        self.filenames = filenames\n",
    "        self.size = size\n",
    "        self.transform = transform\n",
    "    \n",
    "    def __len__(self):\n",
    "        return self.filenames.shape[0]\n",
    "    \n",
    "    def __getitem__(self, idx):\n",
    "        path = os.path.join(self.base_path, str(self.filenames[idx]) + \".jpg\")\n",
    "        image = get_image(path, self.size)\n",
    "        return self.transform(image)"
   ]
  },
  {
   "cell_type": "markdown",
   "id": "6c013d1c",
   "metadata": {
    "papermill": {
     "duration": 0.004998,
     "end_time": "2022-09-14T07:58:29.489681",
     "exception": false,
     "start_time": "2022-09-14T07:58:29.484683",
     "status": "completed"
    },
    "tags": []
   },
   "source": [
    "### **Model**"
   ]
  },
  {
   "cell_type": "code",
   "execution_count": 7,
   "id": "4b8e317d",
   "metadata": {
    "execution": {
     "iopub.execute_input": "2022-09-14T07:58:29.502910Z",
     "iopub.status.busy": "2022-09-14T07:58:29.501644Z",
     "iopub.status.idle": "2022-09-14T07:58:29.510527Z",
     "shell.execute_reply": "2022-09-14T07:58:29.509251Z"
    },
    "papermill": {
     "duration": 0.018115,
     "end_time": "2022-09-14T07:58:29.513346",
     "exception": false,
     "start_time": "2022-09-14T07:58:29.495231",
     "status": "completed"
    },
    "tags": []
   },
   "outputs": [],
   "source": [
    "class Model(nn.Module):\n",
    "    def __init__(self, model_name: str=\"efficientnet_b4\"):\n",
    "        super(Model, self).__init__()\n",
    "            \n",
    "        self.model = timm.create_model(model_name=model_name, pretrained=True)\n",
    "        self.model.classifier = nn.Linear(in_features=self.model.classifier.in_features, out_features=11)\n",
    "            \n",
    "    def freeze(self):\n",
    "        for params in self.parameters(): params.requires_grad = False\n",
    "\n",
    "    def forward(self, x):\n",
    "        return nn.LogSoftmax(dim=1)(self.model(x))"
   ]
  },
  {
   "cell_type": "markdown",
   "id": "02530836",
   "metadata": {
    "papermill": {
     "duration": 0.006183,
     "end_time": "2022-09-14T07:58:29.524713",
     "exception": false,
     "start_time": "2022-09-14T07:58:29.518530",
     "status": "completed"
    },
    "tags": []
   },
   "source": [
    "### **Fit and Predict**"
   ]
  },
  {
   "cell_type": "code",
   "execution_count": 8,
   "id": "77884ba4",
   "metadata": {
    "execution": {
     "iopub.execute_input": "2022-09-14T07:58:29.536856Z",
     "iopub.status.busy": "2022-09-14T07:58:29.536433Z",
     "iopub.status.idle": "2022-09-14T07:58:29.552252Z",
     "shell.execute_reply": "2022-09-14T07:58:29.550926Z"
    },
    "papermill": {
     "duration": 0.025035,
     "end_time": "2022-09-14T07:58:29.555014",
     "exception": false,
     "start_time": "2022-09-14T07:58:29.529979",
     "status": "completed"
    },
    "tags": []
   },
   "outputs": [],
   "source": [
    "# def fit(model=None,\n",
    "#         model_name=None,\n",
    "#         optimizer=None, \n",
    "#         scheduler_rlrop=None,\n",
    "#         scheduler_oclr=None,\n",
    "#         epochs=None, \n",
    "#         early_stopping_patience=None, \n",
    "#         dataloaders=None, \n",
    "#         fold=None, \n",
    "#         save_path=None,\n",
    "#         device=None,\n",
    "#         verbose=False) -> tuple:\n",
    "    \n",
    "#     def get_accuracy(y_pred, y_true):\n",
    "#         y_pred = torch.argmax(y_pred, dim=1)\n",
    "#         return torch.count_nonzero(y_pred == y_true).item() / len(y_pred)\n",
    "    \n",
    "    \n",
    "#     if verbose:\n",
    "#         breaker()\n",
    "#         print(f\" ----- {model_name.upper()} -----\")\n",
    "#         breaker()\n",
    "#         if fold: print(f\"Training Fold {fold}...\")\n",
    "#         else: print(\"Training ...\")\n",
    "#         breaker()\n",
    "        \n",
    "#     bestLoss: dict = {\"train\" : np.inf, \"valid\" : np.inf} \n",
    "#     bestAccs: dict = {\"train\" : 0.0, \"valid\" : 0.0}\n",
    "        \n",
    "#     Losses: list = []\n",
    "#     Accuracies: list = [] \n",
    "#     LRs: list = []\n",
    "        \n",
    "#     if fold: \n",
    "#         ble_name = f\"{model_name}_ble_state_fold_{fold}.pt\"\n",
    "#         bae_name = f\"{model_name}_bae_state_fold_{fold}.pt\"\n",
    "#     else: \n",
    "#         ble_name = f\"{model_name}_ble_state.pt\"\n",
    "#         bae_name = f\"{model_name}_bae_state.pt\"\n",
    "    \n",
    "#     start_time = time()\n",
    "#     for e in range(epochs):\n",
    "#         e_st = time()\n",
    "#         epochLoss: dict = {\"train\" : 0.0, \"valid\" : 0.0} \n",
    "#         epochAccs: dict = {\"train\" : 0.0, \"valid\" : 0.0}\n",
    "\n",
    "#         for phase in [\"train\", \"valid\"]:\n",
    "#             if phase == \"train\":\n",
    "#                 model.train()\n",
    "#             else:\n",
    "#                 model.eval()\n",
    "            \n",
    "#             lossPerPass: list = []\n",
    "#             accsPerPass: list = []\n",
    "                \n",
    "#             for X, y in dataloaders[phase]:\n",
    "#                 X, y = X.to(device), y.to(device).view(-1)\n",
    "\n",
    "#                 optimizer.zero_grad()\n",
    "#                 with torch.set_grad_enabled(phase == \"train\"):\n",
    "#                     output = model(X)\n",
    "#                     loss = torch.nn.NLLLoss()(output, y)\n",
    "#                     if phase == \"train\":\n",
    "#                         loss.backward()\n",
    "#                         optimizer.step()\n",
    "#                         if scheduler_oclr: scheduler_oclr.step()\n",
    "#                 lossPerPass.append(loss.item())\n",
    "#                 accsPerPass.append(get_accuracy(output, y))\n",
    "#             epochLoss[phase] = np.mean(np.array(lossPerPass))\n",
    "#             epochAccs[phase] = np.mean(np.array(accsPerPass))\n",
    "#         if scheduler_oclr: LRs.append(scheduler_oclr.get_last_lr())\n",
    "#         Losses.append(epochLoss)\n",
    "#         Accuracies.append(epochAccs)\n",
    "    \n",
    "#         if scheduler_oclr:\n",
    "#             save_dict = {\"model_state_dict\"     : model.state_dict(),\n",
    "#                          \"optim_state_dict\"     : optimizer.state_dict(),\n",
    "#                          \"scheduler_state_dict\" : scheduler_oclr.state_dict()}\n",
    "        \n",
    "#         elif scheduler_rlrop:\n",
    "#             save_dict = {\"model_state_dict\"     : model.state_dict(),\n",
    "#                          \"optim_state_dict\"     : optimizer.state_dict(),\n",
    "#                          \"scheduler_state_dict\" : scheduler_rlrop.state_dict()}\n",
    "        \n",
    "#         else:\n",
    "#             save_dict = {\"model_state_dict\"     : model.state_dict(),\n",
    "#                          \"optim_state_dict\"     : optimizer.state_dict()}\n",
    "        \n",
    "        \n",
    "#         if early_stopping_patience:\n",
    "#             if epochLoss[\"valid\"] < bestLoss[\"valid\"]:\n",
    "#                 bestLoss = epochLoss\n",
    "#                 BLE = e + 1\n",
    "#                 torch.save(save_dict, os.path.join(save_path, ble_name))\n",
    "#                 torch.save(save_dict, os.path.join(save_path, bae_name))\n",
    "#                 early_stopping_step = 0\n",
    "#             else:\n",
    "#                 early_stopping_step += 1\n",
    "#                 if early_stopping_step > early_stopping_patience:\n",
    "#                     print(\"\\nEarly Stopping at Epoch {}\".format(e + 1))\n",
    "#                     break\n",
    "        \n",
    "#         if epochLoss[\"valid\"] < bestLoss[\"valid\"]:\n",
    "#             bestLoss = epochLoss\n",
    "#             BLE = e + 1\n",
    "#             torch.save(save_dict,os.path.join(save_path, ble_name))\n",
    "        \n",
    "#         if epochAccs[\"valid\"] > bestAccs[\"valid\"]:\n",
    "#             bestAccs = epochAccs\n",
    "#             BAE = e + 1\n",
    "#             torch.save(save_dict,os.path.join(save_path, bae_name))\n",
    "        \n",
    "#         if scheduler_rlrop: scheduler_rlrop.step(epochLoss[\"valid\"])\n",
    "        \n",
    "#         if verbose:\n",
    "#             print(\"Epoch: {} | Train Loss: {:.5f} | Valid Loss: {:.5f} |\\\n",
    "#  Train Accs: {:.5f} | Valid Accs: {:.5f} | Time: {:.2f} seconds\".format(e+1, \n",
    "#                                                                         epochLoss[\"train\"], epochLoss[\"valid\"], \n",
    "#                                                                         epochAccs[\"train\"], epochAccs[\"valid\"], \n",
    "#                                                                         time()-e_st))\n",
    "\n",
    "#     if verbose:                                           \n",
    "#         breaker()\n",
    "#         print(f\"Best Validation Loss at Epoch {BLE}\")\n",
    "#         breaker()\n",
    "#         print(f\"Best Validation Accs at Epoch {BAE}\")\n",
    "#         breaker()\n",
    "#         print(\"Time Taken [{} Epochs] : {:.2f} minutes\".format(len(Losses), (time()-start_time)/60))\n",
    "    \n",
    "#     return Losses, Accuracies, LRs, BLE, BAE, ble_name, bae_name\n",
    "\n",
    "\n",
    "def predict_batch(models=None, paths=None, weights=[1.0, 1.0, 1.0], dataloader=None, device=None, batch_size: int=None) -> np.ndarray:\n",
    "    \n",
    "    for i in range(len(models)):\n",
    "        models[i].load_state_dict(torch.load(paths[i], map_location=device)[\"model_state_dict\"])\n",
    "        models[i].to(device)    \n",
    "        models[i].eval()\n",
    "\n",
    "    y_pred = torch.zeros(1, 1).to(device)\n",
    "    \n",
    "    for X in dataloader:\n",
    "        X = X.to(device)\n",
    "        with torch.no_grad():\n",
    "            output = weights[0] * torch.exp(models[0](X)) + \\\n",
    "                     weights[1] * torch.exp(models[1](X)) + \\\n",
    "                     weights[2] * torch.exp(models[2](X))\n",
    "            output = torch.argmax(output, dim=1)\n",
    "        y_pred = torch.cat((y_pred, output.view(-1, 1)), dim=0)\n",
    "    \n",
    "    return y_pred[1:].detach().cpu().numpy()"
   ]
  },
  {
   "cell_type": "markdown",
   "id": "15ff031a",
   "metadata": {
    "papermill": {
     "duration": 0.005095,
     "end_time": "2022-09-14T07:58:29.565624",
     "exception": false,
     "start_time": "2022-09-14T07:58:29.560529",
     "status": "completed"
    },
    "tags": []
   },
   "source": [
    "### **Train**"
   ]
  },
  {
   "cell_type": "code",
   "execution_count": 9,
   "id": "b7731bb7",
   "metadata": {
    "execution": {
     "iopub.execute_input": "2022-09-14T07:58:29.578687Z",
     "iopub.status.busy": "2022-09-14T07:58:29.577429Z",
     "iopub.status.idle": "2022-09-14T07:58:29.583396Z",
     "shell.execute_reply": "2022-09-14T07:58:29.582089Z"
    },
    "papermill": {
     "duration": 0.015328,
     "end_time": "2022-09-14T07:58:29.586126",
     "exception": false,
     "start_time": "2022-09-14T07:58:29.570798",
     "status": "completed"
    },
    "tags": []
   },
   "outputs": [],
   "source": [
    "# df = pd.read_csv(\"../input/4ac-dataframe/data.csv\")\n",
    "\n",
    "# filenames = df.filenames.copy().values\n",
    "# folder_names = df.folder_names.copy().values\n",
    "# labels = df.classes.copy().values"
   ]
  },
  {
   "cell_type": "code",
   "execution_count": 10,
   "id": "347ebad0",
   "metadata": {
    "execution": {
     "iopub.execute_input": "2022-09-14T07:58:29.598256Z",
     "iopub.status.busy": "2022-09-14T07:58:29.597879Z",
     "iopub.status.idle": "2022-09-14T07:58:29.605214Z",
     "shell.execute_reply": "2022-09-14T07:58:29.603746Z"
    },
    "papermill": {
     "duration": 0.016489,
     "end_time": "2022-09-14T07:58:29.607838",
     "exception": false,
     "start_time": "2022-09-14T07:58:29.591349",
     "status": "completed"
    },
    "tags": []
   },
   "outputs": [],
   "source": [
    "# fold: int = 1\n",
    "# BLEs: list = []\n",
    "# BAEs: list = []\n",
    "# model_name: str = \"efficientnet_b4\"\n",
    "\n",
    "    \n",
    "# for tr_idx, va_idx in StratifiedKFold(n_splits=cfg.n_splits, random_state=cfg.seed, shuffle=True).split(filenames, labels):\n",
    "\n",
    "#     tr_filenames, va_filenames       = filenames[tr_idx], filenames[va_idx] \n",
    "#     tr_folder_names, va_folder_names = folder_names[tr_idx], folder_names[va_idx] \n",
    "#     tr_labels, va_labels             = labels[tr_idx], labels[va_idx]\n",
    "    \n",
    "#     tr_data_setup = DS(\n",
    "#         base_path=\"../input/4-animal-classification/train\", \n",
    "#         filenames=tr_filenames, \n",
    "#         folder_names=tr_folder_names,\n",
    "#         labels=tr_labels.reshape(-1, 1),\n",
    "#         size=cfg.size,\n",
    "#         transform=cfg.train_transform)\n",
    "    \n",
    "#     va_data_setup = DS(\n",
    "#         base_path=\"../input/4-animal-classification/train\", \n",
    "#         filenames=va_filenames, \n",
    "#         folder_names=va_folder_names,\n",
    "#         labels=va_labels.reshape(-1, 1),\n",
    "#         size=cfg.size,\n",
    "#         transform=cfg.valid_transform)\n",
    "\n",
    "#     dataloaders = {\n",
    "#         \"train\" : DL(tr_data_setup, batch_size=cfg.batch_size, shuffle=True, generator=torch.manual_seed(cfg.seed)),\n",
    "#         \"valid\" : DL(va_data_setup, batch_size=cfg.batch_size, shuffle=False),\n",
    "#     }\n",
    "\n",
    "#     cfg = CFG(\n",
    "#         epochs=25, \n",
    "#         batch_size=64, \n",
    "#         early_stopping=5,\n",
    "#         steps_per_epoch=len(dataloaders[\"train\"])\n",
    "#     )\n",
    "    \n",
    "#     torch.manual_seed(cfg.seed)\n",
    "#     model = Model(model_name=model_name).to(cfg.device)\n",
    "\n",
    "#     optimizer = optim.Adam([p for p in model.parameters() if p.requires_grad], lr=cfg.lr, weight_decay=cfg.wd)\n",
    "#     # optimizer = optim.AdamW([p for p in model.parameters() if p.requires_grad], lr=cfg.lr, weight_decay=cfg.wd)\n",
    "#     # optimizer = optim.SGD([p for p in model.parameters() if p.requires_grad], lr=cfg.lr, weight_decay=cfg.wd, momentum=0.9)\n",
    "    \n",
    "#     scheduler_oclr = optim.lr_scheduler.OneCycleLR(\n",
    "#         optimizer=optimizer, \n",
    "#         max_lr=cfg.max_lr, \n",
    "#         epochs=cfg.epochs, \n",
    "#         steps_per_epoch=cfg.steps_per_epoch,\n",
    "#         pct_start=cfg.pct_start, \n",
    "#         div_factor=cfg.div_factor, \n",
    "#         final_div_factor=cfg.final_div_factor\n",
    "#     )\n",
    "\n",
    "#     # scheduler_rlrop = optim.lr_scheduler.ReduceLROnPlateau(\n",
    "#     #     optimizer=optimizer,\n",
    "#     #     patience=cfg.patience,\n",
    "#     #     eps=cfg.eps,\n",
    "#     #     verbose=True\n",
    "#     # )\n",
    "\n",
    "#     # scheduler_oclr = None\n",
    "#     scheduler_rlrop = None\n",
    "    \n",
    "#     L, A, LR, BLE, BAE, _, _ = fit(\n",
    "#         model=model, \n",
    "#         model_name=model_name,\n",
    "#         optimizer=optimizer, \n",
    "#         scheduler_oclr=scheduler_oclr,\n",
    "#         scheduler_rlrop=scheduler_rlrop,\n",
    "#         epochs=cfg.epochs, \n",
    "#         early_stopping_patience=cfg.early_stopping, \n",
    "#         dataloaders=dataloaders, \n",
    "#         device=cfg.device,\n",
    "#         save_path=cfg.save_path,\n",
    "#         fold=fold,\n",
    "#         verbose=True\n",
    "#     )\n",
    "    \n",
    "#     breaker()\n",
    "#     show_loss_graphs(L)\n",
    "#     breaker()\n",
    "#     show_accuracy_graphs(A)\n",
    "#     breaker()\n",
    "#     if scheduler_oclr:\n",
    "#         show_lr_graph(LR)\n",
    "#         breaker()\n",
    "    \n",
    "#     BLEs.append(BLE)\n",
    "#     BAEs.append(BAE)\n",
    "    \n",
    "#     fold += 1"
   ]
  },
  {
   "cell_type": "markdown",
   "id": "ede57a1d",
   "metadata": {
    "papermill": {
     "duration": 0.00489,
     "end_time": "2022-09-14T07:58:29.617949",
     "exception": false,
     "start_time": "2022-09-14T07:58:29.613059",
     "status": "completed"
    },
    "tags": []
   },
   "source": [
    "### **Best Model**"
   ]
  },
  {
   "cell_type": "code",
   "execution_count": 11,
   "id": "d3d9a47f",
   "metadata": {
    "execution": {
     "iopub.execute_input": "2022-09-14T07:58:29.631066Z",
     "iopub.status.busy": "2022-09-14T07:58:29.630086Z",
     "iopub.status.idle": "2022-09-14T07:58:29.635799Z",
     "shell.execute_reply": "2022-09-14T07:58:29.634533Z"
    },
    "papermill": {
     "duration": 0.015272,
     "end_time": "2022-09-14T07:58:29.638663",
     "exception": false,
     "start_time": "2022-09-14T07:58:29.623391",
     "status": "completed"
    },
    "tags": []
   },
   "outputs": [],
   "source": [
    "# best_loss_index = BLEs.index(min(BLEs))\n",
    "# best_accs_index = BAEs.index(max(BAEs))\n",
    "\n",
    "# breaker()\n",
    "# print(f\"Best Loss Model Fold     : {best_loss_index + 1}\")\n",
    "# print(f\"Best Accuracy Model Fold : {best_accs_index + 1}\")\n",
    "# breaker()"
   ]
  },
  {
   "cell_type": "markdown",
   "id": "62aad490",
   "metadata": {
    "papermill": {
     "duration": 0.005091,
     "end_time": "2022-09-14T07:58:29.649250",
     "exception": false,
     "start_time": "2022-09-14T07:58:29.644159",
     "status": "completed"
    },
    "tags": []
   },
   "source": [
    "### **Submission**"
   ]
  },
  {
   "cell_type": "code",
   "execution_count": 12,
   "id": "e55ab03f",
   "metadata": {
    "execution": {
     "iopub.execute_input": "2022-09-14T07:58:29.661412Z",
     "iopub.status.busy": "2022-09-14T07:58:29.661000Z",
     "iopub.status.idle": "2022-09-14T07:59:13.871615Z",
     "shell.execute_reply": "2022-09-14T07:59:13.870047Z"
    },
    "papermill": {
     "duration": 44.220343,
     "end_time": "2022-09-14T07:59:13.875043",
     "exception": false,
     "start_time": "2022-09-14T07:58:29.654700",
     "status": "completed"
    },
    "tags": []
   },
   "outputs": [
    {
     "name": "stderr",
     "output_type": "stream",
     "text": [
      "Downloading: \"https://github.com/rwightman/pytorch-image-models/releases/download/v0.1-weights/efficientnet_b4_ra2_320-7eb33cd5.pth\" to /root/.cache/torch/hub/checkpoints/efficientnet_b4_ra2_320-7eb33cd5.pth\n"
     ]
    }
   ],
   "source": [
    "model_name: str = \"efficientnet_b4\"\n",
    "torch.manual_seed(cfg.seed)\n",
    "model = Model(model_name=model_name).to(cfg.device)\n",
    "\n",
    "ss_df = pd.read_csv(\"../input/4-animal-classification/Sample_submission.csv\")\n",
    "ts_filenames = ss_df[\"ID\"]\n",
    "\n",
    "ts_data_setup = DS(\n",
    "    base_path=\"../input/4-animal-classification/test/test\", \n",
    "    filenames=ts_filenames, \n",
    "    size=cfg.size,\n",
    "    transform=cfg.valid_transform\n",
    ")\n",
    "ts_data = DL(ts_data_setup, batch_size=cfg.batch_size, shuffle=False)\n",
    "\n",
    "models: list = [model, model, model]\n",
    "paths: list = [\n",
    "    \"../input/4ac-en4-a384/saves/efficientnet_b4_ble_state_fold_1.pt\",\n",
    "    \"../input/4ac-en4-a384-aw/saves/efficientnet_b4_ble_state_fold_1.pt\",\n",
    "    \"../input/4ac-en4-a384-sgd-9/saves/efficientnet_b4_ble_state_fold_1.pt\"\n",
    "] \n",
    "\n",
    "y_pred = predict_batch(\n",
    "    models=models,\n",
    "    paths=paths,\n",
    "    weights=[1.0, 1.0, 1.0],\n",
    "    dataloader=ts_data,\n",
    "    device=cfg.device,\n",
    "    batch_size=cfg.batch_size,\n",
    ")\n",
    "\n",
    "ss_df[\"Label\"] = y_pred.astype(\"uint8\")\n",
    "ss_df.to_csv(\"submission.csv\", index=False)"
   ]
  }
 ],
 "metadata": {
  "kernelspec": {
   "display_name": "Python 3",
   "language": "python",
   "name": "python3"
  },
  "language_info": {
   "codemirror_mode": {
    "name": "ipython",
    "version": 3
   },
   "file_extension": ".py",
   "mimetype": "text/x-python",
   "name": "python",
   "nbconvert_exporter": "python",
   "pygments_lexer": "ipython3",
   "version": "3.7.12"
  },
  "papermill": {
   "default_parameters": {},
   "duration": 76.779594,
   "end_time": "2022-09-14T07:59:16.856534",
   "environment_variables": {},
   "exception": null,
   "input_path": "__notebook__.ipynb",
   "output_path": "__notebook__.ipynb",
   "parameters": {},
   "start_time": "2022-09-14T07:58:00.076940",
   "version": "2.3.4"
  }
 },
 "nbformat": 4,
 "nbformat_minor": 5
}
