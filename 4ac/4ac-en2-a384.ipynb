{
 "cells": [
  {
   "cell_type": "markdown",
   "id": "326a2634",
   "metadata": {
    "_cell_guid": "b1076dfc-b9ad-4769-8c92-a6c4dae69d19",
    "_uuid": "8f2839f25d086af736a60e9eeb907d3b93b6e0e5",
    "papermill": {
     "duration": 0.004652,
     "end_time": "2022-08-30T12:11:10.089068",
     "exception": false,
     "start_time": "2022-08-30T12:11:10.084416",
     "status": "completed"
    },
    "tags": []
   },
   "source": [
    "### **Setup**"
   ]
  },
  {
   "cell_type": "code",
   "execution_count": 1,
   "id": "1f8a9f99",
   "metadata": {
    "execution": {
     "iopub.execute_input": "2022-08-30T12:11:10.099024Z",
     "iopub.status.busy": "2022-08-30T12:11:10.098152Z",
     "iopub.status.idle": "2022-08-30T12:11:20.717326Z",
     "shell.execute_reply": "2022-08-30T12:11:20.715633Z"
    },
    "papermill": {
     "duration": 10.627216,
     "end_time": "2022-08-30T12:11:20.720234",
     "exception": false,
     "start_time": "2022-08-30T12:11:10.093018",
     "status": "completed"
    },
    "tags": []
   },
   "outputs": [
    {
     "name": "stderr",
     "output_type": "stream",
     "text": [
      "WARNING: Running pip as the 'root' user can result in broken permissions and conflicting behaviour with the system package manager. It is recommended to use a virtual environment instead: https://pip.pypa.io/warnings/venv\n"
     ]
    }
   ],
   "source": [
    "%%bash\n",
    "pip install timm -q"
   ]
  },
  {
   "cell_type": "markdown",
   "id": "3580cb5c",
   "metadata": {
    "papermill": {
     "duration": 0.003769,
     "end_time": "2022-08-30T12:11:20.728241",
     "exception": false,
     "start_time": "2022-08-30T12:11:20.724472",
     "status": "completed"
    },
    "tags": []
   },
   "source": [
    "### **Library Imports**"
   ]
  },
  {
   "cell_type": "code",
   "execution_count": 2,
   "id": "d9f9cda5",
   "metadata": {
    "execution": {
     "iopub.execute_input": "2022-08-30T12:11:20.737268Z",
     "iopub.status.busy": "2022-08-30T12:11:20.736595Z",
     "iopub.status.idle": "2022-08-30T12:11:24.841090Z",
     "shell.execute_reply": "2022-08-30T12:11:24.839822Z"
    },
    "papermill": {
     "duration": 4.111901,
     "end_time": "2022-08-30T12:11:24.843716",
     "exception": false,
     "start_time": "2022-08-30T12:11:20.731815",
     "status": "completed"
    },
    "tags": []
   },
   "outputs": [],
   "source": [
    "import os\n",
    "import re\n",
    "import cv2\n",
    "import timm\n",
    "import torch\n",
    "import numpy as np\n",
    "import pandas as pd\n",
    "import matplotlib.pyplot as plt\n",
    "\n",
    "from time import time\n",
    "from torch import nn, optim\n",
    "from torch.utils.data import Dataset\n",
    "from torch.utils.data import DataLoader as DL\n",
    "from torchvision import models, transforms\n",
    "\n",
    "from sklearn.model_selection import StratifiedKFold\n",
    "from sklearn.preprocessing import LabelEncoder\n",
    "from sklearn.metrics import accuracy_score"
   ]
  },
  {
   "cell_type": "markdown",
   "id": "225d6eee",
   "metadata": {
    "papermill": {
     "duration": 0.003597,
     "end_time": "2022-08-30T12:11:24.851306",
     "exception": false,
     "start_time": "2022-08-30T12:11:24.847709",
     "status": "completed"
    },
    "tags": []
   },
   "source": [
    "### **Utilities and Helpers**"
   ]
  },
  {
   "cell_type": "code",
   "execution_count": 3,
   "id": "f20e6d4d",
   "metadata": {
    "execution": {
     "iopub.execute_input": "2022-08-30T12:11:24.860899Z",
     "iopub.status.busy": "2022-08-30T12:11:24.860016Z",
     "iopub.status.idle": "2022-08-30T12:11:24.873236Z",
     "shell.execute_reply": "2022-08-30T12:11:24.872230Z"
    },
    "papermill": {
     "duration": 0.020438,
     "end_time": "2022-08-30T12:11:24.875348",
     "exception": false,
     "start_time": "2022-08-30T12:11:24.854910",
     "status": "completed"
    },
    "tags": []
   },
   "outputs": [],
   "source": [
    "SEED = 42\n",
    "SIZE = 384\n",
    "le = LabelEncoder()\n",
    "\n",
    "\n",
    "def breaker(num: int=50, char: str=\"*\") -> None:\n",
    "    print(\"\\n\" + num*char + \"\\n\")\n",
    "\n",
    "    \n",
    "def get_image(path: str, size: int=224) -> np.ndarray:\n",
    "    image = cv2.imread(path, cv2.IMREAD_COLOR)\n",
    "    image = cv2.cvtColor(src=image, code=cv2.COLOR_BGR2RGB)\n",
    "    return cv2.resize(src=image, dsize=(size, size), interpolation=cv2.INTER_AREA)\n",
    "\n",
    "\n",
    "def show_loss_graphs(L: list) -> None:\n",
    "    TL, VL = [], []\n",
    "    for i in range(len(L)):\n",
    "        TL.append(L[i][\"train\"])\n",
    "        VL.append(L[i][\"valid\"])\n",
    "    x_Axis = np.arange(1, len(TL) + 1)\n",
    "    plt.figure()\n",
    "    plt.plot(x_Axis, TL, \"r\", label=\"Train\")\n",
    "    plt.plot(x_Axis, VL, \"b\", label=\"Valid\")\n",
    "    plt.legend()\n",
    "    plt.grid()\n",
    "    plt.title(\"Loss Graph\")\n",
    "    plt.show()\n",
    "\n",
    "    \n",
    "def show_accuracy_graphs(A: list) -> None:\n",
    "    TA, VA = [], []\n",
    "    for i in range(len(A)):\n",
    "        TA.append(A[i][\"train\"])\n",
    "        VA.append(A[i][\"valid\"])\n",
    "    x_Axis = np.arange(1, len(TA) + 1)\n",
    "    plt.figure()\n",
    "    plt.plot(x_Axis, TA, \"r\", label=\"Train\")\n",
    "    plt.plot(x_Axis, VA, \"b\", label=\"Valid\")\n",
    "    plt.legend()\n",
    "    plt.grid()\n",
    "    plt.title(\"Accuracy Graph\")\n",
    "    plt.show()\n",
    "    \n",
    "\n",
    "def show_lr_graph(LR: list) -> None:\n",
    "    x_Axis = [i+1 for i in range(len(LR))]\n",
    "    plt.figure(figsize=(8, 6))\n",
    "    plt.plot(x_Axis, LR, \"rx\")\n",
    "    plt.grid()\n",
    "    plt.show()"
   ]
  },
  {
   "cell_type": "markdown",
   "id": "1d1acc5f",
   "metadata": {
    "papermill": {
     "duration": 0.003892,
     "end_time": "2022-08-30T12:11:24.883229",
     "exception": false,
     "start_time": "2022-08-30T12:11:24.879337",
     "status": "completed"
    },
    "tags": []
   },
   "source": [
    "### **Configuration**"
   ]
  },
  {
   "cell_type": "code",
   "execution_count": 4,
   "id": "2fee9ea9",
   "metadata": {
    "execution": {
     "iopub.execute_input": "2022-08-30T12:11:24.892251Z",
     "iopub.status.busy": "2022-08-30T12:11:24.891943Z",
     "iopub.status.idle": "2022-08-30T12:11:24.968621Z",
     "shell.execute_reply": "2022-08-30T12:11:24.967699Z"
    },
    "papermill": {
     "duration": 0.083446,
     "end_time": "2022-08-30T12:11:24.970739",
     "exception": false,
     "start_time": "2022-08-30T12:11:24.887293",
     "status": "completed"
    },
    "tags": []
   },
   "outputs": [],
   "source": [
    "class CFG(object):\n",
    "    def __init__(self, \n",
    "                 seed: int = 42,\n",
    "                 size: int = 224,\n",
    "                 n_splits: int = 5,\n",
    "                 batch_size: int = 16,\n",
    "                 epochs: int = 25,\n",
    "                 early_stopping: int = 5,\n",
    "                 lr: float = 1e-4,\n",
    "                 wd: float = 0.0,\n",
    "                 max_lr: float = 1e-3,\n",
    "                 pct_start: float = 0.2,\n",
    "                 steps_per_epoch: int = 100,\n",
    "                 div_factor: int = 1e3, \n",
    "                 final_div_factor: float = 1e3,\n",
    "                 ):\n",
    "        self.seed = seed\n",
    "        self.size = size\n",
    "        self.n_splits = n_splits\n",
    "        self.batch_size = batch_size\n",
    "        self.epochs = epochs\n",
    "        self.early_stopping = early_stopping\n",
    "        self.lr = lr\n",
    "        self.wd = wd\n",
    "        self.max_lr = max_lr\n",
    "        self.pct_start = pct_start\n",
    "        self.steps_per_epoch = steps_per_epoch\n",
    "        self.div_factor = div_factor\n",
    "        self.final_div_factor = final_div_factor\n",
    "        self.device = torch.device(\"cuda\" if torch.cuda.is_available() else \"cpu\")\n",
    "        self.train_transform = transforms.Compose([\n",
    "            transforms.ToTensor(),\n",
    "            transforms.Normalize([0.48805, 0.46218, 0.38043], [0.21471, 0.21141, 0.21124]),\n",
    "            transforms.RandomAffine(degrees=(-45, 45), translate=(0.15, 0.15), scale=(0.5, 1.5)),\n",
    "            transforms.RandomHorizontalFlip(p=0.25),\n",
    "            transforms.RandomVerticalFlip(p=0.25),\n",
    "        ])\n",
    "        self.valid_transform = transforms.Compose([\n",
    "            transforms.ToTensor(),\n",
    "            transforms.Normalize([0.51684, 0.52503, 0.50567], [0.19350, 0.18743, 0.19404]),\n",
    "        ])\n",
    "                                \n",
    "        self.save_path = \"saves\"\n",
    "        if not os.path.exists(self.save_path): os.makedirs(self.save_path)\n",
    "    \n",
    "cfg = CFG(seed=SEED, size=SIZE)"
   ]
  },
  {
   "cell_type": "markdown",
   "id": "c86d9778",
   "metadata": {
    "papermill": {
     "duration": 0.003725,
     "end_time": "2022-08-30T12:11:24.978804",
     "exception": false,
     "start_time": "2022-08-30T12:11:24.975079",
     "status": "completed"
    },
    "tags": []
   },
   "source": [
    "### **Dataset Template**"
   ]
  },
  {
   "cell_type": "code",
   "execution_count": 5,
   "id": "bdd54a6b",
   "metadata": {
    "execution": {
     "iopub.execute_input": "2022-08-30T12:11:24.988355Z",
     "iopub.status.busy": "2022-08-30T12:11:24.987731Z",
     "iopub.status.idle": "2022-08-30T12:11:24.994819Z",
     "shell.execute_reply": "2022-08-30T12:11:24.993892Z"
    },
    "papermill": {
     "duration": 0.013978,
     "end_time": "2022-08-30T12:11:24.996861",
     "exception": false,
     "start_time": "2022-08-30T12:11:24.982883",
     "status": "completed"
    },
    "tags": []
   },
   "outputs": [],
   "source": [
    "class DS(Dataset):\n",
    "    def __init__(\n",
    "        self, \n",
    "        base_path: str,\n",
    "        filenames: np.ndarray, \n",
    "        folder_names: np.ndarray, \n",
    "        labels: np.ndarray, \n",
    "        size: int,\n",
    "        transform=None):\n",
    "        \n",
    "        self.base_path = base_path\n",
    "        self.filenames = filenames\n",
    "        self.folder_names = folder_names\n",
    "        self.labels = labels\n",
    "        self.size = size\n",
    "        self.transform = transform\n",
    "    \n",
    "    def __len__(self):\n",
    "        return self.filenames.shape[0]\n",
    "    \n",
    "    def __getitem__(self, idx):\n",
    "        path = os.path.join(os.path.join(self.base_path, self.folder_names[idx]), self.filenames[idx])\n",
    "        image = get_image(path, self.size)\n",
    "        return self.transform(image), self.labels[idx]"
   ]
  },
  {
   "cell_type": "markdown",
   "id": "6214eeec",
   "metadata": {
    "papermill": {
     "duration": 0.003766,
     "end_time": "2022-08-30T12:11:25.004488",
     "exception": false,
     "start_time": "2022-08-30T12:11:25.000722",
     "status": "completed"
    },
    "tags": []
   },
   "source": [
    "### **Model**"
   ]
  },
  {
   "cell_type": "code",
   "execution_count": 6,
   "id": "2ce429ae",
   "metadata": {
    "execution": {
     "iopub.execute_input": "2022-08-30T12:11:25.013559Z",
     "iopub.status.busy": "2022-08-30T12:11:25.013243Z",
     "iopub.status.idle": "2022-08-30T12:11:25.023831Z",
     "shell.execute_reply": "2022-08-30T12:11:25.022955Z"
    },
    "papermill": {
     "duration": 0.017594,
     "end_time": "2022-08-30T12:11:25.025867",
     "exception": false,
     "start_time": "2022-08-30T12:11:25.008273",
     "status": "completed"
    },
    "tags": []
   },
   "outputs": [],
   "source": [
    "class Model(nn.Module):\n",
    "    def __init__(self, model_name: str=\"resnet50\"):\n",
    "        super(Model, self).__init__()\n",
    "\n",
    "        if model_name == \"resnet50\":\n",
    "            self.model = models.resnet50(pretrained=True, progress=False)\n",
    "            self.model.fc = nn.Linear(in_features=self.model.fc.in_features, out_features=11)\n",
    "\n",
    "        elif model_name == \"densenet169\":\n",
    "            self.model = models.densenet169(pretrained=True, progress=True)\n",
    "            self.model.classifier = nn.Linear(in_features=self.model.classifier.in_features, out_features=11)\n",
    "\n",
    "        elif model_name == \"densenet201\":\n",
    "            self.model = models.densenet201(pretrained=True, progress=True)\n",
    "            self.model.classifier = nn.Linear(in_features=self.model.classifier.in_features, out_features=11)\n",
    "            \n",
    "        elif model_name == \"tv_densenet121\":\n",
    "            self.model = timm.create_model(model_name=\"tv_densenet121\", pretrained=True)\n",
    "            self.model.classifier = nn.Linear(in_features=self.model.classifier.in_features, out_features=11)\n",
    "            \n",
    "        elif model_name == \"efficientnet_b2\":\n",
    "            self.model = timm.create_model(model_name=model_name, pretrained=True)\n",
    "            self.model.classifier = nn.Linear(in_features=self.model.classifier.in_features, out_features=11)\n",
    "        \n",
    "        else:\n",
    "            raise NotImplementedError(\"Invalid Model Name. Model not currently available\")\n",
    "            \n",
    "    def freeze(self):\n",
    "        for params in self.parameters(): params.requires_grad = False\n",
    "\n",
    "    def forward(self, x):\n",
    "        return nn.LogSoftmax(dim=1)(self.model(x))"
   ]
  },
  {
   "cell_type": "markdown",
   "id": "eb682ab4",
   "metadata": {
    "papermill": {
     "duration": 0.00376,
     "end_time": "2022-08-30T12:11:25.033670",
     "exception": false,
     "start_time": "2022-08-30T12:11:25.029910",
     "status": "completed"
    },
    "tags": []
   },
   "source": [
    "### **Fit and Predict**"
   ]
  },
  {
   "cell_type": "code",
   "execution_count": 7,
   "id": "e456e6df",
   "metadata": {
    "execution": {
     "iopub.execute_input": "2022-08-30T12:11:25.043586Z",
     "iopub.status.busy": "2022-08-30T12:11:25.042761Z",
     "iopub.status.idle": "2022-08-30T12:11:25.068063Z",
     "shell.execute_reply": "2022-08-30T12:11:25.067160Z"
    },
    "papermill": {
     "duration": 0.032837,
     "end_time": "2022-08-30T12:11:25.070184",
     "exception": false,
     "start_time": "2022-08-30T12:11:25.037347",
     "status": "completed"
    },
    "tags": []
   },
   "outputs": [],
   "source": [
    "def fit(model=None,\n",
    "        model_name=None,\n",
    "        optimizer=None, \n",
    "        scheduler_rlrop=None,\n",
    "        scheduler_oclr=None,\n",
    "        epochs=None, \n",
    "        early_stopping_patience=None, \n",
    "        dataloaders=None, \n",
    "        fold=None, \n",
    "        save_path=None,\n",
    "        device=None,\n",
    "        verbose=False) -> tuple:\n",
    "    \n",
    "    def get_accuracy(y_pred, y_true):\n",
    "        y_pred = torch.argmax(y_pred, dim=1)\n",
    "        return torch.count_nonzero(y_pred == y_true).item() / len(y_pred)\n",
    "    \n",
    "    \n",
    "    if verbose:\n",
    "        breaker()\n",
    "        print(f\" ----- {model_name.upper()} -----\")\n",
    "        breaker()\n",
    "        if fold: print(f\"Training Fold {fold}...\")\n",
    "        else: print(\"Training ...\")\n",
    "        breaker()\n",
    "        \n",
    "    bestLoss: dict = {\"train\" : np.inf, \"valid\" : np.inf} \n",
    "    bestAccs: dict = {\"train\" : 0.0, \"valid\" : 0.0}\n",
    "        \n",
    "    Losses: list = []\n",
    "    Accuracies: list = [] \n",
    "    LRs: list = []\n",
    "        \n",
    "    if fold: \n",
    "        ble_name = f\"{model_name}_ble_state_fold_{fold}.pt\"\n",
    "        bae_name = f\"{model_name}_bae_state_fold_{fold}.pt\"\n",
    "    else: \n",
    "        ble_name = f\"{model_name}_ble_state.pt\"\n",
    "        bae_name = f\"{model_name}_bae_state.pt\"\n",
    "    \n",
    "    start_time = time()\n",
    "    for e in range(epochs):\n",
    "        e_st = time()\n",
    "        epochLoss: dict = {\"train\" : 0.0, \"valid\" : 0.0} \n",
    "        epochAccs: dict = {\"train\" : 0.0, \"valid\" : 0.0}\n",
    "\n",
    "        for phase in [\"train\", \"valid\"]:\n",
    "            if phase == \"train\":\n",
    "                model.train()\n",
    "            else:\n",
    "                model.eval()\n",
    "            \n",
    "            lossPerPass: list = []\n",
    "            accsPerPass: list = []\n",
    "                \n",
    "            for X, y in dataloaders[phase]:\n",
    "                X, y = X.to(device), y.to(device).view(-1)\n",
    "\n",
    "                optimizer.zero_grad()\n",
    "                with torch.set_grad_enabled(phase == \"train\"):\n",
    "                    output = model(X)\n",
    "                    loss = torch.nn.NLLLoss()(output, y)\n",
    "                    if phase == \"train\":\n",
    "                        loss.backward()\n",
    "                        optimizer.step()\n",
    "                        if scheduler_oclr: scheduler_oclr.step()\n",
    "                lossPerPass.append(loss.item())\n",
    "                accsPerPass.append(get_accuracy(output, y))\n",
    "            epochLoss[phase] = np.mean(np.array(lossPerPass))\n",
    "            epochAccs[phase] = np.mean(np.array(accsPerPass))\n",
    "        if scheduler_oclr: LRs.append(scheduler_oclr.get_last_lr())\n",
    "        Losses.append(epochLoss)\n",
    "        Accuracies.append(epochAccs)\n",
    "    \n",
    "        if scheduler_oclr:\n",
    "            save_dict = {\"model_state_dict\"     : model.state_dict(),\n",
    "                         \"optim_state_dict\"     : optimizer.state_dict(),\n",
    "                         \"scheduler_state_dict\" : scheduler_oclr.state_dict()}\n",
    "        \n",
    "        elif scheduler_rlrop:\n",
    "            save_dict = {\"model_state_dict\"     : model.state_dict(),\n",
    "                         \"optim_state_dict\"     : optimizer.state_dict(),\n",
    "                         \"scheduler_state_dict\" : scheduler_rlrop.state_dict()}\n",
    "        \n",
    "        else:\n",
    "            save_dict = {\"model_state_dict\"     : model.state_dict(),\n",
    "                         \"optim_state_dict\"     : optimizer.state_dict()}\n",
    "        \n",
    "        \n",
    "        if early_stopping_patience:\n",
    "            if epochLoss[\"valid\"] < bestLoss[\"valid\"]:\n",
    "                bestLoss = epochLoss\n",
    "                BLE = e + 1\n",
    "                torch.save(save_dict, os.path.join(save_path, ble_name))\n",
    "                torch.save(save_dict, os.path.join(save_path, bae_name))\n",
    "                early_stopping_step = 0\n",
    "            else:\n",
    "                early_stopping_step += 1\n",
    "                if early_stopping_step > early_stopping_patience:\n",
    "                    print(\"\\nEarly Stopping at Epoch {}\".format(e + 1))\n",
    "                    break\n",
    "        \n",
    "        if epochLoss[\"valid\"] < bestLoss[\"valid\"]:\n",
    "            bestLoss = epochLoss\n",
    "            BLE = e + 1\n",
    "            torch.save(save_dict,os.path.join(save_path, ble_name))\n",
    "        \n",
    "        if epochAccs[\"valid\"] > bestAccs[\"valid\"]:\n",
    "            bestAccs = epochAccs\n",
    "            BAE = e + 1\n",
    "            torch.save(save_dict,os.path.join(save_path, bae_name))\n",
    "        \n",
    "        if scheduler_rlrop: scheduler_rlrop.step(epochLoss[\"valid\"])\n",
    "        \n",
    "        if verbose:\n",
    "            print(\"Epoch: {} | Train Loss: {:.5f} | Valid Loss: {:.5f} |\\\n",
    " Train Accs: {:.5f} | Valid Accs: {:.5f} | Time: {:.2f} seconds\".format(e+1, \n",
    "                                                                        epochLoss[\"train\"], epochLoss[\"valid\"], \n",
    "                                                                        epochAccs[\"train\"], epochAccs[\"valid\"], \n",
    "                                                                        time()-e_st))\n",
    "\n",
    "    if verbose:                                           \n",
    "        breaker()\n",
    "        print(f\"Best Validation Loss at Epoch {BLE}\")\n",
    "        breaker()\n",
    "        print(f\"Best Validation Accs at Epoch {BAE}\")\n",
    "        breaker()\n",
    "        print(\"Time Taken [{} Epochs] : {:.2f} minutes\".format(len(Losses), (time()-start_time)/60))\n",
    "    \n",
    "    return Losses, Accuracies, LRs, BLE, BAE, ble_name, bae_name\n",
    "\n",
    "\n",
    "def predict_batch(model=None, dataloader=None, path=None, device=None) -> np.ndarray:\n",
    "    model.load_state_dict(torch.load(path, map_location=device)[\"model_state_dict\"])\n",
    "    model.to(device)    \n",
    "    model.eval()\n",
    "    \n",
    "    y_pred = torch.zeros(1, 1).to(device)\n",
    "    \n",
    "    for X in dataloader:\n",
    "        X = X.to(device)\n",
    "        with torch.no_grad():\n",
    "            output = torch.argmax(torch.exp(model(X)), dim=1)\n",
    "        y_pred = torch.cat((y_pred, output.view(-1, 1)), dim=0)\n",
    "    \n",
    "    return y_pred[1:].detach().cpu().numpy()"
   ]
  },
  {
   "cell_type": "markdown",
   "id": "2cd502b7",
   "metadata": {
    "papermill": {
     "duration": 0.003733,
     "end_time": "2022-08-30T12:11:25.077936",
     "exception": false,
     "start_time": "2022-08-30T12:11:25.074203",
     "status": "completed"
    },
    "tags": []
   },
   "source": [
    "### **Train**"
   ]
  },
  {
   "cell_type": "code",
   "execution_count": 8,
   "id": "9d4bded8",
   "metadata": {
    "execution": {
     "iopub.execute_input": "2022-08-30T12:11:25.087136Z",
     "iopub.status.busy": "2022-08-30T12:11:25.086821Z",
     "iopub.status.idle": "2022-08-30T12:11:25.112984Z",
     "shell.execute_reply": "2022-08-30T12:11:25.112020Z"
    },
    "papermill": {
     "duration": 0.033163,
     "end_time": "2022-08-30T12:11:25.115206",
     "exception": false,
     "start_time": "2022-08-30T12:11:25.082043",
     "status": "completed"
    },
    "tags": []
   },
   "outputs": [],
   "source": [
    "df = pd.read_csv(\"../input/4ac-dataframe/data.csv\")\n",
    "\n",
    "filenames = df.filenames.copy().values\n",
    "folder_names = df.folder_names.copy().values\n",
    "labels = df.classes.copy().values"
   ]
  },
  {
   "cell_type": "code",
   "execution_count": 9,
   "id": "0cd08737",
   "metadata": {
    "execution": {
     "iopub.execute_input": "2022-08-30T12:11:25.125730Z",
     "iopub.status.busy": "2022-08-30T12:11:25.124936Z",
     "iopub.status.idle": "2022-08-30T13:16:58.118530Z",
     "shell.execute_reply": "2022-08-30T13:16:58.117584Z"
    },
    "papermill": {
     "duration": 3933.001286,
     "end_time": "2022-08-30T13:16:58.120669",
     "exception": false,
     "start_time": "2022-08-30T12:11:25.119383",
     "status": "completed"
    },
    "tags": []
   },
   "outputs": [
    {
     "name": "stderr",
     "output_type": "stream",
     "text": [
      "Downloading: \"https://github.com/rwightman/pytorch-image-models/releases/download/v0.1-weights/efficientnet_b2_ra-bcdf34b7.pth\" to /root/.cache/torch/hub/checkpoints/efficientnet_b2_ra-bcdf34b7.pth\n"
     ]
    },
    {
     "name": "stdout",
     "output_type": "stream",
     "text": [
      "\n",
      "**************************************************\n",
      "\n",
      " ----- EFFICIENTNET_B2 -----\n",
      "\n",
      "**************************************************\n",
      "\n",
      "Training Fold 1...\n",
      "\n",
      "**************************************************\n",
      "\n",
      "Epoch: 1 | Train Loss: 1.82757 | Valid Loss: 0.42327 | Train Accs: 0.53259 | Valid Accs: 0.94286 | Time: 119.88 seconds\n",
      "Epoch: 2 | Train Loss: 0.31390 | Valid Loss: 0.22281 | Train Accs: 0.90045 | Valid Accs: 0.93571 | Time: 96.76 seconds\n",
      "Epoch: 3 | Train Loss: 0.27874 | Valid Loss: 0.36285 | Train Accs: 0.90446 | Valid Accs: 0.87143 | Time: 97.74 seconds\n",
      "Epoch: 4 | Train Loss: 0.36850 | Valid Loss: 0.44734 | Train Accs: 0.87679 | Valid Accs: 0.84107 | Time: 94.81 seconds\n",
      "Epoch: 5 | Train Loss: 0.36829 | Valid Loss: 0.37388 | Train Accs: 0.86696 | Valid Accs: 0.87321 | Time: 97.90 seconds\n",
      "Epoch: 6 | Train Loss: 0.32467 | Valid Loss: 0.21740 | Train Accs: 0.88304 | Valid Accs: 0.91786 | Time: 99.70 seconds\n",
      "Epoch: 7 | Train Loss: 0.22565 | Valid Loss: 0.32165 | Train Accs: 0.92723 | Valid Accs: 0.90714 | Time: 97.29 seconds\n",
      "Epoch: 8 | Train Loss: 0.22123 | Valid Loss: 0.20654 | Train Accs: 0.92679 | Valid Accs: 0.92679 | Time: 97.10 seconds\n",
      "Epoch: 9 | Train Loss: 0.19932 | Valid Loss: 0.14143 | Train Accs: 0.92857 | Valid Accs: 0.94821 | Time: 99.39 seconds\n",
      "Epoch: 10 | Train Loss: 0.18915 | Valid Loss: 0.24013 | Train Accs: 0.93482 | Valid Accs: 0.91071 | Time: 97.74 seconds\n",
      "Epoch: 11 | Train Loss: 0.15670 | Valid Loss: 0.25630 | Train Accs: 0.94732 | Valid Accs: 0.91786 | Time: 95.81 seconds\n",
      "Epoch: 12 | Train Loss: 0.10517 | Valid Loss: 0.12231 | Train Accs: 0.96071 | Valid Accs: 0.96250 | Time: 100.22 seconds\n",
      "Epoch: 13 | Train Loss: 0.12540 | Valid Loss: 0.18032 | Train Accs: 0.95134 | Valid Accs: 0.94286 | Time: 98.68 seconds\n",
      "Epoch: 14 | Train Loss: 0.10651 | Valid Loss: 0.13894 | Train Accs: 0.96384 | Valid Accs: 0.95357 | Time: 98.45 seconds\n",
      "Epoch: 15 | Train Loss: 0.06050 | Valid Loss: 0.15038 | Train Accs: 0.98214 | Valid Accs: 0.95536 | Time: 98.32 seconds\n",
      "Epoch: 16 | Train Loss: 0.05146 | Valid Loss: 0.17602 | Train Accs: 0.98438 | Valid Accs: 0.95536 | Time: 98.28 seconds\n",
      "Epoch: 17 | Train Loss: 0.04300 | Valid Loss: 0.17069 | Train Accs: 0.98393 | Valid Accs: 0.95000 | Time: 97.47 seconds\n",
      "\n",
      "Early Stopping at Epoch 18\n",
      "\n",
      "**************************************************\n",
      "\n",
      "Best Validation Loss at Epoch 12\n",
      "\n",
      "**************************************************\n",
      "\n",
      "Best Validation Accs at Epoch 12\n",
      "\n",
      "**************************************************\n",
      "\n",
      "Time Taken [18 Epochs] : 29.72 minutes\n",
      "\n",
      "**************************************************\n",
      "\n"
     ]
    },
    {
     "data": {
      "image/png": "[encoded data removed]",
      "text/plain": [
       "<Figure size 432x288 with 1 Axes>"
      ]
     },
     "metadata": {
      "needs_background": "light"
     },
     "output_type": "display_data"
    },
    {
     "name": "stdout",
     "output_type": "stream",
     "text": [
      "\n",
      "**************************************************\n",
      "\n"
     ]
    },
    {
     "data": {
      "image/png": "[encoded data removed]",
      "text/plain": [
       "<Figure size 432x288 with 1 Axes>"
      ]
     },
     "metadata": {
      "needs_background": "light"
     },
     "output_type": "display_data"
    },
    {
     "name": "stdout",
     "output_type": "stream",
     "text": [
      "\n",
      "**************************************************\n",
      "\n"
     ]
    },
    {
     "data": {
      "image/png": "[encoded data removed]",
      "text/plain": [
       "<Figure size 576x432 with 1 Axes>"
      ]
     },
     "metadata": {
      "needs_background": "light"
     },
     "output_type": "display_data"
    },
    {
     "name": "stdout",
     "output_type": "stream",
     "text": [
      "\n",
      "**************************************************\n",
      "\n",
      "\n",
      "**************************************************\n",
      "\n",
      " ----- EFFICIENTNET_B2 -----\n",
      "\n",
      "**************************************************\n",
      "\n",
      "Training Fold 2...\n",
      "\n",
      "**************************************************\n",
      "\n",
      "Epoch: 1 | Train Loss: 2.22841 | Valid Loss: 1.69906 | Train Accs: 0.33259 | Valid Accs: 0.76562 | Time: 52.64 seconds\n",
      "Epoch: 2 | Train Loss: 0.85287 | Valid Loss: 0.19165 | Train Accs: 0.83973 | Valid Accs: 0.91667 | Time: 53.57 seconds\n",
      "Epoch: 3 | Train Loss: 0.22484 | Valid Loss: 0.30967 | Train Accs: 0.91295 | Valid Accs: 0.89294 | Time: 51.84 seconds\n",
      "Epoch: 4 | Train Loss: 0.22535 | Valid Loss: 0.22908 | Train Accs: 0.91964 | Valid Accs: 0.92882 | Time: 51.69 seconds\n",
      "Epoch: 5 | Train Loss: 0.24728 | Valid Loss: 0.33085 | Train Accs: 0.90714 | Valid Accs: 0.88657 | Time: 51.53 seconds\n",
      "Epoch: 6 | Train Loss: 0.20777 | Valid Loss: 0.24761 | Train Accs: 0.92902 | Valid Accs: 0.89988 | Time: 51.64 seconds\n",
      "Epoch: 7 | Train Loss: 0.14180 | Valid Loss: 0.21064 | Train Accs: 0.95089 | Valid Accs: 0.92303 | Time: 51.12 seconds\n",
      "\n",
      "Early Stopping at Epoch 8\n",
      "\n",
      "**************************************************\n",
      "\n",
      "Best Validation Loss at Epoch 2\n",
      "\n",
      "**************************************************\n",
      "\n",
      "Best Validation Accs at Epoch 4\n",
      "\n",
      "**************************************************\n",
      "\n",
      "Time Taken [8 Epochs] : 6.92 minutes\n",
      "\n",
      "**************************************************\n",
      "\n"
     ]
    },
    {
     "data": {
      "image/png": "[encoded data removed]",
      "text/plain": [
       "<Figure size 432x288 with 1 Axes>"
      ]
     },
     "metadata": {
      "needs_background": "light"
     },
     "output_type": "display_data"
    },
    {
     "name": "stdout",
     "output_type": "stream",
     "text": [
      "\n",
      "**************************************************\n",
      "\n"
     ]
    },
    {
     "data": {
      "image/png": "[encoded data removed]",
      "text/plain": [
       "<Figure size 432x288 with 1 Axes>"
      ]
     },
     "metadata": {
      "needs_background": "light"
     },
     "output_type": "display_data"
    },
    {
     "name": "stdout",
     "output_type": "stream",
     "text": [
      "\n",
      "**************************************************\n",
      "\n"
     ]
    },
    {
     "data": {
      "image/png": "[encoded data removed]",
      "text/plain": [
       "<Figure size 576x432 with 1 Axes>"
      ]
     },
     "metadata": {
      "needs_background": "light"
     },
     "output_type": "display_data"
    },
    {
     "name": "stdout",
     "output_type": "stream",
     "text": [
      "\n",
      "**************************************************\n",
      "\n",
      "\n",
      "**************************************************\n",
      "\n",
      " ----- EFFICIENTNET_B2 -----\n",
      "\n",
      "**************************************************\n",
      "\n",
      "Training Fold 3...\n",
      "\n",
      "**************************************************\n",
      "\n",
      "Epoch: 1 | Train Loss: 2.23182 | Valid Loss: 1.68093 | Train Accs: 0.31562 | Valid Accs: 0.79688 | Time: 51.92 seconds\n",
      "Epoch: 2 | Train Loss: 0.84472 | Valid Loss: 0.15630 | Train Accs: 0.85045 | Valid Accs: 0.94502 | Time: 52.48 seconds\n",
      "Epoch: 3 | Train Loss: 0.22865 | Valid Loss: 0.26166 | Train Accs: 0.92277 | Valid Accs: 0.89005 | Time: 51.24 seconds\n",
      "Epoch: 4 | Train Loss: 0.21981 | Valid Loss: 0.30630 | Train Accs: 0.92679 | Valid Accs: 0.89468 | Time: 50.08 seconds\n",
      "Epoch: 5 | Train Loss: 0.23223 | Valid Loss: 0.35859 | Train Accs: 0.92411 | Valid Accs: 0.87095 | Time: 51.38 seconds\n",
      "Epoch: 6 | Train Loss: 0.22326 | Valid Loss: 0.22004 | Train Accs: 0.92634 | Valid Accs: 0.91551 | Time: 50.88 seconds\n",
      "Epoch: 7 | Train Loss: 0.16247 | Valid Loss: 0.23457 | Train Accs: 0.94509 | Valid Accs: 0.92477 | Time: 50.37 seconds\n",
      "\n",
      "Early Stopping at Epoch 8\n",
      "\n",
      "**************************************************\n",
      "\n",
      "Best Validation Loss at Epoch 2\n",
      "\n",
      "**************************************************\n",
      "\n",
      "Best Validation Accs at Epoch 2\n",
      "\n",
      "**************************************************\n",
      "\n",
      "Time Taken [8 Epochs] : 6.82 minutes\n",
      "\n",
      "**************************************************\n",
      "\n"
     ]
    },
    {
     "data": {
      "image/png": "[encoded data removed]",
      "text/plain": [
       "<Figure size 432x288 with 1 Axes>"
      ]
     },
     "metadata": {
      "needs_background": "light"
     },
     "output_type": "display_data"
    },
    {
     "name": "stdout",
     "output_type": "stream",
     "text": [
      "\n",
      "**************************************************\n",
      "\n"
     ]
    },
    {
     "data": {
      "image/png": "[encoded data removed]",
      "text/plain": [
       "<Figure size 432x288 with 1 Axes>"
      ]
     },
     "metadata": {
      "needs_background": "light"
     },
     "output_type": "display_data"
    },
    {
     "name": "stdout",
     "output_type": "stream",
     "text": [
      "\n",
      "**************************************************\n",
      "\n"
     ]
    },
    {
     "data": {
      "image/png": "[encoded data removed]",
      "text/plain": [
       "<Figure size 576x432 with 1 Axes>"
      ]
     },
     "metadata": {
      "needs_background": "light"
     },
     "output_type": "display_data"
    },
    {
     "name": "stdout",
     "output_type": "stream",
     "text": [
      "\n",
      "**************************************************\n",
      "\n",
      "\n",
      "**************************************************\n",
      "\n",
      " ----- EFFICIENTNET_B2 -----\n",
      "\n",
      "**************************************************\n",
      "\n",
      "Training Fold 4...\n",
      "\n",
      "**************************************************\n",
      "\n",
      "Epoch: 1 | Train Loss: 2.22493 | Valid Loss: 1.68863 | Train Accs: 0.32009 | Valid Accs: 0.78646 | Time: 51.66 seconds\n",
      "Epoch: 2 | Train Loss: 0.84928 | Valid Loss: 0.18003 | Train Accs: 0.84821 | Valid Accs: 0.94097 | Time: 51.55 seconds\n",
      "Epoch: 3 | Train Loss: 0.22225 | Valid Loss: 0.21993 | Train Accs: 0.92366 | Valid Accs: 0.93634 | Time: 50.95 seconds\n",
      "Epoch: 4 | Train Loss: 0.22982 | Valid Loss: 0.35795 | Train Accs: 0.92232 | Valid Accs: 0.89294 | Time: 49.89 seconds\n",
      "Epoch: 5 | Train Loss: 0.24946 | Valid Loss: 0.26686 | Train Accs: 0.91161 | Valid Accs: 0.91667 | Time: 50.71 seconds\n",
      "Epoch: 6 | Train Loss: 0.21946 | Valid Loss: 0.22723 | Train Accs: 0.92366 | Valid Accs: 0.91319 | Time: 50.23 seconds\n",
      "Epoch: 7 | Train Loss: 0.14349 | Valid Loss: 0.14724 | Train Accs: 0.95179 | Valid Accs: 0.95081 | Time: 51.66 seconds\n",
      "Epoch: 8 | Train Loss: 0.10434 | Valid Loss: 0.25382 | Train Accs: 0.96652 | Valid Accs: 0.92824 | Time: 50.98 seconds\n",
      "Epoch: 9 | Train Loss: 0.17139 | Valid Loss: 0.23057 | Train Accs: 0.94241 | Valid Accs: 0.93171 | Time: 50.67 seconds\n",
      "Epoch: 10 | Train Loss: 0.11930 | Valid Loss: 0.18730 | Train Accs: 0.95670 | Valid Accs: 0.92188 | Time: 50.61 seconds\n",
      "Epoch: 11 | Train Loss: 0.10013 | Valid Loss: 0.24617 | Train Accs: 0.96607 | Valid Accs: 0.92766 | Time: 49.86 seconds\n",
      "Epoch: 12 | Train Loss: 0.07107 | Valid Loss: 0.18227 | Train Accs: 0.97634 | Valid Accs: 0.93808 | Time: 49.97 seconds\n",
      "\n",
      "Early Stopping at Epoch 13\n",
      "\n",
      "**************************************************\n",
      "\n",
      "Best Validation Loss at Epoch 7\n",
      "\n",
      "**************************************************\n",
      "\n",
      "Best Validation Accs at Epoch 7\n",
      "\n",
      "**************************************************\n",
      "\n",
      "Time Taken [13 Epochs] : 10.99 minutes\n",
      "\n",
      "**************************************************\n",
      "\n"
     ]
    },
    {
     "data": {
      "image/png": "[encoded data removed]",
      "text/plain": [
       "<Figure size 432x288 with 1 Axes>"
      ]
     },
     "metadata": {
      "needs_background": "light"
     },
     "output_type": "display_data"
    },
    {
     "name": "stdout",
     "output_type": "stream",
     "text": [
      "\n",
      "**************************************************\n",
      "\n"
     ]
    },
    {
     "data": {
      "image/png": "[encoded data removed]",
      "text/plain": [
       "<Figure size 432x288 with 1 Axes>"
      ]
     },
     "metadata": {
      "needs_background": "light"
     },
     "output_type": "display_data"
    },
    {
     "name": "stdout",
     "output_type": "stream",
     "text": [
      "\n",
      "**************************************************\n",
      "\n"
     ]
    },
    {
     "data": {
      "image/png": "[encoded data removed]",
      "text/plain": [
       "<Figure size 576x432 with 1 Axes>"
      ]
     },
     "metadata": {
      "needs_background": "light"
     },
     "output_type": "display_data"
    },
    {
     "name": "stdout",
     "output_type": "stream",
     "text": [
      "\n",
      "**************************************************\n",
      "\n",
      "\n",
      "**************************************************\n",
      "\n",
      " ----- EFFICIENTNET_B2 -----\n",
      "\n",
      "**************************************************\n",
      "\n",
      "Training Fold 5...\n",
      "\n",
      "**************************************************\n",
      "\n",
      "Epoch: 1 | Train Loss: 2.23211 | Valid Loss: 1.67786 | Train Accs: 0.30089 | Valid Accs: 0.76505 | Time: 51.64 seconds\n",
      "Epoch: 2 | Train Loss: 0.84488 | Valid Loss: 0.22160 | Train Accs: 0.84107 | Valid Accs: 0.92940 | Time: 51.64 seconds\n",
      "Epoch: 3 | Train Loss: 0.22841 | Valid Loss: 0.27843 | Train Accs: 0.91830 | Valid Accs: 0.91088 | Time: 50.30 seconds\n",
      "Epoch: 4 | Train Loss: 0.22678 | Valid Loss: 0.25232 | Train Accs: 0.91563 | Valid Accs: 0.90914 | Time: 50.05 seconds\n",
      "Epoch: 5 | Train Loss: 0.19482 | Valid Loss: 0.24929 | Train Accs: 0.92991 | Valid Accs: 0.91956 | Time: 50.85 seconds\n",
      "Epoch: 6 | Train Loss: 0.22629 | Valid Loss: 0.27557 | Train Accs: 0.92098 | Valid Accs: 0.89815 | Time: 50.36 seconds\n",
      "Epoch: 7 | Train Loss: 0.16067 | Valid Loss: 0.20923 | Train Accs: 0.94688 | Valid Accs: 0.92477 | Time: 50.97 seconds\n",
      "Epoch: 8 | Train Loss: 0.13729 | Valid Loss: 0.23394 | Train Accs: 0.95268 | Valid Accs: 0.92477 | Time: 49.81 seconds\n",
      "Epoch: 9 | Train Loss: 0.13727 | Valid Loss: 0.24739 | Train Accs: 0.95045 | Valid Accs: 0.92014 | Time: 50.54 seconds\n",
      "Epoch: 10 | Train Loss: 0.09304 | Valid Loss: 0.25196 | Train Accs: 0.96562 | Valid Accs: 0.92824 | Time: 50.50 seconds\n",
      "Epoch: 11 | Train Loss: 0.09506 | Valid Loss: 0.25197 | Train Accs: 0.96696 | Valid Accs: 0.92014 | Time: 49.34 seconds\n",
      "Epoch: 12 | Train Loss: 0.07477 | Valid Loss: 0.22798 | Train Accs: 0.97500 | Valid Accs: 0.94502 | Time: 50.64 seconds\n",
      "\n",
      "Early Stopping at Epoch 13\n",
      "\n",
      "**************************************************\n",
      "\n",
      "Best Validation Loss at Epoch 7\n",
      "\n",
      "**************************************************\n",
      "\n",
      "Best Validation Accs at Epoch 12\n",
      "\n",
      "**************************************************\n",
      "\n",
      "Time Taken [13 Epochs] : 10.93 minutes\n",
      "\n",
      "**************************************************\n",
      "\n"
     ]
    },
    {
     "data": {
      "image/png": "[encoded data removed]",
      "text/plain": [
       "<Figure size 432x288 with 1 Axes>"
      ]
     },
     "metadata": {
      "needs_background": "light"
     },
     "output_type": "display_data"
    },
    {
     "name": "stdout",
     "output_type": "stream",
     "text": [
      "\n",
      "**************************************************\n",
      "\n"
     ]
    },
    {
     "data": {
      "image/png": "[encoded data removed]",
      "text/plain": [
       "<Figure size 432x288 with 1 Axes>"
      ]
     },
     "metadata": {
      "needs_background": "light"
     },
     "output_type": "display_data"
    },
    {
     "name": "stdout",
     "output_type": "stream",
     "text": [
      "\n",
      "**************************************************\n",
      "\n"
     ]
    },
    {
     "data": {
      "image/png": "[encoded data removed]",
      "text/plain": [
       "<Figure size 576x432 with 1 Axes>"
      ]
     },
     "metadata": {
      "needs_background": "light"
     },
     "output_type": "display_data"
    },
    {
     "name": "stdout",
     "output_type": "stream",
     "text": [
      "\n",
      "**************************************************\n",
      "\n"
     ]
    }
   ],
   "source": [
    "fold: int = 1\n",
    "BLEs: list = []\n",
    "BAEs: list = []\n",
    "model_name: str = \"efficientnet_b2\"\n",
    "\n",
    "    \n",
    "for tr_idx, va_idx in StratifiedKFold(n_splits=cfg.n_splits, random_state=cfg.seed, shuffle=True).split(filenames, labels):\n",
    "\n",
    "    tr_filenames, va_filenames       = filenames[tr_idx], filenames[va_idx] \n",
    "    tr_folder_names, va_folder_names = folder_names[tr_idx], folder_names[va_idx] \n",
    "    tr_labels, va_labels             = labels[tr_idx], labels[va_idx]\n",
    "    \n",
    "    tr_data_setup = DS(\n",
    "        base_path=\"../input/4-animal-classification/train\", \n",
    "        filenames=tr_filenames, \n",
    "        folder_names=tr_folder_names,\n",
    "        labels=tr_labels.reshape(-1, 1),\n",
    "        size=cfg.size,\n",
    "        transform=cfg.train_transform)\n",
    "    \n",
    "    va_data_setup = DS(\n",
    "        base_path=\"../input/4-animal-classification/train\", \n",
    "        filenames=va_filenames, \n",
    "        folder_names=va_folder_names,\n",
    "        labels=va_labels.reshape(-1, 1),\n",
    "        size=cfg.size,\n",
    "        transform=cfg.valid_transform)\n",
    "\n",
    "    dataloaders = {\n",
    "        \"train\" : DL(tr_data_setup, batch_size=cfg.batch_size, shuffle=True, generator=torch.manual_seed(cfg.seed)),\n",
    "        \"valid\" : DL(va_data_setup, batch_size=cfg.batch_size, shuffle=False),\n",
    "    }\n",
    "\n",
    "    cfg = CFG(\n",
    "        epochs=25, \n",
    "        batch_size=64, \n",
    "        early_stopping=5,\n",
    "        steps_per_epoch=len(dataloaders[\"train\"])\n",
    "    )\n",
    "    \n",
    "    torch.manual_seed(cfg.seed)\n",
    "    model = Model(model_name=model_name).to(cfg.device)\n",
    "\n",
    "    optimizer = optim.Adam([p for p in model.parameters() if p.requires_grad], lr=cfg.lr, weight_decay=cfg.wd)\n",
    "    # optimizer = optim.AdamW([p for p in model.parameters() if p.requires_grad], lr=cfg.lr, weight_decay=cfg.wd)\n",
    "    # optimizer = optim.SGD([p for p in model.parameters() if p.requires_grad], lr=cfg.lr, weight_decay=cfg.wd, momentum=0.9)\n",
    "    \n",
    "    scheduler_oclr = optim.lr_scheduler.OneCycleLR(\n",
    "        optimizer=optimizer, \n",
    "        max_lr=cfg.max_lr, \n",
    "        epochs=cfg.epochs, \n",
    "        steps_per_epoch=cfg.steps_per_epoch,\n",
    "        pct_start=cfg.pct_start, \n",
    "        div_factor=cfg.div_factor, \n",
    "        final_div_factor=cfg.final_div_factor\n",
    "    )\n",
    "\n",
    "    # scheduler_rlrop = optim.lr_scheduler.ReduceLROnPlateau(\n",
    "    #     optimizer=optimizer,\n",
    "    #     patience=cfg.patience,\n",
    "    #     eps=cfg.eps,\n",
    "    #     verbose=True\n",
    "    # )\n",
    "\n",
    "    # scheduler_oclr = None\n",
    "    scheduler_rlrop = None\n",
    "    \n",
    "    L, A, LR, BLE, BAE, _, _ = fit(\n",
    "        model=model, \n",
    "        model_name=model_name,\n",
    "        optimizer=optimizer, \n",
    "        scheduler_oclr=scheduler_oclr,\n",
    "        scheduler_rlrop=scheduler_rlrop,\n",
    "        epochs=cfg.epochs, \n",
    "        early_stopping_patience=cfg.early_stopping, \n",
    "        dataloaders=dataloaders, \n",
    "        device=cfg.device,\n",
    "        save_path=cfg.save_path,\n",
    "        fold=fold,\n",
    "        verbose=True\n",
    "    )\n",
    "    \n",
    "    breaker()\n",
    "    show_loss_graphs(L)\n",
    "    breaker()\n",
    "    show_accuracy_graphs(A)\n",
    "    breaker()\n",
    "    if scheduler_oclr:\n",
    "        show_lr_graph(LR)\n",
    "        breaker()\n",
    "    \n",
    "    BLEs.append(BLE)\n",
    "    BAEs.append(BAE)\n",
    "    \n",
    "    fold += 1"
   ]
  },
  {
   "cell_type": "markdown",
   "id": "7fdf3346",
   "metadata": {
    "papermill": {
     "duration": 0.011702,
     "end_time": "2022-08-30T13:16:58.145158",
     "exception": false,
     "start_time": "2022-08-30T13:16:58.133456",
     "status": "completed"
    },
    "tags": []
   },
   "source": [
    "### **Best Model**"
   ]
  },
  {
   "cell_type": "code",
   "execution_count": 10,
   "id": "8cd5463a",
   "metadata": {
    "execution": {
     "iopub.execute_input": "2022-08-30T13:16:58.170181Z",
     "iopub.status.busy": "2022-08-30T13:16:58.169845Z",
     "iopub.status.idle": "2022-08-30T13:16:58.175617Z",
     "shell.execute_reply": "2022-08-30T13:16:58.174695Z"
    },
    "papermill": {
     "duration": 0.021021,
     "end_time": "2022-08-30T13:16:58.177861",
     "exception": false,
     "start_time": "2022-08-30T13:16:58.156840",
     "status": "completed"
    },
    "tags": []
   },
   "outputs": [
    {
     "name": "stdout",
     "output_type": "stream",
     "text": [
      "\n",
      "**************************************************\n",
      "\n",
      "Best Loss Model Fold     : 2\n",
      "Best Accuracy Model Fold : 1\n",
      "\n",
      "**************************************************\n",
      "\n"
     ]
    }
   ],
   "source": [
    "best_loss_index = BLEs.index(min(BLEs))\n",
    "best_accs_index = BAEs.index(max(BAEs))\n",
    "\n",
    "breaker()\n",
    "print(f\"Best Loss Model Fold     : {best_loss_index + 1}\")\n",
    "print(f\"Best Accuracy Model Fold : {best_accs_index + 1}\")\n",
    "breaker()"
   ]
  }
 ],
 "metadata": {
  "kernelspec": {
   "display_name": "Python 3",
   "language": "python",
   "name": "python3"
  },
  "language_info": {
   "codemirror_mode": {
    "name": "ipython",
    "version": 3
   },
   "file_extension": ".py",
   "mimetype": "text/x-python",
   "name": "python",
   "nbconvert_exporter": "python",
   "pygments_lexer": "ipython3",
   "version": "3.7.12"
  },
  "papermill": {
   "default_parameters": {},
   "duration": 3958.222184,
   "end_time": "2022-08-30T13:17:00.356385",
   "environment_variables": {},
   "exception": null,
   "input_path": "__notebook__.ipynb",
   "output_path": "__notebook__.ipynb",
   "parameters": {},
   "start_time": "2022-08-30T12:11:02.134201",
   "version": "2.3.4"
  }
 },
 "nbformat": 4,
 "nbformat_minor": 5
}
