{
 "cells": [
  {
   "cell_type": "markdown",
   "id": "9127845e",
   "metadata": {
    "_cell_guid": "b1076dfc-b9ad-4769-8c92-a6c4dae69d19",
    "_uuid": "8f2839f25d086af736a60e9eeb907d3b93b6e0e5",
    "papermill": {
     "duration": 0.004546,
     "end_time": "2022-09-14T04:41:48.075908",
     "exception": false,
     "start_time": "2022-09-14T04:41:48.071362",
     "status": "completed"
    },
    "tags": []
   },
   "source": [
    "### **Setup**"
   ]
  },
  {
   "cell_type": "code",
   "execution_count": 1,
   "id": "a2d3895a",
   "metadata": {
    "execution": {
     "iopub.execute_input": "2022-09-14T04:41:48.085184Z",
     "iopub.status.busy": "2022-09-14T04:41:48.084634Z",
     "iopub.status.idle": "2022-09-14T04:41:58.981568Z",
     "shell.execute_reply": "2022-09-14T04:41:58.979759Z"
    },
    "papermill": {
     "duration": 10.905149,
     "end_time": "2022-09-14T04:41:58.984708",
     "exception": false,
     "start_time": "2022-09-14T04:41:48.079559",
     "status": "completed"
    },
    "tags": []
   },
   "outputs": [
    {
     "name": "stderr",
     "output_type": "stream",
     "text": [
      "WARNING: Running pip as the 'root' user can result in broken permissions and conflicting behaviour with the system package manager. It is recommended to use a virtual environment instead: https://pip.pypa.io/warnings/venv\n"
     ]
    }
   ],
   "source": [
    "%%bash\n",
    "pip install timm -q"
   ]
  },
  {
   "cell_type": "markdown",
   "id": "a4f9006a",
   "metadata": {
    "papermill": {
     "duration": 0.003539,
     "end_time": "2022-09-14T04:41:58.992510",
     "exception": false,
     "start_time": "2022-09-14T04:41:58.988971",
     "status": "completed"
    },
    "tags": []
   },
   "source": [
    "### **Library Imports**"
   ]
  },
  {
   "cell_type": "code",
   "execution_count": 2,
   "id": "5db29c41",
   "metadata": {
    "execution": {
     "iopub.execute_input": "2022-09-14T04:41:59.001422Z",
     "iopub.status.busy": "2022-09-14T04:41:59.001065Z",
     "iopub.status.idle": "2022-09-14T04:42:03.235181Z",
     "shell.execute_reply": "2022-09-14T04:42:03.233978Z"
    },
    "papermill": {
     "duration": 4.242082,
     "end_time": "2022-09-14T04:42:03.238180",
     "exception": false,
     "start_time": "2022-09-14T04:41:58.996098",
     "status": "completed"
    },
    "tags": []
   },
   "outputs": [],
   "source": [
    "import os\n",
    "import re\n",
    "import cv2\n",
    "import timm\n",
    "import torch\n",
    "import numpy as np\n",
    "import pandas as pd\n",
    "import matplotlib.pyplot as plt\n",
    "\n",
    "from time import time\n",
    "from torch import nn, optim\n",
    "from torch.utils.data import Dataset\n",
    "from torch.utils.data import DataLoader as DL\n",
    "from torchvision import models, transforms\n",
    "\n",
    "from sklearn.model_selection import StratifiedKFold\n",
    "from sklearn.preprocessing import LabelEncoder\n",
    "from sklearn.metrics import accuracy_score"
   ]
  },
  {
   "cell_type": "markdown",
   "id": "aabcae7c",
   "metadata": {
    "papermill": {
     "duration": 0.003952,
     "end_time": "2022-09-14T04:42:03.246081",
     "exception": false,
     "start_time": "2022-09-14T04:42:03.242129",
     "status": "completed"
    },
    "tags": []
   },
   "source": [
    "### **Utilities and Helpers**"
   ]
  },
  {
   "cell_type": "code",
   "execution_count": 3,
   "id": "9d93d3de",
   "metadata": {
    "execution": {
     "iopub.execute_input": "2022-09-14T04:42:03.256125Z",
     "iopub.status.busy": "2022-09-14T04:42:03.254576Z",
     "iopub.status.idle": "2022-09-14T04:42:03.268104Z",
     "shell.execute_reply": "2022-09-14T04:42:03.267183Z"
    },
    "papermill": {
     "duration": 0.020734,
     "end_time": "2022-09-14T04:42:03.270438",
     "exception": false,
     "start_time": "2022-09-14T04:42:03.249704",
     "status": "completed"
    },
    "tags": []
   },
   "outputs": [],
   "source": [
    "SEED = 42\n",
    "SIZE = 384\n",
    "le = LabelEncoder()\n",
    "\n",
    "\n",
    "def breaker(num: int=50, char: str=\"*\") -> None:\n",
    "    print(\"\\n\" + num*char + \"\\n\")\n",
    "\n",
    "    \n",
    "def get_image(path: str, size: int=224) -> np.ndarray:\n",
    "    image = cv2.imread(path, cv2.IMREAD_COLOR)\n",
    "    image = cv2.cvtColor(src=image, code=cv2.COLOR_BGR2RGB)\n",
    "    return cv2.resize(src=image, dsize=(size, size), interpolation=cv2.INTER_AREA)\n",
    "\n",
    "\n",
    "def show_loss_graphs(L: list) -> None:\n",
    "    TL, VL = [], []\n",
    "    for i in range(len(L)):\n",
    "        TL.append(L[i][\"train\"])\n",
    "        VL.append(L[i][\"valid\"])\n",
    "    x_Axis = np.arange(1, len(TL) + 1)\n",
    "    plt.figure()\n",
    "    plt.plot(x_Axis, TL, \"r\", label=\"Train\")\n",
    "    plt.plot(x_Axis, VL, \"b\", label=\"Valid\")\n",
    "    plt.legend()\n",
    "    plt.grid()\n",
    "    plt.title(\"Loss Graph\")\n",
    "    plt.show()\n",
    "\n",
    "    \n",
    "def show_accuracy_graphs(A: list) -> None:\n",
    "    TA, VA = [], []\n",
    "    for i in range(len(A)):\n",
    "        TA.append(A[i][\"train\"])\n",
    "        VA.append(A[i][\"valid\"])\n",
    "    x_Axis = np.arange(1, len(TA) + 1)\n",
    "    plt.figure()\n",
    "    plt.plot(x_Axis, TA, \"r\", label=\"Train\")\n",
    "    plt.plot(x_Axis, VA, \"b\", label=\"Valid\")\n",
    "    plt.legend()\n",
    "    plt.grid()\n",
    "    plt.title(\"Accuracy Graph\")\n",
    "    plt.show()\n",
    "    \n",
    "\n",
    "def show_lr_graph(LR: list) -> None:\n",
    "    x_Axis = [i+1 for i in range(len(LR))]\n",
    "    plt.figure(figsize=(8, 6))\n",
    "    plt.plot(x_Axis, LR, \"rx\")\n",
    "    plt.grid()\n",
    "    plt.show()"
   ]
  },
  {
   "cell_type": "markdown",
   "id": "52bc143f",
   "metadata": {
    "papermill": {
     "duration": 0.003541,
     "end_time": "2022-09-14T04:42:03.277614",
     "exception": false,
     "start_time": "2022-09-14T04:42:03.274073",
     "status": "completed"
    },
    "tags": []
   },
   "source": [
    "### **Configuration**"
   ]
  },
  {
   "cell_type": "code",
   "execution_count": 4,
   "id": "60f1228e",
   "metadata": {
    "execution": {
     "iopub.execute_input": "2022-09-14T04:42:03.287340Z",
     "iopub.status.busy": "2022-09-14T04:42:03.285878Z",
     "iopub.status.idle": "2022-09-14T04:42:03.356456Z",
     "shell.execute_reply": "2022-09-14T04:42:03.355569Z"
    },
    "papermill": {
     "duration": 0.077421,
     "end_time": "2022-09-14T04:42:03.358725",
     "exception": false,
     "start_time": "2022-09-14T04:42:03.281304",
     "status": "completed"
    },
    "tags": []
   },
   "outputs": [],
   "source": [
    "class CFG(object):\n",
    "    def __init__(self, \n",
    "                 seed: int = 42,\n",
    "                 size: int = 224,\n",
    "                 n_splits: int = 5,\n",
    "                 batch_size: int = 16,\n",
    "                 epochs: int = 25,\n",
    "                 early_stopping: int = 5,\n",
    "                 lr: float = 1e-4,\n",
    "                 wd: float = 0.0,\n",
    "                 max_lr: float = 1e-3,\n",
    "                 pct_start: float = 0.2,\n",
    "                 steps_per_epoch: int = 100,\n",
    "                 div_factor: int = 1e3, \n",
    "                 final_div_factor: float = 1e3,\n",
    "                 ):\n",
    "        self.seed = seed\n",
    "        self.size = size\n",
    "        self.n_splits = n_splits\n",
    "        self.batch_size = batch_size\n",
    "        self.epochs = epochs\n",
    "        self.early_stopping = early_stopping\n",
    "        self.lr = lr\n",
    "        self.wd = wd\n",
    "        self.max_lr = max_lr\n",
    "        self.pct_start = pct_start\n",
    "        self.steps_per_epoch = steps_per_epoch\n",
    "        self.div_factor = div_factor\n",
    "        self.final_div_factor = final_div_factor\n",
    "        self.device = torch.device(\"cuda\" if torch.cuda.is_available() else \"cpu\")\n",
    "        self.train_transform = transforms.Compose([\n",
    "            transforms.ToTensor(),\n",
    "            transforms.Normalize([0.48805, 0.46218, 0.38043], [0.21471, 0.21141, 0.21124]),\n",
    "            transforms.RandomAffine(degrees=(-45, 45), translate=(0.15, 0.15), scale=(0.5, 1.5)),\n",
    "            transforms.RandomHorizontalFlip(p=0.25),\n",
    "            transforms.RandomVerticalFlip(p=0.25),\n",
    "        ])\n",
    "        self.valid_transform = transforms.Compose([\n",
    "            transforms.ToTensor(),\n",
    "            transforms.Normalize([0.48805, 0.46218, 0.38043], [0.21471, 0.21141, 0.21124]),\n",
    "        ])\n",
    "                                \n",
    "        self.save_path = \"saves\"\n",
    "        if not os.path.exists(self.save_path): os.makedirs(self.save_path)\n",
    "    \n",
    "cfg = CFG(seed=SEED, size=SIZE)"
   ]
  },
  {
   "cell_type": "markdown",
   "id": "7aeb7329",
   "metadata": {
    "papermill": {
     "duration": 0.003626,
     "end_time": "2022-09-14T04:42:03.366244",
     "exception": false,
     "start_time": "2022-09-14T04:42:03.362618",
     "status": "completed"
    },
    "tags": []
   },
   "source": [
    "### **Dataset Template**"
   ]
  },
  {
   "cell_type": "code",
   "execution_count": 5,
   "id": "72bc33f1",
   "metadata": {
    "execution": {
     "iopub.execute_input": "2022-09-14T04:42:03.374817Z",
     "iopub.status.busy": "2022-09-14T04:42:03.374458Z",
     "iopub.status.idle": "2022-09-14T04:42:03.381372Z",
     "shell.execute_reply": "2022-09-14T04:42:03.380456Z"
    },
    "papermill": {
     "duration": 0.013541,
     "end_time": "2022-09-14T04:42:03.383478",
     "exception": false,
     "start_time": "2022-09-14T04:42:03.369937",
     "status": "completed"
    },
    "tags": []
   },
   "outputs": [],
   "source": [
    "class DS(Dataset):\n",
    "    def __init__(\n",
    "        self, \n",
    "        base_path: str,\n",
    "        filenames: np.ndarray, \n",
    "        folder_names: np.ndarray, \n",
    "        labels: np.ndarray, \n",
    "        size: int,\n",
    "        transform=None):\n",
    "        \n",
    "        self.base_path = base_path\n",
    "        self.filenames = filenames\n",
    "        self.folder_names = folder_names\n",
    "        self.labels = labels\n",
    "        self.size = size\n",
    "        self.transform = transform\n",
    "    \n",
    "    def __len__(self):\n",
    "        return self.filenames.shape[0]\n",
    "    \n",
    "    def __getitem__(self, idx):\n",
    "        path = os.path.join(os.path.join(self.base_path, self.folder_names[idx]), self.filenames[idx])\n",
    "        image = get_image(path, self.size)\n",
    "        return self.transform(image), self.labels[idx]"
   ]
  },
  {
   "cell_type": "markdown",
   "id": "363df0ab",
   "metadata": {
    "papermill": {
     "duration": 0.003658,
     "end_time": "2022-09-14T04:42:03.390878",
     "exception": false,
     "start_time": "2022-09-14T04:42:03.387220",
     "status": "completed"
    },
    "tags": []
   },
   "source": [
    "### **Model**"
   ]
  },
  {
   "cell_type": "code",
   "execution_count": 6,
   "id": "4c9faff2",
   "metadata": {
    "execution": {
     "iopub.execute_input": "2022-09-14T04:42:03.399503Z",
     "iopub.status.busy": "2022-09-14T04:42:03.399230Z",
     "iopub.status.idle": "2022-09-14T04:42:03.405582Z",
     "shell.execute_reply": "2022-09-14T04:42:03.404541Z"
    },
    "papermill": {
     "duration": 0.013376,
     "end_time": "2022-09-14T04:42:03.407943",
     "exception": false,
     "start_time": "2022-09-14T04:42:03.394567",
     "status": "completed"
    },
    "tags": []
   },
   "outputs": [],
   "source": [
    "class Model(nn.Module):\n",
    "    def __init__(self, model_name: str=\"efficientnet_b4\"):\n",
    "        super(Model, self).__init__()\n",
    "            \n",
    "        self.model = timm.create_model(model_name=model_name, pretrained=True)\n",
    "        self.model.classifier = nn.Linear(in_features=self.model.classifier.in_features, out_features=11)\n",
    "            \n",
    "    def freeze(self):\n",
    "        for params in self.parameters(): params.requires_grad = False\n",
    "\n",
    "    def forward(self, x):\n",
    "        return nn.LogSoftmax(dim=1)(self.model(x))"
   ]
  },
  {
   "cell_type": "markdown",
   "id": "f0011f8f",
   "metadata": {
    "papermill": {
     "duration": 0.003564,
     "end_time": "2022-09-14T04:42:03.415337",
     "exception": false,
     "start_time": "2022-09-14T04:42:03.411773",
     "status": "completed"
    },
    "tags": []
   },
   "source": [
    "### **Fit and Predict**"
   ]
  },
  {
   "cell_type": "code",
   "execution_count": 7,
   "id": "45bd42a3",
   "metadata": {
    "execution": {
     "iopub.execute_input": "2022-09-14T04:42:03.425344Z",
     "iopub.status.busy": "2022-09-14T04:42:03.425007Z",
     "iopub.status.idle": "2022-09-14T04:42:03.449879Z",
     "shell.execute_reply": "2022-09-14T04:42:03.448828Z"
    },
    "papermill": {
     "duration": 0.032953,
     "end_time": "2022-09-14T04:42:03.452077",
     "exception": false,
     "start_time": "2022-09-14T04:42:03.419124",
     "status": "completed"
    },
    "tags": []
   },
   "outputs": [],
   "source": [
    "def fit(model=None,\n",
    "        model_name=None,\n",
    "        optimizer=None, \n",
    "        scheduler_rlrop=None,\n",
    "        scheduler_oclr=None,\n",
    "        epochs=None, \n",
    "        early_stopping_patience=None, \n",
    "        dataloaders=None, \n",
    "        fold=None, \n",
    "        save_path=None,\n",
    "        device=None,\n",
    "        verbose=False) -> tuple:\n",
    "    \n",
    "    def get_accuracy(y_pred, y_true):\n",
    "        y_pred = torch.argmax(y_pred, dim=1)\n",
    "        return torch.count_nonzero(y_pred == y_true).item() / len(y_pred)\n",
    "    \n",
    "    \n",
    "    if verbose:\n",
    "        breaker()\n",
    "        print(f\" ----- {model_name.upper()} -----\")\n",
    "        breaker()\n",
    "        if fold: print(f\"Training Fold {fold}...\")\n",
    "        else: print(\"Training ...\")\n",
    "        breaker()\n",
    "        \n",
    "    bestLoss: dict = {\"train\" : np.inf, \"valid\" : np.inf} \n",
    "    bestAccs: dict = {\"train\" : 0.0, \"valid\" : 0.0}\n",
    "        \n",
    "    Losses: list = []\n",
    "    Accuracies: list = [] \n",
    "    LRs: list = []\n",
    "        \n",
    "    if fold: \n",
    "        ble_name = f\"{model_name}_ble_state_fold_{fold}.pt\"\n",
    "        bae_name = f\"{model_name}_bae_state_fold_{fold}.pt\"\n",
    "    else: \n",
    "        ble_name = f\"{model_name}_ble_state.pt\"\n",
    "        bae_name = f\"{model_name}_bae_state.pt\"\n",
    "    \n",
    "    start_time = time()\n",
    "    for e in range(epochs):\n",
    "        e_st = time()\n",
    "        epochLoss: dict = {\"train\" : 0.0, \"valid\" : 0.0} \n",
    "        epochAccs: dict = {\"train\" : 0.0, \"valid\" : 0.0}\n",
    "\n",
    "        for phase in [\"train\", \"valid\"]:\n",
    "            if phase == \"train\":\n",
    "                model.train()\n",
    "            else:\n",
    "                model.eval()\n",
    "            \n",
    "            lossPerPass: list = []\n",
    "            accsPerPass: list = []\n",
    "                \n",
    "            for X, y in dataloaders[phase]:\n",
    "                X, y = X.to(device), y.to(device).view(-1)\n",
    "\n",
    "                optimizer.zero_grad()\n",
    "                with torch.set_grad_enabled(phase == \"train\"):\n",
    "                    output = model(X)\n",
    "                    loss = torch.nn.NLLLoss()(output, y)\n",
    "                    if phase == \"train\":\n",
    "                        loss.backward()\n",
    "                        optimizer.step()\n",
    "                        if scheduler_oclr: scheduler_oclr.step()\n",
    "                lossPerPass.append(loss.item())\n",
    "                accsPerPass.append(get_accuracy(output, y))\n",
    "            epochLoss[phase] = np.mean(np.array(lossPerPass))\n",
    "            epochAccs[phase] = np.mean(np.array(accsPerPass))\n",
    "        if scheduler_oclr: LRs.append(scheduler_oclr.get_last_lr())\n",
    "        Losses.append(epochLoss)\n",
    "        Accuracies.append(epochAccs)\n",
    "    \n",
    "        if scheduler_oclr:\n",
    "            save_dict = {\"model_state_dict\"     : model.state_dict(),\n",
    "                         \"optim_state_dict\"     : optimizer.state_dict(),\n",
    "                         \"scheduler_state_dict\" : scheduler_oclr.state_dict()}\n",
    "        \n",
    "        elif scheduler_rlrop:\n",
    "            save_dict = {\"model_state_dict\"     : model.state_dict(),\n",
    "                         \"optim_state_dict\"     : optimizer.state_dict(),\n",
    "                         \"scheduler_state_dict\" : scheduler_rlrop.state_dict()}\n",
    "        \n",
    "        else:\n",
    "            save_dict = {\"model_state_dict\"     : model.state_dict(),\n",
    "                         \"optim_state_dict\"     : optimizer.state_dict()}\n",
    "        \n",
    "        \n",
    "        if early_stopping_patience:\n",
    "            if epochLoss[\"valid\"] < bestLoss[\"valid\"]:\n",
    "                bestLoss = epochLoss\n",
    "                BLE = e + 1\n",
    "                torch.save(save_dict, os.path.join(save_path, ble_name))\n",
    "                torch.save(save_dict, os.path.join(save_path, bae_name))\n",
    "                early_stopping_step = 0\n",
    "            else:\n",
    "                early_stopping_step += 1\n",
    "                if early_stopping_step > early_stopping_patience:\n",
    "                    print(\"\\nEarly Stopping at Epoch {}\".format(e + 1))\n",
    "                    break\n",
    "        \n",
    "        if epochLoss[\"valid\"] < bestLoss[\"valid\"]:\n",
    "            bestLoss = epochLoss\n",
    "            BLE = e + 1\n",
    "            torch.save(save_dict,os.path.join(save_path, ble_name))\n",
    "        \n",
    "        if epochAccs[\"valid\"] > bestAccs[\"valid\"]:\n",
    "            bestAccs = epochAccs\n",
    "            BAE = e + 1\n",
    "            torch.save(save_dict,os.path.join(save_path, bae_name))\n",
    "        \n",
    "        if scheduler_rlrop: scheduler_rlrop.step(epochLoss[\"valid\"])\n",
    "        \n",
    "        if verbose:\n",
    "            print(\"Epoch: {} | Train Loss: {:.5f} | Valid Loss: {:.5f} |\\\n",
    " Train Accs: {:.5f} | Valid Accs: {:.5f} | Time: {:.2f} seconds\".format(e+1, \n",
    "                                                                        epochLoss[\"train\"], epochLoss[\"valid\"], \n",
    "                                                                        epochAccs[\"train\"], epochAccs[\"valid\"], \n",
    "                                                                        time()-e_st))\n",
    "\n",
    "    if verbose:                                           \n",
    "        breaker()\n",
    "        print(f\"Best Validation Loss at Epoch {BLE}\")\n",
    "        breaker()\n",
    "        print(f\"Best Validation Accs at Epoch {BAE}\")\n",
    "        breaker()\n",
    "        print(\"Time Taken [{} Epochs] : {:.2f} minutes\".format(len(Losses), (time()-start_time)/60))\n",
    "    \n",
    "    return Losses, Accuracies, LRs, BLE, BAE, ble_name, bae_name\n",
    "\n",
    "\n",
    "def predict_batch(model=None, dataloader=None, path=None, device=None) -> np.ndarray:\n",
    "    model.load_state_dict(torch.load(path, map_location=device)[\"model_state_dict\"])\n",
    "    model.to(device)    \n",
    "    model.eval()\n",
    "    \n",
    "    y_pred = torch.zeros(1, 1).to(device)\n",
    "    \n",
    "    for X in dataloader:\n",
    "        X = X.to(device)\n",
    "        with torch.no_grad():\n",
    "            output = torch.argmax(torch.exp(model(X)), dim=1)\n",
    "        y_pred = torch.cat((y_pred, output.view(-1, 1)), dim=0)\n",
    "    \n",
    "    return y_pred[1:].detach().cpu().numpy()"
   ]
  },
  {
   "cell_type": "markdown",
   "id": "2c19b655",
   "metadata": {
    "papermill": {
     "duration": 0.003899,
     "end_time": "2022-09-14T04:42:03.460495",
     "exception": false,
     "start_time": "2022-09-14T04:42:03.456596",
     "status": "completed"
    },
    "tags": []
   },
   "source": [
    "### **Train**"
   ]
  },
  {
   "cell_type": "code",
   "execution_count": 8,
   "id": "0c7157d9",
   "metadata": {
    "execution": {
     "iopub.execute_input": "2022-09-14T04:42:03.470076Z",
     "iopub.status.busy": "2022-09-14T04:42:03.469351Z",
     "iopub.status.idle": "2022-09-14T04:42:03.495711Z",
     "shell.execute_reply": "2022-09-14T04:42:03.494866Z"
    },
    "papermill": {
     "duration": 0.033768,
     "end_time": "2022-09-14T04:42:03.498087",
     "exception": false,
     "start_time": "2022-09-14T04:42:03.464319",
     "status": "completed"
    },
    "tags": []
   },
   "outputs": [],
   "source": [
    "df = pd.read_csv(\"../input/4ac-dataframe/data.csv\")\n",
    "\n",
    "filenames = df.filenames.copy().values\n",
    "folder_names = df.folder_names.copy().values\n",
    "labels = df.classes.copy().values"
   ]
  },
  {
   "cell_type": "code",
   "execution_count": 9,
   "id": "22d06fd1",
   "metadata": {
    "execution": {
     "iopub.execute_input": "2022-09-14T04:42:03.508000Z",
     "iopub.status.busy": "2022-09-14T04:42:03.507444Z",
     "iopub.status.idle": "2022-09-14T07:12:44.471441Z",
     "shell.execute_reply": "2022-09-14T07:12:44.469997Z"
    },
    "papermill": {
     "duration": 9040.971379,
     "end_time": "2022-09-14T07:12:44.473585",
     "exception": false,
     "start_time": "2022-09-14T04:42:03.502206",
     "status": "completed"
    },
    "tags": []
   },
   "outputs": [
    {
     "name": "stderr",
     "output_type": "stream",
     "text": [
      "Downloading: \"https://github.com/rwightman/pytorch-image-models/releases/download/v0.1-weights/efficientnet_b4_ra2_320-7eb33cd5.pth\" to /root/.cache/torch/hub/checkpoints/efficientnet_b4_ra2_320-7eb33cd5.pth\n"
     ]
    },
    {
     "name": "stdout",
     "output_type": "stream",
     "text": [
      "\n",
      "**************************************************\n",
      "\n",
      " ----- EFFICIENTNET_B4 -----\n",
      "\n",
      "**************************************************\n",
      "\n",
      "Training Fold 1...\n",
      "\n",
      "**************************************************\n",
      "\n",
      "Epoch: 1 | Train Loss: 2.39300 | Valid Loss: 2.34411 | Train Accs: 0.10714 | Valid Accs: 0.35179 | Time: 152.30 seconds\n",
      "Epoch: 2 | Train Loss: 2.22880 | Valid Loss: 2.06139 | Train Accs: 0.55804 | Valid Accs: 0.72500 | Time: 119.93 seconds\n",
      "Epoch: 3 | Train Loss: 1.86400 | Valid Loss: 1.62157 | Train Accs: 0.67500 | Valid Accs: 0.70536 | Time: 118.84 seconds\n",
      "Epoch: 4 | Train Loss: 1.45077 | Valid Loss: 1.24313 | Train Accs: 0.69107 | Valid Accs: 0.74286 | Time: 119.37 seconds\n",
      "Epoch: 5 | Train Loss: 1.14563 | Valid Loss: 0.97804 | Train Accs: 0.78214 | Valid Accs: 0.89286 | Time: 119.32 seconds\n",
      "Epoch: 6 | Train Loss: 0.94540 | Valid Loss: 0.79547 | Train Accs: 0.84375 | Valid Accs: 0.95000 | Time: 119.09 seconds\n",
      "Epoch: 7 | Train Loss: 0.80301 | Valid Loss: 0.64651 | Train Accs: 0.86384 | Valid Accs: 0.95714 | Time: 118.98 seconds\n",
      "Epoch: 8 | Train Loss: 0.69636 | Valid Loss: 0.54595 | Train Accs: 0.87813 | Valid Accs: 0.97321 | Time: 119.59 seconds\n",
      "Epoch: 9 | Train Loss: 0.60650 | Valid Loss: 0.46565 | Train Accs: 0.89420 | Valid Accs: 0.97143 | Time: 119.47 seconds\n",
      "Epoch: 10 | Train Loss: 0.53998 | Valid Loss: 0.39887 | Train Accs: 0.89643 | Valid Accs: 0.97500 | Time: 120.06 seconds\n",
      "Epoch: 11 | Train Loss: 0.49160 | Valid Loss: 0.34861 | Train Accs: 0.89554 | Valid Accs: 0.96786 | Time: 119.53 seconds\n",
      "Epoch: 12 | Train Loss: 0.43715 | Valid Loss: 0.30643 | Train Accs: 0.90804 | Valid Accs: 0.97857 | Time: 119.99 seconds\n",
      "Epoch: 13 | Train Loss: 0.40250 | Valid Loss: 0.26428 | Train Accs: 0.91473 | Valid Accs: 0.98036 | Time: 120.77 seconds\n",
      "Epoch: 14 | Train Loss: 0.37769 | Valid Loss: 0.23713 | Train Accs: 0.92009 | Valid Accs: 0.98036 | Time: 120.96 seconds\n",
      "Epoch: 15 | Train Loss: 0.38390 | Valid Loss: 0.22091 | Train Accs: 0.90312 | Valid Accs: 0.98036 | Time: 120.84 seconds\n",
      "Epoch: 16 | Train Loss: 0.33899 | Valid Loss: 0.20593 | Train Accs: 0.91830 | Valid Accs: 0.98214 | Time: 120.52 seconds\n",
      "Epoch: 17 | Train Loss: 0.34459 | Valid Loss: 0.19632 | Train Accs: 0.90536 | Valid Accs: 0.98036 | Time: 119.65 seconds\n",
      "Epoch: 18 | Train Loss: 0.30690 | Valid Loss: 0.18059 | Train Accs: 0.92545 | Valid Accs: 0.98571 | Time: 120.07 seconds\n",
      "Epoch: 19 | Train Loss: 0.29380 | Valid Loss: 0.17073 | Train Accs: 0.92991 | Valid Accs: 0.98393 | Time: 119.37 seconds\n",
      "Epoch: 20 | Train Loss: 0.29528 | Valid Loss: 0.16698 | Train Accs: 0.92634 | Valid Accs: 0.98571 | Time: 120.23 seconds\n",
      "Epoch: 21 | Train Loss: 0.29228 | Valid Loss: 0.15997 | Train Accs: 0.92902 | Valid Accs: 0.98571 | Time: 119.14 seconds\n",
      "Epoch: 22 | Train Loss: 0.29166 | Valid Loss: 0.16175 | Train Accs: 0.93036 | Valid Accs: 0.98393 | Time: 118.12 seconds\n",
      "Epoch: 23 | Train Loss: 0.29093 | Valid Loss: 0.16147 | Train Accs: 0.92812 | Valid Accs: 0.98393 | Time: 117.83 seconds\n",
      "Epoch: 24 | Train Loss: 0.27904 | Valid Loss: 0.15269 | Train Accs: 0.93125 | Valid Accs: 0.98571 | Time: 119.28 seconds\n",
      "Epoch: 25 | Train Loss: 0.29911 | Valid Loss: 0.16249 | Train Accs: 0.91830 | Valid Accs: 0.98571 | Time: 116.66 seconds\n",
      "\n",
      "**************************************************\n",
      "\n",
      "Best Validation Loss at Epoch 24\n",
      "\n",
      "**************************************************\n",
      "\n",
      "Best Validation Accs at Epoch 18\n",
      "\n",
      "**************************************************\n",
      "\n",
      "Time Taken [25 Epochs] : 50.33 minutes\n",
      "\n",
      "**************************************************\n",
      "\n"
     ]
    },
    {
     "data": {
      "image/png": "[encoded data removed]",
      "text/plain": [
       "<Figure size 432x288 with 1 Axes>"
      ]
     },
     "metadata": {
      "needs_background": "light"
     },
     "output_type": "display_data"
    },
    {
     "name": "stdout",
     "output_type": "stream",
     "text": [
      "\n",
      "**************************************************\n",
      "\n"
     ]
    },
    {
     "data": {
      "image/png": "[encoded data removed]",
      "text/plain": [
       "<Figure size 432x288 with 1 Axes>"
      ]
     },
     "metadata": {
      "needs_background": "light"
     },
     "output_type": "display_data"
    },
    {
     "name": "stdout",
     "output_type": "stream",
     "text": [
      "\n",
      "**************************************************\n",
      "\n"
     ]
    },
    {
     "data": {
      "image/png": "[encoded data removed]",
      "text/plain": [
       "<Figure size 576x432 with 1 Axes>"
      ]
     },
     "metadata": {
      "needs_background": "light"
     },
     "output_type": "display_data"
    },
    {
     "name": "stdout",
     "output_type": "stream",
     "text": [
      "\n",
      "**************************************************\n",
      "\n",
      "\n",
      "**************************************************\n",
      "\n",
      " ----- EFFICIENTNET_B4 -----\n",
      "\n",
      "**************************************************\n",
      "\n",
      "Training Fold 2...\n",
      "\n",
      "**************************************************\n",
      "\n",
      "Epoch: 1 | Train Loss: 2.39643 | Valid Loss: 2.38126 | Train Accs: 0.07768 | Valid Accs: 0.11863 | Time: 59.95 seconds\n",
      "Epoch: 2 | Train Loss: 2.35732 | Valid Loss: 2.29969 | Train Accs: 0.19196 | Valid Accs: 0.38137 | Time: 60.10 seconds\n",
      "Epoch: 3 | Train Loss: 2.25354 | Valid Loss: 2.15842 | Train Accs: 0.47366 | Valid Accs: 0.69618 | Time: 60.04 seconds\n",
      "Epoch: 4 | Train Loss: 2.10773 | Valid Loss: 1.99621 | Train Accs: 0.65402 | Valid Accs: 0.78241 | Time: 59.93 seconds\n",
      "Epoch: 5 | Train Loss: 1.94655 | Valid Loss: 1.82231 | Train Accs: 0.67902 | Valid Accs: 0.80671 | Time: 60.25 seconds\n",
      "Epoch: 6 | Train Loss: 1.78234 | Valid Loss: 1.64145 | Train Accs: 0.69018 | Valid Accs: 0.78762 | Time: 59.65 seconds\n",
      "Epoch: 7 | Train Loss: 1.61571 | Valid Loss: 1.46401 | Train Accs: 0.65670 | Valid Accs: 0.76620 | Time: 59.66 seconds\n",
      "Epoch: 8 | Train Loss: 1.46750 | Valid Loss: 1.32029 | Train Accs: 0.63973 | Valid Accs: 0.77083 | Time: 59.54 seconds\n",
      "Epoch: 9 | Train Loss: 1.33218 | Valid Loss: 1.19532 | Train Accs: 0.65312 | Valid Accs: 0.79398 | Time: 59.64 seconds\n",
      "Epoch: 10 | Train Loss: 1.23783 | Valid Loss: 1.09898 | Train Accs: 0.67232 | Valid Accs: 0.83565 | Time: 59.76 seconds\n",
      "Epoch: 11 | Train Loss: 1.16095 | Valid Loss: 1.01294 | Train Accs: 0.69152 | Valid Accs: 0.86516 | Time: 60.34 seconds\n",
      "Epoch: 12 | Train Loss: 1.08453 | Valid Loss: 0.94505 | Train Accs: 0.72188 | Valid Accs: 0.88137 | Time: 60.43 seconds\n",
      "Epoch: 13 | Train Loss: 1.03138 | Valid Loss: 0.88571 | Train Accs: 0.74062 | Valid Accs: 0.89699 | Time: 60.56 seconds\n",
      "Epoch: 14 | Train Loss: 0.99133 | Valid Loss: 0.84147 | Train Accs: 0.77411 | Valid Accs: 0.90451 | Time: 59.96 seconds\n",
      "Epoch: 15 | Train Loss: 0.96155 | Valid Loss: 0.80608 | Train Accs: 0.76920 | Valid Accs: 0.91146 | Time: 60.18 seconds\n",
      "Epoch: 16 | Train Loss: 0.92141 | Valid Loss: 0.76702 | Train Accs: 0.78125 | Valid Accs: 0.91493 | Time: 60.15 seconds\n",
      "Epoch: 17 | Train Loss: 0.89963 | Valid Loss: 0.74211 | Train Accs: 0.79018 | Valid Accs: 0.90799 | Time: 59.58 seconds\n",
      "Epoch: 18 | Train Loss: 0.87197 | Valid Loss: 0.71963 | Train Accs: 0.79688 | Valid Accs: 0.91319 | Time: 59.64 seconds\n",
      "Epoch: 19 | Train Loss: 0.85215 | Valid Loss: 0.69694 | Train Accs: 0.80670 | Valid Accs: 0.91551 | Time: 60.05 seconds\n",
      "Epoch: 20 | Train Loss: 0.83530 | Valid Loss: 0.68648 | Train Accs: 0.80893 | Valid Accs: 0.92014 | Time: 60.44 seconds\n",
      "Epoch: 21 | Train Loss: 0.83189 | Valid Loss: 0.67516 | Train Accs: 0.80536 | Valid Accs: 0.91667 | Time: 59.31 seconds\n",
      "Epoch: 22 | Train Loss: 0.82711 | Valid Loss: 0.66493 | Train Accs: 0.81250 | Valid Accs: 0.91840 | Time: 59.52 seconds\n",
      "Epoch: 23 | Train Loss: 0.82130 | Valid Loss: 0.66614 | Train Accs: 0.80357 | Valid Accs: 0.91493 | Time: 59.35 seconds\n",
      "Epoch: 24 | Train Loss: 0.82011 | Valid Loss: 0.66421 | Train Accs: 0.80714 | Valid Accs: 0.91898 | Time: 59.32 seconds\n",
      "Epoch: 25 | Train Loss: 0.81179 | Valid Loss: 0.65970 | Train Accs: 0.80625 | Valid Accs: 0.91840 | Time: 60.29 seconds\n",
      "\n",
      "**************************************************\n",
      "\n",
      "Best Validation Loss at Epoch 25\n",
      "\n",
      "**************************************************\n",
      "\n",
      "Best Validation Accs at Epoch 20\n",
      "\n",
      "**************************************************\n",
      "\n",
      "Time Taken [25 Epochs] : 24.96 minutes\n",
      "\n",
      "**************************************************\n",
      "\n"
     ]
    },
    {
     "data": {
      "image/png": "[encoded data removed]",
      "text/plain": [
       "<Figure size 432x288 with 1 Axes>"
      ]
     },
     "metadata": {
      "needs_background": "light"
     },
     "output_type": "display_data"
    },
    {
     "name": "stdout",
     "output_type": "stream",
     "text": [
      "\n",
      "**************************************************\n",
      "\n"
     ]
    },
    {
     "data": {
      "image/png": "[encoded data removed]",
      "text/plain": [
       "<Figure size 432x288 with 1 Axes>"
      ]
     },
     "metadata": {
      "needs_background": "light"
     },
     "output_type": "display_data"
    },
    {
     "name": "stdout",
     "output_type": "stream",
     "text": [
      "\n",
      "**************************************************\n",
      "\n"
     ]
    },
    {
     "data": {
      "image/png": "[encoded data removed]",
      "text/plain": [
       "<Figure size 576x432 with 1 Axes>"
      ]
     },
     "metadata": {
      "needs_background": "light"
     },
     "output_type": "display_data"
    },
    {
     "name": "stdout",
     "output_type": "stream",
     "text": [
      "\n",
      "**************************************************\n",
      "\n",
      "\n",
      "**************************************************\n",
      "\n",
      " ----- EFFICIENTNET_B4 -----\n",
      "\n",
      "**************************************************\n",
      "\n",
      "Training Fold 3...\n",
      "\n",
      "**************************************************\n",
      "\n",
      "Epoch: 1 | Train Loss: 2.39492 | Valid Loss: 2.38373 | Train Accs: 0.08527 | Valid Accs: 0.11400 | Time: 60.45 seconds\n",
      "Epoch: 2 | Train Loss: 2.35671 | Valid Loss: 2.30376 | Train Accs: 0.18571 | Valid Accs: 0.36458 | Time: 60.35 seconds\n",
      "Epoch: 3 | Train Loss: 2.25261 | Valid Loss: 2.16716 | Train Accs: 0.49152 | Valid Accs: 0.69618 | Time: 60.13 seconds\n",
      "Epoch: 4 | Train Loss: 2.10956 | Valid Loss: 2.00540 | Train Accs: 0.64509 | Valid Accs: 0.79109 | Time: 60.14 seconds\n",
      "Epoch: 5 | Train Loss: 1.94785 | Valid Loss: 1.83132 | Train Accs: 0.68259 | Valid Accs: 0.80208 | Time: 60.03 seconds\n",
      "Epoch: 6 | Train Loss: 1.78483 | Valid Loss: 1.65559 | Train Accs: 0.67857 | Valid Accs: 0.78125 | Time: 59.59 seconds\n",
      "Epoch: 7 | Train Loss: 1.61224 | Valid Loss: 1.48023 | Train Accs: 0.66071 | Valid Accs: 0.77431 | Time: 59.67 seconds\n",
      "Epoch: 8 | Train Loss: 1.46746 | Valid Loss: 1.32732 | Train Accs: 0.62946 | Valid Accs: 0.77604 | Time: 59.65 seconds\n",
      "Epoch: 9 | Train Loss: 1.33652 | Valid Loss: 1.20641 | Train Accs: 0.65759 | Valid Accs: 0.79630 | Time: 59.46 seconds\n",
      "Epoch: 10 | Train Loss: 1.23909 | Valid Loss: 1.10894 | Train Accs: 0.66875 | Valid Accs: 0.81539 | Time: 59.83 seconds\n",
      "Epoch: 11 | Train Loss: 1.16609 | Valid Loss: 1.02721 | Train Accs: 0.69107 | Valid Accs: 0.86285 | Time: 60.28 seconds\n",
      "Epoch: 12 | Train Loss: 1.08665 | Valid Loss: 0.95680 | Train Accs: 0.72232 | Valid Accs: 0.87442 | Time: 60.17 seconds\n",
      "Epoch: 13 | Train Loss: 1.04426 | Valid Loss: 0.89737 | Train Accs: 0.73661 | Valid Accs: 0.89410 | Time: 60.05 seconds\n",
      "Epoch: 14 | Train Loss: 0.99201 | Valid Loss: 0.85747 | Train Accs: 0.76295 | Valid Accs: 0.90336 | Time: 60.02 seconds\n",
      "Epoch: 15 | Train Loss: 0.95517 | Valid Loss: 0.81726 | Train Accs: 0.77500 | Valid Accs: 0.90856 | Time: 60.52 seconds\n",
      "Epoch: 16 | Train Loss: 0.91955 | Valid Loss: 0.77541 | Train Accs: 0.78661 | Valid Accs: 0.91782 | Time: 60.03 seconds\n",
      "Epoch: 17 | Train Loss: 0.90445 | Valid Loss: 0.74950 | Train Accs: 0.77589 | Valid Accs: 0.91956 | Time: 60.07 seconds\n",
      "Epoch: 18 | Train Loss: 0.87099 | Valid Loss: 0.72819 | Train Accs: 0.80134 | Valid Accs: 0.91956 | Time: 60.36 seconds\n",
      "Epoch: 19 | Train Loss: 0.84987 | Valid Loss: 0.70436 | Train Accs: 0.80625 | Valid Accs: 0.91956 | Time: 60.21 seconds\n",
      "Epoch: 20 | Train Loss: 0.84765 | Valid Loss: 0.69148 | Train Accs: 0.79955 | Valid Accs: 0.92303 | Time: 61.50 seconds\n",
      "Epoch: 21 | Train Loss: 0.83630 | Valid Loss: 0.68346 | Train Accs: 0.79643 | Valid Accs: 0.92766 | Time: 61.52 seconds\n",
      "Epoch: 22 | Train Loss: 0.81815 | Valid Loss: 0.67125 | Train Accs: 0.82188 | Valid Accs: 0.92593 | Time: 59.54 seconds\n",
      "Epoch: 23 | Train Loss: 0.82281 | Valid Loss: 0.67229 | Train Accs: 0.81161 | Valid Accs: 0.92361 | Time: 58.65 seconds\n",
      "Epoch: 24 | Train Loss: 0.81710 | Valid Loss: 0.67018 | Train Accs: 0.81071 | Valid Accs: 0.92303 | Time: 59.11 seconds\n",
      "Epoch: 25 | Train Loss: 0.81498 | Valid Loss: 0.66602 | Train Accs: 0.81384 | Valid Accs: 0.92535 | Time: 59.28 seconds\n",
      "\n",
      "**************************************************\n",
      "\n",
      "Best Validation Loss at Epoch 25\n",
      "\n",
      "**************************************************\n",
      "\n",
      "Best Validation Accs at Epoch 21\n",
      "\n",
      "**************************************************\n",
      "\n",
      "Time Taken [25 Epochs] : 25.01 minutes\n",
      "\n",
      "**************************************************\n",
      "\n"
     ]
    },
    {
     "data": {
      "image/png": "[encoded data removed]",
      "text/plain": [
       "<Figure size 432x288 with 1 Axes>"
      ]
     },
     "metadata": {
      "needs_background": "light"
     },
     "output_type": "display_data"
    },
    {
     "name": "stdout",
     "output_type": "stream",
     "text": [
      "\n",
      "**************************************************\n",
      "\n"
     ]
    },
    {
     "data": {
      "image/png": "[encoded data removed]",
      "text/plain": [
       "<Figure size 432x288 with 1 Axes>"
      ]
     },
     "metadata": {
      "needs_background": "light"
     },
     "output_type": "display_data"
    },
    {
     "name": "stdout",
     "output_type": "stream",
     "text": [
      "\n",
      "**************************************************\n",
      "\n"
     ]
    },
    {
     "data": {
      "image/png": "[encoded data removed]",
      "text/plain": [
       "<Figure size 576x432 with 1 Axes>"
      ]
     },
     "metadata": {
      "needs_background": "light"
     },
     "output_type": "display_data"
    },
    {
     "name": "stdout",
     "output_type": "stream",
     "text": [
      "\n",
      "**************************************************\n",
      "\n",
      "\n",
      "**************************************************\n",
      "\n",
      " ----- EFFICIENTNET_B4 -----\n",
      "\n",
      "**************************************************\n",
      "\n",
      "Training Fold 4...\n",
      "\n",
      "**************************************************\n",
      "\n",
      "Epoch: 1 | Train Loss: 2.39632 | Valid Loss: 2.38205 | Train Accs: 0.08795 | Valid Accs: 0.11632 | Time: 59.66 seconds\n",
      "Epoch: 2 | Train Loss: 2.35735 | Valid Loss: 2.30234 | Train Accs: 0.19196 | Valid Accs: 0.40856 | Time: 59.75 seconds\n",
      "Epoch: 3 | Train Loss: 2.25668 | Valid Loss: 2.16752 | Train Accs: 0.47366 | Valid Accs: 0.72338 | Time: 59.88 seconds\n",
      "Epoch: 4 | Train Loss: 2.11320 | Valid Loss: 2.00305 | Train Accs: 0.65089 | Valid Accs: 0.81134 | Time: 60.38 seconds\n",
      "Epoch: 5 | Train Loss: 1.95249 | Valid Loss: 1.82911 | Train Accs: 0.67098 | Valid Accs: 0.82350 | Time: 60.80 seconds\n",
      "Epoch: 6 | Train Loss: 1.78624 | Valid Loss: 1.65194 | Train Accs: 0.67902 | Valid Accs: 0.80382 | Time: 59.82 seconds\n",
      "Epoch: 7 | Train Loss: 1.61801 | Valid Loss: 1.48544 | Train Accs: 0.65312 | Valid Accs: 0.80208 | Time: 59.99 seconds\n",
      "Epoch: 8 | Train Loss: 1.46549 | Valid Loss: 1.33153 | Train Accs: 0.62768 | Valid Accs: 0.79225 | Time: 59.86 seconds\n",
      "Epoch: 9 | Train Loss: 1.33675 | Valid Loss: 1.20319 | Train Accs: 0.65402 | Valid Accs: 0.81308 | Time: 60.16 seconds\n",
      "Epoch: 10 | Train Loss: 1.24330 | Valid Loss: 1.10147 | Train Accs: 0.66205 | Valid Accs: 0.84780 | Time: 60.18 seconds\n",
      "Epoch: 11 | Train Loss: 1.16745 | Valid Loss: 1.01808 | Train Accs: 0.68170 | Valid Accs: 0.87558 | Time: 59.94 seconds\n",
      "Epoch: 12 | Train Loss: 1.09245 | Valid Loss: 0.95405 | Train Accs: 0.72277 | Valid Accs: 0.89410 | Time: 60.76 seconds\n",
      "Epoch: 13 | Train Loss: 1.04378 | Valid Loss: 0.89447 | Train Accs: 0.73393 | Valid Accs: 0.90856 | Time: 60.52 seconds\n",
      "Epoch: 14 | Train Loss: 0.99681 | Valid Loss: 0.85013 | Train Accs: 0.76562 | Valid Accs: 0.92130 | Time: 60.08 seconds\n",
      "Epoch: 15 | Train Loss: 0.95464 | Valid Loss: 0.80778 | Train Accs: 0.78973 | Valid Accs: 0.92824 | Time: 61.06 seconds\n",
      "Epoch: 16 | Train Loss: 0.92086 | Valid Loss: 0.77374 | Train Accs: 0.78884 | Valid Accs: 0.93056 | Time: 61.04 seconds\n",
      "Epoch: 17 | Train Loss: 0.90108 | Valid Loss: 0.74214 | Train Accs: 0.77545 | Valid Accs: 0.92708 | Time: 61.02 seconds\n",
      "Epoch: 18 | Train Loss: 0.87258 | Valid Loss: 0.72298 | Train Accs: 0.80134 | Valid Accs: 0.93634 | Time: 60.39 seconds\n",
      "Epoch: 19 | Train Loss: 0.85771 | Valid Loss: 0.69907 | Train Accs: 0.80045 | Valid Accs: 0.93634 | Time: 60.95 seconds\n",
      "Epoch: 20 | Train Loss: 0.84365 | Valid Loss: 0.68818 | Train Accs: 0.79732 | Valid Accs: 0.93576 | Time: 61.22 seconds\n",
      "Epoch: 21 | Train Loss: 0.83106 | Valid Loss: 0.67781 | Train Accs: 0.80536 | Valid Accs: 0.93808 | Time: 60.80 seconds\n",
      "Epoch: 22 | Train Loss: 0.82589 | Valid Loss: 0.66937 | Train Accs: 0.79420 | Valid Accs: 0.93692 | Time: 59.86 seconds\n",
      "Epoch: 23 | Train Loss: 0.81824 | Valid Loss: 0.66043 | Train Accs: 0.81295 | Valid Accs: 0.93808 | Time: 59.99 seconds\n",
      "Epoch: 24 | Train Loss: 0.81178 | Valid Loss: 0.66411 | Train Accs: 0.81920 | Valid Accs: 0.93634 | Time: 58.75 seconds\n",
      "Epoch: 25 | Train Loss: 0.81948 | Valid Loss: 0.66024 | Train Accs: 0.80179 | Valid Accs: 0.93808 | Time: 59.84 seconds\n",
      "\n",
      "**************************************************\n",
      "\n",
      "Best Validation Loss at Epoch 25\n",
      "\n",
      "**************************************************\n",
      "\n",
      "Best Validation Accs at Epoch 21\n",
      "\n",
      "**************************************************\n",
      "\n",
      "Time Taken [25 Epochs] : 25.11 minutes\n",
      "\n",
      "**************************************************\n",
      "\n"
     ]
    },
    {
     "data": {
      "image/png": "[encoded data removed]",
      "text/plain": [
       "<Figure size 432x288 with 1 Axes>"
      ]
     },
     "metadata": {
      "needs_background": "light"
     },
     "output_type": "display_data"
    },
    {
     "name": "stdout",
     "output_type": "stream",
     "text": [
      "\n",
      "**************************************************\n",
      "\n"
     ]
    },
    {
     "data": {
      "image/png": "[encoded data removed]",
      "text/plain": [
       "<Figure size 432x288 with 1 Axes>"
      ]
     },
     "metadata": {
      "needs_background": "light"
     },
     "output_type": "display_data"
    },
    {
     "name": "stdout",
     "output_type": "stream",
     "text": [
      "\n",
      "**************************************************\n",
      "\n"
     ]
    },
    {
     "data": {
      "image/png": "[encoded data removed]",
      "text/plain": [
       "<Figure size 576x432 with 1 Axes>"
      ]
     },
     "metadata": {
      "needs_background": "light"
     },
     "output_type": "display_data"
    },
    {
     "name": "stdout",
     "output_type": "stream",
     "text": [
      "\n",
      "**************************************************\n",
      "\n",
      "\n",
      "**************************************************\n",
      "\n",
      " ----- EFFICIENTNET_B4 -----\n",
      "\n",
      "**************************************************\n",
      "\n",
      "Training Fold 5...\n",
      "\n",
      "**************************************************\n",
      "\n",
      "Epoch: 1 | Train Loss: 2.39571 | Valid Loss: 2.37927 | Train Accs: 0.08839 | Valid Accs: 0.12326 | Time: 60.31 seconds\n",
      "Epoch: 2 | Train Loss: 2.35897 | Valid Loss: 2.29729 | Train Accs: 0.18839 | Valid Accs: 0.40104 | Time: 59.81 seconds\n",
      "Epoch: 3 | Train Loss: 2.25570 | Valid Loss: 2.15622 | Train Accs: 0.47411 | Valid Accs: 0.72454 | Time: 60.36 seconds\n",
      "Epoch: 4 | Train Loss: 2.10836 | Valid Loss: 1.99193 | Train Accs: 0.63571 | Valid Accs: 0.78935 | Time: 60.47 seconds\n",
      "Epoch: 5 | Train Loss: 1.94410 | Valid Loss: 1.81423 | Train Accs: 0.69063 | Valid Accs: 0.80208 | Time: 60.12 seconds\n",
      "Epoch: 6 | Train Loss: 1.78288 | Valid Loss: 1.63779 | Train Accs: 0.67812 | Valid Accs: 0.78414 | Time: 59.23 seconds\n",
      "Epoch: 7 | Train Loss: 1.61114 | Valid Loss: 1.46821 | Train Accs: 0.66250 | Valid Accs: 0.77836 | Time: 59.43 seconds\n",
      "Epoch: 8 | Train Loss: 1.46264 | Valid Loss: 1.31606 | Train Accs: 0.65179 | Valid Accs: 0.77373 | Time: 59.53 seconds\n",
      "Epoch: 9 | Train Loss: 1.33666 | Valid Loss: 1.19405 | Train Accs: 0.65714 | Valid Accs: 0.80093 | Time: 59.27 seconds\n",
      "Epoch: 10 | Train Loss: 1.23757 | Valid Loss: 1.09122 | Train Accs: 0.66473 | Valid Accs: 0.82060 | Time: 60.36 seconds\n",
      "Epoch: 11 | Train Loss: 1.15749 | Valid Loss: 1.01284 | Train Accs: 0.70937 | Valid Accs: 0.85243 | Time: 60.04 seconds\n",
      "Epoch: 12 | Train Loss: 1.08277 | Valid Loss: 0.94284 | Train Accs: 0.72411 | Valid Accs: 0.86458 | Time: 59.77 seconds\n",
      "Epoch: 13 | Train Loss: 1.03328 | Valid Loss: 0.88651 | Train Accs: 0.74330 | Valid Accs: 0.88600 | Time: 59.51 seconds\n",
      "Epoch: 14 | Train Loss: 0.99023 | Valid Loss: 0.84351 | Train Accs: 0.77054 | Valid Accs: 0.89583 | Time: 59.89 seconds\n",
      "Epoch: 15 | Train Loss: 0.94250 | Valid Loss: 0.80345 | Train Accs: 0.78304 | Valid Accs: 0.90567 | Time: 59.92 seconds\n",
      "Epoch: 16 | Train Loss: 0.90978 | Valid Loss: 0.76890 | Train Accs: 0.79554 | Valid Accs: 0.91551 | Time: 59.99 seconds\n",
      "Epoch: 17 | Train Loss: 0.89279 | Valid Loss: 0.73843 | Train Accs: 0.78616 | Valid Accs: 0.91725 | Time: 60.03 seconds\n",
      "Epoch: 18 | Train Loss: 0.86581 | Valid Loss: 0.71812 | Train Accs: 0.80357 | Valid Accs: 0.92245 | Time: 60.97 seconds\n",
      "Epoch: 19 | Train Loss: 0.84739 | Valid Loss: 0.69682 | Train Accs: 0.80402 | Valid Accs: 0.91551 | Time: 60.02 seconds\n",
      "Epoch: 20 | Train Loss: 0.83994 | Valid Loss: 0.68090 | Train Accs: 0.79911 | Valid Accs: 0.91898 | Time: 60.24 seconds\n",
      "Epoch: 21 | Train Loss: 0.82969 | Valid Loss: 0.67279 | Train Accs: 0.80402 | Valid Accs: 0.92303 | Time: 60.60 seconds\n",
      "Epoch: 22 | Train Loss: 0.82202 | Valid Loss: 0.66633 | Train Accs: 0.81518 | Valid Accs: 0.92130 | Time: 60.68 seconds\n",
      "Epoch: 23 | Train Loss: 0.81266 | Valid Loss: 0.66137 | Train Accs: 0.81384 | Valid Accs: 0.92303 | Time: 59.78 seconds\n",
      "Epoch: 24 | Train Loss: 0.81083 | Valid Loss: 0.65806 | Train Accs: 0.82500 | Valid Accs: 0.92303 | Time: 60.59 seconds\n",
      "Epoch: 25 | Train Loss: 0.80893 | Valid Loss: 0.65750 | Train Accs: 0.81429 | Valid Accs: 0.92303 | Time: 60.52 seconds\n",
      "\n",
      "**************************************************\n",
      "\n",
      "Best Validation Loss at Epoch 25\n",
      "\n",
      "**************************************************\n",
      "\n",
      "Best Validation Accs at Epoch 21\n",
      "\n",
      "**************************************************\n",
      "\n",
      "Time Taken [25 Epochs] : 25.02 minutes\n",
      "\n",
      "**************************************************\n",
      "\n"
     ]
    },
    {
     "data": {
      "image/png": "[encoded data removed]",
      "text/plain": [
       "<Figure size 432x288 with 1 Axes>"
      ]
     },
     "metadata": {
      "needs_background": "light"
     },
     "output_type": "display_data"
    },
    {
     "name": "stdout",
     "output_type": "stream",
     "text": [
      "\n",
      "**************************************************\n",
      "\n"
     ]
    },
    {
     "data": {
      "image/png": "[encoded data removed]",
      "text/plain": [
       "<Figure size 432x288 with 1 Axes>"
      ]
     },
     "metadata": {
      "needs_background": "light"
     },
     "output_type": "display_data"
    },
    {
     "name": "stdout",
     "output_type": "stream",
     "text": [
      "\n",
      "**************************************************\n",
      "\n"
     ]
    },
    {
     "data": {
      "image/png": "[encoded data removed]",
      "text/plain": [
       "<Figure size 576x432 with 1 Axes>"
      ]
     },
     "metadata": {
      "needs_background": "light"
     },
     "output_type": "display_data"
    },
    {
     "name": "stdout",
     "output_type": "stream",
     "text": [
      "\n",
      "**************************************************\n",
      "\n"
     ]
    }
   ],
   "source": [
    "fold: int = 1\n",
    "BLEs: list = []\n",
    "BAEs: list = []\n",
    "model_name: str = \"efficientnet_b4\"\n",
    "\n",
    "    \n",
    "for tr_idx, va_idx in StratifiedKFold(n_splits=cfg.n_splits, random_state=cfg.seed, shuffle=True).split(filenames, labels):\n",
    "\n",
    "    tr_filenames, va_filenames       = filenames[tr_idx], filenames[va_idx] \n",
    "    tr_folder_names, va_folder_names = folder_names[tr_idx], folder_names[va_idx] \n",
    "    tr_labels, va_labels             = labels[tr_idx], labels[va_idx]\n",
    "    \n",
    "    tr_data_setup = DS(\n",
    "        base_path=\"../input/4-animal-classification/train\", \n",
    "        filenames=tr_filenames, \n",
    "        folder_names=tr_folder_names,\n",
    "        labels=tr_labels.reshape(-1, 1),\n",
    "        size=cfg.size,\n",
    "        transform=cfg.train_transform)\n",
    "    \n",
    "    va_data_setup = DS(\n",
    "        base_path=\"../input/4-animal-classification/train\", \n",
    "        filenames=va_filenames, \n",
    "        folder_names=va_folder_names,\n",
    "        labels=va_labels.reshape(-1, 1),\n",
    "        size=cfg.size,\n",
    "        transform=cfg.valid_transform)\n",
    "\n",
    "    dataloaders = {\n",
    "        \"train\" : DL(tr_data_setup, batch_size=cfg.batch_size, shuffle=True, generator=torch.manual_seed(cfg.seed)),\n",
    "        \"valid\" : DL(va_data_setup, batch_size=cfg.batch_size, shuffle=False),\n",
    "    }\n",
    "\n",
    "    cfg = CFG(\n",
    "        epochs=25, \n",
    "        batch_size=64, \n",
    "        early_stopping=5,\n",
    "        steps_per_epoch=len(dataloaders[\"train\"])\n",
    "    )\n",
    "    \n",
    "    torch.manual_seed(cfg.seed)\n",
    "    model = Model(model_name=model_name).to(cfg.device)\n",
    "\n",
    "    # optimizer = optim.Adam([p for p in model.parameters() if p.requires_grad], lr=cfg.lr, weight_decay=cfg.wd)\n",
    "    # optimizer = optim.AdamW([p for p in model.parameters() if p.requires_grad], lr=cfg.lr, weight_decay=cfg.wd)\n",
    "    optimizer = optim.SGD([p for p in model.parameters() if p.requires_grad], lr=cfg.lr, weight_decay=cfg.wd, momentum=0.9)\n",
    "    \n",
    "    scheduler_oclr = optim.lr_scheduler.OneCycleLR(\n",
    "        optimizer=optimizer, \n",
    "        max_lr=cfg.max_lr, \n",
    "        epochs=cfg.epochs, \n",
    "        steps_per_epoch=cfg.steps_per_epoch,\n",
    "        pct_start=cfg.pct_start, \n",
    "        div_factor=cfg.div_factor, \n",
    "        final_div_factor=cfg.final_div_factor\n",
    "    )\n",
    "\n",
    "    # scheduler_rlrop = optim.lr_scheduler.ReduceLROnPlateau(\n",
    "    #     optimizer=optimizer,\n",
    "    #     patience=cfg.patience,\n",
    "    #     eps=cfg.eps,\n",
    "    #     verbose=True\n",
    "    # )\n",
    "\n",
    "    # scheduler_oclr = None\n",
    "    scheduler_rlrop = None\n",
    "    \n",
    "    L, A, LR, BLE, BAE, _, _ = fit(\n",
    "        model=model, \n",
    "        model_name=model_name,\n",
    "        optimizer=optimizer, \n",
    "        scheduler_oclr=scheduler_oclr,\n",
    "        scheduler_rlrop=scheduler_rlrop,\n",
    "        epochs=cfg.epochs, \n",
    "        early_stopping_patience=cfg.early_stopping, \n",
    "        dataloaders=dataloaders, \n",
    "        device=cfg.device,\n",
    "        save_path=cfg.save_path,\n",
    "        fold=fold,\n",
    "        verbose=True\n",
    "    )\n",
    "    \n",
    "    breaker()\n",
    "    show_loss_graphs(L)\n",
    "    breaker()\n",
    "    show_accuracy_graphs(A)\n",
    "    breaker()\n",
    "    if scheduler_oclr:\n",
    "        show_lr_graph(LR)\n",
    "        breaker()\n",
    "    \n",
    "    BLEs.append(BLE)\n",
    "    BAEs.append(BAE)\n",
    "    \n",
    "    fold += 1"
   ]
  },
  {
   "cell_type": "markdown",
   "id": "f217678a",
   "metadata": {
    "papermill": {
     "duration": 0.015212,
     "end_time": "2022-09-14T07:12:44.504507",
     "exception": false,
     "start_time": "2022-09-14T07:12:44.489295",
     "status": "completed"
    },
    "tags": []
   },
   "source": [
    "### **Best Model**"
   ]
  },
  {
   "cell_type": "code",
   "execution_count": 10,
   "id": "be1ffe8f",
   "metadata": {
    "execution": {
     "iopub.execute_input": "2022-09-14T07:12:44.537463Z",
     "iopub.status.busy": "2022-09-14T07:12:44.537111Z",
     "iopub.status.idle": "2022-09-14T07:12:44.543644Z",
     "shell.execute_reply": "2022-09-14T07:12:44.542714Z"
    },
    "papermill": {
     "duration": 0.026706,
     "end_time": "2022-09-14T07:12:44.546788",
     "exception": false,
     "start_time": "2022-09-14T07:12:44.520082",
     "status": "completed"
    },
    "tags": []
   },
   "outputs": [
    {
     "name": "stdout",
     "output_type": "stream",
     "text": [
      "\n",
      "**************************************************\n",
      "\n",
      "Best Loss Model Fold     : 1\n",
      "Best Accuracy Model Fold : 3\n",
      "\n",
      "**************************************************\n",
      "\n"
     ]
    }
   ],
   "source": [
    "best_loss_index = BLEs.index(min(BLEs))\n",
    "best_accs_index = BAEs.index(max(BAEs))\n",
    "\n",
    "breaker()\n",
    "print(f\"Best Loss Model Fold     : {best_loss_index + 1}\")\n",
    "print(f\"Best Accuracy Model Fold : {best_accs_index + 1}\")\n",
    "breaker()"
   ]
  }
 ],
 "metadata": {
  "kernelspec": {
   "display_name": "Python 3",
   "language": "python",
   "name": "python3"
  },
  "language_info": {
   "codemirror_mode": {
    "name": "ipython",
    "version": 3
   },
   "file_extension": ".py",
   "mimetype": "text/x-python",
   "name": "python",
   "nbconvert_exporter": "python",
   "pygments_lexer": "ipython3",
   "version": "3.7.12"
  },
  "papermill": {
   "default_parameters": {},
   "duration": 9066.981389,
   "end_time": "2022-09-14T07:12:46.601519",
   "environment_variables": {},
   "exception": null,
   "input_path": "__notebook__.ipynb",
   "output_path": "__notebook__.ipynb",
   "parameters": {},
   "start_time": "2022-09-14T04:41:39.620130",
   "version": "2.3.4"
  }
 },
 "nbformat": 4,
 "nbformat_minor": 5
}
