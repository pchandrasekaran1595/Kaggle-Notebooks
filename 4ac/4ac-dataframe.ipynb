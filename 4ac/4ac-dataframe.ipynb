{
 "cells": [
  {
   "cell_type": "code",
   "execution_count": 1,
   "id": "ca17e326",
   "metadata": {
    "_cell_guid": "b1076dfc-b9ad-4769-8c92-a6c4dae69d19",
    "_uuid": "8f2839f25d086af736a60e9eeb907d3b93b6e0e5",
    "execution": {
     "iopub.execute_input": "2022-08-30T11:48:55.245340Z",
     "iopub.status.busy": "2022-08-30T11:48:55.244865Z",
     "iopub.status.idle": "2022-08-30T11:48:55.256710Z",
     "shell.execute_reply": "2022-08-30T11:48:55.255900Z"
    },
    "papermill": {
     "duration": 0.018466,
     "end_time": "2022-08-30T11:48:55.258999",
     "exception": false,
     "start_time": "2022-08-30T11:48:55.240533",
     "status": "completed"
    },
    "tags": []
   },
   "outputs": [],
   "source": [
    "import os\n",
    "import pandas as pd"
   ]
  },
  {
   "cell_type": "code",
   "execution_count": 2,
   "id": "6aabb927",
   "metadata": {
    "execution": {
     "iopub.execute_input": "2022-08-30T11:48:55.264528Z",
     "iopub.status.busy": "2022-08-30T11:48:55.263690Z",
     "iopub.status.idle": "2022-08-30T11:48:55.587247Z",
     "shell.execute_reply": "2022-08-30T11:48:55.585662Z"
    },
    "papermill": {
     "duration": 0.330258,
     "end_time": "2022-08-30T11:48:55.591186",
     "exception": false,
     "start_time": "2022-08-30T11:48:55.260928",
     "status": "completed"
    },
    "tags": []
   },
   "outputs": [],
   "source": [
    "path: str = \"../input/4-animal-classification/train\"\n",
    "    \n",
    "df = pd.DataFrame(data=None, columns=[\"filenames\", \"folder_names\", \"classes\"])\n",
    "folders = sorted(os.listdir(path))\n",
    "\n",
    "filenames: list = []\n",
    "folder_names: list = []\n",
    "classes: list = []\n",
    "i: int = 0\n",
    "    \n",
    "for folder_name in folders:\n",
    "    for filename in os.listdir(os.path.join(path, folder_name)):\n",
    "        filenames.append(filename)\n",
    "        folder_names.append(folder_name)\n",
    "        classes.append(i)\n",
    "    i += 1\n",
    "\n",
    "df.filenames = filenames\n",
    "df.folder_names = folder_names\n",
    "df.classes = classes\n",
    "\n",
    "df.to_csv(\"data.csv\", index=False)"
   ]
  }
 ],
 "metadata": {
  "kernelspec": {
   "display_name": "Python 3",
   "language": "python",
   "name": "python3"
  },
  "language_info": {
   "codemirror_mode": {
    "name": "ipython",
    "version": 3
   },
   "file_extension": ".py",
   "mimetype": "text/x-python",
   "name": "python",
   "nbconvert_exporter": "python",
   "pygments_lexer": "ipython3",
   "version": "3.7.12"
  },
  "papermill": {
   "default_parameters": {},
   "duration": 10.853302,
   "end_time": "2022-08-30T11:48:56.620369",
   "environment_variables": {},
   "exception": null,
   "input_path": "__notebook__.ipynb",
   "output_path": "__notebook__.ipynb",
   "parameters": {},
   "start_time": "2022-08-30T11:48:45.767067",
   "version": "2.3.4"
  }
 },
 "nbformat": 4,
 "nbformat_minor": 5
}
