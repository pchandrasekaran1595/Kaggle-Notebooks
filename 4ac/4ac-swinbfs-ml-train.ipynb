{
 "cells": [
  {
   "cell_type": "code",
   "execution_count": 1,
   "id": "546ebe38",
   "metadata": {
    "_cell_guid": "b1076dfc-b9ad-4769-8c92-a6c4dae69d19",
    "_uuid": "8f2839f25d086af736a60e9eeb907d3b93b6e0e5",
    "execution": {
     "iopub.execute_input": "2022-09-29T12:02:41.291372Z",
     "iopub.status.busy": "2022-09-29T12:02:41.290740Z",
     "iopub.status.idle": "2022-09-29T12:02:42.919833Z",
     "shell.execute_reply": "2022-09-29T12:02:42.918592Z"
    },
    "papermill": {
     "duration": 1.638274,
     "end_time": "2022-09-29T12:02:42.922743",
     "exception": false,
     "start_time": "2022-09-29T12:02:41.284469",
     "status": "completed"
    },
    "tags": []
   },
   "outputs": [],
   "source": [
    "import os\n",
    "import pickle\n",
    "import numpy as np\n",
    "import pandas as pd\n",
    "import random as r\n",
    "import seaborn as sns\n",
    "import matplotlib.pyplot as plt\n",
    "\n",
    "from time import time\n",
    "from sklearn.pipeline import Pipeline\n",
    "from sklearn.model_selection import StratifiedKFold\n",
    "\n",
    "from sklearn.neighbors import KNeighborsClassifier\n",
    "from sklearn.linear_model import LogisticRegression\n",
    "from sklearn.ensemble import RandomForestClassifier\n",
    "from sklearn.svm import SVC\n",
    "from xgboost import XGBClassifier\n",
    "\n",
    "from sklearn.metrics import accuracy_score"
   ]
  },
  {
   "cell_type": "code",
   "execution_count": 2,
   "id": "d99382a4",
   "metadata": {
    "execution": {
     "iopub.execute_input": "2022-09-29T12:02:42.929558Z",
     "iopub.status.busy": "2022-09-29T12:02:42.929177Z",
     "iopub.status.idle": "2022-09-29T12:02:42.934587Z",
     "shell.execute_reply": "2022-09-29T12:02:42.933435Z"
    },
    "papermill": {
     "duration": 0.011389,
     "end_time": "2022-09-29T12:02:42.937023",
     "exception": false,
     "start_time": "2022-09-29T12:02:42.925634",
     "status": "completed"
    },
    "tags": []
   },
   "outputs": [],
   "source": [
    "def breaker() -> None: print(\"\\n\" + 50*\"*\" + \"\\n\")"
   ]
  },
  {
   "cell_type": "code",
   "execution_count": 3,
   "id": "0e4ef289",
   "metadata": {
    "execution": {
     "iopub.execute_input": "2022-09-29T12:02:42.943400Z",
     "iopub.status.busy": "2022-09-29T12:02:42.943024Z",
     "iopub.status.idle": "2022-09-29T12:02:42.981482Z",
     "shell.execute_reply": "2022-09-29T12:02:42.980235Z"
    },
    "papermill": {
     "duration": 0.044556,
     "end_time": "2022-09-29T12:02:42.984156",
     "exception": false,
     "start_time": "2022-09-29T12:02:42.939600",
     "status": "completed"
    },
    "tags": []
   },
   "outputs": [],
   "source": [
    "df = pd.read_csv(\"../input/4ac-dataframe/data.csv\")\n",
    "y_1 = df.classes.copy().values\n",
    "df = pd.read_csv(\"../input/4ac-swinbfs-ml-infer/submission.csv\")\n",
    "y_2 = df.Label.copy().values\n",
    "\n",
    "y = np.concatenate((y_1, y_2), axis=0)"
   ]
  },
  {
   "cell_type": "code",
   "execution_count": 4,
   "id": "2062e706",
   "metadata": {
    "execution": {
     "iopub.execute_input": "2022-09-29T12:02:42.990934Z",
     "iopub.status.busy": "2022-09-29T12:02:42.990538Z",
     "iopub.status.idle": "2022-09-29T12:02:42.997697Z",
     "shell.execute_reply": "2022-09-29T12:02:42.996556Z"
    },
    "papermill": {
     "duration": 0.01307,
     "end_time": "2022-09-29T12:02:42.999971",
     "exception": false,
     "start_time": "2022-09-29T12:02:42.986901",
     "status": "completed"
    },
    "tags": []
   },
   "outputs": [],
   "source": [
    "class CFG(object):\n",
    "    def __init__(self,\n",
    "                 seed: int = 42,\n",
    "                 n_splits: int = 5,\n",
    "                 show_info: bool = False,\n",
    "                 ):\n",
    "\n",
    "        self.seed = seed\n",
    "        self.n_splits = n_splits\n",
    "        self.show_info = show_info\n",
    "        self.features_path = \"../input/4actrsfsna384\"\n",
    "        self.model_save_path = \"models\"\n",
    "        if not os.path.exists(self.model_save_path): os.makedirs(self.model_save_path)\n",
    "\n",
    "cfg = CFG(seed=42, show_info=True)"
   ]
  },
  {
   "cell_type": "code",
   "execution_count": 5,
   "id": "2008bcae",
   "metadata": {
    "execution": {
     "iopub.execute_input": "2022-09-29T12:02:43.006749Z",
     "iopub.status.busy": "2022-09-29T12:02:43.006399Z",
     "iopub.status.idle": "2022-09-29T12:02:43.015402Z",
     "shell.execute_reply": "2022-09-29T12:02:43.014073Z"
    },
    "papermill": {
     "duration": 0.015094,
     "end_time": "2022-09-29T12:02:43.017716",
     "exception": false,
     "start_time": "2022-09-29T12:02:43.002622",
     "status": "completed"
    },
    "tags": []
   },
   "outputs": [],
   "source": [
    "class Pipelines(object):\n",
    "    def __init__(self, model_name: str, seed: int):\n",
    "        self.model_name = model_name\n",
    "\n",
    "        if self.model_name == \"lgr\":\n",
    "            self.model = Pipeline(\n",
    "                steps=[\n",
    "                    (\"classifier\", LogisticRegression(random_state=seed, max_iter=1000)),\n",
    "                ]\n",
    "            )\n",
    "        \n",
    "        elif self.model_name == \"knc\":\n",
    "            self.model = Pipeline(\n",
    "                steps=[\n",
    "                    (\"classifier\", KNeighborsClassifier()),\n",
    "                ]\n",
    "            )\n",
    "\n",
    "        elif self.model_name == \"svc\":\n",
    "            self.model = Pipeline(\n",
    "                steps=[\n",
    "                    (\"classifier\", SVC(random_state=seed)),\n",
    "                ]\n",
    "            )\n",
    "        \n",
    "        elif self.model_name == \"rfc\":\n",
    "            self.model = Pipeline(\n",
    "                steps=[\n",
    "                    (\"classifier\", RandomForestClassifier(random_state=seed)),\n",
    "                ]\n",
    "            )\n",
    "        \n",
    "        elif self.model_name == \"xgb\":\n",
    "            self.model = Pipeline(\n",
    "                steps=[\n",
    "                    (\"classifier\", XGBClassifier(random_state=seed)),\n",
    "                ]\n",
    "            )"
   ]
  },
  {
   "cell_type": "code",
   "execution_count": 6,
   "id": "ed4b6f04",
   "metadata": {
    "execution": {
     "iopub.execute_input": "2022-09-29T12:02:43.024779Z",
     "iopub.status.busy": "2022-09-29T12:02:43.024430Z",
     "iopub.status.idle": "2022-09-29T12:06:00.831890Z",
     "shell.execute_reply": "2022-09-29T12:06:00.830504Z"
    },
    "papermill": {
     "duration": 197.814248,
     "end_time": "2022-09-29T12:06:00.834536",
     "exception": false,
     "start_time": "2022-09-29T12:02:43.020288",
     "status": "completed"
    },
    "tags": []
   },
   "outputs": [
    {
     "name": "stdout",
     "output_type": "stream",
     "text": [
      "\n",
      "**************************************************\n",
      "\n",
      "SWIN_BASE_PATCH4_WINDOW12_384_IN22K\n",
      "\n",
      "**************************************************\n",
      "\n",
      "lgr, 1, Accuracy : 0.99717\n",
      "lgr, 2, Accuracy : 0.99717\n",
      "lgr, 3, Accuracy : 0.99433\n",
      "lgr, 4, Accuracy : 0.99575\n",
      "lgr, 5, Accuracy : 0.99858\n",
      "\n",
      "Best : swin_base_patch4_window12_384_in22k_lgr_5\n",
      "\n",
      "**************************************************\n",
      "\n",
      "knc, 1, Accuracy : 0.99717\n",
      "knc, 2, Accuracy : 0.99433\n",
      "knc, 3, Accuracy : 0.99008\n",
      "knc, 4, Accuracy : 0.99717\n",
      "knc, 5, Accuracy : 0.99291\n",
      "\n",
      "Best : swin_base_patch4_window12_384_in22k_knc_1\n",
      "\n",
      "**************************************************\n",
      "\n",
      "rfc, 1, Accuracy : 0.99575\n",
      "rfc, 2, Accuracy : 0.99433\n",
      "rfc, 3, Accuracy : 0.98442\n",
      "rfc, 4, Accuracy : 0.99292\n",
      "rfc, 5, Accuracy : 0.98865\n",
      "\n",
      "Best : swin_base_patch4_window12_384_in22k_rfc_1\n",
      "\n",
      "**************************************************\n",
      "\n",
      "xgb, 1, Accuracy : 0.99150\n",
      "xgb, 2, Accuracy : 0.98725\n",
      "xgb, 3, Accuracy : 0.98867\n",
      "xgb, 4, Accuracy : 0.99292\n",
      "xgb, 5, Accuracy : 0.98723\n",
      "\n",
      "Best : swin_base_patch4_window12_384_in22k_xgb_4\n",
      "\n",
      "**************************************************\n",
      "\n",
      "svc, 1, Accuracy : 0.99150\n",
      "svc, 2, Accuracy : 0.99150\n",
      "svc, 3, Accuracy : 0.98017\n",
      "svc, 4, Accuracy : 0.99292\n",
      "svc, 5, Accuracy : 0.98865\n",
      "\n",
      "Best : swin_base_patch4_window12_384_in22k_svc_4\n",
      "\n",
      "**************************************************\n",
      "\n",
      "Overall Best Model : swin_base_patch4_window12_384_in22k_lgr_5\n",
      "\n",
      "**************************************************\n",
      "\n"
     ]
    }
   ],
   "source": [
    "names: list = [\n",
    "    \"lgr\", \n",
    "    \"knc\", \n",
    "    \"rfc\",\n",
    "    \"xgb\",\n",
    "    \"svc\"\n",
    "]\n",
    "\n",
    "model_names: list = [\n",
    "    \"swin_base_patch4_window12_384_in22k\",\n",
    "]\n",
    "\n",
    "overall_best_acc: float = 0.0\n",
    "\n",
    "for model_name in model_names:\n",
    "    X = np.load(os.path.join(cfg.features_path, f\"{model_name}.npy\"))\n",
    "    if cfg.show_info: \n",
    "        breaker()\n",
    "        print(f\"{model_name.upper()}\")\n",
    "    for name in names:\n",
    "        fold: int = 1\n",
    "        best_name: str = None\n",
    "        best_acc: float = 0.0\n",
    "        if cfg.show_info: breaker()\n",
    "        for tr_idx, va_idx in StratifiedKFold(n_splits=cfg.n_splits, random_state=cfg.seed, shuffle=True).split(X, y):\n",
    "            X_train, X_valid, y_train, y_valid = X[tr_idx], X[va_idx], y[tr_idx], y[va_idx]\n",
    "            my_pipeline = Pipelines(name, cfg.seed)\n",
    "            my_pipeline.model.fit(X_train, y_train)\n",
    "\n",
    "            y_pred = my_pipeline.model.predict(X_valid)\n",
    "            if cfg.show_info:\n",
    "                acc = accuracy_score(y_pred, y_valid)\n",
    "                print(f\"{my_pipeline.model_name}, {fold}, Accuracy : {acc:.5f}\")\n",
    "            else:\n",
    "                acc = accuracy_score(y_pred, y_valid)\n",
    "\n",
    "            if acc > overall_best_acc:\n",
    "                overall_best_acc = acc\n",
    "                overall_best_name = f\"{model_name}_{name}_{fold}\"\n",
    "            \n",
    "            if acc > best_acc:\n",
    "                best_acc = acc\n",
    "                best_name = f\"{model_name}_{name}_{fold}\"\n",
    "\n",
    "            with open(os.path.join(cfg.model_save_path, f\"{model_name}_{name}_{fold}.pkl\"), \"wb\") as fp: pickle.dump(my_pipeline.model, fp)\n",
    "            fold += 1\n",
    "        \n",
    "        print(f\"\\nBest : {best_name}\")\n",
    "    \n",
    "\n",
    "if cfg.show_info: \n",
    "    breaker()\n",
    "    print(f\"Overall Best Model : {overall_best_name}\")\n",
    "\n",
    "breaker()"
   ]
  }
 ],
 "metadata": {
  "kernelspec": {
   "display_name": "Python 3",
   "language": "python",
   "name": "python3"
  },
  "language_info": {
   "codemirror_mode": {
    "name": "ipython",
    "version": 3
   },
   "file_extension": ".py",
   "mimetype": "text/x-python",
   "name": "python",
   "nbconvert_exporter": "python",
   "pygments_lexer": "ipython3",
   "version": "3.7.12"
  },
  "papermill": {
   "default_parameters": {},
   "duration": 209.350552,
   "end_time": "2022-09-29T12:06:01.560732",
   "environment_variables": {},
   "exception": null,
   "input_path": "__notebook__.ipynb",
   "output_path": "__notebook__.ipynb",
   "parameters": {},
   "start_time": "2022-09-29T12:02:32.210180",
   "version": "2.3.4"
  }
 },
 "nbformat": 4,
 "nbformat_minor": 5
}
