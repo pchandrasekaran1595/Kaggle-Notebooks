{
 "cells": [
  {
   "cell_type": "code",
   "execution_count": 1,
   "id": "79c77cc2",
   "metadata": {
    "_cell_guid": "b1076dfc-b9ad-4769-8c92-a6c4dae69d19",
    "_uuid": "8f2839f25d086af736a60e9eeb907d3b93b6e0e5",
    "execution": {
     "iopub.execute_input": "2022-04-13T11:13:44.545085Z",
     "iopub.status.busy": "2022-04-13T11:13:44.543274Z",
     "iopub.status.idle": "2022-04-13T11:13:44.877109Z",
     "shell.execute_reply": "2022-04-13T11:13:44.877661Z"
    },
    "papermill": {
     "duration": 0.34831,
     "end_time": "2022-04-13T11:13:44.877975",
     "exception": false,
     "start_time": "2022-04-13T11:13:44.529665",
     "status": "completed"
    },
    "tags": []
   },
   "outputs": [],
   "source": [
    "import os\n",
    "import cv2\n",
    "import numpy as np"
   ]
  },
  {
   "cell_type": "code",
   "execution_count": 2,
   "id": "733dcd8c",
   "metadata": {
    "execution": {
     "iopub.execute_input": "2022-04-13T11:13:44.899949Z",
     "iopub.status.busy": "2022-04-13T11:13:44.898819Z",
     "iopub.status.idle": "2022-04-13T11:13:44.900981Z",
     "shell.execute_reply": "2022-04-13T11:13:44.901476Z"
    },
    "papermill": {
     "duration": 0.018736,
     "end_time": "2022-04-13T11:13:44.901647",
     "exception": false,
     "start_time": "2022-04-13T11:13:44.882911",
     "status": "completed"
    },
    "tags": []
   },
   "outputs": [],
   "source": [
    "def breaker(num: int = 50, char: str = \"*\") -> None:\n",
    "    print(\"\\n\" + num*char + \"\\n\")\n",
    "\n",
    "\n",
    "def preprocess(image: np.ndarray, size: int) -> np.ndarray:\n",
    "    return cv2.resize(src=cv2.cvtColor(src=image, code=cv2.COLOR_BGR2RGB), dsize=(size, size), interpolation=cv2.INTER_AREA)\n",
    "\n",
    "\n",
    "def get_images(path: str, names: np.ndarray, size: int) -> np.ndarray:\n",
    "    images = np.zeros((len(names), size, size, 3), dtype=np.uint8)\n",
    "    \n",
    "    i = 0\n",
    "    for name in names:\n",
    "        images[i] = preprocess(cv2.imread(os.path.join(path, name), cv2.IMREAD_COLOR), size)\n",
    "        i += 1\n",
    "    return images\n",
    "\n",
    "\n",
    "def get_statistics(images: np.ndarray, size: int) -> None:\n",
    "    print(f\"Mean {size}x{size}\\n\")\n",
    "    print(f\"Red Channel Mean   {size} : {images[:, :, 0].mean() / 255:.5f}\")\n",
    "    print(f\"Green Channel Mean {size} : {images[:, :, 1].mean() / 255:.5f}\")\n",
    "    print(f\"Blue Channel Mean  {size} : {images[:, :, 2].mean() / 255:.5f}\")\n",
    "    print(\"\")\n",
    "    print(f\"Standard Deviation {size}x{size}\\n\")\n",
    "    print(f\"Red Channel Std    {size} : {images[:, :, 0].std() / 255:.5f}\")\n",
    "    print(f\"Green Channel Std  {size} : {images[:, :, 1].std() / 255:.5f}\")\n",
    "    print(f\"Blue Channel Std   {size} : {images[:, :, 2].std() / 255:.5f}\") "
   ]
  },
  {
   "cell_type": "code",
   "execution_count": 3,
   "id": "67c50d4f",
   "metadata": {
    "execution": {
     "iopub.execute_input": "2022-04-13T11:13:44.915452Z",
     "iopub.status.busy": "2022-04-13T11:13:44.913042Z",
     "iopub.status.idle": "2022-04-13T11:17:41.145044Z",
     "shell.execute_reply": "2022-04-13T11:17:41.145644Z"
    },
    "papermill": {
     "duration": 236.239811,
     "end_time": "2022-04-13T11:17:41.145931",
     "exception": false,
     "start_time": "2022-04-13T11:13:44.906120",
     "status": "completed"
    },
    "tags": []
   },
   "outputs": [
    {
     "name": "stdout",
     "output_type": "stream",
     "text": [
      "\n",
      "**************************************************\n",
      "\n",
      "Mean 224x224\n",
      "\n",
      "Red Channel Mean   224 : 0.30213\n",
      "Green Channel Mean 224 : 0.30289\n",
      "Blue Channel Mean  224 : 0.30455\n",
      "\n",
      "Standard Deviation 224x224\n",
      "\n",
      "Red Channel Std    224 : 0.21697\n",
      "Green Channel Std  224 : 0.21672\n",
      "Blue Channel Std   224 : 0.21638\n",
      "Mean 256x256\n",
      "\n",
      "Red Channel Mean   256 : 0.30211\n",
      "Green Channel Mean 256 : 0.30265\n",
      "Blue Channel Mean  256 : 0.30400\n",
      "\n",
      "Standard Deviation 256x256\n",
      "\n",
      "Red Channel Std    256 : 0.21699\n",
      "Green Channel Std  256 : 0.21683\n",
      "Blue Channel Std   256 : 0.21653\n",
      "Mean 384x384\n",
      "\n",
      "Red Channel Mean   384 : 0.30212\n",
      "Green Channel Mean 384 : 0.30228\n",
      "Blue Channel Mean  384 : 0.30285\n",
      "\n",
      "Standard Deviation 384x384\n",
      "\n",
      "Red Channel Std    384 : 0.21705\n",
      "Green Channel Std  384 : 0.21701\n",
      "Blue Channel Std   384 : 0.21686\n"
     ]
    }
   ],
   "source": [
    "sizes = [224, 256, 384]\n",
    "\n",
    "filenames = os.listdir(\"../input/faces-age-detection-dataset/Train\")\n",
    "\n",
    "breaker()\n",
    "for size in sizes:\n",
    "    images = get_images(\"../input/faces-age-detection-dataset/Train\", filenames, size)\n",
    "    np.save(f\"./images_{size}.npy\", images)\n",
    "    get_statistics(images, size)"
   ]
  }
 ],
 "metadata": {
  "kernelspec": {
   "display_name": "Python 3",
   "language": "python",
   "name": "python3"
  },
  "language_info": {
   "codemirror_mode": {
    "name": "ipython",
    "version": 3
   },
   "file_extension": ".py",
   "mimetype": "text/x-python",
   "name": "python",
   "nbconvert_exporter": "python",
   "pygments_lexer": "ipython3",
   "version": "3.7.12"
  },
  "papermill": {
   "default_parameters": {},
   "duration": 248.669413,
   "end_time": "2022-04-13T11:17:42.473634",
   "environment_variables": {},
   "exception": null,
   "input_path": "__notebook__.ipynb",
   "output_path": "__notebook__.ipynb",
   "parameters": {},
   "start_time": "2022-04-13T11:13:33.804221",
   "version": "2.3.3"
  }
 },
 "nbformat": 4,
 "nbformat_minor": 5
}
