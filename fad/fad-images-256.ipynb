{
 "cells": [
  {
   "cell_type": "code",
   "execution_count": 1,
   "id": "f97f52a6",
   "metadata": {
    "_cell_guid": "b1076dfc-b9ad-4769-8c92-a6c4dae69d19",
    "_uuid": "8f2839f25d086af736a60e9eeb907d3b93b6e0e5",
    "execution": {
     "iopub.execute_input": "2022-04-25T08:41:41.268099Z",
     "iopub.status.busy": "2022-04-25T08:41:41.267101Z",
     "iopub.status.idle": "2022-04-25T08:41:41.496516Z",
     "shell.execute_reply": "2022-04-25T08:41:41.495862Z"
    },
    "papermill": {
     "duration": 0.23921,
     "end_time": "2022-04-25T08:41:41.498962",
     "exception": false,
     "start_time": "2022-04-25T08:41:41.259752",
     "status": "completed"
    },
    "tags": []
   },
   "outputs": [],
   "source": [
    "import os\n",
    "import cv2\n",
    "import numpy as np"
   ]
  },
  {
   "cell_type": "code",
   "execution_count": 2,
   "id": "4af685ab",
   "metadata": {
    "execution": {
     "iopub.execute_input": "2022-04-25T08:41:41.509607Z",
     "iopub.status.busy": "2022-04-25T08:41:41.509310Z",
     "iopub.status.idle": "2022-04-25T08:41:41.521298Z",
     "shell.execute_reply": "2022-04-25T08:41:41.520164Z"
    },
    "papermill": {
     "duration": 0.019741,
     "end_time": "2022-04-25T08:41:41.523547",
     "exception": false,
     "start_time": "2022-04-25T08:41:41.503806",
     "status": "completed"
    },
    "tags": []
   },
   "outputs": [],
   "source": [
    "def breaker(num: int = 50, char: str = \"*\") -> None:\n",
    "    print(\"\\n\" + num*char + \"\\n\")\n",
    "\n",
    "\n",
    "def preprocess(image: np.ndarray, size: int) -> np.ndarray:\n",
    "    return cv2.resize(src=cv2.cvtColor(src=image, code=cv2.COLOR_BGR2RGB), dsize=(size, size), interpolation=cv2.INTER_AREA)\n",
    "\n",
    "\n",
    "def get_images(path: str, names: np.ndarray, size: int) -> np.ndarray:\n",
    "    images = np.zeros((len(names), size, size, 3), dtype=np.uint8)\n",
    "    \n",
    "    i = 0\n",
    "    for name in names:\n",
    "        images[i] = preprocess(cv2.imread(os.path.join(path, name), cv2.IMREAD_COLOR), size)\n",
    "        i += 1\n",
    "    return images\n",
    "\n",
    "\n",
    "def get_statistics(images: np.ndarray, size: int) -> None:\n",
    "    print(f\"Mean {size}x{size}\\n\")\n",
    "    print(f\"Red Channel Mean   {size} : {images[:, :, :, 0].mean() / 255:.5f}\")\n",
    "    print(f\"Green Channel Mean {size} : {images[:, :, :, 1].mean() / 255:.5f}\")\n",
    "    print(f\"Blue Channel Mean  {size} : {images[:, :, :, 2].mean() / 255:.5f}\")\n",
    "    print(\"\")\n",
    "    print(f\"Standard Deviation {size}x{size}\\n\")\n",
    "    print(f\"Red Channel Std    {size} : {images[:, :, :, 0].std() / 255:.5f}\")\n",
    "    print(f\"Green Channel Std  {size} : {images[:, :, :, 1].std() / 255:.5f}\")\n",
    "    print(f\"Blue Channel Std   {size} : {images[:, :, :, 2].std() / 255:.5f}\") "
   ]
  },
  {
   "cell_type": "code",
   "execution_count": 3,
   "id": "41c5f0fb",
   "metadata": {
    "execution": {
     "iopub.execute_input": "2022-04-25T08:41:41.533858Z",
     "iopub.status.busy": "2022-04-25T08:41:41.533567Z",
     "iopub.status.idle": "2022-04-25T08:44:11.186618Z",
     "shell.execute_reply": "2022-04-25T08:44:11.185320Z"
    },
    "papermill": {
     "duration": 149.661539,
     "end_time": "2022-04-25T08:44:11.189517",
     "exception": false,
     "start_time": "2022-04-25T08:41:41.527978",
     "status": "completed"
    },
    "tags": []
   },
   "outputs": [
    {
     "name": "stdout",
     "output_type": "stream",
     "text": [
      "\n",
      "**************************************************\n",
      "\n",
      "Mean 256x256\n",
      "\n",
      "Red Channel Mean   256 : 0.43366\n",
      "Green Channel Mean 256 : 0.33384\n",
      "Blue Channel Mean  256 : 0.30305\n",
      "\n",
      "Standard Deviation 256x256\n",
      "\n",
      "Red Channel Std    256 : 0.20468\n",
      "Green Channel Std  256 : 0.18091\n",
      "Blue Channel Std   256 : 0.18292\n",
      "\n",
      "**************************************************\n",
      "\n"
     ]
    }
   ],
   "source": [
    "sizes = [256]\n",
    "\n",
    "filenames = os.listdir(\"../input/faces-age-detection-dataset/Train\")\n",
    "\n",
    "breaker()\n",
    "for size in sizes:\n",
    "    images = get_images(\"../input/faces-age-detection-dataset/Train\", filenames, size)\n",
    "    np.save(f\"/images_{size}.npy\", images)\n",
    "    get_statistics(images, size)\n",
    "    breaker()"
   ]
  }
 ],
 "metadata": {
  "kernelspec": {
   "display_name": "Python 3",
   "language": "python",
   "name": "python3"
  },
  "language_info": {
   "codemirror_mode": {
    "name": "ipython",
    "version": 3
   },
   "file_extension": ".py",
   "mimetype": "text/x-python",
   "name": "python",
   "nbconvert_exporter": "python",
   "pygments_lexer": "ipython3",
   "version": "3.7.12"
  },
  "papermill": {
   "default_parameters": {},
   "duration": 161.114908,
   "end_time": "2022-04-25T08:44:12.221907",
   "environment_variables": {},
   "exception": null,
   "input_path": "__notebook__.ipynb",
   "output_path": "__notebook__.ipynb",
   "parameters": {},
   "start_time": "2022-04-25T08:41:31.106999",
   "version": "2.3.4"
  }
 },
 "nbformat": 4,
 "nbformat_minor": 5
}
