{
 "cells": [
  {
   "cell_type": "code",
   "execution_count": 1,
   "id": "a7299b76",
   "metadata": {
    "_cell_guid": "b1076dfc-b9ad-4769-8c92-a6c4dae69d19",
    "_uuid": "8f2839f25d086af736a60e9eeb907d3b93b6e0e5",
    "execution": {
     "iopub.execute_input": "2022-04-25T09:12:17.633145Z",
     "iopub.status.busy": "2022-04-25T09:12:17.632212Z",
     "iopub.status.idle": "2022-04-25T09:12:17.853861Z",
     "shell.execute_reply": "2022-04-25T09:12:17.853097Z"
    },
    "papermill": {
     "duration": 0.231648,
     "end_time": "2022-04-25T09:12:17.856587",
     "exception": false,
     "start_time": "2022-04-25T09:12:17.624939",
     "status": "completed"
    },
    "tags": []
   },
   "outputs": [],
   "source": [
    "import os\n",
    "import cv2\n",
    "import numpy as np"
   ]
  },
  {
   "cell_type": "code",
   "execution_count": 2,
   "id": "6fc3a20d",
   "metadata": {
    "execution": {
     "iopub.execute_input": "2022-04-25T09:12:17.869005Z",
     "iopub.status.busy": "2022-04-25T09:12:17.868121Z",
     "iopub.status.idle": "2022-04-25T09:12:17.881864Z",
     "shell.execute_reply": "2022-04-25T09:12:17.880889Z"
    },
    "papermill": {
     "duration": 0.022364,
     "end_time": "2022-04-25T09:12:17.884323",
     "exception": false,
     "start_time": "2022-04-25T09:12:17.861959",
     "status": "completed"
    },
    "tags": []
   },
   "outputs": [],
   "source": [
    "def breaker(num: int = 50, char: str = \"*\") -> None:\n",
    "    print(\"\\n\" + num*char + \"\\n\")\n",
    "\n",
    "\n",
    "def preprocess(image: np.ndarray, size: int) -> np.ndarray:\n",
    "    return cv2.resize(src=cv2.cvtColor(src=image, code=cv2.COLOR_BGR2RGB), dsize=(size, size), interpolation=cv2.INTER_AREA)\n",
    "\n",
    "\n",
    "def get_images(path: str, names: np.ndarray, size: int) -> np.ndarray:\n",
    "    images = np.zeros((len(names), size, size, 3), dtype=np.uint8)\n",
    "    \n",
    "    i = 0\n",
    "    for name in names:\n",
    "        images[i] = preprocess(cv2.imread(os.path.join(path, name), cv2.IMREAD_COLOR), size)\n",
    "        i += 1\n",
    "    return images\n",
    "\n",
    "\n",
    "def get_statistics(images: np.ndarray, size: int) -> None:\n",
    "    print(f\"Mean {size}x{size}\\n\")\n",
    "    print(f\"Red Channel Mean   {size} : {images[:, :, :, 0].mean() / 255:.5f}\")\n",
    "    print(f\"Green Channel Mean {size} : {images[:, :, :, 1].mean() / 255:.5f}\")\n",
    "    print(f\"Blue Channel Mean  {size} : {images[:, :, :, 2].mean() / 255:.5f}\")\n",
    "    print(\"\")\n",
    "    print(f\"Standard Deviation {size}x{size}\\n\")\n",
    "    print(f\"Red Channel Std    {size} : {images[:, :, :, 0].std() / 255:.5f}\")\n",
    "    print(f\"Green Channel Std  {size} : {images[:, :, :, 1].std() / 255:.5f}\")\n",
    "    print(f\"Blue Channel Std   {size} : {images[:, :, :, 2].std() / 255:.5f}\") "
   ]
  },
  {
   "cell_type": "code",
   "execution_count": 3,
   "id": "14d0da88",
   "metadata": {
    "execution": {
     "iopub.execute_input": "2022-04-25T09:12:17.895566Z",
     "iopub.status.busy": "2022-04-25T09:12:17.895272Z",
     "iopub.status.idle": "2022-04-25T09:15:00.189758Z",
     "shell.execute_reply": "2022-04-25T09:15:00.188656Z"
    },
    "papermill": {
     "duration": 162.303203,
     "end_time": "2022-04-25T09:15:00.192470",
     "exception": false,
     "start_time": "2022-04-25T09:12:17.889267",
     "status": "completed"
    },
    "tags": []
   },
   "outputs": [
    {
     "name": "stdout",
     "output_type": "stream",
     "text": [
      "\n",
      "**************************************************\n",
      "\n",
      "Mean 224x224\n",
      "\n",
      "Red Channel Mean   224 : 0.43366\n",
      "Green Channel Mean 224 : 0.33383\n",
      "Blue Channel Mean  224 : 0.30304\n",
      "\n",
      "Standard Deviation 224x224\n",
      "\n",
      "Red Channel Std    224 : 0.20464\n",
      "Green Channel Std  224 : 0.18087\n",
      "Blue Channel Std   224 : 0.18288\n",
      "\n",
      "**************************************************\n",
      "\n"
     ]
    }
   ],
   "source": [
    "sizes = [224]\n",
    "\n",
    "filenames = os.listdir(\"../input/faces-age-detection-dataset/Train\")\n",
    "\n",
    "breaker()\n",
    "for size in sizes:\n",
    "    images = get_images(\"../input/faces-age-detection-dataset/Train\", filenames, size)\n",
    "    np.save(f\"images_{size}.npy\", images)\n",
    "    get_statistics(images, size)\n",
    "    breaker()"
   ]
  }
 ],
 "metadata": {
  "kernelspec": {
   "display_name": "Python 3",
   "language": "python",
   "name": "python3"
  },
  "language_info": {
   "codemirror_mode": {
    "name": "ipython",
    "version": 3
   },
   "file_extension": ".py",
   "mimetype": "text/x-python",
   "name": "python",
   "nbconvert_exporter": "python",
   "pygments_lexer": "ipython3",
   "version": "3.7.12"
  },
  "papermill": {
   "default_parameters": {},
   "duration": 174.219215,
   "end_time": "2022-04-25T09:15:01.224782",
   "environment_variables": {},
   "exception": null,
   "input_path": "__notebook__.ipynb",
   "output_path": "__notebook__.ipynb",
   "parameters": {},
   "start_time": "2022-04-25T09:12:07.005567",
   "version": "2.3.4"
  }
 },
 "nbformat": 4,
 "nbformat_minor": 5
}
