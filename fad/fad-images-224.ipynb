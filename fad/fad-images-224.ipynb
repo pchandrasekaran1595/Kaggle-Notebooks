{
 "cells": [
  {
   "cell_type": "code",
   "execution_count": 1,
   "id": "38f3b5f9",
   "metadata": {
    "_cell_guid": "b1076dfc-b9ad-4769-8c92-a6c4dae69d19",
    "_uuid": "8f2839f25d086af736a60e9eeb907d3b93b6e0e5",
    "execution": {
     "iopub.execute_input": "2022-04-25T08:42:09.232827Z",
     "iopub.status.busy": "2022-04-25T08:42:09.231738Z",
     "iopub.status.idle": "2022-04-25T08:42:09.446146Z",
     "shell.execute_reply": "2022-04-25T08:42:09.445161Z"
    },
    "papermill": {
     "duration": 0.22463,
     "end_time": "2022-04-25T08:42:09.448903",
     "exception": false,
     "start_time": "2022-04-25T08:42:09.224273",
     "status": "completed"
    },
    "tags": []
   },
   "outputs": [],
   "source": [
    "import os\n",
    "import cv2\n",
    "import numpy as np"
   ]
  },
  {
   "cell_type": "code",
   "execution_count": 2,
   "id": "5e3f8b11",
   "metadata": {
    "execution": {
     "iopub.execute_input": "2022-04-25T08:42:09.460059Z",
     "iopub.status.busy": "2022-04-25T08:42:09.459801Z",
     "iopub.status.idle": "2022-04-25T08:42:09.472148Z",
     "shell.execute_reply": "2022-04-25T08:42:09.471185Z"
    },
    "papermill": {
     "duration": 0.020271,
     "end_time": "2022-04-25T08:42:09.474402",
     "exception": false,
     "start_time": "2022-04-25T08:42:09.454131",
     "status": "completed"
    },
    "tags": []
   },
   "outputs": [],
   "source": [
    "def breaker(num: int = 50, char: str = \"*\") -> None:\n",
    "    print(\"\\n\" + num*char + \"\\n\")\n",
    "\n",
    "\n",
    "def preprocess(image: np.ndarray, size: int) -> np.ndarray:\n",
    "    return cv2.resize(src=cv2.cvtColor(src=image, code=cv2.COLOR_BGR2RGB), dsize=(size, size), interpolation=cv2.INTER_AREA)\n",
    "\n",
    "\n",
    "def get_images(path: str, names: np.ndarray, size: int) -> np.ndarray:\n",
    "    images = np.zeros((len(names), size, size, 3), dtype=np.uint8)\n",
    "    \n",
    "    i = 0\n",
    "    for name in names:\n",
    "        images[i] = preprocess(cv2.imread(os.path.join(path, name), cv2.IMREAD_COLOR), size)\n",
    "        i += 1\n",
    "    return images\n",
    "\n",
    "\n",
    "def get_statistics(images: np.ndarray, size: int) -> None:\n",
    "    print(f\"Mean {size}x{size}\\n\")\n",
    "    print(f\"Red Channel Mean   {size} : {images[:, :, :, 0].mean() / 255:.5f}\")\n",
    "    print(f\"Green Channel Mean {size} : {images[:, :, :, 1].mean() / 255:.5f}\")\n",
    "    print(f\"Blue Channel Mean  {size} : {images[:, :, :, 2].mean() / 255:.5f}\")\n",
    "    print(\"\")\n",
    "    print(f\"Standard Deviation {size}x{size}\\n\")\n",
    "    print(f\"Red Channel Std    {size} : {images[:, :, :, 0].std() / 255:.5f}\")\n",
    "    print(f\"Green Channel Std  {size} : {images[:, :, :, 1].std() / 255:.5f}\")\n",
    "    print(f\"Blue Channel Std   {size} : {images[:, :, :, 2].std() / 255:.5f}\") "
   ]
  },
  {
   "cell_type": "code",
   "execution_count": 3,
   "id": "dc302bec",
   "metadata": {
    "execution": {
     "iopub.execute_input": "2022-04-25T08:42:09.486004Z",
     "iopub.status.busy": "2022-04-25T08:42:09.485117Z",
     "iopub.status.idle": "2022-04-25T08:44:06.809426Z",
     "shell.execute_reply": "2022-04-25T08:44:06.808107Z"
    },
    "papermill": {
     "duration": 117.332523,
     "end_time": "2022-04-25T08:44:06.811855",
     "exception": false,
     "start_time": "2022-04-25T08:42:09.479332",
     "status": "completed"
    },
    "tags": []
   },
   "outputs": [
    {
     "name": "stdout",
     "output_type": "stream",
     "text": [
      "\n",
      "**************************************************\n",
      "\n",
      "Mean 224x224\n",
      "\n",
      "Red Channel Mean   224 : 0.43366\n",
      "Green Channel Mean 224 : 0.33383\n",
      "Blue Channel Mean  224 : 0.30304\n",
      "\n",
      "Standard Deviation 224x224\n",
      "\n",
      "Red Channel Std    224 : 0.20464\n",
      "Green Channel Std  224 : 0.18087\n",
      "Blue Channel Std   224 : 0.18288\n",
      "\n",
      "**************************************************\n",
      "\n"
     ]
    }
   ],
   "source": [
    "sizes = [224]\n",
    "\n",
    "filenames = os.listdir(\"../input/faces-age-detection-dataset/Train\")\n",
    "\n",
    "breaker()\n",
    "for size in sizes:\n",
    "    images = get_images(\"../input/faces-age-detection-dataset/Train\", filenames, size)\n",
    "    np.save(f\"/images_{size}.npy\", images)\n",
    "    get_statistics(images, size)\n",
    "    breaker()"
   ]
  }
 ],
 "metadata": {
  "kernelspec": {
   "display_name": "Python 3",
   "language": "python",
   "name": "python3"
  },
  "language_info": {
   "codemirror_mode": {
    "name": "ipython",
    "version": 3
   },
   "file_extension": ".py",
   "mimetype": "text/x-python",
   "name": "python",
   "nbconvert_exporter": "python",
   "pygments_lexer": "ipython3",
   "version": "3.7.12"
  },
  "papermill": {
   "default_parameters": {},
   "duration": 128.573584,
   "end_time": "2022-04-25T08:44:07.641129",
   "environment_variables": {},
   "exception": null,
   "input_path": "__notebook__.ipynb",
   "output_path": "__notebook__.ipynb",
   "parameters": {},
   "start_time": "2022-04-25T08:41:59.067545",
   "version": "2.3.4"
  }
 },
 "nbformat": 4,
 "nbformat_minor": 5
}
