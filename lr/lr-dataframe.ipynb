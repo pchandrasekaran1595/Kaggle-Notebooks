{
 "cells": [
  {
   "cell_type": "code",
   "execution_count": 1,
   "id": "a56a6df4",
   "metadata": {
    "_cell_guid": "b1076dfc-b9ad-4769-8c92-a6c4dae69d19",
    "_uuid": "8f2839f25d086af736a60e9eeb907d3b93b6e0e5",
    "execution": {
     "iopub.execute_input": "2022-12-08T09:54:46.646445Z",
     "iopub.status.busy": "2022-12-08T09:54:46.645059Z",
     "iopub.status.idle": "2022-12-08T09:54:46.865273Z",
     "shell.execute_reply": "2022-12-08T09:54:46.864087Z"
    },
    "papermill": {
     "duration": 0.228655,
     "end_time": "2022-12-08T09:54:46.868560",
     "exception": false,
     "start_time": "2022-12-08T09:54:46.639905",
     "status": "completed"
    },
    "tags": []
   },
   "outputs": [],
   "source": [
    "import os\n",
    "import cv2\n",
    "import numpy as np\n",
    "import pandas as pd\n",
    "\n",
    "BASE_PATH: str = \"/kaggle/input/landscape-recognition-image-dataset-12k-images/Landscape Classification/Landscape Classification\"\n",
    "\n",
    "LABELS: dict = {\n",
    "    0 : \"Coast\",\n",
    "    1 : \"Desert\",\n",
    "    2 : \"Forest\",\n",
    "    3 : \"Glacier\",\n",
    "    4 : \"Mountain\"\n",
    "}"
   ]
  },
  {
   "cell_type": "code",
   "execution_count": 2,
   "id": "d321f81a",
   "metadata": {
    "execution": {
     "iopub.execute_input": "2022-12-08T09:54:46.874511Z",
     "iopub.status.busy": "2022-12-08T09:54:46.874142Z",
     "iopub.status.idle": "2022-12-08T09:54:46.890170Z",
     "shell.execute_reply": "2022-12-08T09:54:46.889031Z"
    },
    "papermill": {
     "duration": 0.021574,
     "end_time": "2022-12-08T09:54:46.892691",
     "exception": false,
     "start_time": "2022-12-08T09:54:46.871117",
     "status": "completed"
    },
    "tags": []
   },
   "outputs": [],
   "source": [
    "tr_df: pd.DataFrame = pd.DataFrame(data=None, columns=[\"filepaths\", \"labels\"])\n",
    "ts_df: pd.DataFrame = pd.DataFrame(data=None, columns=[\"filepaths\", \"labels\"])\n",
    "fu_df: pd.DataFrame = pd.DataFrame(data=None, columns=[\"filepaths\", \"labels\"])    "
   ]
  },
  {
   "cell_type": "code",
   "execution_count": 3,
   "id": "ec8b1169",
   "metadata": {
    "execution": {
     "iopub.execute_input": "2022-12-08T09:54:46.899040Z",
     "iopub.status.busy": "2022-12-08T09:54:46.898387Z",
     "iopub.status.idle": "2022-12-08T09:54:50.077825Z",
     "shell.execute_reply": "2022-12-08T09:54:50.076704Z"
    },
    "papermill": {
     "duration": 3.18565,
     "end_time": "2022-12-08T09:54:50.080651",
     "exception": false,
     "start_time": "2022-12-08T09:54:46.895001",
     "status": "completed"
    },
    "tags": []
   },
   "outputs": [],
   "source": [
    "tr_filepaths: list = []\n",
    "tr_labels: list = []\n",
    "\n",
    "va_filepaths: list = []\n",
    "va_labels: list = []\n",
    "\n",
    "i: int = 0\n",
    "for folder in sorted(os.listdir(f\"{BASE_PATH}/Training Data\")):\n",
    "    for filename in os.listdir(f\"{BASE_PATH}/Training Data/{folder}\"):\n",
    "        tr_filepaths.append(os.path.join(f\"{BASE_PATH}/Training Data/{folder}\", filename))\n",
    "        tr_labels.append(i)\n",
    "    i += 1\n",
    "\n",
    "    \n",
    "i: int = 0\n",
    "for folder in sorted(os.listdir(f\"{BASE_PATH}/Validation Data\")):\n",
    "    for filename in os.listdir(f\"{BASE_PATH}/Validation Data/{folder}\"):\n",
    "        va_filepaths.append(os.path.join(f\"{BASE_PATH}/Validation Data/{folder}\", filename))\n",
    "        va_labels.append(i)\n",
    "    i += 1\n",
    "\n",
    "tr_df.filepaths = tr_filepaths + va_filepaths\n",
    "tr_df.labels = tr_labels + va_labels\n",
    "tr_df.to_csv(\"train.csv\", index=False)"
   ]
  },
  {
   "cell_type": "code",
   "execution_count": 4,
   "id": "4109c667",
   "metadata": {
    "execution": {
     "iopub.execute_input": "2022-12-08T09:54:50.087518Z",
     "iopub.status.busy": "2022-12-08T09:54:50.086768Z",
     "iopub.status.idle": "2022-12-08T09:54:50.359654Z",
     "shell.execute_reply": "2022-12-08T09:54:50.358454Z"
    },
    "papermill": {
     "duration": 0.279435,
     "end_time": "2022-12-08T09:54:50.362522",
     "exception": false,
     "start_time": "2022-12-08T09:54:50.083087",
     "status": "completed"
    },
    "tags": []
   },
   "outputs": [],
   "source": [
    "filepaths: list = []\n",
    "labels: list = []\n",
    "\n",
    "i: int = 0    \n",
    "for folder in sorted(os.listdir(f\"{BASE_PATH}/Testing Data\")):\n",
    "    for filename in os.listdir(f\"{BASE_PATH}/Testing Data/{folder}\"):\n",
    "        filepaths.append(os.path.join(f\"{BASE_PATH}/Testing Data/{folder}\", filename))\n",
    "        labels.append(i)\n",
    "    i += 1\n",
    "\n",
    "ts_df.filepaths = filepaths\n",
    "ts_df.labels = labels\n",
    "ts_df.to_csv(\"test.csv\", index=False)"
   ]
  },
  {
   "cell_type": "code",
   "execution_count": 5,
   "id": "2b49aabb",
   "metadata": {
    "execution": {
     "iopub.execute_input": "2022-12-08T09:54:50.368588Z",
     "iopub.status.busy": "2022-12-08T09:54:50.368150Z",
     "iopub.status.idle": "2022-12-08T09:54:50.436123Z",
     "shell.execute_reply": "2022-12-08T09:54:50.434573Z"
    },
    "papermill": {
     "duration": 0.075894,
     "end_time": "2022-12-08T09:54:50.440830",
     "exception": false,
     "start_time": "2022-12-08T09:54:50.364936",
     "status": "completed"
    },
    "tags": []
   },
   "outputs": [],
   "source": [
    "fu_df.filepaths = tr_filepaths + va_filepaths + filepaths\n",
    "fu_df.labels = tr_labels + va_labels + labels\n",
    "fu_df.to_csv(\"full.csv\", index=False)"
   ]
  }
 ],
 "metadata": {
  "kernelspec": {
   "display_name": "Python 3",
   "language": "python",
   "name": "python3"
  },
  "language_info": {
   "codemirror_mode": {
    "name": "ipython",
    "version": 3
   },
   "file_extension": ".py",
   "mimetype": "text/x-python",
   "name": "python",
   "nbconvert_exporter": "python",
   "pygments_lexer": "ipython3",
   "version": "3.7.12"
  },
  "papermill": {
   "default_parameters": {},
   "duration": 12.668283,
   "end_time": "2022-12-08T09:54:51.069940",
   "environment_variables": {},
   "exception": null,
   "input_path": "__notebook__.ipynb",
   "output_path": "__notebook__.ipynb",
   "parameters": {},
   "start_time": "2022-12-08T09:54:38.401657",
   "version": "2.3.4"
  }
 },
 "nbformat": 4,
 "nbformat_minor": 5
}
