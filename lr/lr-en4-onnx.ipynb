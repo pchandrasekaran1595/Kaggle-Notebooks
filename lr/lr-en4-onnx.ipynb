{
 "cells": [
  {
   "cell_type": "code",
   "execution_count": 1,
   "id": "e747b403",
   "metadata": {
    "_cell_guid": "b1076dfc-b9ad-4769-8c92-a6c4dae69d19",
    "_uuid": "8f2839f25d086af736a60e9eeb907d3b93b6e0e5",
    "execution": {
     "iopub.execute_input": "2022-12-08T21:59:20.630984Z",
     "iopub.status.busy": "2022-12-08T21:59:20.630445Z",
     "iopub.status.idle": "2022-12-08T21:59:58.134977Z",
     "shell.execute_reply": "2022-12-08T21:59:58.133162Z"
    },
    "papermill": {
     "duration": 37.523939,
     "end_time": "2022-12-08T21:59:58.139650",
     "exception": false,
     "start_time": "2022-12-08T21:59:20.615711",
     "status": "completed"
    },
    "tags": []
   },
   "outputs": [
    {
     "name": "stderr",
     "output_type": "stream",
     "text": [
      "WARNING: Running pip as the 'root' user can result in broken permissions and conflicting behaviour with the system package manager. It is recommended to use a virtual environment instead: https://pip.pypa.io/warnings/venv\n",
      "WARNING: Running pip as the 'root' user can result in broken permissions and conflicting behaviour with the system package manager. It is recommended to use a virtual environment instead: https://pip.pypa.io/warnings/venv\n",
      "WARNING: Running pip as the 'root' user can result in broken permissions and conflicting behaviour with the system package manager. It is recommended to use a virtual environment instead: https://pip.pypa.io/warnings/venv\n"
     ]
    }
   ],
   "source": [
    "%%bash\n",
    "pip install timm -q\n",
    "pip install onnx -q\n",
    "pip install onnxruntime -q"
   ]
  },
  {
   "cell_type": "code",
   "execution_count": 2,
   "id": "73cc4a2a",
   "metadata": {
    "execution": {
     "iopub.execute_input": "2022-12-08T21:59:58.147769Z",
     "iopub.status.busy": "2022-12-08T21:59:58.147347Z",
     "iopub.status.idle": "2022-12-08T22:00:01.581922Z",
     "shell.execute_reply": "2022-12-08T22:00:01.580535Z"
    },
    "papermill": {
     "duration": 3.441897,
     "end_time": "2022-12-08T22:00:01.584673",
     "exception": false,
     "start_time": "2022-12-08T21:59:58.142776",
     "status": "completed"
    },
    "tags": []
   },
   "outputs": [],
   "source": [
    "import os\n",
    "import sys\n",
    "import cv2\n",
    "import onnx\n",
    "import timm\n",
    "import torch\n",
    "import random as r\n",
    "import numpy as np\n",
    "import pandas as pd\n",
    "import onnxruntime as ort\n",
    "import matplotlib.pyplot as plt\n",
    "\n",
    "from typing import Union\n",
    "from torchvision import models\n",
    "from IPython.display import clear_output\n",
    "\n",
    "import warnings\n",
    "warnings.filterwarnings(\"ignore\")"
   ]
  },
  {
   "cell_type": "code",
   "execution_count": 3,
   "id": "f93981e9",
   "metadata": {
    "execution": {
     "iopub.execute_input": "2022-12-08T22:00:01.593201Z",
     "iopub.status.busy": "2022-12-08T22:00:01.591949Z",
     "iopub.status.idle": "2022-12-08T22:00:01.600110Z",
     "shell.execute_reply": "2022-12-08T22:00:01.598860Z"
    },
    "papermill": {
     "duration": 0.014552,
     "end_time": "2022-12-08T22:00:01.602264",
     "exception": false,
     "start_time": "2022-12-08T22:00:01.587712",
     "status": "completed"
    },
    "tags": []
   },
   "outputs": [],
   "source": [
    "labels: dict = {\n",
    "    0 : \"Coast\",\n",
    "    1 : \"Desert\",\n",
    "    2 : \"Forest\",\n",
    "    3 : \"Glacier\",\n",
    "    4 : \"Mountain\"\n",
    "}\n",
    "    \n",
    "    \n",
    "def breaker() -> None:\n",
    "    print(\"\\n\" + 50*\"*\" + \"\\n\")\n",
    "\n",
    "\n",
    "def get_image(path: str, size: int=224) -> np.ndarray:\n",
    "    image = cv2.imread(path, cv2.IMREAD_COLOR)\n",
    "    image = cv2.cvtColor(src=image, code=cv2.COLOR_BGR2RGB)\n",
    "    return cv2.resize(src=image, dsize=(size, size), interpolation=cv2.INTER_AREA)"
   ]
  },
  {
   "cell_type": "code",
   "execution_count": 4,
   "id": "ca4140f5",
   "metadata": {
    "execution": {
     "iopub.execute_input": "2022-12-08T22:00:01.610186Z",
     "iopub.status.busy": "2022-12-08T22:00:01.609457Z",
     "iopub.status.idle": "2022-12-08T22:00:01.618430Z",
     "shell.execute_reply": "2022-12-08T22:00:01.617366Z"
    },
    "papermill": {
     "duration": 0.01559,
     "end_time": "2022-12-08T22:00:01.620806",
     "exception": false,
     "start_time": "2022-12-08T22:00:01.605216",
     "status": "completed"
    },
    "tags": []
   },
   "outputs": [],
   "source": [
    "class Model(torch.nn.Module):\n",
    "    def __init__(self):\n",
    "        super(Model, self).__init__()\n",
    "        \n",
    "        self.model = timm.create_model(model_name=\"efficientnet_b4\", pretrained=False)\n",
    "        self.model.classifier = torch.nn.Linear(in_features=self.model.classifier.in_features, out_features=5)\n",
    "\n",
    "    def forward(self, x):\n",
    "        return self.model(x)\n",
    "\n",
    "    \n",
    "    \n",
    "class CFG(object):  \n",
    "    def __init__(\n",
    "        self, \n",
    "        in_channels: int=3, \n",
    "        size: int=256, \n",
    "        opset_version: int=9, \n",
    "        path: str=None\n",
    "    ):\n",
    "        self.in_channels = in_channels\n",
    "        self.size = size\n",
    "        self.dummy = torch.randn(1, self.in_channels, self.size, self.size)\n",
    "        self.opset_version = opset_version\n",
    "        self.path = path"
   ]
  },
  {
   "cell_type": "code",
   "execution_count": 5,
   "id": "04281117",
   "metadata": {
    "execution": {
     "iopub.execute_input": "2022-12-08T22:00:01.628695Z",
     "iopub.status.busy": "2022-12-08T22:00:01.628253Z",
     "iopub.status.idle": "2022-12-08T22:00:29.213488Z",
     "shell.execute_reply": "2022-12-08T22:00:29.212118Z"
    },
    "papermill": {
     "duration": 27.592486,
     "end_time": "2022-12-08T22:00:29.216341",
     "exception": false,
     "start_time": "2022-12-08T22:00:01.623855",
     "status": "completed"
    },
    "tags": []
   },
   "outputs": [
    {
     "name": "stdout",
     "output_type": "stream",
     "text": [
      "\n",
      "**************************************************\n",
      "\n",
      "Model size: 67.455 MB\n",
      "\n",
      "**************************************************\n",
      "\n"
     ]
    }
   ],
   "source": [
    "cfg = CFG(\n",
    "    in_channels=3, \n",
    "    size=384, \n",
    "    opset_version=13, \n",
    "    path=\"/kaggle/input/lr-en4-a384-e10-f4/saves/ble_state_fold_4.pt\"\n",
    ")\n",
    "\n",
    "model = Model()\n",
    "model.load_state_dict(torch.load(cfg.path, map_location=torch.device(\"cpu\"))[\"model_state_dict\"])\n",
    "model.eval()\n",
    "\n",
    "clear_output()\n",
    "\n",
    "param_size: float = 0\n",
    "for param in model.parameters():\n",
    "    param_size += param.nelement() * param.element_size()\n",
    "\n",
    "buffer_size: float = 0\n",
    "for buffer in model.buffers():\n",
    "    buffer_size += buffer.nelement() * buffer.element_size()\n",
    "\n",
    "size_all_mb: float = (param_size + buffer_size) / 1024**2\n",
    "\n",
    "breaker()\n",
    "print(f\"Model size: {size_all_mb:.3f} MB\")\n",
    "breaker()\n",
    "\n",
    "torch.onnx.export(\n",
    "    model=model, \n",
    "    args=cfg.dummy, \n",
    "    f=f\"lr-en4-f4.onnx\", \n",
    "    input_names=[\"input\"], \n",
    "    output_names=[\"output\"], \n",
    "    opset_version=cfg.opset_version,\n",
    "    export_params=True,\n",
    "    training=torch.onnx.TrainingMode.EVAL,\n",
    "    operator_export_type=torch.onnx.OperatorExportTypes.ONNX_ATEN_FALLBACK,\n",
    "    dynamic_axes={\n",
    "      \"input\"  : {0 : \"batch_size\"},\n",
    "      \"output\" : {0 : \"batch_size\"},\n",
    "    }\n",
    ")"
   ]
  },
  {
   "cell_type": "code",
   "execution_count": 6,
   "id": "4cfe9a48",
   "metadata": {
    "execution": {
     "iopub.execute_input": "2022-12-08T22:00:29.224155Z",
     "iopub.status.busy": "2022-12-08T22:00:29.223692Z",
     "iopub.status.idle": "2022-12-08T22:00:29.474559Z",
     "shell.execute_reply": "2022-12-08T22:00:29.473641Z"
    },
    "papermill": {
     "duration": 0.258175,
     "end_time": "2022-12-08T22:00:29.477666",
     "exception": false,
     "start_time": "2022-12-08T22:00:29.219491",
     "status": "completed"
    },
    "tags": []
   },
   "outputs": [],
   "source": [
    "class OnnxModel(object):\n",
    "    def __init__(self, path: str) -> None:\n",
    "        self.ort_session = None\n",
    "        self.size: int = 384\n",
    "        \n",
    "        self.mean: list = [0.46760, 0.48815, 0.46459]\n",
    "        self.std: list  = [0.22580, 0.20756, 0.22759]\n",
    "        \n",
    "        self.path: str = path\n",
    "\n",
    "        ort.set_default_logger_severity(3)\n",
    "    \n",
    "    def setup(self) -> None:\n",
    "        model = onnx.load(self.path)\n",
    "        onnx.checker.check_model(model)\n",
    "        self.ort_session = ort.InferenceSession(self.path)\n",
    "    \n",
    "    def infer(self, image: np.ndarray, labels: dict) -> np.ndarray:\n",
    "        h, w, _ = image.shape\n",
    "\n",
    "        image = image / 255\n",
    "        image = cv2.resize(src=image, dsize=(self.size, self.size), interpolation=cv2.INTER_AREA).transpose(2, 0, 1)\n",
    "        for i in range(image.shape[0]): image[i, :, :] = (image[i, :, :] - self.mean[i]) / self.std[i]\n",
    "        image = np.expand_dims(image, axis=0)\n",
    "        input = {self.ort_session.get_inputs()[0].name : image.astype(\"float32\")}\n",
    "        return labels[np.argmax(self.ort_session.run(None, input))].title()\n",
    "\n",
    "    \n",
    "onnx_model: OnnxModel = OnnxModel(f\"lr-en4-f4.onnx\")\n",
    "onnx_model.setup()"
   ]
  },
  {
   "cell_type": "code",
   "execution_count": 7,
   "id": "51d793d5",
   "metadata": {
    "execution": {
     "iopub.execute_input": "2022-12-08T22:00:29.486163Z",
     "iopub.status.busy": "2022-12-08T22:00:29.485534Z",
     "iopub.status.idle": "2022-12-08T22:00:33.032228Z",
     "shell.execute_reply": "2022-12-08T22:00:33.030851Z"
    },
    "papermill": {
     "duration": 3.553993,
     "end_time": "2022-12-08T22:00:33.034854",
     "exception": false,
     "start_time": "2022-12-08T22:00:29.480861",
     "status": "completed"
    },
    "tags": []
   },
   "outputs": [
    {
     "name": "stdout",
     "output_type": "stream",
     "text": [
      "\n",
      "**************************************************\n",
      "\n",
      "1. Actual     : Desert\n",
      "1. Prediction : Desert\n",
      "\n",
      "**************************************************\n",
      "\n",
      "2. Actual     : Forest\n",
      "2. Prediction : Forest\n",
      "\n",
      "**************************************************\n",
      "\n",
      "3. Actual     : Desert\n",
      "3. Prediction : Desert\n",
      "\n",
      "**************************************************\n",
      "\n",
      "4. Actual     : Mountain\n",
      "4. Prediction : Glacier\n",
      "\n",
      "**************************************************\n",
      "\n",
      "5. Actual     : Coast\n",
      "5. Prediction : Coast\n",
      "\n",
      "**************************************************\n",
      "\n",
      "6. Actual     : Mountain\n",
      "6. Prediction : Mountain\n",
      "\n",
      "**************************************************\n",
      "\n",
      "7. Actual     : Glacier\n",
      "7. Prediction : Glacier\n",
      "\n",
      "**************************************************\n",
      "\n",
      "8. Actual     : Forest\n",
      "8. Prediction : Forest\n",
      "\n",
      "**************************************************\n",
      "\n",
      "9. Actual     : Coast\n",
      "9. Prediction : Coast\n",
      "\n",
      "**************************************************\n",
      "\n"
     ]
    }
   ],
   "source": [
    "df = pd.read_csv(\"/kaggle/input/lr-dataframe/test.csv\")\n",
    "\n",
    "\n",
    "breaker()\n",
    "for i in range(9):\n",
    "    index = r.randint(0, len(df)-1)\n",
    "    \n",
    "    filepath = df.iloc[index, 0]\n",
    "    y_true   = df.iloc[index, 1]\n",
    "    \n",
    "    image = get_image(filepath, cfg.size)\n",
    "\n",
    "    y_pred = onnx_model.infer(image, labels)\n",
    "\n",
    "    print(f\"{i+1}. Actual     : {labels[y_true]}\") \n",
    "    print(f\"{i+1}. Prediction : {y_pred}\")\n",
    "\n",
    "    breaker()"
   ]
  }
 ],
 "metadata": {
  "kernelspec": {
   "display_name": "Python 3",
   "language": "python",
   "name": "python3"
  },
  "language_info": {
   "codemirror_mode": {
    "name": "ipython",
    "version": 3
   },
   "file_extension": ".py",
   "mimetype": "text/x-python",
   "name": "python",
   "nbconvert_exporter": "python",
   "pygments_lexer": "ipython3",
   "version": "3.7.12"
  },
  "papermill": {
   "default_parameters": {},
   "duration": 82.26301,
   "end_time": "2022-12-08T22:00:34.263922",
   "environment_variables": {},
   "exception": null,
   "input_path": "__notebook__.ipynb",
   "output_path": "__notebook__.ipynb",
   "parameters": {},
   "start_time": "2022-12-08T21:59:12.000912",
   "version": "2.3.4"
  }
 },
 "nbformat": 4,
 "nbformat_minor": 5
}
