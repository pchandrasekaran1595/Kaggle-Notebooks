{
 "cells": [
  {
   "cell_type": "code",
   "execution_count": 1,
   "id": "130087c3",
   "metadata": {
    "_cell_guid": "b1076dfc-b9ad-4769-8c92-a6c4dae69d19",
    "_uuid": "8f2839f25d086af736a60e9eeb907d3b93b6e0e5",
    "execution": {
     "iopub.execute_input": "2022-07-17T08:00:07.391750Z",
     "iopub.status.busy": "2022-07-17T08:00:07.390978Z",
     "iopub.status.idle": "2022-07-17T08:00:20.627896Z",
     "shell.execute_reply": "2022-07-17T08:00:20.626814Z"
    },
    "papermill": {
     "duration": 13.243152,
     "end_time": "2022-07-17T08:00:20.630167",
     "exception": false,
     "start_time": "2022-07-17T08:00:07.387015",
     "status": "completed"
    },
    "tags": []
   },
   "outputs": [
    {
     "name": "stderr",
     "output_type": "stream",
     "text": [
      "WARNING: Running pip as the 'root' user can result in broken permissions and conflicting behaviour with the system package manager. It is recommended to use a virtual environment instead: https://pip.pypa.io/warnings/venv\n"
     ]
    }
   ],
   "source": [
    "%%bash\n",
    "pip install tifffile -q"
   ]
  },
  {
   "cell_type": "code",
   "execution_count": 2,
   "id": "8637f787",
   "metadata": {
    "execution": {
     "iopub.execute_input": "2022-07-17T08:00:20.637029Z",
     "iopub.status.busy": "2022-07-17T08:00:20.636741Z",
     "iopub.status.idle": "2022-07-17T08:00:20.990698Z",
     "shell.execute_reply": "2022-07-17T08:00:20.989756Z"
    },
    "papermill": {
     "duration": 0.359697,
     "end_time": "2022-07-17T08:00:20.992782",
     "exception": false,
     "start_time": "2022-07-17T08:00:20.633085",
     "status": "completed"
    },
    "tags": []
   },
   "outputs": [],
   "source": [
    "import os\n",
    "import gc\n",
    "import cv2\n",
    "import math\n",
    "import random as r\n",
    "import numpy as np\n",
    "import pandas as pd\n",
    "import tifffile as tifi\n",
    "\n",
    "from time import sleep\n",
    "\n",
    "sleep_time: float = 3.5"
   ]
  },
  {
   "cell_type": "code",
   "execution_count": 3,
   "id": "d691440d",
   "metadata": {
    "execution": {
     "iopub.execute_input": "2022-07-17T08:00:20.997747Z",
     "iopub.status.busy": "2022-07-17T08:00:20.997430Z",
     "iopub.status.idle": "2022-07-17T08:00:21.011930Z",
     "shell.execute_reply": "2022-07-17T08:00:21.011149Z"
    },
    "papermill": {
     "duration": 0.018836,
     "end_time": "2022-07-17T08:00:21.013540",
     "exception": false,
     "start_time": "2022-07-17T08:00:20.994704",
     "status": "completed"
    },
    "tags": []
   },
   "outputs": [],
   "source": [
    "def breaker(num: int=50, char: str=\"*\") -> None:\n",
    "    print(\"\\n\" + num*char + \"\\n\")\n",
    "\n",
    "\n",
    "def get_ram_usage() -> None:\n",
    "    print(f\"RAM Usage : {psutil.virtual_memory().percent / 100 * 16:.2f} GB\")\n",
    "    \n",
    "\n",
    "def preprocess_keep_aspect_ratio(image: np.ndarray, size: int=1024) -> np.ndarray:\n",
    "    h, w, _ = image.shape\n",
    "\n",
    "    scale = min(size / w, size / h)\n",
    "    nh, nw = math.ceil(h * scale), math.ceil(w * scale)\n",
    "\n",
    "    image = cv2.resize(src=image, dsize=(nw, nh), interpolation=cv2.INTER_AREA)\n",
    "    new_image = np.ones((size, size, 3), dtype=np.uint8) * 127\n",
    "    hh: int = (size - nh) // 2\n",
    "    ww: int = (size - nw) // 2\n",
    "\n",
    "    if abs(nh-(size - 2*hh)) == 1: new_image[hh:size-hh-1, ww:size-ww, :] = image\n",
    "    elif abs(nw-(size - 2*ww)) == 1: new_image[hh:size-hh, ww:size-ww-1, :] = image\n",
    "    else: new_image[hh:size-hh, ww:size-ww, :] = image\n",
    "    \n",
    "    return new_image\n",
    "\n",
    "\n",
    "def preprocess(image: np.ndarray, size: int=1024) -> np.ndarray:\n",
    "    return cv2.resize(src=image, dsize=(size, size), interpolation=cv2.INTER_AREA)\n",
    "\n",
    "\n",
    "def show(image: np.ndarray, title: str=None) -> None:\n",
    "    plt.figure()\n",
    "    plt.imshow(image)\n",
    "    if title: plt.title(title)\n",
    "    plt.show()"
   ]
  },
  {
   "cell_type": "code",
   "execution_count": 4,
   "id": "d8e55346",
   "metadata": {
    "execution": {
     "iopub.execute_input": "2022-07-17T08:00:21.019100Z",
     "iopub.status.busy": "2022-07-17T08:00:21.018157Z",
     "iopub.status.idle": "2022-07-17T08:00:21.050802Z",
     "shell.execute_reply": "2022-07-17T08:00:21.050099Z"
    },
    "papermill": {
     "duration": 0.037418,
     "end_time": "2022-07-17T08:00:21.052892",
     "exception": false,
     "start_time": "2022-07-17T08:00:21.015474",
     "status": "completed"
    },
    "tags": []
   },
   "outputs": [
    {
     "data": {
      "text/html": [
       "<div>\n",
       "<style scoped>\n",
       "    .dataframe tbody tr th:only-of-type {\n",
       "        vertical-align: middle;\n",
       "    }\n",
       "\n",
       "    .dataframe tbody tr th {\n",
       "        vertical-align: top;\n",
       "    }\n",
       "\n",
       "    .dataframe thead th {\n",
       "        text-align: right;\n",
       "    }\n",
       "</style>\n",
       "<table border=\"1\" class=\"dataframe\">\n",
       "  <thead>\n",
       "    <tr style=\"text-align: right;\">\n",
       "      <th></th>\n",
       "      <th>image_id</th>\n",
       "      <th>center_id</th>\n",
       "      <th>patient_id</th>\n",
       "      <th>image_num</th>\n",
       "      <th>label</th>\n",
       "    </tr>\n",
       "  </thead>\n",
       "  <tbody>\n",
       "    <tr>\n",
       "      <th>0</th>\n",
       "      <td>006388_0</td>\n",
       "      <td>11</td>\n",
       "      <td>006388</td>\n",
       "      <td>0</td>\n",
       "      <td>CE</td>\n",
       "    </tr>\n",
       "    <tr>\n",
       "      <th>1</th>\n",
       "      <td>008e5c_0</td>\n",
       "      <td>11</td>\n",
       "      <td>008e5c</td>\n",
       "      <td>0</td>\n",
       "      <td>CE</td>\n",
       "    </tr>\n",
       "    <tr>\n",
       "      <th>2</th>\n",
       "      <td>00c058_0</td>\n",
       "      <td>11</td>\n",
       "      <td>00c058</td>\n",
       "      <td>0</td>\n",
       "      <td>LAA</td>\n",
       "    </tr>\n",
       "    <tr>\n",
       "      <th>3</th>\n",
       "      <td>01adc5_0</td>\n",
       "      <td>11</td>\n",
       "      <td>01adc5</td>\n",
       "      <td>0</td>\n",
       "      <td>LAA</td>\n",
       "    </tr>\n",
       "    <tr>\n",
       "      <th>4</th>\n",
       "      <td>026c97_0</td>\n",
       "      <td>4</td>\n",
       "      <td>026c97</td>\n",
       "      <td>0</td>\n",
       "      <td>CE</td>\n",
       "    </tr>\n",
       "  </tbody>\n",
       "</table>\n",
       "</div>"
      ],
      "text/plain": [
       "   image_id  center_id patient_id  image_num label\n",
       "0  006388_0         11     006388          0    CE\n",
       "1  008e5c_0         11     008e5c          0    CE\n",
       "2  00c058_0         11     00c058          0   LAA\n",
       "3  01adc5_0         11     01adc5          0   LAA\n",
       "4  026c97_0          4     026c97          0    CE"
      ]
     },
     "execution_count": 4,
     "metadata": {},
     "output_type": "execute_result"
    }
   ],
   "source": [
    "df = pd.read_csv(\"../input/mayo-clinic-strip-ai/train.csv\")\n",
    "df.head(5)"
   ]
  },
  {
   "cell_type": "code",
   "execution_count": 5,
   "id": "5c7cca49",
   "metadata": {
    "execution": {
     "iopub.execute_input": "2022-07-17T08:00:21.060457Z",
     "iopub.status.busy": "2022-07-17T08:00:21.059622Z",
     "iopub.status.idle": "2022-07-17T12:13:55.541266Z",
     "shell.execute_reply": "2022-07-17T12:13:55.535792Z"
    },
    "papermill": {
     "duration": 15214.496401,
     "end_time": "2022-07-17T12:13:55.552257",
     "exception": false,
     "start_time": "2022-07-17T08:00:21.055856",
     "status": "completed"
    },
    "tags": []
   },
   "outputs": [],
   "source": [
    "filenames = df.image_id.copy().values\n",
    "# filenames = filenames[:10]\n",
    "\n",
    "size: int = 1024\n",
    "\n",
    "for filename in filenames:\n",
    "    image = tifi.imread(f\"../input/mayo-clinic-strip-ai/train/{filename}.tif\")\n",
    "    image = preprocess(image, size)\n",
    "    cv2.imwrite(f\"{filename}.png\", image)\n",
    "    \n",
    "    del image\n",
    "    gc.collect()\n",
    "    sleep(sleep_time)"
   ]
  }
 ],
 "metadata": {
  "kernelspec": {
   "display_name": "Python 3",
   "language": "python",
   "name": "python3"
  },
  "language_info": {
   "codemirror_mode": {
    "name": "ipython",
    "version": 3
   },
   "file_extension": ".py",
   "mimetype": "text/x-python",
   "name": "python",
   "nbconvert_exporter": "python",
   "pygments_lexer": "ipython3",
   "version": "3.7.12"
  },
  "papermill": {
   "default_parameters": {},
   "duration": 15242.007533,
   "end_time": "2022-07-17T12:13:58.519024",
   "environment_variables": {},
   "exception": null,
   "input_path": "__notebook__.ipynb",
   "output_path": "__notebook__.ipynb",
   "parameters": {},
   "start_time": "2022-07-17T07:59:56.511491",
   "version": "2.3.4"
  }
 },
 "nbformat": 4,
 "nbformat_minor": 5
}
