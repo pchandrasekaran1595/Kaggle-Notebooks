{
 "cells": [
  {
   "cell_type": "markdown",
   "id": "376fe4a2",
   "metadata": {
    "_cell_guid": "b1076dfc-b9ad-4769-8c92-a6c4dae69d19",
    "_uuid": "8f2839f25d086af736a60e9eeb907d3b93b6e0e5",
    "papermill": {
     "duration": 0.00469,
     "end_time": "2022-06-18T15:03:42.719779",
     "exception": false,
     "start_time": "2022-06-18T15:03:42.715089",
     "status": "completed"
    },
    "tags": []
   },
   "source": [
    "### **Library Imports**"
   ]
  },
  {
   "cell_type": "code",
   "execution_count": 1,
   "id": "dda1820f",
   "metadata": {
    "execution": {
     "iopub.execute_input": "2022-06-18T15:03:42.732299Z",
     "iopub.status.busy": "2022-06-18T15:03:42.731243Z",
     "iopub.status.idle": "2022-06-18T15:03:45.374258Z",
     "shell.execute_reply": "2022-06-18T15:03:45.373187Z"
    },
    "papermill": {
     "duration": 2.651293,
     "end_time": "2022-06-18T15:03:45.377282",
     "exception": false,
     "start_time": "2022-06-18T15:03:42.725989",
     "status": "completed"
    },
    "tags": []
   },
   "outputs": [],
   "source": [
    "import os\n",
    "import re\n",
    "import torch\n",
    "import numpy as np\n",
    "import pandas as pd\n",
    "import matplotlib.pyplot as plt\n",
    "\n",
    "from time import time\n",
    "from torch import nn, optim\n",
    "from torch.utils.data import Dataset\n",
    "from torch.utils.data import DataLoader as DL\n",
    "from torchvision import models, transforms\n",
    "\n",
    "from sklearn.model_selection import StratifiedKFold\n",
    "from sklearn.preprocessing import LabelEncoder\n",
    "from sklearn.metrics import accuracy_score"
   ]
  },
  {
   "cell_type": "markdown",
   "id": "61d1076f",
   "metadata": {
    "papermill": {
     "duration": 0.006435,
     "end_time": "2022-06-18T15:03:45.389213",
     "exception": false,
     "start_time": "2022-06-18T15:03:45.382778",
     "status": "completed"
    },
    "tags": []
   },
   "source": [
    "### **Utilities and Helpers**"
   ]
  },
  {
   "cell_type": "code",
   "execution_count": 2,
   "id": "6f7e0e96",
   "metadata": {
    "execution": {
     "iopub.execute_input": "2022-06-18T15:03:45.406219Z",
     "iopub.status.busy": "2022-06-18T15:03:45.403773Z",
     "iopub.status.idle": "2022-06-18T15:03:45.425349Z",
     "shell.execute_reply": "2022-06-18T15:03:45.424310Z"
    },
    "papermill": {
     "duration": 0.031996,
     "end_time": "2022-06-18T15:03:45.427776",
     "exception": false,
     "start_time": "2022-06-18T15:03:45.395780",
     "status": "completed"
    },
    "tags": []
   },
   "outputs": [],
   "source": [
    "SEED = 42\n",
    "SIZE = 512\n",
    "FOLD = 3\n",
    "le = LabelEncoder()\n",
    "\n",
    "\n",
    "def breaker(num: int=50, char: str=\"*\") -> None:\n",
    "    print(\"\\n\" + num*char + \"\\n\")\n",
    "\n",
    "    \n",
    "def show_loss_graphs(A: list) -> None:\n",
    "    TL, VL = [], []\n",
    "    for i in range(len(L)):\n",
    "        TL.append(L[i][\"train\"])\n",
    "        VL.append(L[i][\"valid\"])\n",
    "    x_Axis = np.arange(1, len(TL) + 1)\n",
    "    plt.figure()\n",
    "    plt.plot(x_Axis, TL, \"r\", label=\"Train\")\n",
    "    plt.plot(x_Axis, VL, \"b\", label=\"Valid\")\n",
    "    plt.legend()\n",
    "    plt.grid()\n",
    "    plt.title(\"Loss Graph\")\n",
    "    plt.show()\n",
    "\n",
    "    \n",
    "def show_accuracy_graphs(A: list) -> None:\n",
    "    TA, VA = [], []\n",
    "    for i in range(len(L)):\n",
    "        TA.append(A[i][\"train\"])\n",
    "        VA.append(A[i][\"valid\"])\n",
    "    x_Axis = np.arange(1, len(TA) + 1)\n",
    "    plt.figure()\n",
    "    plt.plot(x_Axis, TA, \"r\", label=\"Train\")\n",
    "    plt.plot(x_Axis, VA, \"b\", label=\"Valid\")\n",
    "    plt.legend()\n",
    "    plt.grid()\n",
    "    plt.title(\"Accuracy Graph\")\n",
    "    plt.show()\n",
    "\n",
    "\n",
    "def show_lr_graph(LR: list) -> None:\n",
    "    x_Axis = [i+1 for i in range(len(LR))]\n",
    "    plt.figure(figsize=(8, 6))\n",
    "    plt.plot(x_Axis, LR, \"rx\")\n",
    "    plt.grid()\n",
    "    plt.show()"
   ]
  },
  {
   "cell_type": "markdown",
   "id": "56067e31",
   "metadata": {
    "papermill": {
     "duration": 0.003918,
     "end_time": "2022-06-18T15:03:45.436554",
     "exception": false,
     "start_time": "2022-06-18T15:03:45.432636",
     "status": "completed"
    },
    "tags": []
   },
   "source": [
    "### **Configuration**"
   ]
  },
  {
   "cell_type": "code",
   "execution_count": 3,
   "id": "42183963",
   "metadata": {
    "execution": {
     "iopub.execute_input": "2022-06-18T15:03:45.445764Z",
     "iopub.status.busy": "2022-06-18T15:03:45.444949Z",
     "iopub.status.idle": "2022-06-18T15:03:45.500615Z",
     "shell.execute_reply": "2022-06-18T15:03:45.499672Z"
    },
    "papermill": {
     "duration": 0.062531,
     "end_time": "2022-06-18T15:03:45.502761",
     "exception": false,
     "start_time": "2022-06-18T15:03:45.440230",
     "status": "completed"
    },
    "tags": []
   },
   "outputs": [],
   "source": [
    "class CFG(object):\n",
    "    def __init__(self, \n",
    "                 seed: int = 42,\n",
    "                 n_splits: int = 5,\n",
    "                 batch_size: int = 16,\n",
    "                 epochs: int = 25,\n",
    "                 early_stopping: int = 5,\n",
    "                 lr: float = 1e-4,\n",
    "                 wd: float = 0.0,\n",
    "                 max_lr: float = 1e-3,\n",
    "                 pct_start: float = 0.2,\n",
    "                 steps_per_epoch: int = 100,\n",
    "                 div_factor: int = 1e3, \n",
    "                 final_div_factor: float = 1e3,\n",
    "                 ):\n",
    "        \n",
    "        self.seed = seed\n",
    "        self.n_splits = n_splits\n",
    "        self.batch_size = batch_size\n",
    "        self.epochs = epochs\n",
    "        self.early_stopping = early_stopping\n",
    "        self.lr = lr\n",
    "        self.wd = wd\n",
    "        self.max_lr = max_lr\n",
    "        self.pct_start = pct_start\n",
    "        self.steps_per_epoch = steps_per_epoch\n",
    "        self.div_factor = div_factor\n",
    "        self.final_div_factor = final_div_factor\n",
    "        self.device = torch.device(\"cuda\" if torch.cuda.is_available() else \"cpu\")\n",
    "        self.transform = transforms.Compose([transforms.ToTensor(),\n",
    "                                transforms.Normalize([0.49650, 0.58774, 0.23004],\n",
    "                                                     [0.22750, 0.22771, 0.18430]),\n",
    "                                ])\n",
    "        self.save_path = \"saves\"\n",
    "        if not os.path.exists(self.save_path): os.makedirs(self.save_path)\n",
    "    \n",
    "cfg = CFG(seed=SEED)"
   ]
  },
  {
   "cell_type": "markdown",
   "id": "81d024ff",
   "metadata": {
    "papermill": {
     "duration": 0.003705,
     "end_time": "2022-06-18T15:03:45.510342",
     "exception": false,
     "start_time": "2022-06-18T15:03:45.506637",
     "status": "completed"
    },
    "tags": []
   },
   "source": [
    "### **Dataset Template**"
   ]
  },
  {
   "cell_type": "code",
   "execution_count": 4,
   "id": "88946a51",
   "metadata": {
    "execution": {
     "iopub.execute_input": "2022-06-18T15:03:45.519454Z",
     "iopub.status.busy": "2022-06-18T15:03:45.518799Z",
     "iopub.status.idle": "2022-06-18T15:03:45.525763Z",
     "shell.execute_reply": "2022-06-18T15:03:45.525031Z"
    },
    "papermill": {
     "duration": 0.013232,
     "end_time": "2022-06-18T15:03:45.527482",
     "exception": false,
     "start_time": "2022-06-18T15:03:45.514250",
     "status": "completed"
    },
    "tags": []
   },
   "outputs": [],
   "source": [
    "class DS(Dataset):\n",
    "    def __init__(self, images: np.ndarray, labels: np.ndarray = None, transform=None):\n",
    "        self.images = images\n",
    "        self.labels = labels\n",
    "        self.transform = transform\n",
    "    \n",
    "    def __len__(self):\n",
    "        return self.images.shape[0]\n",
    "    \n",
    "    def __getitem__(self, idx):\n",
    "        if self.labels is not None:\n",
    "            return self.transform(self.images[idx]), torch.LongTensor(self.labels[idx])\n",
    "        else:\n",
    "            return self.transform(self.images[idx])"
   ]
  },
  {
   "cell_type": "markdown",
   "id": "cd75999b",
   "metadata": {
    "papermill": {
     "duration": 0.003875,
     "end_time": "2022-06-18T15:03:45.535239",
     "exception": false,
     "start_time": "2022-06-18T15:03:45.531364",
     "status": "completed"
    },
    "tags": []
   },
   "source": [
    "### **Model**"
   ]
  },
  {
   "cell_type": "code",
   "execution_count": 5,
   "id": "ea1fea8f",
   "metadata": {
    "execution": {
     "iopub.execute_input": "2022-06-18T15:03:45.544634Z",
     "iopub.status.busy": "2022-06-18T15:03:45.543956Z",
     "iopub.status.idle": "2022-06-18T15:03:45.550920Z",
     "shell.execute_reply": "2022-06-18T15:03:45.550045Z"
    },
    "papermill": {
     "duration": 0.013785,
     "end_time": "2022-06-18T15:03:45.552608",
     "exception": false,
     "start_time": "2022-06-18T15:03:45.538823",
     "status": "completed"
    },
    "tags": []
   },
   "outputs": [],
   "source": [
    "class Model(nn.Module):\n",
    "    def __init__(self):\n",
    "        super(Model, self).__init__()\n",
    "\n",
    "        self.model = models.densenet169(pretrained=True, progress=True)\n",
    "        # self.freeze()\n",
    "        self.model.classifier = nn.Linear(in_features=self.model.classifier.in_features, out_features=10)\n",
    "    \n",
    "    def freeze(self):\n",
    "        for params in self.parameters(): params.requires_grad = False\n",
    "\n",
    "    def forward(self, x):\n",
    "        return nn.LogSoftmax(dim=1)(self.model(x))"
   ]
  },
  {
   "cell_type": "markdown",
   "id": "e49c3183",
   "metadata": {
    "papermill": {
     "duration": 0.003369,
     "end_time": "2022-06-18T15:03:45.559596",
     "exception": false,
     "start_time": "2022-06-18T15:03:45.556227",
     "status": "completed"
    },
    "tags": []
   },
   "source": [
    "### **Fit and Predict Helpers**"
   ]
  },
  {
   "cell_type": "code",
   "execution_count": 6,
   "id": "a7480487",
   "metadata": {
    "execution": {
     "iopub.execute_input": "2022-06-18T15:03:45.569060Z",
     "iopub.status.busy": "2022-06-18T15:03:45.568442Z",
     "iopub.status.idle": "2022-06-18T15:03:45.597309Z",
     "shell.execute_reply": "2022-06-18T15:03:45.596255Z"
    },
    "papermill": {
     "duration": 0.035693,
     "end_time": "2022-06-18T15:03:45.599266",
     "exception": false,
     "start_time": "2022-06-18T15:03:45.563573",
     "status": "completed"
    },
    "tags": []
   },
   "outputs": [],
   "source": [
    "def fit(model=None, \n",
    "        optimizer=None, \n",
    "        scheduler_rlrop=None,\n",
    "        scheduler_oclr=None,\n",
    "        epochs=None, \n",
    "        early_stopping_patience=None, \n",
    "        dataloaders=None, \n",
    "        fold=None, \n",
    "        save_path=None,\n",
    "        device=None,\n",
    "        verbose=False) -> tuple:\n",
    "    \n",
    "    def get_accuracy(y_pred, y_true):\n",
    "        y_pred = torch.argmax(y_pred, dim=1)\n",
    "        return torch.count_nonzero(y_pred == y_true).item() / len(y_pred)\n",
    "    \n",
    "    if verbose:\n",
    "        breaker()\n",
    "        if fold: print(f\"Training Fold {fold}...\")\n",
    "        else: print(\"Training ...\")\n",
    "        breaker()\n",
    "        \n",
    "    bestLoss, bestAccs = {\"train\" : np.inf, \"valid\" : np.inf}, {\"train\" : 0.0, \"valid\" : 0.0}\n",
    "    Losses, Accuracies, LRs = [], [], []\n",
    "    if fold: \n",
    "        ble_name = f\"ble_state_fold_{fold}.pt\"\n",
    "        bae_name = f\"bae_state_fold_{fold}.pt\"\n",
    "    else: \n",
    "        ble_name = \"ble_state.pt\"\n",
    "        bae_name = \"bae_state.pt\"\n",
    "\n",
    "    start_time = time()\n",
    "    for e in range(epochs):\n",
    "        e_st = time()\n",
    "        epochLoss, epochAccs = {\"train\" : 0.0, \"valid\" : 0.0}, {\"train\" : 0.0, \"valid\" : 0.0}\n",
    "\n",
    "        for phase in [\"train\", \"valid\"]:\n",
    "            if phase == \"train\":\n",
    "                model.train()\n",
    "            else:\n",
    "                model.eval()\n",
    "            \n",
    "            lossPerPass, accsPerPass = [], []\n",
    "\n",
    "            for X, y in dataloaders[phase]:\n",
    "                X, y = X.to(device), y.to(device).view(-1)\n",
    "\n",
    "                optimizer.zero_grad()\n",
    "                with torch.set_grad_enabled(phase == \"train\"):\n",
    "                    output = model(X)\n",
    "                    loss = torch.nn.NLLLoss()(output, y)\n",
    "                    if phase == \"train\":\n",
    "                        loss.backward()\n",
    "                        optimizer.step()\n",
    "                        if scheduler_oclr: scheduler_oclr.step()\n",
    "                lossPerPass.append(loss.item())\n",
    "                accsPerPass.append(get_accuracy(output, y))\n",
    "            epochLoss[phase] = np.mean(np.array(lossPerPass))\n",
    "            epochAccs[phase] = np.mean(np.array(accsPerPass))\n",
    "        if scheduler_oclr: LRs.append(scheduler_oclr.get_last_lr())\n",
    "        Losses.append(epochLoss)\n",
    "        Accuracies.append(epochAccs)\n",
    "        \n",
    "        if scheduler_oclr:\n",
    "            save_dict = {\"model_state_dict\"     : model.state_dict(),\n",
    "                         \"optim_state_dict\"     : optimizer.state_dict(),\n",
    "                         \"scheduler_state_dict\" : scheduler_oclr.state_dict()}\n",
    "        \n",
    "        elif scheduler_rlrop:\n",
    "            save_dict = {\"model_state_dict\"     : model.state_dict(),\n",
    "                         \"optim_state_dict\"     : optimizer.state_dict(),\n",
    "                         \"scheduler_state_dict\" : scheduler_rlrop.state_dict()}\n",
    "        \n",
    "        else:\n",
    "            save_dict = {\"model_state_dict\"     : model.state_dict(),\n",
    "                         \"optim_state_dict\"     : optimizer.state_dict()}\n",
    "        \n",
    "        if early_stopping_patience:\n",
    "            if epochLoss[\"valid\"] < bestLoss[\"valid\"]:\n",
    "                bestLoss = epochLoss\n",
    "                BLE = e + 1\n",
    "                torch.save(save_dict, os.path.join(save_path, name))\n",
    "                early_stopping_step = 0\n",
    "            else:\n",
    "                early_stopping_step += 1\n",
    "                if early_stopping_step > early_stopping_patience:\n",
    "                    print(\"\\nEarly Stopping at Epoch {}\".format(e + 1))\n",
    "                    break\n",
    "        \n",
    "        if epochLoss[\"valid\"] < bestLoss[\"valid\"]:\n",
    "            bestLoss = epochLoss\n",
    "            BLE = e + 1\n",
    "            torch.save(save_dict,os.path.join(save_path, ble_name))\n",
    "        \n",
    "        if epochAccs[\"valid\"] > bestAccs[\"valid\"]:\n",
    "            bestAccs = epochAccs\n",
    "            BAE = e + 1\n",
    "            torch.save(save_dict,os.path.join(save_path, bae_name))\n",
    "\n",
    "        \n",
    "        if scheduler_rlrop: scheduler_rlrop.step(epochLoss[\"valid\"])\n",
    "        \n",
    "        if verbose:\n",
    "            print(\"Epoch: {} | Train Loss: {:.5f} | Valid Loss: {:.5f} |\\\n",
    " Train Accs: {:.5f} | Valid Accs: {:.5f} | Time: {:.2f} seconds\".format(e+1, \n",
    "                                                                        epochLoss[\"train\"], epochLoss[\"valid\"], \n",
    "                                                                        epochAccs[\"train\"], epochAccs[\"valid\"], \n",
    "                                                                        time()-e_st))\n",
    "\n",
    "    if verbose:                                           \n",
    "        breaker()\n",
    "        print(f\"Best Validation Loss at Epoch {BLE}\")\n",
    "        breaker()\n",
    "        print(f\"Best Validation Accs at Epoch {BAE}\")\n",
    "        breaker()\n",
    "        print(\"Time Taken [{} Epochs] : {:.2f} minutes\".format(len(Losses), (time()-start_time)/60))\n",
    "    \n",
    "    return Losses, Accuracies, LRs, BLE, BAE, ble_name, bae_name\n",
    "\n",
    "\n",
    "def predict_batch(model=None, dataloader=None, path=None, device=None) -> np.ndarray:\n",
    "    model.load_state_dict(torch.load(path, map_location=device)[\"model_state_dict\"])\n",
    "    model.to(device)    \n",
    "    model.eval()\n",
    "    \n",
    "    y_pred = torch.zeros(1, 1).to(device)\n",
    "    \n",
    "    for X in dataloader:\n",
    "        X = X.to(device)\n",
    "        with torch.no_grad():\n",
    "            output = torch.argmax(torch.exp(model(X)), dim=1)\n",
    "        y_pred = torch.cat((y_pred, output.view(-1, 1)), dim=0)\n",
    "    \n",
    "    return y_pred[1:].detach().cpu().numpy()"
   ]
  },
  {
   "cell_type": "markdown",
   "id": "fca63c06",
   "metadata": {
    "papermill": {
     "duration": 0.003562,
     "end_time": "2022-06-18T15:03:45.607071",
     "exception": false,
     "start_time": "2022-06-18T15:03:45.603509",
     "status": "completed"
    },
    "tags": []
   },
   "source": [
    "### **Train**"
   ]
  },
  {
   "cell_type": "code",
   "execution_count": 7,
   "id": "69926c0d",
   "metadata": {
    "execution": {
     "iopub.execute_input": "2022-06-18T15:03:45.616021Z",
     "iopub.status.busy": "2022-06-18T15:03:45.615652Z",
     "iopub.status.idle": "2022-06-18T18:44:58.667917Z",
     "shell.execute_reply": "2022-06-18T18:44:58.667161Z"
    },
    "papermill": {
     "duration": 13273.059631,
     "end_time": "2022-06-18T18:44:58.670432",
     "exception": false,
     "start_time": "2022-06-18T15:03:45.610801",
     "status": "completed"
    },
    "tags": []
   },
   "outputs": [
    {
     "name": "stderr",
     "output_type": "stream",
     "text": [
      "Downloading: \"https://download.pytorch.org/models/densenet169-b2777c0a.pth\" to /root/.cache/torch/hub/checkpoints/densenet169-b2777c0a.pth\n"
     ]
    },
    {
     "data": {
      "application/vnd.jupyter.widget-view+json": {
       "model_id": "ef8cd56962ba4f59961447e91d97a562",
       "version_major": 2,
       "version_minor": 0
      },
      "text/plain": [
       "  0%|          | 0.00/54.7M [00:00<?, ?B/s]"
      ]
     },
     "metadata": {},
     "output_type": "display_data"
    },
    {
     "name": "stdout",
     "output_type": "stream",
     "text": [
      "\n",
      "**************************************************\n",
      "\n",
      "Training ...\n",
      "\n",
      "**************************************************\n",
      "\n",
      "Epoch: 1 | Train Loss: 1.79158 | Valid Loss: 0.75342 | Train Accs: 0.39032 | Valid Accs: 0.76908 | Time: 387.86 seconds\n",
      "Epoch: 2 | Train Loss: 0.58011 | Valid Loss: 0.34563 | Train Accs: 0.82865 | Valid Accs: 0.88597 | Time: 383.85 seconds\n",
      "Epoch: 3 | Train Loss: 0.44005 | Valid Loss: 0.41319 | Train Accs: 0.86424 | Valid Accs: 0.86927 | Time: 382.92 seconds\n",
      "Epoch: 4 | Train Loss: 0.41653 | Valid Loss: 0.55989 | Train Accs: 0.86972 | Valid Accs: 0.82824 | Time: 378.44 seconds\n",
      "Epoch: 5 | Train Loss: 0.43449 | Valid Loss: 0.34502 | Train Accs: 0.86248 | Valid Accs: 0.88693 | Time: 376.17 seconds\n",
      "Epoch: 6 | Train Loss: 0.38533 | Valid Loss: 0.45516 | Train Accs: 0.87788 | Valid Accs: 0.86546 | Time: 374.42 seconds\n",
      "Epoch: 7 | Train Loss: 0.35131 | Valid Loss: 0.31003 | Train Accs: 0.88656 | Valid Accs: 0.90506 | Time: 375.23 seconds\n",
      "Epoch: 8 | Train Loss: 0.25331 | Valid Loss: 0.45939 | Train Accs: 0.91859 | Valid Accs: 0.88263 | Time: 374.24 seconds\n",
      "Epoch: 9 | Train Loss: 0.24058 | Valid Loss: 0.40854 | Train Accs: 0.92107 | Valid Accs: 0.85926 | Time: 374.30 seconds\n",
      "Epoch: 10 | Train Loss: 0.20705 | Valid Loss: 0.29970 | Train Accs: 0.93282 | Valid Accs: 0.91078 | Time: 374.66 seconds\n",
      "Epoch: 11 | Train Loss: 0.16993 | Valid Loss: 0.40532 | Train Accs: 0.94726 | Valid Accs: 0.87786 | Time: 373.07 seconds\n",
      "Epoch: 12 | Train Loss: 0.16776 | Valid Loss: 0.24461 | Train Accs: 0.94962 | Valid Accs: 0.93368 | Time: 374.77 seconds\n",
      "Epoch: 13 | Train Loss: 0.10672 | Valid Loss: 0.30394 | Train Accs: 0.96637 | Valid Accs: 0.91269 | Time: 372.69 seconds\n",
      "Epoch: 14 | Train Loss: 0.13254 | Valid Loss: 0.22815 | Train Accs: 0.95873 | Valid Accs: 0.93368 | Time: 373.77 seconds\n",
      "Epoch: 15 | Train Loss: 0.09493 | Valid Loss: 0.44301 | Train Accs: 0.96865 | Valid Accs: 0.89218 | Time: 372.36 seconds\n",
      "Epoch: 16 | Train Loss: 0.08882 | Valid Loss: 0.25038 | Train Accs: 0.97085 | Valid Accs: 0.93798 | Time: 372.91 seconds\n",
      "Epoch: 17 | Train Loss: 0.06406 | Valid Loss: 0.14713 | Train Accs: 0.98069 | Valid Accs: 0.95849 | Time: 373.73 seconds\n",
      "Epoch: 18 | Train Loss: 0.06645 | Valid Loss: 0.21207 | Train Accs: 0.97805 | Valid Accs: 0.94418 | Time: 377.86 seconds\n",
      "Epoch: 19 | Train Loss: 0.05496 | Valid Loss: 0.15702 | Train Accs: 0.98309 | Valid Accs: 0.95802 | Time: 380.21 seconds\n",
      "Epoch: 20 | Train Loss: 0.03471 | Valid Loss: 0.12658 | Train Accs: 0.98828 | Valid Accs: 0.96660 | Time: 381.49 seconds\n",
      "Epoch: 21 | Train Loss: 0.03972 | Valid Loss: 0.14988 | Train Accs: 0.98704 | Valid Accs: 0.96231 | Time: 379.12 seconds\n",
      "Epoch: 22 | Train Loss: 0.02369 | Valid Loss: 0.13398 | Train Accs: 0.99412 | Valid Accs: 0.97042 | Time: 379.13 seconds\n",
      "Epoch: 23 | Train Loss: 0.01060 | Valid Loss: 0.14092 | Train Accs: 0.99748 | Valid Accs: 0.96994 | Time: 379.44 seconds\n",
      "Epoch: 24 | Train Loss: 0.00613 | Valid Loss: 0.11629 | Train Accs: 0.99824 | Valid Accs: 0.97519 | Time: 382.02 seconds\n",
      "Epoch: 25 | Train Loss: 0.00864 | Valid Loss: 0.13871 | Train Accs: 0.99736 | Valid Accs: 0.96803 | Time: 378.67 seconds\n",
      "Epoch: 26 | Train Loss: 0.00345 | Valid Loss: 0.12722 | Train Accs: 0.99964 | Valid Accs: 0.97090 | Time: 380.46 seconds\n",
      "Epoch: 27 | Train Loss: 0.00287 | Valid Loss: 0.13170 | Train Accs: 0.99928 | Valid Accs: 0.97281 | Time: 378.80 seconds\n",
      "Epoch: 28 | Train Loss: 0.00101 | Valid Loss: 0.12474 | Train Accs: 0.99988 | Valid Accs: 0.97376 | Time: 378.31 seconds\n",
      "Epoch: 29 | Train Loss: 0.00045 | Valid Loss: 0.12302 | Train Accs: 1.00000 | Valid Accs: 0.97328 | Time: 379.70 seconds\n",
      "Epoch: 30 | Train Loss: 0.00108 | Valid Loss: 0.12666 | Train Accs: 0.99952 | Valid Accs: 0.97328 | Time: 380.17 seconds\n",
      "Epoch: 31 | Train Loss: 0.00102 | Valid Loss: 0.11929 | Train Accs: 0.99976 | Valid Accs: 0.97471 | Time: 379.83 seconds\n",
      "Epoch: 32 | Train Loss: 0.00051 | Valid Loss: 0.11064 | Train Accs: 1.00000 | Valid Accs: 0.97710 | Time: 375.24 seconds\n",
      "Epoch: 33 | Train Loss: 0.00044 | Valid Loss: 0.11521 | Train Accs: 1.00000 | Valid Accs: 0.97567 | Time: 374.63 seconds\n",
      "Epoch: 34 | Train Loss: 0.00028 | Valid Loss: 0.11485 | Train Accs: 1.00000 | Valid Accs: 0.97615 | Time: 372.72 seconds\n",
      "Epoch: 35 | Train Loss: 0.00032 | Valid Loss: 0.12080 | Train Accs: 1.00000 | Valid Accs: 0.97519 | Time: 373.28 seconds\n",
      "\n",
      "**************************************************\n",
      "\n",
      "Best Validation Loss at Epoch 32\n",
      "\n",
      "**************************************************\n",
      "\n",
      "Best Validation Accs at Epoch 32\n",
      "\n",
      "**************************************************\n",
      "\n",
      "Time Taken [35 Epochs] : 220.11 minutes\n",
      "\n",
      "**************************************************\n",
      "\n"
     ]
    },
    {
     "data": {
      "image/png": "[encoded data removed]",
      "text/plain": [
       "<Figure size 432x288 with 1 Axes>"
      ]
     },
     "metadata": {
      "needs_background": "light"
     },
     "output_type": "display_data"
    },
    {
     "name": "stdout",
     "output_type": "stream",
     "text": [
      "\n",
      "**************************************************\n",
      "\n"
     ]
    },
    {
     "data": {
      "image/png": "[encoded data removed]",
      "text/plain": [
       "<Figure size 432x288 with 1 Axes>"
      ]
     },
     "metadata": {
      "needs_background": "light"
     },
     "output_type": "display_data"
    },
    {
     "name": "stdout",
     "output_type": "stream",
     "text": [
      "\n",
      "**************************************************\n",
      "\n"
     ]
    },
    {
     "data": {
      "image/png": "[encoded data removed]",
      "text/plain": [
       "<Figure size 576x432 with 1 Axes>"
      ]
     },
     "metadata": {
      "needs_background": "light"
     },
     "output_type": "display_data"
    },
    {
     "name": "stdout",
     "output_type": "stream",
     "text": [
      "\n",
      "**************************************************\n",
      "\n"
     ]
    }
   ],
   "source": [
    "tr_images = np.load(f\"../input/pdc-images-{SIZE}-f{FOLD}/tr-images-{SIZE}-f{FOLD}.npy\")\n",
    "va_images = np.load(f\"../input/pdc-images-{SIZE}-f{FOLD}/va-images-{SIZE}-f{FOLD}.npy\")\n",
    "tr_labels = np.load(f\"../input/pdc-images-{SIZE}-f{FOLD}/tr-labels-{SIZE}-f{FOLD}.npy\")\n",
    "va_labels = np.load(f\"../input/pdc-images-{SIZE}-f{FOLD}/va-labels-{SIZE}-f{FOLD}.npy\")\n",
    "\n",
    "tr_data_setup = DS(tr_images, tr_labels.reshape(-1, 1), cfg.transform)\n",
    "va_data_setup = DS(va_images, va_labels.reshape(-1, 1), cfg.transform)\n",
    "\n",
    "dataloaders = {\n",
    "    \"train\" : DL(tr_data_setup, batch_size=cfg.batch_size, shuffle=True, generator=torch.manual_seed(cfg.seed)),\n",
    "    \"valid\" : DL(va_data_setup, batch_size=cfg.batch_size, shuffle=False),\n",
    "}\n",
    "\n",
    "cfg = CFG(epochs=35, batch_size=64, steps_per_epoch=len(dataloaders[\"train\"]))\n",
    "\n",
    "torch.manual_seed(cfg.seed)\n",
    "model = Model().to(cfg.device)\n",
    "optimizer = optim.Adam([p for p in model.parameters() if p.requires_grad], lr=cfg.lr, weight_decay=cfg.wd)\n",
    "scheduler_oclr = optim.lr_scheduler.OneCycleLR(optimizer=optimizer, \n",
    "                                               max_lr=cfg.max_lr, \n",
    "                                               epochs=cfg.epochs, \n",
    "                                               steps_per_epoch=cfg.steps_per_epoch,\n",
    "                                               pct_start=cfg.pct_start, \n",
    "                                               div_factor=cfg.div_factor, \n",
    "                                               final_div_factor=cfg.final_div_factor)\n",
    "# scheduler_rlrop = optim.lr_scheduler.ReduceLROnPlateau(optimizer=optimizer,\n",
    "#                                                       patience=cfg.patience,\n",
    "#                                                       eps=cfg.eps,\n",
    "#                                                       verbose=True)\n",
    "\n",
    "# scheduler_oclr = None\n",
    "scheduler_rlrop = None\n",
    "\n",
    "L, A, LR, BLE, BAE, _, _ = fit(model=model, \n",
    "                               optimizer=optimizer, \n",
    "                               scheduler_oclr=scheduler_oclr,\n",
    "                               scheduler_rlrop=scheduler_rlrop,\n",
    "                               epochs=cfg.epochs, \n",
    "                               early_stopping_patience=None, \n",
    "                               dataloaders=dataloaders, \n",
    "                               device=cfg.device,\n",
    "                               save_path=cfg.save_path,\n",
    "                               fold=None,\n",
    "                               verbose=True)\n",
    "\n",
    "breaker()\n",
    "show_loss_graphs(L)\n",
    "breaker()\n",
    "show_accuracy_graphs(A)\n",
    "breaker()\n",
    "\n",
    "if scheduler_oclr:\n",
    "    show_lr_graph(LR)\n",
    "    breaker()"
   ]
  }
 ],
 "metadata": {
  "kernelspec": {
   "display_name": "Python 3",
   "language": "python",
   "name": "python3"
  },
  "language_info": {
   "codemirror_mode": {
    "name": "ipython",
    "version": 3
   },
   "file_extension": ".py",
   "mimetype": "text/x-python",
   "name": "python",
   "nbconvert_exporter": "python",
   "pygments_lexer": "ipython3",
   "version": "3.7.12"
  },
  "papermill": {
   "default_parameters": {},
   "duration": 13285.975405,
   "end_time": "2022-06-18T18:45:00.222408",
   "environment_variables": {},
   "exception": null,
   "input_path": "__notebook__.ipynb",
   "output_path": "__notebook__.ipynb",
   "parameters": {},
   "start_time": "2022-06-18T15:03:34.247003",
   "version": "2.3.4"
  },
  "widgets": {
   "application/vnd.jupyter.widget-state+json": {
    "state": {
     "342920f4ca124da19d8afac22e3925cf": {
      "model_module": "@jupyter-widgets/controls",
      "model_module_version": "1.5.0",
      "model_name": "DescriptionStyleModel",
      "state": {
       "_model_module": "@jupyter-widgets/controls",
       "_model_module_version": "1.5.0",
       "_model_name": "DescriptionStyleModel",
       "_view_count": null,
       "_view_module": "@jupyter-widgets/base",
       "_view_module_version": "1.2.0",
       "_view_name": "StyleView",
       "description_width": ""
      }
     },
     "3fbe9b2044904124b22d36f3795473f3": {
      "model_module": "@jupyter-widgets/controls",
      "model_module_version": "1.5.0",
      "model_name": "HTMLModel",
      "state": {
       "_dom_classes": [],
       "_model_module": "@jupyter-widgets/controls",
       "_model_module_version": "1.5.0",
       "_model_name": "HTMLModel",
       "_view_count": null,
       "_view_module": "@jupyter-widgets/controls",
       "_view_module_version": "1.5.0",
       "_view_name": "HTMLView",
       "description": "",
       "description_tooltip": null,
       "layout": "IPY_MODEL_c54200936a074b0cb9cdf7a924182ce2",
       "placeholder": "​",
       "style": "IPY_MODEL_fb35d48288aa4afa9771d851e1c5f75a",
       "value": "100%"
      }
     },
     "409295bc15564501898193d5ef2d48aa": {
      "model_module": "@jupyter-widgets/controls",
      "model_module_version": "1.5.0",
      "model_name": "HTMLModel",
      "state": {
       "_dom_classes": [],
       "_model_module": "@jupyter-widgets/controls",
       "_model_module_version": "1.5.0",
       "_model_name": "HTMLModel",
       "_view_count": null,
       "_view_module": "@jupyter-widgets/controls",
       "_view_module_version": "1.5.0",
       "_view_name": "HTMLView",
       "description": "",
       "description_tooltip": null,
       "layout": "IPY_MODEL_b1c02459707240dfb939900a99a42af4",
       "placeholder": "​",
       "style": "IPY_MODEL_342920f4ca124da19d8afac22e3925cf",
       "value": " 54.7M/54.7M [00:06&lt;00:00, 11.7MB/s]"
      }
     },
     "6b8a77c01f7d411494e668e2f41b4114": {
      "model_module": "@jupyter-widgets/controls",
      "model_module_version": "1.5.0",
      "model_name": "ProgressStyleModel",
      "state": {
       "_model_module": "@jupyter-widgets/controls",
       "_model_module_version": "1.5.0",
       "_model_name": "ProgressStyleModel",
       "_view_count": null,
       "_view_module": "@jupyter-widgets/base",
       "_view_module_version": "1.2.0",
       "_view_name": "StyleView",
       "bar_color": null,
       "description_width": ""
      }
     },
     "83f0af86d83043cca28b29e1704c6fdc": {
      "model_module": "@jupyter-widgets/controls",
      "model_module_version": "1.5.0",
      "model_name": "FloatProgressModel",
      "state": {
       "_dom_classes": [],
       "_model_module": "@jupyter-widgets/controls",
       "_model_module_version": "1.5.0",
       "_model_name": "FloatProgressModel",
       "_view_count": null,
       "_view_module": "@jupyter-widgets/controls",
       "_view_module_version": "1.5.0",
       "_view_name": "ProgressView",
       "bar_style": "success",
       "description": "",
       "description_tooltip": null,
       "layout": "IPY_MODEL_cca4a875f1ac42f59ee8aa93ac688b64",
       "max": 57365526.0,
       "min": 0.0,
       "orientation": "horizontal",
       "style": "IPY_MODEL_6b8a77c01f7d411494e668e2f41b4114",
       "value": 57365526.0
      }
     },
     "b1c02459707240dfb939900a99a42af4": {
      "model_module": "@jupyter-widgets/base",
      "model_module_version": "1.2.0",
      "model_name": "LayoutModel",
      "state": {
       "_model_module": "@jupyter-widgets/base",
       "_model_module_version": "1.2.0",
       "_model_name": "LayoutModel",
       "_view_count": null,
       "_view_module": "@jupyter-widgets/base",
       "_view_module_version": "1.2.0",
       "_view_name": "LayoutView",
       "align_content": null,
       "align_items": null,
       "align_self": null,
       "border": null,
       "bottom": null,
       "display": null,
       "flex": null,
       "flex_flow": null,
       "grid_area": null,
       "grid_auto_columns": null,
       "grid_auto_flow": null,
       "grid_auto_rows": null,
       "grid_column": null,
       "grid_gap": null,
       "grid_row": null,
       "grid_template_areas": null,
       "grid_template_columns": null,
       "grid_template_rows": null,
       "height": null,
       "justify_content": null,
       "justify_items": null,
       "left": null,
       "margin": null,
       "max_height": null,
       "max_width": null,
       "min_height": null,
       "min_width": null,
       "object_fit": null,
       "object_position": null,
       "order": null,
       "overflow": null,
       "overflow_x": null,
       "overflow_y": null,
       "padding": null,
       "right": null,
       "top": null,
       "visibility": null,
       "width": null
      }
     },
     "c54200936a074b0cb9cdf7a924182ce2": {
      "model_module": "@jupyter-widgets/base",
      "model_module_version": "1.2.0",
      "model_name": "LayoutModel",
      "state": {
       "_model_module": "@jupyter-widgets/base",
       "_model_module_version": "1.2.0",
       "_model_name": "LayoutModel",
       "_view_count": null,
       "_view_module": "@jupyter-widgets/base",
       "_view_module_version": "1.2.0",
       "_view_name": "LayoutView",
       "align_content": null,
       "align_items": null,
       "align_self": null,
       "border": null,
       "bottom": null,
       "display": null,
       "flex": null,
       "flex_flow": null,
       "grid_area": null,
       "grid_auto_columns": null,
       "grid_auto_flow": null,
       "grid_auto_rows": null,
       "grid_column": null,
       "grid_gap": null,
       "grid_row": null,
       "grid_template_areas": null,
       "grid_template_columns": null,
       "grid_template_rows": null,
       "height": null,
       "justify_content": null,
       "justify_items": null,
       "left": null,
       "margin": null,
       "max_height": null,
       "max_width": null,
       "min_height": null,
       "min_width": null,
       "object_fit": null,
       "object_position": null,
       "order": null,
       "overflow": null,
       "overflow_x": null,
       "overflow_y": null,
       "padding": null,
       "right": null,
       "top": null,
       "visibility": null,
       "width": null
      }
     },
     "cca4a875f1ac42f59ee8aa93ac688b64": {
      "model_module": "@jupyter-widgets/base",
      "model_module_version": "1.2.0",
      "model_name": "LayoutModel",
      "state": {
       "_model_module": "@jupyter-widgets/base",
       "_model_module_version": "1.2.0",
       "_model_name": "LayoutModel",
       "_view_count": null,
       "_view_module": "@jupyter-widgets/base",
       "_view_module_version": "1.2.0",
       "_view_name": "LayoutView",
       "align_content": null,
       "align_items": null,
       "align_self": null,
       "border": null,
       "bottom": null,
       "display": null,
       "flex": null,
       "flex_flow": null,
       "grid_area": null,
       "grid_auto_columns": null,
       "grid_auto_flow": null,
       "grid_auto_rows": null,
       "grid_column": null,
       "grid_gap": null,
       "grid_row": null,
       "grid_template_areas": null,
       "grid_template_columns": null,
       "grid_template_rows": null,
       "height": null,
       "justify_content": null,
       "justify_items": null,
       "left": null,
       "margin": null,
       "max_height": null,
       "max_width": null,
       "min_height": null,
       "min_width": null,
       "object_fit": null,
       "object_position": null,
       "order": null,
       "overflow": null,
       "overflow_x": null,
       "overflow_y": null,
       "padding": null,
       "right": null,
       "top": null,
       "visibility": null,
       "width": null
      }
     },
     "ef8cd56962ba4f59961447e91d97a562": {
      "model_module": "@jupyter-widgets/controls",
      "model_module_version": "1.5.0",
      "model_name": "HBoxModel",
      "state": {
       "_dom_classes": [],
       "_model_module": "@jupyter-widgets/controls",
       "_model_module_version": "1.5.0",
       "_model_name": "HBoxModel",
       "_view_count": null,
       "_view_module": "@jupyter-widgets/controls",
       "_view_module_version": "1.5.0",
       "_view_name": "HBoxView",
       "box_style": "",
       "children": [
        "IPY_MODEL_3fbe9b2044904124b22d36f3795473f3",
        "IPY_MODEL_83f0af86d83043cca28b29e1704c6fdc",
        "IPY_MODEL_409295bc15564501898193d5ef2d48aa"
       ],
       "layout": "IPY_MODEL_f1b2c3b5d1cb4014abceb5aff804a96f"
      }
     },
     "f1b2c3b5d1cb4014abceb5aff804a96f": {
      "model_module": "@jupyter-widgets/base",
      "model_module_version": "1.2.0",
      "model_name": "LayoutModel",
      "state": {
       "_model_module": "@jupyter-widgets/base",
       "_model_module_version": "1.2.0",
       "_model_name": "LayoutModel",
       "_view_count": null,
       "_view_module": "@jupyter-widgets/base",
       "_view_module_version": "1.2.0",
       "_view_name": "LayoutView",
       "align_content": null,
       "align_items": null,
       "align_self": null,
       "border": null,
       "bottom": null,
       "display": null,
       "flex": null,
       "flex_flow": null,
       "grid_area": null,
       "grid_auto_columns": null,
       "grid_auto_flow": null,
       "grid_auto_rows": null,
       "grid_column": null,
       "grid_gap": null,
       "grid_row": null,
       "grid_template_areas": null,
       "grid_template_columns": null,
       "grid_template_rows": null,
       "height": null,
       "justify_content": null,
       "justify_items": null,
       "left": null,
       "margin": null,
       "max_height": null,
       "max_width": null,
       "min_height": null,
       "min_width": null,
       "object_fit": null,
       "object_position": null,
       "order": null,
       "overflow": null,
       "overflow_x": null,
       "overflow_y": null,
       "padding": null,
       "right": null,
       "top": null,
       "visibility": null,
       "width": null
      }
     },
     "fb35d48288aa4afa9771d851e1c5f75a": {
      "model_module": "@jupyter-widgets/controls",
      "model_module_version": "1.5.0",
      "model_name": "DescriptionStyleModel",
      "state": {
       "_model_module": "@jupyter-widgets/controls",
       "_model_module_version": "1.5.0",
       "_model_name": "DescriptionStyleModel",
       "_view_count": null,
       "_view_module": "@jupyter-widgets/base",
       "_view_module_version": "1.2.0",
       "_view_name": "StyleView",
       "description_width": ""
      }
     }
    },
    "version_major": 2,
    "version_minor": 0
   }
  }
 },
 "nbformat": 4,
 "nbformat_minor": 5
}
