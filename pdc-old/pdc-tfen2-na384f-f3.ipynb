{
 "cells": [
  {
   "cell_type": "markdown",
   "id": "d19a0734",
   "metadata": {
    "_cell_guid": "b1076dfc-b9ad-4769-8c92-a6c4dae69d19",
    "_uuid": "8f2839f25d086af736a60e9eeb907d3b93b6e0e5",
    "papermill": {
     "duration": 0.004951,
     "end_time": "2022-06-27T06:39:37.101947",
     "exception": false,
     "start_time": "2022-06-27T06:39:37.096996",
     "status": "completed"
    },
    "tags": []
   },
   "source": [
    "### **Setup**"
   ]
  },
  {
   "cell_type": "code",
   "execution_count": 1,
   "id": "2ac00480",
   "metadata": {
    "execution": {
     "iopub.execute_input": "2022-06-27T06:39:37.111676Z",
     "iopub.status.busy": "2022-06-27T06:39:37.111218Z",
     "iopub.status.idle": "2022-06-27T06:39:47.668843Z",
     "shell.execute_reply": "2022-06-27T06:39:47.667754Z"
    },
    "papermill": {
     "duration": 10.565313,
     "end_time": "2022-06-27T06:39:47.671389",
     "exception": false,
     "start_time": "2022-06-27T06:39:37.106076",
     "status": "completed"
    },
    "tags": []
   },
   "outputs": [
    {
     "name": "stderr",
     "output_type": "stream",
     "text": [
      "WARNING: Running pip as the 'root' user can result in broken permissions and conflicting behaviour with the system package manager. It is recommended to use a virtual environment instead: https://pip.pypa.io/warnings/venv\n"
     ]
    }
   ],
   "source": [
    "%%bash\n",
    "pip install timm -q"
   ]
  },
  {
   "cell_type": "markdown",
   "id": "7ccda897",
   "metadata": {
    "papermill": {
     "duration": 0.003973,
     "end_time": "2022-06-27T06:39:47.680074",
     "exception": false,
     "start_time": "2022-06-27T06:39:47.676101",
     "status": "completed"
    },
    "tags": []
   },
   "source": [
    "### **Library Imports**"
   ]
  },
  {
   "cell_type": "code",
   "execution_count": 2,
   "id": "fdbccc81",
   "metadata": {
    "execution": {
     "iopub.execute_input": "2022-06-27T06:39:47.689297Z",
     "iopub.status.busy": "2022-06-27T06:39:47.688999Z",
     "iopub.status.idle": "2022-06-27T06:39:55.636911Z",
     "shell.execute_reply": "2022-06-27T06:39:55.635946Z"
    },
    "papermill": {
     "duration": 7.955205,
     "end_time": "2022-06-27T06:39:55.639293",
     "exception": false,
     "start_time": "2022-06-27T06:39:47.684088",
     "status": "completed"
    },
    "tags": []
   },
   "outputs": [],
   "source": [
    "import os\n",
    "import re\n",
    "import timm\n",
    "import torch\n",
    "import numpy as np\n",
    "import pandas as pd\n",
    "import matplotlib.pyplot as plt\n",
    "\n",
    "from time import time\n",
    "from torch import nn, optim\n",
    "from torch.utils.data import Dataset\n",
    "from torch.utils.data import DataLoader as DL\n",
    "from torchvision import transforms\n",
    "\n",
    "from sklearn.model_selection import StratifiedKFold\n",
    "from sklearn.preprocessing import LabelEncoder\n",
    "from sklearn.metrics import accuracy_score"
   ]
  },
  {
   "cell_type": "markdown",
   "id": "394f39ba",
   "metadata": {
    "papermill": {
     "duration": 0.003951,
     "end_time": "2022-06-27T06:39:55.647548",
     "exception": false,
     "start_time": "2022-06-27T06:39:55.643597",
     "status": "completed"
    },
    "tags": []
   },
   "source": [
    "### **Utilities and Helpers**"
   ]
  },
  {
   "cell_type": "code",
   "execution_count": 3,
   "id": "2d960f9a",
   "metadata": {
    "execution": {
     "iopub.execute_input": "2022-06-27T06:39:55.657475Z",
     "iopub.status.busy": "2022-06-27T06:39:55.656599Z",
     "iopub.status.idle": "2022-06-27T06:39:55.668583Z",
     "shell.execute_reply": "2022-06-27T06:39:55.667880Z"
    },
    "papermill": {
     "duration": 0.018646,
     "end_time": "2022-06-27T06:39:55.670184",
     "exception": false,
     "start_time": "2022-06-27T06:39:55.651538",
     "status": "completed"
    },
    "tags": []
   },
   "outputs": [],
   "source": [
    "SEED = 42\n",
    "SIZE = 384\n",
    "le = LabelEncoder()\n",
    "\n",
    "\n",
    "def breaker(num: int=50, char: str=\"*\") -> None:\n",
    "    print(\"\\n\" + num*char + \"\\n\")\n",
    "\n",
    "    \n",
    "def show_loss_graphs(L: list) -> None:\n",
    "    TL, VL = [], []\n",
    "    for i in range(len(L)):\n",
    "        TL.append(L[i][\"train\"])\n",
    "        VL.append(L[i][\"valid\"])\n",
    "    x_Axis = np.arange(1, len(TL) + 1)\n",
    "    plt.figure()\n",
    "    plt.plot(x_Axis, TL, \"r\", label=\"Train\")\n",
    "    plt.plot(x_Axis, VL, \"b\", label=\"Valid\")\n",
    "    plt.legend()\n",
    "    plt.grid()\n",
    "    plt.title(\"Loss Graph\")\n",
    "    plt.show()\n",
    "\n",
    "    \n",
    "def show_accuracy_graphs(A: list) -> None:\n",
    "    TA, VA = [], []\n",
    "    for i in range(len(A)):\n",
    "        TA.append(A[i][\"train\"])\n",
    "        VA.append(A[i][\"valid\"])\n",
    "    x_Axis = np.arange(1, len(TA) + 1)\n",
    "    plt.figure()\n",
    "    plt.plot(x_Axis, TA, \"r\", label=\"Train\")\n",
    "    plt.plot(x_Axis, VA, \"b\", label=\"Valid\")\n",
    "    plt.legend()\n",
    "    plt.grid()\n",
    "    plt.title(\"Accuracy Graph\")\n",
    "    plt.show()\n",
    "\n",
    "\n",
    "def show_lr_graph(LR: list) -> None:\n",
    "    x_Axis = [i+1 for i in range(len(LR))]\n",
    "    plt.figure(figsize=(8, 6))\n",
    "    plt.plot(x_Axis, LR, \"rx\")\n",
    "    plt.grid()\n",
    "    plt.show()"
   ]
  },
  {
   "cell_type": "markdown",
   "id": "4661a969",
   "metadata": {
    "papermill": {
     "duration": 0.003815,
     "end_time": "2022-06-27T06:39:55.678088",
     "exception": false,
     "start_time": "2022-06-27T06:39:55.674273",
     "status": "completed"
    },
    "tags": []
   },
   "source": [
    "### **Configuration**"
   ]
  },
  {
   "cell_type": "code",
   "execution_count": 4,
   "id": "ac4e7765",
   "metadata": {
    "execution": {
     "iopub.execute_input": "2022-06-27T06:39:55.687426Z",
     "iopub.status.busy": "2022-06-27T06:39:55.686839Z",
     "iopub.status.idle": "2022-06-27T06:39:55.748415Z",
     "shell.execute_reply": "2022-06-27T06:39:55.747518Z"
    },
    "papermill": {
     "duration": 0.068057,
     "end_time": "2022-06-27T06:39:55.750168",
     "exception": false,
     "start_time": "2022-06-27T06:39:55.682111",
     "status": "completed"
    },
    "tags": []
   },
   "outputs": [],
   "source": [
    "class CFG(object):\n",
    "    def __init__(self, \n",
    "                 seed: int = 42,\n",
    "                 n_splits: int = 5,\n",
    "                 batch_size: int = 16,\n",
    "                 epochs: int = 25,\n",
    "                 early_stopping: int = 5,\n",
    "                 lr: float = 1e-4,\n",
    "                 wd: float = 0.0,\n",
    "                 max_lr: float = 1e-3,\n",
    "                 pct_start: float = 0.2,\n",
    "                 steps_per_epoch: int = 100,\n",
    "                 div_factor: int = 1e3, \n",
    "                 final_div_factor: float = 1e3,\n",
    "                 ):\n",
    "        \n",
    "        self.seed = seed\n",
    "        self.n_splits = n_splits\n",
    "        self.batch_size = batch_size\n",
    "        self.epochs = epochs\n",
    "        self.early_stopping = early_stopping\n",
    "        self.lr = lr\n",
    "        self.wd = wd\n",
    "        self.max_lr = max_lr\n",
    "        self.pct_start = pct_start\n",
    "        self.steps_per_epoch = steps_per_epoch\n",
    "        self.div_factor = div_factor\n",
    "        self.final_div_factor = final_div_factor\n",
    "        self.device = torch.device(\"cuda\" if torch.cuda.is_available() else \"cpu\")\n",
    "        self.transform = transforms.Compose([transforms.ToTensor(),\n",
    "                                transforms.Normalize([0.49699, 0.58823, 0.23049],\n",
    "                                                     [0.22591, 0.22614, 0.18264]),\n",
    "                                ])\n",
    "        self.save_path = \"saves\"\n",
    "        if not os.path.exists(self.save_path): os.makedirs(self.save_path)\n",
    "    \n",
    "cfg = CFG(seed=SEED)"
   ]
  },
  {
   "cell_type": "markdown",
   "id": "b4b09b12",
   "metadata": {
    "papermill": {
     "duration": 0.00411,
     "end_time": "2022-06-27T06:39:55.758477",
     "exception": false,
     "start_time": "2022-06-27T06:39:55.754367",
     "status": "completed"
    },
    "tags": []
   },
   "source": [
    "### **Dataset Template**"
   ]
  },
  {
   "cell_type": "code",
   "execution_count": 5,
   "id": "46c50912",
   "metadata": {
    "execution": {
     "iopub.execute_input": "2022-06-27T06:39:55.768794Z",
     "iopub.status.busy": "2022-06-27T06:39:55.768078Z",
     "iopub.status.idle": "2022-06-27T06:39:55.774260Z",
     "shell.execute_reply": "2022-06-27T06:39:55.773553Z"
    },
    "papermill": {
     "duration": 0.013281,
     "end_time": "2022-06-27T06:39:55.775885",
     "exception": false,
     "start_time": "2022-06-27T06:39:55.762604",
     "status": "completed"
    },
    "tags": []
   },
   "outputs": [],
   "source": [
    "class DS(Dataset):\n",
    "    def __init__(self, images: np.ndarray, labels: np.ndarray = None, transform=None):\n",
    "        self.images = images\n",
    "        self.labels = labels\n",
    "        self.transform = transform\n",
    "    \n",
    "    def __len__(self):\n",
    "        return self.images.shape[0]\n",
    "    \n",
    "    def __getitem__(self, idx):\n",
    "        if self.labels is not None:\n",
    "            return self.transform(self.images[idx]), torch.LongTensor(self.labels[idx])\n",
    "        else:\n",
    "            return self.transform(self.images[idx])"
   ]
  },
  {
   "cell_type": "markdown",
   "id": "60112570",
   "metadata": {
    "papermill": {
     "duration": 0.003771,
     "end_time": "2022-06-27T06:39:55.783633",
     "exception": false,
     "start_time": "2022-06-27T06:39:55.779862",
     "status": "completed"
    },
    "tags": []
   },
   "source": [
    "### **Model**"
   ]
  },
  {
   "cell_type": "code",
   "execution_count": 6,
   "id": "be2602e0",
   "metadata": {
    "execution": {
     "iopub.execute_input": "2022-06-27T06:39:55.792807Z",
     "iopub.status.busy": "2022-06-27T06:39:55.792535Z",
     "iopub.status.idle": "2022-06-27T06:39:55.798158Z",
     "shell.execute_reply": "2022-06-27T06:39:55.797466Z"
    },
    "papermill": {
     "duration": 0.012205,
     "end_time": "2022-06-27T06:39:55.799813",
     "exception": false,
     "start_time": "2022-06-27T06:39:55.787608",
     "status": "completed"
    },
    "tags": []
   },
   "outputs": [],
   "source": [
    "class Model(nn.Module):\n",
    "    def __init__(self):\n",
    "        super(Model, self).__init__()\n",
    "\n",
    "        self.model = timm.create_model(model_name=\"tf_efficientnet_b2\", pretrained=True)\n",
    "        # self.freeze()\n",
    "        self.model.classifier = nn.Linear(in_features=self.model.classifier.in_features, out_features=10)\n",
    "    \n",
    "    def freeze(self):\n",
    "        for params in self.parameters(): params.requires_grad = False\n",
    "\n",
    "    def forward(self, x):\n",
    "        return nn.LogSoftmax(dim=1)(self.model(x))"
   ]
  },
  {
   "cell_type": "markdown",
   "id": "cac7a552",
   "metadata": {
    "papermill": {
     "duration": 0.003839,
     "end_time": "2022-06-27T06:39:55.807795",
     "exception": false,
     "start_time": "2022-06-27T06:39:55.803956",
     "status": "completed"
    },
    "tags": []
   },
   "source": [
    "### **Fit and Predict Helpers**"
   ]
  },
  {
   "cell_type": "code",
   "execution_count": 7,
   "id": "196de78a",
   "metadata": {
    "execution": {
     "iopub.execute_input": "2022-06-27T06:39:55.817194Z",
     "iopub.status.busy": "2022-06-27T06:39:55.816845Z",
     "iopub.status.idle": "2022-06-27T06:39:55.842572Z",
     "shell.execute_reply": "2022-06-27T06:39:55.841907Z"
    },
    "papermill": {
     "duration": 0.032492,
     "end_time": "2022-06-27T06:39:55.844274",
     "exception": false,
     "start_time": "2022-06-27T06:39:55.811782",
     "status": "completed"
    },
    "tags": []
   },
   "outputs": [],
   "source": [
    "def fit(model=None, \n",
    "        optimizer=None, \n",
    "        scheduler_rlrop=None,\n",
    "        scheduler_oclr=None,\n",
    "        epochs=None, \n",
    "        early_stopping_patience=None, \n",
    "        dataloaders=None, \n",
    "        fold=None, \n",
    "        save_path=None,\n",
    "        device=None,\n",
    "        verbose=False) -> tuple:\n",
    "    \n",
    "    def get_accuracy(y_pred, y_true):\n",
    "        y_pred = torch.argmax(y_pred, dim=1)\n",
    "        return torch.count_nonzero(y_pred == y_true).item() / len(y_pred)\n",
    "    \n",
    "    if verbose:\n",
    "        breaker()\n",
    "        if fold: print(f\"Training Fold {fold}...\")\n",
    "        else: print(\"Training ...\")\n",
    "        breaker()\n",
    "        \n",
    "    bestLoss, bestAccs = {\"train\" : np.inf, \"valid\" : np.inf}, {\"train\" : 0.0, \"valid\" : 0.0}\n",
    "    Losses, Accuracies, LRs = [], [], []\n",
    "    if fold: \n",
    "        ble_name = f\"ble_state_fold_{fold}.pt\"\n",
    "        bae_name = f\"bae_state_fold_{fold}.pt\"\n",
    "    else: \n",
    "        ble_name = \"ble_state.pt\"\n",
    "        bae_name = \"bae_state.pt\"\n",
    "\n",
    "    start_time = time()\n",
    "    for e in range(epochs):\n",
    "        e_st = time()\n",
    "        epochLoss, epochAccs = {\"train\" : 0.0, \"valid\" : 0.0}, {\"train\" : 0.0, \"valid\" : 0.0}\n",
    "\n",
    "        for phase in [\"train\", \"valid\"]:\n",
    "            if phase == \"train\":\n",
    "                model.train()\n",
    "            else:\n",
    "                model.eval()\n",
    "            \n",
    "            lossPerPass, accsPerPass = [], []\n",
    "\n",
    "            for X, y in dataloaders[phase]:\n",
    "                X, y = X.to(device), y.to(device).view(-1)\n",
    "\n",
    "                optimizer.zero_grad()\n",
    "                with torch.set_grad_enabled(phase == \"train\"):\n",
    "                    output = model(X)\n",
    "                    loss = torch.nn.NLLLoss()(output, y)\n",
    "                    if phase == \"train\":\n",
    "                        loss.backward()\n",
    "                        optimizer.step()\n",
    "                        if scheduler_oclr: scheduler_oclr.step()\n",
    "                lossPerPass.append(loss.item())\n",
    "                accsPerPass.append(get_accuracy(output, y))\n",
    "            epochLoss[phase] = np.mean(np.array(lossPerPass))\n",
    "            epochAccs[phase] = np.mean(np.array(accsPerPass))\n",
    "        if scheduler_oclr: LRs.append(scheduler_oclr.get_last_lr())\n",
    "        Losses.append(epochLoss)\n",
    "        Accuracies.append(epochAccs)\n",
    "        \n",
    "        if scheduler_oclr:\n",
    "            save_dict = {\"model_state_dict\"     : model.state_dict(),\n",
    "                         \"optim_state_dict\"     : optimizer.state_dict(),\n",
    "                         \"scheduler_state_dict\" : scheduler_oclr.state_dict()}\n",
    "        \n",
    "        elif scheduler_rlrop:\n",
    "            save_dict = {\"model_state_dict\"     : model.state_dict(),\n",
    "                         \"optim_state_dict\"     : optimizer.state_dict(),\n",
    "                         \"scheduler_state_dict\" : scheduler_rlrop.state_dict()}\n",
    "        \n",
    "        else:\n",
    "            save_dict = {\"model_state_dict\"     : model.state_dict(),\n",
    "                         \"optim_state_dict\"     : optimizer.state_dict()}\n",
    "        \n",
    "        if early_stopping_patience:\n",
    "            if epochLoss[\"valid\"] < bestLoss[\"valid\"]:\n",
    "                bestLoss = epochLoss\n",
    "                BLE = e + 1\n",
    "                torch.save(save_dict, os.path.join(save_path, name))\n",
    "                early_stopping_step = 0\n",
    "            else:\n",
    "                early_stopping_step += 1\n",
    "                if early_stopping_step > early_stopping_patience:\n",
    "                    print(\"\\nEarly Stopping at Epoch {}\".format(e + 1))\n",
    "                    break\n",
    "        \n",
    "        if epochLoss[\"valid\"] < bestLoss[\"valid\"]:\n",
    "            bestLoss = epochLoss\n",
    "            BLE = e + 1\n",
    "            torch.save(save_dict,os.path.join(save_path, ble_name))\n",
    "        \n",
    "        if epochAccs[\"valid\"] > bestAccs[\"valid\"]:\n",
    "            bestAccs = epochAccs\n",
    "            BAE = e + 1\n",
    "            torch.save(save_dict,os.path.join(save_path, bae_name))\n",
    "\n",
    "        \n",
    "        if scheduler_rlrop: scheduler_rlrop.step(epochLoss[\"valid\"])\n",
    "        \n",
    "        if verbose:\n",
    "            print(\"Epoch: {} | Train Loss: {:.5f} | Valid Loss: {:.5f} |\\\n",
    " Train Accs: {:.5f} | Valid Accs: {:.5f} | Time: {:.2f} seconds\".format(e+1, \n",
    "                                                                        epochLoss[\"train\"], epochLoss[\"valid\"], \n",
    "                                                                        epochAccs[\"train\"], epochAccs[\"valid\"], \n",
    "                                                                        time()-e_st))\n",
    "\n",
    "    if verbose:                                           \n",
    "        breaker()\n",
    "        print(f\"Best Validation Loss at Epoch {BLE}\")\n",
    "        breaker()\n",
    "        print(f\"Best Validation Accs at Epoch {BAE}\")\n",
    "        breaker()\n",
    "        print(\"Time Taken [{} Epochs] : {:.2f} minutes\".format(len(Losses), (time()-start_time)/60))\n",
    "    \n",
    "    return Losses, Accuracies, LRs, BLE, BAE, ble_name, bae_name\n",
    "\n",
    "\n",
    "def predict_batch(model=None, dataloader=None, path=None, device=None) -> np.ndarray:\n",
    "    model.load_state_dict(torch.load(path, map_location=device)[\"model_state_dict\"])\n",
    "    model.to(device)    \n",
    "    model.eval()\n",
    "    \n",
    "    y_pred = torch.zeros(1, 1).to(device)\n",
    "    \n",
    "    for X in dataloader:\n",
    "        X = X.to(device)\n",
    "        with torch.no_grad():\n",
    "            output = torch.argmax(torch.exp(model(X)), dim=1)\n",
    "        y_pred = torch.cat((y_pred, output.view(-1, 1)), dim=0)\n",
    "    \n",
    "    return y_pred[1:].detach().cpu().numpy()"
   ]
  },
  {
   "cell_type": "markdown",
   "id": "4a22e099",
   "metadata": {
    "papermill": {
     "duration": 0.003813,
     "end_time": "2022-06-27T06:39:55.852066",
     "exception": false,
     "start_time": "2022-06-27T06:39:55.848253",
     "status": "completed"
    },
    "tags": []
   },
   "source": [
    "### **Train**"
   ]
  },
  {
   "cell_type": "code",
   "execution_count": 8,
   "id": "3704d4ba",
   "metadata": {
    "execution": {
     "iopub.execute_input": "2022-06-27T06:39:55.860982Z",
     "iopub.status.busy": "2022-06-27T06:39:55.860704Z",
     "iopub.status.idle": "2022-06-27T06:40:33.354472Z",
     "shell.execute_reply": "2022-06-27T06:40:33.353104Z"
    },
    "papermill": {
     "duration": 37.502747,
     "end_time": "2022-06-27T06:40:33.358777",
     "exception": false,
     "start_time": "2022-06-27T06:39:55.856030",
     "status": "completed"
    },
    "tags": []
   },
   "outputs": [],
   "source": [
    "images = np.load(f\"../input/pdc-images-{SIZE}/images-{SIZE}.npy\")\n",
    "df = pd.read_csv(\"../input/paddy-disease-classification/train.csv\")\n",
    "labels = df.label.copy().values\n",
    "labels = le.fit_transform(labels)"
   ]
  },
  {
   "cell_type": "code",
   "execution_count": 9,
   "id": "d60f10ef",
   "metadata": {
    "execution": {
     "iopub.execute_input": "2022-06-27T06:40:33.373546Z",
     "iopub.status.busy": "2022-06-27T06:40:33.373162Z",
     "iopub.status.idle": "2022-06-27T08:15:40.854642Z",
     "shell.execute_reply": "2022-06-27T08:15:40.853779Z"
    },
    "papermill": {
     "duration": 5707.490807,
     "end_time": "2022-06-27T08:15:40.856391",
     "exception": false,
     "start_time": "2022-06-27T06:40:33.365584",
     "status": "completed"
    },
    "tags": []
   },
   "outputs": [
    {
     "name": "stderr",
     "output_type": "stream",
     "text": [
      "Downloading: \"https://github.com/rwightman/pytorch-image-models/releases/download/v0.1-weights/tf_efficientnet_b2_aa-60c94f97.pth\" to /root/.cache/torch/hub/checkpoints/tf_efficientnet_b2_aa-60c94f97.pth\n"
     ]
    },
    {
     "name": "stdout",
     "output_type": "stream",
     "text": [
      "\n",
      "**************************************************\n",
      "\n",
      "Training ...\n",
      "\n",
      "**************************************************\n",
      "\n",
      "Epoch: 1 | Train Loss: 2.08767 | Valid Loss: 1.21965 | Train Accs: 0.29842 | Valid Accs: 0.63073 | Time: 170.38 seconds\n",
      "Epoch: 2 | Train Loss: 0.65223 | Valid Loss: 0.31190 | Train Accs: 0.79651 | Valid Accs: 0.90744 | Time: 163.29 seconds\n",
      "Epoch: 3 | Train Loss: 0.25765 | Valid Loss: 0.32055 | Train Accs: 0.92171 | Valid Accs: 0.91126 | Time: 162.42 seconds\n",
      "Epoch: 4 | Train Loss: 0.24791 | Valid Loss: 0.29817 | Train Accs: 0.92314 | Valid Accs: 0.91603 | Time: 162.14 seconds\n",
      "Epoch: 5 | Train Loss: 0.22221 | Valid Loss: 0.23019 | Train Accs: 0.93342 | Valid Accs: 0.93034 | Time: 162.27 seconds\n",
      "Epoch: 6 | Train Loss: 0.21058 | Valid Loss: 0.23806 | Train Accs: 0.93534 | Valid Accs: 0.92796 | Time: 161.44 seconds\n",
      "Epoch: 7 | Train Loss: 0.17661 | Valid Loss: 0.40532 | Train Accs: 0.94770 | Valid Accs: 0.87166 | Time: 161.81 seconds\n",
      "Epoch: 8 | Train Loss: 0.15335 | Valid Loss: 0.24582 | Train Accs: 0.95190 | Valid Accs: 0.92939 | Time: 161.87 seconds\n",
      "Epoch: 9 | Train Loss: 0.12131 | Valid Loss: 0.28478 | Train Accs: 0.96221 | Valid Accs: 0.93130 | Time: 162.04 seconds\n",
      "Epoch: 10 | Train Loss: 0.12032 | Valid Loss: 0.22552 | Train Accs: 0.96233 | Valid Accs: 0.94084 | Time: 162.24 seconds\n",
      "Epoch: 11 | Train Loss: 0.12904 | Valid Loss: 0.19440 | Train Accs: 0.96201 | Valid Accs: 0.95420 | Time: 162.74 seconds\n",
      "Epoch: 12 | Train Loss: 0.07266 | Valid Loss: 0.38604 | Train Accs: 0.97653 | Valid Accs: 0.91842 | Time: 161.32 seconds\n",
      "Epoch: 13 | Train Loss: 0.07420 | Valid Loss: 0.17154 | Train Accs: 0.97841 | Valid Accs: 0.95611 | Time: 161.54 seconds\n",
      "Epoch: 14 | Train Loss: 0.05408 | Valid Loss: 0.21138 | Train Accs: 0.98369 | Valid Accs: 0.94418 | Time: 161.25 seconds\n",
      "Epoch: 15 | Train Loss: 0.08182 | Valid Loss: 0.37646 | Train Accs: 0.97501 | Valid Accs: 0.89504 | Time: 161.33 seconds\n",
      "Epoch: 16 | Train Loss: 0.06690 | Valid Loss: 0.18524 | Train Accs: 0.98001 | Valid Accs: 0.95611 | Time: 161.07 seconds\n",
      "Epoch: 17 | Train Loss: 0.03780 | Valid Loss: 0.13102 | Train Accs: 0.98836 | Valid Accs: 0.96756 | Time: 163.14 seconds\n",
      "Epoch: 18 | Train Loss: 0.01776 | Valid Loss: 0.26522 | Train Accs: 0.99472 | Valid Accs: 0.95229 | Time: 162.01 seconds\n",
      "Epoch: 19 | Train Loss: 0.03380 | Valid Loss: 0.14506 | Train Accs: 0.99184 | Valid Accs: 0.96183 | Time: 161.74 seconds\n",
      "Epoch: 20 | Train Loss: 0.01410 | Valid Loss: 0.16259 | Train Accs: 0.99568 | Valid Accs: 0.96135 | Time: 161.76 seconds\n",
      "Epoch: 21 | Train Loss: 0.02089 | Valid Loss: 0.17854 | Train Accs: 0.99376 | Valid Accs: 0.96183 | Time: 161.52 seconds\n",
      "Epoch: 22 | Train Loss: 0.02705 | Valid Loss: 0.14088 | Train Accs: 0.99232 | Valid Accs: 0.97376 | Time: 161.38 seconds\n",
      "Epoch: 23 | Train Loss: 0.01075 | Valid Loss: 0.15152 | Train Accs: 0.99760 | Valid Accs: 0.96565 | Time: 165.09 seconds\n",
      "Epoch: 24 | Train Loss: 0.00596 | Valid Loss: 0.12842 | Train Accs: 0.99832 | Valid Accs: 0.97281 | Time: 165.25 seconds\n",
      "Epoch: 25 | Train Loss: 0.00716 | Valid Loss: 0.13658 | Train Accs: 0.99832 | Valid Accs: 0.97424 | Time: 164.52 seconds\n",
      "Epoch: 26 | Train Loss: 0.00876 | Valid Loss: 0.15549 | Train Accs: 0.99820 | Valid Accs: 0.97233 | Time: 162.49 seconds\n",
      "Epoch: 27 | Train Loss: 0.00377 | Valid Loss: 0.15378 | Train Accs: 0.99868 | Valid Accs: 0.97328 | Time: 165.19 seconds\n",
      "Epoch: 28 | Train Loss: 0.00101 | Valid Loss: 0.14424 | Train Accs: 0.99988 | Valid Accs: 0.97471 | Time: 162.35 seconds\n",
      "Epoch: 29 | Train Loss: 0.00050 | Valid Loss: 0.14534 | Train Accs: 0.99988 | Valid Accs: 0.97233 | Time: 161.56 seconds\n",
      "Epoch: 30 | Train Loss: 0.00043 | Valid Loss: 0.14169 | Train Accs: 0.99988 | Valid Accs: 0.97424 | Time: 161.49 seconds\n",
      "Epoch: 31 | Train Loss: 0.00021 | Valid Loss: 0.14014 | Train Accs: 1.00000 | Valid Accs: 0.97519 | Time: 164.55 seconds\n",
      "Epoch: 32 | Train Loss: 0.00027 | Valid Loss: 0.14488 | Train Accs: 1.00000 | Valid Accs: 0.97328 | Time: 165.08 seconds\n",
      "Epoch: 33 | Train Loss: 0.00029 | Valid Loss: 0.14700 | Train Accs: 0.99988 | Valid Accs: 0.97519 | Time: 164.74 seconds\n",
      "Epoch: 34 | Train Loss: 0.00016 | Valid Loss: 0.13977 | Train Accs: 1.00000 | Valid Accs: 0.97471 | Time: 161.09 seconds\n",
      "Epoch: 35 | Train Loss: 0.00016 | Valid Loss: 0.15108 | Train Accs: 1.00000 | Valid Accs: 0.97376 | Time: 160.94 seconds\n",
      "\n",
      "**************************************************\n",
      "\n",
      "Best Validation Loss at Epoch 24\n",
      "\n",
      "**************************************************\n",
      "\n",
      "Best Validation Accs at Epoch 31\n",
      "\n",
      "**************************************************\n",
      "\n",
      "Time Taken [35 Epochs] : 94.92 minutes\n",
      "\n",
      "**************************************************\n",
      "\n"
     ]
    },
    {
     "data": {
      "image/png": "[encoded data removed]",
      "text/plain": [
       "<Figure size 432x288 with 1 Axes>"
      ]
     },
     "metadata": {
      "needs_background": "light"
     },
     "output_type": "display_data"
    },
    {
     "name": "stdout",
     "output_type": "stream",
     "text": [
      "\n",
      "**************************************************\n",
      "\n"
     ]
    },
    {
     "data": {
      "image/png": "[encoded data removed]",
      "text/plain": [
       "<Figure size 432x288 with 1 Axes>"
      ]
     },
     "metadata": {
      "needs_background": "light"
     },
     "output_type": "display_data"
    },
    {
     "name": "stdout",
     "output_type": "stream",
     "text": [
      "\n",
      "**************************************************\n",
      "\n"
     ]
    },
    {
     "data": {
      "image/png": "[encoded data removed]",
      "text/plain": [
       "<Figure size 576x432 with 1 Axes>"
      ]
     },
     "metadata": {
      "needs_background": "light"
     },
     "output_type": "display_data"
    },
    {
     "name": "stdout",
     "output_type": "stream",
     "text": [
      "\n",
      "**************************************************\n",
      "\n"
     ]
    }
   ],
   "source": [
    "fold = 1\n",
    "\n",
    "for tr_idx, va_idx in StratifiedKFold(n_splits=cfg.n_splits, random_state=cfg.seed, shuffle=True).split(images, labels):\n",
    "    if fold == 3: break\n",
    "    fold += 1\n",
    "\n",
    "tr_images, va_images, tr_labels, va_labels = images[tr_idx], images[va_idx], labels[tr_idx], labels[va_idx]\n",
    "\n",
    "tr_data_setup = DS(tr_images, tr_labels.reshape(-1, 1), cfg.transform)\n",
    "va_data_setup = DS(va_images, va_labels.reshape(-1, 1), cfg.transform)\n",
    "\n",
    "dataloaders = {\n",
    "    \"train\" : DL(tr_data_setup, batch_size=cfg.batch_size, shuffle=True, generator=torch.manual_seed(cfg.seed)),\n",
    "    \"valid\" : DL(va_data_setup, batch_size=cfg.batch_size, shuffle=False),\n",
    "}\n",
    "\n",
    "cfg = CFG(epochs=35, batch_size=64, steps_per_epoch=len(dataloaders[\"train\"]))\n",
    "\n",
    "torch.manual_seed(cfg.seed)\n",
    "model = Model().to(cfg.device)\n",
    "\n",
    "optimizer = optim.AdamW([p for p in model.parameters() if p.requires_grad], lr=cfg.lr, weight_decay=cfg.wd)\n",
    "# optimizer = optim.AdamW([p for p in model.parameters() if p.requires_grad], lr=cfg.lr, weight_decay=cfg.wd)\n",
    "\n",
    "scheduler_oclr = optim.lr_scheduler.OneCycleLR(optimizer=optimizer, \n",
    "                                               max_lr=cfg.max_lr, \n",
    "                                               epochs=cfg.epochs, \n",
    "                                               steps_per_epoch=cfg.steps_per_epoch,\n",
    "                                               pct_start=cfg.pct_start, \n",
    "                                               div_factor=cfg.div_factor, \n",
    "                                               final_div_factor=cfg.final_div_factor)\n",
    "# scheduler_rlrop = optim.lr_scheduler.ReduceLROnPlateau(optimizer=optimizer,\n",
    "#                                                       patience=cfg.patience,\n",
    "#                                                       eps=cfg.eps,\n",
    "#                                                       verbose=True)\n",
    "\n",
    "# scheduler_oclr = None\n",
    "scheduler_rlrop = None\n",
    "\n",
    "L, A, LR, BLE, BAE, _, _ = fit(model=model, \n",
    "                               optimizer=optimizer, \n",
    "                               scheduler_oclr=scheduler_oclr,\n",
    "                               scheduler_rlrop=scheduler_rlrop,\n",
    "                               epochs=cfg.epochs, \n",
    "                               early_stopping_patience=None, \n",
    "                               dataloaders=dataloaders, \n",
    "                               device=cfg.device,\n",
    "                               save_path=cfg.save_path,\n",
    "                               fold=None,\n",
    "                               verbose=True)\n",
    "\n",
    "breaker()\n",
    "show_loss_graphs(L)\n",
    "breaker()\n",
    "show_accuracy_graphs(A)\n",
    "breaker()\n",
    "\n",
    "if scheduler_oclr:\n",
    "    show_lr_graph(LR)\n",
    "    breaker()"
   ]
  }
 ],
 "metadata": {
  "kernelspec": {
   "display_name": "Python 3",
   "language": "python",
   "name": "python3"
  },
  "language_info": {
   "codemirror_mode": {
    "name": "ipython",
    "version": 3
   },
   "file_extension": ".py",
   "mimetype": "text/x-python",
   "name": "python",
   "nbconvert_exporter": "python",
   "pygments_lexer": "ipython3",
   "version": "3.7.12"
  },
  "papermill": {
   "default_parameters": {},
   "duration": 5774.654945,
   "end_time": "2022-06-27T08:15:43.589711",
   "environment_variables": {},
   "exception": null,
   "input_path": "__notebook__.ipynb",
   "output_path": "__notebook__.ipynb",
   "parameters": {},
   "start_time": "2022-06-27T06:39:28.934766",
   "version": "2.3.4"
  }
 },
 "nbformat": 4,
 "nbformat_minor": 5
}
