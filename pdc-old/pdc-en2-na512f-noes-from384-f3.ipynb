{
 "cells": [
  {
   "cell_type": "markdown",
   "id": "4d2a07da",
   "metadata": {
    "_cell_guid": "b1076dfc-b9ad-4769-8c92-a6c4dae69d19",
    "_uuid": "8f2839f25d086af736a60e9eeb907d3b93b6e0e5",
    "papermill": {
     "duration": 0.005034,
     "end_time": "2022-06-24T23:09:25.382636",
     "exception": false,
     "start_time": "2022-06-24T23:09:25.377602",
     "status": "completed"
    },
    "tags": []
   },
   "source": [
    "### **Setup**"
   ]
  },
  {
   "cell_type": "code",
   "execution_count": 1,
   "id": "5a10239e",
   "metadata": {
    "execution": {
     "iopub.execute_input": "2022-06-24T23:09:25.392809Z",
     "iopub.status.busy": "2022-06-24T23:09:25.392276Z",
     "iopub.status.idle": "2022-06-24T23:09:36.060840Z",
     "shell.execute_reply": "2022-06-24T23:09:36.059568Z"
    },
    "papermill": {
     "duration": 10.676234,
     "end_time": "2022-06-24T23:09:36.063128",
     "exception": false,
     "start_time": "2022-06-24T23:09:25.386894",
     "status": "completed"
    },
    "tags": []
   },
   "outputs": [
    {
     "name": "stderr",
     "output_type": "stream",
     "text": [
      "WARNING: Running pip as the 'root' user can result in broken permissions and conflicting behaviour with the system package manager. It is recommended to use a virtual environment instead: https://pip.pypa.io/warnings/venv\n"
     ]
    }
   ],
   "source": [
    "%%bash\n",
    "pip install timm -q"
   ]
  },
  {
   "cell_type": "markdown",
   "id": "865e8c02",
   "metadata": {
    "papermill": {
     "duration": 0.004021,
     "end_time": "2022-06-24T23:09:36.071673",
     "exception": false,
     "start_time": "2022-06-24T23:09:36.067652",
     "status": "completed"
    },
    "tags": []
   },
   "source": [
    "### **Library Imports**"
   ]
  },
  {
   "cell_type": "code",
   "execution_count": 2,
   "id": "1a311100",
   "metadata": {
    "execution": {
     "iopub.execute_input": "2022-06-24T23:09:36.081460Z",
     "iopub.status.busy": "2022-06-24T23:09:36.081104Z",
     "iopub.status.idle": "2022-06-24T23:09:44.157489Z",
     "shell.execute_reply": "2022-06-24T23:09:44.156375Z"
    },
    "papermill": {
     "duration": 8.083942,
     "end_time": "2022-06-24T23:09:44.159800",
     "exception": false,
     "start_time": "2022-06-24T23:09:36.075858",
     "status": "completed"
    },
    "tags": []
   },
   "outputs": [],
   "source": [
    "import os\n",
    "import re\n",
    "import timm\n",
    "import torch\n",
    "import numpy as np\n",
    "import pandas as pd\n",
    "import matplotlib.pyplot as plt\n",
    "\n",
    "from time import time\n",
    "from torch import nn, optim\n",
    "from torch.utils.data import Dataset\n",
    "from torch.utils.data import DataLoader as DL\n",
    "from torchvision import transforms\n",
    "\n",
    "from sklearn.model_selection import StratifiedKFold\n",
    "from sklearn.preprocessing import LabelEncoder\n",
    "from sklearn.metrics import accuracy_score"
   ]
  },
  {
   "cell_type": "markdown",
   "id": "5f267a99",
   "metadata": {
    "papermill": {
     "duration": 0.004429,
     "end_time": "2022-06-24T23:09:44.168572",
     "exception": false,
     "start_time": "2022-06-24T23:09:44.164143",
     "status": "completed"
    },
    "tags": []
   },
   "source": [
    "### **Utilities and Helpers**"
   ]
  },
  {
   "cell_type": "code",
   "execution_count": 3,
   "id": "75a7ac94",
   "metadata": {
    "execution": {
     "iopub.execute_input": "2022-06-24T23:09:44.178930Z",
     "iopub.status.busy": "2022-06-24T23:09:44.177857Z",
     "iopub.status.idle": "2022-06-24T23:09:44.190469Z",
     "shell.execute_reply": "2022-06-24T23:09:44.189771Z"
    },
    "papermill": {
     "duration": 0.019508,
     "end_time": "2022-06-24T23:09:44.192046",
     "exception": false,
     "start_time": "2022-06-24T23:09:44.172538",
     "status": "completed"
    },
    "tags": []
   },
   "outputs": [],
   "source": [
    "SEED = 42\n",
    "SIZE = 512\n",
    "FOLD = 3\n",
    "le = LabelEncoder()\n",
    "\n",
    "\n",
    "def breaker(num: int=50, char: str=\"*\") -> None:\n",
    "    print(\"\\n\" + num*char + \"\\n\")\n",
    "\n",
    "    \n",
    "def show_loss_graphs(L: list) -> None:\n",
    "    TL, VL = [], []\n",
    "    for i in range(len(L)):\n",
    "        TL.append(L[i][\"train\"])\n",
    "        VL.append(L[i][\"valid\"])\n",
    "    x_Axis = np.arange(1, len(TL) + 1)\n",
    "    plt.figure()\n",
    "    plt.plot(x_Axis, TL, \"r\", label=\"Train\")\n",
    "    plt.plot(x_Axis, VL, \"b\", label=\"Valid\")\n",
    "    plt.legend()\n",
    "    plt.grid()\n",
    "    plt.title(\"Loss Graph\")\n",
    "    plt.show()\n",
    "\n",
    "    \n",
    "def show_accuracy_graphs(A: list) -> None:\n",
    "    TA, VA = [], []\n",
    "    for i in range(len(A)):\n",
    "        TA.append(A[i][\"train\"])\n",
    "        VA.append(A[i][\"valid\"])\n",
    "    x_Axis = np.arange(1, len(TA) + 1)\n",
    "    plt.figure()\n",
    "    plt.plot(x_Axis, TA, \"r\", label=\"Train\")\n",
    "    plt.plot(x_Axis, VA, \"b\", label=\"Valid\")\n",
    "    plt.legend()\n",
    "    plt.grid()\n",
    "    plt.title(\"Accuracy Graph\")\n",
    "    plt.show()\n",
    "\n",
    "\n",
    "def show_lr_graph(LR: list) -> None:\n",
    "    x_Axis = [i+1 for i in range(len(LR))]\n",
    "    plt.figure(figsize=(8, 6))\n",
    "    plt.plot(x_Axis, LR, \"rx\")\n",
    "    plt.grid()\n",
    "    plt.show()"
   ]
  },
  {
   "cell_type": "markdown",
   "id": "4175bd43",
   "metadata": {
    "papermill": {
     "duration": 0.003838,
     "end_time": "2022-06-24T23:09:44.200088",
     "exception": false,
     "start_time": "2022-06-24T23:09:44.196250",
     "status": "completed"
    },
    "tags": []
   },
   "source": [
    "### **Configuration**"
   ]
  },
  {
   "cell_type": "code",
   "execution_count": 4,
   "id": "43651cbe",
   "metadata": {
    "execution": {
     "iopub.execute_input": "2022-06-24T23:09:44.209418Z",
     "iopub.status.busy": "2022-06-24T23:09:44.209139Z",
     "iopub.status.idle": "2022-06-24T23:09:44.273131Z",
     "shell.execute_reply": "2022-06-24T23:09:44.272160Z"
    },
    "papermill": {
     "duration": 0.070968,
     "end_time": "2022-06-24T23:09:44.275068",
     "exception": false,
     "start_time": "2022-06-24T23:09:44.204100",
     "status": "completed"
    },
    "tags": []
   },
   "outputs": [],
   "source": [
    "class CFG(object):\n",
    "    def __init__(self, \n",
    "                 seed: int = 42,\n",
    "                 n_splits: int = 5,\n",
    "                 batch_size: int = 16,\n",
    "                 epochs: int = 25,\n",
    "                 early_stopping: int = 5,\n",
    "                 lr: float = 1e-4,\n",
    "                 wd: float = 0.0,\n",
    "                 max_lr: float = 1e-3,\n",
    "                 pct_start: float = 0.2,\n",
    "                 steps_per_epoch: int = 100,\n",
    "                 div_factor: int = 1e3, \n",
    "                 final_div_factor: float = 1e3,\n",
    "                 ):\n",
    "        \n",
    "        self.seed = seed\n",
    "        self.n_splits = n_splits\n",
    "        self.batch_size = batch_size\n",
    "        self.epochs = epochs\n",
    "        self.early_stopping = early_stopping\n",
    "        self.lr = lr\n",
    "        self.wd = wd\n",
    "        self.max_lr = max_lr\n",
    "        self.pct_start = pct_start\n",
    "        self.steps_per_epoch = steps_per_epoch\n",
    "        self.div_factor = div_factor\n",
    "        self.final_div_factor = final_div_factor\n",
    "        self.device = torch.device(\"cuda\" if torch.cuda.is_available() else \"cpu\")\n",
    "        self.transform = transforms.Compose([transforms.ToTensor(),\n",
    "                                transforms.Normalize([0.49650, 0.58774, 0.23004],\n",
    "                                                     [0.22750, 0.22771, 0.18430]),\n",
    "                                ])\n",
    "        self.save_path = \"saves\"\n",
    "        if not os.path.exists(self.save_path): os.makedirs(self.save_path)\n",
    "    \n",
    "cfg = CFG(seed=SEED)"
   ]
  },
  {
   "cell_type": "markdown",
   "id": "b55ae378",
   "metadata": {
    "papermill": {
     "duration": 0.003948,
     "end_time": "2022-06-24T23:09:44.284687",
     "exception": false,
     "start_time": "2022-06-24T23:09:44.280739",
     "status": "completed"
    },
    "tags": []
   },
   "source": [
    "### **Dataset Template**"
   ]
  },
  {
   "cell_type": "code",
   "execution_count": 5,
   "id": "9b1841c8",
   "metadata": {
    "execution": {
     "iopub.execute_input": "2022-06-24T23:09:44.294452Z",
     "iopub.status.busy": "2022-06-24T23:09:44.293931Z",
     "iopub.status.idle": "2022-06-24T23:09:44.300637Z",
     "shell.execute_reply": "2022-06-24T23:09:44.299925Z"
    },
    "papermill": {
     "duration": 0.013454,
     "end_time": "2022-06-24T23:09:44.302429",
     "exception": false,
     "start_time": "2022-06-24T23:09:44.288975",
     "status": "completed"
    },
    "tags": []
   },
   "outputs": [],
   "source": [
    "class DS(Dataset):\n",
    "    def __init__(self, images: np.ndarray, labels: np.ndarray = None, transform=None):\n",
    "        self.images = images\n",
    "        self.labels = labels\n",
    "        self.transform = transform\n",
    "    \n",
    "    def __len__(self):\n",
    "        return self.images.shape[0]\n",
    "    \n",
    "    def __getitem__(self, idx):\n",
    "        if self.labels is not None:\n",
    "            return self.transform(self.images[idx]), torch.LongTensor(self.labels[idx])\n",
    "        else:\n",
    "            return self.transform(self.images[idx])"
   ]
  },
  {
   "cell_type": "markdown",
   "id": "5d0bda27",
   "metadata": {
    "papermill": {
     "duration": 0.003847,
     "end_time": "2022-06-24T23:09:44.310476",
     "exception": false,
     "start_time": "2022-06-24T23:09:44.306629",
     "status": "completed"
    },
    "tags": []
   },
   "source": [
    "### **Model**"
   ]
  },
  {
   "cell_type": "code",
   "execution_count": 6,
   "id": "78f934ff",
   "metadata": {
    "execution": {
     "iopub.execute_input": "2022-06-24T23:09:44.319700Z",
     "iopub.status.busy": "2022-06-24T23:09:44.319454Z",
     "iopub.status.idle": "2022-06-24T23:09:44.325912Z",
     "shell.execute_reply": "2022-06-24T23:09:44.325211Z"
    },
    "papermill": {
     "duration": 0.012887,
     "end_time": "2022-06-24T23:09:44.327502",
     "exception": false,
     "start_time": "2022-06-24T23:09:44.314615",
     "status": "completed"
    },
    "tags": []
   },
   "outputs": [],
   "source": [
    "class Model(nn.Module):\n",
    "    def __init__(self):\n",
    "        super(Model, self).__init__()\n",
    "\n",
    "        self.model = timm.create_model(model_name=\"efficientnet_b2\", pretrained=True)\n",
    "        # self.freeze()\n",
    "        self.model.classifier = nn.Linear(in_features=self.model.classifier.in_features, out_features=10)\n",
    "    \n",
    "    def freeze(self):\n",
    "        for params in self.parameters(): params.requires_grad = False\n",
    "\n",
    "    def forward(self, x):\n",
    "        return nn.LogSoftmax(dim=1)(self.model(x))"
   ]
  },
  {
   "cell_type": "markdown",
   "id": "298ecfc0",
   "metadata": {
    "papermill": {
     "duration": 0.003974,
     "end_time": "2022-06-24T23:09:44.335541",
     "exception": false,
     "start_time": "2022-06-24T23:09:44.331567",
     "status": "completed"
    },
    "tags": []
   },
   "source": [
    "### **Fit and Predict Helpers**"
   ]
  },
  {
   "cell_type": "code",
   "execution_count": 7,
   "id": "28b221d8",
   "metadata": {
    "execution": {
     "iopub.execute_input": "2022-06-24T23:09:44.344853Z",
     "iopub.status.busy": "2022-06-24T23:09:44.344582Z",
     "iopub.status.idle": "2022-06-24T23:09:44.370928Z",
     "shell.execute_reply": "2022-06-24T23:09:44.370308Z"
    },
    "papermill": {
     "duration": 0.033088,
     "end_time": "2022-06-24T23:09:44.372653",
     "exception": false,
     "start_time": "2022-06-24T23:09:44.339565",
     "status": "completed"
    },
    "tags": []
   },
   "outputs": [],
   "source": [
    "def fit(model=None, \n",
    "        optimizer=None, \n",
    "        scheduler_rlrop=None,\n",
    "        scheduler_oclr=None,\n",
    "        epochs=None, \n",
    "        early_stopping_patience=None, \n",
    "        dataloaders=None, \n",
    "        fold=None, \n",
    "        save_path=None,\n",
    "        device=None,\n",
    "        verbose=False) -> tuple:\n",
    "    \n",
    "    def get_accuracy(y_pred, y_true):\n",
    "        y_pred = torch.argmax(y_pred, dim=1)\n",
    "        return torch.count_nonzero(y_pred == y_true).item() / len(y_pred)\n",
    "    \n",
    "    if verbose:\n",
    "        breaker()\n",
    "        if fold: print(f\"Training Fold {fold}...\")\n",
    "        else: print(\"Training ...\")\n",
    "        breaker()\n",
    "        \n",
    "    bestLoss, bestAccs = {\"train\" : np.inf, \"valid\" : np.inf}, {\"train\" : 0.0, \"valid\" : 0.0}\n",
    "    Losses, Accuracies, LRs = [], [], []\n",
    "    if fold: \n",
    "        ble_name = f\"ble_state_fold_{fold}.pt\"\n",
    "        bae_name = f\"bae_state_fold_{fold}.pt\"\n",
    "    else: \n",
    "        ble_name = \"ble_state.pt\"\n",
    "        bae_name = \"bae_state.pt\"\n",
    "\n",
    "    start_time = time()\n",
    "    for e in range(epochs):\n",
    "        e_st = time()\n",
    "        epochLoss, epochAccs = {\"train\" : 0.0, \"valid\" : 0.0}, {\"train\" : 0.0, \"valid\" : 0.0}\n",
    "\n",
    "        for phase in [\"train\", \"valid\"]:\n",
    "            if phase == \"train\":\n",
    "                model.train()\n",
    "            else:\n",
    "                model.eval()\n",
    "            \n",
    "            lossPerPass, accsPerPass = [], []\n",
    "\n",
    "            for X, y in dataloaders[phase]:\n",
    "                X, y = X.to(device), y.to(device).view(-1)\n",
    "\n",
    "                optimizer.zero_grad()\n",
    "                with torch.set_grad_enabled(phase == \"train\"):\n",
    "                    output = model(X)\n",
    "                    loss = torch.nn.NLLLoss()(output, y)\n",
    "                    if phase == \"train\":\n",
    "                        loss.backward()\n",
    "                        optimizer.step()\n",
    "                        if scheduler_oclr: scheduler_oclr.step()\n",
    "                lossPerPass.append(loss.item())\n",
    "                accsPerPass.append(get_accuracy(output, y))\n",
    "            epochLoss[phase] = np.mean(np.array(lossPerPass))\n",
    "            epochAccs[phase] = np.mean(np.array(accsPerPass))\n",
    "        if scheduler_oclr: LRs.append(scheduler_oclr.get_last_lr())\n",
    "        Losses.append(epochLoss)\n",
    "        Accuracies.append(epochAccs)\n",
    "        \n",
    "        if scheduler_oclr:\n",
    "            save_dict = {\"model_state_dict\"     : model.state_dict(),\n",
    "                         \"optim_state_dict\"     : optimizer.state_dict(),\n",
    "                         \"scheduler_state_dict\" : scheduler_oclr.state_dict()}\n",
    "        \n",
    "        elif scheduler_rlrop:\n",
    "            save_dict = {\"model_state_dict\"     : model.state_dict(),\n",
    "                         \"optim_state_dict\"     : optimizer.state_dict(),\n",
    "                         \"scheduler_state_dict\" : scheduler_rlrop.state_dict()}\n",
    "        \n",
    "        else:\n",
    "            save_dict = {\"model_state_dict\"     : model.state_dict(),\n",
    "                         \"optim_state_dict\"     : optimizer.state_dict()}\n",
    "        \n",
    "        if early_stopping_patience:\n",
    "            if epochLoss[\"valid\"] < bestLoss[\"valid\"]:\n",
    "                bestLoss = epochLoss\n",
    "                BLE = e + 1\n",
    "                torch.save(save_dict, os.path.join(save_path, name))\n",
    "                early_stopping_step = 0\n",
    "            else:\n",
    "                early_stopping_step += 1\n",
    "                if early_stopping_step > early_stopping_patience:\n",
    "                    print(\"\\nEarly Stopping at Epoch {}\".format(e + 1))\n",
    "                    break\n",
    "        \n",
    "        if epochLoss[\"valid\"] < bestLoss[\"valid\"]:\n",
    "            bestLoss = epochLoss\n",
    "            BLE = e + 1\n",
    "            torch.save(save_dict,os.path.join(save_path, ble_name))\n",
    "        \n",
    "        if epochAccs[\"valid\"] > bestAccs[\"valid\"]:\n",
    "            bestAccs = epochAccs\n",
    "            BAE = e + 1\n",
    "            torch.save(save_dict,os.path.join(save_path, bae_name))\n",
    "\n",
    "        \n",
    "        if scheduler_rlrop: scheduler_rlrop.step(epochLoss[\"valid\"])\n",
    "        \n",
    "        if verbose:\n",
    "            print(\"Epoch: {} | Train Loss: {:.5f} | Valid Loss: {:.5f} |\\\n",
    " Train Accs: {:.5f} | Valid Accs: {:.5f} | Time: {:.2f} seconds\".format(e+1, \n",
    "                                                                        epochLoss[\"train\"], epochLoss[\"valid\"], \n",
    "                                                                        epochAccs[\"train\"], epochAccs[\"valid\"], \n",
    "                                                                        time()-e_st))\n",
    "\n",
    "    if verbose:                                           \n",
    "        breaker()\n",
    "        print(f\"Best Validation Loss at Epoch {BLE}\")\n",
    "        breaker()\n",
    "        print(f\"Best Validation Accs at Epoch {BAE}\")\n",
    "        breaker()\n",
    "        print(\"Time Taken [{} Epochs] : {:.2f} minutes\".format(len(Losses), (time()-start_time)/60))\n",
    "    \n",
    "    return Losses, Accuracies, LRs, BLE, BAE, ble_name, bae_name\n",
    "\n",
    "\n",
    "def predict_batch(model=None, dataloader=None, path=None, device=None) -> np.ndarray:\n",
    "    model.load_state_dict(torch.load(path, map_location=device)[\"model_state_dict\"])\n",
    "    model.to(device)    \n",
    "    model.eval()\n",
    "    \n",
    "    y_pred = torch.zeros(1, 1).to(device)\n",
    "    \n",
    "    for X in dataloader:\n",
    "        X = X.to(device)\n",
    "        with torch.no_grad():\n",
    "            output = torch.argmax(torch.exp(model(X)), dim=1)\n",
    "        y_pred = torch.cat((y_pred, output.view(-1, 1)), dim=0)\n",
    "    \n",
    "    return y_pred[1:].detach().cpu().numpy()"
   ]
  },
  {
   "cell_type": "markdown",
   "id": "a6c1b13d",
   "metadata": {
    "papermill": {
     "duration": 0.00392,
     "end_time": "2022-06-24T23:09:44.380802",
     "exception": false,
     "start_time": "2022-06-24T23:09:44.376882",
     "status": "completed"
    },
    "tags": []
   },
   "source": [
    "### **Train**"
   ]
  },
  {
   "cell_type": "code",
   "execution_count": 8,
   "id": "65fbd768",
   "metadata": {
    "execution": {
     "iopub.execute_input": "2022-06-24T23:09:44.390498Z",
     "iopub.status.busy": "2022-06-24T23:09:44.390180Z",
     "iopub.status.idle": "2022-06-24T23:10:41.857327Z",
     "shell.execute_reply": "2022-06-24T23:10:41.856485Z"
    },
    "papermill": {
     "duration": 57.474827,
     "end_time": "2022-06-24T23:10:41.859850",
     "exception": false,
     "start_time": "2022-06-24T23:09:44.385023",
     "status": "completed"
    },
    "tags": []
   },
   "outputs": [],
   "source": [
    "tr_images = np.load(f\"../input/pdc-images-{SIZE}-f{FOLD}/tr-images-{SIZE}-f{FOLD}.npy\")\n",
    "va_images = np.load(f\"../input/pdc-images-{SIZE}-f{FOLD}/va-images-{SIZE}-f{FOLD}.npy\")\n",
    "tr_labels = np.load(f\"../input/pdc-images-{SIZE}-f{FOLD}/tr-labels-{SIZE}-f{FOLD}.npy\")\n",
    "va_labels = np.load(f\"../input/pdc-images-{SIZE}-f{FOLD}/va-labels-{SIZE}-f{FOLD}.npy\")"
   ]
  },
  {
   "cell_type": "code",
   "execution_count": 9,
   "id": "e32844ed",
   "metadata": {
    "execution": {
     "iopub.execute_input": "2022-06-24T23:10:41.870803Z",
     "iopub.status.busy": "2022-06-24T23:10:41.870479Z",
     "iopub.status.idle": "2022-06-25T01:05:15.164243Z",
     "shell.execute_reply": "2022-06-25T01:05:15.163480Z"
    },
    "papermill": {
     "duration": 6873.301232,
     "end_time": "2022-06-25T01:05:15.166131",
     "exception": false,
     "start_time": "2022-06-24T23:10:41.864899",
     "status": "completed"
    },
    "tags": []
   },
   "outputs": [
    {
     "name": "stderr",
     "output_type": "stream",
     "text": [
      "Downloading: \"https://github.com/rwightman/pytorch-image-models/releases/download/v0.1-weights/efficientnet_b2_ra-bcdf34b7.pth\" to /root/.cache/torch/hub/checkpoints/efficientnet_b2_ra-bcdf34b7.pth\n"
     ]
    },
    {
     "name": "stdout",
     "output_type": "stream",
     "text": [
      "\n",
      "**************************************************\n",
      "\n",
      "Training ...\n",
      "\n",
      "**************************************************\n",
      "\n",
      "Epoch: 1 | Train Loss: 0.04853 | Valid Loss: 0.10275 | Train Accs: 0.98500 | Valid Accs: 0.97424 | Time: 283.94 seconds\n",
      "Epoch: 2 | Train Loss: 0.03295 | Valid Loss: 0.12113 | Train Accs: 0.99064 | Valid Accs: 0.97042 | Time: 275.32 seconds\n",
      "Epoch: 3 | Train Loss: 0.03749 | Valid Loss: 0.14847 | Train Accs: 0.98968 | Valid Accs: 0.95706 | Time: 275.70 seconds\n",
      "Epoch: 4 | Train Loss: 0.13939 | Valid Loss: 0.14098 | Train Accs: 0.95789 | Valid Accs: 0.96040 | Time: 275.29 seconds\n",
      "Epoch: 5 | Train Loss: 0.09423 | Valid Loss: 0.18166 | Train Accs: 0.97049 | Valid Accs: 0.95706 | Time: 276.56 seconds\n",
      "Epoch: 6 | Train Loss: 0.07066 | Valid Loss: 0.17365 | Train Accs: 0.97733 | Valid Accs: 0.96088 | Time: 269.38 seconds\n",
      "Epoch: 7 | Train Loss: 0.06890 | Valid Loss: 0.14473 | Train Accs: 0.97829 | Valid Accs: 0.96756 | Time: 275.77 seconds\n",
      "Epoch: 8 | Train Loss: 0.05453 | Valid Loss: 0.16233 | Train Accs: 0.98440 | Valid Accs: 0.96326 | Time: 277.01 seconds\n",
      "Epoch: 9 | Train Loss: 0.05381 | Valid Loss: 0.17470 | Train Accs: 0.98452 | Valid Accs: 0.95134 | Time: 276.95 seconds\n",
      "Epoch: 10 | Train Loss: 0.04998 | Valid Loss: 0.19249 | Train Accs: 0.98361 | Valid Accs: 0.96326 | Time: 269.49 seconds\n",
      "Epoch: 11 | Train Loss: 0.03398 | Valid Loss: 0.14700 | Train Accs: 0.98960 | Valid Accs: 0.96994 | Time: 269.11 seconds\n",
      "Epoch: 12 | Train Loss: 0.02330 | Valid Loss: 0.15115 | Train Accs: 0.99244 | Valid Accs: 0.96756 | Time: 277.04 seconds\n",
      "Epoch: 13 | Train Loss: 0.01698 | Valid Loss: 0.12899 | Train Accs: 0.99652 | Valid Accs: 0.97281 | Time: 278.04 seconds\n",
      "Epoch: 14 | Train Loss: 0.01212 | Valid Loss: 0.19754 | Train Accs: 0.99664 | Valid Accs: 0.95992 | Time: 270.67 seconds\n",
      "Epoch: 15 | Train Loss: 0.01203 | Valid Loss: 0.15673 | Train Accs: 0.99676 | Valid Accs: 0.97042 | Time: 270.57 seconds\n",
      "Epoch: 16 | Train Loss: 0.00943 | Valid Loss: 0.18073 | Train Accs: 0.99760 | Valid Accs: 0.96994 | Time: 276.80 seconds\n",
      "Epoch: 17 | Train Loss: 0.00899 | Valid Loss: 0.15756 | Train Accs: 0.99760 | Valid Accs: 0.96994 | Time: 278.52 seconds\n",
      "Epoch: 18 | Train Loss: 0.00610 | Valid Loss: 0.15368 | Train Accs: 0.99808 | Valid Accs: 0.97233 | Time: 274.24 seconds\n",
      "Epoch: 19 | Train Loss: 0.00179 | Valid Loss: 0.14398 | Train Accs: 0.99940 | Valid Accs: 0.97328 | Time: 270.14 seconds\n",
      "Epoch: 20 | Train Loss: 0.00038 | Valid Loss: 0.13752 | Train Accs: 1.00000 | Valid Accs: 0.97519 | Time: 271.31 seconds\n",
      "Epoch: 21 | Train Loss: 0.00031 | Valid Loss: 0.15224 | Train Accs: 0.99988 | Valid Accs: 0.97376 | Time: 276.29 seconds\n",
      "Epoch: 22 | Train Loss: 0.00019 | Valid Loss: 0.14896 | Train Accs: 1.00000 | Valid Accs: 0.97281 | Time: 271.46 seconds\n",
      "Epoch: 23 | Train Loss: 0.00022 | Valid Loss: 0.14744 | Train Accs: 1.00000 | Valid Accs: 0.97328 | Time: 270.98 seconds\n",
      "Epoch: 24 | Train Loss: 0.00016 | Valid Loss: 0.14144 | Train Accs: 1.00000 | Valid Accs: 0.97328 | Time: 276.43 seconds\n",
      "Epoch: 25 | Train Loss: 0.00019 | Valid Loss: 0.14973 | Train Accs: 1.00000 | Valid Accs: 0.97328 | Time: 276.86 seconds\n",
      "\n",
      "**************************************************\n",
      "\n",
      "Best Validation Loss at Epoch 1\n",
      "\n",
      "**************************************************\n",
      "\n",
      "Best Validation Accs at Epoch 20\n",
      "\n",
      "**************************************************\n",
      "\n",
      "Time Taken [25 Epochs] : 114.40 minutes\n",
      "\n",
      "**************************************************\n",
      "\n"
     ]
    },
    {
     "data": {
      "image/png": "[encoded data removed]",
      "text/plain": [
       "<Figure size 432x288 with 1 Axes>"
      ]
     },
     "metadata": {
      "needs_background": "light"
     },
     "output_type": "display_data"
    },
    {
     "name": "stdout",
     "output_type": "stream",
     "text": [
      "\n",
      "**************************************************\n",
      "\n"
     ]
    },
    {
     "data": {
      "image/png": "[encoded data removed]",
      "text/plain": [
       "<Figure size 432x288 with 1 Axes>"
      ]
     },
     "metadata": {
      "needs_background": "light"
     },
     "output_type": "display_data"
    },
    {
     "name": "stdout",
     "output_type": "stream",
     "text": [
      "\n",
      "**************************************************\n",
      "\n"
     ]
    },
    {
     "data": {
      "image/png": "[encoded data removed]",
      "text/plain": [
       "<Figure size 576x432 with 1 Axes>"
      ]
     },
     "metadata": {
      "needs_background": "light"
     },
     "output_type": "display_data"
    },
    {
     "name": "stdout",
     "output_type": "stream",
     "text": [
      "\n",
      "**************************************************\n",
      "\n"
     ]
    }
   ],
   "source": [
    "tr_data_setup = DS(tr_images, tr_labels.reshape(-1, 1), cfg.transform)\n",
    "va_data_setup = DS(va_images, va_labels.reshape(-1, 1), cfg.transform)\n",
    "\n",
    "dataloaders = {\n",
    "    \"train\" : DL(tr_data_setup, batch_size=cfg.batch_size, shuffle=True, generator=torch.manual_seed(cfg.seed)),\n",
    "    \"valid\" : DL(va_data_setup, batch_size=cfg.batch_size, shuffle=False),\n",
    "}\n",
    "\n",
    "cfg = CFG(epochs=25, batch_size=64, steps_per_epoch=len(dataloaders[\"train\"]))\n",
    "\n",
    "torch.manual_seed(cfg.seed)\n",
    "model = Model().to(cfg.device)\n",
    "model.load_state_dict(torch.load(\"../input/pdc-en2-na384f-noes-f3/saves/ble_state.pt\", map_location=cfg.device)[\"model_state_dict\"])\n",
    "\n",
    "optimizer = optim.AdamW([p for p in model.parameters() if p.requires_grad], lr=cfg.lr, weight_decay=cfg.wd)\n",
    "# optimizer = optim.AdamW([p for p in model.parameters() if p.requires_grad], lr=cfg.lr, weight_decay=cfg.wd)\n",
    "\n",
    "scheduler_oclr = optim.lr_scheduler.OneCycleLR(optimizer=optimizer, \n",
    "                                               max_lr=cfg.max_lr, \n",
    "                                               epochs=cfg.epochs, \n",
    "                                               steps_per_epoch=cfg.steps_per_epoch,\n",
    "                                               pct_start=cfg.pct_start, \n",
    "                                               div_factor=cfg.div_factor, \n",
    "                                               final_div_factor=cfg.final_div_factor)\n",
    "# scheduler_rlrop = optim.lr_scheduler.ReduceLROnPlateau(optimizer=optimizer,\n",
    "#                                                       patience=cfg.patience,\n",
    "#                                                       eps=cfg.eps,\n",
    "#                                                       verbose=True)\n",
    "\n",
    "# scheduler_oclr = None\n",
    "scheduler_rlrop = None\n",
    "\n",
    "L, A, LR, BLE, BAE, _, _ = fit(model=model, \n",
    "                               optimizer=optimizer, \n",
    "                               scheduler_oclr=scheduler_oclr,\n",
    "                               scheduler_rlrop=scheduler_rlrop,\n",
    "                               epochs=cfg.epochs, \n",
    "                               early_stopping_patience=None, \n",
    "                               dataloaders=dataloaders, \n",
    "                               device=cfg.device,\n",
    "                               save_path=cfg.save_path,\n",
    "                               fold=None,\n",
    "                               verbose=True)\n",
    "\n",
    "breaker()\n",
    "show_loss_graphs(L)\n",
    "breaker()\n",
    "show_accuracy_graphs(A)\n",
    "breaker()\n",
    "\n",
    "if scheduler_oclr:\n",
    "    show_lr_graph(LR)\n",
    "    breaker()"
   ]
  }
 ],
 "metadata": {
  "kernelspec": {
   "display_name": "Python 3",
   "language": "python",
   "name": "python3"
  },
  "language_info": {
   "codemirror_mode": {
    "name": "ipython",
    "version": 3
   },
   "file_extension": ".py",
   "mimetype": "text/x-python",
   "name": "python",
   "nbconvert_exporter": "python",
   "pygments_lexer": "ipython3",
   "version": "3.7.12"
  },
  "papermill": {
   "default_parameters": {},
   "duration": 6961.300464,
   "end_time": "2022-06-25T01:05:18.646787",
   "environment_variables": {},
   "exception": null,
   "input_path": "__notebook__.ipynb",
   "output_path": "__notebook__.ipynb",
   "parameters": {},
   "start_time": "2022-06-24T23:09:17.346323",
   "version": "2.3.4"
  }
 },
 "nbformat": 4,
 "nbformat_minor": 5
}
