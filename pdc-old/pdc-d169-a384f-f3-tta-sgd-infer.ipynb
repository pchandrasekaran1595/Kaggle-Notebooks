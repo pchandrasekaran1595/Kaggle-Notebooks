{
 "cells": [
  {
   "cell_type": "markdown",
   "id": "d4be5ebe",
   "metadata": {
    "papermill": {
     "duration": 0.004177,
     "end_time": "2022-07-07T10:52:42.611880",
     "exception": false,
     "start_time": "2022-07-07T10:52:42.607703",
     "status": "completed"
    },
    "tags": []
   },
   "source": [
    "### **Library Imports**"
   ]
  },
  {
   "cell_type": "code",
   "execution_count": 1,
   "id": "2b503f14",
   "metadata": {
    "execution": {
     "iopub.execute_input": "2022-07-07T10:52:42.622427Z",
     "iopub.status.busy": "2022-07-07T10:52:42.621885Z",
     "iopub.status.idle": "2022-07-07T10:52:45.904213Z",
     "shell.execute_reply": "2022-07-07T10:52:45.903323Z"
    },
    "papermill": {
     "duration": 3.289235,
     "end_time": "2022-07-07T10:52:45.906536",
     "exception": false,
     "start_time": "2022-07-07T10:52:42.617301",
     "status": "completed"
    },
    "tags": []
   },
   "outputs": [],
   "source": [
    "import os\n",
    "import re\n",
    "import cv2\n",
    "import torch\n",
    "import random as r\n",
    "import numpy as np\n",
    "import pandas as pd\n",
    "import matplotlib.pyplot as plt\n",
    "\n",
    "from time import time\n",
    "from scipy import stats\n",
    "from torch import nn, optim\n",
    "from torch.utils.data import Dataset\n",
    "from torch.utils.data import DataLoader as DL\n",
    "from torchvision import models, transforms\n",
    "\n",
    "from sklearn.preprocessing import LabelEncoder"
   ]
  },
  {
   "cell_type": "markdown",
   "id": "afd00c8a",
   "metadata": {
    "papermill": {
     "duration": 0.003326,
     "end_time": "2022-07-07T10:52:45.914175",
     "exception": false,
     "start_time": "2022-07-07T10:52:45.910849",
     "status": "completed"
    },
    "tags": []
   },
   "source": [
    "### **Utilities and Helpers**"
   ]
  },
  {
   "cell_type": "code",
   "execution_count": 2,
   "id": "4d4ca3e5",
   "metadata": {
    "execution": {
     "iopub.execute_input": "2022-07-07T10:52:45.922232Z",
     "iopub.status.busy": "2022-07-07T10:52:45.921749Z",
     "iopub.status.idle": "2022-07-07T10:52:46.000564Z",
     "shell.execute_reply": "2022-07-07T10:52:45.999781Z"
    },
    "papermill": {
     "duration": 0.085268,
     "end_time": "2022-07-07T10:52:46.002905",
     "exception": false,
     "start_time": "2022-07-07T10:52:45.917637",
     "status": "completed"
    },
    "tags": []
   },
   "outputs": [],
   "source": [
    "SEED = 42\n",
    "SIZE = 384\n",
    "FOLD = 3\n",
    "TRANSFORM = transforms.Compose([transforms.ToTensor(),\n",
    "                                transforms.Normalize([0.49699, 0.58823, 0.23049],\n",
    "                                                    [0.22591, 0.22614, 0.18264]),\n",
    "                                transforms.RandomAffine(degrees=(-15, 15), translate=(0.05, 0.05), scale=(0.9, 1.1)),\n",
    "                                transforms.RandomHorizontalFlip(p=0.1),\n",
    "                                transforms.RandomVerticalFlip(p=0.1),\n",
    "                               ])\n",
    "MODEL_PATH = f\"../input/pdc-d169-a384f-sgd-f3/saves/ble_state.pt\"\n",
    "DEVICE = torch.device(\"cuda\" if torch.cuda.is_available() else \"cpu\")\n",
    "\n",
    "le = LabelEncoder()\n",
    "r.seed(SEED)\n",
    "\n",
    "\n",
    "def breaker(num: int=50, char: str=\"*\") -> None:\n",
    "    print(\"\\n\" + num*char + \"\\n\")\n",
    "\n",
    "\n",
    "def get_image(path: str, size: int=224) -> np.ndarray:\n",
    "    return cv2.resize(src=cv2.cvtColor(src=cv2.imread(path, cv2.IMREAD_COLOR), code=cv2.COLOR_BGR2RGB), dsize=(size, size), interpolation=cv2.INTER_AREA)"
   ]
  },
  {
   "cell_type": "markdown",
   "id": "a547d407",
   "metadata": {
    "papermill": {
     "duration": 0.003019,
     "end_time": "2022-07-07T10:52:46.009268",
     "exception": false,
     "start_time": "2022-07-07T10:52:46.006249",
     "status": "completed"
    },
    "tags": []
   },
   "source": [
    "### **Configuration**"
   ]
  },
  {
   "cell_type": "markdown",
   "id": "3e83633d",
   "metadata": {
    "papermill": {
     "duration": 0.002931,
     "end_time": "2022-07-07T10:52:46.015448",
     "exception": false,
     "start_time": "2022-07-07T10:52:46.012517",
     "status": "completed"
    },
    "tags": []
   },
   "source": [
    "### **Dataset Template**"
   ]
  },
  {
   "cell_type": "code",
   "execution_count": 3,
   "id": "a0265904",
   "metadata": {
    "execution": {
     "iopub.execute_input": "2022-07-07T10:52:46.023915Z",
     "iopub.status.busy": "2022-07-07T10:52:46.023604Z",
     "iopub.status.idle": "2022-07-07T10:52:46.029776Z",
     "shell.execute_reply": "2022-07-07T10:52:46.029019Z"
    },
    "papermill": {
     "duration": 0.012661,
     "end_time": "2022-07-07T10:52:46.031397",
     "exception": false,
     "start_time": "2022-07-07T10:52:46.018736",
     "status": "completed"
    },
    "tags": []
   },
   "outputs": [],
   "source": [
    "class DS(Dataset):\n",
    "    def __init__(self, base_path: str, filenames: np.ndarray, size: int=224, transform=None):\n",
    "        self.base_path = base_path\n",
    "        self.filenames = filenames\n",
    "        self.size = size\n",
    "        self.transform = transform\n",
    "    \n",
    "    def __len__(self):\n",
    "        return self.filenames.shape[0]\n",
    "    \n",
    "    def __getitem__(self, idx):\n",
    "        return self.transform(get_image(os.path.join(self.base_path, self.filenames[idx]), size=self.size))"
   ]
  },
  {
   "cell_type": "markdown",
   "id": "1d73b843",
   "metadata": {
    "papermill": {
     "duration": 0.00308,
     "end_time": "2022-07-07T10:52:46.037529",
     "exception": false,
     "start_time": "2022-07-07T10:52:46.034449",
     "status": "completed"
    },
    "tags": []
   },
   "source": [
    "### **Model**"
   ]
  },
  {
   "cell_type": "code",
   "execution_count": 4,
   "id": "dad5feda",
   "metadata": {
    "execution": {
     "iopub.execute_input": "2022-07-07T10:52:46.044697Z",
     "iopub.status.busy": "2022-07-07T10:52:46.044382Z",
     "iopub.status.idle": "2022-07-07T10:52:46.050921Z",
     "shell.execute_reply": "2022-07-07T10:52:46.050092Z"
    },
    "papermill": {
     "duration": 0.011925,
     "end_time": "2022-07-07T10:52:46.052541",
     "exception": false,
     "start_time": "2022-07-07T10:52:46.040616",
     "status": "completed"
    },
    "tags": []
   },
   "outputs": [],
   "source": [
    "class Model(nn.Module):\n",
    "    def __init__(self):\n",
    "        super(Model, self).__init__()\n",
    "\n",
    "        self.model = models.densenet169(pretrained=False, progress=True)\n",
    "        # self.freeze()\n",
    "        self.model.classifier = nn.Linear(in_features=self.model.classifier.in_features, out_features=10)\n",
    "    \n",
    "    def freeze(self):\n",
    "        for params in self.parameters(): params.requires_grad = False\n",
    "\n",
    "    def forward(self, x):\n",
    "        return nn.LogSoftmax(dim=1)(self.model(x))"
   ]
  },
  {
   "cell_type": "markdown",
   "id": "700e9142",
   "metadata": {
    "papermill": {
     "duration": 0.003232,
     "end_time": "2022-07-07T10:52:46.059034",
     "exception": false,
     "start_time": "2022-07-07T10:52:46.055802",
     "status": "completed"
    },
    "tags": []
   },
   "source": [
    "### **Predict Helpers**"
   ]
  },
  {
   "cell_type": "code",
   "execution_count": 5,
   "id": "3fa0a47b",
   "metadata": {
    "execution": {
     "iopub.execute_input": "2022-07-07T10:52:46.066745Z",
     "iopub.status.busy": "2022-07-07T10:52:46.066438Z",
     "iopub.status.idle": "2022-07-07T10:52:46.072660Z",
     "shell.execute_reply": "2022-07-07T10:52:46.071883Z"
    },
    "papermill": {
     "duration": 0.012117,
     "end_time": "2022-07-07T10:52:46.074237",
     "exception": false,
     "start_time": "2022-07-07T10:52:46.062120",
     "status": "completed"
    },
    "tags": []
   },
   "outputs": [],
   "source": [
    "def predict_batch(model=None, dataloader=None, path=None, device=None) -> np.ndarray:\n",
    "    model.load_state_dict(torch.load(path, map_location=device)[\"model_state_dict\"])\n",
    "    model.to(device)    \n",
    "    model.eval()\n",
    "    \n",
    "    y_pred = torch.zeros(1, 1).to(device)\n",
    "    \n",
    "    for X in dataloader:\n",
    "        X = X.to(device)\n",
    "        with torch.no_grad():\n",
    "            output = torch.argmax(torch.exp(model(X)), dim=1)\n",
    "        y_pred = torch.cat((y_pred, output.view(-1, 1)), dim=0)\n",
    "    \n",
    "    return y_pred[1:].detach().cpu().numpy()"
   ]
  },
  {
   "cell_type": "markdown",
   "id": "54a0e00e",
   "metadata": {
    "papermill": {
     "duration": 0.002827,
     "end_time": "2022-07-07T10:52:46.080318",
     "exception": false,
     "start_time": "2022-07-07T10:52:46.077491",
     "status": "completed"
    },
    "tags": []
   },
   "source": [
    "### **Submission**"
   ]
  },
  {
   "cell_type": "code",
   "execution_count": 6,
   "id": "d1e5aa4c",
   "metadata": {
    "execution": {
     "iopub.execute_input": "2022-07-07T10:52:46.087995Z",
     "iopub.status.busy": "2022-07-07T10:52:46.087340Z",
     "iopub.status.idle": "2022-07-07T11:22:06.542943Z",
     "shell.execute_reply": "2022-07-07T11:22:06.542069Z"
    },
    "papermill": {
     "duration": 1760.461798,
     "end_time": "2022-07-07T11:22:06.545151",
     "exception": false,
     "start_time": "2022-07-07T10:52:46.083353",
     "status": "completed"
    },
    "tags": []
   },
   "outputs": [],
   "source": [
    "df = pd.read_csv(\"../input/paddy-disease-classification/train.csv\")\n",
    "ss_df = pd.read_csv(\"../input/paddy-disease-classification/sample_submission.csv\")\n",
    "\n",
    "labels = df.label.copy().values\n",
    "labels = le.fit_transform(labels)\n",
    "\n",
    "model = Model().to(DEVICE)\n",
    "\n",
    "seeds = [r.randint(0, 99) for _ in range(25)]\n",
    "\n",
    "y_pred = np.zeros((ss_df.shape[0], 1))\n",
    "\n",
    "for seed in seeds:\n",
    "    ts_data_setup = DS(base_path=\"../input/paddy-disease-classification/test_images\", \n",
    "                       filenames=ss_df.image_id.copy().values,\n",
    "                       size=SIZE,\n",
    "                       transform=TRANSFORM)\n",
    "    ts_data = DL(ts_data_setup, batch_size=64, shuffle=False, generator=torch.manual_seed(seed))\n",
    "\n",
    "    temp_y_pred = predict_batch(model=model, \n",
    "                           dataloader=ts_data, \n",
    "                           path=MODEL_PATH,\n",
    "                           device=DEVICE)\n",
    "    \n",
    "    y_pred = np.concatenate((y_pred, temp_y_pred), axis=1)\n",
    "\n",
    "y_pred = stats.mode(y_pred[:, 1:], axis=1)[0]\n",
    "\n",
    "ss_df[\"label\"] = le.inverse_transform(y_pred.astype(\"uint8\").reshape(-1))\n",
    "ss_df.to_csv(\"submission.csv\", index=False)"
   ]
  }
 ],
 "metadata": {
  "kernelspec": {
   "display_name": "Python 3",
   "language": "python",
   "name": "python3"
  },
  "language_info": {
   "codemirror_mode": {
    "name": "ipython",
    "version": 3
   },
   "file_extension": ".py",
   "mimetype": "text/x-python",
   "name": "python",
   "nbconvert_exporter": "python",
   "pygments_lexer": "ipython3",
   "version": "3.7.12"
  },
  "papermill": {
   "default_parameters": {},
   "duration": 1774.01421,
   "end_time": "2022-07-07T11:22:08.074259",
   "environment_variables": {},
   "exception": null,
   "input_path": "__notebook__.ipynb",
   "output_path": "__notebook__.ipynb",
   "parameters": {},
   "start_time": "2022-07-07T10:52:34.060049",
   "version": "2.3.4"
  }
 },
 "nbformat": 4,
 "nbformat_minor": 5
}
