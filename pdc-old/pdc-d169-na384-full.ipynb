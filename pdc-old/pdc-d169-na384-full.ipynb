{
 "cells": [
  {
   "cell_type": "markdown",
   "id": "85d8f180",
   "metadata": {
    "_cell_guid": "b1076dfc-b9ad-4769-8c92-a6c4dae69d19",
    "_uuid": "8f2839f25d086af736a60e9eeb907d3b93b6e0e5",
    "papermill": {
     "duration": 0.005637,
     "end_time": "2022-06-16T12:48:48.028200",
     "exception": false,
     "start_time": "2022-06-16T12:48:48.022563",
     "status": "completed"
    },
    "tags": []
   },
   "source": [
    "### **Library Imports**"
   ]
  },
  {
   "cell_type": "code",
   "execution_count": 1,
   "id": "f2b34bc6",
   "metadata": {
    "execution": {
     "iopub.execute_input": "2022-06-16T12:48:48.038377Z",
     "iopub.status.busy": "2022-06-16T12:48:48.037611Z",
     "iopub.status.idle": "2022-06-16T12:48:50.745666Z",
     "shell.execute_reply": "2022-06-16T12:48:50.744882Z"
    },
    "papermill": {
     "duration": 2.715854,
     "end_time": "2022-06-16T12:48:50.748164",
     "exception": false,
     "start_time": "2022-06-16T12:48:48.032310",
     "status": "completed"
    },
    "tags": []
   },
   "outputs": [],
   "source": [
    "import os\n",
    "import re\n",
    "import torch\n",
    "import numpy as np\n",
    "import pandas as pd\n",
    "import matplotlib.pyplot as plt\n",
    "\n",
    "from time import time\n",
    "from torch import nn, optim\n",
    "from torch.utils.data import Dataset\n",
    "from torch.utils.data import DataLoader as DL\n",
    "from torchvision import models, transforms\n",
    "\n",
    "from sklearn.model_selection import StratifiedKFold\n",
    "from sklearn.preprocessing import LabelEncoder\n",
    "from sklearn.metrics import accuracy_score"
   ]
  },
  {
   "cell_type": "markdown",
   "id": "bd70b743",
   "metadata": {
    "papermill": {
     "duration": 0.004027,
     "end_time": "2022-06-16T12:48:50.756119",
     "exception": false,
     "start_time": "2022-06-16T12:48:50.752092",
     "status": "completed"
    },
    "tags": []
   },
   "source": [
    "### **Utilities and Helpers**"
   ]
  },
  {
   "cell_type": "code",
   "execution_count": 2,
   "id": "961073b3",
   "metadata": {
    "execution": {
     "iopub.execute_input": "2022-06-16T12:48:50.765373Z",
     "iopub.status.busy": "2022-06-16T12:48:50.764940Z",
     "iopub.status.idle": "2022-06-16T12:48:50.778013Z",
     "shell.execute_reply": "2022-06-16T12:48:50.777312Z"
    },
    "papermill": {
     "duration": 0.019598,
     "end_time": "2022-06-16T12:48:50.779606",
     "exception": false,
     "start_time": "2022-06-16T12:48:50.760008",
     "status": "completed"
    },
    "tags": []
   },
   "outputs": [],
   "source": [
    "SEED = 42\n",
    "SIZE = 384\n",
    "le = LabelEncoder()\n",
    "\n",
    "\n",
    "def breaker(num: int=50, char: str=\"*\") -> None:\n",
    "    print(\"\\n\" + num*char + \"\\n\")\n",
    "\n",
    "    \n",
    "def show_loss_graphs(A: list) -> None:\n",
    "    TL, VL = [], []\n",
    "    for i in range(len(L)):\n",
    "        TL.append(L[i][\"train\"])\n",
    "        VL.append(L[i][\"valid\"])\n",
    "    x_Axis = np.arange(1, len(TL) + 1)\n",
    "    plt.figure()\n",
    "    plt.plot(x_Axis, TL, \"r\", label=\"Train\")\n",
    "    plt.plot(x_Axis, VL, \"b\", label=\"Valid\")\n",
    "    plt.legend()\n",
    "    plt.grid()\n",
    "    plt.title(\"Loss Graph\")\n",
    "    plt.show()\n",
    "\n",
    "    \n",
    "def show_accuracy_graphs(A: list) -> None:\n",
    "    TA, VA = [], []\n",
    "    for i in range(len(L)):\n",
    "        TA.append(A[i][\"train\"])\n",
    "        VA.append(A[i][\"valid\"])\n",
    "    x_Axis = np.arange(1, len(TA) + 1)\n",
    "    plt.figure()\n",
    "    plt.plot(x_Axis, TA, \"r\", label=\"Train\")\n",
    "    plt.plot(x_Axis, VA, \"b\", label=\"Valid\")\n",
    "    plt.legend()\n",
    "    plt.grid()\n",
    "    plt.title(\"Accuracy Graph\")\n",
    "    plt.show()\n",
    "\n",
    "\n",
    "def show_lr_graph(LR: list) -> None:\n",
    "    x_Axis = [i+1 for i in range(len(LR))]\n",
    "    plt.figure(figsize=(8, 6))\n",
    "    plt.plot(x_Axis, LR, \"rx\")\n",
    "    plt.grid()\n",
    "    plt.show()"
   ]
  },
  {
   "cell_type": "markdown",
   "id": "145fb9e4",
   "metadata": {
    "papermill": {
     "duration": 0.003553,
     "end_time": "2022-06-16T12:48:50.786931",
     "exception": false,
     "start_time": "2022-06-16T12:48:50.783378",
     "status": "completed"
    },
    "tags": []
   },
   "source": [
    "### **Configuration**"
   ]
  },
  {
   "cell_type": "code",
   "execution_count": 3,
   "id": "7e38d869",
   "metadata": {
    "execution": {
     "iopub.execute_input": "2022-06-16T12:48:50.795532Z",
     "iopub.status.busy": "2022-06-16T12:48:50.795205Z",
     "iopub.status.idle": "2022-06-16T12:48:50.864417Z",
     "shell.execute_reply": "2022-06-16T12:48:50.863631Z"
    },
    "papermill": {
     "duration": 0.07594,
     "end_time": "2022-06-16T12:48:50.866457",
     "exception": false,
     "start_time": "2022-06-16T12:48:50.790517",
     "status": "completed"
    },
    "tags": []
   },
   "outputs": [],
   "source": [
    "class CFG(object):\n",
    "    def __init__(self, \n",
    "                 seed: int = 42,\n",
    "                 n_splits: int = 5,\n",
    "                 batch_size: int = 16,\n",
    "                 epochs: int = 25,\n",
    "                 early_stopping: int = 5,\n",
    "                 lr: float = 1e-4,\n",
    "                 wd: float = 0.0,\n",
    "                 max_lr: float = 1e-3,\n",
    "                 pct_start: float = 0.2,\n",
    "                 steps_per_epoch: int = 100,\n",
    "                 div_factor: int = 1e3, \n",
    "                 final_div_factor: float = 1e3,\n",
    "                 ):\n",
    "        \n",
    "        self.seed = seed\n",
    "        self.n_splits = n_splits\n",
    "        self.batch_size = batch_size\n",
    "        self.epochs = epochs\n",
    "        self.early_stopping = early_stopping\n",
    "        self.lr = lr\n",
    "        self.wd = wd\n",
    "        self.max_lr = max_lr\n",
    "        self.pct_start = pct_start\n",
    "        self.steps_per_epoch = steps_per_epoch\n",
    "        self.div_factor = div_factor\n",
    "        self.final_div_factor = final_div_factor\n",
    "        self.device = torch.device(\"cuda\" if torch.cuda.is_available() else \"cpu\")\n",
    "        self.transform = transforms.Compose([transforms.ToTensor(),\n",
    "                                transforms.Normalize([0.49699, 0.58823, 0.23049],\n",
    "                                                     [0.22591, 0.22614, 0.18264]),\n",
    "                                ])\n",
    "        self.save_path = \"saves\"\n",
    "        if not os.path.exists(self.save_path): os.makedirs(self.save_path)\n",
    "    \n",
    "cfg = CFG(seed=SEED)"
   ]
  },
  {
   "cell_type": "markdown",
   "id": "483c52fd",
   "metadata": {
    "papermill": {
     "duration": 0.003769,
     "end_time": "2022-06-16T12:48:50.874351",
     "exception": false,
     "start_time": "2022-06-16T12:48:50.870582",
     "status": "completed"
    },
    "tags": []
   },
   "source": [
    "### **Dataset Template**"
   ]
  },
  {
   "cell_type": "code",
   "execution_count": 4,
   "id": "94b48961",
   "metadata": {
    "execution": {
     "iopub.execute_input": "2022-06-16T12:48:50.883005Z",
     "iopub.status.busy": "2022-06-16T12:48:50.882676Z",
     "iopub.status.idle": "2022-06-16T12:48:50.889162Z",
     "shell.execute_reply": "2022-06-16T12:48:50.888299Z"
    },
    "papermill": {
     "duration": 0.01277,
     "end_time": "2022-06-16T12:48:50.890989",
     "exception": false,
     "start_time": "2022-06-16T12:48:50.878219",
     "status": "completed"
    },
    "tags": []
   },
   "outputs": [],
   "source": [
    "class DS(Dataset):\n",
    "    def __init__(self, images: np.ndarray, labels: np.ndarray = None, transform=None):\n",
    "        self.images = images\n",
    "        self.labels = labels\n",
    "        self.transform = transform\n",
    "    \n",
    "    def __len__(self):\n",
    "        return self.images.shape[0]\n",
    "    \n",
    "    def __getitem__(self, idx):\n",
    "        if self.labels is not None:\n",
    "            return self.transform(self.images[idx]), torch.LongTensor(self.labels[idx])\n",
    "        else:\n",
    "            return self.transform(self.images[idx])"
   ]
  },
  {
   "cell_type": "markdown",
   "id": "3f927d60",
   "metadata": {
    "papermill": {
     "duration": 0.003654,
     "end_time": "2022-06-16T12:48:50.898278",
     "exception": false,
     "start_time": "2022-06-16T12:48:50.894624",
     "status": "completed"
    },
    "tags": []
   },
   "source": [
    "### **Model**"
   ]
  },
  {
   "cell_type": "code",
   "execution_count": 5,
   "id": "fb34576a",
   "metadata": {
    "execution": {
     "iopub.execute_input": "2022-06-16T12:48:50.906434Z",
     "iopub.status.busy": "2022-06-16T12:48:50.906167Z",
     "iopub.status.idle": "2022-06-16T12:48:50.912396Z",
     "shell.execute_reply": "2022-06-16T12:48:50.911721Z"
    },
    "papermill": {
     "duration": 0.012242,
     "end_time": "2022-06-16T12:48:50.914110",
     "exception": false,
     "start_time": "2022-06-16T12:48:50.901868",
     "status": "completed"
    },
    "tags": []
   },
   "outputs": [],
   "source": [
    "class Model(nn.Module):\n",
    "    def __init__(self):\n",
    "        super(Model, self).__init__()\n",
    "\n",
    "        self.model = models.densenet169(pretrained=True, progress=True)\n",
    "        # self.freeze()\n",
    "        self.model.classifier = nn.Linear(in_features=self.model.classifier.in_features, out_features=10)\n",
    "    \n",
    "    def freeze(self):\n",
    "        for params in self.parameters(): params.requires_grad = False\n",
    "\n",
    "    def forward(self, x):\n",
    "        return nn.LogSoftmax(dim=1)(self.model(x))"
   ]
  },
  {
   "cell_type": "markdown",
   "id": "bedbe7a7",
   "metadata": {
    "papermill": {
     "duration": 0.00346,
     "end_time": "2022-06-16T12:48:50.921120",
     "exception": false,
     "start_time": "2022-06-16T12:48:50.917660",
     "status": "completed"
    },
    "tags": []
   },
   "source": [
    "### **Fit and Predict Helpers**"
   ]
  },
  {
   "cell_type": "code",
   "execution_count": 6,
   "id": "238eed1b",
   "metadata": {
    "execution": {
     "iopub.execute_input": "2022-06-16T12:48:50.929630Z",
     "iopub.status.busy": "2022-06-16T12:48:50.929343Z",
     "iopub.status.idle": "2022-06-16T12:48:50.960661Z",
     "shell.execute_reply": "2022-06-16T12:48:50.959273Z"
    },
    "papermill": {
     "duration": 0.03868,
     "end_time": "2022-06-16T12:48:50.963327",
     "exception": false,
     "start_time": "2022-06-16T12:48:50.924647",
     "status": "completed"
    },
    "tags": []
   },
   "outputs": [],
   "source": [
    "def fit(model=None, \n",
    "        optimizer=None, \n",
    "        scheduler_rlrop=None,\n",
    "        scheduler_oclr=None,\n",
    "        epochs=None, \n",
    "        early_stopping_patience=None, \n",
    "        dataloaders=None, \n",
    "        fold=None, \n",
    "        save_path=None,\n",
    "        device=None,\n",
    "        verbose=False) -> tuple:\n",
    "    \n",
    "    def get_accuracy(y_pred, y_true):\n",
    "        y_pred = torch.argmax(y_pred, dim=1)\n",
    "        return torch.count_nonzero(y_pred == y_true).item() / len(y_pred)\n",
    "    \n",
    "    if verbose:\n",
    "        breaker()\n",
    "        if fold: print(f\"Training Fold {fold}...\")\n",
    "        else: print(\"Training ...\")\n",
    "        breaker()\n",
    "        \n",
    "    bestLoss, bestAccs = {\"train\" : np.inf, \"valid\" : np.inf}, {\"train\" : 0.0, \"valid\" : 0.0}\n",
    "    Losses, Accuracies, LRs = [], [], []\n",
    "    if fold: name = f\"state_fold_{fold}.pt\"\n",
    "    else: name = \"state.pt\"\n",
    "\n",
    "    start_time = time()\n",
    "    for e in range(epochs):\n",
    "        e_st = time()\n",
    "        epochLoss, epochAccs = {\"train\" : 0.0, \"valid\" : 0.0}, {\"train\" : 0.0, \"valid\" : 0.0}\n",
    "\n",
    "        for phase in [\"train\", \"valid\"]:\n",
    "            if phase == \"train\":\n",
    "                model.train()\n",
    "            else:\n",
    "                model.eval()\n",
    "            \n",
    "            lossPerPass, accsPerPass = [], []\n",
    "\n",
    "            for X, y in dataloaders[phase]:\n",
    "                X, y = X.to(device), y.to(device).view(-1)\n",
    "\n",
    "                optimizer.zero_grad()\n",
    "                with torch.set_grad_enabled(phase == \"train\"):\n",
    "                    output = model(X)\n",
    "                    loss = torch.nn.NLLLoss()(output, y)\n",
    "                    if phase == \"train\":\n",
    "                        loss.backward()\n",
    "                        optimizer.step()\n",
    "                        if scheduler_oclr: scheduler_oclr.step()\n",
    "                lossPerPass.append(loss.item())\n",
    "                accsPerPass.append(get_accuracy(output, y))\n",
    "            epochLoss[phase] = np.mean(np.array(lossPerPass))\n",
    "            epochAccs[phase] = np.mean(np.array(accsPerPass))\n",
    "        if scheduler_oclr: LRs.append(scheduler_oclr.get_last_lr())\n",
    "        Losses.append(epochLoss)\n",
    "        Accuracies.append(epochAccs)\n",
    "        \n",
    "        if scheduler_oclr:\n",
    "            save_dict = {\"model_state_dict\"     : model.state_dict(),\n",
    "                         \"optim_state_dict\"     : optimizer.state_dict(),\n",
    "                         \"scheduler_state_dict\" : scheduler_oclr.state_dict()}\n",
    "        \n",
    "        elif scheduler_rlrop:\n",
    "            save_dict = {\"model_state_dict\"     : model.state_dict(),\n",
    "                         \"optim_state_dict\"     : optimizer.state_dict(),\n",
    "                         \"scheduler_state_dict\" : scheduler_rlrop.state_dict()}\n",
    "        \n",
    "        else:\n",
    "            save_dict = {\"model_state_dict\"     : model.state_dict(),\n",
    "                         \"optim_state_dict\"     : optimizer.state_dict()}\n",
    "        \n",
    "        if early_stopping_patience:\n",
    "            if epochLoss[\"valid\"] < bestLoss[\"valid\"]:\n",
    "                bestLoss = epochLoss\n",
    "                BLE = e + 1\n",
    "                torch.save(save_dict, os.path.join(save_path, name))\n",
    "                early_stopping_step = 0\n",
    "            else:\n",
    "                early_stopping_step += 1\n",
    "                if early_stopping_step > early_stopping_patience:\n",
    "                    print(\"\\nEarly Stopping at Epoch {}\".format(e + 1))\n",
    "                    break\n",
    "        \n",
    "        if epochLoss[\"valid\"] < bestLoss[\"valid\"]:\n",
    "            bestLoss = epochLoss\n",
    "            BLE = e + 1\n",
    "            torch.save(save_dict,os.path.join(save_path, name))\n",
    "        \n",
    "        if epochAccs[\"valid\"] > bestAccs[\"valid\"]:\n",
    "            bestAccs = epochAccs\n",
    "            BAE = e + 1\n",
    "        \n",
    "        if scheduler_rlrop: scheduler_rlrop.step(epochLoss[\"valid\"])\n",
    "        \n",
    "        if verbose:\n",
    "            print(\"Epoch: {} | Train Loss: {:.5f} | Valid Loss: {:.5f} |\\\n",
    " Train Accs: {:.5f} | Valid Accs: {:.5f} | Time: {:.2f} seconds\".format(e+1, \n",
    "                                                                        epochLoss[\"train\"], epochLoss[\"valid\"], \n",
    "                                                                        epochAccs[\"train\"], epochAccs[\"valid\"], \n",
    "                                                                        time()-e_st))\n",
    "\n",
    "    if verbose:                                           \n",
    "        breaker()\n",
    "        print(f\"Best Validation Loss at Epoch {BLE}\")\n",
    "        breaker()\n",
    "        print(f\"Best Validation Accs at Epoch {BAE}\")\n",
    "        breaker()\n",
    "        print(\"Time Taken [{} Epochs] : {:.2f} minutes\".format(len(Losses), (time()-start_time)/60))\n",
    "    \n",
    "    return Losses, Accuracies, LRs, BLE, BAE, name\n",
    "\n",
    "\n",
    "def predict_batch(model=None, dataloader=None, path=None, device=None) -> np.ndarray:\n",
    "    model.load_state_dict(torch.load(path, map_location=device)[\"model_state_dict\"])\n",
    "    model.to(device)    \n",
    "    model.eval()\n",
    "    \n",
    "    y_pred = torch.zeros(1, 1).to(device)\n",
    "    \n",
    "    for X in dataloader:\n",
    "        X = X.to(device)\n",
    "        with torch.no_grad():\n",
    "            output = torch.argmax(torch.exp(model(X)), dim=1)\n",
    "        y_pred = torch.cat((y_pred, output.view(-1, 1)), dim=0)\n",
    "    \n",
    "    return y_pred[1:].detach().cpu().numpy()"
   ]
  },
  {
   "cell_type": "markdown",
   "id": "e6267b79",
   "metadata": {
    "papermill": {
     "duration": 0.00568,
     "end_time": "2022-06-16T12:48:50.975388",
     "exception": false,
     "start_time": "2022-06-16T12:48:50.969708",
     "status": "completed"
    },
    "tags": []
   },
   "source": [
    "### **Train**"
   ]
  },
  {
   "cell_type": "code",
   "execution_count": 7,
   "id": "ff0b4353",
   "metadata": {
    "execution": {
     "iopub.execute_input": "2022-06-16T12:48:50.990612Z",
     "iopub.status.busy": "2022-06-16T12:48:50.989882Z",
     "iopub.status.idle": "2022-06-16T12:49:28.994301Z",
     "shell.execute_reply": "2022-06-16T12:49:28.993217Z"
    },
    "papermill": {
     "duration": 38.015156,
     "end_time": "2022-06-16T12:49:28.996532",
     "exception": false,
     "start_time": "2022-06-16T12:48:50.981376",
     "status": "completed"
    },
    "tags": []
   },
   "outputs": [],
   "source": [
    "images = np.load(f\"../input/pdc-images-{SIZE}/images-{SIZE}.npy\")\n",
    "df = pd.read_csv(\"../input/paddy-disease-classification/train.csv\")\n",
    "labels = df.label.copy().values\n",
    "labels = le.fit_transform(labels)"
   ]
  },
  {
   "cell_type": "code",
   "execution_count": 8,
   "id": "3b5dace1",
   "metadata": {
    "execution": {
     "iopub.execute_input": "2022-06-16T12:49:29.006530Z",
     "iopub.status.busy": "2022-06-16T12:49:29.006220Z",
     "iopub.status.idle": "2022-06-16T13:57:20.298925Z",
     "shell.execute_reply": "2022-06-16T13:57:20.297778Z"
    },
    "papermill": {
     "duration": 4071.299686,
     "end_time": "2022-06-16T13:57:20.300662",
     "exception": false,
     "start_time": "2022-06-16T12:49:29.000976",
     "status": "completed"
    },
    "tags": []
   },
   "outputs": [
    {
     "name": "stderr",
     "output_type": "stream",
     "text": [
      "Downloading: \"https://download.pytorch.org/models/densenet169-b2777c0a.pth\" to /root/.cache/torch/hub/checkpoints/densenet169-b2777c0a.pth\n"
     ]
    },
    {
     "data": {
      "application/vnd.jupyter.widget-view+json": {
       "model_id": "e9f8791e562f49768ed2135463963290",
       "version_major": 2,
       "version_minor": 0
      },
      "text/plain": [
       "  0%|          | 0.00/54.7M [00:00<?, ?B/s]"
      ]
     },
     "metadata": {},
     "output_type": "display_data"
    },
    {
     "name": "stdout",
     "output_type": "stream",
     "text": [
      "\n",
      "**************************************************\n",
      "\n",
      "Training ...\n",
      "\n",
      "**************************************************\n",
      "\n",
      "Epoch: 1 | Train Loss: 1.97508 | Valid Loss: 1.08201 | Train Accs: 0.32143 | Valid Accs: 0.64790 | Time: 220.79 seconds\n",
      "Epoch: 2 | Train Loss: 0.70262 | Valid Loss: 0.35514 | Train Accs: 0.78920 | Valid Accs: 0.90029 | Time: 213.69 seconds\n",
      "Epoch: 3 | Train Loss: 0.34031 | Valid Loss: 0.46641 | Train Accs: 0.89947 | Valid Accs: 0.83874 | Time: 213.57 seconds\n",
      "Epoch: 4 | Train Loss: 0.33179 | Valid Loss: 0.41289 | Train Accs: 0.89453 | Valid Accs: 0.87595 | Time: 214.12 seconds\n",
      "Epoch: 5 | Train Loss: 0.33842 | Valid Loss: 0.31505 | Train Accs: 0.89431 | Valid Accs: 0.90697 | Time: 214.73 seconds\n",
      "Epoch: 6 | Train Loss: 0.34302 | Valid Loss: 0.46044 | Train Accs: 0.89333 | Valid Accs: 0.85926 | Time: 210.27 seconds\n",
      "Epoch: 7 | Train Loss: 0.35333 | Valid Loss: 0.39088 | Train Accs: 0.88472 | Valid Accs: 0.88216 | Time: 213.68 seconds\n",
      "Epoch: 8 | Train Loss: 0.27881 | Valid Loss: 0.39278 | Train Accs: 0.90914 | Valid Accs: 0.89504 | Time: 213.56 seconds\n",
      "Epoch: 9 | Train Loss: 0.31382 | Valid Loss: 0.42213 | Train Accs: 0.90055 | Valid Accs: 0.86975 | Time: 213.30 seconds\n",
      "Epoch: 10 | Train Loss: 0.25508 | Valid Loss: 0.29507 | Train Accs: 0.91699 | Valid Accs: 0.91174 | Time: 213.83 seconds\n",
      "Epoch: 11 | Train Loss: 0.19846 | Valid Loss: 0.40049 | Train Accs: 0.93628 | Valid Accs: 0.89552 | Time: 213.80 seconds\n",
      "Epoch: 12 | Train Loss: 0.19164 | Valid Loss: 0.29170 | Train Accs: 0.93966 | Valid Accs: 0.92080 | Time: 214.48 seconds\n",
      "Epoch: 13 | Train Loss: 0.18650 | Valid Loss: 0.21993 | Train Accs: 0.93964 | Valid Accs: 0.93941 | Time: 210.26 seconds\n",
      "Epoch: 14 | Train Loss: 0.12218 | Valid Loss: 0.58009 | Train Accs: 0.96219 | Valid Accs: 0.85448 | Time: 210.12 seconds\n",
      "Epoch: 15 | Train Loss: 0.18953 | Valid Loss: 0.28797 | Train Accs: 0.94014 | Valid Accs: 0.92032 | Time: 214.64 seconds\n",
      "Epoch: 16 | Train Loss: 0.09851 | Valid Loss: 0.26432 | Train Accs: 0.96768 | Valid Accs: 0.93130 | Time: 214.62 seconds\n",
      "Epoch: 17 | Train Loss: 0.12091 | Valid Loss: 0.31472 | Train Accs: 0.95885 | Valid Accs: 0.91508 | Time: 213.90 seconds\n",
      "Epoch: 18 | Train Loss: 0.09192 | Valid Loss: 0.27349 | Train Accs: 0.97013 | Valid Accs: 0.94323 | Time: 214.52 seconds\n",
      "\n",
      "Early Stopping at Epoch 19\n",
      "\n",
      "**************************************************\n",
      "\n",
      "Best Validation Loss at Epoch 13\n",
      "\n",
      "**************************************************\n",
      "\n",
      "Best Validation Accs at Epoch 18\n",
      "\n",
      "**************************************************\n",
      "\n",
      "Time Taken [19 Epochs] : 67.71 minutes\n",
      "\n",
      "**************************************************\n",
      "\n"
     ]
    },
    {
     "data": {
      "image/png": "[encoded data removed]",
      "text/plain": [
       "<Figure size 432x288 with 1 Axes>"
      ]
     },
     "metadata": {
      "needs_background": "light"
     },
     "output_type": "display_data"
    },
    {
     "name": "stdout",
     "output_type": "stream",
     "text": [
      "\n",
      "**************************************************\n",
      "\n"
     ]
    },
    {
     "data": {
      "image/png": "[encoded data removed]",
      "text/plain": [
       "<Figure size 432x288 with 1 Axes>"
      ]
     },
     "metadata": {
      "needs_background": "light"
     },
     "output_type": "display_data"
    },
    {
     "name": "stdout",
     "output_type": "stream",
     "text": [
      "\n",
      "**************************************************\n",
      "\n"
     ]
    },
    {
     "data": {
      "image/png": "[encoded data removed]",
      "text/plain": [
       "<Figure size 576x432 with 1 Axes>"
      ]
     },
     "metadata": {
      "needs_background": "light"
     },
     "output_type": "display_data"
    },
    {
     "name": "stdout",
     "output_type": "stream",
     "text": [
      "\n",
      "**************************************************\n",
      "\n"
     ]
    }
   ],
   "source": [
    "for tr_idx, va_idx in StratifiedKFold(n_splits=cfg.n_splits, random_state=cfg.seed, shuffle=True).split(images, labels):\n",
    "    break\n",
    "\n",
    "tr_images, va_images, tr_labels, va_labels = images[tr_idx], images[va_idx], labels[tr_idx], labels[va_idx]\n",
    "\n",
    "tr_data_setup = DS(tr_images, tr_labels.reshape(-1, 1), cfg.transform)\n",
    "va_data_setup = DS(va_images, va_labels.reshape(-1, 1), cfg.transform)\n",
    "\n",
    "dataloaders = {\n",
    "    \"train\" : DL(tr_data_setup, batch_size=cfg.batch_size, shuffle=True, generator=torch.manual_seed(cfg.seed)),\n",
    "    \"valid\" : DL(va_data_setup, batch_size=cfg.batch_size, shuffle=False),\n",
    "}\n",
    "\n",
    "cfg = CFG(epochs=50, batch_size=64, steps_per_epoch=len(dataloaders[\"train\"]))\n",
    "\n",
    "torch.manual_seed(cfg.seed)\n",
    "model = Model().to(cfg.device)\n",
    "optimizer = optim.Adam([p for p in model.parameters() if p.requires_grad], lr=cfg.lr, weight_decay=cfg.wd)\n",
    "scheduler_oclr = optim.lr_scheduler.OneCycleLR(optimizer=optimizer, \n",
    "                                               max_lr=cfg.max_lr, \n",
    "                                               epochs=cfg.epochs, \n",
    "                                               steps_per_epoch=cfg.steps_per_epoch,\n",
    "                                               pct_start=cfg.pct_start, \n",
    "                                               div_factor=cfg.div_factor, \n",
    "                                               final_div_factor=cfg.final_div_factor)\n",
    "# scheduler_rlrop = optim.lr_scheduler.ReduceLROnPlateau(optimizer=optimizer,\n",
    "#                                                       patience=cfg.patience,\n",
    "#                                                       eps=cfg.eps,\n",
    "#                                                       verbose=True)\n",
    "\n",
    "# scheduler_oclr = None\n",
    "scheduler_rlrop = None\n",
    "\n",
    "L, A, LR, BLE, BAE, name = fit(model=model, \n",
    "                               optimizer=optimizer, \n",
    "                               scheduler_oclr=scheduler_oclr,\n",
    "                               scheduler_rlrop=scheduler_rlrop,\n",
    "                               epochs=cfg.epochs, \n",
    "                               early_stopping_patience=cfg.early_stopping, \n",
    "                               dataloaders=dataloaders, \n",
    "                               device=cfg.device,\n",
    "                               save_path=cfg.save_path,\n",
    "                               fold=None,\n",
    "                               verbose=True)\n",
    "\n",
    "breaker()\n",
    "show_loss_graphs(L)\n",
    "breaker()\n",
    "show_accuracy_graphs(A)\n",
    "breaker()\n",
    "\n",
    "if scheduler_oclr:\n",
    "    show_lr_graph(LR)\n",
    "    breaker()"
   ]
  }
 ],
 "metadata": {
  "kernelspec": {
   "display_name": "Python 3",
   "language": "python",
   "name": "python3"
  },
  "language_info": {
   "codemirror_mode": {
    "name": "ipython",
    "version": 3
   },
   "file_extension": ".py",
   "mimetype": "text/x-python",
   "name": "python",
   "nbconvert_exporter": "python",
   "pygments_lexer": "ipython3",
   "version": "3.7.12"
  },
  "papermill": {
   "default_parameters": {},
   "duration": 4121.901494,
   "end_time": "2022-06-16T13:57:22.037496",
   "environment_variables": {},
   "exception": null,
   "input_path": "__notebook__.ipynb",
   "output_path": "__notebook__.ipynb",
   "parameters": {},
   "start_time": "2022-06-16T12:48:40.136002",
   "version": "2.3.4"
  },
  "widgets": {
   "application/vnd.jupyter.widget-state+json": {
    "state": {
     "2610aa840bb7483ab7d5419d99e1d34f": {
      "model_module": "@jupyter-widgets/base",
      "model_module_version": "1.2.0",
      "model_name": "LayoutModel",
      "state": {
       "_model_module": "@jupyter-widgets/base",
       "_model_module_version": "1.2.0",
       "_model_name": "LayoutModel",
       "_view_count": null,
       "_view_module": "@jupyter-widgets/base",
       "_view_module_version": "1.2.0",
       "_view_name": "LayoutView",
       "align_content": null,
       "align_items": null,
       "align_self": null,
       "border": null,
       "bottom": null,
       "display": null,
       "flex": null,
       "flex_flow": null,
       "grid_area": null,
       "grid_auto_columns": null,
       "grid_auto_flow": null,
       "grid_auto_rows": null,
       "grid_column": null,
       "grid_gap": null,
       "grid_row": null,
       "grid_template_areas": null,
       "grid_template_columns": null,
       "grid_template_rows": null,
       "height": null,
       "justify_content": null,
       "justify_items": null,
       "left": null,
       "margin": null,
       "max_height": null,
       "max_width": null,
       "min_height": null,
       "min_width": null,
       "object_fit": null,
       "object_position": null,
       "order": null,
       "overflow": null,
       "overflow_x": null,
       "overflow_y": null,
       "padding": null,
       "right": null,
       "top": null,
       "visibility": null,
       "width": null
      }
     },
     "2cf5b3c09f384f5696b7cae44f125cda": {
      "model_module": "@jupyter-widgets/controls",
      "model_module_version": "1.5.0",
      "model_name": "ProgressStyleModel",
      "state": {
       "_model_module": "@jupyter-widgets/controls",
       "_model_module_version": "1.5.0",
       "_model_name": "ProgressStyleModel",
       "_view_count": null,
       "_view_module": "@jupyter-widgets/base",
       "_view_module_version": "1.2.0",
       "_view_name": "StyleView",
       "bar_color": null,
       "description_width": ""
      }
     },
     "5260656f1c6e48468637baab6f4d9c39": {
      "model_module": "@jupyter-widgets/controls",
      "model_module_version": "1.5.0",
      "model_name": "DescriptionStyleModel",
      "state": {
       "_model_module": "@jupyter-widgets/controls",
       "_model_module_version": "1.5.0",
       "_model_name": "DescriptionStyleModel",
       "_view_count": null,
       "_view_module": "@jupyter-widgets/base",
       "_view_module_version": "1.2.0",
       "_view_name": "StyleView",
       "description_width": ""
      }
     },
     "7ae23130c967431b91eef6cb504c3e2d": {
      "model_module": "@jupyter-widgets/base",
      "model_module_version": "1.2.0",
      "model_name": "LayoutModel",
      "state": {
       "_model_module": "@jupyter-widgets/base",
       "_model_module_version": "1.2.0",
       "_model_name": "LayoutModel",
       "_view_count": null,
       "_view_module": "@jupyter-widgets/base",
       "_view_module_version": "1.2.0",
       "_view_name": "LayoutView",
       "align_content": null,
       "align_items": null,
       "align_self": null,
       "border": null,
       "bottom": null,
       "display": null,
       "flex": null,
       "flex_flow": null,
       "grid_area": null,
       "grid_auto_columns": null,
       "grid_auto_flow": null,
       "grid_auto_rows": null,
       "grid_column": null,
       "grid_gap": null,
       "grid_row": null,
       "grid_template_areas": null,
       "grid_template_columns": null,
       "grid_template_rows": null,
       "height": null,
       "justify_content": null,
       "justify_items": null,
       "left": null,
       "margin": null,
       "max_height": null,
       "max_width": null,
       "min_height": null,
       "min_width": null,
       "object_fit": null,
       "object_position": null,
       "order": null,
       "overflow": null,
       "overflow_x": null,
       "overflow_y": null,
       "padding": null,
       "right": null,
       "top": null,
       "visibility": null,
       "width": null
      }
     },
     "7d43822c6cbb484394d0c042d33f20a5": {
      "model_module": "@jupyter-widgets/base",
      "model_module_version": "1.2.0",
      "model_name": "LayoutModel",
      "state": {
       "_model_module": "@jupyter-widgets/base",
       "_model_module_version": "1.2.0",
       "_model_name": "LayoutModel",
       "_view_count": null,
       "_view_module": "@jupyter-widgets/base",
       "_view_module_version": "1.2.0",
       "_view_name": "LayoutView",
       "align_content": null,
       "align_items": null,
       "align_self": null,
       "border": null,
       "bottom": null,
       "display": null,
       "flex": null,
       "flex_flow": null,
       "grid_area": null,
       "grid_auto_columns": null,
       "grid_auto_flow": null,
       "grid_auto_rows": null,
       "grid_column": null,
       "grid_gap": null,
       "grid_row": null,
       "grid_template_areas": null,
       "grid_template_columns": null,
       "grid_template_rows": null,
       "height": null,
       "justify_content": null,
       "justify_items": null,
       "left": null,
       "margin": null,
       "max_height": null,
       "max_width": null,
       "min_height": null,
       "min_width": null,
       "object_fit": null,
       "object_position": null,
       "order": null,
       "overflow": null,
       "overflow_x": null,
       "overflow_y": null,
       "padding": null,
       "right": null,
       "top": null,
       "visibility": null,
       "width": null
      }
     },
     "ae548d977b924fb2ac8662c3c5c6aa69": {
      "model_module": "@jupyter-widgets/controls",
      "model_module_version": "1.5.0",
      "model_name": "HTMLModel",
      "state": {
       "_dom_classes": [],
       "_model_module": "@jupyter-widgets/controls",
       "_model_module_version": "1.5.0",
       "_model_name": "HTMLModel",
       "_view_count": null,
       "_view_module": "@jupyter-widgets/controls",
       "_view_module_version": "1.5.0",
       "_view_name": "HTMLView",
       "description": "",
       "description_tooltip": null,
       "layout": "IPY_MODEL_7d43822c6cbb484394d0c042d33f20a5",
       "placeholder": "​",
       "style": "IPY_MODEL_de5d462c63e34c36bbe6c1ff1efc1c2e",
       "value": "100%"
      }
     },
     "b3036f85ef824abbb04b6ebad97a6f5e": {
      "model_module": "@jupyter-widgets/controls",
      "model_module_version": "1.5.0",
      "model_name": "HTMLModel",
      "state": {
       "_dom_classes": [],
       "_model_module": "@jupyter-widgets/controls",
       "_model_module_version": "1.5.0",
       "_model_name": "HTMLModel",
       "_view_count": null,
       "_view_module": "@jupyter-widgets/controls",
       "_view_module_version": "1.5.0",
       "_view_name": "HTMLView",
       "description": "",
       "description_tooltip": null,
       "layout": "IPY_MODEL_7ae23130c967431b91eef6cb504c3e2d",
       "placeholder": "​",
       "style": "IPY_MODEL_5260656f1c6e48468637baab6f4d9c39",
       "value": " 54.7M/54.7M [00:00&lt;00:00, 178MB/s]"
      }
     },
     "de5d462c63e34c36bbe6c1ff1efc1c2e": {
      "model_module": "@jupyter-widgets/controls",
      "model_module_version": "1.5.0",
      "model_name": "DescriptionStyleModel",
      "state": {
       "_model_module": "@jupyter-widgets/controls",
       "_model_module_version": "1.5.0",
       "_model_name": "DescriptionStyleModel",
       "_view_count": null,
       "_view_module": "@jupyter-widgets/base",
       "_view_module_version": "1.2.0",
       "_view_name": "StyleView",
       "description_width": ""
      }
     },
     "e9f8791e562f49768ed2135463963290": {
      "model_module": "@jupyter-widgets/controls",
      "model_module_version": "1.5.0",
      "model_name": "HBoxModel",
      "state": {
       "_dom_classes": [],
       "_model_module": "@jupyter-widgets/controls",
       "_model_module_version": "1.5.0",
       "_model_name": "HBoxModel",
       "_view_count": null,
       "_view_module": "@jupyter-widgets/controls",
       "_view_module_version": "1.5.0",
       "_view_name": "HBoxView",
       "box_style": "",
       "children": [
        "IPY_MODEL_ae548d977b924fb2ac8662c3c5c6aa69",
        "IPY_MODEL_f6528743bb714beba1f735eefe95d2df",
        "IPY_MODEL_b3036f85ef824abbb04b6ebad97a6f5e"
       ],
       "layout": "IPY_MODEL_ed1015de901a465491f78c374d9b9989"
      }
     },
     "ed1015de901a465491f78c374d9b9989": {
      "model_module": "@jupyter-widgets/base",
      "model_module_version": "1.2.0",
      "model_name": "LayoutModel",
      "state": {
       "_model_module": "@jupyter-widgets/base",
       "_model_module_version": "1.2.0",
       "_model_name": "LayoutModel",
       "_view_count": null,
       "_view_module": "@jupyter-widgets/base",
       "_view_module_version": "1.2.0",
       "_view_name": "LayoutView",
       "align_content": null,
       "align_items": null,
       "align_self": null,
       "border": null,
       "bottom": null,
       "display": null,
       "flex": null,
       "flex_flow": null,
       "grid_area": null,
       "grid_auto_columns": null,
       "grid_auto_flow": null,
       "grid_auto_rows": null,
       "grid_column": null,
       "grid_gap": null,
       "grid_row": null,
       "grid_template_areas": null,
       "grid_template_columns": null,
       "grid_template_rows": null,
       "height": null,
       "justify_content": null,
       "justify_items": null,
       "left": null,
       "margin": null,
       "max_height": null,
       "max_width": null,
       "min_height": null,
       "min_width": null,
       "object_fit": null,
       "object_position": null,
       "order": null,
       "overflow": null,
       "overflow_x": null,
       "overflow_y": null,
       "padding": null,
       "right": null,
       "top": null,
       "visibility": null,
       "width": null
      }
     },
     "f6528743bb714beba1f735eefe95d2df": {
      "model_module": "@jupyter-widgets/controls",
      "model_module_version": "1.5.0",
      "model_name": "FloatProgressModel",
      "state": {
       "_dom_classes": [],
       "_model_module": "@jupyter-widgets/controls",
       "_model_module_version": "1.5.0",
       "_model_name": "FloatProgressModel",
       "_view_count": null,
       "_view_module": "@jupyter-widgets/controls",
       "_view_module_version": "1.5.0",
       "_view_name": "ProgressView",
       "bar_style": "success",
       "description": "",
       "description_tooltip": null,
       "layout": "IPY_MODEL_2610aa840bb7483ab7d5419d99e1d34f",
       "max": 57365526.0,
       "min": 0.0,
       "orientation": "horizontal",
       "style": "IPY_MODEL_2cf5b3c09f384f5696b7cae44f125cda",
       "value": 57365526.0
      }
     }
    },
    "version_major": 2,
    "version_minor": 0
   }
  }
 },
 "nbformat": 4,
 "nbformat_minor": 5
}
