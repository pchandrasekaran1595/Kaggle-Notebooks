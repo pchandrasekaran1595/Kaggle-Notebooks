{
 "cells": [
  {
   "cell_type": "markdown",
   "id": "58c605ea",
   "metadata": {
    "papermill": {
     "duration": 0.005003,
     "end_time": "2022-07-21T04:47:59.399073",
     "exception": false,
     "start_time": "2022-07-21T04:47:59.394070",
     "status": "completed"
    },
    "tags": []
   },
   "source": [
    "### **Setup**"
   ]
  },
  {
   "cell_type": "code",
   "execution_count": 1,
   "id": "4900bcd3",
   "metadata": {
    "execution": {
     "iopub.execute_input": "2022-07-21T04:47:59.410441Z",
     "iopub.status.busy": "2022-07-21T04:47:59.410005Z",
     "iopub.status.idle": "2022-07-21T04:48:11.711892Z",
     "shell.execute_reply": "2022-07-21T04:48:11.710263Z"
    },
    "papermill": {
     "duration": 12.310677,
     "end_time": "2022-07-21T04:48:11.715910",
     "exception": false,
     "start_time": "2022-07-21T04:47:59.405233",
     "status": "completed"
    },
    "tags": []
   },
   "outputs": [
    {
     "name": "stderr",
     "output_type": "stream",
     "text": [
      "WARNING: Running pip as the 'root' user can result in broken permissions and conflicting behaviour with the system package manager. It is recommended to use a virtual environment instead: https://pip.pypa.io/warnings/venv\n"
     ]
    }
   ],
   "source": [
    "%%bash\n",
    "pip install timm -q"
   ]
  },
  {
   "cell_type": "markdown",
   "id": "b2c9463a",
   "metadata": {
    "papermill": {
     "duration": 0.003414,
     "end_time": "2022-07-21T04:48:11.724708",
     "exception": false,
     "start_time": "2022-07-21T04:48:11.721294",
     "status": "completed"
    },
    "tags": []
   },
   "source": [
    "### **Library Imports**"
   ]
  },
  {
   "cell_type": "code",
   "execution_count": 2,
   "id": "748dc6f1",
   "metadata": {
    "execution": {
     "iopub.execute_input": "2022-07-21T04:48:11.733030Z",
     "iopub.status.busy": "2022-07-21T04:48:11.732678Z",
     "iopub.status.idle": "2022-07-21T04:48:18.825998Z",
     "shell.execute_reply": "2022-07-21T04:48:18.825057Z"
    },
    "papermill": {
     "duration": 7.10042,
     "end_time": "2022-07-21T04:48:18.828638",
     "exception": false,
     "start_time": "2022-07-21T04:48:11.728218",
     "status": "completed"
    },
    "tags": []
   },
   "outputs": [],
   "source": [
    "import os\n",
    "import re\n",
    "import cv2\n",
    "import timm\n",
    "import torch\n",
    "import numpy as np\n",
    "import pandas as pd\n",
    "import matplotlib.pyplot as plt\n",
    "\n",
    "from time import time\n",
    "from torch import nn, optim\n",
    "from torch.utils.data import Dataset\n",
    "from torch.utils.data import DataLoader as DL\n",
    "from torchvision import models, transforms\n",
    "\n",
    "from sklearn.preprocessing import LabelEncoder"
   ]
  },
  {
   "cell_type": "markdown",
   "id": "97a0e08c",
   "metadata": {
    "papermill": {
     "duration": 0.003565,
     "end_time": "2022-07-21T04:48:18.835921",
     "exception": false,
     "start_time": "2022-07-21T04:48:18.832356",
     "status": "completed"
    },
    "tags": []
   },
   "source": [
    "### **Utilities and Helpers**"
   ]
  },
  {
   "cell_type": "code",
   "execution_count": 3,
   "id": "d16a96b7",
   "metadata": {
    "execution": {
     "iopub.execute_input": "2022-07-21T04:48:18.844752Z",
     "iopub.status.busy": "2022-07-21T04:48:18.844004Z",
     "iopub.status.idle": "2022-07-21T04:48:18.918321Z",
     "shell.execute_reply": "2022-07-21T04:48:18.917388Z"
    },
    "papermill": {
     "duration": 0.081851,
     "end_time": "2022-07-21T04:48:18.921280",
     "exception": false,
     "start_time": "2022-07-21T04:48:18.839429",
     "status": "completed"
    },
    "tags": []
   },
   "outputs": [],
   "source": [
    "SEED: int = 42\n",
    "SIZE: int = 512\n",
    "FOLD: int = 3\n",
    "\n",
    "TRANSFORM = transforms.Compose([transforms.ToTensor(),\n",
    "                                transforms.Normalize([0.49650, 0.58774, 0.23004],\n",
    "                                                     [0.22750, 0.22771, 0.18430]),\n",
    "                                ])\n",
    "\n",
    "MODEL_PATH_1: str = \"../input/pdc-d169-a512f-f3/saves/ble_state.pt\"\n",
    "MODEL_PATH_2: str = \"../input/pdc-en2-a512f-f3/saves/ble_state.pt\"\n",
    "\n",
    "\n",
    "DEVICE = torch.device(\"cuda\" if torch.cuda.is_available() else \"cpu\")\n",
    "\n",
    "le = LabelEncoder()\n",
    "\n",
    "\n",
    "def breaker(num: int=50, char: str=\"*\") -> None:\n",
    "    print(\"\\n\" + num*char + \"\\n\")\n",
    "\n",
    "\n",
    "def get_image(path: str, size: int=224) -> np.ndarray:\n",
    "    return cv2.resize(src=cv2.cvtColor(src=cv2.imread(path, cv2.IMREAD_COLOR), code=cv2.COLOR_BGR2RGB), dsize=(size, size), interpolation=cv2.INTER_AREA)"
   ]
  },
  {
   "cell_type": "markdown",
   "id": "009c0c6f",
   "metadata": {
    "papermill": {
     "duration": 0.009757,
     "end_time": "2022-07-21T04:48:18.941638",
     "exception": false,
     "start_time": "2022-07-21T04:48:18.931881",
     "status": "completed"
    },
    "tags": []
   },
   "source": [
    "### **Configuration**"
   ]
  },
  {
   "cell_type": "markdown",
   "id": "6fc46321",
   "metadata": {
    "papermill": {
     "duration": 0.005108,
     "end_time": "2022-07-21T04:48:18.953062",
     "exception": false,
     "start_time": "2022-07-21T04:48:18.947954",
     "status": "completed"
    },
    "tags": []
   },
   "source": [
    "### **Dataset Template**"
   ]
  },
  {
   "cell_type": "code",
   "execution_count": 4,
   "id": "4066a183",
   "metadata": {
    "execution": {
     "iopub.execute_input": "2022-07-21T04:48:18.967684Z",
     "iopub.status.busy": "2022-07-21T04:48:18.966483Z",
     "iopub.status.idle": "2022-07-21T04:48:18.982823Z",
     "shell.execute_reply": "2022-07-21T04:48:18.981850Z"
    },
    "papermill": {
     "duration": 0.026055,
     "end_time": "2022-07-21T04:48:18.985067",
     "exception": false,
     "start_time": "2022-07-21T04:48:18.959012",
     "status": "completed"
    },
    "tags": []
   },
   "outputs": [],
   "source": [
    "class DS(Dataset):\n",
    "    def __init__(self, base_path: str, filenames: np.ndarray, size: int=224, transform=None):\n",
    "        self.base_path = base_path\n",
    "        self.filenames = filenames\n",
    "        self.size = size\n",
    "        self.transform = transform\n",
    "    \n",
    "    def __len__(self):\n",
    "        return self.filenames.shape[0]\n",
    "    \n",
    "    def __getitem__(self, idx):\n",
    "        return self.transform(get_image(os.path.join(self.base_path, self.filenames[idx]), size=self.size))"
   ]
  },
  {
   "cell_type": "markdown",
   "id": "cbd512d9",
   "metadata": {
    "papermill": {
     "duration": 0.005015,
     "end_time": "2022-07-21T04:48:18.995924",
     "exception": false,
     "start_time": "2022-07-21T04:48:18.990909",
     "status": "completed"
    },
    "tags": []
   },
   "source": [
    "### **Model**"
   ]
  },
  {
   "cell_type": "code",
   "execution_count": 5,
   "id": "a74badd7",
   "metadata": {
    "execution": {
     "iopub.execute_input": "2022-07-21T04:48:19.007924Z",
     "iopub.status.busy": "2022-07-21T04:48:19.007536Z",
     "iopub.status.idle": "2022-07-21T04:48:19.019271Z",
     "shell.execute_reply": "2022-07-21T04:48:19.018614Z"
    },
    "papermill": {
     "duration": 0.019993,
     "end_time": "2022-07-21T04:48:19.021298",
     "exception": false,
     "start_time": "2022-07-21T04:48:19.001305",
     "status": "completed"
    },
    "tags": []
   },
   "outputs": [],
   "source": [
    "class Model(nn.Module):\n",
    "    def __init__(self, model_name=\"densenet\"):\n",
    "        super(Model, self).__init__()\n",
    "\n",
    "        if model_name == \"densenet169\":\n",
    "            self.model = models.densenet169(pretrained=False, progress=True)\n",
    "            # self.freeze()\n",
    "            self.model.classifier = nn.Linear(in_features=self.model.classifier.in_features, out_features=10)\n",
    "            \n",
    "        elif model_name == \"efficientnet_b2\":\n",
    "            self.model = timm.create_model(model_name=\"efficientnet_b2\", pretrained=False)\n",
    "            # self.freeze()\n",
    "            self.model.classifier = nn.Linear(in_features=self.model.classifier.in_features, out_features=10)\n",
    "        \n",
    "        else:\n",
    "            raise NotImplementedError(\"Model not Implemented\")\n",
    "    \n",
    "    def freeze(self):\n",
    "        for params in self.parameters(): params.requires_grad = False\n",
    "\n",
    "    def forward(self, x):\n",
    "        return nn.LogSoftmax(dim=1)(self.model(x))"
   ]
  },
  {
   "cell_type": "markdown",
   "id": "6d7b6f22",
   "metadata": {
    "papermill": {
     "duration": 0.004257,
     "end_time": "2022-07-21T04:48:19.031024",
     "exception": false,
     "start_time": "2022-07-21T04:48:19.026767",
     "status": "completed"
    },
    "tags": []
   },
   "source": [
    "### **Predict Helpers**"
   ]
  },
  {
   "cell_type": "code",
   "execution_count": 6,
   "id": "3f7efbac",
   "metadata": {
    "execution": {
     "iopub.execute_input": "2022-07-21T04:48:19.041963Z",
     "iopub.status.busy": "2022-07-21T04:48:19.041624Z",
     "iopub.status.idle": "2022-07-21T04:48:19.055250Z",
     "shell.execute_reply": "2022-07-21T04:48:19.054633Z"
    },
    "papermill": {
     "duration": 0.021417,
     "end_time": "2022-07-21T04:48:19.057314",
     "exception": false,
     "start_time": "2022-07-21T04:48:19.035897",
     "status": "completed"
    },
    "tags": []
   },
   "outputs": [],
   "source": [
    "def predict_batch(models: list=None, model_2=None, dataloader=None, paths: list=None, weights: list=None, device=None) -> np.ndarray:\n",
    "    assert len(models) == len(paths)\n",
    "    \n",
    "    for i in range(len(models)):\n",
    "        models[i].load_state_dict(torch.load(paths[i], map_location=device)[\"model_state_dict\"])\n",
    "        models[i].to(device)    \n",
    "        models[i].eval()\n",
    "    \n",
    "    y_pred = torch.zeros(1, 1).to(device)\n",
    "    \n",
    "    for X in dataloader:\n",
    "        X = X.to(device)\n",
    "        with torch.no_grad():\n",
    "            if weights is None:\n",
    "                output = torch.argmax(torch.exp(models[0](X)) + torch.exp(models[1](X)), dim=1)\n",
    "            else:\n",
    "                output = weights[0] * torch.exp(models[0](X)) + weights[1] * torch.exp(models[1](X))\n",
    "                output = torch.argmax(output, dim=1)\n",
    "            \n",
    "        y_pred = torch.cat((y_pred, output.view(-1, 1)), dim=0)\n",
    "    \n",
    "    return y_pred[1:].detach().cpu().numpy()"
   ]
  },
  {
   "cell_type": "markdown",
   "id": "d97b067a",
   "metadata": {
    "papermill": {
     "duration": 0.006262,
     "end_time": "2022-07-21T04:48:19.068644",
     "exception": false,
     "start_time": "2022-07-21T04:48:19.062382",
     "status": "completed"
    },
    "tags": []
   },
   "source": [
    "### **Submission**"
   ]
  },
  {
   "cell_type": "code",
   "execution_count": 7,
   "id": "73ef2b47",
   "metadata": {
    "execution": {
     "iopub.execute_input": "2022-07-21T04:48:19.084263Z",
     "iopub.status.busy": "2022-07-21T04:48:19.083647Z",
     "iopub.status.idle": "2022-07-21T04:50:12.929274Z",
     "shell.execute_reply": "2022-07-21T04:50:12.928461Z"
    },
    "papermill": {
     "duration": 113.857655,
     "end_time": "2022-07-21T04:50:12.931457",
     "exception": false,
     "start_time": "2022-07-21T04:48:19.073802",
     "status": "completed"
    },
    "tags": []
   },
   "outputs": [],
   "source": [
    "df = pd.read_csv(\"../input/paddy-disease-classification/train.csv\")\n",
    "ss_df = pd.read_csv(\"../input/paddy-disease-classification/sample_submission.csv\")\n",
    "\n",
    "labels = df.label.copy().values\n",
    "labels = le.fit_transform(labels)\n",
    "\n",
    "ts_data_setup = DS(base_path=\"../input/paddy-disease-classification/test_images\", \n",
    "                   filenames=ss_df.image_id.copy().values,\n",
    "                   size=SIZE,\n",
    "                   transform=TRANSFORM)\n",
    "ts_data = DL(ts_data_setup, batch_size=64, shuffle=False)\n",
    "\n",
    "model_1 = Model(\"densenet169\").to(DEVICE)\n",
    "model_2 = Model(\"efficientnet_b2\").to(DEVICE)\n",
    "\n",
    "y_pred = predict_batch(models=[model_1, model_2], \n",
    "                       dataloader=ts_data, \n",
    "                       paths=[MODEL_PATH_1, MODEL_PATH_2],\n",
    "                       device=DEVICE)\n",
    "\n",
    "ss_df[\"label\"] = le.inverse_transform(y_pred.astype(\"uint8\").reshape(-1))\n",
    "ss_df.to_csv(\"submission.csv\", index=False)"
   ]
  }
 ],
 "metadata": {
  "kernelspec": {
   "display_name": "Python 3",
   "language": "python",
   "name": "python3"
  },
  "language_info": {
   "codemirror_mode": {
    "name": "ipython",
    "version": 3
   },
   "file_extension": ".py",
   "mimetype": "text/x-python",
   "name": "python",
   "nbconvert_exporter": "python",
   "pygments_lexer": "ipython3",
   "version": "3.7.12"
  },
  "papermill": {
   "default_parameters": {},
   "duration": 144.310719,
   "end_time": "2022-07-21T04:50:15.885250",
   "environment_variables": {},
   "exception": null,
   "input_path": "__notebook__.ipynb",
   "output_path": "__notebook__.ipynb",
   "parameters": {},
   "start_time": "2022-07-21T04:47:51.574531",
   "version": "2.3.4"
  }
 },
 "nbformat": 4,
 "nbformat_minor": 5
}
