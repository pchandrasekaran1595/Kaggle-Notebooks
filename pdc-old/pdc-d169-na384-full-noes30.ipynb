{
 "cells": [
  {
   "cell_type": "markdown",
   "id": "cdb0cd67",
   "metadata": {
    "_cell_guid": "b1076dfc-b9ad-4769-8c92-a6c4dae69d19",
    "_uuid": "8f2839f25d086af736a60e9eeb907d3b93b6e0e5",
    "papermill": {
     "duration": 0.004661,
     "end_time": "2022-06-17T10:38:27.872188",
     "exception": false,
     "start_time": "2022-06-17T10:38:27.867527",
     "status": "completed"
    },
    "tags": []
   },
   "source": [
    "### **Library Imports**"
   ]
  },
  {
   "cell_type": "code",
   "execution_count": 1,
   "id": "1226599c",
   "metadata": {
    "execution": {
     "iopub.execute_input": "2022-06-17T10:38:27.881999Z",
     "iopub.status.busy": "2022-06-17T10:38:27.881267Z",
     "iopub.status.idle": "2022-06-17T10:38:30.798101Z",
     "shell.execute_reply": "2022-06-17T10:38:30.797214Z"
    },
    "papermill": {
     "duration": 2.927682,
     "end_time": "2022-06-17T10:38:30.803740",
     "exception": false,
     "start_time": "2022-06-17T10:38:27.876058",
     "status": "completed"
    },
    "tags": []
   },
   "outputs": [],
   "source": [
    "import os\n",
    "import re\n",
    "import torch\n",
    "import numpy as np\n",
    "import pandas as pd\n",
    "import matplotlib.pyplot as plt\n",
    "\n",
    "from time import time\n",
    "from torch import nn, optim\n",
    "from torch.utils.data import Dataset\n",
    "from torch.utils.data import DataLoader as DL\n",
    "from torchvision import models, transforms\n",
    "\n",
    "from sklearn.model_selection import StratifiedKFold\n",
    "from sklearn.preprocessing import LabelEncoder\n",
    "from sklearn.metrics import accuracy_score"
   ]
  },
  {
   "cell_type": "markdown",
   "id": "63bc5928",
   "metadata": {
    "papermill": {
     "duration": 0.003945,
     "end_time": "2022-06-17T10:38:30.814224",
     "exception": false,
     "start_time": "2022-06-17T10:38:30.810279",
     "status": "completed"
    },
    "tags": []
   },
   "source": [
    "### **Utilities and Helpers**"
   ]
  },
  {
   "cell_type": "code",
   "execution_count": 2,
   "id": "951c49a6",
   "metadata": {
    "execution": {
     "iopub.execute_input": "2022-06-17T10:38:30.824080Z",
     "iopub.status.busy": "2022-06-17T10:38:30.823631Z",
     "iopub.status.idle": "2022-06-17T10:38:30.838045Z",
     "shell.execute_reply": "2022-06-17T10:38:30.837182Z"
    },
    "papermill": {
     "duration": 0.021473,
     "end_time": "2022-06-17T10:38:30.839914",
     "exception": false,
     "start_time": "2022-06-17T10:38:30.818441",
     "status": "completed"
    },
    "tags": []
   },
   "outputs": [],
   "source": [
    "SEED = 42\n",
    "SIZE = 384\n",
    "le = LabelEncoder()\n",
    "\n",
    "\n",
    "def breaker(num: int=50, char: str=\"*\") -> None:\n",
    "    print(\"\\n\" + num*char + \"\\n\")\n",
    "\n",
    "    \n",
    "def show_loss_graphs(A: list) -> None:\n",
    "    TL, VL = [], []\n",
    "    for i in range(len(L)):\n",
    "        TL.append(L[i][\"train\"])\n",
    "        VL.append(L[i][\"valid\"])\n",
    "    x_Axis = np.arange(1, len(TL) + 1)\n",
    "    plt.figure()\n",
    "    plt.plot(x_Axis, TL, \"r\", label=\"Train\")\n",
    "    plt.plot(x_Axis, VL, \"b\", label=\"Valid\")\n",
    "    plt.legend()\n",
    "    plt.grid()\n",
    "    plt.title(\"Loss Graph\")\n",
    "    plt.show()\n",
    "\n",
    "    \n",
    "def show_accuracy_graphs(A: list) -> None:\n",
    "    TA, VA = [], []\n",
    "    for i in range(len(L)):\n",
    "        TA.append(A[i][\"train\"])\n",
    "        VA.append(A[i][\"valid\"])\n",
    "    x_Axis = np.arange(1, len(TA) + 1)\n",
    "    plt.figure()\n",
    "    plt.plot(x_Axis, TA, \"r\", label=\"Train\")\n",
    "    plt.plot(x_Axis, VA, \"b\", label=\"Valid\")\n",
    "    plt.legend()\n",
    "    plt.grid()\n",
    "    plt.title(\"Accuracy Graph\")\n",
    "    plt.show()\n",
    "\n",
    "\n",
    "def show_lr_graph(LR: list) -> None:\n",
    "    x_Axis = [i+1 for i in range(len(LR))]\n",
    "    plt.figure(figsize=(8, 6))\n",
    "    plt.plot(x_Axis, LR, \"rx\")\n",
    "    plt.grid()\n",
    "    plt.show()"
   ]
  },
  {
   "cell_type": "markdown",
   "id": "11b944c7",
   "metadata": {
    "papermill": {
     "duration": 0.003892,
     "end_time": "2022-06-17T10:38:30.848060",
     "exception": false,
     "start_time": "2022-06-17T10:38:30.844168",
     "status": "completed"
    },
    "tags": []
   },
   "source": [
    "### **Configuration**"
   ]
  },
  {
   "cell_type": "code",
   "execution_count": 3,
   "id": "f6d62fb5",
   "metadata": {
    "execution": {
     "iopub.execute_input": "2022-06-17T10:38:30.857491Z",
     "iopub.status.busy": "2022-06-17T10:38:30.856709Z",
     "iopub.status.idle": "2022-06-17T10:38:30.924795Z",
     "shell.execute_reply": "2022-06-17T10:38:30.924004Z"
    },
    "papermill": {
     "duration": 0.074841,
     "end_time": "2022-06-17T10:38:30.926871",
     "exception": false,
     "start_time": "2022-06-17T10:38:30.852030",
     "status": "completed"
    },
    "tags": []
   },
   "outputs": [],
   "source": [
    "class CFG(object):\n",
    "    def __init__(self, \n",
    "                 seed: int = 42,\n",
    "                 n_splits: int = 5,\n",
    "                 batch_size: int = 16,\n",
    "                 epochs: int = 25,\n",
    "                 early_stopping: int = 5,\n",
    "                 lr: float = 1e-4,\n",
    "                 wd: float = 0.0,\n",
    "                 max_lr: float = 1e-3,\n",
    "                 pct_start: float = 0.2,\n",
    "                 steps_per_epoch: int = 100,\n",
    "                 div_factor: int = 1e3, \n",
    "                 final_div_factor: float = 1e3,\n",
    "                 ):\n",
    "        \n",
    "        self.seed = seed\n",
    "        self.n_splits = n_splits\n",
    "        self.batch_size = batch_size\n",
    "        self.epochs = epochs\n",
    "        self.early_stopping = early_stopping\n",
    "        self.lr = lr\n",
    "        self.wd = wd\n",
    "        self.max_lr = max_lr\n",
    "        self.pct_start = pct_start\n",
    "        self.steps_per_epoch = steps_per_epoch\n",
    "        self.div_factor = div_factor\n",
    "        self.final_div_factor = final_div_factor\n",
    "        self.device = torch.device(\"cuda\" if torch.cuda.is_available() else \"cpu\")\n",
    "        self.transform = transforms.Compose([transforms.ToTensor(),\n",
    "                                transforms.Normalize([0.49699, 0.58823, 0.23049],\n",
    "                                                     [0.22591, 0.22614, 0.18264]),\n",
    "                                ])\n",
    "        self.save_path = \"saves\"\n",
    "        if not os.path.exists(self.save_path): os.makedirs(self.save_path)\n",
    "    \n",
    "cfg = CFG(seed=SEED)"
   ]
  },
  {
   "cell_type": "markdown",
   "id": "44b5b332",
   "metadata": {
    "papermill": {
     "duration": 0.003887,
     "end_time": "2022-06-17T10:38:30.934955",
     "exception": false,
     "start_time": "2022-06-17T10:38:30.931068",
     "status": "completed"
    },
    "tags": []
   },
   "source": [
    "### **Dataset Template**"
   ]
  },
  {
   "cell_type": "code",
   "execution_count": 4,
   "id": "4328b165",
   "metadata": {
    "execution": {
     "iopub.execute_input": "2022-06-17T10:38:30.944214Z",
     "iopub.status.busy": "2022-06-17T10:38:30.943888Z",
     "iopub.status.idle": "2022-06-17T10:38:30.950603Z",
     "shell.execute_reply": "2022-06-17T10:38:30.949691Z"
    },
    "papermill": {
     "duration": 0.013703,
     "end_time": "2022-06-17T10:38:30.952462",
     "exception": false,
     "start_time": "2022-06-17T10:38:30.938759",
     "status": "completed"
    },
    "tags": []
   },
   "outputs": [],
   "source": [
    "class DS(Dataset):\n",
    "    def __init__(self, images: np.ndarray, labels: np.ndarray = None, transform=None):\n",
    "        self.images = images\n",
    "        self.labels = labels\n",
    "        self.transform = transform\n",
    "    \n",
    "    def __len__(self):\n",
    "        return self.images.shape[0]\n",
    "    \n",
    "    def __getitem__(self, idx):\n",
    "        if self.labels is not None:\n",
    "            return self.transform(self.images[idx]), torch.LongTensor(self.labels[idx])\n",
    "        else:\n",
    "            return self.transform(self.images[idx])"
   ]
  },
  {
   "cell_type": "markdown",
   "id": "d28b2816",
   "metadata": {
    "papermill": {
     "duration": 0.00376,
     "end_time": "2022-06-17T10:38:30.960195",
     "exception": false,
     "start_time": "2022-06-17T10:38:30.956435",
     "status": "completed"
    },
    "tags": []
   },
   "source": [
    "### **Model**"
   ]
  },
  {
   "cell_type": "code",
   "execution_count": 5,
   "id": "9ad21143",
   "metadata": {
    "execution": {
     "iopub.execute_input": "2022-06-17T10:38:30.968697Z",
     "iopub.status.busy": "2022-06-17T10:38:30.968438Z",
     "iopub.status.idle": "2022-06-17T10:38:30.974750Z",
     "shell.execute_reply": "2022-06-17T10:38:30.973937Z"
    },
    "papermill": {
     "duration": 0.012644,
     "end_time": "2022-06-17T10:38:30.976718",
     "exception": false,
     "start_time": "2022-06-17T10:38:30.964074",
     "status": "completed"
    },
    "tags": []
   },
   "outputs": [],
   "source": [
    "class Model(nn.Module):\n",
    "    def __init__(self):\n",
    "        super(Model, self).__init__()\n",
    "\n",
    "        self.model = models.densenet169(pretrained=True, progress=True)\n",
    "        # self.freeze()\n",
    "        self.model.classifier = nn.Linear(in_features=self.model.classifier.in_features, out_features=10)\n",
    "    \n",
    "    def freeze(self):\n",
    "        for params in self.parameters(): params.requires_grad = False\n",
    "\n",
    "    def forward(self, x):\n",
    "        return nn.LogSoftmax(dim=1)(self.model(x))"
   ]
  },
  {
   "cell_type": "markdown",
   "id": "50085390",
   "metadata": {
    "papermill": {
     "duration": 0.003518,
     "end_time": "2022-06-17T10:38:30.984266",
     "exception": false,
     "start_time": "2022-06-17T10:38:30.980748",
     "status": "completed"
    },
    "tags": []
   },
   "source": [
    "### **Fit and Predict Helpers**"
   ]
  },
  {
   "cell_type": "code",
   "execution_count": 6,
   "id": "d3f3a199",
   "metadata": {
    "execution": {
     "iopub.execute_input": "2022-06-17T10:38:30.992698Z",
     "iopub.status.busy": "2022-06-17T10:38:30.992446Z",
     "iopub.status.idle": "2022-06-17T10:38:31.027614Z",
     "shell.execute_reply": "2022-06-17T10:38:31.026438Z"
    },
    "papermill": {
     "duration": 0.04293,
     "end_time": "2022-06-17T10:38:31.030879",
     "exception": false,
     "start_time": "2022-06-17T10:38:30.987949",
     "status": "completed"
    },
    "tags": []
   },
   "outputs": [],
   "source": [
    "def fit(model=None, \n",
    "        optimizer=None, \n",
    "        scheduler_rlrop=None,\n",
    "        scheduler_oclr=None,\n",
    "        epochs=None, \n",
    "        early_stopping_patience=None, \n",
    "        dataloaders=None, \n",
    "        fold=None, \n",
    "        save_path=None,\n",
    "        device=None,\n",
    "        verbose=False) -> tuple:\n",
    "    \n",
    "    def get_accuracy(y_pred, y_true):\n",
    "        y_pred = torch.argmax(y_pred, dim=1)\n",
    "        return torch.count_nonzero(y_pred == y_true).item() / len(y_pred)\n",
    "    \n",
    "    if verbose:\n",
    "        breaker()\n",
    "        if fold: print(f\"Training Fold {fold}...\")\n",
    "        else: print(\"Training ...\")\n",
    "        breaker()\n",
    "        \n",
    "    bestLoss, bestAccs = {\"train\" : np.inf, \"valid\" : np.inf}, {\"train\" : 0.0, \"valid\" : 0.0}\n",
    "    Losses, Accuracies, LRs = [], [], []\n",
    "    if fold: \n",
    "        ble_name = f\"ble_state_fold_{fold}.pt\"\n",
    "        bae_name = f\"bae_state_fold_{fold}.pt\"\n",
    "    else: \n",
    "        ble_name = \"ble_state.pt\"\n",
    "        bae_name = \"bae_state.pt\"\n",
    "\n",
    "    start_time = time()\n",
    "    for e in range(epochs):\n",
    "        e_st = time()\n",
    "        epochLoss, epochAccs = {\"train\" : 0.0, \"valid\" : 0.0}, {\"train\" : 0.0, \"valid\" : 0.0}\n",
    "\n",
    "        for phase in [\"train\", \"valid\"]:\n",
    "            if phase == \"train\":\n",
    "                model.train()\n",
    "            else:\n",
    "                model.eval()\n",
    "            \n",
    "            lossPerPass, accsPerPass = [], []\n",
    "\n",
    "            for X, y in dataloaders[phase]:\n",
    "                X, y = X.to(device), y.to(device).view(-1)\n",
    "\n",
    "                optimizer.zero_grad()\n",
    "                with torch.set_grad_enabled(phase == \"train\"):\n",
    "                    output = model(X)\n",
    "                    loss = torch.nn.NLLLoss()(output, y)\n",
    "                    if phase == \"train\":\n",
    "                        loss.backward()\n",
    "                        optimizer.step()\n",
    "                        if scheduler_oclr: scheduler_oclr.step()\n",
    "                lossPerPass.append(loss.item())\n",
    "                accsPerPass.append(get_accuracy(output, y))\n",
    "            epochLoss[phase] = np.mean(np.array(lossPerPass))\n",
    "            epochAccs[phase] = np.mean(np.array(accsPerPass))\n",
    "        if scheduler_oclr: LRs.append(scheduler_oclr.get_last_lr())\n",
    "        Losses.append(epochLoss)\n",
    "        Accuracies.append(epochAccs)\n",
    "        \n",
    "        if scheduler_oclr:\n",
    "            save_dict = {\"model_state_dict\"     : model.state_dict(),\n",
    "                         \"optim_state_dict\"     : optimizer.state_dict(),\n",
    "                         \"scheduler_state_dict\" : scheduler_oclr.state_dict()}\n",
    "        \n",
    "        elif scheduler_rlrop:\n",
    "            save_dict = {\"model_state_dict\"     : model.state_dict(),\n",
    "                         \"optim_state_dict\"     : optimizer.state_dict(),\n",
    "                         \"scheduler_state_dict\" : scheduler_rlrop.state_dict()}\n",
    "        \n",
    "        else:\n",
    "            save_dict = {\"model_state_dict\"     : model.state_dict(),\n",
    "                         \"optim_state_dict\"     : optimizer.state_dict()}\n",
    "        \n",
    "        if early_stopping_patience:\n",
    "            if epochLoss[\"valid\"] < bestLoss[\"valid\"]:\n",
    "                bestLoss = epochLoss\n",
    "                BLE = e + 1\n",
    "                torch.save(save_dict, os.path.join(save_path, name))\n",
    "                early_stopping_step = 0\n",
    "            else:\n",
    "                early_stopping_step += 1\n",
    "                if early_stopping_step > early_stopping_patience:\n",
    "                    print(\"\\nEarly Stopping at Epoch {}\".format(e + 1))\n",
    "                    break\n",
    "        \n",
    "        if epochLoss[\"valid\"] < bestLoss[\"valid\"]:\n",
    "            bestLoss = epochLoss\n",
    "            BLE = e + 1\n",
    "            torch.save(save_dict,os.path.join(save_path, ble_name))\n",
    "        \n",
    "        if epochAccs[\"valid\"] > bestAccs[\"valid\"]:\n",
    "            bestAccs = epochAccs\n",
    "            BAE = e + 1\n",
    "            torch.save(save_dict,os.path.join(save_path, bae_name))\n",
    "\n",
    "        \n",
    "        if scheduler_rlrop: scheduler_rlrop.step(epochLoss[\"valid\"])\n",
    "        \n",
    "        if verbose:\n",
    "            print(\"Epoch: {} | Train Loss: {:.5f} | Valid Loss: {:.5f} |\\\n",
    " Train Accs: {:.5f} | Valid Accs: {:.5f} | Time: {:.2f} seconds\".format(e+1, \n",
    "                                                                        epochLoss[\"train\"], epochLoss[\"valid\"], \n",
    "                                                                        epochAccs[\"train\"], epochAccs[\"valid\"], \n",
    "                                                                        time()-e_st))\n",
    "\n",
    "    if verbose:                                           \n",
    "        breaker()\n",
    "        print(f\"Best Validation Loss at Epoch {BLE}\")\n",
    "        breaker()\n",
    "        print(f\"Best Validation Accs at Epoch {BAE}\")\n",
    "        breaker()\n",
    "        print(\"Time Taken [{} Epochs] : {:.2f} minutes\".format(len(Losses), (time()-start_time)/60))\n",
    "    \n",
    "    return Losses, Accuracies, LRs, BLE, BAE, ble_name, bae_name\n",
    "\n",
    "\n",
    "def predict_batch(model=None, dataloader=None, path=None, device=None) -> np.ndarray:\n",
    "    model.load_state_dict(torch.load(path, map_location=device)[\"model_state_dict\"])\n",
    "    model.to(device)    \n",
    "    model.eval()\n",
    "    \n",
    "    y_pred = torch.zeros(1, 1).to(device)\n",
    "    \n",
    "    for X in dataloader:\n",
    "        X = X.to(device)\n",
    "        with torch.no_grad():\n",
    "            output = torch.argmax(torch.exp(model(X)), dim=1)\n",
    "        y_pred = torch.cat((y_pred, output.view(-1, 1)), dim=0)\n",
    "    \n",
    "    return y_pred[1:].detach().cpu().numpy()"
   ]
  },
  {
   "cell_type": "markdown",
   "id": "3bc50666",
   "metadata": {
    "papermill": {
     "duration": 0.003716,
     "end_time": "2022-06-17T10:38:31.041221",
     "exception": false,
     "start_time": "2022-06-17T10:38:31.037505",
     "status": "completed"
    },
    "tags": []
   },
   "source": [
    "### **Train**"
   ]
  },
  {
   "cell_type": "code",
   "execution_count": 7,
   "id": "c44e0d52",
   "metadata": {
    "execution": {
     "iopub.execute_input": "2022-06-17T10:38:31.055366Z",
     "iopub.status.busy": "2022-06-17T10:38:31.054675Z",
     "iopub.status.idle": "2022-06-17T10:39:09.335606Z",
     "shell.execute_reply": "2022-06-17T10:39:09.334834Z"
    },
    "papermill": {
     "duration": 38.289776,
     "end_time": "2022-06-17T10:39:09.337832",
     "exception": false,
     "start_time": "2022-06-17T10:38:31.048056",
     "status": "completed"
    },
    "tags": []
   },
   "outputs": [],
   "source": [
    "images = np.load(f\"../input/pdc-images-{SIZE}/images-{SIZE}.npy\")\n",
    "df = pd.read_csv(\"../input/paddy-disease-classification/train.csv\")\n",
    "labels = df.label.copy().values\n",
    "labels = le.fit_transform(labels)"
   ]
  },
  {
   "cell_type": "code",
   "execution_count": 8,
   "id": "ac0692c1",
   "metadata": {
    "execution": {
     "iopub.execute_input": "2022-06-17T10:39:09.346858Z",
     "iopub.status.busy": "2022-06-17T10:39:09.346577Z",
     "iopub.status.idle": "2022-06-17T12:27:04.151239Z",
     "shell.execute_reply": "2022-06-17T12:27:04.150425Z"
    },
    "papermill": {
     "duration": 6474.811651,
     "end_time": "2022-06-17T12:27:04.153437",
     "exception": false,
     "start_time": "2022-06-17T10:39:09.341786",
     "status": "completed"
    },
    "tags": []
   },
   "outputs": [
    {
     "name": "stderr",
     "output_type": "stream",
     "text": [
      "Downloading: \"https://download.pytorch.org/models/densenet169-b2777c0a.pth\" to /root/.cache/torch/hub/checkpoints/densenet169-b2777c0a.pth\n"
     ]
    },
    {
     "data": {
      "application/vnd.jupyter.widget-view+json": {
       "model_id": "d3e56f417f434901936b12b61c144b7a",
       "version_major": 2,
       "version_minor": 0
      },
      "text/plain": [
       "  0%|          | 0.00/54.7M [00:00<?, ?B/s]"
      ]
     },
     "metadata": {},
     "output_type": "display_data"
    },
    {
     "name": "stdout",
     "output_type": "stream",
     "text": [
      "\n",
      "**************************************************\n",
      "\n",
      "Training ...\n",
      "\n",
      "**************************************************\n",
      "\n",
      "Epoch: 1 | Train Loss: 1.71488 | Valid Loss: 0.64972 | Train Accs: 0.41204 | Valid Accs: 0.80725 | Time: 223.18 seconds\n",
      "Epoch: 2 | Train Loss: 0.52702 | Valid Loss: 0.45326 | Train Accs: 0.84235 | Valid Accs: 0.86450 | Time: 216.82 seconds\n",
      "Epoch: 3 | Train Loss: 0.43653 | Valid Loss: 0.62811 | Train Accs: 0.86432 | Valid Accs: 0.81536 | Time: 215.67 seconds\n",
      "Epoch: 4 | Train Loss: 0.45442 | Valid Loss: 0.66583 | Train Accs: 0.85410 | Valid Accs: 0.80821 | Time: 215.37 seconds\n",
      "Epoch: 5 | Train Loss: 0.40368 | Valid Loss: 0.48286 | Train Accs: 0.87284 | Valid Accs: 0.85544 | Time: 216.11 seconds\n",
      "Epoch: 6 | Train Loss: 0.35267 | Valid Loss: 0.31973 | Train Accs: 0.88719 | Valid Accs: 0.90124 | Time: 216.14 seconds\n",
      "Epoch: 7 | Train Loss: 0.30553 | Valid Loss: 0.55773 | Train Accs: 0.90365 | Valid Accs: 0.85973 | Time: 215.75 seconds\n",
      "Epoch: 8 | Train Loss: 0.22178 | Valid Loss: 0.37722 | Train Accs: 0.92714 | Valid Accs: 0.90172 | Time: 215.51 seconds\n",
      "Epoch: 9 | Train Loss: 0.21741 | Valid Loss: 0.55467 | Train Accs: 0.92934 | Valid Accs: 0.85210 | Time: 215.80 seconds\n",
      "Epoch: 10 | Train Loss: 0.17449 | Valid Loss: 0.30886 | Train Accs: 0.94503 | Valid Accs: 0.92796 | Time: 215.88 seconds\n",
      "Epoch: 11 | Train Loss: 0.12599 | Valid Loss: 0.32872 | Train Accs: 0.96147 | Valid Accs: 0.93225 | Time: 216.28 seconds\n",
      "Epoch: 12 | Train Loss: 0.13520 | Valid Loss: 0.23755 | Train Accs: 0.95775 | Valid Accs: 0.94275 | Time: 215.81 seconds\n",
      "Epoch: 13 | Train Loss: 0.12630 | Valid Loss: 0.41734 | Train Accs: 0.95801 | Valid Accs: 0.89456 | Time: 215.42 seconds\n",
      "Epoch: 14 | Train Loss: 0.08063 | Valid Loss: 0.29970 | Train Accs: 0.97373 | Valid Accs: 0.93082 | Time: 215.13 seconds\n",
      "Epoch: 15 | Train Loss: 0.07841 | Valid Loss: 0.18396 | Train Accs: 0.97493 | Valid Accs: 0.96088 | Time: 216.74 seconds\n",
      "Epoch: 16 | Train Loss: 0.04939 | Valid Loss: 0.25908 | Train Accs: 0.98556 | Valid Accs: 0.93798 | Time: 215.09 seconds\n",
      "Epoch: 17 | Train Loss: 0.06279 | Valid Loss: 0.17355 | Train Accs: 0.98030 | Valid Accs: 0.95897 | Time: 216.24 seconds\n",
      "Epoch: 18 | Train Loss: 0.03334 | Valid Loss: 0.18089 | Train Accs: 0.98932 | Valid Accs: 0.96279 | Time: 213.71 seconds\n",
      "Epoch: 19 | Train Loss: 0.01457 | Valid Loss: 0.18526 | Train Accs: 0.99688 | Valid Accs: 0.96708 | Time: 217.00 seconds\n",
      "Epoch: 20 | Train Loss: 0.01117 | Valid Loss: 0.18723 | Train Accs: 0.99736 | Valid Accs: 0.96183 | Time: 212.96 seconds\n",
      "Epoch: 21 | Train Loss: 0.00943 | Valid Loss: 0.16997 | Train Accs: 0.99700 | Valid Accs: 0.96756 | Time: 216.31 seconds\n",
      "Epoch: 22 | Train Loss: 0.00815 | Valid Loss: 0.19223 | Train Accs: 0.99760 | Valid Accs: 0.96040 | Time: 212.88 seconds\n",
      "Epoch: 23 | Train Loss: 0.00556 | Valid Loss: 0.20381 | Train Accs: 0.99832 | Valid Accs: 0.96422 | Time: 215.80 seconds\n",
      "Epoch: 24 | Train Loss: 0.00499 | Valid Loss: 0.19188 | Train Accs: 0.99827 | Valid Accs: 0.96374 | Time: 212.71 seconds\n",
      "Epoch: 25 | Train Loss: 0.00593 | Valid Loss: 0.18207 | Train Accs: 0.99820 | Valid Accs: 0.96660 | Time: 215.57 seconds\n",
      "Epoch: 26 | Train Loss: 0.00134 | Valid Loss: 0.17668 | Train Accs: 0.99976 | Valid Accs: 0.96899 | Time: 213.80 seconds\n",
      "Epoch: 27 | Train Loss: 0.00096 | Valid Loss: 0.17122 | Train Accs: 0.99976 | Valid Accs: 0.96803 | Time: 215.46 seconds\n",
      "Epoch: 28 | Train Loss: 0.00093 | Valid Loss: 0.17842 | Train Accs: 0.99976 | Valid Accs: 0.96803 | Time: 213.56 seconds\n",
      "Epoch: 29 | Train Loss: 0.00061 | Valid Loss: 0.17388 | Train Accs: 1.00000 | Valid Accs: 0.96660 | Time: 215.32 seconds\n",
      "Epoch: 30 | Train Loss: 0.00041 | Valid Loss: 0.17298 | Train Accs: 1.00000 | Valid Accs: 0.96947 | Time: 214.30 seconds\n",
      "\n",
      "**************************************************\n",
      "\n",
      "Best Validation Loss at Epoch 21\n",
      "\n",
      "**************************************************\n",
      "\n",
      "Best Validation Accs at Epoch 30\n",
      "\n",
      "**************************************************\n",
      "\n",
      "Time Taken [30 Epochs] : 107.77 minutes\n",
      "\n",
      "**************************************************\n",
      "\n"
     ]
    },
    {
     "data": {
      "image/png": "[encoded data removed]",
      "text/plain": [
       "<Figure size 432x288 with 1 Axes>"
      ]
     },
     "metadata": {
      "needs_background": "light"
     },
     "output_type": "display_data"
    },
    {
     "name": "stdout",
     "output_type": "stream",
     "text": [
      "\n",
      "**************************************************\n",
      "\n"
     ]
    },
    {
     "data": {
      "image/png": "[encoded data removed]",
      "text/plain": [
       "<Figure size 432x288 with 1 Axes>"
      ]
     },
     "metadata": {
      "needs_background": "light"
     },
     "output_type": "display_data"
    },
    {
     "name": "stdout",
     "output_type": "stream",
     "text": [
      "\n",
      "**************************************************\n",
      "\n"
     ]
    },
    {
     "data": {
      "image/png": "[encoded data removed]",
      "text/plain": [
       "<Figure size 576x432 with 1 Axes>"
      ]
     },
     "metadata": {
      "needs_background": "light"
     },
     "output_type": "display_data"
    },
    {
     "name": "stdout",
     "output_type": "stream",
     "text": [
      "\n",
      "**************************************************\n",
      "\n"
     ]
    }
   ],
   "source": [
    "for tr_idx, va_idx in StratifiedKFold(n_splits=cfg.n_splits, random_state=cfg.seed, shuffle=True).split(images, labels):\n",
    "    break\n",
    "\n",
    "tr_images, va_images, tr_labels, va_labels = images[tr_idx], images[va_idx], labels[tr_idx], labels[va_idx]\n",
    "\n",
    "tr_data_setup = DS(tr_images, tr_labels.reshape(-1, 1), cfg.transform)\n",
    "va_data_setup = DS(va_images, va_labels.reshape(-1, 1), cfg.transform)\n",
    "\n",
    "dataloaders = {\n",
    "    \"train\" : DL(tr_data_setup, batch_size=cfg.batch_size, shuffle=True, generator=torch.manual_seed(cfg.seed)),\n",
    "    \"valid\" : DL(va_data_setup, batch_size=cfg.batch_size, shuffle=False),\n",
    "}\n",
    "\n",
    "cfg = CFG(epochs=30, batch_size=64, steps_per_epoch=len(dataloaders[\"train\"]))\n",
    "\n",
    "torch.manual_seed(cfg.seed)\n",
    "model = Model().to(cfg.device)\n",
    "optimizer = optim.Adam([p for p in model.parameters() if p.requires_grad], lr=cfg.lr, weight_decay=cfg.wd)\n",
    "scheduler_oclr = optim.lr_scheduler.OneCycleLR(optimizer=optimizer, \n",
    "                                               max_lr=cfg.max_lr, \n",
    "                                               epochs=cfg.epochs, \n",
    "                                               steps_per_epoch=cfg.steps_per_epoch,\n",
    "                                               pct_start=cfg.pct_start, \n",
    "                                               div_factor=cfg.div_factor, \n",
    "                                               final_div_factor=cfg.final_div_factor)\n",
    "# scheduler_rlrop = optim.lr_scheduler.ReduceLROnPlateau(optimizer=optimizer,\n",
    "#                                                       patience=cfg.patience,\n",
    "#                                                       eps=cfg.eps,\n",
    "#                                                       verbose=True)\n",
    "\n",
    "# scheduler_oclr = None\n",
    "scheduler_rlrop = None\n",
    "\n",
    "L, A, LR, BLE, BAE, _, _ = fit(model=model, \n",
    "                               optimizer=optimizer, \n",
    "                               scheduler_oclr=scheduler_oclr,\n",
    "                               scheduler_rlrop=scheduler_rlrop,\n",
    "                               epochs=cfg.epochs, \n",
    "                               early_stopping_patience=None, \n",
    "                               dataloaders=dataloaders, \n",
    "                               device=cfg.device,\n",
    "                               save_path=cfg.save_path,\n",
    "                               fold=None,\n",
    "                               verbose=True)\n",
    "\n",
    "breaker()\n",
    "show_loss_graphs(L)\n",
    "breaker()\n",
    "show_accuracy_graphs(A)\n",
    "breaker()\n",
    "\n",
    "if scheduler_oclr:\n",
    "    show_lr_graph(LR)\n",
    "    breaker()"
   ]
  }
 ],
 "metadata": {
  "kernelspec": {
   "display_name": "Python 3",
   "language": "python",
   "name": "python3"
  },
  "language_info": {
   "codemirror_mode": {
    "name": "ipython",
    "version": 3
   },
   "file_extension": ".py",
   "mimetype": "text/x-python",
   "name": "python",
   "nbconvert_exporter": "python",
   "pygments_lexer": "ipython3",
   "version": "3.7.12"
  },
  "papermill": {
   "default_parameters": {},
   "duration": 6526.02616,
   "end_time": "2022-06-17T12:27:05.895652",
   "environment_variables": {},
   "exception": null,
   "input_path": "__notebook__.ipynb",
   "output_path": "__notebook__.ipynb",
   "parameters": {},
   "start_time": "2022-06-17T10:38:19.869492",
   "version": "2.3.4"
  },
  "widgets": {
   "application/vnd.jupyter.widget-state+json": {
    "state": {
     "0e5f040c17964d94afa81c7375e27c20": {
      "model_module": "@jupyter-widgets/base",
      "model_module_version": "1.2.0",
      "model_name": "LayoutModel",
      "state": {
       "_model_module": "@jupyter-widgets/base",
       "_model_module_version": "1.2.0",
       "_model_name": "LayoutModel",
       "_view_count": null,
       "_view_module": "@jupyter-widgets/base",
       "_view_module_version": "1.2.0",
       "_view_name": "LayoutView",
       "align_content": null,
       "align_items": null,
       "align_self": null,
       "border": null,
       "bottom": null,
       "display": null,
       "flex": null,
       "flex_flow": null,
       "grid_area": null,
       "grid_auto_columns": null,
       "grid_auto_flow": null,
       "grid_auto_rows": null,
       "grid_column": null,
       "grid_gap": null,
       "grid_row": null,
       "grid_template_areas": null,
       "grid_template_columns": null,
       "grid_template_rows": null,
       "height": null,
       "justify_content": null,
       "justify_items": null,
       "left": null,
       "margin": null,
       "max_height": null,
       "max_width": null,
       "min_height": null,
       "min_width": null,
       "object_fit": null,
       "object_position": null,
       "order": null,
       "overflow": null,
       "overflow_x": null,
       "overflow_y": null,
       "padding": null,
       "right": null,
       "top": null,
       "visibility": null,
       "width": null
      }
     },
     "1b9d62b6b8114372ac44847960917517": {
      "model_module": "@jupyter-widgets/controls",
      "model_module_version": "1.5.0",
      "model_name": "ProgressStyleModel",
      "state": {
       "_model_module": "@jupyter-widgets/controls",
       "_model_module_version": "1.5.0",
       "_model_name": "ProgressStyleModel",
       "_view_count": null,
       "_view_module": "@jupyter-widgets/base",
       "_view_module_version": "1.2.0",
       "_view_name": "StyleView",
       "bar_color": null,
       "description_width": ""
      }
     },
     "2283df24ad9c45a3af0248ac1ba0c7d2": {
      "model_module": "@jupyter-widgets/base",
      "model_module_version": "1.2.0",
      "model_name": "LayoutModel",
      "state": {
       "_model_module": "@jupyter-widgets/base",
       "_model_module_version": "1.2.0",
       "_model_name": "LayoutModel",
       "_view_count": null,
       "_view_module": "@jupyter-widgets/base",
       "_view_module_version": "1.2.0",
       "_view_name": "LayoutView",
       "align_content": null,
       "align_items": null,
       "align_self": null,
       "border": null,
       "bottom": null,
       "display": null,
       "flex": null,
       "flex_flow": null,
       "grid_area": null,
       "grid_auto_columns": null,
       "grid_auto_flow": null,
       "grid_auto_rows": null,
       "grid_column": null,
       "grid_gap": null,
       "grid_row": null,
       "grid_template_areas": null,
       "grid_template_columns": null,
       "grid_template_rows": null,
       "height": null,
       "justify_content": null,
       "justify_items": null,
       "left": null,
       "margin": null,
       "max_height": null,
       "max_width": null,
       "min_height": null,
       "min_width": null,
       "object_fit": null,
       "object_position": null,
       "order": null,
       "overflow": null,
       "overflow_x": null,
       "overflow_y": null,
       "padding": null,
       "right": null,
       "top": null,
       "visibility": null,
       "width": null
      }
     },
     "271bc6f1b47b4f21b5177e3c69c01e59": {
      "model_module": "@jupyter-widgets/base",
      "model_module_version": "1.2.0",
      "model_name": "LayoutModel",
      "state": {
       "_model_module": "@jupyter-widgets/base",
       "_model_module_version": "1.2.0",
       "_model_name": "LayoutModel",
       "_view_count": null,
       "_view_module": "@jupyter-widgets/base",
       "_view_module_version": "1.2.0",
       "_view_name": "LayoutView",
       "align_content": null,
       "align_items": null,
       "align_self": null,
       "border": null,
       "bottom": null,
       "display": null,
       "flex": null,
       "flex_flow": null,
       "grid_area": null,
       "grid_auto_columns": null,
       "grid_auto_flow": null,
       "grid_auto_rows": null,
       "grid_column": null,
       "grid_gap": null,
       "grid_row": null,
       "grid_template_areas": null,
       "grid_template_columns": null,
       "grid_template_rows": null,
       "height": null,
       "justify_content": null,
       "justify_items": null,
       "left": null,
       "margin": null,
       "max_height": null,
       "max_width": null,
       "min_height": null,
       "min_width": null,
       "object_fit": null,
       "object_position": null,
       "order": null,
       "overflow": null,
       "overflow_x": null,
       "overflow_y": null,
       "padding": null,
       "right": null,
       "top": null,
       "visibility": null,
       "width": null
      }
     },
     "3d1875fbe46e46b98268a4a35997fa90": {
      "model_module": "@jupyter-widgets/controls",
      "model_module_version": "1.5.0",
      "model_name": "DescriptionStyleModel",
      "state": {
       "_model_module": "@jupyter-widgets/controls",
       "_model_module_version": "1.5.0",
       "_model_name": "DescriptionStyleModel",
       "_view_count": null,
       "_view_module": "@jupyter-widgets/base",
       "_view_module_version": "1.2.0",
       "_view_name": "StyleView",
       "description_width": ""
      }
     },
     "4a9c3d81c40141e599a660c562ba4926": {
      "model_module": "@jupyter-widgets/controls",
      "model_module_version": "1.5.0",
      "model_name": "FloatProgressModel",
      "state": {
       "_dom_classes": [],
       "_model_module": "@jupyter-widgets/controls",
       "_model_module_version": "1.5.0",
       "_model_name": "FloatProgressModel",
       "_view_count": null,
       "_view_module": "@jupyter-widgets/controls",
       "_view_module_version": "1.5.0",
       "_view_name": "ProgressView",
       "bar_style": "success",
       "description": "",
       "description_tooltip": null,
       "layout": "IPY_MODEL_2283df24ad9c45a3af0248ac1ba0c7d2",
       "max": 57365526.0,
       "min": 0.0,
       "orientation": "horizontal",
       "style": "IPY_MODEL_1b9d62b6b8114372ac44847960917517",
       "value": 57365526.0
      }
     },
     "6171267257874f6083306cf3fddc69ae": {
      "model_module": "@jupyter-widgets/controls",
      "model_module_version": "1.5.0",
      "model_name": "HTMLModel",
      "state": {
       "_dom_classes": [],
       "_model_module": "@jupyter-widgets/controls",
       "_model_module_version": "1.5.0",
       "_model_name": "HTMLModel",
       "_view_count": null,
       "_view_module": "@jupyter-widgets/controls",
       "_view_module_version": "1.5.0",
       "_view_name": "HTMLView",
       "description": "",
       "description_tooltip": null,
       "layout": "IPY_MODEL_0e5f040c17964d94afa81c7375e27c20",
       "placeholder": "​",
       "style": "IPY_MODEL_3d1875fbe46e46b98268a4a35997fa90",
       "value": " 54.7M/54.7M [00:00&lt;00:00, 206MB/s]"
      }
     },
     "9903b6b57fcd471395be4cb9041e827f": {
      "model_module": "@jupyter-widgets/controls",
      "model_module_version": "1.5.0",
      "model_name": "HTMLModel",
      "state": {
       "_dom_classes": [],
       "_model_module": "@jupyter-widgets/controls",
       "_model_module_version": "1.5.0",
       "_model_name": "HTMLModel",
       "_view_count": null,
       "_view_module": "@jupyter-widgets/controls",
       "_view_module_version": "1.5.0",
       "_view_name": "HTMLView",
       "description": "",
       "description_tooltip": null,
       "layout": "IPY_MODEL_271bc6f1b47b4f21b5177e3c69c01e59",
       "placeholder": "​",
       "style": "IPY_MODEL_d79fb9cfc4204bb88d5d5c098f73905e",
       "value": "100%"
      }
     },
     "d3e56f417f434901936b12b61c144b7a": {
      "model_module": "@jupyter-widgets/controls",
      "model_module_version": "1.5.0",
      "model_name": "HBoxModel",
      "state": {
       "_dom_classes": [],
       "_model_module": "@jupyter-widgets/controls",
       "_model_module_version": "1.5.0",
       "_model_name": "HBoxModel",
       "_view_count": null,
       "_view_module": "@jupyter-widgets/controls",
       "_view_module_version": "1.5.0",
       "_view_name": "HBoxView",
       "box_style": "",
       "children": [
        "IPY_MODEL_9903b6b57fcd471395be4cb9041e827f",
        "IPY_MODEL_4a9c3d81c40141e599a660c562ba4926",
        "IPY_MODEL_6171267257874f6083306cf3fddc69ae"
       ],
       "layout": "IPY_MODEL_d9a967e6792b487b84defccd6f78dba5"
      }
     },
     "d79fb9cfc4204bb88d5d5c098f73905e": {
      "model_module": "@jupyter-widgets/controls",
      "model_module_version": "1.5.0",
      "model_name": "DescriptionStyleModel",
      "state": {
       "_model_module": "@jupyter-widgets/controls",
       "_model_module_version": "1.5.0",
       "_model_name": "DescriptionStyleModel",
       "_view_count": null,
       "_view_module": "@jupyter-widgets/base",
       "_view_module_version": "1.2.0",
       "_view_name": "StyleView",
       "description_width": ""
      }
     },
     "d9a967e6792b487b84defccd6f78dba5": {
      "model_module": "@jupyter-widgets/base",
      "model_module_version": "1.2.0",
      "model_name": "LayoutModel",
      "state": {
       "_model_module": "@jupyter-widgets/base",
       "_model_module_version": "1.2.0",
       "_model_name": "LayoutModel",
       "_view_count": null,
       "_view_module": "@jupyter-widgets/base",
       "_view_module_version": "1.2.0",
       "_view_name": "LayoutView",
       "align_content": null,
       "align_items": null,
       "align_self": null,
       "border": null,
       "bottom": null,
       "display": null,
       "flex": null,
       "flex_flow": null,
       "grid_area": null,
       "grid_auto_columns": null,
       "grid_auto_flow": null,
       "grid_auto_rows": null,
       "grid_column": null,
       "grid_gap": null,
       "grid_row": null,
       "grid_template_areas": null,
       "grid_template_columns": null,
       "grid_template_rows": null,
       "height": null,
       "justify_content": null,
       "justify_items": null,
       "left": null,
       "margin": null,
       "max_height": null,
       "max_width": null,
       "min_height": null,
       "min_width": null,
       "object_fit": null,
       "object_position": null,
       "order": null,
       "overflow": null,
       "overflow_x": null,
       "overflow_y": null,
       "padding": null,
       "right": null,
       "top": null,
       "visibility": null,
       "width": null
      }
     }
    },
    "version_major": 2,
    "version_minor": 0
   }
  }
 },
 "nbformat": 4,
 "nbformat_minor": 5
}
