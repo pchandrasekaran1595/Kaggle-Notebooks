{
 "cells": [
  {
   "cell_type": "markdown",
   "id": "4fa54b8c",
   "metadata": {
    "_cell_guid": "b1076dfc-b9ad-4769-8c92-a6c4dae69d19",
    "_uuid": "8f2839f25d086af736a60e9eeb907d3b93b6e0e5",
    "papermill": {
     "duration": 0.004639,
     "end_time": "2022-07-03T11:54:23.790766",
     "exception": false,
     "start_time": "2022-07-03T11:54:23.786127",
     "status": "completed"
    },
    "tags": []
   },
   "source": [
    "### **Library Imports**"
   ]
  },
  {
   "cell_type": "code",
   "execution_count": 1,
   "id": "a7c8a4fa",
   "metadata": {
    "execution": {
     "iopub.execute_input": "2022-07-03T11:54:23.800770Z",
     "iopub.status.busy": "2022-07-03T11:54:23.799640Z",
     "iopub.status.idle": "2022-07-03T11:54:26.708394Z",
     "shell.execute_reply": "2022-07-03T11:54:26.707628Z"
    },
    "papermill": {
     "duration": 2.916185,
     "end_time": "2022-07-03T11:54:26.710861",
     "exception": false,
     "start_time": "2022-07-03T11:54:23.794676",
     "status": "completed"
    },
    "tags": []
   },
   "outputs": [],
   "source": [
    "import os\n",
    "import re\n",
    "import cv2\n",
    "import torch\n",
    "import numpy as np\n",
    "import pandas as pd\n",
    "import matplotlib.pyplot as plt\n",
    "\n",
    "from time import time\n",
    "from torch import nn, optim\n",
    "from torch.utils.data import Dataset\n",
    "from torch.utils.data import DataLoader as DL\n",
    "from torchvision import models, transforms\n",
    "\n",
    "from sklearn.model_selection import StratifiedKFold\n",
    "from sklearn.preprocessing import LabelEncoder\n",
    "from sklearn.metrics import accuracy_score"
   ]
  },
  {
   "cell_type": "markdown",
   "id": "9bcbee92",
   "metadata": {
    "papermill": {
     "duration": 0.003979,
     "end_time": "2022-07-03T11:54:26.718764",
     "exception": false,
     "start_time": "2022-07-03T11:54:26.714785",
     "status": "completed"
    },
    "tags": []
   },
   "source": [
    "### **Utilities and Helpers**"
   ]
  },
  {
   "cell_type": "code",
   "execution_count": 2,
   "id": "3423400e",
   "metadata": {
    "execution": {
     "iopub.execute_input": "2022-07-03T11:54:26.728340Z",
     "iopub.status.busy": "2022-07-03T11:54:26.727731Z",
     "iopub.status.idle": "2022-07-03T11:54:26.741348Z",
     "shell.execute_reply": "2022-07-03T11:54:26.740589Z"
    },
    "papermill": {
     "duration": 0.019836,
     "end_time": "2022-07-03T11:54:26.742966",
     "exception": false,
     "start_time": "2022-07-03T11:54:26.723130",
     "status": "completed"
    },
    "tags": []
   },
   "outputs": [],
   "source": [
    "SEED = 42\n",
    "SIZE = 384\n",
    "le = LabelEncoder()\n",
    "\n",
    "\n",
    "def breaker(num: int=50, char: str=\"*\") -> None:\n",
    "    print(\"\\n\" + num*char + \"\\n\")\n",
    "\n",
    "    \n",
    "def get_image(path: str, size: int=224) -> np.ndarray:\n",
    "    return cv2.resize(\n",
    "        src=cv2.cvtColor(src=cv2.imread(path, cv2.IMREAD_COLOR), code=cv2.COLOR_BGR2RGB), \n",
    "        dsize=(size, size), \n",
    "        interpolation=cv2.INTER_AREA\n",
    "    )\n",
    "\n",
    "    \n",
    "def show_loss_graphs(A: list) -> None:\n",
    "    TL, VL = [], []\n",
    "    for i in range(len(L)):\n",
    "        TL.append(L[i][\"train\"])\n",
    "        VL.append(L[i][\"valid\"])\n",
    "    x_Axis = np.arange(1, len(TL) + 1)\n",
    "    plt.figure()\n",
    "    plt.plot(x_Axis, TL, \"r\", label=\"Train\")\n",
    "    plt.plot(x_Axis, VL, \"b\", label=\"Valid\")\n",
    "    plt.legend()\n",
    "    plt.grid()\n",
    "    plt.title(\"Loss Graph\")\n",
    "    plt.show()\n",
    "\n",
    "    \n",
    "def show_accuracy_graphs(A: list) -> None:\n",
    "    TA, VA = [], []\n",
    "    for i in range(len(L)):\n",
    "        TA.append(A[i][\"train\"])\n",
    "        VA.append(A[i][\"valid\"])\n",
    "    x_Axis = np.arange(1, len(TA) + 1)\n",
    "    plt.figure()\n",
    "    plt.plot(x_Axis, TA, \"r\", label=\"Train\")\n",
    "    plt.plot(x_Axis, VA, \"b\", label=\"Valid\")\n",
    "    plt.legend()\n",
    "    plt.grid()\n",
    "    plt.title(\"Accuracy Graph\")\n",
    "    plt.show()\n",
    "\n",
    "\n",
    "def show_lr_graph(LR: list) -> None:\n",
    "    x_Axis = [i+1 for i in range(len(LR))]\n",
    "    plt.figure(figsize=(8, 6))\n",
    "    plt.plot(x_Axis, LR, \"rx\")\n",
    "    plt.grid()\n",
    "    plt.show()"
   ]
  },
  {
   "cell_type": "markdown",
   "id": "8059c8c9",
   "metadata": {
    "papermill": {
     "duration": 0.003501,
     "end_time": "2022-07-03T11:54:26.750076",
     "exception": false,
     "start_time": "2022-07-03T11:54:26.746575",
     "status": "completed"
    },
    "tags": []
   },
   "source": [
    "### **Configuration**"
   ]
  },
  {
   "cell_type": "code",
   "execution_count": 3,
   "id": "7f2939d0",
   "metadata": {
    "execution": {
     "iopub.execute_input": "2022-07-03T11:54:26.758546Z",
     "iopub.status.busy": "2022-07-03T11:54:26.758297Z",
     "iopub.status.idle": "2022-07-03T11:54:26.825864Z",
     "shell.execute_reply": "2022-07-03T11:54:26.825024Z"
    },
    "papermill": {
     "duration": 0.074224,
     "end_time": "2022-07-03T11:54:26.827896",
     "exception": false,
     "start_time": "2022-07-03T11:54:26.753672",
     "status": "completed"
    },
    "tags": []
   },
   "outputs": [],
   "source": [
    "class CFG(object):\n",
    "    def __init__(self, \n",
    "                 seed: int = 42,\n",
    "                 n_splits: int = 5,\n",
    "                 batch_size: int = 16,\n",
    "                 epochs: int = 25,\n",
    "                 early_stopping: int = 5,\n",
    "                 lr: float = 1e-4,\n",
    "                 wd: float = 0.0,\n",
    "                 max_lr: float = 1e-3,\n",
    "                 pct_start: float = 0.2,\n",
    "                 steps_per_epoch: int = 100,\n",
    "                 div_factor: int = 1e3, \n",
    "                 final_div_factor: float = 1e3,\n",
    "                 ):\n",
    "        \n",
    "        self.seed = seed\n",
    "        self.n_splits = n_splits\n",
    "        self.batch_size = batch_size\n",
    "        self.epochs = epochs\n",
    "        self.early_stopping = early_stopping\n",
    "        self.lr = lr\n",
    "        self.wd = wd\n",
    "        self.max_lr = max_lr\n",
    "        self.pct_start = pct_start\n",
    "        self.steps_per_epoch = steps_per_epoch\n",
    "        self.div_factor = div_factor\n",
    "        self.final_div_factor = final_div_factor\n",
    "        self.device = torch.device(\"cuda\" if torch.cuda.is_available() else \"cpu\")\n",
    "        self.train_transform = transforms.Compose([transforms.ToTensor(),\n",
    "                                                   transforms.Normalize([0.49699, 0.58823, 0.23049],\n",
    "                                                                        [0.22591, 0.22614, 0.18264]),\n",
    "                                                   transforms.RandomAffine(degrees=(-45, 45), translate=(0.15, 0.15), scale=(0.5, 1.5)),\n",
    "                                                   transforms.RandomHorizontalFlip(p=0.25),\n",
    "                                                   transforms.RandomVerticalFlip(p=0.25),\n",
    "                                                  ])\n",
    "        self.valid_transform = transforms.Compose([transforms.ToTensor(),\n",
    "                                                   transforms.Normalize([0.49699, 0.58823, 0.23049],\n",
    "                                                                        [0.22591, 0.22614, 0.18264]),\n",
    "                                                  ])\n",
    "        self.save_path = \"saves\"\n",
    "        if not os.path.exists(self.save_path): os.makedirs(self.save_path)\n",
    "    \n",
    "cfg = CFG(seed=SEED)"
   ]
  },
  {
   "cell_type": "markdown",
   "id": "020cd6be",
   "metadata": {
    "papermill": {
     "duration": 0.003531,
     "end_time": "2022-07-03T11:54:26.835650",
     "exception": false,
     "start_time": "2022-07-03T11:54:26.832119",
     "status": "completed"
    },
    "tags": []
   },
   "source": [
    "### **Dataset Template**"
   ]
  },
  {
   "cell_type": "code",
   "execution_count": 4,
   "id": "fcf1a11e",
   "metadata": {
    "execution": {
     "iopub.execute_input": "2022-07-03T11:54:26.843952Z",
     "iopub.status.busy": "2022-07-03T11:54:26.843672Z",
     "iopub.status.idle": "2022-07-03T11:54:26.850541Z",
     "shell.execute_reply": "2022-07-03T11:54:26.849742Z"
    },
    "papermill": {
     "duration": 0.013108,
     "end_time": "2022-07-03T11:54:26.852406",
     "exception": false,
     "start_time": "2022-07-03T11:54:26.839298",
     "status": "completed"
    },
    "tags": []
   },
   "outputs": [],
   "source": [
    "class DS(Dataset):\n",
    "    def __init__(self, \n",
    "                 base_path: str,\n",
    "                 size: int,\n",
    "                 filenames: np.ndarray, \n",
    "                 labelnames: np.ndarray, \n",
    "                 labels: np.ndarray, \n",
    "                 transform):\n",
    "        \n",
    "        self.base_path = base_path\n",
    "        self.size = size\n",
    "        self.filenames = filenames\n",
    "        self.labelnames = labelnames\n",
    "        self.labels = labels\n",
    "        self.transform = transform\n",
    "        \n",
    "    def __len__(self):\n",
    "        return self.filenames.shape[0]\n",
    "    \n",
    "    def __getitem__(self, idx):\n",
    "        image_path = os.path.join(os.path.join(self.base_path, self.labelnames[idx]), self.filenames[idx])\n",
    "        image = get_image(image_path, self.size)\n",
    "        return self.transform(image), torch.LongTensor(self.labels[idx])"
   ]
  },
  {
   "cell_type": "markdown",
   "id": "3fa57db5",
   "metadata": {
    "papermill": {
     "duration": 0.003445,
     "end_time": "2022-07-03T11:54:26.859772",
     "exception": false,
     "start_time": "2022-07-03T11:54:26.856327",
     "status": "completed"
    },
    "tags": []
   },
   "source": [
    "### **Model**"
   ]
  },
  {
   "cell_type": "code",
   "execution_count": 5,
   "id": "e6430729",
   "metadata": {
    "execution": {
     "iopub.execute_input": "2022-07-03T11:54:26.868511Z",
     "iopub.status.busy": "2022-07-03T11:54:26.868266Z",
     "iopub.status.idle": "2022-07-03T11:54:26.874080Z",
     "shell.execute_reply": "2022-07-03T11:54:26.873271Z"
    },
    "papermill": {
     "duration": 0.012452,
     "end_time": "2022-07-03T11:54:26.875889",
     "exception": false,
     "start_time": "2022-07-03T11:54:26.863437",
     "status": "completed"
    },
    "tags": []
   },
   "outputs": [],
   "source": [
    "class Model(nn.Module):\n",
    "    def __init__(self):\n",
    "        super(Model, self).__init__()\n",
    "\n",
    "        self.model = models.densenet169(pretrained=True, progress=True)\n",
    "        # self.freeze()\n",
    "        self.model.classifier = nn.Linear(in_features=self.model.classifier.in_features, out_features=10)\n",
    "    \n",
    "    def freeze(self):\n",
    "        for params in self.parameters(): params.requires_grad = False\n",
    "\n",
    "    def forward(self, x):\n",
    "        return nn.LogSoftmax(dim=1)(self.model(x))"
   ]
  },
  {
   "cell_type": "markdown",
   "id": "1f9ffc0b",
   "metadata": {
    "papermill": {
     "duration": 0.003538,
     "end_time": "2022-07-03T11:54:26.883047",
     "exception": false,
     "start_time": "2022-07-03T11:54:26.879509",
     "status": "completed"
    },
    "tags": []
   },
   "source": [
    "### **Fit and Predict Helpers**"
   ]
  },
  {
   "cell_type": "code",
   "execution_count": 6,
   "id": "83e0125e",
   "metadata": {
    "execution": {
     "iopub.execute_input": "2022-07-03T11:54:26.891903Z",
     "iopub.status.busy": "2022-07-03T11:54:26.891566Z",
     "iopub.status.idle": "2022-07-03T11:54:26.917876Z",
     "shell.execute_reply": "2022-07-03T11:54:26.917219Z"
    },
    "papermill": {
     "duration": 0.032673,
     "end_time": "2022-07-03T11:54:26.919456",
     "exception": false,
     "start_time": "2022-07-03T11:54:26.886783",
     "status": "completed"
    },
    "tags": []
   },
   "outputs": [],
   "source": [
    "def fit(model=None, \n",
    "        optimizer=None, \n",
    "        scheduler_rlrop=None,\n",
    "        scheduler_oclr=None,\n",
    "        epochs=None, \n",
    "        early_stopping_patience=None, \n",
    "        dataloaders=None, \n",
    "        fold=None, \n",
    "        save_path=None,\n",
    "        device=None,\n",
    "        verbose=False) -> tuple:\n",
    "    \n",
    "    def get_accuracy(y_pred, y_true):\n",
    "        y_pred = torch.argmax(y_pred, dim=1)\n",
    "        return torch.count_nonzero(y_pred == y_true).item() / len(y_pred)\n",
    "    \n",
    "    if verbose:\n",
    "        breaker()\n",
    "        if fold: print(f\"Training Fold {fold}...\")\n",
    "        else: print(\"Training ...\")\n",
    "        breaker()\n",
    "        \n",
    "    bestLoss, bestAccs = {\"train\" : np.inf, \"valid\" : np.inf}, {\"train\" : 0.0, \"valid\" : 0.0}\n",
    "    Losses, Accuracies, LRs = [], [], []\n",
    "    if fold: \n",
    "        ble_name = f\"ble_state_fold_{fold}.pt\"\n",
    "        bae_name = f\"bae_state_fold_{fold}.pt\"\n",
    "    else: \n",
    "        ble_name = \"ble_state.pt\"\n",
    "        bae_name = \"bae_state.pt\"\n",
    "\n",
    "    start_time = time()\n",
    "    for e in range(epochs):\n",
    "        e_st = time()\n",
    "        epochLoss, epochAccs = {\"train\" : 0.0, \"valid\" : 0.0}, {\"train\" : 0.0, \"valid\" : 0.0}\n",
    "\n",
    "        for phase in [\"train\", \"valid\"]:\n",
    "            if phase == \"train\":\n",
    "                model.train()\n",
    "            else:\n",
    "                model.eval()\n",
    "            \n",
    "            lossPerPass, accsPerPass = [], []\n",
    "\n",
    "            for X, y in dataloaders[phase]:\n",
    "                X, y = X.to(device), y.to(device).view(-1)\n",
    "\n",
    "                optimizer.zero_grad()\n",
    "                with torch.set_grad_enabled(phase == \"train\"):\n",
    "                    output = model(X)\n",
    "                    loss = torch.nn.NLLLoss()(output, y)\n",
    "                    if phase == \"train\":\n",
    "                        loss.backward()\n",
    "                        optimizer.step()\n",
    "                        if scheduler_oclr: scheduler_oclr.step()\n",
    "                lossPerPass.append(loss.item())\n",
    "                accsPerPass.append(get_accuracy(output, y))\n",
    "            epochLoss[phase] = np.mean(np.array(lossPerPass))\n",
    "            epochAccs[phase] = np.mean(np.array(accsPerPass))\n",
    "        if scheduler_oclr: LRs.append(scheduler_oclr.get_last_lr())\n",
    "        Losses.append(epochLoss)\n",
    "        Accuracies.append(epochAccs)\n",
    "        \n",
    "        if scheduler_oclr:\n",
    "            save_dict = {\"model_state_dict\"     : model.state_dict(),\n",
    "                         \"optim_state_dict\"     : optimizer.state_dict(),\n",
    "                         \"scheduler_state_dict\" : scheduler_oclr.state_dict()}\n",
    "        \n",
    "        elif scheduler_rlrop:\n",
    "            save_dict = {\"model_state_dict\"     : model.state_dict(),\n",
    "                         \"optim_state_dict\"     : optimizer.state_dict(),\n",
    "                         \"scheduler_state_dict\" : scheduler_rlrop.state_dict()}\n",
    "        \n",
    "        else:\n",
    "            save_dict = {\"model_state_dict\"     : model.state_dict(),\n",
    "                         \"optim_state_dict\"     : optimizer.state_dict()}\n",
    "        \n",
    "        if early_stopping_patience:\n",
    "            if epochLoss[\"valid\"] < bestLoss[\"valid\"]:\n",
    "                bestLoss = epochLoss\n",
    "                BLE = e + 1\n",
    "                torch.save(save_dict, os.path.join(save_path, name))\n",
    "                early_stopping_step = 0\n",
    "            else:\n",
    "                early_stopping_step += 1\n",
    "                if early_stopping_step > early_stopping_patience:\n",
    "                    print(\"\\nEarly Stopping at Epoch {}\".format(e + 1))\n",
    "                    break\n",
    "        \n",
    "        if epochLoss[\"valid\"] < bestLoss[\"valid\"]:\n",
    "            bestLoss = epochLoss\n",
    "            BLE = e + 1\n",
    "            torch.save(save_dict,os.path.join(save_path, ble_name))\n",
    "        \n",
    "        if epochAccs[\"valid\"] > bestAccs[\"valid\"]:\n",
    "            bestAccs = epochAccs\n",
    "            BAE = e + 1\n",
    "            torch.save(save_dict,os.path.join(save_path, bae_name))\n",
    "\n",
    "        \n",
    "        if scheduler_rlrop: scheduler_rlrop.step(epochLoss[\"valid\"])\n",
    "        \n",
    "        if verbose:\n",
    "            print(\"Epoch: {} | Train Loss: {:.5f} | Valid Loss: {:.5f} |\\\n",
    " Train Accs: {:.5f} | Valid Accs: {:.5f} | Time: {:.2f} seconds\".format(e+1, \n",
    "                                                                        epochLoss[\"train\"], epochLoss[\"valid\"], \n",
    "                                                                        epochAccs[\"train\"], epochAccs[\"valid\"], \n",
    "                                                                        time()-e_st))\n",
    "\n",
    "    if verbose:                                           \n",
    "        breaker()\n",
    "        print(f\"Best Validation Loss at Epoch {BLE}\")\n",
    "        breaker()\n",
    "        print(f\"Best Validation Accs at Epoch {BAE}\")\n",
    "        breaker()\n",
    "        print(\"Time Taken [{} Epochs] : {:.2f} minutes\".format(len(Losses), (time()-start_time)/60))\n",
    "    \n",
    "    return Losses, Accuracies, LRs, BLE, BAE, ble_name, bae_name\n",
    "\n",
    "\n",
    "def predict_batch(model=None, dataloader=None, path=None, device=None) -> np.ndarray:\n",
    "    model.load_state_dict(torch.load(path, map_location=device)[\"model_state_dict\"])\n",
    "    model.to(device)    \n",
    "    model.eval()\n",
    "    \n",
    "    y_pred = torch.zeros(1, 1).to(device)\n",
    "    \n",
    "    for X in dataloader:\n",
    "        X = X.to(device)\n",
    "        with torch.no_grad():\n",
    "            output = torch.argmax(torch.exp(model(X)), dim=1)\n",
    "        y_pred = torch.cat((y_pred, output.view(-1, 1)), dim=0)\n",
    "    \n",
    "    return y_pred[1:].detach().cpu().numpy()"
   ]
  },
  {
   "cell_type": "markdown",
   "id": "5af78c2a",
   "metadata": {
    "papermill": {
     "duration": 0.003482,
     "end_time": "2022-07-03T11:54:26.926596",
     "exception": false,
     "start_time": "2022-07-03T11:54:26.923114",
     "status": "completed"
    },
    "tags": []
   },
   "source": [
    "### **Train**"
   ]
  },
  {
   "cell_type": "code",
   "execution_count": 7,
   "id": "7d83b371",
   "metadata": {
    "execution": {
     "iopub.execute_input": "2022-07-03T11:54:26.935250Z",
     "iopub.status.busy": "2022-07-03T11:54:26.934999Z",
     "iopub.status.idle": "2022-07-03T11:54:26.965357Z",
     "shell.execute_reply": "2022-07-03T11:54:26.964721Z"
    },
    "papermill": {
     "duration": 0.036781,
     "end_time": "2022-07-03T11:54:26.967134",
     "exception": false,
     "start_time": "2022-07-03T11:54:26.930353",
     "status": "completed"
    },
    "tags": []
   },
   "outputs": [],
   "source": [
    "df = pd.read_csv(\"../input/paddy-disease-classification/train.csv\")\n",
    "\n",
    "filenames = df.image_id.copy().values\n",
    "labelnames = df.label.copy().values\n",
    "labels = le.fit_transform(labelnames)"
   ]
  },
  {
   "cell_type": "code",
   "execution_count": 8,
   "id": "0b2f9ee8",
   "metadata": {
    "execution": {
     "iopub.execute_input": "2022-07-03T11:54:26.975980Z",
     "iopub.status.busy": "2022-07-03T11:54:26.975734Z",
     "iopub.status.idle": "2022-07-03T15:38:06.552338Z",
     "shell.execute_reply": "2022-07-03T15:38:06.551348Z"
    },
    "papermill": {
     "duration": 13419.583051,
     "end_time": "2022-07-03T15:38:06.554057",
     "exception": false,
     "start_time": "2022-07-03T11:54:26.971006",
     "status": "completed"
    },
    "tags": []
   },
   "outputs": [
    {
     "name": "stderr",
     "output_type": "stream",
     "text": [
      "Downloading: \"https://download.pytorch.org/models/densenet169-b2777c0a.pth\" to /root/.cache/torch/hub/checkpoints/densenet169-b2777c0a.pth\n"
     ]
    },
    {
     "data": {
      "application/vnd.jupyter.widget-view+json": {
       "model_id": "849cd04eb89143b0a772ed54de204d62",
       "version_major": 2,
       "version_minor": 0
      },
      "text/plain": [
       "  0%|          | 0.00/54.7M [00:00<?, ?B/s]"
      ]
     },
     "metadata": {},
     "output_type": "display_data"
    },
    {
     "name": "stdout",
     "output_type": "stream",
     "text": [
      "\n",
      "**************************************************\n",
      "\n",
      "Training ...\n",
      "\n",
      "**************************************************\n",
      "\n",
      "Epoch: 1 | Train Loss: 1.90829 | Valid Loss: 0.94584 | Train Accs: 0.33597 | Valid Accs: 0.67605 | Time: 461.47 seconds\n",
      "Epoch: 2 | Train Loss: 0.86862 | Valid Loss: 0.55010 | Train Accs: 0.71745 | Valid Accs: 0.81679 | Time: 377.27 seconds\n",
      "Epoch: 3 | Train Loss: 0.72628 | Valid Loss: 0.48786 | Train Accs: 0.75904 | Valid Accs: 0.83015 | Time: 377.30 seconds\n",
      "Epoch: 4 | Train Loss: 0.74636 | Valid Loss: 0.69469 | Train Accs: 0.75480 | Valid Accs: 0.76097 | Time: 372.38 seconds\n",
      "Epoch: 5 | Train Loss: 0.71332 | Valid Loss: 0.63622 | Train Accs: 0.76088 | Valid Accs: 0.79914 | Time: 376.68 seconds\n",
      "Epoch: 6 | Train Loss: 0.70160 | Valid Loss: 0.96500 | Train Accs: 0.76959 | Valid Accs: 0.71708 | Time: 377.52 seconds\n",
      "Epoch: 7 | Train Loss: 0.63306 | Valid Loss: 0.52063 | Train Accs: 0.79359 | Valid Accs: 0.85115 | Time: 377.77 seconds\n",
      "Epoch: 8 | Train Loss: 0.58828 | Valid Loss: 0.95579 | Train Accs: 0.80938 | Valid Accs: 0.74189 | Time: 377.28 seconds\n",
      "Epoch: 9 | Train Loss: 0.52239 | Valid Loss: 0.57743 | Train Accs: 0.82750 | Valid Accs: 0.81345 | Time: 379.36 seconds\n",
      "Epoch: 10 | Train Loss: 0.48668 | Valid Loss: 0.36176 | Train Accs: 0.83909 | Valid Accs: 0.89456 | Time: 380.85 seconds\n",
      "Epoch: 11 | Train Loss: 0.44051 | Valid Loss: 0.30726 | Train Accs: 0.85681 | Valid Accs: 0.90697 | Time: 379.83 seconds\n",
      "Epoch: 12 | Train Loss: 0.40552 | Valid Loss: 0.28704 | Train Accs: 0.86628 | Valid Accs: 0.91317 | Time: 379.57 seconds\n",
      "Epoch: 13 | Train Loss: 0.37622 | Valid Loss: 0.34335 | Train Accs: 0.87848 | Valid Accs: 0.90697 | Time: 379.83 seconds\n",
      "Epoch: 14 | Train Loss: 0.34471 | Valid Loss: 0.29632 | Train Accs: 0.88736 | Valid Accs: 0.91031 | Time: 371.83 seconds\n",
      "Epoch: 15 | Train Loss: 0.31209 | Valid Loss: 0.22671 | Train Accs: 0.89671 | Valid Accs: 0.92939 | Time: 376.48 seconds\n",
      "Epoch: 16 | Train Loss: 0.26378 | Valid Loss: 0.21496 | Train Accs: 0.91411 | Valid Accs: 0.94227 | Time: 376.66 seconds\n",
      "Epoch: 17 | Train Loss: 0.25265 | Valid Loss: 0.19431 | Train Accs: 0.91511 | Valid Accs: 0.94561 | Time: 372.81 seconds\n",
      "Epoch: 18 | Train Loss: 0.22242 | Valid Loss: 0.18111 | Train Accs: 0.92646 | Valid Accs: 0.95277 | Time: 377.53 seconds\n",
      "Epoch: 19 | Train Loss: 0.19786 | Valid Loss: 0.14411 | Train Accs: 0.93438 | Valid Accs: 0.94990 | Time: 385.81 seconds\n",
      "Epoch: 20 | Train Loss: 0.19749 | Valid Loss: 0.17639 | Train Accs: 0.93486 | Valid Accs: 0.94275 | Time: 375.88 seconds\n",
      "Epoch: 21 | Train Loss: 0.14784 | Valid Loss: 0.13490 | Train Accs: 0.94998 | Valid Accs: 0.96183 | Time: 387.56 seconds\n",
      "Epoch: 22 | Train Loss: 0.13600 | Valid Loss: 0.14883 | Train Accs: 0.95525 | Valid Accs: 0.95897 | Time: 380.17 seconds\n",
      "Epoch: 23 | Train Loss: 0.12684 | Valid Loss: 0.10541 | Train Accs: 0.95565 | Valid Accs: 0.96947 | Time: 379.36 seconds\n",
      "Epoch: 24 | Train Loss: 0.10390 | Valid Loss: 0.13340 | Train Accs: 0.96525 | Valid Accs: 0.96469 | Time: 376.58 seconds\n",
      "Epoch: 25 | Train Loss: 0.08565 | Valid Loss: 0.12622 | Train Accs: 0.97277 | Valid Accs: 0.96660 | Time: 375.16 seconds\n",
      "Epoch: 26 | Train Loss: 0.07414 | Valid Loss: 0.11096 | Train Accs: 0.97481 | Valid Accs: 0.96851 | Time: 374.09 seconds\n",
      "Epoch: 27 | Train Loss: 0.06261 | Valid Loss: 0.10348 | Train Accs: 0.97889 | Valid Accs: 0.97519 | Time: 372.60 seconds\n",
      "Epoch: 28 | Train Loss: 0.06164 | Valid Loss: 0.09226 | Train Accs: 0.97973 | Valid Accs: 0.97567 | Time: 445.83 seconds\n",
      "Epoch: 29 | Train Loss: 0.05683 | Valid Loss: 0.10633 | Train Accs: 0.98121 | Valid Accs: 0.97424 | Time: 422.82 seconds\n",
      "Epoch: 30 | Train Loss: 0.04745 | Valid Loss: 0.09223 | Train Accs: 0.98261 | Valid Accs: 0.97376 | Time: 381.35 seconds\n",
      "Epoch: 31 | Train Loss: 0.04416 | Valid Loss: 0.09469 | Train Accs: 0.98596 | Valid Accs: 0.97567 | Time: 373.56 seconds\n",
      "Epoch: 32 | Train Loss: 0.03582 | Valid Loss: 0.08926 | Train Accs: 0.98956 | Valid Accs: 0.97519 | Time: 374.86 seconds\n",
      "Epoch: 33 | Train Loss: 0.03532 | Valid Loss: 0.08669 | Train Accs: 0.98836 | Valid Accs: 0.97805 | Time: 379.49 seconds\n",
      "Epoch: 34 | Train Loss: 0.03395 | Valid Loss: 0.09128 | Train Accs: 0.98956 | Valid Accs: 0.97376 | Time: 376.86 seconds\n",
      "Epoch: 35 | Train Loss: 0.03574 | Valid Loss: 0.09009 | Train Accs: 0.98824 | Valid Accs: 0.97328 | Time: 373.84 seconds\n",
      "\n",
      "**************************************************\n",
      "\n",
      "Best Validation Loss at Epoch 33\n",
      "\n",
      "**************************************************\n",
      "\n",
      "Best Validation Accs at Epoch 33\n",
      "\n",
      "**************************************************\n",
      "\n",
      "Time Taken [35 Epochs] : 223.47 minutes\n",
      "\n",
      "**************************************************\n",
      "\n"
     ]
    },
    {
     "data": {
      "image/png": "[encoded data removed]",
      "text/plain": [
       "<Figure size 432x288 with 1 Axes>"
      ]
     },
     "metadata": {
      "needs_background": "light"
     },
     "output_type": "display_data"
    },
    {
     "name": "stdout",
     "output_type": "stream",
     "text": [
      "\n",
      "**************************************************\n",
      "\n"
     ]
    },
    {
     "data": {
      "image/png": "[encoded data removed]",
      "text/plain": [
       "<Figure size 432x288 with 1 Axes>"
      ]
     },
     "metadata": {
      "needs_background": "light"
     },
     "output_type": "display_data"
    },
    {
     "name": "stdout",
     "output_type": "stream",
     "text": [
      "\n",
      "**************************************************\n",
      "\n"
     ]
    },
    {
     "data": {
      "image/png": "[encoded data removed]",
      "text/plain": [
       "<Figure size 576x432 with 1 Axes>"
      ]
     },
     "metadata": {
      "needs_background": "light"
     },
     "output_type": "display_data"
    },
    {
     "name": "stdout",
     "output_type": "stream",
     "text": [
      "\n",
      "**************************************************\n",
      "\n"
     ]
    }
   ],
   "source": [
    "fold = 1\n",
    "for tr_idx, va_idx in StratifiedKFold(n_splits=cfg.n_splits, random_state=cfg.seed, shuffle=True).split(filenames, labels):\n",
    "    if fold == 3: break\n",
    "    fold += 1\n",
    "\n",
    "tr_filenames, va_filenames   = filenames[tr_idx], filenames[va_idx], \n",
    "tr_labelnames, va_labelnames = labelnames[tr_idx], labelnames[va_idx]\n",
    "tr_labels, va_labels         = labels[tr_idx], labels[va_idx]\n",
    "\n",
    "tr_data_setup = DS(\n",
    "    \"../input/paddy-disease-classification/train_images\",\n",
    "    SIZE,\n",
    "    tr_filenames, \n",
    "    tr_labelnames, \n",
    "    tr_labels.reshape(-1, 1), \n",
    "    cfg.train_transform,\n",
    ")\n",
    "\n",
    "va_data_setup = DS(\n",
    "    \"../input/paddy-disease-classification/train_images\",\n",
    "    SIZE,\n",
    "    va_filenames, \n",
    "    va_labelnames, \n",
    "    va_labels.reshape(-1, 1), \n",
    "    cfg.valid_transform,\n",
    ")\n",
    "\n",
    "dataloaders = {\n",
    "    \"train\" : DL(tr_data_setup, batch_size=cfg.batch_size, shuffle=True, generator=torch.manual_seed(cfg.seed)),\n",
    "    \"valid\" : DL(va_data_setup, batch_size=cfg.batch_size, shuffle=False),\n",
    "}\n",
    "\n",
    "cfg = CFG(epochs=35, batch_size=64, steps_per_epoch=len(dataloaders[\"train\"]))\n",
    "\n",
    "torch.manual_seed(cfg.seed)\n",
    "model = Model().to(cfg.device)\n",
    "\n",
    "optimizer = optim.Adam([p for p in model.parameters() if p.requires_grad], lr=cfg.lr, weight_decay=cfg.wd)\n",
    "# optimizer = optim.AdamW([p for p in model.parameters() if p.requires_grad], lr=cfg.lr, weight_decay=cfg.wd)\n",
    "\n",
    "scheduler_oclr = optim.lr_scheduler.OneCycleLR(optimizer=optimizer, \n",
    "                                               max_lr=cfg.max_lr, \n",
    "                                               epochs=cfg.epochs, \n",
    "                                               steps_per_epoch=cfg.steps_per_epoch,\n",
    "                                               pct_start=cfg.pct_start, \n",
    "                                               div_factor=cfg.div_factor, \n",
    "                                               final_div_factor=cfg.final_div_factor)\n",
    "# scheduler_rlrop = optim.lr_scheduler.ReduceLROnPlateau(optimizer=optimizer,\n",
    "#                                                       patience=cfg.patience,\n",
    "#                                                       eps=cfg.eps,\n",
    "#                                                       verbose=True)\n",
    "\n",
    "# scheduler_oclr = None\n",
    "scheduler_rlrop = None\n",
    "\n",
    "L, A, LR, BLE, BAE, _, _ = fit(model=model, \n",
    "                               optimizer=optimizer, \n",
    "                               scheduler_oclr=scheduler_oclr,\n",
    "                               scheduler_rlrop=scheduler_rlrop,\n",
    "                               epochs=cfg.epochs, \n",
    "                               early_stopping_patience=None, \n",
    "                               dataloaders=dataloaders, \n",
    "                               device=cfg.device,\n",
    "                               save_path=cfg.save_path,\n",
    "                               fold=None,\n",
    "                               verbose=True)\n",
    "\n",
    "breaker()\n",
    "show_loss_graphs(L)\n",
    "breaker()\n",
    "show_accuracy_graphs(A)\n",
    "breaker()\n",
    "\n",
    "if scheduler_oclr:\n",
    "    show_lr_graph(LR)\n",
    "    breaker()"
   ]
  }
 ],
 "metadata": {
  "kernelspec": {
   "display_name": "Python 3",
   "language": "python",
   "name": "python3"
  },
  "language_info": {
   "codemirror_mode": {
    "name": "ipython",
    "version": 3
   },
   "file_extension": ".py",
   "mimetype": "text/x-python",
   "name": "python",
   "nbconvert_exporter": "python",
   "pygments_lexer": "ipython3",
   "version": "3.7.12"
  },
  "papermill": {
   "default_parameters": {},
   "duration": 13432.644873,
   "end_time": "2022-07-03T15:38:08.004645",
   "environment_variables": {},
   "exception": null,
   "input_path": "__notebook__.ipynb",
   "output_path": "__notebook__.ipynb",
   "parameters": {},
   "start_time": "2022-07-03T11:54:15.359772",
   "version": "2.3.4"
  },
  "widgets": {
   "application/vnd.jupyter.widget-state+json": {
    "state": {
     "098ecaa1e4c445fa84ec4489c6ad4401": {
      "model_module": "@jupyter-widgets/controls",
      "model_module_version": "1.5.0",
      "model_name": "DescriptionStyleModel",
      "state": {
       "_model_module": "@jupyter-widgets/controls",
       "_model_module_version": "1.5.0",
       "_model_name": "DescriptionStyleModel",
       "_view_count": null,
       "_view_module": "@jupyter-widgets/base",
       "_view_module_version": "1.2.0",
       "_view_name": "StyleView",
       "description_width": ""
      }
     },
     "266de3a938814f4abc084287b4f98686": {
      "model_module": "@jupyter-widgets/base",
      "model_module_version": "1.2.0",
      "model_name": "LayoutModel",
      "state": {
       "_model_module": "@jupyter-widgets/base",
       "_model_module_version": "1.2.0",
       "_model_name": "LayoutModel",
       "_view_count": null,
       "_view_module": "@jupyter-widgets/base",
       "_view_module_version": "1.2.0",
       "_view_name": "LayoutView",
       "align_content": null,
       "align_items": null,
       "align_self": null,
       "border": null,
       "bottom": null,
       "display": null,
       "flex": null,
       "flex_flow": null,
       "grid_area": null,
       "grid_auto_columns": null,
       "grid_auto_flow": null,
       "grid_auto_rows": null,
       "grid_column": null,
       "grid_gap": null,
       "grid_row": null,
       "grid_template_areas": null,
       "grid_template_columns": null,
       "grid_template_rows": null,
       "height": null,
       "justify_content": null,
       "justify_items": null,
       "left": null,
       "margin": null,
       "max_height": null,
       "max_width": null,
       "min_height": null,
       "min_width": null,
       "object_fit": null,
       "object_position": null,
       "order": null,
       "overflow": null,
       "overflow_x": null,
       "overflow_y": null,
       "padding": null,
       "right": null,
       "top": null,
       "visibility": null,
       "width": null
      }
     },
     "355ac6b8d85a498ba54bf2b8e81b57f9": {
      "model_module": "@jupyter-widgets/base",
      "model_module_version": "1.2.0",
      "model_name": "LayoutModel",
      "state": {
       "_model_module": "@jupyter-widgets/base",
       "_model_module_version": "1.2.0",
       "_model_name": "LayoutModel",
       "_view_count": null,
       "_view_module": "@jupyter-widgets/base",
       "_view_module_version": "1.2.0",
       "_view_name": "LayoutView",
       "align_content": null,
       "align_items": null,
       "align_self": null,
       "border": null,
       "bottom": null,
       "display": null,
       "flex": null,
       "flex_flow": null,
       "grid_area": null,
       "grid_auto_columns": null,
       "grid_auto_flow": null,
       "grid_auto_rows": null,
       "grid_column": null,
       "grid_gap": null,
       "grid_row": null,
       "grid_template_areas": null,
       "grid_template_columns": null,
       "grid_template_rows": null,
       "height": null,
       "justify_content": null,
       "justify_items": null,
       "left": null,
       "margin": null,
       "max_height": null,
       "max_width": null,
       "min_height": null,
       "min_width": null,
       "object_fit": null,
       "object_position": null,
       "order": null,
       "overflow": null,
       "overflow_x": null,
       "overflow_y": null,
       "padding": null,
       "right": null,
       "top": null,
       "visibility": null,
       "width": null
      }
     },
     "41909a0d817947089577900d1f3199f6": {
      "model_module": "@jupyter-widgets/base",
      "model_module_version": "1.2.0",
      "model_name": "LayoutModel",
      "state": {
       "_model_module": "@jupyter-widgets/base",
       "_model_module_version": "1.2.0",
       "_model_name": "LayoutModel",
       "_view_count": null,
       "_view_module": "@jupyter-widgets/base",
       "_view_module_version": "1.2.0",
       "_view_name": "LayoutView",
       "align_content": null,
       "align_items": null,
       "align_self": null,
       "border": null,
       "bottom": null,
       "display": null,
       "flex": null,
       "flex_flow": null,
       "grid_area": null,
       "grid_auto_columns": null,
       "grid_auto_flow": null,
       "grid_auto_rows": null,
       "grid_column": null,
       "grid_gap": null,
       "grid_row": null,
       "grid_template_areas": null,
       "grid_template_columns": null,
       "grid_template_rows": null,
       "height": null,
       "justify_content": null,
       "justify_items": null,
       "left": null,
       "margin": null,
       "max_height": null,
       "max_width": null,
       "min_height": null,
       "min_width": null,
       "object_fit": null,
       "object_position": null,
       "order": null,
       "overflow": null,
       "overflow_x": null,
       "overflow_y": null,
       "padding": null,
       "right": null,
       "top": null,
       "visibility": null,
       "width": null
      }
     },
     "74f3d6f81b6b4d5aa8b2a26f4f8e486a": {
      "model_module": "@jupyter-widgets/controls",
      "model_module_version": "1.5.0",
      "model_name": "HTMLModel",
      "state": {
       "_dom_classes": [],
       "_model_module": "@jupyter-widgets/controls",
       "_model_module_version": "1.5.0",
       "_model_name": "HTMLModel",
       "_view_count": null,
       "_view_module": "@jupyter-widgets/controls",
       "_view_module_version": "1.5.0",
       "_view_name": "HTMLView",
       "description": "",
       "description_tooltip": null,
       "layout": "IPY_MODEL_41909a0d817947089577900d1f3199f6",
       "placeholder": "​",
       "style": "IPY_MODEL_098ecaa1e4c445fa84ec4489c6ad4401",
       "value": " 54.7M/54.7M [00:06&lt;00:00, 12.4MB/s]"
      }
     },
     "849cd04eb89143b0a772ed54de204d62": {
      "model_module": "@jupyter-widgets/controls",
      "model_module_version": "1.5.0",
      "model_name": "HBoxModel",
      "state": {
       "_dom_classes": [],
       "_model_module": "@jupyter-widgets/controls",
       "_model_module_version": "1.5.0",
       "_model_name": "HBoxModel",
       "_view_count": null,
       "_view_module": "@jupyter-widgets/controls",
       "_view_module_version": "1.5.0",
       "_view_name": "HBoxView",
       "box_style": "",
       "children": [
        "IPY_MODEL_a25b9113da2e411d992c5f648cd44b17",
        "IPY_MODEL_95178334f3934f01a60e4dde07700eba",
        "IPY_MODEL_74f3d6f81b6b4d5aa8b2a26f4f8e486a"
       ],
       "layout": "IPY_MODEL_266de3a938814f4abc084287b4f98686"
      }
     },
     "95178334f3934f01a60e4dde07700eba": {
      "model_module": "@jupyter-widgets/controls",
      "model_module_version": "1.5.0",
      "model_name": "FloatProgressModel",
      "state": {
       "_dom_classes": [],
       "_model_module": "@jupyter-widgets/controls",
       "_model_module_version": "1.5.0",
       "_model_name": "FloatProgressModel",
       "_view_count": null,
       "_view_module": "@jupyter-widgets/controls",
       "_view_module_version": "1.5.0",
       "_view_name": "ProgressView",
       "bar_style": "success",
       "description": "",
       "description_tooltip": null,
       "layout": "IPY_MODEL_355ac6b8d85a498ba54bf2b8e81b57f9",
       "max": 57365526.0,
       "min": 0.0,
       "orientation": "horizontal",
       "style": "IPY_MODEL_bf09074384dd49e693176685d54fb1f6",
       "value": 57365526.0
      }
     },
     "a25b9113da2e411d992c5f648cd44b17": {
      "model_module": "@jupyter-widgets/controls",
      "model_module_version": "1.5.0",
      "model_name": "HTMLModel",
      "state": {
       "_dom_classes": [],
       "_model_module": "@jupyter-widgets/controls",
       "_model_module_version": "1.5.0",
       "_model_name": "HTMLModel",
       "_view_count": null,
       "_view_module": "@jupyter-widgets/controls",
       "_view_module_version": "1.5.0",
       "_view_name": "HTMLView",
       "description": "",
       "description_tooltip": null,
       "layout": "IPY_MODEL_ce32298d544d419f9f691144599eb207",
       "placeholder": "​",
       "style": "IPY_MODEL_f436192cea954c0bb0cfa7e5af8f0343",
       "value": "100%"
      }
     },
     "bf09074384dd49e693176685d54fb1f6": {
      "model_module": "@jupyter-widgets/controls",
      "model_module_version": "1.5.0",
      "model_name": "ProgressStyleModel",
      "state": {
       "_model_module": "@jupyter-widgets/controls",
       "_model_module_version": "1.5.0",
       "_model_name": "ProgressStyleModel",
       "_view_count": null,
       "_view_module": "@jupyter-widgets/base",
       "_view_module_version": "1.2.0",
       "_view_name": "StyleView",
       "bar_color": null,
       "description_width": ""
      }
     },
     "ce32298d544d419f9f691144599eb207": {
      "model_module": "@jupyter-widgets/base",
      "model_module_version": "1.2.0",
      "model_name": "LayoutModel",
      "state": {
       "_model_module": "@jupyter-widgets/base",
       "_model_module_version": "1.2.0",
       "_model_name": "LayoutModel",
       "_view_count": null,
       "_view_module": "@jupyter-widgets/base",
       "_view_module_version": "1.2.0",
       "_view_name": "LayoutView",
       "align_content": null,
       "align_items": null,
       "align_self": null,
       "border": null,
       "bottom": null,
       "display": null,
       "flex": null,
       "flex_flow": null,
       "grid_area": null,
       "grid_auto_columns": null,
       "grid_auto_flow": null,
       "grid_auto_rows": null,
       "grid_column": null,
       "grid_gap": null,
       "grid_row": null,
       "grid_template_areas": null,
       "grid_template_columns": null,
       "grid_template_rows": null,
       "height": null,
       "justify_content": null,
       "justify_items": null,
       "left": null,
       "margin": null,
       "max_height": null,
       "max_width": null,
       "min_height": null,
       "min_width": null,
       "object_fit": null,
       "object_position": null,
       "order": null,
       "overflow": null,
       "overflow_x": null,
       "overflow_y": null,
       "padding": null,
       "right": null,
       "top": null,
       "visibility": null,
       "width": null
      }
     },
     "f436192cea954c0bb0cfa7e5af8f0343": {
      "model_module": "@jupyter-widgets/controls",
      "model_module_version": "1.5.0",
      "model_name": "DescriptionStyleModel",
      "state": {
       "_model_module": "@jupyter-widgets/controls",
       "_model_module_version": "1.5.0",
       "_model_name": "DescriptionStyleModel",
       "_view_count": null,
       "_view_module": "@jupyter-widgets/base",
       "_view_module_version": "1.2.0",
       "_view_name": "StyleView",
       "description_width": ""
      }
     }
    },
    "version_major": 2,
    "version_minor": 0
   }
  }
 },
 "nbformat": 4,
 "nbformat_minor": 5
}
