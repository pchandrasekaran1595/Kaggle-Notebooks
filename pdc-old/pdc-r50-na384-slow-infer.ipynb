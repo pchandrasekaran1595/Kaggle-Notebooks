{
 "cells": [
  {
   "cell_type": "markdown",
   "id": "19a4d783",
   "metadata": {
    "papermill": {
     "duration": 0.004235,
     "end_time": "2022-06-15T04:54:53.668837",
     "exception": false,
     "start_time": "2022-06-15T04:54:53.664602",
     "status": "completed"
    },
    "tags": []
   },
   "source": [
    "### **Library Imports**"
   ]
  },
  {
   "cell_type": "code",
   "execution_count": 1,
   "id": "07179dcb",
   "metadata": {
    "execution": {
     "iopub.execute_input": "2022-06-15T04:54:53.679300Z",
     "iopub.status.busy": "2022-06-15T04:54:53.678741Z",
     "iopub.status.idle": "2022-06-15T04:54:56.793940Z",
     "shell.execute_reply": "2022-06-15T04:54:56.793060Z"
    },
    "papermill": {
     "duration": 3.122399,
     "end_time": "2022-06-15T04:54:56.796606",
     "exception": false,
     "start_time": "2022-06-15T04:54:53.674207",
     "status": "completed"
    },
    "tags": []
   },
   "outputs": [],
   "source": [
    "import os\n",
    "import re\n",
    "import cv2\n",
    "import torch\n",
    "import numpy as np\n",
    "import pandas as pd\n",
    "import matplotlib.pyplot as plt\n",
    "\n",
    "from time import time\n",
    "from torch import nn, optim\n",
    "from torch.utils.data import Dataset\n",
    "from torch.utils.data import DataLoader as DL\n",
    "from torchvision import models, transforms\n",
    "\n",
    "from sklearn.preprocessing import LabelEncoder"
   ]
  },
  {
   "cell_type": "markdown",
   "id": "eac30f9e",
   "metadata": {
    "papermill": {
     "duration": 0.00337,
     "end_time": "2022-06-15T04:54:56.803707",
     "exception": false,
     "start_time": "2022-06-15T04:54:56.800337",
     "status": "completed"
    },
    "tags": []
   },
   "source": [
    "### **Utilities and Helpers**"
   ]
  },
  {
   "cell_type": "code",
   "execution_count": 2,
   "id": "99509156",
   "metadata": {
    "execution": {
     "iopub.execute_input": "2022-06-15T04:54:56.812207Z",
     "iopub.status.busy": "2022-06-15T04:54:56.811464Z",
     "iopub.status.idle": "2022-06-15T04:54:56.876522Z",
     "shell.execute_reply": "2022-06-15T04:54:56.875646Z"
    },
    "papermill": {
     "duration": 0.071637,
     "end_time": "2022-06-15T04:54:56.878570",
     "exception": false,
     "start_time": "2022-06-15T04:54:56.806933",
     "status": "completed"
    },
    "tags": []
   },
   "outputs": [],
   "source": [
    "SEED = 42\n",
    "SIZE = 384\n",
    "TRANSFORM = transforms.Compose([transforms.ToTensor(),\n",
    "                                transforms.Normalize([0.485, 0.456, 0.406],\n",
    "                                                     [0.229, 0.224, 0.225]),\n",
    "                                ])\n",
    "MODEL_PATH = f\"../input/pdc-r50-na{SIZE}-slow/saves/state.pt\"\n",
    "DEVICE = torch.device(\"cuda\" if torch.cuda.is_available() else \"cpu\")\n",
    "\n",
    "le = LabelEncoder()\n",
    "\n",
    "\n",
    "def breaker(num: int=50, char: str=\"*\") -> None:\n",
    "    print(\"\\n\" + num*char + \"\\n\")\n",
    "\n",
    "\n",
    "def get_image(path: str, size: int=224) -> np.ndarray:\n",
    "    return cv2.resize(src=cv2.cvtColor(src=cv2.imread(path, cv2.IMREAD_COLOR), code=cv2.COLOR_BGR2RGB), dsize=(size, size), interpolation=cv2.INTER_AREA)"
   ]
  },
  {
   "cell_type": "markdown",
   "id": "c4265c7d",
   "metadata": {
    "papermill": {
     "duration": 0.003223,
     "end_time": "2022-06-15T04:54:56.885293",
     "exception": false,
     "start_time": "2022-06-15T04:54:56.882070",
     "status": "completed"
    },
    "tags": []
   },
   "source": [
    "### **Configuration**"
   ]
  },
  {
   "cell_type": "markdown",
   "id": "d4853189",
   "metadata": {
    "papermill": {
     "duration": 0.003118,
     "end_time": "2022-06-15T04:54:56.891854",
     "exception": false,
     "start_time": "2022-06-15T04:54:56.888736",
     "status": "completed"
    },
    "tags": []
   },
   "source": [
    "### **Dataset Template**"
   ]
  },
  {
   "cell_type": "code",
   "execution_count": 3,
   "id": "77b63b85",
   "metadata": {
    "execution": {
     "iopub.execute_input": "2022-06-15T04:54:56.900179Z",
     "iopub.status.busy": "2022-06-15T04:54:56.899886Z",
     "iopub.status.idle": "2022-06-15T04:54:56.907429Z",
     "shell.execute_reply": "2022-06-15T04:54:56.906658Z"
    },
    "papermill": {
     "duration": 0.01398,
     "end_time": "2022-06-15T04:54:56.909141",
     "exception": false,
     "start_time": "2022-06-15T04:54:56.895161",
     "status": "completed"
    },
    "tags": []
   },
   "outputs": [],
   "source": [
    "class DS(Dataset):\n",
    "    def __init__(self, base_path: str, filenames: np.ndarray, size: int=224, transform=None):\n",
    "        self.base_path = base_path\n",
    "        self.filenames = filenames\n",
    "        self.size = size\n",
    "        self.transform = transform\n",
    "    \n",
    "    def __len__(self):\n",
    "        return self.filenames.shape[0]\n",
    "    \n",
    "    def __getitem__(self, idx):\n",
    "        return self.transform(get_image(os.path.join(self.base_path, self.filenames[idx]), size=self.size))"
   ]
  },
  {
   "cell_type": "markdown",
   "id": "71162df0",
   "metadata": {
    "papermill": {
     "duration": 0.003235,
     "end_time": "2022-06-15T04:54:56.915851",
     "exception": false,
     "start_time": "2022-06-15T04:54:56.912616",
     "status": "completed"
    },
    "tags": []
   },
   "source": [
    "### **Model**"
   ]
  },
  {
   "cell_type": "code",
   "execution_count": 4,
   "id": "7d1e0e71",
   "metadata": {
    "execution": {
     "iopub.execute_input": "2022-06-15T04:54:56.923893Z",
     "iopub.status.busy": "2022-06-15T04:54:56.923388Z",
     "iopub.status.idle": "2022-06-15T04:54:56.929800Z",
     "shell.execute_reply": "2022-06-15T04:54:56.928990Z"
    },
    "papermill": {
     "duration": 0.012207,
     "end_time": "2022-06-15T04:54:56.931439",
     "exception": false,
     "start_time": "2022-06-15T04:54:56.919232",
     "status": "completed"
    },
    "tags": []
   },
   "outputs": [],
   "source": [
    "class Model(nn.Module):\n",
    "    def __init__(self):\n",
    "        super(Model, self).__init__()\n",
    "\n",
    "        self.model = models.resnet50(pretrained=False, progress=True)\n",
    "        self.freeze()\n",
    "        self.model.fc = nn.Linear(in_features=self.model.fc.in_features, out_features=10)\n",
    "    \n",
    "    def freeze(self):\n",
    "        for params in self.parameters(): params.requires_grad = False\n",
    "\n",
    "    def forward(self, x):\n",
    "        return nn.LogSoftmax(dim=1)(self.model(x))"
   ]
  },
  {
   "cell_type": "markdown",
   "id": "8c4c3784",
   "metadata": {
    "papermill": {
     "duration": 0.003218,
     "end_time": "2022-06-15T04:54:56.938092",
     "exception": false,
     "start_time": "2022-06-15T04:54:56.934874",
     "status": "completed"
    },
    "tags": []
   },
   "source": [
    "### **Predict Helpers**"
   ]
  },
  {
   "cell_type": "code",
   "execution_count": 5,
   "id": "ad15a5b6",
   "metadata": {
    "execution": {
     "iopub.execute_input": "2022-06-15T04:54:56.946113Z",
     "iopub.status.busy": "2022-06-15T04:54:56.945527Z",
     "iopub.status.idle": "2022-06-15T04:54:56.954091Z",
     "shell.execute_reply": "2022-06-15T04:54:56.953294Z"
    },
    "papermill": {
     "duration": 0.014424,
     "end_time": "2022-06-15T04:54:56.955983",
     "exception": false,
     "start_time": "2022-06-15T04:54:56.941559",
     "status": "completed"
    },
    "tags": []
   },
   "outputs": [],
   "source": [
    "def predict_batch(model=None, dataloader=None, path=None, device=None) -> np.ndarray:\n",
    "    model.load_state_dict(torch.load(path, map_location=device)[\"model_state_dict\"])\n",
    "    model.to(device)    \n",
    "    model.eval()\n",
    "    \n",
    "    y_pred = torch.zeros(1, 1).to(device)\n",
    "    \n",
    "    for X in dataloader:\n",
    "        X = X.to(device)\n",
    "        with torch.no_grad():\n",
    "            output = torch.argmax(torch.exp(model(X)), dim=1)\n",
    "        y_pred = torch.cat((y_pred, output.view(-1, 1)), dim=0)\n",
    "    \n",
    "    return y_pred[1:].detach().cpu().numpy()"
   ]
  },
  {
   "cell_type": "markdown",
   "id": "d8ea48ee",
   "metadata": {
    "papermill": {
     "duration": 0.00316,
     "end_time": "2022-06-15T04:54:56.962524",
     "exception": false,
     "start_time": "2022-06-15T04:54:56.959364",
     "status": "completed"
    },
    "tags": []
   },
   "source": [
    "### **Submission**"
   ]
  },
  {
   "cell_type": "code",
   "execution_count": 6,
   "id": "2396659f",
   "metadata": {
    "execution": {
     "iopub.execute_input": "2022-06-15T04:54:56.970084Z",
     "iopub.status.busy": "2022-06-15T04:54:56.969830Z",
     "iopub.status.idle": "2022-06-15T04:56:14.376068Z",
     "shell.execute_reply": "2022-06-15T04:56:14.375156Z"
    },
    "papermill": {
     "duration": 77.412724,
     "end_time": "2022-06-15T04:56:14.378354",
     "exception": false,
     "start_time": "2022-06-15T04:54:56.965630",
     "status": "completed"
    },
    "tags": []
   },
   "outputs": [],
   "source": [
    "df = pd.read_csv(\"../input/paddy-disease-classification/train.csv\")\n",
    "ss_df = pd.read_csv(\"../input/paddy-disease-classification/sample_submission.csv\")\n",
    "\n",
    "labels = df.label.copy().values\n",
    "labels = le.fit_transform(labels)\n",
    "\n",
    "ts_data_setup = DS(base_path=\"../input/paddy-disease-classification/test_images\", \n",
    "                   filenames=ss_df.image_id.copy().values,\n",
    "                   size=SIZE,\n",
    "                   transform=TRANSFORM)\n",
    "ts_data = DL(ts_data_setup, batch_size=64, shuffle=False)\n",
    "\n",
    "model = Model().to(DEVICE)\n",
    "\n",
    "y_pred = predict_batch(model=model, \n",
    "                       dataloader=ts_data, \n",
    "                       path=MODEL_PATH,\n",
    "                       device=DEVICE)\n",
    "\n",
    "ss_df[\"label\"] = le.inverse_transform(y_pred.astype(\"uint8\").reshape(-1))\n",
    "ss_df.to_csv(\"submission.csv\", index=False)"
   ]
  }
 ],
 "metadata": {
  "kernelspec": {
   "display_name": "Python 3",
   "language": "python",
   "name": "python3"
  },
  "language_info": {
   "codemirror_mode": {
    "name": "ipython",
    "version": 3
   },
   "file_extension": ".py",
   "mimetype": "text/x-python",
   "name": "python",
   "nbconvert_exporter": "python",
   "pygments_lexer": "ipython3",
   "version": "3.7.12"
  },
  "papermill": {
   "default_parameters": {},
   "duration": 91.375691,
   "end_time": "2022-06-15T04:56:16.775351",
   "environment_variables": {},
   "exception": null,
   "input_path": "__notebook__.ipynb",
   "output_path": "__notebook__.ipynb",
   "parameters": {},
   "start_time": "2022-06-15T04:54:45.399660",
   "version": "2.3.4"
  }
 },
 "nbformat": 4,
 "nbformat_minor": 5
}
