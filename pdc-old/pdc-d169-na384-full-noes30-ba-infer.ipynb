{
 "cells": [
  {
   "cell_type": "markdown",
   "id": "7b21d234",
   "metadata": {
    "papermill": {
     "duration": 0.004688,
     "end_time": "2022-06-17T15:06:05.326091",
     "exception": false,
     "start_time": "2022-06-17T15:06:05.321403",
     "status": "completed"
    },
    "tags": []
   },
   "source": [
    "### **Library Imports**"
   ]
  },
  {
   "cell_type": "code",
   "execution_count": 1,
   "id": "5228982e",
   "metadata": {
    "execution": {
     "iopub.execute_input": "2022-06-17T15:06:05.337081Z",
     "iopub.status.busy": "2022-06-17T15:06:05.336554Z",
     "iopub.status.idle": "2022-06-17T15:06:08.351078Z",
     "shell.execute_reply": "2022-06-17T15:06:08.350256Z"
    },
    "papermill": {
     "duration": 3.021582,
     "end_time": "2022-06-17T15:06:08.353628",
     "exception": false,
     "start_time": "2022-06-17T15:06:05.332046",
     "status": "completed"
    },
    "tags": []
   },
   "outputs": [],
   "source": [
    "import os\n",
    "import re\n",
    "import cv2\n",
    "import torch\n",
    "import numpy as np\n",
    "import pandas as pd\n",
    "import matplotlib.pyplot as plt\n",
    "\n",
    "from time import time\n",
    "from torch import nn, optim\n",
    "from torch.utils.data import Dataset\n",
    "from torch.utils.data import DataLoader as DL\n",
    "from torchvision import models, transforms\n",
    "\n",
    "from sklearn.preprocessing import LabelEncoder"
   ]
  },
  {
   "cell_type": "markdown",
   "id": "bb32741a",
   "metadata": {
    "papermill": {
     "duration": 0.003393,
     "end_time": "2022-06-17T15:06:08.360440",
     "exception": false,
     "start_time": "2022-06-17T15:06:08.357047",
     "status": "completed"
    },
    "tags": []
   },
   "source": [
    "### **Utilities and Helpers**"
   ]
  },
  {
   "cell_type": "code",
   "execution_count": 2,
   "id": "d3da2fc6",
   "metadata": {
    "execution": {
     "iopub.execute_input": "2022-06-17T15:06:08.368580Z",
     "iopub.status.busy": "2022-06-17T15:06:08.368074Z",
     "iopub.status.idle": "2022-06-17T15:06:08.427757Z",
     "shell.execute_reply": "2022-06-17T15:06:08.426844Z"
    },
    "papermill": {
     "duration": 0.065948,
     "end_time": "2022-06-17T15:06:08.429605",
     "exception": false,
     "start_time": "2022-06-17T15:06:08.363657",
     "status": "completed"
    },
    "tags": []
   },
   "outputs": [],
   "source": [
    "SEED = 42\n",
    "SIZE = 384\n",
    "TRANSFORM = transforms.Compose([transforms.ToTensor(),\n",
    "                                transforms.Normalize([0.49699, 0.58823, 0.23049],\n",
    "                                                     [0.22591, 0.22614, 0.18264]),\n",
    "                                ])\n",
    "MODEL_PATH = f\"../input/pdc-d169-na{SIZE}-full-noes30/saves/bae_state.pt\"\n",
    "DEVICE = torch.device(\"cuda\" if torch.cuda.is_available() else \"cpu\")\n",
    "\n",
    "le = LabelEncoder()\n",
    "\n",
    "\n",
    "def breaker(num: int=50, char: str=\"*\") -> None:\n",
    "    print(\"\\n\" + num*char + \"\\n\")\n",
    "\n",
    "\n",
    "def get_image(path: str, size: int=224) -> np.ndarray:\n",
    "    return cv2.resize(src=cv2.cvtColor(src=cv2.imread(path, cv2.IMREAD_COLOR), code=cv2.COLOR_BGR2RGB), dsize=(size, size), interpolation=cv2.INTER_AREA)"
   ]
  },
  {
   "cell_type": "markdown",
   "id": "f266ac72",
   "metadata": {
    "papermill": {
     "duration": 0.003058,
     "end_time": "2022-06-17T15:06:08.435964",
     "exception": false,
     "start_time": "2022-06-17T15:06:08.432906",
     "status": "completed"
    },
    "tags": []
   },
   "source": [
    "### **Configuration**"
   ]
  },
  {
   "cell_type": "markdown",
   "id": "bc458563",
   "metadata": {
    "papermill": {
     "duration": 0.00294,
     "end_time": "2022-06-17T15:06:08.442199",
     "exception": false,
     "start_time": "2022-06-17T15:06:08.439259",
     "status": "completed"
    },
    "tags": []
   },
   "source": [
    "### **Dataset Template**"
   ]
  },
  {
   "cell_type": "code",
   "execution_count": 3,
   "id": "59522582",
   "metadata": {
    "execution": {
     "iopub.execute_input": "2022-06-17T15:06:08.450143Z",
     "iopub.status.busy": "2022-06-17T15:06:08.449767Z",
     "iopub.status.idle": "2022-06-17T15:06:08.456342Z",
     "shell.execute_reply": "2022-06-17T15:06:08.455288Z"
    },
    "papermill": {
     "duration": 0.013205,
     "end_time": "2022-06-17T15:06:08.458485",
     "exception": false,
     "start_time": "2022-06-17T15:06:08.445280",
     "status": "completed"
    },
    "tags": []
   },
   "outputs": [],
   "source": [
    "class DS(Dataset):\n",
    "    def __init__(self, base_path: str, filenames: np.ndarray, size: int=224, transform=None):\n",
    "        self.base_path = base_path\n",
    "        self.filenames = filenames\n",
    "        self.size = size\n",
    "        self.transform = transform\n",
    "    \n",
    "    def __len__(self):\n",
    "        return self.filenames.shape[0]\n",
    "    \n",
    "    def __getitem__(self, idx):\n",
    "        return self.transform(get_image(os.path.join(self.base_path, self.filenames[idx]), size=self.size))"
   ]
  },
  {
   "cell_type": "markdown",
   "id": "b85276d7",
   "metadata": {
    "papermill": {
     "duration": 0.002995,
     "end_time": "2022-06-17T15:06:08.464818",
     "exception": false,
     "start_time": "2022-06-17T15:06:08.461823",
     "status": "completed"
    },
    "tags": []
   },
   "source": [
    "### **Model**"
   ]
  },
  {
   "cell_type": "code",
   "execution_count": 4,
   "id": "eece7cf5",
   "metadata": {
    "execution": {
     "iopub.execute_input": "2022-06-17T15:06:08.472597Z",
     "iopub.status.busy": "2022-06-17T15:06:08.472060Z",
     "iopub.status.idle": "2022-06-17T15:06:08.478415Z",
     "shell.execute_reply": "2022-06-17T15:06:08.477647Z"
    },
    "papermill": {
     "duration": 0.012148,
     "end_time": "2022-06-17T15:06:08.480068",
     "exception": false,
     "start_time": "2022-06-17T15:06:08.467920",
     "status": "completed"
    },
    "tags": []
   },
   "outputs": [],
   "source": [
    "class Model(nn.Module):\n",
    "    def __init__(self):\n",
    "        super(Model, self).__init__()\n",
    "\n",
    "        self.model = models.densenet169(pretrained=False, progress=True)\n",
    "        # self.freeze()\n",
    "        self.model.classifier = nn.Linear(in_features=self.model.classifier.in_features, out_features=10)\n",
    "    \n",
    "    def freeze(self):\n",
    "        for params in self.parameters(): params.requires_grad = False\n",
    "\n",
    "    def forward(self, x):\n",
    "        return nn.LogSoftmax(dim=1)(self.model(x))"
   ]
  },
  {
   "cell_type": "markdown",
   "id": "4b9195ee",
   "metadata": {
    "papermill": {
     "duration": 0.003056,
     "end_time": "2022-06-17T15:06:08.486403",
     "exception": false,
     "start_time": "2022-06-17T15:06:08.483347",
     "status": "completed"
    },
    "tags": []
   },
   "source": [
    "### **Predict Helpers**"
   ]
  },
  {
   "cell_type": "code",
   "execution_count": 5,
   "id": "17357d7e",
   "metadata": {
    "execution": {
     "iopub.execute_input": "2022-06-17T15:06:08.494173Z",
     "iopub.status.busy": "2022-06-17T15:06:08.493811Z",
     "iopub.status.idle": "2022-06-17T15:06:08.500885Z",
     "shell.execute_reply": "2022-06-17T15:06:08.500096Z"
    },
    "papermill": {
     "duration": 0.012978,
     "end_time": "2022-06-17T15:06:08.502621",
     "exception": false,
     "start_time": "2022-06-17T15:06:08.489643",
     "status": "completed"
    },
    "tags": []
   },
   "outputs": [],
   "source": [
    "def predict_batch(model=None, dataloader=None, path=None, device=None) -> np.ndarray:\n",
    "    model.load_state_dict(torch.load(path, map_location=device)[\"model_state_dict\"])\n",
    "    model.to(device)    \n",
    "    model.eval()\n",
    "    \n",
    "    y_pred = torch.zeros(1, 1).to(device)\n",
    "    \n",
    "    for X in dataloader:\n",
    "        X = X.to(device)\n",
    "        with torch.no_grad():\n",
    "            output = torch.argmax(torch.exp(model(X)), dim=1)\n",
    "        y_pred = torch.cat((y_pred, output.view(-1, 1)), dim=0)\n",
    "    \n",
    "    return y_pred[1:].detach().cpu().numpy()"
   ]
  },
  {
   "cell_type": "markdown",
   "id": "6be0aa65",
   "metadata": {
    "papermill": {
     "duration": 0.003531,
     "end_time": "2022-06-17T15:06:08.509725",
     "exception": false,
     "start_time": "2022-06-17T15:06:08.506194",
     "status": "completed"
    },
    "tags": []
   },
   "source": [
    "### **Submission**"
   ]
  },
  {
   "cell_type": "code",
   "execution_count": 6,
   "id": "562064e5",
   "metadata": {
    "execution": {
     "iopub.execute_input": "2022-06-17T15:06:08.517986Z",
     "iopub.status.busy": "2022-06-17T15:06:08.517622Z",
     "iopub.status.idle": "2022-06-17T15:07:29.515299Z",
     "shell.execute_reply": "2022-06-17T15:07:29.514440Z"
    },
    "papermill": {
     "duration": 81.004303,
     "end_time": "2022-06-17T15:07:29.517476",
     "exception": false,
     "start_time": "2022-06-17T15:06:08.513173",
     "status": "completed"
    },
    "tags": []
   },
   "outputs": [],
   "source": [
    "df = pd.read_csv(\"../input/paddy-disease-classification/train.csv\")\n",
    "ss_df = pd.read_csv(\"../input/paddy-disease-classification/sample_submission.csv\")\n",
    "\n",
    "labels = df.label.copy().values\n",
    "labels = le.fit_transform(labels)\n",
    "\n",
    "ts_data_setup = DS(base_path=\"../input/paddy-disease-classification/test_images\", \n",
    "                   filenames=ss_df.image_id.copy().values,\n",
    "                   size=SIZE,\n",
    "                   transform=TRANSFORM)\n",
    "ts_data = DL(ts_data_setup, batch_size=64, shuffle=False)\n",
    "\n",
    "model = Model().to(DEVICE)\n",
    "\n",
    "y_pred = predict_batch(model=model, \n",
    "                       dataloader=ts_data, \n",
    "                       path=MODEL_PATH,\n",
    "                       device=DEVICE)\n",
    "\n",
    "ss_df[\"label\"] = le.inverse_transform(y_pred.astype(\"uint8\").reshape(-1))\n",
    "ss_df.to_csv(\"submission.csv\", index=False)"
   ]
  }
 ],
 "metadata": {
  "kernelspec": {
   "display_name": "Python 3",
   "language": "python",
   "name": "python3"
  },
  "language_info": {
   "codemirror_mode": {
    "name": "ipython",
    "version": 3
   },
   "file_extension": ".py",
   "mimetype": "text/x-python",
   "name": "python",
   "nbconvert_exporter": "python",
   "pygments_lexer": "ipython3",
   "version": "3.7.12"
  },
  "papermill": {
   "default_parameters": {},
   "duration": 93.916102,
   "end_time": "2022-06-17T15:07:31.043912",
   "environment_variables": {},
   "exception": null,
   "input_path": "__notebook__.ipynb",
   "output_path": "__notebook__.ipynb",
   "parameters": {},
   "start_time": "2022-06-17T15:05:57.127810",
   "version": "2.3.4"
  }
 },
 "nbformat": 4,
 "nbformat_minor": 5
}
