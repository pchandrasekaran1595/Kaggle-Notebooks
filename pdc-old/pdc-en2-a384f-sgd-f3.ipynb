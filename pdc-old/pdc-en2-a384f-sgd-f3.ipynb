{
 "cells": [
  {
   "cell_type": "markdown",
   "id": "f30492bb",
   "metadata": {
    "_cell_guid": "b1076dfc-b9ad-4769-8c92-a6c4dae69d19",
    "_uuid": "8f2839f25d086af736a60e9eeb907d3b93b6e0e5",
    "papermill": {
     "duration": 0.008853,
     "end_time": "2022-07-07T12:08:40.750147",
     "exception": false,
     "start_time": "2022-07-07T12:08:40.741294",
     "status": "completed"
    },
    "tags": []
   },
   "source": [
    "### **Setup**"
   ]
  },
  {
   "cell_type": "code",
   "execution_count": 1,
   "id": "d4049dd0",
   "metadata": {
    "execution": {
     "iopub.execute_input": "2022-07-07T12:08:40.766777Z",
     "iopub.status.busy": "2022-07-07T12:08:40.766290Z",
     "iopub.status.idle": "2022-07-07T12:08:51.236080Z",
     "shell.execute_reply": "2022-07-07T12:08:51.235144Z"
    },
    "papermill": {
     "duration": 10.479409,
     "end_time": "2022-07-07T12:08:51.238081",
     "exception": false,
     "start_time": "2022-07-07T12:08:40.758672",
     "status": "completed"
    },
    "tags": []
   },
   "outputs": [
    {
     "name": "stderr",
     "output_type": "stream",
     "text": [
      "WARNING: Running pip as the 'root' user can result in broken permissions and conflicting behaviour with the system package manager. It is recommended to use a virtual environment instead: https://pip.pypa.io/warnings/venv\n"
     ]
    }
   ],
   "source": [
    "%%bash\n",
    "pip install timm -q"
   ]
  },
  {
   "cell_type": "markdown",
   "id": "4d70d292",
   "metadata": {
    "papermill": {
     "duration": 0.003953,
     "end_time": "2022-07-07T12:08:51.246360",
     "exception": false,
     "start_time": "2022-07-07T12:08:51.242407",
     "status": "completed"
    },
    "tags": []
   },
   "source": [
    "### **Library Imports**"
   ]
  },
  {
   "cell_type": "code",
   "execution_count": 2,
   "id": "38718e3f",
   "metadata": {
    "execution": {
     "iopub.execute_input": "2022-07-07T12:08:51.255759Z",
     "iopub.status.busy": "2022-07-07T12:08:51.255449Z",
     "iopub.status.idle": "2022-07-07T12:08:58.812339Z",
     "shell.execute_reply": "2022-07-07T12:08:58.811286Z"
    },
    "papermill": {
     "duration": 7.56417,
     "end_time": "2022-07-07T12:08:58.814552",
     "exception": false,
     "start_time": "2022-07-07T12:08:51.250382",
     "status": "completed"
    },
    "tags": []
   },
   "outputs": [],
   "source": [
    "import os\n",
    "import re\n",
    "import cv2\n",
    "import timm\n",
    "import torch\n",
    "import numpy as np\n",
    "import pandas as pd\n",
    "import matplotlib.pyplot as plt\n",
    "\n",
    "from time import time\n",
    "from torch import nn, optim\n",
    "from torch.utils.data import Dataset\n",
    "from torch.utils.data import DataLoader as DL\n",
    "from torchvision import transforms\n",
    "\n",
    "from sklearn.model_selection import StratifiedKFold\n",
    "from sklearn.preprocessing import LabelEncoder\n",
    "from sklearn.metrics import accuracy_score"
   ]
  },
  {
   "cell_type": "markdown",
   "id": "59191573",
   "metadata": {
    "papermill": {
     "duration": 0.003995,
     "end_time": "2022-07-07T12:08:58.823163",
     "exception": false,
     "start_time": "2022-07-07T12:08:58.819168",
     "status": "completed"
    },
    "tags": []
   },
   "source": [
    "### **Utilities and Helpers**"
   ]
  },
  {
   "cell_type": "code",
   "execution_count": 3,
   "id": "051336c5",
   "metadata": {
    "execution": {
     "iopub.execute_input": "2022-07-07T12:08:58.833732Z",
     "iopub.status.busy": "2022-07-07T12:08:58.832756Z",
     "iopub.status.idle": "2022-07-07T12:08:58.848343Z",
     "shell.execute_reply": "2022-07-07T12:08:58.847647Z"
    },
    "papermill": {
     "duration": 0.022642,
     "end_time": "2022-07-07T12:08:58.850217",
     "exception": false,
     "start_time": "2022-07-07T12:08:58.827575",
     "status": "completed"
    },
    "tags": []
   },
   "outputs": [],
   "source": [
    "SEED = 42\n",
    "SIZE = 384\n",
    "le = LabelEncoder()\n",
    "\n",
    "\n",
    "def breaker(num: int=50, char: str=\"*\") -> None:\n",
    "    print(\"\\n\" + num*char + \"\\n\")\n",
    "\n",
    "    \n",
    "def get_image(path: str, size: int=224) -> np.ndarray:\n",
    "    return cv2.resize(\n",
    "        src=cv2.cvtColor(src=cv2.imread(path, cv2.IMREAD_COLOR), code=cv2.COLOR_BGR2RGB), \n",
    "        dsize=(size, size), \n",
    "        interpolation=cv2.INTER_AREA\n",
    "    )\n",
    "\n",
    "    \n",
    "def show_loss_graphs(L: list) -> None:\n",
    "    TL, VL = [], []\n",
    "    for i in range(len(L)):\n",
    "        TL.append(L[i][\"train\"])\n",
    "        VL.append(L[i][\"valid\"])\n",
    "    x_Axis = np.arange(1, len(TL) + 1)\n",
    "    plt.figure()\n",
    "    plt.plot(x_Axis, TL, \"r\", label=\"Train\")\n",
    "    plt.plot(x_Axis, VL, \"b\", label=\"Valid\")\n",
    "    plt.legend()\n",
    "    plt.grid()\n",
    "    plt.title(\"Loss Graph\")\n",
    "    plt.show()\n",
    "\n",
    "    \n",
    "def show_accuracy_graphs(A: list) -> None:\n",
    "    TA, VA = [], []\n",
    "    for i in range(len(A)):\n",
    "        TA.append(A[i][\"train\"])\n",
    "        VA.append(A[i][\"valid\"])\n",
    "    x_Axis = np.arange(1, len(TA) + 1)\n",
    "    plt.figure()\n",
    "    plt.plot(x_Axis, TA, \"r\", label=\"Train\")\n",
    "    plt.plot(x_Axis, VA, \"b\", label=\"Valid\")\n",
    "    plt.legend()\n",
    "    plt.grid()\n",
    "    plt.title(\"Accuracy Graph\")\n",
    "    plt.show()\n",
    "\n",
    "\n",
    "def show_lr_graph(LR: list) -> None:\n",
    "    x_Axis = [i+1 for i in range(len(LR))]\n",
    "    plt.figure(figsize=(8, 6))\n",
    "    plt.plot(x_Axis, LR, \"rx\")\n",
    "    plt.grid()\n",
    "    plt.show()"
   ]
  },
  {
   "cell_type": "markdown",
   "id": "389e8345",
   "metadata": {
    "papermill": {
     "duration": 0.004069,
     "end_time": "2022-07-07T12:08:58.858302",
     "exception": false,
     "start_time": "2022-07-07T12:08:58.854233",
     "status": "completed"
    },
    "tags": []
   },
   "source": [
    "### **Configuration**"
   ]
  },
  {
   "cell_type": "code",
   "execution_count": 4,
   "id": "901b9216",
   "metadata": {
    "execution": {
     "iopub.execute_input": "2022-07-07T12:08:58.868324Z",
     "iopub.status.busy": "2022-07-07T12:08:58.868053Z",
     "iopub.status.idle": "2022-07-07T12:08:58.937985Z",
     "shell.execute_reply": "2022-07-07T12:08:58.936961Z"
    },
    "papermill": {
     "duration": 0.076972,
     "end_time": "2022-07-07T12:08:58.939633",
     "exception": false,
     "start_time": "2022-07-07T12:08:58.862661",
     "status": "completed"
    },
    "tags": []
   },
   "outputs": [],
   "source": [
    "class CFG(object):\n",
    "    def __init__(self, \n",
    "                 seed: int = 42,\n",
    "                 n_splits: int = 5,\n",
    "                 batch_size: int = 16,\n",
    "                 epochs: int = 25,\n",
    "                 early_stopping: int = 5,\n",
    "                 lr: float = 1e-4,\n",
    "                 wd: float = 0.0,\n",
    "                 max_lr: float = 1e-3,\n",
    "                 pct_start: float = 0.2,\n",
    "                 steps_per_epoch: int = 100,\n",
    "                 div_factor: int = 1e3, \n",
    "                 final_div_factor: float = 1e3,\n",
    "                 ):\n",
    "        \n",
    "        self.seed = seed\n",
    "        self.n_splits = n_splits\n",
    "        self.batch_size = batch_size\n",
    "        self.epochs = epochs\n",
    "        self.early_stopping = early_stopping\n",
    "        self.lr = lr\n",
    "        self.wd = wd\n",
    "        self.max_lr = max_lr\n",
    "        self.pct_start = pct_start\n",
    "        self.steps_per_epoch = steps_per_epoch\n",
    "        self.div_factor = div_factor\n",
    "        self.final_div_factor = final_div_factor\n",
    "        self.device = torch.device(\"cuda\" if torch.cuda.is_available() else \"cpu\")\n",
    "        self.train_transform = transforms.Compose([transforms.ToTensor(),\n",
    "                                                   transforms.Normalize([0.49699, 0.58823, 0.23049],\n",
    "                                                                        [0.22591, 0.22614, 0.18264]),\n",
    "                                                   transforms.RandomAffine(degrees=(-45, 45), translate=(0.15, 0.15), scale=(0.5, 1.5)),\n",
    "                                                   transforms.RandomHorizontalFlip(p=0.25),\n",
    "                                                   transforms.RandomVerticalFlip(p=0.25),\n",
    "                                                  ])\n",
    "        self.valid_transform = transforms.Compose([transforms.ToTensor(),\n",
    "                                                   transforms.Normalize([0.49699, 0.58823, 0.23049],\n",
    "                                                                        [0.22591, 0.22614, 0.18264]),\n",
    "                                                  ])\n",
    "        self.save_path = \"saves\"\n",
    "        if not os.path.exists(self.save_path): os.makedirs(self.save_path)\n",
    "    \n",
    "cfg = CFG(seed=SEED)"
   ]
  },
  {
   "cell_type": "markdown",
   "id": "70334fe6",
   "metadata": {
    "papermill": {
     "duration": 0.004224,
     "end_time": "2022-07-07T12:08:58.948419",
     "exception": false,
     "start_time": "2022-07-07T12:08:58.944195",
     "status": "completed"
    },
    "tags": []
   },
   "source": [
    "### **Dataset Template**"
   ]
  },
  {
   "cell_type": "code",
   "execution_count": 5,
   "id": "d99dcc62",
   "metadata": {
    "execution": {
     "iopub.execute_input": "2022-07-07T12:08:58.958028Z",
     "iopub.status.busy": "2022-07-07T12:08:58.957312Z",
     "iopub.status.idle": "2022-07-07T12:08:58.966475Z",
     "shell.execute_reply": "2022-07-07T12:08:58.965798Z"
    },
    "papermill": {
     "duration": 0.01575,
     "end_time": "2022-07-07T12:08:58.968216",
     "exception": false,
     "start_time": "2022-07-07T12:08:58.952466",
     "status": "completed"
    },
    "tags": []
   },
   "outputs": [],
   "source": [
    "class DS(Dataset):\n",
    "    def __init__(self, \n",
    "                 base_path: str,\n",
    "                 size: int,\n",
    "                 filenames: np.ndarray, \n",
    "                 labelnames: np.ndarray, \n",
    "                 labels: np.ndarray, \n",
    "                 transform):\n",
    "        \n",
    "        self.base_path = base_path\n",
    "        self.size = size\n",
    "        self.filenames = filenames\n",
    "        self.labelnames = labelnames\n",
    "        self.labels = labels\n",
    "        self.transform = transform\n",
    "        \n",
    "    def __len__(self):\n",
    "        return self.filenames.shape[0]\n",
    "    \n",
    "    def __getitem__(self, idx):\n",
    "        image_path = os.path.join(os.path.join(self.base_path, self.labelnames[idx]), self.filenames[idx])\n",
    "        image = get_image(image_path, self.size)\n",
    "        return self.transform(image), torch.LongTensor(self.labels[idx])"
   ]
  },
  {
   "cell_type": "markdown",
   "id": "da5426e6",
   "metadata": {
    "papermill": {
     "duration": 0.003848,
     "end_time": "2022-07-07T12:08:58.976066",
     "exception": false,
     "start_time": "2022-07-07T12:08:58.972218",
     "status": "completed"
    },
    "tags": []
   },
   "source": [
    "### **Model**"
   ]
  },
  {
   "cell_type": "code",
   "execution_count": 6,
   "id": "5d18e7e9",
   "metadata": {
    "execution": {
     "iopub.execute_input": "2022-07-07T12:08:58.985230Z",
     "iopub.status.busy": "2022-07-07T12:08:58.984957Z",
     "iopub.status.idle": "2022-07-07T12:08:58.990767Z",
     "shell.execute_reply": "2022-07-07T12:08:58.990078Z"
    },
    "papermill": {
     "duration": 0.012283,
     "end_time": "2022-07-07T12:08:58.992434",
     "exception": false,
     "start_time": "2022-07-07T12:08:58.980151",
     "status": "completed"
    },
    "tags": []
   },
   "outputs": [],
   "source": [
    "class Model(nn.Module):\n",
    "    def __init__(self):\n",
    "        super(Model, self).__init__()\n",
    "\n",
    "        self.model = timm.create_model(model_name=\"efficientnet_b2\", pretrained=True)\n",
    "        # self.freeze()\n",
    "        self.model.classifier = nn.Linear(in_features=self.model.classifier.in_features, out_features=10)\n",
    "    \n",
    "    def freeze(self):\n",
    "        for params in self.parameters(): params.requires_grad = False\n",
    "\n",
    "    def forward(self, x):\n",
    "        return nn.LogSoftmax(dim=1)(self.model(x))"
   ]
  },
  {
   "cell_type": "markdown",
   "id": "bf08bf8d",
   "metadata": {
    "papermill": {
     "duration": 0.003912,
     "end_time": "2022-07-07T12:08:59.000477",
     "exception": false,
     "start_time": "2022-07-07T12:08:58.996565",
     "status": "completed"
    },
    "tags": []
   },
   "source": [
    "### **Fit and Predict Helpers**"
   ]
  },
  {
   "cell_type": "code",
   "execution_count": 7,
   "id": "0f61a205",
   "metadata": {
    "execution": {
     "iopub.execute_input": "2022-07-07T12:08:59.010041Z",
     "iopub.status.busy": "2022-07-07T12:08:59.009763Z",
     "iopub.status.idle": "2022-07-07T12:08:59.034305Z",
     "shell.execute_reply": "2022-07-07T12:08:59.033594Z"
    },
    "papermill": {
     "duration": 0.031548,
     "end_time": "2022-07-07T12:08:59.036057",
     "exception": false,
     "start_time": "2022-07-07T12:08:59.004509",
     "status": "completed"
    },
    "tags": []
   },
   "outputs": [],
   "source": [
    "def fit(model=None, \n",
    "        optimizer=None, \n",
    "        scheduler_rlrop=None,\n",
    "        scheduler_oclr=None,\n",
    "        epochs=None, \n",
    "        early_stopping_patience=None, \n",
    "        dataloaders=None, \n",
    "        fold=None, \n",
    "        save_path=None,\n",
    "        device=None,\n",
    "        verbose=False) -> tuple:\n",
    "    \n",
    "    def get_accuracy(y_pred, y_true):\n",
    "        y_pred = torch.argmax(y_pred, dim=1)\n",
    "        return torch.count_nonzero(y_pred == y_true).item() / len(y_pred)\n",
    "    \n",
    "    if verbose:\n",
    "        breaker()\n",
    "        if fold: print(f\"Training Fold {fold}...\")\n",
    "        else: print(\"Training ...\")\n",
    "        breaker()\n",
    "        \n",
    "    bestLoss, bestAccs = {\"train\" : np.inf, \"valid\" : np.inf}, {\"train\" : 0.0, \"valid\" : 0.0}\n",
    "    Losses, Accuracies, LRs = [], [], []\n",
    "    if fold: \n",
    "        ble_name = f\"ble_state_fold_{fold}.pt\"\n",
    "        bae_name = f\"bae_state_fold_{fold}.pt\"\n",
    "    else: \n",
    "        ble_name = \"ble_state.pt\"\n",
    "        bae_name = \"bae_state.pt\"\n",
    "\n",
    "    start_time = time()\n",
    "    for e in range(epochs):\n",
    "        e_st = time()\n",
    "        epochLoss, epochAccs = {\"train\" : 0.0, \"valid\" : 0.0}, {\"train\" : 0.0, \"valid\" : 0.0}\n",
    "\n",
    "        for phase in [\"train\", \"valid\"]:\n",
    "            if phase == \"train\":\n",
    "                model.train()\n",
    "            else:\n",
    "                model.eval()\n",
    "            \n",
    "            lossPerPass, accsPerPass = [], []\n",
    "\n",
    "            for X, y in dataloaders[phase]:\n",
    "                X, y = X.to(device), y.to(device).view(-1)\n",
    "\n",
    "                optimizer.zero_grad()\n",
    "                with torch.set_grad_enabled(phase == \"train\"):\n",
    "                    output = model(X)\n",
    "                    loss = torch.nn.NLLLoss()(output, y)\n",
    "                    if phase == \"train\":\n",
    "                        loss.backward()\n",
    "                        optimizer.step()\n",
    "                        if scheduler_oclr: scheduler_oclr.step()\n",
    "                lossPerPass.append(loss.item())\n",
    "                accsPerPass.append(get_accuracy(output, y))\n",
    "            epochLoss[phase] = np.mean(np.array(lossPerPass))\n",
    "            epochAccs[phase] = np.mean(np.array(accsPerPass))\n",
    "        if scheduler_oclr: LRs.append(scheduler_oclr.get_last_lr())\n",
    "        Losses.append(epochLoss)\n",
    "        Accuracies.append(epochAccs)\n",
    "        \n",
    "        if scheduler_oclr:\n",
    "            save_dict = {\"model_state_dict\"     : model.state_dict(),\n",
    "                         \"optim_state_dict\"     : optimizer.state_dict(),\n",
    "                         \"scheduler_state_dict\" : scheduler_oclr.state_dict()}\n",
    "        \n",
    "        elif scheduler_rlrop:\n",
    "            save_dict = {\"model_state_dict\"     : model.state_dict(),\n",
    "                         \"optim_state_dict\"     : optimizer.state_dict(),\n",
    "                         \"scheduler_state_dict\" : scheduler_rlrop.state_dict()}\n",
    "        \n",
    "        else:\n",
    "            save_dict = {\"model_state_dict\"     : model.state_dict(),\n",
    "                         \"optim_state_dict\"     : optimizer.state_dict()}\n",
    "        \n",
    "        if early_stopping_patience:\n",
    "            if epochLoss[\"valid\"] < bestLoss[\"valid\"]:\n",
    "                bestLoss = epochLoss\n",
    "                BLE = e + 1\n",
    "                torch.save(save_dict, os.path.join(save_path, name))\n",
    "                early_stopping_step = 0\n",
    "            else:\n",
    "                early_stopping_step += 1\n",
    "                if early_stopping_step > early_stopping_patience:\n",
    "                    print(\"\\nEarly Stopping at Epoch {}\".format(e + 1))\n",
    "                    break\n",
    "        \n",
    "        if epochLoss[\"valid\"] < bestLoss[\"valid\"]:\n",
    "            bestLoss = epochLoss\n",
    "            BLE = e + 1\n",
    "            torch.save(save_dict,os.path.join(save_path, ble_name))\n",
    "        \n",
    "        if epochAccs[\"valid\"] > bestAccs[\"valid\"]:\n",
    "            bestAccs = epochAccs\n",
    "            BAE = e + 1\n",
    "            torch.save(save_dict,os.path.join(save_path, bae_name))\n",
    "\n",
    "        \n",
    "        if scheduler_rlrop: scheduler_rlrop.step(epochLoss[\"valid\"])\n",
    "        \n",
    "        if verbose:\n",
    "            print(\"Epoch: {} | Train Loss: {:.5f} | Valid Loss: {:.5f} |\\\n",
    " Train Accs: {:.5f} | Valid Accs: {:.5f} | Time: {:.2f} seconds\".format(e+1, \n",
    "                                                                        epochLoss[\"train\"], epochLoss[\"valid\"], \n",
    "                                                                        epochAccs[\"train\"], epochAccs[\"valid\"], \n",
    "                                                                        time()-e_st))\n",
    "\n",
    "    if verbose:                                           \n",
    "        breaker()\n",
    "        print(f\"Best Validation Loss at Epoch {BLE}\")\n",
    "        breaker()\n",
    "        print(f\"Best Validation Accs at Epoch {BAE}\")\n",
    "        breaker()\n",
    "        print(\"Time Taken [{} Epochs] : {:.2f} minutes\".format(len(Losses), (time()-start_time)/60))\n",
    "    \n",
    "    return Losses, Accuracies, LRs, BLE, BAE, ble_name, bae_name\n",
    "\n",
    "\n",
    "def predict_batch(model=None, dataloader=None, path=None, device=None) -> np.ndarray:\n",
    "    model.load_state_dict(torch.load(path, map_location=device)[\"model_state_dict\"])\n",
    "    model.to(device)    \n",
    "    model.eval()\n",
    "    \n",
    "    y_pred = torch.zeros(1, 1).to(device)\n",
    "    \n",
    "    for X in dataloader:\n",
    "        X = X.to(device)\n",
    "        with torch.no_grad():\n",
    "            output = torch.argmax(torch.exp(model(X)), dim=1)\n",
    "        y_pred = torch.cat((y_pred, output.view(-1, 1)), dim=0)\n",
    "    \n",
    "    return y_pred[1:].detach().cpu().numpy()"
   ]
  },
  {
   "cell_type": "markdown",
   "id": "85f45962",
   "metadata": {
    "papermill": {
     "duration": 0.003869,
     "end_time": "2022-07-07T12:08:59.044147",
     "exception": false,
     "start_time": "2022-07-07T12:08:59.040278",
     "status": "completed"
    },
    "tags": []
   },
   "source": [
    "### **Train**"
   ]
  },
  {
   "cell_type": "code",
   "execution_count": 8,
   "id": "c69cdd5f",
   "metadata": {
    "execution": {
     "iopub.execute_input": "2022-07-07T12:08:59.053162Z",
     "iopub.status.busy": "2022-07-07T12:08:59.052805Z",
     "iopub.status.idle": "2022-07-07T12:08:59.088793Z",
     "shell.execute_reply": "2022-07-07T12:08:59.087976Z"
    },
    "papermill": {
     "duration": 0.042623,
     "end_time": "2022-07-07T12:08:59.090774",
     "exception": false,
     "start_time": "2022-07-07T12:08:59.048151",
     "status": "completed"
    },
    "tags": []
   },
   "outputs": [],
   "source": [
    "df = pd.read_csv(\"../input/paddy-disease-classification/train.csv\")\n",
    "\n",
    "filenames = df.image_id.copy().values\n",
    "labelnames = df.label.copy().values\n",
    "labels = le.fit_transform(labelnames)"
   ]
  },
  {
   "cell_type": "code",
   "execution_count": 9,
   "id": "ecc0234d",
   "metadata": {
    "execution": {
     "iopub.execute_input": "2022-07-07T12:08:59.100631Z",
     "iopub.status.busy": "2022-07-07T12:08:59.100366Z",
     "iopub.status.idle": "2022-07-07T15:24:00.934384Z",
     "shell.execute_reply": "2022-07-07T15:24:00.933366Z"
    },
    "papermill": {
     "duration": 11701.84094,
     "end_time": "2022-07-07T15:24:00.936061",
     "exception": false,
     "start_time": "2022-07-07T12:08:59.095121",
     "status": "completed"
    },
    "tags": []
   },
   "outputs": [
    {
     "name": "stderr",
     "output_type": "stream",
     "text": [
      "Downloading: \"https://github.com/rwightman/pytorch-image-models/releases/download/v0.1-weights/efficientnet_b2_ra-bcdf34b7.pth\" to /root/.cache/torch/hub/checkpoints/efficientnet_b2_ra-bcdf34b7.pth\n"
     ]
    },
    {
     "name": "stdout",
     "output_type": "stream",
     "text": [
      "\n",
      "**************************************************\n",
      "\n",
      "Training ...\n",
      "\n",
      "**************************************************\n",
      "\n",
      "Epoch: 1 | Train Loss: 2.28516 | Valid Loss: 2.21517 | Train Accs: 0.12320 | Valid Accs: 0.20181 | Time: 407.80 seconds\n",
      "Epoch: 2 | Train Loss: 2.08355 | Valid Loss: 1.97498 | Train Accs: 0.29675 | Valid Accs: 0.39361 | Time: 335.63 seconds\n",
      "Epoch: 3 | Train Loss: 1.74845 | Valid Loss: 1.47711 | Train Accs: 0.46121 | Valid Accs: 0.52147 | Time: 332.21 seconds\n",
      "Epoch: 4 | Train Loss: 1.25836 | Valid Loss: 1.06409 | Train Accs: 0.59101 | Valid Accs: 0.64456 | Time: 331.73 seconds\n",
      "Epoch: 5 | Train Loss: 0.94795 | Valid Loss: 0.75451 | Train Accs: 0.68418 | Valid Accs: 0.75048 | Time: 333.01 seconds\n",
      "Epoch: 6 | Train Loss: 0.73177 | Valid Loss: 0.63116 | Train Accs: 0.75748 | Valid Accs: 0.79151 | Time: 331.88 seconds\n",
      "Epoch: 7 | Train Loss: 0.60590 | Valid Loss: 0.50097 | Train Accs: 0.80206 | Valid Accs: 0.83397 | Time: 335.21 seconds\n",
      "Epoch: 8 | Train Loss: 0.50407 | Valid Loss: 0.40322 | Train Accs: 0.83753 | Valid Accs: 0.86784 | Time: 335.81 seconds\n",
      "Epoch: 9 | Train Loss: 0.42913 | Valid Loss: 0.33224 | Train Accs: 0.86264 | Valid Accs: 0.89790 | Time: 332.52 seconds\n",
      "Epoch: 10 | Train Loss: 0.37937 | Valid Loss: 0.28937 | Train Accs: 0.88036 | Valid Accs: 0.91078 | Time: 334.09 seconds\n",
      "Epoch: 11 | Train Loss: 0.33480 | Valid Loss: 0.24326 | Train Accs: 0.89167 | Valid Accs: 0.93225 | Time: 336.12 seconds\n",
      "Epoch: 12 | Train Loss: 0.31069 | Valid Loss: 0.23141 | Train Accs: 0.90023 | Valid Accs: 0.92939 | Time: 335.79 seconds\n",
      "Epoch: 13 | Train Loss: 0.26697 | Valid Loss: 0.19999 | Train Accs: 0.91815 | Valid Accs: 0.94323 | Time: 337.34 seconds\n",
      "Epoch: 14 | Train Loss: 0.22858 | Valid Loss: 0.18855 | Train Accs: 0.92626 | Valid Accs: 0.94609 | Time: 335.22 seconds\n",
      "Epoch: 15 | Train Loss: 0.22372 | Valid Loss: 0.19368 | Train Accs: 0.93018 | Valid Accs: 0.94513 | Time: 336.72 seconds\n",
      "Epoch: 16 | Train Loss: 0.21400 | Valid Loss: 0.16969 | Train Accs: 0.93042 | Valid Accs: 0.95420 | Time: 336.42 seconds\n",
      "Epoch: 17 | Train Loss: 0.18426 | Valid Loss: 0.17798 | Train Accs: 0.94614 | Valid Accs: 0.94752 | Time: 337.47 seconds\n",
      "Epoch: 18 | Train Loss: 0.16339 | Valid Loss: 0.14389 | Train Accs: 0.95122 | Valid Accs: 0.95849 | Time: 340.19 seconds\n",
      "Epoch: 19 | Train Loss: 0.15836 | Valid Loss: 0.16012 | Train Accs: 0.95178 | Valid Accs: 0.95754 | Time: 337.04 seconds\n",
      "Epoch: 20 | Train Loss: 0.16173 | Valid Loss: 0.14263 | Train Accs: 0.94686 | Valid Accs: 0.96088 | Time: 336.38 seconds\n",
      "Epoch: 21 | Train Loss: 0.14612 | Valid Loss: 0.14087 | Train Accs: 0.95357 | Valid Accs: 0.96183 | Time: 337.05 seconds\n",
      "Epoch: 22 | Train Loss: 0.13731 | Valid Loss: 0.13675 | Train Accs: 0.95709 | Valid Accs: 0.96326 | Time: 330.26 seconds\n",
      "Epoch: 23 | Train Loss: 0.12509 | Valid Loss: 0.12757 | Train Accs: 0.96365 | Valid Accs: 0.96231 | Time: 333.80 seconds\n",
      "Epoch: 24 | Train Loss: 0.11975 | Valid Loss: 0.13211 | Train Accs: 0.96381 | Valid Accs: 0.96374 | Time: 330.75 seconds\n",
      "Epoch: 25 | Train Loss: 0.11600 | Valid Loss: 0.13002 | Train Accs: 0.96101 | Valid Accs: 0.96660 | Time: 331.38 seconds\n",
      "Epoch: 26 | Train Loss: 0.11568 | Valid Loss: 0.11682 | Train Accs: 0.96497 | Valid Accs: 0.96517 | Time: 331.49 seconds\n",
      "Epoch: 27 | Train Loss: 0.10946 | Valid Loss: 0.11892 | Train Accs: 0.96609 | Valid Accs: 0.96660 | Time: 320.67 seconds\n",
      "Epoch: 28 | Train Loss: 0.10201 | Valid Loss: 0.11198 | Train Accs: 0.96689 | Valid Accs: 0.96756 | Time: 325.01 seconds\n",
      "Epoch: 29 | Train Loss: 0.09312 | Valid Loss: 0.11790 | Train Accs: 0.97025 | Valid Accs: 0.96660 | Time: 324.30 seconds\n",
      "Epoch: 30 | Train Loss: 0.08899 | Valid Loss: 0.11185 | Train Accs: 0.97065 | Valid Accs: 0.96994 | Time: 326.86 seconds\n",
      "Epoch: 31 | Train Loss: 0.09926 | Valid Loss: 0.11216 | Train Accs: 0.96805 | Valid Accs: 0.96994 | Time: 326.39 seconds\n",
      "Epoch: 32 | Train Loss: 0.09147 | Valid Loss: 0.11558 | Train Accs: 0.97409 | Valid Accs: 0.96899 | Time: 320.48 seconds\n",
      "Epoch: 33 | Train Loss: 0.09329 | Valid Loss: 0.11135 | Train Accs: 0.97097 | Valid Accs: 0.96994 | Time: 324.34 seconds\n",
      "Epoch: 34 | Train Loss: 0.08873 | Valid Loss: 0.11793 | Train Accs: 0.97173 | Valid Accs: 0.96803 | Time: 324.32 seconds\n",
      "Epoch: 35 | Train Loss: 0.08735 | Valid Loss: 0.11428 | Train Accs: 0.97433 | Valid Accs: 0.96899 | Time: 328.23 seconds\n",
      "\n",
      "**************************************************\n",
      "\n",
      "Best Validation Loss at Epoch 33\n",
      "\n",
      "**************************************************\n",
      "\n",
      "Best Validation Accs at Epoch 30\n",
      "\n",
      "**************************************************\n",
      "\n",
      "Time Taken [35 Epochs] : 194.90 minutes\n",
      "\n",
      "**************************************************\n",
      "\n"
     ]
    },
    {
     "data": {
      "image/png": "[encoded data removed]",
      "text/plain": [
       "<Figure size 432x288 with 1 Axes>"
      ]
     },
     "metadata": {
      "needs_background": "light"
     },
     "output_type": "display_data"
    },
    {
     "name": "stdout",
     "output_type": "stream",
     "text": [
      "\n",
      "**************************************************\n",
      "\n"
     ]
    },
    {
     "data": {
      "image/png": "[encoded data removed]",
      "text/plain": [
       "<Figure size 432x288 with 1 Axes>"
      ]
     },
     "metadata": {
      "needs_background": "light"
     },
     "output_type": "display_data"
    },
    {
     "name": "stdout",
     "output_type": "stream",
     "text": [
      "\n",
      "**************************************************\n",
      "\n"
     ]
    },
    {
     "data": {
      "image/png": "[encoded data removed]",
      "text/plain": [
       "<Figure size 576x432 with 1 Axes>"
      ]
     },
     "metadata": {
      "needs_background": "light"
     },
     "output_type": "display_data"
    },
    {
     "name": "stdout",
     "output_type": "stream",
     "text": [
      "\n",
      "**************************************************\n",
      "\n"
     ]
    }
   ],
   "source": [
    "fold = 1\n",
    "for tr_idx, va_idx in StratifiedKFold(n_splits=cfg.n_splits, random_state=cfg.seed, shuffle=True).split(filenames, labels):\n",
    "    if fold == 3: break\n",
    "    fold += 1\n",
    "\n",
    "tr_filenames, va_filenames   = filenames[tr_idx], filenames[va_idx], \n",
    "tr_labelnames, va_labelnames = labelnames[tr_idx], labelnames[va_idx]\n",
    "tr_labels, va_labels         = labels[tr_idx], labels[va_idx]\n",
    "\n",
    "tr_data_setup = DS(\n",
    "    \"../input/paddy-disease-classification/train_images\",\n",
    "    SIZE,\n",
    "    tr_filenames, \n",
    "    tr_labelnames, \n",
    "    tr_labels.reshape(-1, 1), \n",
    "    cfg.train_transform,\n",
    ")\n",
    "\n",
    "va_data_setup = DS(\n",
    "    \"../input/paddy-disease-classification/train_images\",\n",
    "    SIZE,\n",
    "    va_filenames, \n",
    "    va_labelnames, \n",
    "    va_labels.reshape(-1, 1), \n",
    "    cfg.valid_transform,\n",
    ")\n",
    "\n",
    "dataloaders = {\n",
    "    \"train\" : DL(tr_data_setup, batch_size=cfg.batch_size, shuffle=True, generator=torch.manual_seed(cfg.seed)),\n",
    "    \"valid\" : DL(va_data_setup, batch_size=cfg.batch_size, shuffle=False),\n",
    "}\n",
    "\n",
    "cfg = CFG(epochs=35, batch_size=64, steps_per_epoch=len(dataloaders[\"train\"]))\n",
    "\n",
    "torch.manual_seed(cfg.seed)\n",
    "model = Model().to(cfg.device)\n",
    "\n",
    "optimizer = optim.SGD([p for p in model.parameters() if p.requires_grad], momentum=0.9, lr=cfg.lr, weight_decay=cfg.wd)\n",
    "\n",
    "scheduler_oclr = optim.lr_scheduler.OneCycleLR(optimizer=optimizer, \n",
    "                                               max_lr=cfg.max_lr, \n",
    "                                               epochs=cfg.epochs, \n",
    "                                               steps_per_epoch=cfg.steps_per_epoch,\n",
    "                                               pct_start=cfg.pct_start, \n",
    "                                               div_factor=cfg.div_factor, \n",
    "                                               final_div_factor=cfg.final_div_factor)\n",
    "# scheduler_rlrop = optim.lr_scheduler.ReduceLROnPlateau(optimizer=optimizer,\n",
    "#                                                       patience=cfg.patience,\n",
    "#                                                       eps=cfg.eps,\n",
    "#                                                       verbose=True)\n",
    "\n",
    "# scheduler_oclr = None\n",
    "scheduler_rlrop = None\n",
    "\n",
    "L, A, LR, BLE, BAE, _, _ = fit(model=model, \n",
    "                               optimizer=optimizer, \n",
    "                               scheduler_oclr=scheduler_oclr,\n",
    "                               scheduler_rlrop=scheduler_rlrop,\n",
    "                               epochs=cfg.epochs, \n",
    "                               early_stopping_patience=None, \n",
    "                               dataloaders=dataloaders, \n",
    "                               device=cfg.device,\n",
    "                               save_path=cfg.save_path,\n",
    "                               fold=None,\n",
    "                               verbose=True)\n",
    "\n",
    "breaker()\n",
    "show_loss_graphs(L)\n",
    "breaker()\n",
    "show_accuracy_graphs(A)\n",
    "breaker()\n",
    "\n",
    "if scheduler_oclr:\n",
    "    show_lr_graph(LR)\n",
    "    breaker()"
   ]
  }
 ],
 "metadata": {
  "kernelspec": {
   "display_name": "Python 3",
   "language": "python",
   "name": "python3"
  },
  "language_info": {
   "codemirror_mode": {
    "name": "ipython",
    "version": 3
   },
   "file_extension": ".py",
   "mimetype": "text/x-python",
   "name": "python",
   "nbconvert_exporter": "python",
   "pygments_lexer": "ipython3",
   "version": "3.7.12"
  },
  "papermill": {
   "default_parameters": {},
   "duration": 11731.149952,
   "end_time": "2022-07-07T15:24:03.893587",
   "environment_variables": {},
   "exception": null,
   "input_path": "__notebook__.ipynb",
   "output_path": "__notebook__.ipynb",
   "parameters": {},
   "start_time": "2022-07-07T12:08:32.743635",
   "version": "2.3.4"
  }
 },
 "nbformat": 4,
 "nbformat_minor": 5
}
