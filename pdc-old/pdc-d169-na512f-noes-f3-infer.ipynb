{
 "cells": [
  {
   "cell_type": "markdown",
   "id": "166a4eac",
   "metadata": {
    "papermill": {
     "duration": 0.004018,
     "end_time": "2022-06-18T18:52:07.141738",
     "exception": false,
     "start_time": "2022-06-18T18:52:07.137720",
     "status": "completed"
    },
    "tags": []
   },
   "source": [
    "### **Library Imports**"
   ]
  },
  {
   "cell_type": "code",
   "execution_count": 1,
   "id": "b1201795",
   "metadata": {
    "execution": {
     "iopub.execute_input": "2022-06-18T18:52:07.152089Z",
     "iopub.status.busy": "2022-06-18T18:52:07.151602Z",
     "iopub.status.idle": "2022-06-18T18:52:10.185363Z",
     "shell.execute_reply": "2022-06-18T18:52:10.184235Z"
    },
    "papermill": {
     "duration": 3.041316,
     "end_time": "2022-06-18T18:52:10.188482",
     "exception": false,
     "start_time": "2022-06-18T18:52:07.147166",
     "status": "completed"
    },
    "tags": []
   },
   "outputs": [],
   "source": [
    "import os\n",
    "import re\n",
    "import cv2\n",
    "import torch\n",
    "import numpy as np\n",
    "import pandas as pd\n",
    "import matplotlib.pyplot as plt\n",
    "\n",
    "from time import time\n",
    "from torch import nn, optim\n",
    "from torch.utils.data import Dataset\n",
    "from torch.utils.data import DataLoader as DL\n",
    "from torchvision import models, transforms\n",
    "\n",
    "from sklearn.preprocessing import LabelEncoder"
   ]
  },
  {
   "cell_type": "markdown",
   "id": "7a83492a",
   "metadata": {
    "papermill": {
     "duration": 0.005207,
     "end_time": "2022-06-18T18:52:10.199421",
     "exception": false,
     "start_time": "2022-06-18T18:52:10.194214",
     "status": "completed"
    },
    "tags": []
   },
   "source": [
    "### **Utilities and Helpers**"
   ]
  },
  {
   "cell_type": "code",
   "execution_count": 2,
   "id": "4a99db2b",
   "metadata": {
    "execution": {
     "iopub.execute_input": "2022-06-18T18:52:10.211656Z",
     "iopub.status.busy": "2022-06-18T18:52:10.211065Z",
     "iopub.status.idle": "2022-06-18T18:52:10.290988Z",
     "shell.execute_reply": "2022-06-18T18:52:10.289944Z"
    },
    "papermill": {
     "duration": 0.088652,
     "end_time": "2022-06-18T18:52:10.293460",
     "exception": false,
     "start_time": "2022-06-18T18:52:10.204808",
     "status": "completed"
    },
    "tags": []
   },
   "outputs": [],
   "source": [
    "SEED = 42\n",
    "SIZE = 512\n",
    "FOLD = 3\n",
    "TRANSFORM = transforms.Compose([transforms.ToTensor(),\n",
    "                                transforms.Normalize([0.49650, 0.58774, 0.23004],\n",
    "                                                     [0.22750, 0.22771, 0.18430]),\n",
    "                                ])\n",
    "MODEL_PATH = f\"../input/pdc-d169-na{SIZE}f-noes-f{FOLD}/saves/ble_state.pt\"\n",
    "DEVICE = torch.device(\"cuda\" if torch.cuda.is_available() else \"cpu\")\n",
    "\n",
    "le = LabelEncoder()\n",
    "\n",
    "\n",
    "def breaker(num: int=50, char: str=\"*\") -> None:\n",
    "    print(\"\\n\" + num*char + \"\\n\")\n",
    "\n",
    "\n",
    "def get_image(path: str, size: int=224) -> np.ndarray:\n",
    "    return cv2.resize(src=cv2.cvtColor(src=cv2.imread(path, cv2.IMREAD_COLOR), code=cv2.COLOR_BGR2RGB), dsize=(size, size), interpolation=cv2.INTER_AREA)"
   ]
  },
  {
   "cell_type": "markdown",
   "id": "56f53c74",
   "metadata": {
    "papermill": {
     "duration": 0.004942,
     "end_time": "2022-06-18T18:52:10.304045",
     "exception": false,
     "start_time": "2022-06-18T18:52:10.299103",
     "status": "completed"
    },
    "tags": []
   },
   "source": [
    "### **Configuration**"
   ]
  },
  {
   "cell_type": "markdown",
   "id": "ff517e51",
   "metadata": {
    "papermill": {
     "duration": 0.004988,
     "end_time": "2022-06-18T18:52:10.314571",
     "exception": false,
     "start_time": "2022-06-18T18:52:10.309583",
     "status": "completed"
    },
    "tags": []
   },
   "source": [
    "### **Dataset Template**"
   ]
  },
  {
   "cell_type": "code",
   "execution_count": 3,
   "id": "5d8addbd",
   "metadata": {
    "execution": {
     "iopub.execute_input": "2022-06-18T18:52:10.326283Z",
     "iopub.status.busy": "2022-06-18T18:52:10.325914Z",
     "iopub.status.idle": "2022-06-18T18:52:10.336203Z",
     "shell.execute_reply": "2022-06-18T18:52:10.335367Z"
    },
    "papermill": {
     "duration": 0.018965,
     "end_time": "2022-06-18T18:52:10.338715",
     "exception": false,
     "start_time": "2022-06-18T18:52:10.319750",
     "status": "completed"
    },
    "tags": []
   },
   "outputs": [],
   "source": [
    "class DS(Dataset):\n",
    "    def __init__(self, base_path: str, filenames: np.ndarray, size: int=224, transform=None):\n",
    "        self.base_path = base_path\n",
    "        self.filenames = filenames\n",
    "        self.size = size\n",
    "        self.transform = transform\n",
    "    \n",
    "    def __len__(self):\n",
    "        return self.filenames.shape[0]\n",
    "    \n",
    "    def __getitem__(self, idx):\n",
    "        return self.transform(get_image(os.path.join(self.base_path, self.filenames[idx]), size=self.size))"
   ]
  },
  {
   "cell_type": "markdown",
   "id": "17e668c8",
   "metadata": {
    "papermill": {
     "duration": 0.004905,
     "end_time": "2022-06-18T18:52:10.348782",
     "exception": false,
     "start_time": "2022-06-18T18:52:10.343877",
     "status": "completed"
    },
    "tags": []
   },
   "source": [
    "### **Model**"
   ]
  },
  {
   "cell_type": "code",
   "execution_count": 4,
   "id": "787fc1fd",
   "metadata": {
    "execution": {
     "iopub.execute_input": "2022-06-18T18:52:10.360399Z",
     "iopub.status.busy": "2022-06-18T18:52:10.360045Z",
     "iopub.status.idle": "2022-06-18T18:52:10.370048Z",
     "shell.execute_reply": "2022-06-18T18:52:10.369226Z"
    },
    "papermill": {
     "duration": 0.018579,
     "end_time": "2022-06-18T18:52:10.372562",
     "exception": false,
     "start_time": "2022-06-18T18:52:10.353983",
     "status": "completed"
    },
    "tags": []
   },
   "outputs": [],
   "source": [
    "class Model(nn.Module):\n",
    "    def __init__(self):\n",
    "        super(Model, self).__init__()\n",
    "\n",
    "        self.model = models.densenet169(pretrained=False, progress=True)\n",
    "        # self.freeze()\n",
    "        self.model.classifier = nn.Linear(in_features=self.model.classifier.in_features, out_features=10)\n",
    "    \n",
    "    def freeze(self):\n",
    "        for params in self.parameters(): params.requires_grad = False\n",
    "\n",
    "    def forward(self, x):\n",
    "        return nn.LogSoftmax(dim=1)(self.model(x))"
   ]
  },
  {
   "cell_type": "markdown",
   "id": "e4d7c4e7",
   "metadata": {
    "papermill": {
     "duration": 0.005061,
     "end_time": "2022-06-18T18:52:10.382800",
     "exception": false,
     "start_time": "2022-06-18T18:52:10.377739",
     "status": "completed"
    },
    "tags": []
   },
   "source": [
    "### **Predict Helpers**"
   ]
  },
  {
   "cell_type": "code",
   "execution_count": 5,
   "id": "34ea7472",
   "metadata": {
    "execution": {
     "iopub.execute_input": "2022-06-18T18:52:10.394456Z",
     "iopub.status.busy": "2022-06-18T18:52:10.394041Z",
     "iopub.status.idle": "2022-06-18T18:52:10.404527Z",
     "shell.execute_reply": "2022-06-18T18:52:10.403713Z"
    },
    "papermill": {
     "duration": 0.018903,
     "end_time": "2022-06-18T18:52:10.406929",
     "exception": false,
     "start_time": "2022-06-18T18:52:10.388026",
     "status": "completed"
    },
    "tags": []
   },
   "outputs": [],
   "source": [
    "def predict_batch(model=None, dataloader=None, path=None, device=None) -> np.ndarray:\n",
    "    model.load_state_dict(torch.load(path, map_location=device)[\"model_state_dict\"])\n",
    "    model.to(device)    \n",
    "    model.eval()\n",
    "    \n",
    "    y_pred = torch.zeros(1, 1).to(device)\n",
    "    \n",
    "    for X in dataloader:\n",
    "        X = X.to(device)\n",
    "        with torch.no_grad():\n",
    "            output = torch.argmax(torch.exp(model(X)), dim=1)\n",
    "        y_pred = torch.cat((y_pred, output.view(-1, 1)), dim=0)\n",
    "    \n",
    "    return y_pred[1:].detach().cpu().numpy()"
   ]
  },
  {
   "cell_type": "markdown",
   "id": "2dc73bb2",
   "metadata": {
    "papermill": {
     "duration": 0.004834,
     "end_time": "2022-06-18T18:52:10.416672",
     "exception": false,
     "start_time": "2022-06-18T18:52:10.411838",
     "status": "completed"
    },
    "tags": []
   },
   "source": [
    "### **Submission**"
   ]
  },
  {
   "cell_type": "code",
   "execution_count": 6,
   "id": "01e75f19",
   "metadata": {
    "execution": {
     "iopub.execute_input": "2022-06-18T18:52:10.428276Z",
     "iopub.status.busy": "2022-06-18T18:52:10.427892Z",
     "iopub.status.idle": "2022-06-18T18:53:34.134842Z",
     "shell.execute_reply": "2022-06-18T18:53:34.134023Z"
    },
    "papermill": {
     "duration": 83.715213,
     "end_time": "2022-06-18T18:53:34.137064",
     "exception": false,
     "start_time": "2022-06-18T18:52:10.421851",
     "status": "completed"
    },
    "tags": []
   },
   "outputs": [],
   "source": [
    "df = pd.read_csv(\"../input/paddy-disease-classification/train.csv\")\n",
    "ss_df = pd.read_csv(\"../input/paddy-disease-classification/sample_submission.csv\")\n",
    "\n",
    "labels = df.label.copy().values\n",
    "labels = le.fit_transform(labels)\n",
    "\n",
    "ts_data_setup = DS(base_path=\"../input/paddy-disease-classification/test_images\", \n",
    "                   filenames=ss_df.image_id.copy().values,\n",
    "                   size=SIZE,\n",
    "                   transform=TRANSFORM)\n",
    "ts_data = DL(ts_data_setup, batch_size=64, shuffle=False)\n",
    "\n",
    "model = Model().to(DEVICE)\n",
    "\n",
    "y_pred = predict_batch(model=model, \n",
    "                       dataloader=ts_data, \n",
    "                       path=MODEL_PATH,\n",
    "                       device=DEVICE)\n",
    "\n",
    "ss_df[\"label\"] = le.inverse_transform(y_pred.astype(\"uint8\").reshape(-1))\n",
    "ss_df.to_csv(\"submission.csv\", index=False)"
   ]
  }
 ],
 "metadata": {
  "kernelspec": {
   "display_name": "Python 3",
   "language": "python",
   "name": "python3"
  },
  "language_info": {
   "codemirror_mode": {
    "name": "ipython",
    "version": 3
   },
   "file_extension": ".py",
   "mimetype": "text/x-python",
   "name": "python",
   "nbconvert_exporter": "python",
   "pygments_lexer": "ipython3",
   "version": "3.7.12"
  },
  "papermill": {
   "default_parameters": {},
   "duration": 96.126603,
   "end_time": "2022-06-18T18:53:35.562924",
   "environment_variables": {},
   "exception": null,
   "input_path": "__notebook__.ipynb",
   "output_path": "__notebook__.ipynb",
   "parameters": {},
   "start_time": "2022-06-18T18:51:59.436321",
   "version": "2.3.4"
  }
 },
 "nbformat": 4,
 "nbformat_minor": 5
}
