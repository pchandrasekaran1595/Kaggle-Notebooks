{
 "cells": [
  {
   "cell_type": "markdown",
   "id": "dbf7659c",
   "metadata": {
    "papermill": {
     "duration": 0.006573,
     "end_time": "2022-06-17T11:11:04.602875",
     "exception": false,
     "start_time": "2022-06-17T11:11:04.596302",
     "status": "completed"
    },
    "tags": []
   },
   "source": [
    "### **Library Imports**"
   ]
  },
  {
   "cell_type": "code",
   "execution_count": 1,
   "id": "7199000c",
   "metadata": {
    "execution": {
     "iopub.execute_input": "2022-06-17T11:11:04.618141Z",
     "iopub.status.busy": "2022-06-17T11:11:04.617404Z",
     "iopub.status.idle": "2022-06-17T11:11:07.870788Z",
     "shell.execute_reply": "2022-06-17T11:11:07.869713Z"
    },
    "papermill": {
     "duration": 3.262518,
     "end_time": "2022-06-17T11:11:07.873394",
     "exception": false,
     "start_time": "2022-06-17T11:11:04.610876",
     "status": "completed"
    },
    "tags": []
   },
   "outputs": [],
   "source": [
    "import os\n",
    "import re\n",
    "import cv2\n",
    "import torch\n",
    "import numpy as np\n",
    "import pandas as pd\n",
    "import matplotlib.pyplot as plt\n",
    "\n",
    "from time import time\n",
    "from torch import nn, optim\n",
    "from torch.utils.data import Dataset\n",
    "from torch.utils.data import DataLoader as DL\n",
    "from torchvision import models, transforms\n",
    "\n",
    "from sklearn.preprocessing import LabelEncoder"
   ]
  },
  {
   "cell_type": "markdown",
   "id": "674c1196",
   "metadata": {
    "papermill": {
     "duration": 0.003087,
     "end_time": "2022-06-17T11:11:07.880051",
     "exception": false,
     "start_time": "2022-06-17T11:11:07.876964",
     "status": "completed"
    },
    "tags": []
   },
   "source": [
    "### **Utilities and Helpers**"
   ]
  },
  {
   "cell_type": "code",
   "execution_count": 2,
   "id": "06d8fc90",
   "metadata": {
    "execution": {
     "iopub.execute_input": "2022-06-17T11:11:07.888044Z",
     "iopub.status.busy": "2022-06-17T11:11:07.887602Z",
     "iopub.status.idle": "2022-06-17T11:11:07.954403Z",
     "shell.execute_reply": "2022-06-17T11:11:07.953447Z"
    },
    "papermill": {
     "duration": 0.073144,
     "end_time": "2022-06-17T11:11:07.956375",
     "exception": false,
     "start_time": "2022-06-17T11:11:07.883231",
     "status": "completed"
    },
    "tags": []
   },
   "outputs": [],
   "source": [
    "SEED = 42\n",
    "SIZE = 384\n",
    "TRANSFORM = transforms.Compose([transforms.ToTensor(),\n",
    "                                transforms.Normalize([0.49699, 0.58823, 0.23049],\n",
    "                                                     [0.22591, 0.22614, 0.18264]),\n",
    "                                ])\n",
    "MODEL_PATH = f\"../input/pdc-d169-na{SIZE}-full-noes/saves/ble_state.pt\"\n",
    "DEVICE = torch.device(\"cuda\" if torch.cuda.is_available() else \"cpu\")\n",
    "\n",
    "le = LabelEncoder()\n",
    "\n",
    "\n",
    "def breaker(num: int=50, char: str=\"*\") -> None:\n",
    "    print(\"\\n\" + num*char + \"\\n\")\n",
    "\n",
    "\n",
    "def get_image(path: str, size: int=224) -> np.ndarray:\n",
    "    return cv2.resize(src=cv2.cvtColor(src=cv2.imread(path, cv2.IMREAD_COLOR), code=cv2.COLOR_BGR2RGB), dsize=(size, size), interpolation=cv2.INTER_AREA)"
   ]
  },
  {
   "cell_type": "markdown",
   "id": "85e0141a",
   "metadata": {
    "papermill": {
     "duration": 0.003421,
     "end_time": "2022-06-17T11:11:07.963288",
     "exception": false,
     "start_time": "2022-06-17T11:11:07.959867",
     "status": "completed"
    },
    "tags": []
   },
   "source": [
    "### **Configuration**"
   ]
  },
  {
   "cell_type": "markdown",
   "id": "3282b3eb",
   "metadata": {
    "papermill": {
     "duration": 0.00318,
     "end_time": "2022-06-17T11:11:07.969795",
     "exception": false,
     "start_time": "2022-06-17T11:11:07.966615",
     "status": "completed"
    },
    "tags": []
   },
   "source": [
    "### **Dataset Template**"
   ]
  },
  {
   "cell_type": "code",
   "execution_count": 3,
   "id": "d33f002b",
   "metadata": {
    "execution": {
     "iopub.execute_input": "2022-06-17T11:11:07.978217Z",
     "iopub.status.busy": "2022-06-17T11:11:07.977484Z",
     "iopub.status.idle": "2022-06-17T11:11:07.984346Z",
     "shell.execute_reply": "2022-06-17T11:11:07.983392Z"
    },
    "papermill": {
     "duration": 0.013212,
     "end_time": "2022-06-17T11:11:07.986350",
     "exception": false,
     "start_time": "2022-06-17T11:11:07.973138",
     "status": "completed"
    },
    "tags": []
   },
   "outputs": [],
   "source": [
    "class DS(Dataset):\n",
    "    def __init__(self, base_path: str, filenames: np.ndarray, size: int=224, transform=None):\n",
    "        self.base_path = base_path\n",
    "        self.filenames = filenames\n",
    "        self.size = size\n",
    "        self.transform = transform\n",
    "    \n",
    "    def __len__(self):\n",
    "        return self.filenames.shape[0]\n",
    "    \n",
    "    def __getitem__(self, idx):\n",
    "        return self.transform(get_image(os.path.join(self.base_path, self.filenames[idx]), size=self.size))"
   ]
  },
  {
   "cell_type": "markdown",
   "id": "6b53ac96",
   "metadata": {
    "papermill": {
     "duration": 0.003093,
     "end_time": "2022-06-17T11:11:07.992680",
     "exception": false,
     "start_time": "2022-06-17T11:11:07.989587",
     "status": "completed"
    },
    "tags": []
   },
   "source": [
    "### **Model**"
   ]
  },
  {
   "cell_type": "code",
   "execution_count": 4,
   "id": "4a308224",
   "metadata": {
    "execution": {
     "iopub.execute_input": "2022-06-17T11:11:07.999978Z",
     "iopub.status.busy": "2022-06-17T11:11:07.999686Z",
     "iopub.status.idle": "2022-06-17T11:11:08.005788Z",
     "shell.execute_reply": "2022-06-17T11:11:08.005046Z"
    },
    "papermill": {
     "duration": 0.011749,
     "end_time": "2022-06-17T11:11:08.007623",
     "exception": false,
     "start_time": "2022-06-17T11:11:07.995874",
     "status": "completed"
    },
    "tags": []
   },
   "outputs": [],
   "source": [
    "class Model(nn.Module):\n",
    "    def __init__(self):\n",
    "        super(Model, self).__init__()\n",
    "\n",
    "        self.model = models.densenet169(pretrained=False, progress=True)\n",
    "        # self.freeze()\n",
    "        self.model.classifier = nn.Linear(in_features=self.model.classifier.in_features, out_features=10)\n",
    "    \n",
    "    def freeze(self):\n",
    "        for params in self.parameters(): params.requires_grad = False\n",
    "\n",
    "    def forward(self, x):\n",
    "        return nn.LogSoftmax(dim=1)(self.model(x))"
   ]
  },
  {
   "cell_type": "markdown",
   "id": "cb8d5d53",
   "metadata": {
    "papermill": {
     "duration": 0.0031,
     "end_time": "2022-06-17T11:11:08.013903",
     "exception": false,
     "start_time": "2022-06-17T11:11:08.010803",
     "status": "completed"
    },
    "tags": []
   },
   "source": [
    "### **Predict Helpers**"
   ]
  },
  {
   "cell_type": "code",
   "execution_count": 5,
   "id": "b5674a1d",
   "metadata": {
    "execution": {
     "iopub.execute_input": "2022-06-17T11:11:08.022212Z",
     "iopub.status.busy": "2022-06-17T11:11:08.021551Z",
     "iopub.status.idle": "2022-06-17T11:11:08.028643Z",
     "shell.execute_reply": "2022-06-17T11:11:08.027878Z"
    },
    "papermill": {
     "duration": 0.013029,
     "end_time": "2022-06-17T11:11:08.030509",
     "exception": false,
     "start_time": "2022-06-17T11:11:08.017480",
     "status": "completed"
    },
    "tags": []
   },
   "outputs": [],
   "source": [
    "def predict_batch(model=None, dataloader=None, path=None, device=None) -> np.ndarray:\n",
    "    model.load_state_dict(torch.load(path, map_location=device)[\"model_state_dict\"])\n",
    "    model.to(device)    \n",
    "    model.eval()\n",
    "    \n",
    "    y_pred = torch.zeros(1, 1).to(device)\n",
    "    \n",
    "    for X in dataloader:\n",
    "        X = X.to(device)\n",
    "        with torch.no_grad():\n",
    "            output = torch.argmax(torch.exp(model(X)), dim=1)\n",
    "        y_pred = torch.cat((y_pred, output.view(-1, 1)), dim=0)\n",
    "    \n",
    "    return y_pred[1:].detach().cpu().numpy()"
   ]
  },
  {
   "cell_type": "markdown",
   "id": "6e7d955a",
   "metadata": {
    "papermill": {
     "duration": 0.003139,
     "end_time": "2022-06-17T11:11:08.036953",
     "exception": false,
     "start_time": "2022-06-17T11:11:08.033814",
     "status": "completed"
    },
    "tags": []
   },
   "source": [
    "### **Submission**"
   ]
  },
  {
   "cell_type": "code",
   "execution_count": 6,
   "id": "55879a71",
   "metadata": {
    "execution": {
     "iopub.execute_input": "2022-06-17T11:11:08.045258Z",
     "iopub.status.busy": "2022-06-17T11:11:08.044942Z",
     "iopub.status.idle": "2022-06-17T11:12:37.002352Z",
     "shell.execute_reply": "2022-06-17T11:12:37.001493Z"
    },
    "papermill": {
     "duration": 88.964054,
     "end_time": "2022-06-17T11:12:37.004537",
     "exception": false,
     "start_time": "2022-06-17T11:11:08.040483",
     "status": "completed"
    },
    "tags": []
   },
   "outputs": [],
   "source": [
    "df = pd.read_csv(\"../input/paddy-disease-classification/train.csv\")\n",
    "ss_df = pd.read_csv(\"../input/paddy-disease-classification/sample_submission.csv\")\n",
    "\n",
    "labels = df.label.copy().values\n",
    "labels = le.fit_transform(labels)\n",
    "\n",
    "ts_data_setup = DS(base_path=\"../input/paddy-disease-classification/test_images\", \n",
    "                   filenames=ss_df.image_id.copy().values,\n",
    "                   size=SIZE,\n",
    "                   transform=TRANSFORM)\n",
    "ts_data = DL(ts_data_setup, batch_size=64, shuffle=False)\n",
    "\n",
    "model = Model().to(DEVICE)\n",
    "\n",
    "y_pred = predict_batch(model=model, \n",
    "                       dataloader=ts_data, \n",
    "                       path=MODEL_PATH,\n",
    "                       device=DEVICE)\n",
    "\n",
    "ss_df[\"label\"] = le.inverse_transform(y_pred.astype(\"uint8\").reshape(-1))\n",
    "ss_df.to_csv(\"submission.csv\", index=False)"
   ]
  }
 ],
 "metadata": {
  "kernelspec": {
   "display_name": "Python 3",
   "language": "python",
   "name": "python3"
  },
  "language_info": {
   "codemirror_mode": {
    "name": "ipython",
    "version": 3
   },
   "file_extension": ".py",
   "mimetype": "text/x-python",
   "name": "python",
   "nbconvert_exporter": "python",
   "pygments_lexer": "ipython3",
   "version": "3.7.12"
  },
  "papermill": {
   "default_parameters": {},
   "duration": 102.401406,
   "end_time": "2022-06-17T11:12:38.531591",
   "environment_variables": {},
   "exception": null,
   "input_path": "__notebook__.ipynb",
   "output_path": "__notebook__.ipynb",
   "parameters": {},
   "start_time": "2022-06-17T11:10:56.130185",
   "version": "2.3.4"
  }
 },
 "nbformat": 4,
 "nbformat_minor": 5
}
