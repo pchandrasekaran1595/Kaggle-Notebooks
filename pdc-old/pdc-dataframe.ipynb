{
 "cells": [
  {
   "cell_type": "code",
   "execution_count": 1,
   "id": "a615142c",
   "metadata": {
    "_cell_guid": "b1076dfc-b9ad-4769-8c92-a6c4dae69d19",
    "_uuid": "8f2839f25d086af736a60e9eeb907d3b93b6e0e5",
    "execution": {
     "iopub.execute_input": "2022-09-20T10:15:38.833639Z",
     "iopub.status.busy": "2022-09-20T10:15:38.833137Z",
     "iopub.status.idle": "2022-09-20T10:15:38.844311Z",
     "shell.execute_reply": "2022-09-20T10:15:38.843070Z"
    },
    "papermill": {
     "duration": 0.019665,
     "end_time": "2022-09-20T10:15:38.846833",
     "exception": false,
     "start_time": "2022-09-20T10:15:38.827168",
     "status": "completed"
    },
    "tags": []
   },
   "outputs": [],
   "source": [
    "import os\n",
    "import numpy as np\n",
    "import pandas as pd\n",
    "\n",
    "BASE_PATH: str = \"../input/paddy-disease-classification/train_images\""
   ]
  },
  {
   "cell_type": "code",
   "execution_count": 2,
   "id": "0aaa63ed",
   "metadata": {
    "execution": {
     "iopub.execute_input": "2022-09-20T10:15:38.853506Z",
     "iopub.status.busy": "2022-09-20T10:15:38.852913Z",
     "iopub.status.idle": "2022-09-20T10:15:38.864147Z",
     "shell.execute_reply": "2022-09-20T10:15:38.863020Z"
    },
    "papermill": {
     "duration": 0.017649,
     "end_time": "2022-09-20T10:15:38.866876",
     "exception": false,
     "start_time": "2022-09-20T10:15:38.849227",
     "status": "completed"
    },
    "tags": []
   },
   "outputs": [],
   "source": [
    "LABELS: dict = {\n",
    "    0 : \"bacterial_leaf_blight\",\n",
    "    1 : \"bacterial_leaf_streak\",\n",
    "    2 : \"bacterial_panicle_blight\",\n",
    "    3 : \"blast\",\n",
    "    4 : \"brown_spot\",\n",
    "    5 : \"dead_heart\",\n",
    "    6 : \"downy_mildew\",\n",
    "    7 : \"hispa\",\n",
    "    8 : \"normal\",\n",
    "    9 : \"tungro\"\n",
    "}"
   ]
  },
  {
   "cell_type": "code",
   "execution_count": 3,
   "id": "a6140509",
   "metadata": {
    "execution": {
     "iopub.execute_input": "2022-09-20T10:15:38.872653Z",
     "iopub.status.busy": "2022-09-20T10:15:38.872255Z",
     "iopub.status.idle": "2022-09-20T10:15:38.923407Z",
     "shell.execute_reply": "2022-09-20T10:15:38.922317Z"
    },
    "papermill": {
     "duration": 0.056722,
     "end_time": "2022-09-20T10:15:38.925759",
     "exception": false,
     "start_time": "2022-09-20T10:15:38.869037",
     "status": "completed"
    },
    "tags": []
   },
   "outputs": [
    {
     "data": {
      "text/html": [
       "<div>\n",
       "<style scoped>\n",
       "    .dataframe tbody tr th:only-of-type {\n",
       "        vertical-align: middle;\n",
       "    }\n",
       "\n",
       "    .dataframe tbody tr th {\n",
       "        vertical-align: top;\n",
       "    }\n",
       "\n",
       "    .dataframe thead th {\n",
       "        text-align: right;\n",
       "    }\n",
       "</style>\n",
       "<table border=\"1\" class=\"dataframe\">\n",
       "  <thead>\n",
       "    <tr style=\"text-align: right;\">\n",
       "      <th></th>\n",
       "      <th>image_id</th>\n",
       "      <th>label</th>\n",
       "      <th>variety</th>\n",
       "      <th>age</th>\n",
       "    </tr>\n",
       "  </thead>\n",
       "  <tbody>\n",
       "    <tr>\n",
       "      <th>0</th>\n",
       "      <td>100330.jpg</td>\n",
       "      <td>bacterial_leaf_blight</td>\n",
       "      <td>ADT45</td>\n",
       "      <td>45</td>\n",
       "    </tr>\n",
       "    <tr>\n",
       "      <th>1</th>\n",
       "      <td>100365.jpg</td>\n",
       "      <td>bacterial_leaf_blight</td>\n",
       "      <td>ADT45</td>\n",
       "      <td>45</td>\n",
       "    </tr>\n",
       "    <tr>\n",
       "      <th>2</th>\n",
       "      <td>100382.jpg</td>\n",
       "      <td>bacterial_leaf_blight</td>\n",
       "      <td>ADT45</td>\n",
       "      <td>45</td>\n",
       "    </tr>\n",
       "    <tr>\n",
       "      <th>3</th>\n",
       "      <td>100632.jpg</td>\n",
       "      <td>bacterial_leaf_blight</td>\n",
       "      <td>ADT45</td>\n",
       "      <td>45</td>\n",
       "    </tr>\n",
       "    <tr>\n",
       "      <th>4</th>\n",
       "      <td>101918.jpg</td>\n",
       "      <td>bacterial_leaf_blight</td>\n",
       "      <td>ADT45</td>\n",
       "      <td>45</td>\n",
       "    </tr>\n",
       "  </tbody>\n",
       "</table>\n",
       "</div>"
      ],
      "text/plain": [
       "     image_id                  label variety  age\n",
       "0  100330.jpg  bacterial_leaf_blight   ADT45   45\n",
       "1  100365.jpg  bacterial_leaf_blight   ADT45   45\n",
       "2  100382.jpg  bacterial_leaf_blight   ADT45   45\n",
       "3  100632.jpg  bacterial_leaf_blight   ADT45   45\n",
       "4  101918.jpg  bacterial_leaf_blight   ADT45   45"
      ]
     },
     "execution_count": 3,
     "metadata": {},
     "output_type": "execute_result"
    }
   ],
   "source": [
    "train_df = pd.read_csv(\"../input/paddy-disease-classification/train.csv\")\n",
    "train_df.head(5)"
   ]
  },
  {
   "cell_type": "code",
   "execution_count": 4,
   "id": "6de04d58",
   "metadata": {
    "execution": {
     "iopub.execute_input": "2022-09-20T10:15:38.932482Z",
     "iopub.status.busy": "2022-09-20T10:15:38.932077Z",
     "iopub.status.idle": "2022-09-20T10:15:38.979013Z",
     "shell.execute_reply": "2022-09-20T10:15:38.977823Z"
    },
    "papermill": {
     "duration": 0.053829,
     "end_time": "2022-09-20T10:15:38.982002",
     "exception": false,
     "start_time": "2022-09-20T10:15:38.928173",
     "status": "completed"
    },
    "tags": []
   },
   "outputs": [],
   "source": [
    "train_labels = train_df.label.copy().values\n",
    "train_df[\"label_index\"] = [list(LABELS.keys())[list(LABELS.values()).index(label)] for label in train_labels]   \n",
    "train_df.to_csv(\"pdc-dataframe.csv\", index=False)"
   ]
  }
 ],
 "metadata": {
  "kernelspec": {
   "display_name": "Python 3",
   "language": "python",
   "name": "python3"
  },
  "language_info": {
   "codemirror_mode": {
    "name": "ipython",
    "version": 3
   },
   "file_extension": ".py",
   "mimetype": "text/x-python",
   "name": "python",
   "nbconvert_exporter": "python",
   "pygments_lexer": "ipython3",
   "version": "3.7.12"
  },
  "papermill": {
   "default_parameters": {},
   "duration": 9.85255,
   "end_time": "2022-09-20T10:15:39.606289",
   "environment_variables": {},
   "exception": null,
   "input_path": "__notebook__.ipynb",
   "output_path": "__notebook__.ipynb",
   "parameters": {},
   "start_time": "2022-09-20T10:15:29.753739",
   "version": "2.3.4"
  }
 },
 "nbformat": 4,
 "nbformat_minor": 5
}
