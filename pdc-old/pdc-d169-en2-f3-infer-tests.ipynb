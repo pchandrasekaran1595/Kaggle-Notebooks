{
 "cells": [
  {
   "cell_type": "markdown",
   "id": "41c19689",
   "metadata": {
    "papermill": {
     "duration": 0.005897,
     "end_time": "2022-06-24T23:41:54.775263",
     "exception": false,
     "start_time": "2022-06-24T23:41:54.769366",
     "status": "completed"
    },
    "tags": []
   },
   "source": [
    "### **Setup**"
   ]
  },
  {
   "cell_type": "code",
   "execution_count": 1,
   "id": "5b21b119",
   "metadata": {
    "execution": {
     "iopub.execute_input": "2022-06-24T23:41:54.791689Z",
     "iopub.status.busy": "2022-06-24T23:41:54.790881Z",
     "iopub.status.idle": "2022-06-24T23:42:05.593964Z",
     "shell.execute_reply": "2022-06-24T23:42:05.592900Z"
    },
    "papermill": {
     "duration": 10.812927,
     "end_time": "2022-06-24T23:42:05.596387",
     "exception": false,
     "start_time": "2022-06-24T23:41:54.783460",
     "status": "completed"
    },
    "tags": []
   },
   "outputs": [
    {
     "name": "stderr",
     "output_type": "stream",
     "text": [
      "WARNING: Running pip as the 'root' user can result in broken permissions and conflicting behaviour with the system package manager. It is recommended to use a virtual environment instead: https://pip.pypa.io/warnings/venv\n"
     ]
    }
   ],
   "source": [
    "%%bash\n",
    "pip install timm -q"
   ]
  },
  {
   "cell_type": "markdown",
   "id": "966cb180",
   "metadata": {
    "papermill": {
     "duration": 0.00355,
     "end_time": "2022-06-24T23:42:05.604632",
     "exception": false,
     "start_time": "2022-06-24T23:42:05.601082",
     "status": "completed"
    },
    "tags": []
   },
   "source": [
    "### **Library Imports**"
   ]
  },
  {
   "cell_type": "code",
   "execution_count": 2,
   "id": "5b442f34",
   "metadata": {
    "execution": {
     "iopub.execute_input": "2022-06-24T23:42:05.613880Z",
     "iopub.status.busy": "2022-06-24T23:42:05.613126Z",
     "iopub.status.idle": "2022-06-24T23:42:13.320822Z",
     "shell.execute_reply": "2022-06-24T23:42:13.319889Z"
    },
    "papermill": {
     "duration": 7.714519,
     "end_time": "2022-06-24T23:42:13.322894",
     "exception": false,
     "start_time": "2022-06-24T23:42:05.608375",
     "status": "completed"
    },
    "tags": []
   },
   "outputs": [],
   "source": [
    "import os\n",
    "import re\n",
    "import cv2\n",
    "import timm\n",
    "import torch\n",
    "import numpy as np\n",
    "import pandas as pd\n",
    "import matplotlib.pyplot as plt\n",
    "\n",
    "from time import time\n",
    "from torch import nn, optim\n",
    "from torch.utils.data import Dataset\n",
    "from torch.utils.data import DataLoader as DL\n",
    "from torchvision import models, transforms\n",
    "\n",
    "from sklearn.preprocessing import LabelEncoder"
   ]
  },
  {
   "cell_type": "markdown",
   "id": "4a3255d5",
   "metadata": {
    "papermill": {
     "duration": 0.003459,
     "end_time": "2022-06-24T23:42:13.330115",
     "exception": false,
     "start_time": "2022-06-24T23:42:13.326656",
     "status": "completed"
    },
    "tags": []
   },
   "source": [
    "### **Utilities and Helpers**"
   ]
  },
  {
   "cell_type": "code",
   "execution_count": 3,
   "id": "b7981dc1",
   "metadata": {
    "execution": {
     "iopub.execute_input": "2022-06-24T23:42:13.338769Z",
     "iopub.status.busy": "2022-06-24T23:42:13.338030Z",
     "iopub.status.idle": "2022-06-24T23:42:13.394482Z",
     "shell.execute_reply": "2022-06-24T23:42:13.393765Z"
    },
    "papermill": {
     "duration": 0.062782,
     "end_time": "2022-06-24T23:42:13.396289",
     "exception": false,
     "start_time": "2022-06-24T23:42:13.333507",
     "status": "completed"
    },
    "tags": []
   },
   "outputs": [],
   "source": [
    "SEED = 42\n",
    "SIZE = 384\n",
    "FOLD = 3\n",
    "TRANSFORM = transforms.Compose([transforms.ToTensor(),\n",
    "                                transforms.Normalize([0.49699, 0.58823, 0.23049],\n",
    "                                                     [0.22591, 0.22614, 0.18264]),\n",
    "                                ])\n",
    "MODEL_PATH_1 = f\"../input/pdc-d169-na{SIZE}f-noes-f{FOLD}/saves/ble_state.pt\"\n",
    "MODEL_PATH_2 = f\"../input/pdc-en2-na{SIZE}f-noes-f{FOLD}/saves/ble_state.pt\"\n",
    "\n",
    "DEVICE = torch.device(\"cuda\" if torch.cuda.is_available() else \"cpu\")\n",
    "\n",
    "le = LabelEncoder()\n",
    "\n",
    "\n",
    "def breaker(num: int=50, char: str=\"*\") -> None:\n",
    "    print(\"\\n\" + num*char + \"\\n\")\n",
    "\n",
    "\n",
    "def get_image(path: str, size: int=224) -> np.ndarray:\n",
    "    return cv2.resize(src=cv2.cvtColor(src=cv2.imread(path, cv2.IMREAD_COLOR), code=cv2.COLOR_BGR2RGB), dsize=(size, size), interpolation=cv2.INTER_AREA)"
   ]
  },
  {
   "cell_type": "markdown",
   "id": "5cc6d318",
   "metadata": {
    "papermill": {
     "duration": 0.003623,
     "end_time": "2022-06-24T23:42:13.403418",
     "exception": false,
     "start_time": "2022-06-24T23:42:13.399795",
     "status": "completed"
    },
    "tags": []
   },
   "source": [
    "### **Configuration**"
   ]
  },
  {
   "cell_type": "markdown",
   "id": "c5df3e66",
   "metadata": {
    "papermill": {
     "duration": 0.003201,
     "end_time": "2022-06-24T23:42:13.410028",
     "exception": false,
     "start_time": "2022-06-24T23:42:13.406827",
     "status": "completed"
    },
    "tags": []
   },
   "source": [
    "### **Dataset Template**"
   ]
  },
  {
   "cell_type": "code",
   "execution_count": 4,
   "id": "be29955e",
   "metadata": {
    "execution": {
     "iopub.execute_input": "2022-06-24T23:42:13.417917Z",
     "iopub.status.busy": "2022-06-24T23:42:13.417620Z",
     "iopub.status.idle": "2022-06-24T23:42:13.424359Z",
     "shell.execute_reply": "2022-06-24T23:42:13.423686Z"
    },
    "papermill": {
     "duration": 0.012512,
     "end_time": "2022-06-24T23:42:13.425971",
     "exception": false,
     "start_time": "2022-06-24T23:42:13.413459",
     "status": "completed"
    },
    "tags": []
   },
   "outputs": [],
   "source": [
    "class DS(Dataset):\n",
    "    def __init__(self, base_path: str, filenames: np.ndarray, size: int=224, transform=None):\n",
    "        self.base_path = base_path\n",
    "        self.filenames = filenames\n",
    "        self.size = size\n",
    "        self.transform = transform\n",
    "    \n",
    "    def __len__(self):\n",
    "        return self.filenames.shape[0]\n",
    "    \n",
    "    def __getitem__(self, idx):\n",
    "        return self.transform(get_image(os.path.join(self.base_path, self.filenames[idx]), size=self.size))"
   ]
  },
  {
   "cell_type": "markdown",
   "id": "a31e4c79",
   "metadata": {
    "papermill": {
     "duration": 0.00319,
     "end_time": "2022-06-24T23:42:13.432558",
     "exception": false,
     "start_time": "2022-06-24T23:42:13.429368",
     "status": "completed"
    },
    "tags": []
   },
   "source": [
    "### **Model**"
   ]
  },
  {
   "cell_type": "code",
   "execution_count": 5,
   "id": "49050007",
   "metadata": {
    "execution": {
     "iopub.execute_input": "2022-06-24T23:42:13.440438Z",
     "iopub.status.busy": "2022-06-24T23:42:13.440172Z",
     "iopub.status.idle": "2022-06-24T23:42:13.446897Z",
     "shell.execute_reply": "2022-06-24T23:42:13.446199Z"
    },
    "papermill": {
     "duration": 0.012618,
     "end_time": "2022-06-24T23:42:13.448561",
     "exception": false,
     "start_time": "2022-06-24T23:42:13.435943",
     "status": "completed"
    },
    "tags": []
   },
   "outputs": [],
   "source": [
    "class Model(nn.Module):\n",
    "    def __init__(self, model_name=\"densenet\"):\n",
    "        super(Model, self).__init__()\n",
    "\n",
    "        if model_name == \"densenet\":\n",
    "            self.model = models.densenet169(pretrained=False, progress=True)\n",
    "            # self.freeze()\n",
    "            self.model.classifier = nn.Linear(in_features=self.model.classifier.in_features, out_features=10)\n",
    "        else:\n",
    "            self.model = timm.create_model(model_name=\"efficientnet_b2\", pretrained=False)\n",
    "            # self.freeze()\n",
    "            self.model.classifier = nn.Linear(in_features=self.model.classifier.in_features, out_features=10)\n",
    "    \n",
    "    def freeze(self):\n",
    "        for params in self.parameters(): params.requires_grad = False\n",
    "\n",
    "    def forward(self, x):\n",
    "        return nn.LogSoftmax(dim=1)(self.model(x))"
   ]
  },
  {
   "cell_type": "markdown",
   "id": "1af6799e",
   "metadata": {
    "papermill": {
     "duration": 0.003187,
     "end_time": "2022-06-24T23:42:13.455134",
     "exception": false,
     "start_time": "2022-06-24T23:42:13.451947",
     "status": "completed"
    },
    "tags": []
   },
   "source": [
    "### **Predict Helpers**"
   ]
  },
  {
   "cell_type": "code",
   "execution_count": 6,
   "id": "2a59695c",
   "metadata": {
    "execution": {
     "iopub.execute_input": "2022-06-24T23:42:13.462768Z",
     "iopub.status.busy": "2022-06-24T23:42:13.462510Z",
     "iopub.status.idle": "2022-06-24T23:42:13.470932Z",
     "shell.execute_reply": "2022-06-24T23:42:13.470248Z"
    },
    "papermill": {
     "duration": 0.014065,
     "end_time": "2022-06-24T23:42:13.472562",
     "exception": false,
     "start_time": "2022-06-24T23:42:13.458497",
     "status": "completed"
    },
    "tags": []
   },
   "outputs": [],
   "source": [
    "def predict_batch(models: list=None, model_2=None, dataloader=None, paths: list=None, weights: list=None, device=None) -> np.ndarray:\n",
    "    assert len(models) == len(paths)\n",
    "    \n",
    "    for i in range(len(models)):\n",
    "        models[i].load_state_dict(torch.load(paths[i], map_location=device)[\"model_state_dict\"])\n",
    "        models[i].to(device)    \n",
    "        models[i].eval()\n",
    "    \n",
    "    y_pred = torch.zeros(1, 1).to(device)\n",
    "    \n",
    "    for X in dataloader:\n",
    "        X = X.to(device)\n",
    "        with torch.no_grad():\n",
    "            output = weights[0]*torch.exp(models[0](X)) + weights[1]*torch.exp(models[1](X))\n",
    "            output = torch.argmax(output, dim=1)\n",
    "        y_pred = torch.cat((y_pred, output.view(-1, 1)), dim=0)\n",
    "    \n",
    "    return y_pred[1:].detach().cpu().numpy()"
   ]
  },
  {
   "cell_type": "markdown",
   "id": "ed070ba5",
   "metadata": {
    "papermill": {
     "duration": 0.00323,
     "end_time": "2022-06-24T23:42:13.479287",
     "exception": false,
     "start_time": "2022-06-24T23:42:13.476057",
     "status": "completed"
    },
    "tags": []
   },
   "source": [
    "### **Submission**"
   ]
  },
  {
   "cell_type": "code",
   "execution_count": 7,
   "id": "2d7947e8",
   "metadata": {
    "execution": {
     "iopub.execute_input": "2022-06-24T23:42:13.487060Z",
     "iopub.status.busy": "2022-06-24T23:42:13.486790Z",
     "iopub.status.idle": "2022-06-24T23:43:39.064033Z",
     "shell.execute_reply": "2022-06-24T23:43:39.063208Z"
    },
    "papermill": {
     "duration": 85.583833,
     "end_time": "2022-06-24T23:43:39.066506",
     "exception": false,
     "start_time": "2022-06-24T23:42:13.482673",
     "status": "completed"
    },
    "tags": []
   },
   "outputs": [],
   "source": [
    "df = pd.read_csv(\"../input/paddy-disease-classification/train.csv\")\n",
    "ss_df = pd.read_csv(\"../input/paddy-disease-classification/sample_submission.csv\")\n",
    "\n",
    "labels = df.label.copy().values\n",
    "labels = le.fit_transform(labels)\n",
    "\n",
    "ts_data_setup = DS(base_path=\"../input/paddy-disease-classification/test_images\", \n",
    "                   filenames=ss_df.image_id.copy().values,\n",
    "                   size=SIZE,\n",
    "                   transform=TRANSFORM)\n",
    "ts_data = DL(ts_data_setup, batch_size=64, shuffle=False)\n",
    "\n",
    "model_1 = Model(\"densenet\").to(DEVICE)\n",
    "model_2 = Model(\"efficientnet\").to(DEVICE)\n",
    "\n",
    "\n",
    "y_pred = predict_batch(models=[model_1, model_2], \n",
    "                       dataloader=ts_data, \n",
    "                       paths=[MODEL_PATH_1, MODEL_PATH_2],\n",
    "                       weights=[0.55, 0.45],\n",
    "                       device=DEVICE)\n",
    "\n",
    "ss_df[\"label\"] = le.inverse_transform(y_pred.astype(\"uint8\").reshape(-1))\n",
    "ss_df.to_csv(\"submission.csv\", index=False)"
   ]
  }
 ],
 "metadata": {
  "kernelspec": {
   "display_name": "Python 3",
   "language": "python",
   "name": "python3"
  },
  "language_info": {
   "codemirror_mode": {
    "name": "ipython",
    "version": 3
   },
   "file_extension": ".py",
   "mimetype": "text/x-python",
   "name": "python",
   "nbconvert_exporter": "python",
   "pygments_lexer": "ipython3",
   "version": "3.7.12"
  },
  "papermill": {
   "default_parameters": {},
   "duration": 115.276541,
   "end_time": "2022-06-24T23:43:42.257485",
   "environment_variables": {},
   "exception": null,
   "input_path": "__notebook__.ipynb",
   "output_path": "__notebook__.ipynb",
   "parameters": {},
   "start_time": "2022-06-24T23:41:46.980944",
   "version": "2.3.4"
  }
 },
 "nbformat": 4,
 "nbformat_minor": 5
}
