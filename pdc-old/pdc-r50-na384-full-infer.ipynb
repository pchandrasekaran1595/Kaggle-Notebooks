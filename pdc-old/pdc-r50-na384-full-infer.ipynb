{
 "cells": [
  {
   "cell_type": "markdown",
   "id": "c52203ed",
   "metadata": {
    "papermill": {
     "duration": 0.004009,
     "end_time": "2022-06-15T09:59:48.345219",
     "exception": false,
     "start_time": "2022-06-15T09:59:48.341210",
     "status": "completed"
    },
    "tags": []
   },
   "source": [
    "### **Library Imports**"
   ]
  },
  {
   "cell_type": "code",
   "execution_count": 1,
   "id": "a994245c",
   "metadata": {
    "execution": {
     "iopub.execute_input": "2022-06-15T09:59:48.355247Z",
     "iopub.status.busy": "2022-06-15T09:59:48.354637Z",
     "iopub.status.idle": "2022-06-15T09:59:51.301714Z",
     "shell.execute_reply": "2022-06-15T09:59:51.300924Z"
    },
    "papermill": {
     "duration": 2.95475,
     "end_time": "2022-06-15T09:59:51.305241",
     "exception": false,
     "start_time": "2022-06-15T09:59:48.350491",
     "status": "completed"
    },
    "tags": []
   },
   "outputs": [],
   "source": [
    "import os\n",
    "import re\n",
    "import cv2\n",
    "import torch\n",
    "import numpy as np\n",
    "import pandas as pd\n",
    "import matplotlib.pyplot as plt\n",
    "\n",
    "from time import time\n",
    "from torch import nn, optim\n",
    "from torch.utils.data import Dataset\n",
    "from torch.utils.data import DataLoader as DL\n",
    "from torchvision import models, transforms\n",
    "\n",
    "from sklearn.preprocessing import LabelEncoder"
   ]
  },
  {
   "cell_type": "markdown",
   "id": "f259a22b",
   "metadata": {
    "papermill": {
     "duration": 0.007156,
     "end_time": "2022-06-15T09:59:51.317391",
     "exception": false,
     "start_time": "2022-06-15T09:59:51.310235",
     "status": "completed"
    },
    "tags": []
   },
   "source": [
    "### **Utilities and Helpers**"
   ]
  },
  {
   "cell_type": "code",
   "execution_count": 2,
   "id": "e3054590",
   "metadata": {
    "execution": {
     "iopub.execute_input": "2022-06-15T09:59:51.326247Z",
     "iopub.status.busy": "2022-06-15T09:59:51.325762Z",
     "iopub.status.idle": "2022-06-15T09:59:51.395441Z",
     "shell.execute_reply": "2022-06-15T09:59:51.394687Z"
    },
    "papermill": {
     "duration": 0.076274,
     "end_time": "2022-06-15T09:59:51.397199",
     "exception": false,
     "start_time": "2022-06-15T09:59:51.320925",
     "status": "completed"
    },
    "tags": []
   },
   "outputs": [],
   "source": [
    "SEED = 42\n",
    "SIZE = 384\n",
    "TRANSFORM = transforms.Compose([transforms.ToTensor(),\n",
    "                                transforms.Normalize([0.49699, 0.58823, 0.23049],\n",
    "                                                     [0.22591, 0.22614, 0.18264]),\n",
    "                                ])\n",
    "MODEL_PATH = f\"../input/pdc-r50-na{SIZE}-full/saves/state.pt\"\n",
    "DEVICE = torch.device(\"cuda\" if torch.cuda.is_available() else \"cpu\")\n",
    "\n",
    "le = LabelEncoder()\n",
    "\n",
    "\n",
    "def breaker(num: int=50, char: str=\"*\") -> None:\n",
    "    print(\"\\n\" + num*char + \"\\n\")\n",
    "\n",
    "\n",
    "def get_image(path: str, size: int=224) -> np.ndarray:\n",
    "    return cv2.resize(src=cv2.cvtColor(src=cv2.imread(path, cv2.IMREAD_COLOR), code=cv2.COLOR_BGR2RGB), dsize=(size, size), interpolation=cv2.INTER_AREA)"
   ]
  },
  {
   "cell_type": "markdown",
   "id": "d2c79c11",
   "metadata": {
    "papermill": {
     "duration": 0.002842,
     "end_time": "2022-06-15T09:59:51.403341",
     "exception": false,
     "start_time": "2022-06-15T09:59:51.400499",
     "status": "completed"
    },
    "tags": []
   },
   "source": [
    "### **Configuration**"
   ]
  },
  {
   "cell_type": "markdown",
   "id": "160b7dd9",
   "metadata": {
    "papermill": {
     "duration": 0.002804,
     "end_time": "2022-06-15T09:59:51.409264",
     "exception": false,
     "start_time": "2022-06-15T09:59:51.406460",
     "status": "completed"
    },
    "tags": []
   },
   "source": [
    "### **Dataset Template**"
   ]
  },
  {
   "cell_type": "code",
   "execution_count": 3,
   "id": "8aac2beb",
   "metadata": {
    "execution": {
     "iopub.execute_input": "2022-06-15T09:59:51.416676Z",
     "iopub.status.busy": "2022-06-15T09:59:51.416038Z",
     "iopub.status.idle": "2022-06-15T09:59:51.421946Z",
     "shell.execute_reply": "2022-06-15T09:59:51.421170Z"
    },
    "papermill": {
     "duration": 0.011322,
     "end_time": "2022-06-15T09:59:51.423574",
     "exception": false,
     "start_time": "2022-06-15T09:59:51.412252",
     "status": "completed"
    },
    "tags": []
   },
   "outputs": [],
   "source": [
    "class DS(Dataset):\n",
    "    def __init__(self, base_path: str, filenames: np.ndarray, size: int=224, transform=None):\n",
    "        self.base_path = base_path\n",
    "        self.filenames = filenames\n",
    "        self.size = size\n",
    "        self.transform = transform\n",
    "    \n",
    "    def __len__(self):\n",
    "        return self.filenames.shape[0]\n",
    "    \n",
    "    def __getitem__(self, idx):\n",
    "        return self.transform(get_image(os.path.join(self.base_path, self.filenames[idx]), size=self.size))"
   ]
  },
  {
   "cell_type": "markdown",
   "id": "19d93292",
   "metadata": {
    "papermill": {
     "duration": 0.00282,
     "end_time": "2022-06-15T09:59:51.429375",
     "exception": false,
     "start_time": "2022-06-15T09:59:51.426555",
     "status": "completed"
    },
    "tags": []
   },
   "source": [
    "### **Model**"
   ]
  },
  {
   "cell_type": "code",
   "execution_count": 4,
   "id": "6108d687",
   "metadata": {
    "execution": {
     "iopub.execute_input": "2022-06-15T09:59:51.436316Z",
     "iopub.status.busy": "2022-06-15T09:59:51.436038Z",
     "iopub.status.idle": "2022-06-15T09:59:51.441906Z",
     "shell.execute_reply": "2022-06-15T09:59:51.441106Z"
    },
    "papermill": {
     "duration": 0.011495,
     "end_time": "2022-06-15T09:59:51.443858",
     "exception": false,
     "start_time": "2022-06-15T09:59:51.432363",
     "status": "completed"
    },
    "tags": []
   },
   "outputs": [],
   "source": [
    "class Model(nn.Module):\n",
    "    def __init__(self):\n",
    "        super(Model, self).__init__()\n",
    "\n",
    "        self.model = models.resnet50(pretrained=False, progress=True)\n",
    "        self.freeze()\n",
    "        self.model.fc = nn.Linear(in_features=self.model.fc.in_features, out_features=10)\n",
    "    \n",
    "    def freeze(self):\n",
    "        for params in self.parameters(): params.requires_grad = False\n",
    "\n",
    "    def forward(self, x):\n",
    "        return nn.LogSoftmax(dim=1)(self.model(x))"
   ]
  },
  {
   "cell_type": "markdown",
   "id": "841d6c2c",
   "metadata": {
    "papermill": {
     "duration": 0.002976,
     "end_time": "2022-06-15T09:59:51.450102",
     "exception": false,
     "start_time": "2022-06-15T09:59:51.447126",
     "status": "completed"
    },
    "tags": []
   },
   "source": [
    "### **Predict Helpers**"
   ]
  },
  {
   "cell_type": "code",
   "execution_count": 5,
   "id": "70495711",
   "metadata": {
    "execution": {
     "iopub.execute_input": "2022-06-15T09:59:51.456954Z",
     "iopub.status.busy": "2022-06-15T09:59:51.456707Z",
     "iopub.status.idle": "2022-06-15T09:59:51.462772Z",
     "shell.execute_reply": "2022-06-15T09:59:51.462106Z"
    },
    "papermill": {
     "duration": 0.01133,
     "end_time": "2022-06-15T09:59:51.464429",
     "exception": false,
     "start_time": "2022-06-15T09:59:51.453099",
     "status": "completed"
    },
    "tags": []
   },
   "outputs": [],
   "source": [
    "def predict_batch(model=None, dataloader=None, path=None, device=None) -> np.ndarray:\n",
    "    model.load_state_dict(torch.load(path, map_location=device)[\"model_state_dict\"])\n",
    "    model.to(device)    \n",
    "    model.eval()\n",
    "    \n",
    "    y_pred = torch.zeros(1, 1).to(device)\n",
    "    \n",
    "    for X in dataloader:\n",
    "        X = X.to(device)\n",
    "        with torch.no_grad():\n",
    "            output = torch.argmax(torch.exp(model(X)), dim=1)\n",
    "        y_pred = torch.cat((y_pred, output.view(-1, 1)), dim=0)\n",
    "    \n",
    "    return y_pred[1:].detach().cpu().numpy()"
   ]
  },
  {
   "cell_type": "markdown",
   "id": "3a513330",
   "metadata": {
    "papermill": {
     "duration": 0.002817,
     "end_time": "2022-06-15T09:59:51.470228",
     "exception": false,
     "start_time": "2022-06-15T09:59:51.467411",
     "status": "completed"
    },
    "tags": []
   },
   "source": [
    "### **Submission**"
   ]
  },
  {
   "cell_type": "code",
   "execution_count": 6,
   "id": "36af6470",
   "metadata": {
    "execution": {
     "iopub.execute_input": "2022-06-15T09:59:51.477284Z",
     "iopub.status.busy": "2022-06-15T09:59:51.477013Z",
     "iopub.status.idle": "2022-06-15T10:01:11.887629Z",
     "shell.execute_reply": "2022-06-15T10:01:11.886795Z"
    },
    "papermill": {
     "duration": 80.416563,
     "end_time": "2022-06-15T10:01:11.889804",
     "exception": false,
     "start_time": "2022-06-15T09:59:51.473241",
     "status": "completed"
    },
    "tags": []
   },
   "outputs": [],
   "source": [
    "df = pd.read_csv(\"../input/paddy-disease-classification/train.csv\")\n",
    "ss_df = pd.read_csv(\"../input/paddy-disease-classification/sample_submission.csv\")\n",
    "\n",
    "labels = df.label.copy().values\n",
    "labels = le.fit_transform(labels)\n",
    "\n",
    "ts_data_setup = DS(base_path=\"../input/paddy-disease-classification/test_images\", \n",
    "                   filenames=ss_df.image_id.copy().values,\n",
    "                   size=SIZE,\n",
    "                   transform=TRANSFORM)\n",
    "ts_data = DL(ts_data_setup, batch_size=64, shuffle=False)\n",
    "\n",
    "model = Model().to(DEVICE)\n",
    "\n",
    "y_pred = predict_batch(model=model, \n",
    "                       dataloader=ts_data, \n",
    "                       path=MODEL_PATH,\n",
    "                       device=DEVICE)\n",
    "\n",
    "ss_df[\"label\"] = le.inverse_transform(y_pred.astype(\"uint8\").reshape(-1))\n",
    "ss_df.to_csv(\"submission.csv\", index=False)"
   ]
  }
 ],
 "metadata": {
  "kernelspec": {
   "display_name": "Python 3",
   "language": "python",
   "name": "python3"
  },
  "language_info": {
   "codemirror_mode": {
    "name": "ipython",
    "version": 3
   },
   "file_extension": ".py",
   "mimetype": "text/x-python",
   "name": "python",
   "nbconvert_exporter": "python",
   "pygments_lexer": "ipython3",
   "version": "3.7.12"
  },
  "papermill": {
   "default_parameters": {},
   "duration": 93.156315,
   "end_time": "2022-06-15T10:01:13.215449",
   "environment_variables": {},
   "exception": null,
   "input_path": "__notebook__.ipynb",
   "output_path": "__notebook__.ipynb",
   "parameters": {},
   "start_time": "2022-06-15T09:59:40.059134",
   "version": "2.3.4"
  }
 },
 "nbformat": 4,
 "nbformat_minor": 5
}
