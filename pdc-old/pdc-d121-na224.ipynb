{
 "cells": [
  {
   "cell_type": "markdown",
   "id": "55bfccc5",
   "metadata": {
    "_cell_guid": "b1076dfc-b9ad-4769-8c92-a6c4dae69d19",
    "_uuid": "8f2839f25d086af736a60e9eeb907d3b93b6e0e5",
    "papermill": {
     "duration": 0.00597,
     "end_time": "2022-06-14T05:47:56.093406",
     "exception": false,
     "start_time": "2022-06-14T05:47:56.087436",
     "status": "completed"
    },
    "tags": []
   },
   "source": [
    "### **Library Imports**"
   ]
  },
  {
   "cell_type": "code",
   "execution_count": 1,
   "id": "6b42c3c0",
   "metadata": {
    "execution": {
     "iopub.execute_input": "2022-06-14T05:47:56.105673Z",
     "iopub.status.busy": "2022-06-14T05:47:56.104939Z",
     "iopub.status.idle": "2022-06-14T05:47:59.047379Z",
     "shell.execute_reply": "2022-06-14T05:47:59.046588Z"
    },
    "papermill": {
     "duration": 2.951414,
     "end_time": "2022-06-14T05:47:59.049641",
     "exception": false,
     "start_time": "2022-06-14T05:47:56.098227",
     "status": "completed"
    },
    "tags": []
   },
   "outputs": [],
   "source": [
    "import os\n",
    "import re\n",
    "import torch\n",
    "import numpy as np\n",
    "import pandas as pd\n",
    "import matplotlib.pyplot as plt\n",
    "\n",
    "from time import time\n",
    "from torch import nn, optim\n",
    "from torch.utils.data import Dataset\n",
    "from torch.utils.data import DataLoader as DL\n",
    "from torchvision import models, transforms\n",
    "\n",
    "from sklearn.model_selection import StratifiedKFold\n",
    "from sklearn.preprocessing import LabelEncoder\n",
    "from sklearn.metrics import accuracy_score"
   ]
  },
  {
   "cell_type": "markdown",
   "id": "7b32bb25",
   "metadata": {
    "papermill": {
     "duration": 0.003468,
     "end_time": "2022-06-14T05:47:59.057397",
     "exception": false,
     "start_time": "2022-06-14T05:47:59.053929",
     "status": "completed"
    },
    "tags": []
   },
   "source": [
    "### **Utilities and Helpers**"
   ]
  },
  {
   "cell_type": "code",
   "execution_count": 2,
   "id": "7cddb502",
   "metadata": {
    "execution": {
     "iopub.execute_input": "2022-06-14T05:47:59.066440Z",
     "iopub.status.busy": "2022-06-14T05:47:59.065566Z",
     "iopub.status.idle": "2022-06-14T05:47:59.077823Z",
     "shell.execute_reply": "2022-06-14T05:47:59.077093Z"
    },
    "papermill": {
     "duration": 0.018445,
     "end_time": "2022-06-14T05:47:59.079468",
     "exception": false,
     "start_time": "2022-06-14T05:47:59.061023",
     "status": "completed"
    },
    "tags": []
   },
   "outputs": [],
   "source": [
    "SEED = 42\n",
    "SIZE = 224\n",
    "le = LabelEncoder()\n",
    "\n",
    "\n",
    "def breaker(num: int=50, char: str=\"*\") -> None:\n",
    "    print(\"\\n\" + num*char + \"\\n\")\n",
    "\n",
    "    \n",
    "def show_loss_graphs(A: list) -> None:\n",
    "    TL, VL = [], []\n",
    "    for i in range(len(L)):\n",
    "        TL.append(L[i][\"train\"])\n",
    "        VL.append(L[i][\"valid\"])\n",
    "    x_Axis = np.arange(1, len(TL) + 1)\n",
    "    plt.figure()\n",
    "    plt.plot(x_Axis, TL, \"r\", label=\"Train\")\n",
    "    plt.plot(x_Axis, VL, \"b\", label=\"Valid\")\n",
    "    plt.legend()\n",
    "    plt.grid()\n",
    "    plt.title(\"Loss Graph\")\n",
    "    plt.show()\n",
    "\n",
    "    \n",
    "def show_accuracy_graphs(A: list) -> None:\n",
    "    TA, VA = [], []\n",
    "    for i in range(len(L)):\n",
    "        TA.append(A[i][\"train\"])\n",
    "        VA.append(A[i][\"valid\"])\n",
    "    x_Axis = np.arange(1, len(TA) + 1)\n",
    "    plt.figure()\n",
    "    plt.plot(x_Axis, TA, \"r\", label=\"Train\")\n",
    "    plt.plot(x_Axis, VA, \"b\", label=\"Valid\")\n",
    "    plt.legend()\n",
    "    plt.grid()\n",
    "    plt.title(\"Accuracy Graph\")\n",
    "    plt.show()\n",
    "\n",
    "\n",
    "def show_lr_graph(LR: list) -> None:\n",
    "    x_Axis = [i+1 for i in range(len(LR))]\n",
    "    plt.figure(figsize=(8, 6))\n",
    "    plt.plot(x_Axis, LR, \"rx\")\n",
    "    plt.grid()\n",
    "    plt.show()"
   ]
  },
  {
   "cell_type": "markdown",
   "id": "f1e9ef86",
   "metadata": {
    "papermill": {
     "duration": 0.003422,
     "end_time": "2022-06-14T05:47:59.086496",
     "exception": false,
     "start_time": "2022-06-14T05:47:59.083074",
     "status": "completed"
    },
    "tags": []
   },
   "source": [
    "### **Configuration**"
   ]
  },
  {
   "cell_type": "code",
   "execution_count": 3,
   "id": "d2affcf3",
   "metadata": {
    "execution": {
     "iopub.execute_input": "2022-06-14T05:47:59.094690Z",
     "iopub.status.busy": "2022-06-14T05:47:59.094427Z",
     "iopub.status.idle": "2022-06-14T05:47:59.157444Z",
     "shell.execute_reply": "2022-06-14T05:47:59.156755Z"
    },
    "papermill": {
     "duration": 0.069137,
     "end_time": "2022-06-14T05:47:59.159200",
     "exception": false,
     "start_time": "2022-06-14T05:47:59.090063",
     "status": "completed"
    },
    "tags": []
   },
   "outputs": [],
   "source": [
    "class CFG(object):\n",
    "    def __init__(self, \n",
    "                 seed: int = 42,\n",
    "                 n_splits: int = 5,\n",
    "                 batch_size: int = 16,\n",
    "                 epochs: int = 25,\n",
    "                 early_stopping: int = 5,\n",
    "                 lr: float = 1e-4,\n",
    "                 wd: float = 0.0,\n",
    "                 max_lr: float = 1e-3,\n",
    "                 pct_start: float = 0.2,\n",
    "                 steps_per_epoch: int = 100,\n",
    "                 div_factor: int = 1e3, \n",
    "                 final_div_factor: float = 1e3,\n",
    "                 ):\n",
    "        \n",
    "        self.seed = seed\n",
    "        self.n_splits = n_splits\n",
    "        self.batch_size = batch_size\n",
    "        self.epochs = epochs\n",
    "        self.early_stopping = early_stopping\n",
    "        self.lr = lr\n",
    "        self.wd = wd\n",
    "        self.max_lr = max_lr\n",
    "        self.pct_start = pct_start\n",
    "        self.steps_per_epoch = steps_per_epoch\n",
    "        self.div_factor = div_factor\n",
    "        self.final_div_factor = final_div_factor\n",
    "        self.device = torch.device(\"cuda\" if torch.cuda.is_available() else \"cpu\")\n",
    "        self.transform = transforms.Compose([transforms.ToTensor(),\n",
    "                                transforms.Normalize([0.485, 0.456, 0.406],\n",
    "                                                     [0.229, 0.224, 0.225]),\n",
    "                                ])\n",
    "        self.save_path = \"saves\"\n",
    "        if not os.path.exists(self.save_path): os.makedirs(self.save_path)\n",
    "    \n",
    "cfg = CFG(seed=SEED)"
   ]
  },
  {
   "cell_type": "markdown",
   "id": "2744637d",
   "metadata": {
    "papermill": {
     "duration": 0.003425,
     "end_time": "2022-06-14T05:47:59.166390",
     "exception": false,
     "start_time": "2022-06-14T05:47:59.162965",
     "status": "completed"
    },
    "tags": []
   },
   "source": [
    "### **Dataset Template**"
   ]
  },
  {
   "cell_type": "code",
   "execution_count": 4,
   "id": "e98fe208",
   "metadata": {
    "execution": {
     "iopub.execute_input": "2022-06-14T05:47:59.174654Z",
     "iopub.status.busy": "2022-06-14T05:47:59.174368Z",
     "iopub.status.idle": "2022-06-14T05:47:59.180484Z",
     "shell.execute_reply": "2022-06-14T05:47:59.179796Z"
    },
    "papermill": {
     "duration": 0.012228,
     "end_time": "2022-06-14T05:47:59.182189",
     "exception": false,
     "start_time": "2022-06-14T05:47:59.169961",
     "status": "completed"
    },
    "tags": []
   },
   "outputs": [],
   "source": [
    "class DS(Dataset):\n",
    "    def __init__(self, images: np.ndarray, labels: np.ndarray = None, transform=None):\n",
    "        self.images = images\n",
    "        self.labels = labels\n",
    "        self.transform = transform\n",
    "    \n",
    "    def __len__(self):\n",
    "        return self.images.shape[0]\n",
    "    \n",
    "    def __getitem__(self, idx):\n",
    "        if self.labels is not None:\n",
    "            return self.transform(self.images[idx]), torch.LongTensor(self.labels[idx])\n",
    "        else:\n",
    "            return self.transform(self.images[idx])"
   ]
  },
  {
   "cell_type": "markdown",
   "id": "4dd4db7a",
   "metadata": {
    "papermill": {
     "duration": 0.003402,
     "end_time": "2022-06-14T05:47:59.189270",
     "exception": false,
     "start_time": "2022-06-14T05:47:59.185868",
     "status": "completed"
    },
    "tags": []
   },
   "source": [
    "### **Model**"
   ]
  },
  {
   "cell_type": "code",
   "execution_count": 5,
   "id": "e0974328",
   "metadata": {
    "execution": {
     "iopub.execute_input": "2022-06-14T05:47:59.197782Z",
     "iopub.status.busy": "2022-06-14T05:47:59.197433Z",
     "iopub.status.idle": "2022-06-14T05:47:59.203794Z",
     "shell.execute_reply": "2022-06-14T05:47:59.203036Z"
    },
    "papermill": {
     "duration": 0.012555,
     "end_time": "2022-06-14T05:47:59.205378",
     "exception": false,
     "start_time": "2022-06-14T05:47:59.192823",
     "status": "completed"
    },
    "tags": []
   },
   "outputs": [],
   "source": [
    "class Model(nn.Module):\n",
    "    def __init__(self):\n",
    "        super(Model, self).__init__()\n",
    "\n",
    "        self.model = models.densenet121(pretrained=True, progress=True)\n",
    "        self.freeze()\n",
    "        self.model.classifier = nn.Linear(in_features=self.model.classifier.in_features, out_features=10)\n",
    "    \n",
    "    def freeze(self):\n",
    "        for params in self.parameters(): params.requires_grad = False\n",
    "\n",
    "    def forward(self, x):\n",
    "        return nn.LogSoftmax(dim=1)(self.model(x))"
   ]
  },
  {
   "cell_type": "markdown",
   "id": "cdfc83af",
   "metadata": {
    "papermill": {
     "duration": 0.00405,
     "end_time": "2022-06-14T05:47:59.213170",
     "exception": false,
     "start_time": "2022-06-14T05:47:59.209120",
     "status": "completed"
    },
    "tags": []
   },
   "source": [
    "### **Fit and Predict Helpers**"
   ]
  },
  {
   "cell_type": "code",
   "execution_count": 6,
   "id": "3989986b",
   "metadata": {
    "execution": {
     "iopub.execute_input": "2022-06-14T05:47:59.222133Z",
     "iopub.status.busy": "2022-06-14T05:47:59.221812Z",
     "iopub.status.idle": "2022-06-14T05:47:59.247182Z",
     "shell.execute_reply": "2022-06-14T05:47:59.246346Z"
    },
    "papermill": {
     "duration": 0.032092,
     "end_time": "2022-06-14T05:47:59.248877",
     "exception": false,
     "start_time": "2022-06-14T05:47:59.216785",
     "status": "completed"
    },
    "tags": []
   },
   "outputs": [],
   "source": [
    "def fit(model=None, \n",
    "        optimizer=None, \n",
    "        scheduler_rlrop=None,\n",
    "        scheduler_oclr=None,\n",
    "        epochs=None, \n",
    "        early_stopping_patience=None, \n",
    "        dataloaders=None, \n",
    "        fold=None, \n",
    "        save_path=None,\n",
    "        device=None,\n",
    "        verbose=False) -> tuple:\n",
    "    \n",
    "    def get_accuracy(y_pred, y_true):\n",
    "        y_pred = torch.argmax(y_pred, dim=1)\n",
    "        return torch.count_nonzero(y_pred == y_true).item() / len(y_pred)\n",
    "    \n",
    "    if verbose:\n",
    "        breaker()\n",
    "        if fold: print(f\"Training Fold {fold}...\")\n",
    "        else: print(\"Training ...\")\n",
    "        breaker()\n",
    "        \n",
    "    bestLoss, bestAccs = {\"train\" : np.inf, \"valid\" : np.inf}, {\"train\" : 0.0, \"valid\" : 0.0}\n",
    "    Losses, Accuracies, LRs = [], [], []\n",
    "    if fold: name = f\"state_fold_{fold}.pt\"\n",
    "    else: name = \"state.pt\"\n",
    "\n",
    "    start_time = time()\n",
    "    for e in range(epochs):\n",
    "        e_st = time()\n",
    "        epochLoss, epochAccs = {\"train\" : 0.0, \"valid\" : 0.0}, {\"train\" : 0.0, \"valid\" : 0.0}\n",
    "\n",
    "        for phase in [\"train\", \"valid\"]:\n",
    "            if phase == \"train\":\n",
    "                model.train()\n",
    "            else:\n",
    "                model.eval()\n",
    "            \n",
    "            lossPerPass, accsPerPass = [], []\n",
    "\n",
    "            for X, y in dataloaders[phase]:\n",
    "                X, y = X.to(device), y.to(device).view(-1)\n",
    "\n",
    "                optimizer.zero_grad()\n",
    "                with torch.set_grad_enabled(phase == \"train\"):\n",
    "                    output = model(X)\n",
    "                    loss = torch.nn.NLLLoss()(output, y)\n",
    "                    if phase == \"train\":\n",
    "                        loss.backward()\n",
    "                        optimizer.step()\n",
    "                        if scheduler_oclr: scheduler_oclr.step()\n",
    "                lossPerPass.append(loss.item())\n",
    "                accsPerPass.append(get_accuracy(output, y))\n",
    "            epochLoss[phase] = np.mean(np.array(lossPerPass))\n",
    "            epochAccs[phase] = np.mean(np.array(accsPerPass))\n",
    "        if scheduler_oclr: LRs.append(scheduler_oclr.get_last_lr())\n",
    "        Losses.append(epochLoss)\n",
    "        Accuracies.append(epochAccs)\n",
    "        \n",
    "        if scheduler_oclr:\n",
    "            save_dict = {\"model_state_dict\"     : model.state_dict(),\n",
    "                         \"optim_state_dict\"     : optimizer.state_dict(),\n",
    "                         \"scheduler_state_dict\" : scheduler_oclr.state_dict()}\n",
    "        \n",
    "        elif scheduler_rlrop:\n",
    "            save_dict = {\"model_state_dict\"     : model.state_dict(),\n",
    "                         \"optim_state_dict\"     : optimizer.state_dict(),\n",
    "                         \"scheduler_state_dict\" : scheduler_rlrop.state_dict()}\n",
    "        \n",
    "        else:\n",
    "            save_dict = {\"model_state_dict\"     : model.state_dict(),\n",
    "                         \"optim_state_dict\"     : optimizer.state_dict()}\n",
    "        \n",
    "        if early_stopping_patience:\n",
    "            if epochLoss[\"valid\"] < bestLoss[\"valid\"]:\n",
    "                bestLoss = epochLoss\n",
    "                BLE = e + 1\n",
    "                torch.save(save_dict, os.path.join(save_path, name))\n",
    "                early_stopping_step = 0\n",
    "            else:\n",
    "                early_stopping_step += 1\n",
    "                if early_stopping_step > early_stopping_patience:\n",
    "                    print(\"\\nEarly Stopping at Epoch {}\".format(e + 1))\n",
    "                    break\n",
    "        \n",
    "        if epochLoss[\"valid\"] < bestLoss[\"valid\"]:\n",
    "            bestLoss = epochLoss\n",
    "            BLE = e + 1\n",
    "            torch.save(save_dict,os.path.join(save_path, name))\n",
    "        \n",
    "        if epochAccs[\"valid\"] > bestAccs[\"valid\"]:\n",
    "            bestAccs = epochAccs\n",
    "            BAE = e + 1\n",
    "        \n",
    "        if scheduler_rlrop: scheduler_rlrop.step(epochLoss[\"valid\"])\n",
    "        \n",
    "        if verbose:\n",
    "            print(\"Epoch: {} | Train Loss: {:.5f} | Valid Loss: {:.5f} |\\\n",
    "Train Accs: {:.5f} | Valid Accs: {:.5f} | Time: {:.2f} seconds\".format(e+1, \n",
    "                                                                       epochLoss[\"train\"], epochLoss[\"valid\"], \n",
    "                                                                       epochAccs[\"train\"], epochAccs[\"valid\"], \n",
    "                                                                       time()-e_st))\n",
    "\n",
    "    if verbose:                                           \n",
    "        breaker()\n",
    "        print(f\"Best Validation Loss at Epoch {BLE}\")\n",
    "        breaker()\n",
    "        print(f\"Best Validation Accs at Epoch {BAE}\")\n",
    "        breaker()\n",
    "        print(\"Time Taken [{} Epochs] : {:.2f} minutes\".format(len(Losses), (time()-start_time)/60))\n",
    "    \n",
    "    return Losses, Accuracies, LRs, BLE, BAE, name\n",
    "\n",
    "\n",
    "def predict_batch(model=None, dataloader=None, path=None, device=None) -> np.ndarray:\n",
    "    model.load_state_dict(torch.load(path, map_location=device)[\"model_state_dict\"])\n",
    "    model.to(device)    \n",
    "    model.eval()\n",
    "    \n",
    "    y_pred = torch.zeros(1, 1).to(device)\n",
    "    \n",
    "    for X in dataloader:\n",
    "        X = X.to(device)\n",
    "        with torch.no_grad():\n",
    "            output = torch.argmax(torch.exp(model(X)), dim=1)\n",
    "        y_pred = torch.cat((y_pred, output.view(-1, 1)), dim=0)\n",
    "    \n",
    "    return y_pred[1:].detach().cpu().numpy()"
   ]
  },
  {
   "cell_type": "markdown",
   "id": "ad4c1edb",
   "metadata": {
    "papermill": {
     "duration": 0.00356,
     "end_time": "2022-06-14T05:47:59.256289",
     "exception": false,
     "start_time": "2022-06-14T05:47:59.252729",
     "status": "completed"
    },
    "tags": []
   },
   "source": [
    "### **Train**"
   ]
  },
  {
   "cell_type": "code",
   "execution_count": 7,
   "id": "e0ade4bf",
   "metadata": {
    "execution": {
     "iopub.execute_input": "2022-06-14T05:47:59.264808Z",
     "iopub.status.busy": "2022-06-14T05:47:59.264468Z",
     "iopub.status.idle": "2022-06-14T05:48:14.211478Z",
     "shell.execute_reply": "2022-06-14T05:48:14.210634Z"
    },
    "papermill": {
     "duration": 14.953644,
     "end_time": "2022-06-14T05:48:14.213596",
     "exception": false,
     "start_time": "2022-06-14T05:47:59.259952",
     "status": "completed"
    },
    "tags": []
   },
   "outputs": [],
   "source": [
    "images = np.load(f\"../input/pdc-images-{SIZE}/images-{SIZE}.npy\")\n",
    "df = pd.read_csv(\"../input/paddy-disease-classification/train.csv\")\n",
    "labels = df.label.copy().values\n",
    "labels = le.fit_transform(labels)"
   ]
  },
  {
   "cell_type": "code",
   "execution_count": 8,
   "id": "70ff018d",
   "metadata": {
    "execution": {
     "iopub.execute_input": "2022-06-14T05:48:14.223008Z",
     "iopub.status.busy": "2022-06-14T05:48:14.222347Z",
     "iopub.status.idle": "2022-06-14T06:05:10.957284Z",
     "shell.execute_reply": "2022-06-14T06:05:10.956192Z"
    },
    "papermill": {
     "duration": 1016.741155,
     "end_time": "2022-06-14T06:05:10.958931",
     "exception": false,
     "start_time": "2022-06-14T05:48:14.217776",
     "status": "completed"
    },
    "tags": []
   },
   "outputs": [
    {
     "name": "stderr",
     "output_type": "stream",
     "text": [
      "Downloading: \"https://download.pytorch.org/models/densenet121-a639ec97.pth\" to /root/.cache/torch/hub/checkpoints/densenet121-a639ec97.pth\n"
     ]
    },
    {
     "data": {
      "application/vnd.jupyter.widget-view+json": {
       "model_id": "83b06408f5af4885bc886a64032c1489",
       "version_major": 2,
       "version_minor": 0
      },
      "text/plain": [
       "  0%|          | 0.00/30.8M [00:00<?, ?B/s]"
      ]
     },
     "metadata": {},
     "output_type": "display_data"
    },
    {
     "name": "stdout",
     "output_type": "stream",
     "text": [
      "\n",
      "**************************************************\n",
      "\n",
      "Training ...\n",
      "\n",
      "**************************************************\n",
      "\n",
      "Epoch: 1 | Train Loss: 2.30024 | Valid Loss: 2.23458 |Train Accs: 0.13196 | Valid Accs: 0.15076 | Time: 34.21 seconds\n",
      "Epoch: 2 | Train Loss: 2.17837 | Valid Loss: 2.14208 |Train Accs: 0.18174 | Valid Accs: 0.21326 | Time: 27.84 seconds\n",
      "Epoch: 3 | Train Loss: 2.08276 | Valid Loss: 2.02419 |Train Accs: 0.25660 | Valid Accs: 0.29294 | Time: 28.05 seconds\n",
      "Epoch: 4 | Train Loss: 1.94216 | Valid Loss: 1.86105 |Train Accs: 0.35094 | Valid Accs: 0.39265 | Time: 27.63 seconds\n",
      "Epoch: 5 | Train Loss: 1.77527 | Valid Loss: 1.69521 |Train Accs: 0.41893 | Valid Accs: 0.44084 | Time: 28.25 seconds\n",
      "Epoch: 6 | Train Loss: 1.63208 | Valid Loss: 1.55011 |Train Accs: 0.46132 | Valid Accs: 0.48903 | Time: 27.66 seconds\n",
      "Epoch: 7 | Train Loss: 1.49790 | Valid Loss: 1.41807 |Train Accs: 0.51408 | Valid Accs: 0.53626 | Time: 28.15 seconds\n",
      "Epoch: 8 | Train Loss: 1.37995 | Valid Loss: 1.32303 |Train Accs: 0.54674 | Valid Accs: 0.57300 | Time: 27.93 seconds\n",
      "Epoch: 9 | Train Loss: 1.29352 | Valid Loss: 1.24470 |Train Accs: 0.58285 | Valid Accs: 0.60401 | Time: 27.94 seconds\n",
      "Epoch: 10 | Train Loss: 1.21475 | Valid Loss: 1.18567 |Train Accs: 0.60765 | Valid Accs: 0.62071 | Time: 27.97 seconds\n",
      "Epoch: 11 | Train Loss: 1.15701 | Valid Loss: 1.12988 |Train Accs: 0.62397 | Valid Accs: 0.64599 | Time: 27.76 seconds\n",
      "Epoch: 12 | Train Loss: 1.11103 | Valid Loss: 1.07928 |Train Accs: 0.63419 | Valid Accs: 0.65601 | Time: 27.96 seconds\n",
      "Epoch: 13 | Train Loss: 1.05769 | Valid Loss: 1.10828 |Train Accs: 0.65554 | Valid Accs: 0.62691 | Time: 27.31 seconds\n",
      "Epoch: 14 | Train Loss: 1.05033 | Valid Loss: 1.03798 |Train Accs: 0.65262 | Valid Accs: 0.66031 | Time: 27.72 seconds\n",
      "Epoch: 15 | Train Loss: 0.99720 | Valid Loss: 1.02275 |Train Accs: 0.66631 | Valid Accs: 0.65315 | Time: 27.71 seconds\n",
      "Epoch: 16 | Train Loss: 0.99089 | Valid Loss: 1.06471 |Train Accs: 0.67027 | Valid Accs: 0.64933 | Time: 27.45 seconds\n",
      "Epoch: 17 | Train Loss: 0.96714 | Valid Loss: 1.02739 |Train Accs: 0.67975 | Valid Accs: 0.65219 | Time: 27.60 seconds\n",
      "Epoch: 18 | Train Loss: 0.95789 | Valid Loss: 0.99406 |Train Accs: 0.68097 | Valid Accs: 0.66174 | Time: 27.92 seconds\n",
      "Epoch: 19 | Train Loss: 0.93351 | Valid Loss: 0.98081 |Train Accs: 0.68983 | Valid Accs: 0.68225 | Time: 28.01 seconds\n",
      "Epoch: 20 | Train Loss: 0.93227 | Valid Loss: 0.95246 |Train Accs: 0.68688 | Valid Accs: 0.68607 | Time: 28.58 seconds\n",
      "Epoch: 21 | Train Loss: 0.89922 | Valid Loss: 0.97075 |Train Accs: 0.69395 | Valid Accs: 0.67271 | Time: 27.88 seconds\n",
      "Epoch: 22 | Train Loss: 0.90503 | Valid Loss: 0.98737 |Train Accs: 0.69189 | Valid Accs: 0.67700 | Time: 27.76 seconds\n",
      "Epoch: 23 | Train Loss: 0.88883 | Valid Loss: 0.93767 |Train Accs: 0.69993 | Valid Accs: 0.69036 | Time: 27.88 seconds\n",
      "Epoch: 24 | Train Loss: 0.88170 | Valid Loss: 0.98980 |Train Accs: 0.70283 | Valid Accs: 0.67271 | Time: 27.79 seconds\n",
      "Epoch: 25 | Train Loss: 0.87639 | Valid Loss: 0.95344 |Train Accs: 0.69875 | Valid Accs: 0.68273 | Time: 27.39 seconds\n",
      "Epoch: 26 | Train Loss: 0.85321 | Valid Loss: 0.94143 |Train Accs: 0.71442 | Valid Accs: 0.69656 | Time: 27.95 seconds\n",
      "Epoch: 27 | Train Loss: 0.85138 | Valid Loss: 0.94421 |Train Accs: 0.70777 | Valid Accs: 0.68941 | Time: 28.06 seconds\n",
      "Epoch: 28 | Train Loss: 0.86238 | Valid Loss: 0.94085 |Train Accs: 0.70453 | Valid Accs: 0.69275 | Time: 27.99 seconds\n",
      "Epoch: 29 | Train Loss: 0.84595 | Valid Loss: 0.91899 |Train Accs: 0.71711 | Valid Accs: 0.70086 | Time: 28.15 seconds\n",
      "Epoch: 30 | Train Loss: 0.84462 | Valid Loss: 0.91349 |Train Accs: 0.70626 | Valid Accs: 0.70324 | Time: 28.30 seconds\n",
      "Epoch: 31 | Train Loss: 0.83997 | Valid Loss: 0.96904 |Train Accs: 0.71485 | Valid Accs: 0.68225 | Time: 28.25 seconds\n",
      "Epoch: 32 | Train Loss: 0.83239 | Valid Loss: 0.94805 |Train Accs: 0.71312 | Valid Accs: 0.69275 | Time: 27.74 seconds\n",
      "Epoch: 33 | Train Loss: 0.82256 | Valid Loss: 0.91831 |Train Accs: 0.71792 | Valid Accs: 0.70754 | Time: 27.84 seconds\n",
      "Epoch: 34 | Train Loss: 0.82437 | Valid Loss: 0.95569 |Train Accs: 0.72202 | Valid Accs: 0.68511 | Time: 27.74 seconds\n",
      "Epoch: 35 | Train Loss: 0.83017 | Valid Loss: 0.96791 |Train Accs: 0.71562 | Valid Accs: 0.67748 | Time: 27.94 seconds\n",
      "\n",
      "Early Stopping at Epoch 36\n",
      "\n",
      "**************************************************\n",
      "\n",
      "Best Validation Loss at Epoch 30\n",
      "\n",
      "**************************************************\n",
      "\n",
      "Best Validation Accs at Epoch 33\n",
      "\n",
      "**************************************************\n",
      "\n",
      "Time Taken [36 Epochs] : 16.83 minutes\n",
      "\n",
      "**************************************************\n",
      "\n"
     ]
    },
    {
     "data": {
      "image/png": "[encoded data removed]",
      "text/plain": [
       "<Figure size 432x288 with 1 Axes>"
      ]
     },
     "metadata": {
      "needs_background": "light"
     },
     "output_type": "display_data"
    },
    {
     "name": "stdout",
     "output_type": "stream",
     "text": [
      "\n",
      "**************************************************\n",
      "\n"
     ]
    },
    {
     "data": {
      "image/png": "[encoded data removed]",
      "text/plain": [
       "<Figure size 432x288 with 1 Axes>"
      ]
     },
     "metadata": {
      "needs_background": "light"
     },
     "output_type": "display_data"
    },
    {
     "name": "stdout",
     "output_type": "stream",
     "text": [
      "\n",
      "**************************************************\n",
      "\n"
     ]
    },
    {
     "data": {
      "image/png": "[encoded data removed]",
      "text/plain": [
       "<Figure size 576x432 with 1 Axes>"
      ]
     },
     "metadata": {
      "needs_background": "light"
     },
     "output_type": "display_data"
    },
    {
     "name": "stdout",
     "output_type": "stream",
     "text": [
      "\n",
      "**************************************************\n",
      "\n"
     ]
    }
   ],
   "source": [
    "for tr_idx, va_idx in StratifiedKFold(n_splits=cfg.n_splits, random_state=cfg.seed, shuffle=True).split(images, labels):\n",
    "    break\n",
    "\n",
    "tr_images, va_images, tr_labels, va_labels = images[tr_idx], images[va_idx], labels[tr_idx], labels[va_idx]\n",
    "\n",
    "tr_data_setup = DS(tr_images, tr_labels.reshape(-1, 1), cfg.transform)\n",
    "va_data_setup = DS(va_images, va_labels.reshape(-1, 1), cfg.transform)\n",
    "\n",
    "dataloaders = {\n",
    "    \"train\" : DL(tr_data_setup, batch_size=cfg.batch_size, shuffle=True, generator=torch.manual_seed(cfg.seed)),\n",
    "    \"valid\" : DL(va_data_setup, batch_size=cfg.batch_size, shuffle=False),\n",
    "}\n",
    "\n",
    "cfg = CFG(epochs=100, batch_size=64, steps_per_epoch=len(dataloaders[\"train\"]))\n",
    "\n",
    "torch.manual_seed(cfg.seed)\n",
    "model = Model().to(cfg.device)\n",
    "optimizer = optim.Adam([p for p in model.parameters() if p.requires_grad], lr=cfg.lr, weight_decay=cfg.wd)\n",
    "scheduler_oclr = optim.lr_scheduler.OneCycleLR(optimizer=optimizer, \n",
    "                                               max_lr=cfg.max_lr, \n",
    "                                               epochs=cfg.epochs, \n",
    "                                               steps_per_epoch=cfg.steps_per_epoch,\n",
    "                                               pct_start=cfg.pct_start, \n",
    "                                               div_factor=cfg.div_factor, \n",
    "                                               final_div_factor=cfg.final_div_factor)\n",
    "# scheduler_rlrop = optim.lr_scheduler.ReduceLROnPlateau(optimizer=optimizer,\n",
    "#                                                       patience=cfg.patience,\n",
    "#                                                       eps=cfg.eps,\n",
    "#                                                       verbose=True)\n",
    "\n",
    "# scheduler_oclr = None\n",
    "scheduler_rlrop = None\n",
    "\n",
    "L, A, LR, BLE, BAE, name = fit(model=model, \n",
    "                               optimizer=optimizer, \n",
    "                               scheduler_oclr=scheduler_oclr,\n",
    "                               scheduler_rlrop=scheduler_rlrop,\n",
    "                               epochs=cfg.epochs, \n",
    "                               early_stopping_patience=cfg.early_stopping, \n",
    "                               dataloaders=dataloaders, \n",
    "                               device=cfg.device,\n",
    "                               save_path=cfg.save_path,\n",
    "                               fold=None,\n",
    "                               verbose=True)\n",
    "\n",
    "breaker()\n",
    "show_loss_graphs(L)\n",
    "breaker()\n",
    "show_accuracy_graphs(A)\n",
    "breaker()\n",
    "\n",
    "if scheduler_oclr:\n",
    "    show_lr_graph(LR)\n",
    "    breaker()"
   ]
  }
 ],
 "metadata": {
  "kernelspec": {
   "display_name": "Python 3",
   "language": "python",
   "name": "python3"
  },
  "language_info": {
   "codemirror_mode": {
    "name": "ipython",
    "version": 3
   },
   "file_extension": ".py",
   "mimetype": "text/x-python",
   "name": "python",
   "nbconvert_exporter": "python",
   "pygments_lexer": "ipython3",
   "version": "3.7.12"
  },
  "papermill": {
   "default_parameters": {},
   "duration": 1044.175395,
   "end_time": "2022-06-14T06:05:12.394243",
   "environment_variables": {},
   "exception": null,
   "input_path": "__notebook__.ipynb",
   "output_path": "__notebook__.ipynb",
   "parameters": {},
   "start_time": "2022-06-14T05:47:48.218848",
   "version": "2.3.4"
  },
  "widgets": {
   "application/vnd.jupyter.widget-state+json": {
    "state": {
     "059b23009ee949ccb3a8e3007c313dcd": {
      "model_module": "@jupyter-widgets/controls",
      "model_module_version": "1.5.0",
      "model_name": "FloatProgressModel",
      "state": {
       "_dom_classes": [],
       "_model_module": "@jupyter-widgets/controls",
       "_model_module_version": "1.5.0",
       "_model_name": "FloatProgressModel",
       "_view_count": null,
       "_view_module": "@jupyter-widgets/controls",
       "_view_module_version": "1.5.0",
       "_view_name": "ProgressView",
       "bar_style": "success",
       "description": "",
       "description_tooltip": null,
       "layout": "IPY_MODEL_cd7b824305d4450ea34961a663301baa",
       "max": 32342954.0,
       "min": 0.0,
       "orientation": "horizontal",
       "style": "IPY_MODEL_3e073ca5fcd74244936410cdb84256ab",
       "value": 32342954.0
      }
     },
     "18a88a9b08e042858f43f34312504f07": {
      "model_module": "@jupyter-widgets/controls",
      "model_module_version": "1.5.0",
      "model_name": "DescriptionStyleModel",
      "state": {
       "_model_module": "@jupyter-widgets/controls",
       "_model_module_version": "1.5.0",
       "_model_name": "DescriptionStyleModel",
       "_view_count": null,
       "_view_module": "@jupyter-widgets/base",
       "_view_module_version": "1.2.0",
       "_view_name": "StyleView",
       "description_width": ""
      }
     },
     "3e073ca5fcd74244936410cdb84256ab": {
      "model_module": "@jupyter-widgets/controls",
      "model_module_version": "1.5.0",
      "model_name": "ProgressStyleModel",
      "state": {
       "_model_module": "@jupyter-widgets/controls",
       "_model_module_version": "1.5.0",
       "_model_name": "ProgressStyleModel",
       "_view_count": null,
       "_view_module": "@jupyter-widgets/base",
       "_view_module_version": "1.2.0",
       "_view_name": "StyleView",
       "bar_color": null,
       "description_width": ""
      }
     },
     "83b06408f5af4885bc886a64032c1489": {
      "model_module": "@jupyter-widgets/controls",
      "model_module_version": "1.5.0",
      "model_name": "HBoxModel",
      "state": {
       "_dom_classes": [],
       "_model_module": "@jupyter-widgets/controls",
       "_model_module_version": "1.5.0",
       "_model_name": "HBoxModel",
       "_view_count": null,
       "_view_module": "@jupyter-widgets/controls",
       "_view_module_version": "1.5.0",
       "_view_name": "HBoxView",
       "box_style": "",
       "children": [
        "IPY_MODEL_9f62e0ebd54b404c86078f73912725fe",
        "IPY_MODEL_059b23009ee949ccb3a8e3007c313dcd",
        "IPY_MODEL_8bbd5cde283a4dfb8242b2b933b4b7d3"
       ],
       "layout": "IPY_MODEL_f181238e95104c76b7e6ec8a3a5b766c"
      }
     },
     "8bbd5cde283a4dfb8242b2b933b4b7d3": {
      "model_module": "@jupyter-widgets/controls",
      "model_module_version": "1.5.0",
      "model_name": "HTMLModel",
      "state": {
       "_dom_classes": [],
       "_model_module": "@jupyter-widgets/controls",
       "_model_module_version": "1.5.0",
       "_model_name": "HTMLModel",
       "_view_count": null,
       "_view_module": "@jupyter-widgets/controls",
       "_view_module_version": "1.5.0",
       "_view_name": "HTMLView",
       "description": "",
       "description_tooltip": null,
       "layout": "IPY_MODEL_cb9368878f06443f9b399ab30f4d45ff",
       "placeholder": "​",
       "style": "IPY_MODEL_e5d4c197d30548c7822db71b90f9e5f1",
       "value": " 30.8M/30.8M [00:02&lt;00:00, 23.4MB/s]"
      }
     },
     "9f62e0ebd54b404c86078f73912725fe": {
      "model_module": "@jupyter-widgets/controls",
      "model_module_version": "1.5.0",
      "model_name": "HTMLModel",
      "state": {
       "_dom_classes": [],
       "_model_module": "@jupyter-widgets/controls",
       "_model_module_version": "1.5.0",
       "_model_name": "HTMLModel",
       "_view_count": null,
       "_view_module": "@jupyter-widgets/controls",
       "_view_module_version": "1.5.0",
       "_view_name": "HTMLView",
       "description": "",
       "description_tooltip": null,
       "layout": "IPY_MODEL_c2d7d5440dd049878d2c679336499adf",
       "placeholder": "​",
       "style": "IPY_MODEL_18a88a9b08e042858f43f34312504f07",
       "value": "100%"
      }
     },
     "c2d7d5440dd049878d2c679336499adf": {
      "model_module": "@jupyter-widgets/base",
      "model_module_version": "1.2.0",
      "model_name": "LayoutModel",
      "state": {
       "_model_module": "@jupyter-widgets/base",
       "_model_module_version": "1.2.0",
       "_model_name": "LayoutModel",
       "_view_count": null,
       "_view_module": "@jupyter-widgets/base",
       "_view_module_version": "1.2.0",
       "_view_name": "LayoutView",
       "align_content": null,
       "align_items": null,
       "align_self": null,
       "border": null,
       "bottom": null,
       "display": null,
       "flex": null,
       "flex_flow": null,
       "grid_area": null,
       "grid_auto_columns": null,
       "grid_auto_flow": null,
       "grid_auto_rows": null,
       "grid_column": null,
       "grid_gap": null,
       "grid_row": null,
       "grid_template_areas": null,
       "grid_template_columns": null,
       "grid_template_rows": null,
       "height": null,
       "justify_content": null,
       "justify_items": null,
       "left": null,
       "margin": null,
       "max_height": null,
       "max_width": null,
       "min_height": null,
       "min_width": null,
       "object_fit": null,
       "object_position": null,
       "order": null,
       "overflow": null,
       "overflow_x": null,
       "overflow_y": null,
       "padding": null,
       "right": null,
       "top": null,
       "visibility": null,
       "width": null
      }
     },
     "cb9368878f06443f9b399ab30f4d45ff": {
      "model_module": "@jupyter-widgets/base",
      "model_module_version": "1.2.0",
      "model_name": "LayoutModel",
      "state": {
       "_model_module": "@jupyter-widgets/base",
       "_model_module_version": "1.2.0",
       "_model_name": "LayoutModel",
       "_view_count": null,
       "_view_module": "@jupyter-widgets/base",
       "_view_module_version": "1.2.0",
       "_view_name": "LayoutView",
       "align_content": null,
       "align_items": null,
       "align_self": null,
       "border": null,
       "bottom": null,
       "display": null,
       "flex": null,
       "flex_flow": null,
       "grid_area": null,
       "grid_auto_columns": null,
       "grid_auto_flow": null,
       "grid_auto_rows": null,
       "grid_column": null,
       "grid_gap": null,
       "grid_row": null,
       "grid_template_areas": null,
       "grid_template_columns": null,
       "grid_template_rows": null,
       "height": null,
       "justify_content": null,
       "justify_items": null,
       "left": null,
       "margin": null,
       "max_height": null,
       "max_width": null,
       "min_height": null,
       "min_width": null,
       "object_fit": null,
       "object_position": null,
       "order": null,
       "overflow": null,
       "overflow_x": null,
       "overflow_y": null,
       "padding": null,
       "right": null,
       "top": null,
       "visibility": null,
       "width": null
      }
     },
     "cd7b824305d4450ea34961a663301baa": {
      "model_module": "@jupyter-widgets/base",
      "model_module_version": "1.2.0",
      "model_name": "LayoutModel",
      "state": {
       "_model_module": "@jupyter-widgets/base",
       "_model_module_version": "1.2.0",
       "_model_name": "LayoutModel",
       "_view_count": null,
       "_view_module": "@jupyter-widgets/base",
       "_view_module_version": "1.2.0",
       "_view_name": "LayoutView",
       "align_content": null,
       "align_items": null,
       "align_self": null,
       "border": null,
       "bottom": null,
       "display": null,
       "flex": null,
       "flex_flow": null,
       "grid_area": null,
       "grid_auto_columns": null,
       "grid_auto_flow": null,
       "grid_auto_rows": null,
       "grid_column": null,
       "grid_gap": null,
       "grid_row": null,
       "grid_template_areas": null,
       "grid_template_columns": null,
       "grid_template_rows": null,
       "height": null,
       "justify_content": null,
       "justify_items": null,
       "left": null,
       "margin": null,
       "max_height": null,
       "max_width": null,
       "min_height": null,
       "min_width": null,
       "object_fit": null,
       "object_position": null,
       "order": null,
       "overflow": null,
       "overflow_x": null,
       "overflow_y": null,
       "padding": null,
       "right": null,
       "top": null,
       "visibility": null,
       "width": null
      }
     },
     "e5d4c197d30548c7822db71b90f9e5f1": {
      "model_module": "@jupyter-widgets/controls",
      "model_module_version": "1.5.0",
      "model_name": "DescriptionStyleModel",
      "state": {
       "_model_module": "@jupyter-widgets/controls",
       "_model_module_version": "1.5.0",
       "_model_name": "DescriptionStyleModel",
       "_view_count": null,
       "_view_module": "@jupyter-widgets/base",
       "_view_module_version": "1.2.0",
       "_view_name": "StyleView",
       "description_width": ""
      }
     },
     "f181238e95104c76b7e6ec8a3a5b766c": {
      "model_module": "@jupyter-widgets/base",
      "model_module_version": "1.2.0",
      "model_name": "LayoutModel",
      "state": {
       "_model_module": "@jupyter-widgets/base",
       "_model_module_version": "1.2.0",
       "_model_name": "LayoutModel",
       "_view_count": null,
       "_view_module": "@jupyter-widgets/base",
       "_view_module_version": "1.2.0",
       "_view_name": "LayoutView",
       "align_content": null,
       "align_items": null,
       "align_self": null,
       "border": null,
       "bottom": null,
       "display": null,
       "flex": null,
       "flex_flow": null,
       "grid_area": null,
       "grid_auto_columns": null,
       "grid_auto_flow": null,
       "grid_auto_rows": null,
       "grid_column": null,
       "grid_gap": null,
       "grid_row": null,
       "grid_template_areas": null,
       "grid_template_columns": null,
       "grid_template_rows": null,
       "height": null,
       "justify_content": null,
       "justify_items": null,
       "left": null,
       "margin": null,
       "max_height": null,
       "max_width": null,
       "min_height": null,
       "min_width": null,
       "object_fit": null,
       "object_position": null,
       "order": null,
       "overflow": null,
       "overflow_x": null,
       "overflow_y": null,
       "padding": null,
       "right": null,
       "top": null,
       "visibility": null,
       "width": null
      }
     }
    },
    "version_major": 2,
    "version_minor": 0
   }
  }
 },
 "nbformat": 4,
 "nbformat_minor": 5
}
