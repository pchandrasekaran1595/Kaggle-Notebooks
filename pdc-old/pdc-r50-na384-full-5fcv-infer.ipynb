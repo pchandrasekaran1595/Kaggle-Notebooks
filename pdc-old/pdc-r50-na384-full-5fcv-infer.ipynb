{
 "cells": [
  {
   "cell_type": "markdown",
   "id": "ba80bc13",
   "metadata": {
    "papermill": {
     "duration": 0.007408,
     "end_time": "2022-06-16T10:35:03.112545",
     "exception": false,
     "start_time": "2022-06-16T10:35:03.105137",
     "status": "completed"
    },
    "tags": []
   },
   "source": [
    "### **Library Imports**"
   ]
  },
  {
   "cell_type": "code",
   "execution_count": 1,
   "id": "6adab5fb",
   "metadata": {
    "execution": {
     "iopub.execute_input": "2022-06-16T10:35:03.131269Z",
     "iopub.status.busy": "2022-06-16T10:35:03.130625Z",
     "iopub.status.idle": "2022-06-16T10:35:06.724659Z",
     "shell.execute_reply": "2022-06-16T10:35:06.723623Z"
    },
    "papermill": {
     "duration": 3.604911,
     "end_time": "2022-06-16T10:35:06.727461",
     "exception": false,
     "start_time": "2022-06-16T10:35:03.122550",
     "status": "completed"
    },
    "tags": []
   },
   "outputs": [],
   "source": [
    "import os\n",
    "import re\n",
    "import cv2\n",
    "import torch\n",
    "import numpy as np\n",
    "import pandas as pd\n",
    "import matplotlib.pyplot as plt\n",
    "\n",
    "from time import time\n",
    "from torch import nn, optim\n",
    "from torch.utils.data import Dataset\n",
    "from torch.utils.data import DataLoader as DL\n",
    "from torchvision import models, transforms\n",
    "\n",
    "from sklearn.preprocessing import LabelEncoder"
   ]
  },
  {
   "cell_type": "markdown",
   "id": "8825e557",
   "metadata": {
    "papermill": {
     "duration": 0.003497,
     "end_time": "2022-06-16T10:35:06.735056",
     "exception": false,
     "start_time": "2022-06-16T10:35:06.731559",
     "status": "completed"
    },
    "tags": []
   },
   "source": [
    "### **Utilities and Helpers**"
   ]
  },
  {
   "cell_type": "code",
   "execution_count": 2,
   "id": "e10f0c33",
   "metadata": {
    "execution": {
     "iopub.execute_input": "2022-06-16T10:35:06.744697Z",
     "iopub.status.busy": "2022-06-16T10:35:06.743637Z",
     "iopub.status.idle": "2022-06-16T10:35:06.822531Z",
     "shell.execute_reply": "2022-06-16T10:35:06.821587Z"
    },
    "papermill": {
     "duration": 0.086372,
     "end_time": "2022-06-16T10:35:06.825175",
     "exception": false,
     "start_time": "2022-06-16T10:35:06.738803",
     "status": "completed"
    },
    "tags": []
   },
   "outputs": [],
   "source": [
    "SEED = 42\n",
    "SIZE = 384\n",
    "TRANSFORM = transforms.Compose([transforms.ToTensor(),\n",
    "                                transforms.Normalize([0.49699, 0.58823, 0.23049],\n",
    "                                                     [0.22591, 0.22614, 0.18264]),\n",
    "                                ])\n",
    "DEVICE = torch.device(\"cuda\" if torch.cuda.is_available() else \"cpu\")\n",
    "\n",
    "le = LabelEncoder()\n",
    "\n",
    "\n",
    "def breaker(num: int=50, char: str=\"*\") -> None:\n",
    "    print(\"\\n\" + num*char + \"\\n\")\n",
    "\n",
    "\n",
    "def get_image(path: str, size: int=224) -> np.ndarray:\n",
    "    return cv2.resize(src=cv2.cvtColor(src=cv2.imread(path, cv2.IMREAD_COLOR), code=cv2.COLOR_BGR2RGB), dsize=(size, size), interpolation=cv2.INTER_AREA)"
   ]
  },
  {
   "cell_type": "markdown",
   "id": "bef9b0ca",
   "metadata": {
    "papermill": {
     "duration": 0.003238,
     "end_time": "2022-06-16T10:35:06.832398",
     "exception": false,
     "start_time": "2022-06-16T10:35:06.829160",
     "status": "completed"
    },
    "tags": []
   },
   "source": [
    "### **Configuration**"
   ]
  },
  {
   "cell_type": "markdown",
   "id": "4906e611",
   "metadata": {
    "papermill": {
     "duration": 0.003455,
     "end_time": "2022-06-16T10:35:06.839663",
     "exception": false,
     "start_time": "2022-06-16T10:35:06.836208",
     "status": "completed"
    },
    "tags": []
   },
   "source": [
    "### **Dataset Template**"
   ]
  },
  {
   "cell_type": "code",
   "execution_count": 3,
   "id": "7f178b9f",
   "metadata": {
    "execution": {
     "iopub.execute_input": "2022-06-16T10:35:06.848798Z",
     "iopub.status.busy": "2022-06-16T10:35:06.847891Z",
     "iopub.status.idle": "2022-06-16T10:35:06.855614Z",
     "shell.execute_reply": "2022-06-16T10:35:06.854377Z"
    },
    "papermill": {
     "duration": 0.014458,
     "end_time": "2022-06-16T10:35:06.857637",
     "exception": false,
     "start_time": "2022-06-16T10:35:06.843179",
     "status": "completed"
    },
    "tags": []
   },
   "outputs": [],
   "source": [
    "class DS(Dataset):\n",
    "    def __init__(self, base_path: str, filenames: np.ndarray, size: int=224, transform=None):\n",
    "        self.base_path = base_path\n",
    "        self.filenames = filenames\n",
    "        self.size = size\n",
    "        self.transform = transform\n",
    "    \n",
    "    def __len__(self):\n",
    "        return self.filenames.shape[0]\n",
    "    \n",
    "    def __getitem__(self, idx):\n",
    "        return self.transform(get_image(os.path.join(self.base_path, self.filenames[idx]), size=self.size))"
   ]
  },
  {
   "cell_type": "markdown",
   "id": "e5e22abd",
   "metadata": {
    "papermill": {
     "duration": 0.003431,
     "end_time": "2022-06-16T10:35:06.864923",
     "exception": false,
     "start_time": "2022-06-16T10:35:06.861492",
     "status": "completed"
    },
    "tags": []
   },
   "source": [
    "### **Model**"
   ]
  },
  {
   "cell_type": "code",
   "execution_count": 4,
   "id": "0a83cca0",
   "metadata": {
    "execution": {
     "iopub.execute_input": "2022-06-16T10:35:06.873872Z",
     "iopub.status.busy": "2022-06-16T10:35:06.873546Z",
     "iopub.status.idle": "2022-06-16T10:35:06.881212Z",
     "shell.execute_reply": "2022-06-16T10:35:06.879999Z"
    },
    "papermill": {
     "duration": 0.015067,
     "end_time": "2022-06-16T10:35:06.883841",
     "exception": false,
     "start_time": "2022-06-16T10:35:06.868774",
     "status": "completed"
    },
    "tags": []
   },
   "outputs": [],
   "source": [
    "class Model(nn.Module):\n",
    "    def __init__(self):\n",
    "        super(Model, self).__init__()\n",
    "\n",
    "        self.model = models.resnet50(pretrained=False, progress=True)\n",
    "        self.freeze()\n",
    "        self.model.fc = nn.Linear(in_features=self.model.fc.in_features, out_features=10)\n",
    "    \n",
    "    def freeze(self):\n",
    "        for params in self.parameters(): params.requires_grad = False\n",
    "\n",
    "    def forward(self, x):\n",
    "        return nn.LogSoftmax(dim=1)(self.model(x))"
   ]
  },
  {
   "cell_type": "markdown",
   "id": "400ef599",
   "metadata": {
    "papermill": {
     "duration": 0.003717,
     "end_time": "2022-06-16T10:35:06.891423",
     "exception": false,
     "start_time": "2022-06-16T10:35:06.887706",
     "status": "completed"
    },
    "tags": []
   },
   "source": [
    "### **Predict Helpers**"
   ]
  },
  {
   "cell_type": "code",
   "execution_count": 5,
   "id": "712afc3a",
   "metadata": {
    "execution": {
     "iopub.execute_input": "2022-06-16T10:35:06.900467Z",
     "iopub.status.busy": "2022-06-16T10:35:06.900032Z",
     "iopub.status.idle": "2022-06-16T10:35:06.909084Z",
     "shell.execute_reply": "2022-06-16T10:35:06.907988Z"
    },
    "papermill": {
     "duration": 0.016726,
     "end_time": "2022-06-16T10:35:06.911841",
     "exception": false,
     "start_time": "2022-06-16T10:35:06.895115",
     "status": "completed"
    },
    "tags": []
   },
   "outputs": [],
   "source": [
    "def predict_batch(model=None, dataloader=None, path=None, device=None) -> np.ndarray:\n",
    "    model.load_state_dict(torch.load(path, map_location=device)[\"model_state_dict\"])\n",
    "    model.to(device)    \n",
    "    model.eval()\n",
    "    \n",
    "    y_pred = torch.zeros(1, 1).to(device)\n",
    "    \n",
    "    for X in dataloader:\n",
    "        X = X.to(device)\n",
    "        with torch.no_grad():\n",
    "            output = torch.argmax(torch.exp(model(X)), dim=1)\n",
    "        y_pred = torch.cat((y_pred, output.view(-1, 1)), dim=0)\n",
    "    \n",
    "    return y_pred[1:].detach().cpu().numpy()"
   ]
  },
  {
   "cell_type": "markdown",
   "id": "d664c900",
   "metadata": {
    "papermill": {
     "duration": 0.003581,
     "end_time": "2022-06-16T10:35:06.919187",
     "exception": false,
     "start_time": "2022-06-16T10:35:06.915606",
     "status": "completed"
    },
    "tags": []
   },
   "source": [
    "### **Submission**"
   ]
  },
  {
   "cell_type": "code",
   "execution_count": 6,
   "id": "561b7c0b",
   "metadata": {
    "execution": {
     "iopub.execute_input": "2022-06-16T10:35:06.928166Z",
     "iopub.status.busy": "2022-06-16T10:35:06.927838Z",
     "iopub.status.idle": "2022-06-16T10:39:50.092409Z",
     "shell.execute_reply": "2022-06-16T10:39:50.091346Z"
    },
    "papermill": {
     "duration": 283.172247,
     "end_time": "2022-06-16T10:39:50.095118",
     "exception": false,
     "start_time": "2022-06-16T10:35:06.922871",
     "status": "completed"
    },
    "tags": []
   },
   "outputs": [],
   "source": [
    "df = pd.read_csv(\"../input/paddy-disease-classification/train.csv\")\n",
    "ss_df = pd.read_csv(\"../input/paddy-disease-classification/sample_submission.csv\")\n",
    "\n",
    "labels = df.label.copy().values\n",
    "labels = le.fit_transform(labels)\n",
    "\n",
    "ts_data_setup = DS(base_path=\"../input/paddy-disease-classification/test_images\", \n",
    "                   filenames=ss_df.image_id.copy().values,\n",
    "                   size=SIZE,\n",
    "                   transform=TRANSFORM)\n",
    "ts_data = DL(ts_data_setup, batch_size=64, shuffle=False)\n",
    "\n",
    "model = Model().to(DEVICE)\n",
    "\n",
    "model_paths = [\"../input/pdc-r50-na384-full-f1/saves/state_fold_1.pt\",\n",
    "         \"../input/pdc-r50-na384-full-f2/saves/state_fold_2.pt\",\n",
    "         \"../input/pdc-r50-na384-full-f3/saves/state_fold_3.pt\",\n",
    "         \"../input/pdc-r50-na384-full-f4/saves/state_fold_4.pt\",\n",
    "         \"../input/pdc-r50-na384-full-f5/saves/state_fold_5.pt\"]\n",
    "\n",
    "y_pred = np.zeros((len(os.listdir(\"../input/paddy-disease-classification/test_images\")), 1))\n",
    "\n",
    "for model_path in model_paths:\n",
    "    y_pred += predict_batch(model=model, \n",
    "                            dataloader=ts_data, \n",
    "                            path=model_path,\n",
    "                            device=DEVICE)\n",
    "\n",
    "y_pred /= len(model_paths)\n",
    "\n",
    "ss_df[\"label\"] = le.inverse_transform(y_pred.astype(\"uint8\").reshape(-1))\n",
    "ss_df.to_csv(\"submission.csv\", index=False)"
   ]
  }
 ],
 "metadata": {
  "kernelspec": {
   "display_name": "Python 3",
   "language": "python",
   "name": "python3"
  },
  "language_info": {
   "codemirror_mode": {
    "name": "ipython",
    "version": 3
   },
   "file_extension": ".py",
   "mimetype": "text/x-python",
   "name": "python",
   "nbconvert_exporter": "python",
   "pygments_lexer": "ipython3",
   "version": "3.7.12"
  },
  "papermill": {
   "default_parameters": {},
   "duration": 298.388142,
   "end_time": "2022-06-16T10:39:51.732442",
   "environment_variables": {},
   "exception": null,
   "input_path": "__notebook__.ipynb",
   "output_path": "__notebook__.ipynb",
   "parameters": {},
   "start_time": "2022-06-16T10:34:53.344300",
   "version": "2.3.4"
  }
 },
 "nbformat": 4,
 "nbformat_minor": 5
}
