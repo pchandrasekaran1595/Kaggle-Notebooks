{
 "cells": [
  {
   "cell_type": "markdown",
   "id": "c6f5ac8c",
   "metadata": {
    "papermill": {
     "duration": 0.004556,
     "end_time": "2022-06-24T23:24:24.987464",
     "exception": false,
     "start_time": "2022-06-24T23:24:24.982908",
     "status": "completed"
    },
    "tags": []
   },
   "source": [
    "### **Setup**"
   ]
  },
  {
   "cell_type": "code",
   "execution_count": 1,
   "id": "2992734c",
   "metadata": {
    "execution": {
     "iopub.execute_input": "2022-06-24T23:24:24.998219Z",
     "iopub.status.busy": "2022-06-24T23:24:24.997745Z",
     "iopub.status.idle": "2022-06-24T23:24:35.635284Z",
     "shell.execute_reply": "2022-06-24T23:24:35.634353Z"
    },
    "papermill": {
     "duration": 10.644196,
     "end_time": "2022-06-24T23:24:35.637279",
     "exception": false,
     "start_time": "2022-06-24T23:24:24.993083",
     "status": "completed"
    },
    "tags": []
   },
   "outputs": [
    {
     "name": "stderr",
     "output_type": "stream",
     "text": [
      "WARNING: Running pip as the 'root' user can result in broken permissions and conflicting behaviour with the system package manager. It is recommended to use a virtual environment instead: https://pip.pypa.io/warnings/venv\n"
     ]
    }
   ],
   "source": [
    "%%bash\n",
    "pip install timm -q"
   ]
  },
  {
   "cell_type": "markdown",
   "id": "ab08072f",
   "metadata": {
    "papermill": {
     "duration": 0.003355,
     "end_time": "2022-06-24T23:24:35.644288",
     "exception": false,
     "start_time": "2022-06-24T23:24:35.640933",
     "status": "completed"
    },
    "tags": []
   },
   "source": [
    "### **Library Imports**"
   ]
  },
  {
   "cell_type": "code",
   "execution_count": 2,
   "id": "f93b78db",
   "metadata": {
    "execution": {
     "iopub.execute_input": "2022-06-24T23:24:35.652661Z",
     "iopub.status.busy": "2022-06-24T23:24:35.652346Z",
     "iopub.status.idle": "2022-06-24T23:24:44.172356Z",
     "shell.execute_reply": "2022-06-24T23:24:44.171427Z"
    },
    "papermill": {
     "duration": 8.527185,
     "end_time": "2022-06-24T23:24:44.174957",
     "exception": false,
     "start_time": "2022-06-24T23:24:35.647772",
     "status": "completed"
    },
    "tags": []
   },
   "outputs": [],
   "source": [
    "import os\n",
    "import re\n",
    "import cv2\n",
    "import timm\n",
    "import torch\n",
    "import numpy as np\n",
    "import pandas as pd\n",
    "import matplotlib.pyplot as plt\n",
    "\n",
    "from time import time\n",
    "from torch import nn, optim\n",
    "from torch.utils.data import Dataset\n",
    "from torch.utils.data import DataLoader as DL\n",
    "from torchvision import models, transforms\n",
    "\n",
    "from sklearn.preprocessing import LabelEncoder"
   ]
  },
  {
   "cell_type": "markdown",
   "id": "c3d0bbba",
   "metadata": {
    "papermill": {
     "duration": 0.003297,
     "end_time": "2022-06-24T23:24:44.182077",
     "exception": false,
     "start_time": "2022-06-24T23:24:44.178780",
     "status": "completed"
    },
    "tags": []
   },
   "source": [
    "### **Utilities and Helpers**"
   ]
  },
  {
   "cell_type": "code",
   "execution_count": 3,
   "id": "5ee1019c",
   "metadata": {
    "execution": {
     "iopub.execute_input": "2022-06-24T23:24:44.194267Z",
     "iopub.status.busy": "2022-06-24T23:24:44.192905Z",
     "iopub.status.idle": "2022-06-24T23:24:44.267574Z",
     "shell.execute_reply": "2022-06-24T23:24:44.266840Z"
    },
    "papermill": {
     "duration": 0.084097,
     "end_time": "2022-06-24T23:24:44.269583",
     "exception": false,
     "start_time": "2022-06-24T23:24:44.185486",
     "status": "completed"
    },
    "tags": []
   },
   "outputs": [],
   "source": [
    "SEED = 42\n",
    "SIZE = 384\n",
    "FOLD = 3\n",
    "TRANSFORM = transforms.Compose([transforms.ToTensor(),\n",
    "                                transforms.Normalize([0.49699, 0.58823, 0.23049],\n",
    "                                                     [0.22591, 0.22614, 0.18264]),\n",
    "                                ])\n",
    "MODEL_PATH_1 = f\"../input/pdc-d169-na{SIZE}f-noes-f{FOLD}/saves/ble_state.pt\"\n",
    "MODEL_PATH_2 = f\"../input/pdc-en2-na{SIZE}f-noes-f{FOLD}/saves/ble_state.pt\"\n",
    "\n",
    "DEVICE = torch.device(\"cuda\" if torch.cuda.is_available() else \"cpu\")\n",
    "\n",
    "le = LabelEncoder()\n",
    "\n",
    "\n",
    "def breaker(num: int=50, char: str=\"*\") -> None:\n",
    "    print(\"\\n\" + num*char + \"\\n\")\n",
    "\n",
    "\n",
    "def get_image(path: str, size: int=224) -> np.ndarray:\n",
    "    return cv2.resize(src=cv2.cvtColor(src=cv2.imread(path, cv2.IMREAD_COLOR), code=cv2.COLOR_BGR2RGB), dsize=(size, size), interpolation=cv2.INTER_AREA)"
   ]
  },
  {
   "cell_type": "markdown",
   "id": "1a9d7dd2",
   "metadata": {
    "papermill": {
     "duration": 0.003219,
     "end_time": "2022-06-24T23:24:44.276508",
     "exception": false,
     "start_time": "2022-06-24T23:24:44.273289",
     "status": "completed"
    },
    "tags": []
   },
   "source": [
    "### **Configuration**"
   ]
  },
  {
   "cell_type": "markdown",
   "id": "f7870bd2",
   "metadata": {
    "papermill": {
     "duration": 0.003195,
     "end_time": "2022-06-24T23:24:44.283086",
     "exception": false,
     "start_time": "2022-06-24T23:24:44.279891",
     "status": "completed"
    },
    "tags": []
   },
   "source": [
    "### **Dataset Template**"
   ]
  },
  {
   "cell_type": "code",
   "execution_count": 4,
   "id": "1eb37f1b",
   "metadata": {
    "execution": {
     "iopub.execute_input": "2022-06-24T23:24:44.291433Z",
     "iopub.status.busy": "2022-06-24T23:24:44.291147Z",
     "iopub.status.idle": "2022-06-24T23:24:44.297061Z",
     "shell.execute_reply": "2022-06-24T23:24:44.296308Z"
    },
    "papermill": {
     "duration": 0.011677,
     "end_time": "2022-06-24T23:24:44.298688",
     "exception": false,
     "start_time": "2022-06-24T23:24:44.287011",
     "status": "completed"
    },
    "tags": []
   },
   "outputs": [],
   "source": [
    "class DS(Dataset):\n",
    "    def __init__(self, base_path: str, filenames: np.ndarray, size: int=224, transform=None):\n",
    "        self.base_path = base_path\n",
    "        self.filenames = filenames\n",
    "        self.size = size\n",
    "        self.transform = transform\n",
    "    \n",
    "    def __len__(self):\n",
    "        return self.filenames.shape[0]\n",
    "    \n",
    "    def __getitem__(self, idx):\n",
    "        return self.transform(get_image(os.path.join(self.base_path, self.filenames[idx]), size=self.size))"
   ]
  },
  {
   "cell_type": "markdown",
   "id": "fd0e41a6",
   "metadata": {
    "papermill": {
     "duration": 0.003255,
     "end_time": "2022-06-24T23:24:44.305273",
     "exception": false,
     "start_time": "2022-06-24T23:24:44.302018",
     "status": "completed"
    },
    "tags": []
   },
   "source": [
    "### **Model**"
   ]
  },
  {
   "cell_type": "code",
   "execution_count": 5,
   "id": "6bda2380",
   "metadata": {
    "execution": {
     "iopub.execute_input": "2022-06-24T23:24:44.312952Z",
     "iopub.status.busy": "2022-06-24T23:24:44.312701Z",
     "iopub.status.idle": "2022-06-24T23:24:44.319704Z",
     "shell.execute_reply": "2022-06-24T23:24:44.319017Z"
    },
    "papermill": {
     "duration": 0.012899,
     "end_time": "2022-06-24T23:24:44.321495",
     "exception": false,
     "start_time": "2022-06-24T23:24:44.308596",
     "status": "completed"
    },
    "tags": []
   },
   "outputs": [],
   "source": [
    "class Model(nn.Module):\n",
    "    def __init__(self, model_name=\"densenet\"):\n",
    "        super(Model, self).__init__()\n",
    "\n",
    "        if model_name == \"densenet\":\n",
    "            self.model = models.densenet169(pretrained=False, progress=True)\n",
    "            # self.freeze()\n",
    "            self.model.classifier = nn.Linear(in_features=self.model.classifier.in_features, out_features=10)\n",
    "        else:\n",
    "            self.model = timm.create_model(model_name=\"efficientnet_b2\", pretrained=False)\n",
    "            # self.freeze()\n",
    "            self.model.classifier = nn.Linear(in_features=self.model.classifier.in_features, out_features=10)\n",
    "    \n",
    "    def freeze(self):\n",
    "        for params in self.parameters(): params.requires_grad = False\n",
    "\n",
    "    def forward(self, x):\n",
    "        return nn.LogSoftmax(dim=1)(self.model(x))"
   ]
  },
  {
   "cell_type": "markdown",
   "id": "8cea72dd",
   "metadata": {
    "papermill": {
     "duration": 0.003197,
     "end_time": "2022-06-24T23:24:44.328461",
     "exception": false,
     "start_time": "2022-06-24T23:24:44.325264",
     "status": "completed"
    },
    "tags": []
   },
   "source": [
    "### **Predict Helpers**"
   ]
  },
  {
   "cell_type": "code",
   "execution_count": 6,
   "id": "93b21153",
   "metadata": {
    "execution": {
     "iopub.execute_input": "2022-06-24T23:24:44.336198Z",
     "iopub.status.busy": "2022-06-24T23:24:44.335931Z",
     "iopub.status.idle": "2022-06-24T23:24:44.343339Z",
     "shell.execute_reply": "2022-06-24T23:24:44.342580Z"
    },
    "papermill": {
     "duration": 0.013146,
     "end_time": "2022-06-24T23:24:44.344988",
     "exception": false,
     "start_time": "2022-06-24T23:24:44.331842",
     "status": "completed"
    },
    "tags": []
   },
   "outputs": [],
   "source": [
    "def predict_batch(models: list=None, model_2=None, dataloader=None, paths: list=None, device=None) -> np.ndarray:\n",
    "    assert len(models) == len(paths)\n",
    "    \n",
    "    for i in range(len(models)):\n",
    "        models[i].load_state_dict(torch.load(paths[i], map_location=device)[\"model_state_dict\"])\n",
    "        models[i].to(device)    \n",
    "        models[i].eval()\n",
    "    \n",
    "    y_pred = torch.zeros(1, 1).to(device)\n",
    "    \n",
    "    for X in dataloader:\n",
    "        X = X.to(device)\n",
    "        with torch.no_grad():\n",
    "            output = torch.argmax(torch.exp(models[0](X)) + torch.exp(models[1](X)), dim=1)\n",
    "        y_pred = torch.cat((y_pred, output.view(-1, 1)), dim=0)\n",
    "    \n",
    "    return y_pred[1:].detach().cpu().numpy()"
   ]
  },
  {
   "cell_type": "markdown",
   "id": "e9c50a1f",
   "metadata": {
    "papermill": {
     "duration": 0.003275,
     "end_time": "2022-06-24T23:24:44.351798",
     "exception": false,
     "start_time": "2022-06-24T23:24:44.348523",
     "status": "completed"
    },
    "tags": []
   },
   "source": [
    "### **Submission**"
   ]
  },
  {
   "cell_type": "code",
   "execution_count": 7,
   "id": "23b2439d",
   "metadata": {
    "execution": {
     "iopub.execute_input": "2022-06-24T23:24:44.360382Z",
     "iopub.status.busy": "2022-06-24T23:24:44.359792Z",
     "iopub.status.idle": "2022-06-24T23:26:07.132756Z",
     "shell.execute_reply": "2022-06-24T23:26:07.131868Z"
    },
    "papermill": {
     "duration": 82.779563,
     "end_time": "2022-06-24T23:26:07.135198",
     "exception": false,
     "start_time": "2022-06-24T23:24:44.355635",
     "status": "completed"
    },
    "tags": []
   },
   "outputs": [],
   "source": [
    "df = pd.read_csv(\"../input/paddy-disease-classification/train.csv\")\n",
    "ss_df = pd.read_csv(\"../input/paddy-disease-classification/sample_submission.csv\")\n",
    "\n",
    "labels = df.label.copy().values\n",
    "labels = le.fit_transform(labels)\n",
    "\n",
    "ts_data_setup = DS(base_path=\"../input/paddy-disease-classification/test_images\", \n",
    "                   filenames=ss_df.image_id.copy().values,\n",
    "                   size=SIZE,\n",
    "                   transform=TRANSFORM)\n",
    "ts_data = DL(ts_data_setup, batch_size=64, shuffle=False)\n",
    "\n",
    "model_1 = Model(\"densenet\").to(DEVICE)\n",
    "model_2 = Model(\"efficientnet\").to(DEVICE)\n",
    "\n",
    "\n",
    "y_pred = predict_batch(models=[model_1, model_2], \n",
    "                       dataloader=ts_data, \n",
    "                       paths=[MODEL_PATH_1, MODEL_PATH_2],\n",
    "                       device=DEVICE)\n",
    "\n",
    "ss_df[\"label\"] = le.inverse_transform(y_pred.astype(\"uint8\").reshape(-1))\n",
    "ss_df.to_csv(\"submission.csv\", index=False)"
   ]
  }
 ],
 "metadata": {
  "kernelspec": {
   "display_name": "Python 3",
   "language": "python",
   "name": "python3"
  },
  "language_info": {
   "codemirror_mode": {
    "name": "ipython",
    "version": 3
   },
   "file_extension": ".py",
   "mimetype": "text/x-python",
   "name": "python",
   "nbconvert_exporter": "python",
   "pygments_lexer": "ipython3",
   "version": "3.7.12"
  },
  "papermill": {
   "default_parameters": {},
   "duration": 113.378386,
   "end_time": "2022-06-24T23:26:10.146055",
   "environment_variables": {},
   "exception": null,
   "input_path": "__notebook__.ipynb",
   "output_path": "__notebook__.ipynb",
   "parameters": {},
   "start_time": "2022-06-24T23:24:16.767669",
   "version": "2.3.4"
  }
 },
 "nbformat": 4,
 "nbformat_minor": 5
}
