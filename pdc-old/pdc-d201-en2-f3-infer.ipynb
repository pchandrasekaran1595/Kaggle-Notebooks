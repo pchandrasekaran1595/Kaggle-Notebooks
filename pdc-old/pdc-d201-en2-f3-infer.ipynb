{
 "cells": [
  {
   "cell_type": "markdown",
   "id": "53425a02",
   "metadata": {
    "papermill": {
     "duration": 0.008842,
     "end_time": "2022-06-26T19:27:39.800392",
     "exception": false,
     "start_time": "2022-06-26T19:27:39.791550",
     "status": "completed"
    },
    "tags": []
   },
   "source": [
    "### **Setup**"
   ]
  },
  {
   "cell_type": "code",
   "execution_count": 1,
   "id": "3802652b",
   "metadata": {
    "execution": {
     "iopub.execute_input": "2022-06-26T19:27:39.821196Z",
     "iopub.status.busy": "2022-06-26T19:27:39.820270Z",
     "iopub.status.idle": "2022-06-26T19:27:54.389805Z",
     "shell.execute_reply": "2022-06-26T19:27:54.388683Z"
    },
    "papermill": {
     "duration": 14.582293,
     "end_time": "2022-06-26T19:27:54.393364",
     "exception": false,
     "start_time": "2022-06-26T19:27:39.811071",
     "status": "completed"
    },
    "tags": []
   },
   "outputs": [
    {
     "name": "stderr",
     "output_type": "stream",
     "text": [
      "WARNING: Running pip as the 'root' user can result in broken permissions and conflicting behaviour with the system package manager. It is recommended to use a virtual environment instead: https://pip.pypa.io/warnings/venv\n"
     ]
    }
   ],
   "source": [
    "%%bash\n",
    "pip install timm -q"
   ]
  },
  {
   "cell_type": "markdown",
   "id": "b9293887",
   "metadata": {
    "papermill": {
     "duration": 0.00403,
     "end_time": "2022-06-26T19:27:54.402190",
     "exception": false,
     "start_time": "2022-06-26T19:27:54.398160",
     "status": "completed"
    },
    "tags": []
   },
   "source": [
    "### **Library Imports**"
   ]
  },
  {
   "cell_type": "code",
   "execution_count": 2,
   "id": "366cdc9a",
   "metadata": {
    "execution": {
     "iopub.execute_input": "2022-06-26T19:27:54.412382Z",
     "iopub.status.busy": "2022-06-26T19:27:54.412039Z",
     "iopub.status.idle": "2022-06-26T19:28:04.449563Z",
     "shell.execute_reply": "2022-06-26T19:28:04.448216Z"
    },
    "papermill": {
     "duration": 10.045625,
     "end_time": "2022-06-26T19:28:04.452150",
     "exception": false,
     "start_time": "2022-06-26T19:27:54.406525",
     "status": "completed"
    },
    "tags": []
   },
   "outputs": [],
   "source": [
    "import os\n",
    "import re\n",
    "import cv2\n",
    "import timm\n",
    "import torch\n",
    "import numpy as np\n",
    "import pandas as pd\n",
    "import matplotlib.pyplot as plt\n",
    "\n",
    "from time import time\n",
    "from torch import nn, optim\n",
    "from torch.utils.data import Dataset\n",
    "from torch.utils.data import DataLoader as DL\n",
    "from torchvision import models, transforms\n",
    "\n",
    "from sklearn.preprocessing import LabelEncoder"
   ]
  },
  {
   "cell_type": "markdown",
   "id": "cf199434",
   "metadata": {
    "papermill": {
     "duration": 0.004154,
     "end_time": "2022-06-26T19:28:04.461300",
     "exception": false,
     "start_time": "2022-06-26T19:28:04.457146",
     "status": "completed"
    },
    "tags": []
   },
   "source": [
    "### **Utilities and Helpers**"
   ]
  },
  {
   "cell_type": "code",
   "execution_count": 3,
   "id": "4d17bfac",
   "metadata": {
    "execution": {
     "iopub.execute_input": "2022-06-26T19:28:04.471989Z",
     "iopub.status.busy": "2022-06-26T19:28:04.471123Z",
     "iopub.status.idle": "2022-06-26T19:28:04.557377Z",
     "shell.execute_reply": "2022-06-26T19:28:04.556366Z"
    },
    "papermill": {
     "duration": 0.094062,
     "end_time": "2022-06-26T19:28:04.559745",
     "exception": false,
     "start_time": "2022-06-26T19:28:04.465683",
     "status": "completed"
    },
    "tags": []
   },
   "outputs": [],
   "source": [
    "SEED = 42\n",
    "SIZE = 384\n",
    "FOLD = 3\n",
    "\n",
    "TRANSFORM = transforms.Compose([transforms.ToTensor(),\n",
    "                                transforms.Normalize([0.49699, 0.58823, 0.23049],\n",
    "                                                     [0.22591, 0.22614, 0.18264]),\n",
    "                                ])\n",
    "\n",
    "MODEL_PATH_1 = f\"../input/pdc-d201-na{SIZE}f-noes-f{FOLD}/saves/ble_state.pt\"\n",
    "MODEL_PATH_2 = f\"../input/pdc-en2-na{SIZE}f-noes-f{FOLD}/saves/ble_state.pt\"\n",
    "\n",
    "DEVICE = torch.device(\"cuda\" if torch.cuda.is_available() else \"cpu\")\n",
    "\n",
    "le = LabelEncoder()\n",
    "\n",
    "\n",
    "def breaker(num: int=50, char: str=\"*\") -> None:\n",
    "    print(\"\\n\" + num*char + \"\\n\")\n",
    "\n",
    "\n",
    "def get_image(path: str, size: int=224) -> np.ndarray:\n",
    "    return cv2.resize(src=cv2.cvtColor(src=cv2.imread(path, cv2.IMREAD_COLOR), code=cv2.COLOR_BGR2RGB), dsize=(size, size), interpolation=cv2.INTER_AREA)"
   ]
  },
  {
   "cell_type": "markdown",
   "id": "c12220dc",
   "metadata": {
    "papermill": {
     "duration": 0.004068,
     "end_time": "2022-06-26T19:28:04.568328",
     "exception": false,
     "start_time": "2022-06-26T19:28:04.564260",
     "status": "completed"
    },
    "tags": []
   },
   "source": [
    "### **Configuration**"
   ]
  },
  {
   "cell_type": "markdown",
   "id": "0ceac6cc",
   "metadata": {
    "papermill": {
     "duration": 0.00421,
     "end_time": "2022-06-26T19:28:04.576817",
     "exception": false,
     "start_time": "2022-06-26T19:28:04.572607",
     "status": "completed"
    },
    "tags": []
   },
   "source": [
    "### **Dataset Template**"
   ]
  },
  {
   "cell_type": "code",
   "execution_count": 4,
   "id": "ebaf321b",
   "metadata": {
    "execution": {
     "iopub.execute_input": "2022-06-26T19:28:04.586612Z",
     "iopub.status.busy": "2022-06-26T19:28:04.586285Z",
     "iopub.status.idle": "2022-06-26T19:28:04.593805Z",
     "shell.execute_reply": "2022-06-26T19:28:04.592675Z"
    },
    "papermill": {
     "duration": 0.014862,
     "end_time": "2022-06-26T19:28:04.595988",
     "exception": false,
     "start_time": "2022-06-26T19:28:04.581126",
     "status": "completed"
    },
    "tags": []
   },
   "outputs": [],
   "source": [
    "class DS(Dataset):\n",
    "    def __init__(self, base_path: str, filenames: np.ndarray, size: int=224, transform=None):\n",
    "        self.base_path = base_path\n",
    "        self.filenames = filenames\n",
    "        self.size = size\n",
    "        self.transform = transform\n",
    "    \n",
    "    def __len__(self):\n",
    "        return self.filenames.shape[0]\n",
    "    \n",
    "    def __getitem__(self, idx):\n",
    "        return self.transform(get_image(os.path.join(self.base_path, self.filenames[idx]), size=self.size))"
   ]
  },
  {
   "cell_type": "markdown",
   "id": "9a189b1a",
   "metadata": {
    "papermill": {
     "duration": 0.004062,
     "end_time": "2022-06-26T19:28:04.604450",
     "exception": false,
     "start_time": "2022-06-26T19:28:04.600388",
     "status": "completed"
    },
    "tags": []
   },
   "source": [
    "### **Model**"
   ]
  },
  {
   "cell_type": "code",
   "execution_count": 5,
   "id": "5d1c988d",
   "metadata": {
    "execution": {
     "iopub.execute_input": "2022-06-26T19:28:04.614510Z",
     "iopub.status.busy": "2022-06-26T19:28:04.613747Z",
     "iopub.status.idle": "2022-06-26T19:28:04.622497Z",
     "shell.execute_reply": "2022-06-26T19:28:04.621510Z"
    },
    "papermill": {
     "duration": 0.016021,
     "end_time": "2022-06-26T19:28:04.624735",
     "exception": false,
     "start_time": "2022-06-26T19:28:04.608714",
     "status": "completed"
    },
    "tags": []
   },
   "outputs": [],
   "source": [
    "class Model(nn.Module):\n",
    "    def __init__(self, model_name=\"densenet\"):\n",
    "        super(Model, self).__init__()\n",
    "\n",
    "        if model_name == \"densenet201\":\n",
    "            self.model = models.densenet201(pretrained=False, progress=True)\n",
    "            # self.freeze()\n",
    "            self.model.classifier = nn.Linear(in_features=self.model.classifier.in_features, out_features=10)\n",
    "            \n",
    "        else:\n",
    "            self.model = timm.create_model(model_name=\"efficientnet_b2\", pretrained=False)\n",
    "            # self.freeze()\n",
    "            self.model.classifier = nn.Linear(in_features=self.model.classifier.in_features, out_features=10)\n",
    "    \n",
    "    def freeze(self):\n",
    "        for params in self.parameters(): params.requires_grad = False\n",
    "\n",
    "    def forward(self, x):\n",
    "        return nn.LogSoftmax(dim=1)(self.model(x))"
   ]
  },
  {
   "cell_type": "markdown",
   "id": "12bf322a",
   "metadata": {
    "papermill": {
     "duration": 0.004158,
     "end_time": "2022-06-26T19:28:04.633080",
     "exception": false,
     "start_time": "2022-06-26T19:28:04.628922",
     "status": "completed"
    },
    "tags": []
   },
   "source": [
    "### **Predict Helpers**"
   ]
  },
  {
   "cell_type": "code",
   "execution_count": 6,
   "id": "6543e8cb",
   "metadata": {
    "execution": {
     "iopub.execute_input": "2022-06-26T19:28:04.643199Z",
     "iopub.status.busy": "2022-06-26T19:28:04.642889Z",
     "iopub.status.idle": "2022-06-26T19:28:04.652410Z",
     "shell.execute_reply": "2022-06-26T19:28:04.651412Z"
    },
    "papermill": {
     "duration": 0.017457,
     "end_time": "2022-06-26T19:28:04.654958",
     "exception": false,
     "start_time": "2022-06-26T19:28:04.637501",
     "status": "completed"
    },
    "tags": []
   },
   "outputs": [],
   "source": [
    "def predict_batch(models: list=None, model_2=None, dataloader=None, paths: list=None, device=None) -> np.ndarray:\n",
    "    assert len(models) == len(paths)\n",
    "    \n",
    "    for i in range(len(models)):\n",
    "        models[i].load_state_dict(torch.load(paths[i], map_location=device)[\"model_state_dict\"])\n",
    "        models[i].to(device)    \n",
    "        models[i].eval()\n",
    "    \n",
    "    y_pred = torch.zeros(1, 1).to(device)\n",
    "    \n",
    "    for X in dataloader:\n",
    "        X = X.to(device)\n",
    "        with torch.no_grad():\n",
    "            output = torch.argmax(0.25*torch.exp(models[0](X)) + 0.75*torch.exp(models[1](X)), dim=1)\n",
    "        y_pred = torch.cat((y_pred, output.view(-1, 1)), dim=0)\n",
    "    \n",
    "    return y_pred[1:].detach().cpu().numpy()"
   ]
  },
  {
   "cell_type": "markdown",
   "id": "a56376b7",
   "metadata": {
    "papermill": {
     "duration": 0.004166,
     "end_time": "2022-06-26T19:28:04.663457",
     "exception": false,
     "start_time": "2022-06-26T19:28:04.659291",
     "status": "completed"
    },
    "tags": []
   },
   "source": [
    "### **Submission**"
   ]
  },
  {
   "cell_type": "code",
   "execution_count": 7,
   "id": "03373342",
   "metadata": {
    "execution": {
     "iopub.execute_input": "2022-06-26T19:28:04.673630Z",
     "iopub.status.busy": "2022-06-26T19:28:04.673013Z",
     "iopub.status.idle": "2022-06-26T19:29:52.165701Z",
     "shell.execute_reply": "2022-06-26T19:29:52.164650Z"
    },
    "papermill": {
     "duration": 107.500724,
     "end_time": "2022-06-26T19:29:52.168589",
     "exception": false,
     "start_time": "2022-06-26T19:28:04.667865",
     "status": "completed"
    },
    "tags": []
   },
   "outputs": [],
   "source": [
    "df = pd.read_csv(\"../input/paddy-disease-classification/train.csv\")\n",
    "ss_df = pd.read_csv(\"../input/paddy-disease-classification/sample_submission.csv\")\n",
    "\n",
    "labels = df.label.copy().values\n",
    "labels = le.fit_transform(labels)\n",
    "\n",
    "ts_data_setup = DS(base_path=\"../input/paddy-disease-classification/test_images\", \n",
    "                   filenames=ss_df.image_id.copy().values,\n",
    "                   size=SIZE,\n",
    "                   transform=TRANSFORM)\n",
    "ts_data = DL(ts_data_setup, batch_size=64, shuffle=False)\n",
    "\n",
    "model_1 = Model(\"densenet201\").to(DEVICE)\n",
    "model_2 = Model(\"efficientnet\").to(DEVICE)\n",
    "\n",
    "y_pred = predict_batch(models=[model_1, model_2], \n",
    "                       dataloader=ts_data, \n",
    "                       paths=[MODEL_PATH_1, MODEL_PATH_2],\n",
    "                       device=DEVICE)\n",
    "\n",
    "ss_df[\"label\"] = le.inverse_transform(y_pred.astype(\"uint8\").reshape(-1))\n",
    "ss_df.to_csv(\"submission.csv\", index=False)"
   ]
  }
 ],
 "metadata": {
  "kernelspec": {
   "display_name": "Python 3",
   "language": "python",
   "name": "python3"
  },
  "language_info": {
   "codemirror_mode": {
    "name": "ipython",
    "version": 3
   },
   "file_extension": ".py",
   "mimetype": "text/x-python",
   "name": "python",
   "nbconvert_exporter": "python",
   "pygments_lexer": "ipython3",
   "version": "3.7.12"
  },
  "papermill": {
   "default_parameters": {},
   "duration": 145.699041,
   "end_time": "2022-06-26T19:29:55.590768",
   "environment_variables": {},
   "exception": null,
   "input_path": "__notebook__.ipynb",
   "output_path": "__notebook__.ipynb",
   "parameters": {},
   "start_time": "2022-06-26T19:27:29.891727",
   "version": "2.3.4"
  }
 },
 "nbformat": 4,
 "nbformat_minor": 5
}
