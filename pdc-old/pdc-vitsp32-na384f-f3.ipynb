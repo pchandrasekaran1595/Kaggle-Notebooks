{
 "cells": [
  {
   "cell_type": "markdown",
   "id": "bc9b336b",
   "metadata": {
    "_cell_guid": "b1076dfc-b9ad-4769-8c92-a6c4dae69d19",
    "_uuid": "8f2839f25d086af736a60e9eeb907d3b93b6e0e5",
    "papermill": {
     "duration": 0.007652,
     "end_time": "2022-06-26T19:31:31.776759",
     "exception": false,
     "start_time": "2022-06-26T19:31:31.769107",
     "status": "completed"
    },
    "tags": []
   },
   "source": [
    "### **Setup**"
   ]
  },
  {
   "cell_type": "code",
   "execution_count": 1,
   "id": "c47d155c",
   "metadata": {
    "execution": {
     "iopub.execute_input": "2022-06-26T19:31:31.791260Z",
     "iopub.status.busy": "2022-06-26T19:31:31.790858Z",
     "iopub.status.idle": "2022-06-26T19:31:42.854292Z",
     "shell.execute_reply": "2022-06-26T19:31:42.853344Z"
    },
    "papermill": {
     "duration": 11.072916,
     "end_time": "2022-06-26T19:31:42.856336",
     "exception": false,
     "start_time": "2022-06-26T19:31:31.783420",
     "status": "completed"
    },
    "tags": []
   },
   "outputs": [
    {
     "name": "stderr",
     "output_type": "stream",
     "text": [
      "WARNING: Running pip as the 'root' user can result in broken permissions and conflicting behaviour with the system package manager. It is recommended to use a virtual environment instead: https://pip.pypa.io/warnings/venv\n"
     ]
    }
   ],
   "source": [
    "%%bash\n",
    "pip install timm -q"
   ]
  },
  {
   "cell_type": "markdown",
   "id": "1cb2eab3",
   "metadata": {
    "papermill": {
     "duration": 0.004265,
     "end_time": "2022-06-26T19:31:42.864914",
     "exception": false,
     "start_time": "2022-06-26T19:31:42.860649",
     "status": "completed"
    },
    "tags": []
   },
   "source": [
    "### **Library Imports**"
   ]
  },
  {
   "cell_type": "code",
   "execution_count": 2,
   "id": "959d8106",
   "metadata": {
    "execution": {
     "iopub.execute_input": "2022-06-26T19:31:42.874859Z",
     "iopub.status.busy": "2022-06-26T19:31:42.874551Z",
     "iopub.status.idle": "2022-06-26T19:31:50.147923Z",
     "shell.execute_reply": "2022-06-26T19:31:50.146930Z"
    },
    "papermill": {
     "duration": 7.280626,
     "end_time": "2022-06-26T19:31:50.150053",
     "exception": false,
     "start_time": "2022-06-26T19:31:42.869427",
     "status": "completed"
    },
    "tags": []
   },
   "outputs": [],
   "source": [
    "import os\n",
    "import re\n",
    "import timm\n",
    "import torch\n",
    "import numpy as np\n",
    "import pandas as pd\n",
    "import matplotlib.pyplot as plt\n",
    "\n",
    "from time import time\n",
    "from torch import nn, optim\n",
    "from torch.utils.data import Dataset\n",
    "from torch.utils.data import DataLoader as DL\n",
    "from torchvision import transforms\n",
    "\n",
    "from sklearn.model_selection import StratifiedKFold\n",
    "from sklearn.preprocessing import LabelEncoder\n",
    "from sklearn.metrics import accuracy_score"
   ]
  },
  {
   "cell_type": "markdown",
   "id": "e051a308",
   "metadata": {
    "papermill": {
     "duration": 0.004192,
     "end_time": "2022-06-26T19:31:50.158737",
     "exception": false,
     "start_time": "2022-06-26T19:31:50.154545",
     "status": "completed"
    },
    "tags": []
   },
   "source": [
    "### **Utilities and Helpers**"
   ]
  },
  {
   "cell_type": "code",
   "execution_count": 3,
   "id": "730f9c58",
   "metadata": {
    "execution": {
     "iopub.execute_input": "2022-06-26T19:31:50.168688Z",
     "iopub.status.busy": "2022-06-26T19:31:50.167833Z",
     "iopub.status.idle": "2022-06-26T19:31:50.179994Z",
     "shell.execute_reply": "2022-06-26T19:31:50.179205Z"
    },
    "papermill": {
     "duration": 0.019182,
     "end_time": "2022-06-26T19:31:50.181881",
     "exception": false,
     "start_time": "2022-06-26T19:31:50.162699",
     "status": "completed"
    },
    "tags": []
   },
   "outputs": [],
   "source": [
    "SEED = 42\n",
    "SIZE = 384\n",
    "le = LabelEncoder()\n",
    "\n",
    "\n",
    "def breaker(num: int=50, char: str=\"*\") -> None:\n",
    "    print(\"\\n\" + num*char + \"\\n\")\n",
    "\n",
    "    \n",
    "def show_loss_graphs(L: list) -> None:\n",
    "    TL, VL = [], []\n",
    "    for i in range(len(L)):\n",
    "        TL.append(L[i][\"train\"])\n",
    "        VL.append(L[i][\"valid\"])\n",
    "    x_Axis = np.arange(1, len(TL) + 1)\n",
    "    plt.figure()\n",
    "    plt.plot(x_Axis, TL, \"r\", label=\"Train\")\n",
    "    plt.plot(x_Axis, VL, \"b\", label=\"Valid\")\n",
    "    plt.legend()\n",
    "    plt.grid()\n",
    "    plt.title(\"Loss Graph\")\n",
    "    plt.show()\n",
    "\n",
    "    \n",
    "def show_accuracy_graphs(A: list) -> None:\n",
    "    TA, VA = [], []\n",
    "    for i in range(len(A)):\n",
    "        TA.append(A[i][\"train\"])\n",
    "        VA.append(A[i][\"valid\"])\n",
    "    x_Axis = np.arange(1, len(TA) + 1)\n",
    "    plt.figure()\n",
    "    plt.plot(x_Axis, TA, \"r\", label=\"Train\")\n",
    "    plt.plot(x_Axis, VA, \"b\", label=\"Valid\")\n",
    "    plt.legend()\n",
    "    plt.grid()\n",
    "    plt.title(\"Accuracy Graph\")\n",
    "    plt.show()\n",
    "\n",
    "\n",
    "def show_lr_graph(LR: list) -> None:\n",
    "    x_Axis = [i+1 for i in range(len(LR))]\n",
    "    plt.figure(figsize=(8, 6))\n",
    "    plt.plot(x_Axis, LR, \"rx\")\n",
    "    plt.grid()\n",
    "    plt.show()"
   ]
  },
  {
   "cell_type": "markdown",
   "id": "934d49a2",
   "metadata": {
    "papermill": {
     "duration": 0.003793,
     "end_time": "2022-06-26T19:31:50.189880",
     "exception": false,
     "start_time": "2022-06-26T19:31:50.186087",
     "status": "completed"
    },
    "tags": []
   },
   "source": [
    "### **Configuration**"
   ]
  },
  {
   "cell_type": "code",
   "execution_count": 4,
   "id": "bac2daee",
   "metadata": {
    "execution": {
     "iopub.execute_input": "2022-06-26T19:31:50.199251Z",
     "iopub.status.busy": "2022-06-26T19:31:50.198632Z",
     "iopub.status.idle": "2022-06-26T19:31:50.259834Z",
     "shell.execute_reply": "2022-06-26T19:31:50.259129Z"
    },
    "papermill": {
     "duration": 0.067651,
     "end_time": "2022-06-26T19:31:50.261550",
     "exception": false,
     "start_time": "2022-06-26T19:31:50.193899",
     "status": "completed"
    },
    "tags": []
   },
   "outputs": [],
   "source": [
    "class CFG(object):\n",
    "    def __init__(self, \n",
    "                 seed: int = 42,\n",
    "                 n_splits: int = 5,\n",
    "                 batch_size: int = 16,\n",
    "                 epochs: int = 25,\n",
    "                 early_stopping: int = 5,\n",
    "                 lr: float = 1e-4,\n",
    "                 wd: float = 0.0,\n",
    "                 max_lr: float = 1e-3,\n",
    "                 pct_start: float = 0.2,\n",
    "                 steps_per_epoch: int = 100,\n",
    "                 div_factor: int = 1e3, \n",
    "                 final_div_factor: float = 1e3,\n",
    "                 ):\n",
    "        \n",
    "        self.seed = seed\n",
    "        self.n_splits = n_splits\n",
    "        self.batch_size = batch_size\n",
    "        self.epochs = epochs\n",
    "        self.early_stopping = early_stopping\n",
    "        self.lr = lr\n",
    "        self.wd = wd\n",
    "        self.max_lr = max_lr\n",
    "        self.pct_start = pct_start\n",
    "        self.steps_per_epoch = steps_per_epoch\n",
    "        self.div_factor = div_factor\n",
    "        self.final_div_factor = final_div_factor\n",
    "        self.device = torch.device(\"cuda\" if torch.cuda.is_available() else \"cpu\")\n",
    "        self.transform = transforms.Compose([transforms.ToTensor(),\n",
    "                                transforms.Normalize([0.49699, 0.58823, 0.23049],\n",
    "                                                     [0.22591, 0.22614, 0.18264]),\n",
    "                                ])\n",
    "        self.save_path = \"saves\"\n",
    "        if not os.path.exists(self.save_path): os.makedirs(self.save_path)\n",
    "    \n",
    "cfg = CFG(seed=SEED)"
   ]
  },
  {
   "cell_type": "markdown",
   "id": "3f93b791",
   "metadata": {
    "papermill": {
     "duration": 0.003852,
     "end_time": "2022-06-26T19:31:50.270093",
     "exception": false,
     "start_time": "2022-06-26T19:31:50.266241",
     "status": "completed"
    },
    "tags": []
   },
   "source": [
    "### **Dataset Template**"
   ]
  },
  {
   "cell_type": "code",
   "execution_count": 5,
   "id": "4e4995a4",
   "metadata": {
    "execution": {
     "iopub.execute_input": "2022-06-26T19:31:50.279216Z",
     "iopub.status.busy": "2022-06-26T19:31:50.278919Z",
     "iopub.status.idle": "2022-06-26T19:31:50.285332Z",
     "shell.execute_reply": "2022-06-26T19:31:50.284415Z"
    },
    "papermill": {
     "duration": 0.013335,
     "end_time": "2022-06-26T19:31:50.287476",
     "exception": false,
     "start_time": "2022-06-26T19:31:50.274141",
     "status": "completed"
    },
    "tags": []
   },
   "outputs": [],
   "source": [
    "class DS(Dataset):\n",
    "    def __init__(self, images: np.ndarray, labels: np.ndarray = None, transform=None):\n",
    "        self.images = images\n",
    "        self.labels = labels\n",
    "        self.transform = transform\n",
    "    \n",
    "    def __len__(self):\n",
    "        return self.images.shape[0]\n",
    "    \n",
    "    def __getitem__(self, idx):\n",
    "        if self.labels is not None:\n",
    "            return self.transform(self.images[idx]), torch.LongTensor(self.labels[idx])\n",
    "        else:\n",
    "            return self.transform(self.images[idx])"
   ]
  },
  {
   "cell_type": "markdown",
   "id": "9e65212a",
   "metadata": {
    "papermill": {
     "duration": 0.003958,
     "end_time": "2022-06-26T19:31:50.295934",
     "exception": false,
     "start_time": "2022-06-26T19:31:50.291976",
     "status": "completed"
    },
    "tags": []
   },
   "source": [
    "### **Model**"
   ]
  },
  {
   "cell_type": "code",
   "execution_count": 6,
   "id": "5e1451b1",
   "metadata": {
    "execution": {
     "iopub.execute_input": "2022-06-26T19:31:50.304869Z",
     "iopub.status.busy": "2022-06-26T19:31:50.304622Z",
     "iopub.status.idle": "2022-06-26T19:31:50.310426Z",
     "shell.execute_reply": "2022-06-26T19:31:50.309610Z"
    },
    "papermill": {
     "duration": 0.012398,
     "end_time": "2022-06-26T19:31:50.312303",
     "exception": false,
     "start_time": "2022-06-26T19:31:50.299905",
     "status": "completed"
    },
    "tags": []
   },
   "outputs": [],
   "source": [
    "class Model(nn.Module):\n",
    "    def __init__(self):\n",
    "        super(Model, self).__init__()\n",
    "\n",
    "        self.model = timm.create_model(model_name=\"vit_small_patch32_384\", pretrained=True)\n",
    "        # self.freeze()\n",
    "        self.model.head = nn.Linear(in_features=self.model.head.in_features, out_features=10)\n",
    "    \n",
    "    def freeze(self):\n",
    "        for params in self.parameters(): params.requires_grad = False\n",
    "\n",
    "    def forward(self, x):\n",
    "        return nn.LogSoftmax(dim=1)(self.model(x))"
   ]
  },
  {
   "cell_type": "markdown",
   "id": "63445b7c",
   "metadata": {
    "papermill": {
     "duration": 0.003862,
     "end_time": "2022-06-26T19:31:50.320442",
     "exception": false,
     "start_time": "2022-06-26T19:31:50.316580",
     "status": "completed"
    },
    "tags": []
   },
   "source": [
    "### **Fit and Predict Helpers**"
   ]
  },
  {
   "cell_type": "code",
   "execution_count": 7,
   "id": "ce5b93c6",
   "metadata": {
    "execution": {
     "iopub.execute_input": "2022-06-26T19:31:50.330249Z",
     "iopub.status.busy": "2022-06-26T19:31:50.329985Z",
     "iopub.status.idle": "2022-06-26T19:31:50.356078Z",
     "shell.execute_reply": "2022-06-26T19:31:50.355451Z"
    },
    "papermill": {
     "duration": 0.032788,
     "end_time": "2022-06-26T19:31:50.357672",
     "exception": false,
     "start_time": "2022-06-26T19:31:50.324884",
     "status": "completed"
    },
    "tags": []
   },
   "outputs": [],
   "source": [
    "def fit(model=None, \n",
    "        optimizer=None, \n",
    "        scheduler_rlrop=None,\n",
    "        scheduler_oclr=None,\n",
    "        epochs=None, \n",
    "        early_stopping_patience=None, \n",
    "        dataloaders=None, \n",
    "        fold=None, \n",
    "        save_path=None,\n",
    "        device=None,\n",
    "        verbose=False) -> tuple:\n",
    "    \n",
    "    def get_accuracy(y_pred, y_true):\n",
    "        y_pred = torch.argmax(y_pred, dim=1)\n",
    "        return torch.count_nonzero(y_pred == y_true).item() / len(y_pred)\n",
    "    \n",
    "    if verbose:\n",
    "        breaker()\n",
    "        if fold: print(f\"Training Fold {fold}...\")\n",
    "        else: print(\"Training ...\")\n",
    "        breaker()\n",
    "        \n",
    "    bestLoss, bestAccs = {\"train\" : np.inf, \"valid\" : np.inf}, {\"train\" : 0.0, \"valid\" : 0.0}\n",
    "    Losses, Accuracies, LRs = [], [], []\n",
    "    if fold: \n",
    "        ble_name = f\"ble_state_fold_{fold}.pt\"\n",
    "        bae_name = f\"bae_state_fold_{fold}.pt\"\n",
    "    else: \n",
    "        ble_name = \"ble_state.pt\"\n",
    "        bae_name = \"bae_state.pt\"\n",
    "\n",
    "    start_time = time()\n",
    "    for e in range(epochs):\n",
    "        e_st = time()\n",
    "        epochLoss, epochAccs = {\"train\" : 0.0, \"valid\" : 0.0}, {\"train\" : 0.0, \"valid\" : 0.0}\n",
    "\n",
    "        for phase in [\"train\", \"valid\"]:\n",
    "            if phase == \"train\":\n",
    "                model.train()\n",
    "            else:\n",
    "                model.eval()\n",
    "            \n",
    "            lossPerPass, accsPerPass = [], []\n",
    "\n",
    "            for X, y in dataloaders[phase]:\n",
    "                X, y = X.to(device), y.to(device).view(-1)\n",
    "\n",
    "                optimizer.zero_grad()\n",
    "                with torch.set_grad_enabled(phase == \"train\"):\n",
    "                    output = model(X)\n",
    "                    loss = torch.nn.NLLLoss()(output, y)\n",
    "                    if phase == \"train\":\n",
    "                        loss.backward()\n",
    "                        optimizer.step()\n",
    "                        if scheduler_oclr: scheduler_oclr.step()\n",
    "                lossPerPass.append(loss.item())\n",
    "                accsPerPass.append(get_accuracy(output, y))\n",
    "            epochLoss[phase] = np.mean(np.array(lossPerPass))\n",
    "            epochAccs[phase] = np.mean(np.array(accsPerPass))\n",
    "        if scheduler_oclr: LRs.append(scheduler_oclr.get_last_lr())\n",
    "        Losses.append(epochLoss)\n",
    "        Accuracies.append(epochAccs)\n",
    "        \n",
    "        if scheduler_oclr:\n",
    "            save_dict = {\"model_state_dict\"     : model.state_dict(),\n",
    "                         \"optim_state_dict\"     : optimizer.state_dict(),\n",
    "                         \"scheduler_state_dict\" : scheduler_oclr.state_dict()}\n",
    "        \n",
    "        elif scheduler_rlrop:\n",
    "            save_dict = {\"model_state_dict\"     : model.state_dict(),\n",
    "                         \"optim_state_dict\"     : optimizer.state_dict(),\n",
    "                         \"scheduler_state_dict\" : scheduler_rlrop.state_dict()}\n",
    "        \n",
    "        else:\n",
    "            save_dict = {\"model_state_dict\"     : model.state_dict(),\n",
    "                         \"optim_state_dict\"     : optimizer.state_dict()}\n",
    "        \n",
    "        if early_stopping_patience:\n",
    "            if epochLoss[\"valid\"] < bestLoss[\"valid\"]:\n",
    "                bestLoss = epochLoss\n",
    "                BLE = e + 1\n",
    "                torch.save(save_dict, os.path.join(save_path, name))\n",
    "                early_stopping_step = 0\n",
    "            else:\n",
    "                early_stopping_step += 1\n",
    "                if early_stopping_step > early_stopping_patience:\n",
    "                    print(\"\\nEarly Stopping at Epoch {}\".format(e + 1))\n",
    "                    break\n",
    "        \n",
    "        if epochLoss[\"valid\"] < bestLoss[\"valid\"]:\n",
    "            bestLoss = epochLoss\n",
    "            BLE = e + 1\n",
    "            torch.save(save_dict,os.path.join(save_path, ble_name))\n",
    "        \n",
    "        if epochAccs[\"valid\"] > bestAccs[\"valid\"]:\n",
    "            bestAccs = epochAccs\n",
    "            BAE = e + 1\n",
    "            torch.save(save_dict,os.path.join(save_path, bae_name))\n",
    "\n",
    "        \n",
    "        if scheduler_rlrop: scheduler_rlrop.step(epochLoss[\"valid\"])\n",
    "        \n",
    "        if verbose:\n",
    "            print(\"Epoch: {} | Train Loss: {:.5f} | Valid Loss: {:.5f} |\\\n",
    " Train Accs: {:.5f} | Valid Accs: {:.5f} | Time: {:.2f} seconds\".format(e+1, \n",
    "                                                                        epochLoss[\"train\"], epochLoss[\"valid\"], \n",
    "                                                                        epochAccs[\"train\"], epochAccs[\"valid\"], \n",
    "                                                                        time()-e_st))\n",
    "\n",
    "    if verbose:                                           \n",
    "        breaker()\n",
    "        print(f\"Best Validation Loss at Epoch {BLE}\")\n",
    "        breaker()\n",
    "        print(f\"Best Validation Accs at Epoch {BAE}\")\n",
    "        breaker()\n",
    "        print(\"Time Taken [{} Epochs] : {:.2f} minutes\".format(len(Losses), (time()-start_time)/60))\n",
    "    \n",
    "    return Losses, Accuracies, LRs, BLE, BAE, ble_name, bae_name\n",
    "\n",
    "\n",
    "def predict_batch(model=None, dataloader=None, path=None, device=None) -> np.ndarray:\n",
    "    model.load_state_dict(torch.load(path, map_location=device)[\"model_state_dict\"])\n",
    "    model.to(device)    \n",
    "    model.eval()\n",
    "    \n",
    "    y_pred = torch.zeros(1, 1).to(device)\n",
    "    \n",
    "    for X in dataloader:\n",
    "        X = X.to(device)\n",
    "        with torch.no_grad():\n",
    "            output = torch.argmax(torch.exp(model(X)), dim=1)\n",
    "        y_pred = torch.cat((y_pred, output.view(-1, 1)), dim=0)\n",
    "    \n",
    "    return y_pred[1:].detach().cpu().numpy()"
   ]
  },
  {
   "cell_type": "markdown",
   "id": "88d73605",
   "metadata": {
    "papermill": {
     "duration": 0.00391,
     "end_time": "2022-06-26T19:31:50.365612",
     "exception": false,
     "start_time": "2022-06-26T19:31:50.361702",
     "status": "completed"
    },
    "tags": []
   },
   "source": [
    "### **Train**"
   ]
  },
  {
   "cell_type": "code",
   "execution_count": 8,
   "id": "f3345b0b",
   "metadata": {
    "execution": {
     "iopub.execute_input": "2022-06-26T19:31:50.375067Z",
     "iopub.status.busy": "2022-06-26T19:31:50.374545Z",
     "iopub.status.idle": "2022-06-26T19:32:29.070712Z",
     "shell.execute_reply": "2022-06-26T19:32:29.069736Z"
    },
    "papermill": {
     "duration": 38.703051,
     "end_time": "2022-06-26T19:32:29.072898",
     "exception": false,
     "start_time": "2022-06-26T19:31:50.369847",
     "status": "completed"
    },
    "tags": []
   },
   "outputs": [],
   "source": [
    "images = np.load(f\"../input/pdc-images-{SIZE}/images-{SIZE}.npy\")\n",
    "df = pd.read_csv(\"../input/paddy-disease-classification/train.csv\")\n",
    "labels = df.label.copy().values\n",
    "labels = le.fit_transform(labels)"
   ]
  },
  {
   "cell_type": "code",
   "execution_count": 9,
   "id": "a6c214fa",
   "metadata": {
    "execution": {
     "iopub.execute_input": "2022-06-26T19:32:29.083556Z",
     "iopub.status.busy": "2022-06-26T19:32:29.083270Z",
     "iopub.status.idle": "2022-06-26T20:13:58.041954Z",
     "shell.execute_reply": "2022-06-26T20:13:58.040960Z"
    },
    "papermill": {
     "duration": 2488.967996,
     "end_time": "2022-06-26T20:13:58.045711",
     "exception": false,
     "start_time": "2022-06-26T19:32:29.077715",
     "status": "completed"
    },
    "tags": []
   },
   "outputs": [
    {
     "name": "stdout",
     "output_type": "stream",
     "text": [
      "\n",
      "**************************************************\n",
      "\n",
      "Training ...\n",
      "\n",
      "**************************************************\n",
      "\n",
      "Epoch: 1 | Train Loss: 1.42274 | Valid Loss: 0.66435 | Train Accs: 0.52071 | Valid Accs: 0.79389 | Time: 80.22 seconds\n",
      "Epoch: 2 | Train Loss: 0.60561 | Valid Loss: 0.49722 | Train Accs: 0.80226 | Valid Accs: 0.82634 | Time: 73.64 seconds\n",
      "Epoch: 3 | Train Loss: 0.56150 | Valid Loss: 0.68321 | Train Accs: 0.81970 | Valid Accs: 0.77290 | Time: 71.49 seconds\n",
      "Epoch: 4 | Train Loss: 0.60822 | Valid Loss: 0.61307 | Train Accs: 0.79922 | Valid Accs: 0.78960 | Time: 72.37 seconds\n",
      "Epoch: 5 | Train Loss: 0.62435 | Valid Loss: 0.73247 | Train Accs: 0.79639 | Valid Accs: 0.76002 | Time: 72.20 seconds\n",
      "Epoch: 6 | Train Loss: 0.66696 | Valid Loss: 1.00427 | Train Accs: 0.78107 | Valid Accs: 0.67891 | Time: 72.30 seconds\n",
      "Epoch: 7 | Train Loss: 0.68563 | Valid Loss: 0.86878 | Train Accs: 0.77631 | Valid Accs: 0.69800 | Time: 71.96 seconds\n",
      "Epoch: 8 | Train Loss: 0.63968 | Valid Loss: 0.71104 | Train Accs: 0.79035 | Valid Accs: 0.76908 | Time: 69.84 seconds\n",
      "Epoch: 9 | Train Loss: 0.59970 | Valid Loss: 0.85860 | Train Accs: 0.80390 | Valid Accs: 0.70658 | Time: 72.66 seconds\n",
      "Epoch: 10 | Train Loss: 0.55978 | Valid Loss: 0.71611 | Train Accs: 0.81098 | Valid Accs: 0.76002 | Time: 72.24 seconds\n",
      "Epoch: 11 | Train Loss: 0.49050 | Valid Loss: 0.84797 | Train Accs: 0.83569 | Valid Accs: 0.72090 | Time: 72.26 seconds\n",
      "Epoch: 12 | Train Loss: 0.46345 | Valid Loss: 0.81086 | Train Accs: 0.84361 | Valid Accs: 0.76240 | Time: 69.45 seconds\n",
      "Epoch: 13 | Train Loss: 0.38933 | Valid Loss: 0.68001 | Train Accs: 0.86940 | Valid Accs: 0.78244 | Time: 68.47 seconds\n",
      "Epoch: 14 | Train Loss: 0.37507 | Valid Loss: 0.58317 | Train Accs: 0.87868 | Valid Accs: 0.81536 | Time: 68.41 seconds\n",
      "Epoch: 15 | Train Loss: 0.31615 | Valid Loss: 0.57434 | Train Accs: 0.89539 | Valid Accs: 0.81727 | Time: 69.60 seconds\n",
      "Epoch: 16 | Train Loss: 0.26003 | Valid Loss: 0.59083 | Train Accs: 0.91123 | Valid Accs: 0.80630 | Time: 68.26 seconds\n",
      "Epoch: 17 | Train Loss: 0.21204 | Valid Loss: 0.89451 | Train Accs: 0.92910 | Valid Accs: 0.75859 | Time: 67.92 seconds\n",
      "Epoch: 18 | Train Loss: 0.19846 | Valid Loss: 0.70815 | Train Accs: 0.93418 | Valid Accs: 0.79819 | Time: 68.13 seconds\n",
      "Epoch: 19 | Train Loss: 0.16615 | Valid Loss: 0.49870 | Train Accs: 0.94450 | Valid Accs: 0.85067 | Time: 68.90 seconds\n",
      "Epoch: 20 | Train Loss: 0.12145 | Valid Loss: 0.54554 | Train Accs: 0.96129 | Valid Accs: 0.85687 | Time: 68.60 seconds\n",
      "Epoch: 21 | Train Loss: 0.06068 | Valid Loss: 0.64654 | Train Accs: 0.97937 | Valid Accs: 0.85067 | Time: 68.30 seconds\n",
      "Epoch: 22 | Train Loss: 0.07666 | Valid Loss: 0.57116 | Train Accs: 0.97313 | Valid Accs: 0.85639 | Time: 67.80 seconds\n",
      "Epoch: 23 | Train Loss: 0.04327 | Valid Loss: 0.49805 | Train Accs: 0.98488 | Valid Accs: 0.87166 | Time: 70.58 seconds\n",
      "Epoch: 24 | Train Loss: 0.01920 | Valid Loss: 0.51718 | Train Accs: 0.99412 | Valid Accs: 0.88359 | Time: 73.22 seconds\n",
      "Epoch: 25 | Train Loss: 0.01598 | Valid Loss: 0.53127 | Train Accs: 0.99532 | Valid Accs: 0.88025 | Time: 70.50 seconds\n",
      "Epoch: 26 | Train Loss: 0.01715 | Valid Loss: 0.65295 | Train Accs: 0.99484 | Valid Accs: 0.87691 | Time: 71.49 seconds\n",
      "Epoch: 27 | Train Loss: 0.01169 | Valid Loss: 0.42904 | Train Accs: 0.99580 | Valid Accs: 0.89408 | Time: 70.70 seconds\n",
      "Epoch: 28 | Train Loss: 0.00145 | Valid Loss: 0.45550 | Train Accs: 0.99976 | Valid Accs: 0.89647 | Time: 72.03 seconds\n",
      "Epoch: 29 | Train Loss: 0.00016 | Valid Loss: 0.45471 | Train Accs: 1.00000 | Valid Accs: 0.89647 | Time: 69.60 seconds\n",
      "Epoch: 30 | Train Loss: 0.00010 | Valid Loss: 0.45985 | Train Accs: 1.00000 | Valid Accs: 0.89647 | Time: 68.43 seconds\n",
      "Epoch: 31 | Train Loss: 0.00008 | Valid Loss: 0.46355 | Train Accs: 1.00000 | Valid Accs: 0.89695 | Time: 72.24 seconds\n",
      "Epoch: 32 | Train Loss: 0.00007 | Valid Loss: 0.46586 | Train Accs: 1.00000 | Valid Accs: 0.89695 | Time: 71.78 seconds\n",
      "Epoch: 33 | Train Loss: 0.00007 | Valid Loss: 0.46746 | Train Accs: 1.00000 | Valid Accs: 0.89695 | Time: 70.88 seconds\n",
      "Epoch: 34 | Train Loss: 0.00007 | Valid Loss: 0.46792 | Train Accs: 1.00000 | Valid Accs: 0.89695 | Time: 70.78 seconds\n",
      "Epoch: 35 | Train Loss: 0.00006 | Valid Loss: 0.46801 | Train Accs: 1.00000 | Valid Accs: 0.89695 | Time: 71.04 seconds\n",
      "\n",
      "**************************************************\n",
      "\n",
      "Best Validation Loss at Epoch 27\n",
      "\n",
      "**************************************************\n",
      "\n",
      "Best Validation Accs at Epoch 31\n",
      "\n",
      "**************************************************\n",
      "\n",
      "Time Taken [35 Epochs] : 41.30 minutes\n",
      "\n",
      "**************************************************\n",
      "\n"
     ]
    },
    {
     "data": {
      "image/png": "[encoded data removed]",
      "text/plain": [
       "<Figure size 432x288 with 1 Axes>"
      ]
     },
     "metadata": {
      "needs_background": "light"
     },
     "output_type": "display_data"
    },
    {
     "name": "stdout",
     "output_type": "stream",
     "text": [
      "\n",
      "**************************************************\n",
      "\n"
     ]
    },
    {
     "data": {
      "image/png": "[encoded data removed]",
      "text/plain": [
       "<Figure size 432x288 with 1 Axes>"
      ]
     },
     "metadata": {
      "needs_background": "light"
     },
     "output_type": "display_data"
    },
    {
     "name": "stdout",
     "output_type": "stream",
     "text": [
      "\n",
      "**************************************************\n",
      "\n"
     ]
    },
    {
     "data": {
      "image/png": "[encoded data removed]",
      "text/plain": [
       "<Figure size 576x432 with 1 Axes>"
      ]
     },
     "metadata": {
      "needs_background": "light"
     },
     "output_type": "display_data"
    },
    {
     "name": "stdout",
     "output_type": "stream",
     "text": [
      "\n",
      "**************************************************\n",
      "\n"
     ]
    }
   ],
   "source": [
    "fold = 1\n",
    "\n",
    "for tr_idx, va_idx in StratifiedKFold(n_splits=cfg.n_splits, random_state=cfg.seed, shuffle=True).split(images, labels):\n",
    "    if fold == 3: break\n",
    "    fold += 1\n",
    "\n",
    "tr_images, va_images, tr_labels, va_labels = images[tr_idx], images[va_idx], labels[tr_idx], labels[va_idx]\n",
    "\n",
    "tr_data_setup = DS(tr_images, tr_labels.reshape(-1, 1), cfg.transform)\n",
    "va_data_setup = DS(va_images, va_labels.reshape(-1, 1), cfg.transform)\n",
    "\n",
    "dataloaders = {\n",
    "    \"train\" : DL(tr_data_setup, batch_size=cfg.batch_size, shuffle=True, generator=torch.manual_seed(cfg.seed)),\n",
    "    \"valid\" : DL(va_data_setup, batch_size=cfg.batch_size, shuffle=False),\n",
    "}\n",
    "\n",
    "cfg = CFG(epochs=35, batch_size=64, steps_per_epoch=len(dataloaders[\"train\"]))\n",
    "\n",
    "torch.manual_seed(cfg.seed)\n",
    "model = Model().to(cfg.device)\n",
    "\n",
    "optimizer = optim.AdamW([p for p in model.parameters() if p.requires_grad], lr=cfg.lr, weight_decay=cfg.wd)\n",
    "# optimizer = optim.AdamW([p for p in model.parameters() if p.requires_grad], lr=cfg.lr, weight_decay=cfg.wd)\n",
    "\n",
    "scheduler_oclr = optim.lr_scheduler.OneCycleLR(optimizer=optimizer, \n",
    "                                               max_lr=cfg.max_lr, \n",
    "                                               epochs=cfg.epochs, \n",
    "                                               steps_per_epoch=cfg.steps_per_epoch,\n",
    "                                               pct_start=cfg.pct_start, \n",
    "                                               div_factor=cfg.div_factor, \n",
    "                                               final_div_factor=cfg.final_div_factor)\n",
    "# scheduler_rlrop = optim.lr_scheduler.ReduceLROnPlateau(optimizer=optimizer,\n",
    "#                                                       patience=cfg.patience,\n",
    "#                                                       eps=cfg.eps,\n",
    "#                                                       verbose=True)\n",
    "\n",
    "# scheduler_oclr = None\n",
    "scheduler_rlrop = None\n",
    "\n",
    "L, A, LR, BLE, BAE, _, _ = fit(model=model, \n",
    "                               optimizer=optimizer, \n",
    "                               scheduler_oclr=scheduler_oclr,\n",
    "                               scheduler_rlrop=scheduler_rlrop,\n",
    "                               epochs=cfg.epochs, \n",
    "                               early_stopping_patience=None, \n",
    "                               dataloaders=dataloaders, \n",
    "                               device=cfg.device,\n",
    "                               save_path=cfg.save_path,\n",
    "                               fold=None,\n",
    "                               verbose=True)\n",
    "\n",
    "breaker()\n",
    "show_loss_graphs(L)\n",
    "breaker()\n",
    "show_accuracy_graphs(A)\n",
    "breaker()\n",
    "\n",
    "if scheduler_oclr:\n",
    "    show_lr_graph(LR)\n",
    "    breaker()"
   ]
  }
 ],
 "metadata": {
  "kernelspec": {
   "display_name": "Python 3",
   "language": "python",
   "name": "python3"
  },
  "language_info": {
   "codemirror_mode": {
    "name": "ipython",
    "version": 3
   },
   "file_extension": ".py",
   "mimetype": "text/x-python",
   "name": "python",
   "nbconvert_exporter": "python",
   "pygments_lexer": "ipython3",
   "version": "3.7.12"
  },
  "papermill": {
   "default_parameters": {},
   "duration": 2557.419146,
   "end_time": "2022-06-26T20:14:01.268628",
   "environment_variables": {},
   "exception": null,
   "input_path": "__notebook__.ipynb",
   "output_path": "__notebook__.ipynb",
   "parameters": {},
   "start_time": "2022-06-26T19:31:23.849482",
   "version": "2.3.4"
  }
 },
 "nbformat": 4,
 "nbformat_minor": 5
}
