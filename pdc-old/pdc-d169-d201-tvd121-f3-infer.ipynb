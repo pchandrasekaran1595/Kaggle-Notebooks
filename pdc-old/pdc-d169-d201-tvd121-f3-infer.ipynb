{
 "cells": [
  {
   "cell_type": "markdown",
   "id": "a4e4757c",
   "metadata": {
    "papermill": {
     "duration": 0.004945,
     "end_time": "2022-06-27T06:20:44.469009",
     "exception": false,
     "start_time": "2022-06-27T06:20:44.464064",
     "status": "completed"
    },
    "tags": []
   },
   "source": [
    "### **Setup**"
   ]
  },
  {
   "cell_type": "code",
   "execution_count": 1,
   "id": "9e849570",
   "metadata": {
    "execution": {
     "iopub.execute_input": "2022-06-27T06:20:44.480360Z",
     "iopub.status.busy": "2022-06-27T06:20:44.479812Z",
     "iopub.status.idle": "2022-06-27T06:20:55.683211Z",
     "shell.execute_reply": "2022-06-27T06:20:55.682190Z"
    },
    "papermill": {
     "duration": 11.21037,
     "end_time": "2022-06-27T06:20:55.685185",
     "exception": false,
     "start_time": "2022-06-27T06:20:44.474815",
     "status": "completed"
    },
    "tags": []
   },
   "outputs": [
    {
     "name": "stderr",
     "output_type": "stream",
     "text": [
      "WARNING: Running pip as the 'root' user can result in broken permissions and conflicting behaviour with the system package manager. It is recommended to use a virtual environment instead: https://pip.pypa.io/warnings/venv\n"
     ]
    }
   ],
   "source": [
    "%%bash\n",
    "pip install timm -q"
   ]
  },
  {
   "cell_type": "markdown",
   "id": "a45a7a18",
   "metadata": {
    "papermill": {
     "duration": 0.003371,
     "end_time": "2022-06-27T06:20:55.692240",
     "exception": false,
     "start_time": "2022-06-27T06:20:55.688869",
     "status": "completed"
    },
    "tags": []
   },
   "source": [
    "### **Library Imports**"
   ]
  },
  {
   "cell_type": "code",
   "execution_count": 2,
   "id": "2066cf85",
   "metadata": {
    "execution": {
     "iopub.execute_input": "2022-06-27T06:20:55.701129Z",
     "iopub.status.busy": "2022-06-27T06:20:55.700653Z",
     "iopub.status.idle": "2022-06-27T06:21:03.439462Z",
     "shell.execute_reply": "2022-06-27T06:21:03.438415Z"
    },
    "papermill": {
     "duration": 7.746278,
     "end_time": "2022-06-27T06:21:03.441932",
     "exception": false,
     "start_time": "2022-06-27T06:20:55.695654",
     "status": "completed"
    },
    "tags": []
   },
   "outputs": [],
   "source": [
    "import os\n",
    "import re\n",
    "import cv2\n",
    "import timm\n",
    "import torch\n",
    "import numpy as np\n",
    "import pandas as pd\n",
    "import matplotlib.pyplot as plt\n",
    "\n",
    "from time import time\n",
    "from torch import nn, optim\n",
    "from torch.utils.data import Dataset\n",
    "from torch.utils.data import DataLoader as DL\n",
    "from torchvision import models, transforms\n",
    "\n",
    "from sklearn.preprocessing import LabelEncoder"
   ]
  },
  {
   "cell_type": "markdown",
   "id": "e1e6bbe8",
   "metadata": {
    "papermill": {
     "duration": 0.003291,
     "end_time": "2022-06-27T06:21:03.448951",
     "exception": false,
     "start_time": "2022-06-27T06:21:03.445660",
     "status": "completed"
    },
    "tags": []
   },
   "source": [
    "### **Utilities and Helpers**"
   ]
  },
  {
   "cell_type": "code",
   "execution_count": 3,
   "id": "d385c1c8",
   "metadata": {
    "execution": {
     "iopub.execute_input": "2022-06-27T06:21:03.457662Z",
     "iopub.status.busy": "2022-06-27T06:21:03.456893Z",
     "iopub.status.idle": "2022-06-27T06:21:03.519758Z",
     "shell.execute_reply": "2022-06-27T06:21:03.518854Z"
    },
    "papermill": {
     "duration": 0.069358,
     "end_time": "2022-06-27T06:21:03.521715",
     "exception": false,
     "start_time": "2022-06-27T06:21:03.452357",
     "status": "completed"
    },
    "tags": []
   },
   "outputs": [],
   "source": [
    "SEED = 42\n",
    "SIZE = 384\n",
    "FOLD = 3\n",
    "\n",
    "TRANSFORM = transforms.Compose([transforms.ToTensor(),\n",
    "                                transforms.Normalize([0.49699, 0.58823, 0.23049],\n",
    "                                                     [0.22591, 0.22614, 0.18264]),\n",
    "                                ])\n",
    "\n",
    "MODEL_PATH_1 = f\"../input/pdc-d169-na{SIZE}f-noes-f{FOLD}/saves/ble_state.pt\"\n",
    "MODEL_PATH_2 = f\"../input/pdc-d201-na{SIZE}f-noes-f{FOLD}/saves/ble_state.pt\"\n",
    "MODEL_PATH_3 = f\"../input/pdc-tvd121-na{SIZE}f-f{FOLD}/saves/ble_state.pt\"\n",
    "\n",
    "DEVICE = torch.device(\"cuda\" if torch.cuda.is_available() else \"cpu\")\n",
    "\n",
    "le = LabelEncoder()\n",
    "\n",
    "\n",
    "def breaker(num: int=50, char: str=\"*\") -> None:\n",
    "    print(\"\\n\" + num*char + \"\\n\")\n",
    "\n",
    "\n",
    "def get_image(path: str, size: int=224) -> np.ndarray:\n",
    "    return cv2.resize(src=cv2.cvtColor(src=cv2.imread(path, cv2.IMREAD_COLOR), code=cv2.COLOR_BGR2RGB), dsize=(size, size), interpolation=cv2.INTER_AREA)"
   ]
  },
  {
   "cell_type": "markdown",
   "id": "401c7b66",
   "metadata": {
    "papermill": {
     "duration": 0.003282,
     "end_time": "2022-06-27T06:21:03.528645",
     "exception": false,
     "start_time": "2022-06-27T06:21:03.525363",
     "status": "completed"
    },
    "tags": []
   },
   "source": [
    "### **Configuration**"
   ]
  },
  {
   "cell_type": "markdown",
   "id": "4797e32c",
   "metadata": {
    "papermill": {
     "duration": 0.003219,
     "end_time": "2022-06-27T06:21:03.535249",
     "exception": false,
     "start_time": "2022-06-27T06:21:03.532030",
     "status": "completed"
    },
    "tags": []
   },
   "source": [
    "### **Dataset Template**"
   ]
  },
  {
   "cell_type": "code",
   "execution_count": 4,
   "id": "553a5b9c",
   "metadata": {
    "execution": {
     "iopub.execute_input": "2022-06-27T06:21:03.543645Z",
     "iopub.status.busy": "2022-06-27T06:21:03.543057Z",
     "iopub.status.idle": "2022-06-27T06:21:03.549558Z",
     "shell.execute_reply": "2022-06-27T06:21:03.548721Z"
    },
    "papermill": {
     "duration": 0.012396,
     "end_time": "2022-06-27T06:21:03.551203",
     "exception": false,
     "start_time": "2022-06-27T06:21:03.538807",
     "status": "completed"
    },
    "tags": []
   },
   "outputs": [],
   "source": [
    "class DS(Dataset):\n",
    "    def __init__(self, base_path: str, filenames: np.ndarray, size: int=224, transform=None):\n",
    "        self.base_path = base_path\n",
    "        self.filenames = filenames\n",
    "        self.size = size\n",
    "        self.transform = transform\n",
    "    \n",
    "    def __len__(self):\n",
    "        return self.filenames.shape[0]\n",
    "    \n",
    "    def __getitem__(self, idx):\n",
    "        return self.transform(get_image(os.path.join(self.base_path, self.filenames[idx]), size=self.size))"
   ]
  },
  {
   "cell_type": "markdown",
   "id": "039e0fca",
   "metadata": {
    "papermill": {
     "duration": 0.003838,
     "end_time": "2022-06-27T06:21:03.558437",
     "exception": false,
     "start_time": "2022-06-27T06:21:03.554599",
     "status": "completed"
    },
    "tags": []
   },
   "source": [
    "### **Model**"
   ]
  },
  {
   "cell_type": "code",
   "execution_count": 5,
   "id": "c6ea7f34",
   "metadata": {
    "execution": {
     "iopub.execute_input": "2022-06-27T06:21:03.566366Z",
     "iopub.status.busy": "2022-06-27T06:21:03.566095Z",
     "iopub.status.idle": "2022-06-27T06:21:03.574584Z",
     "shell.execute_reply": "2022-06-27T06:21:03.573889Z"
    },
    "papermill": {
     "duration": 0.014442,
     "end_time": "2022-06-27T06:21:03.576262",
     "exception": false,
     "start_time": "2022-06-27T06:21:03.561820",
     "status": "completed"
    },
    "tags": []
   },
   "outputs": [],
   "source": [
    "class Model(nn.Module):\n",
    "    def __init__(self, model_name=\"densenet\"):\n",
    "        super(Model, self).__init__()\n",
    "\n",
    "        if model_name == \"densenet169\":\n",
    "            self.model = models.densenet169(pretrained=False, progress=True)\n",
    "            # self.freeze()\n",
    "            self.model.classifier = nn.Linear(in_features=self.model.classifier.in_features, out_features=10)\n",
    "        \n",
    "        elif model_name == \"densenet201\":\n",
    "            self.model = models.densenet201(pretrained=False, progress=True)\n",
    "            # self.freeze()\n",
    "            self.model.classifier = nn.Linear(in_features=self.model.classifier.in_features, out_features=10)\n",
    "            \n",
    "        elif model_name == \"tv_densenet121\":\n",
    "            self.model = timm.create_model(model_name=\"tv_densenet121\", pretrained=False)\n",
    "            # self.freeze()\n",
    "            self.model.classifier = nn.Linear(in_features=self.model.classifier.in_features, out_features=10)\n",
    "        \n",
    "        else:\n",
    "            raise NotImplementedError()\n",
    "    \n",
    "    def freeze(self):\n",
    "        for params in self.parameters(): params.requires_grad = False\n",
    "\n",
    "    def forward(self, x):\n",
    "        return nn.LogSoftmax(dim=1)(self.model(x))"
   ]
  },
  {
   "cell_type": "markdown",
   "id": "8f1c471f",
   "metadata": {
    "papermill": {
     "duration": 0.003198,
     "end_time": "2022-06-27T06:21:03.583034",
     "exception": false,
     "start_time": "2022-06-27T06:21:03.579836",
     "status": "completed"
    },
    "tags": []
   },
   "source": [
    "### **Predict Helpers**"
   ]
  },
  {
   "cell_type": "code",
   "execution_count": 6,
   "id": "62d80adc",
   "metadata": {
    "execution": {
     "iopub.execute_input": "2022-06-27T06:21:03.591668Z",
     "iopub.status.busy": "2022-06-27T06:21:03.591060Z",
     "iopub.status.idle": "2022-06-27T06:21:03.600514Z",
     "shell.execute_reply": "2022-06-27T06:21:03.599812Z"
    },
    "papermill": {
     "duration": 0.015538,
     "end_time": "2022-06-27T06:21:03.602371",
     "exception": false,
     "start_time": "2022-06-27T06:21:03.586833",
     "status": "completed"
    },
    "tags": []
   },
   "outputs": [],
   "source": [
    "def predict_batch(models: list=None, model_2=None, dataloader=None, paths: list=None, weights: list=None, device=None) -> np.ndarray:\n",
    "    assert len(models) == len(paths)\n",
    "    \n",
    "    for i in range(len(models)):\n",
    "        models[i].load_state_dict(torch.load(paths[i], map_location=device)[\"model_state_dict\"])\n",
    "        models[i].to(device)    \n",
    "        models[i].eval()\n",
    "    \n",
    "    y_pred = torch.zeros(1, 1).to(device)\n",
    "    \n",
    "    for X in dataloader:\n",
    "        X = X.to(device)\n",
    "        with torch.no_grad():\n",
    "            if weights is None:\n",
    "                output = torch.argmax(torch.exp(models[0](X)) + torch.exp(models[1](X)) + torch.exp(models[2](X)), dim=1)\n",
    "            else:\n",
    "                output = weights[0] * torch.exp(models[0](X)) + weights[1] * torch.exp(models[1](X)) + weights[2] * torch.exp(models[2](X))\n",
    "                output = torch.argmax(output, dim=1)\n",
    "        y_pred = torch.cat((y_pred, output.view(-1, 1)), dim=0)\n",
    "    \n",
    "    return y_pred[1:].detach().cpu().numpy()"
   ]
  },
  {
   "cell_type": "markdown",
   "id": "b1ccecc5",
   "metadata": {
    "papermill": {
     "duration": 0.003337,
     "end_time": "2022-06-27T06:21:03.609270",
     "exception": false,
     "start_time": "2022-06-27T06:21:03.605933",
     "status": "completed"
    },
    "tags": []
   },
   "source": [
    "### **Submission**"
   ]
  },
  {
   "cell_type": "code",
   "execution_count": 7,
   "id": "8c807415",
   "metadata": {
    "execution": {
     "iopub.execute_input": "2022-06-27T06:21:03.617715Z",
     "iopub.status.busy": "2022-06-27T06:21:03.617097Z",
     "iopub.status.idle": "2022-06-27T06:22:56.382655Z",
     "shell.execute_reply": "2022-06-27T06:22:56.381604Z"
    },
    "papermill": {
     "duration": 112.772188,
     "end_time": "2022-06-27T06:22:56.384844",
     "exception": false,
     "start_time": "2022-06-27T06:21:03.612656",
     "status": "completed"
    },
    "tags": []
   },
   "outputs": [],
   "source": [
    "df = pd.read_csv(\"../input/paddy-disease-classification/train.csv\")\n",
    "ss_df = pd.read_csv(\"../input/paddy-disease-classification/sample_submission.csv\")\n",
    "\n",
    "labels = df.label.copy().values\n",
    "labels = le.fit_transform(labels)\n",
    "\n",
    "ts_data_setup = DS(base_path=\"../input/paddy-disease-classification/test_images\", \n",
    "                   filenames=ss_df.image_id.copy().values,\n",
    "                   size=SIZE,\n",
    "                   transform=TRANSFORM)\n",
    "ts_data = DL(ts_data_setup, batch_size=64, shuffle=False)\n",
    "\n",
    "model_1 = Model(\"densenet169\").to(DEVICE)\n",
    "model_2 = Model(\"densenet201\").to(DEVICE)\n",
    "model_3 = Model(\"tv_densenet121\").to(DEVICE)\n",
    "\n",
    "y_pred = predict_batch(models=[model_1, model_2, model_3], \n",
    "                       dataloader=ts_data, \n",
    "                       paths=[MODEL_PATH_1, MODEL_PATH_2, MODEL_PATH_3],\n",
    "                       weights=[0.1, 0.45, 0.45],\n",
    "                       device=DEVICE)\n",
    "\n",
    "ss_df[\"label\"] = le.inverse_transform(y_pred.astype(\"uint8\").reshape(-1))\n",
    "ss_df.to_csv(\"submission.csv\", index=False)"
   ]
  }
 ],
 "metadata": {
  "kernelspec": {
   "display_name": "Python 3",
   "language": "python",
   "name": "python3"
  },
  "language_info": {
   "codemirror_mode": {
    "name": "ipython",
    "version": 3
   },
   "file_extension": ".py",
   "mimetype": "text/x-python",
   "name": "python",
   "nbconvert_exporter": "python",
   "pygments_lexer": "ipython3",
   "version": "3.7.12"
  },
  "papermill": {
   "default_parameters": {},
   "duration": 143.343353,
   "end_time": "2022-06-27T06:22:59.332570",
   "environment_variables": {},
   "exception": null,
   "input_path": "__notebook__.ipynb",
   "output_path": "__notebook__.ipynb",
   "parameters": {},
   "start_time": "2022-06-27T06:20:35.989217",
   "version": "2.3.4"
  }
 },
 "nbformat": 4,
 "nbformat_minor": 5
}
