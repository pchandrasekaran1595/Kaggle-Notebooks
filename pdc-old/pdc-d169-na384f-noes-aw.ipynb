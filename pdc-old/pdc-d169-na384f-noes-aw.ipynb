{
 "cells": [
  {
   "cell_type": "markdown",
   "id": "d5d89940",
   "metadata": {
    "_cell_guid": "b1076dfc-b9ad-4769-8c92-a6c4dae69d19",
    "_uuid": "8f2839f25d086af736a60e9eeb907d3b93b6e0e5",
    "papermill": {
     "duration": 0.005307,
     "end_time": "2022-06-19T08:28:36.109966",
     "exception": false,
     "start_time": "2022-06-19T08:28:36.104659",
     "status": "completed"
    },
    "tags": []
   },
   "source": [
    "### **Library Imports**"
   ]
  },
  {
   "cell_type": "code",
   "execution_count": 1,
   "id": "6091c70b",
   "metadata": {
    "execution": {
     "iopub.execute_input": "2022-06-19T08:28:36.119967Z",
     "iopub.status.busy": "2022-06-19T08:28:36.119495Z",
     "iopub.status.idle": "2022-06-19T08:28:38.983792Z",
     "shell.execute_reply": "2022-06-19T08:28:38.982981Z"
    },
    "papermill": {
     "duration": 2.871335,
     "end_time": "2022-06-19T08:28:38.986081",
     "exception": false,
     "start_time": "2022-06-19T08:28:36.114746",
     "status": "completed"
    },
    "tags": []
   },
   "outputs": [],
   "source": [
    "import os\n",
    "import re\n",
    "import torch\n",
    "import numpy as np\n",
    "import pandas as pd\n",
    "import matplotlib.pyplot as plt\n",
    "\n",
    "from time import time\n",
    "from torch import nn, optim\n",
    "from torch.utils.data import Dataset\n",
    "from torch.utils.data import DataLoader as DL\n",
    "from torchvision import models, transforms\n",
    "\n",
    "from sklearn.model_selection import StratifiedKFold\n",
    "from sklearn.preprocessing import LabelEncoder\n",
    "from sklearn.metrics import accuracy_score"
   ]
  },
  {
   "cell_type": "markdown",
   "id": "11d9aa2f",
   "metadata": {
    "papermill": {
     "duration": 0.003506,
     "end_time": "2022-06-19T08:28:38.993671",
     "exception": false,
     "start_time": "2022-06-19T08:28:38.990165",
     "status": "completed"
    },
    "tags": []
   },
   "source": [
    "### **Utilities and Helpers**"
   ]
  },
  {
   "cell_type": "code",
   "execution_count": 2,
   "id": "11f14813",
   "metadata": {
    "execution": {
     "iopub.execute_input": "2022-06-19T08:28:39.003262Z",
     "iopub.status.busy": "2022-06-19T08:28:39.002401Z",
     "iopub.status.idle": "2022-06-19T08:28:39.014477Z",
     "shell.execute_reply": "2022-06-19T08:28:39.013763Z"
    },
    "papermill": {
     "duration": 0.018282,
     "end_time": "2022-06-19T08:28:39.016192",
     "exception": false,
     "start_time": "2022-06-19T08:28:38.997910",
     "status": "completed"
    },
    "tags": []
   },
   "outputs": [],
   "source": [
    "SEED = 42\n",
    "SIZE = 384\n",
    "le = LabelEncoder()\n",
    "\n",
    "\n",
    "def breaker(num: int=50, char: str=\"*\") -> None:\n",
    "    print(\"\\n\" + num*char + \"\\n\")\n",
    "\n",
    "    \n",
    "def show_loss_graphs(L: list) -> None:\n",
    "    TL, VL = [], []\n",
    "    for i in range(len(L)):\n",
    "        TL.append(L[i][\"train\"])\n",
    "        VL.append(L[i][\"valid\"])\n",
    "    x_Axis = np.arange(1, len(TL) + 1)\n",
    "    plt.figure()\n",
    "    plt.plot(x_Axis, TL, \"r\", label=\"Train\")\n",
    "    plt.plot(x_Axis, VL, \"b\", label=\"Valid\")\n",
    "    plt.legend()\n",
    "    plt.grid()\n",
    "    plt.title(\"Loss Graph\")\n",
    "    plt.show()\n",
    "\n",
    "    \n",
    "def show_accuracy_graphs(A: list) -> None:\n",
    "    TA, VA = [], []\n",
    "    for i in range(len(A)):\n",
    "        TA.append(A[i][\"train\"])\n",
    "        VA.append(A[i][\"valid\"])\n",
    "    x_Axis = np.arange(1, len(TA) + 1)\n",
    "    plt.figure()\n",
    "    plt.plot(x_Axis, TA, \"r\", label=\"Train\")\n",
    "    plt.plot(x_Axis, VA, \"b\", label=\"Valid\")\n",
    "    plt.legend()\n",
    "    plt.grid()\n",
    "    plt.title(\"Accuracy Graph\")\n",
    "    plt.show()\n",
    "\n",
    "\n",
    "def show_lr_graph(LR: list) -> None:\n",
    "    x_Axis = [i+1 for i in range(len(LR))]\n",
    "    plt.figure(figsize=(8, 6))\n",
    "    plt.plot(x_Axis, LR, \"rx\")\n",
    "    plt.grid()\n",
    "    plt.show()"
   ]
  },
  {
   "cell_type": "markdown",
   "id": "f85d310b",
   "metadata": {
    "papermill": {
     "duration": 0.00342,
     "end_time": "2022-06-19T08:28:39.023194",
     "exception": false,
     "start_time": "2022-06-19T08:28:39.019774",
     "status": "completed"
    },
    "tags": []
   },
   "source": [
    "### **Configuration**"
   ]
  },
  {
   "cell_type": "code",
   "execution_count": 3,
   "id": "fbb5d4af",
   "metadata": {
    "execution": {
     "iopub.execute_input": "2022-06-19T08:28:39.031595Z",
     "iopub.status.busy": "2022-06-19T08:28:39.031306Z",
     "iopub.status.idle": "2022-06-19T08:28:39.087179Z",
     "shell.execute_reply": "2022-06-19T08:28:39.086264Z"
    },
    "papermill": {
     "duration": 0.062332,
     "end_time": "2022-06-19T08:28:39.089107",
     "exception": false,
     "start_time": "2022-06-19T08:28:39.026775",
     "status": "completed"
    },
    "tags": []
   },
   "outputs": [],
   "source": [
    "class CFG(object):\n",
    "    def __init__(self, \n",
    "                 seed: int = 42,\n",
    "                 n_splits: int = 5,\n",
    "                 batch_size: int = 16,\n",
    "                 epochs: int = 25,\n",
    "                 early_stopping: int = 5,\n",
    "                 lr: float = 1e-4,\n",
    "                 wd: float = 0.0,\n",
    "                 max_lr: float = 1e-3,\n",
    "                 pct_start: float = 0.2,\n",
    "                 steps_per_epoch: int = 100,\n",
    "                 div_factor: int = 1e3, \n",
    "                 final_div_factor: float = 1e3,\n",
    "                 ):\n",
    "        \n",
    "        self.seed = seed\n",
    "        self.n_splits = n_splits\n",
    "        self.batch_size = batch_size\n",
    "        self.epochs = epochs\n",
    "        self.early_stopping = early_stopping\n",
    "        self.lr = lr\n",
    "        self.wd = wd\n",
    "        self.max_lr = max_lr\n",
    "        self.pct_start = pct_start\n",
    "        self.steps_per_epoch = steps_per_epoch\n",
    "        self.div_factor = div_factor\n",
    "        self.final_div_factor = final_div_factor\n",
    "        self.device = torch.device(\"cuda\" if torch.cuda.is_available() else \"cpu\")\n",
    "        self.transform = transforms.Compose([transforms.ToTensor(),\n",
    "                                transforms.Normalize([0.49699, 0.58823, 0.23049],\n",
    "                                                     [0.22591, 0.22614, 0.18264]),\n",
    "                                ])\n",
    "        self.save_path = \"saves\"\n",
    "        if not os.path.exists(self.save_path): os.makedirs(self.save_path)\n",
    "    \n",
    "cfg = CFG(seed=SEED)"
   ]
  },
  {
   "cell_type": "markdown",
   "id": "a2529a61",
   "metadata": {
    "papermill": {
     "duration": 0.00344,
     "end_time": "2022-06-19T08:28:39.096283",
     "exception": false,
     "start_time": "2022-06-19T08:28:39.092843",
     "status": "completed"
    },
    "tags": []
   },
   "source": [
    "### **Dataset Template**"
   ]
  },
  {
   "cell_type": "code",
   "execution_count": 4,
   "id": "e23df142",
   "metadata": {
    "execution": {
     "iopub.execute_input": "2022-06-19T08:28:39.104549Z",
     "iopub.status.busy": "2022-06-19T08:28:39.104247Z",
     "iopub.status.idle": "2022-06-19T08:28:39.110888Z",
     "shell.execute_reply": "2022-06-19T08:28:39.110204Z"
    },
    "papermill": {
     "duration": 0.012701,
     "end_time": "2022-06-19T08:28:39.112592",
     "exception": false,
     "start_time": "2022-06-19T08:28:39.099891",
     "status": "completed"
    },
    "tags": []
   },
   "outputs": [],
   "source": [
    "class DS(Dataset):\n",
    "    def __init__(self, images: np.ndarray, labels: np.ndarray = None, transform=None):\n",
    "        self.images = images\n",
    "        self.labels = labels\n",
    "        self.transform = transform\n",
    "    \n",
    "    def __len__(self):\n",
    "        return self.images.shape[0]\n",
    "    \n",
    "    def __getitem__(self, idx):\n",
    "        if self.labels is not None:\n",
    "            return self.transform(self.images[idx]), torch.LongTensor(self.labels[idx])\n",
    "        else:\n",
    "            return self.transform(self.images[idx])"
   ]
  },
  {
   "cell_type": "markdown",
   "id": "1609b1f1",
   "metadata": {
    "papermill": {
     "duration": 0.003419,
     "end_time": "2022-06-19T08:28:39.119639",
     "exception": false,
     "start_time": "2022-06-19T08:28:39.116220",
     "status": "completed"
    },
    "tags": []
   },
   "source": [
    "### **Model**"
   ]
  },
  {
   "cell_type": "code",
   "execution_count": 5,
   "id": "f5c17265",
   "metadata": {
    "execution": {
     "iopub.execute_input": "2022-06-19T08:28:39.128199Z",
     "iopub.status.busy": "2022-06-19T08:28:39.127953Z",
     "iopub.status.idle": "2022-06-19T08:28:39.133482Z",
     "shell.execute_reply": "2022-06-19T08:28:39.132733Z"
    },
    "papermill": {
     "duration": 0.011594,
     "end_time": "2022-06-19T08:28:39.135062",
     "exception": false,
     "start_time": "2022-06-19T08:28:39.123468",
     "status": "completed"
    },
    "tags": []
   },
   "outputs": [],
   "source": [
    "class Model(nn.Module):\n",
    "    def __init__(self):\n",
    "        super(Model, self).__init__()\n",
    "\n",
    "        self.model = models.densenet169(pretrained=True, progress=True)\n",
    "        # self.freeze()\n",
    "        self.model.classifier = nn.Linear(in_features=self.model.classifier.in_features, out_features=10)\n",
    "    \n",
    "    def freeze(self):\n",
    "        for params in self.parameters(): params.requires_grad = False\n",
    "\n",
    "    def forward(self, x):\n",
    "        return nn.LogSoftmax(dim=1)(self.model(x))"
   ]
  },
  {
   "cell_type": "markdown",
   "id": "44021ab3",
   "metadata": {
    "papermill": {
     "duration": 0.003506,
     "end_time": "2022-06-19T08:28:39.142640",
     "exception": false,
     "start_time": "2022-06-19T08:28:39.139134",
     "status": "completed"
    },
    "tags": []
   },
   "source": [
    "### **Fit and Predict Helpers**"
   ]
  },
  {
   "cell_type": "code",
   "execution_count": 6,
   "id": "e4b7c605",
   "metadata": {
    "execution": {
     "iopub.execute_input": "2022-06-19T08:28:39.151073Z",
     "iopub.status.busy": "2022-06-19T08:28:39.150815Z",
     "iopub.status.idle": "2022-06-19T08:28:39.176792Z",
     "shell.execute_reply": "2022-06-19T08:28:39.176083Z"
    },
    "papermill": {
     "duration": 0.032293,
     "end_time": "2022-06-19T08:28:39.178494",
     "exception": false,
     "start_time": "2022-06-19T08:28:39.146201",
     "status": "completed"
    },
    "tags": []
   },
   "outputs": [],
   "source": [
    "def fit(model=None, \n",
    "        optimizer=None, \n",
    "        scheduler_rlrop=None,\n",
    "        scheduler_oclr=None,\n",
    "        epochs=None, \n",
    "        early_stopping_patience=None, \n",
    "        dataloaders=None, \n",
    "        fold=None, \n",
    "        save_path=None,\n",
    "        device=None,\n",
    "        verbose=False) -> tuple:\n",
    "    \n",
    "    def get_accuracy(y_pred, y_true):\n",
    "        y_pred = torch.argmax(y_pred, dim=1)\n",
    "        return torch.count_nonzero(y_pred == y_true).item() / len(y_pred)\n",
    "    \n",
    "    if verbose:\n",
    "        breaker()\n",
    "        if fold: print(f\"Training Fold {fold}...\")\n",
    "        else: print(\"Training ...\")\n",
    "        breaker()\n",
    "        \n",
    "    bestLoss, bestAccs = {\"train\" : np.inf, \"valid\" : np.inf}, {\"train\" : 0.0, \"valid\" : 0.0}\n",
    "    Losses, Accuracies, LRs = [], [], []\n",
    "    if fold: \n",
    "        ble_name = f\"ble_state_fold_{fold}.pt\"\n",
    "        bae_name = f\"bae_state_fold_{fold}.pt\"\n",
    "    else: \n",
    "        ble_name = \"ble_state.pt\"\n",
    "        bae_name = \"bae_state.pt\"\n",
    "\n",
    "    start_time = time()\n",
    "    for e in range(epochs):\n",
    "        e_st = time()\n",
    "        epochLoss, epochAccs = {\"train\" : 0.0, \"valid\" : 0.0}, {\"train\" : 0.0, \"valid\" : 0.0}\n",
    "\n",
    "        for phase in [\"train\", \"valid\"]:\n",
    "            if phase == \"train\":\n",
    "                model.train()\n",
    "            else:\n",
    "                model.eval()\n",
    "            \n",
    "            lossPerPass, accsPerPass = [], []\n",
    "\n",
    "            for X, y in dataloaders[phase]:\n",
    "                X, y = X.to(device), y.to(device).view(-1)\n",
    "\n",
    "                optimizer.zero_grad()\n",
    "                with torch.set_grad_enabled(phase == \"train\"):\n",
    "                    output = model(X)\n",
    "                    loss = torch.nn.NLLLoss()(output, y)\n",
    "                    if phase == \"train\":\n",
    "                        loss.backward()\n",
    "                        optimizer.step()\n",
    "                        if scheduler_oclr: scheduler_oclr.step()\n",
    "                lossPerPass.append(loss.item())\n",
    "                accsPerPass.append(get_accuracy(output, y))\n",
    "            epochLoss[phase] = np.mean(np.array(lossPerPass))\n",
    "            epochAccs[phase] = np.mean(np.array(accsPerPass))\n",
    "        if scheduler_oclr: LRs.append(scheduler_oclr.get_last_lr())\n",
    "        Losses.append(epochLoss)\n",
    "        Accuracies.append(epochAccs)\n",
    "        \n",
    "        if scheduler_oclr:\n",
    "            save_dict = {\"model_state_dict\"     : model.state_dict(),\n",
    "                         \"optim_state_dict\"     : optimizer.state_dict(),\n",
    "                         \"scheduler_state_dict\" : scheduler_oclr.state_dict()}\n",
    "        \n",
    "        elif scheduler_rlrop:\n",
    "            save_dict = {\"model_state_dict\"     : model.state_dict(),\n",
    "                         \"optim_state_dict\"     : optimizer.state_dict(),\n",
    "                         \"scheduler_state_dict\" : scheduler_rlrop.state_dict()}\n",
    "        \n",
    "        else:\n",
    "            save_dict = {\"model_state_dict\"     : model.state_dict(),\n",
    "                         \"optim_state_dict\"     : optimizer.state_dict()}\n",
    "        \n",
    "        if early_stopping_patience:\n",
    "            if epochLoss[\"valid\"] < bestLoss[\"valid\"]:\n",
    "                bestLoss = epochLoss\n",
    "                BLE = e + 1\n",
    "                torch.save(save_dict, os.path.join(save_path, name))\n",
    "                early_stopping_step = 0\n",
    "            else:\n",
    "                early_stopping_step += 1\n",
    "                if early_stopping_step > early_stopping_patience:\n",
    "                    print(\"\\nEarly Stopping at Epoch {}\".format(e + 1))\n",
    "                    break\n",
    "        \n",
    "        if epochLoss[\"valid\"] < bestLoss[\"valid\"]:\n",
    "            bestLoss = epochLoss\n",
    "            BLE = e + 1\n",
    "            torch.save(save_dict,os.path.join(save_path, ble_name))\n",
    "        \n",
    "        if epochAccs[\"valid\"] > bestAccs[\"valid\"]:\n",
    "            bestAccs = epochAccs\n",
    "            BAE = e + 1\n",
    "            torch.save(save_dict,os.path.join(save_path, bae_name))\n",
    "\n",
    "        \n",
    "        if scheduler_rlrop: scheduler_rlrop.step(epochLoss[\"valid\"])\n",
    "        \n",
    "        if verbose:\n",
    "            print(\"Epoch: {} | Train Loss: {:.5f} | Valid Loss: {:.5f} |\\\n",
    " Train Accs: {:.5f} | Valid Accs: {:.5f} | Time: {:.2f} seconds\".format(e+1, \n",
    "                                                                        epochLoss[\"train\"], epochLoss[\"valid\"], \n",
    "                                                                        epochAccs[\"train\"], epochAccs[\"valid\"], \n",
    "                                                                        time()-e_st))\n",
    "\n",
    "    if verbose:                                           \n",
    "        breaker()\n",
    "        print(f\"Best Validation Loss at Epoch {BLE}\")\n",
    "        breaker()\n",
    "        print(f\"Best Validation Accs at Epoch {BAE}\")\n",
    "        breaker()\n",
    "        print(\"Time Taken [{} Epochs] : {:.2f} minutes\".format(len(Losses), (time()-start_time)/60))\n",
    "    \n",
    "    return Losses, Accuracies, LRs, BLE, BAE, ble_name, bae_name\n",
    "\n",
    "\n",
    "def predict_batch(model=None, dataloader=None, path=None, device=None) -> np.ndarray:\n",
    "    model.load_state_dict(torch.load(path, map_location=device)[\"model_state_dict\"])\n",
    "    model.to(device)    \n",
    "    model.eval()\n",
    "    \n",
    "    y_pred = torch.zeros(1, 1).to(device)\n",
    "    \n",
    "    for X in dataloader:\n",
    "        X = X.to(device)\n",
    "        with torch.no_grad():\n",
    "            output = torch.argmax(torch.exp(model(X)), dim=1)\n",
    "        y_pred = torch.cat((y_pred, output.view(-1, 1)), dim=0)\n",
    "    \n",
    "    return y_pred[1:].detach().cpu().numpy()"
   ]
  },
  {
   "cell_type": "markdown",
   "id": "d9cee106",
   "metadata": {
    "papermill": {
     "duration": 0.003903,
     "end_time": "2022-06-19T08:28:39.185987",
     "exception": false,
     "start_time": "2022-06-19T08:28:39.182084",
     "status": "completed"
    },
    "tags": []
   },
   "source": [
    "### **Train**"
   ]
  },
  {
   "cell_type": "code",
   "execution_count": 7,
   "id": "24a79865",
   "metadata": {
    "execution": {
     "iopub.execute_input": "2022-06-19T08:28:39.194142Z",
     "iopub.status.busy": "2022-06-19T08:28:39.193908Z",
     "iopub.status.idle": "2022-06-19T08:29:15.800284Z",
     "shell.execute_reply": "2022-06-19T08:29:15.799471Z"
    },
    "papermill": {
     "duration": 36.612807,
     "end_time": "2022-06-19T08:29:15.802418",
     "exception": false,
     "start_time": "2022-06-19T08:28:39.189611",
     "status": "completed"
    },
    "tags": []
   },
   "outputs": [],
   "source": [
    "images = np.load(f\"../input/pdc-images-{SIZE}/images-{SIZE}.npy\")\n",
    "df = pd.read_csv(\"../input/paddy-disease-classification/train.csv\")\n",
    "labels = df.label.copy().values\n",
    "labels = le.fit_transform(labels)"
   ]
  },
  {
   "cell_type": "code",
   "execution_count": 8,
   "id": "20e71f9c",
   "metadata": {
    "execution": {
     "iopub.execute_input": "2022-06-19T08:29:15.812067Z",
     "iopub.status.busy": "2022-06-19T08:29:15.811787Z",
     "iopub.status.idle": "2022-06-19T10:33:37.534115Z",
     "shell.execute_reply": "2022-06-19T10:33:37.532908Z"
    },
    "papermill": {
     "duration": 7461.729822,
     "end_time": "2022-06-19T10:33:37.536278",
     "exception": false,
     "start_time": "2022-06-19T08:29:15.806456",
     "status": "completed"
    },
    "tags": []
   },
   "outputs": [
    {
     "name": "stderr",
     "output_type": "stream",
     "text": [
      "Downloading: \"https://download.pytorch.org/models/densenet169-b2777c0a.pth\" to /root/.cache/torch/hub/checkpoints/densenet169-b2777c0a.pth\n"
     ]
    },
    {
     "data": {
      "application/vnd.jupyter.widget-view+json": {
       "model_id": "efcf4fa2850f49aaba31a87766ba2994",
       "version_major": 2,
       "version_minor": 0
      },
      "text/plain": [
       "  0%|          | 0.00/54.7M [00:00<?, ?B/s]"
      ]
     },
     "metadata": {},
     "output_type": "display_data"
    },
    {
     "name": "stdout",
     "output_type": "stream",
     "text": [
      "\n",
      "**************************************************\n",
      "\n",
      "Training ...\n",
      "\n",
      "**************************************************\n",
      "\n",
      "Epoch: 1 | Train Loss: 1.79805 | Valid Loss: 0.76035 | Train Accs: 0.38179 | Valid Accs: 0.76861 | Time: 219.67 seconds\n",
      "Epoch: 2 | Train Loss: 0.56254 | Valid Loss: 0.43002 | Train Accs: 0.83107 | Valid Accs: 0.87452 | Time: 214.18 seconds\n",
      "Epoch: 3 | Train Loss: 0.39606 | Valid Loss: 0.49562 | Train Accs: 0.87704 | Valid Accs: 0.84208 | Time: 212.98 seconds\n",
      "Epoch: 4 | Train Loss: 0.42188 | Valid Loss: 0.57061 | Train Accs: 0.86598 | Valid Accs: 0.82300 | Time: 211.67 seconds\n",
      "Epoch: 5 | Train Loss: 0.40750 | Valid Loss: 0.42433 | Train Accs: 0.86622 | Valid Accs: 0.87548 | Time: 213.60 seconds\n",
      "Epoch: 6 | Train Loss: 0.37268 | Valid Loss: 0.54293 | Train Accs: 0.88025 | Valid Accs: 0.83015 | Time: 211.86 seconds\n",
      "Epoch: 7 | Train Loss: 0.32214 | Valid Loss: 0.43450 | Train Accs: 0.89803 | Valid Accs: 0.87977 | Time: 213.04 seconds\n",
      "Epoch: 8 | Train Loss: 0.24906 | Valid Loss: 0.33130 | Train Accs: 0.92131 | Valid Accs: 0.90219 | Time: 213.37 seconds\n",
      "Epoch: 9 | Train Loss: 0.23123 | Valid Loss: 0.34366 | Train Accs: 0.92562 | Valid Accs: 0.91460 | Time: 212.66 seconds\n",
      "Epoch: 10 | Train Loss: 0.18171 | Valid Loss: 0.35346 | Train Accs: 0.94062 | Valid Accs: 0.90172 | Time: 212.14 seconds\n",
      "Epoch: 11 | Train Loss: 0.17232 | Valid Loss: 0.43098 | Train Accs: 0.94734 | Valid Accs: 0.90076 | Time: 211.99 seconds\n",
      "Epoch: 12 | Train Loss: 0.14421 | Valid Loss: 0.53959 | Train Accs: 0.95113 | Valid Accs: 0.87309 | Time: 212.11 seconds\n",
      "Epoch: 13 | Train Loss: 0.14145 | Valid Loss: 0.29893 | Train Accs: 0.95310 | Valid Accs: 0.92032 | Time: 213.40 seconds\n",
      "Epoch: 14 | Train Loss: 0.10909 | Valid Loss: 0.35277 | Train Accs: 0.96569 | Valid Accs: 0.90935 | Time: 212.82 seconds\n",
      "Epoch: 15 | Train Loss: 0.10337 | Valid Loss: 0.20852 | Train Accs: 0.96713 | Valid Accs: 0.94895 | Time: 213.74 seconds\n",
      "Epoch: 16 | Train Loss: 0.06763 | Valid Loss: 0.42299 | Train Accs: 0.98018 | Valid Accs: 0.90029 | Time: 212.35 seconds\n",
      "Epoch: 17 | Train Loss: 0.09544 | Valid Loss: 0.20514 | Train Accs: 0.96939 | Valid Accs: 0.95181 | Time: 214.43 seconds\n",
      "Epoch: 18 | Train Loss: 0.06368 | Valid Loss: 0.18450 | Train Accs: 0.98021 | Valid Accs: 0.95945 | Time: 214.65 seconds\n",
      "Epoch: 19 | Train Loss: 0.03416 | Valid Loss: 0.22723 | Train Accs: 0.98908 | Valid Accs: 0.95754 | Time: 213.07 seconds\n",
      "Epoch: 20 | Train Loss: 0.03219 | Valid Loss: 0.25298 | Train Accs: 0.99016 | Valid Accs: 0.95038 | Time: 212.68 seconds\n",
      "Epoch: 21 | Train Loss: 0.02726 | Valid Loss: 0.19571 | Train Accs: 0.99184 | Valid Accs: 0.96422 | Time: 213.23 seconds\n",
      "Epoch: 22 | Train Loss: 0.02799 | Valid Loss: 0.22581 | Train Accs: 0.99280 | Valid Accs: 0.95420 | Time: 212.89 seconds\n",
      "Epoch: 23 | Train Loss: 0.02763 | Valid Loss: 0.18207 | Train Accs: 0.99208 | Valid Accs: 0.96374 | Time: 213.44 seconds\n",
      "Epoch: 24 | Train Loss: 0.01126 | Valid Loss: 0.20984 | Train Accs: 0.99647 | Valid Accs: 0.96326 | Time: 211.57 seconds\n",
      "Epoch: 25 | Train Loss: 0.01170 | Valid Loss: 0.19652 | Train Accs: 0.99614 | Valid Accs: 0.96374 | Time: 211.67 seconds\n",
      "Epoch: 26 | Train Loss: 0.00591 | Valid Loss: 0.19232 | Train Accs: 0.99820 | Valid Accs: 0.96899 | Time: 212.11 seconds\n",
      "Epoch: 27 | Train Loss: 0.00244 | Valid Loss: 0.17635 | Train Accs: 0.99952 | Valid Accs: 0.96947 | Time: 212.59 seconds\n",
      "Epoch: 28 | Train Loss: 0.00151 | Valid Loss: 0.18045 | Train Accs: 0.99952 | Valid Accs: 0.97042 | Time: 212.37 seconds\n",
      "Epoch: 29 | Train Loss: 0.00084 | Valid Loss: 0.18670 | Train Accs: 0.99988 | Valid Accs: 0.96708 | Time: 212.17 seconds\n",
      "Epoch: 30 | Train Loss: 0.00089 | Valid Loss: 0.19323 | Train Accs: 0.99976 | Valid Accs: 0.96708 | Time: 211.45 seconds\n",
      "Epoch: 31 | Train Loss: 0.00073 | Valid Loss: 0.20196 | Train Accs: 1.00000 | Valid Accs: 0.96803 | Time: 211.84 seconds\n",
      "Epoch: 32 | Train Loss: 0.00044 | Valid Loss: 0.19637 | Train Accs: 1.00000 | Valid Accs: 0.96947 | Time: 211.85 seconds\n",
      "Epoch: 33 | Train Loss: 0.00030 | Valid Loss: 0.19510 | Train Accs: 1.00000 | Valid Accs: 0.96803 | Time: 211.98 seconds\n",
      "Epoch: 34 | Train Loss: 0.00034 | Valid Loss: 0.19796 | Train Accs: 1.00000 | Valid Accs: 0.96899 | Time: 212.53 seconds\n",
      "Epoch: 35 | Train Loss: 0.00045 | Valid Loss: 0.19385 | Train Accs: 1.00000 | Valid Accs: 0.96899 | Time: 212.16 seconds\n",
      "\n",
      "**************************************************\n",
      "\n",
      "Best Validation Loss at Epoch 27\n",
      "\n",
      "**************************************************\n",
      "\n",
      "Best Validation Accs at Epoch 28\n",
      "\n",
      "**************************************************\n",
      "\n",
      "Time Taken [35 Epochs] : 124.17 minutes\n",
      "\n",
      "**************************************************\n",
      "\n"
     ]
    },
    {
     "data": {
      "image/png": "[encoded data removed]",
      "text/plain": [
       "<Figure size 432x288 with 1 Axes>"
      ]
     },
     "metadata": {
      "needs_background": "light"
     },
     "output_type": "display_data"
    },
    {
     "name": "stdout",
     "output_type": "stream",
     "text": [
      "\n",
      "**************************************************\n",
      "\n"
     ]
    },
    {
     "data": {
      "image/png": "[encoded data removed]",
      "text/plain": [
       "<Figure size 432x288 with 1 Axes>"
      ]
     },
     "metadata": {
      "needs_background": "light"
     },
     "output_type": "display_data"
    },
    {
     "name": "stdout",
     "output_type": "stream",
     "text": [
      "\n",
      "**************************************************\n",
      "\n"
     ]
    },
    {
     "data": {
      "image/png": "[encoded data removed]",
      "text/plain": [
       "<Figure size 576x432 with 1 Axes>"
      ]
     },
     "metadata": {
      "needs_background": "light"
     },
     "output_type": "display_data"
    },
    {
     "name": "stdout",
     "output_type": "stream",
     "text": [
      "\n",
      "**************************************************\n",
      "\n"
     ]
    }
   ],
   "source": [
    "for tr_idx, va_idx in StratifiedKFold(n_splits=cfg.n_splits, random_state=cfg.seed, shuffle=True).split(images, labels):\n",
    "    break\n",
    "\n",
    "tr_images, va_images, tr_labels, va_labels = images[tr_idx], images[va_idx], labels[tr_idx], labels[va_idx]\n",
    "\n",
    "tr_data_setup = DS(tr_images, tr_labels.reshape(-1, 1), cfg.transform)\n",
    "va_data_setup = DS(va_images, va_labels.reshape(-1, 1), cfg.transform)\n",
    "\n",
    "dataloaders = {\n",
    "    \"train\" : DL(tr_data_setup, batch_size=cfg.batch_size, shuffle=True, generator=torch.manual_seed(cfg.seed)),\n",
    "    \"valid\" : DL(va_data_setup, batch_size=cfg.batch_size, shuffle=False),\n",
    "}\n",
    "\n",
    "cfg = CFG(epochs=35, batch_size=64, steps_per_epoch=len(dataloaders[\"train\"]))\n",
    "\n",
    "torch.manual_seed(cfg.seed)\n",
    "model = Model().to(cfg.device)\n",
    "optimizer = optim.AdamW([p for p in model.parameters() if p.requires_grad], lr=cfg.lr, weight_decay=cfg.wd)\n",
    "scheduler_oclr = optim.lr_scheduler.OneCycleLR(optimizer=optimizer, \n",
    "                                               max_lr=cfg.max_lr, \n",
    "                                               epochs=cfg.epochs, \n",
    "                                               steps_per_epoch=cfg.steps_per_epoch,\n",
    "                                               pct_start=cfg.pct_start, \n",
    "                                               div_factor=cfg.div_factor, \n",
    "                                               final_div_factor=cfg.final_div_factor)\n",
    "# scheduler_rlrop = optim.lr_scheduler.ReduceLROnPlateau(optimizer=optimizer,\n",
    "#                                                       patience=cfg.patience,\n",
    "#                                                       eps=cfg.eps,\n",
    "#                                                       verbose=True)\n",
    "\n",
    "# scheduler_oclr = None\n",
    "scheduler_rlrop = None\n",
    "\n",
    "L, A, LR, BLE, BAE, _, _ = fit(model=model, \n",
    "                               optimizer=optimizer, \n",
    "                               scheduler_oclr=scheduler_oclr,\n",
    "                               scheduler_rlrop=scheduler_rlrop,\n",
    "                               epochs=cfg.epochs, \n",
    "                               early_stopping_patience=None, \n",
    "                               dataloaders=dataloaders, \n",
    "                               device=cfg.device,\n",
    "                               save_path=cfg.save_path,\n",
    "                               fold=None,\n",
    "                               verbose=True)\n",
    "\n",
    "breaker()\n",
    "show_loss_graphs(L)\n",
    "breaker()\n",
    "show_accuracy_graphs(A)\n",
    "breaker()\n",
    "\n",
    "if scheduler_oclr:\n",
    "    show_lr_graph(LR)\n",
    "    breaker()"
   ]
  }
 ],
 "metadata": {
  "kernelspec": {
   "display_name": "Python 3",
   "language": "python",
   "name": "python3"
  },
  "language_info": {
   "codemirror_mode": {
    "name": "ipython",
    "version": 3
   },
   "file_extension": ".py",
   "mimetype": "text/x-python",
   "name": "python",
   "nbconvert_exporter": "python",
   "pygments_lexer": "ipython3",
   "version": "3.7.12"
  },
  "papermill": {
   "default_parameters": {},
   "duration": 7511.314702,
   "end_time": "2022-06-19T10:33:39.865215",
   "environment_variables": {},
   "exception": null,
   "input_path": "__notebook__.ipynb",
   "output_path": "__notebook__.ipynb",
   "parameters": {},
   "start_time": "2022-06-19T08:28:28.550513",
   "version": "2.3.4"
  },
  "widgets": {
   "application/vnd.jupyter.widget-state+json": {
    "state": {
     "42c7069fd7c24685bfc1ded7221a6e3c": {
      "model_module": "@jupyter-widgets/base",
      "model_module_version": "1.2.0",
      "model_name": "LayoutModel",
      "state": {
       "_model_module": "@jupyter-widgets/base",
       "_model_module_version": "1.2.0",
       "_model_name": "LayoutModel",
       "_view_count": null,
       "_view_module": "@jupyter-widgets/base",
       "_view_module_version": "1.2.0",
       "_view_name": "LayoutView",
       "align_content": null,
       "align_items": null,
       "align_self": null,
       "border": null,
       "bottom": null,
       "display": null,
       "flex": null,
       "flex_flow": null,
       "grid_area": null,
       "grid_auto_columns": null,
       "grid_auto_flow": null,
       "grid_auto_rows": null,
       "grid_column": null,
       "grid_gap": null,
       "grid_row": null,
       "grid_template_areas": null,
       "grid_template_columns": null,
       "grid_template_rows": null,
       "height": null,
       "justify_content": null,
       "justify_items": null,
       "left": null,
       "margin": null,
       "max_height": null,
       "max_width": null,
       "min_height": null,
       "min_width": null,
       "object_fit": null,
       "object_position": null,
       "order": null,
       "overflow": null,
       "overflow_x": null,
       "overflow_y": null,
       "padding": null,
       "right": null,
       "top": null,
       "visibility": null,
       "width": null
      }
     },
     "43827e29170241b2a41f31e57e922416": {
      "model_module": "@jupyter-widgets/base",
      "model_module_version": "1.2.0",
      "model_name": "LayoutModel",
      "state": {
       "_model_module": "@jupyter-widgets/base",
       "_model_module_version": "1.2.0",
       "_model_name": "LayoutModel",
       "_view_count": null,
       "_view_module": "@jupyter-widgets/base",
       "_view_module_version": "1.2.0",
       "_view_name": "LayoutView",
       "align_content": null,
       "align_items": null,
       "align_self": null,
       "border": null,
       "bottom": null,
       "display": null,
       "flex": null,
       "flex_flow": null,
       "grid_area": null,
       "grid_auto_columns": null,
       "grid_auto_flow": null,
       "grid_auto_rows": null,
       "grid_column": null,
       "grid_gap": null,
       "grid_row": null,
       "grid_template_areas": null,
       "grid_template_columns": null,
       "grid_template_rows": null,
       "height": null,
       "justify_content": null,
       "justify_items": null,
       "left": null,
       "margin": null,
       "max_height": null,
       "max_width": null,
       "min_height": null,
       "min_width": null,
       "object_fit": null,
       "object_position": null,
       "order": null,
       "overflow": null,
       "overflow_x": null,
       "overflow_y": null,
       "padding": null,
       "right": null,
       "top": null,
       "visibility": null,
       "width": null
      }
     },
     "44c361629ef542bbab440037bf772c96": {
      "model_module": "@jupyter-widgets/base",
      "model_module_version": "1.2.0",
      "model_name": "LayoutModel",
      "state": {
       "_model_module": "@jupyter-widgets/base",
       "_model_module_version": "1.2.0",
       "_model_name": "LayoutModel",
       "_view_count": null,
       "_view_module": "@jupyter-widgets/base",
       "_view_module_version": "1.2.0",
       "_view_name": "LayoutView",
       "align_content": null,
       "align_items": null,
       "align_self": null,
       "border": null,
       "bottom": null,
       "display": null,
       "flex": null,
       "flex_flow": null,
       "grid_area": null,
       "grid_auto_columns": null,
       "grid_auto_flow": null,
       "grid_auto_rows": null,
       "grid_column": null,
       "grid_gap": null,
       "grid_row": null,
       "grid_template_areas": null,
       "grid_template_columns": null,
       "grid_template_rows": null,
       "height": null,
       "justify_content": null,
       "justify_items": null,
       "left": null,
       "margin": null,
       "max_height": null,
       "max_width": null,
       "min_height": null,
       "min_width": null,
       "object_fit": null,
       "object_position": null,
       "order": null,
       "overflow": null,
       "overflow_x": null,
       "overflow_y": null,
       "padding": null,
       "right": null,
       "top": null,
       "visibility": null,
       "width": null
      }
     },
     "5a4b8758c5314a57b77bc12db95df3ee": {
      "model_module": "@jupyter-widgets/controls",
      "model_module_version": "1.5.0",
      "model_name": "DescriptionStyleModel",
      "state": {
       "_model_module": "@jupyter-widgets/controls",
       "_model_module_version": "1.5.0",
       "_model_name": "DescriptionStyleModel",
       "_view_count": null,
       "_view_module": "@jupyter-widgets/base",
       "_view_module_version": "1.2.0",
       "_view_name": "StyleView",
       "description_width": ""
      }
     },
     "73341f63afe84ed682c14d2e98de6dc5": {
      "model_module": "@jupyter-widgets/controls",
      "model_module_version": "1.5.0",
      "model_name": "ProgressStyleModel",
      "state": {
       "_model_module": "@jupyter-widgets/controls",
       "_model_module_version": "1.5.0",
       "_model_name": "ProgressStyleModel",
       "_view_count": null,
       "_view_module": "@jupyter-widgets/base",
       "_view_module_version": "1.2.0",
       "_view_name": "StyleView",
       "bar_color": null,
       "description_width": ""
      }
     },
     "76aebb057b1d4b0e957e942264530d12": {
      "model_module": "@jupyter-widgets/controls",
      "model_module_version": "1.5.0",
      "model_name": "HTMLModel",
      "state": {
       "_dom_classes": [],
       "_model_module": "@jupyter-widgets/controls",
       "_model_module_version": "1.5.0",
       "_model_name": "HTMLModel",
       "_view_count": null,
       "_view_module": "@jupyter-widgets/controls",
       "_view_module_version": "1.5.0",
       "_view_name": "HTMLView",
       "description": "",
       "description_tooltip": null,
       "layout": "IPY_MODEL_43827e29170241b2a41f31e57e922416",
       "placeholder": "​",
       "style": "IPY_MODEL_5a4b8758c5314a57b77bc12db95df3ee",
       "value": " 54.7M/54.7M [00:03&lt;00:00, 18.0MB/s]"
      }
     },
     "7e4f07b0667e405faa7f654d29d937e2": {
      "model_module": "@jupyter-widgets/controls",
      "model_module_version": "1.5.0",
      "model_name": "HTMLModel",
      "state": {
       "_dom_classes": [],
       "_model_module": "@jupyter-widgets/controls",
       "_model_module_version": "1.5.0",
       "_model_name": "HTMLModel",
       "_view_count": null,
       "_view_module": "@jupyter-widgets/controls",
       "_view_module_version": "1.5.0",
       "_view_name": "HTMLView",
       "description": "",
       "description_tooltip": null,
       "layout": "IPY_MODEL_42c7069fd7c24685bfc1ded7221a6e3c",
       "placeholder": "​",
       "style": "IPY_MODEL_9310bba94be546eda91b3fca22317a8f",
       "value": "100%"
      }
     },
     "9310bba94be546eda91b3fca22317a8f": {
      "model_module": "@jupyter-widgets/controls",
      "model_module_version": "1.5.0",
      "model_name": "DescriptionStyleModel",
      "state": {
       "_model_module": "@jupyter-widgets/controls",
       "_model_module_version": "1.5.0",
       "_model_name": "DescriptionStyleModel",
       "_view_count": null,
       "_view_module": "@jupyter-widgets/base",
       "_view_module_version": "1.2.0",
       "_view_name": "StyleView",
       "description_width": ""
      }
     },
     "dbb58c240a9a435d9bc319fa751bf301": {
      "model_module": "@jupyter-widgets/controls",
      "model_module_version": "1.5.0",
      "model_name": "FloatProgressModel",
      "state": {
       "_dom_classes": [],
       "_model_module": "@jupyter-widgets/controls",
       "_model_module_version": "1.5.0",
       "_model_name": "FloatProgressModel",
       "_view_count": null,
       "_view_module": "@jupyter-widgets/controls",
       "_view_module_version": "1.5.0",
       "_view_name": "ProgressView",
       "bar_style": "success",
       "description": "",
       "description_tooltip": null,
       "layout": "IPY_MODEL_44c361629ef542bbab440037bf772c96",
       "max": 57365526.0,
       "min": 0.0,
       "orientation": "horizontal",
       "style": "IPY_MODEL_73341f63afe84ed682c14d2e98de6dc5",
       "value": 57365526.0
      }
     },
     "e8c317c617584b97874e882ca6042fa4": {
      "model_module": "@jupyter-widgets/base",
      "model_module_version": "1.2.0",
      "model_name": "LayoutModel",
      "state": {
       "_model_module": "@jupyter-widgets/base",
       "_model_module_version": "1.2.0",
       "_model_name": "LayoutModel",
       "_view_count": null,
       "_view_module": "@jupyter-widgets/base",
       "_view_module_version": "1.2.0",
       "_view_name": "LayoutView",
       "align_content": null,
       "align_items": null,
       "align_self": null,
       "border": null,
       "bottom": null,
       "display": null,
       "flex": null,
       "flex_flow": null,
       "grid_area": null,
       "grid_auto_columns": null,
       "grid_auto_flow": null,
       "grid_auto_rows": null,
       "grid_column": null,
       "grid_gap": null,
       "grid_row": null,
       "grid_template_areas": null,
       "grid_template_columns": null,
       "grid_template_rows": null,
       "height": null,
       "justify_content": null,
       "justify_items": null,
       "left": null,
       "margin": null,
       "max_height": null,
       "max_width": null,
       "min_height": null,
       "min_width": null,
       "object_fit": null,
       "object_position": null,
       "order": null,
       "overflow": null,
       "overflow_x": null,
       "overflow_y": null,
       "padding": null,
       "right": null,
       "top": null,
       "visibility": null,
       "width": null
      }
     },
     "efcf4fa2850f49aaba31a87766ba2994": {
      "model_module": "@jupyter-widgets/controls",
      "model_module_version": "1.5.0",
      "model_name": "HBoxModel",
      "state": {
       "_dom_classes": [],
       "_model_module": "@jupyter-widgets/controls",
       "_model_module_version": "1.5.0",
       "_model_name": "HBoxModel",
       "_view_count": null,
       "_view_module": "@jupyter-widgets/controls",
       "_view_module_version": "1.5.0",
       "_view_name": "HBoxView",
       "box_style": "",
       "children": [
        "IPY_MODEL_7e4f07b0667e405faa7f654d29d937e2",
        "IPY_MODEL_dbb58c240a9a435d9bc319fa751bf301",
        "IPY_MODEL_76aebb057b1d4b0e957e942264530d12"
       ],
       "layout": "IPY_MODEL_e8c317c617584b97874e882ca6042fa4"
      }
     }
    },
    "version_major": 2,
    "version_minor": 0
   }
  }
 },
 "nbformat": 4,
 "nbformat_minor": 5
}
