{
 "cells": [
  {
   "cell_type": "markdown",
   "id": "f83cf6ec",
   "metadata": {
    "_cell_guid": "b1076dfc-b9ad-4769-8c92-a6c4dae69d19",
    "_uuid": "8f2839f25d086af736a60e9eeb907d3b93b6e0e5",
    "execution": {
     "iopub.execute_input": "2022-06-13T20:48:07.937123Z",
     "iopub.status.busy": "2022-06-13T20:48:07.936137Z",
     "iopub.status.idle": "2022-06-13T20:48:07.944469Z",
     "shell.execute_reply": "2022-06-13T20:48:07.942957Z",
     "shell.execute_reply.started": "2022-06-13T20:48:07.937067Z"
    },
    "papermill": {
     "duration": 0.003489,
     "end_time": "2022-06-18T14:38:45.261930",
     "exception": false,
     "start_time": "2022-06-18T14:38:45.258441",
     "status": "completed"
    },
    "tags": []
   },
   "source": [
    "### **Library Imports**"
   ]
  },
  {
   "cell_type": "code",
   "execution_count": 1,
   "id": "8a723048",
   "metadata": {
    "execution": {
     "iopub.execute_input": "2022-06-18T14:38:45.271705Z",
     "iopub.status.busy": "2022-06-18T14:38:45.270687Z",
     "iopub.status.idle": "2022-06-18T14:38:46.685112Z",
     "shell.execute_reply": "2022-06-18T14:38:46.684140Z"
    },
    "papermill": {
     "duration": 1.4209,
     "end_time": "2022-06-18T14:38:46.687797",
     "exception": false,
     "start_time": "2022-06-18T14:38:45.266897",
     "status": "completed"
    },
    "tags": []
   },
   "outputs": [],
   "source": [
    "import os\n",
    "import cv2\n",
    "import random as r\n",
    "import numpy as np\n",
    "import pandas as pd\n",
    "import matplotlib.pyplot as plt\n",
    "\n",
    "from time import time\n",
    "from sklearn.preprocessing import LabelEncoder\n",
    "from sklearn.model_selection import StratifiedKFold"
   ]
  },
  {
   "cell_type": "markdown",
   "id": "835f1da7",
   "metadata": {
    "papermill": {
     "duration": 0.002587,
     "end_time": "2022-06-18T14:38:46.693303",
     "exception": false,
     "start_time": "2022-06-18T14:38:46.690716",
     "status": "completed"
    },
    "tags": []
   },
   "source": [
    "### **Helpers**"
   ]
  },
  {
   "cell_type": "code",
   "execution_count": 2,
   "id": "2c5b9d05",
   "metadata": {
    "execution": {
     "iopub.execute_input": "2022-06-18T14:38:46.700056Z",
     "iopub.status.busy": "2022-06-18T14:38:46.699667Z",
     "iopub.status.idle": "2022-06-18T14:38:46.711625Z",
     "shell.execute_reply": "2022-06-18T14:38:46.710879Z"
    },
    "papermill": {
     "duration": 0.017635,
     "end_time": "2022-06-18T14:38:46.713535",
     "exception": false,
     "start_time": "2022-06-18T14:38:46.695900",
     "status": "completed"
    },
    "tags": []
   },
   "outputs": [],
   "source": [
    "def breaker(num: int = 50, char: str = \"*\") -> None:\n",
    "    print(\"\\n\" + num*char + \"\\n\")\n",
    "\n",
    "\n",
    "def get_image(path: str, size: int=224) -> np.ndarray:\n",
    "    return cv2.resize(src=cv2.cvtColor(src=cv2.imread(path, cv2.IMREAD_COLOR), code=cv2.COLOR_BGR2RGB), dsize=(size, size), interpolation=cv2.INTER_AREA)\n",
    "\n",
    "\n",
    "def get_images(path: str, label_names: np.ndarray, filenames: np.ndarray, size: int) -> np.ndarray:\n",
    "    images = np.zeros((len(filenames), size, size, 3), dtype=np.uint8)\n",
    "    \n",
    "    for i in range(len(filenames)):\n",
    "        images[i] = get_image(os.path.join(os.path.join(path, label_names[i]), filenames[i]), size)\n",
    "    return images\n",
    "\n",
    "\n",
    "def get_statistics(path: str, label_names: np.ndarray, filenames: np.ndarray, size: int=224) -> tuple:\n",
    "    r_mean, g_mean, b_mean, r_std, g_std, b_std = 0.0, 0.0, 0.0, 0.0, 0.0, 0.0\n",
    "    \n",
    "    for i in range(len(filenames)):\n",
    "        image = get_image(os.path.join(os.path.join(path, label_names[i]), filenames[i]), size)\n",
    "        \n",
    "        r_mean += image[:, :, 0].mean()\n",
    "        g_mean += image[:, :, 1].mean()\n",
    "        b_mean += image[:, :, 2].mean()\n",
    "        \n",
    "        r_std += image[:, :, 0].std()\n",
    "        g_std += image[:, :, 1].std()\n",
    "        b_std += image[:, :, 2].std()\n",
    "    \n",
    "    return (r_mean, g_mean, b_mean), (r_std, g_std, b_std)\n",
    "\n",
    "\n",
    "TRAIN_IMAGE_BASE_PATH = \"../input/paddy-disease-classification/train_images\"\n",
    "SIZE = 512\n",
    "le = LabelEncoder()"
   ]
  },
  {
   "cell_type": "code",
   "execution_count": 3,
   "id": "1c9235f2",
   "metadata": {
    "execution": {
     "iopub.execute_input": "2022-06-18T14:38:46.720921Z",
     "iopub.status.busy": "2022-06-18T14:38:46.719946Z",
     "iopub.status.idle": "2022-06-18T14:38:46.724680Z",
     "shell.execute_reply": "2022-06-18T14:38:46.723903Z"
    },
    "papermill": {
     "duration": 0.00997,
     "end_time": "2022-06-18T14:38:46.726350",
     "exception": false,
     "start_time": "2022-06-18T14:38:46.716380",
     "status": "completed"
    },
    "tags": []
   },
   "outputs": [],
   "source": [
    "class CFG(object):\n",
    "    def __init__(self, seed: int=42, n_splits: int=5):\n",
    "        self.seed = seed\n",
    "        self.n_splits = n_splits\n",
    "\n",
    "cfg = CFG()"
   ]
  },
  {
   "cell_type": "markdown",
   "id": "6865c88e",
   "metadata": {
    "papermill": {
     "duration": 0.002448,
     "end_time": "2022-06-18T14:38:46.731503",
     "exception": false,
     "start_time": "2022-06-18T14:38:46.729055",
     "status": "completed"
    },
    "tags": []
   },
   "source": [
    "### **Get Images (Fold 1)**"
   ]
  },
  {
   "cell_type": "code",
   "execution_count": 4,
   "id": "ac8ad290",
   "metadata": {
    "execution": {
     "iopub.execute_input": "2022-06-18T14:38:46.738744Z",
     "iopub.status.busy": "2022-06-18T14:38:46.737802Z",
     "iopub.status.idle": "2022-06-18T14:38:46.772089Z",
     "shell.execute_reply": "2022-06-18T14:38:46.771279Z"
    },
    "papermill": {
     "duration": 0.040635,
     "end_time": "2022-06-18T14:38:46.774804",
     "exception": false,
     "start_time": "2022-06-18T14:38:46.734169",
     "status": "completed"
    },
    "tags": []
   },
   "outputs": [],
   "source": [
    "df = pd.read_csv(\"../input/paddy-disease-classification/train.csv\")\n",
    "\n",
    "filenames = df.image_id.copy().values\n",
    "label_names = df.label.copy().values\n",
    "labels = le.fit_transform(label_names)"
   ]
  },
  {
   "cell_type": "code",
   "execution_count": 5,
   "id": "4ac9d68e",
   "metadata": {
    "execution": {
     "iopub.execute_input": "2022-06-18T14:38:46.782305Z",
     "iopub.status.busy": "2022-06-18T14:38:46.781881Z",
     "iopub.status.idle": "2022-06-18T14:42:04.992714Z",
     "shell.execute_reply": "2022-06-18T14:42:04.991186Z"
    },
    "papermill": {
     "duration": 198.275731,
     "end_time": "2022-06-18T14:42:05.053476",
     "exception": false,
     "start_time": "2022-06-18T14:38:46.777745",
     "status": "completed"
    },
    "tags": []
   },
   "outputs": [
    {
     "name": "stdout",
     "output_type": "stream",
     "text": [
      "\n",
      "**************************************************\n",
      "\n",
      "Time Taken : 198.20 seconds\n",
      "\n",
      "**************************************************\n",
      "\n"
     ]
    }
   ],
   "source": [
    "start_time = time()\n",
    "fold = 1\n",
    "\n",
    "for tr_idx, va_idx in StratifiedKFold(n_splits=cfg.n_splits, random_state=cfg.seed, shuffle=True).split(filenames, labels):\n",
    "    if fold == 3: break\n",
    "    fold += 1\n",
    "\n",
    "tr_filenames, va_filenames, tr_label_names, va_label_names, tr_labels, va_labels = filenames[tr_idx], filenames[va_idx], label_names[tr_idx], label_names[va_idx], labels[tr_idx], labels[va_idx]    \n",
    "\n",
    "tr_images = get_images(TRAIN_IMAGE_BASE_PATH, tr_label_names, tr_filenames, SIZE)\n",
    "va_images = get_images(TRAIN_IMAGE_BASE_PATH, va_label_names, va_filenames, SIZE)\n",
    "\n",
    "np.save(f\"tr-images-{SIZE}-f{fold}.npy\", tr_images)\n",
    "np.save(f\"va-images-{SIZE}-f{fold}.npy\", va_images)\n",
    "np.save(f\"tr-labels-{SIZE}-f{fold}.npy\", tr_labels)\n",
    "np.save(f\"va-labels-{SIZE}-f{fold}.npy\", va_labels)\n",
    "\n",
    "breaker()\n",
    "print(f\"Time Taken : {time()-start_time:.2f} seconds\")\n",
    "breaker()"
   ]
  },
  {
   "cell_type": "markdown",
   "id": "78c7699f",
   "metadata": {
    "papermill": {
     "duration": 0.073697,
     "end_time": "2022-06-18T14:42:05.132192",
     "exception": false,
     "start_time": "2022-06-18T14:42:05.058495",
     "status": "completed"
    },
    "tags": []
   },
   "source": [
    "### **Statistics**"
   ]
  },
  {
   "cell_type": "code",
   "execution_count": 6,
   "id": "02c7f976",
   "metadata": {
    "execution": {
     "iopub.execute_input": "2022-06-18T14:42:05.224234Z",
     "iopub.status.busy": "2022-06-18T14:42:05.223282Z",
     "iopub.status.idle": "2022-06-18T14:45:02.301967Z",
     "shell.execute_reply": "2022-06-18T14:45:02.301202Z"
    },
    "papermill": {
     "duration": 177.171517,
     "end_time": "2022-06-18T14:45:02.306749",
     "exception": false,
     "start_time": "2022-06-18T14:42:05.135232",
     "status": "completed"
    },
    "tags": []
   },
   "outputs": [
    {
     "name": "stdout",
     "output_type": "stream",
     "text": [
      "\n",
      "**************************************************\n",
      "\n",
      "Red   Channel Mean : 0.49650\n",
      "Red   Channel Std  : 0.22750\n",
      "\n",
      "Green Channel Mean : 0.58774\n",
      "Green Channel Std  : 0.22771\n",
      "\n",
      "Blue  Channel Mean : 0.23004\n",
      "Blue  Channel Std  : 0.18430\n",
      "\n",
      "**************************************************\n",
      "\n",
      "Time Taken : 177.07 seconds\n",
      "\n",
      "**************************************************\n",
      "\n"
     ]
    }
   ],
   "source": [
    "breaker()\n",
    "\n",
    "start_time = time()\n",
    "\n",
    "means, stds = get_statistics(TRAIN_IMAGE_BASE_PATH, label_names, filenames, SIZE)\n",
    "channels = [\"Red  \", \"Green\", \"Blue \"]\n",
    "\n",
    "for i in range(len(means)):\n",
    "    print(f\"{channels[i]} Channel Mean : {means[i] / len(filenames) / 255:.5f}\")\n",
    "    print(f\"{channels[i]} Channel Std  : {stds[i] / len(filenames) / 255:.5f}\")\n",
    "    if i != 2: print(\"\")\n",
    "\n",
    "breaker()\n",
    "print(f\"Time Taken : {time()-start_time:.2f} seconds\")\n",
    "breaker()"
   ]
  }
 ],
 "metadata": {
  "kernelspec": {
   "display_name": "Python 3",
   "language": "python",
   "name": "python3"
  },
  "language_info": {
   "codemirror_mode": {
    "name": "ipython",
    "version": 3
   },
   "file_extension": ".py",
   "mimetype": "text/x-python",
   "name": "python",
   "nbconvert_exporter": "python",
   "pygments_lexer": "ipython3",
   "version": "3.7.12"
  },
  "papermill": {
   "default_parameters": {},
   "duration": 387.071011,
   "end_time": "2022-06-18T14:45:03.536696",
   "environment_variables": {},
   "exception": null,
   "input_path": "__notebook__.ipynb",
   "output_path": "__notebook__.ipynb",
   "parameters": {},
   "start_time": "2022-06-18T14:38:36.465685",
   "version": "2.3.4"
  }
 },
 "nbformat": 4,
 "nbformat_minor": 5
}
