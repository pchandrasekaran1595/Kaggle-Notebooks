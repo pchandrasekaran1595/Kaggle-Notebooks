{
 "cells": [
  {
   "cell_type": "markdown",
   "id": "bb4ad1d4",
   "metadata": {
    "_cell_guid": "b1076dfc-b9ad-4769-8c92-a6c4dae69d19",
    "_uuid": "8f2839f25d086af736a60e9eeb907d3b93b6e0e5",
    "papermill": {
     "duration": 0.005,
     "end_time": "2022-06-28T11:47:13.114845",
     "exception": false,
     "start_time": "2022-06-28T11:47:13.109845",
     "status": "completed"
    },
    "tags": []
   },
   "source": [
    "### **Setup**"
   ]
  },
  {
   "cell_type": "code",
   "execution_count": 1,
   "id": "42f7abcb",
   "metadata": {
    "execution": {
     "iopub.execute_input": "2022-06-28T11:47:13.124882Z",
     "iopub.status.busy": "2022-06-28T11:47:13.124382Z",
     "iopub.status.idle": "2022-06-28T11:47:23.837190Z",
     "shell.execute_reply": "2022-06-28T11:47:23.836195Z"
    },
    "papermill": {
     "duration": 10.72005,
     "end_time": "2022-06-28T11:47:23.839245",
     "exception": false,
     "start_time": "2022-06-28T11:47:13.119195",
     "status": "completed"
    },
    "tags": []
   },
   "outputs": [
    {
     "name": "stderr",
     "output_type": "stream",
     "text": [
      "WARNING: Running pip as the 'root' user can result in broken permissions and conflicting behaviour with the system package manager. It is recommended to use a virtual environment instead: https://pip.pypa.io/warnings/venv\n"
     ]
    }
   ],
   "source": [
    "%%bash\n",
    "pip install timm -q"
   ]
  },
  {
   "cell_type": "markdown",
   "id": "df2c7a13",
   "metadata": {
    "papermill": {
     "duration": 0.003949,
     "end_time": "2022-06-28T11:47:23.847458",
     "exception": false,
     "start_time": "2022-06-28T11:47:23.843509",
     "status": "completed"
    },
    "tags": []
   },
   "source": [
    "### **Library Imports**"
   ]
  },
  {
   "cell_type": "code",
   "execution_count": 2,
   "id": "e48f15a7",
   "metadata": {
    "execution": {
     "iopub.execute_input": "2022-06-28T11:47:23.857182Z",
     "iopub.status.busy": "2022-06-28T11:47:23.856826Z",
     "iopub.status.idle": "2022-06-28T11:47:31.338326Z",
     "shell.execute_reply": "2022-06-28T11:47:31.337405Z"
    },
    "papermill": {
     "duration": 7.489063,
     "end_time": "2022-06-28T11:47:31.340478",
     "exception": false,
     "start_time": "2022-06-28T11:47:23.851415",
     "status": "completed"
    },
    "tags": []
   },
   "outputs": [],
   "source": [
    "import os\n",
    "import re\n",
    "import timm\n",
    "import torch\n",
    "import numpy as np\n",
    "import pandas as pd\n",
    "import matplotlib.pyplot as plt\n",
    "\n",
    "from time import time\n",
    "from torch import nn, optim\n",
    "from torch.utils.data import Dataset\n",
    "from torch.utils.data import DataLoader as DL\n",
    "from torchvision import transforms\n",
    "\n",
    "from sklearn.model_selection import StratifiedKFold\n",
    "from sklearn.preprocessing import LabelEncoder\n",
    "from sklearn.metrics import accuracy_score"
   ]
  },
  {
   "cell_type": "markdown",
   "id": "22ac9ab2",
   "metadata": {
    "papermill": {
     "duration": 0.004148,
     "end_time": "2022-06-28T11:47:31.348917",
     "exception": false,
     "start_time": "2022-06-28T11:47:31.344769",
     "status": "completed"
    },
    "tags": []
   },
   "source": [
    "### **Utilities and Helpers**"
   ]
  },
  {
   "cell_type": "code",
   "execution_count": 3,
   "id": "37109f82",
   "metadata": {
    "execution": {
     "iopub.execute_input": "2022-06-28T11:47:31.359403Z",
     "iopub.status.busy": "2022-06-28T11:47:31.358517Z",
     "iopub.status.idle": "2022-06-28T11:47:31.370585Z",
     "shell.execute_reply": "2022-06-28T11:47:31.369820Z"
    },
    "papermill": {
     "duration": 0.019359,
     "end_time": "2022-06-28T11:47:31.372349",
     "exception": false,
     "start_time": "2022-06-28T11:47:31.352990",
     "status": "completed"
    },
    "tags": []
   },
   "outputs": [],
   "source": [
    "SEED = 42\n",
    "SIZE = 384\n",
    "le = LabelEncoder()\n",
    "\n",
    "\n",
    "def breaker(num: int=50, char: str=\"*\") -> None:\n",
    "    print(\"\\n\" + num*char + \"\\n\")\n",
    "\n",
    "    \n",
    "def show_loss_graphs(L: list) -> None:\n",
    "    TL, VL = [], []\n",
    "    for i in range(len(L)):\n",
    "        TL.append(L[i][\"train\"])\n",
    "        VL.append(L[i][\"valid\"])\n",
    "    x_Axis = np.arange(1, len(TL) + 1)\n",
    "    plt.figure()\n",
    "    plt.plot(x_Axis, TL, \"r\", label=\"Train\")\n",
    "    plt.plot(x_Axis, VL, \"b\", label=\"Valid\")\n",
    "    plt.legend()\n",
    "    plt.grid()\n",
    "    plt.title(\"Loss Graph\")\n",
    "    plt.show()\n",
    "\n",
    "    \n",
    "def show_accuracy_graphs(A: list) -> None:\n",
    "    TA, VA = [], []\n",
    "    for i in range(len(A)):\n",
    "        TA.append(A[i][\"train\"])\n",
    "        VA.append(A[i][\"valid\"])\n",
    "    x_Axis = np.arange(1, len(TA) + 1)\n",
    "    plt.figure()\n",
    "    plt.plot(x_Axis, TA, \"r\", label=\"Train\")\n",
    "    plt.plot(x_Axis, VA, \"b\", label=\"Valid\")\n",
    "    plt.legend()\n",
    "    plt.grid()\n",
    "    plt.title(\"Accuracy Graph\")\n",
    "    plt.show()\n",
    "\n",
    "\n",
    "def show_lr_graph(LR: list) -> None:\n",
    "    x_Axis = [i+1 for i in range(len(LR))]\n",
    "    plt.figure(figsize=(8, 6))\n",
    "    plt.plot(x_Axis, LR, \"rx\")\n",
    "    plt.grid()\n",
    "    plt.show()"
   ]
  },
  {
   "cell_type": "markdown",
   "id": "5eb39d7d",
   "metadata": {
    "papermill": {
     "duration": 0.00406,
     "end_time": "2022-06-28T11:47:31.380377",
     "exception": false,
     "start_time": "2022-06-28T11:47:31.376317",
     "status": "completed"
    },
    "tags": []
   },
   "source": [
    "### **Configuration**"
   ]
  },
  {
   "cell_type": "code",
   "execution_count": 4,
   "id": "7eda31c5",
   "metadata": {
    "execution": {
     "iopub.execute_input": "2022-06-28T11:47:31.389829Z",
     "iopub.status.busy": "2022-06-28T11:47:31.389559Z",
     "iopub.status.idle": "2022-06-28T11:47:31.451470Z",
     "shell.execute_reply": "2022-06-28T11:47:31.450622Z"
    },
    "papermill": {
     "duration": 0.068706,
     "end_time": "2022-06-28T11:47:31.453085",
     "exception": false,
     "start_time": "2022-06-28T11:47:31.384379",
     "status": "completed"
    },
    "tags": []
   },
   "outputs": [],
   "source": [
    "class CFG(object):\n",
    "    def __init__(self, \n",
    "                 seed: int = 42,\n",
    "                 n_splits: int = 5,\n",
    "                 batch_size: int = 16,\n",
    "                 epochs: int = 25,\n",
    "                 early_stopping: int = 5,\n",
    "                 lr: float = 1e-4,\n",
    "                 wd: float = 0.0,\n",
    "                 max_lr: float = 1e-3,\n",
    "                 pct_start: float = 0.2,\n",
    "                 steps_per_epoch: int = 100,\n",
    "                 div_factor: int = 1e3, \n",
    "                 final_div_factor: float = 1e3,\n",
    "                 ):\n",
    "        \n",
    "        self.seed = seed\n",
    "        self.n_splits = n_splits\n",
    "        self.batch_size = batch_size\n",
    "        self.epochs = epochs\n",
    "        self.early_stopping = early_stopping\n",
    "        self.lr = lr\n",
    "        self.wd = wd\n",
    "        self.max_lr = max_lr\n",
    "        self.pct_start = pct_start\n",
    "        self.steps_per_epoch = steps_per_epoch\n",
    "        self.div_factor = div_factor\n",
    "        self.final_div_factor = final_div_factor\n",
    "        self.device = torch.device(\"cuda\" if torch.cuda.is_available() else \"cpu\")\n",
    "        self.transform = transforms.Compose([transforms.ToTensor(),\n",
    "                                transforms.Normalize([0.49699, 0.58823, 0.23049],\n",
    "                                                     [0.22591, 0.22614, 0.18264]),\n",
    "                                ])\n",
    "        self.save_path = \"saves\"\n",
    "        if not os.path.exists(self.save_path): os.makedirs(self.save_path)\n",
    "    \n",
    "cfg = CFG(seed=SEED)"
   ]
  },
  {
   "cell_type": "markdown",
   "id": "c200f792",
   "metadata": {
    "papermill": {
     "duration": 0.003973,
     "end_time": "2022-06-28T11:47:31.461705",
     "exception": false,
     "start_time": "2022-06-28T11:47:31.457732",
     "status": "completed"
    },
    "tags": []
   },
   "source": [
    "### **Dataset Template**"
   ]
  },
  {
   "cell_type": "code",
   "execution_count": 5,
   "id": "77fe5f6a",
   "metadata": {
    "execution": {
     "iopub.execute_input": "2022-06-28T11:47:31.471526Z",
     "iopub.status.busy": "2022-06-28T11:47:31.470728Z",
     "iopub.status.idle": "2022-06-28T11:47:31.477451Z",
     "shell.execute_reply": "2022-06-28T11:47:31.476737Z"
    },
    "papermill": {
     "duration": 0.01345,
     "end_time": "2022-06-28T11:47:31.479239",
     "exception": false,
     "start_time": "2022-06-28T11:47:31.465789",
     "status": "completed"
    },
    "tags": []
   },
   "outputs": [],
   "source": [
    "class DS(Dataset):\n",
    "    def __init__(self, images: np.ndarray, labels: np.ndarray = None, transform=None):\n",
    "        self.images = images\n",
    "        self.labels = labels\n",
    "        self.transform = transform\n",
    "    \n",
    "    def __len__(self):\n",
    "        return self.images.shape[0]\n",
    "    \n",
    "    def __getitem__(self, idx):\n",
    "        if self.labels is not None:\n",
    "            return self.transform(self.images[idx]), torch.LongTensor(self.labels[idx])\n",
    "        else:\n",
    "            return self.transform(self.images[idx])"
   ]
  },
  {
   "cell_type": "markdown",
   "id": "66f42c89",
   "metadata": {
    "papermill": {
     "duration": 0.004206,
     "end_time": "2022-06-28T11:47:31.487560",
     "exception": false,
     "start_time": "2022-06-28T11:47:31.483354",
     "status": "completed"
    },
    "tags": []
   },
   "source": [
    "### **Model**"
   ]
  },
  {
   "cell_type": "code",
   "execution_count": 6,
   "id": "81a2bc1f",
   "metadata": {
    "execution": {
     "iopub.execute_input": "2022-06-28T11:47:31.497112Z",
     "iopub.status.busy": "2022-06-28T11:47:31.496494Z",
     "iopub.status.idle": "2022-06-28T11:47:31.502676Z",
     "shell.execute_reply": "2022-06-28T11:47:31.501866Z"
    },
    "papermill": {
     "duration": 0.012616,
     "end_time": "2022-06-28T11:47:31.504324",
     "exception": false,
     "start_time": "2022-06-28T11:47:31.491708",
     "status": "completed"
    },
    "tags": []
   },
   "outputs": [],
   "source": [
    "class Model(nn.Module):\n",
    "    def __init__(self):\n",
    "        super(Model, self).__init__()\n",
    "\n",
    "        self.model = timm.create_model(model_name=\"vit_base_patch16_384\", pretrained=True)\n",
    "        # self.freeze()\n",
    "        self.model.head = nn.Linear(in_features=self.model.head.in_features, out_features=10)\n",
    "    \n",
    "    def freeze(self):\n",
    "        for params in self.parameters(): params.requires_grad = False\n",
    "\n",
    "    def forward(self, x):\n",
    "        return nn.LogSoftmax(dim=1)(self.model(x))"
   ]
  },
  {
   "cell_type": "markdown",
   "id": "5e458a1f",
   "metadata": {
    "papermill": {
     "duration": 0.0038,
     "end_time": "2022-06-28T11:47:31.512483",
     "exception": false,
     "start_time": "2022-06-28T11:47:31.508683",
     "status": "completed"
    },
    "tags": []
   },
   "source": [
    "### **Fit and Predict Helpers**"
   ]
  },
  {
   "cell_type": "code",
   "execution_count": 7,
   "id": "49e3f8a7",
   "metadata": {
    "execution": {
     "iopub.execute_input": "2022-06-28T11:47:31.522238Z",
     "iopub.status.busy": "2022-06-28T11:47:31.521916Z",
     "iopub.status.idle": "2022-06-28T11:47:31.548584Z",
     "shell.execute_reply": "2022-06-28T11:47:31.547811Z"
    },
    "papermill": {
     "duration": 0.033781,
     "end_time": "2022-06-28T11:47:31.550470",
     "exception": false,
     "start_time": "2022-06-28T11:47:31.516689",
     "status": "completed"
    },
    "tags": []
   },
   "outputs": [],
   "source": [
    "def fit(model=None, \n",
    "        optimizer=None, \n",
    "        scheduler_rlrop=None,\n",
    "        scheduler_oclr=None,\n",
    "        epochs=None, \n",
    "        early_stopping_patience=None, \n",
    "        dataloaders=None, \n",
    "        fold=None, \n",
    "        save_path=None,\n",
    "        device=None,\n",
    "        verbose=False) -> tuple:\n",
    "    \n",
    "    def get_accuracy(y_pred, y_true):\n",
    "        y_pred = torch.argmax(y_pred, dim=1)\n",
    "        return torch.count_nonzero(y_pred == y_true).item() / len(y_pred)\n",
    "    \n",
    "    if verbose:\n",
    "        breaker()\n",
    "        if fold: print(f\"Training Fold {fold}...\")\n",
    "        else: print(\"Training ...\")\n",
    "        breaker()\n",
    "        \n",
    "    bestLoss, bestAccs = {\"train\" : np.inf, \"valid\" : np.inf}, {\"train\" : 0.0, \"valid\" : 0.0}\n",
    "    Losses, Accuracies, LRs = [], [], []\n",
    "    if fold: \n",
    "        ble_name = f\"ble_state_fold_{fold}.pt\"\n",
    "        bae_name = f\"bae_state_fold_{fold}.pt\"\n",
    "    else: \n",
    "        ble_name = \"ble_state.pt\"\n",
    "        bae_name = \"bae_state.pt\"\n",
    "\n",
    "    start_time = time()\n",
    "    for e in range(epochs):\n",
    "        e_st = time()\n",
    "        epochLoss, epochAccs = {\"train\" : 0.0, \"valid\" : 0.0}, {\"train\" : 0.0, \"valid\" : 0.0}\n",
    "\n",
    "        for phase in [\"train\", \"valid\"]:\n",
    "            if phase == \"train\":\n",
    "                model.train()\n",
    "            else:\n",
    "                model.eval()\n",
    "            \n",
    "            lossPerPass, accsPerPass = [], []\n",
    "\n",
    "            for X, y in dataloaders[phase]:\n",
    "                X, y = X.to(device), y.to(device).view(-1)\n",
    "\n",
    "                optimizer.zero_grad()\n",
    "                with torch.set_grad_enabled(phase == \"train\"):\n",
    "                    output = model(X)\n",
    "                    loss = torch.nn.NLLLoss()(output, y)\n",
    "                    if phase == \"train\":\n",
    "                        loss.backward()\n",
    "                        optimizer.step()\n",
    "                        if scheduler_oclr: scheduler_oclr.step()\n",
    "                lossPerPass.append(loss.item())\n",
    "                accsPerPass.append(get_accuracy(output, y))\n",
    "            epochLoss[phase] = np.mean(np.array(lossPerPass))\n",
    "            epochAccs[phase] = np.mean(np.array(accsPerPass))\n",
    "        if scheduler_oclr: LRs.append(scheduler_oclr.get_last_lr())\n",
    "        Losses.append(epochLoss)\n",
    "        Accuracies.append(epochAccs)\n",
    "        \n",
    "        if scheduler_oclr:\n",
    "            save_dict = {\"model_state_dict\"     : model.state_dict(),\n",
    "                         \"optim_state_dict\"     : optimizer.state_dict(),\n",
    "                         \"scheduler_state_dict\" : scheduler_oclr.state_dict()}\n",
    "        \n",
    "        elif scheduler_rlrop:\n",
    "            save_dict = {\"model_state_dict\"     : model.state_dict(),\n",
    "                         \"optim_state_dict\"     : optimizer.state_dict(),\n",
    "                         \"scheduler_state_dict\" : scheduler_rlrop.state_dict()}\n",
    "        \n",
    "        else:\n",
    "            save_dict = {\"model_state_dict\"     : model.state_dict(),\n",
    "                         \"optim_state_dict\"     : optimizer.state_dict()}\n",
    "        \n",
    "        if early_stopping_patience:\n",
    "            if epochLoss[\"valid\"] < bestLoss[\"valid\"]:\n",
    "                bestLoss = epochLoss\n",
    "                BLE = e + 1\n",
    "                torch.save(save_dict, os.path.join(save_path, name))\n",
    "                early_stopping_step = 0\n",
    "            else:\n",
    "                early_stopping_step += 1\n",
    "                if early_stopping_step > early_stopping_patience:\n",
    "                    print(\"\\nEarly Stopping at Epoch {}\".format(e + 1))\n",
    "                    break\n",
    "        \n",
    "        if epochLoss[\"valid\"] < bestLoss[\"valid\"]:\n",
    "            bestLoss = epochLoss\n",
    "            BLE = e + 1\n",
    "            torch.save(save_dict,os.path.join(save_path, ble_name))\n",
    "        \n",
    "        if epochAccs[\"valid\"] > bestAccs[\"valid\"]:\n",
    "            bestAccs = epochAccs\n",
    "            BAE = e + 1\n",
    "            torch.save(save_dict,os.path.join(save_path, bae_name))\n",
    "\n",
    "        \n",
    "        if scheduler_rlrop: scheduler_rlrop.step(epochLoss[\"valid\"])\n",
    "        \n",
    "        if verbose:\n",
    "            print(\"Epoch: {} | Train Loss: {:.5f} | Valid Loss: {:.5f} |\\\n",
    " Train Accs: {:.5f} | Valid Accs: {:.5f} | Time: {:.2f} seconds\".format(e+1, \n",
    "                                                                        epochLoss[\"train\"], epochLoss[\"valid\"], \n",
    "                                                                        epochAccs[\"train\"], epochAccs[\"valid\"], \n",
    "                                                                        time()-e_st))\n",
    "\n",
    "    if verbose:                                           \n",
    "        breaker()\n",
    "        print(f\"Best Validation Loss at Epoch {BLE}\")\n",
    "        breaker()\n",
    "        print(f\"Best Validation Accs at Epoch {BAE}\")\n",
    "        breaker()\n",
    "        print(\"Time Taken [{} Epochs] : {:.2f} minutes\".format(len(Losses), (time()-start_time)/60))\n",
    "    \n",
    "    return Losses, Accuracies, LRs, BLE, BAE, ble_name, bae_name\n",
    "\n",
    "\n",
    "def predict_batch(model=None, dataloader=None, path=None, device=None) -> np.ndarray:\n",
    "    model.load_state_dict(torch.load(path, map_location=device)[\"model_state_dict\"])\n",
    "    model.to(device)    \n",
    "    model.eval()\n",
    "    \n",
    "    y_pred = torch.zeros(1, 1).to(device)\n",
    "    \n",
    "    for X in dataloader:\n",
    "        X = X.to(device)\n",
    "        with torch.no_grad():\n",
    "            output = torch.argmax(torch.exp(model(X)), dim=1)\n",
    "        y_pred = torch.cat((y_pred, output.view(-1, 1)), dim=0)\n",
    "    \n",
    "    return y_pred[1:].detach().cpu().numpy()"
   ]
  },
  {
   "cell_type": "markdown",
   "id": "1fee24cc",
   "metadata": {
    "papermill": {
     "duration": 0.003972,
     "end_time": "2022-06-28T11:47:31.558719",
     "exception": false,
     "start_time": "2022-06-28T11:47:31.554747",
     "status": "completed"
    },
    "tags": []
   },
   "source": [
    "### **Train**"
   ]
  },
  {
   "cell_type": "code",
   "execution_count": 8,
   "id": "ae2d4bb8",
   "metadata": {
    "execution": {
     "iopub.execute_input": "2022-06-28T11:47:31.567699Z",
     "iopub.status.busy": "2022-06-28T11:47:31.567417Z",
     "iopub.status.idle": "2022-06-28T11:48:12.729366Z",
     "shell.execute_reply": "2022-06-28T11:48:12.728300Z"
    },
    "papermill": {
     "duration": 41.169216,
     "end_time": "2022-06-28T11:48:12.731895",
     "exception": false,
     "start_time": "2022-06-28T11:47:31.562679",
     "status": "completed"
    },
    "tags": []
   },
   "outputs": [],
   "source": [
    "images = np.load(f\"../input/pdc-images-{SIZE}/images-{SIZE}.npy\")\n",
    "df = pd.read_csv(\"../input/paddy-disease-classification/train.csv\")\n",
    "labels = df.label.copy().values\n",
    "labels = le.fit_transform(labels)"
   ]
  },
  {
   "cell_type": "code",
   "execution_count": 9,
   "id": "7e84431b",
   "metadata": {
    "execution": {
     "iopub.execute_input": "2022-06-28T11:48:12.742531Z",
     "iopub.status.busy": "2022-06-28T11:48:12.742250Z",
     "iopub.status.idle": "2022-06-28T17:03:09.312813Z",
     "shell.execute_reply": "2022-06-28T17:03:09.311876Z"
    },
    "papermill": {
     "duration": 18896.578043,
     "end_time": "2022-06-28T17:03:09.314610",
     "exception": false,
     "start_time": "2022-06-28T11:48:12.736567",
     "status": "completed"
    },
    "tags": []
   },
   "outputs": [
    {
     "name": "stdout",
     "output_type": "stream",
     "text": [
      "\n",
      "**************************************************\n",
      "\n",
      "Training ...\n",
      "\n",
      "**************************************************\n",
      "\n",
      "Epoch: 1 | Train Loss: 1.00546 | Valid Loss: 0.59139 | Train Accs: 0.67698 | Valid Accs: 0.80821 | Time: 547.55 seconds\n",
      "Epoch: 2 | Train Loss: 0.57978 | Valid Loss: 0.66439 | Train Accs: 0.82362 | Valid Accs: 0.77242 | Time: 533.70 seconds\n",
      "Epoch: 3 | Train Loss: 0.61387 | Valid Loss: 0.99588 | Train Accs: 0.80250 | Valid Accs: 0.69895 | Time: 533.99 seconds\n",
      "Epoch: 4 | Train Loss: 0.69488 | Valid Loss: 0.93280 | Train Accs: 0.77703 | Valid Accs: 0.68511 | Time: 534.20 seconds\n",
      "Epoch: 5 | Train Loss: 0.84128 | Valid Loss: 1.03136 | Train Accs: 0.72753 | Valid Accs: 0.67414 | Time: 534.71 seconds\n",
      "Epoch: 6 | Train Loss: 1.08037 | Valid Loss: 1.65343 | Train Accs: 0.64235 | Valid Accs: 0.45849 | Time: 532.57 seconds\n",
      "Epoch: 7 | Train Loss: 1.21580 | Valid Loss: 1.17029 | Train Accs: 0.58957 | Valid Accs: 0.60592 | Time: 534.46 seconds\n",
      "Epoch: 8 | Train Loss: 1.37566 | Valid Loss: 1.40042 | Train Accs: 0.53027 | Valid Accs: 0.51908 | Time: 535.35 seconds\n",
      "Epoch: 9 | Train Loss: 1.47025 | Valid Loss: 1.44361 | Train Accs: 0.49612 | Valid Accs: 0.49666 | Time: 536.99 seconds\n",
      "Epoch: 10 | Train Loss: 1.53075 | Valid Loss: 1.65116 | Train Accs: 0.46429 | Valid Accs: 0.42319 | Time: 538.09 seconds\n",
      "Epoch: 11 | Train Loss: 1.76566 | Valid Loss: 1.83998 | Train Accs: 0.37276 | Valid Accs: 0.34494 | Time: 539.74 seconds\n",
      "Epoch: 12 | Train Loss: 1.82060 | Valid Loss: 1.75004 | Train Accs: 0.35641 | Valid Accs: 0.38597 | Time: 538.74 seconds\n",
      "Epoch: 13 | Train Loss: 1.94572 | Valid Loss: 1.80612 | Train Accs: 0.31074 | Valid Accs: 0.35782 | Time: 540.83 seconds\n",
      "Epoch: 14 | Train Loss: 1.91809 | Valid Loss: 1.86704 | Train Accs: 0.31542 | Valid Accs: 0.31536 | Time: 540.84 seconds\n",
      "Epoch: 15 | Train Loss: 2.05067 | Valid Loss: 1.99661 | Train Accs: 0.24964 | Valid Accs: 0.28340 | Time: 540.89 seconds\n",
      "Epoch: 16 | Train Loss: 2.01950 | Valid Loss: 1.98363 | Train Accs: 0.26012 | Valid Accs: 0.28531 | Time: 541.01 seconds\n",
      "Epoch: 17 | Train Loss: 2.00357 | Valid Loss: 1.97129 | Train Accs: 0.26536 | Valid Accs: 0.28435 | Time: 540.95 seconds\n",
      "Epoch: 18 | Train Loss: 1.95254 | Valid Loss: 1.89128 | Train Accs: 0.29163 | Valid Accs: 0.31107 | Time: 540.14 seconds\n",
      "Epoch: 19 | Train Loss: 1.93242 | Valid Loss: 1.90064 | Train Accs: 0.29970 | Valid Accs: 0.32872 | Time: 540.07 seconds\n",
      "Epoch: 20 | Train Loss: 1.87526 | Valid Loss: 1.93571 | Train Accs: 0.32326 | Valid Accs: 0.30868 | Time: 539.27 seconds\n",
      "Epoch: 21 | Train Loss: 1.91852 | Valid Loss: 1.92932 | Train Accs: 0.30806 | Valid Accs: 0.29628 | Time: 539.97 seconds\n",
      "Epoch: 22 | Train Loss: 1.89992 | Valid Loss: 1.98424 | Train Accs: 0.31934 | Valid Accs: 0.27910 | Time: 539.41 seconds\n",
      "Epoch: 23 | Train Loss: 2.00724 | Valid Loss: 2.08742 | Train Accs: 0.27463 | Valid Accs: 0.25954 | Time: 542.04 seconds\n",
      "Epoch: 24 | Train Loss: 1.91763 | Valid Loss: 1.83520 | Train Accs: 0.30122 | Valid Accs: 0.33206 | Time: 540.51 seconds\n",
      "Epoch: 25 | Train Loss: 1.97516 | Valid Loss: 1.95017 | Train Accs: 0.27823 | Valid Accs: 0.29771 | Time: 540.76 seconds\n",
      "Epoch: 26 | Train Loss: 1.90168 | Valid Loss: 1.87276 | Train Accs: 0.30922 | Valid Accs: 0.31632 | Time: 540.87 seconds\n",
      "Epoch: 27 | Train Loss: 1.86680 | Valid Loss: 1.78781 | Train Accs: 0.32514 | Valid Accs: 0.35162 | Time: 540.83 seconds\n",
      "Epoch: 28 | Train Loss: 1.81635 | Valid Loss: 1.71936 | Train Accs: 0.34877 | Valid Accs: 0.38263 | Time: 541.11 seconds\n",
      "Epoch: 29 | Train Loss: 1.75790 | Valid Loss: 1.71343 | Train Accs: 0.37028 | Valid Accs: 0.38502 | Time: 541.18 seconds\n",
      "Epoch: 30 | Train Loss: 1.69946 | Valid Loss: 1.64921 | Train Accs: 0.39611 | Valid Accs: 0.41078 | Time: 541.72 seconds\n",
      "Epoch: 31 | Train Loss: 1.66518 | Valid Loss: 1.66988 | Train Accs: 0.40495 | Valid Accs: 0.42032 | Time: 541.56 seconds\n",
      "Epoch: 32 | Train Loss: 1.63577 | Valid Loss: 1.61677 | Train Accs: 0.42067 | Valid Accs: 0.42891 | Time: 540.95 seconds\n",
      "Epoch: 33 | Train Loss: 1.61691 | Valid Loss: 1.62046 | Train Accs: 0.43026 | Valid Accs: 0.42271 | Time: 541.66 seconds\n",
      "Epoch: 34 | Train Loss: 1.59276 | Valid Loss: 1.60637 | Train Accs: 0.43338 | Valid Accs: 0.42891 | Time: 538.83 seconds\n",
      "Epoch: 35 | Train Loss: 1.58371 | Valid Loss: 1.60436 | Train Accs: 0.43922 | Valid Accs: 0.43225 | Time: 538.64 seconds\n",
      "\n",
      "**************************************************\n",
      "\n",
      "Best Validation Loss at Epoch 1\n",
      "\n",
      "**************************************************\n",
      "\n",
      "Best Validation Accs at Epoch 1\n",
      "\n",
      "**************************************************\n",
      "\n",
      "Time Taken [35 Epochs] : 314.57 minutes\n",
      "\n",
      "**************************************************\n",
      "\n"
     ]
    },
    {
     "data": {
      "image/png": "[encoded data removed]",
      "text/plain": [
       "<Figure size 432x288 with 1 Axes>"
      ]
     },
     "metadata": {
      "needs_background": "light"
     },
     "output_type": "display_data"
    },
    {
     "name": "stdout",
     "output_type": "stream",
     "text": [
      "\n",
      "**************************************************\n",
      "\n"
     ]
    },
    {
     "data": {
      "image/png": "[encoded data removed]",
      "text/plain": [
       "<Figure size 432x288 with 1 Axes>"
      ]
     },
     "metadata": {
      "needs_background": "light"
     },
     "output_type": "display_data"
    },
    {
     "name": "stdout",
     "output_type": "stream",
     "text": [
      "\n",
      "**************************************************\n",
      "\n"
     ]
    },
    {
     "data": {
      "image/png": "[encoded data removed]",
      "text/plain": [
       "<Figure size 576x432 with 1 Axes>"
      ]
     },
     "metadata": {
      "needs_background": "light"
     },
     "output_type": "display_data"
    },
    {
     "name": "stdout",
     "output_type": "stream",
     "text": [
      "\n",
      "**************************************************\n",
      "\n"
     ]
    }
   ],
   "source": [
    "fold = 1\n",
    "\n",
    "for tr_idx, va_idx in StratifiedKFold(n_splits=cfg.n_splits, random_state=cfg.seed, shuffle=True).split(images, labels):\n",
    "    if fold == 3: break\n",
    "    fold += 1\n",
    "\n",
    "tr_images, va_images, tr_labels, va_labels = images[tr_idx], images[va_idx], labels[tr_idx], labels[va_idx]\n",
    "\n",
    "tr_data_setup = DS(tr_images, tr_labels.reshape(-1, 1), cfg.transform)\n",
    "va_data_setup = DS(va_images, va_labels.reshape(-1, 1), cfg.transform)\n",
    "\n",
    "dataloaders = {\n",
    "    \"train\" : DL(tr_data_setup, batch_size=cfg.batch_size, shuffle=True, generator=torch.manual_seed(cfg.seed)),\n",
    "    \"valid\" : DL(va_data_setup, batch_size=cfg.batch_size, shuffle=False),\n",
    "}\n",
    "\n",
    "cfg = CFG(epochs=35, batch_size=64, steps_per_epoch=len(dataloaders[\"train\"]))\n",
    "\n",
    "torch.manual_seed(cfg.seed)\n",
    "model = Model().to(cfg.device)\n",
    "\n",
    "# optimizer = optim.Adam([p for p in model.parameters() if p.requires_grad], lr=cfg.lr, weight_decay=cfg.wd)\n",
    "optimizer = optim.AdamW([p for p in model.parameters() if p.requires_grad], lr=cfg.lr, weight_decay=cfg.wd)\n",
    "\n",
    "scheduler_oclr = optim.lr_scheduler.OneCycleLR(optimizer=optimizer, \n",
    "                                               max_lr=cfg.max_lr, \n",
    "                                               epochs=cfg.epochs, \n",
    "                                               steps_per_epoch=cfg.steps_per_epoch,\n",
    "                                               pct_start=cfg.pct_start, \n",
    "                                               div_factor=cfg.div_factor, \n",
    "                                               final_div_factor=cfg.final_div_factor)\n",
    "# scheduler_rlrop = optim.lr_scheduler.ReduceLROnPlateau(optimizer=optimizer,\n",
    "#                                                       patience=cfg.patience,\n",
    "#                                                       eps=cfg.eps,\n",
    "#                                                       verbose=True)\n",
    "\n",
    "# scheduler_oclr = None\n",
    "scheduler_rlrop = None\n",
    "\n",
    "L, A, LR, BLE, BAE, _, _ = fit(model=model, \n",
    "                               optimizer=optimizer, \n",
    "                               scheduler_oclr=scheduler_oclr,\n",
    "                               scheduler_rlrop=scheduler_rlrop,\n",
    "                               epochs=cfg.epochs, \n",
    "                               early_stopping_patience=None, \n",
    "                               dataloaders=dataloaders, \n",
    "                               device=cfg.device,\n",
    "                               save_path=cfg.save_path,\n",
    "                               fold=None,\n",
    "                               verbose=True)\n",
    "\n",
    "breaker()\n",
    "show_loss_graphs(L)\n",
    "breaker()\n",
    "show_accuracy_graphs(A)\n",
    "breaker()\n",
    "\n",
    "if scheduler_oclr:\n",
    "    show_lr_graph(LR)\n",
    "    breaker()"
   ]
  }
 ],
 "metadata": {
  "kernelspec": {
   "display_name": "Python 3",
   "language": "python",
   "name": "python3"
  },
  "language_info": {
   "codemirror_mode": {
    "name": "ipython",
    "version": 3
   },
   "file_extension": ".py",
   "mimetype": "text/x-python",
   "name": "python",
   "nbconvert_exporter": "python",
   "pygments_lexer": "ipython3",
   "version": "3.7.12"
  },
  "papermill": {
   "default_parameters": {},
   "duration": 18968.272829,
   "end_time": "2022-06-28T17:03:12.942853",
   "environment_variables": {},
   "exception": null,
   "input_path": "__notebook__.ipynb",
   "output_path": "__notebook__.ipynb",
   "parameters": {},
   "start_time": "2022-06-28T11:47:04.670024",
   "version": "2.3.4"
  }
 },
 "nbformat": 4,
 "nbformat_minor": 5
}
