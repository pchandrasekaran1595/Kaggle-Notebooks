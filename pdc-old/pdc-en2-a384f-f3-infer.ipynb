{
 "cells": [
  {
   "cell_type": "markdown",
   "id": "e4f8e413",
   "metadata": {
    "papermill": {
     "duration": 0.014009,
     "end_time": "2022-07-04T04:36:54.946745",
     "exception": false,
     "start_time": "2022-07-04T04:36:54.932736",
     "status": "completed"
    },
    "tags": []
   },
   "source": [
    "### **Setup**"
   ]
  },
  {
   "cell_type": "code",
   "execution_count": 1,
   "id": "45bac63e",
   "metadata": {
    "execution": {
     "iopub.execute_input": "2022-07-04T04:36:54.968714Z",
     "iopub.status.busy": "2022-07-04T04:36:54.968194Z",
     "iopub.status.idle": "2022-07-04T04:37:06.293353Z",
     "shell.execute_reply": "2022-07-04T04:37:06.292086Z"
    },
    "papermill": {
     "duration": 11.341908,
     "end_time": "2022-07-04T04:37:06.297332",
     "exception": false,
     "start_time": "2022-07-04T04:36:54.955424",
     "status": "completed"
    },
    "tags": []
   },
   "outputs": [
    {
     "name": "stderr",
     "output_type": "stream",
     "text": [
      "WARNING: Running pip as the 'root' user can result in broken permissions and conflicting behaviour with the system package manager. It is recommended to use a virtual environment instead: https://pip.pypa.io/warnings/venv\n"
     ]
    }
   ],
   "source": [
    "%%bash\n",
    "pip install timm -q"
   ]
  },
  {
   "cell_type": "markdown",
   "id": "96a088e1",
   "metadata": {
    "papermill": {
     "duration": 0.005927,
     "end_time": "2022-07-04T04:37:06.309744",
     "exception": false,
     "start_time": "2022-07-04T04:37:06.303817",
     "status": "completed"
    },
    "tags": []
   },
   "source": [
    "### **Library Imports**"
   ]
  },
  {
   "cell_type": "code",
   "execution_count": 2,
   "id": "3d660ac5",
   "metadata": {
    "execution": {
     "iopub.execute_input": "2022-07-04T04:37:06.323125Z",
     "iopub.status.busy": "2022-07-04T04:37:06.322742Z",
     "iopub.status.idle": "2022-07-04T04:37:15.637711Z",
     "shell.execute_reply": "2022-07-04T04:37:15.636731Z"
    },
    "papermill": {
     "duration": 9.323943,
     "end_time": "2022-07-04T04:37:15.639831",
     "exception": false,
     "start_time": "2022-07-04T04:37:06.315888",
     "status": "completed"
    },
    "tags": []
   },
   "outputs": [],
   "source": [
    "import os\n",
    "import re\n",
    "import cv2\n",
    "import timm\n",
    "import torch\n",
    "import numpy as np\n",
    "import pandas as pd\n",
    "import matplotlib.pyplot as plt\n",
    "\n",
    "from time import time\n",
    "from torch import nn, optim\n",
    "from torch.utils.data import Dataset\n",
    "from torch.utils.data import DataLoader as DL\n",
    "from torchvision import models, transforms\n",
    "\n",
    "from sklearn.preprocessing import LabelEncoder"
   ]
  },
  {
   "cell_type": "markdown",
   "id": "3b08b1c1",
   "metadata": {
    "papermill": {
     "duration": 0.003551,
     "end_time": "2022-07-04T04:37:15.647321",
     "exception": false,
     "start_time": "2022-07-04T04:37:15.643770",
     "status": "completed"
    },
    "tags": []
   },
   "source": [
    "### **Utilities and Helpers**"
   ]
  },
  {
   "cell_type": "code",
   "execution_count": 3,
   "id": "0e737208",
   "metadata": {
    "execution": {
     "iopub.execute_input": "2022-07-04T04:37:15.656861Z",
     "iopub.status.busy": "2022-07-04T04:37:15.656107Z",
     "iopub.status.idle": "2022-07-04T04:37:15.729636Z",
     "shell.execute_reply": "2022-07-04T04:37:15.728811Z"
    },
    "papermill": {
     "duration": 0.080239,
     "end_time": "2022-07-04T04:37:15.731539",
     "exception": false,
     "start_time": "2022-07-04T04:37:15.651300",
     "status": "completed"
    },
    "tags": []
   },
   "outputs": [],
   "source": [
    "SEED = 42\n",
    "SIZE = 384\n",
    "FOLD = 3\n",
    "TRANSFORM = transforms.Compose([transforms.ToTensor(),\n",
    "                                transforms.Normalize([0.49699, 0.58823, 0.23049],\n",
    "                                                     [0.22591, 0.22614, 0.18264]),\n",
    "                                ])\n",
    "MODEL_PATH = f\"../input/pdc-en2-a384f-f3/saves/ble_state.pt\"\n",
    "DEVICE = torch.device(\"cuda\" if torch.cuda.is_available() else \"cpu\")\n",
    "\n",
    "le = LabelEncoder()\n",
    "\n",
    "\n",
    "def breaker(num: int=50, char: str=\"*\") -> None:\n",
    "    print(\"\\n\" + num*char + \"\\n\")\n",
    "\n",
    "\n",
    "def get_image(path: str, size: int=224) -> np.ndarray:\n",
    "    return cv2.resize(src=cv2.cvtColor(src=cv2.imread(path, cv2.IMREAD_COLOR), code=cv2.COLOR_BGR2RGB), dsize=(size, size), interpolation=cv2.INTER_AREA)"
   ]
  },
  {
   "cell_type": "markdown",
   "id": "dc6e60d8",
   "metadata": {
    "papermill": {
     "duration": 0.003476,
     "end_time": "2022-07-04T04:37:15.738735",
     "exception": false,
     "start_time": "2022-07-04T04:37:15.735259",
     "status": "completed"
    },
    "tags": []
   },
   "source": [
    "### **Configuration**"
   ]
  },
  {
   "cell_type": "markdown",
   "id": "0a8fca91",
   "metadata": {
    "papermill": {
     "duration": 0.003442,
     "end_time": "2022-07-04T04:37:15.745550",
     "exception": false,
     "start_time": "2022-07-04T04:37:15.742108",
     "status": "completed"
    },
    "tags": []
   },
   "source": [
    "### **Dataset Template**"
   ]
  },
  {
   "cell_type": "code",
   "execution_count": 4,
   "id": "0298372b",
   "metadata": {
    "execution": {
     "iopub.execute_input": "2022-07-04T04:37:15.753632Z",
     "iopub.status.busy": "2022-07-04T04:37:15.753298Z",
     "iopub.status.idle": "2022-07-04T04:37:15.759800Z",
     "shell.execute_reply": "2022-07-04T04:37:15.758960Z"
    },
    "papermill": {
     "duration": 0.012695,
     "end_time": "2022-07-04T04:37:15.761597",
     "exception": false,
     "start_time": "2022-07-04T04:37:15.748902",
     "status": "completed"
    },
    "tags": []
   },
   "outputs": [],
   "source": [
    "class DS(Dataset):\n",
    "    def __init__(self, base_path: str, filenames: np.ndarray, size: int=224, transform=None):\n",
    "        self.base_path = base_path\n",
    "        self.filenames = filenames\n",
    "        self.size = size\n",
    "        self.transform = transform\n",
    "    \n",
    "    def __len__(self):\n",
    "        return self.filenames.shape[0]\n",
    "    \n",
    "    def __getitem__(self, idx):\n",
    "        return self.transform(get_image(os.path.join(self.base_path, self.filenames[idx]), size=self.size))"
   ]
  },
  {
   "cell_type": "markdown",
   "id": "323f15a2",
   "metadata": {
    "papermill": {
     "duration": 0.003377,
     "end_time": "2022-07-04T04:37:15.768561",
     "exception": false,
     "start_time": "2022-07-04T04:37:15.765184",
     "status": "completed"
    },
    "tags": []
   },
   "source": [
    "### **Model**"
   ]
  },
  {
   "cell_type": "code",
   "execution_count": 5,
   "id": "985de0c9",
   "metadata": {
    "execution": {
     "iopub.execute_input": "2022-07-04T04:37:15.776826Z",
     "iopub.status.busy": "2022-07-04T04:37:15.776572Z",
     "iopub.status.idle": "2022-07-04T04:37:15.782412Z",
     "shell.execute_reply": "2022-07-04T04:37:15.781690Z"
    },
    "papermill": {
     "duration": 0.012048,
     "end_time": "2022-07-04T04:37:15.784147",
     "exception": false,
     "start_time": "2022-07-04T04:37:15.772099",
     "status": "completed"
    },
    "tags": []
   },
   "outputs": [],
   "source": [
    "class Model(nn.Module):\n",
    "    def __init__(self):\n",
    "        super(Model, self).__init__()\n",
    "\n",
    "        self.model = timm.create_model(model_name=\"efficientnet_b2\", pretrained=False)\n",
    "        # self.freeze()\n",
    "        self.model.classifier = nn.Linear(in_features=self.model.classifier.in_features, out_features=10)\n",
    "    \n",
    "    def freeze(self):\n",
    "        for params in self.parameters(): params.requires_grad = False\n",
    "\n",
    "    def forward(self, x):\n",
    "        return nn.LogSoftmax(dim=1)(self.model(x))"
   ]
  },
  {
   "cell_type": "markdown",
   "id": "efb62684",
   "metadata": {
    "papermill": {
     "duration": 0.005857,
     "end_time": "2022-07-04T04:37:15.793720",
     "exception": false,
     "start_time": "2022-07-04T04:37:15.787863",
     "status": "completed"
    },
    "tags": []
   },
   "source": [
    "### **Predict Helpers**"
   ]
  },
  {
   "cell_type": "code",
   "execution_count": 6,
   "id": "ef0069e5",
   "metadata": {
    "execution": {
     "iopub.execute_input": "2022-07-04T04:37:15.802068Z",
     "iopub.status.busy": "2022-07-04T04:37:15.801773Z",
     "iopub.status.idle": "2022-07-04T04:37:15.809345Z",
     "shell.execute_reply": "2022-07-04T04:37:15.808672Z"
    },
    "papermill": {
     "duration": 0.013478,
     "end_time": "2022-07-04T04:37:15.810913",
     "exception": false,
     "start_time": "2022-07-04T04:37:15.797435",
     "status": "completed"
    },
    "tags": []
   },
   "outputs": [],
   "source": [
    "def predict_batch(model=None, dataloader=None, path=None, device=None) -> np.ndarray:\n",
    "    model.load_state_dict(torch.load(path, map_location=device)[\"model_state_dict\"])\n",
    "    model.to(device)    \n",
    "    model.eval()\n",
    "    \n",
    "    y_pred = torch.zeros(1, 1).to(device)\n",
    "    \n",
    "    for X in dataloader:\n",
    "        X = X.to(device)\n",
    "        with torch.no_grad():\n",
    "            output = torch.argmax(torch.exp(model(X)), dim=1)\n",
    "        y_pred = torch.cat((y_pred, output.view(-1, 1)), dim=0)\n",
    "    \n",
    "    return y_pred[1:].detach().cpu().numpy()"
   ]
  },
  {
   "cell_type": "markdown",
   "id": "e2703fd4",
   "metadata": {
    "papermill": {
     "duration": 0.003455,
     "end_time": "2022-07-04T04:37:15.817858",
     "exception": false,
     "start_time": "2022-07-04T04:37:15.814403",
     "status": "completed"
    },
    "tags": []
   },
   "source": [
    "### **Submission**"
   ]
  },
  {
   "cell_type": "code",
   "execution_count": 7,
   "id": "7fef6152",
   "metadata": {
    "execution": {
     "iopub.execute_input": "2022-07-04T04:37:15.826358Z",
     "iopub.status.busy": "2022-07-04T04:37:15.826054Z",
     "iopub.status.idle": "2022-07-04T04:38:32.400745Z",
     "shell.execute_reply": "2022-07-04T04:38:32.399750Z"
    },
    "papermill": {
     "duration": 76.581595,
     "end_time": "2022-07-04T04:38:32.403147",
     "exception": false,
     "start_time": "2022-07-04T04:37:15.821552",
     "status": "completed"
    },
    "tags": []
   },
   "outputs": [],
   "source": [
    "df = pd.read_csv(\"../input/paddy-disease-classification/train.csv\")\n",
    "ss_df = pd.read_csv(\"../input/paddy-disease-classification/sample_submission.csv\")\n",
    "\n",
    "labels = df.label.copy().values\n",
    "labels = le.fit_transform(labels)\n",
    "\n",
    "ts_data_setup = DS(base_path=\"../input/paddy-disease-classification/test_images\", \n",
    "                   filenames=ss_df.image_id.copy().values,\n",
    "                   size=SIZE,\n",
    "                   transform=TRANSFORM)\n",
    "ts_data = DL(ts_data_setup, batch_size=64, shuffle=False)\n",
    "\n",
    "model = Model().to(DEVICE)\n",
    "\n",
    "y_pred = predict_batch(model=model, \n",
    "                       dataloader=ts_data, \n",
    "                       path=MODEL_PATH,\n",
    "                       device=DEVICE)\n",
    "\n",
    "ss_df[\"label\"] = le.inverse_transform(y_pred.astype(\"uint8\").reshape(-1))\n",
    "ss_df.to_csv(\"submission.csv\", index=False)"
   ]
  }
 ],
 "metadata": {
  "kernelspec": {
   "display_name": "Python 3",
   "language": "python",
   "name": "python3"
  },
  "language_info": {
   "codemirror_mode": {
    "name": "ipython",
    "version": 3
   },
   "file_extension": ".py",
   "mimetype": "text/x-python",
   "name": "python",
   "nbconvert_exporter": "python",
   "pygments_lexer": "ipython3",
   "version": "3.7.12"
  },
  "papermill": {
   "default_parameters": {},
   "duration": 109.565959,
   "end_time": "2022-07-04T04:38:35.409118",
   "environment_variables": {},
   "exception": null,
   "input_path": "__notebook__.ipynb",
   "output_path": "__notebook__.ipynb",
   "parameters": {},
   "start_time": "2022-07-04T04:36:45.843159",
   "version": "2.3.4"
  }
 },
 "nbformat": 4,
 "nbformat_minor": 5
}
