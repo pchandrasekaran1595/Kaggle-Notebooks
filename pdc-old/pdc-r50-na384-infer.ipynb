{
 "cells": [
  {
   "cell_type": "markdown",
   "id": "4586efe7",
   "metadata": {
    "papermill": {
     "duration": 0.00412,
     "end_time": "2022-06-14T14:48:19.127478",
     "exception": false,
     "start_time": "2022-06-14T14:48:19.123358",
     "status": "completed"
    },
    "tags": []
   },
   "source": [
    "### **Library Imports**"
   ]
  },
  {
   "cell_type": "code",
   "execution_count": 1,
   "id": "9b70acca",
   "metadata": {
    "execution": {
     "iopub.execute_input": "2022-06-14T14:48:19.138190Z",
     "iopub.status.busy": "2022-06-14T14:48:19.137689Z",
     "iopub.status.idle": "2022-06-14T14:48:22.301453Z",
     "shell.execute_reply": "2022-06-14T14:48:22.300623Z"
    },
    "papermill": {
     "duration": 3.170554,
     "end_time": "2022-06-14T14:48:22.303711",
     "exception": false,
     "start_time": "2022-06-14T14:48:19.133157",
     "status": "completed"
    },
    "tags": []
   },
   "outputs": [],
   "source": [
    "import os\n",
    "import re\n",
    "import cv2\n",
    "import torch\n",
    "import numpy as np\n",
    "import pandas as pd\n",
    "import matplotlib.pyplot as plt\n",
    "\n",
    "from time import time\n",
    "from torch import nn, optim\n",
    "from torch.utils.data import Dataset\n",
    "from torch.utils.data import DataLoader as DL\n",
    "from torchvision import models, transforms\n",
    "\n",
    "from sklearn.preprocessing import LabelEncoder"
   ]
  },
  {
   "cell_type": "markdown",
   "id": "3393e645",
   "metadata": {
    "papermill": {
     "duration": 0.002964,
     "end_time": "2022-06-14T14:48:22.310116",
     "exception": false,
     "start_time": "2022-06-14T14:48:22.307152",
     "status": "completed"
    },
    "tags": []
   },
   "source": [
    "### **Utilities and Helpers**"
   ]
  },
  {
   "cell_type": "code",
   "execution_count": 2,
   "id": "9b3e8f33",
   "metadata": {
    "execution": {
     "iopub.execute_input": "2022-06-14T14:48:22.318261Z",
     "iopub.status.busy": "2022-06-14T14:48:22.317454Z",
     "iopub.status.idle": "2022-06-14T14:48:22.385095Z",
     "shell.execute_reply": "2022-06-14T14:48:22.384214Z"
    },
    "papermill": {
     "duration": 0.073572,
     "end_time": "2022-06-14T14:48:22.386845",
     "exception": false,
     "start_time": "2022-06-14T14:48:22.313273",
     "status": "completed"
    },
    "tags": []
   },
   "outputs": [],
   "source": [
    "SEED = 42\n",
    "SIZE = 384\n",
    "TRANSFORM = transforms.Compose([transforms.ToTensor(),\n",
    "                                transforms.Normalize([0.485, 0.456, 0.406],\n",
    "                                                     [0.229, 0.224, 0.225]),\n",
    "                                ])\n",
    "MODEL_PATH = f\"../input/pdc-r50-na{SIZE}/saves/state.pt\"\n",
    "DEVICE = torch.device(\"cuda\" if torch.cuda.is_available() else \"cpu\")\n",
    "\n",
    "le = LabelEncoder()\n",
    "\n",
    "\n",
    "def breaker(num: int=50, char: str=\"*\") -> None:\n",
    "    print(\"\\n\" + num*char + \"\\n\")\n",
    "\n",
    "\n",
    "def get_image(path: str, size: int=224) -> np.ndarray:\n",
    "    return cv2.resize(src=cv2.cvtColor(src=cv2.imread(path, cv2.IMREAD_COLOR), code=cv2.COLOR_BGR2RGB), dsize=(size, size), interpolation=cv2.INTER_AREA)"
   ]
  },
  {
   "cell_type": "markdown",
   "id": "95477281",
   "metadata": {
    "papermill": {
     "duration": 0.002866,
     "end_time": "2022-06-14T14:48:22.392835",
     "exception": false,
     "start_time": "2022-06-14T14:48:22.389969",
     "status": "completed"
    },
    "tags": []
   },
   "source": [
    "### **Configuration**"
   ]
  },
  {
   "cell_type": "markdown",
   "id": "8fcc3354",
   "metadata": {
    "papermill": {
     "duration": 0.002794,
     "end_time": "2022-06-14T14:48:22.398786",
     "exception": false,
     "start_time": "2022-06-14T14:48:22.395992",
     "status": "completed"
    },
    "tags": []
   },
   "source": [
    "### **Dataset Template**"
   ]
  },
  {
   "cell_type": "code",
   "execution_count": 3,
   "id": "b8621a07",
   "metadata": {
    "execution": {
     "iopub.execute_input": "2022-06-14T14:48:22.406108Z",
     "iopub.status.busy": "2022-06-14T14:48:22.405835Z",
     "iopub.status.idle": "2022-06-14T14:48:22.411589Z",
     "shell.execute_reply": "2022-06-14T14:48:22.410775Z"
    },
    "papermill": {
     "duration": 0.011762,
     "end_time": "2022-06-14T14:48:22.413537",
     "exception": false,
     "start_time": "2022-06-14T14:48:22.401775",
     "status": "completed"
    },
    "tags": []
   },
   "outputs": [],
   "source": [
    "class DS(Dataset):\n",
    "    def __init__(self, base_path: str, filenames: np.ndarray, size: int=224, transform=None):\n",
    "        self.base_path = base_path\n",
    "        self.filenames = filenames\n",
    "        self.size = size\n",
    "        self.transform = transform\n",
    "    \n",
    "    def __len__(self):\n",
    "        return self.filenames.shape[0]\n",
    "    \n",
    "    def __getitem__(self, idx):\n",
    "        return self.transform(get_image(os.path.join(self.base_path, self.filenames[idx]), size=self.size))"
   ]
  },
  {
   "cell_type": "markdown",
   "id": "03b71ee1",
   "metadata": {
    "papermill": {
     "duration": 0.0028,
     "end_time": "2022-06-14T14:48:22.419801",
     "exception": false,
     "start_time": "2022-06-14T14:48:22.417001",
     "status": "completed"
    },
    "tags": []
   },
   "source": [
    "### **Model**"
   ]
  },
  {
   "cell_type": "code",
   "execution_count": 4,
   "id": "452bd260",
   "metadata": {
    "execution": {
     "iopub.execute_input": "2022-06-14T14:48:22.427160Z",
     "iopub.status.busy": "2022-06-14T14:48:22.426895Z",
     "iopub.status.idle": "2022-06-14T14:48:22.433164Z",
     "shell.execute_reply": "2022-06-14T14:48:22.432458Z"
    },
    "papermill": {
     "duration": 0.011984,
     "end_time": "2022-06-14T14:48:22.434819",
     "exception": false,
     "start_time": "2022-06-14T14:48:22.422835",
     "status": "completed"
    },
    "tags": []
   },
   "outputs": [],
   "source": [
    "class Model(nn.Module):\n",
    "    def __init__(self):\n",
    "        super(Model, self).__init__()\n",
    "\n",
    "        self.model = models.resnet50(pretrained=False, progress=True)\n",
    "        self.freeze()\n",
    "        self.model.fc = nn.Linear(in_features=self.model.fc.in_features, out_features=10)\n",
    "    \n",
    "    def freeze(self):\n",
    "        for params in self.parameters(): params.requires_grad = False\n",
    "\n",
    "    def forward(self, x):\n",
    "        return nn.LogSoftmax(dim=1)(self.model(x))"
   ]
  },
  {
   "cell_type": "markdown",
   "id": "66e3a5e2",
   "metadata": {
    "papermill": {
     "duration": 0.002908,
     "end_time": "2022-06-14T14:48:22.440950",
     "exception": false,
     "start_time": "2022-06-14T14:48:22.438042",
     "status": "completed"
    },
    "tags": []
   },
   "source": [
    "### **Predict Helpers**"
   ]
  },
  {
   "cell_type": "code",
   "execution_count": 5,
   "id": "b9a747ad",
   "metadata": {
    "execution": {
     "iopub.execute_input": "2022-06-14T14:48:22.447854Z",
     "iopub.status.busy": "2022-06-14T14:48:22.447588Z",
     "iopub.status.idle": "2022-06-14T14:48:22.453702Z",
     "shell.execute_reply": "2022-06-14T14:48:22.453011Z"
    },
    "papermill": {
     "duration": 0.011379,
     "end_time": "2022-06-14T14:48:22.455320",
     "exception": false,
     "start_time": "2022-06-14T14:48:22.443941",
     "status": "completed"
    },
    "tags": []
   },
   "outputs": [],
   "source": [
    "def predict_batch(model=None, dataloader=None, path=None, device=None) -> np.ndarray:\n",
    "    model.load_state_dict(torch.load(path, map_location=device)[\"model_state_dict\"])\n",
    "    model.to(device)    \n",
    "    model.eval()\n",
    "    \n",
    "    y_pred = torch.zeros(1, 1).to(device)\n",
    "    \n",
    "    for X in dataloader:\n",
    "        X = X.to(device)\n",
    "        with torch.no_grad():\n",
    "            output = torch.argmax(torch.exp(model(X)), dim=1)\n",
    "        y_pred = torch.cat((y_pred, output.view(-1, 1)), dim=0)\n",
    "    \n",
    "    return y_pred[1:].detach().cpu().numpy()"
   ]
  },
  {
   "cell_type": "markdown",
   "id": "f318398e",
   "metadata": {
    "papermill": {
     "duration": 0.002892,
     "end_time": "2022-06-14T14:48:22.461190",
     "exception": false,
     "start_time": "2022-06-14T14:48:22.458298",
     "status": "completed"
    },
    "tags": []
   },
   "source": [
    "### **Submission**"
   ]
  },
  {
   "cell_type": "code",
   "execution_count": 6,
   "id": "84a64c98",
   "metadata": {
    "execution": {
     "iopub.execute_input": "2022-06-14T14:48:22.468500Z",
     "iopub.status.busy": "2022-06-14T14:48:22.468144Z",
     "iopub.status.idle": "2022-06-14T14:49:47.230227Z",
     "shell.execute_reply": "2022-06-14T14:49:47.229447Z"
    },
    "papermill": {
     "duration": 84.76808,
     "end_time": "2022-06-14T14:49:47.232456",
     "exception": false,
     "start_time": "2022-06-14T14:48:22.464376",
     "status": "completed"
    },
    "tags": []
   },
   "outputs": [],
   "source": [
    "df = pd.read_csv(\"../input/paddy-disease-classification/train.csv\")\n",
    "ss_df = pd.read_csv(\"../input/paddy-disease-classification/sample_submission.csv\")\n",
    "\n",
    "labels = df.label.copy().values\n",
    "labels = le.fit_transform(labels)\n",
    "\n",
    "ts_data_setup = DS(base_path=\"../input/paddy-disease-classification/test_images\", \n",
    "                   filenames=ss_df.image_id.copy().values,\n",
    "                   size=SIZE,\n",
    "                   transform=TRANSFORM)\n",
    "ts_data = DL(ts_data_setup, batch_size=64, shuffle=False)\n",
    "\n",
    "model = Model().to(DEVICE)\n",
    "\n",
    "y_pred = predict_batch(model=model, \n",
    "                       dataloader=ts_data, \n",
    "                       path=MODEL_PATH,\n",
    "                       device=DEVICE)\n",
    "\n",
    "ss_df[\"label\"] = le.inverse_transform(y_pred.astype(\"uint8\").reshape(-1))\n",
    "ss_df.to_csv(\"submission.csv\", index=False)"
   ]
  }
 ],
 "metadata": {
  "kernelspec": {
   "display_name": "Python 3",
   "language": "python",
   "name": "python3"
  },
  "language_info": {
   "codemirror_mode": {
    "name": "ipython",
    "version": 3
   },
   "file_extension": ".py",
   "mimetype": "text/x-python",
   "name": "python",
   "nbconvert_exporter": "python",
   "pygments_lexer": "ipython3",
   "version": "3.7.12"
  },
  "papermill": {
   "default_parameters": {},
   "duration": 98.32851,
   "end_time": "2022-06-14T14:49:49.435723",
   "environment_variables": {},
   "exception": null,
   "input_path": "__notebook__.ipynb",
   "output_path": "__notebook__.ipynb",
   "parameters": {},
   "start_time": "2022-06-14T14:48:11.107213",
   "version": "2.3.4"
  }
 },
 "nbformat": 4,
 "nbformat_minor": 5
}
