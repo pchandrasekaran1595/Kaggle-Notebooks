{
 "cells": [
  {
   "cell_type": "markdown",
   "id": "46e3c8dc",
   "metadata": {
    "papermill": {
     "duration": 0.005262,
     "end_time": "2022-06-17T11:13:48.934480",
     "exception": false,
     "start_time": "2022-06-17T11:13:48.929218",
     "status": "completed"
    },
    "tags": []
   },
   "source": [
    "### **Library Imports**"
   ]
  },
  {
   "cell_type": "code",
   "execution_count": 1,
   "id": "19f7a24f",
   "metadata": {
    "execution": {
     "iopub.execute_input": "2022-06-17T11:13:48.951356Z",
     "iopub.status.busy": "2022-06-17T11:13:48.950920Z",
     "iopub.status.idle": "2022-06-17T11:13:51.836842Z",
     "shell.execute_reply": "2022-06-17T11:13:51.836032Z"
    },
    "papermill": {
     "duration": 2.895504,
     "end_time": "2022-06-17T11:13:51.839079",
     "exception": false,
     "start_time": "2022-06-17T11:13:48.943575",
     "status": "completed"
    },
    "tags": []
   },
   "outputs": [],
   "source": [
    "import os\n",
    "import re\n",
    "import cv2\n",
    "import torch\n",
    "import numpy as np\n",
    "import pandas as pd\n",
    "import matplotlib.pyplot as plt\n",
    "\n",
    "from time import time\n",
    "from torch import nn, optim\n",
    "from torch.utils.data import Dataset\n",
    "from torch.utils.data import DataLoader as DL\n",
    "from torchvision import models, transforms\n",
    "\n",
    "from sklearn.preprocessing import LabelEncoder"
   ]
  },
  {
   "cell_type": "markdown",
   "id": "07bd914d",
   "metadata": {
    "papermill": {
     "duration": 0.0032,
     "end_time": "2022-06-17T11:13:51.845669",
     "exception": false,
     "start_time": "2022-06-17T11:13:51.842469",
     "status": "completed"
    },
    "tags": []
   },
   "source": [
    "### **Utilities and Helpers**"
   ]
  },
  {
   "cell_type": "code",
   "execution_count": 2,
   "id": "1834659e",
   "metadata": {
    "execution": {
     "iopub.execute_input": "2022-06-17T11:13:51.854101Z",
     "iopub.status.busy": "2022-06-17T11:13:51.853469Z",
     "iopub.status.idle": "2022-06-17T11:13:51.917181Z",
     "shell.execute_reply": "2022-06-17T11:13:51.916313Z"
    },
    "papermill": {
     "duration": 0.070053,
     "end_time": "2022-06-17T11:13:51.918938",
     "exception": false,
     "start_time": "2022-06-17T11:13:51.848885",
     "status": "completed"
    },
    "tags": []
   },
   "outputs": [],
   "source": [
    "SEED = 42\n",
    "SIZE = 384\n",
    "TRANSFORM = transforms.Compose([transforms.ToTensor(),\n",
    "                                transforms.Normalize([0.49699, 0.58823, 0.23049],\n",
    "                                                     [0.22591, 0.22614, 0.18264]),\n",
    "                                ])\n",
    "MODEL_PATH = f\"../input/pdc-d169-na{SIZE}-full-noes/saves/bae_state.pt\"\n",
    "DEVICE = torch.device(\"cuda\" if torch.cuda.is_available() else \"cpu\")\n",
    "\n",
    "le = LabelEncoder()\n",
    "\n",
    "\n",
    "def breaker(num: int=50, char: str=\"*\") -> None:\n",
    "    print(\"\\n\" + num*char + \"\\n\")\n",
    "\n",
    "\n",
    "def get_image(path: str, size: int=224) -> np.ndarray:\n",
    "    return cv2.resize(src=cv2.cvtColor(src=cv2.imread(path, cv2.IMREAD_COLOR), code=cv2.COLOR_BGR2RGB), dsize=(size, size), interpolation=cv2.INTER_AREA)"
   ]
  },
  {
   "cell_type": "markdown",
   "id": "17601b44",
   "metadata": {
    "papermill": {
     "duration": 0.002886,
     "end_time": "2022-06-17T11:13:51.925241",
     "exception": false,
     "start_time": "2022-06-17T11:13:51.922355",
     "status": "completed"
    },
    "tags": []
   },
   "source": [
    "### **Configuration**"
   ]
  },
  {
   "cell_type": "markdown",
   "id": "1d8b2d7f",
   "metadata": {
    "papermill": {
     "duration": 0.002803,
     "end_time": "2022-06-17T11:13:51.931066",
     "exception": false,
     "start_time": "2022-06-17T11:13:51.928263",
     "status": "completed"
    },
    "tags": []
   },
   "source": [
    "### **Dataset Template**"
   ]
  },
  {
   "cell_type": "code",
   "execution_count": 3,
   "id": "0e6dd03e",
   "metadata": {
    "execution": {
     "iopub.execute_input": "2022-06-17T11:13:51.939599Z",
     "iopub.status.busy": "2022-06-17T11:13:51.938185Z",
     "iopub.status.idle": "2022-06-17T11:13:51.945345Z",
     "shell.execute_reply": "2022-06-17T11:13:51.944637Z"
    },
    "papermill": {
     "duration": 0.013175,
     "end_time": "2022-06-17T11:13:51.947231",
     "exception": false,
     "start_time": "2022-06-17T11:13:51.934056",
     "status": "completed"
    },
    "tags": []
   },
   "outputs": [],
   "source": [
    "class DS(Dataset):\n",
    "    def __init__(self, base_path: str, filenames: np.ndarray, size: int=224, transform=None):\n",
    "        self.base_path = base_path\n",
    "        self.filenames = filenames\n",
    "        self.size = size\n",
    "        self.transform = transform\n",
    "    \n",
    "    def __len__(self):\n",
    "        return self.filenames.shape[0]\n",
    "    \n",
    "    def __getitem__(self, idx):\n",
    "        return self.transform(get_image(os.path.join(self.base_path, self.filenames[idx]), size=self.size))"
   ]
  },
  {
   "cell_type": "markdown",
   "id": "d1a37e8d",
   "metadata": {
    "papermill": {
     "duration": 0.002822,
     "end_time": "2022-06-17T11:13:51.953073",
     "exception": false,
     "start_time": "2022-06-17T11:13:51.950251",
     "status": "completed"
    },
    "tags": []
   },
   "source": [
    "### **Model**"
   ]
  },
  {
   "cell_type": "code",
   "execution_count": 4,
   "id": "e41d513b",
   "metadata": {
    "execution": {
     "iopub.execute_input": "2022-06-17T11:13:51.960083Z",
     "iopub.status.busy": "2022-06-17T11:13:51.959806Z",
     "iopub.status.idle": "2022-06-17T11:13:51.965898Z",
     "shell.execute_reply": "2022-06-17T11:13:51.965073Z"
    },
    "papermill": {
     "duration": 0.011561,
     "end_time": "2022-06-17T11:13:51.967625",
     "exception": false,
     "start_time": "2022-06-17T11:13:51.956064",
     "status": "completed"
    },
    "tags": []
   },
   "outputs": [],
   "source": [
    "class Model(nn.Module):\n",
    "    def __init__(self):\n",
    "        super(Model, self).__init__()\n",
    "\n",
    "        self.model = models.densenet169(pretrained=False, progress=True)\n",
    "        # self.freeze()\n",
    "        self.model.classifier = nn.Linear(in_features=self.model.classifier.in_features, out_features=10)\n",
    "    \n",
    "    def freeze(self):\n",
    "        for params in self.parameters(): params.requires_grad = False\n",
    "\n",
    "    def forward(self, x):\n",
    "        return nn.LogSoftmax(dim=1)(self.model(x))"
   ]
  },
  {
   "cell_type": "markdown",
   "id": "91e0ad18",
   "metadata": {
    "papermill": {
     "duration": 0.003037,
     "end_time": "2022-06-17T11:13:51.973676",
     "exception": false,
     "start_time": "2022-06-17T11:13:51.970639",
     "status": "completed"
    },
    "tags": []
   },
   "source": [
    "### **Predict Helpers**"
   ]
  },
  {
   "cell_type": "code",
   "execution_count": 5,
   "id": "cec137b6",
   "metadata": {
    "execution": {
     "iopub.execute_input": "2022-06-17T11:13:51.980862Z",
     "iopub.status.busy": "2022-06-17T11:13:51.980545Z",
     "iopub.status.idle": "2022-06-17T11:13:51.988131Z",
     "shell.execute_reply": "2022-06-17T11:13:51.987489Z"
    },
    "papermill": {
     "duration": 0.013128,
     "end_time": "2022-06-17T11:13:51.989790",
     "exception": false,
     "start_time": "2022-06-17T11:13:51.976662",
     "status": "completed"
    },
    "tags": []
   },
   "outputs": [],
   "source": [
    "def predict_batch(model=None, dataloader=None, path=None, device=None) -> np.ndarray:\n",
    "    model.load_state_dict(torch.load(path, map_location=device)[\"model_state_dict\"])\n",
    "    model.to(device)    \n",
    "    model.eval()\n",
    "    \n",
    "    y_pred = torch.zeros(1, 1).to(device)\n",
    "    \n",
    "    for X in dataloader:\n",
    "        X = X.to(device)\n",
    "        with torch.no_grad():\n",
    "            output = torch.argmax(torch.exp(model(X)), dim=1)\n",
    "        y_pred = torch.cat((y_pred, output.view(-1, 1)), dim=0)\n",
    "    \n",
    "    return y_pred[1:].detach().cpu().numpy()"
   ]
  },
  {
   "cell_type": "markdown",
   "id": "e45bd244",
   "metadata": {
    "papermill": {
     "duration": 0.002802,
     "end_time": "2022-06-17T11:13:51.995579",
     "exception": false,
     "start_time": "2022-06-17T11:13:51.992777",
     "status": "completed"
    },
    "tags": []
   },
   "source": [
    "### **Submission**"
   ]
  },
  {
   "cell_type": "code",
   "execution_count": 6,
   "id": "fb9f7092",
   "metadata": {
    "execution": {
     "iopub.execute_input": "2022-06-17T11:13:52.002597Z",
     "iopub.status.busy": "2022-06-17T11:13:52.002314Z",
     "iopub.status.idle": "2022-06-17T11:15:14.554280Z",
     "shell.execute_reply": "2022-06-17T11:15:14.553498Z"
    },
    "papermill": {
     "duration": 82.557863,
     "end_time": "2022-06-17T11:15:14.556420",
     "exception": false,
     "start_time": "2022-06-17T11:13:51.998557",
     "status": "completed"
    },
    "tags": []
   },
   "outputs": [],
   "source": [
    "df = pd.read_csv(\"../input/paddy-disease-classification/train.csv\")\n",
    "ss_df = pd.read_csv(\"../input/paddy-disease-classification/sample_submission.csv\")\n",
    "\n",
    "labels = df.label.copy().values\n",
    "labels = le.fit_transform(labels)\n",
    "\n",
    "ts_data_setup = DS(base_path=\"../input/paddy-disease-classification/test_images\", \n",
    "                   filenames=ss_df.image_id.copy().values,\n",
    "                   size=SIZE,\n",
    "                   transform=TRANSFORM)\n",
    "ts_data = DL(ts_data_setup, batch_size=64, shuffle=False)\n",
    "\n",
    "model = Model().to(DEVICE)\n",
    "\n",
    "y_pred = predict_batch(model=model, \n",
    "                       dataloader=ts_data, \n",
    "                       path=MODEL_PATH,\n",
    "                       device=DEVICE)\n",
    "\n",
    "ss_df[\"label\"] = le.inverse_transform(y_pred.astype(\"uint8\").reshape(-1))\n",
    "ss_df.to_csv(\"submission.csv\", index=False)"
   ]
  }
 ],
 "metadata": {
  "kernelspec": {
   "display_name": "Python 3",
   "language": "python",
   "name": "python3"
  },
  "language_info": {
   "codemirror_mode": {
    "name": "ipython",
    "version": 3
   },
   "file_extension": ".py",
   "mimetype": "text/x-python",
   "name": "python",
   "nbconvert_exporter": "python",
   "pygments_lexer": "ipython3",
   "version": "3.7.12"
  },
  "papermill": {
   "default_parameters": {},
   "duration": 94.785884,
   "end_time": "2022-06-17T11:15:15.880544",
   "environment_variables": {},
   "exception": null,
   "input_path": "__notebook__.ipynb",
   "output_path": "__notebook__.ipynb",
   "parameters": {},
   "start_time": "2022-06-17T11:13:41.094660",
   "version": "2.3.4"
  }
 },
 "nbformat": 4,
 "nbformat_minor": 5
}
