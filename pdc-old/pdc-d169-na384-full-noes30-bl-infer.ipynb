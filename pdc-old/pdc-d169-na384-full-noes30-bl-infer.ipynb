{
 "cells": [
  {
   "cell_type": "markdown",
   "id": "5509374e",
   "metadata": {
    "papermill": {
     "duration": 0.003958,
     "end_time": "2022-06-17T15:05:18.229555",
     "exception": false,
     "start_time": "2022-06-17T15:05:18.225597",
     "status": "completed"
    },
    "tags": []
   },
   "source": [
    "### **Library Imports**"
   ]
  },
  {
   "cell_type": "code",
   "execution_count": 1,
   "id": "c772db40",
   "metadata": {
    "execution": {
     "iopub.execute_input": "2022-06-17T15:05:18.240200Z",
     "iopub.status.busy": "2022-06-17T15:05:18.239680Z",
     "iopub.status.idle": "2022-06-17T15:05:21.166247Z",
     "shell.execute_reply": "2022-06-17T15:05:21.165452Z"
    },
    "papermill": {
     "duration": 2.933516,
     "end_time": "2022-06-17T15:05:21.168500",
     "exception": false,
     "start_time": "2022-06-17T15:05:18.234984",
     "status": "completed"
    },
    "tags": []
   },
   "outputs": [],
   "source": [
    "import os\n",
    "import re\n",
    "import cv2\n",
    "import torch\n",
    "import numpy as np\n",
    "import pandas as pd\n",
    "import matplotlib.pyplot as plt\n",
    "\n",
    "from time import time\n",
    "from torch import nn, optim\n",
    "from torch.utils.data import Dataset\n",
    "from torch.utils.data import DataLoader as DL\n",
    "from torchvision import models, transforms\n",
    "\n",
    "from sklearn.preprocessing import LabelEncoder"
   ]
  },
  {
   "cell_type": "markdown",
   "id": "670628ae",
   "metadata": {
    "papermill": {
     "duration": 0.00291,
     "end_time": "2022-06-17T15:05:21.174649",
     "exception": false,
     "start_time": "2022-06-17T15:05:21.171739",
     "status": "completed"
    },
    "tags": []
   },
   "source": [
    "### **Utilities and Helpers**"
   ]
  },
  {
   "cell_type": "code",
   "execution_count": 2,
   "id": "0a6aa55d",
   "metadata": {
    "execution": {
     "iopub.execute_input": "2022-06-17T15:05:21.182982Z",
     "iopub.status.busy": "2022-06-17T15:05:21.182088Z",
     "iopub.status.idle": "2022-06-17T15:05:21.243609Z",
     "shell.execute_reply": "2022-06-17T15:05:21.242914Z"
    },
    "papermill": {
     "duration": 0.067654,
     "end_time": "2022-06-17T15:05:21.245302",
     "exception": false,
     "start_time": "2022-06-17T15:05:21.177648",
     "status": "completed"
    },
    "tags": []
   },
   "outputs": [],
   "source": [
    "SEED = 42\n",
    "SIZE = 384\n",
    "TRANSFORM = transforms.Compose([transforms.ToTensor(),\n",
    "                                transforms.Normalize([0.49699, 0.58823, 0.23049],\n",
    "                                                     [0.22591, 0.22614, 0.18264]),\n",
    "                                ])\n",
    "MODEL_PATH = f\"../input/pdc-d169-na{SIZE}-full-noes30/saves/ble_state.pt\"\n",
    "DEVICE = torch.device(\"cuda\" if torch.cuda.is_available() else \"cpu\")\n",
    "\n",
    "le = LabelEncoder()\n",
    "\n",
    "\n",
    "def breaker(num: int=50, char: str=\"*\") -> None:\n",
    "    print(\"\\n\" + num*char + \"\\n\")\n",
    "\n",
    "\n",
    "def get_image(path: str, size: int=224) -> np.ndarray:\n",
    "    return cv2.resize(src=cv2.cvtColor(src=cv2.imread(path, cv2.IMREAD_COLOR), code=cv2.COLOR_BGR2RGB), dsize=(size, size), interpolation=cv2.INTER_AREA)"
   ]
  },
  {
   "cell_type": "markdown",
   "id": "c9904f00",
   "metadata": {
    "papermill": {
     "duration": 0.002988,
     "end_time": "2022-06-17T15:05:21.251478",
     "exception": false,
     "start_time": "2022-06-17T15:05:21.248490",
     "status": "completed"
    },
    "tags": []
   },
   "source": [
    "### **Configuration**"
   ]
  },
  {
   "cell_type": "markdown",
   "id": "96383719",
   "metadata": {
    "papermill": {
     "duration": 0.002752,
     "end_time": "2022-06-17T15:05:21.257221",
     "exception": false,
     "start_time": "2022-06-17T15:05:21.254469",
     "status": "completed"
    },
    "tags": []
   },
   "source": [
    "### **Dataset Template**"
   ]
  },
  {
   "cell_type": "code",
   "execution_count": 3,
   "id": "d0a7abd6",
   "metadata": {
    "execution": {
     "iopub.execute_input": "2022-06-17T15:05:21.264325Z",
     "iopub.status.busy": "2022-06-17T15:05:21.264049Z",
     "iopub.status.idle": "2022-06-17T15:05:21.269766Z",
     "shell.execute_reply": "2022-06-17T15:05:21.269059Z"
    },
    "papermill": {
     "duration": 0.011198,
     "end_time": "2022-06-17T15:05:21.271404",
     "exception": false,
     "start_time": "2022-06-17T15:05:21.260206",
     "status": "completed"
    },
    "tags": []
   },
   "outputs": [],
   "source": [
    "class DS(Dataset):\n",
    "    def __init__(self, base_path: str, filenames: np.ndarray, size: int=224, transform=None):\n",
    "        self.base_path = base_path\n",
    "        self.filenames = filenames\n",
    "        self.size = size\n",
    "        self.transform = transform\n",
    "    \n",
    "    def __len__(self):\n",
    "        return self.filenames.shape[0]\n",
    "    \n",
    "    def __getitem__(self, idx):\n",
    "        return self.transform(get_image(os.path.join(self.base_path, self.filenames[idx]), size=self.size))"
   ]
  },
  {
   "cell_type": "markdown",
   "id": "7cc49aa9",
   "metadata": {
    "papermill": {
     "duration": 0.002791,
     "end_time": "2022-06-17T15:05:21.277176",
     "exception": false,
     "start_time": "2022-06-17T15:05:21.274385",
     "status": "completed"
    },
    "tags": []
   },
   "source": [
    "### **Model**"
   ]
  },
  {
   "cell_type": "code",
   "execution_count": 4,
   "id": "0862ce2e",
   "metadata": {
    "execution": {
     "iopub.execute_input": "2022-06-17T15:05:21.284089Z",
     "iopub.status.busy": "2022-06-17T15:05:21.283840Z",
     "iopub.status.idle": "2022-06-17T15:05:21.289551Z",
     "shell.execute_reply": "2022-06-17T15:05:21.288863Z"
    },
    "papermill": {
     "duration": 0.0113,
     "end_time": "2022-06-17T15:05:21.291476",
     "exception": false,
     "start_time": "2022-06-17T15:05:21.280176",
     "status": "completed"
    },
    "tags": []
   },
   "outputs": [],
   "source": [
    "class Model(nn.Module):\n",
    "    def __init__(self):\n",
    "        super(Model, self).__init__()\n",
    "\n",
    "        self.model = models.densenet169(pretrained=False, progress=True)\n",
    "        # self.freeze()\n",
    "        self.model.classifier = nn.Linear(in_features=self.model.classifier.in_features, out_features=10)\n",
    "    \n",
    "    def freeze(self):\n",
    "        for params in self.parameters(): params.requires_grad = False\n",
    "\n",
    "    def forward(self, x):\n",
    "        return nn.LogSoftmax(dim=1)(self.model(x))"
   ]
  },
  {
   "cell_type": "markdown",
   "id": "996d2fce",
   "metadata": {
    "papermill": {
     "duration": 0.002883,
     "end_time": "2022-06-17T15:05:21.297657",
     "exception": false,
     "start_time": "2022-06-17T15:05:21.294774",
     "status": "completed"
    },
    "tags": []
   },
   "source": [
    "### **Predict Helpers**"
   ]
  },
  {
   "cell_type": "code",
   "execution_count": 5,
   "id": "99da5d11",
   "metadata": {
    "execution": {
     "iopub.execute_input": "2022-06-17T15:05:21.304593Z",
     "iopub.status.busy": "2022-06-17T15:05:21.304323Z",
     "iopub.status.idle": "2022-06-17T15:05:21.310487Z",
     "shell.execute_reply": "2022-06-17T15:05:21.309802Z"
    },
    "papermill": {
     "duration": 0.011638,
     "end_time": "2022-06-17T15:05:21.312261",
     "exception": false,
     "start_time": "2022-06-17T15:05:21.300623",
     "status": "completed"
    },
    "tags": []
   },
   "outputs": [],
   "source": [
    "def predict_batch(model=None, dataloader=None, path=None, device=None) -> np.ndarray:\n",
    "    model.load_state_dict(torch.load(path, map_location=device)[\"model_state_dict\"])\n",
    "    model.to(device)    \n",
    "    model.eval()\n",
    "    \n",
    "    y_pred = torch.zeros(1, 1).to(device)\n",
    "    \n",
    "    for X in dataloader:\n",
    "        X = X.to(device)\n",
    "        with torch.no_grad():\n",
    "            output = torch.argmax(torch.exp(model(X)), dim=1)\n",
    "        y_pred = torch.cat((y_pred, output.view(-1, 1)), dim=0)\n",
    "    \n",
    "    return y_pred[1:].detach().cpu().numpy()"
   ]
  },
  {
   "cell_type": "markdown",
   "id": "3406fee6",
   "metadata": {
    "papermill": {
     "duration": 0.002792,
     "end_time": "2022-06-17T15:05:21.318291",
     "exception": false,
     "start_time": "2022-06-17T15:05:21.315499",
     "status": "completed"
    },
    "tags": []
   },
   "source": [
    "### **Submission**"
   ]
  },
  {
   "cell_type": "code",
   "execution_count": 6,
   "id": "521c8537",
   "metadata": {
    "execution": {
     "iopub.execute_input": "2022-06-17T15:05:21.325220Z",
     "iopub.status.busy": "2022-06-17T15:05:21.324975Z",
     "iopub.status.idle": "2022-06-17T15:06:36.539895Z",
     "shell.execute_reply": "2022-06-17T15:06:36.539107Z"
    },
    "papermill": {
     "duration": 75.220714,
     "end_time": "2022-06-17T15:06:36.542001",
     "exception": false,
     "start_time": "2022-06-17T15:05:21.321287",
     "status": "completed"
    },
    "tags": []
   },
   "outputs": [],
   "source": [
    "df = pd.read_csv(\"../input/paddy-disease-classification/train.csv\")\n",
    "ss_df = pd.read_csv(\"../input/paddy-disease-classification/sample_submission.csv\")\n",
    "\n",
    "labels = df.label.copy().values\n",
    "labels = le.fit_transform(labels)\n",
    "\n",
    "ts_data_setup = DS(base_path=\"../input/paddy-disease-classification/test_images\", \n",
    "                   filenames=ss_df.image_id.copy().values,\n",
    "                   size=SIZE,\n",
    "                   transform=TRANSFORM)\n",
    "ts_data = DL(ts_data_setup, batch_size=64, shuffle=False)\n",
    "\n",
    "model = Model().to(DEVICE)\n",
    "\n",
    "y_pred = predict_batch(model=model, \n",
    "                       dataloader=ts_data, \n",
    "                       path=MODEL_PATH,\n",
    "                       device=DEVICE)\n",
    "\n",
    "ss_df[\"label\"] = le.inverse_transform(y_pred.astype(\"uint8\").reshape(-1))\n",
    "ss_df.to_csv(\"submission.csv\", index=False)"
   ]
  }
 ],
 "metadata": {
  "kernelspec": {
   "display_name": "Python 3",
   "language": "python",
   "name": "python3"
  },
  "language_info": {
   "codemirror_mode": {
    "name": "ipython",
    "version": 3
   },
   "file_extension": ".py",
   "mimetype": "text/x-python",
   "name": "python",
   "nbconvert_exporter": "python",
   "pygments_lexer": "ipython3",
   "version": "3.7.12"
  },
  "papermill": {
   "default_parameters": {},
   "duration": 87.889704,
   "end_time": "2022-06-17T15:06:37.967414",
   "environment_variables": {},
   "exception": null,
   "input_path": "__notebook__.ipynb",
   "output_path": "__notebook__.ipynb",
   "parameters": {},
   "start_time": "2022-06-17T15:05:10.077710",
   "version": "2.3.4"
  }
 },
 "nbformat": 4,
 "nbformat_minor": 5
}
