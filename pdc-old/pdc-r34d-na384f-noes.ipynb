{
 "cells": [
  {
   "cell_type": "markdown",
   "id": "f82d69dc",
   "metadata": {
    "_cell_guid": "b1076dfc-b9ad-4769-8c92-a6c4dae69d19",
    "_uuid": "8f2839f25d086af736a60e9eeb907d3b93b6e0e5",
    "papermill": {
     "duration": 0.006467,
     "end_time": "2022-06-19T07:24:51.520256",
     "exception": false,
     "start_time": "2022-06-19T07:24:51.513789",
     "status": "completed"
    },
    "tags": []
   },
   "source": [
    "### **Setup**"
   ]
  },
  {
   "cell_type": "code",
   "execution_count": 1,
   "id": "8c24c894",
   "metadata": {
    "execution": {
     "iopub.execute_input": "2022-06-19T07:24:51.531363Z",
     "iopub.status.busy": "2022-06-19T07:24:51.530742Z",
     "iopub.status.idle": "2022-06-19T07:25:02.050572Z",
     "shell.execute_reply": "2022-06-19T07:25:02.049330Z"
    },
    "papermill": {
     "duration": 10.527794,
     "end_time": "2022-06-19T07:25:02.053023",
     "exception": false,
     "start_time": "2022-06-19T07:24:51.525229",
     "status": "completed"
    },
    "tags": []
   },
   "outputs": [
    {
     "name": "stderr",
     "output_type": "stream",
     "text": [
      "WARNING: Running pip as the 'root' user can result in broken permissions and conflicting behaviour with the system package manager. It is recommended to use a virtual environment instead: https://pip.pypa.io/warnings/venv\n"
     ]
    }
   ],
   "source": [
    "%%bash\n",
    "pip install -q timm"
   ]
  },
  {
   "cell_type": "markdown",
   "id": "de00b9ed",
   "metadata": {
    "papermill": {
     "duration": 0.004621,
     "end_time": "2022-06-19T07:25:02.062433",
     "exception": false,
     "start_time": "2022-06-19T07:25:02.057812",
     "status": "completed"
    },
    "tags": []
   },
   "source": [
    "### **Library Imports**"
   ]
  },
  {
   "cell_type": "code",
   "execution_count": 2,
   "id": "41852e9b",
   "metadata": {
    "execution": {
     "iopub.execute_input": "2022-06-19T07:25:02.073123Z",
     "iopub.status.busy": "2022-06-19T07:25:02.072696Z",
     "iopub.status.idle": "2022-06-19T07:25:09.985991Z",
     "shell.execute_reply": "2022-06-19T07:25:09.984730Z"
    },
    "papermill": {
     "duration": 7.921312,
     "end_time": "2022-06-19T07:25:09.988498",
     "exception": false,
     "start_time": "2022-06-19T07:25:02.067186",
     "status": "completed"
    },
    "tags": []
   },
   "outputs": [],
   "source": [
    "import os\n",
    "import re\n",
    "import timm\n",
    "import torch\n",
    "import numpy as np\n",
    "import pandas as pd\n",
    "import matplotlib.pyplot as plt\n",
    "\n",
    "from time import time\n",
    "from torch import nn, optim\n",
    "from torch.utils.data import Dataset\n",
    "from torch.utils.data import DataLoader as DL\n",
    "from torchvision import models, transforms\n",
    "\n",
    "from sklearn.model_selection import StratifiedKFold\n",
    "from sklearn.preprocessing import LabelEncoder\n",
    "from sklearn.metrics import accuracy_score"
   ]
  },
  {
   "cell_type": "markdown",
   "id": "51e429c7",
   "metadata": {
    "papermill": {
     "duration": 0.004653,
     "end_time": "2022-06-19T07:25:09.997909",
     "exception": false,
     "start_time": "2022-06-19T07:25:09.993256",
     "status": "completed"
    },
    "tags": []
   },
   "source": [
    "### **Utilities and Helpers**"
   ]
  },
  {
   "cell_type": "code",
   "execution_count": 3,
   "id": "513b45db",
   "metadata": {
    "execution": {
     "iopub.execute_input": "2022-06-19T07:25:10.007997Z",
     "iopub.status.busy": "2022-06-19T07:25:10.007097Z",
     "iopub.status.idle": "2022-06-19T07:25:10.020683Z",
     "shell.execute_reply": "2022-06-19T07:25:10.019857Z"
    },
    "papermill": {
     "duration": 0.020482,
     "end_time": "2022-06-19T07:25:10.022588",
     "exception": false,
     "start_time": "2022-06-19T07:25:10.002106",
     "status": "completed"
    },
    "tags": []
   },
   "outputs": [],
   "source": [
    "SEED = 42\n",
    "SIZE = 384\n",
    "le = LabelEncoder()\n",
    "\n",
    "\n",
    "def breaker(num: int=50, char: str=\"*\") -> None:\n",
    "    print(\"\\n\" + num*char + \"\\n\")\n",
    "\n",
    "    \n",
    "def show_loss_graphs(A: list) -> None:\n",
    "    TL, VL = [], []\n",
    "    for i in range(len(L)):\n",
    "        TL.append(L[i][\"train\"])\n",
    "        VL.append(L[i][\"valid\"])\n",
    "    x_Axis = np.arange(1, len(TL) + 1)\n",
    "    plt.figure()\n",
    "    plt.plot(x_Axis, TL, \"r\", label=\"Train\")\n",
    "    plt.plot(x_Axis, VL, \"b\", label=\"Valid\")\n",
    "    plt.legend()\n",
    "    plt.grid()\n",
    "    plt.title(\"Loss Graph\")\n",
    "    plt.show()\n",
    "\n",
    "    \n",
    "def show_accuracy_graphs(A: list) -> None:\n",
    "    TA, VA = [], []\n",
    "    for i in range(len(L)):\n",
    "        TA.append(A[i][\"train\"])\n",
    "        VA.append(A[i][\"valid\"])\n",
    "    x_Axis = np.arange(1, len(TA) + 1)\n",
    "    plt.figure()\n",
    "    plt.plot(x_Axis, TA, \"r\", label=\"Train\")\n",
    "    plt.plot(x_Axis, VA, \"b\", label=\"Valid\")\n",
    "    plt.legend()\n",
    "    plt.grid()\n",
    "    plt.title(\"Accuracy Graph\")\n",
    "    plt.show()\n",
    "\n",
    "\n",
    "def show_lr_graph(LR: list) -> None:\n",
    "    x_Axis = [i+1 for i in range(len(LR))]\n",
    "    plt.figure(figsize=(8, 6))\n",
    "    plt.plot(x_Axis, LR, \"rx\")\n",
    "    plt.grid()\n",
    "    plt.show()"
   ]
  },
  {
   "cell_type": "markdown",
   "id": "75564449",
   "metadata": {
    "papermill": {
     "duration": 0.004475,
     "end_time": "2022-06-19T07:25:10.031676",
     "exception": false,
     "start_time": "2022-06-19T07:25:10.027201",
     "status": "completed"
    },
    "tags": []
   },
   "source": [
    "### **Configuration**"
   ]
  },
  {
   "cell_type": "code",
   "execution_count": 4,
   "id": "84468372",
   "metadata": {
    "execution": {
     "iopub.execute_input": "2022-06-19T07:25:10.042933Z",
     "iopub.status.busy": "2022-06-19T07:25:10.042164Z",
     "iopub.status.idle": "2022-06-19T07:25:10.106205Z",
     "shell.execute_reply": "2022-06-19T07:25:10.105366Z"
    },
    "papermill": {
     "duration": 0.071582,
     "end_time": "2022-06-19T07:25:10.108127",
     "exception": false,
     "start_time": "2022-06-19T07:25:10.036545",
     "status": "completed"
    },
    "tags": []
   },
   "outputs": [],
   "source": [
    "class CFG(object):\n",
    "    def __init__(self, \n",
    "                 seed: int = 42,\n",
    "                 n_splits: int = 5,\n",
    "                 batch_size: int = 16,\n",
    "                 epochs: int = 25,\n",
    "                 early_stopping: int = 5,\n",
    "                 lr: float = 1e-4,\n",
    "                 wd: float = 0.0,\n",
    "                 max_lr: float = 1e-3,\n",
    "                 pct_start: float = 0.2,\n",
    "                 steps_per_epoch: int = 100,\n",
    "                 div_factor: int = 1e3, \n",
    "                 final_div_factor: float = 1e3,\n",
    "                 ):\n",
    "        \n",
    "        self.seed = seed\n",
    "        self.n_splits = n_splits\n",
    "        self.batch_size = batch_size\n",
    "        self.epochs = epochs\n",
    "        self.early_stopping = early_stopping\n",
    "        self.lr = lr\n",
    "        self.wd = wd\n",
    "        self.max_lr = max_lr\n",
    "        self.pct_start = pct_start\n",
    "        self.steps_per_epoch = steps_per_epoch\n",
    "        self.div_factor = div_factor\n",
    "        self.final_div_factor = final_div_factor\n",
    "        self.device = torch.device(\"cuda\" if torch.cuda.is_available() else \"cpu\")\n",
    "        self.transform = transforms.Compose([transforms.ToTensor(),\n",
    "                                transforms.Normalize([0.49699, 0.58823, 0.23049],\n",
    "                                                     [0.22591, 0.22614, 0.18264]),\n",
    "                                ])\n",
    "        self.save_path = \"saves\"\n",
    "        if not os.path.exists(self.save_path): os.makedirs(self.save_path)\n",
    "    \n",
    "cfg = CFG(seed=SEED)"
   ]
  },
  {
   "cell_type": "markdown",
   "id": "64fcfad3",
   "metadata": {
    "papermill": {
     "duration": 0.003813,
     "end_time": "2022-06-19T07:25:10.116231",
     "exception": false,
     "start_time": "2022-06-19T07:25:10.112418",
     "status": "completed"
    },
    "tags": []
   },
   "source": [
    "### **Dataset Template**"
   ]
  },
  {
   "cell_type": "code",
   "execution_count": 5,
   "id": "e2bd429d",
   "metadata": {
    "execution": {
     "iopub.execute_input": "2022-06-19T07:25:10.125435Z",
     "iopub.status.busy": "2022-06-19T07:25:10.125086Z",
     "iopub.status.idle": "2022-06-19T07:25:10.131058Z",
     "shell.execute_reply": "2022-06-19T07:25:10.130344Z"
    },
    "papermill": {
     "duration": 0.012406,
     "end_time": "2022-06-19T07:25:10.132591",
     "exception": false,
     "start_time": "2022-06-19T07:25:10.120185",
     "status": "completed"
    },
    "tags": []
   },
   "outputs": [],
   "source": [
    "class DS(Dataset):\n",
    "    def __init__(self, images: np.ndarray, labels: np.ndarray = None, transform=None):\n",
    "        self.images = images\n",
    "        self.labels = labels\n",
    "        self.transform = transform\n",
    "    \n",
    "    def __len__(self):\n",
    "        return self.images.shape[0]\n",
    "    \n",
    "    def __getitem__(self, idx):\n",
    "        if self.labels is not None:\n",
    "            return self.transform(self.images[idx]), torch.LongTensor(self.labels[idx])\n",
    "        else:\n",
    "            return self.transform(self.images[idx])"
   ]
  },
  {
   "cell_type": "markdown",
   "id": "d3212682",
   "metadata": {
    "papermill": {
     "duration": 0.004278,
     "end_time": "2022-06-19T07:25:10.140830",
     "exception": false,
     "start_time": "2022-06-19T07:25:10.136552",
     "status": "completed"
    },
    "tags": []
   },
   "source": [
    "### **Model**"
   ]
  },
  {
   "cell_type": "code",
   "execution_count": 6,
   "id": "80f4c7d5",
   "metadata": {
    "execution": {
     "iopub.execute_input": "2022-06-19T07:25:10.149970Z",
     "iopub.status.busy": "2022-06-19T07:25:10.149383Z",
     "iopub.status.idle": "2022-06-19T07:25:10.155044Z",
     "shell.execute_reply": "2022-06-19T07:25:10.154356Z"
    },
    "papermill": {
     "duration": 0.011885,
     "end_time": "2022-06-19T07:25:10.156652",
     "exception": false,
     "start_time": "2022-06-19T07:25:10.144767",
     "status": "completed"
    },
    "tags": []
   },
   "outputs": [],
   "source": [
    "class Model(nn.Module):\n",
    "    def __init__(self):\n",
    "        super(Model, self).__init__()\n",
    "\n",
    "        self.model = timm.create_model(model_name=\"resnet34d\", pretrained=True)\n",
    "        # self.freeze()\n",
    "        self.model.fc = nn.Linear(in_features=self.model.fc.in_features, out_features=10)\n",
    "    \n",
    "    def freeze(self):\n",
    "        for params in self.parameters(): params.requires_grad = False\n",
    "\n",
    "    def forward(self, x):\n",
    "        return nn.LogSoftmax(dim=1)(self.model(x))"
   ]
  },
  {
   "cell_type": "markdown",
   "id": "480f65f4",
   "metadata": {
    "papermill": {
     "duration": 0.003778,
     "end_time": "2022-06-19T07:25:10.164621",
     "exception": false,
     "start_time": "2022-06-19T07:25:10.160843",
     "status": "completed"
    },
    "tags": []
   },
   "source": [
    "### **Fit and Predict Helpers**"
   ]
  },
  {
   "cell_type": "code",
   "execution_count": 7,
   "id": "a7256430",
   "metadata": {
    "execution": {
     "iopub.execute_input": "2022-06-19T07:25:10.174339Z",
     "iopub.status.busy": "2022-06-19T07:25:10.173720Z",
     "iopub.status.idle": "2022-06-19T07:25:10.199429Z",
     "shell.execute_reply": "2022-06-19T07:25:10.198805Z"
    },
    "papermill": {
     "duration": 0.032705,
     "end_time": "2022-06-19T07:25:10.201279",
     "exception": false,
     "start_time": "2022-06-19T07:25:10.168574",
     "status": "completed"
    },
    "tags": []
   },
   "outputs": [],
   "source": [
    "def fit(model=None, \n",
    "        optimizer=None, \n",
    "        scheduler_rlrop=None,\n",
    "        scheduler_oclr=None,\n",
    "        epochs=None, \n",
    "        early_stopping_patience=None, \n",
    "        dataloaders=None, \n",
    "        fold=None, \n",
    "        save_path=None,\n",
    "        device=None,\n",
    "        verbose=False) -> tuple:\n",
    "    \n",
    "    def get_accuracy(y_pred, y_true):\n",
    "        y_pred = torch.argmax(y_pred, dim=1)\n",
    "        return torch.count_nonzero(y_pred == y_true).item() / len(y_pred)\n",
    "    \n",
    "    if verbose:\n",
    "        breaker()\n",
    "        if fold: print(f\"Training Fold {fold}...\")\n",
    "        else: print(\"Training ...\")\n",
    "        breaker()\n",
    "        \n",
    "    bestLoss, bestAccs = {\"train\" : np.inf, \"valid\" : np.inf}, {\"train\" : 0.0, \"valid\" : 0.0}\n",
    "    Losses, Accuracies, LRs = [], [], []\n",
    "    if fold: \n",
    "        ble_name = f\"ble_state_fold_{fold}.pt\"\n",
    "        bae_name = f\"bae_state_fold_{fold}.pt\"\n",
    "    else: \n",
    "        ble_name = \"ble_state.pt\"\n",
    "        bae_name = \"bae_state.pt\"\n",
    "\n",
    "    start_time = time()\n",
    "    for e in range(epochs):\n",
    "        e_st = time()\n",
    "        epochLoss, epochAccs = {\"train\" : 0.0, \"valid\" : 0.0}, {\"train\" : 0.0, \"valid\" : 0.0}\n",
    "\n",
    "        for phase in [\"train\", \"valid\"]:\n",
    "            if phase == \"train\":\n",
    "                model.train()\n",
    "            else:\n",
    "                model.eval()\n",
    "            \n",
    "            lossPerPass, accsPerPass = [], []\n",
    "\n",
    "            for X, y in dataloaders[phase]:\n",
    "                X, y = X.to(device), y.to(device).view(-1)\n",
    "\n",
    "                optimizer.zero_grad()\n",
    "                with torch.set_grad_enabled(phase == \"train\"):\n",
    "                    output = model(X)\n",
    "                    loss = torch.nn.NLLLoss()(output, y)\n",
    "                    if phase == \"train\":\n",
    "                        loss.backward()\n",
    "                        optimizer.step()\n",
    "                        if scheduler_oclr: scheduler_oclr.step()\n",
    "                lossPerPass.append(loss.item())\n",
    "                accsPerPass.append(get_accuracy(output, y))\n",
    "            epochLoss[phase] = np.mean(np.array(lossPerPass))\n",
    "            epochAccs[phase] = np.mean(np.array(accsPerPass))\n",
    "        if scheduler_oclr: LRs.append(scheduler_oclr.get_last_lr())\n",
    "        Losses.append(epochLoss)\n",
    "        Accuracies.append(epochAccs)\n",
    "        \n",
    "        if scheduler_oclr:\n",
    "            save_dict = {\"model_state_dict\"     : model.state_dict(),\n",
    "                         \"optim_state_dict\"     : optimizer.state_dict(),\n",
    "                         \"scheduler_state_dict\" : scheduler_oclr.state_dict()}\n",
    "        \n",
    "        elif scheduler_rlrop:\n",
    "            save_dict = {\"model_state_dict\"     : model.state_dict(),\n",
    "                         \"optim_state_dict\"     : optimizer.state_dict(),\n",
    "                         \"scheduler_state_dict\" : scheduler_rlrop.state_dict()}\n",
    "        \n",
    "        else:\n",
    "            save_dict = {\"model_state_dict\"     : model.state_dict(),\n",
    "                         \"optim_state_dict\"     : optimizer.state_dict()}\n",
    "        \n",
    "        if early_stopping_patience:\n",
    "            if epochLoss[\"valid\"] < bestLoss[\"valid\"]:\n",
    "                bestLoss = epochLoss\n",
    "                BLE = e + 1\n",
    "                torch.save(save_dict, os.path.join(save_path, name))\n",
    "                early_stopping_step = 0\n",
    "            else:\n",
    "                early_stopping_step += 1\n",
    "                if early_stopping_step > early_stopping_patience:\n",
    "                    print(\"\\nEarly Stopping at Epoch {}\".format(e + 1))\n",
    "                    break\n",
    "        \n",
    "        if epochLoss[\"valid\"] < bestLoss[\"valid\"]:\n",
    "            bestLoss = epochLoss\n",
    "            BLE = e + 1\n",
    "            torch.save(save_dict,os.path.join(save_path, ble_name))\n",
    "        \n",
    "        if epochAccs[\"valid\"] > bestAccs[\"valid\"]:\n",
    "            bestAccs = epochAccs\n",
    "            BAE = e + 1\n",
    "            torch.save(save_dict,os.path.join(save_path, bae_name))\n",
    "\n",
    "        \n",
    "        if scheduler_rlrop: scheduler_rlrop.step(epochLoss[\"valid\"])\n",
    "        \n",
    "        if verbose:\n",
    "            print(\"Epoch: {} | Train Loss: {:.5f} | Valid Loss: {:.5f} |\\\n",
    " Train Accs: {:.5f} | Valid Accs: {:.5f} | Time: {:.2f} seconds\".format(e+1, \n",
    "                                                                        epochLoss[\"train\"], epochLoss[\"valid\"], \n",
    "                                                                        epochAccs[\"train\"], epochAccs[\"valid\"], \n",
    "                                                                        time()-e_st))\n",
    "\n",
    "    if verbose:                                           \n",
    "        breaker()\n",
    "        print(f\"Best Validation Loss at Epoch {BLE}\")\n",
    "        breaker()\n",
    "        print(f\"Best Validation Accs at Epoch {BAE}\")\n",
    "        breaker()\n",
    "        print(\"Time Taken [{} Epochs] : {:.2f} minutes\".format(len(Losses), (time()-start_time)/60))\n",
    "    \n",
    "    return Losses, Accuracies, LRs, BLE, BAE, ble_name, bae_name\n",
    "\n",
    "\n",
    "def predict_batch(model=None, dataloader=None, path=None, device=None) -> np.ndarray:\n",
    "    model.load_state_dict(torch.load(path, map_location=device)[\"model_state_dict\"])\n",
    "    model.to(device)    \n",
    "    model.eval()\n",
    "    \n",
    "    y_pred = torch.zeros(1, 1).to(device)\n",
    "    \n",
    "    for X in dataloader:\n",
    "        X = X.to(device)\n",
    "        with torch.no_grad():\n",
    "            output = torch.argmax(torch.exp(model(X)), dim=1)\n",
    "        y_pred = torch.cat((y_pred, output.view(-1, 1)), dim=0)\n",
    "    \n",
    "    return y_pred[1:].detach().cpu().numpy()"
   ]
  },
  {
   "cell_type": "markdown",
   "id": "5951fa7a",
   "metadata": {
    "papermill": {
     "duration": 0.00378,
     "end_time": "2022-06-19T07:25:10.209028",
     "exception": false,
     "start_time": "2022-06-19T07:25:10.205248",
     "status": "completed"
    },
    "tags": []
   },
   "source": [
    "### **Train**"
   ]
  },
  {
   "cell_type": "code",
   "execution_count": 8,
   "id": "e6ae1596",
   "metadata": {
    "execution": {
     "iopub.execute_input": "2022-06-19T07:25:10.217870Z",
     "iopub.status.busy": "2022-06-19T07:25:10.217631Z",
     "iopub.status.idle": "2022-06-19T07:25:47.244231Z",
     "shell.execute_reply": "2022-06-19T07:25:47.243443Z"
    },
    "papermill": {
     "duration": 37.033384,
     "end_time": "2022-06-19T07:25:47.246298",
     "exception": false,
     "start_time": "2022-06-19T07:25:10.212914",
     "status": "completed"
    },
    "tags": []
   },
   "outputs": [],
   "source": [
    "images = np.load(f\"../input/pdc-images-{SIZE}/images-{SIZE}.npy\")\n",
    "df = pd.read_csv(\"../input/paddy-disease-classification/train.csv\")\n",
    "labels = df.label.copy().values\n",
    "labels = le.fit_transform(labels)"
   ]
  },
  {
   "cell_type": "code",
   "execution_count": 9,
   "id": "9bdcf657",
   "metadata": {
    "execution": {
     "iopub.execute_input": "2022-06-19T07:25:47.256618Z",
     "iopub.status.busy": "2022-06-19T07:25:47.256096Z",
     "iopub.status.idle": "2022-06-19T08:32:49.505142Z",
     "shell.execute_reply": "2022-06-19T08:32:49.504094Z"
    },
    "papermill": {
     "duration": 4022.257859,
     "end_time": "2022-06-19T08:32:49.508652",
     "exception": false,
     "start_time": "2022-06-19T07:25:47.250793",
     "status": "completed"
    },
    "tags": []
   },
   "outputs": [
    {
     "name": "stderr",
     "output_type": "stream",
     "text": [
      "Downloading: \"https://github.com/rwightman/pytorch-image-models/releases/download/v0.1-weights/resnet34d_ra2-f8dcfcaf.pth\" to /root/.cache/torch/hub/checkpoints/resnet34d_ra2-f8dcfcaf.pth\n"
     ]
    },
    {
     "name": "stdout",
     "output_type": "stream",
     "text": [
      "\n",
      "**************************************************\n",
      "\n",
      "Training ...\n",
      "\n",
      "**************************************************\n",
      "\n",
      "Epoch: 1 | Train Loss: 2.05857 | Valid Loss: 1.23758 | Train Accs: 0.29383 | Valid Accs: 0.58922 | Time: 121.42 seconds\n",
      "Epoch: 2 | Train Loss: 0.74638 | Valid Loss: 0.44813 | Train Accs: 0.76780 | Valid Accs: 0.86403 | Time: 114.85 seconds\n",
      "Epoch: 3 | Train Loss: 0.36259 | Valid Loss: 0.47378 | Train Accs: 0.88892 | Valid Accs: 0.85544 | Time: 112.73 seconds\n",
      "Epoch: 4 | Train Loss: 0.35003 | Valid Loss: 0.53530 | Train Accs: 0.89060 | Valid Accs: 0.83015 | Time: 113.73 seconds\n",
      "Epoch: 5 | Train Loss: 0.30504 | Valid Loss: 0.50089 | Train Accs: 0.90581 | Valid Accs: 0.88502 | Time: 114.33 seconds\n",
      "Epoch: 6 | Train Loss: 0.28414 | Valid Loss: 0.48510 | Train Accs: 0.91615 | Valid Accs: 0.84494 | Time: 113.58 seconds\n",
      "Epoch: 7 | Train Loss: 0.23282 | Valid Loss: 0.30567 | Train Accs: 0.92982 | Valid Accs: 0.91842 | Time: 114.83 seconds\n",
      "Epoch: 8 | Train Loss: 0.16523 | Valid Loss: 0.23647 | Train Accs: 0.94986 | Valid Accs: 0.93989 | Time: 115.35 seconds\n",
      "Epoch: 9 | Train Loss: 0.14131 | Valid Loss: 0.38896 | Train Accs: 0.95669 | Valid Accs: 0.90267 | Time: 113.48 seconds\n",
      "Epoch: 10 | Train Loss: 0.13133 | Valid Loss: 0.23420 | Train Accs: 0.96087 | Valid Accs: 0.92939 | Time: 113.95 seconds\n",
      "Epoch: 11 | Train Loss: 0.11250 | Valid Loss: 0.35682 | Train Accs: 0.96581 | Valid Accs: 0.89933 | Time: 112.97 seconds\n",
      "Epoch: 12 | Train Loss: 0.07454 | Valid Loss: 0.24216 | Train Accs: 0.97742 | Valid Accs: 0.94036 | Time: 114.08 seconds\n",
      "Epoch: 13 | Train Loss: 0.08861 | Valid Loss: 0.27831 | Train Accs: 0.97301 | Valid Accs: 0.93225 | Time: 113.18 seconds\n",
      "Epoch: 14 | Train Loss: 0.08437 | Valid Loss: 0.24556 | Train Accs: 0.97469 | Valid Accs: 0.94275 | Time: 114.25 seconds\n",
      "Epoch: 15 | Train Loss: 0.05841 | Valid Loss: 0.27110 | Train Accs: 0.98174 | Valid Accs: 0.94036 | Time: 113.17 seconds\n",
      "Epoch: 16 | Train Loss: 0.04413 | Valid Loss: 0.22561 | Train Accs: 0.98656 | Valid Accs: 0.94943 | Time: 114.30 seconds\n",
      "Epoch: 17 | Train Loss: 0.03310 | Valid Loss: 0.26436 | Train Accs: 0.98956 | Valid Accs: 0.94036 | Time: 113.73 seconds\n",
      "Epoch: 18 | Train Loss: 0.04524 | Valid Loss: 0.18206 | Train Accs: 0.98608 | Valid Accs: 0.95945 | Time: 114.90 seconds\n",
      "Epoch: 19 | Train Loss: 0.01606 | Valid Loss: 0.20308 | Train Accs: 0.99520 | Valid Accs: 0.95706 | Time: 113.75 seconds\n",
      "Epoch: 20 | Train Loss: 0.01658 | Valid Loss: 0.23007 | Train Accs: 0.99436 | Valid Accs: 0.95277 | Time: 113.52 seconds\n",
      "Epoch: 21 | Train Loss: 0.02899 | Valid Loss: 0.22208 | Train Accs: 0.99064 | Valid Accs: 0.95277 | Time: 113.35 seconds\n",
      "Epoch: 22 | Train Loss: 0.02956 | Valid Loss: 0.18462 | Train Accs: 0.99328 | Valid Accs: 0.96135 | Time: 114.35 seconds\n",
      "Epoch: 23 | Train Loss: 0.00319 | Valid Loss: 0.19458 | Train Accs: 0.99892 | Valid Accs: 0.96326 | Time: 114.11 seconds\n",
      "Epoch: 24 | Train Loss: 0.00171 | Valid Loss: 0.19782 | Train Accs: 0.99952 | Valid Accs: 0.96326 | Time: 114.76 seconds\n",
      "Epoch: 25 | Train Loss: 0.00225 | Valid Loss: 0.19689 | Train Accs: 0.99952 | Valid Accs: 0.96469 | Time: 114.58 seconds\n",
      "Epoch: 26 | Train Loss: 0.00037 | Valid Loss: 0.20234 | Train Accs: 1.00000 | Valid Accs: 0.96469 | Time: 113.80 seconds\n",
      "Epoch: 27 | Train Loss: 0.00020 | Valid Loss: 0.20532 | Train Accs: 1.00000 | Valid Accs: 0.96469 | Time: 114.30 seconds\n",
      "Epoch: 28 | Train Loss: 0.00070 | Valid Loss: 0.20932 | Train Accs: 0.99988 | Valid Accs: 0.96660 | Time: 114.87 seconds\n",
      "Epoch: 29 | Train Loss: 0.00015 | Valid Loss: 0.21142 | Train Accs: 1.00000 | Valid Accs: 0.96708 | Time: 114.55 seconds\n",
      "Epoch: 30 | Train Loss: 0.00018 | Valid Loss: 0.21651 | Train Accs: 1.00000 | Valid Accs: 0.96613 | Time: 115.89 seconds\n",
      "Epoch: 31 | Train Loss: 0.00021 | Valid Loss: 0.21202 | Train Accs: 1.00000 | Valid Accs: 0.96708 | Time: 114.48 seconds\n",
      "Epoch: 32 | Train Loss: 0.00011 | Valid Loss: 0.21281 | Train Accs: 1.00000 | Valid Accs: 0.96565 | Time: 115.02 seconds\n",
      "Epoch: 33 | Train Loss: 0.00027 | Valid Loss: 0.21053 | Train Accs: 1.00000 | Valid Accs: 0.96803 | Time: 114.70 seconds\n",
      "Epoch: 34 | Train Loss: 0.00013 | Valid Loss: 0.21387 | Train Accs: 1.00000 | Valid Accs: 0.96756 | Time: 114.40 seconds\n",
      "Epoch: 35 | Train Loss: 0.00014 | Valid Loss: 0.20630 | Train Accs: 1.00000 | Valid Accs: 0.96565 | Time: 114.54 seconds\n",
      "\n",
      "**************************************************\n",
      "\n",
      "Best Validation Loss at Epoch 18\n",
      "\n",
      "**************************************************\n",
      "\n",
      "Best Validation Accs at Epoch 33\n",
      "\n",
      "**************************************************\n",
      "\n",
      "Time Taken [35 Epochs] : 66.73 minutes\n",
      "\n",
      "**************************************************\n",
      "\n"
     ]
    },
    {
     "data": {
      "image/png": "[encoded data removed]",
      "text/plain": [
       "<Figure size 432x288 with 1 Axes>"
      ]
     },
     "metadata": {
      "needs_background": "light"
     },
     "output_type": "display_data"
    },
    {
     "name": "stdout",
     "output_type": "stream",
     "text": [
      "\n",
      "**************************************************\n",
      "\n"
     ]
    },
    {
     "data": {
      "image/png": "[encoded data removed]",
      "text/plain": [
       "<Figure size 432x288 with 1 Axes>"
      ]
     },
     "metadata": {
      "needs_background": "light"
     },
     "output_type": "display_data"
    },
    {
     "name": "stdout",
     "output_type": "stream",
     "text": [
      "\n",
      "**************************************************\n",
      "\n"
     ]
    },
    {
     "data": {
      "image/png": "[encoded data removed]",
      "text/plain": [
       "<Figure size 576x432 with 1 Axes>"
      ]
     },
     "metadata": {
      "needs_background": "light"
     },
     "output_type": "display_data"
    },
    {
     "name": "stdout",
     "output_type": "stream",
     "text": [
      "\n",
      "**************************************************\n",
      "\n"
     ]
    }
   ],
   "source": [
    "for tr_idx, va_idx in StratifiedKFold(n_splits=cfg.n_splits, random_state=cfg.seed, shuffle=True).split(images, labels):\n",
    "    break\n",
    "\n",
    "tr_images, va_images, tr_labels, va_labels = images[tr_idx], images[va_idx], labels[tr_idx], labels[va_idx]\n",
    "\n",
    "tr_data_setup = DS(tr_images, tr_labels.reshape(-1, 1), cfg.transform)\n",
    "va_data_setup = DS(va_images, va_labels.reshape(-1, 1), cfg.transform)\n",
    "\n",
    "dataloaders = {\n",
    "    \"train\" : DL(tr_data_setup, batch_size=cfg.batch_size, shuffle=True, generator=torch.manual_seed(cfg.seed)),\n",
    "    \"valid\" : DL(va_data_setup, batch_size=cfg.batch_size, shuffle=False),\n",
    "}\n",
    "\n",
    "cfg = CFG(epochs=35, batch_size=64, steps_per_epoch=len(dataloaders[\"train\"]))\n",
    "\n",
    "torch.manual_seed(cfg.seed)\n",
    "model = Model().to(cfg.device)\n",
    "optimizer = optim.Adam([p for p in model.parameters() if p.requires_grad], lr=cfg.lr, weight_decay=cfg.wd)\n",
    "scheduler_oclr = optim.lr_scheduler.OneCycleLR(optimizer=optimizer, \n",
    "                                               max_lr=cfg.max_lr, \n",
    "                                               epochs=cfg.epochs, \n",
    "                                               steps_per_epoch=cfg.steps_per_epoch,\n",
    "                                               pct_start=cfg.pct_start, \n",
    "                                               div_factor=cfg.div_factor, \n",
    "                                               final_div_factor=cfg.final_div_factor)\n",
    "# scheduler_rlrop = optim.lr_scheduler.ReduceLROnPlateau(optimizer=optimizer,\n",
    "#                                                       patience=cfg.patience,\n",
    "#                                                       eps=cfg.eps,\n",
    "#                                                       verbose=True)\n",
    "\n",
    "# scheduler_oclr = None\n",
    "scheduler_rlrop = None\n",
    "\n",
    "L, A, LR, BLE, BAE, _, _ = fit(model=model, \n",
    "                               optimizer=optimizer, \n",
    "                               scheduler_oclr=scheduler_oclr,\n",
    "                               scheduler_rlrop=scheduler_rlrop,\n",
    "                               epochs=cfg.epochs, \n",
    "                               early_stopping_patience=None, \n",
    "                               dataloaders=dataloaders, \n",
    "                               device=cfg.device,\n",
    "                               save_path=cfg.save_path,\n",
    "                               fold=None,\n",
    "                               verbose=True)\n",
    "\n",
    "breaker()\n",
    "show_loss_graphs(L)\n",
    "breaker()\n",
    "show_accuracy_graphs(A)\n",
    "breaker()\n",
    "\n",
    "if scheduler_oclr:\n",
    "    show_lr_graph(LR)\n",
    "    breaker()"
   ]
  }
 ],
 "metadata": {
  "kernelspec": {
   "display_name": "Python 3",
   "language": "python",
   "name": "python3"
  },
  "language_info": {
   "codemirror_mode": {
    "name": "ipython",
    "version": 3
   },
   "file_extension": ".py",
   "mimetype": "text/x-python",
   "name": "python",
   "nbconvert_exporter": "python",
   "pygments_lexer": "ipython3",
   "version": "3.7.12"
  },
  "papermill": {
   "default_parameters": {},
   "duration": 4089.001464,
   "end_time": "2022-06-19T08:32:52.561891",
   "environment_variables": {},
   "exception": null,
   "input_path": "__notebook__.ipynb",
   "output_path": "__notebook__.ipynb",
   "parameters": {},
   "start_time": "2022-06-19T07:24:43.560427",
   "version": "2.3.4"
  }
 },
 "nbformat": 4,
 "nbformat_minor": 5
}
