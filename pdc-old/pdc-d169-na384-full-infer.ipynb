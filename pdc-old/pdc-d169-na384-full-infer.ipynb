{
 "cells": [
  {
   "cell_type": "markdown",
   "id": "00145847",
   "metadata": {
    "papermill": {
     "duration": 0.004754,
     "end_time": "2022-06-16T18:16:31.012190",
     "exception": false,
     "start_time": "2022-06-16T18:16:31.007436",
     "status": "completed"
    },
    "tags": []
   },
   "source": [
    "### **Library Imports**"
   ]
  },
  {
   "cell_type": "code",
   "execution_count": 1,
   "id": "8a6c9618",
   "metadata": {
    "execution": {
     "iopub.execute_input": "2022-06-16T18:16:31.023719Z",
     "iopub.status.busy": "2022-06-16T18:16:31.023188Z",
     "iopub.status.idle": "2022-06-16T18:16:33.986949Z",
     "shell.execute_reply": "2022-06-16T18:16:33.986064Z"
    },
    "papermill": {
     "duration": 2.971057,
     "end_time": "2022-06-16T18:16:33.989513",
     "exception": false,
     "start_time": "2022-06-16T18:16:31.018456",
     "status": "completed"
    },
    "tags": []
   },
   "outputs": [],
   "source": [
    "import os\n",
    "import re\n",
    "import cv2\n",
    "import torch\n",
    "import numpy as np\n",
    "import pandas as pd\n",
    "import matplotlib.pyplot as plt\n",
    "\n",
    "from time import time\n",
    "from torch import nn, optim\n",
    "from torch.utils.data import Dataset\n",
    "from torch.utils.data import DataLoader as DL\n",
    "from torchvision import models, transforms\n",
    "\n",
    "from sklearn.preprocessing import LabelEncoder"
   ]
  },
  {
   "cell_type": "markdown",
   "id": "9c3dd042",
   "metadata": {
    "papermill": {
     "duration": 0.003409,
     "end_time": "2022-06-16T18:16:33.996470",
     "exception": false,
     "start_time": "2022-06-16T18:16:33.993061",
     "status": "completed"
    },
    "tags": []
   },
   "source": [
    "### **Utilities and Helpers**"
   ]
  },
  {
   "cell_type": "code",
   "execution_count": 2,
   "id": "e407c5ef",
   "metadata": {
    "execution": {
     "iopub.execute_input": "2022-06-16T18:16:34.004464Z",
     "iopub.status.busy": "2022-06-16T18:16:34.003688Z",
     "iopub.status.idle": "2022-06-16T18:16:34.067238Z",
     "shell.execute_reply": "2022-06-16T18:16:34.066480Z"
    },
    "papermill": {
     "duration": 0.069541,
     "end_time": "2022-06-16T18:16:34.069170",
     "exception": false,
     "start_time": "2022-06-16T18:16:33.999629",
     "status": "completed"
    },
    "tags": []
   },
   "outputs": [],
   "source": [
    "SEED = 42\n",
    "SIZE = 384\n",
    "TRANSFORM = transforms.Compose([transforms.ToTensor(),\n",
    "                                transforms.Normalize([0.49699, 0.58823, 0.23049],\n",
    "                                                     [0.22591, 0.22614, 0.18264]),\n",
    "                                ])\n",
    "MODEL_PATH = f\"../input/pdc-d169-na{SIZE}-full/saves/state.pt\"\n",
    "DEVICE = torch.device(\"cuda\" if torch.cuda.is_available() else \"cpu\")\n",
    "\n",
    "le = LabelEncoder()\n",
    "\n",
    "\n",
    "def breaker(num: int=50, char: str=\"*\") -> None:\n",
    "    print(\"\\n\" + num*char + \"\\n\")\n",
    "\n",
    "\n",
    "def get_image(path: str, size: int=224) -> np.ndarray:\n",
    "    return cv2.resize(src=cv2.cvtColor(src=cv2.imread(path, cv2.IMREAD_COLOR), code=cv2.COLOR_BGR2RGB), dsize=(size, size), interpolation=cv2.INTER_AREA)"
   ]
  },
  {
   "cell_type": "markdown",
   "id": "47f84acd",
   "metadata": {
    "papermill": {
     "duration": 0.003122,
     "end_time": "2022-06-16T18:16:34.075426",
     "exception": false,
     "start_time": "2022-06-16T18:16:34.072304",
     "status": "completed"
    },
    "tags": []
   },
   "source": [
    "### **Configuration**"
   ]
  },
  {
   "cell_type": "markdown",
   "id": "2df1e163",
   "metadata": {
    "papermill": {
     "duration": 0.003077,
     "end_time": "2022-06-16T18:16:34.081495",
     "exception": false,
     "start_time": "2022-06-16T18:16:34.078418",
     "status": "completed"
    },
    "tags": []
   },
   "source": [
    "### **Dataset Template**"
   ]
  },
  {
   "cell_type": "code",
   "execution_count": 3,
   "id": "e48ab601",
   "metadata": {
    "execution": {
     "iopub.execute_input": "2022-06-16T18:16:34.088943Z",
     "iopub.status.busy": "2022-06-16T18:16:34.088658Z",
     "iopub.status.idle": "2022-06-16T18:16:34.094650Z",
     "shell.execute_reply": "2022-06-16T18:16:34.093813Z"
    },
    "papermill": {
     "duration": 0.01164,
     "end_time": "2022-06-16T18:16:34.096458",
     "exception": false,
     "start_time": "2022-06-16T18:16:34.084818",
     "status": "completed"
    },
    "tags": []
   },
   "outputs": [],
   "source": [
    "class DS(Dataset):\n",
    "    def __init__(self, base_path: str, filenames: np.ndarray, size: int=224, transform=None):\n",
    "        self.base_path = base_path\n",
    "        self.filenames = filenames\n",
    "        self.size = size\n",
    "        self.transform = transform\n",
    "    \n",
    "    def __len__(self):\n",
    "        return self.filenames.shape[0]\n",
    "    \n",
    "    def __getitem__(self, idx):\n",
    "        return self.transform(get_image(os.path.join(self.base_path, self.filenames[idx]), size=self.size))"
   ]
  },
  {
   "cell_type": "markdown",
   "id": "ad078b9d",
   "metadata": {
    "papermill": {
     "duration": 0.002879,
     "end_time": "2022-06-16T18:16:34.102344",
     "exception": false,
     "start_time": "2022-06-16T18:16:34.099465",
     "status": "completed"
    },
    "tags": []
   },
   "source": [
    "### **Model**"
   ]
  },
  {
   "cell_type": "code",
   "execution_count": 4,
   "id": "ec744fc5",
   "metadata": {
    "execution": {
     "iopub.execute_input": "2022-06-16T18:16:34.109567Z",
     "iopub.status.busy": "2022-06-16T18:16:34.109244Z",
     "iopub.status.idle": "2022-06-16T18:16:34.115361Z",
     "shell.execute_reply": "2022-06-16T18:16:34.114604Z"
    },
    "papermill": {
     "duration": 0.011441,
     "end_time": "2022-06-16T18:16:34.116929",
     "exception": false,
     "start_time": "2022-06-16T18:16:34.105488",
     "status": "completed"
    },
    "tags": []
   },
   "outputs": [],
   "source": [
    "class Model(nn.Module):\n",
    "    def __init__(self):\n",
    "        super(Model, self).__init__()\n",
    "\n",
    "        self.model = models.densenet169(pretrained=True, progress=True)\n",
    "        # self.freeze()\n",
    "        self.model.classifier = nn.Linear(in_features=self.model.classifier.in_features, out_features=10)\n",
    "    \n",
    "    def freeze(self):\n",
    "        for params in self.parameters(): params.requires_grad = False\n",
    "\n",
    "    def forward(self, x):\n",
    "        return nn.LogSoftmax(dim=1)(self.model(x))"
   ]
  },
  {
   "cell_type": "markdown",
   "id": "87befc52",
   "metadata": {
    "papermill": {
     "duration": 0.002883,
     "end_time": "2022-06-16T18:16:34.122808",
     "exception": false,
     "start_time": "2022-06-16T18:16:34.119925",
     "status": "completed"
    },
    "tags": []
   },
   "source": [
    "### **Predict Helpers**"
   ]
  },
  {
   "cell_type": "code",
   "execution_count": 5,
   "id": "475b8c1f",
   "metadata": {
    "execution": {
     "iopub.execute_input": "2022-06-16T18:16:34.129747Z",
     "iopub.status.busy": "2022-06-16T18:16:34.129476Z",
     "iopub.status.idle": "2022-06-16T18:16:34.135623Z",
     "shell.execute_reply": "2022-06-16T18:16:34.134934Z"
    },
    "papermill": {
     "duration": 0.011571,
     "end_time": "2022-06-16T18:16:34.137362",
     "exception": false,
     "start_time": "2022-06-16T18:16:34.125791",
     "status": "completed"
    },
    "tags": []
   },
   "outputs": [],
   "source": [
    "def predict_batch(model=None, dataloader=None, path=None, device=None) -> np.ndarray:\n",
    "    model.load_state_dict(torch.load(path, map_location=device)[\"model_state_dict\"])\n",
    "    model.to(device)    \n",
    "    model.eval()\n",
    "    \n",
    "    y_pred = torch.zeros(1, 1).to(device)\n",
    "    \n",
    "    for X in dataloader:\n",
    "        X = X.to(device)\n",
    "        with torch.no_grad():\n",
    "            output = torch.argmax(torch.exp(model(X)), dim=1)\n",
    "        y_pred = torch.cat((y_pred, output.view(-1, 1)), dim=0)\n",
    "    \n",
    "    return y_pred[1:].detach().cpu().numpy()"
   ]
  },
  {
   "cell_type": "markdown",
   "id": "d3fe4b08",
   "metadata": {
    "papermill": {
     "duration": 0.002836,
     "end_time": "2022-06-16T18:16:34.143150",
     "exception": false,
     "start_time": "2022-06-16T18:16:34.140314",
     "status": "completed"
    },
    "tags": []
   },
   "source": [
    "### **Submission**"
   ]
  },
  {
   "cell_type": "code",
   "execution_count": 6,
   "id": "4684871a",
   "metadata": {
    "execution": {
     "iopub.execute_input": "2022-06-16T18:16:34.150234Z",
     "iopub.status.busy": "2022-06-16T18:16:34.149993Z",
     "iopub.status.idle": "2022-06-16T18:17:51.565189Z",
     "shell.execute_reply": "2022-06-16T18:17:51.564412Z"
    },
    "papermill": {
     "duration": 77.421303,
     "end_time": "2022-06-16T18:17:51.567445",
     "exception": false,
     "start_time": "2022-06-16T18:16:34.146142",
     "status": "completed"
    },
    "tags": []
   },
   "outputs": [
    {
     "name": "stderr",
     "output_type": "stream",
     "text": [
      "Downloading: \"https://download.pytorch.org/models/densenet169-b2777c0a.pth\" to /root/.cache/torch/hub/checkpoints/densenet169-b2777c0a.pth\n"
     ]
    },
    {
     "data": {
      "application/vnd.jupyter.widget-view+json": {
       "model_id": "cd0d202da9b74592972f6ce27d9dca58",
       "version_major": 2,
       "version_minor": 0
      },
      "text/plain": [
       "  0%|          | 0.00/54.7M [00:00<?, ?B/s]"
      ]
     },
     "metadata": {},
     "output_type": "display_data"
    }
   ],
   "source": [
    "df = pd.read_csv(\"../input/paddy-disease-classification/train.csv\")\n",
    "ss_df = pd.read_csv(\"../input/paddy-disease-classification/sample_submission.csv\")\n",
    "\n",
    "labels = df.label.copy().values\n",
    "labels = le.fit_transform(labels)\n",
    "\n",
    "ts_data_setup = DS(base_path=\"../input/paddy-disease-classification/test_images\", \n",
    "                   filenames=ss_df.image_id.copy().values,\n",
    "                   size=SIZE,\n",
    "                   transform=TRANSFORM)\n",
    "ts_data = DL(ts_data_setup, batch_size=64, shuffle=False)\n",
    "\n",
    "model = Model().to(DEVICE)\n",
    "\n",
    "y_pred = predict_batch(model=model, \n",
    "                       dataloader=ts_data, \n",
    "                       path=MODEL_PATH,\n",
    "                       device=DEVICE)\n",
    "\n",
    "ss_df[\"label\"] = le.inverse_transform(y_pred.astype(\"uint8\").reshape(-1))\n",
    "ss_df.to_csv(\"submission.csv\", index=False)"
   ]
  }
 ],
 "metadata": {
  "kernelspec": {
   "display_name": "Python 3",
   "language": "python",
   "name": "python3"
  },
  "language_info": {
   "codemirror_mode": {
    "name": "ipython",
    "version": 3
   },
   "file_extension": ".py",
   "mimetype": "text/x-python",
   "name": "python",
   "nbconvert_exporter": "python",
   "pygments_lexer": "ipython3",
   "version": "3.7.12"
  },
  "papermill": {
   "default_parameters": {},
   "duration": 89.838491,
   "end_time": "2022-06-16T18:17:52.993953",
   "environment_variables": {},
   "exception": null,
   "input_path": "__notebook__.ipynb",
   "output_path": "__notebook__.ipynb",
   "parameters": {},
   "start_time": "2022-06-16T18:16:23.155462",
   "version": "2.3.4"
  },
  "widgets": {
   "application/vnd.jupyter.widget-state+json": {
    "state": {
     "1d9b42613412422889eeee7cba2953da": {
      "model_module": "@jupyter-widgets/controls",
      "model_module_version": "1.5.0",
      "model_name": "ProgressStyleModel",
      "state": {
       "_model_module": "@jupyter-widgets/controls",
       "_model_module_version": "1.5.0",
       "_model_name": "ProgressStyleModel",
       "_view_count": null,
       "_view_module": "@jupyter-widgets/base",
       "_view_module_version": "1.2.0",
       "_view_name": "StyleView",
       "bar_color": null,
       "description_width": ""
      }
     },
     "2f370e4a35af4f0dbd731b5f7aecfa10": {
      "model_module": "@jupyter-widgets/controls",
      "model_module_version": "1.5.0",
      "model_name": "FloatProgressModel",
      "state": {
       "_dom_classes": [],
       "_model_module": "@jupyter-widgets/controls",
       "_model_module_version": "1.5.0",
       "_model_name": "FloatProgressModel",
       "_view_count": null,
       "_view_module": "@jupyter-widgets/controls",
       "_view_module_version": "1.5.0",
       "_view_name": "ProgressView",
       "bar_style": "success",
       "description": "",
       "description_tooltip": null,
       "layout": "IPY_MODEL_808560fce6294589903c4826e66c9921",
       "max": 57365526.0,
       "min": 0.0,
       "orientation": "horizontal",
       "style": "IPY_MODEL_1d9b42613412422889eeee7cba2953da",
       "value": 57365526.0
      }
     },
     "36c040a61a54469cab27f827e5fd0595": {
      "model_module": "@jupyter-widgets/controls",
      "model_module_version": "1.5.0",
      "model_name": "DescriptionStyleModel",
      "state": {
       "_model_module": "@jupyter-widgets/controls",
       "_model_module_version": "1.5.0",
       "_model_name": "DescriptionStyleModel",
       "_view_count": null,
       "_view_module": "@jupyter-widgets/base",
       "_view_module_version": "1.2.0",
       "_view_name": "StyleView",
       "description_width": ""
      }
     },
     "43c67994b3284849be2a7b3d726fc2a2": {
      "model_module": "@jupyter-widgets/controls",
      "model_module_version": "1.5.0",
      "model_name": "HTMLModel",
      "state": {
       "_dom_classes": [],
       "_model_module": "@jupyter-widgets/controls",
       "_model_module_version": "1.5.0",
       "_model_name": "HTMLModel",
       "_view_count": null,
       "_view_module": "@jupyter-widgets/controls",
       "_view_module_version": "1.5.0",
       "_view_name": "HTMLView",
       "description": "",
       "description_tooltip": null,
       "layout": "IPY_MODEL_6c14030e87354389b5dedf63191e364a",
       "placeholder": "​",
       "style": "IPY_MODEL_77e053a10fbf45d8a4aee3345f3d7309",
       "value": "100%"
      }
     },
     "57975c9a02d147189e33aeb81566b9c7": {
      "model_module": "@jupyter-widgets/base",
      "model_module_version": "1.2.0",
      "model_name": "LayoutModel",
      "state": {
       "_model_module": "@jupyter-widgets/base",
       "_model_module_version": "1.2.0",
       "_model_name": "LayoutModel",
       "_view_count": null,
       "_view_module": "@jupyter-widgets/base",
       "_view_module_version": "1.2.0",
       "_view_name": "LayoutView",
       "align_content": null,
       "align_items": null,
       "align_self": null,
       "border": null,
       "bottom": null,
       "display": null,
       "flex": null,
       "flex_flow": null,
       "grid_area": null,
       "grid_auto_columns": null,
       "grid_auto_flow": null,
       "grid_auto_rows": null,
       "grid_column": null,
       "grid_gap": null,
       "grid_row": null,
       "grid_template_areas": null,
       "grid_template_columns": null,
       "grid_template_rows": null,
       "height": null,
       "justify_content": null,
       "justify_items": null,
       "left": null,
       "margin": null,
       "max_height": null,
       "max_width": null,
       "min_height": null,
       "min_width": null,
       "object_fit": null,
       "object_position": null,
       "order": null,
       "overflow": null,
       "overflow_x": null,
       "overflow_y": null,
       "padding": null,
       "right": null,
       "top": null,
       "visibility": null,
       "width": null
      }
     },
     "6c14030e87354389b5dedf63191e364a": {
      "model_module": "@jupyter-widgets/base",
      "model_module_version": "1.2.0",
      "model_name": "LayoutModel",
      "state": {
       "_model_module": "@jupyter-widgets/base",
       "_model_module_version": "1.2.0",
       "_model_name": "LayoutModel",
       "_view_count": null,
       "_view_module": "@jupyter-widgets/base",
       "_view_module_version": "1.2.0",
       "_view_name": "LayoutView",
       "align_content": null,
       "align_items": null,
       "align_self": null,
       "border": null,
       "bottom": null,
       "display": null,
       "flex": null,
       "flex_flow": null,
       "grid_area": null,
       "grid_auto_columns": null,
       "grid_auto_flow": null,
       "grid_auto_rows": null,
       "grid_column": null,
       "grid_gap": null,
       "grid_row": null,
       "grid_template_areas": null,
       "grid_template_columns": null,
       "grid_template_rows": null,
       "height": null,
       "justify_content": null,
       "justify_items": null,
       "left": null,
       "margin": null,
       "max_height": null,
       "max_width": null,
       "min_height": null,
       "min_width": null,
       "object_fit": null,
       "object_position": null,
       "order": null,
       "overflow": null,
       "overflow_x": null,
       "overflow_y": null,
       "padding": null,
       "right": null,
       "top": null,
       "visibility": null,
       "width": null
      }
     },
     "77e053a10fbf45d8a4aee3345f3d7309": {
      "model_module": "@jupyter-widgets/controls",
      "model_module_version": "1.5.0",
      "model_name": "DescriptionStyleModel",
      "state": {
       "_model_module": "@jupyter-widgets/controls",
       "_model_module_version": "1.5.0",
       "_model_name": "DescriptionStyleModel",
       "_view_count": null,
       "_view_module": "@jupyter-widgets/base",
       "_view_module_version": "1.2.0",
       "_view_name": "StyleView",
       "description_width": ""
      }
     },
     "808560fce6294589903c4826e66c9921": {
      "model_module": "@jupyter-widgets/base",
      "model_module_version": "1.2.0",
      "model_name": "LayoutModel",
      "state": {
       "_model_module": "@jupyter-widgets/base",
       "_model_module_version": "1.2.0",
       "_model_name": "LayoutModel",
       "_view_count": null,
       "_view_module": "@jupyter-widgets/base",
       "_view_module_version": "1.2.0",
       "_view_name": "LayoutView",
       "align_content": null,
       "align_items": null,
       "align_self": null,
       "border": null,
       "bottom": null,
       "display": null,
       "flex": null,
       "flex_flow": null,
       "grid_area": null,
       "grid_auto_columns": null,
       "grid_auto_flow": null,
       "grid_auto_rows": null,
       "grid_column": null,
       "grid_gap": null,
       "grid_row": null,
       "grid_template_areas": null,
       "grid_template_columns": null,
       "grid_template_rows": null,
       "height": null,
       "justify_content": null,
       "justify_items": null,
       "left": null,
       "margin": null,
       "max_height": null,
       "max_width": null,
       "min_height": null,
       "min_width": null,
       "object_fit": null,
       "object_position": null,
       "order": null,
       "overflow": null,
       "overflow_x": null,
       "overflow_y": null,
       "padding": null,
       "right": null,
       "top": null,
       "visibility": null,
       "width": null
      }
     },
     "cd0d202da9b74592972f6ce27d9dca58": {
      "model_module": "@jupyter-widgets/controls",
      "model_module_version": "1.5.0",
      "model_name": "HBoxModel",
      "state": {
       "_dom_classes": [],
       "_model_module": "@jupyter-widgets/controls",
       "_model_module_version": "1.5.0",
       "_model_name": "HBoxModel",
       "_view_count": null,
       "_view_module": "@jupyter-widgets/controls",
       "_view_module_version": "1.5.0",
       "_view_name": "HBoxView",
       "box_style": "",
       "children": [
        "IPY_MODEL_43c67994b3284849be2a7b3d726fc2a2",
        "IPY_MODEL_2f370e4a35af4f0dbd731b5f7aecfa10",
        "IPY_MODEL_f330c34736ed491bb9e627488d74721b"
       ],
       "layout": "IPY_MODEL_d04b80c568eb4b2b95abb47694bec2d6"
      }
     },
     "d04b80c568eb4b2b95abb47694bec2d6": {
      "model_module": "@jupyter-widgets/base",
      "model_module_version": "1.2.0",
      "model_name": "LayoutModel",
      "state": {
       "_model_module": "@jupyter-widgets/base",
       "_model_module_version": "1.2.0",
       "_model_name": "LayoutModel",
       "_view_count": null,
       "_view_module": "@jupyter-widgets/base",
       "_view_module_version": "1.2.0",
       "_view_name": "LayoutView",
       "align_content": null,
       "align_items": null,
       "align_self": null,
       "border": null,
       "bottom": null,
       "display": null,
       "flex": null,
       "flex_flow": null,
       "grid_area": null,
       "grid_auto_columns": null,
       "grid_auto_flow": null,
       "grid_auto_rows": null,
       "grid_column": null,
       "grid_gap": null,
       "grid_row": null,
       "grid_template_areas": null,
       "grid_template_columns": null,
       "grid_template_rows": null,
       "height": null,
       "justify_content": null,
       "justify_items": null,
       "left": null,
       "margin": null,
       "max_height": null,
       "max_width": null,
       "min_height": null,
       "min_width": null,
       "object_fit": null,
       "object_position": null,
       "order": null,
       "overflow": null,
       "overflow_x": null,
       "overflow_y": null,
       "padding": null,
       "right": null,
       "top": null,
       "visibility": null,
       "width": null
      }
     },
     "f330c34736ed491bb9e627488d74721b": {
      "model_module": "@jupyter-widgets/controls",
      "model_module_version": "1.5.0",
      "model_name": "HTMLModel",
      "state": {
       "_dom_classes": [],
       "_model_module": "@jupyter-widgets/controls",
       "_model_module_version": "1.5.0",
       "_model_name": "HTMLModel",
       "_view_count": null,
       "_view_module": "@jupyter-widgets/controls",
       "_view_module_version": "1.5.0",
       "_view_name": "HTMLView",
       "description": "",
       "description_tooltip": null,
       "layout": "IPY_MODEL_57975c9a02d147189e33aeb81566b9c7",
       "placeholder": "​",
       "style": "IPY_MODEL_36c040a61a54469cab27f827e5fd0595",
       "value": " 54.7M/54.7M [00:03&lt;00:00, 23.8MB/s]"
      }
     }
    },
    "version_major": 2,
    "version_minor": 0
   }
  }
 },
 "nbformat": 4,
 "nbformat_minor": 5
}
