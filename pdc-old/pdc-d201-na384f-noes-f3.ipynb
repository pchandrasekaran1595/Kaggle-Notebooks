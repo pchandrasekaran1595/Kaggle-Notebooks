{
 "cells": [
  {
   "cell_type": "markdown",
   "id": "98551835",
   "metadata": {
    "_cell_guid": "b1076dfc-b9ad-4769-8c92-a6c4dae69d19",
    "_uuid": "8f2839f25d086af736a60e9eeb907d3b93b6e0e5",
    "papermill": {
     "duration": 0.004811,
     "end_time": "2022-06-24T23:53:39.969260",
     "exception": false,
     "start_time": "2022-06-24T23:53:39.964449",
     "status": "completed"
    },
    "tags": []
   },
   "source": [
    "### **Library Imports**"
   ]
  },
  {
   "cell_type": "code",
   "execution_count": 1,
   "id": "04762475",
   "metadata": {
    "execution": {
     "iopub.execute_input": "2022-06-24T23:53:39.979862Z",
     "iopub.status.busy": "2022-06-24T23:53:39.978984Z",
     "iopub.status.idle": "2022-06-24T23:53:43.308907Z",
     "shell.execute_reply": "2022-06-24T23:53:43.307972Z"
    },
    "papermill": {
     "duration": 3.338233,
     "end_time": "2022-06-24T23:53:43.311821",
     "exception": false,
     "start_time": "2022-06-24T23:53:39.973588",
     "status": "completed"
    },
    "tags": []
   },
   "outputs": [],
   "source": [
    "import os\n",
    "import re\n",
    "import torch\n",
    "import numpy as np\n",
    "import pandas as pd\n",
    "import matplotlib.pyplot as plt\n",
    "\n",
    "from time import time\n",
    "from torch import nn, optim\n",
    "from torch.utils.data import Dataset\n",
    "from torch.utils.data import DataLoader as DL\n",
    "from torchvision import models, transforms\n",
    "\n",
    "from sklearn.model_selection import StratifiedKFold\n",
    "from sklearn.preprocessing import LabelEncoder\n",
    "from sklearn.metrics import accuracy_score"
   ]
  },
  {
   "cell_type": "markdown",
   "id": "c2052d2b",
   "metadata": {
    "papermill": {
     "duration": 0.004102,
     "end_time": "2022-06-24T23:53:43.320509",
     "exception": false,
     "start_time": "2022-06-24T23:53:43.316407",
     "status": "completed"
    },
    "tags": []
   },
   "source": [
    "### **Utilities and Helpers**"
   ]
  },
  {
   "cell_type": "code",
   "execution_count": 2,
   "id": "3f3367f7",
   "metadata": {
    "execution": {
     "iopub.execute_input": "2022-06-24T23:53:43.331807Z",
     "iopub.status.busy": "2022-06-24T23:53:43.330891Z",
     "iopub.status.idle": "2022-06-24T23:53:43.346481Z",
     "shell.execute_reply": "2022-06-24T23:53:43.345679Z"
    },
    "papermill": {
     "duration": 0.023164,
     "end_time": "2022-06-24T23:53:43.348536",
     "exception": false,
     "start_time": "2022-06-24T23:53:43.325372",
     "status": "completed"
    },
    "tags": []
   },
   "outputs": [],
   "source": [
    "SEED = 42\n",
    "SIZE = 384\n",
    "le = LabelEncoder()\n",
    "\n",
    "\n",
    "def breaker(num: int=50, char: str=\"*\") -> None:\n",
    "    print(\"\\n\" + num*char + \"\\n\")\n",
    "\n",
    "    \n",
    "def show_loss_graphs(A: list) -> None:\n",
    "    TL, VL = [], []\n",
    "    for i in range(len(L)):\n",
    "        TL.append(L[i][\"train\"])\n",
    "        VL.append(L[i][\"valid\"])\n",
    "    x_Axis = np.arange(1, len(TL) + 1)\n",
    "    plt.figure()\n",
    "    plt.plot(x_Axis, TL, \"r\", label=\"Train\")\n",
    "    plt.plot(x_Axis, VL, \"b\", label=\"Valid\")\n",
    "    plt.legend()\n",
    "    plt.grid()\n",
    "    plt.title(\"Loss Graph\")\n",
    "    plt.show()\n",
    "\n",
    "    \n",
    "def show_accuracy_graphs(A: list) -> None:\n",
    "    TA, VA = [], []\n",
    "    for i in range(len(L)):\n",
    "        TA.append(A[i][\"train\"])\n",
    "        VA.append(A[i][\"valid\"])\n",
    "    x_Axis = np.arange(1, len(TA) + 1)\n",
    "    plt.figure()\n",
    "    plt.plot(x_Axis, TA, \"r\", label=\"Train\")\n",
    "    plt.plot(x_Axis, VA, \"b\", label=\"Valid\")\n",
    "    plt.legend()\n",
    "    plt.grid()\n",
    "    plt.title(\"Accuracy Graph\")\n",
    "    plt.show()\n",
    "\n",
    "\n",
    "def show_lr_graph(LR: list) -> None:\n",
    "    x_Axis = [i+1 for i in range(len(LR))]\n",
    "    plt.figure(figsize=(8, 6))\n",
    "    plt.plot(x_Axis, LR, \"rx\")\n",
    "    plt.grid()\n",
    "    plt.show()"
   ]
  },
  {
   "cell_type": "markdown",
   "id": "fe7acefe",
   "metadata": {
    "papermill": {
     "duration": 0.004423,
     "end_time": "2022-06-24T23:53:43.357615",
     "exception": false,
     "start_time": "2022-06-24T23:53:43.353192",
     "status": "completed"
    },
    "tags": []
   },
   "source": [
    "### **Configuration**"
   ]
  },
  {
   "cell_type": "code",
   "execution_count": 3,
   "id": "20dfd43b",
   "metadata": {
    "execution": {
     "iopub.execute_input": "2022-06-24T23:53:43.367924Z",
     "iopub.status.busy": "2022-06-24T23:53:43.367077Z",
     "iopub.status.idle": "2022-06-24T23:53:43.440327Z",
     "shell.execute_reply": "2022-06-24T23:53:43.439382Z"
    },
    "papermill": {
     "duration": 0.081127,
     "end_time": "2022-06-24T23:53:43.442797",
     "exception": false,
     "start_time": "2022-06-24T23:53:43.361670",
     "status": "completed"
    },
    "tags": []
   },
   "outputs": [],
   "source": [
    "class CFG(object):\n",
    "    def __init__(self, \n",
    "                 seed: int = 42,\n",
    "                 n_splits: int = 5,\n",
    "                 batch_size: int = 16,\n",
    "                 epochs: int = 25,\n",
    "                 early_stopping: int = 5,\n",
    "                 lr: float = 1e-4,\n",
    "                 wd: float = 0.0,\n",
    "                 max_lr: float = 1e-3,\n",
    "                 pct_start: float = 0.2,\n",
    "                 steps_per_epoch: int = 100,\n",
    "                 div_factor: int = 1e3, \n",
    "                 final_div_factor: float = 1e3,\n",
    "                 ):\n",
    "        \n",
    "        self.seed = seed\n",
    "        self.n_splits = n_splits\n",
    "        self.batch_size = batch_size\n",
    "        self.epochs = epochs\n",
    "        self.early_stopping = early_stopping\n",
    "        self.lr = lr\n",
    "        self.wd = wd\n",
    "        self.max_lr = max_lr\n",
    "        self.pct_start = pct_start\n",
    "        self.steps_per_epoch = steps_per_epoch\n",
    "        self.div_factor = div_factor\n",
    "        self.final_div_factor = final_div_factor\n",
    "        self.device = torch.device(\"cuda\" if torch.cuda.is_available() else \"cpu\")\n",
    "        self.transform = transforms.Compose([transforms.ToTensor(),\n",
    "                                transforms.Normalize([0.49699, 0.58823, 0.23049],\n",
    "                                                     [0.22591, 0.22614, 0.18264]),\n",
    "                                ])\n",
    "        self.save_path = \"saves\"\n",
    "        if not os.path.exists(self.save_path): os.makedirs(self.save_path)\n",
    "    \n",
    "cfg = CFG(seed=SEED)"
   ]
  },
  {
   "cell_type": "markdown",
   "id": "7ec877d1",
   "metadata": {
    "papermill": {
     "duration": 0.00407,
     "end_time": "2022-06-24T23:53:43.451195",
     "exception": false,
     "start_time": "2022-06-24T23:53:43.447125",
     "status": "completed"
    },
    "tags": []
   },
   "source": [
    "### **Dataset Template**"
   ]
  },
  {
   "cell_type": "code",
   "execution_count": 4,
   "id": "12c45fff",
   "metadata": {
    "execution": {
     "iopub.execute_input": "2022-06-24T23:53:43.460834Z",
     "iopub.status.busy": "2022-06-24T23:53:43.460436Z",
     "iopub.status.idle": "2022-06-24T23:53:43.467699Z",
     "shell.execute_reply": "2022-06-24T23:53:43.466779Z"
    },
    "papermill": {
     "duration": 0.014111,
     "end_time": "2022-06-24T23:53:43.469665",
     "exception": false,
     "start_time": "2022-06-24T23:53:43.455554",
     "status": "completed"
    },
    "tags": []
   },
   "outputs": [],
   "source": [
    "class DS(Dataset):\n",
    "    def __init__(self, images: np.ndarray, labels: np.ndarray = None, transform=None):\n",
    "        self.images = images\n",
    "        self.labels = labels\n",
    "        self.transform = transform\n",
    "    \n",
    "    def __len__(self):\n",
    "        return self.images.shape[0]\n",
    "    \n",
    "    def __getitem__(self, idx):\n",
    "        if self.labels is not None:\n",
    "            return self.transform(self.images[idx]), torch.LongTensor(self.labels[idx])\n",
    "        else:\n",
    "            return self.transform(self.images[idx])"
   ]
  },
  {
   "cell_type": "markdown",
   "id": "9df62fc4",
   "metadata": {
    "papermill": {
     "duration": 0.003877,
     "end_time": "2022-06-24T23:53:43.478074",
     "exception": false,
     "start_time": "2022-06-24T23:53:43.474197",
     "status": "completed"
    },
    "tags": []
   },
   "source": [
    "### **Model**"
   ]
  },
  {
   "cell_type": "code",
   "execution_count": 5,
   "id": "32d2e465",
   "metadata": {
    "execution": {
     "iopub.execute_input": "2022-06-24T23:53:43.487627Z",
     "iopub.status.busy": "2022-06-24T23:53:43.486987Z",
     "iopub.status.idle": "2022-06-24T23:53:43.494024Z",
     "shell.execute_reply": "2022-06-24T23:53:43.493175Z"
    },
    "papermill": {
     "duration": 0.013923,
     "end_time": "2022-06-24T23:53:43.495935",
     "exception": false,
     "start_time": "2022-06-24T23:53:43.482012",
     "status": "completed"
    },
    "tags": []
   },
   "outputs": [],
   "source": [
    "class Model(nn.Module):\n",
    "    def __init__(self):\n",
    "        super(Model, self).__init__()\n",
    "\n",
    "        self.model = models.densenet201(pretrained=True, progress=True)\n",
    "        # self.freeze()\n",
    "        self.model.classifier = nn.Linear(in_features=self.model.classifier.in_features, out_features=10)\n",
    "    \n",
    "    def freeze(self):\n",
    "        for params in self.parameters(): params.requires_grad = False\n",
    "\n",
    "    def forward(self, x):\n",
    "        return nn.LogSoftmax(dim=1)(self.model(x))"
   ]
  },
  {
   "cell_type": "markdown",
   "id": "d98ace5a",
   "metadata": {
    "papermill": {
     "duration": 0.004227,
     "end_time": "2022-06-24T23:53:43.504150",
     "exception": false,
     "start_time": "2022-06-24T23:53:43.499923",
     "status": "completed"
    },
    "tags": []
   },
   "source": [
    "### **Fit and Predict Helpers**"
   ]
  },
  {
   "cell_type": "code",
   "execution_count": 6,
   "id": "98413be2",
   "metadata": {
    "execution": {
     "iopub.execute_input": "2022-06-24T23:53:43.514335Z",
     "iopub.status.busy": "2022-06-24T23:53:43.513786Z",
     "iopub.status.idle": "2022-06-24T23:53:43.544138Z",
     "shell.execute_reply": "2022-06-24T23:53:43.543334Z"
    },
    "papermill": {
     "duration": 0.037583,
     "end_time": "2022-06-24T23:53:43.545932",
     "exception": false,
     "start_time": "2022-06-24T23:53:43.508349",
     "status": "completed"
    },
    "tags": []
   },
   "outputs": [],
   "source": [
    "def fit(model=None, \n",
    "        optimizer=None, \n",
    "        scheduler_rlrop=None,\n",
    "        scheduler_oclr=None,\n",
    "        epochs=None, \n",
    "        early_stopping_patience=None, \n",
    "        dataloaders=None, \n",
    "        fold=None, \n",
    "        save_path=None,\n",
    "        device=None,\n",
    "        verbose=False) -> tuple:\n",
    "    \n",
    "    def get_accuracy(y_pred, y_true):\n",
    "        y_pred = torch.argmax(y_pred, dim=1)\n",
    "        return torch.count_nonzero(y_pred == y_true).item() / len(y_pred)\n",
    "    \n",
    "    if verbose:\n",
    "        breaker()\n",
    "        if fold: print(f\"Training Fold {fold}...\")\n",
    "        else: print(\"Training ...\")\n",
    "        breaker()\n",
    "        \n",
    "    bestLoss, bestAccs = {\"train\" : np.inf, \"valid\" : np.inf}, {\"train\" : 0.0, \"valid\" : 0.0}\n",
    "    Losses, Accuracies, LRs = [], [], []\n",
    "    if fold: \n",
    "        ble_name = f\"ble_state_fold_{fold}.pt\"\n",
    "        bae_name = f\"bae_state_fold_{fold}.pt\"\n",
    "    else: \n",
    "        ble_name = \"ble_state.pt\"\n",
    "        bae_name = \"bae_state.pt\"\n",
    "\n",
    "    start_time = time()\n",
    "    for e in range(epochs):\n",
    "        e_st = time()\n",
    "        epochLoss, epochAccs = {\"train\" : 0.0, \"valid\" : 0.0}, {\"train\" : 0.0, \"valid\" : 0.0}\n",
    "\n",
    "        for phase in [\"train\", \"valid\"]:\n",
    "            if phase == \"train\":\n",
    "                model.train()\n",
    "            else:\n",
    "                model.eval()\n",
    "            \n",
    "            lossPerPass, accsPerPass = [], []\n",
    "\n",
    "            for X, y in dataloaders[phase]:\n",
    "                X, y = X.to(device), y.to(device).view(-1)\n",
    "\n",
    "                optimizer.zero_grad()\n",
    "                with torch.set_grad_enabled(phase == \"train\"):\n",
    "                    output = model(X)\n",
    "                    loss = torch.nn.NLLLoss()(output, y)\n",
    "                    if phase == \"train\":\n",
    "                        loss.backward()\n",
    "                        optimizer.step()\n",
    "                        if scheduler_oclr: scheduler_oclr.step()\n",
    "                lossPerPass.append(loss.item())\n",
    "                accsPerPass.append(get_accuracy(output, y))\n",
    "            epochLoss[phase] = np.mean(np.array(lossPerPass))\n",
    "            epochAccs[phase] = np.mean(np.array(accsPerPass))\n",
    "        if scheduler_oclr: LRs.append(scheduler_oclr.get_last_lr())\n",
    "        Losses.append(epochLoss)\n",
    "        Accuracies.append(epochAccs)\n",
    "        \n",
    "        if scheduler_oclr:\n",
    "            save_dict = {\"model_state_dict\"     : model.state_dict(),\n",
    "                         \"optim_state_dict\"     : optimizer.state_dict(),\n",
    "                         \"scheduler_state_dict\" : scheduler_oclr.state_dict()}\n",
    "        \n",
    "        elif scheduler_rlrop:\n",
    "            save_dict = {\"model_state_dict\"     : model.state_dict(),\n",
    "                         \"optim_state_dict\"     : optimizer.state_dict(),\n",
    "                         \"scheduler_state_dict\" : scheduler_rlrop.state_dict()}\n",
    "        \n",
    "        else:\n",
    "            save_dict = {\"model_state_dict\"     : model.state_dict(),\n",
    "                         \"optim_state_dict\"     : optimizer.state_dict()}\n",
    "        \n",
    "        if early_stopping_patience:\n",
    "            if epochLoss[\"valid\"] < bestLoss[\"valid\"]:\n",
    "                bestLoss = epochLoss\n",
    "                BLE = e + 1\n",
    "                torch.save(save_dict, os.path.join(save_path, name))\n",
    "                early_stopping_step = 0\n",
    "            else:\n",
    "                early_stopping_step += 1\n",
    "                if early_stopping_step > early_stopping_patience:\n",
    "                    print(\"\\nEarly Stopping at Epoch {}\".format(e + 1))\n",
    "                    break\n",
    "        \n",
    "        if epochLoss[\"valid\"] < bestLoss[\"valid\"]:\n",
    "            bestLoss = epochLoss\n",
    "            BLE = e + 1\n",
    "            torch.save(save_dict,os.path.join(save_path, ble_name))\n",
    "        \n",
    "        if epochAccs[\"valid\"] > bestAccs[\"valid\"]:\n",
    "            bestAccs = epochAccs\n",
    "            BAE = e + 1\n",
    "            torch.save(save_dict,os.path.join(save_path, bae_name))\n",
    "\n",
    "        \n",
    "        if scheduler_rlrop: scheduler_rlrop.step(epochLoss[\"valid\"])\n",
    "        \n",
    "        if verbose:\n",
    "            print(\"Epoch: {} | Train Loss: {:.5f} | Valid Loss: {:.5f} |\\\n",
    " Train Accs: {:.5f} | Valid Accs: {:.5f} | Time: {:.2f} seconds\".format(e+1, \n",
    "                                                                        epochLoss[\"train\"], epochLoss[\"valid\"], \n",
    "                                                                        epochAccs[\"train\"], epochAccs[\"valid\"], \n",
    "                                                                        time()-e_st))\n",
    "\n",
    "    if verbose:                                           \n",
    "        breaker()\n",
    "        print(f\"Best Validation Loss at Epoch {BLE}\")\n",
    "        breaker()\n",
    "        print(f\"Best Validation Accs at Epoch {BAE}\")\n",
    "        breaker()\n",
    "        print(\"Time Taken [{} Epochs] : {:.2f} minutes\".format(len(Losses), (time()-start_time)/60))\n",
    "    \n",
    "    return Losses, Accuracies, LRs, BLE, BAE, ble_name, bae_name\n",
    "\n",
    "\n",
    "def predict_batch(model=None, dataloader=None, path=None, device=None) -> np.ndarray:\n",
    "    model.load_state_dict(torch.load(path, map_location=device)[\"model_state_dict\"])\n",
    "    model.to(device)    \n",
    "    model.eval()\n",
    "    \n",
    "    y_pred = torch.zeros(1, 1).to(device)\n",
    "    \n",
    "    for X in dataloader:\n",
    "        X = X.to(device)\n",
    "        with torch.no_grad():\n",
    "            output = torch.argmax(torch.exp(model(X)), dim=1)\n",
    "        y_pred = torch.cat((y_pred, output.view(-1, 1)), dim=0)\n",
    "    \n",
    "    return y_pred[1:].detach().cpu().numpy()"
   ]
  },
  {
   "cell_type": "markdown",
   "id": "f80ef5ca",
   "metadata": {
    "papermill": {
     "duration": 0.004152,
     "end_time": "2022-06-24T23:53:43.554203",
     "exception": false,
     "start_time": "2022-06-24T23:53:43.550051",
     "status": "completed"
    },
    "tags": []
   },
   "source": [
    "### **Train**"
   ]
  },
  {
   "cell_type": "code",
   "execution_count": 7,
   "id": "dcc80d41",
   "metadata": {
    "execution": {
     "iopub.execute_input": "2022-06-24T23:53:43.563318Z",
     "iopub.status.busy": "2022-06-24T23:53:43.562782Z",
     "iopub.status.idle": "2022-06-24T23:54:19.323532Z",
     "shell.execute_reply": "2022-06-24T23:54:19.322729Z"
    },
    "papermill": {
     "duration": 35.76797,
     "end_time": "2022-06-24T23:54:19.326044",
     "exception": false,
     "start_time": "2022-06-24T23:53:43.558074",
     "status": "completed"
    },
    "tags": []
   },
   "outputs": [],
   "source": [
    "images = np.load(f\"../input/pdc-images-{SIZE}/images-{SIZE}.npy\")\n",
    "df = pd.read_csv(\"../input/paddy-disease-classification/train.csv\")\n",
    "labels = df.label.copy().values\n",
    "labels = le.fit_transform(labels)"
   ]
  },
  {
   "cell_type": "code",
   "execution_count": 8,
   "id": "23191fa2",
   "metadata": {
    "execution": {
     "iopub.execute_input": "2022-06-24T23:54:19.336675Z",
     "iopub.status.busy": "2022-06-24T23:54:19.336113Z",
     "iopub.status.idle": "2022-06-25T02:32:22.029167Z",
     "shell.execute_reply": "2022-06-25T02:32:22.028333Z"
    },
    "papermill": {
     "duration": 9482.701379,
     "end_time": "2022-06-25T02:32:22.032166",
     "exception": false,
     "start_time": "2022-06-24T23:54:19.330787",
     "status": "completed"
    },
    "tags": []
   },
   "outputs": [
    {
     "name": "stderr",
     "output_type": "stream",
     "text": [
      "Downloading: \"https://download.pytorch.org/models/densenet201-c1103571.pth\" to /root/.cache/torch/hub/checkpoints/densenet201-c1103571.pth\n"
     ]
    },
    {
     "data": {
      "application/vnd.jupyter.widget-view+json": {
       "model_id": "e2eb11574b124928a25bd02d9c935d11",
       "version_major": 2,
       "version_minor": 0
      },
      "text/plain": [
       "  0%|          | 0.00/77.4M [00:00<?, ?B/s]"
      ]
     },
     "metadata": {},
     "output_type": "display_data"
    },
    {
     "name": "stdout",
     "output_type": "stream",
     "text": [
      "\n",
      "**************************************************\n",
      "\n",
      "Training ...\n",
      "\n",
      "**************************************************\n",
      "\n",
      "Epoch: 1 | Train Loss: 1.72014 | Valid Loss: 0.72304 | Train Accs: 0.43554 | Valid Accs: 0.79055 | Time: 277.27 seconds\n",
      "Epoch: 2 | Train Loss: 0.52601 | Valid Loss: 0.36979 | Train Accs: 0.84997 | Valid Accs: 0.88502 | Time: 270.24 seconds\n",
      "Epoch: 3 | Train Loss: 0.40931 | Valid Loss: 0.51850 | Train Accs: 0.87428 | Valid Accs: 0.83731 | Time: 270.07 seconds\n",
      "Epoch: 4 | Train Loss: 0.40470 | Valid Loss: 0.39260 | Train Accs: 0.87328 | Valid Accs: 0.88597 | Time: 270.12 seconds\n",
      "Epoch: 5 | Train Loss: 0.43248 | Valid Loss: 0.50737 | Train Accs: 0.86168 | Valid Accs: 0.84924 | Time: 269.47 seconds\n",
      "Epoch: 6 | Train Loss: 0.35481 | Valid Loss: 0.76977 | Train Accs: 0.88744 | Valid Accs: 0.79580 | Time: 269.42 seconds\n",
      "Epoch: 7 | Train Loss: 0.32868 | Valid Loss: 0.38264 | Train Accs: 0.89923 | Valid Accs: 0.89313 | Time: 270.04 seconds\n",
      "Epoch: 8 | Train Loss: 0.24836 | Valid Loss: 0.36433 | Train Accs: 0.91807 | Valid Accs: 0.89552 | Time: 269.98 seconds\n",
      "Epoch: 9 | Train Loss: 0.21178 | Valid Loss: 0.34827 | Train Accs: 0.93246 | Valid Accs: 0.89408 | Time: 270.21 seconds\n",
      "Epoch: 10 | Train Loss: 0.18530 | Valid Loss: 0.22302 | Train Accs: 0.94038 | Valid Accs: 0.93225 | Time: 269.80 seconds\n",
      "Epoch: 11 | Train Loss: 0.20470 | Valid Loss: 0.27815 | Train Accs: 0.93474 | Valid Accs: 0.92032 | Time: 266.92 seconds\n",
      "Epoch: 12 | Train Loss: 0.12812 | Valid Loss: 0.31470 | Train Accs: 0.95885 | Valid Accs: 0.91651 | Time: 268.31 seconds\n",
      "Epoch: 13 | Train Loss: 0.15547 | Valid Loss: 0.26217 | Train Accs: 0.95222 | Valid Accs: 0.91937 | Time: 268.78 seconds\n",
      "Epoch: 14 | Train Loss: 0.10640 | Valid Loss: 0.19737 | Train Accs: 0.96485 | Valid Accs: 0.93464 | Time: 269.89 seconds\n",
      "Epoch: 15 | Train Loss: 0.08349 | Valid Loss: 0.25403 | Train Accs: 0.97361 | Valid Accs: 0.93225 | Time: 268.91 seconds\n",
      "Epoch: 16 | Train Loss: 0.07814 | Valid Loss: 0.17822 | Train Accs: 0.97613 | Valid Accs: 0.95324 | Time: 270.04 seconds\n",
      "Epoch: 17 | Train Loss: 0.08271 | Valid Loss: 0.21074 | Train Accs: 0.97445 | Valid Accs: 0.94227 | Time: 269.16 seconds\n",
      "Epoch: 18 | Train Loss: 0.06196 | Valid Loss: 0.26623 | Train Accs: 0.98057 | Valid Accs: 0.93702 | Time: 269.87 seconds\n",
      "Epoch: 19 | Train Loss: 0.05126 | Valid Loss: 0.13644 | Train Accs: 0.98265 | Valid Accs: 0.97042 | Time: 270.94 seconds\n",
      "Epoch: 20 | Train Loss: 0.03795 | Valid Loss: 0.14516 | Train Accs: 0.98836 | Valid Accs: 0.96422 | Time: 269.07 seconds\n",
      "Epoch: 21 | Train Loss: 0.03412 | Valid Loss: 0.16946 | Train Accs: 0.99004 | Valid Accs: 0.95992 | Time: 269.75 seconds\n",
      "Epoch: 22 | Train Loss: 0.02941 | Valid Loss: 0.12751 | Train Accs: 0.99148 | Valid Accs: 0.97376 | Time: 270.88 seconds\n",
      "Epoch: 23 | Train Loss: 0.01377 | Valid Loss: 0.10880 | Train Accs: 0.99604 | Valid Accs: 0.97233 | Time: 268.68 seconds\n",
      "Epoch: 24 | Train Loss: 0.00816 | Valid Loss: 0.13398 | Train Accs: 0.99796 | Valid Accs: 0.96947 | Time: 269.26 seconds\n",
      "Epoch: 25 | Train Loss: 0.00639 | Valid Loss: 0.12212 | Train Accs: 0.99832 | Valid Accs: 0.96803 | Time: 271.27 seconds\n",
      "Epoch: 26 | Train Loss: 0.00541 | Valid Loss: 0.11875 | Train Accs: 0.99880 | Valid Accs: 0.97233 | Time: 270.88 seconds\n",
      "Epoch: 27 | Train Loss: 0.00391 | Valid Loss: 0.12552 | Train Accs: 0.99916 | Valid Accs: 0.97328 | Time: 271.31 seconds\n",
      "Epoch: 28 | Train Loss: 0.00251 | Valid Loss: 0.11524 | Train Accs: 0.99940 | Valid Accs: 0.97853 | Time: 273.18 seconds\n",
      "Epoch: 29 | Train Loss: 0.00121 | Valid Loss: 0.11306 | Train Accs: 0.99988 | Valid Accs: 0.97805 | Time: 271.80 seconds\n",
      "Epoch: 30 | Train Loss: 0.00041 | Valid Loss: 0.11828 | Train Accs: 1.00000 | Valid Accs: 0.97758 | Time: 272.43 seconds\n",
      "Epoch: 31 | Train Loss: 0.00042 | Valid Loss: 0.11820 | Train Accs: 1.00000 | Valid Accs: 0.97853 | Time: 272.55 seconds\n",
      "Epoch: 32 | Train Loss: 0.00035 | Valid Loss: 0.11441 | Train Accs: 1.00000 | Valid Accs: 0.97758 | Time: 272.42 seconds\n",
      "Epoch: 33 | Train Loss: 0.00036 | Valid Loss: 0.11785 | Train Accs: 0.99988 | Valid Accs: 0.97710 | Time: 272.15 seconds\n",
      "Epoch: 34 | Train Loss: 0.00019 | Valid Loss: 0.11497 | Train Accs: 1.00000 | Valid Accs: 0.97996 | Time: 273.19 seconds\n",
      "Epoch: 35 | Train Loss: 0.00028 | Valid Loss: 0.12277 | Train Accs: 1.00000 | Valid Accs: 0.97662 | Time: 272.18 seconds\n",
      "\n",
      "**************************************************\n",
      "\n",
      "Best Validation Loss at Epoch 23\n",
      "\n",
      "**************************************************\n",
      "\n",
      "Best Validation Accs at Epoch 34\n",
      "\n",
      "**************************************************\n",
      "\n",
      "Time Taken [35 Epochs] : 157.84 minutes\n",
      "\n",
      "**************************************************\n",
      "\n"
     ]
    },
    {
     "data": {
      "image/png": "[encoded data removed]",
      "text/plain": [
       "<Figure size 432x288 with 1 Axes>"
      ]
     },
     "metadata": {
      "needs_background": "light"
     },
     "output_type": "display_data"
    },
    {
     "name": "stdout",
     "output_type": "stream",
     "text": [
      "\n",
      "**************************************************\n",
      "\n"
     ]
    },
    {
     "data": {
      "image/png": "[encoded data removed]",
      "text/plain": [
       "<Figure size 432x288 with 1 Axes>"
      ]
     },
     "metadata": {
      "needs_background": "light"
     },
     "output_type": "display_data"
    },
    {
     "name": "stdout",
     "output_type": "stream",
     "text": [
      "\n",
      "**************************************************\n",
      "\n"
     ]
    },
    {
     "data": {
      "image/png": "[encoded data removed]",
      "text/plain": [
       "<Figure size 576x432 with 1 Axes>"
      ]
     },
     "metadata": {
      "needs_background": "light"
     },
     "output_type": "display_data"
    },
    {
     "name": "stdout",
     "output_type": "stream",
     "text": [
      "\n",
      "**************************************************\n",
      "\n"
     ]
    }
   ],
   "source": [
    "fold = 1\n",
    "for tr_idx, va_idx in StratifiedKFold(n_splits=cfg.n_splits, random_state=cfg.seed, shuffle=True).split(images, labels):\n",
    "    if fold == 3: break\n",
    "    fold += 1\n",
    "\n",
    "tr_images, va_images, tr_labels, va_labels = images[tr_idx], images[va_idx], labels[tr_idx], labels[va_idx]\n",
    "\n",
    "tr_data_setup = DS(tr_images, tr_labels.reshape(-1, 1), cfg.transform)\n",
    "va_data_setup = DS(va_images, va_labels.reshape(-1, 1), cfg.transform)\n",
    "\n",
    "dataloaders = {\n",
    "    \"train\" : DL(tr_data_setup, batch_size=cfg.batch_size, shuffle=True, generator=torch.manual_seed(cfg.seed)),\n",
    "    \"valid\" : DL(va_data_setup, batch_size=cfg.batch_size, shuffle=False),\n",
    "}\n",
    "\n",
    "cfg = CFG(epochs=35, batch_size=64, steps_per_epoch=len(dataloaders[\"train\"]))\n",
    "\n",
    "torch.manual_seed(cfg.seed)\n",
    "model = Model().to(cfg.device)\n",
    "optimizer = optim.Adam([p for p in model.parameters() if p.requires_grad], lr=cfg.lr, weight_decay=cfg.wd)\n",
    "scheduler_oclr = optim.lr_scheduler.OneCycleLR(optimizer=optimizer, \n",
    "                                               max_lr=cfg.max_lr, \n",
    "                                               epochs=cfg.epochs, \n",
    "                                               steps_per_epoch=cfg.steps_per_epoch,\n",
    "                                               pct_start=cfg.pct_start, \n",
    "                                               div_factor=cfg.div_factor, \n",
    "                                               final_div_factor=cfg.final_div_factor)\n",
    "# scheduler_rlrop = optim.lr_scheduler.ReduceLROnPlateau(optimizer=optimizer,\n",
    "#                                                       patience=cfg.patience,\n",
    "#                                                       eps=cfg.eps,\n",
    "#                                                       verbose=True)\n",
    "\n",
    "# scheduler_oclr = None\n",
    "scheduler_rlrop = None\n",
    "\n",
    "L, A, LR, BLE, BAE, _, _ = fit(model=model, \n",
    "                               optimizer=optimizer, \n",
    "                               scheduler_oclr=scheduler_oclr,\n",
    "                               scheduler_rlrop=scheduler_rlrop,\n",
    "                               epochs=cfg.epochs, \n",
    "                               early_stopping_patience=None, \n",
    "                               dataloaders=dataloaders, \n",
    "                               device=cfg.device,\n",
    "                               save_path=cfg.save_path,\n",
    "                               fold=None,\n",
    "                               verbose=True)\n",
    "\n",
    "breaker()\n",
    "show_loss_graphs(L)\n",
    "breaker()\n",
    "show_accuracy_graphs(A)\n",
    "breaker()\n",
    "\n",
    "if scheduler_oclr:\n",
    "    show_lr_graph(LR)\n",
    "    breaker()"
   ]
  }
 ],
 "metadata": {
  "kernelspec": {
   "display_name": "Python 3",
   "language": "python",
   "name": "python3"
  },
  "language_info": {
   "codemirror_mode": {
    "name": "ipython",
    "version": 3
   },
   "file_extension": ".py",
   "mimetype": "text/x-python",
   "name": "python",
   "nbconvert_exporter": "python",
   "pygments_lexer": "ipython3",
   "version": "3.7.12"
  },
  "papermill": {
   "default_parameters": {},
   "duration": 9533.783742,
   "end_time": "2022-06-25T02:32:24.866590",
   "environment_variables": {},
   "exception": null,
   "input_path": "__notebook__.ipynb",
   "output_path": "__notebook__.ipynb",
   "parameters": {},
   "start_time": "2022-06-24T23:53:31.082848",
   "version": "2.3.4"
  },
  "widgets": {
   "application/vnd.jupyter.widget-state+json": {
    "state": {
     "09f4fdc8f85f47cb844baeed508d194d": {
      "model_module": "@jupyter-widgets/controls",
      "model_module_version": "1.5.0",
      "model_name": "ProgressStyleModel",
      "state": {
       "_model_module": "@jupyter-widgets/controls",
       "_model_module_version": "1.5.0",
       "_model_name": "ProgressStyleModel",
       "_view_count": null,
       "_view_module": "@jupyter-widgets/base",
       "_view_module_version": "1.2.0",
       "_view_name": "StyleView",
       "bar_color": null,
       "description_width": ""
      }
     },
     "0b9bbad149a748b98eb06b3217ae0369": {
      "model_module": "@jupyter-widgets/controls",
      "model_module_version": "1.5.0",
      "model_name": "DescriptionStyleModel",
      "state": {
       "_model_module": "@jupyter-widgets/controls",
       "_model_module_version": "1.5.0",
       "_model_name": "DescriptionStyleModel",
       "_view_count": null,
       "_view_module": "@jupyter-widgets/base",
       "_view_module_version": "1.2.0",
       "_view_name": "StyleView",
       "description_width": ""
      }
     },
     "82c55e2940994259a73862c07ead3d56": {
      "model_module": "@jupyter-widgets/base",
      "model_module_version": "1.2.0",
      "model_name": "LayoutModel",
      "state": {
       "_model_module": "@jupyter-widgets/base",
       "_model_module_version": "1.2.0",
       "_model_name": "LayoutModel",
       "_view_count": null,
       "_view_module": "@jupyter-widgets/base",
       "_view_module_version": "1.2.0",
       "_view_name": "LayoutView",
       "align_content": null,
       "align_items": null,
       "align_self": null,
       "border": null,
       "bottom": null,
       "display": null,
       "flex": null,
       "flex_flow": null,
       "grid_area": null,
       "grid_auto_columns": null,
       "grid_auto_flow": null,
       "grid_auto_rows": null,
       "grid_column": null,
       "grid_gap": null,
       "grid_row": null,
       "grid_template_areas": null,
       "grid_template_columns": null,
       "grid_template_rows": null,
       "height": null,
       "justify_content": null,
       "justify_items": null,
       "left": null,
       "margin": null,
       "max_height": null,
       "max_width": null,
       "min_height": null,
       "min_width": null,
       "object_fit": null,
       "object_position": null,
       "order": null,
       "overflow": null,
       "overflow_x": null,
       "overflow_y": null,
       "padding": null,
       "right": null,
       "top": null,
       "visibility": null,
       "width": null
      }
     },
     "8862826ee1464437a597d08eec5f5e99": {
      "model_module": "@jupyter-widgets/controls",
      "model_module_version": "1.5.0",
      "model_name": "FloatProgressModel",
      "state": {
       "_dom_classes": [],
       "_model_module": "@jupyter-widgets/controls",
       "_model_module_version": "1.5.0",
       "_model_name": "FloatProgressModel",
       "_view_count": null,
       "_view_module": "@jupyter-widgets/controls",
       "_view_module_version": "1.5.0",
       "_view_name": "ProgressView",
       "bar_style": "success",
       "description": "",
       "description_tooltip": null,
       "layout": "IPY_MODEL_82c55e2940994259a73862c07ead3d56",
       "max": 81131730.0,
       "min": 0.0,
       "orientation": "horizontal",
       "style": "IPY_MODEL_09f4fdc8f85f47cb844baeed508d194d",
       "value": 81131730.0
      }
     },
     "b1f121d764034e8fbbbf26a8012ba34d": {
      "model_module": "@jupyter-widgets/controls",
      "model_module_version": "1.5.0",
      "model_name": "HTMLModel",
      "state": {
       "_dom_classes": [],
       "_model_module": "@jupyter-widgets/controls",
       "_model_module_version": "1.5.0",
       "_model_name": "HTMLModel",
       "_view_count": null,
       "_view_module": "@jupyter-widgets/controls",
       "_view_module_version": "1.5.0",
       "_view_name": "HTMLView",
       "description": "",
       "description_tooltip": null,
       "layout": "IPY_MODEL_d8d1b70f7d9d4c448f3d58c93c522f2a",
       "placeholder": "​",
       "style": "IPY_MODEL_0b9bbad149a748b98eb06b3217ae0369",
       "value": "100%"
      }
     },
     "bd6defe9cf844d1c810ff9944be8ce89": {
      "model_module": "@jupyter-widgets/base",
      "model_module_version": "1.2.0",
      "model_name": "LayoutModel",
      "state": {
       "_model_module": "@jupyter-widgets/base",
       "_model_module_version": "1.2.0",
       "_model_name": "LayoutModel",
       "_view_count": null,
       "_view_module": "@jupyter-widgets/base",
       "_view_module_version": "1.2.0",
       "_view_name": "LayoutView",
       "align_content": null,
       "align_items": null,
       "align_self": null,
       "border": null,
       "bottom": null,
       "display": null,
       "flex": null,
       "flex_flow": null,
       "grid_area": null,
       "grid_auto_columns": null,
       "grid_auto_flow": null,
       "grid_auto_rows": null,
       "grid_column": null,
       "grid_gap": null,
       "grid_row": null,
       "grid_template_areas": null,
       "grid_template_columns": null,
       "grid_template_rows": null,
       "height": null,
       "justify_content": null,
       "justify_items": null,
       "left": null,
       "margin": null,
       "max_height": null,
       "max_width": null,
       "min_height": null,
       "min_width": null,
       "object_fit": null,
       "object_position": null,
       "order": null,
       "overflow": null,
       "overflow_x": null,
       "overflow_y": null,
       "padding": null,
       "right": null,
       "top": null,
       "visibility": null,
       "width": null
      }
     },
     "d8d1b70f7d9d4c448f3d58c93c522f2a": {
      "model_module": "@jupyter-widgets/base",
      "model_module_version": "1.2.0",
      "model_name": "LayoutModel",
      "state": {
       "_model_module": "@jupyter-widgets/base",
       "_model_module_version": "1.2.0",
       "_model_name": "LayoutModel",
       "_view_count": null,
       "_view_module": "@jupyter-widgets/base",
       "_view_module_version": "1.2.0",
       "_view_name": "LayoutView",
       "align_content": null,
       "align_items": null,
       "align_self": null,
       "border": null,
       "bottom": null,
       "display": null,
       "flex": null,
       "flex_flow": null,
       "grid_area": null,
       "grid_auto_columns": null,
       "grid_auto_flow": null,
       "grid_auto_rows": null,
       "grid_column": null,
       "grid_gap": null,
       "grid_row": null,
       "grid_template_areas": null,
       "grid_template_columns": null,
       "grid_template_rows": null,
       "height": null,
       "justify_content": null,
       "justify_items": null,
       "left": null,
       "margin": null,
       "max_height": null,
       "max_width": null,
       "min_height": null,
       "min_width": null,
       "object_fit": null,
       "object_position": null,
       "order": null,
       "overflow": null,
       "overflow_x": null,
       "overflow_y": null,
       "padding": null,
       "right": null,
       "top": null,
       "visibility": null,
       "width": null
      }
     },
     "e11f098943144101a2556bbd82904f62": {
      "model_module": "@jupyter-widgets/base",
      "model_module_version": "1.2.0",
      "model_name": "LayoutModel",
      "state": {
       "_model_module": "@jupyter-widgets/base",
       "_model_module_version": "1.2.0",
       "_model_name": "LayoutModel",
       "_view_count": null,
       "_view_module": "@jupyter-widgets/base",
       "_view_module_version": "1.2.0",
       "_view_name": "LayoutView",
       "align_content": null,
       "align_items": null,
       "align_self": null,
       "border": null,
       "bottom": null,
       "display": null,
       "flex": null,
       "flex_flow": null,
       "grid_area": null,
       "grid_auto_columns": null,
       "grid_auto_flow": null,
       "grid_auto_rows": null,
       "grid_column": null,
       "grid_gap": null,
       "grid_row": null,
       "grid_template_areas": null,
       "grid_template_columns": null,
       "grid_template_rows": null,
       "height": null,
       "justify_content": null,
       "justify_items": null,
       "left": null,
       "margin": null,
       "max_height": null,
       "max_width": null,
       "min_height": null,
       "min_width": null,
       "object_fit": null,
       "object_position": null,
       "order": null,
       "overflow": null,
       "overflow_x": null,
       "overflow_y": null,
       "padding": null,
       "right": null,
       "top": null,
       "visibility": null,
       "width": null
      }
     },
     "e2eb11574b124928a25bd02d9c935d11": {
      "model_module": "@jupyter-widgets/controls",
      "model_module_version": "1.5.0",
      "model_name": "HBoxModel",
      "state": {
       "_dom_classes": [],
       "_model_module": "@jupyter-widgets/controls",
       "_model_module_version": "1.5.0",
       "_model_name": "HBoxModel",
       "_view_count": null,
       "_view_module": "@jupyter-widgets/controls",
       "_view_module_version": "1.5.0",
       "_view_name": "HBoxView",
       "box_style": "",
       "children": [
        "IPY_MODEL_b1f121d764034e8fbbbf26a8012ba34d",
        "IPY_MODEL_8862826ee1464437a597d08eec5f5e99",
        "IPY_MODEL_f3d0d717366a4acd83d4945155d567e0"
       ],
       "layout": "IPY_MODEL_bd6defe9cf844d1c810ff9944be8ce89"
      }
     },
     "e2f8ceeffd804b328e690a5903366aae": {
      "model_module": "@jupyter-widgets/controls",
      "model_module_version": "1.5.0",
      "model_name": "DescriptionStyleModel",
      "state": {
       "_model_module": "@jupyter-widgets/controls",
       "_model_module_version": "1.5.0",
       "_model_name": "DescriptionStyleModel",
       "_view_count": null,
       "_view_module": "@jupyter-widgets/base",
       "_view_module_version": "1.2.0",
       "_view_name": "StyleView",
       "description_width": ""
      }
     },
     "f3d0d717366a4acd83d4945155d567e0": {
      "model_module": "@jupyter-widgets/controls",
      "model_module_version": "1.5.0",
      "model_name": "HTMLModel",
      "state": {
       "_dom_classes": [],
       "_model_module": "@jupyter-widgets/controls",
       "_model_module_version": "1.5.0",
       "_model_name": "HTMLModel",
       "_view_count": null,
       "_view_module": "@jupyter-widgets/controls",
       "_view_module_version": "1.5.0",
       "_view_name": "HTMLView",
       "description": "",
       "description_tooltip": null,
       "layout": "IPY_MODEL_e11f098943144101a2556bbd82904f62",
       "placeholder": "​",
       "style": "IPY_MODEL_e2f8ceeffd804b328e690a5903366aae",
       "value": " 77.4M/77.4M [00:02&lt;00:00, 35.6MB/s]"
      }
     }
    },
    "version_major": 2,
    "version_minor": 0
   }
  }
 },
 "nbformat": 4,
 "nbformat_minor": 5
}
