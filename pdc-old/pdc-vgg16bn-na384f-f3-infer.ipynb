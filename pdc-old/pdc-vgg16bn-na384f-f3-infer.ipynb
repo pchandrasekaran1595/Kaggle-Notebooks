{
 "cells": [
  {
   "cell_type": "markdown",
   "id": "ff42ea0c",
   "metadata": {
    "papermill": {
     "duration": 0.00753,
     "end_time": "2022-07-03T11:08:52.840969",
     "exception": false,
     "start_time": "2022-07-03T11:08:52.833439",
     "status": "completed"
    },
    "tags": []
   },
   "source": [
    "### **Setup**"
   ]
  },
  {
   "cell_type": "code",
   "execution_count": 1,
   "id": "9244ebba",
   "metadata": {
    "execution": {
     "iopub.execute_input": "2022-07-03T11:08:52.861801Z",
     "iopub.status.busy": "2022-07-03T11:08:52.861191Z",
     "iopub.status.idle": "2022-07-03T11:09:07.189684Z",
     "shell.execute_reply": "2022-07-03T11:09:07.188155Z"
    },
    "papermill": {
     "duration": 14.341213,
     "end_time": "2022-07-03T11:09:07.193207",
     "exception": false,
     "start_time": "2022-07-03T11:08:52.851994",
     "status": "completed"
    },
    "tags": []
   },
   "outputs": [
    {
     "name": "stderr",
     "output_type": "stream",
     "text": [
      "WARNING: Running pip as the 'root' user can result in broken permissions and conflicting behaviour with the system package manager. It is recommended to use a virtual environment instead: https://pip.pypa.io/warnings/venv\n"
     ]
    }
   ],
   "source": [
    "%%bash\n",
    "pip install timm -q"
   ]
  },
  {
   "cell_type": "markdown",
   "id": "65a83c43",
   "metadata": {
    "papermill": {
     "duration": 0.004674,
     "end_time": "2022-07-03T11:09:07.202725",
     "exception": false,
     "start_time": "2022-07-03T11:09:07.198051",
     "status": "completed"
    },
    "tags": []
   },
   "source": [
    "### **Library Imports**"
   ]
  },
  {
   "cell_type": "code",
   "execution_count": 2,
   "id": "490236d1",
   "metadata": {
    "execution": {
     "iopub.execute_input": "2022-07-03T11:09:07.213423Z",
     "iopub.status.busy": "2022-07-03T11:09:07.213025Z",
     "iopub.status.idle": "2022-07-03T11:09:17.221981Z",
     "shell.execute_reply": "2022-07-03T11:09:17.220708Z"
    },
    "papermill": {
     "duration": 10.017682,
     "end_time": "2022-07-03T11:09:17.224862",
     "exception": false,
     "start_time": "2022-07-03T11:09:07.207180",
     "status": "completed"
    },
    "tags": []
   },
   "outputs": [],
   "source": [
    "import os\n",
    "import re\n",
    "import cv2\n",
    "import timm\n",
    "import torch\n",
    "import numpy as np\n",
    "import pandas as pd\n",
    "import matplotlib.pyplot as plt\n",
    "\n",
    "from time import time\n",
    "from torch import nn, optim\n",
    "from torch.utils.data import Dataset\n",
    "from torch.utils.data import DataLoader as DL\n",
    "from torchvision import models, transforms\n",
    "\n",
    "from sklearn.preprocessing import LabelEncoder"
   ]
  },
  {
   "cell_type": "markdown",
   "id": "18408a9c",
   "metadata": {
    "papermill": {
     "duration": 0.004112,
     "end_time": "2022-07-03T11:09:17.233196",
     "exception": false,
     "start_time": "2022-07-03T11:09:17.229084",
     "status": "completed"
    },
    "tags": []
   },
   "source": [
    "### **Utilities and Helpers**"
   ]
  },
  {
   "cell_type": "code",
   "execution_count": 3,
   "id": "fcf874da",
   "metadata": {
    "execution": {
     "iopub.execute_input": "2022-07-03T11:09:17.242982Z",
     "iopub.status.busy": "2022-07-03T11:09:17.242182Z",
     "iopub.status.idle": "2022-07-03T11:09:17.320005Z",
     "shell.execute_reply": "2022-07-03T11:09:17.318835Z"
    },
    "papermill": {
     "duration": 0.08556,
     "end_time": "2022-07-03T11:09:17.322602",
     "exception": false,
     "start_time": "2022-07-03T11:09:17.237042",
     "status": "completed"
    },
    "tags": []
   },
   "outputs": [],
   "source": [
    "SEED = 42\n",
    "SIZE = 384\n",
    "FOLD = 3\n",
    "TRANSFORM = transforms.Compose([transforms.ToTensor(),\n",
    "                                transforms.Normalize([0.49699, 0.58823, 0.23049],\n",
    "                                                     [0.22591, 0.22614, 0.18264]),\n",
    "                                ])\n",
    "MODEL_PATH = f\"../input/pdc-vgg16bn-na384f-f3/saves/ble_state.pt\"\n",
    "DEVICE = torch.device(\"cuda\" if torch.cuda.is_available() else \"cpu\")\n",
    "\n",
    "le = LabelEncoder()\n",
    "\n",
    "\n",
    "def breaker(num: int=50, char: str=\"*\") -> None:\n",
    "    print(\"\\n\" + num*char + \"\\n\")\n",
    "\n",
    "\n",
    "def get_image(path: str, size: int=224) -> np.ndarray:\n",
    "    return cv2.resize(src=cv2.cvtColor(src=cv2.imread(path, cv2.IMREAD_COLOR), code=cv2.COLOR_BGR2RGB), dsize=(size, size), interpolation=cv2.INTER_AREA)"
   ]
  },
  {
   "cell_type": "markdown",
   "id": "107a2d23",
   "metadata": {
    "papermill": {
     "duration": 0.003589,
     "end_time": "2022-07-03T11:09:17.330370",
     "exception": false,
     "start_time": "2022-07-03T11:09:17.326781",
     "status": "completed"
    },
    "tags": []
   },
   "source": [
    "### **Configuration**"
   ]
  },
  {
   "cell_type": "markdown",
   "id": "105f690f",
   "metadata": {
    "papermill": {
     "duration": 0.003681,
     "end_time": "2022-07-03T11:09:17.337712",
     "exception": false,
     "start_time": "2022-07-03T11:09:17.334031",
     "status": "completed"
    },
    "tags": []
   },
   "source": [
    "### **Dataset Template**"
   ]
  },
  {
   "cell_type": "code",
   "execution_count": 4,
   "id": "5115e9aa",
   "metadata": {
    "execution": {
     "iopub.execute_input": "2022-07-03T11:09:17.347204Z",
     "iopub.status.busy": "2022-07-03T11:09:17.346279Z",
     "iopub.status.idle": "2022-07-03T11:09:17.354537Z",
     "shell.execute_reply": "2022-07-03T11:09:17.353492Z"
    },
    "papermill": {
     "duration": 0.014833,
     "end_time": "2022-07-03T11:09:17.356526",
     "exception": false,
     "start_time": "2022-07-03T11:09:17.341693",
     "status": "completed"
    },
    "tags": []
   },
   "outputs": [],
   "source": [
    "class DS(Dataset):\n",
    "    def __init__(self, base_path: str, filenames: np.ndarray, size: int=224, transform=None):\n",
    "        self.base_path = base_path\n",
    "        self.filenames = filenames\n",
    "        self.size = size\n",
    "        self.transform = transform\n",
    "    \n",
    "    def __len__(self):\n",
    "        return self.filenames.shape[0]\n",
    "    \n",
    "    def __getitem__(self, idx):\n",
    "        return self.transform(get_image(os.path.join(self.base_path, self.filenames[idx]), size=self.size))"
   ]
  },
  {
   "cell_type": "markdown",
   "id": "c0ee798e",
   "metadata": {
    "papermill": {
     "duration": 0.003792,
     "end_time": "2022-07-03T11:09:17.364220",
     "exception": false,
     "start_time": "2022-07-03T11:09:17.360428",
     "status": "completed"
    },
    "tags": []
   },
   "source": [
    "### **Model**"
   ]
  },
  {
   "cell_type": "code",
   "execution_count": 5,
   "id": "41b7ec0d",
   "metadata": {
    "execution": {
     "iopub.execute_input": "2022-07-03T11:09:17.373964Z",
     "iopub.status.busy": "2022-07-03T11:09:17.373006Z",
     "iopub.status.idle": "2022-07-03T11:09:17.380972Z",
     "shell.execute_reply": "2022-07-03T11:09:17.379978Z"
    },
    "papermill": {
     "duration": 0.014796,
     "end_time": "2022-07-03T11:09:17.383020",
     "exception": false,
     "start_time": "2022-07-03T11:09:17.368224",
     "status": "completed"
    },
    "tags": []
   },
   "outputs": [],
   "source": [
    "class Model(nn.Module):\n",
    "    def __init__(self):\n",
    "        super(Model, self).__init__()\n",
    "\n",
    "        self.model = models.vgg16_bn(pretrained=True, progress=False)\n",
    "        # self.freeze()\n",
    "        self.model.classifier[-1] = nn.Linear(in_features=self.model.classifier[-1].in_features, out_features=10)\n",
    "    \n",
    "    def freeze(self):\n",
    "        for params in self.parameters(): params.requires_grad = False\n",
    "\n",
    "    def forward(self, x):\n",
    "        return nn.LogSoftmax(dim=1)(self.model(x))"
   ]
  },
  {
   "cell_type": "markdown",
   "id": "648f432f",
   "metadata": {
    "papermill": {
     "duration": 0.003752,
     "end_time": "2022-07-03T11:09:17.390777",
     "exception": false,
     "start_time": "2022-07-03T11:09:17.387025",
     "status": "completed"
    },
    "tags": []
   },
   "source": [
    "### **Predict Helpers**"
   ]
  },
  {
   "cell_type": "code",
   "execution_count": 6,
   "id": "c5b45428",
   "metadata": {
    "execution": {
     "iopub.execute_input": "2022-07-03T11:09:17.400745Z",
     "iopub.status.busy": "2022-07-03T11:09:17.400327Z",
     "iopub.status.idle": "2022-07-03T11:09:17.408206Z",
     "shell.execute_reply": "2022-07-03T11:09:17.407169Z"
    },
    "papermill": {
     "duration": 0.015503,
     "end_time": "2022-07-03T11:09:17.410566",
     "exception": false,
     "start_time": "2022-07-03T11:09:17.395063",
     "status": "completed"
    },
    "tags": []
   },
   "outputs": [],
   "source": [
    "def predict_batch(model=None, dataloader=None, path=None, device=None) -> np.ndarray:\n",
    "    model.load_state_dict(torch.load(path, map_location=device)[\"model_state_dict\"])\n",
    "    model.to(device)    \n",
    "    model.eval()\n",
    "    \n",
    "    y_pred = torch.zeros(1, 1).to(device)\n",
    "    \n",
    "    for X in dataloader:\n",
    "        X = X.to(device)\n",
    "        with torch.no_grad():\n",
    "            output = torch.argmax(torch.exp(model(X)), dim=1)\n",
    "        y_pred = torch.cat((y_pred, output.view(-1, 1)), dim=0)\n",
    "    \n",
    "    return y_pred[1:].detach().cpu().numpy()"
   ]
  },
  {
   "cell_type": "markdown",
   "id": "059db572",
   "metadata": {
    "papermill": {
     "duration": 0.004202,
     "end_time": "2022-07-03T11:09:17.418826",
     "exception": false,
     "start_time": "2022-07-03T11:09:17.414624",
     "status": "completed"
    },
    "tags": []
   },
   "source": [
    "### **Submission**"
   ]
  },
  {
   "cell_type": "code",
   "execution_count": 7,
   "id": "eae60596",
   "metadata": {
    "execution": {
     "iopub.execute_input": "2022-07-03T11:09:17.429003Z",
     "iopub.status.busy": "2022-07-03T11:09:17.428066Z",
     "iopub.status.idle": "2022-07-03T11:10:51.305053Z",
     "shell.execute_reply": "2022-07-03T11:10:51.304027Z"
    },
    "papermill": {
     "duration": 93.884556,
     "end_time": "2022-07-03T11:10:51.307750",
     "exception": false,
     "start_time": "2022-07-03T11:09:17.423194",
     "status": "completed"
    },
    "tags": []
   },
   "outputs": [
    {
     "name": "stderr",
     "output_type": "stream",
     "text": [
      "Downloading: \"https://download.pytorch.org/models/vgg16_bn-6c64b313.pth\" to /root/.cache/torch/hub/checkpoints/vgg16_bn-6c64b313.pth\n"
     ]
    }
   ],
   "source": [
    "df = pd.read_csv(\"../input/paddy-disease-classification/train.csv\")\n",
    "ss_df = pd.read_csv(\"../input/paddy-disease-classification/sample_submission.csv\")\n",
    "\n",
    "labels = df.label.copy().values\n",
    "labels = le.fit_transform(labels)\n",
    "\n",
    "ts_data_setup = DS(base_path=\"../input/paddy-disease-classification/test_images\", \n",
    "                   filenames=ss_df.image_id.copy().values,\n",
    "                   size=SIZE,\n",
    "                   transform=TRANSFORM)\n",
    "ts_data = DL(ts_data_setup, batch_size=64, shuffle=False)\n",
    "\n",
    "model = Model().to(DEVICE)\n",
    "\n",
    "y_pred = predict_batch(model=model, \n",
    "                       dataloader=ts_data, \n",
    "                       path=MODEL_PATH,\n",
    "                       device=DEVICE)\n",
    "\n",
    "ss_df[\"label\"] = le.inverse_transform(y_pred.astype(\"uint8\").reshape(-1))\n",
    "ss_df.to_csv(\"submission.csv\", index=False)"
   ]
  }
 ],
 "metadata": {
  "kernelspec": {
   "display_name": "Python 3",
   "language": "python",
   "name": "python3"
  },
  "language_info": {
   "codemirror_mode": {
    "name": "ipython",
    "version": 3
   },
   "file_extension": ".py",
   "mimetype": "text/x-python",
   "name": "python",
   "nbconvert_exporter": "python",
   "pygments_lexer": "ipython3",
   "version": "3.7.12"
  },
  "papermill": {
   "default_parameters": {},
   "duration": 131.784614,
   "end_time": "2022-07-03T11:10:54.761040",
   "environment_variables": {},
   "exception": null,
   "input_path": "__notebook__.ipynb",
   "output_path": "__notebook__.ipynb",
   "parameters": {},
   "start_time": "2022-07-03T11:08:42.976426",
   "version": "2.3.4"
  }
 },
 "nbformat": 4,
 "nbformat_minor": 5
}
