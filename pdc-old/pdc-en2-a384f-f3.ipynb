{
 "cells": [
  {
   "cell_type": "markdown",
   "id": "ad31f775",
   "metadata": {
    "_cell_guid": "b1076dfc-b9ad-4769-8c92-a6c4dae69d19",
    "_uuid": "8f2839f25d086af736a60e9eeb907d3b93b6e0e5",
    "papermill": {
     "duration": 0.004955,
     "end_time": "2022-07-03T19:48:44.580060",
     "exception": false,
     "start_time": "2022-07-03T19:48:44.575105",
     "status": "completed"
    },
    "tags": []
   },
   "source": [
    "### **Setup**"
   ]
  },
  {
   "cell_type": "code",
   "execution_count": 1,
   "id": "8d9fb4b3",
   "metadata": {
    "execution": {
     "iopub.execute_input": "2022-07-03T19:48:44.590034Z",
     "iopub.status.busy": "2022-07-03T19:48:44.589169Z",
     "iopub.status.idle": "2022-07-03T19:48:55.067416Z",
     "shell.execute_reply": "2022-07-03T19:48:55.066432Z"
    },
    "papermill": {
     "duration": 10.485299,
     "end_time": "2022-07-03T19:48:55.069590",
     "exception": false,
     "start_time": "2022-07-03T19:48:44.584291",
     "status": "completed"
    },
    "tags": []
   },
   "outputs": [
    {
     "name": "stderr",
     "output_type": "stream",
     "text": [
      "WARNING: Running pip as the 'root' user can result in broken permissions and conflicting behaviour with the system package manager. It is recommended to use a virtual environment instead: https://pip.pypa.io/warnings/venv\n"
     ]
    }
   ],
   "source": [
    "%%bash\n",
    "pip install timm -q"
   ]
  },
  {
   "cell_type": "markdown",
   "id": "7cedd172",
   "metadata": {
    "papermill": {
     "duration": 0.003941,
     "end_time": "2022-07-03T19:48:55.077997",
     "exception": false,
     "start_time": "2022-07-03T19:48:55.074056",
     "status": "completed"
    },
    "tags": []
   },
   "source": [
    "### **Library Imports**"
   ]
  },
  {
   "cell_type": "code",
   "execution_count": 2,
   "id": "48925573",
   "metadata": {
    "execution": {
     "iopub.execute_input": "2022-07-03T19:48:55.087862Z",
     "iopub.status.busy": "2022-07-03T19:48:55.087535Z",
     "iopub.status.idle": "2022-07-03T19:49:04.672540Z",
     "shell.execute_reply": "2022-07-03T19:49:04.671514Z"
    },
    "papermill": {
     "duration": 9.593317,
     "end_time": "2022-07-03T19:49:04.675392",
     "exception": false,
     "start_time": "2022-07-03T19:48:55.082075",
     "status": "completed"
    },
    "tags": []
   },
   "outputs": [],
   "source": [
    "import os\n",
    "import re\n",
    "import cv2\n",
    "import timm\n",
    "import torch\n",
    "import numpy as np\n",
    "import pandas as pd\n",
    "import matplotlib.pyplot as plt\n",
    "\n",
    "from time import time\n",
    "from torch import nn, optim\n",
    "from torch.utils.data import Dataset\n",
    "from torch.utils.data import DataLoader as DL\n",
    "from torchvision import transforms\n",
    "\n",
    "from sklearn.model_selection import StratifiedKFold\n",
    "from sklearn.preprocessing import LabelEncoder\n",
    "from sklearn.metrics import accuracy_score"
   ]
  },
  {
   "cell_type": "markdown",
   "id": "288ece6d",
   "metadata": {
    "papermill": {
     "duration": 0.006352,
     "end_time": "2022-07-03T19:49:04.689669",
     "exception": false,
     "start_time": "2022-07-03T19:49:04.683317",
     "status": "completed"
    },
    "tags": []
   },
   "source": [
    "### **Utilities and Helpers**"
   ]
  },
  {
   "cell_type": "code",
   "execution_count": 3,
   "id": "65720667",
   "metadata": {
    "execution": {
     "iopub.execute_input": "2022-07-03T19:49:04.706424Z",
     "iopub.status.busy": "2022-07-03T19:49:04.704374Z",
     "iopub.status.idle": "2022-07-03T19:49:04.727114Z",
     "shell.execute_reply": "2022-07-03T19:49:04.726401Z"
    },
    "papermill": {
     "duration": 0.033183,
     "end_time": "2022-07-03T19:49:04.729488",
     "exception": false,
     "start_time": "2022-07-03T19:49:04.696305",
     "status": "completed"
    },
    "tags": []
   },
   "outputs": [],
   "source": [
    "SEED = 42\n",
    "SIZE = 384\n",
    "le = LabelEncoder()\n",
    "\n",
    "\n",
    "def breaker(num: int=50, char: str=\"*\") -> None:\n",
    "    print(\"\\n\" + num*char + \"\\n\")\n",
    "\n",
    "    \n",
    "def get_image(path: str, size: int=224) -> np.ndarray:\n",
    "    return cv2.resize(\n",
    "        src=cv2.cvtColor(src=cv2.imread(path, cv2.IMREAD_COLOR), code=cv2.COLOR_BGR2RGB), \n",
    "        dsize=(size, size), \n",
    "        interpolation=cv2.INTER_AREA\n",
    "    )\n",
    "\n",
    "    \n",
    "def show_loss_graphs(L: list) -> None:\n",
    "    TL, VL = [], []\n",
    "    for i in range(len(L)):\n",
    "        TL.append(L[i][\"train\"])\n",
    "        VL.append(L[i][\"valid\"])\n",
    "    x_Axis = np.arange(1, len(TL) + 1)\n",
    "    plt.figure()\n",
    "    plt.plot(x_Axis, TL, \"r\", label=\"Train\")\n",
    "    plt.plot(x_Axis, VL, \"b\", label=\"Valid\")\n",
    "    plt.legend()\n",
    "    plt.grid()\n",
    "    plt.title(\"Loss Graph\")\n",
    "    plt.show()\n",
    "\n",
    "    \n",
    "def show_accuracy_graphs(A: list) -> None:\n",
    "    TA, VA = [], []\n",
    "    for i in range(len(A)):\n",
    "        TA.append(A[i][\"train\"])\n",
    "        VA.append(A[i][\"valid\"])\n",
    "    x_Axis = np.arange(1, len(TA) + 1)\n",
    "    plt.figure()\n",
    "    plt.plot(x_Axis, TA, \"r\", label=\"Train\")\n",
    "    plt.plot(x_Axis, VA, \"b\", label=\"Valid\")\n",
    "    plt.legend()\n",
    "    plt.grid()\n",
    "    plt.title(\"Accuracy Graph\")\n",
    "    plt.show()\n",
    "\n",
    "\n",
    "def show_lr_graph(LR: list) -> None:\n",
    "    x_Axis = [i+1 for i in range(len(LR))]\n",
    "    plt.figure(figsize=(8, 6))\n",
    "    plt.plot(x_Axis, LR, \"rx\")\n",
    "    plt.grid()\n",
    "    plt.show()"
   ]
  },
  {
   "cell_type": "markdown",
   "id": "6d1ce65a",
   "metadata": {
    "papermill": {
     "duration": 0.006809,
     "end_time": "2022-07-03T19:49:04.743550",
     "exception": false,
     "start_time": "2022-07-03T19:49:04.736741",
     "status": "completed"
    },
    "tags": []
   },
   "source": [
    "### **Configuration**"
   ]
  },
  {
   "cell_type": "code",
   "execution_count": 4,
   "id": "ed94177a",
   "metadata": {
    "execution": {
     "iopub.execute_input": "2022-07-03T19:49:04.758941Z",
     "iopub.status.busy": "2022-07-03T19:49:04.758611Z",
     "iopub.status.idle": "2022-07-03T19:49:04.841629Z",
     "shell.execute_reply": "2022-07-03T19:49:04.840869Z"
    },
    "papermill": {
     "duration": 0.093381,
     "end_time": "2022-07-03T19:49:04.844111",
     "exception": false,
     "start_time": "2022-07-03T19:49:04.750730",
     "status": "completed"
    },
    "tags": []
   },
   "outputs": [],
   "source": [
    "class CFG(object):\n",
    "    def __init__(self, \n",
    "                 seed: int = 42,\n",
    "                 n_splits: int = 5,\n",
    "                 batch_size: int = 16,\n",
    "                 epochs: int = 25,\n",
    "                 early_stopping: int = 5,\n",
    "                 lr: float = 1e-4,\n",
    "                 wd: float = 0.0,\n",
    "                 max_lr: float = 1e-3,\n",
    "                 pct_start: float = 0.2,\n",
    "                 steps_per_epoch: int = 100,\n",
    "                 div_factor: int = 1e3, \n",
    "                 final_div_factor: float = 1e3,\n",
    "                 ):\n",
    "        \n",
    "        self.seed = seed\n",
    "        self.n_splits = n_splits\n",
    "        self.batch_size = batch_size\n",
    "        self.epochs = epochs\n",
    "        self.early_stopping = early_stopping\n",
    "        self.lr = lr\n",
    "        self.wd = wd\n",
    "        self.max_lr = max_lr\n",
    "        self.pct_start = pct_start\n",
    "        self.steps_per_epoch = steps_per_epoch\n",
    "        self.div_factor = div_factor\n",
    "        self.final_div_factor = final_div_factor\n",
    "        self.device = torch.device(\"cuda\" if torch.cuda.is_available() else \"cpu\")\n",
    "        self.train_transform = transforms.Compose([transforms.ToTensor(),\n",
    "                                                   transforms.Normalize([0.49699, 0.58823, 0.23049],\n",
    "                                                                        [0.22591, 0.22614, 0.18264]),\n",
    "                                                   transforms.RandomAffine(degrees=(-45, 45), translate=(0.15, 0.15), scale=(0.5, 1.5)),\n",
    "                                                   transforms.RandomHorizontalFlip(p=0.25),\n",
    "                                                   transforms.RandomVerticalFlip(p=0.25),\n",
    "                                                  ])\n",
    "        self.valid_transform = transforms.Compose([transforms.ToTensor(),\n",
    "                                                   transforms.Normalize([0.49699, 0.58823, 0.23049],\n",
    "                                                                        [0.22591, 0.22614, 0.18264]),\n",
    "                                                  ])\n",
    "        self.save_path = \"saves\"\n",
    "        if not os.path.exists(self.save_path): os.makedirs(self.save_path)\n",
    "    \n",
    "cfg = CFG(seed=SEED)"
   ]
  },
  {
   "cell_type": "markdown",
   "id": "27478769",
   "metadata": {
    "papermill": {
     "duration": 0.006781,
     "end_time": "2022-07-03T19:49:04.858291",
     "exception": false,
     "start_time": "2022-07-03T19:49:04.851510",
     "status": "completed"
    },
    "tags": []
   },
   "source": [
    "### **Dataset Template**"
   ]
  },
  {
   "cell_type": "code",
   "execution_count": 5,
   "id": "882f9056",
   "metadata": {
    "execution": {
     "iopub.execute_input": "2022-07-03T19:49:04.873554Z",
     "iopub.status.busy": "2022-07-03T19:49:04.873181Z",
     "iopub.status.idle": "2022-07-03T19:49:04.884814Z",
     "shell.execute_reply": "2022-07-03T19:49:04.884112Z"
    },
    "papermill": {
     "duration": 0.021691,
     "end_time": "2022-07-03T19:49:04.887034",
     "exception": false,
     "start_time": "2022-07-03T19:49:04.865343",
     "status": "completed"
    },
    "tags": []
   },
   "outputs": [],
   "source": [
    "class DS(Dataset):\n",
    "    def __init__(self, \n",
    "                 base_path: str,\n",
    "                 size: int,\n",
    "                 filenames: np.ndarray, \n",
    "                 labelnames: np.ndarray, \n",
    "                 labels: np.ndarray, \n",
    "                 transform):\n",
    "        \n",
    "        self.base_path = base_path\n",
    "        self.size = size\n",
    "        self.filenames = filenames\n",
    "        self.labelnames = labelnames\n",
    "        self.labels = labels\n",
    "        self.transform = transform\n",
    "        \n",
    "    def __len__(self):\n",
    "        return self.filenames.shape[0]\n",
    "    \n",
    "    def __getitem__(self, idx):\n",
    "        image_path = os.path.join(os.path.join(self.base_path, self.labelnames[idx]), self.filenames[idx])\n",
    "        image = get_image(image_path, self.size)\n",
    "        return self.transform(image), torch.LongTensor(self.labels[idx])"
   ]
  },
  {
   "cell_type": "markdown",
   "id": "7eab1219",
   "metadata": {
    "papermill": {
     "duration": 0.006486,
     "end_time": "2022-07-03T19:49:04.900313",
     "exception": false,
     "start_time": "2022-07-03T19:49:04.893827",
     "status": "completed"
    },
    "tags": []
   },
   "source": [
    "### **Model**"
   ]
  },
  {
   "cell_type": "code",
   "execution_count": 6,
   "id": "ac3e8c31",
   "metadata": {
    "execution": {
     "iopub.execute_input": "2022-07-03T19:49:04.914908Z",
     "iopub.status.busy": "2022-07-03T19:49:04.914588Z",
     "iopub.status.idle": "2022-07-03T19:49:04.923600Z",
     "shell.execute_reply": "2022-07-03T19:49:04.922936Z"
    },
    "papermill": {
     "duration": 0.018893,
     "end_time": "2022-07-03T19:49:04.925787",
     "exception": false,
     "start_time": "2022-07-03T19:49:04.906894",
     "status": "completed"
    },
    "tags": []
   },
   "outputs": [],
   "source": [
    "class Model(nn.Module):\n",
    "    def __init__(self):\n",
    "        super(Model, self).__init__()\n",
    "\n",
    "        self.model = timm.create_model(model_name=\"efficientnet_b2\", pretrained=True)\n",
    "        # self.freeze()\n",
    "        self.model.classifier = nn.Linear(in_features=self.model.classifier.in_features, out_features=10)\n",
    "    \n",
    "    def freeze(self):\n",
    "        for params in self.parameters(): params.requires_grad = False\n",
    "\n",
    "    def forward(self, x):\n",
    "        return nn.LogSoftmax(dim=1)(self.model(x))"
   ]
  },
  {
   "cell_type": "markdown",
   "id": "34cd02f6",
   "metadata": {
    "papermill": {
     "duration": 0.006288,
     "end_time": "2022-07-03T19:49:04.939066",
     "exception": false,
     "start_time": "2022-07-03T19:49:04.932778",
     "status": "completed"
    },
    "tags": []
   },
   "source": [
    "### **Fit and Predict Helpers**"
   ]
  },
  {
   "cell_type": "code",
   "execution_count": 7,
   "id": "6d4148e4",
   "metadata": {
    "execution": {
     "iopub.execute_input": "2022-07-03T19:49:04.953430Z",
     "iopub.status.busy": "2022-07-03T19:49:04.953100Z",
     "iopub.status.idle": "2022-07-03T19:49:04.992868Z",
     "shell.execute_reply": "2022-07-03T19:49:04.992220Z"
    },
    "papermill": {
     "duration": 0.048978,
     "end_time": "2022-07-03T19:49:04.994583",
     "exception": false,
     "start_time": "2022-07-03T19:49:04.945605",
     "status": "completed"
    },
    "tags": []
   },
   "outputs": [],
   "source": [
    "def fit(model=None, \n",
    "        optimizer=None, \n",
    "        scheduler_rlrop=None,\n",
    "        scheduler_oclr=None,\n",
    "        epochs=None, \n",
    "        early_stopping_patience=None, \n",
    "        dataloaders=None, \n",
    "        fold=None, \n",
    "        save_path=None,\n",
    "        device=None,\n",
    "        verbose=False) -> tuple:\n",
    "    \n",
    "    def get_accuracy(y_pred, y_true):\n",
    "        y_pred = torch.argmax(y_pred, dim=1)\n",
    "        return torch.count_nonzero(y_pred == y_true).item() / len(y_pred)\n",
    "    \n",
    "    if verbose:\n",
    "        breaker()\n",
    "        if fold: print(f\"Training Fold {fold}...\")\n",
    "        else: print(\"Training ...\")\n",
    "        breaker()\n",
    "        \n",
    "    bestLoss, bestAccs = {\"train\" : np.inf, \"valid\" : np.inf}, {\"train\" : 0.0, \"valid\" : 0.0}\n",
    "    Losses, Accuracies, LRs = [], [], []\n",
    "    if fold: \n",
    "        ble_name = f\"ble_state_fold_{fold}.pt\"\n",
    "        bae_name = f\"bae_state_fold_{fold}.pt\"\n",
    "    else: \n",
    "        ble_name = \"ble_state.pt\"\n",
    "        bae_name = \"bae_state.pt\"\n",
    "\n",
    "    start_time = time()\n",
    "    for e in range(epochs):\n",
    "        e_st = time()\n",
    "        epochLoss, epochAccs = {\"train\" : 0.0, \"valid\" : 0.0}, {\"train\" : 0.0, \"valid\" : 0.0}\n",
    "\n",
    "        for phase in [\"train\", \"valid\"]:\n",
    "            if phase == \"train\":\n",
    "                model.train()\n",
    "            else:\n",
    "                model.eval()\n",
    "            \n",
    "            lossPerPass, accsPerPass = [], []\n",
    "\n",
    "            for X, y in dataloaders[phase]:\n",
    "                X, y = X.to(device), y.to(device).view(-1)\n",
    "\n",
    "                optimizer.zero_grad()\n",
    "                with torch.set_grad_enabled(phase == \"train\"):\n",
    "                    output = model(X)\n",
    "                    loss = torch.nn.NLLLoss()(output, y)\n",
    "                    if phase == \"train\":\n",
    "                        loss.backward()\n",
    "                        optimizer.step()\n",
    "                        if scheduler_oclr: scheduler_oclr.step()\n",
    "                lossPerPass.append(loss.item())\n",
    "                accsPerPass.append(get_accuracy(output, y))\n",
    "            epochLoss[phase] = np.mean(np.array(lossPerPass))\n",
    "            epochAccs[phase] = np.mean(np.array(accsPerPass))\n",
    "        if scheduler_oclr: LRs.append(scheduler_oclr.get_last_lr())\n",
    "        Losses.append(epochLoss)\n",
    "        Accuracies.append(epochAccs)\n",
    "        \n",
    "        if scheduler_oclr:\n",
    "            save_dict = {\"model_state_dict\"     : model.state_dict(),\n",
    "                         \"optim_state_dict\"     : optimizer.state_dict(),\n",
    "                         \"scheduler_state_dict\" : scheduler_oclr.state_dict()}\n",
    "        \n",
    "        elif scheduler_rlrop:\n",
    "            save_dict = {\"model_state_dict\"     : model.state_dict(),\n",
    "                         \"optim_state_dict\"     : optimizer.state_dict(),\n",
    "                         \"scheduler_state_dict\" : scheduler_rlrop.state_dict()}\n",
    "        \n",
    "        else:\n",
    "            save_dict = {\"model_state_dict\"     : model.state_dict(),\n",
    "                         \"optim_state_dict\"     : optimizer.state_dict()}\n",
    "        \n",
    "        if early_stopping_patience:\n",
    "            if epochLoss[\"valid\"] < bestLoss[\"valid\"]:\n",
    "                bestLoss = epochLoss\n",
    "                BLE = e + 1\n",
    "                torch.save(save_dict, os.path.join(save_path, name))\n",
    "                early_stopping_step = 0\n",
    "            else:\n",
    "                early_stopping_step += 1\n",
    "                if early_stopping_step > early_stopping_patience:\n",
    "                    print(\"\\nEarly Stopping at Epoch {}\".format(e + 1))\n",
    "                    break\n",
    "        \n",
    "        if epochLoss[\"valid\"] < bestLoss[\"valid\"]:\n",
    "            bestLoss = epochLoss\n",
    "            BLE = e + 1\n",
    "            torch.save(save_dict,os.path.join(save_path, ble_name))\n",
    "        \n",
    "        if epochAccs[\"valid\"] > bestAccs[\"valid\"]:\n",
    "            bestAccs = epochAccs\n",
    "            BAE = e + 1\n",
    "            torch.save(save_dict,os.path.join(save_path, bae_name))\n",
    "\n",
    "        \n",
    "        if scheduler_rlrop: scheduler_rlrop.step(epochLoss[\"valid\"])\n",
    "        \n",
    "        if verbose:\n",
    "            print(\"Epoch: {} | Train Loss: {:.5f} | Valid Loss: {:.5f} |\\\n",
    " Train Accs: {:.5f} | Valid Accs: {:.5f} | Time: {:.2f} seconds\".format(e+1, \n",
    "                                                                        epochLoss[\"train\"], epochLoss[\"valid\"], \n",
    "                                                                        epochAccs[\"train\"], epochAccs[\"valid\"], \n",
    "                                                                        time()-e_st))\n",
    "\n",
    "    if verbose:                                           \n",
    "        breaker()\n",
    "        print(f\"Best Validation Loss at Epoch {BLE}\")\n",
    "        breaker()\n",
    "        print(f\"Best Validation Accs at Epoch {BAE}\")\n",
    "        breaker()\n",
    "        print(\"Time Taken [{} Epochs] : {:.2f} minutes\".format(len(Losses), (time()-start_time)/60))\n",
    "    \n",
    "    return Losses, Accuracies, LRs, BLE, BAE, ble_name, bae_name\n",
    "\n",
    "\n",
    "def predict_batch(model=None, dataloader=None, path=None, device=None) -> np.ndarray:\n",
    "    model.load_state_dict(torch.load(path, map_location=device)[\"model_state_dict\"])\n",
    "    model.to(device)    \n",
    "    model.eval()\n",
    "    \n",
    "    y_pred = torch.zeros(1, 1).to(device)\n",
    "    \n",
    "    for X in dataloader:\n",
    "        X = X.to(device)\n",
    "        with torch.no_grad():\n",
    "            output = torch.argmax(torch.exp(model(X)), dim=1)\n",
    "        y_pred = torch.cat((y_pred, output.view(-1, 1)), dim=0)\n",
    "    \n",
    "    return y_pred[1:].detach().cpu().numpy()"
   ]
  },
  {
   "cell_type": "markdown",
   "id": "c8b6ba36",
   "metadata": {
    "papermill": {
     "duration": 0.003845,
     "end_time": "2022-07-03T19:49:05.002762",
     "exception": false,
     "start_time": "2022-07-03T19:49:04.998917",
     "status": "completed"
    },
    "tags": []
   },
   "source": [
    "### **Train**"
   ]
  },
  {
   "cell_type": "code",
   "execution_count": 8,
   "id": "8dfc4784",
   "metadata": {
    "execution": {
     "iopub.execute_input": "2022-07-03T19:49:05.012283Z",
     "iopub.status.busy": "2022-07-03T19:49:05.011946Z",
     "iopub.status.idle": "2022-07-03T19:49:05.057614Z",
     "shell.execute_reply": "2022-07-03T19:49:05.056950Z"
    },
    "papermill": {
     "duration": 0.052446,
     "end_time": "2022-07-03T19:49:05.059330",
     "exception": false,
     "start_time": "2022-07-03T19:49:05.006884",
     "status": "completed"
    },
    "tags": []
   },
   "outputs": [],
   "source": [
    "df = pd.read_csv(\"../input/paddy-disease-classification/train.csv\")\n",
    "\n",
    "filenames = df.image_id.copy().values\n",
    "labelnames = df.label.copy().values\n",
    "labels = le.fit_transform(labelnames)"
   ]
  },
  {
   "cell_type": "code",
   "execution_count": 9,
   "id": "f02c3f05",
   "metadata": {
    "execution": {
     "iopub.execute_input": "2022-07-03T19:49:05.068682Z",
     "iopub.status.busy": "2022-07-03T19:49:05.068435Z",
     "iopub.status.idle": "2022-07-03T23:08:39.751777Z",
     "shell.execute_reply": "2022-07-03T23:08:39.750264Z"
    },
    "papermill": {
     "duration": 11974.690204,
     "end_time": "2022-07-03T23:08:39.753597",
     "exception": false,
     "start_time": "2022-07-03T19:49:05.063393",
     "status": "completed"
    },
    "tags": []
   },
   "outputs": [
    {
     "name": "stderr",
     "output_type": "stream",
     "text": [
      "Downloading: \"https://github.com/rwightman/pytorch-image-models/releases/download/v0.1-weights/efficientnet_b2_ra-bcdf34b7.pth\" to /root/.cache/torch/hub/checkpoints/efficientnet_b2_ra-bcdf34b7.pth\n"
     ]
    },
    {
     "name": "stdout",
     "output_type": "stream",
     "text": [
      "\n",
      "**************************************************\n",
      "\n",
      "Training ...\n",
      "\n",
      "**************************************************\n",
      "\n",
      "Epoch: 1 | Train Loss: 2.09731 | Valid Loss: 1.38554 | Train Accs: 0.26791 | Valid Accs: 0.54342 | Time: 396.75 seconds\n",
      "Epoch: 2 | Train Loss: 0.87642 | Valid Loss: 0.53181 | Train Accs: 0.71109 | Valid Accs: 0.83302 | Time: 327.26 seconds\n",
      "Epoch: 3 | Train Loss: 0.55020 | Valid Loss: 0.39781 | Train Accs: 0.82134 | Valid Accs: 0.88406 | Time: 326.92 seconds\n",
      "Epoch: 4 | Train Loss: 0.47109 | Valid Loss: 0.29379 | Train Accs: 0.84613 | Valid Accs: 0.91985 | Time: 324.53 seconds\n",
      "Epoch: 5 | Train Loss: 0.45848 | Valid Loss: 0.41002 | Train Accs: 0.85169 | Valid Accs: 0.85973 | Time: 323.68 seconds\n",
      "Epoch: 6 | Train Loss: 0.41247 | Valid Loss: 0.31764 | Train Accs: 0.86420 | Valid Accs: 0.89361 | Time: 325.15 seconds\n",
      "Epoch: 7 | Train Loss: 0.39732 | Valid Loss: 0.51699 | Train Accs: 0.87368 | Valid Accs: 0.84876 | Time: 321.45 seconds\n",
      "Epoch: 8 | Train Loss: 0.33486 | Valid Loss: 0.22669 | Train Accs: 0.89251 | Valid Accs: 0.92414 | Time: 336.54 seconds\n",
      "Epoch: 9 | Train Loss: 0.28871 | Valid Loss: 0.27339 | Train Accs: 0.91003 | Valid Accs: 0.90935 | Time: 346.49 seconds\n",
      "Epoch: 10 | Train Loss: 0.28974 | Valid Loss: 0.18505 | Train Accs: 0.90755 | Valid Accs: 0.94323 | Time: 361.00 seconds\n",
      "Epoch: 11 | Train Loss: 0.25461 | Valid Loss: 0.27709 | Train Accs: 0.91619 | Valid Accs: 0.91508 | Time: 348.99 seconds\n",
      "Epoch: 12 | Train Loss: 0.24074 | Valid Loss: 0.17172 | Train Accs: 0.92378 | Valid Accs: 0.94752 | Time: 343.18 seconds\n",
      "Epoch: 13 | Train Loss: 0.20419 | Valid Loss: 0.17767 | Train Accs: 0.93462 | Valid Accs: 0.94609 | Time: 337.90 seconds\n",
      "Epoch: 14 | Train Loss: 0.16641 | Valid Loss: 0.15953 | Train Accs: 0.94530 | Valid Accs: 0.95229 | Time: 348.15 seconds\n",
      "Epoch: 15 | Train Loss: 0.16569 | Valid Loss: 0.24814 | Train Accs: 0.94806 | Valid Accs: 0.92891 | Time: 339.06 seconds\n",
      "Epoch: 16 | Train Loss: 0.14995 | Valid Loss: 0.15341 | Train Accs: 0.95214 | Valid Accs: 0.95515 | Time: 347.12 seconds\n",
      "Epoch: 17 | Train Loss: 0.12915 | Valid Loss: 0.14999 | Train Accs: 0.95645 | Valid Accs: 0.96040 | Time: 358.20 seconds\n",
      "Epoch: 18 | Train Loss: 0.11806 | Valid Loss: 0.14758 | Train Accs: 0.95877 | Valid Accs: 0.95849 | Time: 352.48 seconds\n",
      "Epoch: 19 | Train Loss: 0.11362 | Valid Loss: 0.10131 | Train Accs: 0.96257 | Valid Accs: 0.97185 | Time: 334.01 seconds\n",
      "Epoch: 20 | Train Loss: 0.09554 | Valid Loss: 0.11796 | Train Accs: 0.96861 | Valid Accs: 0.97042 | Time: 332.98 seconds\n",
      "Epoch: 21 | Train Loss: 0.08491 | Valid Loss: 0.10465 | Train Accs: 0.97085 | Valid Accs: 0.96756 | Time: 335.37 seconds\n",
      "Epoch: 22 | Train Loss: 0.07000 | Valid Loss: 0.13101 | Train Accs: 0.97445 | Valid Accs: 0.96469 | Time: 341.71 seconds\n",
      "Epoch: 23 | Train Loss: 0.05778 | Valid Loss: 0.11191 | Train Accs: 0.98045 | Valid Accs: 0.96994 | Time: 351.86 seconds\n",
      "Epoch: 24 | Train Loss: 0.05302 | Valid Loss: 0.10798 | Train Accs: 0.98285 | Valid Accs: 0.97090 | Time: 342.42 seconds\n",
      "Epoch: 25 | Train Loss: 0.04456 | Valid Loss: 0.09495 | Train Accs: 0.98476 | Valid Accs: 0.97567 | Time: 334.11 seconds\n",
      "Epoch: 26 | Train Loss: 0.03926 | Valid Loss: 0.08922 | Train Accs: 0.98544 | Valid Accs: 0.97615 | Time: 331.16 seconds\n",
      "Epoch: 27 | Train Loss: 0.04049 | Valid Loss: 0.09302 | Train Accs: 0.98572 | Valid Accs: 0.97376 | Time: 328.16 seconds\n",
      "Epoch: 28 | Train Loss: 0.03207 | Valid Loss: 0.08981 | Train Accs: 0.98896 | Valid Accs: 0.97710 | Time: 326.18 seconds\n",
      "Epoch: 29 | Train Loss: 0.02619 | Valid Loss: 0.08725 | Train Accs: 0.99088 | Valid Accs: 0.97710 | Time: 328.67 seconds\n",
      "Epoch: 30 | Train Loss: 0.02248 | Valid Loss: 0.09250 | Train Accs: 0.99124 | Valid Accs: 0.97567 | Time: 339.67 seconds\n",
      "Epoch: 31 | Train Loss: 0.02248 | Valid Loss: 0.09430 | Train Accs: 0.99044 | Valid Accs: 0.97662 | Time: 361.61 seconds\n",
      "Epoch: 32 | Train Loss: 0.02191 | Valid Loss: 0.09094 | Train Accs: 0.99220 | Valid Accs: 0.97710 | Time: 355.33 seconds\n",
      "Epoch: 33 | Train Loss: 0.01740 | Valid Loss: 0.08764 | Train Accs: 0.99244 | Valid Accs: 0.97853 | Time: 352.42 seconds\n",
      "Epoch: 34 | Train Loss: 0.01654 | Valid Loss: 0.09070 | Train Accs: 0.99272 | Valid Accs: 0.97853 | Time: 354.00 seconds\n",
      "Epoch: 35 | Train Loss: 0.01649 | Valid Loss: 0.09380 | Train Accs: 0.99352 | Valid Accs: 0.97710 | Time: 352.46 seconds\n",
      "\n",
      "**************************************************\n",
      "\n",
      "Best Validation Loss at Epoch 29\n",
      "\n",
      "**************************************************\n",
      "\n",
      "Best Validation Accs at Epoch 33\n",
      "\n",
      "**************************************************\n",
      "\n",
      "Time Taken [35 Epochs] : 199.45 minutes\n",
      "\n",
      "**************************************************\n",
      "\n"
     ]
    },
    {
     "data": {
      "image/png": "[encoded data removed]",
      "text/plain": [
       "<Figure size 432x288 with 1 Axes>"
      ]
     },
     "metadata": {
      "needs_background": "light"
     },
     "output_type": "display_data"
    },
    {
     "name": "stdout",
     "output_type": "stream",
     "text": [
      "\n",
      "**************************************************\n",
      "\n"
     ]
    },
    {
     "data": {
      "image/png": "[encoded data removed]",
      "text/plain": [
       "<Figure size 432x288 with 1 Axes>"
      ]
     },
     "metadata": {
      "needs_background": "light"
     },
     "output_type": "display_data"
    },
    {
     "name": "stdout",
     "output_type": "stream",
     "text": [
      "\n",
      "**************************************************\n",
      "\n"
     ]
    },
    {
     "data": {
      "image/png": "[encoded data removed]",
      "text/plain": [
       "<Figure size 576x432 with 1 Axes>"
      ]
     },
     "metadata": {
      "needs_background": "light"
     },
     "output_type": "display_data"
    },
    {
     "name": "stdout",
     "output_type": "stream",
     "text": [
      "\n",
      "**************************************************\n",
      "\n"
     ]
    }
   ],
   "source": [
    "fold = 1\n",
    "for tr_idx, va_idx in StratifiedKFold(n_splits=cfg.n_splits, random_state=cfg.seed, shuffle=True).split(filenames, labels):\n",
    "    if fold == 3: break\n",
    "    fold += 1\n",
    "\n",
    "tr_filenames, va_filenames   = filenames[tr_idx], filenames[va_idx], \n",
    "tr_labelnames, va_labelnames = labelnames[tr_idx], labelnames[va_idx]\n",
    "tr_labels, va_labels         = labels[tr_idx], labels[va_idx]\n",
    "\n",
    "tr_data_setup = DS(\n",
    "    \"../input/paddy-disease-classification/train_images\",\n",
    "    SIZE,\n",
    "    tr_filenames, \n",
    "    tr_labelnames, \n",
    "    tr_labels.reshape(-1, 1), \n",
    "    cfg.train_transform,\n",
    ")\n",
    "\n",
    "va_data_setup = DS(\n",
    "    \"../input/paddy-disease-classification/train_images\",\n",
    "    SIZE,\n",
    "    va_filenames, \n",
    "    va_labelnames, \n",
    "    va_labels.reshape(-1, 1), \n",
    "    cfg.valid_transform,\n",
    ")\n",
    "\n",
    "dataloaders = {\n",
    "    \"train\" : DL(tr_data_setup, batch_size=cfg.batch_size, shuffle=True, generator=torch.manual_seed(cfg.seed)),\n",
    "    \"valid\" : DL(va_data_setup, batch_size=cfg.batch_size, shuffle=False),\n",
    "}\n",
    "\n",
    "cfg = CFG(epochs=35, batch_size=64, steps_per_epoch=len(dataloaders[\"train\"]))\n",
    "\n",
    "torch.manual_seed(cfg.seed)\n",
    "model = Model().to(cfg.device)\n",
    "\n",
    "optimizer = optim.Adam([p for p in model.parameters() if p.requires_grad], lr=cfg.lr, weight_decay=cfg.wd)\n",
    "# optimizer = optim.AdamW([p for p in model.parameters() if p.requires_grad], lr=cfg.lr, weight_decay=cfg.wd)\n",
    "\n",
    "scheduler_oclr = optim.lr_scheduler.OneCycleLR(optimizer=optimizer, \n",
    "                                               max_lr=cfg.max_lr, \n",
    "                                               epochs=cfg.epochs, \n",
    "                                               steps_per_epoch=cfg.steps_per_epoch,\n",
    "                                               pct_start=cfg.pct_start, \n",
    "                                               div_factor=cfg.div_factor, \n",
    "                                               final_div_factor=cfg.final_div_factor)\n",
    "# scheduler_rlrop = optim.lr_scheduler.ReduceLROnPlateau(optimizer=optimizer,\n",
    "#                                                       patience=cfg.patience,\n",
    "#                                                       eps=cfg.eps,\n",
    "#                                                       verbose=True)\n",
    "\n",
    "# scheduler_oclr = None\n",
    "scheduler_rlrop = None\n",
    "\n",
    "L, A, LR, BLE, BAE, _, _ = fit(model=model, \n",
    "                               optimizer=optimizer, \n",
    "                               scheduler_oclr=scheduler_oclr,\n",
    "                               scheduler_rlrop=scheduler_rlrop,\n",
    "                               epochs=cfg.epochs, \n",
    "                               early_stopping_patience=None, \n",
    "                               dataloaders=dataloaders, \n",
    "                               device=cfg.device,\n",
    "                               save_path=cfg.save_path,\n",
    "                               fold=None,\n",
    "                               verbose=True)\n",
    "\n",
    "breaker()\n",
    "show_loss_graphs(L)\n",
    "breaker()\n",
    "show_accuracy_graphs(A)\n",
    "breaker()\n",
    "\n",
    "if scheduler_oclr:\n",
    "    show_lr_graph(LR)\n",
    "    breaker()"
   ]
  }
 ],
 "metadata": {
  "kernelspec": {
   "display_name": "Python 3",
   "language": "python",
   "name": "python3"
  },
  "language_info": {
   "codemirror_mode": {
    "name": "ipython",
    "version": 3
   },
   "file_extension": ".py",
   "mimetype": "text/x-python",
   "name": "python",
   "nbconvert_exporter": "python",
   "pygments_lexer": "ipython3",
   "version": "3.7.12"
  },
  "papermill": {
   "default_parameters": {},
   "duration": 12007.425101,
   "end_time": "2022-07-03T23:08:43.293781",
   "environment_variables": {},
   "exception": null,
   "input_path": "__notebook__.ipynb",
   "output_path": "__notebook__.ipynb",
   "parameters": {},
   "start_time": "2022-07-03T19:48:35.868680",
   "version": "2.3.4"
  }
 },
 "nbformat": 4,
 "nbformat_minor": 5
}
