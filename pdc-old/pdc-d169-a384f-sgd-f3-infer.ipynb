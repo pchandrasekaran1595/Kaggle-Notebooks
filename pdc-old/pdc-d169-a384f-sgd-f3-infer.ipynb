{
 "cells": [
  {
   "cell_type": "markdown",
   "id": "b88124a6",
   "metadata": {
    "papermill": {
     "duration": 0.006027,
     "end_time": "2022-07-07T10:35:34.591651",
     "exception": false,
     "start_time": "2022-07-07T10:35:34.585624",
     "status": "completed"
    },
    "tags": []
   },
   "source": [
    "### **Library Imports**"
   ]
  },
  {
   "cell_type": "code",
   "execution_count": 1,
   "id": "70b6874d",
   "metadata": {
    "execution": {
     "iopub.execute_input": "2022-07-07T10:35:34.605972Z",
     "iopub.status.busy": "2022-07-07T10:35:34.605441Z",
     "iopub.status.idle": "2022-07-07T10:35:37.430449Z",
     "shell.execute_reply": "2022-07-07T10:35:37.429674Z"
    },
    "papermill": {
     "duration": 2.833306,
     "end_time": "2022-07-07T10:35:37.432624",
     "exception": false,
     "start_time": "2022-07-07T10:35:34.599318",
     "status": "completed"
    },
    "tags": []
   },
   "outputs": [],
   "source": [
    "import os\n",
    "import re\n",
    "import cv2\n",
    "import torch\n",
    "import numpy as np\n",
    "import pandas as pd\n",
    "import matplotlib.pyplot as plt\n",
    "\n",
    "from time import time\n",
    "from torch import nn, optim\n",
    "from torch.utils.data import Dataset\n",
    "from torch.utils.data import DataLoader as DL\n",
    "from torchvision import models, transforms\n",
    "\n",
    "from sklearn.preprocessing import LabelEncoder"
   ]
  },
  {
   "cell_type": "markdown",
   "id": "5f63df72",
   "metadata": {
    "papermill": {
     "duration": 0.003222,
     "end_time": "2022-07-07T10:35:37.439319",
     "exception": false,
     "start_time": "2022-07-07T10:35:37.436097",
     "status": "completed"
    },
    "tags": []
   },
   "source": [
    "### **Utilities and Helpers**"
   ]
  },
  {
   "cell_type": "code",
   "execution_count": 2,
   "id": "921728bb",
   "metadata": {
    "execution": {
     "iopub.execute_input": "2022-07-07T10:35:37.447113Z",
     "iopub.status.busy": "2022-07-07T10:35:37.446251Z",
     "iopub.status.idle": "2022-07-07T10:35:37.498831Z",
     "shell.execute_reply": "2022-07-07T10:35:37.498071Z"
    },
    "papermill": {
     "duration": 0.058221,
     "end_time": "2022-07-07T10:35:37.500524",
     "exception": false,
     "start_time": "2022-07-07T10:35:37.442303",
     "status": "completed"
    },
    "tags": []
   },
   "outputs": [],
   "source": [
    "SEED = 42\n",
    "SIZE = 384\n",
    "FOLD = 3\n",
    "TRANSFORM = transforms.Compose([transforms.ToTensor(),\n",
    "                                transforms.Normalize([0.49699, 0.58823, 0.23049],\n",
    "                                                     [0.22591, 0.22614, 0.18264]),\n",
    "                                ])\n",
    "MODEL_PATH = f\"../input/pdc-d169-a384f-sgd-f3/saves/ble_state.pt\"\n",
    "DEVICE = torch.device(\"cuda\" if torch.cuda.is_available() else \"cpu\")\n",
    "\n",
    "le = LabelEncoder()\n",
    "\n",
    "\n",
    "def breaker(num: int=50, char: str=\"*\") -> None:\n",
    "    print(\"\\n\" + num*char + \"\\n\")\n",
    "\n",
    "\n",
    "def get_image(path: str, size: int=224) -> np.ndarray:\n",
    "    return cv2.resize(src=cv2.cvtColor(src=cv2.imread(path, cv2.IMREAD_COLOR), code=cv2.COLOR_BGR2RGB), dsize=(size, size), interpolation=cv2.INTER_AREA)"
   ]
  },
  {
   "cell_type": "markdown",
   "id": "bf79288e",
   "metadata": {
    "papermill": {
     "duration": 0.002861,
     "end_time": "2022-07-07T10:35:37.506433",
     "exception": false,
     "start_time": "2022-07-07T10:35:37.503572",
     "status": "completed"
    },
    "tags": []
   },
   "source": [
    "### **Configuration**"
   ]
  },
  {
   "cell_type": "markdown",
   "id": "f500e9c7",
   "metadata": {
    "papermill": {
     "duration": 0.002808,
     "end_time": "2022-07-07T10:35:37.512211",
     "exception": false,
     "start_time": "2022-07-07T10:35:37.509403",
     "status": "completed"
    },
    "tags": []
   },
   "source": [
    "### **Dataset Template**"
   ]
  },
  {
   "cell_type": "code",
   "execution_count": 3,
   "id": "afe6323e",
   "metadata": {
    "execution": {
     "iopub.execute_input": "2022-07-07T10:35:37.519300Z",
     "iopub.status.busy": "2022-07-07T10:35:37.519036Z",
     "iopub.status.idle": "2022-07-07T10:35:37.525076Z",
     "shell.execute_reply": "2022-07-07T10:35:37.524340Z"
    },
    "papermill": {
     "duration": 0.011625,
     "end_time": "2022-07-07T10:35:37.526937",
     "exception": false,
     "start_time": "2022-07-07T10:35:37.515312",
     "status": "completed"
    },
    "tags": []
   },
   "outputs": [],
   "source": [
    "class DS(Dataset):\n",
    "    def __init__(self, base_path: str, filenames: np.ndarray, size: int=224, transform=None):\n",
    "        self.base_path = base_path\n",
    "        self.filenames = filenames\n",
    "        self.size = size\n",
    "        self.transform = transform\n",
    "    \n",
    "    def __len__(self):\n",
    "        return self.filenames.shape[0]\n",
    "    \n",
    "    def __getitem__(self, idx):\n",
    "        return self.transform(get_image(os.path.join(self.base_path, self.filenames[idx]), size=self.size))"
   ]
  },
  {
   "cell_type": "markdown",
   "id": "5cd9fce3",
   "metadata": {
    "papermill": {
     "duration": 0.002784,
     "end_time": "2022-07-07T10:35:37.532942",
     "exception": false,
     "start_time": "2022-07-07T10:35:37.530158",
     "status": "completed"
    },
    "tags": []
   },
   "source": [
    "### **Model**"
   ]
  },
  {
   "cell_type": "code",
   "execution_count": 4,
   "id": "1011d029",
   "metadata": {
    "execution": {
     "iopub.execute_input": "2022-07-07T10:35:37.539778Z",
     "iopub.status.busy": "2022-07-07T10:35:37.539539Z",
     "iopub.status.idle": "2022-07-07T10:35:37.545135Z",
     "shell.execute_reply": "2022-07-07T10:35:37.544453Z"
    },
    "papermill": {
     "duration": 0.010799,
     "end_time": "2022-07-07T10:35:37.546720",
     "exception": false,
     "start_time": "2022-07-07T10:35:37.535921",
     "status": "completed"
    },
    "tags": []
   },
   "outputs": [],
   "source": [
    "class Model(nn.Module):\n",
    "    def __init__(self):\n",
    "        super(Model, self).__init__()\n",
    "\n",
    "        self.model = models.densenet169(pretrained=False, progress=True)\n",
    "        # self.freeze()\n",
    "        self.model.classifier = nn.Linear(in_features=self.model.classifier.in_features, out_features=10)\n",
    "    \n",
    "    def freeze(self):\n",
    "        for params in self.parameters(): params.requires_grad = False\n",
    "\n",
    "    def forward(self, x):\n",
    "        return nn.LogSoftmax(dim=1)(self.model(x))"
   ]
  },
  {
   "cell_type": "markdown",
   "id": "e9d10cd5",
   "metadata": {
    "papermill": {
     "duration": 0.002882,
     "end_time": "2022-07-07T10:35:37.552574",
     "exception": false,
     "start_time": "2022-07-07T10:35:37.549692",
     "status": "completed"
    },
    "tags": []
   },
   "source": [
    "### **Predict Helpers**"
   ]
  },
  {
   "cell_type": "code",
   "execution_count": 5,
   "id": "cf99cb0e",
   "metadata": {
    "execution": {
     "iopub.execute_input": "2022-07-07T10:35:37.559542Z",
     "iopub.status.busy": "2022-07-07T10:35:37.559288Z",
     "iopub.status.idle": "2022-07-07T10:35:37.565662Z",
     "shell.execute_reply": "2022-07-07T10:35:37.564875Z"
    },
    "papermill": {
     "duration": 0.011743,
     "end_time": "2022-07-07T10:35:37.567410",
     "exception": false,
     "start_time": "2022-07-07T10:35:37.555667",
     "status": "completed"
    },
    "tags": []
   },
   "outputs": [],
   "source": [
    "def predict_batch(model=None, dataloader=None, path=None, device=None) -> np.ndarray:\n",
    "    model.load_state_dict(torch.load(path, map_location=device)[\"model_state_dict\"])\n",
    "    model.to(device)    \n",
    "    model.eval()\n",
    "    \n",
    "    y_pred = torch.zeros(1, 1).to(device)\n",
    "    \n",
    "    for X in dataloader:\n",
    "        X = X.to(device)\n",
    "        with torch.no_grad():\n",
    "            output = torch.argmax(torch.exp(model(X)), dim=1)\n",
    "        y_pred = torch.cat((y_pred, output.view(-1, 1)), dim=0)\n",
    "    \n",
    "    return y_pred[1:].detach().cpu().numpy()"
   ]
  },
  {
   "cell_type": "markdown",
   "id": "7bf85da0",
   "metadata": {
    "papermill": {
     "duration": 0.002794,
     "end_time": "2022-07-07T10:35:37.573549",
     "exception": false,
     "start_time": "2022-07-07T10:35:37.570755",
     "status": "completed"
    },
    "tags": []
   },
   "source": [
    "### **Submission**"
   ]
  },
  {
   "cell_type": "code",
   "execution_count": 6,
   "id": "0799296c",
   "metadata": {
    "execution": {
     "iopub.execute_input": "2022-07-07T10:35:37.580898Z",
     "iopub.status.busy": "2022-07-07T10:35:37.580636Z",
     "iopub.status.idle": "2022-07-07T10:37:04.040640Z",
     "shell.execute_reply": "2022-07-07T10:37:04.039763Z"
    },
    "papermill": {
     "duration": 86.46633,
     "end_time": "2022-07-07T10:37:04.042865",
     "exception": false,
     "start_time": "2022-07-07T10:35:37.576535",
     "status": "completed"
    },
    "tags": []
   },
   "outputs": [],
   "source": [
    "df = pd.read_csv(\"../input/paddy-disease-classification/train.csv\")\n",
    "ss_df = pd.read_csv(\"../input/paddy-disease-classification/sample_submission.csv\")\n",
    "\n",
    "labels = df.label.copy().values\n",
    "labels = le.fit_transform(labels)\n",
    "\n",
    "ts_data_setup = DS(base_path=\"../input/paddy-disease-classification/test_images\", \n",
    "                   filenames=ss_df.image_id.copy().values,\n",
    "                   size=SIZE,\n",
    "                   transform=TRANSFORM)\n",
    "ts_data = DL(ts_data_setup, batch_size=64, shuffle=False)\n",
    "\n",
    "model = Model().to(DEVICE)\n",
    "\n",
    "y_pred = predict_batch(model=model, \n",
    "                       dataloader=ts_data, \n",
    "                       path=MODEL_PATH,\n",
    "                       device=DEVICE)\n",
    "\n",
    "ss_df[\"label\"] = le.inverse_transform(y_pred.astype(\"uint8\").reshape(-1))\n",
    "ss_df.to_csv(\"submission.csv\", index=False)"
   ]
  }
 ],
 "metadata": {
  "kernelspec": {
   "display_name": "Python 3",
   "language": "python",
   "name": "python3"
  },
  "language_info": {
   "codemirror_mode": {
    "name": "ipython",
    "version": 3
   },
   "file_extension": ".py",
   "mimetype": "text/x-python",
   "name": "python",
   "nbconvert_exporter": "python",
   "pygments_lexer": "ipython3",
   "version": "3.7.12"
  },
  "papermill": {
   "default_parameters": {},
   "duration": 98.98049,
   "end_time": "2022-07-07T10:37:05.368347",
   "environment_variables": {},
   "exception": null,
   "input_path": "__notebook__.ipynb",
   "output_path": "__notebook__.ipynb",
   "parameters": {},
   "start_time": "2022-07-07T10:35:26.387857",
   "version": "2.3.4"
  }
 },
 "nbformat": 4,
 "nbformat_minor": 5
}
