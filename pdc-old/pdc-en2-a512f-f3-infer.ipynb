{
 "cells": [
  {
   "cell_type": "markdown",
   "id": "1061d1c5",
   "metadata": {
    "papermill": {
     "duration": 0.008172,
     "end_time": "2022-07-20T17:45:13.830205",
     "exception": false,
     "start_time": "2022-07-20T17:45:13.822033",
     "status": "completed"
    },
    "tags": []
   },
   "source": [
    "### **Setup**"
   ]
  },
  {
   "cell_type": "code",
   "execution_count": 1,
   "id": "9e5e1e7d",
   "metadata": {
    "execution": {
     "iopub.execute_input": "2022-07-20T17:45:13.850391Z",
     "iopub.status.busy": "2022-07-20T17:45:13.849781Z",
     "iopub.status.idle": "2022-07-20T17:45:27.572315Z",
     "shell.execute_reply": "2022-07-20T17:45:27.570518Z"
    },
    "papermill": {
     "duration": 13.735334,
     "end_time": "2022-07-20T17:45:27.576131",
     "exception": false,
     "start_time": "2022-07-20T17:45:13.840797",
     "status": "completed"
    },
    "tags": []
   },
   "outputs": [
    {
     "name": "stderr",
     "output_type": "stream",
     "text": [
      "WARNING: Running pip as the 'root' user can result in broken permissions and conflicting behaviour with the system package manager. It is recommended to use a virtual environment instead: https://pip.pypa.io/warnings/venv\n"
     ]
    }
   ],
   "source": [
    "%%bash\n",
    "pip install timm -q"
   ]
  },
  {
   "cell_type": "markdown",
   "id": "9be0837b",
   "metadata": {
    "papermill": {
     "duration": 0.004172,
     "end_time": "2022-07-20T17:45:27.584973",
     "exception": false,
     "start_time": "2022-07-20T17:45:27.580801",
     "status": "completed"
    },
    "tags": []
   },
   "source": [
    "### **Library Imports**"
   ]
  },
  {
   "cell_type": "code",
   "execution_count": 2,
   "id": "96011695",
   "metadata": {
    "execution": {
     "iopub.execute_input": "2022-07-20T17:45:27.594874Z",
     "iopub.status.busy": "2022-07-20T17:45:27.594562Z",
     "iopub.status.idle": "2022-07-20T17:45:37.032341Z",
     "shell.execute_reply": "2022-07-20T17:45:37.030963Z"
    },
    "papermill": {
     "duration": 9.445934,
     "end_time": "2022-07-20T17:45:37.035107",
     "exception": false,
     "start_time": "2022-07-20T17:45:27.589173",
     "status": "completed"
    },
    "tags": []
   },
   "outputs": [],
   "source": [
    "import os\n",
    "import re\n",
    "import cv2\n",
    "import timm\n",
    "import torch\n",
    "import numpy as np\n",
    "import pandas as pd\n",
    "import matplotlib.pyplot as plt\n",
    "\n",
    "from time import time\n",
    "from torch import nn, optim\n",
    "from torch.utils.data import Dataset\n",
    "from torch.utils.data import DataLoader as DL\n",
    "from torchvision import models, transforms\n",
    "\n",
    "from sklearn.preprocessing import LabelEncoder"
   ]
  },
  {
   "cell_type": "markdown",
   "id": "07b32ae1",
   "metadata": {
    "papermill": {
     "duration": 0.003951,
     "end_time": "2022-07-20T17:45:37.043996",
     "exception": false,
     "start_time": "2022-07-20T17:45:37.040045",
     "status": "completed"
    },
    "tags": []
   },
   "source": [
    "### **Utilities and Helpers**"
   ]
  },
  {
   "cell_type": "code",
   "execution_count": 3,
   "id": "9e61554f",
   "metadata": {
    "execution": {
     "iopub.execute_input": "2022-07-20T17:45:37.056254Z",
     "iopub.status.busy": "2022-07-20T17:45:37.054063Z",
     "iopub.status.idle": "2022-07-20T17:45:37.133180Z",
     "shell.execute_reply": "2022-07-20T17:45:37.132150Z"
    },
    "papermill": {
     "duration": 0.086681,
     "end_time": "2022-07-20T17:45:37.135265",
     "exception": false,
     "start_time": "2022-07-20T17:45:37.048584",
     "status": "completed"
    },
    "tags": []
   },
   "outputs": [],
   "source": [
    "SEED = 42\n",
    "SIZE = 512\n",
    "FOLD = 3\n",
    "TRANSFORM = transforms.Compose([transforms.ToTensor(),\n",
    "                                transforms.Normalize([0.49650, 0.58774, 0.23004],\n",
    "                                                     [0.22750, 0.22771, 0.18430]),\n",
    "                                ])\n",
    "MODEL_PATH = f\"../input/pdc-en2-a512f-f3/saves/ble_state.pt\"\n",
    "DEVICE = torch.device(\"cuda\" if torch.cuda.is_available() else \"cpu\")\n",
    "\n",
    "le = LabelEncoder()\n",
    "\n",
    "\n",
    "def breaker(num: int=50, char: str=\"*\") -> None:\n",
    "    print(\"\\n\" + num*char + \"\\n\")\n",
    "\n",
    "\n",
    "def get_image(path: str, size: int=224) -> np.ndarray:\n",
    "    return cv2.resize(src=cv2.cvtColor(src=cv2.imread(path, cv2.IMREAD_COLOR), code=cv2.COLOR_BGR2RGB), dsize=(size, size), interpolation=cv2.INTER_AREA)"
   ]
  },
  {
   "cell_type": "markdown",
   "id": "aace0ed0",
   "metadata": {
    "papermill": {
     "duration": 0.003809,
     "end_time": "2022-07-20T17:45:37.143406",
     "exception": false,
     "start_time": "2022-07-20T17:45:37.139597",
     "status": "completed"
    },
    "tags": []
   },
   "source": [
    "### **Configuration**"
   ]
  },
  {
   "cell_type": "markdown",
   "id": "80b23bf6",
   "metadata": {
    "papermill": {
     "duration": 0.004027,
     "end_time": "2022-07-20T17:45:37.151648",
     "exception": false,
     "start_time": "2022-07-20T17:45:37.147621",
     "status": "completed"
    },
    "tags": []
   },
   "source": [
    "### **Dataset Template**"
   ]
  },
  {
   "cell_type": "code",
   "execution_count": 4,
   "id": "ded45313",
   "metadata": {
    "execution": {
     "iopub.execute_input": "2022-07-20T17:45:37.161130Z",
     "iopub.status.busy": "2022-07-20T17:45:37.160829Z",
     "iopub.status.idle": "2022-07-20T17:45:37.168244Z",
     "shell.execute_reply": "2022-07-20T17:45:37.167192Z"
    },
    "papermill": {
     "duration": 0.014998,
     "end_time": "2022-07-20T17:45:37.170701",
     "exception": false,
     "start_time": "2022-07-20T17:45:37.155703",
     "status": "completed"
    },
    "tags": []
   },
   "outputs": [],
   "source": [
    "class DS(Dataset):\n",
    "    def __init__(self, base_path: str, filenames: np.ndarray, size: int=224, transform=None):\n",
    "        self.base_path = base_path\n",
    "        self.filenames = filenames\n",
    "        self.size = size\n",
    "        self.transform = transform\n",
    "    \n",
    "    def __len__(self):\n",
    "        return self.filenames.shape[0]\n",
    "    \n",
    "    def __getitem__(self, idx):\n",
    "        return self.transform(get_image(os.path.join(self.base_path, self.filenames[idx]), size=self.size))"
   ]
  },
  {
   "cell_type": "markdown",
   "id": "f5fe40a9",
   "metadata": {
    "papermill": {
     "duration": 0.003858,
     "end_time": "2022-07-20T17:45:37.178801",
     "exception": false,
     "start_time": "2022-07-20T17:45:37.174943",
     "status": "completed"
    },
    "tags": []
   },
   "source": [
    "### **Model**"
   ]
  },
  {
   "cell_type": "code",
   "execution_count": 5,
   "id": "983909a6",
   "metadata": {
    "execution": {
     "iopub.execute_input": "2022-07-20T17:45:37.188535Z",
     "iopub.status.busy": "2022-07-20T17:45:37.188164Z",
     "iopub.status.idle": "2022-07-20T17:45:37.195401Z",
     "shell.execute_reply": "2022-07-20T17:45:37.194256Z"
    },
    "papermill": {
     "duration": 0.014557,
     "end_time": "2022-07-20T17:45:37.197633",
     "exception": false,
     "start_time": "2022-07-20T17:45:37.183076",
     "status": "completed"
    },
    "tags": []
   },
   "outputs": [],
   "source": [
    "class Model(nn.Module):\n",
    "    def __init__(self):\n",
    "        super(Model, self).__init__()\n",
    "\n",
    "        self.model = timm.create_model(model_name=\"efficientnet_b2\", pretrained=False)\n",
    "        # self.freeze()\n",
    "        self.model.classifier = nn.Linear(in_features=self.model.classifier.in_features, out_features=10)\n",
    "    \n",
    "    def freeze(self):\n",
    "        for params in self.parameters(): params.requires_grad = False\n",
    "\n",
    "    def forward(self, x):\n",
    "        return nn.LogSoftmax(dim=1)(self.model(x))"
   ]
  },
  {
   "cell_type": "markdown",
   "id": "a707780c",
   "metadata": {
    "papermill": {
     "duration": 0.004016,
     "end_time": "2022-07-20T17:45:37.206014",
     "exception": false,
     "start_time": "2022-07-20T17:45:37.201998",
     "status": "completed"
    },
    "tags": []
   },
   "source": [
    "### **Predict Helpers**"
   ]
  },
  {
   "cell_type": "code",
   "execution_count": 6,
   "id": "340e69b2",
   "metadata": {
    "execution": {
     "iopub.execute_input": "2022-07-20T17:45:37.215323Z",
     "iopub.status.busy": "2022-07-20T17:45:37.214975Z",
     "iopub.status.idle": "2022-07-20T17:45:37.223388Z",
     "shell.execute_reply": "2022-07-20T17:45:37.222373Z"
    },
    "papermill": {
     "duration": 0.015504,
     "end_time": "2022-07-20T17:45:37.225584",
     "exception": false,
     "start_time": "2022-07-20T17:45:37.210080",
     "status": "completed"
    },
    "tags": []
   },
   "outputs": [],
   "source": [
    "def predict_batch(model=None, dataloader=None, path=None, device=None) -> np.ndarray:\n",
    "    model.load_state_dict(torch.load(path, map_location=device)[\"model_state_dict\"])\n",
    "    model.to(device)    \n",
    "    model.eval()\n",
    "    \n",
    "    y_pred = torch.zeros(1, 1).to(device)\n",
    "    \n",
    "    for X in dataloader:\n",
    "        X = X.to(device)\n",
    "        with torch.no_grad():\n",
    "            output = torch.argmax(torch.exp(model(X)), dim=1)\n",
    "        y_pred = torch.cat((y_pred, output.view(-1, 1)), dim=0)\n",
    "    \n",
    "    return y_pred[1:].detach().cpu().numpy()"
   ]
  },
  {
   "cell_type": "markdown",
   "id": "7a770015",
   "metadata": {
    "papermill": {
     "duration": 0.005304,
     "end_time": "2022-07-20T17:45:37.235570",
     "exception": false,
     "start_time": "2022-07-20T17:45:37.230266",
     "status": "completed"
    },
    "tags": []
   },
   "source": [
    "### **Submission**"
   ]
  },
  {
   "cell_type": "code",
   "execution_count": 7,
   "id": "ba1ab08a",
   "metadata": {
    "execution": {
     "iopub.execute_input": "2022-07-20T17:45:37.245769Z",
     "iopub.status.busy": "2022-07-20T17:45:37.245206Z",
     "iopub.status.idle": "2022-07-20T17:46:58.950581Z",
     "shell.execute_reply": "2022-07-20T17:46:58.949498Z"
    },
    "papermill": {
     "duration": 81.713057,
     "end_time": "2022-07-20T17:46:58.953169",
     "exception": false,
     "start_time": "2022-07-20T17:45:37.240112",
     "status": "completed"
    },
    "tags": []
   },
   "outputs": [],
   "source": [
    "df = pd.read_csv(\"../input/paddy-disease-classification/train.csv\")\n",
    "ss_df = pd.read_csv(\"../input/paddy-disease-classification/sample_submission.csv\")\n",
    "\n",
    "labels = df.label.copy().values\n",
    "labels = le.fit_transform(labels)\n",
    "\n",
    "ts_data_setup = DS(base_path=\"../input/paddy-disease-classification/test_images\", \n",
    "                   filenames=ss_df.image_id.copy().values,\n",
    "                   size=SIZE,\n",
    "                   transform=TRANSFORM)\n",
    "ts_data = DL(ts_data_setup, batch_size=64, shuffle=False)\n",
    "\n",
    "model = Model().to(DEVICE)\n",
    "\n",
    "y_pred = predict_batch(model=model, \n",
    "                       dataloader=ts_data, \n",
    "                       path=MODEL_PATH,\n",
    "                       device=DEVICE)\n",
    "\n",
    "ss_df[\"label\"] = le.inverse_transform(y_pred.astype(\"uint8\").reshape(-1))\n",
    "ss_df.to_csv(\"submission.csv\", index=False)"
   ]
  }
 ],
 "metadata": {
  "kernelspec": {
   "display_name": "Python 3",
   "language": "python",
   "name": "python3"
  },
  "language_info": {
   "codemirror_mode": {
    "name": "ipython",
    "version": 3
   },
   "file_extension": ".py",
   "mimetype": "text/x-python",
   "name": "python",
   "nbconvert_exporter": "python",
   "pygments_lexer": "ipython3",
   "version": "3.7.12"
  },
  "papermill": {
   "default_parameters": {},
   "duration": 117.634406,
   "end_time": "2022-07-20T17:47:01.790088",
   "environment_variables": {},
   "exception": null,
   "input_path": "__notebook__.ipynb",
   "output_path": "__notebook__.ipynb",
   "parameters": {},
   "start_time": "2022-07-20T17:45:04.155682",
   "version": "2.3.4"
  }
 },
 "nbformat": 4,
 "nbformat_minor": 5
}
