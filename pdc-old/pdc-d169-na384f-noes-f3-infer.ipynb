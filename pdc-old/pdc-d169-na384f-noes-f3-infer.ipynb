{
 "cells": [
  {
   "cell_type": "markdown",
   "id": "f9e72008",
   "metadata": {
    "papermill": {
     "duration": 0.004126,
     "end_time": "2022-06-17T17:56:41.063393",
     "exception": false,
     "start_time": "2022-06-17T17:56:41.059267",
     "status": "completed"
    },
    "tags": []
   },
   "source": [
    "### **Library Imports**"
   ]
  },
  {
   "cell_type": "code",
   "execution_count": 1,
   "id": "aa3e87e0",
   "metadata": {
    "execution": {
     "iopub.execute_input": "2022-06-17T17:56:41.074351Z",
     "iopub.status.busy": "2022-06-17T17:56:41.073570Z",
     "iopub.status.idle": "2022-06-17T17:56:44.237788Z",
     "shell.execute_reply": "2022-06-17T17:56:44.236997Z"
    },
    "papermill": {
     "duration": 3.171531,
     "end_time": "2022-06-17T17:56:44.240337",
     "exception": false,
     "start_time": "2022-06-17T17:56:41.068806",
     "status": "completed"
    },
    "tags": []
   },
   "outputs": [],
   "source": [
    "import os\n",
    "import re\n",
    "import cv2\n",
    "import torch\n",
    "import numpy as np\n",
    "import pandas as pd\n",
    "import matplotlib.pyplot as plt\n",
    "\n",
    "from time import time\n",
    "from torch import nn, optim\n",
    "from torch.utils.data import Dataset\n",
    "from torch.utils.data import DataLoader as DL\n",
    "from torchvision import models, transforms\n",
    "\n",
    "from sklearn.preprocessing import LabelEncoder"
   ]
  },
  {
   "cell_type": "markdown",
   "id": "77f66fce",
   "metadata": {
    "papermill": {
     "duration": 0.002934,
     "end_time": "2022-06-17T17:56:44.247021",
     "exception": false,
     "start_time": "2022-06-17T17:56:44.244087",
     "status": "completed"
    },
    "tags": []
   },
   "source": [
    "### **Utilities and Helpers**"
   ]
  },
  {
   "cell_type": "code",
   "execution_count": 2,
   "id": "a660f041",
   "metadata": {
    "execution": {
     "iopub.execute_input": "2022-06-17T17:56:44.254403Z",
     "iopub.status.busy": "2022-06-17T17:56:44.253984Z",
     "iopub.status.idle": "2022-06-17T17:56:44.324810Z",
     "shell.execute_reply": "2022-06-17T17:56:44.324021Z"
    },
    "papermill": {
     "duration": 0.076442,
     "end_time": "2022-06-17T17:56:44.326487",
     "exception": false,
     "start_time": "2022-06-17T17:56:44.250045",
     "status": "completed"
    },
    "tags": []
   },
   "outputs": [],
   "source": [
    "SEED = 42\n",
    "SIZE = 384\n",
    "FOLD = 3\n",
    "TRANSFORM = transforms.Compose([transforms.ToTensor(),\n",
    "                                transforms.Normalize([0.49699, 0.58823, 0.23049],\n",
    "                                                     [0.22591, 0.22614, 0.18264]),\n",
    "                                ])\n",
    "MODEL_PATH = f\"../input/pdc-d169-na{SIZE}f-noes-f{FOLD}/saves/ble_state.pt\"\n",
    "DEVICE = torch.device(\"cuda\" if torch.cuda.is_available() else \"cpu\")\n",
    "\n",
    "le = LabelEncoder()\n",
    "\n",
    "\n",
    "def breaker(num: int=50, char: str=\"*\") -> None:\n",
    "    print(\"\\n\" + num*char + \"\\n\")\n",
    "\n",
    "\n",
    "def get_image(path: str, size: int=224) -> np.ndarray:\n",
    "    return cv2.resize(src=cv2.cvtColor(src=cv2.imread(path, cv2.IMREAD_COLOR), code=cv2.COLOR_BGR2RGB), dsize=(size, size), interpolation=cv2.INTER_AREA)"
   ]
  },
  {
   "cell_type": "markdown",
   "id": "b816375d",
   "metadata": {
    "papermill": {
     "duration": 0.002858,
     "end_time": "2022-06-17T17:56:44.332844",
     "exception": false,
     "start_time": "2022-06-17T17:56:44.329986",
     "status": "completed"
    },
    "tags": []
   },
   "source": [
    "### **Configuration**"
   ]
  },
  {
   "cell_type": "markdown",
   "id": "d4fc6a76",
   "metadata": {
    "papermill": {
     "duration": 0.002805,
     "end_time": "2022-06-17T17:56:44.338633",
     "exception": false,
     "start_time": "2022-06-17T17:56:44.335828",
     "status": "completed"
    },
    "tags": []
   },
   "source": [
    "### **Dataset Template**"
   ]
  },
  {
   "cell_type": "code",
   "execution_count": 3,
   "id": "6035517d",
   "metadata": {
    "execution": {
     "iopub.execute_input": "2022-06-17T17:56:44.345830Z",
     "iopub.status.busy": "2022-06-17T17:56:44.345526Z",
     "iopub.status.idle": "2022-06-17T17:56:44.352304Z",
     "shell.execute_reply": "2022-06-17T17:56:44.351640Z"
    },
    "papermill": {
     "duration": 0.012293,
     "end_time": "2022-06-17T17:56:44.353925",
     "exception": false,
     "start_time": "2022-06-17T17:56:44.341632",
     "status": "completed"
    },
    "tags": []
   },
   "outputs": [],
   "source": [
    "class DS(Dataset):\n",
    "    def __init__(self, base_path: str, filenames: np.ndarray, size: int=224, transform=None):\n",
    "        self.base_path = base_path\n",
    "        self.filenames = filenames\n",
    "        self.size = size\n",
    "        self.transform = transform\n",
    "    \n",
    "    def __len__(self):\n",
    "        return self.filenames.shape[0]\n",
    "    \n",
    "    def __getitem__(self, idx):\n",
    "        return self.transform(get_image(os.path.join(self.base_path, self.filenames[idx]), size=self.size))"
   ]
  },
  {
   "cell_type": "markdown",
   "id": "49f27a07",
   "metadata": {
    "papermill": {
     "duration": 0.002836,
     "end_time": "2022-06-17T17:56:44.359758",
     "exception": false,
     "start_time": "2022-06-17T17:56:44.356922",
     "status": "completed"
    },
    "tags": []
   },
   "source": [
    "### **Model**"
   ]
  },
  {
   "cell_type": "code",
   "execution_count": 4,
   "id": "01f30a24",
   "metadata": {
    "execution": {
     "iopub.execute_input": "2022-06-17T17:56:44.366764Z",
     "iopub.status.busy": "2022-06-17T17:56:44.366488Z",
     "iopub.status.idle": "2022-06-17T17:56:44.372507Z",
     "shell.execute_reply": "2022-06-17T17:56:44.371667Z"
    },
    "papermill": {
     "duration": 0.011487,
     "end_time": "2022-06-17T17:56:44.374256",
     "exception": false,
     "start_time": "2022-06-17T17:56:44.362769",
     "status": "completed"
    },
    "tags": []
   },
   "outputs": [],
   "source": [
    "class Model(nn.Module):\n",
    "    def __init__(self):\n",
    "        super(Model, self).__init__()\n",
    "\n",
    "        self.model = models.densenet169(pretrained=False, progress=True)\n",
    "        # self.freeze()\n",
    "        self.model.classifier = nn.Linear(in_features=self.model.classifier.in_features, out_features=10)\n",
    "    \n",
    "    def freeze(self):\n",
    "        for params in self.parameters(): params.requires_grad = False\n",
    "\n",
    "    def forward(self, x):\n",
    "        return nn.LogSoftmax(dim=1)(self.model(x))"
   ]
  },
  {
   "cell_type": "markdown",
   "id": "1ac4b8da",
   "metadata": {
    "papermill": {
     "duration": 0.003113,
     "end_time": "2022-06-17T17:56:44.380703",
     "exception": false,
     "start_time": "2022-06-17T17:56:44.377590",
     "status": "completed"
    },
    "tags": []
   },
   "source": [
    "### **Predict Helpers**"
   ]
  },
  {
   "cell_type": "code",
   "execution_count": 5,
   "id": "40959f0c",
   "metadata": {
    "execution": {
     "iopub.execute_input": "2022-06-17T17:56:44.388274Z",
     "iopub.status.busy": "2022-06-17T17:56:44.387676Z",
     "iopub.status.idle": "2022-06-17T17:56:44.394387Z",
     "shell.execute_reply": "2022-06-17T17:56:44.393583Z"
    },
    "papermill": {
     "duration": 0.01227,
     "end_time": "2022-06-17T17:56:44.396087",
     "exception": false,
     "start_time": "2022-06-17T17:56:44.383817",
     "status": "completed"
    },
    "tags": []
   },
   "outputs": [],
   "source": [
    "def predict_batch(model=None, dataloader=None, path=None, device=None) -> np.ndarray:\n",
    "    model.load_state_dict(torch.load(path, map_location=device)[\"model_state_dict\"])\n",
    "    model.to(device)    \n",
    "    model.eval()\n",
    "    \n",
    "    y_pred = torch.zeros(1, 1).to(device)\n",
    "    \n",
    "    for X in dataloader:\n",
    "        X = X.to(device)\n",
    "        with torch.no_grad():\n",
    "            output = torch.argmax(torch.exp(model(X)), dim=1)\n",
    "        y_pred = torch.cat((y_pred, output.view(-1, 1)), dim=0)\n",
    "    \n",
    "    return y_pred[1:].detach().cpu().numpy()"
   ]
  },
  {
   "cell_type": "markdown",
   "id": "1226782d",
   "metadata": {
    "papermill": {
     "duration": 0.002983,
     "end_time": "2022-06-17T17:56:44.402187",
     "exception": false,
     "start_time": "2022-06-17T17:56:44.399204",
     "status": "completed"
    },
    "tags": []
   },
   "source": [
    "### **Submission**"
   ]
  },
  {
   "cell_type": "code",
   "execution_count": 6,
   "id": "1a788de5",
   "metadata": {
    "execution": {
     "iopub.execute_input": "2022-06-17T17:56:44.410586Z",
     "iopub.status.busy": "2022-06-17T17:56:44.409913Z",
     "iopub.status.idle": "2022-06-17T17:58:07.587539Z",
     "shell.execute_reply": "2022-06-17T17:58:07.586757Z"
    },
    "papermill": {
     "duration": 83.184273,
     "end_time": "2022-06-17T17:58:07.589692",
     "exception": false,
     "start_time": "2022-06-17T17:56:44.405419",
     "status": "completed"
    },
    "tags": []
   },
   "outputs": [],
   "source": [
    "df = pd.read_csv(\"../input/paddy-disease-classification/train.csv\")\n",
    "ss_df = pd.read_csv(\"../input/paddy-disease-classification/sample_submission.csv\")\n",
    "\n",
    "labels = df.label.copy().values\n",
    "labels = le.fit_transform(labels)\n",
    "\n",
    "ts_data_setup = DS(base_path=\"../input/paddy-disease-classification/test_images\", \n",
    "                   filenames=ss_df.image_id.copy().values,\n",
    "                   size=SIZE,\n",
    "                   transform=TRANSFORM)\n",
    "ts_data = DL(ts_data_setup, batch_size=64, shuffle=False)\n",
    "\n",
    "model = Model().to(DEVICE)\n",
    "\n",
    "y_pred = predict_batch(model=model, \n",
    "                       dataloader=ts_data, \n",
    "                       path=MODEL_PATH,\n",
    "                       device=DEVICE)\n",
    "\n",
    "ss_df[\"label\"] = le.inverse_transform(y_pred.astype(\"uint8\").reshape(-1))\n",
    "ss_df.to_csv(\"submission.csv\", index=False)"
   ]
  }
 ],
 "metadata": {
  "kernelspec": {
   "display_name": "Python 3",
   "language": "python",
   "name": "python3"
  },
  "language_info": {
   "codemirror_mode": {
    "name": "ipython",
    "version": 3
   },
   "file_extension": ".py",
   "mimetype": "text/x-python",
   "name": "python",
   "nbconvert_exporter": "python",
   "pygments_lexer": "ipython3",
   "version": "3.7.12"
  },
  "papermill": {
   "default_parameters": {},
   "duration": 96.184487,
   "end_time": "2022-06-17T17:58:09.015060",
   "environment_variables": {},
   "exception": null,
   "input_path": "__notebook__.ipynb",
   "output_path": "__notebook__.ipynb",
   "parameters": {},
   "start_time": "2022-06-17T17:56:32.830573",
   "version": "2.3.4"
  }
 },
 "nbformat": 4,
 "nbformat_minor": 5
}
