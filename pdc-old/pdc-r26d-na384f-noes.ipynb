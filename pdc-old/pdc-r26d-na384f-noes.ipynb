{
 "cells": [
  {
   "cell_type": "markdown",
   "id": "dc4ef6bf",
   "metadata": {
    "_cell_guid": "b1076dfc-b9ad-4769-8c92-a6c4dae69d19",
    "_uuid": "8f2839f25d086af736a60e9eeb907d3b93b6e0e5",
    "papermill": {
     "duration": 0.004942,
     "end_time": "2022-06-19T05:24:35.494598",
     "exception": false,
     "start_time": "2022-06-19T05:24:35.489656",
     "status": "completed"
    },
    "tags": []
   },
   "source": [
    "### **Setup**"
   ]
  },
  {
   "cell_type": "code",
   "execution_count": 1,
   "id": "5fbae111",
   "metadata": {
    "execution": {
     "iopub.execute_input": "2022-06-19T05:24:35.504381Z",
     "iopub.status.busy": "2022-06-19T05:24:35.503846Z",
     "iopub.status.idle": "2022-06-19T05:24:46.009418Z",
     "shell.execute_reply": "2022-06-19T05:24:46.008353Z"
    },
    "papermill": {
     "duration": 10.513054,
     "end_time": "2022-06-19T05:24:46.011761",
     "exception": false,
     "start_time": "2022-06-19T05:24:35.498707",
     "status": "completed"
    },
    "tags": []
   },
   "outputs": [
    {
     "name": "stderr",
     "output_type": "stream",
     "text": [
      "WARNING: Running pip as the 'root' user can result in broken permissions and conflicting behaviour with the system package manager. It is recommended to use a virtual environment instead: https://pip.pypa.io/warnings/venv\n"
     ]
    }
   ],
   "source": [
    "%%bash\n",
    "pip install -q timm"
   ]
  },
  {
   "cell_type": "markdown",
   "id": "731cd66d",
   "metadata": {
    "papermill": {
     "duration": 0.004583,
     "end_time": "2022-06-19T05:24:46.020984",
     "exception": false,
     "start_time": "2022-06-19T05:24:46.016401",
     "status": "completed"
    },
    "tags": []
   },
   "source": [
    "### **Library Imports**"
   ]
  },
  {
   "cell_type": "code",
   "execution_count": 2,
   "id": "352dc863",
   "metadata": {
    "execution": {
     "iopub.execute_input": "2022-06-19T05:24:46.031728Z",
     "iopub.status.busy": "2022-06-19T05:24:46.031396Z",
     "iopub.status.idle": "2022-06-19T05:24:54.209070Z",
     "shell.execute_reply": "2022-06-19T05:24:54.208149Z"
    },
    "papermill": {
     "duration": 8.185367,
     "end_time": "2022-06-19T05:24:54.211204",
     "exception": false,
     "start_time": "2022-06-19T05:24:46.025837",
     "status": "completed"
    },
    "tags": []
   },
   "outputs": [],
   "source": [
    "import os\n",
    "import re\n",
    "import timm\n",
    "import torch\n",
    "import numpy as np\n",
    "import pandas as pd\n",
    "import matplotlib.pyplot as plt\n",
    "\n",
    "from time import time\n",
    "from torch import nn, optim\n",
    "from torch.utils.data import Dataset\n",
    "from torch.utils.data import DataLoader as DL\n",
    "from torchvision import models, transforms\n",
    "\n",
    "from sklearn.model_selection import StratifiedKFold\n",
    "from sklearn.preprocessing import LabelEncoder\n",
    "from sklearn.metrics import accuracy_score"
   ]
  },
  {
   "cell_type": "markdown",
   "id": "1f2b5b4d",
   "metadata": {
    "papermill": {
     "duration": 0.004138,
     "end_time": "2022-06-19T05:24:54.219640",
     "exception": false,
     "start_time": "2022-06-19T05:24:54.215502",
     "status": "completed"
    },
    "tags": []
   },
   "source": [
    "### **Utilities and Helpers**"
   ]
  },
  {
   "cell_type": "code",
   "execution_count": 3,
   "id": "b6545bdb",
   "metadata": {
    "execution": {
     "iopub.execute_input": "2022-06-19T05:24:54.230534Z",
     "iopub.status.busy": "2022-06-19T05:24:54.229587Z",
     "iopub.status.idle": "2022-06-19T05:24:54.242064Z",
     "shell.execute_reply": "2022-06-19T05:24:54.241379Z"
    },
    "papermill": {
     "duration": 0.020153,
     "end_time": "2022-06-19T05:24:54.243766",
     "exception": false,
     "start_time": "2022-06-19T05:24:54.223613",
     "status": "completed"
    },
    "tags": []
   },
   "outputs": [],
   "source": [
    "SEED = 42\n",
    "SIZE = 384\n",
    "le = LabelEncoder()\n",
    "\n",
    "\n",
    "def breaker(num: int=50, char: str=\"*\") -> None:\n",
    "    print(\"\\n\" + num*char + \"\\n\")\n",
    "\n",
    "    \n",
    "def show_loss_graphs(A: list) -> None:\n",
    "    TL, VL = [], []\n",
    "    for i in range(len(L)):\n",
    "        TL.append(L[i][\"train\"])\n",
    "        VL.append(L[i][\"valid\"])\n",
    "    x_Axis = np.arange(1, len(TL) + 1)\n",
    "    plt.figure()\n",
    "    plt.plot(x_Axis, TL, \"r\", label=\"Train\")\n",
    "    plt.plot(x_Axis, VL, \"b\", label=\"Valid\")\n",
    "    plt.legend()\n",
    "    plt.grid()\n",
    "    plt.title(\"Loss Graph\")\n",
    "    plt.show()\n",
    "\n",
    "    \n",
    "def show_accuracy_graphs(A: list) -> None:\n",
    "    TA, VA = [], []\n",
    "    for i in range(len(L)):\n",
    "        TA.append(A[i][\"train\"])\n",
    "        VA.append(A[i][\"valid\"])\n",
    "    x_Axis = np.arange(1, len(TA) + 1)\n",
    "    plt.figure()\n",
    "    plt.plot(x_Axis, TA, \"r\", label=\"Train\")\n",
    "    plt.plot(x_Axis, VA, \"b\", label=\"Valid\")\n",
    "    plt.legend()\n",
    "    plt.grid()\n",
    "    plt.title(\"Accuracy Graph\")\n",
    "    plt.show()\n",
    "\n",
    "\n",
    "def show_lr_graph(LR: list) -> None:\n",
    "    x_Axis = [i+1 for i in range(len(LR))]\n",
    "    plt.figure(figsize=(8, 6))\n",
    "    plt.plot(x_Axis, LR, \"rx\")\n",
    "    plt.grid()\n",
    "    plt.show()"
   ]
  },
  {
   "cell_type": "markdown",
   "id": "47913f84",
   "metadata": {
    "papermill": {
     "duration": 0.003814,
     "end_time": "2022-06-19T05:24:54.251517",
     "exception": false,
     "start_time": "2022-06-19T05:24:54.247703",
     "status": "completed"
    },
    "tags": []
   },
   "source": [
    "### **Configuration**"
   ]
  },
  {
   "cell_type": "code",
   "execution_count": 4,
   "id": "e2b0bce1",
   "metadata": {
    "execution": {
     "iopub.execute_input": "2022-06-19T05:24:54.260629Z",
     "iopub.status.busy": "2022-06-19T05:24:54.260364Z",
     "iopub.status.idle": "2022-06-19T05:24:54.328292Z",
     "shell.execute_reply": "2022-06-19T05:24:54.327496Z"
    },
    "papermill": {
     "duration": 0.074443,
     "end_time": "2022-06-19T05:24:54.329962",
     "exception": false,
     "start_time": "2022-06-19T05:24:54.255519",
     "status": "completed"
    },
    "tags": []
   },
   "outputs": [],
   "source": [
    "class CFG(object):\n",
    "    def __init__(self, \n",
    "                 seed: int = 42,\n",
    "                 n_splits: int = 5,\n",
    "                 batch_size: int = 16,\n",
    "                 epochs: int = 25,\n",
    "                 early_stopping: int = 5,\n",
    "                 lr: float = 1e-4,\n",
    "                 wd: float = 0.0,\n",
    "                 max_lr: float = 1e-3,\n",
    "                 pct_start: float = 0.2,\n",
    "                 steps_per_epoch: int = 100,\n",
    "                 div_factor: int = 1e3, \n",
    "                 final_div_factor: float = 1e3,\n",
    "                 ):\n",
    "        \n",
    "        self.seed = seed\n",
    "        self.n_splits = n_splits\n",
    "        self.batch_size = batch_size\n",
    "        self.epochs = epochs\n",
    "        self.early_stopping = early_stopping\n",
    "        self.lr = lr\n",
    "        self.wd = wd\n",
    "        self.max_lr = max_lr\n",
    "        self.pct_start = pct_start\n",
    "        self.steps_per_epoch = steps_per_epoch\n",
    "        self.div_factor = div_factor\n",
    "        self.final_div_factor = final_div_factor\n",
    "        self.device = torch.device(\"cuda\" if torch.cuda.is_available() else \"cpu\")\n",
    "        self.transform = transforms.Compose([transforms.ToTensor(),\n",
    "                                transforms.Normalize([0.49699, 0.58823, 0.23049],\n",
    "                                                     [0.22591, 0.22614, 0.18264]),\n",
    "                                ])\n",
    "        self.save_path = \"saves\"\n",
    "        if not os.path.exists(self.save_path): os.makedirs(self.save_path)\n",
    "    \n",
    "cfg = CFG(seed=SEED)"
   ]
  },
  {
   "cell_type": "markdown",
   "id": "573e893a",
   "metadata": {
    "papermill": {
     "duration": 0.003942,
     "end_time": "2022-06-19T05:24:54.338093",
     "exception": false,
     "start_time": "2022-06-19T05:24:54.334151",
     "status": "completed"
    },
    "tags": []
   },
   "source": [
    "### **Dataset Template**"
   ]
  },
  {
   "cell_type": "code",
   "execution_count": 5,
   "id": "79f99967",
   "metadata": {
    "execution": {
     "iopub.execute_input": "2022-06-19T05:24:54.347366Z",
     "iopub.status.busy": "2022-06-19T05:24:54.347053Z",
     "iopub.status.idle": "2022-06-19T05:24:54.353041Z",
     "shell.execute_reply": "2022-06-19T05:24:54.352329Z"
    },
    "papermill": {
     "duration": 0.012563,
     "end_time": "2022-06-19T05:24:54.354718",
     "exception": false,
     "start_time": "2022-06-19T05:24:54.342155",
     "status": "completed"
    },
    "tags": []
   },
   "outputs": [],
   "source": [
    "class DS(Dataset):\n",
    "    def __init__(self, images: np.ndarray, labels: np.ndarray = None, transform=None):\n",
    "        self.images = images\n",
    "        self.labels = labels\n",
    "        self.transform = transform\n",
    "    \n",
    "    def __len__(self):\n",
    "        return self.images.shape[0]\n",
    "    \n",
    "    def __getitem__(self, idx):\n",
    "        if self.labels is not None:\n",
    "            return self.transform(self.images[idx]), torch.LongTensor(self.labels[idx])\n",
    "        else:\n",
    "            return self.transform(self.images[idx])"
   ]
  },
  {
   "cell_type": "markdown",
   "id": "0e5ad785",
   "metadata": {
    "papermill": {
     "duration": 0.00382,
     "end_time": "2022-06-19T05:24:54.362519",
     "exception": false,
     "start_time": "2022-06-19T05:24:54.358699",
     "status": "completed"
    },
    "tags": []
   },
   "source": [
    "### **Model**"
   ]
  },
  {
   "cell_type": "code",
   "execution_count": 6,
   "id": "b9083d20",
   "metadata": {
    "execution": {
     "iopub.execute_input": "2022-06-19T05:24:54.371904Z",
     "iopub.status.busy": "2022-06-19T05:24:54.371573Z",
     "iopub.status.idle": "2022-06-19T05:24:54.377618Z",
     "shell.execute_reply": "2022-06-19T05:24:54.376928Z"
    },
    "papermill": {
     "duration": 0.012719,
     "end_time": "2022-06-19T05:24:54.379422",
     "exception": false,
     "start_time": "2022-06-19T05:24:54.366703",
     "status": "completed"
    },
    "tags": []
   },
   "outputs": [],
   "source": [
    "class Model(nn.Module):\n",
    "    def __init__(self):\n",
    "        super(Model, self).__init__()\n",
    "\n",
    "        self.model = timm.create_model(model_name=\"resnet26d\", pretrained=True)\n",
    "        # self.freeze()\n",
    "        self.model.fc = nn.Linear(in_features=self.model.fc.in_features, out_features=10)\n",
    "    \n",
    "    def freeze(self):\n",
    "        for params in self.parameters(): params.requires_grad = False\n",
    "\n",
    "    def forward(self, x):\n",
    "        return nn.LogSoftmax(dim=1)(self.model(x))"
   ]
  },
  {
   "cell_type": "markdown",
   "id": "b15a52e5",
   "metadata": {
    "papermill": {
     "duration": 0.004257,
     "end_time": "2022-06-19T05:24:54.388160",
     "exception": false,
     "start_time": "2022-06-19T05:24:54.383903",
     "status": "completed"
    },
    "tags": []
   },
   "source": [
    "### **Fit and Predict Helpers**"
   ]
  },
  {
   "cell_type": "code",
   "execution_count": 7,
   "id": "70a22f28",
   "metadata": {
    "execution": {
     "iopub.execute_input": "2022-06-19T05:24:54.398931Z",
     "iopub.status.busy": "2022-06-19T05:24:54.398654Z",
     "iopub.status.idle": "2022-06-19T05:24:54.426560Z",
     "shell.execute_reply": "2022-06-19T05:24:54.425903Z"
    },
    "papermill": {
     "duration": 0.034847,
     "end_time": "2022-06-19T05:24:54.428349",
     "exception": false,
     "start_time": "2022-06-19T05:24:54.393502",
     "status": "completed"
    },
    "tags": []
   },
   "outputs": [],
   "source": [
    "def fit(model=None, \n",
    "        optimizer=None, \n",
    "        scheduler_rlrop=None,\n",
    "        scheduler_oclr=None,\n",
    "        epochs=None, \n",
    "        early_stopping_patience=None, \n",
    "        dataloaders=None, \n",
    "        fold=None, \n",
    "        save_path=None,\n",
    "        device=None,\n",
    "        verbose=False) -> tuple:\n",
    "    \n",
    "    def get_accuracy(y_pred, y_true):\n",
    "        y_pred = torch.argmax(y_pred, dim=1)\n",
    "        return torch.count_nonzero(y_pred == y_true).item() / len(y_pred)\n",
    "    \n",
    "    if verbose:\n",
    "        breaker()\n",
    "        if fold: print(f\"Training Fold {fold}...\")\n",
    "        else: print(\"Training ...\")\n",
    "        breaker()\n",
    "        \n",
    "    bestLoss, bestAccs = {\"train\" : np.inf, \"valid\" : np.inf}, {\"train\" : 0.0, \"valid\" : 0.0}\n",
    "    Losses, Accuracies, LRs = [], [], []\n",
    "    if fold: \n",
    "        ble_name = f\"ble_state_fold_{fold}.pt\"\n",
    "        bae_name = f\"bae_state_fold_{fold}.pt\"\n",
    "    else: \n",
    "        ble_name = \"ble_state.pt\"\n",
    "        bae_name = \"bae_state.pt\"\n",
    "\n",
    "    start_time = time()\n",
    "    for e in range(epochs):\n",
    "        e_st = time()\n",
    "        epochLoss, epochAccs = {\"train\" : 0.0, \"valid\" : 0.0}, {\"train\" : 0.0, \"valid\" : 0.0}\n",
    "\n",
    "        for phase in [\"train\", \"valid\"]:\n",
    "            if phase == \"train\":\n",
    "                model.train()\n",
    "            else:\n",
    "                model.eval()\n",
    "            \n",
    "            lossPerPass, accsPerPass = [], []\n",
    "\n",
    "            for X, y in dataloaders[phase]:\n",
    "                X, y = X.to(device), y.to(device).view(-1)\n",
    "\n",
    "                optimizer.zero_grad()\n",
    "                with torch.set_grad_enabled(phase == \"train\"):\n",
    "                    output = model(X)\n",
    "                    loss = torch.nn.NLLLoss()(output, y)\n",
    "                    if phase == \"train\":\n",
    "                        loss.backward()\n",
    "                        optimizer.step()\n",
    "                        if scheduler_oclr: scheduler_oclr.step()\n",
    "                lossPerPass.append(loss.item())\n",
    "                accsPerPass.append(get_accuracy(output, y))\n",
    "            epochLoss[phase] = np.mean(np.array(lossPerPass))\n",
    "            epochAccs[phase] = np.mean(np.array(accsPerPass))\n",
    "        if scheduler_oclr: LRs.append(scheduler_oclr.get_last_lr())\n",
    "        Losses.append(epochLoss)\n",
    "        Accuracies.append(epochAccs)\n",
    "        \n",
    "        if scheduler_oclr:\n",
    "            save_dict = {\"model_state_dict\"     : model.state_dict(),\n",
    "                         \"optim_state_dict\"     : optimizer.state_dict(),\n",
    "                         \"scheduler_state_dict\" : scheduler_oclr.state_dict()}\n",
    "        \n",
    "        elif scheduler_rlrop:\n",
    "            save_dict = {\"model_state_dict\"     : model.state_dict(),\n",
    "                         \"optim_state_dict\"     : optimizer.state_dict(),\n",
    "                         \"scheduler_state_dict\" : scheduler_rlrop.state_dict()}\n",
    "        \n",
    "        else:\n",
    "            save_dict = {\"model_state_dict\"     : model.state_dict(),\n",
    "                         \"optim_state_dict\"     : optimizer.state_dict()}\n",
    "        \n",
    "        if early_stopping_patience:\n",
    "            if epochLoss[\"valid\"] < bestLoss[\"valid\"]:\n",
    "                bestLoss = epochLoss\n",
    "                BLE = e + 1\n",
    "                torch.save(save_dict, os.path.join(save_path, name))\n",
    "                early_stopping_step = 0\n",
    "            else:\n",
    "                early_stopping_step += 1\n",
    "                if early_stopping_step > early_stopping_patience:\n",
    "                    print(\"\\nEarly Stopping at Epoch {}\".format(e + 1))\n",
    "                    break\n",
    "        \n",
    "        if epochLoss[\"valid\"] < bestLoss[\"valid\"]:\n",
    "            bestLoss = epochLoss\n",
    "            BLE = e + 1\n",
    "            torch.save(save_dict,os.path.join(save_path, ble_name))\n",
    "        \n",
    "        if epochAccs[\"valid\"] > bestAccs[\"valid\"]:\n",
    "            bestAccs = epochAccs\n",
    "            BAE = e + 1\n",
    "            torch.save(save_dict,os.path.join(save_path, bae_name))\n",
    "\n",
    "        \n",
    "        if scheduler_rlrop: scheduler_rlrop.step(epochLoss[\"valid\"])\n",
    "        \n",
    "        if verbose:\n",
    "            print(\"Epoch: {} | Train Loss: {:.5f} | Valid Loss: {:.5f} |\\\n",
    " Train Accs: {:.5f} | Valid Accs: {:.5f} | Time: {:.2f} seconds\".format(e+1, \n",
    "                                                                        epochLoss[\"train\"], epochLoss[\"valid\"], \n",
    "                                                                        epochAccs[\"train\"], epochAccs[\"valid\"], \n",
    "                                                                        time()-e_st))\n",
    "\n",
    "    if verbose:                                           \n",
    "        breaker()\n",
    "        print(f\"Best Validation Loss at Epoch {BLE}\")\n",
    "        breaker()\n",
    "        print(f\"Best Validation Accs at Epoch {BAE}\")\n",
    "        breaker()\n",
    "        print(\"Time Taken [{} Epochs] : {:.2f} minutes\".format(len(Losses), (time()-start_time)/60))\n",
    "    \n",
    "    return Losses, Accuracies, LRs, BLE, BAE, ble_name, bae_name\n",
    "\n",
    "\n",
    "def predict_batch(model=None, dataloader=None, path=None, device=None) -> np.ndarray:\n",
    "    model.load_state_dict(torch.load(path, map_location=device)[\"model_state_dict\"])\n",
    "    model.to(device)    \n",
    "    model.eval()\n",
    "    \n",
    "    y_pred = torch.zeros(1, 1).to(device)\n",
    "    \n",
    "    for X in dataloader:\n",
    "        X = X.to(device)\n",
    "        with torch.no_grad():\n",
    "            output = torch.argmax(torch.exp(model(X)), dim=1)\n",
    "        y_pred = torch.cat((y_pred, output.view(-1, 1)), dim=0)\n",
    "    \n",
    "    return y_pred[1:].detach().cpu().numpy()"
   ]
  },
  {
   "cell_type": "markdown",
   "id": "96c8f632",
   "metadata": {
    "papermill": {
     "duration": 0.003796,
     "end_time": "2022-06-19T05:24:54.436200",
     "exception": false,
     "start_time": "2022-06-19T05:24:54.432404",
     "status": "completed"
    },
    "tags": []
   },
   "source": [
    "### **Train**"
   ]
  },
  {
   "cell_type": "code",
   "execution_count": 8,
   "id": "ef5e5a2d",
   "metadata": {
    "execution": {
     "iopub.execute_input": "2022-06-19T05:24:54.445817Z",
     "iopub.status.busy": "2022-06-19T05:24:54.445155Z",
     "iopub.status.idle": "2022-06-19T05:26:03.569508Z",
     "shell.execute_reply": "2022-06-19T05:26:03.568724Z"
    },
    "papermill": {
     "duration": 69.131468,
     "end_time": "2022-06-19T05:26:03.571619",
     "exception": false,
     "start_time": "2022-06-19T05:24:54.440151",
     "status": "completed"
    },
    "tags": []
   },
   "outputs": [],
   "source": [
    "images = np.load(f\"../input/pdc-images-{SIZE}/images-{SIZE}.npy\")\n",
    "df = pd.read_csv(\"../input/paddy-disease-classification/train.csv\")\n",
    "labels = df.label.copy().values\n",
    "labels = le.fit_transform(labels)"
   ]
  },
  {
   "cell_type": "code",
   "execution_count": 9,
   "id": "ecb82bbb",
   "metadata": {
    "execution": {
     "iopub.execute_input": "2022-06-19T05:26:03.582108Z",
     "iopub.status.busy": "2022-06-19T05:26:03.581815Z",
     "iopub.status.idle": "2022-06-19T06:42:00.016227Z",
     "shell.execute_reply": "2022-06-19T06:42:00.015365Z"
    },
    "papermill": {
     "duration": 4556.443213,
     "end_time": "2022-06-19T06:42:00.019494",
     "exception": false,
     "start_time": "2022-06-19T05:26:03.576281",
     "status": "completed"
    },
    "tags": []
   },
   "outputs": [
    {
     "name": "stderr",
     "output_type": "stream",
     "text": [
      "Downloading: \"https://github.com/rwightman/pytorch-image-models/releases/download/v0.1-weights/resnet26d-69e92c46.pth\" to /root/.cache/torch/hub/checkpoints/resnet26d-69e92c46.pth\n"
     ]
    },
    {
     "name": "stdout",
     "output_type": "stream",
     "text": [
      "\n",
      "**************************************************\n",
      "\n",
      "Training ...\n",
      "\n",
      "**************************************************\n",
      "\n",
      "Epoch: 1 | Train Loss: 1.88897 | Valid Loss: 0.95274 | Train Accs: 0.35518 | Valid Accs: 0.68416 | Time: 137.00 seconds\n",
      "Epoch: 2 | Train Loss: 0.60065 | Valid Loss: 0.46423 | Train Accs: 0.81598 | Valid Accs: 0.85878 | Time: 130.13 seconds\n",
      "Epoch: 3 | Train Loss: 0.38932 | Valid Loss: 0.96506 | Train Accs: 0.87800 | Valid Accs: 0.77767 | Time: 129.13 seconds\n",
      "Epoch: 4 | Train Loss: 0.41749 | Valid Loss: 0.87771 | Train Accs: 0.87111 | Valid Accs: 0.73903 | Time: 128.49 seconds\n",
      "Epoch: 5 | Train Loss: 0.37868 | Valid Loss: 0.50149 | Train Accs: 0.88467 | Valid Accs: 0.84399 | Time: 128.95 seconds\n",
      "Epoch: 6 | Train Loss: 0.34857 | Valid Loss: 0.52600 | Train Accs: 0.89415 | Valid Accs: 0.85782 | Time: 128.42 seconds\n",
      "Epoch: 7 | Train Loss: 0.26238 | Valid Loss: 0.60836 | Train Accs: 0.91855 | Valid Accs: 0.82013 | Time: 128.81 seconds\n",
      "Epoch: 8 | Train Loss: 0.21756 | Valid Loss: 0.29823 | Train Accs: 0.92992 | Valid Accs: 0.92462 | Time: 129.52 seconds\n",
      "Epoch: 9 | Train Loss: 0.15676 | Valid Loss: 0.33757 | Train Accs: 0.94854 | Valid Accs: 0.91794 | Time: 128.48 seconds\n",
      "Epoch: 10 | Train Loss: 0.14232 | Valid Loss: 0.35541 | Train Accs: 0.95801 | Valid Accs: 0.90840 | Time: 129.12 seconds\n",
      "Epoch: 11 | Train Loss: 0.13030 | Valid Loss: 0.28716 | Train Accs: 0.95787 | Valid Accs: 0.92128 | Time: 129.24 seconds\n",
      "Epoch: 12 | Train Loss: 0.11682 | Valid Loss: 0.37097 | Train Accs: 0.96375 | Valid Accs: 0.91746 | Time: 129.82 seconds\n",
      "Epoch: 13 | Train Loss: 0.10422 | Valid Loss: 0.28287 | Train Accs: 0.96807 | Valid Accs: 0.93273 | Time: 131.14 seconds\n",
      "Epoch: 14 | Train Loss: 0.08540 | Valid Loss: 0.35916 | Train Accs: 0.97229 | Valid Accs: 0.90172 | Time: 131.19 seconds\n",
      "Epoch: 15 | Train Loss: 0.06141 | Valid Loss: 0.25770 | Train Accs: 0.98213 | Valid Accs: 0.93464 | Time: 131.95 seconds\n",
      "Epoch: 16 | Train Loss: 0.05795 | Valid Loss: 0.30034 | Train Accs: 0.98153 | Valid Accs: 0.92987 | Time: 130.54 seconds\n",
      "Epoch: 17 | Train Loss: 0.04057 | Valid Loss: 0.18953 | Train Accs: 0.98740 | Valid Accs: 0.95181 | Time: 131.54 seconds\n",
      "Epoch: 18 | Train Loss: 0.03888 | Valid Loss: 0.23223 | Train Accs: 0.98824 | Valid Accs: 0.94847 | Time: 131.11 seconds\n",
      "Epoch: 19 | Train Loss: 0.02000 | Valid Loss: 0.28850 | Train Accs: 0.99364 | Valid Accs: 0.94036 | Time: 130.12 seconds\n",
      "Epoch: 20 | Train Loss: 0.02467 | Valid Loss: 0.24258 | Train Accs: 0.99232 | Valid Accs: 0.95372 | Time: 131.38 seconds\n",
      "Epoch: 21 | Train Loss: 0.01952 | Valid Loss: 0.26342 | Train Accs: 0.99386 | Valid Accs: 0.94561 | Time: 131.05 seconds\n",
      "Epoch: 22 | Train Loss: 0.02002 | Valid Loss: 0.20962 | Train Accs: 0.99328 | Valid Accs: 0.95897 | Time: 131.04 seconds\n",
      "Epoch: 23 | Train Loss: 0.00956 | Valid Loss: 0.26189 | Train Accs: 0.99724 | Valid Accs: 0.95658 | Time: 128.60 seconds\n",
      "Epoch: 24 | Train Loss: 0.00875 | Valid Loss: 0.25165 | Train Accs: 0.99784 | Valid Accs: 0.95611 | Time: 127.93 seconds\n",
      "Epoch: 25 | Train Loss: 0.00413 | Valid Loss: 0.20898 | Train Accs: 0.99928 | Valid Accs: 0.96088 | Time: 129.23 seconds\n",
      "Epoch: 26 | Train Loss: 0.00057 | Valid Loss: 0.21431 | Train Accs: 1.00000 | Valid Accs: 0.96279 | Time: 129.22 seconds\n",
      "Epoch: 27 | Train Loss: 0.00047 | Valid Loss: 0.21983 | Train Accs: 1.00000 | Valid Accs: 0.96231 | Time: 128.94 seconds\n",
      "Epoch: 28 | Train Loss: 0.00042 | Valid Loss: 0.22548 | Train Accs: 1.00000 | Valid Accs: 0.96231 | Time: 129.80 seconds\n",
      "Epoch: 29 | Train Loss: 0.00096 | Valid Loss: 0.23181 | Train Accs: 0.99988 | Valid Accs: 0.96088 | Time: 128.78 seconds\n",
      "Epoch: 30 | Train Loss: 0.00061 | Valid Loss: 0.21051 | Train Accs: 0.99988 | Valid Accs: 0.96231 | Time: 128.66 seconds\n",
      "Epoch: 31 | Train Loss: 0.00021 | Valid Loss: 0.21888 | Train Accs: 1.00000 | Valid Accs: 0.96040 | Time: 128.34 seconds\n",
      "Epoch: 32 | Train Loss: 0.00014 | Valid Loss: 0.21527 | Train Accs: 1.00000 | Valid Accs: 0.96135 | Time: 128.78 seconds\n",
      "Epoch: 33 | Train Loss: 0.00010 | Valid Loss: 0.22207 | Train Accs: 1.00000 | Valid Accs: 0.96279 | Time: 129.36 seconds\n",
      "Epoch: 34 | Train Loss: 0.00012 | Valid Loss: 0.21725 | Train Accs: 1.00000 | Valid Accs: 0.96231 | Time: 128.61 seconds\n",
      "Epoch: 35 | Train Loss: 0.00016 | Valid Loss: 0.22025 | Train Accs: 1.00000 | Valid Accs: 0.96279 | Time: 128.82 seconds\n",
      "\n",
      "**************************************************\n",
      "\n",
      "Best Validation Loss at Epoch 17\n",
      "\n",
      "**************************************************\n",
      "\n",
      "Best Validation Accs at Epoch 26\n",
      "\n",
      "**************************************************\n",
      "\n",
      "Time Taken [35 Epochs] : 75.72 minutes\n",
      "\n",
      "**************************************************\n",
      "\n"
     ]
    },
    {
     "data": {
      "image/png": "[encoded data removed]",
      "text/plain": [
       "<Figure size 432x288 with 1 Axes>"
      ]
     },
     "metadata": {
      "needs_background": "light"
     },
     "output_type": "display_data"
    },
    {
     "name": "stdout",
     "output_type": "stream",
     "text": [
      "\n",
      "**************************************************\n",
      "\n"
     ]
    },
    {
     "data": {
      "image/png": "[encoded data removed]",
      "text/plain": [
       "<Figure size 432x288 with 1 Axes>"
      ]
     },
     "metadata": {
      "needs_background": "light"
     },
     "output_type": "display_data"
    },
    {
     "name": "stdout",
     "output_type": "stream",
     "text": [
      "\n",
      "**************************************************\n",
      "\n"
     ]
    },
    {
     "data": {
      "image/png": "[encoded data removed]",
      "text/plain": [
       "<Figure size 576x432 with 1 Axes>"
      ]
     },
     "metadata": {
      "needs_background": "light"
     },
     "output_type": "display_data"
    },
    {
     "name": "stdout",
     "output_type": "stream",
     "text": [
      "\n",
      "**************************************************\n",
      "\n"
     ]
    }
   ],
   "source": [
    "for tr_idx, va_idx in StratifiedKFold(n_splits=cfg.n_splits, random_state=cfg.seed, shuffle=True).split(images, labels):\n",
    "    break\n",
    "\n",
    "tr_images, va_images, tr_labels, va_labels = images[tr_idx], images[va_idx], labels[tr_idx], labels[va_idx]\n",
    "\n",
    "tr_data_setup = DS(tr_images, tr_labels.reshape(-1, 1), cfg.transform)\n",
    "va_data_setup = DS(va_images, va_labels.reshape(-1, 1), cfg.transform)\n",
    "\n",
    "dataloaders = {\n",
    "    \"train\" : DL(tr_data_setup, batch_size=cfg.batch_size, shuffle=True, generator=torch.manual_seed(cfg.seed)),\n",
    "    \"valid\" : DL(va_data_setup, batch_size=cfg.batch_size, shuffle=False),\n",
    "}\n",
    "\n",
    "cfg = CFG(epochs=35, batch_size=64, steps_per_epoch=len(dataloaders[\"train\"]))\n",
    "\n",
    "torch.manual_seed(cfg.seed)\n",
    "model = Model().to(cfg.device)\n",
    "optimizer = optim.Adam([p for p in model.parameters() if p.requires_grad], lr=cfg.lr, weight_decay=cfg.wd)\n",
    "scheduler_oclr = optim.lr_scheduler.OneCycleLR(optimizer=optimizer, \n",
    "                                               max_lr=cfg.max_lr, \n",
    "                                               epochs=cfg.epochs, \n",
    "                                               steps_per_epoch=cfg.steps_per_epoch,\n",
    "                                               pct_start=cfg.pct_start, \n",
    "                                               div_factor=cfg.div_factor, \n",
    "                                               final_div_factor=cfg.final_div_factor)\n",
    "# scheduler_rlrop = optim.lr_scheduler.ReduceLROnPlateau(optimizer=optimizer,\n",
    "#                                                       patience=cfg.patience,\n",
    "#                                                       eps=cfg.eps,\n",
    "#                                                       verbose=True)\n",
    "\n",
    "# scheduler_oclr = None\n",
    "scheduler_rlrop = None\n",
    "\n",
    "L, A, LR, BLE, BAE, _, _ = fit(model=model, \n",
    "                               optimizer=optimizer, \n",
    "                               scheduler_oclr=scheduler_oclr,\n",
    "                               scheduler_rlrop=scheduler_rlrop,\n",
    "                               epochs=cfg.epochs, \n",
    "                               early_stopping_patience=None, \n",
    "                               dataloaders=dataloaders, \n",
    "                               device=cfg.device,\n",
    "                               save_path=cfg.save_path,\n",
    "                               fold=None,\n",
    "                               verbose=True)\n",
    "\n",
    "breaker()\n",
    "show_loss_graphs(L)\n",
    "breaker()\n",
    "show_accuracy_graphs(A)\n",
    "breaker()\n",
    "\n",
    "if scheduler_oclr:\n",
    "    show_lr_graph(LR)\n",
    "    breaker()"
   ]
  }
 ],
 "metadata": {
  "kernelspec": {
   "display_name": "Python 3",
   "language": "python",
   "name": "python3"
  },
  "language_info": {
   "codemirror_mode": {
    "name": "ipython",
    "version": 3
   },
   "file_extension": ".py",
   "mimetype": "text/x-python",
   "name": "python",
   "nbconvert_exporter": "python",
   "pygments_lexer": "ipython3",
   "version": "3.7.12"
  },
  "papermill": {
   "default_parameters": {},
   "duration": 4656.235242,
   "end_time": "2022-06-19T06:42:03.588818",
   "environment_variables": {},
   "exception": null,
   "input_path": "__notebook__.ipynb",
   "output_path": "__notebook__.ipynb",
   "parameters": {},
   "start_time": "2022-06-19T05:24:27.353576",
   "version": "2.3.4"
  }
 },
 "nbformat": 4,
 "nbformat_minor": 5
}
