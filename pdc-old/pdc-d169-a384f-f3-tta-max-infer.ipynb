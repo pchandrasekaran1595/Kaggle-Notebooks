{
 "cells": [
  {
   "cell_type": "markdown",
   "id": "c2231318",
   "metadata": {
    "papermill": {
     "duration": 0.004861,
     "end_time": "2022-07-07T08:41:03.490140",
     "exception": false,
     "start_time": "2022-07-07T08:41:03.485279",
     "status": "completed"
    },
    "tags": []
   },
   "source": [
    "### **Library Imports**"
   ]
  },
  {
   "cell_type": "code",
   "execution_count": 1,
   "id": "0f3690bf",
   "metadata": {
    "execution": {
     "iopub.execute_input": "2022-07-07T08:41:03.500618Z",
     "iopub.status.busy": "2022-07-07T08:41:03.500146Z",
     "iopub.status.idle": "2022-07-07T08:41:06.303544Z",
     "shell.execute_reply": "2022-07-07T08:41:06.302761Z"
    },
    "papermill": {
     "duration": 2.810701,
     "end_time": "2022-07-07T08:41:06.306168",
     "exception": false,
     "start_time": "2022-07-07T08:41:03.495467",
     "status": "completed"
    },
    "tags": []
   },
   "outputs": [],
   "source": [
    "import os\n",
    "import re\n",
    "import cv2\n",
    "import torch\n",
    "import random as r\n",
    "import numpy as np\n",
    "import pandas as pd\n",
    "import matplotlib.pyplot as plt\n",
    "\n",
    "from time import time\n",
    "from torch import nn, optim\n",
    "from torch.utils.data import Dataset\n",
    "from torch.utils.data import DataLoader as DL\n",
    "from torchvision import models, transforms\n",
    "\n",
    "from sklearn.preprocessing import LabelEncoder"
   ]
  },
  {
   "cell_type": "markdown",
   "id": "fc01a352",
   "metadata": {
    "papermill": {
     "duration": 0.0029,
     "end_time": "2022-07-07T08:41:06.312372",
     "exception": false,
     "start_time": "2022-07-07T08:41:06.309472",
     "status": "completed"
    },
    "tags": []
   },
   "source": [
    "### **Utilities and Helpers**"
   ]
  },
  {
   "cell_type": "code",
   "execution_count": 2,
   "id": "79f4eae6",
   "metadata": {
    "execution": {
     "iopub.execute_input": "2022-07-07T08:41:06.320208Z",
     "iopub.status.busy": "2022-07-07T08:41:06.319708Z",
     "iopub.status.idle": "2022-07-07T08:41:06.377637Z",
     "shell.execute_reply": "2022-07-07T08:41:06.376738Z"
    },
    "papermill": {
     "duration": 0.064093,
     "end_time": "2022-07-07T08:41:06.379491",
     "exception": false,
     "start_time": "2022-07-07T08:41:06.315398",
     "status": "completed"
    },
    "tags": []
   },
   "outputs": [],
   "source": [
    "SEED = 42\n",
    "SIZE = 384\n",
    "FOLD = 3\n",
    "TRANSFORM = transforms.Compose([transforms.ToTensor(),\n",
    "                                transforms.Normalize([0.49699, 0.58823, 0.23049],\n",
    "                                                    [0.22591, 0.22614, 0.18264]),\n",
    "                                transforms.RandomAffine(degrees=(-15, 15), translate=(0.05, 0.05), scale=(0.9, 1.1)),\n",
    "                                transforms.RandomHorizontalFlip(p=0.1),\n",
    "                                transforms.RandomVerticalFlip(p=0.1),\n",
    "                               ])\n",
    "MODEL_PATH = f\"../input/pdc-d169-a{SIZE}f-f{FOLD}/saves/ble_state.pt\"\n",
    "DEVICE = torch.device(\"cuda\" if torch.cuda.is_available() else \"cpu\")\n",
    "\n",
    "le = LabelEncoder()\n",
    "r.seed(SEED)\n",
    "\n",
    "\n",
    "def breaker(num: int=50, char: str=\"*\") -> None:\n",
    "    print(\"\\n\" + num*char + \"\\n\")\n",
    "\n",
    "\n",
    "def get_image(path: str, size: int=224) -> np.ndarray:\n",
    "    return cv2.resize(src=cv2.cvtColor(src=cv2.imread(path, cv2.IMREAD_COLOR), code=cv2.COLOR_BGR2RGB), dsize=(size, size), interpolation=cv2.INTER_AREA)"
   ]
  },
  {
   "cell_type": "markdown",
   "id": "e6f0c88f",
   "metadata": {
    "papermill": {
     "duration": 0.002929,
     "end_time": "2022-07-07T08:41:06.385634",
     "exception": false,
     "start_time": "2022-07-07T08:41:06.382705",
     "status": "completed"
    },
    "tags": []
   },
   "source": [
    "### **Configuration**"
   ]
  },
  {
   "cell_type": "markdown",
   "id": "afca1bb6",
   "metadata": {
    "papermill": {
     "duration": 0.002853,
     "end_time": "2022-07-07T08:41:06.391504",
     "exception": false,
     "start_time": "2022-07-07T08:41:06.388651",
     "status": "completed"
    },
    "tags": []
   },
   "source": [
    "### **Dataset Template**"
   ]
  },
  {
   "cell_type": "code",
   "execution_count": 3,
   "id": "90ef376e",
   "metadata": {
    "execution": {
     "iopub.execute_input": "2022-07-07T08:41:06.399419Z",
     "iopub.status.busy": "2022-07-07T08:41:06.398761Z",
     "iopub.status.idle": "2022-07-07T08:41:06.404592Z",
     "shell.execute_reply": "2022-07-07T08:41:06.403882Z"
    },
    "papermill": {
     "duration": 0.011722,
     "end_time": "2022-07-07T08:41:06.406232",
     "exception": false,
     "start_time": "2022-07-07T08:41:06.394510",
     "status": "completed"
    },
    "tags": []
   },
   "outputs": [],
   "source": [
    "class DS(Dataset):\n",
    "    def __init__(self, base_path: str, filenames: np.ndarray, size: int=224, transform=None):\n",
    "        self.base_path = base_path\n",
    "        self.filenames = filenames\n",
    "        self.size = size\n",
    "        self.transform = transform\n",
    "    \n",
    "    def __len__(self):\n",
    "        return self.filenames.shape[0]\n",
    "    \n",
    "    def __getitem__(self, idx):\n",
    "        return self.transform(get_image(os.path.join(self.base_path, self.filenames[idx]), size=self.size))"
   ]
  },
  {
   "cell_type": "markdown",
   "id": "41df6ca0",
   "metadata": {
    "papermill": {
     "duration": 0.00299,
     "end_time": "2022-07-07T08:41:06.412201",
     "exception": false,
     "start_time": "2022-07-07T08:41:06.409211",
     "status": "completed"
    },
    "tags": []
   },
   "source": [
    "### **Model**"
   ]
  },
  {
   "cell_type": "code",
   "execution_count": 4,
   "id": "9cdca40e",
   "metadata": {
    "execution": {
     "iopub.execute_input": "2022-07-07T08:41:06.419827Z",
     "iopub.status.busy": "2022-07-07T08:41:06.419579Z",
     "iopub.status.idle": "2022-07-07T08:41:06.425251Z",
     "shell.execute_reply": "2022-07-07T08:41:06.424536Z"
    },
    "papermill": {
     "duration": 0.011202,
     "end_time": "2022-07-07T08:41:06.426854",
     "exception": false,
     "start_time": "2022-07-07T08:41:06.415652",
     "status": "completed"
    },
    "tags": []
   },
   "outputs": [],
   "source": [
    "class Model(nn.Module):\n",
    "    def __init__(self):\n",
    "        super(Model, self).__init__()\n",
    "\n",
    "        self.model = models.densenet169(pretrained=False, progress=True)\n",
    "        # self.freeze()\n",
    "        self.model.classifier = nn.Linear(in_features=self.model.classifier.in_features, out_features=10)\n",
    "    \n",
    "    def freeze(self):\n",
    "        for params in self.parameters(): params.requires_grad = False\n",
    "\n",
    "    def forward(self, x):\n",
    "        return nn.LogSoftmax(dim=1)(self.model(x))"
   ]
  },
  {
   "cell_type": "markdown",
   "id": "bd9ba877",
   "metadata": {
    "papermill": {
     "duration": 0.00288,
     "end_time": "2022-07-07T08:41:06.432724",
     "exception": false,
     "start_time": "2022-07-07T08:41:06.429844",
     "status": "completed"
    },
    "tags": []
   },
   "source": [
    "### **Predict Helpers**"
   ]
  },
  {
   "cell_type": "code",
   "execution_count": 5,
   "id": "411c915c",
   "metadata": {
    "execution": {
     "iopub.execute_input": "2022-07-07T08:41:06.444074Z",
     "iopub.status.busy": "2022-07-07T08:41:06.442053Z",
     "iopub.status.idle": "2022-07-07T08:41:06.456013Z",
     "shell.execute_reply": "2022-07-07T08:41:06.455286Z"
    },
    "papermill": {
     "duration": 0.022949,
     "end_time": "2022-07-07T08:41:06.458893",
     "exception": false,
     "start_time": "2022-07-07T08:41:06.435944",
     "status": "completed"
    },
    "tags": []
   },
   "outputs": [],
   "source": [
    "def predict_batch(model=None, dataloader=None, path=None, device=None) -> np.ndarray:\n",
    "    model.load_state_dict(torch.load(path, map_location=device)[\"model_state_dict\"])\n",
    "    model.to(device)    \n",
    "    model.eval()\n",
    "    \n",
    "    y_pred = torch.zeros(1, 1).to(device)\n",
    "    \n",
    "    for X in dataloader:\n",
    "        X = X.to(device)\n",
    "        with torch.no_grad():\n",
    "            output = torch.argmax(torch.exp(model(X)), dim=1)\n",
    "        y_pred = torch.cat((y_pred, output.view(-1, 1)), dim=0)\n",
    "    \n",
    "    return y_pred[1:].detach().cpu().numpy()"
   ]
  },
  {
   "cell_type": "markdown",
   "id": "1d055cd2",
   "metadata": {
    "papermill": {
     "duration": 0.004817,
     "end_time": "2022-07-07T08:41:06.468500",
     "exception": false,
     "start_time": "2022-07-07T08:41:06.463683",
     "status": "completed"
    },
    "tags": []
   },
   "source": [
    "### **Submission**"
   ]
  },
  {
   "cell_type": "code",
   "execution_count": 6,
   "id": "951fd261",
   "metadata": {
    "execution": {
     "iopub.execute_input": "2022-07-07T08:41:06.482593Z",
     "iopub.status.busy": "2022-07-07T08:41:06.482254Z",
     "iopub.status.idle": "2022-07-07T08:53:13.098851Z",
     "shell.execute_reply": "2022-07-07T08:53:13.098039Z"
    },
    "papermill": {
     "duration": 726.628153,
     "end_time": "2022-07-07T08:53:13.102037",
     "exception": false,
     "start_time": "2022-07-07T08:41:06.473884",
     "status": "completed"
    },
    "tags": []
   },
   "outputs": [],
   "source": [
    "df = pd.read_csv(\"../input/paddy-disease-classification/train.csv\")\n",
    "ss_df = pd.read_csv(\"../input/paddy-disease-classification/sample_submission.csv\")\n",
    "\n",
    "labels = df.label.copy().values\n",
    "labels = le.fit_transform(labels)\n",
    "\n",
    "model = Model().to(DEVICE)\n",
    "\n",
    "seeds = [r.randint(0, 99) for _ in range(10)]\n",
    "\n",
    "y_pred = np.zeros((ss_df.shape[0], 1))\n",
    "\n",
    "for seed in seeds:\n",
    "    ts_data_setup = DS(base_path=\"../input/paddy-disease-classification/test_images\", \n",
    "                       filenames=ss_df.image_id.copy().values,\n",
    "                       size=SIZE,\n",
    "                       transform=TRANSFORM)\n",
    "    ts_data = DL(ts_data_setup, batch_size=64, shuffle=False, generator=torch.manual_seed(seed))\n",
    "\n",
    "    temp_y_pred = predict_batch(model=model, \n",
    "                           dataloader=ts_data, \n",
    "                           path=MODEL_PATH,\n",
    "                           device=DEVICE)\n",
    "    \n",
    "    y_pred = np.concatenate((y_pred, temp_y_pred), axis=1)\n",
    "\n",
    "y_pred = np.max(y_pred[:, 1:], axis=1)\n",
    "\n",
    "ss_df[\"label\"] = le.inverse_transform(y_pred.astype(\"uint8\").reshape(-1))\n",
    "ss_df.to_csv(\"submission.csv\", index=False)"
   ]
  }
 ],
 "metadata": {
  "kernelspec": {
   "display_name": "Python 3",
   "language": "python",
   "name": "python3"
  },
  "language_info": {
   "codemirror_mode": {
    "name": "ipython",
    "version": 3
   },
   "file_extension": ".py",
   "mimetype": "text/x-python",
   "name": "python",
   "nbconvert_exporter": "python",
   "pygments_lexer": "ipython3",
   "version": "3.7.12"
  },
  "papermill": {
   "default_parameters": {},
   "duration": 739.72131,
   "end_time": "2022-07-07T08:53:14.535200",
   "environment_variables": {},
   "exception": null,
   "input_path": "__notebook__.ipynb",
   "output_path": "__notebook__.ipynb",
   "parameters": {},
   "start_time": "2022-07-07T08:40:54.813890",
   "version": "2.3.4"
  }
 },
 "nbformat": 4,
 "nbformat_minor": 5
}
