{
 "cells": [
  {
   "cell_type": "markdown",
   "id": "7d935a8c",
   "metadata": {
    "_cell_guid": "b1076dfc-b9ad-4769-8c92-a6c4dae69d19",
    "_uuid": "8f2839f25d086af736a60e9eeb907d3b93b6e0e5",
    "papermill": {
     "duration": 0.004725,
     "end_time": "2022-06-17T08:56:59.044433",
     "exception": false,
     "start_time": "2022-06-17T08:56:59.039708",
     "status": "completed"
    },
    "tags": []
   },
   "source": [
    "### **Library Imports**"
   ]
  },
  {
   "cell_type": "code",
   "execution_count": 1,
   "id": "939a5e36",
   "metadata": {
    "execution": {
     "iopub.execute_input": "2022-06-17T08:56:59.053943Z",
     "iopub.status.busy": "2022-06-17T08:56:59.053437Z",
     "iopub.status.idle": "2022-06-17T08:57:02.144098Z",
     "shell.execute_reply": "2022-06-17T08:57:02.142822Z"
    },
    "papermill": {
     "duration": 3.099081,
     "end_time": "2022-06-17T08:57:02.147386",
     "exception": false,
     "start_time": "2022-06-17T08:56:59.048305",
     "status": "completed"
    },
    "tags": []
   },
   "outputs": [],
   "source": [
    "import os\n",
    "import re\n",
    "import torch\n",
    "import numpy as np\n",
    "import pandas as pd\n",
    "import matplotlib.pyplot as plt\n",
    "\n",
    "from time import time\n",
    "from torch import nn, optim\n",
    "from torch.utils.data import Dataset\n",
    "from torch.utils.data import DataLoader as DL\n",
    "from torchvision import models, transforms\n",
    "\n",
    "from sklearn.model_selection import StratifiedKFold\n",
    "from sklearn.preprocessing import LabelEncoder\n",
    "from sklearn.metrics import accuracy_score"
   ]
  },
  {
   "cell_type": "markdown",
   "id": "d176034d",
   "metadata": {
    "papermill": {
     "duration": 0.00637,
     "end_time": "2022-06-17T08:57:02.160931",
     "exception": false,
     "start_time": "2022-06-17T08:57:02.154561",
     "status": "completed"
    },
    "tags": []
   },
   "source": [
    "### **Utilities and Helpers**"
   ]
  },
  {
   "cell_type": "code",
   "execution_count": 2,
   "id": "d8bb7c4d",
   "metadata": {
    "execution": {
     "iopub.execute_input": "2022-06-17T08:57:02.176145Z",
     "iopub.status.busy": "2022-06-17T08:57:02.175473Z",
     "iopub.status.idle": "2022-06-17T08:57:02.197444Z",
     "shell.execute_reply": "2022-06-17T08:57:02.196712Z"
    },
    "papermill": {
     "duration": 0.032103,
     "end_time": "2022-06-17T08:57:02.199707",
     "exception": false,
     "start_time": "2022-06-17T08:57:02.167604",
     "status": "completed"
    },
    "tags": []
   },
   "outputs": [],
   "source": [
    "SEED = 42\n",
    "SIZE = 384\n",
    "le = LabelEncoder()\n",
    "\n",
    "\n",
    "def breaker(num: int=50, char: str=\"*\") -> None:\n",
    "    print(\"\\n\" + num*char + \"\\n\")\n",
    "\n",
    "    \n",
    "def show_loss_graphs(A: list) -> None:\n",
    "    TL, VL = [], []\n",
    "    for i in range(len(L)):\n",
    "        TL.append(L[i][\"train\"])\n",
    "        VL.append(L[i][\"valid\"])\n",
    "    x_Axis = np.arange(1, len(TL) + 1)\n",
    "    plt.figure()\n",
    "    plt.plot(x_Axis, TL, \"r\", label=\"Train\")\n",
    "    plt.plot(x_Axis, VL, \"b\", label=\"Valid\")\n",
    "    plt.legend()\n",
    "    plt.grid()\n",
    "    plt.title(\"Loss Graph\")\n",
    "    plt.show()\n",
    "\n",
    "    \n",
    "def show_accuracy_graphs(A: list) -> None:\n",
    "    TA, VA = [], []\n",
    "    for i in range(len(L)):\n",
    "        TA.append(A[i][\"train\"])\n",
    "        VA.append(A[i][\"valid\"])\n",
    "    x_Axis = np.arange(1, len(TA) + 1)\n",
    "    plt.figure()\n",
    "    plt.plot(x_Axis, TA, \"r\", label=\"Train\")\n",
    "    plt.plot(x_Axis, VA, \"b\", label=\"Valid\")\n",
    "    plt.legend()\n",
    "    plt.grid()\n",
    "    plt.title(\"Accuracy Graph\")\n",
    "    plt.show()\n",
    "\n",
    "\n",
    "def show_lr_graph(LR: list) -> None:\n",
    "    x_Axis = [i+1 for i in range(len(LR))]\n",
    "    plt.figure(figsize=(8, 6))\n",
    "    plt.plot(x_Axis, LR, \"rx\")\n",
    "    plt.grid()\n",
    "    plt.show()"
   ]
  },
  {
   "cell_type": "markdown",
   "id": "6708993e",
   "metadata": {
    "papermill": {
     "duration": 0.005556,
     "end_time": "2022-06-17T08:57:02.211191",
     "exception": false,
     "start_time": "2022-06-17T08:57:02.205635",
     "status": "completed"
    },
    "tags": []
   },
   "source": [
    "### **Configuration**"
   ]
  },
  {
   "cell_type": "code",
   "execution_count": 3,
   "id": "03eb52a1",
   "metadata": {
    "execution": {
     "iopub.execute_input": "2022-06-17T08:57:02.224044Z",
     "iopub.status.busy": "2022-06-17T08:57:02.223740Z",
     "iopub.status.idle": "2022-06-17T08:57:02.296778Z",
     "shell.execute_reply": "2022-06-17T08:57:02.295849Z"
    },
    "papermill": {
     "duration": 0.082008,
     "end_time": "2022-06-17T08:57:02.298873",
     "exception": false,
     "start_time": "2022-06-17T08:57:02.216865",
     "status": "completed"
    },
    "tags": []
   },
   "outputs": [],
   "source": [
    "class CFG(object):\n",
    "    def __init__(self, \n",
    "                 seed: int = 42,\n",
    "                 n_splits: int = 5,\n",
    "                 batch_size: int = 16,\n",
    "                 epochs: int = 25,\n",
    "                 early_stopping: int = 5,\n",
    "                 lr: float = 1e-4,\n",
    "                 wd: float = 0.0,\n",
    "                 max_lr: float = 1e-3,\n",
    "                 pct_start: float = 0.2,\n",
    "                 steps_per_epoch: int = 100,\n",
    "                 div_factor: int = 1e3, \n",
    "                 final_div_factor: float = 1e3,\n",
    "                 ):\n",
    "        \n",
    "        self.seed = seed\n",
    "        self.n_splits = n_splits\n",
    "        self.batch_size = batch_size\n",
    "        self.epochs = epochs\n",
    "        self.early_stopping = early_stopping\n",
    "        self.lr = lr\n",
    "        self.wd = wd\n",
    "        self.max_lr = max_lr\n",
    "        self.pct_start = pct_start\n",
    "        self.steps_per_epoch = steps_per_epoch\n",
    "        self.div_factor = div_factor\n",
    "        self.final_div_factor = final_div_factor\n",
    "        self.device = torch.device(\"cuda\" if torch.cuda.is_available() else \"cpu\")\n",
    "        self.transform = transforms.Compose([transforms.ToTensor(),\n",
    "                                transforms.Normalize([0.49699, 0.58823, 0.23049],\n",
    "                                                     [0.22591, 0.22614, 0.18264]),\n",
    "                                ])\n",
    "        self.save_path = \"saves\"\n",
    "        if not os.path.exists(self.save_path): os.makedirs(self.save_path)\n",
    "    \n",
    "cfg = CFG(seed=SEED)"
   ]
  },
  {
   "cell_type": "markdown",
   "id": "53201187",
   "metadata": {
    "papermill": {
     "duration": 0.005547,
     "end_time": "2022-06-17T08:57:02.310469",
     "exception": false,
     "start_time": "2022-06-17T08:57:02.304922",
     "status": "completed"
    },
    "tags": []
   },
   "source": [
    "### **Dataset Template**"
   ]
  },
  {
   "cell_type": "code",
   "execution_count": 4,
   "id": "a2c66b1a",
   "metadata": {
    "execution": {
     "iopub.execute_input": "2022-06-17T08:57:02.324140Z",
     "iopub.status.busy": "2022-06-17T08:57:02.323745Z",
     "iopub.status.idle": "2022-06-17T08:57:02.333987Z",
     "shell.execute_reply": "2022-06-17T08:57:02.333125Z"
    },
    "papermill": {
     "duration": 0.020068,
     "end_time": "2022-06-17T08:57:02.336501",
     "exception": false,
     "start_time": "2022-06-17T08:57:02.316433",
     "status": "completed"
    },
    "tags": []
   },
   "outputs": [],
   "source": [
    "class DS(Dataset):\n",
    "    def __init__(self, images: np.ndarray, labels: np.ndarray = None, transform=None):\n",
    "        self.images = images\n",
    "        self.labels = labels\n",
    "        self.transform = transform\n",
    "    \n",
    "    def __len__(self):\n",
    "        return self.images.shape[0]\n",
    "    \n",
    "    def __getitem__(self, idx):\n",
    "        if self.labels is not None:\n",
    "            return self.transform(self.images[idx]), torch.LongTensor(self.labels[idx])\n",
    "        else:\n",
    "            return self.transform(self.images[idx])"
   ]
  },
  {
   "cell_type": "markdown",
   "id": "83810416",
   "metadata": {
    "papermill": {
     "duration": 0.004491,
     "end_time": "2022-06-17T08:57:02.346523",
     "exception": false,
     "start_time": "2022-06-17T08:57:02.342032",
     "status": "completed"
    },
    "tags": []
   },
   "source": [
    "### **Model**"
   ]
  },
  {
   "cell_type": "code",
   "execution_count": 5,
   "id": "80efc5b2",
   "metadata": {
    "execution": {
     "iopub.execute_input": "2022-06-17T08:57:02.359574Z",
     "iopub.status.busy": "2022-06-17T08:57:02.359030Z",
     "iopub.status.idle": "2022-06-17T08:57:02.369352Z",
     "shell.execute_reply": "2022-06-17T08:57:02.368461Z"
    },
    "papermill": {
     "duration": 0.019168,
     "end_time": "2022-06-17T08:57:02.371490",
     "exception": false,
     "start_time": "2022-06-17T08:57:02.352322",
     "status": "completed"
    },
    "tags": []
   },
   "outputs": [],
   "source": [
    "class Model(nn.Module):\n",
    "    def __init__(self):\n",
    "        super(Model, self).__init__()\n",
    "\n",
    "        self.model = models.densenet169(pretrained=True, progress=True)\n",
    "        # self.freeze()\n",
    "        self.model.classifier = nn.Linear(in_features=self.model.classifier.in_features, out_features=10)\n",
    "    \n",
    "    def freeze(self):\n",
    "        for params in self.parameters(): params.requires_grad = False\n",
    "\n",
    "    def forward(self, x):\n",
    "        return nn.LogSoftmax(dim=1)(self.model(x))"
   ]
  },
  {
   "cell_type": "markdown",
   "id": "12fb8835",
   "metadata": {
    "papermill": {
     "duration": 0.005264,
     "end_time": "2022-06-17T08:57:02.383035",
     "exception": false,
     "start_time": "2022-06-17T08:57:02.377771",
     "status": "completed"
    },
    "tags": []
   },
   "source": [
    "### **Fit and Predict Helpers**"
   ]
  },
  {
   "cell_type": "code",
   "execution_count": 6,
   "id": "f8155b84",
   "metadata": {
    "execution": {
     "iopub.execute_input": "2022-06-17T08:57:02.394977Z",
     "iopub.status.busy": "2022-06-17T08:57:02.394554Z",
     "iopub.status.idle": "2022-06-17T08:57:02.432500Z",
     "shell.execute_reply": "2022-06-17T08:57:02.431845Z"
    },
    "papermill": {
     "duration": 0.047193,
     "end_time": "2022-06-17T08:57:02.434856",
     "exception": false,
     "start_time": "2022-06-17T08:57:02.387663",
     "status": "completed"
    },
    "tags": []
   },
   "outputs": [],
   "source": [
    "def fit(model=None, \n",
    "        optimizer=None, \n",
    "        scheduler_rlrop=None,\n",
    "        scheduler_oclr=None,\n",
    "        epochs=None, \n",
    "        early_stopping_patience=None, \n",
    "        dataloaders=None, \n",
    "        fold=None, \n",
    "        save_path=None,\n",
    "        device=None,\n",
    "        verbose=False) -> tuple:\n",
    "    \n",
    "    def get_accuracy(y_pred, y_true):\n",
    "        y_pred = torch.argmax(y_pred, dim=1)\n",
    "        return torch.count_nonzero(y_pred == y_true).item() / len(y_pred)\n",
    "    \n",
    "    if verbose:\n",
    "        breaker()\n",
    "        if fold: print(f\"Training Fold {fold}...\")\n",
    "        else: print(\"Training ...\")\n",
    "        breaker()\n",
    "        \n",
    "    bestLoss, bestAccs = {\"train\" : np.inf, \"valid\" : np.inf}, {\"train\" : 0.0, \"valid\" : 0.0}\n",
    "    Losses, Accuracies, LRs = [], [], []\n",
    "    if fold: \n",
    "        ble_name = f\"ble_state_fold_{fold}.pt\"\n",
    "        bae_name = f\"bae_state_fold_{fold}.pt\"\n",
    "    else: \n",
    "        ble_name = \"ble_state.pt\"\n",
    "        bae_name = \"bae_state.pt\"\n",
    "\n",
    "    start_time = time()\n",
    "    for e in range(epochs):\n",
    "        e_st = time()\n",
    "        epochLoss, epochAccs = {\"train\" : 0.0, \"valid\" : 0.0}, {\"train\" : 0.0, \"valid\" : 0.0}\n",
    "\n",
    "        for phase in [\"train\", \"valid\"]:\n",
    "            if phase == \"train\":\n",
    "                model.train()\n",
    "            else:\n",
    "                model.eval()\n",
    "            \n",
    "            lossPerPass, accsPerPass = [], []\n",
    "\n",
    "            for X, y in dataloaders[phase]:\n",
    "                X, y = X.to(device), y.to(device).view(-1)\n",
    "\n",
    "                optimizer.zero_grad()\n",
    "                with torch.set_grad_enabled(phase == \"train\"):\n",
    "                    output = model(X)\n",
    "                    loss = torch.nn.NLLLoss()(output, y)\n",
    "                    if phase == \"train\":\n",
    "                        loss.backward()\n",
    "                        optimizer.step()\n",
    "                        if scheduler_oclr: scheduler_oclr.step()\n",
    "                lossPerPass.append(loss.item())\n",
    "                accsPerPass.append(get_accuracy(output, y))\n",
    "            epochLoss[phase] = np.mean(np.array(lossPerPass))\n",
    "            epochAccs[phase] = np.mean(np.array(accsPerPass))\n",
    "        if scheduler_oclr: LRs.append(scheduler_oclr.get_last_lr())\n",
    "        Losses.append(epochLoss)\n",
    "        Accuracies.append(epochAccs)\n",
    "        \n",
    "        if scheduler_oclr:\n",
    "            save_dict = {\"model_state_dict\"     : model.state_dict(),\n",
    "                         \"optim_state_dict\"     : optimizer.state_dict(),\n",
    "                         \"scheduler_state_dict\" : scheduler_oclr.state_dict()}\n",
    "        \n",
    "        elif scheduler_rlrop:\n",
    "            save_dict = {\"model_state_dict\"     : model.state_dict(),\n",
    "                         \"optim_state_dict\"     : optimizer.state_dict(),\n",
    "                         \"scheduler_state_dict\" : scheduler_rlrop.state_dict()}\n",
    "        \n",
    "        else:\n",
    "            save_dict = {\"model_state_dict\"     : model.state_dict(),\n",
    "                         \"optim_state_dict\"     : optimizer.state_dict()}\n",
    "        \n",
    "        if early_stopping_patience:\n",
    "            if epochLoss[\"valid\"] < bestLoss[\"valid\"]:\n",
    "                bestLoss = epochLoss\n",
    "                BLE = e + 1\n",
    "                torch.save(save_dict, os.path.join(save_path, name))\n",
    "                early_stopping_step = 0\n",
    "            else:\n",
    "                early_stopping_step += 1\n",
    "                if early_stopping_step > early_stopping_patience:\n",
    "                    print(\"\\nEarly Stopping at Epoch {}\".format(e + 1))\n",
    "                    break\n",
    "        \n",
    "        if epochLoss[\"valid\"] < bestLoss[\"valid\"]:\n",
    "            bestLoss = epochLoss\n",
    "            BLE = e + 1\n",
    "            torch.save(save_dict,os.path.join(save_path, ble_name))\n",
    "        \n",
    "        if epochAccs[\"valid\"] > bestAccs[\"valid\"]:\n",
    "            bestAccs = epochAccs\n",
    "            BAE = e + 1\n",
    "            torch.save(save_dict,os.path.join(save_path, bae_name))\n",
    "\n",
    "        \n",
    "        if scheduler_rlrop: scheduler_rlrop.step(epochLoss[\"valid\"])\n",
    "        \n",
    "        if verbose:\n",
    "            print(\"Epoch: {} | Train Loss: {:.5f} | Valid Loss: {:.5f} |\\\n",
    " Train Accs: {:.5f} | Valid Accs: {:.5f} | Time: {:.2f} seconds\".format(e+1, \n",
    "                                                                        epochLoss[\"train\"], epochLoss[\"valid\"], \n",
    "                                                                        epochAccs[\"train\"], epochAccs[\"valid\"], \n",
    "                                                                        time()-e_st))\n",
    "\n",
    "    if verbose:                                           \n",
    "        breaker()\n",
    "        print(f\"Best Validation Loss at Epoch {BLE}\")\n",
    "        breaker()\n",
    "        print(f\"Best Validation Accs at Epoch {BAE}\")\n",
    "        breaker()\n",
    "        print(\"Time Taken [{} Epochs] : {:.2f} minutes\".format(len(Losses), (time()-start_time)/60))\n",
    "    \n",
    "    return Losses, Accuracies, LRs, BLE, BAE, ble_name, bae_name\n",
    "\n",
    "\n",
    "def predict_batch(model=None, dataloader=None, path=None, device=None) -> np.ndarray:\n",
    "    model.load_state_dict(torch.load(path, map_location=device)[\"model_state_dict\"])\n",
    "    model.to(device)    \n",
    "    model.eval()\n",
    "    \n",
    "    y_pred = torch.zeros(1, 1).to(device)\n",
    "    \n",
    "    for X in dataloader:\n",
    "        X = X.to(device)\n",
    "        with torch.no_grad():\n",
    "            output = torch.argmax(torch.exp(model(X)), dim=1)\n",
    "        y_pred = torch.cat((y_pred, output.view(-1, 1)), dim=0)\n",
    "    \n",
    "    return y_pred[1:].detach().cpu().numpy()"
   ]
  },
  {
   "cell_type": "markdown",
   "id": "edf878a0",
   "metadata": {
    "papermill": {
     "duration": 0.009175,
     "end_time": "2022-06-17T08:57:02.449720",
     "exception": false,
     "start_time": "2022-06-17T08:57:02.440545",
     "status": "completed"
    },
    "tags": []
   },
   "source": [
    "### **Train**"
   ]
  },
  {
   "cell_type": "code",
   "execution_count": 7,
   "id": "f6834502",
   "metadata": {
    "execution": {
     "iopub.execute_input": "2022-06-17T08:57:02.462727Z",
     "iopub.status.busy": "2022-06-17T08:57:02.462126Z",
     "iopub.status.idle": "2022-06-17T08:57:56.925105Z",
     "shell.execute_reply": "2022-06-17T08:57:56.923974Z"
    },
    "papermill": {
     "duration": 54.473226,
     "end_time": "2022-06-17T08:57:56.927395",
     "exception": false,
     "start_time": "2022-06-17T08:57:02.454169",
     "status": "completed"
    },
    "tags": []
   },
   "outputs": [],
   "source": [
    "images = np.load(f\"../input/pdc-images-{SIZE}/images-{SIZE}.npy\")\n",
    "df = pd.read_csv(\"../input/paddy-disease-classification/train.csv\")\n",
    "labels = df.label.copy().values\n",
    "labels = le.fit_transform(labels)"
   ]
  },
  {
   "cell_type": "code",
   "execution_count": 8,
   "id": "5b6ead9d",
   "metadata": {
    "execution": {
     "iopub.execute_input": "2022-06-17T08:57:56.942233Z",
     "iopub.status.busy": "2022-06-17T08:57:56.941413Z",
     "iopub.status.idle": "2022-06-17T11:00:27.291373Z",
     "shell.execute_reply": "2022-06-17T11:00:27.290633Z"
    },
    "papermill": {
     "duration": 7350.360521,
     "end_time": "2022-06-17T11:00:27.293860",
     "exception": false,
     "start_time": "2022-06-17T08:57:56.933339",
     "status": "completed"
    },
    "tags": []
   },
   "outputs": [
    {
     "name": "stderr",
     "output_type": "stream",
     "text": [
      "Downloading: \"https://download.pytorch.org/models/densenet169-b2777c0a.pth\" to /root/.cache/torch/hub/checkpoints/densenet169-b2777c0a.pth\n"
     ]
    },
    {
     "data": {
      "application/vnd.jupyter.widget-view+json": {
       "model_id": "89d5469e278a4d4188d160391a862a68",
       "version_major": 2,
       "version_minor": 0
      },
      "text/plain": [
       "  0%|          | 0.00/54.7M [00:00<?, ?B/s]"
      ]
     },
     "metadata": {},
     "output_type": "display_data"
    },
    {
     "name": "stdout",
     "output_type": "stream",
     "text": [
      "\n",
      "**************************************************\n",
      "\n",
      "Training ...\n",
      "\n",
      "**************************************************\n",
      "\n",
      "Epoch: 1 | Train Loss: 1.79813 | Valid Loss: 0.75812 | Train Accs: 0.38215 | Valid Accs: 0.77147 | Time: 216.69 seconds\n",
      "Epoch: 2 | Train Loss: 0.55954 | Valid Loss: 0.37753 | Train Accs: 0.83167 | Valid Accs: 0.88693 | Time: 210.30 seconds\n",
      "Epoch: 3 | Train Loss: 0.41096 | Valid Loss: 0.51488 | Train Accs: 0.87332 | Valid Accs: 0.83158 | Time: 208.84 seconds\n",
      "Epoch: 4 | Train Loss: 0.40482 | Valid Loss: 0.35023 | Train Accs: 0.86898 | Valid Accs: 0.89742 | Time: 209.90 seconds\n",
      "Epoch: 5 | Train Loss: 0.39366 | Valid Loss: 0.47345 | Train Accs: 0.87366 | Valid Accs: 0.86784 | Time: 208.63 seconds\n",
      "Epoch: 6 | Train Loss: 0.39763 | Valid Loss: 0.62074 | Train Accs: 0.87457 | Valid Accs: 0.81966 | Time: 208.76 seconds\n",
      "Epoch: 7 | Train Loss: 0.33978 | Valid Loss: 0.85301 | Train Accs: 0.89095 | Valid Accs: 0.79294 | Time: 208.63 seconds\n",
      "Epoch: 8 | Train Loss: 0.23842 | Valid Loss: 0.48158 | Train Accs: 0.92546 | Valid Accs: 0.87309 | Time: 208.63 seconds\n",
      "Epoch: 9 | Train Loss: 0.26497 | Valid Loss: 0.34170 | Train Accs: 0.91363 | Valid Accs: 0.89552 | Time: 209.29 seconds\n",
      "Epoch: 10 | Train Loss: 0.17404 | Valid Loss: 0.31634 | Train Accs: 0.94626 | Valid Accs: 0.91126 | Time: 210.17 seconds\n",
      "Epoch: 11 | Train Loss: 0.15501 | Valid Loss: 0.29722 | Train Accs: 0.95091 | Valid Accs: 0.92700 | Time: 210.03 seconds\n",
      "Epoch: 12 | Train Loss: 0.16599 | Valid Loss: 0.26828 | Train Accs: 0.95022 | Valid Accs: 0.92462 | Time: 209.30 seconds\n",
      "Epoch: 13 | Train Loss: 0.09458 | Valid Loss: 0.29561 | Train Accs: 0.96941 | Valid Accs: 0.91985 | Time: 208.39 seconds\n",
      "Epoch: 14 | Train Loss: 0.13330 | Valid Loss: 0.33725 | Train Accs: 0.95561 | Valid Accs: 0.91365 | Time: 208.59 seconds\n",
      "Epoch: 15 | Train Loss: 0.11896 | Valid Loss: 0.21798 | Train Accs: 0.96137 | Valid Accs: 0.94895 | Time: 210.20 seconds\n",
      "Epoch: 16 | Train Loss: 0.07761 | Valid Loss: 0.29990 | Train Accs: 0.97637 | Valid Accs: 0.92510 | Time: 208.64 seconds\n",
      "Epoch: 17 | Train Loss: 0.06323 | Valid Loss: 0.24209 | Train Accs: 0.97997 | Valid Accs: 0.93511 | Time: 208.67 seconds\n",
      "Epoch: 18 | Train Loss: 0.04637 | Valid Loss: 0.18183 | Train Accs: 0.98524 | Valid Accs: 0.96279 | Time: 209.76 seconds\n",
      "Epoch: 19 | Train Loss: 0.04400 | Valid Loss: 0.29004 | Train Accs: 0.98534 | Valid Accs: 0.93893 | Time: 208.41 seconds\n",
      "Epoch: 20 | Train Loss: 0.06001 | Valid Loss: 0.19485 | Train Accs: 0.98009 | Valid Accs: 0.95849 | Time: 208.35 seconds\n",
      "Epoch: 21 | Train Loss: 0.02955 | Valid Loss: 0.23420 | Train Accs: 0.99064 | Valid Accs: 0.95515 | Time: 208.58 seconds\n",
      "Epoch: 22 | Train Loss: 0.01500 | Valid Loss: 0.20027 | Train Accs: 0.99556 | Valid Accs: 0.95897 | Time: 208.20 seconds\n",
      "Epoch: 23 | Train Loss: 0.01205 | Valid Loss: 0.18218 | Train Accs: 0.99664 | Valid Accs: 0.96708 | Time: 209.17 seconds\n",
      "Epoch: 24 | Train Loss: 0.00759 | Valid Loss: 0.20197 | Train Accs: 0.99791 | Valid Accs: 0.95897 | Time: 209.86 seconds\n",
      "Epoch: 25 | Train Loss: 0.02393 | Valid Loss: 0.20963 | Train Accs: 0.99292 | Valid Accs: 0.95754 | Time: 209.92 seconds\n",
      "Epoch: 26 | Train Loss: 0.01025 | Valid Loss: 0.18790 | Train Accs: 0.99614 | Valid Accs: 0.96469 | Time: 209.59 seconds\n",
      "Epoch: 27 | Train Loss: 0.00375 | Valid Loss: 0.18479 | Train Accs: 0.99916 | Valid Accs: 0.96326 | Time: 209.42 seconds\n",
      "Epoch: 28 | Train Loss: 0.00151 | Valid Loss: 0.18642 | Train Accs: 0.99976 | Valid Accs: 0.96279 | Time: 210.24 seconds\n",
      "Epoch: 29 | Train Loss: 0.00114 | Valid Loss: 0.19229 | Train Accs: 0.99976 | Valid Accs: 0.96183 | Time: 210.41 seconds\n",
      "Epoch: 30 | Train Loss: 0.00070 | Valid Loss: 0.19238 | Train Accs: 0.99976 | Valid Accs: 0.96135 | Time: 210.17 seconds\n",
      "Epoch: 31 | Train Loss: 0.00070 | Valid Loss: 0.19106 | Train Accs: 1.00000 | Valid Accs: 0.96374 | Time: 210.28 seconds\n",
      "Epoch: 32 | Train Loss: 0.00064 | Valid Loss: 0.18384 | Train Accs: 0.99988 | Valid Accs: 0.96565 | Time: 209.49 seconds\n",
      "Epoch: 33 | Train Loss: 0.00027 | Valid Loss: 0.18062 | Train Accs: 1.00000 | Valid Accs: 0.96565 | Time: 210.27 seconds\n",
      "Epoch: 34 | Train Loss: 0.00030 | Valid Loss: 0.18247 | Train Accs: 1.00000 | Valid Accs: 0.96613 | Time: 209.50 seconds\n",
      "Epoch: 35 | Train Loss: 0.00039 | Valid Loss: 0.18089 | Train Accs: 1.00000 | Valid Accs: 0.96613 | Time: 210.08 seconds\n",
      "\n",
      "**************************************************\n",
      "\n",
      "Best Validation Loss at Epoch 33\n",
      "\n",
      "**************************************************\n",
      "\n",
      "Best Validation Accs at Epoch 23\n",
      "\n",
      "**************************************************\n",
      "\n",
      "Time Taken [35 Epochs] : 122.26 minutes\n",
      "\n",
      "**************************************************\n",
      "\n"
     ]
    },
    {
     "data": {
      "image/png": "[encoded data removed]",
      "text/plain": [
       "<Figure size 432x288 with 1 Axes>"
      ]
     },
     "metadata": {
      "needs_background": "light"
     },
     "output_type": "display_data"
    },
    {
     "name": "stdout",
     "output_type": "stream",
     "text": [
      "\n",
      "**************************************************\n",
      "\n"
     ]
    },
    {
     "data": {
      "image/png": "[encoded data removed]",
      "text/plain": [
       "<Figure size 432x288 with 1 Axes>"
      ]
     },
     "metadata": {
      "needs_background": "light"
     },
     "output_type": "display_data"
    },
    {
     "name": "stdout",
     "output_type": "stream",
     "text": [
      "\n",
      "**************************************************\n",
      "\n"
     ]
    },
    {
     "data": {
      "image/png": "[encoded data removed]",
      "text/plain": [
       "<Figure size 576x432 with 1 Axes>"
      ]
     },
     "metadata": {
      "needs_background": "light"
     },
     "output_type": "display_data"
    },
    {
     "name": "stdout",
     "output_type": "stream",
     "text": [
      "\n",
      "**************************************************\n",
      "\n"
     ]
    }
   ],
   "source": [
    "for tr_idx, va_idx in StratifiedKFold(n_splits=cfg.n_splits, random_state=cfg.seed, shuffle=True).split(images, labels):\n",
    "    break\n",
    "\n",
    "tr_images, va_images, tr_labels, va_labels = images[tr_idx], images[va_idx], labels[tr_idx], labels[va_idx]\n",
    "\n",
    "tr_data_setup = DS(tr_images, tr_labels.reshape(-1, 1), cfg.transform)\n",
    "va_data_setup = DS(va_images, va_labels.reshape(-1, 1), cfg.transform)\n",
    "\n",
    "dataloaders = {\n",
    "    \"train\" : DL(tr_data_setup, batch_size=cfg.batch_size, shuffle=True, generator=torch.manual_seed(cfg.seed)),\n",
    "    \"valid\" : DL(va_data_setup, batch_size=cfg.batch_size, shuffle=False),\n",
    "}\n",
    "\n",
    "cfg = CFG(epochs=35, batch_size=64, steps_per_epoch=len(dataloaders[\"train\"]))\n",
    "\n",
    "torch.manual_seed(cfg.seed)\n",
    "model = Model().to(cfg.device)\n",
    "optimizer = optim.Adam([p for p in model.parameters() if p.requires_grad], lr=cfg.lr, weight_decay=cfg.wd)\n",
    "scheduler_oclr = optim.lr_scheduler.OneCycleLR(optimizer=optimizer, \n",
    "                                               max_lr=cfg.max_lr, \n",
    "                                               epochs=cfg.epochs, \n",
    "                                               steps_per_epoch=cfg.steps_per_epoch,\n",
    "                                               pct_start=cfg.pct_start, \n",
    "                                               div_factor=cfg.div_factor, \n",
    "                                               final_div_factor=cfg.final_div_factor)\n",
    "# scheduler_rlrop = optim.lr_scheduler.ReduceLROnPlateau(optimizer=optimizer,\n",
    "#                                                       patience=cfg.patience,\n",
    "#                                                       eps=cfg.eps,\n",
    "#                                                       verbose=True)\n",
    "\n",
    "# scheduler_oclr = None\n",
    "scheduler_rlrop = None\n",
    "\n",
    "L, A, LR, BLE, BAE, _, _ = fit(model=model, \n",
    "                               optimizer=optimizer, \n",
    "                               scheduler_oclr=scheduler_oclr,\n",
    "                               scheduler_rlrop=scheduler_rlrop,\n",
    "                               epochs=cfg.epochs, \n",
    "                               early_stopping_patience=None, \n",
    "                               dataloaders=dataloaders, \n",
    "                               device=cfg.device,\n",
    "                               save_path=cfg.save_path,\n",
    "                               fold=None,\n",
    "                               verbose=True)\n",
    "\n",
    "breaker()\n",
    "show_loss_graphs(L)\n",
    "breaker()\n",
    "show_accuracy_graphs(A)\n",
    "breaker()\n",
    "\n",
    "if scheduler_oclr:\n",
    "    show_lr_graph(LR)\n",
    "    breaker()"
   ]
  }
 ],
 "metadata": {
  "kernelspec": {
   "display_name": "Python 3",
   "language": "python",
   "name": "python3"
  },
  "language_info": {
   "codemirror_mode": {
    "name": "ipython",
    "version": 3
   },
   "file_extension": ".py",
   "mimetype": "text/x-python",
   "name": "python",
   "nbconvert_exporter": "python",
   "pygments_lexer": "ipython3",
   "version": "3.7.12"
  },
  "papermill": {
   "default_parameters": {},
   "duration": 7418.577614,
   "end_time": "2022-06-17T11:00:29.603111",
   "environment_variables": {},
   "exception": null,
   "input_path": "__notebook__.ipynb",
   "output_path": "__notebook__.ipynb",
   "parameters": {},
   "start_time": "2022-06-17T08:56:51.025497",
   "version": "2.3.4"
  },
  "widgets": {
   "application/vnd.jupyter.widget-state+json": {
    "state": {
     "1add5e035652485b93847518288456df": {
      "model_module": "@jupyter-widgets/base",
      "model_module_version": "1.2.0",
      "model_name": "LayoutModel",
      "state": {
       "_model_module": "@jupyter-widgets/base",
       "_model_module_version": "1.2.0",
       "_model_name": "LayoutModel",
       "_view_count": null,
       "_view_module": "@jupyter-widgets/base",
       "_view_module_version": "1.2.0",
       "_view_name": "LayoutView",
       "align_content": null,
       "align_items": null,
       "align_self": null,
       "border": null,
       "bottom": null,
       "display": null,
       "flex": null,
       "flex_flow": null,
       "grid_area": null,
       "grid_auto_columns": null,
       "grid_auto_flow": null,
       "grid_auto_rows": null,
       "grid_column": null,
       "grid_gap": null,
       "grid_row": null,
       "grid_template_areas": null,
       "grid_template_columns": null,
       "grid_template_rows": null,
       "height": null,
       "justify_content": null,
       "justify_items": null,
       "left": null,
       "margin": null,
       "max_height": null,
       "max_width": null,
       "min_height": null,
       "min_width": null,
       "object_fit": null,
       "object_position": null,
       "order": null,
       "overflow": null,
       "overflow_x": null,
       "overflow_y": null,
       "padding": null,
       "right": null,
       "top": null,
       "visibility": null,
       "width": null
      }
     },
     "2e1063630c974471a04f4098f713d116": {
      "model_module": "@jupyter-widgets/controls",
      "model_module_version": "1.5.0",
      "model_name": "HTMLModel",
      "state": {
       "_dom_classes": [],
       "_model_module": "@jupyter-widgets/controls",
       "_model_module_version": "1.5.0",
       "_model_name": "HTMLModel",
       "_view_count": null,
       "_view_module": "@jupyter-widgets/controls",
       "_view_module_version": "1.5.0",
       "_view_name": "HTMLView",
       "description": "",
       "description_tooltip": null,
       "layout": "IPY_MODEL_41d8820549074fbfa99bfd54df501b15",
       "placeholder": "​",
       "style": "IPY_MODEL_2f2348bfc31d4f7c8d4422892ab70d2c",
       "value": "100%"
      }
     },
     "2f2348bfc31d4f7c8d4422892ab70d2c": {
      "model_module": "@jupyter-widgets/controls",
      "model_module_version": "1.5.0",
      "model_name": "DescriptionStyleModel",
      "state": {
       "_model_module": "@jupyter-widgets/controls",
       "_model_module_version": "1.5.0",
       "_model_name": "DescriptionStyleModel",
       "_view_count": null,
       "_view_module": "@jupyter-widgets/base",
       "_view_module_version": "1.2.0",
       "_view_name": "StyleView",
       "description_width": ""
      }
     },
     "41d8820549074fbfa99bfd54df501b15": {
      "model_module": "@jupyter-widgets/base",
      "model_module_version": "1.2.0",
      "model_name": "LayoutModel",
      "state": {
       "_model_module": "@jupyter-widgets/base",
       "_model_module_version": "1.2.0",
       "_model_name": "LayoutModel",
       "_view_count": null,
       "_view_module": "@jupyter-widgets/base",
       "_view_module_version": "1.2.0",
       "_view_name": "LayoutView",
       "align_content": null,
       "align_items": null,
       "align_self": null,
       "border": null,
       "bottom": null,
       "display": null,
       "flex": null,
       "flex_flow": null,
       "grid_area": null,
       "grid_auto_columns": null,
       "grid_auto_flow": null,
       "grid_auto_rows": null,
       "grid_column": null,
       "grid_gap": null,
       "grid_row": null,
       "grid_template_areas": null,
       "grid_template_columns": null,
       "grid_template_rows": null,
       "height": null,
       "justify_content": null,
       "justify_items": null,
       "left": null,
       "margin": null,
       "max_height": null,
       "max_width": null,
       "min_height": null,
       "min_width": null,
       "object_fit": null,
       "object_position": null,
       "order": null,
       "overflow": null,
       "overflow_x": null,
       "overflow_y": null,
       "padding": null,
       "right": null,
       "top": null,
       "visibility": null,
       "width": null
      }
     },
     "6564453997424ddc8e0f7a05a183c211": {
      "model_module": "@jupyter-widgets/controls",
      "model_module_version": "1.5.0",
      "model_name": "FloatProgressModel",
      "state": {
       "_dom_classes": [],
       "_model_module": "@jupyter-widgets/controls",
       "_model_module_version": "1.5.0",
       "_model_name": "FloatProgressModel",
       "_view_count": null,
       "_view_module": "@jupyter-widgets/controls",
       "_view_module_version": "1.5.0",
       "_view_name": "ProgressView",
       "bar_style": "success",
       "description": "",
       "description_tooltip": null,
       "layout": "IPY_MODEL_1add5e035652485b93847518288456df",
       "max": 57365526.0,
       "min": 0.0,
       "orientation": "horizontal",
       "style": "IPY_MODEL_e4c5b26496f24958b6c1a5c79feea026",
       "value": 57365526.0
      }
     },
     "78837b2d2cc949bba8a4202e7e755bc9": {
      "model_module": "@jupyter-widgets/controls",
      "model_module_version": "1.5.0",
      "model_name": "HTMLModel",
      "state": {
       "_dom_classes": [],
       "_model_module": "@jupyter-widgets/controls",
       "_model_module_version": "1.5.0",
       "_model_name": "HTMLModel",
       "_view_count": null,
       "_view_module": "@jupyter-widgets/controls",
       "_view_module_version": "1.5.0",
       "_view_name": "HTMLView",
       "description": "",
       "description_tooltip": null,
       "layout": "IPY_MODEL_8b913b64c4ff41088d94dee7dc344f25",
       "placeholder": "​",
       "style": "IPY_MODEL_c2a68d6e296d4694b366749320dd6726",
       "value": " 54.7M/54.7M [00:06&lt;00:00, 12.5MB/s]"
      }
     },
     "89d5469e278a4d4188d160391a862a68": {
      "model_module": "@jupyter-widgets/controls",
      "model_module_version": "1.5.0",
      "model_name": "HBoxModel",
      "state": {
       "_dom_classes": [],
       "_model_module": "@jupyter-widgets/controls",
       "_model_module_version": "1.5.0",
       "_model_name": "HBoxModel",
       "_view_count": null,
       "_view_module": "@jupyter-widgets/controls",
       "_view_module_version": "1.5.0",
       "_view_name": "HBoxView",
       "box_style": "",
       "children": [
        "IPY_MODEL_2e1063630c974471a04f4098f713d116",
        "IPY_MODEL_6564453997424ddc8e0f7a05a183c211",
        "IPY_MODEL_78837b2d2cc949bba8a4202e7e755bc9"
       ],
       "layout": "IPY_MODEL_bee84907400a4d0c9978ecae3c7cc4b4"
      }
     },
     "8b913b64c4ff41088d94dee7dc344f25": {
      "model_module": "@jupyter-widgets/base",
      "model_module_version": "1.2.0",
      "model_name": "LayoutModel",
      "state": {
       "_model_module": "@jupyter-widgets/base",
       "_model_module_version": "1.2.0",
       "_model_name": "LayoutModel",
       "_view_count": null,
       "_view_module": "@jupyter-widgets/base",
       "_view_module_version": "1.2.0",
       "_view_name": "LayoutView",
       "align_content": null,
       "align_items": null,
       "align_self": null,
       "border": null,
       "bottom": null,
       "display": null,
       "flex": null,
       "flex_flow": null,
       "grid_area": null,
       "grid_auto_columns": null,
       "grid_auto_flow": null,
       "grid_auto_rows": null,
       "grid_column": null,
       "grid_gap": null,
       "grid_row": null,
       "grid_template_areas": null,
       "grid_template_columns": null,
       "grid_template_rows": null,
       "height": null,
       "justify_content": null,
       "justify_items": null,
       "left": null,
       "margin": null,
       "max_height": null,
       "max_width": null,
       "min_height": null,
       "min_width": null,
       "object_fit": null,
       "object_position": null,
       "order": null,
       "overflow": null,
       "overflow_x": null,
       "overflow_y": null,
       "padding": null,
       "right": null,
       "top": null,
       "visibility": null,
       "width": null
      }
     },
     "bee84907400a4d0c9978ecae3c7cc4b4": {
      "model_module": "@jupyter-widgets/base",
      "model_module_version": "1.2.0",
      "model_name": "LayoutModel",
      "state": {
       "_model_module": "@jupyter-widgets/base",
       "_model_module_version": "1.2.0",
       "_model_name": "LayoutModel",
       "_view_count": null,
       "_view_module": "@jupyter-widgets/base",
       "_view_module_version": "1.2.0",
       "_view_name": "LayoutView",
       "align_content": null,
       "align_items": null,
       "align_self": null,
       "border": null,
       "bottom": null,
       "display": null,
       "flex": null,
       "flex_flow": null,
       "grid_area": null,
       "grid_auto_columns": null,
       "grid_auto_flow": null,
       "grid_auto_rows": null,
       "grid_column": null,
       "grid_gap": null,
       "grid_row": null,
       "grid_template_areas": null,
       "grid_template_columns": null,
       "grid_template_rows": null,
       "height": null,
       "justify_content": null,
       "justify_items": null,
       "left": null,
       "margin": null,
       "max_height": null,
       "max_width": null,
       "min_height": null,
       "min_width": null,
       "object_fit": null,
       "object_position": null,
       "order": null,
       "overflow": null,
       "overflow_x": null,
       "overflow_y": null,
       "padding": null,
       "right": null,
       "top": null,
       "visibility": null,
       "width": null
      }
     },
     "c2a68d6e296d4694b366749320dd6726": {
      "model_module": "@jupyter-widgets/controls",
      "model_module_version": "1.5.0",
      "model_name": "DescriptionStyleModel",
      "state": {
       "_model_module": "@jupyter-widgets/controls",
       "_model_module_version": "1.5.0",
       "_model_name": "DescriptionStyleModel",
       "_view_count": null,
       "_view_module": "@jupyter-widgets/base",
       "_view_module_version": "1.2.0",
       "_view_name": "StyleView",
       "description_width": ""
      }
     },
     "e4c5b26496f24958b6c1a5c79feea026": {
      "model_module": "@jupyter-widgets/controls",
      "model_module_version": "1.5.0",
      "model_name": "ProgressStyleModel",
      "state": {
       "_model_module": "@jupyter-widgets/controls",
       "_model_module_version": "1.5.0",
       "_model_name": "ProgressStyleModel",
       "_view_count": null,
       "_view_module": "@jupyter-widgets/base",
       "_view_module_version": "1.2.0",
       "_view_name": "StyleView",
       "bar_color": null,
       "description_width": ""
      }
     }
    },
    "version_major": 2,
    "version_minor": 0
   }
  }
 },
 "nbformat": 4,
 "nbformat_minor": 5
}
