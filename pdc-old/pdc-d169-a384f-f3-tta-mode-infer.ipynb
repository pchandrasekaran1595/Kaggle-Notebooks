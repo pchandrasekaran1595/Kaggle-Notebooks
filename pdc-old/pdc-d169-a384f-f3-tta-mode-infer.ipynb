{
 "cells": [
  {
   "cell_type": "markdown",
   "id": "a69aca24",
   "metadata": {
    "papermill": {
     "duration": 0.003942,
     "end_time": "2022-07-07T06:20:58.248292",
     "exception": false,
     "start_time": "2022-07-07T06:20:58.244350",
     "status": "completed"
    },
    "tags": []
   },
   "source": [
    "### **Library Imports**"
   ]
  },
  {
   "cell_type": "code",
   "execution_count": 1,
   "id": "40a47a1c",
   "metadata": {
    "execution": {
     "iopub.execute_input": "2022-07-07T06:20:58.258975Z",
     "iopub.status.busy": "2022-07-07T06:20:58.258332Z",
     "iopub.status.idle": "2022-07-07T06:21:01.116484Z",
     "shell.execute_reply": "2022-07-07T06:21:01.115695Z"
    },
    "papermill": {
     "duration": 2.864894,
     "end_time": "2022-07-07T06:21:01.118625",
     "exception": false,
     "start_time": "2022-07-07T06:20:58.253731",
     "status": "completed"
    },
    "tags": []
   },
   "outputs": [],
   "source": [
    "import os\n",
    "import re\n",
    "import cv2\n",
    "import torch\n",
    "import random as r\n",
    "import numpy as np\n",
    "import pandas as pd\n",
    "import matplotlib.pyplot as plt\n",
    "\n",
    "from time import time\n",
    "from scipy import stats\n",
    "from torch import nn, optim\n",
    "from torch.utils.data import Dataset\n",
    "from torch.utils.data import DataLoader as DL\n",
    "from torchvision import models, transforms\n",
    "\n",
    "from sklearn.preprocessing import LabelEncoder"
   ]
  },
  {
   "cell_type": "markdown",
   "id": "c05ff3bc",
   "metadata": {
    "papermill": {
     "duration": 0.003645,
     "end_time": "2022-07-07T06:21:01.125747",
     "exception": false,
     "start_time": "2022-07-07T06:21:01.122102",
     "status": "completed"
    },
    "tags": []
   },
   "source": [
    "### **Utilities and Helpers**"
   ]
  },
  {
   "cell_type": "code",
   "execution_count": 2,
   "id": "bd17f54a",
   "metadata": {
    "execution": {
     "iopub.execute_input": "2022-07-07T06:21:01.133625Z",
     "iopub.status.busy": "2022-07-07T06:21:01.132978Z",
     "iopub.status.idle": "2022-07-07T06:21:01.201050Z",
     "shell.execute_reply": "2022-07-07T06:21:01.200202Z"
    },
    "papermill": {
     "duration": 0.074302,
     "end_time": "2022-07-07T06:21:01.203177",
     "exception": false,
     "start_time": "2022-07-07T06:21:01.128875",
     "status": "completed"
    },
    "tags": []
   },
   "outputs": [],
   "source": [
    "SEED = 42\n",
    "SIZE = 384\n",
    "FOLD = 3\n",
    "TRANSFORM = transforms.Compose([transforms.ToTensor(),\n",
    "                                transforms.Normalize([0.49699, 0.58823, 0.23049],\n",
    "                                                    [0.22591, 0.22614, 0.18264]),\n",
    "                                transforms.RandomAffine(degrees=(-15, 15), translate=(0.05, 0.05), scale=(0.9, 1.1)),\n",
    "                                transforms.RandomHorizontalFlip(p=0.1),\n",
    "                                transforms.RandomVerticalFlip(p=0.1),\n",
    "                               ])\n",
    "MODEL_PATH = f\"../input/pdc-d169-a{SIZE}f-f{FOLD}/saves/ble_state.pt\"\n",
    "DEVICE = torch.device(\"cuda\" if torch.cuda.is_available() else \"cpu\")\n",
    "\n",
    "le = LabelEncoder()\n",
    "r.seed(SEED)\n",
    "\n",
    "\n",
    "def breaker(num: int=50, char: str=\"*\") -> None:\n",
    "    print(\"\\n\" + num*char + \"\\n\")\n",
    "\n",
    "\n",
    "def get_image(path: str, size: int=224) -> np.ndarray:\n",
    "    return cv2.resize(src=cv2.cvtColor(src=cv2.imread(path, cv2.IMREAD_COLOR), code=cv2.COLOR_BGR2RGB), dsize=(size, size), interpolation=cv2.INTER_AREA)"
   ]
  },
  {
   "cell_type": "markdown",
   "id": "73a0eb2b",
   "metadata": {
    "papermill": {
     "duration": 0.002863,
     "end_time": "2022-07-07T06:21:01.209115",
     "exception": false,
     "start_time": "2022-07-07T06:21:01.206252",
     "status": "completed"
    },
    "tags": []
   },
   "source": [
    "### **Configuration**"
   ]
  },
  {
   "cell_type": "markdown",
   "id": "a5fbf377",
   "metadata": {
    "papermill": {
     "duration": 0.002838,
     "end_time": "2022-07-07T06:21:01.215193",
     "exception": false,
     "start_time": "2022-07-07T06:21:01.212355",
     "status": "completed"
    },
    "tags": []
   },
   "source": [
    "### **Dataset Template**"
   ]
  },
  {
   "cell_type": "code",
   "execution_count": 3,
   "id": "acd2dbbb",
   "metadata": {
    "execution": {
     "iopub.execute_input": "2022-07-07T06:21:01.222828Z",
     "iopub.status.busy": "2022-07-07T06:21:01.222557Z",
     "iopub.status.idle": "2022-07-07T06:21:01.228425Z",
     "shell.execute_reply": "2022-07-07T06:21:01.227603Z"
    },
    "papermill": {
     "duration": 0.011573,
     "end_time": "2022-07-07T06:21:01.230204",
     "exception": false,
     "start_time": "2022-07-07T06:21:01.218631",
     "status": "completed"
    },
    "tags": []
   },
   "outputs": [],
   "source": [
    "class DS(Dataset):\n",
    "    def __init__(self, base_path: str, filenames: np.ndarray, size: int=224, transform=None):\n",
    "        self.base_path = base_path\n",
    "        self.filenames = filenames\n",
    "        self.size = size\n",
    "        self.transform = transform\n",
    "    \n",
    "    def __len__(self):\n",
    "        return self.filenames.shape[0]\n",
    "    \n",
    "    def __getitem__(self, idx):\n",
    "        return self.transform(get_image(os.path.join(self.base_path, self.filenames[idx]), size=self.size))"
   ]
  },
  {
   "cell_type": "markdown",
   "id": "e6680693",
   "metadata": {
    "papermill": {
     "duration": 0.002999,
     "end_time": "2022-07-07T06:21:01.236215",
     "exception": false,
     "start_time": "2022-07-07T06:21:01.233216",
     "status": "completed"
    },
    "tags": []
   },
   "source": [
    "### **Model**"
   ]
  },
  {
   "cell_type": "code",
   "execution_count": 4,
   "id": "95b08439",
   "metadata": {
    "execution": {
     "iopub.execute_input": "2022-07-07T06:21:01.243649Z",
     "iopub.status.busy": "2022-07-07T06:21:01.243405Z",
     "iopub.status.idle": "2022-07-07T06:21:01.248694Z",
     "shell.execute_reply": "2022-07-07T06:21:01.247972Z"
    },
    "papermill": {
     "duration": 0.01077,
     "end_time": "2022-07-07T06:21:01.250318",
     "exception": false,
     "start_time": "2022-07-07T06:21:01.239548",
     "status": "completed"
    },
    "tags": []
   },
   "outputs": [],
   "source": [
    "class Model(nn.Module):\n",
    "    def __init__(self):\n",
    "        super(Model, self).__init__()\n",
    "\n",
    "        self.model = models.densenet169(pretrained=False, progress=True)\n",
    "        # self.freeze()\n",
    "        self.model.classifier = nn.Linear(in_features=self.model.classifier.in_features, out_features=10)\n",
    "    \n",
    "    def freeze(self):\n",
    "        for params in self.parameters(): params.requires_grad = False\n",
    "\n",
    "    def forward(self, x):\n",
    "        return nn.LogSoftmax(dim=1)(self.model(x))"
   ]
  },
  {
   "cell_type": "markdown",
   "id": "fd134084",
   "metadata": {
    "papermill": {
     "duration": 0.002904,
     "end_time": "2022-07-07T06:21:01.256186",
     "exception": false,
     "start_time": "2022-07-07T06:21:01.253282",
     "status": "completed"
    },
    "tags": []
   },
   "source": [
    "### **Predict Helpers**"
   ]
  },
  {
   "cell_type": "code",
   "execution_count": 5,
   "id": "433f998e",
   "metadata": {
    "execution": {
     "iopub.execute_input": "2022-07-07T06:21:01.263035Z",
     "iopub.status.busy": "2022-07-07T06:21:01.262779Z",
     "iopub.status.idle": "2022-07-07T06:21:01.269217Z",
     "shell.execute_reply": "2022-07-07T06:21:01.268466Z"
    },
    "papermill": {
     "duration": 0.011854,
     "end_time": "2022-07-07T06:21:01.271035",
     "exception": false,
     "start_time": "2022-07-07T06:21:01.259181",
     "status": "completed"
    },
    "tags": []
   },
   "outputs": [],
   "source": [
    "def predict_batch(model=None, dataloader=None, path=None, device=None) -> np.ndarray:\n",
    "    model.load_state_dict(torch.load(path, map_location=device)[\"model_state_dict\"])\n",
    "    model.to(device)    \n",
    "    model.eval()\n",
    "    \n",
    "    y_pred = torch.zeros(1, 1).to(device)\n",
    "    \n",
    "    for X in dataloader:\n",
    "        X = X.to(device)\n",
    "        with torch.no_grad():\n",
    "            output = torch.argmax(torch.exp(model(X)), dim=1)\n",
    "        y_pred = torch.cat((y_pred, output.view(-1, 1)), dim=0)\n",
    "    \n",
    "    return y_pred[1:].detach().cpu().numpy()"
   ]
  },
  {
   "cell_type": "markdown",
   "id": "2ac7d10f",
   "metadata": {
    "papermill": {
     "duration": 0.002813,
     "end_time": "2022-07-07T06:21:01.276860",
     "exception": false,
     "start_time": "2022-07-07T06:21:01.274047",
     "status": "completed"
    },
    "tags": []
   },
   "source": [
    "### **Submission**"
   ]
  },
  {
   "cell_type": "code",
   "execution_count": 6,
   "id": "e532ba54",
   "metadata": {
    "execution": {
     "iopub.execute_input": "2022-07-07T06:21:01.283808Z",
     "iopub.status.busy": "2022-07-07T06:21:01.283567Z",
     "iopub.status.idle": "2022-07-07T06:32:24.001059Z",
     "shell.execute_reply": "2022-07-07T06:32:24.000241Z"
    },
    "papermill": {
     "duration": 682.723797,
     "end_time": "2022-07-07T06:32:24.003658",
     "exception": false,
     "start_time": "2022-07-07T06:21:01.279861",
     "status": "completed"
    },
    "tags": []
   },
   "outputs": [],
   "source": [
    "df = pd.read_csv(\"../input/paddy-disease-classification/train.csv\")\n",
    "ss_df = pd.read_csv(\"../input/paddy-disease-classification/sample_submission.csv\")\n",
    "\n",
    "labels = df.label.copy().values\n",
    "labels = le.fit_transform(labels)\n",
    "\n",
    "model = Model().to(DEVICE)\n",
    "\n",
    "seeds = [r.randint(0, 99) for _ in range(10)]\n",
    "\n",
    "y_pred = np.zeros((ss_df.shape[0], 1))\n",
    "\n",
    "for seed in seeds:\n",
    "    ts_data_setup = DS(base_path=\"../input/paddy-disease-classification/test_images\", \n",
    "                       filenames=ss_df.image_id.copy().values,\n",
    "                       size=SIZE,\n",
    "                       transform=TRANSFORM)\n",
    "    ts_data = DL(ts_data_setup, batch_size=64, shuffle=False, generator=torch.manual_seed(seed))\n",
    "\n",
    "    temp_y_pred = predict_batch(model=model, \n",
    "                           dataloader=ts_data, \n",
    "                           path=MODEL_PATH,\n",
    "                           device=DEVICE)\n",
    "    \n",
    "    y_pred = np.concatenate((y_pred, temp_y_pred), axis=1)\n",
    "\n",
    "y_pred = stats.mode(y_pred[:, 1:], axis=1)[0]\n",
    "\n",
    "ss_df[\"label\"] = le.inverse_transform(y_pred.astype(\"uint8\").reshape(-1))\n",
    "ss_df.to_csv(\"submission.csv\", index=False)"
   ]
  }
 ],
 "metadata": {
  "kernelspec": {
   "display_name": "Python 3",
   "language": "python",
   "name": "python3"
  },
  "language_info": {
   "codemirror_mode": {
    "name": "ipython",
    "version": 3
   },
   "file_extension": ".py",
   "mimetype": "text/x-python",
   "name": "python",
   "nbconvert_exporter": "python",
   "pygments_lexer": "ipython3",
   "version": "3.7.12"
  },
  "papermill": {
   "default_parameters": {},
   "duration": 695.056235,
   "end_time": "2022-07-07T06:32:25.328964",
   "environment_variables": {},
   "exception": null,
   "input_path": "__notebook__.ipynb",
   "output_path": "__notebook__.ipynb",
   "parameters": {},
   "start_time": "2022-07-07T06:20:50.272729",
   "version": "2.3.4"
  }
 },
 "nbformat": 4,
 "nbformat_minor": 5
}
