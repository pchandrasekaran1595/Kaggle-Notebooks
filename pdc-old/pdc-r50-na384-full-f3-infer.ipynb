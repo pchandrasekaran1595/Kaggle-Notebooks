{
 "cells": [
  {
   "cell_type": "markdown",
   "id": "392d0a12",
   "metadata": {
    "papermill": {
     "duration": 0.004428,
     "end_time": "2022-06-16T10:51:50.266523",
     "exception": false,
     "start_time": "2022-06-16T10:51:50.262095",
     "status": "completed"
    },
    "tags": []
   },
   "source": [
    "### **Library Imports**"
   ]
  },
  {
   "cell_type": "code",
   "execution_count": 1,
   "id": "36fe5ea1",
   "metadata": {
    "execution": {
     "iopub.execute_input": "2022-06-16T10:51:50.277013Z",
     "iopub.status.busy": "2022-06-16T10:51:50.276463Z",
     "iopub.status.idle": "2022-06-16T10:51:53.175380Z",
     "shell.execute_reply": "2022-06-16T10:51:53.174609Z"
    },
    "papermill": {
     "duration": 2.905833,
     "end_time": "2022-06-16T10:51:53.177716",
     "exception": false,
     "start_time": "2022-06-16T10:51:50.271883",
     "status": "completed"
    },
    "tags": []
   },
   "outputs": [],
   "source": [
    "import os\n",
    "import re\n",
    "import cv2\n",
    "import torch\n",
    "import numpy as np\n",
    "import pandas as pd\n",
    "import matplotlib.pyplot as plt\n",
    "\n",
    "from time import time\n",
    "from torch import nn, optim\n",
    "from torch.utils.data import Dataset\n",
    "from torch.utils.data import DataLoader as DL\n",
    "from torchvision import models, transforms\n",
    "\n",
    "from sklearn.preprocessing import LabelEncoder"
   ]
  },
  {
   "cell_type": "markdown",
   "id": "818c8aaf",
   "metadata": {
    "papermill": {
     "duration": 0.003397,
     "end_time": "2022-06-16T10:51:53.184334",
     "exception": false,
     "start_time": "2022-06-16T10:51:53.180937",
     "status": "completed"
    },
    "tags": []
   },
   "source": [
    "### **Utilities and Helpers**"
   ]
  },
  {
   "cell_type": "code",
   "execution_count": 2,
   "id": "fcf2359a",
   "metadata": {
    "execution": {
     "iopub.execute_input": "2022-06-16T10:51:53.192154Z",
     "iopub.status.busy": "2022-06-16T10:51:53.191299Z",
     "iopub.status.idle": "2022-06-16T10:51:53.287779Z",
     "shell.execute_reply": "2022-06-16T10:51:53.286964Z"
    },
    "papermill": {
     "duration": 0.102838,
     "end_time": "2022-06-16T10:51:53.290185",
     "exception": false,
     "start_time": "2022-06-16T10:51:53.187347",
     "status": "completed"
    },
    "tags": []
   },
   "outputs": [],
   "source": [
    "SEED = 42\n",
    "SIZE = 384\n",
    "TRANSFORM = transforms.Compose([transforms.ToTensor(),\n",
    "                                transforms.Normalize([0.49699, 0.58823, 0.23049],\n",
    "                                                     [0.22591, 0.22614, 0.18264]),\n",
    "                                ])\n",
    "MODEL_PATH = \"../input/pdc-r50-na384-full-f3/saves/state_fold_3.pt\"\n",
    "DEVICE = torch.device(\"cuda\" if torch.cuda.is_available() else \"cpu\")\n",
    "\n",
    "le = LabelEncoder()\n",
    "\n",
    "\n",
    "def breaker(num: int=50, char: str=\"*\") -> None:\n",
    "    print(\"\\n\" + num*char + \"\\n\")\n",
    "\n",
    "\n",
    "def get_image(path: str, size: int=224) -> np.ndarray:\n",
    "    return cv2.resize(src=cv2.cvtColor(src=cv2.imread(path, cv2.IMREAD_COLOR), code=cv2.COLOR_BGR2RGB), dsize=(size, size), interpolation=cv2.INTER_AREA)"
   ]
  },
  {
   "cell_type": "markdown",
   "id": "f9d0b3ba",
   "metadata": {
    "papermill": {
     "duration": 0.003222,
     "end_time": "2022-06-16T10:51:53.296955",
     "exception": false,
     "start_time": "2022-06-16T10:51:53.293733",
     "status": "completed"
    },
    "tags": []
   },
   "source": [
    "### **Configuration**"
   ]
  },
  {
   "cell_type": "markdown",
   "id": "e7ff1f79",
   "metadata": {
    "papermill": {
     "duration": 0.002832,
     "end_time": "2022-06-16T10:51:53.302840",
     "exception": false,
     "start_time": "2022-06-16T10:51:53.300008",
     "status": "completed"
    },
    "tags": []
   },
   "source": [
    "### **Dataset Template**"
   ]
  },
  {
   "cell_type": "code",
   "execution_count": 3,
   "id": "67a42f72",
   "metadata": {
    "execution": {
     "iopub.execute_input": "2022-06-16T10:51:53.310213Z",
     "iopub.status.busy": "2022-06-16T10:51:53.309899Z",
     "iopub.status.idle": "2022-06-16T10:51:53.315925Z",
     "shell.execute_reply": "2022-06-16T10:51:53.315093Z"
    },
    "papermill": {
     "duration": 0.011958,
     "end_time": "2022-06-16T10:51:53.317815",
     "exception": false,
     "start_time": "2022-06-16T10:51:53.305857",
     "status": "completed"
    },
    "tags": []
   },
   "outputs": [],
   "source": [
    "class DS(Dataset):\n",
    "    def __init__(self, base_path: str, filenames: np.ndarray, size: int=224, transform=None):\n",
    "        self.base_path = base_path\n",
    "        self.filenames = filenames\n",
    "        self.size = size\n",
    "        self.transform = transform\n",
    "    \n",
    "    def __len__(self):\n",
    "        return self.filenames.shape[0]\n",
    "    \n",
    "    def __getitem__(self, idx):\n",
    "        return self.transform(get_image(os.path.join(self.base_path, self.filenames[idx]), size=self.size))"
   ]
  },
  {
   "cell_type": "markdown",
   "id": "5c67cb9a",
   "metadata": {
    "papermill": {
     "duration": 0.002817,
     "end_time": "2022-06-16T10:51:53.323632",
     "exception": false,
     "start_time": "2022-06-16T10:51:53.320815",
     "status": "completed"
    },
    "tags": []
   },
   "source": [
    "### **Model**"
   ]
  },
  {
   "cell_type": "code",
   "execution_count": 4,
   "id": "13ee0125",
   "metadata": {
    "execution": {
     "iopub.execute_input": "2022-06-16T10:51:53.330614Z",
     "iopub.status.busy": "2022-06-16T10:51:53.330336Z",
     "iopub.status.idle": "2022-06-16T10:51:53.337143Z",
     "shell.execute_reply": "2022-06-16T10:51:53.336446Z"
    },
    "papermill": {
     "duration": 0.01224,
     "end_time": "2022-06-16T10:51:53.338848",
     "exception": false,
     "start_time": "2022-06-16T10:51:53.326608",
     "status": "completed"
    },
    "tags": []
   },
   "outputs": [],
   "source": [
    "class Model(nn.Module):\n",
    "    def __init__(self):\n",
    "        super(Model, self).__init__()\n",
    "\n",
    "        self.model = models.resnet50(pretrained=False, progress=True)\n",
    "        self.freeze()\n",
    "        self.model.fc = nn.Linear(in_features=self.model.fc.in_features, out_features=10)\n",
    "    \n",
    "    def freeze(self):\n",
    "        for params in self.parameters(): params.requires_grad = False\n",
    "\n",
    "    def forward(self, x):\n",
    "        return nn.LogSoftmax(dim=1)(self.model(x))"
   ]
  },
  {
   "cell_type": "markdown",
   "id": "5febbce0",
   "metadata": {
    "papermill": {
     "duration": 0.003036,
     "end_time": "2022-06-16T10:51:53.344919",
     "exception": false,
     "start_time": "2022-06-16T10:51:53.341883",
     "status": "completed"
    },
    "tags": []
   },
   "source": [
    "### **Predict Helpers**"
   ]
  },
  {
   "cell_type": "code",
   "execution_count": 5,
   "id": "f2723343",
   "metadata": {
    "execution": {
     "iopub.execute_input": "2022-06-16T10:51:53.351836Z",
     "iopub.status.busy": "2022-06-16T10:51:53.351581Z",
     "iopub.status.idle": "2022-06-16T10:51:53.358218Z",
     "shell.execute_reply": "2022-06-16T10:51:53.357423Z"
    },
    "papermill": {
     "duration": 0.012141,
     "end_time": "2022-06-16T10:51:53.360020",
     "exception": false,
     "start_time": "2022-06-16T10:51:53.347879",
     "status": "completed"
    },
    "tags": []
   },
   "outputs": [],
   "source": [
    "def predict_batch(model=None, dataloader=None, path=None, device=None) -> np.ndarray:\n",
    "    model.load_state_dict(torch.load(path, map_location=device)[\"model_state_dict\"])\n",
    "    model.to(device)    \n",
    "    model.eval()\n",
    "    \n",
    "    y_pred = torch.zeros(1, 1).to(device)\n",
    "    \n",
    "    for X in dataloader:\n",
    "        X = X.to(device)\n",
    "        with torch.no_grad():\n",
    "            output = torch.argmax(torch.exp(model(X)), dim=1)\n",
    "        y_pred = torch.cat((y_pred, output.view(-1, 1)), dim=0)\n",
    "    \n",
    "    return y_pred[1:].detach().cpu().numpy()"
   ]
  },
  {
   "cell_type": "markdown",
   "id": "07d35538",
   "metadata": {
    "papermill": {
     "duration": 0.00306,
     "end_time": "2022-06-16T10:51:53.366293",
     "exception": false,
     "start_time": "2022-06-16T10:51:53.363233",
     "status": "completed"
    },
    "tags": []
   },
   "source": [
    "### **Submission**"
   ]
  },
  {
   "cell_type": "code",
   "execution_count": 6,
   "id": "2602251b",
   "metadata": {
    "execution": {
     "iopub.execute_input": "2022-06-16T10:51:53.373278Z",
     "iopub.status.busy": "2022-06-16T10:51:53.373026Z",
     "iopub.status.idle": "2022-06-16T10:53:10.384884Z",
     "shell.execute_reply": "2022-06-16T10:53:10.383616Z"
    },
    "papermill": {
     "duration": 77.018558,
     "end_time": "2022-06-16T10:53:10.387859",
     "exception": false,
     "start_time": "2022-06-16T10:51:53.369301",
     "status": "completed"
    },
    "tags": []
   },
   "outputs": [],
   "source": [
    "df = pd.read_csv(\"../input/paddy-disease-classification/train.csv\")\n",
    "ss_df = pd.read_csv(\"../input/paddy-disease-classification/sample_submission.csv\")\n",
    "\n",
    "labels = df.label.copy().values\n",
    "labels = le.fit_transform(labels)\n",
    "\n",
    "ts_data_setup = DS(base_path=\"../input/paddy-disease-classification/test_images\", \n",
    "                   filenames=ss_df.image_id.copy().values,\n",
    "                   size=SIZE,\n",
    "                   transform=TRANSFORM)\n",
    "ts_data = DL(ts_data_setup, batch_size=64, shuffle=False)\n",
    "\n",
    "model = Model().to(DEVICE)\n",
    "\n",
    "y_pred = predict_batch(model=model, \n",
    "                       dataloader=ts_data, \n",
    "                       path=MODEL_PATH,\n",
    "                       device=DEVICE)\n",
    "\n",
    "ss_df[\"label\"] = le.inverse_transform(y_pred.astype(\"uint8\").reshape(-1))\n",
    "ss_df.to_csv(\"submission.csv\", index=False)"
   ]
  }
 ],
 "metadata": {
  "kernelspec": {
   "display_name": "Python 3",
   "language": "python",
   "name": "python3"
  },
  "language_info": {
   "codemirror_mode": {
    "name": "ipython",
    "version": 3
   },
   "file_extension": ".py",
   "mimetype": "text/x-python",
   "name": "python",
   "nbconvert_exporter": "python",
   "pygments_lexer": "ipython3",
   "version": "3.7.12"
  },
  "papermill": {
   "default_parameters": {},
   "duration": 90.321516,
   "end_time": "2022-06-16T10:53:12.707764",
   "environment_variables": {},
   "exception": null,
   "input_path": "__notebook__.ipynb",
   "output_path": "__notebook__.ipynb",
   "parameters": {},
   "start_time": "2022-06-16T10:51:42.386248",
   "version": "2.3.4"
  }
 },
 "nbformat": 4,
 "nbformat_minor": 5
}
