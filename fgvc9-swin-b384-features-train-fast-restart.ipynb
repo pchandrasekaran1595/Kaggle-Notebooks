{
 "cells": [
  {
   "cell_type": "markdown",
   "id": "a02e4d3e",
   "metadata": {
    "_cell_guid": "b1076dfc-b9ad-4769-8c92-a6c4dae69d19",
    "_uuid": "8f2839f25d086af736a60e9eeb907d3b93b6e0e5",
    "papermill": {
     "duration": 0.013948,
     "end_time": "2022-03-27T05:20:12.479206",
     "exception": false,
     "start_time": "2022-03-27T05:20:12.465258",
     "status": "completed"
    },
    "tags": []
   },
   "source": [
    "### **Library Imports**"
   ]
  },
  {
   "cell_type": "code",
   "execution_count": 1,
   "id": "9749efc4",
   "metadata": {
    "execution": {
     "iopub.execute_input": "2022-03-27T05:20:12.516116Z",
     "iopub.status.busy": "2022-03-27T05:20:12.515326Z",
     "iopub.status.idle": "2022-03-27T05:20:15.117120Z",
     "shell.execute_reply": "2022-03-27T05:20:15.115097Z",
     "shell.execute_reply.started": "2022-03-26T09:27:04.02036Z"
    },
    "papermill": {
     "duration": 2.625038,
     "end_time": "2022-03-27T05:20:15.117499",
     "exception": false,
     "start_time": "2022-03-27T05:20:12.492461",
     "status": "completed"
    },
    "tags": []
   },
   "outputs": [],
   "source": [
    "import os\n",
    "import re\n",
    "import cv2\n",
    "import torch\n",
    "import pickle\n",
    "import numpy as np\n",
    "import pandas as pd\n",
    "import matplotlib.pyplot as plt\n",
    "\n",
    "from time import time\n",
    "from torch import nn, optim\n",
    "from torch.utils.data import Dataset\n",
    "from torch.utils.data import DataLoader as DL\n",
    "from torch.nn.utils import weight_norm as WN\n",
    "\n",
    "from sklearn.model_selection import StratifiedKFold"
   ]
  },
  {
   "cell_type": "markdown",
   "id": "cbc39a69",
   "metadata": {
    "papermill": {
     "duration": 0.02966,
     "end_time": "2022-03-27T05:20:15.170102",
     "exception": false,
     "start_time": "2022-03-27T05:20:15.140442",
     "status": "completed"
    },
    "tags": []
   },
   "source": [
    "### **Utilities and Constants**"
   ]
  },
  {
   "cell_type": "code",
   "execution_count": 2,
   "id": "6b0ddd91",
   "metadata": {
    "execution": {
     "iopub.execute_input": "2022-03-27T05:20:15.281795Z",
     "iopub.status.busy": "2022-03-27T05:20:15.280883Z",
     "iopub.status.idle": "2022-03-27T05:20:15.284014Z",
     "shell.execute_reply": "2022-03-27T05:20:15.284728Z",
     "shell.execute_reply.started": "2022-03-26T09:28:29.795512Z"
    },
    "papermill": {
     "duration": 0.093575,
     "end_time": "2022-03-27T05:20:15.284879",
     "exception": false,
     "start_time": "2022-03-27T05:20:15.191304",
     "status": "completed"
    },
    "tags": []
   },
   "outputs": [],
   "source": [
    "SEED = 42\n",
    "DEVICE = torch.device(\"cuda\" if torch.cuda.is_available() else \"cpu\")\n",
    "\n",
    "FEATURE_PATH = \"../input/fgvc9-swin-b384-features\"\n",
    "\n",
    "SAVE_PATH = \"saves\"\n",
    "if not os.path.exists(SAVE_PATH):\n",
    "    os.makedirs(SAVE_PATH)"
   ]
  },
  {
   "cell_type": "code",
   "execution_count": 3,
   "id": "4888ef76",
   "metadata": {
    "execution": {
     "iopub.execute_input": "2022-03-27T05:20:15.346579Z",
     "iopub.status.busy": "2022-03-27T05:20:15.345822Z",
     "iopub.status.idle": "2022-03-27T05:20:15.350339Z",
     "shell.execute_reply": "2022-03-27T05:20:15.349197Z",
     "shell.execute_reply.started": "2022-03-26T09:28:31.557498Z"
    },
    "papermill": {
     "duration": 0.040733,
     "end_time": "2022-03-27T05:20:15.350567",
     "exception": false,
     "start_time": "2022-03-27T05:20:15.309834",
     "status": "completed"
    },
    "tags": []
   },
   "outputs": [],
   "source": [
    "def breaker(num: int=50, char: str=\"*\") -> None:\n",
    "    print(\"\\n\" + num*char + \"\\n\")\n",
    "\n",
    "    \n",
    "def show_graphs(L: list, A: list) -> None:\n",
    "    TL, VL, TA, VA = [], [], [], []\n",
    "    for i in range(len(L)):\n",
    "        TL.append(L[i][\"train\"])\n",
    "        VL.append(L[i][\"valid\"])\n",
    "        TA.append(A[i][\"train\"])\n",
    "        VA.append(A[i][\"valid\"])\n",
    "    x_Axis = np.arange(1, len(TL) + 1)\n",
    "    plt.figure(figsize=(8, 6))\n",
    "    plt.subplot(1, 2, 1)\n",
    "    plt.plot(x_Axis, TL, \"r\", label=\"Train\")\n",
    "    plt.plot(x_Axis, VL, \"b\", label=\"Valid\")\n",
    "    plt.legend()\n",
    "    plt.grid()\n",
    "    plt.title(\"Loss Graph\")\n",
    "    plt.subplot(1, 2, 2)\n",
    "    plt.plot(x_Axis, TA, \"r\", label=\"Train\")\n",
    "    plt.plot(x_Axis, VA, \"b\", label=\"Valid\")\n",
    "    plt.legend()\n",
    "    plt.grid()\n",
    "    plt.title(\"Accuracy Graph\")\n",
    "    plt.show()"
   ]
  },
  {
   "cell_type": "markdown",
   "id": "fe5189f3",
   "metadata": {
    "papermill": {
     "duration": 0.022166,
     "end_time": "2022-03-27T05:20:15.395496",
     "exception": false,
     "start_time": "2022-03-27T05:20:15.373330",
     "status": "completed"
    },
    "tags": []
   },
   "source": [
    "### **Dataset Template**"
   ]
  },
  {
   "cell_type": "code",
   "execution_count": 4,
   "id": "f58b7110",
   "metadata": {
    "execution": {
     "iopub.execute_input": "2022-03-27T05:20:15.449936Z",
     "iopub.status.busy": "2022-03-27T05:20:15.449185Z",
     "iopub.status.idle": "2022-03-27T05:20:15.454106Z",
     "shell.execute_reply": "2022-03-27T05:20:15.453066Z",
     "shell.execute_reply.started": "2022-03-26T09:30:49.939049Z"
    },
    "papermill": {
     "duration": 0.036435,
     "end_time": "2022-03-27T05:20:15.454260",
     "exception": false,
     "start_time": "2022-03-27T05:20:15.417825",
     "status": "completed"
    },
    "tags": []
   },
   "outputs": [],
   "source": [
    "class DS(Dataset):\n",
    "    def __init__(self, X=None, y=None, mode=\"train\"):\n",
    "        self.mode = mode\n",
    "\n",
    "        assert(re.match(r\"train\", self.mode, re.IGNORECASE) or re.match(r\"valid\", self.mode, re.IGNORECASE) or re.match(r\"test\", self.mode, re.IGNORECASE))\n",
    "\n",
    "        self.X = X\n",
    "        if re.match(r\"train\", self.mode, re.IGNORECASE) or re.match(r\"valid\", self.mode, re.IGNORECASE):\n",
    "            self.y = y\n",
    "    \n",
    "    def __len__(self):\n",
    "        return self.X.shape[0]\n",
    "    \n",
    "    def __getitem__(self, idx):\n",
    "        if re.match(r\"train\", self.mode, re.IGNORECASE) or re.match(r\"valid\", self.mode, re.IGNORECASE):\n",
    "            return torch.FloatTensor(self.X[idx]), torch.LongTensor(self.y[idx])\n",
    "        else:\n",
    "            return torch.FloatTensor(self.X[idx])"
   ]
  },
  {
   "cell_type": "markdown",
   "id": "3301ce3a",
   "metadata": {
    "papermill": {
     "duration": 0.019821,
     "end_time": "2022-03-27T05:20:15.494465",
     "exception": false,
     "start_time": "2022-03-27T05:20:15.474644",
     "status": "completed"
    },
    "tags": []
   },
   "source": [
    "### **Model**"
   ]
  },
  {
   "cell_type": "code",
   "execution_count": 5,
   "id": "6888bcc0",
   "metadata": {
    "execution": {
     "iopub.execute_input": "2022-03-27T05:20:15.543939Z",
     "iopub.status.busy": "2022-03-27T05:20:15.543116Z",
     "iopub.status.idle": "2022-03-27T05:20:15.578144Z",
     "shell.execute_reply": "2022-03-27T05:20:15.579090Z",
     "shell.execute_reply.started": "2022-03-26T09:28:35.541186Z"
    },
    "papermill": {
     "duration": 0.064506,
     "end_time": "2022-03-27T05:20:15.579303",
     "exception": false,
     "start_time": "2022-03-27T05:20:15.514797",
     "status": "completed"
    },
    "tags": []
   },
   "outputs": [],
   "source": [
    "class Model(nn.Module):\n",
    "    def __init__(self, IL: int=None, HL: list=None, DP: float=None, use_WN: bool=False):\n",
    "        super(Model, self).__init__()\n",
    "\n",
    "        self.model = nn.Sequential()\n",
    "\n",
    "        if len(HL) == 1:\n",
    "            self.model.add_module(\"BN1\", nn.BatchNorm1d(num_features=IL, eps=1e-5))\n",
    "            if use_WN: \n",
    "                self.model.add_module(\"FC1\", WN(nn.Linear(in_features=IL, out_features=HL[0])))\n",
    "            else: \n",
    "                self.model.add_module(\"FC1\", nn.Linear(in_features=IL, out_features=HL[0]))\n",
    "            if isinstance(DP, float):\n",
    "                self.model.add_module(\"DP1\", nn.Dropout(p=DP))\n",
    "            self.model.add_module(\"AN1\", nn.ReLU())\n",
    "            self.model.add_module(\"BN2\", nn.BatchNorm1d(num_features=HL[0], eps=1e-5))\n",
    "            if use_WN: \n",
    "                self.model.add_module(\"FC2\", WN(nn.Linear(in_features=HL[0], out_features=100)))\n",
    "            else:\n",
    "                self.model.add_module(\"FC2\", nn.Linear(in_features=HL[0], out_features=100))\n",
    "\n",
    "        \n",
    "        elif len(HL) == 2:\n",
    "            self.model.add_module(\"BN1\", nn.BatchNorm1d(num_features=IL, eps=1e-5))\n",
    "            if use_WN: \n",
    "                self.model.add_module(\"FC1\", WN(nn.Linear(in_features=IL, out_features=HL[0])))\n",
    "            else: \n",
    "                self.model.add_module(\"FC1\", nn.Linear(in_features=IL, out_features=HL[0]))\n",
    "            if isinstance(DP, float):\n",
    "                self.model.add_module(\"DP1\", nn.Dropout(p=DP))\n",
    "            self.model.add_module(\"AN1\", nn.ReLU())\n",
    "            self.model.add_module(\"BN2\", nn.BatchNorm1d(num_features=HL[0], eps=1e-5))\n",
    "            if use_WN:\n",
    "                self.model.add_module(\"FC2\", WN(nn.Linear(in_features=HL[0], out_features=HL[1])))\n",
    "            else:\n",
    "                self.model.add_module(\"FC2\", nn.Linear(in_features=HL[0], out_features=HL[1]))\n",
    "            if isinstance(DP, float):\n",
    "                self.model.add_module(\"DP2\", nn.Dropout(p=DP))\n",
    "            self.model.add_module(\"AN2\", nn.ReLU())\n",
    "            self.model.add_module(\"BN3\", nn.BatchNorm1d(num_features=HL[1], eps=1e-5))\n",
    "            if use_WN: \n",
    "                self.model.add_module(\"FC3\", WN(nn.Linear(in_features=HL[1], out_features=100)))\n",
    "            else:\n",
    "                self.model.add_module(\"FC3\", nn.Linear(in_features=HL[1], out_features=100))\n",
    "        \n",
    "        elif len(HL) == 3:\n",
    "            self.model.add_module(\"BN1\", nn.BatchNorm1d(num_features=IL, eps=1e-5))\n",
    "            if use_WN: \n",
    "                self.model.add_module(\"FC1\", WN(nn.Linear(in_features=IL, out_features=HL[0])))\n",
    "            else: \n",
    "                self.model.add_module(\"FC1\", nn.Linear(in_features=IL, out_features=HL[0]))\n",
    "            if isinstance(DP, float):\n",
    "                self.model.add_module(\"DP1\", nn.Dropout(p=DP))\n",
    "            self.model.add_module(\"AN1\", nn.ReLU())\n",
    "            self.model.add_module(\"BN2\", nn.BatchNorm1d(num_features=HL[0], eps=1e-5))\n",
    "            if use_WN:\n",
    "                self.model.add_module(\"FC2\", WN(nn.Linear(in_features=HL[0], out_features=HL[1])))\n",
    "            else:\n",
    "                self.model.add_module(\"FC2\", nn.Linear(in_features=HL[0], out_features=HL[1]))\n",
    "            if isinstance(DP, float):\n",
    "                self.model.add_module(\"DP2\", nn.Dropout(p=DP))\n",
    "            self.model.add_module(\"AN2\", nn.ReLU())\n",
    "            self.model.add_module(\"BN3\", nn.BatchNorm1d(num_features=HL[1], eps=1e-5))\n",
    "            if use_WN:\n",
    "                self.model.add_module(\"FC3\", WN(nn.Linear(in_features=HL[1], out_features=HL[2])))\n",
    "            else:\n",
    "                self.model.add_module(\"FC3\", nn.Linear(in_features=HL[1], out_features=HL[2]))\n",
    "            if isinstance(DP, float):\n",
    "                self.model.add_module(\"DP3\", nn.Dropout(p=DP))\n",
    "            self.model.add_module(\"AN3\", nn.ReLU())\n",
    "            self.model.add_module(\"BN4\", nn.BatchNorm1d(num_features=HL[2], eps=1e-5))\n",
    "            if use_WN: \n",
    "                self.model.add_module(\"FC4\", WN(nn.Linear(in_features=HL[2], out_features=100)))\n",
    "            else:\n",
    "                self.model.add_module(\"FC4\", nn.Linear(in_features=HL[2], out_features=100))\n",
    "    \n",
    "    def get_optimizer(self, lr=1e-3, wd=0.0):\n",
    "        return optim.Adam(self.parameters(), lr=lr, weight_decay=wd)\n",
    "\n",
    "    def get_plateau_scheduler(self, optimizer=None, patience=5, eps=1e-8):\n",
    "        return optim.lr_scheduler.ReduceLROnPlateau(optimizer=optimizer, patience=patience, eps=eps)\n",
    "    \n",
    "    def forward(self, x):\n",
    "        return nn.LogSoftmax(dim=1)(self.model(x))"
   ]
  },
  {
   "cell_type": "markdown",
   "id": "4370cc66",
   "metadata": {
    "papermill": {
     "duration": 0.019823,
     "end_time": "2022-03-27T05:20:15.618607",
     "exception": false,
     "start_time": "2022-03-27T05:20:15.598784",
     "status": "completed"
    },
    "tags": []
   },
   "source": [
    "### **Fit and Predict Helper**"
   ]
  },
  {
   "cell_type": "code",
   "execution_count": 6,
   "id": "534f969f",
   "metadata": {
    "execution": {
     "iopub.execute_input": "2022-03-27T05:20:15.678435Z",
     "iopub.status.busy": "2022-03-27T05:20:15.677470Z",
     "iopub.status.idle": "2022-03-27T05:20:15.687521Z",
     "shell.execute_reply": "2022-03-27T05:20:15.687935Z",
     "shell.execute_reply.started": "2022-03-26T09:28:37.476062Z"
    },
    "papermill": {
     "duration": 0.049223,
     "end_time": "2022-03-27T05:20:15.688131",
     "exception": false,
     "start_time": "2022-03-27T05:20:15.638908",
     "status": "completed"
    },
    "tags": []
   },
   "outputs": [],
   "source": [
    "def fit(model=None, optimizer=None, scheduler=None, epochs=None, early_stopping_patience=None, dataloaders=None, fold=None, verbose=False) -> tuple:\n",
    "    \n",
    "    def get_accuracy(y_pred, y_true):\n",
    "        y_pred = torch.argmax(y_pred, dim=1)\n",
    "        return torch.count_nonzero(y_pred == y_true).item() / len(y_pred)\n",
    "    \n",
    "    if verbose:\n",
    "        breaker()\n",
    "        print(f\"Training Fold {fold}...\")\n",
    "        breaker()\n",
    "        \n",
    "    bestLoss, bestAccs = {\"train\" : np.inf, \"valid\" : np.inf}, {\"train\" : 0.0, \"valid\" : 0.0}\n",
    "    Losses, Accuracies = [], []\n",
    "    name = f\"state_fold_{fold}.pt\"\n",
    "\n",
    "    start_time = time()\n",
    "    for e in range(epochs):\n",
    "        e_st = time()\n",
    "        epochLoss, epochAccs = {\"train\" : 0.0, \"valid\" : 0.0}, {\"train\" : 0.0, \"valid\" : 0.0}\n",
    "\n",
    "        for phase in [\"train\", \"valid\"]:\n",
    "            if phase == \"train\":\n",
    "                model.train()\n",
    "            else:\n",
    "                model.eval()\n",
    "            \n",
    "            lossPerPass, accsPerPass = [], []\n",
    "            \n",
    "            for X, y in dataloaders[phase]:\n",
    "                X, y = X.to(DEVICE), y.to(DEVICE).view(-1)\n",
    "\n",
    "                optimizer.zero_grad()\n",
    "                with torch.set_grad_enabled(phase == \"train\"):\n",
    "                    output = model(X)\n",
    "                    loss = torch.nn.NLLLoss()(output, y)\n",
    "                    if phase == \"train\":\n",
    "                        loss.backward()\n",
    "                        optimizer.step()\n",
    "                lossPerPass.append(loss.item())\n",
    "                accsPerPass.append(get_accuracy(output, y))\n",
    "            epochLoss[phase] = np.mean(np.array(lossPerPass))\n",
    "            epochAccs[phase] = np.mean(np.array(accsPerPass))\n",
    "        Losses.append(epochLoss)\n",
    "        Accuracies.append(epochAccs)\n",
    "        \n",
    "        if early_stopping_patience:\n",
    "            if epochLoss[\"valid\"] < bestLoss[\"valid\"]:\n",
    "                bestLoss = epochLoss\n",
    "                BLE = e + 1\n",
    "                torch.save({\"model_state_dict\": model.state_dict(),\n",
    "                            \"optim_state_dict\": optimizer.state_dict()},\n",
    "                           os.path.join(SAVE_PATH, name))\n",
    "                early_stopping_step = 0\n",
    "            else:\n",
    "                early_stopping_step += 1\n",
    "                if early_stopping_step > early_stopping_patience:\n",
    "                    print(\"\\nEarly Stopping at Epoch {}\".format(e + 1))\n",
    "                    break\n",
    "        \n",
    "        if epochLoss[\"valid\"] < bestLoss[\"valid\"]:\n",
    "            bestLoss = epochLoss\n",
    "            BLE = e + 1\n",
    "            torch.save({\"model_state_dict\" : model.state_dict(),\n",
    "                        \"optim_state_dict\" : optimizer.state_dict()},\n",
    "                        os.path.join(SAVE_PATH, name))\n",
    "        \n",
    "        if epochAccs[\"valid\"] > bestAccs[\"valid\"]:\n",
    "            bestAccs = epochAccs\n",
    "            BAE = e + 1\n",
    "        \n",
    "        if scheduler:\n",
    "            scheduler.step(epochLoss[\"valid\"])\n",
    "        \n",
    "        if verbose:\n",
    "            print(\"Epoch: {} | Train Loss: {:.5f} | Valid Loss: {:.5f} |\\\n",
    "Train Accs: {:.5f} | Valid Accs: {:.5f} | Time: {:.2f} seconds\".format(e+1, \n",
    "                                                                       epochLoss[\"train\"], epochLoss[\"valid\"], \n",
    "                                                                       epochAccs[\"train\"], epochAccs[\"valid\"], \n",
    "                                                                       time()-e_st))\n",
    "\n",
    "    if verbose:                                           \n",
    "        breaker()\n",
    "        print(f\"Best Validation Loss at Epoch {BLE}\")\n",
    "        breaker()\n",
    "        print(f\"Best Validation Accs at Epoch {BAE}\")\n",
    "        breaker()\n",
    "        print(\"Time Taken [{} Epochs] : {:.2f} minutes\".format(len(Losses), (time()-start_time)/60))\n",
    "    \n",
    "    return Losses, Accuracies, BLE, BAE, name\n",
    "\n",
    "\n",
    "# def predict(model=None, dataloader=None, path=None) -> np.ndarray:\n",
    "#     model.load_state_dict(torch.load(path, map_location=DEVICE)[\"model_state_dict\"])\n",
    "#     model.to(DEVICE)    \n",
    "#     model.eval()\n",
    "    \n",
    "#     y_pred = torch.zeros(1, 1).to(DEVICE)\n",
    "    \n",
    "#     for X in dataloader:\n",
    "#         X = X.to(DEVICE)\n",
    "#         with torch.no_grad():\n",
    "#             output = torch.argmax(torch.exp(model(X)), dim=1)\n",
    "#         y_pred = torch.cat((y_pred, output.view(-1, 1)), dim=0)\n",
    "    \n",
    "#     return y_pred[1:].detach().cpu().numpy()"
   ]
  },
  {
   "cell_type": "markdown",
   "id": "52f6d096",
   "metadata": {
    "papermill": {
     "duration": 0.013356,
     "end_time": "2022-03-27T05:20:15.719601",
     "exception": false,
     "start_time": "2022-03-27T05:20:15.706245",
     "status": "completed"
    },
    "tags": []
   },
   "source": [
    "### **Load Data**"
   ]
  },
  {
   "cell_type": "code",
   "execution_count": 7,
   "id": "ea1df9c7",
   "metadata": {
    "execution": {
     "iopub.execute_input": "2022-03-27T05:20:15.747204Z",
     "iopub.status.busy": "2022-03-27T05:20:15.746432Z",
     "iopub.status.idle": "2022-03-27T05:20:17.585444Z",
     "shell.execute_reply": "2022-03-27T05:20:17.584863Z"
    },
    "papermill": {
     "duration": 1.853608,
     "end_time": "2022-03-27T05:20:17.585600",
     "exception": false,
     "start_time": "2022-03-27T05:20:15.731992",
     "status": "completed"
    },
    "tags": []
   },
   "outputs": [],
   "source": [
    "features = np.load(os.path.join(FEATURE_PATH, \"features.npy\"))\n",
    "labels   = np.load(os.path.join(FEATURE_PATH, \"labels.npy\"))"
   ]
  },
  {
   "cell_type": "markdown",
   "id": "183aa391",
   "metadata": {
    "papermill": {
     "duration": 0.01294,
     "end_time": "2022-03-27T05:20:17.611640",
     "exception": false,
     "start_time": "2022-03-27T05:20:17.598700",
     "status": "completed"
    },
    "tags": []
   },
   "source": [
    "### **Params**"
   ]
  },
  {
   "cell_type": "code",
   "execution_count": 8,
   "id": "ad62e902",
   "metadata": {
    "execution": {
     "iopub.execute_input": "2022-03-27T05:20:17.642139Z",
     "iopub.status.busy": "2022-03-27T05:20:17.641367Z",
     "iopub.status.idle": "2022-03-27T05:20:17.643322Z",
     "shell.execute_reply": "2022-03-27T05:20:17.643733Z",
     "shell.execute_reply.started": "2022-03-26T09:29:00.080181Z"
    },
    "papermill": {
     "duration": 0.019651,
     "end_time": "2022-03-27T05:20:17.643851",
     "exception": false,
     "start_time": "2022-03-27T05:20:17.624200",
     "status": "completed"
    },
    "tags": []
   },
   "outputs": [],
   "source": [
    "DEBUG: bool = False\n",
    "    \n",
    "if DEBUG:\n",
    "    n_splits = 3\n",
    "    epochs = 2\n",
    "    HL = [4]\n",
    "else:\n",
    "    n_splits = 5\n",
    "    epochs = 100\n",
    "    HL = [2048, 1024, 512]\n",
    "\n",
    "batch_size = 512\n",
    "lr = 1e-3\n",
    "wd = 1e-1\n",
    "early_stopping = 10\n",
    "patience = None\n",
    "eps = None"
   ]
  },
  {
   "cell_type": "markdown",
   "id": "2ded0733",
   "metadata": {
    "papermill": {
     "duration": 0.012279,
     "end_time": "2022-03-27T05:20:17.669842",
     "exception": false,
     "start_time": "2022-03-27T05:20:17.657563",
     "status": "completed"
    },
    "tags": []
   },
   "source": [
    "### **Train**"
   ]
  },
  {
   "cell_type": "code",
   "execution_count": 9,
   "id": "b7d1fbe9",
   "metadata": {
    "execution": {
     "iopub.execute_input": "2022-03-27T05:20:17.705678Z",
     "iopub.status.busy": "2022-03-27T05:20:17.702204Z",
     "iopub.status.idle": "2022-03-27T05:21:07.225801Z",
     "shell.execute_reply": "2022-03-27T05:21:07.226240Z",
     "shell.execute_reply.started": "2022-03-26T09:31:52.362153Z"
    },
    "papermill": {
     "duration": 49.544147,
     "end_time": "2022-03-27T05:21:07.226392",
     "exception": false,
     "start_time": "2022-03-27T05:20:17.682245",
     "status": "completed"
    },
    "tags": []
   },
   "outputs": [
    {
     "name": "stdout",
     "output_type": "stream",
     "text": [
      "\n",
      "**************************************************\n",
      "\n",
      "Training Fold 1...\n",
      "\n",
      "**************************************************\n",
      "\n",
      "Epoch: 1 | Train Loss: 1.50026 | Valid Loss: 2.19755 |Train Accs: 0.60676 | Valid Accs: 0.42695 | Time: 1.60 seconds\n",
      "Epoch: 2 | Train Loss: 2.14350 | Valid Loss: 2.09776 |Train Accs: 0.42232 | Valid Accs: 0.45036 | Time: 0.71 seconds\n",
      "Epoch: 3 | Train Loss: 2.13654 | Valid Loss: 2.18891 |Train Accs: 0.42182 | Valid Accs: 0.42913 | Time: 0.56 seconds\n",
      "Epoch: 4 | Train Loss: 2.13818 | Valid Loss: 2.25526 |Train Accs: 0.42091 | Valid Accs: 0.44626 | Time: 0.55 seconds\n",
      "Epoch: 5 | Train Loss: 2.17399 | Valid Loss: 2.27362 |Train Accs: 0.42330 | Valid Accs: 0.42868 | Time: 0.58 seconds\n",
      "Epoch: 6 | Train Loss: 2.20297 | Valid Loss: 2.35957 |Train Accs: 0.42390 | Valid Accs: 0.41884 | Time: 0.55 seconds\n",
      "Epoch: 7 | Train Loss: 2.23924 | Valid Loss: 2.38194 |Train Accs: 0.42294 | Valid Accs: 0.41926 | Time: 0.71 seconds\n",
      "Epoch: 8 | Train Loss: 2.26600 | Valid Loss: 2.50499 |Train Accs: 0.42937 | Valid Accs: 0.41283 | Time: 0.56 seconds\n",
      "Epoch: 9 | Train Loss: 2.32314 | Valid Loss: 2.56181 |Train Accs: 0.42316 | Valid Accs: 0.40896 | Time: 0.66 seconds\n",
      "Epoch: 10 | Train Loss: 2.38753 | Valid Loss: 2.60658 |Train Accs: 0.41684 | Valid Accs: 0.42835 | Time: 0.56 seconds\n",
      "Epoch: 11 | Train Loss: 2.43438 | Valid Loss: 2.62854 |Train Accs: 0.41597 | Valid Accs: 0.43347 | Time: 0.56 seconds\n",
      "Epoch: 12 | Train Loss: 2.49308 | Valid Loss: 2.71917 |Train Accs: 0.40365 | Valid Accs: 0.40884 | Time: 0.55 seconds\n",
      "\n",
      "Early Stopping at Epoch 13\n",
      "\n",
      "**************************************************\n",
      "\n",
      "Best Validation Loss at Epoch 2\n",
      "\n",
      "**************************************************\n",
      "\n",
      "Best Validation Accs at Epoch 2\n",
      "\n",
      "**************************************************\n",
      "\n",
      "Time Taken [13 Epochs] : 0.15 minutes\n",
      "\n",
      "**************************************************\n",
      "\n"
     ]
    },
    {
     "data": {
      "image/png": "[encoded data removed]",
      "text/plain": [
       "<Figure size 576x432 with 2 Axes>"
      ]
     },
     "metadata": {
      "needs_background": "light"
     },
     "output_type": "display_data"
    },
    {
     "name": "stdout",
     "output_type": "stream",
     "text": [
      "\n",
      "**************************************************\n",
      "\n",
      "Training Fold 2...\n",
      "\n",
      "**************************************************\n",
      "\n",
      "Epoch: 1 | Train Loss: 1.55310 | Valid Loss: 2.11152 |Train Accs: 0.59865 | Valid Accs: 0.43487 | Time: 0.65 seconds\n",
      "Epoch: 2 | Train Loss: 2.13002 | Valid Loss: 2.25560 |Train Accs: 0.42362 | Valid Accs: 0.39542 | Time: 0.66 seconds\n",
      "Epoch: 3 | Train Loss: 2.14867 | Valid Loss: 2.29102 |Train Accs: 0.42189 | Valid Accs: 0.40451 | Time: 0.57 seconds\n",
      "Epoch: 4 | Train Loss: 2.17564 | Valid Loss: 2.34145 |Train Accs: 0.41748 | Valid Accs: 0.38892 | Time: 0.82 seconds\n",
      "Epoch: 5 | Train Loss: 2.19928 | Valid Loss: 2.33923 |Train Accs: 0.42137 | Valid Accs: 0.41720 | Time: 0.74 seconds\n",
      "Epoch: 6 | Train Loss: 2.20872 | Valid Loss: 2.36010 |Train Accs: 0.42744 | Valid Accs: 0.42556 | Time: 0.56 seconds\n",
      "Epoch: 7 | Train Loss: 2.24269 | Valid Loss: 2.45445 |Train Accs: 0.42226 | Valid Accs: 0.40386 | Time: 0.56 seconds\n",
      "Epoch: 8 | Train Loss: 2.30413 | Valid Loss: 2.49783 |Train Accs: 0.41348 | Valid Accs: 0.42741 | Time: 0.56 seconds\n",
      "Epoch: 9 | Train Loss: 2.35063 | Valid Loss: 2.57196 |Train Accs: 0.41427 | Valid Accs: 0.39854 | Time: 0.75 seconds\n",
      "Epoch: 10 | Train Loss: 2.39473 | Valid Loss: 2.63288 |Train Accs: 0.41409 | Valid Accs: 0.40518 | Time: 0.65 seconds\n",
      "Epoch: 11 | Train Loss: 2.45699 | Valid Loss: 2.66587 |Train Accs: 0.41139 | Valid Accs: 0.41221 | Time: 0.55 seconds\n",
      "\n",
      "Early Stopping at Epoch 12\n",
      "\n",
      "**************************************************\n",
      "\n",
      "Best Validation Loss at Epoch 1\n",
      "\n",
      "**************************************************\n",
      "\n",
      "Best Validation Accs at Epoch 1\n",
      "\n",
      "**************************************************\n",
      "\n",
      "Time Taken [12 Epochs] : 0.13 minutes\n",
      "\n",
      "**************************************************\n",
      "\n"
     ]
    },
    {
     "data": {
      "image/png": "[encoded data removed]",
      "text/plain": [
       "<Figure size 576x432 with 2 Axes>"
      ]
     },
     "metadata": {
      "needs_background": "light"
     },
     "output_type": "display_data"
    },
    {
     "name": "stdout",
     "output_type": "stream",
     "text": [
      "\n",
      "**************************************************\n",
      "\n",
      "Training Fold 3...\n",
      "\n",
      "**************************************************\n",
      "\n",
      "Epoch: 1 | Train Loss: 1.50058 | Valid Loss: 2.20838 |Train Accs: 0.60695 | Valid Accs: 0.41773 | Time: 0.64 seconds\n",
      "Epoch: 2 | Train Loss: 2.12310 | Valid Loss: 2.15664 |Train Accs: 0.43117 | Valid Accs: 0.43855 | Time: 0.68 seconds\n",
      "Epoch: 3 | Train Loss: 2.12158 | Valid Loss: 2.20315 |Train Accs: 0.42930 | Valid Accs: 0.43542 | Time: 0.58 seconds\n",
      "Epoch: 4 | Train Loss: 2.13690 | Valid Loss: 2.27770 |Train Accs: 0.42765 | Valid Accs: 0.41459 | Time: 0.70 seconds\n",
      "Epoch: 5 | Train Loss: 2.15697 | Valid Loss: 2.34298 |Train Accs: 0.43256 | Valid Accs: 0.41232 | Time: 0.55 seconds\n",
      "Epoch: 6 | Train Loss: 2.21207 | Valid Loss: 2.31749 |Train Accs: 0.42374 | Valid Accs: 0.45416 | Time: 0.56 seconds\n",
      "Epoch: 7 | Train Loss: 2.24634 | Valid Loss: 2.38975 |Train Accs: 0.42098 | Valid Accs: 0.42902 | Time: 0.56 seconds\n",
      "Epoch: 8 | Train Loss: 2.28194 | Valid Loss: 2.45097 |Train Accs: 0.42404 | Valid Accs: 0.43044 | Time: 0.56 seconds\n",
      "Epoch: 9 | Train Loss: 2.32744 | Valid Loss: 2.51038 |Train Accs: 0.41914 | Valid Accs: 0.41819 | Time: 0.55 seconds\n",
      "Epoch: 10 | Train Loss: 2.40357 | Valid Loss: 2.58917 |Train Accs: 0.41014 | Valid Accs: 0.43302 | Time: 0.57 seconds\n",
      "Epoch: 11 | Train Loss: 2.43347 | Valid Loss: 2.64967 |Train Accs: 0.41762 | Valid Accs: 0.40168 | Time: 0.56 seconds\n",
      "Epoch: 12 | Train Loss: 2.50537 | Valid Loss: 2.72458 |Train Accs: 0.40930 | Valid Accs: 0.40407 | Time: 0.67 seconds\n",
      "\n",
      "Early Stopping at Epoch 13\n",
      "\n",
      "**************************************************\n",
      "\n",
      "Best Validation Loss at Epoch 2\n",
      "\n",
      "**************************************************\n",
      "\n",
      "Best Validation Accs at Epoch 6\n",
      "\n",
      "**************************************************\n",
      "\n",
      "Time Taken [13 Epochs] : 0.13 minutes\n",
      "\n",
      "**************************************************\n",
      "\n"
     ]
    },
    {
     "data": {
      "image/png": "[encoded data removed]",
      "text/plain": [
       "<Figure size 576x432 with 2 Axes>"
      ]
     },
     "metadata": {
      "needs_background": "light"
     },
     "output_type": "display_data"
    },
    {
     "name": "stdout",
     "output_type": "stream",
     "text": [
      "\n",
      "**************************************************\n",
      "\n",
      "Training Fold 4...\n",
      "\n",
      "**************************************************\n",
      "\n",
      "Epoch: 1 | Train Loss: 1.42391 | Valid Loss: 2.16855 |Train Accs: 0.62286 | Valid Accs: 0.43057 | Time: 0.64 seconds\n",
      "Epoch: 2 | Train Loss: 2.09490 | Valid Loss: 2.08308 |Train Accs: 0.43444 | Valid Accs: 0.44002 | Time: 0.67 seconds\n",
      "Epoch: 3 | Train Loss: 2.09809 | Valid Loss: 2.21071 |Train Accs: 0.43335 | Valid Accs: 0.42114 | Time: 0.56 seconds\n",
      "Epoch: 4 | Train Loss: 2.09515 | Valid Loss: 2.22844 |Train Accs: 0.43523 | Valid Accs: 0.42754 | Time: 0.55 seconds\n",
      "Epoch: 5 | Train Loss: 2.14350 | Valid Loss: 2.26083 |Train Accs: 0.42867 | Valid Accs: 0.42386 | Time: 0.66 seconds\n",
      "Epoch: 6 | Train Loss: 2.16042 | Valid Loss: 2.31738 |Train Accs: 0.43442 | Valid Accs: 0.42830 | Time: 0.56 seconds\n",
      "Epoch: 7 | Train Loss: 2.20759 | Valid Loss: 2.38728 |Train Accs: 0.42580 | Valid Accs: 0.41745 | Time: 0.57 seconds\n",
      "Epoch: 8 | Train Loss: 2.26462 | Valid Loss: 2.40348 |Train Accs: 0.41996 | Valid Accs: 0.42580 | Time: 0.56 seconds\n",
      "Epoch: 9 | Train Loss: 2.29403 | Valid Loss: 2.47562 |Train Accs: 0.42401 | Valid Accs: 0.41734 | Time: 0.56 seconds\n",
      "Epoch: 10 | Train Loss: 2.33677 | Valid Loss: 2.56205 |Train Accs: 0.41744 | Valid Accs: 0.41712 | Time: 0.56 seconds\n",
      "Epoch: 11 | Train Loss: 2.38002 | Valid Loss: 2.62299 |Train Accs: 0.42400 | Valid Accs: 0.42233 | Time: 0.56 seconds\n",
      "Epoch: 12 | Train Loss: 2.43460 | Valid Loss: 2.68644 |Train Accs: 0.42054 | Valid Accs: 0.40031 | Time: 0.56 seconds\n",
      "\n",
      "Early Stopping at Epoch 13\n",
      "\n",
      "**************************************************\n",
      "\n",
      "Best Validation Loss at Epoch 2\n",
      "\n",
      "**************************************************\n",
      "\n",
      "Best Validation Accs at Epoch 2\n",
      "\n",
      "**************************************************\n",
      "\n",
      "Time Taken [13 Epochs] : 0.13 minutes\n",
      "\n",
      "**************************************************\n",
      "\n"
     ]
    },
    {
     "data": {
      "image/png": "[encoded data removed]",
      "text/plain": [
       "<Figure size 576x432 with 2 Axes>"
      ]
     },
     "metadata": {
      "needs_background": "light"
     },
     "output_type": "display_data"
    },
    {
     "name": "stdout",
     "output_type": "stream",
     "text": [
      "\n",
      "**************************************************\n",
      "\n",
      "Training Fold 5...\n",
      "\n",
      "**************************************************\n",
      "\n",
      "Epoch: 1 | Train Loss: 1.49956 | Valid Loss: 2.32379 |Train Accs: 0.60782 | Valid Accs: 0.40345 | Time: 0.90 seconds\n",
      "Epoch: 2 | Train Loss: 2.11475 | Valid Loss: 2.18618 |Train Accs: 0.43306 | Valid Accs: 0.42385 | Time: 0.71 seconds\n",
      "Epoch: 3 | Train Loss: 2.08660 | Valid Loss: 2.25131 |Train Accs: 0.43600 | Valid Accs: 0.41245 | Time: 0.56 seconds\n",
      "Epoch: 4 | Train Loss: 2.14664 | Valid Loss: 2.28444 |Train Accs: 0.42317 | Valid Accs: 0.41126 | Time: 0.56 seconds\n",
      "Epoch: 5 | Train Loss: 2.16028 | Valid Loss: 2.34406 |Train Accs: 0.43012 | Valid Accs: 0.41767 | Time: 0.56 seconds\n",
      "Epoch: 6 | Train Loss: 2.18384 | Valid Loss: 2.38926 |Train Accs: 0.42626 | Valid Accs: 0.40725 | Time: 0.56 seconds\n",
      "Epoch: 7 | Train Loss: 2.23959 | Valid Loss: 2.42038 |Train Accs: 0.42116 | Valid Accs: 0.41614 | Time: 0.55 seconds\n",
      "Epoch: 8 | Train Loss: 2.28310 | Valid Loss: 2.55091 |Train Accs: 0.42323 | Valid Accs: 0.39119 | Time: 0.59 seconds\n",
      "Epoch: 9 | Train Loss: 2.32297 | Valid Loss: 2.55811 |Train Accs: 0.42437 | Valid Accs: 0.41083 | Time: 0.66 seconds\n",
      "Epoch: 10 | Train Loss: 2.37524 | Valid Loss: 2.59018 |Train Accs: 0.42041 | Valid Accs: 0.41744 | Time: 0.56 seconds\n",
      "Epoch: 11 | Train Loss: 2.43923 | Valid Loss: 2.65494 |Train Accs: 0.41441 | Valid Accs: 0.41093 | Time: 0.57 seconds\n",
      "Epoch: 12 | Train Loss: 2.50014 | Valid Loss: 2.72840 |Train Accs: 0.40681 | Valid Accs: 0.38631 | Time: 0.67 seconds\n",
      "\n",
      "Early Stopping at Epoch 13\n",
      "\n",
      "**************************************************\n",
      "\n",
      "Best Validation Loss at Epoch 2\n",
      "\n",
      "**************************************************\n",
      "\n",
      "Best Validation Accs at Epoch 2\n",
      "\n",
      "**************************************************\n",
      "\n",
      "Time Taken [13 Epochs] : 0.14 minutes\n",
      "\n",
      "**************************************************\n",
      "\n"
     ]
    },
    {
     "data": {
      "image/png": "[encoded data removed]",
      "text/plain": [
       "<Figure size 576x432 with 2 Axes>"
      ]
     },
     "metadata": {
      "needs_background": "light"
     },
     "output_type": "display_data"
    },
    {
     "name": "stdout",
     "output_type": "stream",
     "text": [
      "\n",
      "**************************************************\n",
      "\n",
      "Total Time Taken for 5-Fold CV : 0.83 minutes\n",
      "\n",
      "**************************************************\n",
      "\n"
     ]
    }
   ],
   "source": [
    "fold = 1\n",
    "\n",
    "start_time = time()\n",
    "for tr_idx, va_idx in StratifiedKFold(n_splits=n_splits, random_state=SEED, shuffle=True).split(features, labels):\n",
    "    tr_features, va_features, tr_labels, va_labels = features[tr_idx], features[va_idx], labels[tr_idx], labels[va_idx]\n",
    "    \n",
    "    tr_data_setup = DS(tr_features, tr_labels.reshape(-1, 1), \"train\")\n",
    "    va_data_setup = DS(va_features, va_labels.reshape(-1, 1), \"valid\")\n",
    "\n",
    "    dataloaders = {\n",
    "        \"train\" : DL(tr_data_setup, batch_size=batch_size, shuffle=True, generator=torch.manual_seed(SEED)),\n",
    "        \"valid\" : DL(va_data_setup, batch_size=batch_size, shuffle=False),\n",
    "    }\n",
    "\n",
    "    torch.manual_seed(SEED)\n",
    "    model = Model(IL=tr_features.shape[1], HL=HL, DP=0.25, use_WN=True).to(DEVICE)\n",
    "    optimizer = model.get_optimizer(lr=lr, wd=wd)\n",
    "    model.load_state_dict(torch.load(f\"../input/fgvc9-swin-b384-features-train-slow/saves/state_fold_{fold}.pt\", map_location=DEVICE)[\"model_state_dict\"])\n",
    "    scheduler = None\n",
    "    if isinstance(patience, int) and isinstance(eps, float):\n",
    "        scheduler = get_plateau_scheduler(optimizer=optimizer, patience=patience, eps=eps)\n",
    "    \n",
    "    L, A, BLE, BAE, name = fit(model=model, optimizer=optimizer, scheduler=scheduler, \n",
    "                           epochs=epochs, early_stopping_patience=early_stopping, \n",
    "                           dataloaders=dataloaders, fold=fold, verbose=True)\n",
    "\n",
    "    breaker()\n",
    "    show_graphs(L, A)\n",
    "    fold += 1\n",
    "\n",
    "breaker()\n",
    "print(f\"Total Time Taken for {n_splits}-Fold CV : {(time()-start_time)/60:.2f} minutes\")\n",
    "breaker()"
   ]
  }
 ],
 "metadata": {
  "kernelspec": {
   "display_name": "Python 3",
   "language": "python",
   "name": "python3"
  },
  "language_info": {
   "codemirror_mode": {
    "name": "ipython",
    "version": 3
   },
   "file_extension": ".py",
   "mimetype": "text/x-python",
   "name": "python",
   "nbconvert_exporter": "python",
   "pygments_lexer": "ipython3",
   "version": "3.7.12"
  },
  "papermill": {
   "default_parameters": {},
   "duration": 63.995023,
   "end_time": "2022-03-27T05:21:08.376903",
   "environment_variables": {},
   "exception": null,
   "input_path": "__notebook__.ipynb",
   "output_path": "__notebook__.ipynb",
   "parameters": {},
   "start_time": "2022-03-27T05:20:04.381880",
   "version": "2.3.3"
  }
 },
 "nbformat": 4,
 "nbformat_minor": 5
}
