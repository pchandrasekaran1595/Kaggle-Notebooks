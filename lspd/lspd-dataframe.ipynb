{
 "cells": [
  {
   "cell_type": "code",
   "execution_count": 1,
   "id": "e7aa6c65",
   "metadata": {
    "_cell_guid": "b1076dfc-b9ad-4769-8c92-a6c4dae69d19",
    "_uuid": "8f2839f25d086af736a60e9eeb907d3b93b6e0e5",
    "execution": {
     "iopub.execute_input": "2022-09-18T10:25:22.546501Z",
     "iopub.status.busy": "2022-09-18T10:25:22.545563Z",
     "iopub.status.idle": "2022-09-18T10:25:22.560472Z",
     "shell.execute_reply": "2022-09-18T10:25:22.559085Z"
    },
    "papermill": {
     "duration": 0.023349,
     "end_time": "2022-09-18T10:25:22.563290",
     "exception": false,
     "start_time": "2022-09-18T10:25:22.539941",
     "status": "completed"
    },
    "tags": []
   },
   "outputs": [],
   "source": [
    "import os\n",
    "import numpy as np\n",
    "import pandas as pd\n",
    "\n",
    "BASE_PATH: str = \"../input/lumpy-skin-disease-prediction\""
   ]
  },
  {
   "cell_type": "code",
   "execution_count": 2,
   "id": "e5500974",
   "metadata": {
    "execution": {
     "iopub.execute_input": "2022-09-18T10:25:22.569995Z",
     "iopub.status.busy": "2022-09-18T10:25:22.569495Z",
     "iopub.status.idle": "2022-09-18T10:25:22.811351Z",
     "shell.execute_reply": "2022-09-18T10:25:22.809865Z"
    },
    "papermill": {
     "duration": 0.24896,
     "end_time": "2022-09-18T10:25:22.814714",
     "exception": false,
     "start_time": "2022-09-18T10:25:22.565754",
     "status": "completed"
    },
    "tags": []
   },
   "outputs": [],
   "source": [
    "normal_filepaths = [\n",
    "    os.path.join(BASE_PATH + \"/Normal Skin\", name) for name in os.listdir(BASE_PATH + \"/Normal Skin\")\n",
    "]\n",
    "normal_labels = np.zeros((len(normal_filepaths, )), dtype=np.uint8)\n",
    "\n",
    "lumpy_filepaths = [\n",
    "    os.path.join(BASE_PATH + \"/Lumpy Skin\", name) for name in os.listdir(BASE_PATH + \"/Lumpy Skin\")\n",
    "]\n",
    "lumpy_labels = np.ones((len(lumpy_filepaths, )), dtype=np.uint8)\n",
    "\n",
    "filepaths = normal_filepaths + lumpy_filepaths\n",
    "labels = np.concatenate((normal_labels, lumpy_labels), axis=0)"
   ]
  },
  {
   "cell_type": "code",
   "execution_count": 3,
   "id": "0fa26c9a",
   "metadata": {
    "execution": {
     "iopub.execute_input": "2022-09-18T10:25:22.820842Z",
     "iopub.status.busy": "2022-09-18T10:25:22.820335Z",
     "iopub.status.idle": "2022-09-18T10:25:22.863258Z",
     "shell.execute_reply": "2022-09-18T10:25:22.861912Z"
    },
    "papermill": {
     "duration": 0.049413,
     "end_time": "2022-09-18T10:25:22.866408",
     "exception": false,
     "start_time": "2022-09-18T10:25:22.816995",
     "status": "completed"
    },
    "tags": []
   },
   "outputs": [],
   "source": [
    "df = pd.DataFrame(data=None, columns=[\"filepaths\", \"labels\"])\n",
    "df.filepaths = filepaths\n",
    "df.labels = labels\n",
    "df.to_csv(\"dataframe.csv\", index=False)"
   ]
  }
 ],
 "metadata": {
  "kernelspec": {
   "display_name": "Python 3",
   "language": "python",
   "name": "python3"
  },
  "language_info": {
   "codemirror_mode": {
    "name": "ipython",
    "version": 3
   },
   "file_extension": ".py",
   "mimetype": "text/x-python",
   "name": "python",
   "nbconvert_exporter": "python",
   "pygments_lexer": "ipython3",
   "version": "3.7.12"
  },
  "papermill": {
   "default_parameters": {},
   "duration": 11.337189,
   "end_time": "2022-09-18T10:25:23.893914",
   "environment_variables": {},
   "exception": null,
   "input_path": "__notebook__.ipynb",
   "output_path": "__notebook__.ipynb",
   "parameters": {},
   "start_time": "2022-09-18T10:25:12.556725",
   "version": "2.3.4"
  }
 },
 "nbformat": 4,
 "nbformat_minor": 5
}
