{
 "cells": [
  {
   "cell_type": "code",
   "execution_count": 1,
   "id": "d1a1d231",
   "metadata": {
    "_cell_guid": "b1076dfc-b9ad-4769-8c92-a6c4dae69d19",
    "_uuid": "8f2839f25d086af736a60e9eeb907d3b93b6e0e5",
    "execution": {
     "iopub.execute_input": "2022-12-09T19:31:34.348410Z",
     "iopub.status.busy": "2022-12-09T19:31:34.347913Z",
     "iopub.status.idle": "2022-12-09T19:31:34.564867Z",
     "shell.execute_reply": "2022-12-09T19:31:34.563925Z"
    },
    "papermill": {
     "duration": 0.225233,
     "end_time": "2022-12-09T19:31:34.567945",
     "exception": false,
     "start_time": "2022-12-09T19:31:34.342712",
     "status": "completed"
    },
    "tags": []
   },
   "outputs": [],
   "source": [
    "import os\n",
    "import cv2\n",
    "import json\n",
    "import numpy as np\n",
    "import pandas as pd\n",
    "\n",
    "BASE_PATH: str = \"/kaggle/input/cards-image-datasetclassification\""
   ]
  },
  {
   "cell_type": "code",
   "execution_count": 2,
   "id": "b4c0260d",
   "metadata": {
    "execution": {
     "iopub.execute_input": "2022-12-09T19:31:34.575605Z",
     "iopub.status.busy": "2022-12-09T19:31:34.574616Z",
     "iopub.status.idle": "2022-12-09T19:31:34.592308Z",
     "shell.execute_reply": "2022-12-09T19:31:34.591151Z"
    },
    "papermill": {
     "duration": 0.02409,
     "end_time": "2022-12-09T19:31:34.594891",
     "exception": false,
     "start_time": "2022-12-09T19:31:34.570801",
     "status": "completed"
    },
    "tags": []
   },
   "outputs": [],
   "source": [
    "tr_df: pd.DataFrame = pd.DataFrame(data=None, columns=[\"filepaths\", \"labels\"])\n",
    "ts_df: pd.DataFrame = pd.DataFrame(data=None, columns=[\"filepaths\", \"labels\"])\n",
    "fu_df: pd.DataFrame = pd.DataFrame(data=None, columns=[\"filepaths\", \"labels\"])    "
   ]
  },
  {
   "cell_type": "code",
   "execution_count": 3,
   "id": "6b39c518",
   "metadata": {
    "execution": {
     "iopub.execute_input": "2022-12-09T19:31:34.601818Z",
     "iopub.status.busy": "2022-12-09T19:31:34.601434Z",
     "iopub.status.idle": "2022-12-09T19:31:36.865215Z",
     "shell.execute_reply": "2022-12-09T19:31:36.863934Z"
    },
    "papermill": {
     "duration": 2.270431,
     "end_time": "2022-12-09T19:31:36.868003",
     "exception": false,
     "start_time": "2022-12-09T19:31:34.597572",
     "status": "completed"
    },
    "tags": []
   },
   "outputs": [],
   "source": [
    "tr_filepaths: list = []\n",
    "tr_labels: list = []\n",
    "\n",
    "va_filepaths: list = []\n",
    "va_labels: list = []\n",
    "\n",
    "i: int = 0\n",
    "for folder in sorted(os.listdir(f\"{BASE_PATH}/train\")):\n",
    "    for filename in os.listdir(f\"{BASE_PATH}/train/{folder}\"):\n",
    "        tr_filepaths.append(os.path.join(f\"{BASE_PATH}/train/{folder}\", filename))\n",
    "        tr_labels.append(i)\n",
    "    i += 1\n",
    "\n",
    "    \n",
    "i: int = 0\n",
    "for folder in sorted(os.listdir(f\"{BASE_PATH}/valid\")):\n",
    "    for filename in os.listdir(f\"{BASE_PATH}/valid/{folder}\"):\n",
    "        va_filepaths.append(os.path.join(f\"{BASE_PATH}/valid/{folder}\", filename))\n",
    "        va_labels.append(i)\n",
    "    i += 1\n",
    "\n",
    "tr_df.filepaths = tr_filepaths + va_filepaths\n",
    "tr_df.labels = tr_labels + va_labels\n",
    "tr_df.to_csv(\"train.csv\", index=False)"
   ]
  },
  {
   "cell_type": "code",
   "execution_count": 4,
   "id": "5c2ae5b5",
   "metadata": {
    "execution": {
     "iopub.execute_input": "2022-12-09T19:31:36.875065Z",
     "iopub.status.busy": "2022-12-09T19:31:36.874688Z",
     "iopub.status.idle": "2022-12-09T19:31:37.102960Z",
     "shell.execute_reply": "2022-12-09T19:31:37.101815Z"
    },
    "papermill": {
     "duration": 0.235048,
     "end_time": "2022-12-09T19:31:37.105692",
     "exception": false,
     "start_time": "2022-12-09T19:31:36.870644",
     "status": "completed"
    },
    "tags": []
   },
   "outputs": [],
   "source": [
    "filepaths: list = []\n",
    "labels: list = []\n",
    "\n",
    "i: int = 0    \n",
    "for folder in sorted(os.listdir(f\"{BASE_PATH}/test\")):\n",
    "    for filename in os.listdir(f\"{BASE_PATH}/test/{folder}\"):\n",
    "        filepaths.append(os.path.join(f\"{BASE_PATH}/test/{folder}\", filename))\n",
    "        labels.append(i)\n",
    "    i += 1\n",
    "\n",
    "ts_df.filepaths = filepaths\n",
    "ts_df.labels = labels\n",
    "ts_df.to_csv(\"test.csv\", index=False)"
   ]
  },
  {
   "cell_type": "code",
   "execution_count": 5,
   "id": "67dd947b",
   "metadata": {
    "execution": {
     "iopub.execute_input": "2022-12-09T19:31:37.113508Z",
     "iopub.status.busy": "2022-12-09T19:31:37.112300Z",
     "iopub.status.idle": "2022-12-09T19:31:37.144922Z",
     "shell.execute_reply": "2022-12-09T19:31:37.143461Z"
    },
    "papermill": {
     "duration": 0.039544,
     "end_time": "2022-12-09T19:31:37.147978",
     "exception": false,
     "start_time": "2022-12-09T19:31:37.108434",
     "status": "completed"
    },
    "tags": []
   },
   "outputs": [],
   "source": [
    "fu_df.filepaths = tr_filepaths + va_filepaths + filepaths\n",
    "fu_df.labels = tr_labels + va_labels + labels\n",
    "fu_df.to_csv(\"full.csv\", index=False)"
   ]
  },
  {
   "cell_type": "code",
   "execution_count": 6,
   "id": "20a72ba8",
   "metadata": {
    "execution": {
     "iopub.execute_input": "2022-12-09T19:31:37.155409Z",
     "iopub.status.busy": "2022-12-09T19:31:37.154793Z",
     "iopub.status.idle": "2022-12-09T19:31:37.161630Z",
     "shell.execute_reply": "2022-12-09T19:31:37.160468Z"
    },
    "papermill": {
     "duration": 0.0135,
     "end_time": "2022-12-09T19:31:37.164179",
     "exception": false,
     "start_time": "2022-12-09T19:31:37.150679",
     "status": "completed"
    },
    "tags": []
   },
   "outputs": [],
   "source": [
    "labels: dict = dict()\n",
    "\n",
    "i = 0\n",
    "for folder in sorted(os.listdir(f\"{BASE_PATH}/test\")):\n",
    "    labels[i] = folder\n",
    "    i += 1\n",
    "\n",
    "json.dump(labels, open(\"labels.json\", \"w\"))"
   ]
  }
 ],
 "metadata": {
  "kernelspec": {
   "display_name": "Python 3",
   "language": "python",
   "name": "python3"
  },
  "language_info": {
   "codemirror_mode": {
    "name": "ipython",
    "version": 3
   },
   "file_extension": ".py",
   "mimetype": "text/x-python",
   "name": "python",
   "nbconvert_exporter": "python",
   "pygments_lexer": "ipython3",
   "version": "3.7.12"
  },
  "papermill": {
   "default_parameters": {},
   "duration": 11.905744,
   "end_time": "2022-12-09T19:31:37.889275",
   "environment_variables": {},
   "exception": null,
   "input_path": "__notebook__.ipynb",
   "output_path": "__notebook__.ipynb",
   "parameters": {},
   "start_time": "2022-12-09T19:31:25.983531",
   "version": "2.3.4"
  }
 },
 "nbformat": 4,
 "nbformat_minor": 5
}
