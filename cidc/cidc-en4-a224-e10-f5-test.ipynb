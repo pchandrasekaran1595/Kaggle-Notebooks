{
 "cells": [
  {
   "cell_type": "markdown",
   "id": "f99f381d",
   "metadata": {
    "_cell_guid": "b1076dfc-b9ad-4769-8c92-a6c4dae69d19",
    "_uuid": "8f2839f25d086af736a60e9eeb907d3b93b6e0e5",
    "papermill": {
     "duration": 0.004365,
     "end_time": "2022-12-12T08:42:47.707935",
     "exception": false,
     "start_time": "2022-12-12T08:42:47.703570",
     "status": "completed"
    },
    "tags": []
   },
   "source": [
    "### **Setup**"
   ]
  },
  {
   "cell_type": "code",
   "execution_count": 1,
   "id": "3ba6cf80",
   "metadata": {
    "execution": {
     "iopub.execute_input": "2022-12-12T08:42:47.716443Z",
     "iopub.status.busy": "2022-12-12T08:42:47.716021Z",
     "iopub.status.idle": "2022-12-12T08:42:58.772260Z",
     "shell.execute_reply": "2022-12-12T08:42:58.770623Z"
    },
    "papermill": {
     "duration": 11.063738,
     "end_time": "2022-12-12T08:42:58.775264",
     "exception": false,
     "start_time": "2022-12-12T08:42:47.711526",
     "status": "completed"
    },
    "tags": []
   },
   "outputs": [
    {
     "name": "stderr",
     "output_type": "stream",
     "text": [
      "WARNING: Running pip as the 'root' user can result in broken permissions and conflicting behaviour with the system package manager. It is recommended to use a virtual environment instead: https://pip.pypa.io/warnings/venv\n"
     ]
    }
   ],
   "source": [
    "%%bash\n",
    "pip install timm -q"
   ]
  },
  {
   "cell_type": "markdown",
   "id": "7c137754",
   "metadata": {
    "papermill": {
     "duration": 0.00331,
     "end_time": "2022-12-12T08:42:58.782298",
     "exception": false,
     "start_time": "2022-12-12T08:42:58.778988",
     "status": "completed"
    },
    "tags": []
   },
   "source": [
    "### **Library Imports**"
   ]
  },
  {
   "cell_type": "code",
   "execution_count": 2,
   "id": "e9602251",
   "metadata": {
    "execution": {
     "iopub.execute_input": "2022-12-12T08:42:58.790496Z",
     "iopub.status.busy": "2022-12-12T08:42:58.790163Z",
     "iopub.status.idle": "2022-12-12T08:43:02.445337Z",
     "shell.execute_reply": "2022-12-12T08:43:02.444219Z"
    },
    "papermill": {
     "duration": 3.66238,
     "end_time": "2022-12-12T08:43:02.448061",
     "exception": false,
     "start_time": "2022-12-12T08:42:58.785681",
     "status": "completed"
    },
    "tags": []
   },
   "outputs": [],
   "source": [
    "import os\n",
    "import re\n",
    "import cv2\n",
    "import json\n",
    "import timm\n",
    "import torch\n",
    "import numpy as np\n",
    "import pandas as pd\n",
    "import matplotlib.pyplot as plt\n",
    "\n",
    "from time import time\n",
    "from typing import Union\n",
    "from torch import nn\n",
    "from torch.utils.data import Dataset\n",
    "from torch.utils.data import DataLoader as DL\n",
    "from torchvision import transforms\n",
    "\n",
    "from sklearn.metrics import accuracy_score"
   ]
  },
  {
   "cell_type": "markdown",
   "id": "4fcdf0bd",
   "metadata": {
    "papermill": {
     "duration": 0.003435,
     "end_time": "2022-12-12T08:43:02.455257",
     "exception": false,
     "start_time": "2022-12-12T08:43:02.451822",
     "status": "completed"
    },
    "tags": []
   },
   "source": [
    "### **Utilities and Helpers**"
   ]
  },
  {
   "cell_type": "code",
   "execution_count": 3,
   "id": "a3339013",
   "metadata": {
    "execution": {
     "iopub.execute_input": "2022-12-12T08:43:02.463442Z",
     "iopub.status.busy": "2022-12-12T08:43:02.462954Z",
     "iopub.status.idle": "2022-12-12T08:43:02.478160Z",
     "shell.execute_reply": "2022-12-12T08:43:02.477358Z"
    },
    "papermill": {
     "duration": 0.021607,
     "end_time": "2022-12-12T08:43:02.480197",
     "exception": false,
     "start_time": "2022-12-12T08:43:02.458590",
     "status": "completed"
    },
    "tags": []
   },
   "outputs": [],
   "source": [
    "SEED: int = 42\n",
    "SIZE: int = 224\n",
    "LABELS = json.load(open(\"/kaggle/input/cidc-dataframe/labels.json\", \"r\"))    \n",
    "\n",
    "\n",
    "def breaker(num: int=50, char: str=\"*\") -> None: print(\"\\n\" + num*char + \"\\n\")\n",
    "\n",
    "    \n",
    "def get_image(path: str, size: int=224) -> np.ndarray:\n",
    "    image = cv2.imread(path, cv2.IMREAD_COLOR)\n",
    "    image = cv2.cvtColor(src=image, code=cv2.COLOR_BGR2RGB)\n",
    "    if image.shape == (224, 224, 3): return image\n",
    "    return cv2.resize(src=image, dsize=(size, size), interpolation=cv2.INTER_AREA)"
   ]
  },
  {
   "cell_type": "markdown",
   "id": "7c1c57ba",
   "metadata": {
    "papermill": {
     "duration": 0.003199,
     "end_time": "2022-12-12T08:43:02.486767",
     "exception": false,
     "start_time": "2022-12-12T08:43:02.483568",
     "status": "completed"
    },
    "tags": []
   },
   "source": [
    "\n",
    "\n",
    "### **Configuration**"
   ]
  },
  {
   "cell_type": "code",
   "execution_count": 4,
   "id": "aecf6006",
   "metadata": {
    "execution": {
     "iopub.execute_input": "2022-12-12T08:43:02.495149Z",
     "iopub.status.busy": "2022-12-12T08:43:02.494880Z",
     "iopub.status.idle": "2022-12-12T08:43:02.566574Z",
     "shell.execute_reply": "2022-12-12T08:43:02.565575Z"
    },
    "papermill": {
     "duration": 0.078268,
     "end_time": "2022-12-12T08:43:02.568521",
     "exception": false,
     "start_time": "2022-12-12T08:43:02.490253",
     "status": "completed"
    },
    "tags": []
   },
   "outputs": [],
   "source": [
    "class CFG(object):\n",
    "    def __init__(self, \n",
    "                 seed: int = 42,\n",
    "                 size: int = 224,\n",
    "                 n_splits: int = 5,\n",
    "                 batch_size: int = 16,\n",
    "                 epochs: int = 25,\n",
    "                 early_stopping: int = 5,\n",
    "                 lr: float = 1e-4,\n",
    "                 wd: float = 0.0,\n",
    "                 max_lr: float = 1e-3,\n",
    "                 pct_start: float = 0.2,\n",
    "                 steps_per_epoch: int = 100,\n",
    "                 div_factor: int = 1e3, \n",
    "                 final_div_factor: float = 1e3,\n",
    "                 ):\n",
    "        self.seed = seed\n",
    "        self.size = size\n",
    "        self.n_splits = n_splits\n",
    "        self.batch_size = batch_size\n",
    "        self.epochs = epochs\n",
    "        self.early_stopping = early_stopping\n",
    "        self.lr = lr\n",
    "        self.wd = wd\n",
    "        self.max_lr = max_lr\n",
    "        self.pct_start = pct_start\n",
    "        self.steps_per_epoch = steps_per_epoch\n",
    "        self.div_factor = div_factor\n",
    "        self.final_div_factor = final_div_factor\n",
    "        self.device = torch.device(\"cuda\" if torch.cuda.is_available() else \"cpu\")\n",
    "        \n",
    "        if self.size == 224:\n",
    "            self.train_transform = transforms.Compose([\n",
    "                transforms.ToTensor(),\n",
    "                transforms.Normalize([0.77903, 0.73089, 0.70405], [0.22367, 0.27325, 0.27287]),\n",
    "                transforms.RandomAffine(degrees=(-45, 45), translate=(0.15, 0.15), scale=(0.5, 1.5)),\n",
    "                transforms.RandomHorizontalFlip(p=0.25),\n",
    "                transforms.RandomVerticalFlip(p=0.25),\n",
    "            ])\n",
    "            self.valid_transform = transforms.Compose([\n",
    "                transforms.ToTensor(),\n",
    "                transforms.Normalize([0.77903, 0.73089, 0.70405], [0.22367, 0.27325, 0.27287]),\n",
    "            ])\n",
    "        \n",
    "        if self.size == 384:\n",
    "            self.train_transform = transforms.Compose([\n",
    "                transforms.ToTensor(),\n",
    "                transforms.Normalize([0.77903, 0.73089, 0.70405], [0.22367, 0.27325, 0.27287]),\n",
    "                transforms.RandomAffine(degrees=(-45, 45), translate=(0.15, 0.15), scale=(0.5, 1.5)),\n",
    "                transforms.RandomHorizontalFlip(p=0.25),\n",
    "                transforms.RandomVerticalFlip(p=0.25),\n",
    "            ])\n",
    "            self.valid_transform = transforms.Compose([\n",
    "                transforms.ToTensor(),\n",
    "                transforms.Normalize([0.77903, 0.73089, 0.70405], [0.22367, 0.27325, 0.27287]),\n",
    "            ])\n",
    "        \n",
    "        if self.size == 512:\n",
    "            self.train_transform = transforms.Compose([\n",
    "                transforms.ToTensor(),\n",
    "                transforms.Normalize([0.77903, 0.73089, 0.70405], [0.22367, 0.27325, 0.27287]),\n",
    "                transforms.RandomAffine(degrees=(-45, 45), translate=(0.15, 0.15), scale=(0.5, 1.5)),\n",
    "                transforms.RandomHorizontalFlip(p=0.25),\n",
    "                transforms.RandomVerticalFlip(p=0.25),\n",
    "            ])\n",
    "            self.valid_transform = transforms.Compose([\n",
    "                transforms.ToTensor(),\n",
    "                transforms.Normalize([0.77903, 0.73089, 0.70405], [0.22367, 0.27325, 0.27287]),\n",
    "            ])\n",
    "                                \n",
    "        self.save_path = \"saves\"\n",
    "        if not os.path.exists(self.save_path): os.makedirs(self.save_path)\n",
    "    \n",
    "cfg = CFG(\n",
    "    seed=SEED, \n",
    "    size=SIZE\n",
    ")"
   ]
  },
  {
   "cell_type": "markdown",
   "id": "29c705dd",
   "metadata": {
    "papermill": {
     "duration": 0.003239,
     "end_time": "2022-12-12T08:43:02.575198",
     "exception": false,
     "start_time": "2022-12-12T08:43:02.571959",
     "status": "completed"
    },
    "tags": []
   },
   "source": [
    "### **Dataset Template**"
   ]
  },
  {
   "cell_type": "code",
   "execution_count": 5,
   "id": "0d9f9afa",
   "metadata": {
    "execution": {
     "iopub.execute_input": "2022-12-12T08:43:02.583892Z",
     "iopub.status.busy": "2022-12-12T08:43:02.583088Z",
     "iopub.status.idle": "2022-12-12T08:43:02.589817Z",
     "shell.execute_reply": "2022-12-12T08:43:02.588980Z"
    },
    "papermill": {
     "duration": 0.013217,
     "end_time": "2022-12-12T08:43:02.591742",
     "exception": false,
     "start_time": "2022-12-12T08:43:02.578525",
     "status": "completed"
    },
    "tags": []
   },
   "outputs": [],
   "source": [
    "class DS(Dataset):\n",
    "    def __init__(\n",
    "        self, \n",
    "        filepaths: np.ndarray, \n",
    "        size: int,\n",
    "        labels: Union[np.ndarray, None]=None, \n",
    "        transform=None\n",
    "    ):\n",
    "        \n",
    "        self.filepaths = filepaths\n",
    "        self.labels = labels\n",
    "        self.size = size\n",
    "        self.transform = transform\n",
    "    \n",
    "    def __len__(self):\n",
    "        return self.filepaths.shape[0]\n",
    "    \n",
    "    def __getitem__(self, idx):\n",
    "        image = get_image(self.filepaths[idx], self.size)\n",
    "        if self.labels is None:\n",
    "            return self.transform(image)\n",
    "        return self.transform(image), torch.LongTensor(self.labels[idx])"
   ]
  },
  {
   "cell_type": "markdown",
   "id": "31f89c2d",
   "metadata": {
    "papermill": {
     "duration": 0.003151,
     "end_time": "2022-12-12T08:43:02.598281",
     "exception": false,
     "start_time": "2022-12-12T08:43:02.595130",
     "status": "completed"
    },
    "tags": []
   },
   "source": [
    "### **Model**"
   ]
  },
  {
   "cell_type": "code",
   "execution_count": 6,
   "id": "0135cc93",
   "metadata": {
    "execution": {
     "iopub.execute_input": "2022-12-12T08:43:02.606080Z",
     "iopub.status.busy": "2022-12-12T08:43:02.605828Z",
     "iopub.status.idle": "2022-12-12T08:43:02.610912Z",
     "shell.execute_reply": "2022-12-12T08:43:02.610064Z"
    },
    "papermill": {
     "duration": 0.011153,
     "end_time": "2022-12-12T08:43:02.612801",
     "exception": false,
     "start_time": "2022-12-12T08:43:02.601648",
     "status": "completed"
    },
    "tags": []
   },
   "outputs": [],
   "source": [
    "class Model(nn.Module):\n",
    "    def __init__(self):\n",
    "        super(Model, self).__init__()\n",
    "            \n",
    "        self.model = timm.create_model(model_name=\"efficientnet_b4\", pretrained=False)\n",
    "        self.model.classifier = nn.Linear(in_features=self.model.classifier.in_features, out_features=53)\n",
    "\n",
    "    def forward(self, x):\n",
    "        return nn.LogSoftmax(dim=1)(self.model(x))"
   ]
  },
  {
   "cell_type": "markdown",
   "id": "261ebae5",
   "metadata": {
    "papermill": {
     "duration": 0.003436,
     "end_time": "2022-12-12T08:43:02.619579",
     "exception": false,
     "start_time": "2022-12-12T08:43:02.616143",
     "status": "completed"
    },
    "tags": []
   },
   "source": [
    "### **Predict Helper**"
   ]
  },
  {
   "cell_type": "code",
   "execution_count": 7,
   "id": "854cb060",
   "metadata": {
    "execution": {
     "iopub.execute_input": "2022-12-12T08:43:02.628654Z",
     "iopub.status.busy": "2022-12-12T08:43:02.627269Z",
     "iopub.status.idle": "2022-12-12T08:43:02.635421Z",
     "shell.execute_reply": "2022-12-12T08:43:02.634407Z"
    },
    "papermill": {
     "duration": 0.014364,
     "end_time": "2022-12-12T08:43:02.637334",
     "exception": false,
     "start_time": "2022-12-12T08:43:02.622970",
     "status": "completed"
    },
    "tags": []
   },
   "outputs": [],
   "source": [
    "def predict_batch(model=None, dataloader=None, path=None, device=None) -> np.ndarray:\n",
    "    model.load_state_dict(torch.load(path, map_location=device)[\"model_state_dict\"])\n",
    "    model.to(device)    \n",
    "    model.eval()\n",
    "    \n",
    "    y_pred = torch.zeros(1, 1).to(device)\n",
    "    \n",
    "    for X in dataloader:\n",
    "        X = X.to(device)\n",
    "        with torch.no_grad():\n",
    "            output = torch.argmax(torch.exp(model(X)), dim=1)\n",
    "        y_pred = torch.cat((y_pred, output.view(-1, 1)), dim=0)\n",
    "    \n",
    "    return y_pred[1:].detach().cpu().numpy().squeeze().astype(\"uint8\")"
   ]
  },
  {
   "cell_type": "markdown",
   "id": "282ddacc",
   "metadata": {
    "papermill": {
     "duration": 0.003244,
     "end_time": "2022-12-12T08:43:02.643931",
     "exception": false,
     "start_time": "2022-12-12T08:43:02.640687",
     "status": "completed"
    },
    "tags": []
   },
   "source": [
    "### **Test**"
   ]
  },
  {
   "cell_type": "code",
   "execution_count": 8,
   "id": "64801857",
   "metadata": {
    "execution": {
     "iopub.execute_input": "2022-12-12T08:43:02.652110Z",
     "iopub.status.busy": "2022-12-12T08:43:02.651521Z",
     "iopub.status.idle": "2022-12-12T08:43:17.742323Z",
     "shell.execute_reply": "2022-12-12T08:43:17.741135Z"
    },
    "papermill": {
     "duration": 15.097374,
     "end_time": "2022-12-12T08:43:17.744650",
     "exception": false,
     "start_time": "2022-12-12T08:43:02.647276",
     "status": "completed"
    },
    "tags": []
   },
   "outputs": [
    {
     "name": "stdout",
     "output_type": "stream",
     "text": [
      "\n",
      "**************************************************\n",
      "\n",
      "Accuracy : 94.72\n",
      "\n",
      "**************************************************\n",
      "\n"
     ]
    }
   ],
   "source": [
    "ts_df = pd.read_csv(\"/kaggle/input/cidc-dataframe/test.csv\")\n",
    "filepaths = ts_df.filepaths.copy().values\n",
    "\n",
    "y_true: list = []\n",
    "for filepath in filepaths:\n",
    "    y_true.append(filepath.split(\"/\")[-2])\n",
    "y_true = np.array(y_true)\n",
    "\n",
    "ts_data_setup = DS(\n",
    "    filepaths=filepaths,\n",
    "    size=cfg.size,\n",
    "    labels=None,\n",
    "    transform=cfg.valid_transform\n",
    ")\n",
    "ts_data = DL(ts_data_setup, batch_size=64, shuffle=False)\n",
    "\n",
    "model = Model().to(cfg.device)\n",
    "\n",
    "y_pred = predict_batch(\n",
    "    model=model,\n",
    "    dataloader=ts_data,\n",
    "    path=\"/kaggle/input/cidc-en4-a224-e10-f5/saves/bae_state_fold_5.pt\",\n",
    "    device=cfg.device\n",
    ")\n",
    "y_pred = np.array([LABELS[str(pred)] for pred in y_pred])\n",
    "\n",
    "breaker()\n",
    "print(f\"Accuracy : {accuracy_score(y_true, y_pred) * 100:.2f}\")\n",
    "breaker()"
   ]
  },
  {
   "cell_type": "code",
   "execution_count": null,
   "id": "f7c885a3",
   "metadata": {
    "papermill": {
     "duration": 0.003432,
     "end_time": "2022-12-12T08:43:17.751847",
     "exception": false,
     "start_time": "2022-12-12T08:43:17.748415",
     "status": "completed"
    },
    "tags": []
   },
   "outputs": [],
   "source": []
  }
 ],
 "metadata": {
  "kernelspec": {
   "display_name": "Python 3",
   "language": "python",
   "name": "python3"
  },
  "language_info": {
   "codemirror_mode": {
    "name": "ipython",
    "version": 3
   },
   "file_extension": ".py",
   "mimetype": "text/x-python",
   "name": "python",
   "nbconvert_exporter": "python",
   "pygments_lexer": "ipython3",
   "version": "3.7.12"
  },
  "papermill": {
   "default_parameters": {},
   "duration": 39.27014,
   "end_time": "2022-12-12T08:43:19.278753",
   "environment_variables": {},
   "exception": null,
   "input_path": "__notebook__.ipynb",
   "output_path": "__notebook__.ipynb",
   "parameters": {},
   "start_time": "2022-12-12T08:42:40.008613",
   "version": "2.3.4"
  }
 },
 "nbformat": 4,
 "nbformat_minor": 5
}
