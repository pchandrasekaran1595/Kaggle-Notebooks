{
 "cells": [
  {
   "cell_type": "code",
   "execution_count": 1,
   "id": "3ec28791",
   "metadata": {
    "_cell_guid": "b1076dfc-b9ad-4769-8c92-a6c4dae69d19",
    "_uuid": "8f2839f25d086af736a60e9eeb907d3b93b6e0e5",
    "execution": {
     "iopub.execute_input": "2023-01-17T06:10:12.197920Z",
     "iopub.status.busy": "2023-01-17T06:10:12.197473Z",
     "iopub.status.idle": "2023-01-17T06:10:12.374151Z",
     "shell.execute_reply": "2023-01-17T06:10:12.372868Z"
    },
    "papermill": {
     "duration": 0.183875,
     "end_time": "2023-01-17T06:10:12.376901",
     "exception": false,
     "start_time": "2023-01-17T06:10:12.193026",
     "status": "completed"
    },
    "tags": []
   },
   "outputs": [],
   "source": [
    "import os\n",
    "import cv2\n",
    "import json\n",
    "import numpy as np\n",
    "import pandas as pd\n",
    "\n",
    "BASE_PATH: str = \"/kaggle/input/muffin-vs-chihuahua-image-classification\""
   ]
  },
  {
   "cell_type": "code",
   "execution_count": 2,
   "id": "e93c57e8",
   "metadata": {
    "execution": {
     "iopub.execute_input": "2023-01-17T06:10:12.383010Z",
     "iopub.status.busy": "2023-01-17T06:10:12.382627Z",
     "iopub.status.idle": "2023-01-17T06:10:12.398483Z",
     "shell.execute_reply": "2023-01-17T06:10:12.397381Z"
    },
    "papermill": {
     "duration": 0.021388,
     "end_time": "2023-01-17T06:10:12.400478",
     "exception": false,
     "start_time": "2023-01-17T06:10:12.379090",
     "status": "completed"
    },
    "tags": []
   },
   "outputs": [],
   "source": [
    "tr_df: pd.DataFrame = pd.DataFrame(data=None, columns=[\"filepaths\", \"labels\"])\n",
    "ts_df: pd.DataFrame = pd.DataFrame(data=None, columns=[\"filepaths\", \"labels\"])"
   ]
  },
  {
   "cell_type": "code",
   "execution_count": 3,
   "id": "c66c4f09",
   "metadata": {
    "execution": {
     "iopub.execute_input": "2023-01-17T06:10:12.405899Z",
     "iopub.status.busy": "2023-01-17T06:10:12.405548Z",
     "iopub.status.idle": "2023-01-17T06:10:13.353582Z",
     "shell.execute_reply": "2023-01-17T06:10:13.352614Z"
    },
    "papermill": {
     "duration": 0.953558,
     "end_time": "2023-01-17T06:10:13.356104",
     "exception": false,
     "start_time": "2023-01-17T06:10:12.402546",
     "status": "completed"
    },
    "tags": []
   },
   "outputs": [],
   "source": [
    "tr_filepaths: list = []\n",
    "tr_labels: list = []\n",
    "\n",
    "va_filepaths: list = []\n",
    "va_labels: list = []\n",
    "\n",
    "i: int = 0\n",
    "for folder in sorted(os.listdir(f\"{BASE_PATH}/train\")):\n",
    "    for filename in os.listdir(f\"{BASE_PATH}/train/{folder}\"):\n",
    "        tr_filepaths.append(os.path.join(f\"{BASE_PATH}/train/{folder}\", filename))\n",
    "        tr_labels.append(i)\n",
    "    i += 1\n",
    "\n",
    "    \n",
    "tr_df.filepaths = tr_filepaths\n",
    "tr_df.labels = tr_labels\n",
    "tr_df.to_csv(\"train.csv\", index=False)"
   ]
  },
  {
   "cell_type": "code",
   "execution_count": 4,
   "id": "8a193e4e",
   "metadata": {
    "execution": {
     "iopub.execute_input": "2023-01-17T06:10:13.361278Z",
     "iopub.status.busy": "2023-01-17T06:10:13.360885Z",
     "iopub.status.idle": "2023-01-17T06:10:13.910676Z",
     "shell.execute_reply": "2023-01-17T06:10:13.909974Z"
    },
    "papermill": {
     "duration": 0.554744,
     "end_time": "2023-01-17T06:10:13.912887",
     "exception": false,
     "start_time": "2023-01-17T06:10:13.358143",
     "status": "completed"
    },
    "tags": []
   },
   "outputs": [],
   "source": [
    "filepaths: list = []\n",
    "labels: list = []\n",
    "\n",
    "i: int = 0    \n",
    "for folder in sorted(os.listdir(f\"{BASE_PATH}/test\")):\n",
    "    for filename in os.listdir(f\"{BASE_PATH}/test/{folder}\"):\n",
    "        filepaths.append(os.path.join(f\"{BASE_PATH}/test/{folder}\", filename))\n",
    "        labels.append(i)\n",
    "    i += 1\n",
    "\n",
    "ts_df.filepaths = filepaths\n",
    "ts_df.labels = labels\n",
    "ts_df.to_csv(\"test.csv\", index=False)"
   ]
  },
  {
   "cell_type": "code",
   "execution_count": 5,
   "id": "3fbd1048",
   "metadata": {
    "execution": {
     "iopub.execute_input": "2023-01-17T06:10:13.917941Z",
     "iopub.status.busy": "2023-01-17T06:10:13.917617Z",
     "iopub.status.idle": "2023-01-17T06:10:13.922718Z",
     "shell.execute_reply": "2023-01-17T06:10:13.922088Z"
    },
    "papermill": {
     "duration": 0.009548,
     "end_time": "2023-01-17T06:10:13.924439",
     "exception": false,
     "start_time": "2023-01-17T06:10:13.914891",
     "status": "completed"
    },
    "tags": []
   },
   "outputs": [],
   "source": [
    "labels: dict = dict()\n",
    "\n",
    "i = 0\n",
    "for folder in sorted(os.listdir(f\"{BASE_PATH}/test\")):\n",
    "    labels[i] = folder\n",
    "    i += 1\n",
    "\n",
    "json.dump(labels, open(\"labels.json\", \"w\"))"
   ]
  }
 ],
 "metadata": {
  "kernelspec": {
   "display_name": "Python 3",
   "language": "python",
   "name": "python3"
  },
  "language_info": {
   "codemirror_mode": {
    "name": "ipython",
    "version": 3
   },
   "file_extension": ".py",
   "mimetype": "text/x-python",
   "name": "python",
   "nbconvert_exporter": "python",
   "pygments_lexer": "ipython3",
   "version": "3.7.12"
  },
  "papermill": {
   "default_parameters": {},
   "duration": 11.542502,
   "end_time": "2023-01-17T06:10:14.547526",
   "environment_variables": {},
   "exception": null,
   "input_path": "__notebook__.ipynb",
   "output_path": "__notebook__.ipynb",
   "parameters": {},
   "start_time": "2023-01-17T06:10:03.005024",
   "version": "2.3.4"
  }
 },
 "nbformat": 4,
 "nbformat_minor": 5
}
