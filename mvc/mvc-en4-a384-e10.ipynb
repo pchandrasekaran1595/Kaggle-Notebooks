{
 "cells": [
  {
   "cell_type": "markdown",
   "id": "7331963a",
   "metadata": {
    "_cell_guid": "b1076dfc-b9ad-4769-8c92-a6c4dae69d19",
    "_uuid": "8f2839f25d086af736a60e9eeb907d3b93b6e0e5",
    "papermill": {
     "duration": 0.00473,
     "end_time": "2023-01-17T06:21:43.696748",
     "exception": false,
     "start_time": "2023-01-17T06:21:43.692018",
     "status": "completed"
    },
    "tags": []
   },
   "source": [
    "### **Setup**"
   ]
  },
  {
   "cell_type": "code",
   "execution_count": 1,
   "id": "27507284",
   "metadata": {
    "execution": {
     "iopub.execute_input": "2023-01-17T06:21:43.705966Z",
     "iopub.status.busy": "2023-01-17T06:21:43.705414Z",
     "iopub.status.idle": "2023-01-17T06:21:54.381363Z",
     "shell.execute_reply": "2023-01-17T06:21:54.379900Z"
    },
    "papermill": {
     "duration": 10.683256,
     "end_time": "2023-01-17T06:21:54.383621",
     "exception": false,
     "start_time": "2023-01-17T06:21:43.700365",
     "status": "completed"
    },
    "tags": []
   },
   "outputs": [
    {
     "name": "stderr",
     "output_type": "stream",
     "text": [
      "WARNING: Running pip as the 'root' user can result in broken permissions and conflicting behaviour with the system package manager. It is recommended to use a virtual environment instead: https://pip.pypa.io/warnings/venv\n"
     ]
    }
   ],
   "source": [
    "%%bash\n",
    "pip install timm -q"
   ]
  },
  {
   "cell_type": "markdown",
   "id": "b569f860",
   "metadata": {
    "papermill": {
     "duration": 0.00345,
     "end_time": "2023-01-17T06:21:54.390984",
     "exception": false,
     "start_time": "2023-01-17T06:21:54.387534",
     "status": "completed"
    },
    "tags": []
   },
   "source": [
    "### **Library Imports**"
   ]
  },
  {
   "cell_type": "code",
   "execution_count": 2,
   "id": "11437840",
   "metadata": {
    "execution": {
     "iopub.execute_input": "2023-01-17T06:21:54.399450Z",
     "iopub.status.busy": "2023-01-17T06:21:54.399098Z",
     "iopub.status.idle": "2023-01-17T06:21:58.409268Z",
     "shell.execute_reply": "2023-01-17T06:21:58.408240Z"
    },
    "papermill": {
     "duration": 4.017139,
     "end_time": "2023-01-17T06:21:58.411646",
     "exception": false,
     "start_time": "2023-01-17T06:21:54.394507",
     "status": "completed"
    },
    "tags": []
   },
   "outputs": [],
   "source": [
    "import os\n",
    "import re\n",
    "import cv2\n",
    "import timm\n",
    "import torch\n",
    "import numpy as np\n",
    "import pandas as pd\n",
    "import matplotlib.pyplot as plt\n",
    "\n",
    "from time import time\n",
    "from typing import Union\n",
    "from torch import nn, optim\n",
    "from torch.utils.data import Dataset\n",
    "from torch.utils.data import DataLoader as DL\n",
    "from torchvision import models, transforms\n",
    "\n",
    "from sklearn.model_selection import KFold"
   ]
  },
  {
   "cell_type": "markdown",
   "id": "897da123",
   "metadata": {
    "papermill": {
     "duration": 0.0035,
     "end_time": "2023-01-17T06:21:58.419038",
     "exception": false,
     "start_time": "2023-01-17T06:21:58.415538",
     "status": "completed"
    },
    "tags": []
   },
   "source": [
    "### **Utilities and Helpers**"
   ]
  },
  {
   "cell_type": "code",
   "execution_count": 3,
   "id": "0e27cc82",
   "metadata": {
    "execution": {
     "iopub.execute_input": "2023-01-17T06:21:58.427963Z",
     "iopub.status.busy": "2023-01-17T06:21:58.427649Z",
     "iopub.status.idle": "2023-01-17T06:21:58.439447Z",
     "shell.execute_reply": "2023-01-17T06:21:58.438486Z"
    },
    "papermill": {
     "duration": 0.018486,
     "end_time": "2023-01-17T06:21:58.441373",
     "exception": false,
     "start_time": "2023-01-17T06:21:58.422887",
     "status": "completed"
    },
    "tags": []
   },
   "outputs": [],
   "source": [
    "SEED: int = 42\n",
    "SIZE: int = 384\n",
    "\n",
    "\n",
    "def breaker(num: int=50, char: str=\"*\") -> None:\n",
    "    print(\"\\n\" + num*char + \"\\n\")\n",
    "\n",
    "    \n",
    "def get_image(path: str, size: int=224) -> np.ndarray:\n",
    "    image = cv2.imread(path, cv2.IMREAD_COLOR)\n",
    "    image = cv2.cvtColor(src=image, code=cv2.COLOR_BGR2RGB)\n",
    "    return cv2.resize(src=image, dsize=(size, size), interpolation=cv2.INTER_AREA)\n",
    "\n",
    "    \n",
    "def show_loss_graphs(L: list) -> None:\n",
    "    TL, VL = [], []\n",
    "    for i in range(len(L)):\n",
    "        TL.append(L[i][\"train\"])\n",
    "        VL.append(L[i][\"valid\"])\n",
    "    x_Axis = np.arange(1, len(TL) + 1)\n",
    "    plt.figure()\n",
    "    plt.plot(x_Axis, TL, \"r\", label=\"Train\")\n",
    "    plt.plot(x_Axis, VL, \"b\", label=\"Valid\")\n",
    "    plt.legend()\n",
    "    plt.grid()\n",
    "    plt.title(\"Loss Graph\")\n",
    "    plt.show()\n",
    "\n",
    "    \n",
    "def show_accuracy_graphs(A: list) -> None:\n",
    "    TA, VA = [], []\n",
    "    for i in range(len(A)):\n",
    "        TA.append(A[i][\"train\"])\n",
    "        VA.append(A[i][\"valid\"])\n",
    "    x_Axis = np.arange(1, len(TA) + 1)\n",
    "    plt.figure()\n",
    "    plt.plot(x_Axis, TA, \"r\", label=\"Train\")\n",
    "    plt.plot(x_Axis, VA, \"b\", label=\"Valid\")\n",
    "    plt.legend()\n",
    "    plt.grid()\n",
    "    plt.title(\"Accuracy Graph\")\n",
    "    plt.show()\n",
    "    \n",
    "\n",
    "def show_lr_graph(LR: list) -> None:\n",
    "    x_Axis = [i+1 for i in range(len(LR))]\n",
    "    plt.figure(figsize=(8, 6))\n",
    "    plt.plot(x_Axis, LR, \"rx\")\n",
    "    plt.grid()\n",
    "    plt.show()"
   ]
  },
  {
   "cell_type": "markdown",
   "id": "ca50f1ec",
   "metadata": {
    "papermill": {
     "duration": 0.003593,
     "end_time": "2023-01-17T06:21:58.448586",
     "exception": false,
     "start_time": "2023-01-17T06:21:58.444993",
     "status": "completed"
    },
    "tags": []
   },
   "source": [
    "\n",
    "\n",
    "### **Configuration**"
   ]
  },
  {
   "cell_type": "code",
   "execution_count": 4,
   "id": "b87dc3e1",
   "metadata": {
    "execution": {
     "iopub.execute_input": "2023-01-17T06:21:58.458502Z",
     "iopub.status.busy": "2023-01-17T06:21:58.457137Z",
     "iopub.status.idle": "2023-01-17T06:21:58.535770Z",
     "shell.execute_reply": "2023-01-17T06:21:58.534872Z"
    },
    "papermill": {
     "duration": 0.085764,
     "end_time": "2023-01-17T06:21:58.537920",
     "exception": false,
     "start_time": "2023-01-17T06:21:58.452156",
     "status": "completed"
    },
    "tags": []
   },
   "outputs": [],
   "source": [
    "class CFG(object):\n",
    "    def __init__(self, \n",
    "                 seed: int = 42,\n",
    "                 size: int = 224,\n",
    "                 n_splits: int = 5,\n",
    "                 batch_size: int = 16,\n",
    "                 epochs: int = 25,\n",
    "                 early_stopping: int = 5,\n",
    "                 lr: float = 1e-4,\n",
    "                 wd: float = 0.0,\n",
    "                 max_lr: float = 1e-3,\n",
    "                 pct_start: float = 0.2,\n",
    "                 steps_per_epoch: int = 100,\n",
    "                 div_factor: int = 1e3, \n",
    "                 final_div_factor: float = 1e3,\n",
    "                 ):\n",
    "        self.seed = seed\n",
    "        self.size = size\n",
    "        self.n_splits = n_splits\n",
    "        self.batch_size = batch_size\n",
    "        self.epochs = epochs\n",
    "        self.early_stopping = early_stopping\n",
    "        self.lr = lr\n",
    "        self.wd = wd\n",
    "        self.max_lr = max_lr\n",
    "        self.pct_start = pct_start\n",
    "        self.steps_per_epoch = steps_per_epoch\n",
    "        self.div_factor = div_factor\n",
    "        self.final_div_factor = final_div_factor\n",
    "        self.device = torch.device(\"cuda\" if torch.cuda.is_available() else \"cpu\")\n",
    "        \n",
    "        if self.size == 224:\n",
    "            self.train_transform = transforms.Compose([\n",
    "                transforms.ToTensor(),\n",
    "                transforms.Normalize([0.65003, 0.59344, 0.53995], [0.23113, 0.23876, 0.25071]),\n",
    "                transforms.RandomAffine(degrees=(-45, 45), translate=(0.15, 0.15), scale=(0.5, 1.5)),\n",
    "                transforms.RandomHorizontalFlip(p=0.25),\n",
    "                transforms.RandomVerticalFlip(p=0.25),\n",
    "            ])\n",
    "            self.valid_transform = transforms.Compose([\n",
    "                transforms.ToTensor(),\n",
    "                transforms.Normalize([0.65003, 0.59344, 0.53995], [0.23113, 0.23876, 0.25071]),\n",
    "            ])\n",
    "        \n",
    "        if self.size == 384:\n",
    "            self.train_transform = transforms.Compose([\n",
    "                transforms.ToTensor(),\n",
    "                transforms.Normalize([0.65001, 0.59342, 0.53994], [0.23110, 0.24074, 0.25265]),\n",
    "                transforms.RandomAffine(degrees=(-45, 45), translate=(0.15, 0.15), scale=(0.5, 1.5)),\n",
    "                transforms.RandomHorizontalFlip(p=0.25),\n",
    "                transforms.RandomVerticalFlip(p=0.25),\n",
    "            ])\n",
    "            self.valid_transform = transforms.Compose([\n",
    "                transforms.ToTensor(),\n",
    "                transforms.Normalize([0.65001, 0.59342, 0.53994], [0.23110, 0.24074, 0.25265]),\n",
    "            ])\n",
    "        \n",
    "        if self.size == 512:\n",
    "            self.train_transform = transforms.Compose([\n",
    "                transforms.ToTensor(),\n",
    "                transforms.Normalize([0.65000, 0.59341, 0.53992], [0.23382, 0.24146, 0.25336]),\n",
    "                transforms.RandomAffine(degrees=(-45, 45), translate=(0.15, 0.15), scale=(0.5, 1.5)),\n",
    "                transforms.RandomHorizontalFlip(p=0.25),\n",
    "                transforms.RandomVerticalFlip(p=0.25),\n",
    "            ])\n",
    "            self.valid_transform = transforms.Compose([\n",
    "                transforms.ToTensor(),\n",
    "                transforms.Normalize([0.65000, 0.59341, 0.53992], [0.23382, 0.24146, 0.25336]),\n",
    "            ])\n",
    "                                \n",
    "        self.save_path = \"saves\"\n",
    "        if not os.path.exists(self.save_path): os.makedirs(self.save_path)\n",
    "    \n",
    "cfg = CFG(\n",
    "    seed=SEED, \n",
    "    size=SIZE\n",
    ")"
   ]
  },
  {
   "cell_type": "markdown",
   "id": "b9c2c7c7",
   "metadata": {
    "papermill": {
     "duration": 0.003672,
     "end_time": "2023-01-17T06:21:58.545336",
     "exception": false,
     "start_time": "2023-01-17T06:21:58.541664",
     "status": "completed"
    },
    "tags": []
   },
   "source": [
    "### **Dataset Template**"
   ]
  },
  {
   "cell_type": "code",
   "execution_count": 5,
   "id": "2bc9de38",
   "metadata": {
    "execution": {
     "iopub.execute_input": "2023-01-17T06:21:58.553965Z",
     "iopub.status.busy": "2023-01-17T06:21:58.553661Z",
     "iopub.status.idle": "2023-01-17T06:21:58.560387Z",
     "shell.execute_reply": "2023-01-17T06:21:58.559412Z"
    },
    "papermill": {
     "duration": 0.013265,
     "end_time": "2023-01-17T06:21:58.562354",
     "exception": false,
     "start_time": "2023-01-17T06:21:58.549089",
     "status": "completed"
    },
    "tags": []
   },
   "outputs": [],
   "source": [
    "class DS(Dataset):\n",
    "    def __init__(\n",
    "        self, \n",
    "        filepaths: np.ndarray, \n",
    "        size: int,\n",
    "        labels: Union[np.ndarray, None]=None, \n",
    "        transform=None\n",
    "    ):\n",
    "        \n",
    "        self.filepaths = filepaths\n",
    "        self.labels = labels\n",
    "        self.size = size\n",
    "        self.transform = transform\n",
    "    \n",
    "    def __len__(self):\n",
    "        return self.filepaths.shape[0]\n",
    "    \n",
    "    def __getitem__(self, idx):\n",
    "        image = get_image(self.filepaths[idx], self.size)\n",
    "        if self.labels is None:\n",
    "            return self.transform(image)\n",
    "        return self.transform(image), torch.FloatTensor(self.labels[idx])"
   ]
  },
  {
   "cell_type": "markdown",
   "id": "e849a441",
   "metadata": {
    "papermill": {
     "duration": 0.003577,
     "end_time": "2023-01-17T06:21:58.569648",
     "exception": false,
     "start_time": "2023-01-17T06:21:58.566071",
     "status": "completed"
    },
    "tags": []
   },
   "source": [
    "### **Model**"
   ]
  },
  {
   "cell_type": "code",
   "execution_count": 6,
   "id": "d5623365",
   "metadata": {
    "execution": {
     "iopub.execute_input": "2023-01-17T06:21:58.578656Z",
     "iopub.status.busy": "2023-01-17T06:21:58.577901Z",
     "iopub.status.idle": "2023-01-17T06:21:58.583759Z",
     "shell.execute_reply": "2023-01-17T06:21:58.582871Z"
    },
    "papermill": {
     "duration": 0.012522,
     "end_time": "2023-01-17T06:21:58.585881",
     "exception": false,
     "start_time": "2023-01-17T06:21:58.573359",
     "status": "completed"
    },
    "tags": []
   },
   "outputs": [],
   "source": [
    "class Model(nn.Module):\n",
    "    def __init__(self):\n",
    "        super(Model, self).__init__()\n",
    "            \n",
    "        self.model = timm.create_model(model_name=\"efficientnet_b4\", pretrained=True)\n",
    "        self.model.classifier = nn.Linear(in_features=self.model.classifier.in_features, out_features=1)\n",
    "\n",
    "    def forward(self, x):\n",
    "        return self.model(x)"
   ]
  },
  {
   "cell_type": "markdown",
   "id": "3ae8e90e",
   "metadata": {
    "papermill": {
     "duration": 0.003649,
     "end_time": "2023-01-17T06:21:58.593256",
     "exception": false,
     "start_time": "2023-01-17T06:21:58.589607",
     "status": "completed"
    },
    "tags": []
   },
   "source": [
    "### **Fit and Predict**"
   ]
  },
  {
   "cell_type": "code",
   "execution_count": 7,
   "id": "fac93838",
   "metadata": {
    "execution": {
     "iopub.execute_input": "2023-01-17T06:21:58.602069Z",
     "iopub.status.busy": "2023-01-17T06:21:58.601775Z",
     "iopub.status.idle": "2023-01-17T06:21:58.622220Z",
     "shell.execute_reply": "2023-01-17T06:21:58.621393Z"
    },
    "papermill": {
     "duration": 0.027176,
     "end_time": "2023-01-17T06:21:58.624206",
     "exception": false,
     "start_time": "2023-01-17T06:21:58.597030",
     "status": "completed"
    },
    "tags": []
   },
   "outputs": [],
   "source": [
    "def fit(\n",
    "    model=None,\n",
    "    optimizer=None, \n",
    "    scheduler_rlrop=None,\n",
    "    scheduler_oclr=None,\n",
    "    epochs=None, \n",
    "    early_stopping_patience=None, \n",
    "    dataloaders=None, \n",
    "    fold=None, \n",
    "    save_path=None,\n",
    "    device=None,\n",
    "    verbose=False\n",
    ") -> tuple:\n",
    "    \n",
    "    def get_accuracy(y_pred, y_true):\n",
    "        y_pred = torch.sigmoid(y_pred)\n",
    "        \n",
    "        y_pred[y_pred > 0.5] = 1\n",
    "        y_pred[y_pred <= 0.5] = 0\n",
    "        \n",
    "        return torch.count_nonzero(y_pred == y_true).item() / len(y_pred)\n",
    "    \n",
    "    \n",
    "    if verbose:\n",
    "        breaker()\n",
    "        if fold: print(f\"Training Fold {fold}...\")\n",
    "        else: print(\"Training ...\")\n",
    "        breaker()\n",
    "        \n",
    "    bestLoss: dict = {\"train\" : np.inf, \"valid\" : np.inf} \n",
    "    bestAccs: dict = {\"train\" : 0.0, \"valid\" : 0.0}\n",
    "    \n",
    "    Losses: list = []\n",
    "    Accuracies: list = [] \n",
    "    LRs: list = []\n",
    "        \n",
    "    if fold: \n",
    "        ble_name = f\"ble_state_fold_{fold}.pt\"\n",
    "        bae_name = f\"bae_state_fold_{fold}.pt\"\n",
    "    else: \n",
    "        ble_name = f\"ble_state.pt\"\n",
    "        bae_name = f\"bae_state.pt\"\n",
    "        \n",
    "    start_time = time()\n",
    "    for e in range(epochs):\n",
    "        e_st = time()\n",
    "        epochLoss: dict = {\"train\" : 0.0, \"valid\" : 0.0} \n",
    "        epochAccs: dict = {\"train\" : 0.0, \"valid\" : 0.0}\n",
    "\n",
    "        for phase in [\"train\", \"valid\"]:\n",
    "            if phase == \"train\":\n",
    "                model.train()\n",
    "            else:\n",
    "                model.eval()\n",
    "            \n",
    "            lossPerPass: list = []\n",
    "            accsPerPass: list = []\n",
    "                \n",
    "            for X, y in dataloaders[phase]:\n",
    "                X, y = X.to(device), y.to(device)\n",
    "\n",
    "                optimizer.zero_grad()\n",
    "                with torch.set_grad_enabled(phase == \"train\"):\n",
    "                    output = model(X)\n",
    "                    loss = torch.nn.BCEWithLogitsLoss()(output, y)\n",
    "                    if phase == \"train\":\n",
    "                        loss.backward()\n",
    "                        optimizer.step()\n",
    "                        if scheduler_oclr: scheduler_oclr.step()\n",
    "                lossPerPass.append(loss.item())\n",
    "                accsPerPass.append(get_accuracy(output, y))\n",
    "            epochLoss[phase] = np.mean(np.array(lossPerPass))\n",
    "            epochAccs[phase] = np.mean(np.array(accsPerPass))\n",
    "        if scheduler_oclr: LRs.append(scheduler_oclr.get_last_lr())\n",
    "        Losses.append(epochLoss)\n",
    "        Accuracies.append(epochAccs)\n",
    "        \n",
    "        if scheduler_oclr:\n",
    "            save_dict = {\"model_state_dict\"     : model.state_dict(),\n",
    "                         \"optim_state_dict\"     : optimizer.state_dict(),\n",
    "                         \"scheduler_state_dict\" : scheduler_oclr.state_dict()}\n",
    "        \n",
    "        elif scheduler_rlrop:\n",
    "            save_dict = {\"model_state_dict\"     : model.state_dict(),\n",
    "                         \"optim_state_dict\"     : optimizer.state_dict(),\n",
    "                         \"scheduler_state_dict\" : scheduler_rlrop.state_dict()}\n",
    "        \n",
    "        else:\n",
    "            save_dict = {\"model_state_dict\"     : model.state_dict(),\n",
    "                         \"optim_state_dict\"     : optimizer.state_dict()}\n",
    "        \n",
    "        if early_stopping_patience:\n",
    "            if epochLoss[\"valid\"] < bestLoss[\"valid\"]:\n",
    "                bestLoss = epochLoss\n",
    "                BLE = e + 1\n",
    "                torch.save(save_dict, os.path.join(save_path, ble_name))\n",
    "                torch.save(save_dict, os.path.join(save_path, bae_name))\n",
    "                early_stopping_step = 0\n",
    "            else:\n",
    "                early_stopping_step += 1\n",
    "                if early_stopping_step > early_stopping_patience:\n",
    "                    print(\"\\nEarly Stopping at Epoch {}\".format(e + 1))\n",
    "                    break\n",
    "        \n",
    "        if epochLoss[\"valid\"] < bestLoss[\"valid\"]:\n",
    "            bestLoss = epochLoss\n",
    "            BLE = e + 1\n",
    "            torch.save(save_dict,os.path.join(save_path, ble_name))\n",
    "        \n",
    "        if epochAccs[\"valid\"] > bestAccs[\"valid\"]:\n",
    "            bestAccs = epochAccs\n",
    "            BAE = e + 1\n",
    "            torch.save(save_dict,os.path.join(save_path, bae_name))\n",
    "        \n",
    "        if scheduler_rlrop: scheduler_rlrop.step(epochLoss[\"valid\"])\n",
    "        \n",
    "        if verbose:\n",
    "            print(\"Epoch: {} | Train Loss: {:.5f} | Valid Loss: {:.5f} |\\\n",
    " Train Accs: {:.5f} | Valid Accs: {:.5f} | Time: {:.2f} seconds\".format(e+1, \n",
    "                                                                        epochLoss[\"train\"], epochLoss[\"valid\"], \n",
    "                                                                        epochAccs[\"train\"], epochAccs[\"valid\"], \n",
    "                                                                        time()-e_st))\n",
    "\n",
    "    if verbose:                                           \n",
    "        breaker()\n",
    "        print(f\"Best Validation Loss at Epoch {BLE}\")\n",
    "        breaker()\n",
    "        print(f\"Best Validation Accs at Epoch {BAE}\")\n",
    "        breaker()\n",
    "        print(\"Time Taken [{} Epochs] : {:.2f} minutes\".format(len(Losses), (time()-start_time)/60))\n",
    "    \n",
    "    return Losses, Accuracies, LRs, bestLoss, bestAccs, BLE, BAE, ble_name, bae_name\n",
    "\n",
    "\n",
    "# def predict_batch(model=None, dataloader=None, path=None, device=None) -> np.ndarray:\n",
    "#     model.load_state_dict(torch.load(path, map_location=device)[\"model_state_dict\"])\n",
    "#     model.to(device)    \n",
    "#     model.eval()\n",
    "    \n",
    "#     y_pred = torch.zeros(1, 1).to(device)\n",
    "    \n",
    "#     for X in dataloader:\n",
    "#         X = X.to(device)\n",
    "#         with torch.no_grad():\n",
    "#             output = torch.sigmoid(model(X))\n",
    "#         y_pred = torch.cat((y_pred, output.view(-1, 1)), dim=0)\n",
    "    \n",
    "#     # y_pred[y_pred > 0.5] = 1\n",
    "#     # y_pred[y_pred <= 0.5] = 0\n",
    "    \n",
    "#     return y_pred[1:].detach().cpu().numpy()"
   ]
  },
  {
   "cell_type": "markdown",
   "id": "c40ce25d",
   "metadata": {
    "papermill": {
     "duration": 0.004662,
     "end_time": "2023-01-17T06:21:58.632690",
     "exception": false,
     "start_time": "2023-01-17T06:21:58.628028",
     "status": "completed"
    },
    "tags": []
   },
   "source": [
    "### **Train**"
   ]
  },
  {
   "cell_type": "code",
   "execution_count": 8,
   "id": "dbd361f7",
   "metadata": {
    "execution": {
     "iopub.execute_input": "2023-01-17T06:21:58.642024Z",
     "iopub.status.busy": "2023-01-17T06:21:58.641082Z",
     "iopub.status.idle": "2023-01-17T06:21:58.691087Z",
     "shell.execute_reply": "2023-01-17T06:21:58.690246Z"
    },
    "papermill": {
     "duration": 0.056688,
     "end_time": "2023-01-17T06:21:58.693159",
     "exception": false,
     "start_time": "2023-01-17T06:21:58.636471",
     "status": "completed"
    },
    "tags": []
   },
   "outputs": [],
   "source": [
    "df = pd.read_csv(\"/kaggle/input/mvc-dataframe/train.csv\")\n",
    "\n",
    "filepaths = df.filepaths.copy().values\n",
    "labels = df.labels.copy().values"
   ]
  },
  {
   "cell_type": "code",
   "execution_count": 9,
   "id": "b33c76af",
   "metadata": {
    "execution": {
     "iopub.execute_input": "2023-01-17T06:21:58.703029Z",
     "iopub.status.busy": "2023-01-17T06:21:58.702201Z",
     "iopub.status.idle": "2023-01-17T09:42:51.855787Z",
     "shell.execute_reply": "2023-01-17T09:42:51.854670Z"
    },
    "papermill": {
     "duration": 12053.160674,
     "end_time": "2023-01-17T09:42:51.857912",
     "exception": false,
     "start_time": "2023-01-17T06:21:58.697238",
     "status": "completed"
    },
    "tags": []
   },
   "outputs": [
    {
     "name": "stderr",
     "output_type": "stream",
     "text": [
      "Downloading: \"https://github.com/rwightman/pytorch-image-models/releases/download/v0.1-weights/efficientnet_b4_ra2_320-7eb33cd5.pth\" to /root/.cache/torch/hub/checkpoints/efficientnet_b4_ra2_320-7eb33cd5.pth\n"
     ]
    },
    {
     "name": "stdout",
     "output_type": "stream",
     "text": [
      "\n",
      "**************************************************\n",
      "\n",
      "Training Fold 1...\n",
      "\n",
      "**************************************************\n",
      "\n",
      "Epoch: 1 | Train Loss: 0.33529 | Valid Loss: 0.02689 | Train Accs: 0.88238 | Valid Accs: 0.99375 | Time: 289.99 seconds\n",
      "Epoch: 2 | Train Loss: 0.05036 | Valid Loss: 0.02804 | Train Accs: 0.98207 | Valid Accs: 0.99167 | Time: 239.29 seconds\n",
      "Epoch: 3 | Train Loss: 0.04762 | Valid Loss: 0.03631 | Train Accs: 0.98233 | Valid Accs: 0.99167 | Time: 237.90 seconds\n",
      "Epoch: 4 | Train Loss: 0.03036 | Valid Loss: 0.07368 | Train Accs: 0.99051 | Valid Accs: 0.97188 | Time: 238.53 seconds\n",
      "Epoch: 5 | Train Loss: 0.02709 | Valid Loss: 0.02612 | Train Accs: 0.99024 | Valid Accs: 0.98958 | Time: 241.77 seconds\n",
      "Epoch: 6 | Train Loss: 0.01406 | Valid Loss: 0.00613 | Train Accs: 0.99536 | Valid Accs: 1.00000 | Time: 240.34 seconds\n",
      "Epoch: 7 | Train Loss: 0.01009 | Valid Loss: 0.01091 | Train Accs: 0.99631 | Valid Accs: 0.99479 | Time: 238.39 seconds\n",
      "Epoch: 8 | Train Loss: 0.00652 | Valid Loss: 0.00619 | Train Accs: 0.99736 | Valid Accs: 0.99792 | Time: 239.72 seconds\n",
      "Epoch: 9 | Train Loss: 0.00316 | Valid Loss: 0.00486 | Train Accs: 0.99868 | Valid Accs: 0.99792 | Time: 242.72 seconds\n",
      "Epoch: 10 | Train Loss: 0.00412 | Valid Loss: 0.00484 | Train Accs: 0.99895 | Valid Accs: 0.99792 | Time: 239.66 seconds\n",
      "\n",
      "**************************************************\n",
      "\n",
      "Best Validation Loss at Epoch 10\n",
      "\n",
      "**************************************************\n",
      "\n",
      "Best Validation Accs at Epoch 6\n",
      "\n",
      "**************************************************\n",
      "\n",
      "Time Taken [10 Epochs] : 40.81 minutes\n",
      "\n",
      "**************************************************\n",
      "\n"
     ]
    },
    {
     "data": {
      "image/png": "[encoded data removed]",
      "text/plain": [
       "<Figure size 432x288 with 1 Axes>"
      ]
     },
     "metadata": {
      "needs_background": "light"
     },
     "output_type": "display_data"
    },
    {
     "name": "stdout",
     "output_type": "stream",
     "text": [
      "\n",
      "**************************************************\n",
      "\n"
     ]
    },
    {
     "data": {
      "image/png": "[encoded data removed]",
      "text/plain": [
       "<Figure size 432x288 with 1 Axes>"
      ]
     },
     "metadata": {
      "needs_background": "light"
     },
     "output_type": "display_data"
    },
    {
     "name": "stdout",
     "output_type": "stream",
     "text": [
      "\n",
      "**************************************************\n",
      "\n"
     ]
    },
    {
     "data": {
      "image/png": "[encoded data removed]",
      "text/plain": [
       "<Figure size 576x432 with 1 Axes>"
      ]
     },
     "metadata": {
      "needs_background": "light"
     },
     "output_type": "display_data"
    },
    {
     "name": "stdout",
     "output_type": "stream",
     "text": [
      "\n",
      "**************************************************\n",
      "\n",
      "\n",
      "**************************************************\n",
      "\n",
      "Training Fold 2...\n",
      "\n",
      "**************************************************\n",
      "\n",
      "Epoch: 1 | Train Loss: 0.32965 | Valid Loss: 0.01942 | Train Accs: 0.89241 | Valid Accs: 0.99271 | Time: 243.49 seconds\n",
      "Epoch: 2 | Train Loss: 0.04528 | Valid Loss: 0.04185 | Train Accs: 0.98365 | Valid Accs: 0.99271 | Time: 241.11 seconds\n",
      "Epoch: 3 | Train Loss: 0.04174 | Valid Loss: 0.03089 | Train Accs: 0.98919 | Valid Accs: 0.99062 | Time: 241.40 seconds\n",
      "Epoch: 4 | Train Loss: 0.02846 | Valid Loss: 0.02879 | Train Accs: 0.99103 | Valid Accs: 0.99167 | Time: 240.41 seconds\n",
      "Epoch: 5 | Train Loss: 0.02294 | Valid Loss: 0.02375 | Train Accs: 0.99193 | Valid Accs: 0.99167 | Time: 240.48 seconds\n",
      "Epoch: 6 | Train Loss: 0.01104 | Valid Loss: 0.01586 | Train Accs: 0.99684 | Valid Accs: 0.99479 | Time: 241.94 seconds\n",
      "Epoch: 7 | Train Loss: 0.01160 | Valid Loss: 0.01633 | Train Accs: 0.99657 | Valid Accs: 0.99375 | Time: 239.12 seconds\n",
      "Epoch: 8 | Train Loss: 0.00432 | Valid Loss: 0.00753 | Train Accs: 0.99921 | Valid Accs: 0.99687 | Time: 241.24 seconds\n",
      "Epoch: 9 | Train Loss: 0.00198 | Valid Loss: 0.01653 | Train Accs: 0.99974 | Valid Accs: 0.99583 | Time: 238.17 seconds\n",
      "Epoch: 10 | Train Loss: 0.00114 | Valid Loss: 0.00732 | Train Accs: 1.00000 | Valid Accs: 0.99687 | Time: 241.56 seconds\n",
      "\n",
      "**************************************************\n",
      "\n",
      "Best Validation Loss at Epoch 10\n",
      "\n",
      "**************************************************\n",
      "\n",
      "Best Validation Accs at Epoch 8\n",
      "\n",
      "**************************************************\n",
      "\n",
      "Time Taken [10 Epochs] : 40.15 minutes\n",
      "\n",
      "**************************************************\n",
      "\n"
     ]
    },
    {
     "data": {
      "image/png": "[encoded data removed]",
      "text/plain": [
       "<Figure size 432x288 with 1 Axes>"
      ]
     },
     "metadata": {
      "needs_background": "light"
     },
     "output_type": "display_data"
    },
    {
     "name": "stdout",
     "output_type": "stream",
     "text": [
      "\n",
      "**************************************************\n",
      "\n"
     ]
    },
    {
     "data": {
      "image/png": "[encoded data removed]",
      "text/plain": [
       "<Figure size 432x288 with 1 Axes>"
      ]
     },
     "metadata": {
      "needs_background": "light"
     },
     "output_type": "display_data"
    },
    {
     "name": "stdout",
     "output_type": "stream",
     "text": [
      "\n",
      "**************************************************\n",
      "\n"
     ]
    },
    {
     "data": {
      "image/png": "[encoded data removed]",
      "text/plain": [
       "<Figure size 576x432 with 1 Axes>"
      ]
     },
     "metadata": {
      "needs_background": "light"
     },
     "output_type": "display_data"
    },
    {
     "name": "stdout",
     "output_type": "stream",
     "text": [
      "\n",
      "**************************************************\n",
      "\n",
      "\n",
      "**************************************************\n",
      "\n",
      "Training Fold 3...\n",
      "\n",
      "**************************************************\n",
      "\n",
      "Epoch: 1 | Train Loss: 0.33323 | Valid Loss: 0.02605 | Train Accs: 0.88107 | Valid Accs: 0.98854 | Time: 242.41 seconds\n",
      "Epoch: 2 | Train Loss: 0.04943 | Valid Loss: 0.04500 | Train Accs: 0.98497 | Valid Accs: 0.98438 | Time: 237.48 seconds\n",
      "Epoch: 3 | Train Loss: 0.04204 | Valid Loss: 0.02867 | Train Accs: 0.98586 | Valid Accs: 0.98438 | Time: 237.16 seconds\n",
      "Epoch: 4 | Train Loss: 0.03181 | Valid Loss: 0.07544 | Train Accs: 0.99051 | Valid Accs: 0.97604 | Time: 240.30 seconds\n",
      "Epoch: 5 | Train Loss: 0.03323 | Valid Loss: 0.01841 | Train Accs: 0.99077 | Valid Accs: 0.99375 | Time: 239.48 seconds\n",
      "Epoch: 6 | Train Loss: 0.01148 | Valid Loss: 0.02988 | Train Accs: 0.99631 | Valid Accs: 0.99375 | Time: 236.93 seconds\n",
      "Epoch: 7 | Train Loss: 0.00673 | Valid Loss: 0.01307 | Train Accs: 0.99789 | Valid Accs: 0.99583 | Time: 241.55 seconds\n",
      "Epoch: 8 | Train Loss: 0.00488 | Valid Loss: 0.01610 | Train Accs: 0.99763 | Valid Accs: 0.99687 | Time: 240.11 seconds\n",
      "Epoch: 9 | Train Loss: 0.00177 | Valid Loss: 0.01744 | Train Accs: 0.99947 | Valid Accs: 0.99583 | Time: 239.36 seconds\n",
      "Epoch: 10 | Train Loss: 0.00167 | Valid Loss: 0.02026 | Train Accs: 0.99947 | Valid Accs: 0.99583 | Time: 240.77 seconds\n",
      "\n",
      "**************************************************\n",
      "\n",
      "Best Validation Loss at Epoch 7\n",
      "\n",
      "**************************************************\n",
      "\n",
      "Best Validation Accs at Epoch 8\n",
      "\n",
      "**************************************************\n",
      "\n",
      "Time Taken [10 Epochs] : 39.93 minutes\n",
      "\n",
      "**************************************************\n",
      "\n"
     ]
    },
    {
     "data": {
      "image/png": "[encoded data removed]",
      "text/plain": [
       "<Figure size 432x288 with 1 Axes>"
      ]
     },
     "metadata": {
      "needs_background": "light"
     },
     "output_type": "display_data"
    },
    {
     "name": "stdout",
     "output_type": "stream",
     "text": [
      "\n",
      "**************************************************\n",
      "\n"
     ]
    },
    {
     "data": {
      "image/png": "[encoded data removed]",
      "text/plain": [
       "<Figure size 432x288 with 1 Axes>"
      ]
     },
     "metadata": {
      "needs_background": "light"
     },
     "output_type": "display_data"
    },
    {
     "name": "stdout",
     "output_type": "stream",
     "text": [
      "\n",
      "**************************************************\n",
      "\n"
     ]
    },
    {
     "data": {
      "image/png": "[encoded data removed]",
      "text/plain": [
       "<Figure size 576x432 with 1 Axes>"
      ]
     },
     "metadata": {
      "needs_background": "light"
     },
     "output_type": "display_data"
    },
    {
     "name": "stdout",
     "output_type": "stream",
     "text": [
      "\n",
      "**************************************************\n",
      "\n",
      "\n",
      "**************************************************\n",
      "\n",
      "Training Fold 4...\n",
      "\n",
      "**************************************************\n",
      "\n",
      "Epoch: 1 | Train Loss: 0.33035 | Valid Loss: 0.01620 | Train Accs: 0.88845 | Valid Accs: 0.99375 | Time: 242.34 seconds\n",
      "Epoch: 2 | Train Loss: 0.04275 | Valid Loss: 0.02733 | Train Accs: 0.98655 | Valid Accs: 0.98854 | Time: 237.87 seconds\n",
      "Epoch: 3 | Train Loss: 0.03331 | Valid Loss: 0.03236 | Train Accs: 0.98734 | Valid Accs: 0.99062 | Time: 237.21 seconds\n",
      "Epoch: 4 | Train Loss: 0.02754 | Valid Loss: 0.02621 | Train Accs: 0.98840 | Valid Accs: 0.99271 | Time: 237.36 seconds\n",
      "Epoch: 5 | Train Loss: 0.03548 | Valid Loss: 0.01891 | Train Accs: 0.98919 | Valid Accs: 0.99167 | Time: 236.45 seconds\n",
      "Epoch: 6 | Train Loss: 0.00972 | Valid Loss: 0.01027 | Train Accs: 0.99736 | Valid Accs: 0.99375 | Time: 238.65 seconds\n",
      "Epoch: 7 | Train Loss: 0.00454 | Valid Loss: 0.01496 | Train Accs: 0.99842 | Valid Accs: 0.99687 | Time: 236.48 seconds\n",
      "Epoch: 8 | Train Loss: 0.00542 | Valid Loss: 0.01701 | Train Accs: 0.99895 | Valid Accs: 0.99479 | Time: 238.94 seconds\n",
      "Epoch: 9 | Train Loss: 0.00124 | Valid Loss: 0.01385 | Train Accs: 0.99974 | Valid Accs: 0.99583 | Time: 239.35 seconds\n",
      "Epoch: 10 | Train Loss: 0.00286 | Valid Loss: 0.01414 | Train Accs: 0.99868 | Valid Accs: 0.99479 | Time: 238.83 seconds\n",
      "\n",
      "**************************************************\n",
      "\n",
      "Best Validation Loss at Epoch 6\n",
      "\n",
      "**************************************************\n",
      "\n",
      "Best Validation Accs at Epoch 7\n",
      "\n",
      "**************************************************\n",
      "\n",
      "Time Taken [10 Epochs] : 39.72 minutes\n",
      "\n",
      "**************************************************\n",
      "\n"
     ]
    },
    {
     "data": {
      "image/png": "[encoded data removed]",
      "text/plain": [
       "<Figure size 432x288 with 1 Axes>"
      ]
     },
     "metadata": {
      "needs_background": "light"
     },
     "output_type": "display_data"
    },
    {
     "name": "stdout",
     "output_type": "stream",
     "text": [
      "\n",
      "**************************************************\n",
      "\n"
     ]
    },
    {
     "data": {
      "image/png": "[encoded data removed]",
      "text/plain": [
       "<Figure size 432x288 with 1 Axes>"
      ]
     },
     "metadata": {
      "needs_background": "light"
     },
     "output_type": "display_data"
    },
    {
     "name": "stdout",
     "output_type": "stream",
     "text": [
      "\n",
      "**************************************************\n",
      "\n"
     ]
    },
    {
     "data": {
      "image/png": "[encoded data removed]",
      "text/plain": [
       "<Figure size 576x432 with 1 Axes>"
      ]
     },
     "metadata": {
      "needs_background": "light"
     },
     "output_type": "display_data"
    },
    {
     "name": "stdout",
     "output_type": "stream",
     "text": [
      "\n",
      "**************************************************\n",
      "\n",
      "\n",
      "**************************************************\n",
      "\n",
      "Training Fold 5...\n",
      "\n",
      "**************************************************\n",
      "\n",
      "Epoch: 1 | Train Loss: 0.33803 | Valid Loss: 0.03212 | Train Accs: 0.87673 | Valid Accs: 0.98854 | Time: 242.97 seconds\n",
      "Epoch: 2 | Train Loss: 0.04023 | Valid Loss: 0.03533 | Train Accs: 0.98617 | Valid Accs: 0.98542 | Time: 237.23 seconds\n",
      "Epoch: 3 | Train Loss: 0.04184 | Valid Loss: 0.03853 | Train Accs: 0.98761 | Valid Accs: 0.99062 | Time: 238.50 seconds\n",
      "Epoch: 4 | Train Loss: 0.02500 | Valid Loss: 0.04391 | Train Accs: 0.99235 | Valid Accs: 0.98021 | Time: 241.26 seconds\n",
      "Epoch: 5 | Train Loss: 0.02095 | Valid Loss: 0.01299 | Train Accs: 0.99077 | Valid Accs: 0.99479 | Time: 242.82 seconds\n",
      "Epoch: 6 | Train Loss: 0.01777 | Valid Loss: 0.02352 | Train Accs: 0.99341 | Valid Accs: 0.99167 | Time: 240.08 seconds\n",
      "Epoch: 7 | Train Loss: 0.00781 | Valid Loss: 0.01254 | Train Accs: 0.99736 | Valid Accs: 0.99687 | Time: 243.59 seconds\n",
      "Epoch: 8 | Train Loss: 0.00241 | Valid Loss: 0.01716 | Train Accs: 0.99921 | Valid Accs: 0.99479 | Time: 241.86 seconds\n",
      "Epoch: 9 | Train Loss: 0.00300 | Valid Loss: 0.02342 | Train Accs: 0.99842 | Valid Accs: 0.99271 | Time: 240.32 seconds\n",
      "Epoch: 10 | Train Loss: 0.00209 | Valid Loss: 0.01492 | Train Accs: 0.99921 | Valid Accs: 0.99479 | Time: 238.04 seconds\n",
      "\n",
      "**************************************************\n",
      "\n",
      "Best Validation Loss at Epoch 7\n",
      "\n",
      "**************************************************\n",
      "\n",
      "Best Validation Accs at Epoch 7\n",
      "\n",
      "**************************************************\n",
      "\n",
      "Time Taken [10 Epochs] : 40.11 minutes\n",
      "\n",
      "**************************************************\n",
      "\n"
     ]
    },
    {
     "data": {
      "image/png": "[encoded data removed]",
      "text/plain": [
       "<Figure size 432x288 with 1 Axes>"
      ]
     },
     "metadata": {
      "needs_background": "light"
     },
     "output_type": "display_data"
    },
    {
     "name": "stdout",
     "output_type": "stream",
     "text": [
      "\n",
      "**************************************************\n",
      "\n"
     ]
    },
    {
     "data": {
      "image/png": "[encoded data removed]",
      "text/plain": [
       "<Figure size 432x288 with 1 Axes>"
      ]
     },
     "metadata": {
      "needs_background": "light"
     },
     "output_type": "display_data"
    },
    {
     "name": "stdout",
     "output_type": "stream",
     "text": [
      "\n",
      "**************************************************\n",
      "\n"
     ]
    },
    {
     "data": {
      "image/png": "[encoded data removed]",
      "text/plain": [
       "<Figure size 576x432 with 1 Axes>"
      ]
     },
     "metadata": {
      "needs_background": "light"
     },
     "output_type": "display_data"
    },
    {
     "name": "stdout",
     "output_type": "stream",
     "text": [
      "\n",
      "**************************************************\n",
      "\n"
     ]
    }
   ],
   "source": [
    "fold: int = 1\n",
    "BLs: list = []\n",
    "BAs: list = []\n",
    "    \n",
    "cfg.batch_size = 16\n",
    "cfg.epochs = 10\n",
    "    \n",
    "for tr_idx, va_idx in KFold(n_splits=cfg.n_splits, random_state=cfg.seed, shuffle=True).split(filepaths):\n",
    "    \n",
    "    tr_filepaths, va_filepaths = filepaths[tr_idx], filepaths[va_idx] \n",
    "    tr_labels, va_labels       = labels[tr_idx], labels[va_idx]\n",
    "\n",
    "    tr_data_setup = DS(\n",
    "        filepaths=tr_filepaths, \n",
    "        labels=tr_labels.reshape(-1, 1),\n",
    "        size=cfg.size,\n",
    "        transform=cfg.train_transform\n",
    "    )\n",
    "\n",
    "    va_data_setup = DS(\n",
    "        filepaths=va_filepaths, \n",
    "        labels=va_labels.reshape(-1, 1),\n",
    "        size=cfg.size,\n",
    "        transform=cfg.train_transform\n",
    "    )\n",
    "\n",
    "    dataloaders = {\n",
    "        \"train\" : DL(tr_data_setup, batch_size=cfg.batch_size, shuffle=True, generator=torch.manual_seed(cfg.seed)),\n",
    "        \"valid\" : DL(va_data_setup, batch_size=cfg.batch_size, shuffle=False),\n",
    "    }\n",
    "\n",
    "    cfg.steps_per_epoch=len(dataloaders[\"train\"])\n",
    "\n",
    "    torch.manual_seed(cfg.seed)\n",
    "    model = Model().to(cfg.device)\n",
    "\n",
    "    optimizer = optim.Adam([p for p in model.parameters() if p.requires_grad], lr=cfg.lr, weight_decay=cfg.wd)\n",
    "    # optimizer = optim.AdamW([p for p in model.parameters() if p.requires_grad], lr=cfg.lr, weight_decay=cfg.wd)\n",
    "    # optimizer = optim.SGD([p for p in model.parameters() if p.requires_grad], lr=cfg.lr, weight_decay=cfg.wd, momentum=0.9)\n",
    "\n",
    "    scheduler_oclr = optim.lr_scheduler.OneCycleLR(\n",
    "        optimizer=optimizer, \n",
    "        max_lr=cfg.max_lr, \n",
    "        epochs=cfg.epochs, \n",
    "        steps_per_epoch=cfg.steps_per_epoch,\n",
    "        pct_start=cfg.pct_start, \n",
    "        div_factor=cfg.div_factor, \n",
    "        final_div_factor=cfg.final_div_factor\n",
    "    )\n",
    "\n",
    "    # scheduler_rlrop = optim.lr_scheduler.ReduceLROnPlateau(\n",
    "    #     optimizer=optimizer,\n",
    "    #     patience=cfg.patience,\n",
    "    #     eps=cfg.eps,\n",
    "    #     verbose=True\n",
    "    # )\n",
    "\n",
    "    # scheduler_oclr = None\n",
    "    scheduler_rlrop = None\n",
    "\n",
    "\n",
    "    L, A, LR, BL, BA, _, _, _, _ = fit(\n",
    "        model=model, \n",
    "        optimizer=optimizer, \n",
    "        scheduler_oclr=scheduler_oclr,\n",
    "        scheduler_rlrop=scheduler_rlrop,\n",
    "        epochs=cfg.epochs, \n",
    "        early_stopping_patience=cfg.early_stopping, \n",
    "        dataloaders=dataloaders, \n",
    "        device=cfg.device,\n",
    "        save_path=cfg.save_path,\n",
    "        fold=fold,\n",
    "        verbose=True\n",
    "    )\n",
    "\n",
    "\n",
    "    breaker()\n",
    "    show_loss_graphs(L)\n",
    "    breaker()\n",
    "    show_accuracy_graphs(A)\n",
    "    breaker()\n",
    "    if scheduler_oclr:\n",
    "        show_lr_graph(LR)\n",
    "        breaker()\n",
    "\n",
    "        BLs.append(BL)\n",
    "        BAs.append(BA)\n",
    "\n",
    "        fold += 1"
   ]
  },
  {
   "cell_type": "markdown",
   "id": "a2e0e580",
   "metadata": {
    "papermill": {
     "duration": 0.010437,
     "end_time": "2023-01-17T09:42:51.879386",
     "exception": false,
     "start_time": "2023-01-17T09:42:51.868949",
     "status": "completed"
    },
    "tags": []
   },
   "source": [
    "### **Best Model**"
   ]
  },
  {
   "cell_type": "code",
   "execution_count": 10,
   "id": "600b6de2",
   "metadata": {
    "execution": {
     "iopub.execute_input": "2023-01-17T09:42:51.902247Z",
     "iopub.status.busy": "2023-01-17T09:42:51.901595Z",
     "iopub.status.idle": "2023-01-17T09:42:51.908612Z",
     "shell.execute_reply": "2023-01-17T09:42:51.907617Z"
    },
    "papermill": {
     "duration": 0.021994,
     "end_time": "2023-01-17T09:42:51.911905",
     "exception": false,
     "start_time": "2023-01-17T09:42:51.889911",
     "status": "completed"
    },
    "tags": []
   },
   "outputs": [
    {
     "name": "stdout",
     "output_type": "stream",
     "text": [
      "\n",
      "**************************************************\n",
      "\n",
      "Best Loss Model Fold     : 1\n",
      "Best Accuracy Model Fold : 1\n",
      "\n",
      "**************************************************\n",
      "\n"
     ]
    }
   ],
   "source": [
    "BL = np.inf\n",
    "for i in range(len(BLs)):\n",
    "    if BLs[i][\"valid\"] < BL:\n",
    "        BL = BLs[i][\"valid\"]\n",
    "        best_loss_index = i\n",
    "\n",
    "        \n",
    "BA = 0.0\n",
    "for i in range(len(BAs)):\n",
    "    if BAs[i][\"valid\"] > BA:\n",
    "        BA = BAs[i][\"valid\"]\n",
    "        best_accs_index = i\n",
    "\n",
    "breaker()\n",
    "print(f\"Best Loss Model Fold     : {best_loss_index + 1}\")\n",
    "print(f\"Best Accuracy Model Fold : {best_accs_index + 1}\")\n",
    "breaker()"
   ]
  }
 ],
 "metadata": {
  "kernelspec": {
   "display_name": "Python 3",
   "language": "python",
   "name": "python3"
  },
  "language_info": {
   "codemirror_mode": {
    "name": "ipython",
    "version": 3
   },
   "file_extension": ".py",
   "mimetype": "text/x-python",
   "name": "python",
   "nbconvert_exporter": "python",
   "pygments_lexer": "ipython3",
   "version": "3.7.12"
  },
  "papermill": {
   "default_parameters": {},
   "duration": 12079.089723,
   "end_time": "2023-01-17T09:42:54.961832",
   "environment_variables": {},
   "exception": null,
   "input_path": "__notebook__.ipynb",
   "output_path": "__notebook__.ipynb",
   "parameters": {},
   "start_time": "2023-01-17T06:21:35.872109",
   "version": "2.3.4"
  }
 },
 "nbformat": 4,
 "nbformat_minor": 5
}
