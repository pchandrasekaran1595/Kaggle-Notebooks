{
 "cells": [
  {
   "cell_type": "code",
   "execution_count": 1,
   "id": "7f7cb3c3",
   "metadata": {
    "_cell_guid": "b1076dfc-b9ad-4769-8c92-a6c4dae69d19",
    "_uuid": "8f2839f25d086af736a60e9eeb907d3b93b6e0e5",
    "execution": {
     "iopub.execute_input": "2022-12-12T15:22:35.792193Z",
     "iopub.status.busy": "2022-12-12T15:22:35.791514Z",
     "iopub.status.idle": "2022-12-12T15:22:36.058842Z",
     "shell.execute_reply": "2022-12-12T15:22:36.057647Z"
    },
    "papermill": {
     "duration": 0.276926,
     "end_time": "2022-12-12T15:22:36.062947",
     "exception": false,
     "start_time": "2022-12-12T15:22:35.786021",
     "status": "completed"
    },
    "tags": []
   },
   "outputs": [],
   "source": [
    "import os\n",
    "import cv2\n",
    "import json\n",
    "import numpy as np\n",
    "import pandas as pd\n",
    "\n",
    "BASE_PATH: str = \"/kaggle/input/70-dog-breedsimage-data-set\""
   ]
  },
  {
   "cell_type": "code",
   "execution_count": 2,
   "id": "b77b0110",
   "metadata": {
    "execution": {
     "iopub.execute_input": "2022-12-12T15:22:36.074376Z",
     "iopub.status.busy": "2022-12-12T15:22:36.073039Z",
     "iopub.status.idle": "2022-12-12T15:22:36.096388Z",
     "shell.execute_reply": "2022-12-12T15:22:36.094875Z"
    },
    "papermill": {
     "duration": 0.031003,
     "end_time": "2022-12-12T15:22:36.099024",
     "exception": false,
     "start_time": "2022-12-12T15:22:36.068021",
     "status": "completed"
    },
    "tags": []
   },
   "outputs": [],
   "source": [
    "tr_df: pd.DataFrame = pd.DataFrame(data=None, columns=[\"filepaths\", \"labels\"])\n",
    "ts_df: pd.DataFrame = pd.DataFrame(data=None, columns=[\"filepaths\", \"labels\"])\n",
    "fu_df: pd.DataFrame = pd.DataFrame(data=None, columns=[\"filepaths\", \"labels\"])    "
   ]
  },
  {
   "cell_type": "code",
   "execution_count": 3,
   "id": "98454fdf",
   "metadata": {
    "execution": {
     "iopub.execute_input": "2022-12-12T15:22:36.105663Z",
     "iopub.status.busy": "2022-12-12T15:22:36.105097Z",
     "iopub.status.idle": "2022-12-12T15:22:37.385707Z",
     "shell.execute_reply": "2022-12-12T15:22:37.384321Z"
    },
    "papermill": {
     "duration": 1.286904,
     "end_time": "2022-12-12T15:22:37.388379",
     "exception": false,
     "start_time": "2022-12-12T15:22:36.101475",
     "status": "completed"
    },
    "tags": []
   },
   "outputs": [],
   "source": [
    "tr_filepaths: list = []\n",
    "tr_labels: list = []\n",
    "\n",
    "va_filepaths: list = []\n",
    "va_labels: list = []\n",
    "\n",
    "i: int = 0\n",
    "for folder in sorted(os.listdir(f\"{BASE_PATH}/train\")):\n",
    "    for filename in os.listdir(f\"{BASE_PATH}/train/{folder}\"):\n",
    "        tr_filepaths.append(os.path.join(f\"{BASE_PATH}/train/{folder}\", filename))\n",
    "        tr_labels.append(i)\n",
    "    i += 1\n",
    "\n",
    "    \n",
    "i: int = 0\n",
    "for folder in sorted(os.listdir(f\"{BASE_PATH}/valid\")):\n",
    "    for filename in os.listdir(f\"{BASE_PATH}/valid/{folder}\"):\n",
    "        va_filepaths.append(os.path.join(f\"{BASE_PATH}/valid/{folder}\", filename))\n",
    "        va_labels.append(i)\n",
    "    i += 1\n",
    "\n",
    "tr_df.filepaths = tr_filepaths + va_filepaths\n",
    "tr_df.labels = tr_labels + va_labels\n",
    "tr_df.to_csv(\"train.csv\", index=False)"
   ]
  },
  {
   "cell_type": "code",
   "execution_count": 4,
   "id": "fdb2e6d4",
   "metadata": {
    "execution": {
     "iopub.execute_input": "2022-12-12T15:22:37.395729Z",
     "iopub.status.busy": "2022-12-12T15:22:37.395094Z",
     "iopub.status.idle": "2022-12-12T15:22:37.637892Z",
     "shell.execute_reply": "2022-12-12T15:22:37.636259Z"
    },
    "papermill": {
     "duration": 0.255076,
     "end_time": "2022-12-12T15:22:37.645992",
     "exception": false,
     "start_time": "2022-12-12T15:22:37.390916",
     "status": "completed"
    },
    "tags": []
   },
   "outputs": [],
   "source": [
    "filepaths: list = []\n",
    "labels: list = []\n",
    "\n",
    "i: int = 0    \n",
    "for folder in sorted(os.listdir(f\"{BASE_PATH}/test\")):\n",
    "    for filename in os.listdir(f\"{BASE_PATH}/test/{folder}\"):\n",
    "        filepaths.append(os.path.join(f\"{BASE_PATH}/test/{folder}\", filename))\n",
    "        labels.append(i)\n",
    "    i += 1\n",
    "\n",
    "ts_df.filepaths = filepaths\n",
    "ts_df.labels = labels\n",
    "ts_df.to_csv(\"test.csv\", index=False)"
   ]
  },
  {
   "cell_type": "code",
   "execution_count": 5,
   "id": "c284428e",
   "metadata": {
    "execution": {
     "iopub.execute_input": "2022-12-12T15:22:37.656729Z",
     "iopub.status.busy": "2022-12-12T15:22:37.653642Z",
     "iopub.status.idle": "2022-12-12T15:22:37.705601Z",
     "shell.execute_reply": "2022-12-12T15:22:37.703515Z"
    },
    "papermill": {
     "duration": 0.060309,
     "end_time": "2022-12-12T15:22:37.709049",
     "exception": false,
     "start_time": "2022-12-12T15:22:37.648740",
     "status": "completed"
    },
    "tags": []
   },
   "outputs": [],
   "source": [
    "fu_df.filepaths = tr_filepaths + va_filepaths + filepaths\n",
    "fu_df.labels = tr_labels + va_labels + labels\n",
    "fu_df.to_csv(\"full.csv\", index=False)"
   ]
  },
  {
   "cell_type": "code",
   "execution_count": 6,
   "id": "b44ac696",
   "metadata": {
    "execution": {
     "iopub.execute_input": "2022-12-12T15:22:37.717717Z",
     "iopub.status.busy": "2022-12-12T15:22:37.716321Z",
     "iopub.status.idle": "2022-12-12T15:22:37.725512Z",
     "shell.execute_reply": "2022-12-12T15:22:37.724276Z"
    },
    "papermill": {
     "duration": 0.017078,
     "end_time": "2022-12-12T15:22:37.729174",
     "exception": false,
     "start_time": "2022-12-12T15:22:37.712096",
     "status": "completed"
    },
    "tags": []
   },
   "outputs": [],
   "source": [
    "labels: dict = dict()\n",
    "\n",
    "i = 0\n",
    "for folder in sorted(os.listdir(f\"{BASE_PATH}/test\")):\n",
    "    labels[i] = folder\n",
    "    i += 1\n",
    "\n",
    "json.dump(labels, open(\"labels.json\", \"w\"))"
   ]
  }
 ],
 "metadata": {
  "kernelspec": {
   "display_name": "Python 3",
   "language": "python",
   "name": "python3"
  },
  "language_info": {
   "codemirror_mode": {
    "name": "ipython",
    "version": 3
   },
   "file_extension": ".py",
   "mimetype": "text/x-python",
   "name": "python",
   "nbconvert_exporter": "python",
   "pygments_lexer": "ipython3",
   "version": "3.7.12"
  },
  "papermill": {
   "default_parameters": {},
   "duration": 12.535724,
   "end_time": "2022-12-12T15:22:38.457884",
   "environment_variables": {},
   "exception": null,
   "input_path": "__notebook__.ipynb",
   "output_path": "__notebook__.ipynb",
   "parameters": {},
   "start_time": "2022-12-12T15:22:25.922160",
   "version": "2.3.4"
  }
 },
 "nbformat": 4,
 "nbformat_minor": 5
}
