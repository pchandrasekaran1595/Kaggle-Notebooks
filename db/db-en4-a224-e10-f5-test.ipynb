{
 "cells": [
  {
   "cell_type": "markdown",
   "id": "5853640a",
   "metadata": {
    "_cell_guid": "b1076dfc-b9ad-4769-8c92-a6c4dae69d19",
    "_uuid": "8f2839f25d086af736a60e9eeb907d3b93b6e0e5",
    "papermill": {
     "duration": 0.004493,
     "end_time": "2022-12-13T05:28:24.072461",
     "exception": false,
     "start_time": "2022-12-13T05:28:24.067968",
     "status": "completed"
    },
    "tags": []
   },
   "source": [
    "### **Setup**"
   ]
  },
  {
   "cell_type": "code",
   "execution_count": 1,
   "id": "211b6983",
   "metadata": {
    "execution": {
     "iopub.execute_input": "2022-12-13T05:28:24.082363Z",
     "iopub.status.busy": "2022-12-13T05:28:24.081229Z",
     "iopub.status.idle": "2022-12-13T05:28:34.705901Z",
     "shell.execute_reply": "2022-12-13T05:28:34.704672Z"
    },
    "papermill": {
     "duration": 10.632287,
     "end_time": "2022-12-13T05:28:34.708492",
     "exception": false,
     "start_time": "2022-12-13T05:28:24.076205",
     "status": "completed"
    },
    "tags": []
   },
   "outputs": [
    {
     "name": "stderr",
     "output_type": "stream",
     "text": [
      "WARNING: Running pip as the 'root' user can result in broken permissions and conflicting behaviour with the system package manager. It is recommended to use a virtual environment instead: https://pip.pypa.io/warnings/venv\n"
     ]
    }
   ],
   "source": [
    "%%bash\n",
    "pip install timm -q"
   ]
  },
  {
   "cell_type": "markdown",
   "id": "4622caa0",
   "metadata": {
    "papermill": {
     "duration": 0.003213,
     "end_time": "2022-12-13T05:28:34.715219",
     "exception": false,
     "start_time": "2022-12-13T05:28:34.712006",
     "status": "completed"
    },
    "tags": []
   },
   "source": [
    "### **Library Imports**"
   ]
  },
  {
   "cell_type": "code",
   "execution_count": 2,
   "id": "8af6c2ba",
   "metadata": {
    "execution": {
     "iopub.execute_input": "2022-12-13T05:28:34.723773Z",
     "iopub.status.busy": "2022-12-13T05:28:34.722740Z",
     "iopub.status.idle": "2022-12-13T05:28:38.633309Z",
     "shell.execute_reply": "2022-12-13T05:28:38.632231Z"
    },
    "papermill": {
     "duration": 3.917324,
     "end_time": "2022-12-13T05:28:38.635760",
     "exception": false,
     "start_time": "2022-12-13T05:28:34.718436",
     "status": "completed"
    },
    "tags": []
   },
   "outputs": [],
   "source": [
    "import os\n",
    "import re\n",
    "import cv2\n",
    "import json\n",
    "import timm\n",
    "import torch\n",
    "import numpy as np\n",
    "import pandas as pd\n",
    "import matplotlib.pyplot as plt\n",
    "\n",
    "from time import time\n",
    "from typing import Union\n",
    "from torch import nn\n",
    "from torch.utils.data import Dataset\n",
    "from torch.utils.data import DataLoader as DL\n",
    "from torchvision import transforms\n",
    "\n",
    "from sklearn.metrics import accuracy_score"
   ]
  },
  {
   "cell_type": "markdown",
   "id": "2d75d563",
   "metadata": {
    "papermill": {
     "duration": 0.003242,
     "end_time": "2022-12-13T05:28:38.642729",
     "exception": false,
     "start_time": "2022-12-13T05:28:38.639487",
     "status": "completed"
    },
    "tags": []
   },
   "source": [
    "### **Utilities and Helpers**"
   ]
  },
  {
   "cell_type": "code",
   "execution_count": 3,
   "id": "3d4ad3ac",
   "metadata": {
    "execution": {
     "iopub.execute_input": "2022-12-13T05:28:38.652337Z",
     "iopub.status.busy": "2022-12-13T05:28:38.650697Z",
     "iopub.status.idle": "2022-12-13T05:28:38.664083Z",
     "shell.execute_reply": "2022-12-13T05:28:38.663237Z"
    },
    "papermill": {
     "duration": 0.019887,
     "end_time": "2022-12-13T05:28:38.666068",
     "exception": false,
     "start_time": "2022-12-13T05:28:38.646181",
     "status": "completed"
    },
    "tags": []
   },
   "outputs": [],
   "source": [
    "SEED: int = 42\n",
    "SIZE: int = 224\n",
    "LABELS = json.load(open(\"/kaggle/input/db-dataframe/labels.json\", \"r\"))    \n",
    "\n",
    "\n",
    "def breaker(num: int=50, char: str=\"*\") -> None: print(\"\\n\" + num*char + \"\\n\")\n",
    "\n",
    "    \n",
    "def get_image(path: str, size: int=224) -> np.ndarray:\n",
    "    image = cv2.imread(path, cv2.IMREAD_COLOR)\n",
    "    image = cv2.cvtColor(src=image, code=cv2.COLOR_BGR2RGB)\n",
    "    if image.shape == (224, 224, 3): return image\n",
    "    return cv2.resize(src=image, dsize=(size, size), interpolation=cv2.INTER_AREA)"
   ]
  },
  {
   "cell_type": "markdown",
   "id": "c0575227",
   "metadata": {
    "papermill": {
     "duration": 0.003204,
     "end_time": "2022-12-13T05:28:38.672744",
     "exception": false,
     "start_time": "2022-12-13T05:28:38.669540",
     "status": "completed"
    },
    "tags": []
   },
   "source": [
    "\n",
    "\n",
    "### **Configuration**"
   ]
  },
  {
   "cell_type": "code",
   "execution_count": 4,
   "id": "5ace1a7c",
   "metadata": {
    "execution": {
     "iopub.execute_input": "2022-12-13T05:28:38.681338Z",
     "iopub.status.busy": "2022-12-13T05:28:38.680740Z",
     "iopub.status.idle": "2022-12-13T05:28:38.758395Z",
     "shell.execute_reply": "2022-12-13T05:28:38.757449Z"
    },
    "papermill": {
     "duration": 0.084283,
     "end_time": "2022-12-13T05:28:38.760423",
     "exception": false,
     "start_time": "2022-12-13T05:28:38.676140",
     "status": "completed"
    },
    "tags": []
   },
   "outputs": [],
   "source": [
    "class CFG(object):\n",
    "    def __init__(self, \n",
    "                 seed: int = 42,\n",
    "                 size: int = 224,\n",
    "                 n_splits: int = 5,\n",
    "                 batch_size: int = 16,\n",
    "                 epochs: int = 25,\n",
    "                 early_stopping: int = 5,\n",
    "                 lr: float = 1e-4,\n",
    "                 wd: float = 0.0,\n",
    "                 max_lr: float = 1e-3,\n",
    "                 pct_start: float = 0.2,\n",
    "                 steps_per_epoch: int = 100,\n",
    "                 div_factor: int = 1e3, \n",
    "                 final_div_factor: float = 1e3,\n",
    "                 ):\n",
    "        self.seed = seed\n",
    "        self.size = size\n",
    "        self.n_splits = n_splits\n",
    "        self.batch_size = batch_size\n",
    "        self.epochs = epochs\n",
    "        self.early_stopping = early_stopping\n",
    "        self.lr = lr\n",
    "        self.wd = wd\n",
    "        self.max_lr = max_lr\n",
    "        self.pct_start = pct_start\n",
    "        self.steps_per_epoch = steps_per_epoch\n",
    "        self.div_factor = div_factor\n",
    "        self.final_div_factor = final_div_factor\n",
    "        self.device = torch.device(\"cuda\" if torch.cuda.is_available() else \"cpu\")\n",
    "        \n",
    "        if self.size == 224:\n",
    "            self.train_transform = transforms.Compose([\n",
    "                transforms.ToTensor(),\n",
    "                transforms.Normalize([0.52618, 0.48953, 0.42159], [0.23276, 0.23118, 0.23232]),\n",
    "                transforms.RandomAffine(degrees=(-45, 45), translate=(0.15, 0.15), scale=(0.5, 1.5)),\n",
    "                transforms.RandomHorizontalFlip(p=0.25),\n",
    "                transforms.RandomVerticalFlip(p=0.25),\n",
    "            ])\n",
    "            self.valid_transform = transforms.Compose([\n",
    "                transforms.ToTensor(),\n",
    "                transforms.Normalize([0.52618, 0.48953, 0.42159], [0.23276, 0.23118, 0.23232]),\n",
    "            ])\n",
    "        \n",
    "        if self.size == 384:\n",
    "            self.train_transform = transforms.Compose([\n",
    "                transforms.ToTensor(),\n",
    "                transforms.Normalize([0.52618, 0.48953, 0.42159], [0.23276, 0.23118, 0.23232]),\n",
    "                transforms.RandomAffine(degrees=(-45, 45), translate=(0.15, 0.15), scale=(0.5, 1.5)),\n",
    "                transforms.RandomHorizontalFlip(p=0.25),\n",
    "                transforms.RandomVerticalFlip(p=0.25),\n",
    "            ])\n",
    "            self.valid_transform = transforms.Compose([\n",
    "                transforms.ToTensor(),\n",
    "                transforms.Normalize([0.52618, 0.48953, 0.42159], [0.23276, 0.23118, 0.23232]),\n",
    "            ])\n",
    "        \n",
    "        if self.size == 512:\n",
    "            self.train_transform = transforms.Compose([\n",
    "                transforms.ToTensor(),\n",
    "                transforms.Normalize([0.52618, 0.48953, 0.42159], [0.23276, 0.23118, 0.23232]),\n",
    "                transforms.RandomAffine(degrees=(-45, 45), translate=(0.15, 0.15), scale=(0.5, 1.5)),\n",
    "                transforms.RandomHorizontalFlip(p=0.25),\n",
    "                transforms.RandomVerticalFlip(p=0.25),\n",
    "            ])\n",
    "            self.valid_transform = transforms.Compose([\n",
    "                transforms.ToTensor(),\n",
    "                transforms.Normalize([0.52618, 0.48953, 0.42159], [0.23276, 0.23118, 0.23232]),\n",
    "            ])\n",
    "                                \n",
    "        self.save_path = \"saves\"\n",
    "        if not os.path.exists(self.save_path): os.makedirs(self.save_path)\n",
    "    \n",
    "cfg = CFG(\n",
    "    seed=SEED, \n",
    "    size=SIZE\n",
    ")"
   ]
  },
  {
   "cell_type": "markdown",
   "id": "be93efb0",
   "metadata": {
    "papermill": {
     "duration": 0.003245,
     "end_time": "2022-12-13T05:28:38.767253",
     "exception": false,
     "start_time": "2022-12-13T05:28:38.764008",
     "status": "completed"
    },
    "tags": []
   },
   "source": [
    "### **Dataset Template**"
   ]
  },
  {
   "cell_type": "code",
   "execution_count": 5,
   "id": "12d3f62f",
   "metadata": {
    "execution": {
     "iopub.execute_input": "2022-12-13T05:28:38.775872Z",
     "iopub.status.busy": "2022-12-13T05:28:38.774899Z",
     "iopub.status.idle": "2022-12-13T05:28:38.782264Z",
     "shell.execute_reply": "2022-12-13T05:28:38.781439Z"
    },
    "papermill": {
     "duration": 0.013629,
     "end_time": "2022-12-13T05:28:38.784337",
     "exception": false,
     "start_time": "2022-12-13T05:28:38.770708",
     "status": "completed"
    },
    "tags": []
   },
   "outputs": [],
   "source": [
    "class DS(Dataset):\n",
    "    def __init__(\n",
    "        self, \n",
    "        filepaths: np.ndarray, \n",
    "        size: int,\n",
    "        labels: Union[np.ndarray, None]=None, \n",
    "        transform=None\n",
    "    ):\n",
    "        \n",
    "        self.filepaths = filepaths\n",
    "        self.labels = labels\n",
    "        self.size = size\n",
    "        self.transform = transform\n",
    "    \n",
    "    def __len__(self):\n",
    "        return self.filepaths.shape[0]\n",
    "    \n",
    "    def __getitem__(self, idx):\n",
    "        image = get_image(self.filepaths[idx], self.size)\n",
    "        if self.labels is None:\n",
    "            return self.transform(image)\n",
    "        return self.transform(image), torch.LongTensor(self.labels[idx])"
   ]
  },
  {
   "cell_type": "markdown",
   "id": "97fc3fb5",
   "metadata": {
    "papermill": {
     "duration": 0.003203,
     "end_time": "2022-12-13T05:28:38.791000",
     "exception": false,
     "start_time": "2022-12-13T05:28:38.787797",
     "status": "completed"
    },
    "tags": []
   },
   "source": [
    "### **Model**"
   ]
  },
  {
   "cell_type": "code",
   "execution_count": 6,
   "id": "59bf09eb",
   "metadata": {
    "execution": {
     "iopub.execute_input": "2022-12-13T05:28:38.798934Z",
     "iopub.status.busy": "2022-12-13T05:28:38.798686Z",
     "iopub.status.idle": "2022-12-13T05:28:38.804528Z",
     "shell.execute_reply": "2022-12-13T05:28:38.803467Z"
    },
    "papermill": {
     "duration": 0.012387,
     "end_time": "2022-12-13T05:28:38.806836",
     "exception": false,
     "start_time": "2022-12-13T05:28:38.794449",
     "status": "completed"
    },
    "tags": []
   },
   "outputs": [],
   "source": [
    "class Model(nn.Module):\n",
    "    def __init__(self):\n",
    "        super(Model, self).__init__()\n",
    "            \n",
    "        self.model = timm.create_model(model_name=\"efficientnet_b4\", pretrained=False)\n",
    "        self.model.classifier = nn.Linear(in_features=self.model.classifier.in_features, out_features=70)\n",
    "\n",
    "    def forward(self, x):\n",
    "        return nn.LogSoftmax(dim=1)(self.model(x))"
   ]
  },
  {
   "cell_type": "markdown",
   "id": "039b8491",
   "metadata": {
    "papermill": {
     "duration": 0.003283,
     "end_time": "2022-12-13T05:28:38.813439",
     "exception": false,
     "start_time": "2022-12-13T05:28:38.810156",
     "status": "completed"
    },
    "tags": []
   },
   "source": [
    "### **Predict Helper**"
   ]
  },
  {
   "cell_type": "code",
   "execution_count": 7,
   "id": "c988059b",
   "metadata": {
    "execution": {
     "iopub.execute_input": "2022-12-13T05:28:38.821201Z",
     "iopub.status.busy": "2022-12-13T05:28:38.820953Z",
     "iopub.status.idle": "2022-12-13T05:28:38.827399Z",
     "shell.execute_reply": "2022-12-13T05:28:38.826505Z"
    },
    "papermill": {
     "duration": 0.01274,
     "end_time": "2022-12-13T05:28:38.829540",
     "exception": false,
     "start_time": "2022-12-13T05:28:38.816800",
     "status": "completed"
    },
    "tags": []
   },
   "outputs": [],
   "source": [
    "def predict_batch(model=None, dataloader=None, path=None, device=None) -> np.ndarray:\n",
    "    model.load_state_dict(torch.load(path, map_location=device)[\"model_state_dict\"])\n",
    "    model.to(device)    \n",
    "    model.eval()\n",
    "    \n",
    "    y_pred = torch.zeros(1, 1).to(device)\n",
    "    \n",
    "    for X in dataloader:\n",
    "        X = X.to(device)\n",
    "        with torch.no_grad():\n",
    "            output = torch.argmax(torch.exp(model(X)), dim=1)\n",
    "        y_pred = torch.cat((y_pred, output.view(-1, 1)), dim=0)\n",
    "    \n",
    "    return y_pred[1:].detach().cpu().numpy().squeeze().astype(\"uint8\")"
   ]
  },
  {
   "cell_type": "markdown",
   "id": "bafb0832",
   "metadata": {
    "papermill": {
     "duration": 0.003188,
     "end_time": "2022-12-13T05:28:38.836181",
     "exception": false,
     "start_time": "2022-12-13T05:28:38.832993",
     "status": "completed"
    },
    "tags": []
   },
   "source": [
    "### **Test**"
   ]
  },
  {
   "cell_type": "code",
   "execution_count": 8,
   "id": "7e38c0b0",
   "metadata": {
    "execution": {
     "iopub.execute_input": "2022-12-13T05:28:38.844083Z",
     "iopub.status.busy": "2022-12-13T05:28:38.843837Z",
     "iopub.status.idle": "2022-12-13T05:28:59.170243Z",
     "shell.execute_reply": "2022-12-13T05:28:59.169096Z"
    },
    "papermill": {
     "duration": 20.333875,
     "end_time": "2022-12-13T05:28:59.173494",
     "exception": false,
     "start_time": "2022-12-13T05:28:38.839619",
     "status": "completed"
    },
    "tags": []
   },
   "outputs": [
    {
     "name": "stdout",
     "output_type": "stream",
     "text": [
      "\n",
      "**************************************************\n",
      "\n",
      "Accuracy : 96.00\n",
      "\n",
      "**************************************************\n",
      "\n"
     ]
    }
   ],
   "source": [
    "ts_df = pd.read_csv(\"/kaggle/input/db-dataframe/test.csv\")\n",
    "filepaths = ts_df.filepaths.copy().values\n",
    "\n",
    "y_true: list = []\n",
    "for filepath in filepaths:\n",
    "    y_true.append(filepath.split(\"/\")[-2])\n",
    "y_true = np.array(y_true)\n",
    "\n",
    "ts_data_setup = DS(\n",
    "    filepaths=filepaths,\n",
    "    size=cfg.size,\n",
    "    labels=None,\n",
    "    transform=cfg.valid_transform\n",
    ")\n",
    "ts_data = DL(ts_data_setup, batch_size=64, shuffle=False)\n",
    "\n",
    "model = Model().to(cfg.device)\n",
    "\n",
    "y_pred = predict_batch(\n",
    "    model=model,\n",
    "    dataloader=ts_data,\n",
    "    path=\"/kaggle/input/db-en4-a224-e10-f3/saves/ble_state_fold_3.pt\",\n",
    "    device=cfg.device\n",
    ")\n",
    "y_pred = np.array([LABELS[str(pred)] for pred in y_pred])\n",
    "\n",
    "breaker()\n",
    "print(f\"Accuracy : {accuracy_score(y_true, y_pred) * 100:.2f}\")\n",
    "breaker()"
   ]
  }
 ],
 "metadata": {
  "kernelspec": {
   "display_name": "Python 3",
   "language": "python",
   "name": "python3"
  },
  "language_info": {
   "codemirror_mode": {
    "name": "ipython",
    "version": 3
   },
   "file_extension": ".py",
   "mimetype": "text/x-python",
   "name": "python",
   "nbconvert_exporter": "python",
   "pygments_lexer": "ipython3",
   "version": "3.7.12"
  },
  "papermill": {
   "default_parameters": {},
   "duration": 45.242792,
   "end_time": "2022-12-13T05:29:01.545854",
   "environment_variables": {},
   "exception": null,
   "input_path": "__notebook__.ipynb",
   "output_path": "__notebook__.ipynb",
   "parameters": {},
   "start_time": "2022-12-13T05:28:16.303062",
   "version": "2.3.4"
  }
 },
 "nbformat": 4,
 "nbformat_minor": 5
}
