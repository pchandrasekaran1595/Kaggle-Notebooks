{
 "cells": [
  {
   "cell_type": "code",
   "execution_count": 1,
   "id": "64a585f8",
   "metadata": {
    "_cell_guid": "b1076dfc-b9ad-4769-8c92-a6c4dae69d19",
    "_uuid": "8f2839f25d086af736a60e9eeb907d3b93b6e0e5",
    "execution": {
     "iopub.execute_input": "2022-12-12T15:29:40.394955Z",
     "iopub.status.busy": "2022-12-12T15:29:40.394439Z",
     "iopub.status.idle": "2022-12-12T15:29:40.629839Z",
     "shell.execute_reply": "2022-12-12T15:29:40.629033Z"
    },
    "papermill": {
     "duration": 0.242544,
     "end_time": "2022-12-12T15:29:40.632184",
     "exception": false,
     "start_time": "2022-12-12T15:29:40.389640",
     "status": "completed"
    },
    "tags": []
   },
   "outputs": [],
   "source": [
    "import os\n",
    "import cv2\n",
    "import json\n",
    "import numpy as np\n",
    "import pandas as pd\n",
    "\n",
    "BASE_PATH: str = \"/kaggle/input/70-dog-breedsimage-data-set\""
   ]
  },
  {
   "cell_type": "code",
   "execution_count": 2,
   "id": "cb120647",
   "metadata": {
    "execution": {
     "iopub.execute_input": "2022-12-12T15:29:40.637699Z",
     "iopub.status.busy": "2022-12-12T15:29:40.636925Z",
     "iopub.status.idle": "2022-12-12T15:29:40.652022Z",
     "shell.execute_reply": "2022-12-12T15:29:40.651094Z"
    },
    "papermill": {
     "duration": 0.01983,
     "end_time": "2022-12-12T15:29:40.654153",
     "exception": false,
     "start_time": "2022-12-12T15:29:40.634323",
     "status": "completed"
    },
    "tags": []
   },
   "outputs": [],
   "source": [
    "tr_df: pd.DataFrame = pd.DataFrame(data=None, columns=[\"filepaths\", \"labels\"])\n",
    "ts_df: pd.DataFrame = pd.DataFrame(data=None, columns=[\"filepaths\", \"labels\"])\n",
    "fu_df: pd.DataFrame = pd.DataFrame(data=None, columns=[\"filepaths\", \"labels\"])    "
   ]
  },
  {
   "cell_type": "code",
   "execution_count": 3,
   "id": "fbdc3365",
   "metadata": {
    "execution": {
     "iopub.execute_input": "2022-12-12T15:29:40.659011Z",
     "iopub.status.busy": "2022-12-12T15:29:40.658752Z",
     "iopub.status.idle": "2022-12-12T15:29:44.019935Z",
     "shell.execute_reply": "2022-12-12T15:29:44.019093Z"
    },
    "papermill": {
     "duration": 3.366016,
     "end_time": "2022-12-12T15:29:44.022249",
     "exception": false,
     "start_time": "2022-12-12T15:29:40.656233",
     "status": "completed"
    },
    "tags": []
   },
   "outputs": [],
   "source": [
    "tr_filepaths: list = []\n",
    "tr_labels: list = []\n",
    "\n",
    "va_filepaths: list = []\n",
    "va_labels: list = []\n",
    "\n",
    "i: int = 0\n",
    "for folder in sorted(os.listdir(f\"{BASE_PATH}/train\")):\n",
    "    for filename in os.listdir(f\"{BASE_PATH}/train/{folder}\"):\n",
    "        tr_filepaths.append(os.path.join(f\"{BASE_PATH}/train/{folder}\", filename))\n",
    "        tr_labels.append(i)\n",
    "    i += 1\n",
    "\n",
    "    \n",
    "i: int = 0\n",
    "for folder in sorted(os.listdir(f\"{BASE_PATH}/valid\")):\n",
    "    for filename in os.listdir(f\"{BASE_PATH}/valid/{folder}\"):\n",
    "        va_filepaths.append(os.path.join(f\"{BASE_PATH}/valid/{folder}\", filename))\n",
    "        va_labels.append(i)\n",
    "    i += 1\n",
    "\n",
    "tr_df.filepaths = tr_filepaths + va_filepaths\n",
    "tr_df.labels = tr_labels + va_labels\n",
    "tr_df.to_csv(\"train.csv\", index=False)"
   ]
  },
  {
   "cell_type": "code",
   "execution_count": 4,
   "id": "dc6b618a",
   "metadata": {
    "execution": {
     "iopub.execute_input": "2022-12-12T15:29:44.028374Z",
     "iopub.status.busy": "2022-12-12T15:29:44.027522Z",
     "iopub.status.idle": "2022-12-12T15:29:44.648416Z",
     "shell.execute_reply": "2022-12-12T15:29:44.647186Z"
    },
    "papermill": {
     "duration": 0.626915,
     "end_time": "2022-12-12T15:29:44.651301",
     "exception": false,
     "start_time": "2022-12-12T15:29:44.024386",
     "status": "completed"
    },
    "tags": []
   },
   "outputs": [],
   "source": [
    "filepaths: list = []\n",
    "labels: list = []\n",
    "\n",
    "i: int = 0    \n",
    "for folder in sorted(os.listdir(f\"{BASE_PATH}/test\")):\n",
    "    for filename in os.listdir(f\"{BASE_PATH}/test/{folder}\"):\n",
    "        filepaths.append(os.path.join(f\"{BASE_PATH}/test/{folder}\", filename))\n",
    "        labels.append(i)\n",
    "    i += 1\n",
    "\n",
    "ts_df.filepaths = filepaths\n",
    "ts_df.labels = labels\n",
    "ts_df.to_csv(\"test.csv\", index=False)"
   ]
  },
  {
   "cell_type": "code",
   "execution_count": 5,
   "id": "6f3aa66e",
   "metadata": {
    "execution": {
     "iopub.execute_input": "2022-12-12T15:29:44.657341Z",
     "iopub.status.busy": "2022-12-12T15:29:44.656751Z",
     "iopub.status.idle": "2022-12-12T15:29:44.681256Z",
     "shell.execute_reply": "2022-12-12T15:29:44.680506Z"
    },
    "papermill": {
     "duration": 0.029848,
     "end_time": "2022-12-12T15:29:44.683375",
     "exception": false,
     "start_time": "2022-12-12T15:29:44.653527",
     "status": "completed"
    },
    "tags": []
   },
   "outputs": [],
   "source": [
    "fu_df.filepaths = tr_filepaths + va_filepaths + filepaths\n",
    "fu_df.labels = tr_labels + va_labels + labels\n",
    "fu_df.to_csv(\"full.csv\", index=False)"
   ]
  },
  {
   "cell_type": "code",
   "execution_count": 6,
   "id": "3348d6fa",
   "metadata": {
    "execution": {
     "iopub.execute_input": "2022-12-12T15:29:44.689413Z",
     "iopub.status.busy": "2022-12-12T15:29:44.688863Z",
     "iopub.status.idle": "2022-12-12T15:29:44.694105Z",
     "shell.execute_reply": "2022-12-12T15:29:44.693492Z"
    },
    "papermill": {
     "duration": 0.010287,
     "end_time": "2022-12-12T15:29:44.695873",
     "exception": false,
     "start_time": "2022-12-12T15:29:44.685586",
     "status": "completed"
    },
    "tags": []
   },
   "outputs": [],
   "source": [
    "labels: dict = dict()\n",
    "\n",
    "i = 0\n",
    "for folder in sorted(os.listdir(f\"{BASE_PATH}/test\")):\n",
    "    labels[i] = folder\n",
    "    i += 1\n",
    "\n",
    "json.dump(labels, open(\"labels.json\", \"w\"))"
   ]
  }
 ],
 "metadata": {
  "kernelspec": {
   "display_name": "Python 3",
   "language": "python",
   "name": "python3"
  },
  "language_info": {
   "codemirror_mode": {
    "name": "ipython",
    "version": 3
   },
   "file_extension": ".py",
   "mimetype": "text/x-python",
   "name": "python",
   "nbconvert_exporter": "python",
   "pygments_lexer": "ipython3",
   "version": "3.7.12"
  },
  "papermill": {
   "default_parameters": {},
   "duration": 11.706649,
   "end_time": "2022-12-12T15:29:45.316551",
   "environment_variables": {},
   "exception": null,
   "input_path": "__notebook__.ipynb",
   "output_path": "__notebook__.ipynb",
   "parameters": {},
   "start_time": "2022-12-12T15:29:33.609902",
   "version": "2.3.4"
  }
 },
 "nbformat": 4,
 "nbformat_minor": 5
}
