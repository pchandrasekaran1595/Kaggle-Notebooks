{
 "cells": [
  {
   "cell_type": "markdown",
   "id": "e47f1e7b",
   "metadata": {
    "_cell_guid": "b1076dfc-b9ad-4769-8c92-a6c4dae69d19",
    "_uuid": "8f2839f25d086af736a60e9eeb907d3b93b6e0e5",
    "papermill": {
     "duration": 0.005242,
     "end_time": "2022-06-24T16:00:41.809489",
     "exception": false,
     "start_time": "2022-06-24T16:00:41.804247",
     "status": "completed"
    },
    "tags": []
   },
   "source": [
    "### **Setup**"
   ]
  },
  {
   "cell_type": "code",
   "execution_count": 1,
   "id": "d846a4cc",
   "metadata": {
    "execution": {
     "iopub.execute_input": "2022-06-24T16:00:41.819873Z",
     "iopub.status.busy": "2022-06-24T16:00:41.819443Z",
     "iopub.status.idle": "2022-06-24T16:00:52.839668Z",
     "shell.execute_reply": "2022-06-24T16:00:52.838334Z"
    },
    "papermill": {
     "duration": 11.028222,
     "end_time": "2022-06-24T16:00:52.842448",
     "exception": false,
     "start_time": "2022-06-24T16:00:41.814226",
     "status": "completed"
    },
    "tags": []
   },
   "outputs": [
    {
     "name": "stderr",
     "output_type": "stream",
     "text": [
      "WARNING: Running pip as the 'root' user can result in broken permissions and conflicting behaviour with the system package manager. It is recommended to use a virtual environment instead: https://pip.pypa.io/warnings/venv\n"
     ]
    }
   ],
   "source": [
    "%%bash\n",
    "pip install timm -q"
   ]
  },
  {
   "cell_type": "markdown",
   "id": "9c3bd563",
   "metadata": {
    "papermill": {
     "duration": 0.003996,
     "end_time": "2022-06-24T16:00:52.851692",
     "exception": false,
     "start_time": "2022-06-24T16:00:52.847696",
     "status": "completed"
    },
    "tags": []
   },
   "source": [
    "### **Library Imports**"
   ]
  },
  {
   "cell_type": "code",
   "execution_count": 2,
   "id": "8888c37f",
   "metadata": {
    "execution": {
     "iopub.execute_input": "2022-06-24T16:00:52.862115Z",
     "iopub.status.busy": "2022-06-24T16:00:52.861791Z",
     "iopub.status.idle": "2022-06-24T16:01:00.445193Z",
     "shell.execute_reply": "2022-06-24T16:01:00.444030Z"
    },
    "papermill": {
     "duration": 7.591142,
     "end_time": "2022-06-24T16:01:00.447522",
     "exception": false,
     "start_time": "2022-06-24T16:00:52.856380",
     "status": "completed"
    },
    "tags": []
   },
   "outputs": [],
   "source": [
    "import os\n",
    "import re\n",
    "import timm\n",
    "import torch\n",
    "import numpy as np\n",
    "import pandas as pd\n",
    "import matplotlib.pyplot as plt\n",
    "\n",
    "from time import time\n",
    "from torch import nn, optim\n",
    "from torch.utils.data import Dataset\n",
    "from torch.utils.data import DataLoader as DL\n",
    "from torchvision import transforms\n",
    "\n",
    "from sklearn.model_selection import StratifiedKFold\n",
    "from sklearn.preprocessing import LabelEncoder\n",
    "from sklearn.metrics import accuracy_score"
   ]
  },
  {
   "cell_type": "markdown",
   "id": "9c94bd48",
   "metadata": {
    "papermill": {
     "duration": 0.006843,
     "end_time": "2022-06-24T16:01:00.459144",
     "exception": false,
     "start_time": "2022-06-24T16:01:00.452301",
     "status": "completed"
    },
    "tags": []
   },
   "source": [
    "### **Utilities and Helpers**"
   ]
  },
  {
   "cell_type": "code",
   "execution_count": 3,
   "id": "bb1c37ee",
   "metadata": {
    "execution": {
     "iopub.execute_input": "2022-06-24T16:01:00.474813Z",
     "iopub.status.busy": "2022-06-24T16:01:00.473665Z",
     "iopub.status.idle": "2022-06-24T16:01:00.492882Z",
     "shell.execute_reply": "2022-06-24T16:01:00.491948Z"
    },
    "papermill": {
     "duration": 0.028793,
     "end_time": "2022-06-24T16:01:00.494824",
     "exception": false,
     "start_time": "2022-06-24T16:01:00.466031",
     "status": "completed"
    },
    "tags": []
   },
   "outputs": [],
   "source": [
    "SEED = 42\n",
    "SIZE = 384\n",
    "le = LabelEncoder()\n",
    "\n",
    "\n",
    "def breaker(num: int=50, char: str=\"*\") -> None:\n",
    "    print(\"\\n\" + num*char + \"\\n\")\n",
    "\n",
    "    \n",
    "def show_loss_graphs(L: list) -> None:\n",
    "    TL, VL = [], []\n",
    "    for i in range(len(L)):\n",
    "        TL.append(L[i][\"train\"])\n",
    "        VL.append(L[i][\"valid\"])\n",
    "    x_Axis = np.arange(1, len(TL) + 1)\n",
    "    plt.figure()\n",
    "    plt.plot(x_Axis, TL, \"r\", label=\"Train\")\n",
    "    plt.plot(x_Axis, VL, \"b\", label=\"Valid\")\n",
    "    plt.legend()\n",
    "    plt.grid()\n",
    "    plt.title(\"Loss Graph\")\n",
    "    plt.show()\n",
    "\n",
    "    \n",
    "def show_accuracy_graphs(A: list) -> None:\n",
    "    TA, VA = [], []\n",
    "    for i in range(len(A)):\n",
    "        TA.append(A[i][\"train\"])\n",
    "        VA.append(A[i][\"valid\"])\n",
    "    x_Axis = np.arange(1, len(TA) + 1)\n",
    "    plt.figure()\n",
    "    plt.plot(x_Axis, TA, \"r\", label=\"Train\")\n",
    "    plt.plot(x_Axis, VA, \"b\", label=\"Valid\")\n",
    "    plt.legend()\n",
    "    plt.grid()\n",
    "    plt.title(\"Accuracy Graph\")\n",
    "    plt.show()\n",
    "\n",
    "\n",
    "def show_lr_graph(LR: list) -> None:\n",
    "    x_Axis = [i+1 for i in range(len(LR))]\n",
    "    plt.figure(figsize=(8, 6))\n",
    "    plt.plot(x_Axis, LR, \"rx\")\n",
    "    plt.grid()\n",
    "    plt.show()"
   ]
  },
  {
   "cell_type": "markdown",
   "id": "97734896",
   "metadata": {
    "papermill": {
     "duration": 0.006046,
     "end_time": "2022-06-24T16:01:00.507026",
     "exception": false,
     "start_time": "2022-06-24T16:01:00.500980",
     "status": "completed"
    },
    "tags": []
   },
   "source": [
    "### **Configuration**"
   ]
  },
  {
   "cell_type": "code",
   "execution_count": 4,
   "id": "933c31d2",
   "metadata": {
    "execution": {
     "iopub.execute_input": "2022-06-24T16:01:00.522281Z",
     "iopub.status.busy": "2022-06-24T16:01:00.520989Z",
     "iopub.status.idle": "2022-06-24T16:01:00.589983Z",
     "shell.execute_reply": "2022-06-24T16:01:00.589263Z"
    },
    "papermill": {
     "duration": 0.078384,
     "end_time": "2022-06-24T16:01:00.591694",
     "exception": false,
     "start_time": "2022-06-24T16:01:00.513310",
     "status": "completed"
    },
    "tags": []
   },
   "outputs": [],
   "source": [
    "class CFG(object):\n",
    "    def __init__(self, \n",
    "                 seed: int = 42,\n",
    "                 n_splits: int = 5,\n",
    "                 batch_size: int = 16,\n",
    "                 epochs: int = 25,\n",
    "                 early_stopping: int = 5,\n",
    "                 lr: float = 1e-4,\n",
    "                 wd: float = 0.0,\n",
    "                 max_lr: float = 1e-3,\n",
    "                 pct_start: float = 0.2,\n",
    "                 steps_per_epoch: int = 100,\n",
    "                 div_factor: int = 1e3, \n",
    "                 final_div_factor: float = 1e3,\n",
    "                 ):\n",
    "        \n",
    "        self.seed = seed\n",
    "        self.n_splits = n_splits\n",
    "        self.batch_size = batch_size\n",
    "        self.epochs = epochs\n",
    "        self.early_stopping = early_stopping\n",
    "        self.lr = lr\n",
    "        self.wd = wd\n",
    "        self.max_lr = max_lr\n",
    "        self.pct_start = pct_start\n",
    "        self.steps_per_epoch = steps_per_epoch\n",
    "        self.div_factor = div_factor\n",
    "        self.final_div_factor = final_div_factor\n",
    "        self.device = torch.device(\"cuda\" if torch.cuda.is_available() else \"cpu\")\n",
    "        self.transform = transforms.Compose([transforms.ToTensor(),\n",
    "                                transforms.Normalize([0.49699, 0.58823, 0.23049],\n",
    "                                                     [0.22591, 0.22614, 0.18264]),\n",
    "                                ])\n",
    "        self.save_path = \"saves\"\n",
    "        if not os.path.exists(self.save_path): os.makedirs(self.save_path)\n",
    "    \n",
    "cfg = CFG(seed=SEED)"
   ]
  },
  {
   "cell_type": "markdown",
   "id": "92224733",
   "metadata": {
    "papermill": {
     "duration": 0.004213,
     "end_time": "2022-06-24T16:01:00.600122",
     "exception": false,
     "start_time": "2022-06-24T16:01:00.595909",
     "status": "completed"
    },
    "tags": []
   },
   "source": [
    "### **Dataset Template**"
   ]
  },
  {
   "cell_type": "code",
   "execution_count": 5,
   "id": "452b0592",
   "metadata": {
    "execution": {
     "iopub.execute_input": "2022-06-24T16:01:00.610000Z",
     "iopub.status.busy": "2022-06-24T16:01:00.609231Z",
     "iopub.status.idle": "2022-06-24T16:01:00.615855Z",
     "shell.execute_reply": "2022-06-24T16:01:00.615150Z"
    },
    "papermill": {
     "duration": 0.013302,
     "end_time": "2022-06-24T16:01:00.617507",
     "exception": false,
     "start_time": "2022-06-24T16:01:00.604205",
     "status": "completed"
    },
    "tags": []
   },
   "outputs": [],
   "source": [
    "class DS(Dataset):\n",
    "    def __init__(self, images: np.ndarray, labels: np.ndarray = None, transform=None):\n",
    "        self.images = images\n",
    "        self.labels = labels\n",
    "        self.transform = transform\n",
    "    \n",
    "    def __len__(self):\n",
    "        return self.images.shape[0]\n",
    "    \n",
    "    def __getitem__(self, idx):\n",
    "        if self.labels is not None:\n",
    "            return self.transform(self.images[idx]), torch.LongTensor(self.labels[idx])\n",
    "        else:\n",
    "            return self.transform(self.images[idx])"
   ]
  },
  {
   "cell_type": "markdown",
   "id": "c2799c67",
   "metadata": {
    "papermill": {
     "duration": 0.003813,
     "end_time": "2022-06-24T16:01:00.625475",
     "exception": false,
     "start_time": "2022-06-24T16:01:00.621662",
     "status": "completed"
    },
    "tags": []
   },
   "source": [
    "### **Model**"
   ]
  },
  {
   "cell_type": "code",
   "execution_count": 6,
   "id": "4d0a749a",
   "metadata": {
    "execution": {
     "iopub.execute_input": "2022-06-24T16:01:00.634970Z",
     "iopub.status.busy": "2022-06-24T16:01:00.634404Z",
     "iopub.status.idle": "2022-06-24T16:01:00.641191Z",
     "shell.execute_reply": "2022-06-24T16:01:00.640481Z"
    },
    "papermill": {
     "duration": 0.013156,
     "end_time": "2022-06-24T16:01:00.642900",
     "exception": false,
     "start_time": "2022-06-24T16:01:00.629744",
     "status": "completed"
    },
    "tags": []
   },
   "outputs": [],
   "source": [
    "class Model(nn.Module):\n",
    "    def __init__(self):\n",
    "        super(Model, self).__init__()\n",
    "\n",
    "        self.model = timm.create_model(model_name=\"efficientnet_b2\", pretrained=True)\n",
    "        # self.freeze()\n",
    "        self.model.classifier = nn.Linear(in_features=self.model.classifier.in_features, out_features=10)\n",
    "    \n",
    "    def freeze(self):\n",
    "        for params in self.parameters(): params.requires_grad = False\n",
    "\n",
    "    def forward(self, x):\n",
    "        return nn.LogSoftmax(dim=1)(self.model(x))"
   ]
  },
  {
   "cell_type": "markdown",
   "id": "388f2e9e",
   "metadata": {
    "papermill": {
     "duration": 0.00405,
     "end_time": "2022-06-24T16:01:00.651027",
     "exception": false,
     "start_time": "2022-06-24T16:01:00.646977",
     "status": "completed"
    },
    "tags": []
   },
   "source": [
    "### **Fit and Predict Helpers**"
   ]
  },
  {
   "cell_type": "code",
   "execution_count": 7,
   "id": "ea7f8fc6",
   "metadata": {
    "execution": {
     "iopub.execute_input": "2022-06-24T16:01:00.660993Z",
     "iopub.status.busy": "2022-06-24T16:01:00.660562Z",
     "iopub.status.idle": "2022-06-24T16:01:00.686270Z",
     "shell.execute_reply": "2022-06-24T16:01:00.685551Z"
    },
    "papermill": {
     "duration": 0.033011,
     "end_time": "2022-06-24T16:01:00.688042",
     "exception": false,
     "start_time": "2022-06-24T16:01:00.655031",
     "status": "completed"
    },
    "tags": []
   },
   "outputs": [],
   "source": [
    "def fit(model=None, \n",
    "        optimizer=None, \n",
    "        scheduler_rlrop=None,\n",
    "        scheduler_oclr=None,\n",
    "        epochs=None, \n",
    "        early_stopping_patience=None, \n",
    "        dataloaders=None, \n",
    "        fold=None, \n",
    "        save_path=None,\n",
    "        device=None,\n",
    "        verbose=False) -> tuple:\n",
    "    \n",
    "    def get_accuracy(y_pred, y_true):\n",
    "        y_pred = torch.argmax(y_pred, dim=1)\n",
    "        return torch.count_nonzero(y_pred == y_true).item() / len(y_pred)\n",
    "    \n",
    "    if verbose:\n",
    "        breaker()\n",
    "        if fold: print(f\"Training Fold {fold}...\")\n",
    "        else: print(\"Training ...\")\n",
    "        breaker()\n",
    "        \n",
    "    bestLoss, bestAccs = {\"train\" : np.inf, \"valid\" : np.inf}, {\"train\" : 0.0, \"valid\" : 0.0}\n",
    "    Losses, Accuracies, LRs = [], [], []\n",
    "    if fold: \n",
    "        ble_name = f\"ble_state_fold_{fold}.pt\"\n",
    "        bae_name = f\"bae_state_fold_{fold}.pt\"\n",
    "    else: \n",
    "        ble_name = \"ble_state.pt\"\n",
    "        bae_name = \"bae_state.pt\"\n",
    "\n",
    "    start_time = time()\n",
    "    for e in range(epochs):\n",
    "        e_st = time()\n",
    "        epochLoss, epochAccs = {\"train\" : 0.0, \"valid\" : 0.0}, {\"train\" : 0.0, \"valid\" : 0.0}\n",
    "\n",
    "        for phase in [\"train\", \"valid\"]:\n",
    "            if phase == \"train\":\n",
    "                model.train()\n",
    "            else:\n",
    "                model.eval()\n",
    "            \n",
    "            lossPerPass, accsPerPass = [], []\n",
    "\n",
    "            for X, y in dataloaders[phase]:\n",
    "                X, y = X.to(device), y.to(device).view(-1)\n",
    "\n",
    "                optimizer.zero_grad()\n",
    "                with torch.set_grad_enabled(phase == \"train\"):\n",
    "                    output = model(X)\n",
    "                    loss = torch.nn.NLLLoss()(output, y)\n",
    "                    if phase == \"train\":\n",
    "                        loss.backward()\n",
    "                        optimizer.step()\n",
    "                        if scheduler_oclr: scheduler_oclr.step()\n",
    "                lossPerPass.append(loss.item())\n",
    "                accsPerPass.append(get_accuracy(output, y))\n",
    "            epochLoss[phase] = np.mean(np.array(lossPerPass))\n",
    "            epochAccs[phase] = np.mean(np.array(accsPerPass))\n",
    "        if scheduler_oclr: LRs.append(scheduler_oclr.get_last_lr())\n",
    "        Losses.append(epochLoss)\n",
    "        Accuracies.append(epochAccs)\n",
    "        \n",
    "        if scheduler_oclr:\n",
    "            save_dict = {\"model_state_dict\"     : model.state_dict(),\n",
    "                         \"optim_state_dict\"     : optimizer.state_dict(),\n",
    "                         \"scheduler_state_dict\" : scheduler_oclr.state_dict()}\n",
    "        \n",
    "        elif scheduler_rlrop:\n",
    "            save_dict = {\"model_state_dict\"     : model.state_dict(),\n",
    "                         \"optim_state_dict\"     : optimizer.state_dict(),\n",
    "                         \"scheduler_state_dict\" : scheduler_rlrop.state_dict()}\n",
    "        \n",
    "        else:\n",
    "            save_dict = {\"model_state_dict\"     : model.state_dict(),\n",
    "                         \"optim_state_dict\"     : optimizer.state_dict()}\n",
    "        \n",
    "        if early_stopping_patience:\n",
    "            if epochLoss[\"valid\"] < bestLoss[\"valid\"]:\n",
    "                bestLoss = epochLoss\n",
    "                BLE = e + 1\n",
    "                torch.save(save_dict, os.path.join(save_path, name))\n",
    "                early_stopping_step = 0\n",
    "            else:\n",
    "                early_stopping_step += 1\n",
    "                if early_stopping_step > early_stopping_patience:\n",
    "                    print(\"\\nEarly Stopping at Epoch {}\".format(e + 1))\n",
    "                    break\n",
    "        \n",
    "        if epochLoss[\"valid\"] < bestLoss[\"valid\"]:\n",
    "            bestLoss = epochLoss\n",
    "            BLE = e + 1\n",
    "            torch.save(save_dict,os.path.join(save_path, ble_name))\n",
    "        \n",
    "        if epochAccs[\"valid\"] > bestAccs[\"valid\"]:\n",
    "            bestAccs = epochAccs\n",
    "            BAE = e + 1\n",
    "            torch.save(save_dict,os.path.join(save_path, bae_name))\n",
    "\n",
    "        \n",
    "        if scheduler_rlrop: scheduler_rlrop.step(epochLoss[\"valid\"])\n",
    "        \n",
    "        if verbose:\n",
    "            print(\"Epoch: {} | Train Loss: {:.5f} | Valid Loss: {:.5f} |\\\n",
    " Train Accs: {:.5f} | Valid Accs: {:.5f} | Time: {:.2f} seconds\".format(e+1, \n",
    "                                                                        epochLoss[\"train\"], epochLoss[\"valid\"], \n",
    "                                                                        epochAccs[\"train\"], epochAccs[\"valid\"], \n",
    "                                                                        time()-e_st))\n",
    "\n",
    "    if verbose:                                           \n",
    "        breaker()\n",
    "        print(f\"Best Validation Loss at Epoch {BLE}\")\n",
    "        breaker()\n",
    "        print(f\"Best Validation Accs at Epoch {BAE}\")\n",
    "        breaker()\n",
    "        print(\"Time Taken [{} Epochs] : {:.2f} minutes\".format(len(Losses), (time()-start_time)/60))\n",
    "    \n",
    "    return Losses, Accuracies, LRs, BLE, BAE, ble_name, bae_name\n",
    "\n",
    "\n",
    "def predict_batch(model=None, dataloader=None, path=None, device=None) -> np.ndarray:\n",
    "    model.load_state_dict(torch.load(path, map_location=device)[\"model_state_dict\"])\n",
    "    model.to(device)    \n",
    "    model.eval()\n",
    "    \n",
    "    y_pred = torch.zeros(1, 1).to(device)\n",
    "    \n",
    "    for X in dataloader:\n",
    "        X = X.to(device)\n",
    "        with torch.no_grad():\n",
    "            output = torch.argmax(torch.exp(model(X)), dim=1)\n",
    "        y_pred = torch.cat((y_pred, output.view(-1, 1)), dim=0)\n",
    "    \n",
    "    return y_pred[1:].detach().cpu().numpy()"
   ]
  },
  {
   "cell_type": "markdown",
   "id": "29d6834c",
   "metadata": {
    "papermill": {
     "duration": 0.003818,
     "end_time": "2022-06-24T16:01:00.695871",
     "exception": false,
     "start_time": "2022-06-24T16:01:00.692053",
     "status": "completed"
    },
    "tags": []
   },
   "source": [
    "### **Train**"
   ]
  },
  {
   "cell_type": "code",
   "execution_count": 8,
   "id": "a965ab19",
   "metadata": {
    "execution": {
     "iopub.execute_input": "2022-06-24T16:01:00.705103Z",
     "iopub.status.busy": "2022-06-24T16:01:00.704859Z",
     "iopub.status.idle": "2022-06-24T16:01:31.316493Z",
     "shell.execute_reply": "2022-06-24T16:01:31.315722Z"
    },
    "papermill": {
     "duration": 30.618407,
     "end_time": "2022-06-24T16:01:31.318662",
     "exception": false,
     "start_time": "2022-06-24T16:01:00.700255",
     "status": "completed"
    },
    "tags": []
   },
   "outputs": [],
   "source": [
    "images = np.load(f\"../input/pdc-images-{SIZE}/images-{SIZE}.npy\")\n",
    "df = pd.read_csv(\"../input/paddy-disease-classification/train.csv\")\n",
    "labels = df.label.copy().values\n",
    "labels = le.fit_transform(labels)"
   ]
  },
  {
   "cell_type": "code",
   "execution_count": 9,
   "id": "00bd60cd",
   "metadata": {
    "execution": {
     "iopub.execute_input": "2022-06-24T16:01:31.329239Z",
     "iopub.status.busy": "2022-06-24T16:01:31.328784Z",
     "iopub.status.idle": "2022-06-24T17:34:32.506626Z",
     "shell.execute_reply": "2022-06-24T17:34:32.505685Z"
    },
    "papermill": {
     "duration": 5581.185671,
     "end_time": "2022-06-24T17:34:32.509111",
     "exception": false,
     "start_time": "2022-06-24T16:01:31.323440",
     "status": "completed"
    },
    "tags": []
   },
   "outputs": [
    {
     "name": "stderr",
     "output_type": "stream",
     "text": [
      "Downloading: \"https://github.com/rwightman/pytorch-image-models/releases/download/v0.1-weights/efficientnet_b2_ra-bcdf34b7.pth\" to /root/.cache/torch/hub/checkpoints/efficientnet_b2_ra-bcdf34b7.pth\n"
     ]
    },
    {
     "name": "stdout",
     "output_type": "stream",
     "text": [
      "\n",
      "**************************************************\n",
      "\n",
      "Training ...\n",
      "\n",
      "**************************************************\n",
      "\n",
      "Epoch: 1 | Train Loss: 2.00751 | Valid Loss: 1.06177 | Train Accs: 0.30918 | Valid Accs: 0.68989 | Time: 165.76 seconds\n",
      "Epoch: 2 | Train Loss: 0.60549 | Valid Loss: 0.35459 | Train Accs: 0.81406 | Valid Accs: 0.89933 | Time: 159.52 seconds\n",
      "Epoch: 3 | Train Loss: 0.28700 | Valid Loss: 0.34776 | Train Accs: 0.91247 | Valid Accs: 0.89742 | Time: 158.85 seconds\n",
      "Epoch: 4 | Train Loss: 0.25575 | Valid Loss: 0.33905 | Train Accs: 0.92003 | Valid Accs: 0.89933 | Time: 159.01 seconds\n",
      "Epoch: 5 | Train Loss: 0.25753 | Valid Loss: 0.23858 | Train Accs: 0.92266 | Valid Accs: 0.92462 | Time: 159.02 seconds\n",
      "Epoch: 6 | Train Loss: 0.20865 | Valid Loss: 0.46460 | Train Accs: 0.93270 | Valid Accs: 0.88502 | Time: 158.35 seconds\n",
      "Epoch: 7 | Train Loss: 0.20652 | Valid Loss: 0.21268 | Train Accs: 0.93626 | Valid Accs: 0.93750 | Time: 158.86 seconds\n",
      "Epoch: 8 | Train Loss: 0.17333 | Valid Loss: 0.35599 | Train Accs: 0.94486 | Valid Accs: 0.91221 | Time: 158.16 seconds\n",
      "Epoch: 9 | Train Loss: 0.13805 | Valid Loss: 0.28082 | Train Accs: 0.95993 | Valid Accs: 0.91603 | Time: 158.14 seconds\n",
      "Epoch: 10 | Train Loss: 0.11685 | Valid Loss: 0.24777 | Train Accs: 0.96397 | Valid Accs: 0.93798 | Time: 158.44 seconds\n",
      "Epoch: 11 | Train Loss: 0.11815 | Valid Loss: 0.22338 | Train Accs: 0.96213 | Valid Accs: 0.94609 | Time: 158.91 seconds\n",
      "Epoch: 12 | Train Loss: 0.09890 | Valid Loss: 0.19810 | Train Accs: 0.96881 | Valid Accs: 0.95420 | Time: 158.54 seconds\n",
      "Epoch: 13 | Train Loss: 0.08631 | Valid Loss: 0.15069 | Train Accs: 0.97277 | Valid Accs: 0.96326 | Time: 158.80 seconds\n",
      "Epoch: 14 | Train Loss: 0.07257 | Valid Loss: 0.21449 | Train Accs: 0.97721 | Valid Accs: 0.94513 | Time: 158.56 seconds\n",
      "Epoch: 15 | Train Loss: 0.06338 | Valid Loss: 0.24456 | Train Accs: 0.98133 | Valid Accs: 0.94656 | Time: 158.68 seconds\n",
      "Epoch: 16 | Train Loss: 0.07185 | Valid Loss: 0.19122 | Train Accs: 0.97793 | Valid Accs: 0.95945 | Time: 158.46 seconds\n",
      "Epoch: 17 | Train Loss: 0.03720 | Valid Loss: 0.21777 | Train Accs: 0.98812 | Valid Accs: 0.95802 | Time: 158.65 seconds\n",
      "Epoch: 18 | Train Loss: 0.03912 | Valid Loss: 0.22041 | Train Accs: 0.98800 | Valid Accs: 0.95706 | Time: 158.52 seconds\n",
      "Epoch: 19 | Train Loss: 0.04518 | Valid Loss: 0.12156 | Train Accs: 0.98584 | Valid Accs: 0.96851 | Time: 159.69 seconds\n",
      "Epoch: 20 | Train Loss: 0.02209 | Valid Loss: 0.18721 | Train Accs: 0.99388 | Valid Accs: 0.95706 | Time: 159.43 seconds\n",
      "Epoch: 21 | Train Loss: 0.01382 | Valid Loss: 0.13025 | Train Accs: 0.99508 | Valid Accs: 0.97137 | Time: 159.29 seconds\n",
      "Epoch: 22 | Train Loss: 0.00796 | Valid Loss: 0.13473 | Train Accs: 0.99724 | Valid Accs: 0.97424 | Time: 159.55 seconds\n",
      "Epoch: 23 | Train Loss: 0.00851 | Valid Loss: 0.19878 | Train Accs: 0.99748 | Valid Accs: 0.95849 | Time: 159.06 seconds\n",
      "Epoch: 24 | Train Loss: 0.01590 | Valid Loss: 0.12813 | Train Accs: 0.99496 | Valid Accs: 0.96899 | Time: 159.03 seconds\n",
      "Epoch: 25 | Train Loss: 0.00820 | Valid Loss: 0.14786 | Train Accs: 0.99736 | Valid Accs: 0.97233 | Time: 159.01 seconds\n",
      "Epoch: 26 | Train Loss: 0.00681 | Valid Loss: 0.15062 | Train Accs: 0.99868 | Valid Accs: 0.96708 | Time: 159.04 seconds\n",
      "Epoch: 27 | Train Loss: 0.00354 | Valid Loss: 0.11909 | Train Accs: 0.99904 | Valid Accs: 0.97519 | Time: 159.51 seconds\n",
      "Epoch: 28 | Train Loss: 0.00175 | Valid Loss: 0.14062 | Train Accs: 0.99952 | Valid Accs: 0.97662 | Time: 159.62 seconds\n",
      "Epoch: 29 | Train Loss: 0.00263 | Valid Loss: 0.14746 | Train Accs: 0.99928 | Valid Accs: 0.97185 | Time: 159.17 seconds\n",
      "Epoch: 30 | Train Loss: 0.00069 | Valid Loss: 0.14616 | Train Accs: 0.99976 | Valid Accs: 0.97615 | Time: 159.19 seconds\n",
      "Epoch: 31 | Train Loss: 0.00024 | Valid Loss: 0.14063 | Train Accs: 1.00000 | Valid Accs: 0.97567 | Time: 159.24 seconds\n",
      "Epoch: 32 | Train Loss: 0.00020 | Valid Loss: 0.14804 | Train Accs: 1.00000 | Valid Accs: 0.97567 | Time: 159.34 seconds\n",
      "Epoch: 33 | Train Loss: 0.00024 | Valid Loss: 0.14304 | Train Accs: 1.00000 | Valid Accs: 0.97471 | Time: 158.95 seconds\n",
      "Epoch: 34 | Train Loss: 0.00026 | Valid Loss: 0.13642 | Train Accs: 1.00000 | Valid Accs: 0.97615 | Time: 159.09 seconds\n",
      "Epoch: 35 | Train Loss: 0.00019 | Valid Loss: 0.15356 | Train Accs: 1.00000 | Valid Accs: 0.97471 | Time: 158.76 seconds\n",
      "\n",
      "**************************************************\n",
      "\n",
      "Best Validation Loss at Epoch 27\n",
      "\n",
      "**************************************************\n",
      "\n",
      "Best Validation Accs at Epoch 28\n",
      "\n",
      "**************************************************\n",
      "\n",
      "Time Taken [35 Epochs] : 92.84 minutes\n",
      "\n",
      "**************************************************\n",
      "\n"
     ]
    },
    {
     "data": {
      "image/png": "[encoded data removed]",
      "text/plain": [
       "<Figure size 432x288 with 1 Axes>"
      ]
     },
     "metadata": {
      "needs_background": "light"
     },
     "output_type": "display_data"
    },
    {
     "name": "stdout",
     "output_type": "stream",
     "text": [
      "\n",
      "**************************************************\n",
      "\n"
     ]
    },
    {
     "data": {
      "image/png": "[encoded data removed]",
      "text/plain": [
       "<Figure size 432x288 with 1 Axes>"
      ]
     },
     "metadata": {
      "needs_background": "light"
     },
     "output_type": "display_data"
    },
    {
     "name": "stdout",
     "output_type": "stream",
     "text": [
      "\n",
      "**************************************************\n",
      "\n"
     ]
    },
    {
     "data": {
      "image/png": "[encoded data removed]",
      "text/plain": [
       "<Figure size 576x432 with 1 Axes>"
      ]
     },
     "metadata": {
      "needs_background": "light"
     },
     "output_type": "display_data"
    },
    {
     "name": "stdout",
     "output_type": "stream",
     "text": [
      "\n",
      "**************************************************\n",
      "\n"
     ]
    }
   ],
   "source": [
    "fold = 1\n",
    "\n",
    "for tr_idx, va_idx in StratifiedKFold(n_splits=cfg.n_splits, random_state=cfg.seed, shuffle=True).split(images, labels):\n",
    "    if fold == 3: break\n",
    "    fold += 1\n",
    "\n",
    "tr_images, va_images, tr_labels, va_labels = images[tr_idx], images[va_idx], labels[tr_idx], labels[va_idx]\n",
    "\n",
    "tr_data_setup = DS(tr_images, tr_labels.reshape(-1, 1), cfg.transform)\n",
    "va_data_setup = DS(va_images, va_labels.reshape(-1, 1), cfg.transform)\n",
    "\n",
    "dataloaders = {\n",
    "    \"train\" : DL(tr_data_setup, batch_size=cfg.batch_size, shuffle=True, generator=torch.manual_seed(cfg.seed)),\n",
    "    \"valid\" : DL(va_data_setup, batch_size=cfg.batch_size, shuffle=False),\n",
    "}\n",
    "\n",
    "cfg = CFG(epochs=35, batch_size=64, steps_per_epoch=len(dataloaders[\"train\"]))\n",
    "\n",
    "torch.manual_seed(cfg.seed)\n",
    "model = Model().to(cfg.device)\n",
    "\n",
    "optimizer = optim.AdamW([p for p in model.parameters() if p.requires_grad], lr=cfg.lr, weight_decay=cfg.wd)\n",
    "# optimizer = optim.AdamW([p for p in model.parameters() if p.requires_grad], lr=cfg.lr, weight_decay=cfg.wd)\n",
    "\n",
    "scheduler_oclr = optim.lr_scheduler.OneCycleLR(optimizer=optimizer, \n",
    "                                               max_lr=cfg.max_lr, \n",
    "                                               epochs=cfg.epochs, \n",
    "                                               steps_per_epoch=cfg.steps_per_epoch,\n",
    "                                               pct_start=cfg.pct_start, \n",
    "                                               div_factor=cfg.div_factor, \n",
    "                                               final_div_factor=cfg.final_div_factor)\n",
    "# scheduler_rlrop = optim.lr_scheduler.ReduceLROnPlateau(optimizer=optimizer,\n",
    "#                                                       patience=cfg.patience,\n",
    "#                                                       eps=cfg.eps,\n",
    "#                                                       verbose=True)\n",
    "\n",
    "# scheduler_oclr = None\n",
    "scheduler_rlrop = None\n",
    "\n",
    "L, A, LR, BLE, BAE, _, _ = fit(model=model, \n",
    "                               optimizer=optimizer, \n",
    "                               scheduler_oclr=scheduler_oclr,\n",
    "                               scheduler_rlrop=scheduler_rlrop,\n",
    "                               epochs=cfg.epochs, \n",
    "                               early_stopping_patience=None, \n",
    "                               dataloaders=dataloaders, \n",
    "                               device=cfg.device,\n",
    "                               save_path=cfg.save_path,\n",
    "                               fold=None,\n",
    "                               verbose=True)\n",
    "\n",
    "breaker()\n",
    "show_loss_graphs(L)\n",
    "breaker()\n",
    "show_accuracy_graphs(A)\n",
    "breaker()\n",
    "\n",
    "if scheduler_oclr:\n",
    "    show_lr_graph(LR)\n",
    "    breaker()"
   ]
  }
 ],
 "metadata": {
  "kernelspec": {
   "display_name": "Python 3",
   "language": "python",
   "name": "python3"
  },
  "language_info": {
   "codemirror_mode": {
    "name": "ipython",
    "version": 3
   },
   "file_extension": ".py",
   "mimetype": "text/x-python",
   "name": "python",
   "nbconvert_exporter": "python",
   "pygments_lexer": "ipython3",
   "version": "3.7.12"
  },
  "papermill": {
   "default_parameters": {},
   "duration": 5641.805027,
   "end_time": "2022-06-24T17:34:35.623835",
   "environment_variables": {},
   "exception": null,
   "input_path": "__notebook__.ipynb",
   "output_path": "__notebook__.ipynb",
   "parameters": {},
   "start_time": "2022-06-24T16:00:33.818808",
   "version": "2.3.4"
  }
 },
 "nbformat": 4,
 "nbformat_minor": 5
}
