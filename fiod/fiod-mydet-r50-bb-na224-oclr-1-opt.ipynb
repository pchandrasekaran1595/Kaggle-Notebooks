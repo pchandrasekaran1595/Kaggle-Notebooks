{
 "cells": [
  {
   "cell_type": "code",
   "execution_count": 1,
   "id": "59c39618",
   "metadata": {
    "execution": {
     "iopub.execute_input": "2022-05-05T10:35:53.418103Z",
     "iopub.status.busy": "2022-05-05T10:35:53.417685Z",
     "iopub.status.idle": "2022-05-05T10:35:53.424074Z",
     "shell.execute_reply": "2022-05-05T10:35:53.422994Z"
    },
    "papermill": {
     "duration": 0.031485,
     "end_time": "2022-05-05T10:35:53.427433",
     "exception": false,
     "start_time": "2022-05-05T10:35:53.395948",
     "status": "completed"
    },
    "tags": []
   },
   "outputs": [],
   "source": [
    "# import xml.etree.ElementTree as ET \n",
    "\n",
    "# xml_file = ET.parse('../input/fruit-images-for-object-detection/train_zip/train/apple_1.xml') \n",
    "\n",
    "# root = xml_file.getroot()\n",
    "\n",
    "# for i in range(4):\n",
    "#     if i == 0: print(f\"xmin - {root[6][4][i].text:>3s}\")\n",
    "#     if i == 1: print(f\"xmax - {root[6][4][i].text:>3s}\")        \n",
    "#     if i == 2: print(f\"ymin - {root[6][4][i].text:>3s}\")        \n",
    "#     if i == 3: print(f\"ymax - {root[6][4][i].text:>3s}\")        "
   ]
  },
  {
   "cell_type": "markdown",
   "id": "367f6b53",
   "metadata": {
    "papermill": {
     "duration": 0.017503,
     "end_time": "2022-05-05T10:35:53.463448",
     "exception": false,
     "start_time": "2022-05-05T10:35:53.445945",
     "status": "completed"
    },
    "tags": []
   },
   "source": [
    "### **Library Imports**"
   ]
  },
  {
   "cell_type": "code",
   "execution_count": 2,
   "id": "49b698d5",
   "metadata": {
    "execution": {
     "iopub.execute_input": "2022-05-05T10:35:53.501133Z",
     "iopub.status.busy": "2022-05-05T10:35:53.500872Z",
     "iopub.status.idle": "2022-05-05T10:35:56.631518Z",
     "shell.execute_reply": "2022-05-05T10:35:56.630436Z"
    },
    "papermill": {
     "duration": 3.1528,
     "end_time": "2022-05-05T10:35:56.634275",
     "exception": false,
     "start_time": "2022-05-05T10:35:53.481475",
     "status": "completed"
    },
    "tags": []
   },
   "outputs": [],
   "source": [
    "import os\n",
    "import re\n",
    "import cv2\n",
    "import torch\n",
    "import random as r\n",
    "import numpy as np\n",
    "import pandas as pd\n",
    "import matplotlib.pyplot as plt\n",
    "import xml.etree.ElementTree as ET\n",
    "\n",
    "from time import time\n",
    "from torch import nn, optim\n",
    "from torch.utils.data import Dataset\n",
    "from torch.utils.data import DataLoader as DL\n",
    "from torchvision import models, transforms\n",
    "\n",
    "from sklearn.model_selection import StratifiedKFold"
   ]
  },
  {
   "cell_type": "markdown",
   "id": "2963c4dd",
   "metadata": {
    "papermill": {
     "duration": 0.017834,
     "end_time": "2022-05-05T10:35:56.673956",
     "exception": false,
     "start_time": "2022-05-05T10:35:56.656122",
     "status": "completed"
    },
    "tags": []
   },
   "source": [
    "### **Utilities and Constants**"
   ]
  },
  {
   "cell_type": "code",
   "execution_count": 3,
   "id": "5a9b5236",
   "metadata": {
    "execution": {
     "iopub.execute_input": "2022-05-05T10:35:56.711793Z",
     "iopub.status.busy": "2022-05-05T10:35:56.711509Z",
     "iopub.status.idle": "2022-05-05T10:35:56.843496Z",
     "shell.execute_reply": "2022-05-05T10:35:56.842482Z"
    },
    "papermill": {
     "duration": 0.153638,
     "end_time": "2022-05-05T10:35:56.845976",
     "exception": false,
     "start_time": "2022-05-05T10:35:56.692338",
     "status": "completed"
    },
    "tags": []
   },
   "outputs": [],
   "source": [
    "SEED = 42\n",
    "\n",
    "\n",
    "def breaker(num: int=50, char: str=\"*\") -> None:\n",
    "    print(\"\\n\" + num*char + \"\\n\")\n",
    "\n",
    "\n",
    "def get_images(path: str, filenames: list, size: int=224) -> np.ndarray:\n",
    "    images = np.zeros((len(filenames), size, size, 3), dtype=np.uint8)\n",
    "    \n",
    "    i = 0\n",
    "    for filename in filenames:\n",
    "        image = cv2.imread(os.path.join(path, filename), cv2.IMREAD_COLOR)\n",
    "        if image is not None:\n",
    "            images[i] = cv2.resize(src=cv2.cvtColor(src=image, code=cv2.COLOR_BGR2RGB), dsize=(size, size), interpolation=cv2.INTER_AREA)\n",
    "        else:\n",
    "            images[i] = images[i-1]\n",
    "        i += 1\n",
    "    \n",
    "    return images\n",
    "\n",
    "\n",
    "def get_labels_and_boxes(path: str, filenames: list):\n",
    "    labels: list = []\n",
    "    bboxes: list = []\n",
    "\n",
    "    for filename in filenames:\n",
    "        box: list = []\n",
    "        root = ET.parse(os.path.join(path, filename)).getroot()\n",
    "        if re.match(r\"^apple$\", root[6][0].text, re.IGNORECASE): labels.append(0)\n",
    "        if re.match(r\"^banana$\", root[6][0].text, re.IGNORECASE): labels.append(1)\n",
    "        if re.match(r\"^orange$\", root[6][0].text, re.IGNORECASE): labels.append(2)\n",
    "        w, h, c = int(root[4][0].text), int(root[4][1].text), int(root[4][2].text)\n",
    "        for i in range(4): \n",
    "            if w != 0 or h != 0:\n",
    "                if i == 0 or i == 2: box.append(int(root[6][4][i].text) / w)\n",
    "                else: box.append(int(root[6][4][i].text) / h)\n",
    "            else:\n",
    "                if i == 0 or i == 1: box.append(0)\n",
    "                else: box.append(1)\n",
    "\n",
    "        bboxes.append(box)\n",
    "    \n",
    "    return np.array(labels), np.array(bboxes)\n",
    "\n",
    "\n",
    "def show_graphs(L: list, A: list) -> None:\n",
    "    TL, VL, TA, VA = [], [], [], []\n",
    "    for i in range(len(L)):\n",
    "        TL.append(L[i][\"train\"])\n",
    "        VL.append(L[i][\"valid\"])\n",
    "        TA.append(A[i][\"train\"])\n",
    "        VA.append(A[i][\"valid\"])\n",
    "    x_Axis = np.arange(1, len(TL) + 1)\n",
    "    plt.figure(figsize=(8, 6))\n",
    "    plt.subplot(1, 2, 1)\n",
    "    plt.plot(x_Axis, TL, \"r\", label=\"Train\")\n",
    "    plt.plot(x_Axis, VL, \"b\", label=\"Valid\")\n",
    "    plt.legend()\n",
    "    plt.grid()\n",
    "    plt.title(\"Loss Graph\")\n",
    "    plt.subplot(1, 2, 2)\n",
    "    plt.plot(x_Axis, TA, \"r\", label=\"Train\")\n",
    "    plt.plot(x_Axis, VA, \"b\", label=\"Valid\")\n",
    "    plt.legend()\n",
    "    plt.grid()\n",
    "    plt.title(\"Accuracy Graph\")\n",
    "    plt.show()\n",
    "    \n",
    "\n",
    "# def show_regressor_graphs(L: list) -> None:\n",
    "#     TL, VL = [], []\n",
    "#     for i in range(len(L)):\n",
    "#         TL.append(L[i][\"train\"])\n",
    "#         VL.append(L[i][\"valid\"])\n",
    "#     x_Axis = np.arange(1, len(TL) + 1)\n",
    "#     plt.figure(figsize=(8, 6))\n",
    "#     plt.plot(x_Axis, TL, \"r\", label=\"Train\")\n",
    "#     plt.plot(x_Axis, VL, \"b\", label=\"Valid\")\n",
    "#     plt.legend()\n",
    "#     plt.grid()\n",
    "#     plt.title(\"Loss Graph\")\n",
    "#     plt.show()"
   ]
  },
  {
   "cell_type": "markdown",
   "id": "e328e803",
   "metadata": {
    "papermill": {
     "duration": 0.017646,
     "end_time": "2022-05-05T10:35:56.882308",
     "exception": false,
     "start_time": "2022-05-05T10:35:56.864662",
     "status": "completed"
    },
    "tags": []
   },
   "source": [
    "### **Configuration**"
   ]
  },
  {
   "cell_type": "code",
   "execution_count": 4,
   "id": "e5fea365",
   "metadata": {
    "execution": {
     "iopub.execute_input": "2022-05-05T10:35:56.919829Z",
     "iopub.status.busy": "2022-05-05T10:35:56.919541Z",
     "iopub.status.idle": "2022-05-05T10:35:56.990869Z",
     "shell.execute_reply": "2022-05-05T10:35:56.989832Z"
    },
    "papermill": {
     "duration": 0.092454,
     "end_time": "2022-05-05T10:35:56.992871",
     "exception": false,
     "start_time": "2022-05-05T10:35:56.900417",
     "status": "completed"
    },
    "tags": []
   },
   "outputs": [],
   "source": [
    "class CFG(object):\n",
    "    def __init__(self, \n",
    "                 seed: int = 42,\n",
    "                 in_channels: int = 3,\n",
    "                 size: int = 224,\n",
    "                 n_splits: int = 5,\n",
    "                 batch_size: int = 16,\n",
    "                 epochs: int = 25,\n",
    "                 early_stopping: int = 5,\n",
    "                 lr: float = 1e-4,\n",
    "                 wd: float = 0.0,\n",
    "                 max_lr: float = 1e-3,\n",
    "                 pct_start: float = 0.2,\n",
    "                 steps_per_epoch: int = 100,\n",
    "                 div_factor: int = 1e3, \n",
    "                 final_div_factor: float = 1e3,\n",
    "                 ):\n",
    "        \n",
    "        self.seed = seed\n",
    "        self.in_channels = in_channels\n",
    "        self.size = size\n",
    "        self.n_splits = n_splits\n",
    "        self.batch_size = batch_size\n",
    "        self.epochs = epochs\n",
    "        self.early_stopping = early_stopping\n",
    "        self.lr = lr\n",
    "        self.wd = wd\n",
    "        self.max_lr = max_lr\n",
    "        self.pct_start = pct_start\n",
    "        self.steps_per_epoch = steps_per_epoch\n",
    "        self.div_factor = div_factor\n",
    "        self.final_div_factor = final_div_factor\n",
    "        self.device = torch.device(\"cuda\" if torch.cuda.is_available() else \"cpu\")\n",
    "        self.transform = transforms.Compose([transforms.ToTensor(),\n",
    "                                transforms.Normalize([0.81346, 0.69145, 0.53863],\n",
    "                                                     [0.27417, 0.32166, 0.40489]),\n",
    "                                ])\n",
    "        self.train_path = \"../input/fruit-images-for-object-detection/train_zip/train\"\n",
    "        self.test_path = \"../input/fruit-images-for-object-detection/test_zip/test\"\n",
    "        self.save_path = \"saves\"\n",
    "        if not os.path.exists(self.save_path): os.makedirs(self.save_path)\n",
    "    \n",
    "cfg = CFG(seed=SEED, size=224)"
   ]
  },
  {
   "cell_type": "markdown",
   "id": "958f02ed",
   "metadata": {
    "papermill": {
     "duration": 0.017321,
     "end_time": "2022-05-05T10:35:57.027810",
     "exception": false,
     "start_time": "2022-05-05T10:35:57.010489",
     "status": "completed"
    },
    "tags": []
   },
   "source": [
    "### **Dataset Template**"
   ]
  },
  {
   "cell_type": "code",
   "execution_count": 5,
   "id": "53a0ab5e",
   "metadata": {
    "execution": {
     "iopub.execute_input": "2022-05-05T10:35:57.066858Z",
     "iopub.status.busy": "2022-05-05T10:35:57.066579Z",
     "iopub.status.idle": "2022-05-05T10:35:57.073826Z",
     "shell.execute_reply": "2022-05-05T10:35:57.072799Z"
    },
    "papermill": {
     "duration": 0.028202,
     "end_time": "2022-05-05T10:35:57.075983",
     "exception": false,
     "start_time": "2022-05-05T10:35:57.047781",
     "status": "completed"
    },
    "tags": []
   },
   "outputs": [],
   "source": [
    "class DS(Dataset):\n",
    "    def __init__(self, images: np.ndarray, labels: np.ndarray, bboxes: np.ndarray, transform=None):\n",
    "        self.transform = transform\n",
    "        self.images = images\n",
    "        self.labels = labels\n",
    "        self.bboxes = bboxes\n",
    "    \n",
    "    def __len__(self):\n",
    "        return self.images.shape[0]\n",
    "\n",
    "    def __getitem__(self, idx):\n",
    "        return self.transform(self.images[idx]), \\\n",
    "               torch.LongTensor(self.labels[idx]), \\\n",
    "               torch.FloatTensor(self.bboxes[idx])"
   ]
  },
  {
   "cell_type": "markdown",
   "id": "adf661a4",
   "metadata": {
    "papermill": {
     "duration": 0.017538,
     "end_time": "2022-05-05T10:35:57.111730",
     "exception": false,
     "start_time": "2022-05-05T10:35:57.094192",
     "status": "completed"
    },
    "tags": []
   },
   "source": [
    "### **Model**"
   ]
  },
  {
   "cell_type": "code",
   "execution_count": 6,
   "id": "d9c1884a",
   "metadata": {
    "execution": {
     "iopub.execute_input": "2022-05-05T10:35:57.148201Z",
     "iopub.status.busy": "2022-05-05T10:35:57.147512Z",
     "iopub.status.idle": "2022-05-05T10:35:57.156645Z",
     "shell.execute_reply": "2022-05-05T10:35:57.155548Z"
    },
    "papermill": {
     "duration": 0.029653,
     "end_time": "2022-05-05T10:35:57.158939",
     "exception": false,
     "start_time": "2022-05-05T10:35:57.129286",
     "status": "completed"
    },
    "tags": []
   },
   "outputs": [],
   "source": [
    "class Model(nn.Module):\n",
    "    def __init__(self, in_channels: int = 3):\n",
    "        super(Model, self).__init__()\n",
    "\n",
    "        self.features = models.resnet50(pretrained=True, progress=True)\n",
    "        self.freeze()\n",
    "        self.features = nn.Sequential(*[*self.features.children()][:-1])\n",
    "        \n",
    "        self.classifier = nn.Linear(in_features=self.features[-2][-1].bn3.num_features, out_features=3)\n",
    "        self.regressor = nn.Linear(in_features=self.features[-2][-1].bn3.num_features, out_features=4)\n",
    "    \n",
    "    def freeze(self):\n",
    "        for params in self.parameters(): params.requires_grad = False\n",
    "    \n",
    "    def forward(self, x):\n",
    "        x = nn.Flatten()(self.features(x))\n",
    "        \n",
    "        cls_op = nn.LogSoftmax(dim=1)(self.classifier(x))\n",
    "        reg_op = self.regressor(x)\n",
    "        \n",
    "        return cls_op, reg_op"
   ]
  },
  {
   "cell_type": "markdown",
   "id": "b31c7208",
   "metadata": {
    "papermill": {
     "duration": 0.017237,
     "end_time": "2022-05-05T10:35:57.194029",
     "exception": false,
     "start_time": "2022-05-05T10:35:57.176792",
     "status": "completed"
    },
    "tags": []
   },
   "source": [
    "### **Fit and Predict Helper**"
   ]
  },
  {
   "cell_type": "code",
   "execution_count": 7,
   "id": "447f51b1",
   "metadata": {
    "execution": {
     "iopub.execute_input": "2022-05-05T10:35:57.231027Z",
     "iopub.status.busy": "2022-05-05T10:35:57.230795Z",
     "iopub.status.idle": "2022-05-05T10:35:57.257924Z",
     "shell.execute_reply": "2022-05-05T10:35:57.256943Z"
    },
    "papermill": {
     "duration": 0.048061,
     "end_time": "2022-05-05T10:35:57.259996",
     "exception": false,
     "start_time": "2022-05-05T10:35:57.211935",
     "status": "completed"
    },
    "tags": []
   },
   "outputs": [],
   "source": [
    "def fit(model=None, \n",
    "        optimizer=None,\n",
    "        scheduler_rlrop=None,\n",
    "        scheduler_oclr=None, \n",
    "        epochs=None, \n",
    "        early_stopping_patience=None, \n",
    "        dataloaders=None, \n",
    "        fold=None, \n",
    "        device=None,\n",
    "        save_path=None,\n",
    "        verbose=False) -> tuple:\n",
    "\n",
    "    def get_accuracy(y_pred, y_true):\n",
    "        y_pred = torch.argmax(y_pred, dim=1)\n",
    "        return torch.count_nonzero(y_pred == y_true).item() / len(y_pred)\n",
    "    \n",
    "    if verbose:\n",
    "        breaker()\n",
    "        if fold: print(f\"Training Fold {fold}...\")\n",
    "        else: print(\"Training ...\")\n",
    "        breaker()\n",
    "        \n",
    "    bestLoss = {\"train\" : np.inf, \"valid\" : np.inf}\n",
    "    bestAccs = {\"train\" : 0.0, \"valid\" : 0.0}\n",
    "    \n",
    "    Losses, Accuracies, LRs = [], [], []\n",
    "    \n",
    "    if fold: name = f\"state_fold_{fold}.pt\"\n",
    "    else: name = \"state.pt\"\n",
    "\n",
    "    start_time = time()\n",
    "    for e in range(epochs):\n",
    "        e_st = time()\n",
    "        epochLoss = {\"train\" : 0.0, \"valid\" : 0.0}\n",
    "        epochAccs = {\"train\" : 0.0, \"valid\" : 0.0}\n",
    "\n",
    "        for phase in [\"train\", \"valid\"]:\n",
    "            if phase == \"train\":\n",
    "                model.train()\n",
    "            else:\n",
    "                model.eval()\n",
    "    \n",
    "            lossPerPass = []\n",
    "            accsPerPass = []\n",
    "\n",
    "            for images, labels, bboxes in dataloaders[phase]:\n",
    "                images, labels, bboxes = images.to(device), labels.to(device).view(-1), bboxes.to(device)\n",
    "\n",
    "                optimizer.zero_grad()\n",
    "                with torch.set_grad_enabled(phase == \"train\"):\n",
    "                    op_CLS, op_REG = model(images)\n",
    "                    loss = torch.nn.NLLLoss()(op_CLS, labels) + torch.nn.MSELoss()(op_REG, bboxes)\n",
    "                    if phase == \"train\":\n",
    "                        loss.backward()\n",
    "                        optimizer.step()\n",
    "                        if scheduler_oclr: scheduler_oclr.step()\n",
    "                lossPerPass.append(loss.item())\n",
    "                accsPerPass.append(get_accuracy(op_CLS, labels))\n",
    "            epochLoss[phase] = np.mean(np.array(lossPerPass))\n",
    "            epochAccs[phase] = np.mean(np.array(accsPerPass))\n",
    "        Losses.append(epochLoss)\n",
    "        Accuracies.append(epochAccs)\n",
    "        \n",
    "        if scheduler_oclr:\n",
    "            save_dict = {\"model_state_dict\"     : model.state_dict(),\n",
    "                         \"optim_state_dict\"     : optimizer.state_dict(),\n",
    "                         \"scheduler_state_dict\" : scheduler_oclr.state_dict()}\n",
    "        \n",
    "        elif scheduler_rlrop:\n",
    "            save_dict = {\"model_state_dict\"     : model.state_dict(),\n",
    "                         \"optim_state_dict\"     : optimizer.state_dict(),\n",
    "                         \"scheduler_state_dict\" : scheduler_rlrop.state_dict()}\n",
    "        \n",
    "        else:\n",
    "            save_dict = {\"model_state_dict\"     : model.state_dict(),\n",
    "                         \"optim_state_dict\"     : optimizer.state_dict()}\n",
    "        \n",
    "        if early_stopping_patience:\n",
    "            if epochLoss[\"valid\"] < bestLoss[\"valid\"]:\n",
    "                bestLoss = epochLoss\n",
    "                BLE = e + 1\n",
    "                torch.save(save_dict, os.path.join(save_path, name))\n",
    "                early_stopping_step = 0\n",
    "            else:\n",
    "                early_stopping_step += 1\n",
    "                if early_stopping_step > early_stopping_patience:\n",
    "                    print(\"\\nEarly Stopping at Epoch {}\".format(e + 1))\n",
    "                    break\n",
    "        \n",
    "        if epochLoss[\"valid\"] < bestLoss[\"valid\"]:\n",
    "            bestLoss = epochLoss\n",
    "            BLE = e + 1\n",
    "            torch.save(save_dict, os.path.join(save_path, name))\n",
    "        \n",
    "        if epochAccs[\"valid\"] > bestAccs[\"valid\"]:\n",
    "            bestAccs = epochAccs\n",
    "            BAE = e + 1\n",
    "            # torch.save(save_dict, os.path.join(save_path, name))\n",
    "        \n",
    "        if scheduler_rlrop: scheduler_rlrop.step(epochLoss[\"valid\"])\n",
    "        \n",
    "        if verbose:\n",
    "            print(\"Epoch: {} | Train Loss: {:.5f} | Valid Loss: {:.5f} |\\\n",
    " Train Accs: {:.5f} | Valid Accs: {:.5f} | Time: {:.2f} seconds\".format(e+1, \n",
    "                                                                       epochLoss[\"train\"], epochLoss[\"valid\"], \n",
    "                                                                       epochAccs[\"train\"], epochAccs[\"valid\"], \n",
    "                                                                       time()-e_st))\n",
    "\n",
    "    if verbose:                                           \n",
    "        breaker()\n",
    "        print(f\"Best Validation Loss at Epoch {BLE}\")\n",
    "        breaker()\n",
    "        print(\"Time Taken [{} Epochs] : {:.2f} minutes\".format(len(Losses), (time()-start_time)/60))\n",
    "    \n",
    "    return Losses, Accuracies, LRs, BLE, BAE, name\n",
    "\n",
    "\n",
    "# def predict_batch(model=None, dataloader=None, device=None, in_channels=None, size=None, path=None) -> np.ndarray:\n",
    "#     model.load_state_dict(torch.load(path, map_location=device)[\"model_state_dict\"])\n",
    "#     model.to(device)    \n",
    "#     model.eval()\n",
    "    \n",
    "#     y_pred = torch.zeros(1, in_channels, size, size).to(device)\n",
    "    \n",
    "#     for X in dataloader:\n",
    "#         X = X.to(device)\n",
    "#         with torch.no_grad():\n",
    "#             output = torch.sigmoid(model(X))\n",
    "#         y_pred = torch.cat((y_pred, output), dim=0)\n",
    "    \n",
    "#     return y_pred[1:].detach().cpu().numpy()\n",
    "\n",
    "\n",
    "# def predict(model=None, device=None, image=None, size=None, path=None) -> np.ndarray:\n",
    "#     model.load_state_dict(torch.load(path, map_location=device)[\"model_state_dict\"])\n",
    "#     model.to(device)    \n",
    "#     model.eval()\n",
    "    \n",
    "#     h, w, _ = image.shape\n",
    "#     temp_image = cv2.resize(src=image, dsize=(size, size), interpolation=cv2.INTER_AREA)\n",
    "\n",
    "#     with torch.no_grad(): _, decoded = model(transforms.ToTensor()(temp_image).unsqueeze(dim=0).to(cfg.device))\n",
    "        \n",
    "#     decoded_image = np.clip(decoded.squeeze().detach().cpu().numpy().transpose(1, 2, 0)*255, 0, 255).astype(\"uint8\")\n",
    "#     return cv2.resize(src=decoded_image, dsize=(w, h), interpolation=cv2.INTER_AREA)"
   ]
  },
  {
   "cell_type": "markdown",
   "id": "61ff80fd",
   "metadata": {
    "papermill": {
     "duration": 0.017925,
     "end_time": "2022-05-05T10:35:57.295916",
     "exception": false,
     "start_time": "2022-05-05T10:35:57.277991",
     "status": "completed"
    },
    "tags": []
   },
   "source": [
    "### **Train**"
   ]
  },
  {
   "cell_type": "code",
   "execution_count": 8,
   "id": "8d57c69a",
   "metadata": {
    "execution": {
     "iopub.execute_input": "2022-05-05T10:35:57.333156Z",
     "iopub.status.busy": "2022-05-05T10:35:57.332376Z",
     "iopub.status.idle": "2022-05-05T10:36:05.171154Z",
     "shell.execute_reply": "2022-05-05T10:36:05.170082Z"
    },
    "papermill": {
     "duration": 7.861369,
     "end_time": "2022-05-05T10:36:05.174830",
     "exception": false,
     "start_time": "2022-05-05T10:35:57.313461",
     "status": "completed"
    },
    "tags": []
   },
   "outputs": [],
   "source": [
    "train_image_files = [filename for filename in os.listdir(cfg.train_path) if filename[-3:] == \"jpg\" or filename[-3:] == \"png\"]\n",
    "train_xml_files   = [filename for filename in os.listdir(cfg.train_path) if filename[-3:] == \"xml\"]\n",
    "\n",
    "labels, bboxes = get_labels_and_boxes(cfg.train_path, train_xml_files)\n",
    "images = get_images(cfg.train_path, train_image_files)"
   ]
  },
  {
   "cell_type": "code",
   "execution_count": 9,
   "id": "40c7549f",
   "metadata": {
    "execution": {
     "iopub.execute_input": "2022-05-05T10:36:05.275063Z",
     "iopub.status.busy": "2022-05-05T10:36:05.274773Z",
     "iopub.status.idle": "2022-05-05T10:36:25.731016Z",
     "shell.execute_reply": "2022-05-05T10:36:25.729546Z"
    },
    "papermill": {
     "duration": 20.489358,
     "end_time": "2022-05-05T10:36:25.733224",
     "exception": false,
     "start_time": "2022-05-05T10:36:05.243866",
     "status": "completed"
    },
    "tags": []
   },
   "outputs": [
    {
     "name": "stderr",
     "output_type": "stream",
     "text": [
      "Downloading: \"https://download.pytorch.org/models/resnet50-0676ba61.pth\" to /root/.cache/torch/hub/checkpoints/resnet50-0676ba61.pth\n"
     ]
    },
    {
     "data": {
      "application/vnd.jupyter.widget-view+json": {
       "model_id": "b07d307bc41242c0ac45b89c88019f53",
       "version_major": 2,
       "version_minor": 0
      },
      "text/plain": [
       "  0%|          | 0.00/97.8M [00:00<?, ?B/s]"
      ]
     },
     "metadata": {},
     "output_type": "display_data"
    },
    {
     "name": "stdout",
     "output_type": "stream",
     "text": [
      "\n",
      "**************************************************\n",
      "\n",
      "Training ...\n",
      "\n",
      "**************************************************\n",
      "\n",
      "Epoch: 1 | Train Loss: 1.46152 | Valid Loss: 1.20741 | Train Accs: 0.35938 | Valid Accs: 0.39583 | Time: 7.01 seconds\n",
      "Epoch: 2 | Train Loss: 1.18027 | Valid Loss: 1.21679 | Train Accs: 0.40625 | Valid Accs: 0.35417 | Time: 0.61 seconds\n",
      "Epoch: 3 | Train Loss: 1.15465 | Valid Loss: 1.18206 | Train Accs: 0.45312 | Valid Accs: 0.33333 | Time: 0.84 seconds\n",
      "Epoch: 4 | Train Loss: 1.13006 | Valid Loss: 1.18471 | Train Accs: 0.44271 | Valid Accs: 0.33333 | Time: 0.58 seconds\n",
      "Epoch: 5 | Train Loss: 1.11166 | Valid Loss: 1.17869 | Train Accs: 0.48438 | Valid Accs: 0.35417 | Time: 0.84 seconds\n",
      "Epoch: 6 | Train Loss: 1.09745 | Valid Loss: 1.17649 | Train Accs: 0.44271 | Valid Accs: 0.33333 | Time: 0.85 seconds\n",
      "Epoch: 7 | Train Loss: 1.09657 | Valid Loss: 1.17532 | Train Accs: 0.49479 | Valid Accs: 0.29167 | Time: 0.85 seconds\n",
      "Epoch: 8 | Train Loss: 1.06762 | Valid Loss: 1.17629 | Train Accs: 0.53646 | Valid Accs: 0.31250 | Time: 0.59 seconds\n",
      "Epoch: 9 | Train Loss: 1.06888 | Valid Loss: 1.17567 | Train Accs: 0.52604 | Valid Accs: 0.33333 | Time: 0.59 seconds\n",
      "Epoch: 10 | Train Loss: 1.05512 | Valid Loss: 1.17790 | Train Accs: 0.57812 | Valid Accs: 0.29167 | Time: 0.61 seconds\n",
      "Epoch: 11 | Train Loss: 1.04101 | Valid Loss: 1.17780 | Train Accs: 0.54688 | Valid Accs: 0.31250 | Time: 0.60 seconds\n",
      "Epoch: 12 | Train Loss: 1.04922 | Valid Loss: 1.18083 | Train Accs: 0.54167 | Valid Accs: 0.35417 | Time: 0.58 seconds\n",
      "\n",
      "Early Stopping at Epoch 13\n",
      "\n",
      "**************************************************\n",
      "\n",
      "Best Validation Loss at Epoch 7\n",
      "\n",
      "**************************************************\n",
      "\n",
      "Time Taken [13 Epochs] : 0.25 minutes\n",
      "\n",
      "**************************************************\n",
      "\n"
     ]
    },
    {
     "data": {
      "image/png": "[encoded data removed]",
      "text/plain": [
       "<Figure size 576x432 with 2 Axes>"
      ]
     },
     "metadata": {
      "needs_background": "light"
     },
     "output_type": "display_data"
    },
    {
     "name": "stdout",
     "output_type": "stream",
     "text": [
      "\n",
      "**************************************************\n",
      "\n"
     ]
    },
    {
     "data": {
      "image/png": "[encoded data removed]",
      "text/plain": [
       "<Figure size 576x432 with 1 Axes>"
      ]
     },
     "metadata": {
      "needs_background": "light"
     },
     "output_type": "display_data"
    },
    {
     "name": "stdout",
     "output_type": "stream",
     "text": [
      "\n",
      "**************************************************\n",
      "\n"
     ]
    }
   ],
   "source": [
    "for tr_idx, va_idx in StratifiedKFold(n_splits=cfg.n_splits, random_state=cfg.seed, shuffle=True).split(images, labels):\n",
    "    break\n",
    "\n",
    "tr_images, va_images, tr_labels, va_labels, tr_bboxes, va_bboxes = images[tr_idx], images[va_idx], \\\n",
    "                                                                   labels[tr_idx], labels[va_idx], \\\n",
    "                                                                   bboxes[tr_idx], bboxes[va_idx]\n",
    "\n",
    "tr_data_setup = DS(tr_images, tr_labels.reshape(-1, 1), tr_bboxes, cfg.transform)\n",
    "va_data_setup = DS(va_images, va_labels.reshape(-1, 1), va_bboxes, cfg.transform)\n",
    "\n",
    "dataloaders = {\n",
    "    \"train\" : DL(tr_data_setup, batch_size=cfg.batch_size, shuffle=True, generator=torch.manual_seed(cfg.seed)),\n",
    "    \"valid\" : DL(va_data_setup, batch_size=cfg.batch_size, shuffle=False),\n",
    "}\n",
    "\n",
    "cfg = CFG(seed=SEED, size=224, epochs=100, batch_size=64, early_stopping=5, lr=1e-4, wd=1e-5, steps_per_epoch=len(dataloaders[\"train\"]))\n",
    "\n",
    "torch.manual_seed(cfg.seed)\n",
    "model = Model().to(cfg.device)\n",
    "\n",
    "# for names, params in model.named_parameters():\n",
    "#     if params.requires_grad:\n",
    "#         print(names)\n",
    "\n",
    "optimizer = optim.Adam([p for p in model.parameters() if p.requires_grad], lr=cfg.lr, weight_decay=cfg.wd)\n",
    "\n",
    "# scheduler_oclr = optim.lr_scheduler.OneCycleLR(optimizer=optimizer, \n",
    "#                                                max_lr=cfg.max_lr, \n",
    "#                                                epochs=cfg.epochs, \n",
    "#                                                steps_per_epoch=cfg.steps_per_epoch,\n",
    "#                                                pct_start=cfg.pct_start, \n",
    "#                                                div_factor=cfg.div_factor, \n",
    "#                                                final_div_factor=cfg.final_div_factor)\n",
    "# scheduler_rlrop = optim.lr_scheduler.ReduceLROnPlateau(optimizer=optimizer,\n",
    "#                                                        patience=cfg.patience,\n",
    "#                                                        eps=cfg.eps,\n",
    "#                                                        verbose=True)\n",
    "\n",
    "scheduler_oclr = None\n",
    "scheduler_rlrop = None\n",
    "\n",
    "L, A, LRs, BLE, BAE, name = fit(model=model, \n",
    "                                optimizer=optimizer, \n",
    "                                scheduler_oclr=scheduler_oclr, \n",
    "                                scheduler_rlrop=scheduler_rlrop, \n",
    "                                epochs=cfg.epochs, \n",
    "                                early_stopping_patience=cfg.early_stopping, \n",
    "                                dataloaders=dataloaders, \n",
    "                                device=cfg.device,\n",
    "                                save_path=cfg.save_path,\n",
    "                                verbose=True)\n",
    "\n",
    "breaker()\n",
    "show_graphs(L, A)\n",
    "breaker()\n",
    "x_Axis = [i+1 for i in range(len(LRs))]\n",
    "plt.figure(figsize=(8, 6))\n",
    "plt.plot(x_Axis, LRs, \"rx\")\n",
    "plt.grid()\n",
    "plt.show()\n",
    "breaker()"
   ]
  },
  {
   "cell_type": "markdown",
   "id": "65a08229",
   "metadata": {
    "papermill": {
     "duration": 0.027414,
     "end_time": "2022-05-05T10:36:25.789253",
     "exception": false,
     "start_time": "2022-05-05T10:36:25.761839",
     "status": "completed"
    },
    "tags": []
   },
   "source": [
    "### **Test**"
   ]
  },
  {
   "cell_type": "code",
   "execution_count": 10,
   "id": "4383ebda",
   "metadata": {
    "execution": {
     "iopub.execute_input": "2022-05-05T10:36:25.845975Z",
     "iopub.status.busy": "2022-05-05T10:36:25.845067Z",
     "iopub.status.idle": "2022-05-05T10:36:25.911578Z",
     "shell.execute_reply": "2022-05-05T10:36:25.910645Z"
    },
    "papermill": {
     "duration": 0.09725,
     "end_time": "2022-05-05T10:36:25.914046",
     "exception": false,
     "start_time": "2022-05-05T10:36:25.816796",
     "status": "completed"
    },
    "tags": []
   },
   "outputs": [],
   "source": [
    "test_image_files = [filename for filename in os.listdir(cfg.test_path) if filename[-3:] == \"jpg\" or filename[-3:] == \"png\"]\n",
    "test_xml_files   = [filename for filename in os.listdir(cfg.test_path) if filename[-3:] == \"xml\"]"
   ]
  },
  {
   "cell_type": "code",
   "execution_count": null,
   "id": "266d2da7",
   "metadata": {
    "papermill": {
     "duration": 0.043894,
     "end_time": "2022-05-05T10:36:25.986715",
     "exception": false,
     "start_time": "2022-05-05T10:36:25.942821",
     "status": "completed"
    },
    "tags": []
   },
   "outputs": [],
   "source": []
  }
 ],
 "metadata": {
  "kernelspec": {
   "display_name": "Python 3",
   "language": "python",
   "name": "python3"
  },
  "language_info": {
   "codemirror_mode": {
    "name": "ipython",
    "version": 3
   },
   "file_extension": ".py",
   "mimetype": "text/x-python",
   "name": "python",
   "nbconvert_exporter": "python",
   "pygments_lexer": "ipython3",
   "version": "3.7.12"
  },
  "papermill": {
   "default_parameters": {},
   "duration": 44.614043,
   "end_time": "2022-05-05T10:36:28.500413",
   "environment_variables": {},
   "exception": null,
   "input_path": "__notebook__.ipynb",
   "output_path": "__notebook__.ipynb",
   "parameters": {},
   "start_time": "2022-05-05T10:35:43.886370",
   "version": "2.3.4"
  },
  "widgets": {
   "application/vnd.jupyter.widget-state+json": {
    "state": {
     "14e59555772841b39c94fc01a1577163": {
      "model_module": "@jupyter-widgets/controls",
      "model_module_version": "1.5.0",
      "model_name": "FloatProgressModel",
      "state": {
       "_dom_classes": [],
       "_model_module": "@jupyter-widgets/controls",
       "_model_module_version": "1.5.0",
       "_model_name": "FloatProgressModel",
       "_view_count": null,
       "_view_module": "@jupyter-widgets/controls",
       "_view_module_version": "1.5.0",
       "_view_name": "ProgressView",
       "bar_style": "success",
       "description": "",
       "description_tooltip": null,
       "layout": "IPY_MODEL_9e6fe37a62884ea9b5b922e70d84c1da",
       "max": 102530333.0,
       "min": 0.0,
       "orientation": "horizontal",
       "style": "IPY_MODEL_cb3becd1e3ba43eba903004380b66a9e",
       "value": 102530333.0
      }
     },
     "16ef15259c78406db78a7977ffed61f9": {
      "model_module": "@jupyter-widgets/controls",
      "model_module_version": "1.5.0",
      "model_name": "HTMLModel",
      "state": {
       "_dom_classes": [],
       "_model_module": "@jupyter-widgets/controls",
       "_model_module_version": "1.5.0",
       "_model_name": "HTMLModel",
       "_view_count": null,
       "_view_module": "@jupyter-widgets/controls",
       "_view_module_version": "1.5.0",
       "_view_name": "HTMLView",
       "description": "",
       "description_tooltip": null,
       "layout": "IPY_MODEL_ba868c515eef41199e858a57fb6aac0d",
       "placeholder": "​",
       "style": "IPY_MODEL_996d029274d347f597a9b4547f18a575",
       "value": " 97.8M/97.8M [00:00&lt;00:00, 153MB/s]"
      }
     },
     "47e3386bfc4d42d9acc6ee52b03c4bd7": {
      "model_module": "@jupyter-widgets/controls",
      "model_module_version": "1.5.0",
      "model_name": "HTMLModel",
      "state": {
       "_dom_classes": [],
       "_model_module": "@jupyter-widgets/controls",
       "_model_module_version": "1.5.0",
       "_model_name": "HTMLModel",
       "_view_count": null,
       "_view_module": "@jupyter-widgets/controls",
       "_view_module_version": "1.5.0",
       "_view_name": "HTMLView",
       "description": "",
       "description_tooltip": null,
       "layout": "IPY_MODEL_c0908a7383674e969f71064762596d18",
       "placeholder": "​",
       "style": "IPY_MODEL_83f4d509a5b8420cb8582b35290a73d6",
       "value": "100%"
      }
     },
     "5ab6cafaa844444db04927ff29ac431c": {
      "model_module": "@jupyter-widgets/base",
      "model_module_version": "1.2.0",
      "model_name": "LayoutModel",
      "state": {
       "_model_module": "@jupyter-widgets/base",
       "_model_module_version": "1.2.0",
       "_model_name": "LayoutModel",
       "_view_count": null,
       "_view_module": "@jupyter-widgets/base",
       "_view_module_version": "1.2.0",
       "_view_name": "LayoutView",
       "align_content": null,
       "align_items": null,
       "align_self": null,
       "border": null,
       "bottom": null,
       "display": null,
       "flex": null,
       "flex_flow": null,
       "grid_area": null,
       "grid_auto_columns": null,
       "grid_auto_flow": null,
       "grid_auto_rows": null,
       "grid_column": null,
       "grid_gap": null,
       "grid_row": null,
       "grid_template_areas": null,
       "grid_template_columns": null,
       "grid_template_rows": null,
       "height": null,
       "justify_content": null,
       "justify_items": null,
       "left": null,
       "margin": null,
       "max_height": null,
       "max_width": null,
       "min_height": null,
       "min_width": null,
       "object_fit": null,
       "object_position": null,
       "order": null,
       "overflow": null,
       "overflow_x": null,
       "overflow_y": null,
       "padding": null,
       "right": null,
       "top": null,
       "visibility": null,
       "width": null
      }
     },
     "83f4d509a5b8420cb8582b35290a73d6": {
      "model_module": "@jupyter-widgets/controls",
      "model_module_version": "1.5.0",
      "model_name": "DescriptionStyleModel",
      "state": {
       "_model_module": "@jupyter-widgets/controls",
       "_model_module_version": "1.5.0",
       "_model_name": "DescriptionStyleModel",
       "_view_count": null,
       "_view_module": "@jupyter-widgets/base",
       "_view_module_version": "1.2.0",
       "_view_name": "StyleView",
       "description_width": ""
      }
     },
     "996d029274d347f597a9b4547f18a575": {
      "model_module": "@jupyter-widgets/controls",
      "model_module_version": "1.5.0",
      "model_name": "DescriptionStyleModel",
      "state": {
       "_model_module": "@jupyter-widgets/controls",
       "_model_module_version": "1.5.0",
       "_model_name": "DescriptionStyleModel",
       "_view_count": null,
       "_view_module": "@jupyter-widgets/base",
       "_view_module_version": "1.2.0",
       "_view_name": "StyleView",
       "description_width": ""
      }
     },
     "9e6fe37a62884ea9b5b922e70d84c1da": {
      "model_module": "@jupyter-widgets/base",
      "model_module_version": "1.2.0",
      "model_name": "LayoutModel",
      "state": {
       "_model_module": "@jupyter-widgets/base",
       "_model_module_version": "1.2.0",
       "_model_name": "LayoutModel",
       "_view_count": null,
       "_view_module": "@jupyter-widgets/base",
       "_view_module_version": "1.2.0",
       "_view_name": "LayoutView",
       "align_content": null,
       "align_items": null,
       "align_self": null,
       "border": null,
       "bottom": null,
       "display": null,
       "flex": null,
       "flex_flow": null,
       "grid_area": null,
       "grid_auto_columns": null,
       "grid_auto_flow": null,
       "grid_auto_rows": null,
       "grid_column": null,
       "grid_gap": null,
       "grid_row": null,
       "grid_template_areas": null,
       "grid_template_columns": null,
       "grid_template_rows": null,
       "height": null,
       "justify_content": null,
       "justify_items": null,
       "left": null,
       "margin": null,
       "max_height": null,
       "max_width": null,
       "min_height": null,
       "min_width": null,
       "object_fit": null,
       "object_position": null,
       "order": null,
       "overflow": null,
       "overflow_x": null,
       "overflow_y": null,
       "padding": null,
       "right": null,
       "top": null,
       "visibility": null,
       "width": null
      }
     },
     "b07d307bc41242c0ac45b89c88019f53": {
      "model_module": "@jupyter-widgets/controls",
      "model_module_version": "1.5.0",
      "model_name": "HBoxModel",
      "state": {
       "_dom_classes": [],
       "_model_module": "@jupyter-widgets/controls",
       "_model_module_version": "1.5.0",
       "_model_name": "HBoxModel",
       "_view_count": null,
       "_view_module": "@jupyter-widgets/controls",
       "_view_module_version": "1.5.0",
       "_view_name": "HBoxView",
       "box_style": "",
       "children": [
        "IPY_MODEL_47e3386bfc4d42d9acc6ee52b03c4bd7",
        "IPY_MODEL_14e59555772841b39c94fc01a1577163",
        "IPY_MODEL_16ef15259c78406db78a7977ffed61f9"
       ],
       "layout": "IPY_MODEL_5ab6cafaa844444db04927ff29ac431c"
      }
     },
     "ba868c515eef41199e858a57fb6aac0d": {
      "model_module": "@jupyter-widgets/base",
      "model_module_version": "1.2.0",
      "model_name": "LayoutModel",
      "state": {
       "_model_module": "@jupyter-widgets/base",
       "_model_module_version": "1.2.0",
       "_model_name": "LayoutModel",
       "_view_count": null,
       "_view_module": "@jupyter-widgets/base",
       "_view_module_version": "1.2.0",
       "_view_name": "LayoutView",
       "align_content": null,
       "align_items": null,
       "align_self": null,
       "border": null,
       "bottom": null,
       "display": null,
       "flex": null,
       "flex_flow": null,
       "grid_area": null,
       "grid_auto_columns": null,
       "grid_auto_flow": null,
       "grid_auto_rows": null,
       "grid_column": null,
       "grid_gap": null,
       "grid_row": null,
       "grid_template_areas": null,
       "grid_template_columns": null,
       "grid_template_rows": null,
       "height": null,
       "justify_content": null,
       "justify_items": null,
       "left": null,
       "margin": null,
       "max_height": null,
       "max_width": null,
       "min_height": null,
       "min_width": null,
       "object_fit": null,
       "object_position": null,
       "order": null,
       "overflow": null,
       "overflow_x": null,
       "overflow_y": null,
       "padding": null,
       "right": null,
       "top": null,
       "visibility": null,
       "width": null
      }
     },
     "c0908a7383674e969f71064762596d18": {
      "model_module": "@jupyter-widgets/base",
      "model_module_version": "1.2.0",
      "model_name": "LayoutModel",
      "state": {
       "_model_module": "@jupyter-widgets/base",
       "_model_module_version": "1.2.0",
       "_model_name": "LayoutModel",
       "_view_count": null,
       "_view_module": "@jupyter-widgets/base",
       "_view_module_version": "1.2.0",
       "_view_name": "LayoutView",
       "align_content": null,
       "align_items": null,
       "align_self": null,
       "border": null,
       "bottom": null,
       "display": null,
       "flex": null,
       "flex_flow": null,
       "grid_area": null,
       "grid_auto_columns": null,
       "grid_auto_flow": null,
       "grid_auto_rows": null,
       "grid_column": null,
       "grid_gap": null,
       "grid_row": null,
       "grid_template_areas": null,
       "grid_template_columns": null,
       "grid_template_rows": null,
       "height": null,
       "justify_content": null,
       "justify_items": null,
       "left": null,
       "margin": null,
       "max_height": null,
       "max_width": null,
       "min_height": null,
       "min_width": null,
       "object_fit": null,
       "object_position": null,
       "order": null,
       "overflow": null,
       "overflow_x": null,
       "overflow_y": null,
       "padding": null,
       "right": null,
       "top": null,
       "visibility": null,
       "width": null
      }
     },
     "cb3becd1e3ba43eba903004380b66a9e": {
      "model_module": "@jupyter-widgets/controls",
      "model_module_version": "1.5.0",
      "model_name": "ProgressStyleModel",
      "state": {
       "_model_module": "@jupyter-widgets/controls",
       "_model_module_version": "1.5.0",
       "_model_name": "ProgressStyleModel",
       "_view_count": null,
       "_view_module": "@jupyter-widgets/base",
       "_view_module_version": "1.2.0",
       "_view_name": "StyleView",
       "bar_color": null,
       "description_width": ""
      }
     }
    },
    "version_major": 2,
    "version_minor": 0
   }
  }
 },
 "nbformat": 4,
 "nbformat_minor": 5
}
