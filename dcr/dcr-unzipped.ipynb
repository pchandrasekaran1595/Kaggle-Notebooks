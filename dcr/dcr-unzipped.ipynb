{
 "cells": [
  {
   "cell_type": "code",
   "execution_count": 1,
   "id": "2b97e11c",
   "metadata": {
    "_cell_guid": "b1076dfc-b9ad-4769-8c92-a6c4dae69d19",
    "_uuid": "8f2839f25d086af736a60e9eeb907d3b93b6e0e5",
    "execution": {
     "iopub.execute_input": "2022-11-27T07:08:52.917458Z",
     "iopub.status.busy": "2022-11-27T07:08:52.917017Z",
     "iopub.status.idle": "2022-11-27T07:08:52.926797Z",
     "shell.execute_reply": "2022-11-27T07:08:52.925570Z"
    },
    "papermill": {
     "duration": 0.017279,
     "end_time": "2022-11-27T07:08:52.929318",
     "exception": false,
     "start_time": "2022-11-27T07:08:52.912039",
     "status": "completed"
    },
    "tags": []
   },
   "outputs": [],
   "source": [
    "import os\n",
    "from IPython.display import clear_output"
   ]
  },
  {
   "cell_type": "code",
   "execution_count": 2,
   "id": "6ec48ab9",
   "metadata": {
    "execution": {
     "iopub.execute_input": "2022-11-27T07:08:52.934998Z",
     "iopub.status.busy": "2022-11-27T07:08:52.934603Z",
     "iopub.status.idle": "2022-11-27T07:09:13.276707Z",
     "shell.execute_reply": "2022-11-27T07:09:13.275162Z"
    },
    "papermill": {
     "duration": 20.347721,
     "end_time": "2022-11-27T07:09:13.279344",
     "exception": false,
     "start_time": "2022-11-27T07:08:52.931623",
     "status": "completed"
    },
    "tags": []
   },
   "outputs": [],
   "source": [
    "!unzip /kaggle/input/dogs-vs-cats-redux-kernels-edition/train.zip\n",
    "!unzip /kaggle/input/dogs-vs-cats-redux-kernels-edition/test.zip\n",
    "\n",
    "clear_output()"
   ]
  },
  {
   "cell_type": "code",
   "execution_count": 3,
   "id": "85efcbd2",
   "metadata": {
    "execution": {
     "iopub.execute_input": "2022-11-27T07:09:13.285704Z",
     "iopub.status.busy": "2022-11-27T07:09:13.285263Z",
     "iopub.status.idle": "2022-11-27T07:09:13.316379Z",
     "shell.execute_reply": "2022-11-27T07:09:13.314718Z"
    },
    "papermill": {
     "duration": 0.037554,
     "end_time": "2022-11-27T07:09:13.319115",
     "exception": false,
     "start_time": "2022-11-27T07:09:13.281561",
     "status": "completed"
    },
    "tags": []
   },
   "outputs": [
    {
     "name": "stdout",
     "output_type": "stream",
     "text": [
      "No. of train images : 25000\n",
      "No. of test images  : 12500\n"
     ]
    }
   ],
   "source": [
    "print(f\"No. of train images : {len(os.listdir('train'))}\")\n",
    "print(f\"No. of test images  : {len(os.listdir('test'))}\")"
   ]
  },
  {
   "cell_type": "code",
   "execution_count": 4,
   "id": "0c191982",
   "metadata": {
    "execution": {
     "iopub.execute_input": "2022-11-27T07:09:13.325233Z",
     "iopub.status.busy": "2022-11-27T07:09:13.324860Z",
     "iopub.status.idle": "2022-11-27T07:09:13.352446Z",
     "shell.execute_reply": "2022-11-27T07:09:13.350864Z"
    },
    "papermill": {
     "duration": 0.03387,
     "end_time": "2022-11-27T07:09:13.355358",
     "exception": false,
     "start_time": "2022-11-27T07:09:13.321488",
     "status": "completed"
    },
    "tags": []
   },
   "outputs": [
    {
     "name": "stdout",
     "output_type": "stream",
     "text": [
      "No. of cat images : 12500\n",
      "No. of dog images : 12500\n"
     ]
    }
   ],
   "source": [
    "cat_count: int = 0\n",
    "dog_count: int = 0\n",
    "\n",
    "for filename in os.listdir(\"train\"):\n",
    "    if \"dog\" in filename:\n",
    "        dog_count += 1\n",
    "    elif \"cat\" in filename:\n",
    "        cat_count += 1\n",
    "\n",
    "print(f\"No. of cat images : {cat_count}\")\n",
    "print(f\"No. of dog images : {dog_count}\")"
   ]
  }
 ],
 "metadata": {
  "kernelspec": {
   "display_name": "Python 3",
   "language": "python",
   "name": "python3"
  },
  "language_info": {
   "codemirror_mode": {
    "name": "ipython",
    "version": 3
   },
   "file_extension": ".py",
   "mimetype": "text/x-python",
   "name": "python",
   "nbconvert_exporter": "python",
   "pygments_lexer": "ipython3",
   "version": "3.7.12"
  },
  "papermill": {
   "default_parameters": {},
   "duration": 29.798432,
   "end_time": "2022-11-27T07:09:14.079820",
   "environment_variables": {},
   "exception": null,
   "input_path": "__notebook__.ipynb",
   "output_path": "__notebook__.ipynb",
   "parameters": {},
   "start_time": "2022-11-27T07:08:44.281388",
   "version": "2.3.4"
  }
 },
 "nbformat": 4,
 "nbformat_minor": 5
}
