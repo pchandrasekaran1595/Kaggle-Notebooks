{
 "cells": [
  {
   "cell_type": "markdown",
   "id": "549b9d31",
   "metadata": {
    "_cell_guid": "b1076dfc-b9ad-4769-8c92-a6c4dae69d19",
    "_uuid": "8f2839f25d086af736a60e9eeb907d3b93b6e0e5",
    "papermill": {
     "duration": 0.004521,
     "end_time": "2022-11-28T10:08:39.067863",
     "exception": false,
     "start_time": "2022-11-28T10:08:39.063342",
     "status": "completed"
    },
    "tags": []
   },
   "source": [
    "### **Setup**"
   ]
  },
  {
   "cell_type": "code",
   "execution_count": 1,
   "id": "7542a2c9",
   "metadata": {
    "execution": {
     "iopub.execute_input": "2022-11-28T10:08:39.076752Z",
     "iopub.status.busy": "2022-11-28T10:08:39.075824Z",
     "iopub.status.idle": "2022-11-28T10:08:51.370407Z",
     "shell.execute_reply": "2022-11-28T10:08:51.369124Z"
    },
    "papermill": {
     "duration": 12.301572,
     "end_time": "2022-11-28T10:08:51.372972",
     "exception": false,
     "start_time": "2022-11-28T10:08:39.071400",
     "status": "completed"
    },
    "tags": []
   },
   "outputs": [
    {
     "name": "stderr",
     "output_type": "stream",
     "text": [
      "WARNING: Running pip as the 'root' user can result in broken permissions and conflicting behaviour with the system package manager. It is recommended to use a virtual environment instead: https://pip.pypa.io/warnings/venv\n"
     ]
    }
   ],
   "source": [
    "%%bash\n",
    "pip install timm -q"
   ]
  },
  {
   "cell_type": "markdown",
   "id": "bae869c6",
   "metadata": {
    "papermill": {
     "duration": 0.003738,
     "end_time": "2022-11-28T10:08:51.381158",
     "exception": false,
     "start_time": "2022-11-28T10:08:51.377420",
     "status": "completed"
    },
    "tags": []
   },
   "source": [
    "### **Library Imports**"
   ]
  },
  {
   "cell_type": "code",
   "execution_count": 2,
   "id": "da2f74f1",
   "metadata": {
    "execution": {
     "iopub.execute_input": "2022-11-28T10:08:51.389860Z",
     "iopub.status.busy": "2022-11-28T10:08:51.389541Z",
     "iopub.status.idle": "2022-11-28T10:08:54.015580Z",
     "shell.execute_reply": "2022-11-28T10:08:54.014566Z"
    },
    "papermill": {
     "duration": 2.633227,
     "end_time": "2022-11-28T10:08:54.018063",
     "exception": false,
     "start_time": "2022-11-28T10:08:51.384836",
     "status": "completed"
    },
    "tags": []
   },
   "outputs": [],
   "source": [
    "import os\n",
    "import re\n",
    "import cv2\n",
    "import timm\n",
    "import torch\n",
    "import numpy as np\n",
    "import pandas as pd\n",
    "import matplotlib.pyplot as plt\n",
    "\n",
    "from time import time\n",
    "from typing import Union\n",
    "from torch import nn, optim\n",
    "from torch.utils.data import Dataset\n",
    "from torch.utils.data import DataLoader as DL\n",
    "from torchvision import models, transforms\n",
    "\n",
    "# from sklearn.model_selection import KFold"
   ]
  },
  {
   "cell_type": "markdown",
   "id": "1826dc89",
   "metadata": {
    "papermill": {
     "duration": 0.003537,
     "end_time": "2022-11-28T10:08:54.025680",
     "exception": false,
     "start_time": "2022-11-28T10:08:54.022143",
     "status": "completed"
    },
    "tags": []
   },
   "source": [
    "### **Utilities and Helpers**"
   ]
  },
  {
   "cell_type": "code",
   "execution_count": 3,
   "id": "fac28382",
   "metadata": {
    "execution": {
     "iopub.execute_input": "2022-11-28T10:08:54.034531Z",
     "iopub.status.busy": "2022-11-28T10:08:54.034075Z",
     "iopub.status.idle": "2022-11-28T10:08:54.041402Z",
     "shell.execute_reply": "2022-11-28T10:08:54.040495Z"
    },
    "papermill": {
     "duration": 0.014164,
     "end_time": "2022-11-28T10:08:54.043465",
     "exception": false,
     "start_time": "2022-11-28T10:08:54.029301",
     "status": "completed"
    },
    "tags": []
   },
   "outputs": [],
   "source": [
    "SEED = 42\n",
    "SIZE = 384\n",
    "\n",
    "\n",
    "def breaker(num: int=50, char: str=\"*\") -> None:\n",
    "    print(\"\\n\" + num*char + \"\\n\")\n",
    "\n",
    "    \n",
    "def get_image(path: str, size: int=224) -> np.ndarray:\n",
    "    image = cv2.imread(path, cv2.IMREAD_COLOR)\n",
    "    image = cv2.cvtColor(src=image, code=cv2.COLOR_BGR2RGB)\n",
    "    return cv2.resize(src=image, dsize=(size, size), interpolation=cv2.INTER_AREA)"
   ]
  },
  {
   "cell_type": "markdown",
   "id": "91c61c03",
   "metadata": {
    "papermill": {
     "duration": 0.003356,
     "end_time": "2022-11-28T10:08:54.050551",
     "exception": false,
     "start_time": "2022-11-28T10:08:54.047195",
     "status": "completed"
    },
    "tags": []
   },
   "source": [
    "\n",
    "\n",
    "### **Configuration**"
   ]
  },
  {
   "cell_type": "code",
   "execution_count": 4,
   "id": "fffd8b83",
   "metadata": {
    "execution": {
     "iopub.execute_input": "2022-11-28T10:08:54.059547Z",
     "iopub.status.busy": "2022-11-28T10:08:54.059253Z",
     "iopub.status.idle": "2022-11-28T10:08:54.124514Z",
     "shell.execute_reply": "2022-11-28T10:08:54.123602Z"
    },
    "papermill": {
     "duration": 0.072369,
     "end_time": "2022-11-28T10:08:54.126626",
     "exception": false,
     "start_time": "2022-11-28T10:08:54.054257",
     "status": "completed"
    },
    "tags": []
   },
   "outputs": [],
   "source": [
    "class CFG(object):\n",
    "    def __init__(self, \n",
    "                 seed: int = 42,\n",
    "                 size: int = 224,\n",
    "                 n_splits: int = 5,\n",
    "                 batch_size: int = 16,\n",
    "                 epochs: int = 25,\n",
    "                 early_stopping: int = 5,\n",
    "                 lr: float = 1e-4,\n",
    "                 wd: float = 0.0,\n",
    "                 max_lr: float = 1e-3,\n",
    "                 pct_start: float = 0.2,\n",
    "                 steps_per_epoch: int = 100,\n",
    "                 div_factor: int = 1e3, \n",
    "                 final_div_factor: float = 1e3,\n",
    "                 ):\n",
    "        self.seed = seed\n",
    "        self.size = size\n",
    "        self.n_splits = n_splits\n",
    "        self.batch_size = batch_size\n",
    "        self.epochs = epochs\n",
    "        self.early_stopping = early_stopping\n",
    "        self.lr = lr\n",
    "        self.wd = wd\n",
    "        self.max_lr = max_lr\n",
    "        self.pct_start = pct_start\n",
    "        self.steps_per_epoch = steps_per_epoch\n",
    "        self.div_factor = div_factor\n",
    "        self.final_div_factor = final_div_factor\n",
    "        self.device = torch.device(\"cuda\" if torch.cuda.is_available() else \"cpu\")\n",
    "        \n",
    "        if self.size == 224:\n",
    "            self.train_transform = transforms.Compose([\n",
    "                transforms.ToTensor(),\n",
    "                transforms.Normalize([0.48828, 0.45504, 0.41691], [0.22645, 0.22193, 0.22212]),\n",
    "                transforms.RandomAffine(degrees=(-45, 45), translate=(0.15, 0.15), scale=(0.5, 1.5)),\n",
    "                transforms.RandomHorizontalFlip(p=0.25),\n",
    "                transforms.RandomVerticalFlip(p=0.25),\n",
    "            ])\n",
    "            self.valid_transform = transforms.Compose([\n",
    "                transforms.ToTensor(),\n",
    "                transforms.Normalize([0.48828, 0.45504, 0.41691], [0.22645, 0.22193, 0.22212]),\n",
    "            ])\n",
    "        \n",
    "        if self.size == 384:\n",
    "            self.train_transform = transforms.Compose([\n",
    "                transforms.ToTensor(),\n",
    "                transforms.Normalize([0.48801, 0.45477, 0.41665], [0.22772, 0.22322, 0.22342]),\n",
    "                transforms.RandomAffine(degrees=(-45, 45), translate=(0.15, 0.15), scale=(0.5, 1.5)),\n",
    "                transforms.RandomHorizontalFlip(p=0.25),\n",
    "                transforms.RandomVerticalFlip(p=0.25),\n",
    "            ])\n",
    "            self.valid_transform = transforms.Compose([\n",
    "                transforms.ToTensor(),\n",
    "                transforms.Normalize([0.48801, 0.45477, 0.41665], [0.22772, 0.22322, 0.22342]),\n",
    "            ])\n",
    "        \n",
    "        if self.size == 512:\n",
    "            self.train_transform = transforms.Compose([\n",
    "                transforms.ToTensor(),\n",
    "                transforms.Normalize([0.48800, 0.45476, 0.41664], [0.22809, 0.22360, 0.22379]),\n",
    "                transforms.RandomAffine(degrees=(-45, 45), translate=(0.15, 0.15), scale=(0.5, 1.5)),\n",
    "                transforms.RandomHorizontalFlip(p=0.25),\n",
    "                transforms.RandomVerticalFlip(p=0.25),\n",
    "            ])\n",
    "            self.valid_transform = transforms.Compose([\n",
    "                transforms.ToTensor(),\n",
    "                transforms.Normalize([0.48800, 0.45476, 0.41664], [0.22809, 0.22360, 0.22379]),\n",
    "            ])\n",
    "                                \n",
    "        self.save_path = \"saves\"\n",
    "        if not os.path.exists(self.save_path): os.makedirs(self.save_path)\n",
    "    \n",
    "cfg = CFG(\n",
    "    seed=SEED, \n",
    "    size=SIZE\n",
    ")"
   ]
  },
  {
   "cell_type": "markdown",
   "id": "c8a248ba",
   "metadata": {
    "papermill": {
     "duration": 0.003496,
     "end_time": "2022-11-28T10:08:54.133970",
     "exception": false,
     "start_time": "2022-11-28T10:08:54.130474",
     "status": "completed"
    },
    "tags": []
   },
   "source": [
    "### **Dataset Template**"
   ]
  },
  {
   "cell_type": "code",
   "execution_count": 5,
   "id": "8837d98f",
   "metadata": {
    "execution": {
     "iopub.execute_input": "2022-11-28T10:08:54.142666Z",
     "iopub.status.busy": "2022-11-28T10:08:54.142358Z",
     "iopub.status.idle": "2022-11-28T10:08:54.149190Z",
     "shell.execute_reply": "2022-11-28T10:08:54.148152Z"
    },
    "papermill": {
     "duration": 0.01329,
     "end_time": "2022-11-28T10:08:54.151074",
     "exception": false,
     "start_time": "2022-11-28T10:08:54.137784",
     "status": "completed"
    },
    "tags": []
   },
   "outputs": [],
   "source": [
    "class DS(Dataset):\n",
    "    def __init__(\n",
    "        self, \n",
    "        filepaths: np.ndarray, \n",
    "        size: int,\n",
    "        labels: Union[np.ndarray, None]=None, \n",
    "        transform=None\n",
    "    ):\n",
    "        \n",
    "        self.filepaths = filepaths\n",
    "        self.labels = labels\n",
    "        self.size = size\n",
    "        self.transform = transform\n",
    "    \n",
    "    def __len__(self):\n",
    "        return self.filepaths.shape[0]\n",
    "    \n",
    "    def __getitem__(self, idx):\n",
    "        image = get_image(self.filepaths[idx], self.size)\n",
    "        if self.labels is None:\n",
    "            return self.transform(image)\n",
    "        return self.transform(image), torch.FloatTensor(self.labels[idx])"
   ]
  },
  {
   "cell_type": "markdown",
   "id": "e97330f6",
   "metadata": {
    "papermill": {
     "duration": 0.003581,
     "end_time": "2022-11-28T10:08:54.158403",
     "exception": false,
     "start_time": "2022-11-28T10:08:54.154822",
     "status": "completed"
    },
    "tags": []
   },
   "source": [
    "### **Model**"
   ]
  },
  {
   "cell_type": "code",
   "execution_count": 6,
   "id": "abbff2d7",
   "metadata": {
    "execution": {
     "iopub.execute_input": "2022-11-28T10:08:54.167258Z",
     "iopub.status.busy": "2022-11-28T10:08:54.166611Z",
     "iopub.status.idle": "2022-11-28T10:08:54.172048Z",
     "shell.execute_reply": "2022-11-28T10:08:54.171163Z"
    },
    "papermill": {
     "duration": 0.011842,
     "end_time": "2022-11-28T10:08:54.173998",
     "exception": false,
     "start_time": "2022-11-28T10:08:54.162156",
     "status": "completed"
    },
    "tags": []
   },
   "outputs": [],
   "source": [
    "class Model(nn.Module):\n",
    "    def __init__(self):\n",
    "        super(Model, self).__init__()\n",
    "            \n",
    "        self.model = timm.create_model(model_name=\"efficientnet_b4\", pretrained=False)\n",
    "        self.model.classifier = nn.Linear(in_features=self.model.classifier.in_features, out_features=1)\n",
    "\n",
    "    def forward(self, x):\n",
    "        return self.model(x)"
   ]
  },
  {
   "cell_type": "markdown",
   "id": "75d7eafb",
   "metadata": {
    "papermill": {
     "duration": 0.00351,
     "end_time": "2022-11-28T10:08:54.181211",
     "exception": false,
     "start_time": "2022-11-28T10:08:54.177701",
     "status": "completed"
    },
    "tags": []
   },
   "source": [
    "### **Fit and Predict**"
   ]
  },
  {
   "cell_type": "code",
   "execution_count": 7,
   "id": "cbd171ea",
   "metadata": {
    "execution": {
     "iopub.execute_input": "2022-11-28T10:08:54.190231Z",
     "iopub.status.busy": "2022-11-28T10:08:54.189428Z",
     "iopub.status.idle": "2022-11-28T10:08:54.196273Z",
     "shell.execute_reply": "2022-11-28T10:08:54.195364Z"
    },
    "papermill": {
     "duration": 0.013445,
     "end_time": "2022-11-28T10:08:54.198349",
     "exception": false,
     "start_time": "2022-11-28T10:08:54.184904",
     "status": "completed"
    },
    "tags": []
   },
   "outputs": [],
   "source": [
    "def predict_batch(model=None, dataloader=None, path=None, device=None) -> np.ndarray:\n",
    "    model.load_state_dict(torch.load(path, map_location=device)[\"model_state_dict\"])\n",
    "    model.to(device)    \n",
    "    model.eval()\n",
    "    \n",
    "    y_pred = torch.zeros(1, 1).to(device)\n",
    "    \n",
    "    for X in dataloader:\n",
    "        X = X.to(device)\n",
    "        with torch.no_grad():\n",
    "            output = torch.sigmoid(model(X))\n",
    "        y_pred = torch.cat((y_pred, output.view(-1, 1)), dim=0)\n",
    "    \n",
    "    # y_pred[y_pred > 0.5] = 1\n",
    "    # y_pred[y_pred <= 0.5] = 0\n",
    "    \n",
    "    return y_pred[1:].detach().cpu().numpy()"
   ]
  },
  {
   "cell_type": "markdown",
   "id": "292aed78",
   "metadata": {
    "papermill": {
     "duration": 0.003575,
     "end_time": "2022-11-28T10:08:54.206565",
     "exception": false,
     "start_time": "2022-11-28T10:08:54.202990",
     "status": "completed"
    },
    "tags": []
   },
   "source": [
    "### **Submission**"
   ]
  },
  {
   "cell_type": "code",
   "execution_count": 8,
   "id": "bdd1ee25",
   "metadata": {
    "execution": {
     "iopub.execute_input": "2022-11-28T10:08:54.215711Z",
     "iopub.status.busy": "2022-11-28T10:08:54.215090Z",
     "iopub.status.idle": "2022-11-28T10:08:57.494311Z",
     "shell.execute_reply": "2022-11-28T10:08:57.493165Z"
    },
    "papermill": {
     "duration": 3.286542,
     "end_time": "2022-11-28T10:08:57.496996",
     "exception": false,
     "start_time": "2022-11-28T10:08:54.210454",
     "status": "completed"
    },
    "tags": []
   },
   "outputs": [],
   "source": [
    "model = Model().to(cfg.device)\n",
    "\n",
    "ts_df = pd.read_csv(\"/kaggle/input/dcr-dataframe/test.csv\")\n",
    "ts_data_setup = DS(\n",
    "    filepaths=ts_df.filepaths.copy().values, \n",
    "    size=cfg.size,\n",
    "    transform=cfg.valid_transform\n",
    ")\n",
    "ts_data = DL(ts_data_setup, batch_size=cfg.batch_size, shuffle=False)"
   ]
  },
  {
   "cell_type": "code",
   "execution_count": 9,
   "id": "83a40457",
   "metadata": {
    "execution": {
     "iopub.execute_input": "2022-11-28T10:08:57.508605Z",
     "iopub.status.busy": "2022-11-28T10:08:57.508307Z",
     "iopub.status.idle": "2022-11-28T10:18:31.297850Z",
     "shell.execute_reply": "2022-11-28T10:18:31.296825Z"
    },
    "papermill": {
     "duration": 573.797536,
     "end_time": "2022-11-28T10:18:31.300312",
     "exception": false,
     "start_time": "2022-11-28T10:08:57.502776",
     "status": "completed"
    },
    "tags": []
   },
   "outputs": [],
   "source": [
    "y_pred_1_l = predict_batch(\n",
    "    model=model,\n",
    "    dataloader=ts_data,\n",
    "    path=\"/kaggle/input/dcr-en4-a384-e10-f1/saves/ble_state_fold_1.pt\",\n",
    "    device=cfg.device\n",
    ")\n",
    "\n",
    "y_pred_2_l = predict_batch(\n",
    "    model=model,\n",
    "    dataloader=ts_data,\n",
    "    path=\"/kaggle/input/dcr-en4-a384-e10-f2/saves/ble_state_fold_2.pt\",\n",
    "    device=cfg.device\n",
    ")\n",
    "\n",
    "y_pred_3_l = predict_batch(\n",
    "    model=model,\n",
    "    dataloader=ts_data,\n",
    "    path=\"/kaggle/input/dcr-en4-a384-e10-f3/saves/ble_state_fold_3.pt\",\n",
    "    device=cfg.device\n",
    ")\n",
    "\n",
    "y_pred_4_l = predict_batch(\n",
    "    model=model,\n",
    "    dataloader=ts_data,\n",
    "    path=\"/kaggle/input/dcr-en4-a384-e10-f4/saves/ble_state_fold_4.pt\",\n",
    "    device=cfg.device\n",
    ")\n",
    "\n",
    "y_pred_5_l = predict_batch(\n",
    "    model=model,\n",
    "    dataloader=ts_data,\n",
    "    path=\"/kaggle/input/dcr-en4-a384-e10-f5/saves/ble_state_fold_5.pt\",\n",
    "    device=cfg.device\n",
    ")"
   ]
  },
  {
   "cell_type": "code",
   "execution_count": 10,
   "id": "66530e59",
   "metadata": {
    "execution": {
     "iopub.execute_input": "2022-11-28T10:18:31.310219Z",
     "iopub.status.busy": "2022-11-28T10:18:31.309898Z",
     "iopub.status.idle": "2022-11-28T10:26:56.198000Z",
     "shell.execute_reply": "2022-11-28T10:26:56.196899Z"
    },
    "papermill": {
     "duration": 504.895939,
     "end_time": "2022-11-28T10:26:56.200807",
     "exception": false,
     "start_time": "2022-11-28T10:18:31.304868",
     "status": "completed"
    },
    "tags": []
   },
   "outputs": [],
   "source": [
    "y_pred_1_a = predict_batch(\n",
    "    model=model,\n",
    "    dataloader=ts_data,\n",
    "    path=\"/kaggle/input/dcr-en4-a384-e10-f1/saves/bae_state_fold_1.pt\",\n",
    "    device=cfg.device\n",
    ")\n",
    "\n",
    "y_pred_2_a = predict_batch(\n",
    "    model=model,\n",
    "    dataloader=ts_data,\n",
    "    path=\"/kaggle/input/dcr-en4-a384-e10-f2/saves/bae_state_fold_2.pt\",\n",
    "    device=cfg.device\n",
    ")\n",
    "\n",
    "y_pred_3_a = predict_batch(\n",
    "    model=model,\n",
    "    dataloader=ts_data,\n",
    "    path=\"/kaggle/input/dcr-en4-a384-e10-f3/saves/bae_state_fold_3.pt\",\n",
    "    device=cfg.device\n",
    ")\n",
    "\n",
    "y_pred_4_a = predict_batch(\n",
    "    model=model,\n",
    "    dataloader=ts_data,\n",
    "    path=\"/kaggle/input/dcr-en4-a384-e10-f4/saves/bae_state_fold_4.pt\",\n",
    "    device=cfg.device\n",
    ")\n",
    "\n",
    "y_pred_5_a = predict_batch(\n",
    "    model=model,\n",
    "    dataloader=ts_data,\n",
    "    path=\"/kaggle/input/dcr-en4-a384-e10-f5/saves/bae_state_fold_5.pt\",\n",
    "    device=cfg.device\n",
    ")"
   ]
  },
  {
   "cell_type": "code",
   "execution_count": 11,
   "id": "21d0939a",
   "metadata": {
    "execution": {
     "iopub.execute_input": "2022-11-28T10:26:56.211583Z",
     "iopub.status.busy": "2022-11-28T10:26:56.210966Z",
     "iopub.status.idle": "2022-11-28T10:26:56.217019Z",
     "shell.execute_reply": "2022-11-28T10:26:56.216152Z"
    },
    "papermill": {
     "duration": 0.013553,
     "end_time": "2022-11-28T10:26:56.219317",
     "exception": false,
     "start_time": "2022-11-28T10:26:56.205764",
     "status": "completed"
    },
    "tags": []
   },
   "outputs": [],
   "source": [
    "y_pred = y_pred_1_l + y_pred_1_a + y_pred_2_l + y_pred_2_a + y_pred_3_l + y_pred_3_a + y_pred_4_l + y_pred_4_a + y_pred_5_l + y_pred_5_a\n",
    "y_pred = y_pred / 10"
   ]
  },
  {
   "cell_type": "code",
   "execution_count": 12,
   "id": "93ab00ea",
   "metadata": {
    "execution": {
     "iopub.execute_input": "2022-11-28T10:26:56.228883Z",
     "iopub.status.busy": "2022-11-28T10:26:56.228621Z",
     "iopub.status.idle": "2022-11-28T10:26:56.264313Z",
     "shell.execute_reply": "2022-11-28T10:26:56.263333Z"
    },
    "papermill": {
     "duration": 0.043007,
     "end_time": "2022-11-28T10:26:56.266498",
     "exception": false,
     "start_time": "2022-11-28T10:26:56.223491",
     "status": "completed"
    },
    "tags": []
   },
   "outputs": [],
   "source": [
    "ss_df = pd.read_csv(\"/kaggle/input/dogs-vs-cats-redux-kernels-edition/sample_submission.csv\")\n",
    "ss_df[\"label\"] = y_pred\n",
    "ss_df.to_csv(\"submission.csv\", index=False)"
   ]
  }
 ],
 "metadata": {
  "kernelspec": {
   "display_name": "Python 3",
   "language": "python",
   "name": "python3"
  },
  "language_info": {
   "codemirror_mode": {
    "name": "ipython",
    "version": 3
   },
   "file_extension": ".py",
   "mimetype": "text/x-python",
   "name": "python",
   "nbconvert_exporter": "python",
   "pygments_lexer": "ipython3",
   "version": "3.7.12"
  },
  "papermill": {
   "default_parameters": {},
   "duration": 1106.174743,
   "end_time": "2022-11-28T10:26:57.695953",
   "environment_variables": {},
   "exception": null,
   "input_path": "__notebook__.ipynb",
   "output_path": "__notebook__.ipynb",
   "parameters": {},
   "start_time": "2022-11-28T10:08:31.521210",
   "version": "2.3.4"
  }
 },
 "nbformat": 4,
 "nbformat_minor": 5
}
