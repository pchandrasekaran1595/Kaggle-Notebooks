{
 "cells": [
  {
   "cell_type": "markdown",
   "id": "00e4f5e4",
   "metadata": {
    "_cell_guid": "b1076dfc-b9ad-4769-8c92-a6c4dae69d19",
    "_uuid": "8f2839f25d086af736a60e9eeb907d3b93b6e0e5",
    "papermill": {
     "duration": 0.003869,
     "end_time": "2022-11-28T08:07:24.974380",
     "exception": false,
     "start_time": "2022-11-28T08:07:24.970511",
     "status": "completed"
    },
    "tags": []
   },
   "source": [
    "### **Setup**"
   ]
  },
  {
   "cell_type": "code",
   "execution_count": 1,
   "id": "79941f7f",
   "metadata": {
    "execution": {
     "iopub.execute_input": "2022-11-28T08:07:24.982001Z",
     "iopub.status.busy": "2022-11-28T08:07:24.981561Z",
     "iopub.status.idle": "2022-11-28T08:07:36.671090Z",
     "shell.execute_reply": "2022-11-28T08:07:36.669784Z"
    },
    "papermill": {
     "duration": 11.696011,
     "end_time": "2022-11-28T08:07:36.673515",
     "exception": false,
     "start_time": "2022-11-28T08:07:24.977504",
     "status": "completed"
    },
    "tags": []
   },
   "outputs": [
    {
     "name": "stderr",
     "output_type": "stream",
     "text": [
      "WARNING: Running pip as the 'root' user can result in broken permissions and conflicting behaviour with the system package manager. It is recommended to use a virtual environment instead: https://pip.pypa.io/warnings/venv\n"
     ]
    }
   ],
   "source": [
    "%%bash\n",
    "pip install timm -q"
   ]
  },
  {
   "cell_type": "markdown",
   "id": "e3b7e35c",
   "metadata": {
    "papermill": {
     "duration": 0.002947,
     "end_time": "2022-11-28T08:07:36.679849",
     "exception": false,
     "start_time": "2022-11-28T08:07:36.676902",
     "status": "completed"
    },
    "tags": []
   },
   "source": [
    "### **Library Imports**"
   ]
  },
  {
   "cell_type": "code",
   "execution_count": 2,
   "id": "93376bc1",
   "metadata": {
    "execution": {
     "iopub.execute_input": "2022-11-28T08:07:36.687218Z",
     "iopub.status.busy": "2022-11-28T08:07:36.686905Z",
     "iopub.status.idle": "2022-11-28T08:07:39.624203Z",
     "shell.execute_reply": "2022-11-28T08:07:39.623068Z"
    },
    "papermill": {
     "duration": 2.944536,
     "end_time": "2022-11-28T08:07:39.627287",
     "exception": false,
     "start_time": "2022-11-28T08:07:36.682751",
     "status": "completed"
    },
    "tags": []
   },
   "outputs": [],
   "source": [
    "import os\n",
    "import re\n",
    "import cv2\n",
    "import timm\n",
    "import torch\n",
    "import numpy as np\n",
    "import pandas as pd\n",
    "import matplotlib.pyplot as plt\n",
    "\n",
    "from time import time\n",
    "from typing import Union\n",
    "from torch import nn, optim\n",
    "from torch.utils.data import Dataset\n",
    "from torch.utils.data import DataLoader as DL\n",
    "from torchvision import models, transforms\n",
    "\n",
    "# from sklearn.model_selection import KFold"
   ]
  },
  {
   "cell_type": "markdown",
   "id": "ef1ed267",
   "metadata": {
    "papermill": {
     "duration": 0.004606,
     "end_time": "2022-11-28T08:07:39.642635",
     "exception": false,
     "start_time": "2022-11-28T08:07:39.638029",
     "status": "completed"
    },
    "tags": []
   },
   "source": [
    "### **Utilities and Helpers**"
   ]
  },
  {
   "cell_type": "code",
   "execution_count": 3,
   "id": "50cc7e76",
   "metadata": {
    "execution": {
     "iopub.execute_input": "2022-11-28T08:07:39.652998Z",
     "iopub.status.busy": "2022-11-28T08:07:39.652463Z",
     "iopub.status.idle": "2022-11-28T08:07:39.661292Z",
     "shell.execute_reply": "2022-11-28T08:07:39.660458Z"
    },
    "papermill": {
     "duration": 0.016707,
     "end_time": "2022-11-28T08:07:39.663763",
     "exception": false,
     "start_time": "2022-11-28T08:07:39.647056",
     "status": "completed"
    },
    "tags": []
   },
   "outputs": [],
   "source": [
    "SEED = 42\n",
    "SIZE = 384\n",
    "\n",
    "\n",
    "def breaker(num: int=50, char: str=\"*\") -> None:\n",
    "    print(\"\\n\" + num*char + \"\\n\")\n",
    "\n",
    "    \n",
    "def get_image(path: str, size: int=224) -> np.ndarray:\n",
    "    image = cv2.imread(path, cv2.IMREAD_COLOR)\n",
    "    image = cv2.cvtColor(src=image, code=cv2.COLOR_BGR2RGB)\n",
    "    return cv2.resize(src=image, dsize=(size, size), interpolation=cv2.INTER_AREA)"
   ]
  },
  {
   "cell_type": "markdown",
   "id": "ce51710e",
   "metadata": {
    "papermill": {
     "duration": 0.004068,
     "end_time": "2022-11-28T08:07:39.672147",
     "exception": false,
     "start_time": "2022-11-28T08:07:39.668079",
     "status": "completed"
    },
    "tags": []
   },
   "source": [
    "\n",
    "\n",
    "### **Configuration**"
   ]
  },
  {
   "cell_type": "code",
   "execution_count": 4,
   "id": "acecb565",
   "metadata": {
    "execution": {
     "iopub.execute_input": "2022-11-28T08:07:39.682005Z",
     "iopub.status.busy": "2022-11-28T08:07:39.681655Z",
     "iopub.status.idle": "2022-11-28T08:07:39.769634Z",
     "shell.execute_reply": "2022-11-28T08:07:39.768636Z"
    },
    "papermill": {
     "duration": 0.095985,
     "end_time": "2022-11-28T08:07:39.772405",
     "exception": false,
     "start_time": "2022-11-28T08:07:39.676420",
     "status": "completed"
    },
    "tags": []
   },
   "outputs": [],
   "source": [
    "class CFG(object):\n",
    "    def __init__(self, \n",
    "                 seed: int = 42,\n",
    "                 size: int = 224,\n",
    "                 n_splits: int = 5,\n",
    "                 batch_size: int = 16,\n",
    "                 epochs: int = 25,\n",
    "                 early_stopping: int = 5,\n",
    "                 lr: float = 1e-4,\n",
    "                 wd: float = 0.0,\n",
    "                 max_lr: float = 1e-3,\n",
    "                 pct_start: float = 0.2,\n",
    "                 steps_per_epoch: int = 100,\n",
    "                 div_factor: int = 1e3, \n",
    "                 final_div_factor: float = 1e3,\n",
    "                 ):\n",
    "        self.seed = seed\n",
    "        self.size = size\n",
    "        self.n_splits = n_splits\n",
    "        self.batch_size = batch_size\n",
    "        self.epochs = epochs\n",
    "        self.early_stopping = early_stopping\n",
    "        self.lr = lr\n",
    "        self.wd = wd\n",
    "        self.max_lr = max_lr\n",
    "        self.pct_start = pct_start\n",
    "        self.steps_per_epoch = steps_per_epoch\n",
    "        self.div_factor = div_factor\n",
    "        self.final_div_factor = final_div_factor\n",
    "        self.device = torch.device(\"cuda\" if torch.cuda.is_available() else \"cpu\")\n",
    "        \n",
    "        if self.size == 224:\n",
    "            self.train_transform = transforms.Compose([\n",
    "                transforms.ToTensor(),\n",
    "                transforms.Normalize([0.48828, 0.45504, 0.41691], [0.22645, 0.22193, 0.22212]),\n",
    "                transforms.RandomAffine(degrees=(-45, 45), translate=(0.15, 0.15), scale=(0.5, 1.5)),\n",
    "                transforms.RandomHorizontalFlip(p=0.25),\n",
    "                transforms.RandomVerticalFlip(p=0.25),\n",
    "            ])\n",
    "            self.valid_transform = transforms.Compose([\n",
    "                transforms.ToTensor(),\n",
    "                transforms.Normalize([0.48828, 0.45504, 0.41691], [0.22645, 0.22193, 0.22212]),\n",
    "            ])\n",
    "        \n",
    "        if self.size == 384:\n",
    "            self.train_transform = transforms.Compose([\n",
    "                transforms.ToTensor(),\n",
    "                transforms.Normalize([0.48801, 0.45477, 0.41665], [0.22772, 0.22322, 0.22342]),\n",
    "                transforms.RandomAffine(degrees=(-45, 45), translate=(0.15, 0.15), scale=(0.5, 1.5)),\n",
    "                transforms.RandomHorizontalFlip(p=0.25),\n",
    "                transforms.RandomVerticalFlip(p=0.25),\n",
    "            ])\n",
    "            self.valid_transform = transforms.Compose([\n",
    "                transforms.ToTensor(),\n",
    "                transforms.Normalize([0.48801, 0.45477, 0.41665], [0.22772, 0.22322, 0.22342]),\n",
    "            ])\n",
    "        \n",
    "        if self.size == 512:\n",
    "            self.train_transform = transforms.Compose([\n",
    "                transforms.ToTensor(),\n",
    "                transforms.Normalize([0.48800, 0.45476, 0.41664], [0.22809, 0.22360, 0.22379]),\n",
    "                transforms.RandomAffine(degrees=(-45, 45), translate=(0.15, 0.15), scale=(0.5, 1.5)),\n",
    "                transforms.RandomHorizontalFlip(p=0.25),\n",
    "                transforms.RandomVerticalFlip(p=0.25),\n",
    "            ])\n",
    "            self.valid_transform = transforms.Compose([\n",
    "                transforms.ToTensor(),\n",
    "                transforms.Normalize([0.48800, 0.45476, 0.41664], [0.22809, 0.22360, 0.22379]),\n",
    "            ])\n",
    "                                \n",
    "        self.save_path = \"saves\"\n",
    "        if not os.path.exists(self.save_path): os.makedirs(self.save_path)\n",
    "    \n",
    "cfg = CFG(\n",
    "    seed=SEED, \n",
    "    size=SIZE\n",
    ")"
   ]
  },
  {
   "cell_type": "markdown",
   "id": "e7695ffa",
   "metadata": {
    "papermill": {
     "duration": 0.004512,
     "end_time": "2022-11-28T08:07:39.782195",
     "exception": false,
     "start_time": "2022-11-28T08:07:39.777683",
     "status": "completed"
    },
    "tags": []
   },
   "source": [
    "### **Dataset Template**"
   ]
  },
  {
   "cell_type": "code",
   "execution_count": 5,
   "id": "8df43120",
   "metadata": {
    "execution": {
     "iopub.execute_input": "2022-11-28T08:07:39.792725Z",
     "iopub.status.busy": "2022-11-28T08:07:39.792411Z",
     "iopub.status.idle": "2022-11-28T08:07:39.800544Z",
     "shell.execute_reply": "2022-11-28T08:07:39.799664Z"
    },
    "papermill": {
     "duration": 0.016606,
     "end_time": "2022-11-28T08:07:39.803507",
     "exception": false,
     "start_time": "2022-11-28T08:07:39.786901",
     "status": "completed"
    },
    "tags": []
   },
   "outputs": [],
   "source": [
    "class DS(Dataset):\n",
    "    def __init__(\n",
    "        self, \n",
    "        filepaths: np.ndarray, \n",
    "        size: int,\n",
    "        labels: Union[np.ndarray, None]=None, \n",
    "        transform=None\n",
    "    ):\n",
    "        \n",
    "        self.filepaths = filepaths\n",
    "        self.labels = labels\n",
    "        self.size = size\n",
    "        self.transform = transform\n",
    "    \n",
    "    def __len__(self):\n",
    "        return self.filepaths.shape[0]\n",
    "    \n",
    "    def __getitem__(self, idx):\n",
    "        image = get_image(self.filepaths[idx], self.size)\n",
    "        if self.labels is None:\n",
    "            return self.transform(image)\n",
    "        return self.transform(image), torch.FloatTensor(self.labels[idx])"
   ]
  },
  {
   "cell_type": "markdown",
   "id": "b78321e0",
   "metadata": {
    "papermill": {
     "duration": 0.004505,
     "end_time": "2022-11-28T08:07:39.812791",
     "exception": false,
     "start_time": "2022-11-28T08:07:39.808286",
     "status": "completed"
    },
    "tags": []
   },
   "source": [
    "### **Model**"
   ]
  },
  {
   "cell_type": "code",
   "execution_count": 6,
   "id": "8e8d949b",
   "metadata": {
    "execution": {
     "iopub.execute_input": "2022-11-28T08:07:39.822992Z",
     "iopub.status.busy": "2022-11-28T08:07:39.822678Z",
     "iopub.status.idle": "2022-11-28T08:07:39.828737Z",
     "shell.execute_reply": "2022-11-28T08:07:39.827889Z"
    },
    "papermill": {
     "duration": 0.016069,
     "end_time": "2022-11-28T08:07:39.833473",
     "exception": false,
     "start_time": "2022-11-28T08:07:39.817404",
     "status": "completed"
    },
    "tags": []
   },
   "outputs": [],
   "source": [
    "class Model(nn.Module):\n",
    "    def __init__(self):\n",
    "        super(Model, self).__init__()\n",
    "            \n",
    "        self.model = timm.create_model(model_name=\"efficientnet_b4\", pretrained=False)\n",
    "        self.model.classifier = nn.Linear(in_features=self.model.classifier.in_features, out_features=1)\n",
    "\n",
    "    def forward(self, x):\n",
    "        return self.model(x)"
   ]
  },
  {
   "cell_type": "markdown",
   "id": "076f8c3f",
   "metadata": {
    "papermill": {
     "duration": 0.004691,
     "end_time": "2022-11-28T08:07:39.842938",
     "exception": false,
     "start_time": "2022-11-28T08:07:39.838247",
     "status": "completed"
    },
    "tags": []
   },
   "source": [
    "### **Fit and Predict**"
   ]
  },
  {
   "cell_type": "code",
   "execution_count": 7,
   "id": "9287fe60",
   "metadata": {
    "execution": {
     "iopub.execute_input": "2022-11-28T08:07:39.853453Z",
     "iopub.status.busy": "2022-11-28T08:07:39.853166Z",
     "iopub.status.idle": "2022-11-28T08:07:39.862242Z",
     "shell.execute_reply": "2022-11-28T08:07:39.861441Z"
    },
    "papermill": {
     "duration": 0.017244,
     "end_time": "2022-11-28T08:07:39.864797",
     "exception": false,
     "start_time": "2022-11-28T08:07:39.847553",
     "status": "completed"
    },
    "tags": []
   },
   "outputs": [],
   "source": [
    "def predict_batch(model=None, dataloader=None, path=None, device=None) -> np.ndarray:\n",
    "    model.load_state_dict(torch.load(path, map_location=device)[\"model_state_dict\"])\n",
    "    model.to(device)    \n",
    "    model.eval()\n",
    "    \n",
    "    y_pred = torch.zeros(1, 1).to(device)\n",
    "    \n",
    "    for X in dataloader:\n",
    "        X = X.to(device)\n",
    "        with torch.no_grad():\n",
    "            output = torch.sigmoid(model(X))\n",
    "        y_pred = torch.cat((y_pred, output.view(-1, 1)), dim=0)\n",
    "    \n",
    "    # y_pred[y_pred > 0.5] = 1\n",
    "    # y_pred[y_pred <= 0.5] = 0\n",
    "    \n",
    "    return y_pred[1:].detach().cpu().numpy()"
   ]
  },
  {
   "cell_type": "markdown",
   "id": "174c5b03",
   "metadata": {
    "papermill": {
     "duration": 0.004598,
     "end_time": "2022-11-28T08:07:39.874213",
     "exception": false,
     "start_time": "2022-11-28T08:07:39.869615",
     "status": "completed"
    },
    "tags": []
   },
   "source": [
    "### **Submission**"
   ]
  },
  {
   "cell_type": "code",
   "execution_count": 8,
   "id": "0dc3501d",
   "metadata": {
    "execution": {
     "iopub.execute_input": "2022-11-28T08:07:39.887815Z",
     "iopub.status.busy": "2022-11-28T08:07:39.887472Z",
     "iopub.status.idle": "2022-11-28T08:11:11.156818Z",
     "shell.execute_reply": "2022-11-28T08:11:11.155862Z"
    },
    "papermill": {
     "duration": 211.280112,
     "end_time": "2022-11-28T08:11:11.159412",
     "exception": false,
     "start_time": "2022-11-28T08:07:39.879300",
     "status": "completed"
    },
    "tags": []
   },
   "outputs": [],
   "source": [
    "model = Model().to(cfg.device)\n",
    "\n",
    "ts_df = pd.read_csv(\"/kaggle/input/dcr-dataframe/test.csv\")\n",
    "ts_data_setup = DS(\n",
    "    filepaths=ts_df.filepaths.copy().values, \n",
    "    size=cfg.size,\n",
    "    transform=cfg.valid_transform\n",
    ")\n",
    "ts_data = DL(ts_data_setup, batch_size=cfg.batch_size, shuffle=False)\n",
    "\n",
    "y_pred = predict_batch(\n",
    "    model=model,\n",
    "    dataloader=ts_data,\n",
    "    path=\"/kaggle/input/dcr-en4-a384-e10-f5/saves/ble_state_fold_5.pt\",\n",
    "    device=cfg.device\n",
    ")\n",
    "\n",
    "ss_df = pd.read_csv(\"/kaggle/input/dogs-vs-cats-redux-kernels-edition/sample_submission.csv\")\n",
    "ss_df[\"label\"] = y_pred\n",
    "ss_df.to_csv(\"submission.csv\", index=False)"
   ]
  }
 ],
 "metadata": {
  "kernelspec": {
   "display_name": "Python 3",
   "language": "python",
   "name": "python3"
  },
  "language_info": {
   "codemirror_mode": {
    "name": "ipython",
    "version": 3
   },
   "file_extension": ".py",
   "mimetype": "text/x-python",
   "name": "python",
   "nbconvert_exporter": "python",
   "pygments_lexer": "ipython3",
   "version": "3.7.12"
  },
  "papermill": {
   "default_parameters": {},
   "duration": 235.264163,
   "end_time": "2022-11-28T08:11:12.586919",
   "environment_variables": {},
   "exception": null,
   "input_path": "__notebook__.ipynb",
   "output_path": "__notebook__.ipynb",
   "parameters": {},
   "start_time": "2022-11-28T08:07:17.322756",
   "version": "2.3.4"
  }
 },
 "nbformat": 4,
 "nbformat_minor": 5
}
