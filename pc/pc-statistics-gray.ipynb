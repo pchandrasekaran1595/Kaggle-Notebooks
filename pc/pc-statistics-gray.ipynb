{
 "cells": [
  {
   "cell_type": "code",
   "execution_count": 1,
   "id": "db762790",
   "metadata": {
    "_cell_guid": "b1076dfc-b9ad-4769-8c92-a6c4dae69d19",
    "_uuid": "8f2839f25d086af736a60e9eeb907d3b93b6e0e5",
    "execution": {
     "iopub.execute_input": "2023-01-18T05:56:43.007556Z",
     "iopub.status.busy": "2023-01-18T05:56:43.006986Z",
     "iopub.status.idle": "2023-01-18T05:56:43.222761Z",
     "shell.execute_reply": "2023-01-18T05:56:43.221554Z"
    },
    "papermill": {
     "duration": 0.223825,
     "end_time": "2023-01-18T05:56:43.226005",
     "exception": false,
     "start_time": "2023-01-18T05:56:43.002180",
     "status": "completed"
    },
    "tags": []
   },
   "outputs": [],
   "source": [
    "import os\n",
    "import cv2\n",
    "import numpy as np\n",
    "import pandas as pd\n",
    "\n",
    "\n",
    "def breaker(num: int = 50, char: str = \"*\") -> None: print(\"\\n\" + num*char + \"\\n\")"
   ]
  },
  {
   "cell_type": "code",
   "execution_count": 2,
   "id": "b184dac5",
   "metadata": {
    "execution": {
     "iopub.execute_input": "2023-01-18T05:56:43.232590Z",
     "iopub.status.busy": "2023-01-18T05:56:43.232026Z",
     "iopub.status.idle": "2023-01-18T05:56:43.246141Z",
     "shell.execute_reply": "2023-01-18T05:56:43.244859Z"
    },
    "papermill": {
     "duration": 0.020522,
     "end_time": "2023-01-18T05:56:43.248827",
     "exception": false,
     "start_time": "2023-01-18T05:56:43.228305",
     "status": "completed"
    },
    "tags": []
   },
   "outputs": [],
   "source": [
    "def get_image(path: str, size: int=224) -> np.ndarray:\n",
    "    image = cv2.imread(path, cv2.IMREAD_GRAYSCALE)\n",
    "    if image.shape == (224, 224, 3) and size == 224: return image\n",
    "    return cv2.resize(src=image, dsize=(size, size), interpolation=cv2.INTER_AREA)\n",
    "\n",
    "\n",
    "def get_statistics(filepaths: np.ndarray) -> dict:\n",
    "\n",
    "    sizes: list = [224, 384, 512]\n",
    "    stats: dict = dict()\n",
    "    means: dict = dict()\n",
    "    stds: dict  = dict()\n",
    "    \n",
    "    for size in sizes:\n",
    "        total_num_of_images: int = 0\n",
    "        mean, std = 0.0, 0.0\n",
    "        for filepath in filepaths:\n",
    "            image = get_image(filepath, size)\n",
    "            mean += image.mean()\n",
    "            std += image.std()\n",
    "            total_num_of_images += 1\n",
    "        \n",
    "        means[f\"{size}\"] = [\n",
    "            mean / total_num_of_images / 255, \n",
    "        ]\n",
    "        \n",
    "        stds[f\"{size}\"]  = [\n",
    "            std / total_num_of_images / 255, \n",
    "        ]\n",
    "    \n",
    "    stats[\"means\"] = means\n",
    "    stats[\"stds\"] = stds\n",
    "    \n",
    "    return stats\n",
    "\n",
    "\n",
    "def print_statistics(stats: dict) -> None:\n",
    "    breaker()\n",
    "    print(\"Means\".upper())\n",
    "    breaker()\n",
    "    for k, v in stats[\"means\"].items():\n",
    "        print(f\"{k} x {k} Means\\n\")\n",
    "        print(f\"{v[0]:.5f}\")\n",
    "#         for i in range(len(v)):\n",
    "#             if i == 0:\n",
    "#                 print(f\"Red   : {v[i]:.5f}\")\n",
    "#             if i == 1:\n",
    "#                 print(f\"Green : {v[i]:.5f}\")\n",
    "#             if i == 2:\n",
    "#                 print(f\"Blue  : {v[i]:.5f}\")\n",
    "        breaker()\n",
    "        \n",
    "    breaker()\n",
    "    print(\"Stds\".upper())\n",
    "    breaker()\n",
    "    for k, v in stats[\"stds\"].items():\n",
    "        print(f\"{k} x {k} Stds\\n\")\n",
    "        print(f\"{v[0]:.5f}\")\n",
    "#         for i in range(len(v)):\n",
    "#             if i == 0:\n",
    "#                 print(f\"Red   : {v[i]:.5f}\")\n",
    "#             if i == 1:\n",
    "#                 print(f\"Green : {v[i]:.5f}\")\n",
    "#             if i == 2:\n",
    "#                 print(f\"Blue  : {v[i]:.5f}\")\n",
    "        breaker()"
   ]
  },
  {
   "cell_type": "code",
   "execution_count": 3,
   "id": "fa3e0f98",
   "metadata": {
    "execution": {
     "iopub.execute_input": "2023-01-18T05:56:43.255063Z",
     "iopub.status.busy": "2023-01-18T05:56:43.254657Z",
     "iopub.status.idle": "2023-01-18T06:01:27.992989Z",
     "shell.execute_reply": "2023-01-18T06:01:27.991625Z"
    },
    "papermill": {
     "duration": 284.749129,
     "end_time": "2023-01-18T06:01:28.000045",
     "exception": false,
     "start_time": "2023-01-18T05:56:43.250916",
     "status": "completed"
    },
    "tags": []
   },
   "outputs": [
    {
     "name": "stdout",
     "output_type": "stream",
     "text": [
      "\n",
      "**************************************************\n",
      "\n",
      "MEANS\n",
      "\n",
      "**************************************************\n",
      "\n",
      "224 x 224 Means\n",
      "\n",
      "0.48230\n",
      "\n",
      "**************************************************\n",
      "\n",
      "384 x 384 Means\n",
      "\n",
      "0.48230\n",
      "\n",
      "**************************************************\n",
      "\n",
      "512 x 512 Means\n",
      "\n",
      "0.48229\n",
      "\n",
      "**************************************************\n",
      "\n",
      "\n",
      "**************************************************\n",
      "\n",
      "STDS\n",
      "\n",
      "**************************************************\n",
      "\n",
      "224 x 224 Stds\n",
      "\n",
      "0.22198\n",
      "\n",
      "**************************************************\n",
      "\n",
      "384 x 384 Stds\n",
      "\n",
      "0.22245\n",
      "\n",
      "**************************************************\n",
      "\n",
      "512 x 512 Stds\n",
      "\n",
      "0.22261\n",
      "\n",
      "**************************************************\n",
      "\n"
     ]
    }
   ],
   "source": [
    "df = pd.read_csv(\"/kaggle/input/pc-dataframe/train.csv\")\n",
    "\n",
    "stats = get_statistics(df.filepaths.copy().values)\n",
    "print_statistics(stats)"
   ]
  }
 ],
 "metadata": {
  "kernelspec": {
   "display_name": "Python 3",
   "language": "python",
   "name": "python3"
  },
  "language_info": {
   "codemirror_mode": {
    "name": "ipython",
    "version": 3
   },
   "file_extension": ".py",
   "mimetype": "text/x-python",
   "name": "python",
   "nbconvert_exporter": "python",
   "pygments_lexer": "ipython3",
   "version": "3.7.12"
  },
  "papermill": {
   "default_parameters": {},
   "duration": 297.006008,
   "end_time": "2023-01-18T06:01:28.728993",
   "environment_variables": {},
   "exception": null,
   "input_path": "__notebook__.ipynb",
   "output_path": "__notebook__.ipynb",
   "parameters": {},
   "start_time": "2023-01-18T05:56:31.722985",
   "version": "2.3.4"
  }
 },
 "nbformat": 4,
 "nbformat_minor": 5
}
