{
 "cells": [
  {
   "cell_type": "code",
   "execution_count": 1,
   "id": "fb7cd149",
   "metadata": {
    "_cell_guid": "b1076dfc-b9ad-4769-8c92-a6c4dae69d19",
    "_uuid": "8f2839f25d086af736a60e9eeb907d3b93b6e0e5",
    "execution": {
     "iopub.execute_input": "2023-01-18T06:03:27.214621Z",
     "iopub.status.busy": "2023-01-18T06:03:27.213884Z",
     "iopub.status.idle": "2023-01-18T06:03:27.389427Z",
     "shell.execute_reply": "2023-01-18T06:03:27.388544Z"
    },
    "papermill": {
     "duration": 0.181488,
     "end_time": "2023-01-18T06:03:27.391756",
     "exception": false,
     "start_time": "2023-01-18T06:03:27.210268",
     "status": "completed"
    },
    "tags": []
   },
   "outputs": [],
   "source": [
    "import os\n",
    "import cv2\n",
    "import numpy as np\n",
    "import pandas as pd\n",
    "\n",
    "\n",
    "def breaker(num: int = 50, char: str = \"*\") -> None: print(\"\\n\" + num*char + \"\\n\")"
   ]
  },
  {
   "cell_type": "code",
   "execution_count": 2,
   "id": "458d2625",
   "metadata": {
    "execution": {
     "iopub.execute_input": "2023-01-18T06:03:27.395931Z",
     "iopub.status.busy": "2023-01-18T06:03:27.395679Z",
     "iopub.status.idle": "2023-01-18T06:03:27.405395Z",
     "shell.execute_reply": "2023-01-18T06:03:27.404516Z"
    },
    "papermill": {
     "duration": 0.013608,
     "end_time": "2023-01-18T06:03:27.407119",
     "exception": false,
     "start_time": "2023-01-18T06:03:27.393511",
     "status": "completed"
    },
    "tags": []
   },
   "outputs": [],
   "source": [
    "def get_image(path: str, size: int=224) -> np.ndarray:\n",
    "    image = cv2.imread(path, cv2.IMREAD_GRAYSCALE)\n",
    "    if image.shape == (224, 224, 3) and size == 224: return image\n",
    "    return cv2.resize(src=image, dsize=(size, size), interpolation=cv2.INTER_AREA)\n",
    "\n",
    "\n",
    "def get_statistics(filepaths: np.ndarray) -> dict:\n",
    "\n",
    "    sizes: list = [224, 384, 512]\n",
    "    stats: dict = dict()\n",
    "    means: dict = dict()\n",
    "    stds: dict  = dict()\n",
    "    \n",
    "    for size in sizes:\n",
    "        total_num_of_images: int = 0\n",
    "        mean, std = 0.0, 0.0\n",
    "        for filepath in filepaths:\n",
    "            image = get_image(filepath, size)\n",
    "            mean += image.mean()\n",
    "            std += image.std()\n",
    "            total_num_of_images += 1\n",
    "        \n",
    "        means[f\"{size}\"] = [\n",
    "            mean / total_num_of_images / 255, \n",
    "        ]\n",
    "        \n",
    "        stds[f\"{size}\"]  = [\n",
    "            std / total_num_of_images / 255, \n",
    "        ]\n",
    "    \n",
    "    stats[\"means\"] = means\n",
    "    stats[\"stds\"] = stds\n",
    "    \n",
    "    return stats\n",
    "\n",
    "\n",
    "def print_statistics(stats: dict) -> None:\n",
    "    breaker()\n",
    "    print(\"Means\".upper())\n",
    "    breaker()\n",
    "    for k, v in stats[\"means\"].items():\n",
    "        print(f\"{k} x {k} Means - {v[0]:.5f}\")\n",
    "        \n",
    "    breaker()\n",
    "    print(\"Stds\".upper())\n",
    "    breaker()\n",
    "    for k, v in stats[\"stds\"].items():\n",
    "        print(f\"{k} x {k} Stds - {v[0]:.5f}\")\n",
    "\n",
    "    breaker()"
   ]
  },
  {
   "cell_type": "code",
   "execution_count": 3,
   "id": "61a18178",
   "metadata": {
    "execution": {
     "iopub.execute_input": "2023-01-18T06:03:27.410675Z",
     "iopub.status.busy": "2023-01-18T06:03:27.410454Z",
     "iopub.status.idle": "2023-01-18T06:07:19.289696Z",
     "shell.execute_reply": "2023-01-18T06:07:19.289019Z"
    },
    "papermill": {
     "duration": 231.884452,
     "end_time": "2023-01-18T06:07:19.292924",
     "exception": false,
     "start_time": "2023-01-18T06:03:27.408472",
     "status": "completed"
    },
    "tags": []
   },
   "outputs": [
    {
     "name": "stdout",
     "output_type": "stream",
     "text": [
      "\n",
      "**************************************************\n",
      "\n",
      "MEANS\n",
      "\n",
      "**************************************************\n",
      "\n",
      "224 x 224 Means - 0.48230\n",
      "384 x 384 Means - 0.48230\n",
      "512 x 512 Means - 0.48229\n",
      "\n",
      "**************************************************\n",
      "\n",
      "STDS\n",
      "\n",
      "**************************************************\n",
      "\n",
      "224 x 224 Stds - 0.22198\n",
      "384 x 384 Stds - 0.22245\n",
      "512 x 512 Stds - 0.22261\n",
      "\n",
      "**************************************************\n",
      "\n"
     ]
    }
   ],
   "source": [
    "df = pd.read_csv(\"/kaggle/input/pc-dataframe/train.csv\")\n",
    "\n",
    "stats = get_statistics(df.filepaths.copy().values)\n",
    "print_statistics(stats)"
   ]
  }
 ],
 "metadata": {
  "kernelspec": {
   "display_name": "Python 3",
   "language": "python",
   "name": "python3"
  },
  "language_info": {
   "codemirror_mode": {
    "name": "ipython",
    "version": 3
   },
   "file_extension": ".py",
   "mimetype": "text/x-python",
   "name": "python",
   "nbconvert_exporter": "python",
   "pygments_lexer": "ipython3",
   "version": "3.7.12"
  },
  "papermill": {
   "default_parameters": {},
   "duration": 239.507671,
   "end_time": "2023-01-18T06:07:19.813424",
   "environment_variables": {},
   "exception": null,
   "input_path": "__notebook__.ipynb",
   "output_path": "__notebook__.ipynb",
   "parameters": {},
   "start_time": "2023-01-18T06:03:20.305753",
   "version": "2.3.4"
  }
 },
 "nbformat": 4,
 "nbformat_minor": 5
}
