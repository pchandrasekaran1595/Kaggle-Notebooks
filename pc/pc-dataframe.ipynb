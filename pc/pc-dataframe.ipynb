{
 "cells": [
  {
   "cell_type": "code",
   "execution_count": 1,
   "id": "7b05bd13",
   "metadata": {
    "_cell_guid": "b1076dfc-b9ad-4769-8c92-a6c4dae69d19",
    "_uuid": "8f2839f25d086af736a60e9eeb907d3b93b6e0e5",
    "execution": {
     "iopub.execute_input": "2023-01-17T08:42:50.811746Z",
     "iopub.status.busy": "2023-01-17T08:42:50.810772Z",
     "iopub.status.idle": "2023-01-17T08:42:51.027130Z",
     "shell.execute_reply": "2023-01-17T08:42:51.025828Z"
    },
    "papermill": {
     "duration": 0.22506,
     "end_time": "2023-01-17T08:42:51.030359",
     "exception": false,
     "start_time": "2023-01-17T08:42:50.805299",
     "status": "completed"
    },
    "tags": []
   },
   "outputs": [],
   "source": [
    "import os\n",
    "import cv2\n",
    "import json\n",
    "import numpy as np\n",
    "import pandas as pd\n",
    "\n",
    "BASE_PATH: str = \"/kaggle/input/pneumonia-sai2/pneumonia-kaggle\""
   ]
  },
  {
   "cell_type": "code",
   "execution_count": 2,
   "id": "8681fc52",
   "metadata": {
    "execution": {
     "iopub.execute_input": "2023-01-17T08:42:51.037736Z",
     "iopub.status.busy": "2023-01-17T08:42:51.037314Z",
     "iopub.status.idle": "2023-01-17T08:42:51.054069Z",
     "shell.execute_reply": "2023-01-17T08:42:51.052536Z"
    },
    "papermill": {
     "duration": 0.02394,
     "end_time": "2023-01-17T08:42:51.056786",
     "exception": false,
     "start_time": "2023-01-17T08:42:51.032846",
     "status": "completed"
    },
    "tags": []
   },
   "outputs": [],
   "source": [
    "tr_df: pd.DataFrame = pd.DataFrame(data=None, columns=[\"filepaths\", \"labels\"])\n",
    "ts_df: pd.DataFrame = pd.DataFrame(data=None, columns=[\"filepaths\"])"
   ]
  },
  {
   "cell_type": "code",
   "execution_count": 3,
   "id": "a11b9e92",
   "metadata": {
    "execution": {
     "iopub.execute_input": "2023-01-17T08:42:51.064053Z",
     "iopub.status.busy": "2023-01-17T08:42:51.063574Z",
     "iopub.status.idle": "2023-01-17T08:42:51.364256Z",
     "shell.execute_reply": "2023-01-17T08:42:51.362656Z"
    },
    "papermill": {
     "duration": 0.307849,
     "end_time": "2023-01-17T08:42:51.367125",
     "exception": false,
     "start_time": "2023-01-17T08:42:51.059276",
     "status": "completed"
    },
    "tags": []
   },
   "outputs": [],
   "source": [
    "tr_filepaths: list = []\n",
    "tr_labels: list = []\n",
    "\n",
    "\n",
    "i: int = 0\n",
    "for folder in sorted(os.listdir(f\"{BASE_PATH}/train\")):\n",
    "    for filename in os.listdir(f\"{BASE_PATH}/train/{folder}\"):\n",
    "        tr_filepaths.append(os.path.join(f\"{BASE_PATH}/train/{folder}\", filename))\n",
    "        tr_labels.append(i)\n",
    "    i += 1\n",
    "    \n",
    "tr_df.filepaths = tr_filepaths\n",
    "tr_df.labels = tr_labels\n",
    "tr_df.to_csv(\"train.csv\", index=False)"
   ]
  },
  {
   "cell_type": "code",
   "execution_count": 4,
   "id": "5de8cf5f",
   "metadata": {
    "execution": {
     "iopub.execute_input": "2023-01-17T08:42:51.374119Z",
     "iopub.status.busy": "2023-01-17T08:42:51.373290Z",
     "iopub.status.idle": "2023-01-17T08:42:51.471775Z",
     "shell.execute_reply": "2023-01-17T08:42:51.469840Z"
    },
    "papermill": {
     "duration": 0.106051,
     "end_time": "2023-01-17T08:42:51.475554",
     "exception": false,
     "start_time": "2023-01-17T08:42:51.369503",
     "status": "completed"
    },
    "tags": []
   },
   "outputs": [],
   "source": [
    "filepaths: list = []\n",
    "labels: list = []\n",
    "\n",
    "for filename in sorted(os.listdir(f\"{BASE_PATH}/test\")):\n",
    "    filepaths.append(os.path.join(f\"{BASE_PATH}/test\", filename))\n",
    "\n",
    "ts_df.filepaths = filepaths\n",
    "ts_df.to_csv(\"test.csv\", index=False)"
   ]
  },
  {
   "cell_type": "code",
   "execution_count": 5,
   "id": "7b3495e3",
   "metadata": {
    "execution": {
     "iopub.execute_input": "2023-01-17T08:42:51.483789Z",
     "iopub.status.busy": "2023-01-17T08:42:51.482742Z",
     "iopub.status.idle": "2023-01-17T08:42:51.490774Z",
     "shell.execute_reply": "2023-01-17T08:42:51.489474Z"
    },
    "papermill": {
     "duration": 0.016067,
     "end_time": "2023-01-17T08:42:51.494185",
     "exception": false,
     "start_time": "2023-01-17T08:42:51.478118",
     "status": "completed"
    },
    "tags": []
   },
   "outputs": [],
   "source": [
    "labels: dict = dict()\n",
    "\n",
    "i = 0\n",
    "for folder in sorted(os.listdir(f\"{BASE_PATH}/train\")):\n",
    "    labels[i] = folder\n",
    "    i += 1\n",
    "\n",
    "json.dump(labels, open(\"labels.json\", \"w\"))"
   ]
  }
 ],
 "metadata": {
  "kernelspec": {
   "display_name": "Python 3",
   "language": "python",
   "name": "python3"
  },
  "language_info": {
   "codemirror_mode": {
    "name": "ipython",
    "version": 3
   },
   "file_extension": ".py",
   "mimetype": "text/x-python",
   "name": "python",
   "nbconvert_exporter": "python",
   "pygments_lexer": "ipython3",
   "version": "3.7.12"
  },
  "papermill": {
   "default_parameters": {},
   "duration": 11.86609,
   "end_time": "2023-01-17T08:42:52.321260",
   "environment_variables": {},
   "exception": null,
   "input_path": "__notebook__.ipynb",
   "output_path": "__notebook__.ipynb",
   "parameters": {},
   "start_time": "2023-01-17T08:42:40.455170",
   "version": "2.3.4"
  }
 },
 "nbformat": 4,
 "nbformat_minor": 5
}
