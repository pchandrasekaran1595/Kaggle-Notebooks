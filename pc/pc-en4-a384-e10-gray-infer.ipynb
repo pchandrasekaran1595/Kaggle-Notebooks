{
 "cells": [
  {
   "cell_type": "markdown",
   "id": "36fed958",
   "metadata": {
    "_cell_guid": "b1076dfc-b9ad-4769-8c92-a6c4dae69d19",
    "_uuid": "8f2839f25d086af736a60e9eeb907d3b93b6e0e5",
    "papermill": {
     "duration": 0.004898,
     "end_time": "2023-01-18T10:55:11.308544",
     "exception": false,
     "start_time": "2023-01-18T10:55:11.303646",
     "status": "completed"
    },
    "tags": []
   },
   "source": [
    "### **Setup**"
   ]
  },
  {
   "cell_type": "code",
   "execution_count": 1,
   "id": "06576035",
   "metadata": {
    "execution": {
     "iopub.execute_input": "2023-01-18T10:55:11.318303Z",
     "iopub.status.busy": "2023-01-18T10:55:11.317782Z",
     "iopub.status.idle": "2023-01-18T10:55:22.069142Z",
     "shell.execute_reply": "2023-01-18T10:55:22.067814Z"
    },
    "papermill": {
     "duration": 10.759051,
     "end_time": "2023-01-18T10:55:22.071466",
     "exception": false,
     "start_time": "2023-01-18T10:55:11.312415",
     "status": "completed"
    },
    "tags": []
   },
   "outputs": [
    {
     "name": "stderr",
     "output_type": "stream",
     "text": [
      "WARNING: Running pip as the 'root' user can result in broken permissions and conflicting behaviour with the system package manager. It is recommended to use a virtual environment instead: https://pip.pypa.io/warnings/venv\n"
     ]
    }
   ],
   "source": [
    "%%bash\n",
    "pip install timm -q"
   ]
  },
  {
   "cell_type": "markdown",
   "id": "53e8ddea",
   "metadata": {
    "papermill": {
     "duration": 0.003631,
     "end_time": "2023-01-18T10:55:22.079426",
     "exception": false,
     "start_time": "2023-01-18T10:55:22.075795",
     "status": "completed"
    },
    "tags": []
   },
   "source": [
    "### **Library Imports**"
   ]
  },
  {
   "cell_type": "code",
   "execution_count": 2,
   "id": "22df5e9c",
   "metadata": {
    "execution": {
     "iopub.execute_input": "2023-01-18T10:55:22.088537Z",
     "iopub.status.busy": "2023-01-18T10:55:22.088172Z",
     "iopub.status.idle": "2023-01-18T10:55:25.915031Z",
     "shell.execute_reply": "2023-01-18T10:55:25.913950Z"
    },
    "papermill": {
     "duration": 3.834265,
     "end_time": "2023-01-18T10:55:25.917469",
     "exception": false,
     "start_time": "2023-01-18T10:55:22.083204",
     "status": "completed"
    },
    "tags": []
   },
   "outputs": [],
   "source": [
    "import os\n",
    "import re\n",
    "import cv2\n",
    "import timm\n",
    "import torch\n",
    "import numpy as np\n",
    "import pandas as pd\n",
    "import matplotlib.pyplot as plt\n",
    "\n",
    "from time import time\n",
    "from typing import Union\n",
    "from torch import nn, optim\n",
    "from torch.utils.data import Dataset\n",
    "from torch.utils.data import DataLoader as DL\n",
    "from torchvision import models, transforms\n",
    "\n",
    "from sklearn.model_selection import KFold"
   ]
  },
  {
   "cell_type": "markdown",
   "id": "930bba8f",
   "metadata": {
    "papermill": {
     "duration": 0.003809,
     "end_time": "2023-01-18T10:55:25.925652",
     "exception": false,
     "start_time": "2023-01-18T10:55:25.921843",
     "status": "completed"
    },
    "tags": []
   },
   "source": [
    "### **Utilities and Helpers**"
   ]
  },
  {
   "cell_type": "code",
   "execution_count": 3,
   "id": "40577977",
   "metadata": {
    "execution": {
     "iopub.execute_input": "2023-01-18T10:55:25.935294Z",
     "iopub.status.busy": "2023-01-18T10:55:25.934927Z",
     "iopub.status.idle": "2023-01-18T10:55:25.942158Z",
     "shell.execute_reply": "2023-01-18T10:55:25.941172Z"
    },
    "papermill": {
     "duration": 0.014544,
     "end_time": "2023-01-18T10:55:25.944217",
     "exception": false,
     "start_time": "2023-01-18T10:55:25.929673",
     "status": "completed"
    },
    "tags": []
   },
   "outputs": [],
   "source": [
    "SEED: int = 42\n",
    "SIZE: int = 384\n",
    "\n",
    "\n",
    "def breaker(num: int=50, char: str=\"*\") -> None:\n",
    "    print(\"\\n\" + num*char + \"\\n\")\n",
    "\n",
    "    \n",
    "def get_image(path: str, size: int=224) -> np.ndarray:\n",
    "    return cv2.resize(src=cv2.imread(path, cv2.IMREAD_GRAYSCALE), dsize=(size, size), interpolation=cv2.INTER_AREA)\n",
    "\n",
    "    \n",
    "# def show_loss_graphs(L: list) -> None:\n",
    "#     TL, VL = [], []\n",
    "#     for i in range(len(L)):\n",
    "#         TL.append(L[i][\"train\"])\n",
    "#         VL.append(L[i][\"valid\"])\n",
    "#     x_Axis = np.arange(1, len(TL) + 1)\n",
    "#     plt.figure()\n",
    "#     plt.plot(x_Axis, TL, \"r\", label=\"Train\")\n",
    "#     plt.plot(x_Axis, VL, \"b\", label=\"Valid\")\n",
    "#     plt.legend()\n",
    "#     plt.grid()\n",
    "#     plt.title(\"Loss Graph\")\n",
    "#     plt.show()\n",
    "\n",
    "    \n",
    "# def show_accuracy_graphs(A: list) -> None:\n",
    "#     TA, VA = [], []\n",
    "#     for i in range(len(A)):\n",
    "#         TA.append(A[i][\"train\"])\n",
    "#         VA.append(A[i][\"valid\"])\n",
    "#     x_Axis = np.arange(1, len(TA) + 1)\n",
    "#     plt.figure()\n",
    "#     plt.plot(x_Axis, TA, \"r\", label=\"Train\")\n",
    "#     plt.plot(x_Axis, VA, \"b\", label=\"Valid\")\n",
    "#     plt.legend()\n",
    "#     plt.grid()\n",
    "#     plt.title(\"Accuracy Graph\")\n",
    "#     plt.show()\n",
    "    \n",
    "\n",
    "# def show_lr_graph(LR: list) -> None:\n",
    "#     x_Axis = [i+1 for i in range(len(LR))]\n",
    "#     plt.figure(figsize=(8, 6))\n",
    "#     plt.plot(x_Axis, LR, \"rx\")\n",
    "#     plt.grid()\n",
    "#     plt.show()"
   ]
  },
  {
   "cell_type": "markdown",
   "id": "07c45ad4",
   "metadata": {
    "papermill": {
     "duration": 0.003862,
     "end_time": "2023-01-18T10:55:25.952184",
     "exception": false,
     "start_time": "2023-01-18T10:55:25.948322",
     "status": "completed"
    },
    "tags": []
   },
   "source": [
    "\n",
    "\n",
    "### **Configuration**"
   ]
  },
  {
   "cell_type": "code",
   "execution_count": 4,
   "id": "6497a6af",
   "metadata": {
    "execution": {
     "iopub.execute_input": "2023-01-18T10:55:25.962137Z",
     "iopub.status.busy": "2023-01-18T10:55:25.961796Z",
     "iopub.status.idle": "2023-01-18T10:55:26.047311Z",
     "shell.execute_reply": "2023-01-18T10:55:26.046176Z"
    },
    "papermill": {
     "duration": 0.093322,
     "end_time": "2023-01-18T10:55:26.049441",
     "exception": false,
     "start_time": "2023-01-18T10:55:25.956119",
     "status": "completed"
    },
    "tags": []
   },
   "outputs": [],
   "source": [
    "class CFG(object):\n",
    "    def __init__(self,            \n",
    "                 seed: int = 42,\n",
    "                 size: int = 224,\n",
    "                 n_splits: int = 5,\n",
    "                 batch_size: int = 16,\n",
    "                 epochs: int = 25,\n",
    "                 early_stopping: int = 5,\n",
    "                 lr: float = 1e-4,\n",
    "                 wd: float = 0.0,\n",
    "                 max_lr: float = 1e-3,\n",
    "                 pct_start: float = 0.2,\n",
    "                 steps_per_epoch: int = 100,\n",
    "                 div_factor: int = 1e3, \n",
    "                 final_div_factor: float = 1e3,\n",
    "                 ):\n",
    "        self.seed = seed\n",
    "        self.size = size\n",
    "        self.n_splits = n_splits\n",
    "        self.batch_size = batch_size\n",
    "        self.epochs = epochs\n",
    "        self.early_stopping = early_stopping\n",
    "        self.lr = lr\n",
    "        self.wd = wd\n",
    "        self.max_lr = max_lr\n",
    "        self.pct_start = pct_start\n",
    "        self.steps_per_epoch = steps_per_epoch\n",
    "        self.div_factor = div_factor\n",
    "        self.final_div_factor = final_div_factor\n",
    "        self.device = torch.device(\"cuda\" if torch.cuda.is_available() else \"cpu\")\n",
    "        \n",
    "        if self.size == 224:\n",
    "            self.train_transform = transforms.Compose([\n",
    "                transforms.ToTensor(),\n",
    "                transforms.Normalize([0.48230], [0.22198]),\n",
    "                transforms.RandomAffine(degrees=(-45, 45), translate=(0.15, 0.15), scale=(0.5, 1.5)),\n",
    "                transforms.RandomHorizontalFlip(p=0.25),\n",
    "                transforms.RandomVerticalFlip(p=0.25),\n",
    "            ])\n",
    "            self.valid_transform = transforms.Compose([\n",
    "                transforms.ToTensor(),\n",
    "                transforms.Normalize([0.48230], [0.22198]),\n",
    "            ])\n",
    "        \n",
    "        if self.size == 384:\n",
    "            self.train_transform = transforms.Compose([\n",
    "                transforms.ToTensor(),\n",
    "                transforms.Normalize([0.48230], [0.22245]),\n",
    "                transforms.RandomAffine(degrees=(-45, 45), translate=(0.15, 0.15), scale=(0.5, 1.5)),\n",
    "                transforms.RandomHorizontalFlip(p=0.25),\n",
    "                transforms.RandomVerticalFlip(p=0.25),\n",
    "            ])\n",
    "            self.valid_transform = transforms.Compose([\n",
    "                transforms.ToTensor(),\n",
    "                transforms.Normalize([0.48230], [0.22245]),\n",
    "            ])\n",
    "        \n",
    "        if self.size == 512:\n",
    "            self.train_transform = transforms.Compose([\n",
    "                transforms.ToTensor(),\n",
    "                transforms.Normalize([0.48229], [0.22261]),\n",
    "                transforms.RandomAffine(degrees=(-45, 45), translate=(0.15, 0.15), scale=(0.5, 1.5)),\n",
    "                transforms.RandomHorizontalFlip(p=0.25),\n",
    "                transforms.RandomVerticalFlip(p=0.25),\n",
    "            ])\n",
    "            self.valid_transform = transforms.Compose([\n",
    "                transforms.ToTensor(),\n",
    "                transforms.Normalize([0.48229], [0.22261]),\n",
    "            ])\n",
    "                                \n",
    "        self.save_path = \"saves\"\n",
    "        if not os.path.exists(self.save_path): os.makedirs(self.save_path)\n",
    "    \n",
    "cfg = CFG(\n",
    "    seed=SEED, \n",
    "    size=SIZE\n",
    ")"
   ]
  },
  {
   "cell_type": "markdown",
   "id": "237801ea",
   "metadata": {
    "papermill": {
     "duration": 0.00388,
     "end_time": "2023-01-18T10:55:26.057699",
     "exception": false,
     "start_time": "2023-01-18T10:55:26.053819",
     "status": "completed"
    },
    "tags": []
   },
   "source": [
    "### **Dataset Template**"
   ]
  },
  {
   "cell_type": "code",
   "execution_count": 5,
   "id": "313c4810",
   "metadata": {
    "execution": {
     "iopub.execute_input": "2023-01-18T10:55:26.069030Z",
     "iopub.status.busy": "2023-01-18T10:55:26.067134Z",
     "iopub.status.idle": "2023-01-18T10:55:26.075225Z",
     "shell.execute_reply": "2023-01-18T10:55:26.074250Z"
    },
    "papermill": {
     "duration": 0.015601,
     "end_time": "2023-01-18T10:55:26.077356",
     "exception": false,
     "start_time": "2023-01-18T10:55:26.061755",
     "status": "completed"
    },
    "tags": []
   },
   "outputs": [],
   "source": [
    "class DS(Dataset):\n",
    "    def __init__(\n",
    "        self, \n",
    "        filepaths: np.ndarray, \n",
    "        size: int,\n",
    "        labels: Union[np.ndarray, None]=None, \n",
    "        transform=None\n",
    "    ):\n",
    "        \n",
    "        self.filepaths = filepaths\n",
    "        self.labels = labels\n",
    "        self.size = size\n",
    "        self.transform = transform\n",
    "    \n",
    "    def __len__(self):\n",
    "        return self.filepaths.shape[0]\n",
    "    \n",
    "    def __getitem__(self, idx):\n",
    "        image = get_image(self.filepaths[idx], self.size)\n",
    "        if self.labels is None:\n",
    "            return self.transform(image)\n",
    "        return self.transform(image), torch.FloatTensor(self.labels[idx])"
   ]
  },
  {
   "cell_type": "markdown",
   "id": "7277e08e",
   "metadata": {
    "papermill": {
     "duration": 0.003917,
     "end_time": "2023-01-18T10:55:26.085671",
     "exception": false,
     "start_time": "2023-01-18T10:55:26.081754",
     "status": "completed"
    },
    "tags": []
   },
   "source": [
    "### **Model**"
   ]
  },
  {
   "cell_type": "code",
   "execution_count": 6,
   "id": "184886ee",
   "metadata": {
    "execution": {
     "iopub.execute_input": "2023-01-18T10:55:26.095427Z",
     "iopub.status.busy": "2023-01-18T10:55:26.095070Z",
     "iopub.status.idle": "2023-01-18T10:55:26.102025Z",
     "shell.execute_reply": "2023-01-18T10:55:26.101014Z"
    },
    "papermill": {
     "duration": 0.014457,
     "end_time": "2023-01-18T10:55:26.104169",
     "exception": false,
     "start_time": "2023-01-18T10:55:26.089712",
     "status": "completed"
    },
    "tags": []
   },
   "outputs": [],
   "source": [
    "class Model(nn.Module):\n",
    "    def __init__(self):\n",
    "        super(Model, self).__init__()\n",
    "            \n",
    "        self.model = timm.create_model(model_name=\"efficientnet_b4\", pretrained=False)\n",
    "        self.model.conv_stem = nn.Conv2d(\n",
    "            in_channels=1,\n",
    "            out_channels=self.model.conv_stem.out_channels,\n",
    "            kernel_size=self.model.conv_stem.kernel_size,\n",
    "            stride=self.model.conv_stem.stride,\n",
    "            padding=self.model.conv_stem.padding\n",
    "        )\n",
    "        self.model.classifier = nn.Linear(in_features=self.model.classifier.in_features, out_features=1)\n",
    "\n",
    "    def forward(self, x):\n",
    "        return self.model(x)"
   ]
  },
  {
   "cell_type": "markdown",
   "id": "7d88cd7c",
   "metadata": {
    "papermill": {
     "duration": 0.00424,
     "end_time": "2023-01-18T10:55:26.112767",
     "exception": false,
     "start_time": "2023-01-18T10:55:26.108527",
     "status": "completed"
    },
    "tags": []
   },
   "source": [
    "### **Fit and Predict**"
   ]
  },
  {
   "cell_type": "code",
   "execution_count": 7,
   "id": "a4857f86",
   "metadata": {
    "execution": {
     "iopub.execute_input": "2023-01-18T10:55:26.122945Z",
     "iopub.status.busy": "2023-01-18T10:55:26.122581Z",
     "iopub.status.idle": "2023-01-18T10:55:26.134607Z",
     "shell.execute_reply": "2023-01-18T10:55:26.133676Z"
    },
    "papermill": {
     "duration": 0.0201,
     "end_time": "2023-01-18T10:55:26.137040",
     "exception": false,
     "start_time": "2023-01-18T10:55:26.116940",
     "status": "completed"
    },
    "tags": []
   },
   "outputs": [],
   "source": [
    "# def fit(\n",
    "#     model=None,\n",
    "#     optimizer=None, \n",
    "#     scheduler_rlrop=None,\n",
    "#     scheduler_oclr=None,\n",
    "#     epochs=None, \n",
    "#     early_stopping_patience=None, \n",
    "#     dataloaders=None, \n",
    "#     fold=None, \n",
    "#     save_path=None,\n",
    "#     device=None,\n",
    "#     verbose=False\n",
    "# ) -> tuple:\n",
    "    \n",
    "#     def get_accuracy(y_pred, y_true):\n",
    "#         y_pred = torch.sigmoid(y_pred)\n",
    "        \n",
    "#         y_pred[y_pred > 0.5] = 1\n",
    "#         y_pred[y_pred <= 0.5] = 0\n",
    "        \n",
    "#         return torch.count_nonzero(y_pred == y_true).item() / len(y_pred)\n",
    "    \n",
    "#     if verbose:\n",
    "#         breaker()\n",
    "#         if fold: print(f\"Training Fold {fold}...\")\n",
    "#         else: print(\"Training ...\")\n",
    "#         breaker()\n",
    "        \n",
    "#     bestLoss: dict = {\"train\" : np.inf, \"valid\" : np.inf} \n",
    "#     bestAccs: dict = {\"train\" : 0.0, \"valid\" : 0.0}\n",
    "    \n",
    "#     Losses: list = []\n",
    "#     Accuracies: list = [] \n",
    "#     LRs: list = []\n",
    "        \n",
    "#     if fold: \n",
    "#         ble_name = f\"ble_state_fold_{fold}.pt\"\n",
    "#         bae_name = f\"bae_state_fold_{fold}.pt\"\n",
    "#     else: \n",
    "#         ble_name = f\"ble_state.pt\"\n",
    "#         bae_name = f\"bae_state.pt\"\n",
    "        \n",
    "#     start_time = time()\n",
    "#     for e in range(epochs):\n",
    "#         e_st = time()\n",
    "#         epochLoss: dict = {\"train\" : 0.0, \"valid\" : 0.0} \n",
    "#         epochAccs: dict = {\"train\" : 0.0, \"valid\" : 0.0}\n",
    "\n",
    "#         for phase in [\"train\", \"valid\"]:\n",
    "#             if phase == \"train\":\n",
    "#                 model.train()\n",
    "#             else:\n",
    "#                 model.eval()\n",
    "            \n",
    "#             lossPerPass: list = []\n",
    "#             accsPerPass: list = []\n",
    "                \n",
    "#             for X, y in dataloaders[phase]:\n",
    "#                 X, y = X.to(device), y.to(device)\n",
    "\n",
    "#                 optimizer.zero_grad()\n",
    "#                 with torch.set_grad_enabled(phase == \"train\"):\n",
    "#                     output = model(X)\n",
    "#                     loss = torch.nn.BCEWithLogitsLoss()(output, y)\n",
    "#                     if phase == \"train\":\n",
    "#                         loss.backward()\n",
    "#                         optimizer.step()\n",
    "#                         if scheduler_oclr: scheduler_oclr.step()\n",
    "#                 lossPerPass.append(loss.item())\n",
    "#                 accsPerPass.append(get_accuracy(output, y))\n",
    "#             epochLoss[phase] = np.mean(np.array(lossPerPass))\n",
    "#             epochAccs[phase] = np.mean(np.array(accsPerPass))\n",
    "#         if scheduler_oclr: LRs.append(scheduler_oclr.get_last_lr())\n",
    "#         Losses.append(epochLoss)\n",
    "#         Accuracies.append(epochAccs)\n",
    "        \n",
    "#         if scheduler_oclr:\n",
    "#             save_dict = {\"model_state_dict\"     : model.state_dict(),\n",
    "#                          \"optim_state_dict\"     : optimizer.state_dict(),\n",
    "#                          \"scheduler_state_dict\" : scheduler_oclr.state_dict()}\n",
    "        \n",
    "#         elif scheduler_rlrop:\n",
    "#             save_dict = {\"model_state_dict\"     : model.state_dict(),\n",
    "#                          \"optim_state_dict\"     : optimizer.state_dict(),\n",
    "#                          \"scheduler_state_dict\" : scheduler_rlrop.state_dict()}\n",
    "        \n",
    "#         else:\n",
    "#             save_dict = {\"model_state_dict\"     : model.state_dict(),\n",
    "#                          \"optim_state_dict\"     : optimizer.state_dict()}\n",
    "        \n",
    "#         if early_stopping_patience:\n",
    "#             if epochLoss[\"valid\"] < bestLoss[\"valid\"]:\n",
    "#                 bestLoss = epochLoss\n",
    "#                 BLE = e + 1\n",
    "#                 torch.save(save_dict, os.path.join(save_path, ble_name))\n",
    "#                 torch.save(save_dict, os.path.join(save_path, bae_name))\n",
    "#                 early_stopping_step = 0\n",
    "#             else:\n",
    "#                 early_stopping_step += 1\n",
    "#                 if early_stopping_step > early_stopping_patience:\n",
    "#                     print(\"\\nEarly Stopping at Epoch {}\".format(e + 1))\n",
    "#                     break\n",
    "        \n",
    "#         if epochLoss[\"valid\"] < bestLoss[\"valid\"]:\n",
    "#             bestLoss = epochLoss\n",
    "#             BLE = e + 1\n",
    "#             torch.save(save_dict,os.path.join(save_path, ble_name))\n",
    "        \n",
    "#         if epochAccs[\"valid\"] > bestAccs[\"valid\"]:\n",
    "#             bestAccs = epochAccs\n",
    "#             BAE = e + 1\n",
    "#             torch.save(save_dict,os.path.join(save_path, bae_name))\n",
    "        \n",
    "#         if scheduler_rlrop: scheduler_rlrop.step(epochLoss[\"valid\"])\n",
    "        \n",
    "#         if verbose:\n",
    "#             print(\"Epoch: {} | Train Loss: {:.5f} | Valid Loss: {:.5f} |\\\n",
    "#  Train Accs: {:.5f} | Valid Accs: {:.5f} | Time: {:.2f} seconds\".format(\n",
    "#                 e+1, \n",
    "#                 epochLoss[\"train\"], epochLoss[\"valid\"], \n",
    "#                 epochAccs[\"train\"], epochAccs[\"valid\"], \n",
    "#                 time()-e_st)\n",
    "#              )\n",
    "\n",
    "#     if verbose:                                           \n",
    "#         breaker()\n",
    "#         print(f\"Best Validation Loss at Epoch {BLE}\")\n",
    "#         breaker()\n",
    "#         print(f\"Best Validation Accs at Epoch {BAE}\")\n",
    "#         breaker()\n",
    "#         print(\"Time Taken [{} Epochs] : {:.2f} minutes\".format(len(Losses), (time()-start_time)/60))\n",
    "    \n",
    "#     return Losses, Accuracies, LRs, bestLoss, bestAccs, BLE, BAE, ble_name, bae_name\n",
    "\n",
    "\n",
    "def predict_batch(model=None, dataloader=None, path=None, device=None) -> np.ndarray:\n",
    "    model.load_state_dict(torch.load(path, map_location=device)[\"model_state_dict\"])\n",
    "    model.to(device)    \n",
    "    model.eval()\n",
    "    \n",
    "    y_pred = torch.zeros(1, 1).to(device)\n",
    "    \n",
    "    for X in dataloader:\n",
    "        X = X.to(device)\n",
    "        with torch.no_grad():\n",
    "            output = torch.sigmoid(model(X))\n",
    "        y_pred = torch.cat((y_pred, output.view(-1, 1)), dim=0)\n",
    "    \n",
    "    y_pred[y_pred > 0.5] = 1\n",
    "    y_pred[y_pred <= 0.5] = 0\n",
    "    \n",
    "    return y_pred[1:].detach().cpu().numpy()"
   ]
  },
  {
   "cell_type": "markdown",
   "id": "5d9782d0",
   "metadata": {
    "papermill": {
     "duration": 0.00414,
     "end_time": "2023-01-18T10:55:26.146585",
     "exception": false,
     "start_time": "2023-01-18T10:55:26.142445",
     "status": "completed"
    },
    "tags": []
   },
   "source": [
    "### **Train**"
   ]
  },
  {
   "cell_type": "code",
   "execution_count": 8,
   "id": "18cada72",
   "metadata": {
    "execution": {
     "iopub.execute_input": "2023-01-18T10:55:26.157182Z",
     "iopub.status.busy": "2023-01-18T10:55:26.156222Z",
     "iopub.status.idle": "2023-01-18T10:55:26.161024Z",
     "shell.execute_reply": "2023-01-18T10:55:26.160124Z"
    },
    "papermill": {
     "duration": 0.012163,
     "end_time": "2023-01-18T10:55:26.162992",
     "exception": false,
     "start_time": "2023-01-18T10:55:26.150829",
     "status": "completed"
    },
    "tags": []
   },
   "outputs": [],
   "source": [
    "# df = pd.read_csv(\"/kaggle/input/pc-dataframe/train.csv\")\n",
    "\n",
    "# filepaths = df.filepaths.copy().values\n",
    "# labels = df.labels.copy().values"
   ]
  },
  {
   "cell_type": "code",
   "execution_count": 9,
   "id": "4430f81d",
   "metadata": {
    "execution": {
     "iopub.execute_input": "2023-01-18T10:55:26.173414Z",
     "iopub.status.busy": "2023-01-18T10:55:26.173093Z",
     "iopub.status.idle": "2023-01-18T10:55:26.178854Z",
     "shell.execute_reply": "2023-01-18T10:55:26.177867Z"
    },
    "papermill": {
     "duration": 0.013533,
     "end_time": "2023-01-18T10:55:26.180908",
     "exception": false,
     "start_time": "2023-01-18T10:55:26.167375",
     "status": "completed"
    },
    "tags": []
   },
   "outputs": [],
   "source": [
    "# fold: int = 1\n",
    "# BLs: list = []\n",
    "# BAs: list = []\n",
    "    \n",
    "# cfg.batch_size = 16\n",
    "# cfg.epochs = 10\n",
    "    \n",
    "# for tr_idx, va_idx in KFold(n_splits=cfg.n_splits, random_state=cfg.seed, shuffle=True).split(filepaths):\n",
    "    \n",
    "#     tr_filepaths, va_filepaths = filepaths[tr_idx], filepaths[va_idx] \n",
    "#     tr_labels, va_labels       = labels[tr_idx], labels[va_idx]\n",
    "\n",
    "#     tr_data_setup = DS(\n",
    "#         filepaths=tr_filepaths, \n",
    "#         labels=tr_labels.reshape(-1, 1),\n",
    "#         size=cfg.size,\n",
    "#         transform=cfg.train_transform\n",
    "#     )\n",
    "\n",
    "#     va_data_setup = DS(\n",
    "#         filepaths=va_filepaths, \n",
    "#         labels=va_labels.reshape(-1, 1),\n",
    "#         size=cfg.size,\n",
    "#         transform=cfg.train_transform\n",
    "#     )\n",
    "\n",
    "#     dataloaders = {\n",
    "#         \"train\" : DL(tr_data_setup, batch_size=cfg.batch_size, shuffle=True, generator=torch.manual_seed(cfg.seed)),\n",
    "#         \"valid\" : DL(va_data_setup, batch_size=cfg.batch_size, shuffle=False),\n",
    "#     }\n",
    "\n",
    "#     cfg.steps_per_epoch=len(dataloaders[\"train\"])\n",
    "\n",
    "#     torch.manual_seed(cfg.seed)\n",
    "#     model = Model().to(cfg.device)\n",
    "\n",
    "#     optimizer = optim.Adam([p for p in model.parameters() if p.requires_grad], lr=cfg.lr, weight_decay=cfg.wd)\n",
    "#     # optimizer = optim.AdamW([p for p in model.parameters() if p.requires_grad], lr=cfg.lr, weight_decay=cfg.wd)\n",
    "#     # optimizer = optim.SGD([p for p in model.parameters() if p.requires_grad], lr=cfg.lr, weight_decay=cfg.wd, momentum=0.9)\n",
    "\n",
    "#     scheduler_oclr = optim.lr_scheduler.OneCycleLR(\n",
    "#         optimizer=optimizer, \n",
    "#         max_lr=cfg.max_lr, \n",
    "#         epochs=cfg.epochs, \n",
    "#         steps_per_epoch=cfg.steps_per_epoch,\n",
    "#         pct_start=cfg.pct_start, \n",
    "#         div_factor=cfg.div_factor, \n",
    "#         final_div_factor=cfg.final_div_factor\n",
    "#     )\n",
    "\n",
    "#     # scheduler_rlrop = optim.lr_scheduler.ReduceLROnPlateau(\n",
    "#     #     optimizer=optimizer,\n",
    "#     #     patience=cfg.patience,\n",
    "#     #     eps=cfg.eps,\n",
    "#     #     verbose=True\n",
    "#     # )\n",
    "\n",
    "#     # scheduler_oclr = None\n",
    "#     scheduler_rlrop = None\n",
    "\n",
    "\n",
    "#     L, A, LR, BL, BA, _, _, _, _ = fit(\n",
    "#         model=model, \n",
    "#         optimizer=optimizer, \n",
    "#         scheduler_oclr=scheduler_oclr,\n",
    "#         scheduler_rlrop=scheduler_rlrop,\n",
    "#         epochs=cfg.epochs, \n",
    "#         early_stopping_patience=cfg.early_stopping, \n",
    "#         dataloaders=dataloaders, \n",
    "#         device=cfg.device,\n",
    "#         save_path=cfg.save_path,\n",
    "#         fold=fold,\n",
    "#         verbose=True\n",
    "#     )\n",
    "\n",
    "\n",
    "#     breaker()\n",
    "#     show_loss_graphs(L)\n",
    "#     breaker()\n",
    "#     show_accuracy_graphs(A)\n",
    "#     breaker()\n",
    "#     if scheduler_oclr:\n",
    "#         show_lr_graph(LR)\n",
    "#         breaker()\n",
    "    \n",
    "#     BLs.append(BL)\n",
    "#     BAs.append(BA)\n",
    "    \n",
    "#     fold += 1"
   ]
  },
  {
   "cell_type": "markdown",
   "id": "20228149",
   "metadata": {
    "papermill": {
     "duration": 0.004177,
     "end_time": "2023-01-18T10:55:26.189557",
     "exception": false,
     "start_time": "2023-01-18T10:55:26.185380",
     "status": "completed"
    },
    "tags": []
   },
   "source": [
    "### **Best Model**"
   ]
  },
  {
   "cell_type": "code",
   "execution_count": 10,
   "id": "f6d234dd",
   "metadata": {
    "execution": {
     "iopub.execute_input": "2023-01-18T10:55:26.200529Z",
     "iopub.status.busy": "2023-01-18T10:55:26.199413Z",
     "iopub.status.idle": "2023-01-18T10:55:26.204539Z",
     "shell.execute_reply": "2023-01-18T10:55:26.203682Z"
    },
    "papermill": {
     "duration": 0.012665,
     "end_time": "2023-01-18T10:55:26.206498",
     "exception": false,
     "start_time": "2023-01-18T10:55:26.193833",
     "status": "completed"
    },
    "tags": []
   },
   "outputs": [],
   "source": [
    "# BL = np.inf\n",
    "# for i in range(len(BLs)):\n",
    "#     if BLs[i][\"valid\"] < BL:\n",
    "#         BL = BLs[i][\"valid\"]\n",
    "#         best_loss_index = i\n",
    "\n",
    "        \n",
    "# BA = 0.0\n",
    "# for i in range(len(BAs)):\n",
    "#     if BAs[i][\"valid\"] > BA:\n",
    "#         BA = BAs[i][\"valid\"]\n",
    "#         best_accs_index = i\n",
    "\n",
    "# breaker()\n",
    "# print(f\"Best Loss Model Fold     : {best_loss_index + 1}\")\n",
    "# print(f\"Best Accuracy Model Fold : {best_accs_index + 1}\")\n",
    "# breaker()"
   ]
  },
  {
   "cell_type": "markdown",
   "id": "4be55777",
   "metadata": {
    "papermill": {
     "duration": 0.004279,
     "end_time": "2023-01-18T10:55:26.215269",
     "exception": false,
     "start_time": "2023-01-18T10:55:26.210990",
     "status": "completed"
    },
    "tags": []
   },
   "source": [
    "### **Submission**"
   ]
  },
  {
   "cell_type": "code",
   "execution_count": 11,
   "id": "08ddf919",
   "metadata": {
    "execution": {
     "iopub.execute_input": "2023-01-18T10:55:26.226120Z",
     "iopub.status.busy": "2023-01-18T10:55:26.225174Z",
     "iopub.status.idle": "2023-01-18T10:55:51.283592Z",
     "shell.execute_reply": "2023-01-18T10:55:51.282614Z"
    },
    "papermill": {
     "duration": 25.066381,
     "end_time": "2023-01-18T10:55:51.286041",
     "exception": false,
     "start_time": "2023-01-18T10:55:26.219660",
     "status": "completed"
    },
    "tags": []
   },
   "outputs": [],
   "source": [
    "ss_df = pd.DataFrame(data=None, columns=[\"Id\", \"Category\"])\n",
    "\n",
    "ts_filepaths = pd.read_csv(\"/kaggle/input/pc-dataframe/test.csv\").filepaths.copy().values\n",
    "ts_data_setup = DS(\n",
    "    filepaths=ts_filepaths, \n",
    "    labels=None,\n",
    "    size=cfg.size,\n",
    "    transform=cfg.valid_transform\n",
    ")\n",
    "ts_data = DL(ts_data_setup, batch_size=64, shuffle=False)\n",
    "\n",
    "torch.manual_seed(cfg.seed)\n",
    "model = Model().to(cfg.device)\n",
    "\n",
    "y_pred = predict_batch(\n",
    "    model=model, \n",
    "    dataloader=ts_data, \n",
    "    path=\"/kaggle/input/pc-en4-a384-e10-gray/saves/ble_state_fold_5.pt\", \n",
    "    device=cfg.device\n",
    ")\n",
    "\n",
    "ss_df.Id = [filepath.split(\"/\")[-1] for filepath in ts_filepaths]\n",
    "ss_df.Category = y_pred.astype(\"uint8\")\n",
    "ss_df.to_csv(\"submission.csv\", index=False)"
   ]
  }
 ],
 "metadata": {
  "kernelspec": {
   "display_name": "Python 3",
   "language": "python",
   "name": "python3"
  },
  "language_info": {
   "codemirror_mode": {
    "name": "ipython",
    "version": 3
   },
   "file_extension": ".py",
   "mimetype": "text/x-python",
   "name": "python",
   "nbconvert_exporter": "python",
   "pygments_lexer": "ipython3",
   "version": "3.7.12"
  },
  "papermill": {
   "default_parameters": {},
   "duration": 50.371943,
   "end_time": "2023-01-18T10:55:53.679687",
   "environment_variables": {},
   "exception": null,
   "input_path": "__notebook__.ipynb",
   "output_path": "__notebook__.ipynb",
   "parameters": {},
   "start_time": "2023-01-18T10:55:03.307744",
   "version": "2.3.4"
  }
 },
 "nbformat": 4,
 "nbformat_minor": 5
}
