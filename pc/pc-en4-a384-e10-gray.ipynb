{
 "cells": [
  {
   "cell_type": "markdown",
   "id": "04cae427",
   "metadata": {
    "_cell_guid": "b1076dfc-b9ad-4769-8c92-a6c4dae69d19",
    "_uuid": "8f2839f25d086af736a60e9eeb907d3b93b6e0e5",
    "papermill": {
     "duration": 0.004698,
     "end_time": "2023-01-22T06:10:24.094827",
     "exception": false,
     "start_time": "2023-01-22T06:10:24.090129",
     "status": "completed"
    },
    "tags": []
   },
   "source": [
    "### **Setup**"
   ]
  },
  {
   "cell_type": "code",
   "execution_count": 1,
   "id": "58873648",
   "metadata": {
    "execution": {
     "iopub.execute_input": "2023-01-22T06:10:24.104695Z",
     "iopub.status.busy": "2023-01-22T06:10:24.103557Z",
     "iopub.status.idle": "2023-01-22T06:10:34.967705Z",
     "shell.execute_reply": "2023-01-22T06:10:34.966533Z"
    },
    "papermill": {
     "duration": 10.871193,
     "end_time": "2023-01-22T06:10:34.969943",
     "exception": false,
     "start_time": "2023-01-22T06:10:24.098750",
     "status": "completed"
    },
    "tags": []
   },
   "outputs": [
    {
     "name": "stderr",
     "output_type": "stream",
     "text": [
      "WARNING: Running pip as the 'root' user can result in broken permissions and conflicting behaviour with the system package manager. It is recommended to use a virtual environment instead: https://pip.pypa.io/warnings/venv\n"
     ]
    }
   ],
   "source": [
    "%%bash\n",
    "pip install timm -q"
   ]
  },
  {
   "cell_type": "markdown",
   "id": "56482a75",
   "metadata": {
    "papermill": {
     "duration": 0.003472,
     "end_time": "2023-01-22T06:10:34.977496",
     "exception": false,
     "start_time": "2023-01-22T06:10:34.974024",
     "status": "completed"
    },
    "tags": []
   },
   "source": [
    "### **Library Imports**"
   ]
  },
  {
   "cell_type": "code",
   "execution_count": 2,
   "id": "683f8549",
   "metadata": {
    "execution": {
     "iopub.execute_input": "2023-01-22T06:10:34.986338Z",
     "iopub.status.busy": "2023-01-22T06:10:34.985641Z",
     "iopub.status.idle": "2023-01-22T06:10:38.921665Z",
     "shell.execute_reply": "2023-01-22T06:10:38.920645Z"
    },
    "papermill": {
     "duration": 3.943013,
     "end_time": "2023-01-22T06:10:38.924084",
     "exception": false,
     "start_time": "2023-01-22T06:10:34.981071",
     "status": "completed"
    },
    "tags": []
   },
   "outputs": [],
   "source": [
    "import os\n",
    "import re\n",
    "import cv2\n",
    "import timm\n",
    "import torch\n",
    "import numpy as np\n",
    "import pandas as pd\n",
    "import matplotlib.pyplot as plt\n",
    "\n",
    "from time import time\n",
    "from typing import Union\n",
    "from torch import nn, optim\n",
    "from torch.utils.data import Dataset\n",
    "from torch.utils.data import DataLoader as DL\n",
    "from torchvision import models, transforms\n",
    "\n",
    "from sklearn.model_selection import KFold"
   ]
  },
  {
   "cell_type": "markdown",
   "id": "382a8c9b",
   "metadata": {
    "papermill": {
     "duration": 0.003416,
     "end_time": "2023-01-22T06:10:38.931512",
     "exception": false,
     "start_time": "2023-01-22T06:10:38.928096",
     "status": "completed"
    },
    "tags": []
   },
   "source": [
    "### **Utilities and Helpers**"
   ]
  },
  {
   "cell_type": "code",
   "execution_count": 3,
   "id": "b69ebf20",
   "metadata": {
    "execution": {
     "iopub.execute_input": "2023-01-22T06:10:38.940245Z",
     "iopub.status.busy": "2023-01-22T06:10:38.939941Z",
     "iopub.status.idle": "2023-01-22T06:10:38.951471Z",
     "shell.execute_reply": "2023-01-22T06:10:38.950518Z"
    },
    "papermill": {
     "duration": 0.018337,
     "end_time": "2023-01-22T06:10:38.953416",
     "exception": false,
     "start_time": "2023-01-22T06:10:38.935079",
     "status": "completed"
    },
    "tags": []
   },
   "outputs": [],
   "source": [
    "SEED: int = 42\n",
    "SIZE: int = 384\n",
    "\n",
    "\n",
    "def breaker(num: int=50, char: str=\"*\") -> None:\n",
    "    print(\"\\n\" + num*char + \"\\n\")\n",
    "\n",
    "    \n",
    "def get_image(path: str, size: int=224) -> np.ndarray:\n",
    "    return cv2.resize(src=cv2.imread(path, cv2.IMREAD_GRAYSCALE), dsize=(size, size), interpolation=cv2.INTER_AREA)\n",
    "\n",
    "    \n",
    "def show_loss_graphs(L: list) -> None:\n",
    "    TL, VL = [], []\n",
    "    for i in range(len(L)):\n",
    "        TL.append(L[i][\"train\"])\n",
    "        VL.append(L[i][\"valid\"])\n",
    "    x_Axis = np.arange(1, len(TL) + 1)\n",
    "    plt.figure()\n",
    "    plt.plot(x_Axis, TL, \"r\", label=\"Train\")\n",
    "    plt.plot(x_Axis, VL, \"b\", label=\"Valid\")\n",
    "    plt.legend()\n",
    "    plt.grid()\n",
    "    plt.title(\"Loss Graph\")\n",
    "    plt.show()\n",
    "\n",
    "    \n",
    "def show_accuracy_graphs(A: list) -> None:\n",
    "    TA, VA = [], []\n",
    "    for i in range(len(A)):\n",
    "        TA.append(A[i][\"train\"])\n",
    "        VA.append(A[i][\"valid\"])\n",
    "    x_Axis = np.arange(1, len(TA) + 1)\n",
    "    plt.figure()\n",
    "    plt.plot(x_Axis, TA, \"r\", label=\"Train\")\n",
    "    plt.plot(x_Axis, VA, \"b\", label=\"Valid\")\n",
    "    plt.legend()\n",
    "    plt.grid()\n",
    "    plt.title(\"Accuracy Graph\")\n",
    "    plt.show()\n",
    "    \n",
    "\n",
    "def show_lr_graph(LR: list) -> None:\n",
    "    x_Axis = [i+1 for i in range(len(LR))]\n",
    "    plt.figure(figsize=(8, 6))\n",
    "    plt.plot(x_Axis, LR, \"rx\")\n",
    "    plt.grid()\n",
    "    plt.show()"
   ]
  },
  {
   "cell_type": "markdown",
   "id": "caa1e65e",
   "metadata": {
    "papermill": {
     "duration": 0.003596,
     "end_time": "2023-01-22T06:10:38.960686",
     "exception": false,
     "start_time": "2023-01-22T06:10:38.957090",
     "status": "completed"
    },
    "tags": []
   },
   "source": [
    "\n",
    "\n",
    "### **Configuration**"
   ]
  },
  {
   "cell_type": "code",
   "execution_count": 4,
   "id": "aa34722e",
   "metadata": {
    "execution": {
     "iopub.execute_input": "2023-01-22T06:10:38.969544Z",
     "iopub.status.busy": "2023-01-22T06:10:38.968939Z",
     "iopub.status.idle": "2023-01-22T06:10:39.044824Z",
     "shell.execute_reply": "2023-01-22T06:10:39.043721Z"
    },
    "papermill": {
     "duration": 0.082542,
     "end_time": "2023-01-22T06:10:39.046795",
     "exception": false,
     "start_time": "2023-01-22T06:10:38.964253",
     "status": "completed"
    },
    "tags": []
   },
   "outputs": [],
   "source": [
    "class CFG(object):\n",
    "    def __init__(self,            \n",
    "                 seed: int = 42,\n",
    "                 size: int = 224,\n",
    "                 n_splits: int = 5,\n",
    "                 batch_size: int = 16,\n",
    "                 epochs: int = 25,\n",
    "                 early_stopping: int = 5,\n",
    "                 lr: float = 1e-4,\n",
    "                 wd: float = 0.0,\n",
    "                 max_lr: float = 1e-3,\n",
    "                 pct_start: float = 0.2,\n",
    "                 steps_per_epoch: int = 100,\n",
    "                 div_factor: int = 1e3, \n",
    "                 final_div_factor: float = 1e3,\n",
    "                 ):\n",
    "        self.seed = seed\n",
    "        self.size = size\n",
    "        self.n_splits = n_splits\n",
    "        self.batch_size = batch_size\n",
    "        self.epochs = epochs\n",
    "        self.early_stopping = early_stopping\n",
    "        self.lr = lr\n",
    "        self.wd = wd\n",
    "        self.max_lr = max_lr\n",
    "        self.pct_start = pct_start\n",
    "        self.steps_per_epoch = steps_per_epoch\n",
    "        self.div_factor = div_factor\n",
    "        self.final_div_factor = final_div_factor\n",
    "        self.device = torch.device(\"cuda\" if torch.cuda.is_available() else \"cpu\")\n",
    "        \n",
    "        if self.size == 224:\n",
    "            self.train_transform = transforms.Compose([\n",
    "                transforms.ToTensor(),\n",
    "                transforms.Normalize([0.48230], [0.22198]),\n",
    "                transforms.RandomAffine(degrees=(-45, 45), translate=(0.15, 0.15), scale=(0.5, 1.5)),\n",
    "                transforms.RandomHorizontalFlip(p=0.25),\n",
    "                transforms.RandomVerticalFlip(p=0.25),\n",
    "            ])\n",
    "            self.valid_transform = transforms.Compose([\n",
    "                transforms.ToTensor(),\n",
    "                transforms.Normalize([0.48230], [0.22198]),\n",
    "            ])\n",
    "        \n",
    "        if self.size == 384:\n",
    "            self.train_transform = transforms.Compose([\n",
    "                transforms.ToTensor(),\n",
    "                transforms.Normalize([0.48230], [0.22245]),\n",
    "                transforms.RandomAffine(degrees=(-45, 45), translate=(0.15, 0.15), scale=(0.5, 1.5)),\n",
    "                transforms.RandomHorizontalFlip(p=0.25),\n",
    "                transforms.RandomVerticalFlip(p=0.25),\n",
    "            ])\n",
    "            self.valid_transform = transforms.Compose([\n",
    "                transforms.ToTensor(),\n",
    "                transforms.Normalize([0.48230], [0.22245]),\n",
    "            ])\n",
    "        \n",
    "        if self.size == 512:\n",
    "            self.train_transform = transforms.Compose([\n",
    "                transforms.ToTensor(),\n",
    "                transforms.Normalize([0.48229], [0.22261]),\n",
    "                transforms.RandomAffine(degrees=(-45, 45), translate=(0.15, 0.15), scale=(0.5, 1.5)),\n",
    "                transforms.RandomHorizontalFlip(p=0.25),\n",
    "                transforms.RandomVerticalFlip(p=0.25),\n",
    "            ])\n",
    "            self.valid_transform = transforms.Compose([\n",
    "                transforms.ToTensor(),\n",
    "                transforms.Normalize([0.48229], [0.22261]),\n",
    "            ])\n",
    "                                \n",
    "        self.save_path = \"saves\"\n",
    "        if not os.path.exists(self.save_path): os.makedirs(self.save_path)\n",
    "    \n",
    "cfg = CFG(\n",
    "    seed=SEED, \n",
    "    size=SIZE\n",
    ")"
   ]
  },
  {
   "cell_type": "markdown",
   "id": "e7659015",
   "metadata": {
    "papermill": {
     "duration": 0.003596,
     "end_time": "2023-01-22T06:10:39.054481",
     "exception": false,
     "start_time": "2023-01-22T06:10:39.050885",
     "status": "completed"
    },
    "tags": []
   },
   "source": [
    "### **Dataset Template**"
   ]
  },
  {
   "cell_type": "code",
   "execution_count": 5,
   "id": "1c517ef4",
   "metadata": {
    "execution": {
     "iopub.execute_input": "2023-01-22T06:10:39.063792Z",
     "iopub.status.busy": "2023-01-22T06:10:39.062957Z",
     "iopub.status.idle": "2023-01-22T06:10:39.069917Z",
     "shell.execute_reply": "2023-01-22T06:10:39.069069Z"
    },
    "papermill": {
     "duration": 0.013538,
     "end_time": "2023-01-22T06:10:39.071817",
     "exception": false,
     "start_time": "2023-01-22T06:10:39.058279",
     "status": "completed"
    },
    "tags": []
   },
   "outputs": [],
   "source": [
    "class DS(Dataset):\n",
    "    def __init__(\n",
    "        self, \n",
    "        filepaths: np.ndarray, \n",
    "        size: int,\n",
    "        labels: Union[np.ndarray, None]=None, \n",
    "        transform=None\n",
    "    ):\n",
    "        \n",
    "        self.filepaths = filepaths\n",
    "        self.labels = labels\n",
    "        self.size = size\n",
    "        self.transform = transform\n",
    "    \n",
    "    def __len__(self):\n",
    "        return self.filepaths.shape[0]\n",
    "    \n",
    "    def __getitem__(self, idx):\n",
    "        image = get_image(self.filepaths[idx], self.size)\n",
    "        if self.labels is None:\n",
    "            return self.transform(image)\n",
    "        return self.transform(image), torch.FloatTensor(self.labels[idx])"
   ]
  },
  {
   "cell_type": "markdown",
   "id": "cdb0dfad",
   "metadata": {
    "papermill": {
     "duration": 0.003658,
     "end_time": "2023-01-22T06:10:39.079157",
     "exception": false,
     "start_time": "2023-01-22T06:10:39.075499",
     "status": "completed"
    },
    "tags": []
   },
   "source": [
    "### **Model**"
   ]
  },
  {
   "cell_type": "code",
   "execution_count": 6,
   "id": "e8160c99",
   "metadata": {
    "execution": {
     "iopub.execute_input": "2023-01-22T06:10:39.087644Z",
     "iopub.status.busy": "2023-01-22T06:10:39.087362Z",
     "iopub.status.idle": "2023-01-22T06:10:39.093648Z",
     "shell.execute_reply": "2023-01-22T06:10:39.092722Z"
    },
    "papermill": {
     "duration": 0.012693,
     "end_time": "2023-01-22T06:10:39.095570",
     "exception": false,
     "start_time": "2023-01-22T06:10:39.082877",
     "status": "completed"
    },
    "tags": []
   },
   "outputs": [],
   "source": [
    "class Model(nn.Module):\n",
    "    def __init__(self):\n",
    "        super(Model, self).__init__()\n",
    "            \n",
    "        self.model = timm.create_model(model_name=\"efficientnet_b4\", pretrained=True)\n",
    "        self.model.conv_stem = nn.Conv2d(\n",
    "            in_channels=1,\n",
    "            out_channels=self.model.conv_stem.out_channels,\n",
    "            kernel_size=self.model.conv_stem.kernel_size,\n",
    "            stride=self.model.conv_stem.stride,\n",
    "            padding=self.model.conv_stem.padding\n",
    "        )\n",
    "        self.model.classifier = nn.Linear(in_features=self.model.classifier.in_features, out_features=1)\n",
    "\n",
    "    def forward(self, x):\n",
    "        return self.model(x)"
   ]
  },
  {
   "cell_type": "markdown",
   "id": "f3ee685f",
   "metadata": {
    "papermill": {
     "duration": 0.00356,
     "end_time": "2023-01-22T06:10:39.103071",
     "exception": false,
     "start_time": "2023-01-22T06:10:39.099511",
     "status": "completed"
    },
    "tags": []
   },
   "source": [
    "### **Fit and Predict**"
   ]
  },
  {
   "cell_type": "code",
   "execution_count": 7,
   "id": "aaac8e15",
   "metadata": {
    "execution": {
     "iopub.execute_input": "2023-01-22T06:10:39.112339Z",
     "iopub.status.busy": "2023-01-22T06:10:39.111814Z",
     "iopub.status.idle": "2023-01-22T06:10:39.132191Z",
     "shell.execute_reply": "2023-01-22T06:10:39.131384Z"
    },
    "papermill": {
     "duration": 0.027302,
     "end_time": "2023-01-22T06:10:39.134071",
     "exception": false,
     "start_time": "2023-01-22T06:10:39.106769",
     "status": "completed"
    },
    "tags": []
   },
   "outputs": [],
   "source": [
    "def fit(\n",
    "    model=None,\n",
    "    optimizer=None, \n",
    "    scheduler_rlrop=None,\n",
    "    scheduler_oclr=None,\n",
    "    epochs=None, \n",
    "    early_stopping_patience=None, \n",
    "    dataloaders=None, \n",
    "    fold=None, \n",
    "    save_path=None,\n",
    "    device=None,\n",
    "    verbose=False\n",
    ") -> tuple:\n",
    "    \n",
    "    def get_accuracy(y_pred, y_true):\n",
    "        y_pred = torch.sigmoid(y_pred)\n",
    "        \n",
    "        y_pred[y_pred > 0.5] = 1\n",
    "        y_pred[y_pred <= 0.5] = 0\n",
    "        \n",
    "        return torch.count_nonzero(y_pred == y_true).item() / len(y_pred)\n",
    "    \n",
    "    if verbose:\n",
    "        breaker()\n",
    "        if fold: print(f\"Training Fold {fold}...\")\n",
    "        else: print(\"Training ...\")\n",
    "        breaker()\n",
    "        \n",
    "    bestLoss: dict = {\"train\" : np.inf, \"valid\" : np.inf} \n",
    "    bestAccs: dict = {\"train\" : 0.0, \"valid\" : 0.0}\n",
    "    \n",
    "    Losses: list = []\n",
    "    Accuracies: list = [] \n",
    "    LRs: list = []\n",
    "        \n",
    "    if fold: \n",
    "        ble_name = f\"ble_state_fold_{fold}.pt\"\n",
    "        bae_name = f\"bae_state_fold_{fold}.pt\"\n",
    "    else: \n",
    "        ble_name = f\"ble_state.pt\"\n",
    "        bae_name = f\"bae_state.pt\"\n",
    "        \n",
    "    start_time = time()\n",
    "    for e in range(epochs):\n",
    "        e_st = time()\n",
    "        epochLoss: dict = {\"train\" : 0.0, \"valid\" : 0.0} \n",
    "        epochAccs: dict = {\"train\" : 0.0, \"valid\" : 0.0}\n",
    "\n",
    "        for phase in [\"train\", \"valid\"]:\n",
    "            if phase == \"train\":\n",
    "                model.train()\n",
    "            else:\n",
    "                model.eval()\n",
    "            \n",
    "            lossPerPass: list = []\n",
    "            accsPerPass: list = []\n",
    "                \n",
    "            for X, y in dataloaders[phase]:\n",
    "                X, y = X.to(device), y.to(device)\n",
    "\n",
    "                optimizer.zero_grad()\n",
    "                with torch.set_grad_enabled(phase == \"train\"):\n",
    "                    output = model(X)\n",
    "                    loss = torch.nn.BCEWithLogitsLoss()(output, y)\n",
    "                    if phase == \"train\":\n",
    "                        loss.backward()\n",
    "                        optimizer.step()\n",
    "                        if scheduler_oclr: scheduler_oclr.step()\n",
    "                lossPerPass.append(loss.item())\n",
    "                accsPerPass.append(get_accuracy(output, y))\n",
    "            epochLoss[phase] = np.mean(np.array(lossPerPass))\n",
    "            epochAccs[phase] = np.mean(np.array(accsPerPass))\n",
    "        if scheduler_oclr: LRs.append(scheduler_oclr.get_last_lr())\n",
    "        Losses.append(epochLoss)\n",
    "        Accuracies.append(epochAccs)\n",
    "        \n",
    "        if scheduler_oclr:\n",
    "            save_dict = {\"model_state_dict\"     : model.state_dict(),\n",
    "                         \"optim_state_dict\"     : optimizer.state_dict(),\n",
    "                         \"scheduler_state_dict\" : scheduler_oclr.state_dict()}\n",
    "        \n",
    "        elif scheduler_rlrop:\n",
    "            save_dict = {\"model_state_dict\"     : model.state_dict(),\n",
    "                         \"optim_state_dict\"     : optimizer.state_dict(),\n",
    "                         \"scheduler_state_dict\" : scheduler_rlrop.state_dict()}\n",
    "        \n",
    "        else:\n",
    "            save_dict = {\"model_state_dict\"     : model.state_dict(),\n",
    "                         \"optim_state_dict\"     : optimizer.state_dict()}\n",
    "        \n",
    "        if early_stopping_patience:\n",
    "            if epochLoss[\"valid\"] < bestLoss[\"valid\"]:\n",
    "                bestLoss = epochLoss\n",
    "                BLE = e + 1\n",
    "                torch.save(save_dict, os.path.join(save_path, ble_name))\n",
    "                torch.save(save_dict, os.path.join(save_path, bae_name))\n",
    "                early_stopping_step = 0\n",
    "            else:\n",
    "                early_stopping_step += 1\n",
    "                if early_stopping_step > early_stopping_patience:\n",
    "                    print(\"\\nEarly Stopping at Epoch {}\".format(e + 1))\n",
    "                    break\n",
    "        \n",
    "        if epochLoss[\"valid\"] < bestLoss[\"valid\"]:\n",
    "            bestLoss = epochLoss\n",
    "            BLE = e + 1\n",
    "            torch.save(save_dict,os.path.join(save_path, ble_name))\n",
    "        \n",
    "        if epochAccs[\"valid\"] > bestAccs[\"valid\"]:\n",
    "            bestAccs = epochAccs\n",
    "            BAE = e + 1\n",
    "            torch.save(save_dict,os.path.join(save_path, bae_name))\n",
    "        \n",
    "        if scheduler_rlrop: scheduler_rlrop.step(epochLoss[\"valid\"])\n",
    "        \n",
    "        if verbose:\n",
    "            print(\"Epoch: {} | Train Loss: {:.5f} | Valid Loss: {:.5f} |\\\n",
    " Train Accs: {:.5f} | Valid Accs: {:.5f} | Time: {:.2f} seconds\".format(\n",
    "                e+1, \n",
    "                epochLoss[\"train\"], epochLoss[\"valid\"], \n",
    "                epochAccs[\"train\"], epochAccs[\"valid\"], \n",
    "                time()-e_st)\n",
    "             )\n",
    "\n",
    "    if verbose:                                           \n",
    "        breaker()\n",
    "        print(f\"Best Validation Loss at Epoch {BLE}\")\n",
    "        breaker()\n",
    "        print(f\"Best Validation Accs at Epoch {BAE}\")\n",
    "        breaker()\n",
    "        print(\"Time Taken [{} Epochs] : {:.2f} minutes\".format(len(Losses), (time()-start_time)/60))\n",
    "    \n",
    "    return Losses, Accuracies, LRs, bestLoss, bestAccs, BLE, BAE, ble_name, bae_name\n",
    "\n",
    "\n",
    "# def predict_batch(model=None, dataloader=None, path=None, device=None) -> np.ndarray:\n",
    "#     model.load_state_dict(torch.load(path, map_location=device)[\"model_state_dict\"])\n",
    "#     model.to(device)    \n",
    "#     model.eval()\n",
    "    \n",
    "#     y_pred = torch.zeros(1, 1).to(device)\n",
    "    \n",
    "#     for X in dataloader:\n",
    "#         X = X.to(device)\n",
    "#         with torch.no_grad():\n",
    "#             output = torch.sigmoid(model(X))\n",
    "#         y_pred = torch.cat((y_pred, output.view(-1, 1)), dim=0)\n",
    "    \n",
    "#     # y_pred[y_pred > 0.5] = 1\n",
    "#     # y_pred[y_pred <= 0.5] = 0\n",
    "    \n",
    "#     return y_pred[1:].detach().cpu().numpy()"
   ]
  },
  {
   "cell_type": "markdown",
   "id": "8280db1b",
   "metadata": {
    "papermill": {
     "duration": 0.003818,
     "end_time": "2023-01-22T06:10:39.142817",
     "exception": false,
     "start_time": "2023-01-22T06:10:39.138999",
     "status": "completed"
    },
    "tags": []
   },
   "source": [
    "### **Train**"
   ]
  },
  {
   "cell_type": "code",
   "execution_count": 8,
   "id": "07235f7d",
   "metadata": {
    "execution": {
     "iopub.execute_input": "2023-01-22T06:10:39.151590Z",
     "iopub.status.busy": "2023-01-22T06:10:39.151334Z",
     "iopub.status.idle": "2023-01-22T06:10:39.199884Z",
     "shell.execute_reply": "2023-01-22T06:10:39.198979Z"
    },
    "papermill": {
     "duration": 0.055534,
     "end_time": "2023-01-22T06:10:39.202176",
     "exception": false,
     "start_time": "2023-01-22T06:10:39.146642",
     "status": "completed"
    },
    "tags": []
   },
   "outputs": [],
   "source": [
    "df = pd.read_csv(\"/kaggle/input/pc-dataframe/train.csv\")\n",
    "\n",
    "filepaths = df.filepaths.copy().values\n",
    "labels = df.labels.copy().values"
   ]
  },
  {
   "cell_type": "code",
   "execution_count": 9,
   "id": "3d0a40b4",
   "metadata": {
    "execution": {
     "iopub.execute_input": "2023-01-22T06:10:39.211673Z",
     "iopub.status.busy": "2023-01-22T06:10:39.211388Z",
     "iopub.status.idle": "2023-01-22T09:13:02.188802Z",
     "shell.execute_reply": "2023-01-22T09:13:02.187925Z"
    },
    "papermill": {
     "duration": 10942.985049,
     "end_time": "2023-01-22T09:13:02.191278",
     "exception": false,
     "start_time": "2023-01-22T06:10:39.206229",
     "status": "completed"
    },
    "tags": []
   },
   "outputs": [
    {
     "name": "stderr",
     "output_type": "stream",
     "text": [
      "Downloading: \"https://github.com/rwightman/pytorch-image-models/releases/download/v0.1-weights/efficientnet_b4_ra2_320-7eb33cd5.pth\" to /root/.cache/torch/hub/checkpoints/efficientnet_b4_ra2_320-7eb33cd5.pth\n"
     ]
    },
    {
     "name": "stdout",
     "output_type": "stream",
     "text": [
      "\n",
      "**************************************************\n",
      "\n",
      "Training Fold 1...\n",
      "\n",
      "**************************************************\n",
      "\n",
      "Epoch: 1 | Train Loss: 0.45689 | Valid Loss: 0.11330 | Train Accs: 0.78584 | Valid Accs: 0.95455 | Time: 248.82 seconds\n",
      "Epoch: 2 | Train Loss: 0.16706 | Valid Loss: 0.19511 | Train Accs: 0.93942 | Valid Accs: 0.93845 | Time: 218.27 seconds\n",
      "Epoch: 3 | Train Loss: 0.14011 | Valid Loss: 0.07744 | Train Accs: 0.95091 | Valid Accs: 0.96686 | Time: 218.16 seconds\n",
      "Epoch: 4 | Train Loss: 0.12408 | Valid Loss: 0.07431 | Train Accs: 0.95498 | Valid Accs: 0.97254 | Time: 218.08 seconds\n",
      "Epoch: 5 | Train Loss: 0.09289 | Valid Loss: 0.16751 | Train Accs: 0.96711 | Valid Accs: 0.94792 | Time: 216.33 seconds\n",
      "Epoch: 6 | Train Loss: 0.06633 | Valid Loss: 0.10591 | Train Accs: 0.97797 | Valid Accs: 0.96212 | Time: 216.87 seconds\n",
      "Epoch: 7 | Train Loss: 0.05579 | Valid Loss: 0.09157 | Train Accs: 0.97845 | Valid Accs: 0.97159 | Time: 217.49 seconds\n",
      "Epoch: 8 | Train Loss: 0.03603 | Valid Loss: 0.09604 | Train Accs: 0.98491 | Valid Accs: 0.96875 | Time: 215.97 seconds\n",
      "Epoch: 9 | Train Loss: 0.03704 | Valid Loss: 0.07580 | Train Accs: 0.98491 | Valid Accs: 0.97443 | Time: 216.83 seconds\n",
      "\n",
      "Early Stopping at Epoch 10\n",
      "\n",
      "**************************************************\n",
      "\n",
      "Best Validation Loss at Epoch 4\n",
      "\n",
      "**************************************************\n",
      "\n",
      "Best Validation Accs at Epoch 9\n",
      "\n",
      "**************************************************\n",
      "\n",
      "Time Taken [10 Epochs] : 36.71 minutes\n",
      "\n",
      "**************************************************\n",
      "\n"
     ]
    },
    {
     "data": {
      "image/png": "[encoded data removed]",
      "text/plain": [
       "<Figure size 432x288 with 1 Axes>"
      ]
     },
     "metadata": {
      "needs_background": "light"
     },
     "output_type": "display_data"
    },
    {
     "name": "stdout",
     "output_type": "stream",
     "text": [
      "\n",
      "**************************************************\n",
      "\n"
     ]
    },
    {
     "data": {
      "image/png": "[encoded data removed]",
      "text/plain": [
       "<Figure size 432x288 with 1 Axes>"
      ]
     },
     "metadata": {
      "needs_background": "light"
     },
     "output_type": "display_data"
    },
    {
     "name": "stdout",
     "output_type": "stream",
     "text": [
      "\n",
      "**************************************************\n",
      "\n"
     ]
    },
    {
     "data": {
      "image/png": "[encoded data removed]",
      "text/plain": [
       "<Figure size 576x432 with 1 Axes>"
      ]
     },
     "metadata": {
      "needs_background": "light"
     },
     "output_type": "display_data"
    },
    {
     "name": "stdout",
     "output_type": "stream",
     "text": [
      "\n",
      "**************************************************\n",
      "\n",
      "\n",
      "**************************************************\n",
      "\n",
      "Training Fold 2...\n",
      "\n",
      "**************************************************\n",
      "\n",
      "Epoch: 1 | Train Loss: 0.43304 | Valid Loss: 0.22335 | Train Accs: 0.79095 | Valid Accs: 0.91193 | Time: 218.51 seconds\n",
      "Epoch: 2 | Train Loss: 0.17249 | Valid Loss: 0.09488 | Train Accs: 0.93822 | Valid Accs: 0.96212 | Time: 219.25 seconds\n",
      "Epoch: 3 | Train Loss: 0.13360 | Valid Loss: 0.19450 | Train Accs: 0.94756 | Valid Accs: 0.91572 | Time: 217.76 seconds\n",
      "Epoch: 4 | Train Loss: 0.10182 | Valid Loss: 0.10479 | Train Accs: 0.96216 | Valid Accs: 0.96023 | Time: 218.36 seconds\n",
      "Epoch: 5 | Train Loss: 0.08129 | Valid Loss: 0.09619 | Train Accs: 0.97150 | Valid Accs: 0.96780 | Time: 218.03 seconds\n",
      "Epoch: 6 | Train Loss: 0.06736 | Valid Loss: 0.13201 | Train Accs: 0.97366 | Valid Accs: 0.95549 | Time: 216.63 seconds\n",
      "Epoch: 7 | Train Loss: 0.05548 | Valid Loss: 0.08424 | Train Accs: 0.98132 | Valid Accs: 0.97254 | Time: 218.87 seconds\n",
      "Epoch: 8 | Train Loss: 0.03903 | Valid Loss: 0.07904 | Train Accs: 0.98515 | Valid Accs: 0.97633 | Time: 219.11 seconds\n",
      "Epoch: 9 | Train Loss: 0.03117 | Valid Loss: 0.06502 | Train Accs: 0.98922 | Valid Accs: 0.97917 | Time: 219.03 seconds\n",
      "Epoch: 10 | Train Loss: 0.03113 | Valid Loss: 0.08948 | Train Accs: 0.98970 | Valid Accs: 0.97348 | Time: 216.93 seconds\n",
      "\n",
      "**************************************************\n",
      "\n",
      "Best Validation Loss at Epoch 9\n",
      "\n",
      "**************************************************\n",
      "\n",
      "Best Validation Accs at Epoch 9\n",
      "\n",
      "**************************************************\n",
      "\n",
      "Time Taken [10 Epochs] : 36.38 minutes\n",
      "\n",
      "**************************************************\n",
      "\n"
     ]
    },
    {
     "data": {
      "image/png": "[encoded data removed]",
      "text/plain": [
       "<Figure size 432x288 with 1 Axes>"
      ]
     },
     "metadata": {
      "needs_background": "light"
     },
     "output_type": "display_data"
    },
    {
     "name": "stdout",
     "output_type": "stream",
     "text": [
      "\n",
      "**************************************************\n",
      "\n"
     ]
    },
    {
     "data": {
      "image/png": "[encoded data removed]",
      "text/plain": [
       "<Figure size 432x288 with 1 Axes>"
      ]
     },
     "metadata": {
      "needs_background": "light"
     },
     "output_type": "display_data"
    },
    {
     "name": "stdout",
     "output_type": "stream",
     "text": [
      "\n",
      "**************************************************\n",
      "\n"
     ]
    },
    {
     "data": {
      "image/png": "[encoded data removed]",
      "text/plain": [
       "<Figure size 576x432 with 1 Axes>"
      ]
     },
     "metadata": {
      "needs_background": "light"
     },
     "output_type": "display_data"
    },
    {
     "name": "stdout",
     "output_type": "stream",
     "text": [
      "\n",
      "**************************************************\n",
      "\n",
      "\n",
      "**************************************************\n",
      "\n",
      "Training Fold 3...\n",
      "\n",
      "**************************************************\n",
      "\n",
      "Epoch: 1 | Train Loss: 0.42610 | Valid Loss: 0.15911 | Train Accs: 0.79401 | Valid Accs: 0.93150 | Time: 218.71 seconds\n",
      "Epoch: 2 | Train Loss: 0.16554 | Valid Loss: 0.06653 | Train Accs: 0.93846 | Valid Accs: 0.97727 | Time: 218.57 seconds\n",
      "Epoch: 3 | Train Loss: 0.14786 | Valid Loss: 0.20705 | Train Accs: 0.94295 | Valid Accs: 0.90025 | Time: 216.32 seconds\n",
      "Epoch: 4 | Train Loss: 0.10314 | Valid Loss: 0.13957 | Train Accs: 0.96379 | Valid Accs: 0.94792 | Time: 219.83 seconds\n",
      "Epoch: 5 | Train Loss: 0.09593 | Valid Loss: 0.04732 | Train Accs: 0.96331 | Valid Accs: 0.98011 | Time: 220.78 seconds\n",
      "Epoch: 6 | Train Loss: 0.06787 | Valid Loss: 0.11112 | Train Accs: 0.97725 | Valid Accs: 0.95928 | Time: 219.85 seconds\n",
      "Epoch: 7 | Train Loss: 0.05323 | Valid Loss: 0.11150 | Train Accs: 0.97941 | Valid Accs: 0.96023 | Time: 218.98 seconds\n",
      "Epoch: 8 | Train Loss: 0.03955 | Valid Loss: 0.05700 | Train Accs: 0.98467 | Valid Accs: 0.98201 | Time: 219.35 seconds\n",
      "Epoch: 9 | Train Loss: 0.03306 | Valid Loss: 0.06866 | Train Accs: 0.98731 | Valid Accs: 0.98011 | Time: 218.63 seconds\n",
      "Epoch: 10 | Train Loss: 0.02703 | Valid Loss: 0.06679 | Train Accs: 0.99018 | Valid Accs: 0.98106 | Time: 219.13 seconds\n",
      "\n",
      "**************************************************\n",
      "\n",
      "Best Validation Loss at Epoch 5\n",
      "\n",
      "**************************************************\n",
      "\n",
      "Best Validation Accs at Epoch 8\n",
      "\n",
      "**************************************************\n",
      "\n",
      "Time Taken [10 Epochs] : 36.50 minutes\n",
      "\n",
      "**************************************************\n",
      "\n"
     ]
    },
    {
     "data": {
      "image/png": "[encoded data removed]",
      "text/plain": [
       "<Figure size 432x288 with 1 Axes>"
      ]
     },
     "metadata": {
      "needs_background": "light"
     },
     "output_type": "display_data"
    },
    {
     "name": "stdout",
     "output_type": "stream",
     "text": [
      "\n",
      "**************************************************\n",
      "\n"
     ]
    },
    {
     "data": {
      "image/png": "[encoded data removed]",
      "text/plain": [
       "<Figure size 432x288 with 1 Axes>"
      ]
     },
     "metadata": {
      "needs_background": "light"
     },
     "output_type": "display_data"
    },
    {
     "name": "stdout",
     "output_type": "stream",
     "text": [
      "\n",
      "**************************************************\n",
      "\n"
     ]
    },
    {
     "data": {
      "image/png": "[encoded data removed]",
      "text/plain": [
       "<Figure size 576x432 with 1 Axes>"
      ]
     },
     "metadata": {
      "needs_background": "light"
     },
     "output_type": "display_data"
    },
    {
     "name": "stdout",
     "output_type": "stream",
     "text": [
      "\n",
      "**************************************************\n",
      "\n",
      "\n",
      "**************************************************\n",
      "\n",
      "Training Fold 4...\n",
      "\n",
      "**************************************************\n",
      "\n",
      "Epoch: 1 | Train Loss: 0.42772 | Valid Loss: 0.12852 | Train Accs: 0.79329 | Valid Accs: 0.95928 | Time: 219.06 seconds\n",
      "Epoch: 2 | Train Loss: 0.17060 | Valid Loss: 0.07246 | Train Accs: 0.93151 | Valid Accs: 0.96970 | Time: 220.59 seconds\n",
      "Epoch: 3 | Train Loss: 0.14034 | Valid Loss: 0.16201 | Train Accs: 0.94923 | Valid Accs: 0.95076 | Time: 218.49 seconds\n",
      "Epoch: 4 | Train Loss: 0.10442 | Valid Loss: 0.04865 | Train Accs: 0.95977 | Valid Accs: 0.98106 | Time: 219.10 seconds\n",
      "Epoch: 5 | Train Loss: 0.08535 | Valid Loss: 0.12578 | Train Accs: 0.96810 | Valid Accs: 0.96023 | Time: 218.65 seconds\n",
      "Epoch: 6 | Train Loss: 0.06998 | Valid Loss: 0.07337 | Train Accs: 0.97605 | Valid Accs: 0.96780 | Time: 217.98 seconds\n",
      "Epoch: 7 | Train Loss: 0.05651 | Valid Loss: 0.12175 | Train Accs: 0.97629 | Valid Accs: 0.96023 | Time: 216.76 seconds\n",
      "Epoch: 8 | Train Loss: 0.04105 | Valid Loss: 0.08766 | Train Accs: 0.98534 | Valid Accs: 0.96970 | Time: 216.55 seconds\n",
      "Epoch: 9 | Train Loss: 0.03108 | Valid Loss: 0.06607 | Train Accs: 0.98611 | Valid Accs: 0.97443 | Time: 217.30 seconds\n",
      "\n",
      "Early Stopping at Epoch 10\n",
      "\n",
      "**************************************************\n",
      "\n",
      "Best Validation Loss at Epoch 4\n",
      "\n",
      "**************************************************\n",
      "\n",
      "Best Validation Accs at Epoch 4\n",
      "\n",
      "**************************************************\n",
      "\n",
      "Time Taken [10 Epochs] : 36.36 minutes\n",
      "\n",
      "**************************************************\n",
      "\n"
     ]
    },
    {
     "data": {
      "image/png": "[encoded data removed]",
      "text/plain": [
       "<Figure size 432x288 with 1 Axes>"
      ]
     },
     "metadata": {
      "needs_background": "light"
     },
     "output_type": "display_data"
    },
    {
     "name": "stdout",
     "output_type": "stream",
     "text": [
      "\n",
      "**************************************************\n",
      "\n"
     ]
    },
    {
     "data": {
      "image/png": "[encoded data removed]",
      "text/plain": [
       "<Figure size 432x288 with 1 Axes>"
      ]
     },
     "metadata": {
      "needs_background": "light"
     },
     "output_type": "display_data"
    },
    {
     "name": "stdout",
     "output_type": "stream",
     "text": [
      "\n",
      "**************************************************\n",
      "\n"
     ]
    },
    {
     "data": {
      "image/png": "[encoded data removed]",
      "text/plain": [
       "<Figure size 576x432 with 1 Axes>"
      ]
     },
     "metadata": {
      "needs_background": "light"
     },
     "output_type": "display_data"
    },
    {
     "name": "stdout",
     "output_type": "stream",
     "text": [
      "\n",
      "**************************************************\n",
      "\n",
      "\n",
      "**************************************************\n",
      "\n",
      "Training Fold 5...\n",
      "\n",
      "**************************************************\n",
      "\n",
      "Epoch: 1 | Train Loss: 0.43243 | Valid Loss: 0.14409 | Train Accs: 0.78892 | Valid Accs: 0.95076 | Time: 220.15 seconds\n",
      "Epoch: 2 | Train Loss: 0.17926 | Valid Loss: 0.05973 | Train Accs: 0.93481 | Valid Accs: 0.97538 | Time: 220.86 seconds\n",
      "Epoch: 3 | Train Loss: 0.14196 | Valid Loss: 0.22587 | Train Accs: 0.94373 | Valid Accs: 0.92330 | Time: 216.46 seconds\n",
      "Epoch: 4 | Train Loss: 0.11102 | Valid Loss: 0.08641 | Train Accs: 0.96216 | Valid Accs: 0.96875 | Time: 216.28 seconds\n",
      "Epoch: 5 | Train Loss: 0.09054 | Valid Loss: 0.05671 | Train Accs: 0.96732 | Valid Accs: 0.98201 | Time: 218.11 seconds\n",
      "Epoch: 6 | Train Loss: 0.07581 | Valid Loss: 0.06015 | Train Accs: 0.97265 | Valid Accs: 0.97822 | Time: 216.79 seconds\n",
      "Epoch: 7 | Train Loss: 0.05152 | Valid Loss: 0.09568 | Train Accs: 0.98007 | Valid Accs: 0.96686 | Time: 216.58 seconds\n",
      "Epoch: 8 | Train Loss: 0.04119 | Valid Loss: 0.09131 | Train Accs: 0.98467 | Valid Accs: 0.97159 | Time: 217.18 seconds\n",
      "Epoch: 9 | Train Loss: 0.03741 | Valid Loss: 0.07658 | Train Accs: 0.98611 | Valid Accs: 0.98011 | Time: 217.70 seconds\n",
      "Epoch: 10 | Train Loss: 0.03076 | Valid Loss: 0.07687 | Train Accs: 0.98965 | Valid Accs: 0.98106 | Time: 216.42 seconds\n",
      "\n",
      "**************************************************\n",
      "\n",
      "Best Validation Loss at Epoch 5\n",
      "\n",
      "**************************************************\n",
      "\n",
      "Best Validation Accs at Epoch 5\n",
      "\n",
      "**************************************************\n",
      "\n",
      "Time Taken [10 Epochs] : 36.28 minutes\n",
      "\n",
      "**************************************************\n",
      "\n"
     ]
    },
    {
     "data": {
      "image/png": "[encoded data removed]",
      "text/plain": [
       "<Figure size 432x288 with 1 Axes>"
      ]
     },
     "metadata": {
      "needs_background": "light"
     },
     "output_type": "display_data"
    },
    {
     "name": "stdout",
     "output_type": "stream",
     "text": [
      "\n",
      "**************************************************\n",
      "\n"
     ]
    },
    {
     "data": {
      "image/png": "[encoded data removed]",
      "text/plain": [
       "<Figure size 432x288 with 1 Axes>"
      ]
     },
     "metadata": {
      "needs_background": "light"
     },
     "output_type": "display_data"
    },
    {
     "name": "stdout",
     "output_type": "stream",
     "text": [
      "\n",
      "**************************************************\n",
      "\n"
     ]
    },
    {
     "data": {
      "image/png": "[encoded data removed]",
      "text/plain": [
       "<Figure size 576x432 with 1 Axes>"
      ]
     },
     "metadata": {
      "needs_background": "light"
     },
     "output_type": "display_data"
    },
    {
     "name": "stdout",
     "output_type": "stream",
     "text": [
      "\n",
      "**************************************************\n",
      "\n"
     ]
    }
   ],
   "source": [
    "fold: int = 1\n",
    "BLs: list = []\n",
    "BAs: list = []\n",
    "    \n",
    "cfg.batch_size = 16\n",
    "cfg.epochs = 10\n",
    "    \n",
    "for tr_idx, va_idx in KFold(n_splits=cfg.n_splits, random_state=cfg.seed, shuffle=True).split(filepaths):\n",
    "    \n",
    "    tr_filepaths, va_filepaths = filepaths[tr_idx], filepaths[va_idx] \n",
    "    tr_labels, va_labels       = labels[tr_idx], labels[va_idx]\n",
    "\n",
    "    tr_data_setup = DS(\n",
    "        filepaths=tr_filepaths, \n",
    "        labels=tr_labels.reshape(-1, 1),\n",
    "        size=cfg.size,\n",
    "        transform=cfg.train_transform\n",
    "    )\n",
    "\n",
    "    va_data_setup = DS(\n",
    "        filepaths=va_filepaths, \n",
    "        labels=va_labels.reshape(-1, 1),\n",
    "        size=cfg.size,\n",
    "        transform=cfg.valid_transform\n",
    "    )\n",
    "\n",
    "    dataloaders = {\n",
    "        \"train\" : DL(tr_data_setup, batch_size=cfg.batch_size, shuffle=True, generator=torch.manual_seed(cfg.seed)),\n",
    "        \"valid\" : DL(va_data_setup, batch_size=cfg.batch_size, shuffle=False),\n",
    "    }\n",
    "\n",
    "    cfg.steps_per_epoch=len(dataloaders[\"train\"])\n",
    "\n",
    "    torch.manual_seed(cfg.seed)\n",
    "    model = Model().to(cfg.device)\n",
    "\n",
    "    optimizer = optim.Adam([p for p in model.parameters() if p.requires_grad], lr=cfg.lr, weight_decay=cfg.wd)\n",
    "    # optimizer = optim.AdamW([p for p in model.parameters() if p.requires_grad], lr=cfg.lr, weight_decay=cfg.wd)\n",
    "    # optimizer = optim.SGD([p for p in model.parameters() if p.requires_grad], lr=cfg.lr, weight_decay=cfg.wd, momentum=0.9)\n",
    "\n",
    "    scheduler_oclr = optim.lr_scheduler.OneCycleLR(\n",
    "        optimizer=optimizer, \n",
    "        max_lr=cfg.max_lr, \n",
    "        epochs=cfg.epochs, \n",
    "        steps_per_epoch=cfg.steps_per_epoch,\n",
    "        pct_start=cfg.pct_start, \n",
    "        div_factor=cfg.div_factor, \n",
    "        final_div_factor=cfg.final_div_factor\n",
    "    )\n",
    "\n",
    "    # scheduler_rlrop = optim.lr_scheduler.ReduceLROnPlateau(\n",
    "    #     optimizer=optimizer,\n",
    "    #     patience=cfg.patience,\n",
    "    #     eps=cfg.eps,\n",
    "    #     verbose=True\n",
    "    # )\n",
    "\n",
    "    # scheduler_oclr = None\n",
    "    scheduler_rlrop = None\n",
    "\n",
    "\n",
    "    L, A, LR, BL, BA, _, _, _, _ = fit(\n",
    "        model=model, \n",
    "        optimizer=optimizer, \n",
    "        scheduler_oclr=scheduler_oclr,\n",
    "        scheduler_rlrop=scheduler_rlrop,\n",
    "        epochs=cfg.epochs, \n",
    "        early_stopping_patience=cfg.early_stopping, \n",
    "        dataloaders=dataloaders, \n",
    "        device=cfg.device,\n",
    "        save_path=cfg.save_path,\n",
    "        fold=fold,\n",
    "        verbose=True\n",
    "    )\n",
    "\n",
    "\n",
    "    breaker()\n",
    "    show_loss_graphs(L)\n",
    "    breaker()\n",
    "    show_accuracy_graphs(A)\n",
    "    breaker()\n",
    "    if scheduler_oclr:\n",
    "        show_lr_graph(LR)\n",
    "        breaker()\n",
    "    \n",
    "    BLs.append(BL)\n",
    "    BAs.append(BA)\n",
    "    \n",
    "    fold += 1"
   ]
  },
  {
   "cell_type": "markdown",
   "id": "2512824a",
   "metadata": {
    "papermill": {
     "duration": 0.016408,
     "end_time": "2023-01-22T09:13:02.225222",
     "exception": false,
     "start_time": "2023-01-22T09:13:02.208814",
     "status": "completed"
    },
    "tags": []
   },
   "source": [
    "### **Best Model**"
   ]
  },
  {
   "cell_type": "code",
   "execution_count": 10,
   "id": "ff7740c3",
   "metadata": {
    "execution": {
     "iopub.execute_input": "2023-01-22T09:13:02.259209Z",
     "iopub.status.busy": "2023-01-22T09:13:02.258834Z",
     "iopub.status.idle": "2023-01-22T09:13:02.269761Z",
     "shell.execute_reply": "2023-01-22T09:13:02.268807Z"
    },
    "papermill": {
     "duration": 0.031112,
     "end_time": "2023-01-22T09:13:02.272504",
     "exception": false,
     "start_time": "2023-01-22T09:13:02.241392",
     "status": "completed"
    },
    "tags": []
   },
   "outputs": [
    {
     "name": "stdout",
     "output_type": "stream",
     "text": [
      "\n",
      "**************************************************\n",
      "\n",
      "Best Loss Model Fold     : 3\n",
      "Best Accuracy Model Fold : 3\n",
      "\n",
      "**************************************************\n",
      "\n"
     ]
    }
   ],
   "source": [
    "BL = np.inf\n",
    "for i in range(len(BLs)):\n",
    "    if BLs[i][\"valid\"] < BL:\n",
    "        BL = BLs[i][\"valid\"]\n",
    "        best_loss_index = i\n",
    "\n",
    "        \n",
    "BA = 0.0\n",
    "for i in range(len(BAs)):\n",
    "    if BAs[i][\"valid\"] > BA:\n",
    "        BA = BAs[i][\"valid\"]\n",
    "        best_accs_index = i\n",
    "\n",
    "breaker()\n",
    "print(f\"Best Loss Model Fold     : {best_loss_index + 1}\")\n",
    "print(f\"Best Accuracy Model Fold : {best_accs_index + 1}\")\n",
    "breaker()"
   ]
  }
 ],
 "metadata": {
  "kernelspec": {
   "display_name": "Python 3",
   "language": "python",
   "name": "python3"
  },
  "language_info": {
   "codemirror_mode": {
    "name": "ipython",
    "version": 3
   },
   "file_extension": ".py",
   "mimetype": "text/x-python",
   "name": "python",
   "nbconvert_exporter": "python",
   "pygments_lexer": "ipython3",
   "version": "3.7.12"
  },
  "papermill": {
   "default_parameters": {},
   "duration": 10968.699806,
   "end_time": "2023-01-22T09:13:05.046056",
   "environment_variables": {},
   "exception": null,
   "input_path": "__notebook__.ipynb",
   "output_path": "__notebook__.ipynb",
   "parameters": {},
   "start_time": "2023-01-22T06:10:16.346250",
   "version": "2.3.4"
  }
 },
 "nbformat": 4,
 "nbformat_minor": 5
}
