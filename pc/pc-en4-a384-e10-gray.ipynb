{
 "cells": [
  {
   "cell_type": "markdown",
   "id": "a48938de",
   "metadata": {
    "_cell_guid": "b1076dfc-b9ad-4769-8c92-a6c4dae69d19",
    "_uuid": "8f2839f25d086af736a60e9eeb907d3b93b6e0e5",
    "papermill": {
     "duration": 0.004663,
     "end_time": "2023-01-18T06:13:04.171160",
     "exception": false,
     "start_time": "2023-01-18T06:13:04.166497",
     "status": "completed"
    },
    "tags": []
   },
   "source": [
    "### **Setup**"
   ]
  },
  {
   "cell_type": "code",
   "execution_count": 1,
   "id": "1831e5b6",
   "metadata": {
    "execution": {
     "iopub.execute_input": "2023-01-18T06:13:04.180164Z",
     "iopub.status.busy": "2023-01-18T06:13:04.179626Z",
     "iopub.status.idle": "2023-01-18T06:13:15.287632Z",
     "shell.execute_reply": "2023-01-18T06:13:15.286228Z"
    },
    "papermill": {
     "duration": 11.115162,
     "end_time": "2023-01-18T06:13:15.289942",
     "exception": false,
     "start_time": "2023-01-18T06:13:04.174780",
     "status": "completed"
    },
    "tags": []
   },
   "outputs": [
    {
     "name": "stderr",
     "output_type": "stream",
     "text": [
      "WARNING: Running pip as the 'root' user can result in broken permissions and conflicting behaviour with the system package manager. It is recommended to use a virtual environment instead: https://pip.pypa.io/warnings/venv\n"
     ]
    }
   ],
   "source": [
    "%%bash\n",
    "pip install timm -q"
   ]
  },
  {
   "cell_type": "markdown",
   "id": "ac6fe9da",
   "metadata": {
    "papermill": {
     "duration": 0.003412,
     "end_time": "2023-01-18T06:13:15.297271",
     "exception": false,
     "start_time": "2023-01-18T06:13:15.293859",
     "status": "completed"
    },
    "tags": []
   },
   "source": [
    "### **Library Imports**"
   ]
  },
  {
   "cell_type": "code",
   "execution_count": 2,
   "id": "b640d882",
   "metadata": {
    "execution": {
     "iopub.execute_input": "2023-01-18T06:13:15.305726Z",
     "iopub.status.busy": "2023-01-18T06:13:15.305409Z",
     "iopub.status.idle": "2023-01-18T06:13:19.229824Z",
     "shell.execute_reply": "2023-01-18T06:13:19.228764Z"
    },
    "papermill": {
     "duration": 3.931527,
     "end_time": "2023-01-18T06:13:19.232308",
     "exception": false,
     "start_time": "2023-01-18T06:13:15.300781",
     "status": "completed"
    },
    "tags": []
   },
   "outputs": [],
   "source": [
    "import os\n",
    "import re\n",
    "import cv2\n",
    "import timm\n",
    "import torch\n",
    "import numpy as np\n",
    "import pandas as pd\n",
    "import matplotlib.pyplot as plt\n",
    "\n",
    "from time import time\n",
    "from typing import Union\n",
    "from torch import nn, optim\n",
    "from torch.utils.data import Dataset\n",
    "from torch.utils.data import DataLoader as DL\n",
    "from torchvision import models, transforms\n",
    "\n",
    "from sklearn.model_selection import KFold"
   ]
  },
  {
   "cell_type": "markdown",
   "id": "ec1911d9",
   "metadata": {
    "papermill": {
     "duration": 0.003624,
     "end_time": "2023-01-18T06:13:19.240209",
     "exception": false,
     "start_time": "2023-01-18T06:13:19.236585",
     "status": "completed"
    },
    "tags": []
   },
   "source": [
    "### **Utilities and Helpers**"
   ]
  },
  {
   "cell_type": "code",
   "execution_count": 3,
   "id": "f7290a5d",
   "metadata": {
    "execution": {
     "iopub.execute_input": "2023-01-18T06:13:19.248941Z",
     "iopub.status.busy": "2023-01-18T06:13:19.248621Z",
     "iopub.status.idle": "2023-01-18T06:13:19.260918Z",
     "shell.execute_reply": "2023-01-18T06:13:19.260107Z"
    },
    "papermill": {
     "duration": 0.019194,
     "end_time": "2023-01-18T06:13:19.263116",
     "exception": false,
     "start_time": "2023-01-18T06:13:19.243922",
     "status": "completed"
    },
    "tags": []
   },
   "outputs": [],
   "source": [
    "SEED: int = 42\n",
    "SIZE: int = 384\n",
    "\n",
    "\n",
    "def breaker(num: int=50, char: str=\"*\") -> None:\n",
    "    print(\"\\n\" + num*char + \"\\n\")\n",
    "\n",
    "    \n",
    "def get_image(path: str, size: int=224) -> np.ndarray:\n",
    "    return cv2.resize(src=cv2.imread(path, cv2.IMREAD_GRAYSCALE), dsize=(size, size), interpolation=cv2.INTER_AREA)\n",
    "\n",
    "    \n",
    "def show_loss_graphs(L: list) -> None:\n",
    "    TL, VL = [], []\n",
    "    for i in range(len(L)):\n",
    "        TL.append(L[i][\"train\"])\n",
    "        VL.append(L[i][\"valid\"])\n",
    "    x_Axis = np.arange(1, len(TL) + 1)\n",
    "    plt.figure()\n",
    "    plt.plot(x_Axis, TL, \"r\", label=\"Train\")\n",
    "    plt.plot(x_Axis, VL, \"b\", label=\"Valid\")\n",
    "    plt.legend()\n",
    "    plt.grid()\n",
    "    plt.title(\"Loss Graph\")\n",
    "    plt.show()\n",
    "\n",
    "    \n",
    "def show_accuracy_graphs(A: list) -> None:\n",
    "    TA, VA = [], []\n",
    "    for i in range(len(A)):\n",
    "        TA.append(A[i][\"train\"])\n",
    "        VA.append(A[i][\"valid\"])\n",
    "    x_Axis = np.arange(1, len(TA) + 1)\n",
    "    plt.figure()\n",
    "    plt.plot(x_Axis, TA, \"r\", label=\"Train\")\n",
    "    plt.plot(x_Axis, VA, \"b\", label=\"Valid\")\n",
    "    plt.legend()\n",
    "    plt.grid()\n",
    "    plt.title(\"Accuracy Graph\")\n",
    "    plt.show()\n",
    "    \n",
    "\n",
    "def show_lr_graph(LR: list) -> None:\n",
    "    x_Axis = [i+1 for i in range(len(LR))]\n",
    "    plt.figure(figsize=(8, 6))\n",
    "    plt.plot(x_Axis, LR, \"rx\")\n",
    "    plt.grid()\n",
    "    plt.show()"
   ]
  },
  {
   "cell_type": "markdown",
   "id": "604a496f",
   "metadata": {
    "papermill": {
     "duration": 0.003606,
     "end_time": "2023-01-18T06:13:19.270428",
     "exception": false,
     "start_time": "2023-01-18T06:13:19.266822",
     "status": "completed"
    },
    "tags": []
   },
   "source": [
    "\n",
    "\n",
    "### **Configuration**"
   ]
  },
  {
   "cell_type": "code",
   "execution_count": 4,
   "id": "eafc6622",
   "metadata": {
    "execution": {
     "iopub.execute_input": "2023-01-18T06:13:19.279051Z",
     "iopub.status.busy": "2023-01-18T06:13:19.278786Z",
     "iopub.status.idle": "2023-01-18T06:13:19.355954Z",
     "shell.execute_reply": "2023-01-18T06:13:19.354978Z"
    },
    "papermill": {
     "duration": 0.083964,
     "end_time": "2023-01-18T06:13:19.358100",
     "exception": false,
     "start_time": "2023-01-18T06:13:19.274136",
     "status": "completed"
    },
    "tags": []
   },
   "outputs": [],
   "source": [
    "class CFG(object):\n",
    "    def __init__(self,            \n",
    "                 seed: int = 42,\n",
    "                 size: int = 224,\n",
    "                 n_splits: int = 5,\n",
    "                 batch_size: int = 16,\n",
    "                 epochs: int = 25,\n",
    "                 early_stopping: int = 5,\n",
    "                 lr: float = 1e-4,\n",
    "                 wd: float = 0.0,\n",
    "                 max_lr: float = 1e-3,\n",
    "                 pct_start: float = 0.2,\n",
    "                 steps_per_epoch: int = 100,\n",
    "                 div_factor: int = 1e3, \n",
    "                 final_div_factor: float = 1e3,\n",
    "                 ):\n",
    "        self.seed = seed\n",
    "        self.size = size\n",
    "        self.n_splits = n_splits\n",
    "        self.batch_size = batch_size\n",
    "        self.epochs = epochs\n",
    "        self.early_stopping = early_stopping\n",
    "        self.lr = lr\n",
    "        self.wd = wd\n",
    "        self.max_lr = max_lr\n",
    "        self.pct_start = pct_start\n",
    "        self.steps_per_epoch = steps_per_epoch\n",
    "        self.div_factor = div_factor\n",
    "        self.final_div_factor = final_div_factor\n",
    "        self.device = torch.device(\"cuda\" if torch.cuda.is_available() else \"cpu\")\n",
    "        \n",
    "        if self.size == 224:\n",
    "            self.train_transform = transforms.Compose([\n",
    "                transforms.ToTensor(),\n",
    "                transforms.Normalize([0.48230], [0.22198]),\n",
    "                transforms.RandomAffine(degrees=(-45, 45), translate=(0.15, 0.15), scale=(0.5, 1.5)),\n",
    "                transforms.RandomHorizontalFlip(p=0.25),\n",
    "                transforms.RandomVerticalFlip(p=0.25),\n",
    "            ])\n",
    "            self.valid_transform = transforms.Compose([\n",
    "                transforms.ToTensor(),\n",
    "                transforms.Normalize([0.48230], [0.22198]),\n",
    "            ])\n",
    "        \n",
    "        if self.size == 384:\n",
    "            self.train_transform = transforms.Compose([\n",
    "                transforms.ToTensor(),\n",
    "                transforms.Normalize([0.48230], [0.22245]),\n",
    "                transforms.RandomAffine(degrees=(-45, 45), translate=(0.15, 0.15), scale=(0.5, 1.5)),\n",
    "                transforms.RandomHorizontalFlip(p=0.25),\n",
    "                transforms.RandomVerticalFlip(p=0.25),\n",
    "            ])\n",
    "            self.valid_transform = transforms.Compose([\n",
    "                transforms.ToTensor(),\n",
    "                transforms.Normalize([0.48230], [0.22245]),\n",
    "            ])\n",
    "        \n",
    "        if self.size == 512:\n",
    "            self.train_transform = transforms.Compose([\n",
    "                transforms.ToTensor(),\n",
    "                transforms.Normalize([0.48229], [0.22261]),\n",
    "                transforms.RandomAffine(degrees=(-45, 45), translate=(0.15, 0.15), scale=(0.5, 1.5)),\n",
    "                transforms.RandomHorizontalFlip(p=0.25),\n",
    "                transforms.RandomVerticalFlip(p=0.25),\n",
    "            ])\n",
    "            self.valid_transform = transforms.Compose([\n",
    "                transforms.ToTensor(),\n",
    "                transforms.Normalize([0.48229], [0.22261]),\n",
    "            ])\n",
    "                                \n",
    "        self.save_path = \"saves\"\n",
    "        if not os.path.exists(self.save_path): os.makedirs(self.save_path)\n",
    "    \n",
    "cfg = CFG(\n",
    "    seed=SEED, \n",
    "    size=SIZE\n",
    ")"
   ]
  },
  {
   "cell_type": "markdown",
   "id": "53a97a84",
   "metadata": {
    "papermill": {
     "duration": 0.003805,
     "end_time": "2023-01-18T06:13:19.365824",
     "exception": false,
     "start_time": "2023-01-18T06:13:19.362019",
     "status": "completed"
    },
    "tags": []
   },
   "source": [
    "### **Dataset Template**"
   ]
  },
  {
   "cell_type": "code",
   "execution_count": 5,
   "id": "0544028d",
   "metadata": {
    "execution": {
     "iopub.execute_input": "2023-01-18T06:13:19.375283Z",
     "iopub.status.busy": "2023-01-18T06:13:19.374342Z",
     "iopub.status.idle": "2023-01-18T06:13:19.381769Z",
     "shell.execute_reply": "2023-01-18T06:13:19.380910Z"
    },
    "papermill": {
     "duration": 0.014069,
     "end_time": "2023-01-18T06:13:19.383728",
     "exception": false,
     "start_time": "2023-01-18T06:13:19.369659",
     "status": "completed"
    },
    "tags": []
   },
   "outputs": [],
   "source": [
    "class DS(Dataset):\n",
    "    def __init__(\n",
    "        self, \n",
    "        filepaths: np.ndarray, \n",
    "        size: int,\n",
    "        labels: Union[np.ndarray, None]=None, \n",
    "        transform=None\n",
    "    ):\n",
    "        \n",
    "        self.filepaths = filepaths\n",
    "        self.labels = labels\n",
    "        self.size = size\n",
    "        self.transform = transform\n",
    "    \n",
    "    def __len__(self):\n",
    "        return self.filepaths.shape[0]\n",
    "    \n",
    "    def __getitem__(self, idx):\n",
    "        image = get_image(self.filepaths[idx], self.size)\n",
    "        if self.labels is None:\n",
    "            return self.transform(image)\n",
    "        return self.transform(image), torch.FloatTensor(self.labels[idx])"
   ]
  },
  {
   "cell_type": "markdown",
   "id": "847c0674",
   "metadata": {
    "papermill": {
     "duration": 0.003642,
     "end_time": "2023-01-18T06:13:19.391139",
     "exception": false,
     "start_time": "2023-01-18T06:13:19.387497",
     "status": "completed"
    },
    "tags": []
   },
   "source": [
    "### **Model**"
   ]
  },
  {
   "cell_type": "code",
   "execution_count": 6,
   "id": "09ed8d8f",
   "metadata": {
    "execution": {
     "iopub.execute_input": "2023-01-18T06:13:19.399869Z",
     "iopub.status.busy": "2023-01-18T06:13:19.399614Z",
     "iopub.status.idle": "2023-01-18T06:13:19.406530Z",
     "shell.execute_reply": "2023-01-18T06:13:19.405723Z"
    },
    "papermill": {
     "duration": 0.013677,
     "end_time": "2023-01-18T06:13:19.408606",
     "exception": false,
     "start_time": "2023-01-18T06:13:19.394929",
     "status": "completed"
    },
    "tags": []
   },
   "outputs": [],
   "source": [
    "class Model(nn.Module):\n",
    "    def __init__(self):\n",
    "        super(Model, self).__init__()\n",
    "            \n",
    "        self.model = timm.create_model(model_name=\"efficientnet_b4\", pretrained=True)\n",
    "        self.model.conv_stem = nn.Conv2d(\n",
    "            in_channels=1,\n",
    "            out_channels=self.model.conv_stem.out_channels,\n",
    "            kernel_size=self.model.conv_stem.kernel_size,\n",
    "            stride=self.model.conv_stem.stride,\n",
    "            padding=self.model.conv_stem.padding\n",
    "        )\n",
    "        self.model.classifier = nn.Linear(in_features=self.model.classifier.in_features, out_features=1)\n",
    "\n",
    "    def forward(self, x):\n",
    "        return self.model(x)"
   ]
  },
  {
   "cell_type": "markdown",
   "id": "468a4006",
   "metadata": {
    "papermill": {
     "duration": 0.003707,
     "end_time": "2023-01-18T06:13:19.416190",
     "exception": false,
     "start_time": "2023-01-18T06:13:19.412483",
     "status": "completed"
    },
    "tags": []
   },
   "source": [
    "### **Fit and Predict**"
   ]
  },
  {
   "cell_type": "code",
   "execution_count": 7,
   "id": "bd296abe",
   "metadata": {
    "execution": {
     "iopub.execute_input": "2023-01-18T06:13:19.425519Z",
     "iopub.status.busy": "2023-01-18T06:13:19.425187Z",
     "iopub.status.idle": "2023-01-18T06:13:19.446712Z",
     "shell.execute_reply": "2023-01-18T06:13:19.445895Z"
    },
    "papermill": {
     "duration": 0.028512,
     "end_time": "2023-01-18T06:13:19.448688",
     "exception": false,
     "start_time": "2023-01-18T06:13:19.420176",
     "status": "completed"
    },
    "tags": []
   },
   "outputs": [],
   "source": [
    "def fit(\n",
    "    model=None,\n",
    "    optimizer=None, \n",
    "    scheduler_rlrop=None,\n",
    "    scheduler_oclr=None,\n",
    "    epochs=None, \n",
    "    early_stopping_patience=None, \n",
    "    dataloaders=None, \n",
    "    fold=None, \n",
    "    save_path=None,\n",
    "    device=None,\n",
    "    verbose=False\n",
    ") -> tuple:\n",
    "    \n",
    "    def get_accuracy(y_pred, y_true):\n",
    "        y_pred = torch.sigmoid(y_pred)\n",
    "        \n",
    "        y_pred[y_pred > 0.5] = 1\n",
    "        y_pred[y_pred <= 0.5] = 0\n",
    "        \n",
    "        return torch.count_nonzero(y_pred == y_true).item() / len(y_pred)\n",
    "    \n",
    "    if verbose:\n",
    "        breaker()\n",
    "        if fold: print(f\"Training Fold {fold}...\")\n",
    "        else: print(\"Training ...\")\n",
    "        breaker()\n",
    "        \n",
    "    bestLoss: dict = {\"train\" : np.inf, \"valid\" : np.inf} \n",
    "    bestAccs: dict = {\"train\" : 0.0, \"valid\" : 0.0}\n",
    "    \n",
    "    Losses: list = []\n",
    "    Accuracies: list = [] \n",
    "    LRs: list = []\n",
    "        \n",
    "    if fold: \n",
    "        ble_name = f\"ble_state_fold_{fold}.pt\"\n",
    "        bae_name = f\"bae_state_fold_{fold}.pt\"\n",
    "    else: \n",
    "        ble_name = f\"ble_state.pt\"\n",
    "        bae_name = f\"bae_state.pt\"\n",
    "        \n",
    "    start_time = time()\n",
    "    for e in range(epochs):\n",
    "        e_st = time()\n",
    "        epochLoss: dict = {\"train\" : 0.0, \"valid\" : 0.0} \n",
    "        epochAccs: dict = {\"train\" : 0.0, \"valid\" : 0.0}\n",
    "\n",
    "        for phase in [\"train\", \"valid\"]:\n",
    "            if phase == \"train\":\n",
    "                model.train()\n",
    "            else:\n",
    "                model.eval()\n",
    "            \n",
    "            lossPerPass: list = []\n",
    "            accsPerPass: list = []\n",
    "                \n",
    "            for X, y in dataloaders[phase]:\n",
    "                X, y = X.to(device), y.to(device)\n",
    "\n",
    "                optimizer.zero_grad()\n",
    "                with torch.set_grad_enabled(phase == \"train\"):\n",
    "                    output = model(X)\n",
    "                    loss = torch.nn.BCEWithLogitsLoss()(output, y)\n",
    "                    if phase == \"train\":\n",
    "                        loss.backward()\n",
    "                        optimizer.step()\n",
    "                        if scheduler_oclr: scheduler_oclr.step()\n",
    "                lossPerPass.append(loss.item())\n",
    "                accsPerPass.append(get_accuracy(output, y))\n",
    "            epochLoss[phase] = np.mean(np.array(lossPerPass))\n",
    "            epochAccs[phase] = np.mean(np.array(accsPerPass))\n",
    "        if scheduler_oclr: LRs.append(scheduler_oclr.get_last_lr())\n",
    "        Losses.append(epochLoss)\n",
    "        Accuracies.append(epochAccs)\n",
    "        \n",
    "        if scheduler_oclr:\n",
    "            save_dict = {\"model_state_dict\"     : model.state_dict(),\n",
    "                         \"optim_state_dict\"     : optimizer.state_dict(),\n",
    "                         \"scheduler_state_dict\" : scheduler_oclr.state_dict()}\n",
    "        \n",
    "        elif scheduler_rlrop:\n",
    "            save_dict = {\"model_state_dict\"     : model.state_dict(),\n",
    "                         \"optim_state_dict\"     : optimizer.state_dict(),\n",
    "                         \"scheduler_state_dict\" : scheduler_rlrop.state_dict()}\n",
    "        \n",
    "        else:\n",
    "            save_dict = {\"model_state_dict\"     : model.state_dict(),\n",
    "                         \"optim_state_dict\"     : optimizer.state_dict()}\n",
    "        \n",
    "        if early_stopping_patience:\n",
    "            if epochLoss[\"valid\"] < bestLoss[\"valid\"]:\n",
    "                bestLoss = epochLoss\n",
    "                BLE = e + 1\n",
    "                torch.save(save_dict, os.path.join(save_path, ble_name))\n",
    "                torch.save(save_dict, os.path.join(save_path, bae_name))\n",
    "                early_stopping_step = 0\n",
    "            else:\n",
    "                early_stopping_step += 1\n",
    "                if early_stopping_step > early_stopping_patience:\n",
    "                    print(\"\\nEarly Stopping at Epoch {}\".format(e + 1))\n",
    "                    break\n",
    "        \n",
    "        if epochLoss[\"valid\"] < bestLoss[\"valid\"]:\n",
    "            bestLoss = epochLoss\n",
    "            BLE = e + 1\n",
    "            torch.save(save_dict,os.path.join(save_path, ble_name))\n",
    "        \n",
    "        if epochAccs[\"valid\"] > bestAccs[\"valid\"]:\n",
    "            bestAccs = epochAccs\n",
    "            BAE = e + 1\n",
    "            torch.save(save_dict,os.path.join(save_path, bae_name))\n",
    "        \n",
    "        if scheduler_rlrop: scheduler_rlrop.step(epochLoss[\"valid\"])\n",
    "        \n",
    "        if verbose:\n",
    "            print(\"Epoch: {} | Train Loss: {:.5f} | Valid Loss: {:.5f} |\\\n",
    " Train Accs: {:.5f} | Valid Accs: {:.5f} | Time: {:.2f} seconds\".format(\n",
    "                e+1, \n",
    "                epochLoss[\"train\"], epochLoss[\"valid\"], \n",
    "                epochAccs[\"train\"], epochAccs[\"valid\"], \n",
    "                time()-e_st)\n",
    "             )\n",
    "\n",
    "    if verbose:                                           \n",
    "        breaker()\n",
    "        print(f\"Best Validation Loss at Epoch {BLE}\")\n",
    "        breaker()\n",
    "        print(f\"Best Validation Accs at Epoch {BAE}\")\n",
    "        breaker()\n",
    "        print(\"Time Taken [{} Epochs] : {:.2f} minutes\".format(len(Losses), (time()-start_time)/60))\n",
    "    \n",
    "    return Losses, Accuracies, LRs, bestLoss, bestAccs, BLE, BAE, ble_name, bae_name\n",
    "\n",
    "\n",
    "# def predict_batch(model=None, dataloader=None, path=None, device=None) -> np.ndarray:\n",
    "#     model.load_state_dict(torch.load(path, map_location=device)[\"model_state_dict\"])\n",
    "#     model.to(device)    \n",
    "#     model.eval()\n",
    "    \n",
    "#     y_pred = torch.zeros(1, 1).to(device)\n",
    "    \n",
    "#     for X in dataloader:\n",
    "#         X = X.to(device)\n",
    "#         with torch.no_grad():\n",
    "#             output = torch.sigmoid(model(X))\n",
    "#         y_pred = torch.cat((y_pred, output.view(-1, 1)), dim=0)\n",
    "    \n",
    "#     # y_pred[y_pred > 0.5] = 1\n",
    "#     # y_pred[y_pred <= 0.5] = 0\n",
    "    \n",
    "#     return y_pred[1:].detach().cpu().numpy()"
   ]
  },
  {
   "cell_type": "markdown",
   "id": "a7393172",
   "metadata": {
    "papermill": {
     "duration": 0.00483,
     "end_time": "2023-01-18T06:13:19.457537",
     "exception": false,
     "start_time": "2023-01-18T06:13:19.452707",
     "status": "completed"
    },
    "tags": []
   },
   "source": [
    "### **Train**"
   ]
  },
  {
   "cell_type": "code",
   "execution_count": 8,
   "id": "36d69dd0",
   "metadata": {
    "execution": {
     "iopub.execute_input": "2023-01-18T06:13:19.466446Z",
     "iopub.status.busy": "2023-01-18T06:13:19.466192Z",
     "iopub.status.idle": "2023-01-18T06:13:19.503913Z",
     "shell.execute_reply": "2023-01-18T06:13:19.503100Z"
    },
    "papermill": {
     "duration": 0.044525,
     "end_time": "2023-01-18T06:13:19.505990",
     "exception": false,
     "start_time": "2023-01-18T06:13:19.461465",
     "status": "completed"
    },
    "tags": []
   },
   "outputs": [],
   "source": [
    "df = pd.read_csv(\"/kaggle/input/pc-dataframe/train.csv\")\n",
    "\n",
    "filepaths = df.filepaths.copy().values\n",
    "labels = df.labels.copy().values"
   ]
  },
  {
   "cell_type": "code",
   "execution_count": 9,
   "id": "97cce34f",
   "metadata": {
    "execution": {
     "iopub.execute_input": "2023-01-18T06:13:19.515817Z",
     "iopub.status.busy": "2023-01-18T06:13:19.515254Z",
     "iopub.status.idle": "2023-01-18T09:18:27.565498Z",
     "shell.execute_reply": "2023-01-18T09:18:27.564107Z"
    },
    "papermill": {
     "duration": 11108.057465,
     "end_time": "2023-01-18T09:18:27.567582",
     "exception": false,
     "start_time": "2023-01-18T06:13:19.510117",
     "status": "completed"
    },
    "tags": []
   },
   "outputs": [
    {
     "name": "stderr",
     "output_type": "stream",
     "text": [
      "Downloading: \"https://github.com/rwightman/pytorch-image-models/releases/download/v0.1-weights/efficientnet_b4_ra2_320-7eb33cd5.pth\" to /root/.cache/torch/hub/checkpoints/efficientnet_b4_ra2_320-7eb33cd5.pth\n"
     ]
    },
    {
     "name": "stdout",
     "output_type": "stream",
     "text": [
      "\n",
      "**************************************************\n",
      "\n",
      "Training Fold 1...\n",
      "\n",
      "**************************************************\n",
      "\n",
      "Epoch: 1 | Train Loss: 0.45691 | Valid Loss: 0.14224 | Train Accs: 0.78584 | Valid Accs: 0.94602 | Time: 253.52 seconds\n",
      "Epoch: 2 | Train Loss: 0.17321 | Valid Loss: 0.11143 | Train Accs: 0.93750 | Valid Accs: 0.96402 | Time: 221.59 seconds\n",
      "Epoch: 3 | Train Loss: 0.14493 | Valid Loss: 0.08999 | Train Accs: 0.94612 | Valid Accs: 0.97159 | Time: 221.76 seconds\n",
      "Epoch: 4 | Train Loss: 0.10949 | Valid Loss: 0.09215 | Train Accs: 0.95809 | Valid Accs: 0.97159 | Time: 218.63 seconds\n",
      "Epoch: 5 | Train Loss: 0.09243 | Valid Loss: 0.08584 | Train Accs: 0.96655 | Valid Accs: 0.97159 | Time: 220.63 seconds\n",
      "Epoch: 6 | Train Loss: 0.07123 | Valid Loss: 0.06058 | Train Accs: 0.97534 | Valid Accs: 0.97822 | Time: 221.36 seconds\n",
      "Epoch: 7 | Train Loss: 0.05586 | Valid Loss: 0.04159 | Train Accs: 0.98036 | Valid Accs: 0.98485 | Time: 221.06 seconds\n",
      "Epoch: 8 | Train Loss: 0.04254 | Valid Loss: 0.03912 | Train Accs: 0.98563 | Valid Accs: 0.98674 | Time: 220.54 seconds\n",
      "Epoch: 9 | Train Loss: 0.03528 | Valid Loss: 0.04589 | Train Accs: 0.98707 | Valid Accs: 0.98201 | Time: 218.43 seconds\n",
      "Epoch: 10 | Train Loss: 0.02857 | Valid Loss: 0.04487 | Train Accs: 0.98898 | Valid Accs: 0.98390 | Time: 220.24 seconds\n",
      "\n",
      "**************************************************\n",
      "\n",
      "Best Validation Loss at Epoch 8\n",
      "\n",
      "**************************************************\n",
      "\n",
      "Best Validation Accs at Epoch 8\n",
      "\n",
      "**************************************************\n",
      "\n",
      "Time Taken [10 Epochs] : 37.30 minutes\n",
      "\n",
      "**************************************************\n",
      "\n"
     ]
    },
    {
     "data": {
      "image/png": "[encoded data removed]",
      "text/plain": [
       "<Figure size 432x288 with 1 Axes>"
      ]
     },
     "metadata": {
      "needs_background": "light"
     },
     "output_type": "display_data"
    },
    {
     "name": "stdout",
     "output_type": "stream",
     "text": [
      "\n",
      "**************************************************\n",
      "\n"
     ]
    },
    {
     "data": {
      "image/png": "[encoded data removed]",
      "text/plain": [
       "<Figure size 432x288 with 1 Axes>"
      ]
     },
     "metadata": {
      "needs_background": "light"
     },
     "output_type": "display_data"
    },
    {
     "name": "stdout",
     "output_type": "stream",
     "text": [
      "\n",
      "**************************************************\n",
      "\n"
     ]
    },
    {
     "data": {
      "image/png": "[encoded data removed]",
      "text/plain": [
       "<Figure size 576x432 with 1 Axes>"
      ]
     },
     "metadata": {
      "needs_background": "light"
     },
     "output_type": "display_data"
    },
    {
     "name": "stdout",
     "output_type": "stream",
     "text": [
      "\n",
      "**************************************************\n",
      "\n",
      "\n",
      "**************************************************\n",
      "\n",
      "Training Fold 2...\n",
      "\n",
      "**************************************************\n",
      "\n",
      "Epoch: 1 | Train Loss: 0.43303 | Valid Loss: 0.14795 | Train Accs: 0.79071 | Valid Accs: 0.94508 | Time: 221.68 seconds\n",
      "Epoch: 2 | Train Loss: 0.17859 | Valid Loss: 0.10307 | Train Accs: 0.93080 | Valid Accs: 0.95833 | Time: 220.93 seconds\n",
      "Epoch: 3 | Train Loss: 0.14000 | Valid Loss: 0.11736 | Train Accs: 0.95091 | Valid Accs: 0.95360 | Time: 220.05 seconds\n",
      "Epoch: 4 | Train Loss: 0.11233 | Valid Loss: 0.10521 | Train Accs: 0.95804 | Valid Accs: 0.96496 | Time: 219.49 seconds\n",
      "Epoch: 5 | Train Loss: 0.08601 | Valid Loss: 0.05342 | Train Accs: 0.96552 | Valid Accs: 0.97538 | Time: 221.31 seconds\n",
      "Epoch: 6 | Train Loss: 0.06572 | Valid Loss: 0.08206 | Train Accs: 0.97600 | Valid Accs: 0.97064 | Time: 219.71 seconds\n",
      "Epoch: 7 | Train Loss: 0.05128 | Valid Loss: 0.05183 | Train Accs: 0.98372 | Valid Accs: 0.97917 | Time: 220.91 seconds\n",
      "Epoch: 8 | Train Loss: 0.04037 | Valid Loss: 0.05990 | Train Accs: 0.98491 | Valid Accs: 0.97917 | Time: 220.34 seconds\n",
      "Epoch: 9 | Train Loss: 0.03092 | Valid Loss: 0.05165 | Train Accs: 0.98755 | Valid Accs: 0.98201 | Time: 222.22 seconds\n",
      "Epoch: 10 | Train Loss: 0.02205 | Valid Loss: 0.04725 | Train Accs: 0.99138 | Valid Accs: 0.98390 | Time: 223.02 seconds\n",
      "\n",
      "**************************************************\n",
      "\n",
      "Best Validation Loss at Epoch 10\n",
      "\n",
      "**************************************************\n",
      "\n",
      "Best Validation Accs at Epoch 10\n",
      "\n",
      "**************************************************\n",
      "\n",
      "Time Taken [10 Epochs] : 36.83 minutes\n",
      "\n",
      "**************************************************\n",
      "\n"
     ]
    },
    {
     "data": {
      "image/png": "[encoded data removed]",
      "text/plain": [
       "<Figure size 432x288 with 1 Axes>"
      ]
     },
     "metadata": {
      "needs_background": "light"
     },
     "output_type": "display_data"
    },
    {
     "name": "stdout",
     "output_type": "stream",
     "text": [
      "\n",
      "**************************************************\n",
      "\n"
     ]
    },
    {
     "data": {
      "image/png": "[encoded data removed]",
      "text/plain": [
       "<Figure size 432x288 with 1 Axes>"
      ]
     },
     "metadata": {
      "needs_background": "light"
     },
     "output_type": "display_data"
    },
    {
     "name": "stdout",
     "output_type": "stream",
     "text": [
      "\n",
      "**************************************************\n",
      "\n"
     ]
    },
    {
     "data": {
      "image/png": "[encoded data removed]",
      "text/plain": [
       "<Figure size 576x432 with 1 Axes>"
      ]
     },
     "metadata": {
      "needs_background": "light"
     },
     "output_type": "display_data"
    },
    {
     "name": "stdout",
     "output_type": "stream",
     "text": [
      "\n",
      "**************************************************\n",
      "\n",
      "\n",
      "**************************************************\n",
      "\n",
      "Training Fold 3...\n",
      "\n",
      "**************************************************\n",
      "\n",
      "Epoch: 1 | Train Loss: 0.42610 | Valid Loss: 0.14753 | Train Accs: 0.79401 | Valid Accs: 0.93939 | Time: 223.42 seconds\n",
      "Epoch: 2 | Train Loss: 0.17584 | Valid Loss: 0.10587 | Train Accs: 0.93846 | Valid Accs: 0.96875 | Time: 222.75 seconds\n",
      "Epoch: 3 | Train Loss: 0.12978 | Valid Loss: 0.08682 | Train Accs: 0.95330 | Valid Accs: 0.96686 | Time: 221.85 seconds\n",
      "Epoch: 4 | Train Loss: 0.10674 | Valid Loss: 0.06437 | Train Accs: 0.95804 | Valid Accs: 0.97443 | Time: 222.51 seconds\n",
      "Epoch: 5 | Train Loss: 0.09173 | Valid Loss: 0.08075 | Train Accs: 0.96552 | Valid Accs: 0.97348 | Time: 220.58 seconds\n",
      "Epoch: 6 | Train Loss: 0.07185 | Valid Loss: 0.08901 | Train Accs: 0.97438 | Valid Accs: 0.96307 | Time: 220.72 seconds\n",
      "Epoch: 7 | Train Loss: 0.05579 | Valid Loss: 0.05591 | Train Accs: 0.97845 | Valid Accs: 0.98485 | Time: 222.53 seconds\n",
      "Epoch: 8 | Train Loss: 0.04670 | Valid Loss: 0.04362 | Train Accs: 0.98084 | Valid Accs: 0.98485 | Time: 222.75 seconds\n",
      "Epoch: 9 | Train Loss: 0.03723 | Valid Loss: 0.04837 | Train Accs: 0.98683 | Valid Accs: 0.98390 | Time: 221.18 seconds\n",
      "Epoch: 10 | Train Loss: 0.03386 | Valid Loss: 0.03648 | Train Accs: 0.98875 | Valid Accs: 0.99053 | Time: 224.11 seconds\n",
      "\n",
      "**************************************************\n",
      "\n",
      "Best Validation Loss at Epoch 10\n",
      "\n",
      "**************************************************\n",
      "\n",
      "Best Validation Accs at Epoch 10\n",
      "\n",
      "**************************************************\n",
      "\n",
      "Time Taken [10 Epochs] : 37.04 minutes\n",
      "\n",
      "**************************************************\n",
      "\n"
     ]
    },
    {
     "data": {
      "image/png": "[encoded data removed]",
      "text/plain": [
       "<Figure size 432x288 with 1 Axes>"
      ]
     },
     "metadata": {
      "needs_background": "light"
     },
     "output_type": "display_data"
    },
    {
     "name": "stdout",
     "output_type": "stream",
     "text": [
      "\n",
      "**************************************************\n",
      "\n"
     ]
    },
    {
     "data": {
      "image/png": "[encoded data removed]",
      "text/plain": [
       "<Figure size 432x288 with 1 Axes>"
      ]
     },
     "metadata": {
      "needs_background": "light"
     },
     "output_type": "display_data"
    },
    {
     "name": "stdout",
     "output_type": "stream",
     "text": [
      "\n",
      "**************************************************\n",
      "\n"
     ]
    },
    {
     "data": {
      "image/png": "[encoded data removed]",
      "text/plain": [
       "<Figure size 576x432 with 1 Axes>"
      ]
     },
     "metadata": {
      "needs_background": "light"
     },
     "output_type": "display_data"
    },
    {
     "name": "stdout",
     "output_type": "stream",
     "text": [
      "\n",
      "**************************************************\n",
      "\n",
      "\n",
      "**************************************************\n",
      "\n",
      "Training Fold 4...\n",
      "\n",
      "**************************************************\n",
      "\n",
      "Epoch: 1 | Train Loss: 0.42772 | Valid Loss: 0.18094 | Train Accs: 0.79353 | Valid Accs: 0.93087 | Time: 222.37 seconds\n",
      "Epoch: 2 | Train Loss: 0.16150 | Valid Loss: 0.10324 | Train Accs: 0.94013 | Valid Accs: 0.96402 | Time: 221.55 seconds\n",
      "Epoch: 3 | Train Loss: 0.13665 | Valid Loss: 0.11296 | Train Accs: 0.95187 | Valid Accs: 0.96686 | Time: 220.83 seconds\n",
      "Epoch: 4 | Train Loss: 0.10686 | Valid Loss: 0.11940 | Train Accs: 0.96288 | Valid Accs: 0.95265 | Time: 222.25 seconds\n",
      "Epoch: 5 | Train Loss: 0.08809 | Valid Loss: 0.06881 | Train Accs: 0.96935 | Valid Accs: 0.97159 | Time: 222.21 seconds\n",
      "Epoch: 6 | Train Loss: 0.06887 | Valid Loss: 0.06119 | Train Accs: 0.97486 | Valid Accs: 0.98106 | Time: 221.99 seconds\n",
      "Epoch: 7 | Train Loss: 0.04786 | Valid Loss: 0.06608 | Train Accs: 0.98348 | Valid Accs: 0.97822 | Time: 219.40 seconds\n",
      "Epoch: 8 | Train Loss: 0.04109 | Valid Loss: 0.04450 | Train Accs: 0.98635 | Valid Accs: 0.98485 | Time: 221.54 seconds\n",
      "Epoch: 9 | Train Loss: 0.03720 | Valid Loss: 0.04366 | Train Accs: 0.98683 | Valid Accs: 0.98390 | Time: 221.78 seconds\n",
      "Epoch: 10 | Train Loss: 0.02759 | Valid Loss: 0.03753 | Train Accs: 0.99066 | Valid Accs: 0.98580 | Time: 221.77 seconds\n",
      "\n",
      "**************************************************\n",
      "\n",
      "Best Validation Loss at Epoch 10\n",
      "\n",
      "**************************************************\n",
      "\n",
      "Best Validation Accs at Epoch 10\n",
      "\n",
      "**************************************************\n",
      "\n",
      "Time Taken [10 Epochs] : 36.93 minutes\n",
      "\n",
      "**************************************************\n",
      "\n"
     ]
    },
    {
     "data": {
      "image/png": "[encoded data removed]",
      "text/plain": [
       "<Figure size 432x288 with 1 Axes>"
      ]
     },
     "metadata": {
      "needs_background": "light"
     },
     "output_type": "display_data"
    },
    {
     "name": "stdout",
     "output_type": "stream",
     "text": [
      "\n",
      "**************************************************\n",
      "\n"
     ]
    },
    {
     "data": {
      "image/png": "[encoded data removed]",
      "text/plain": [
       "<Figure size 432x288 with 1 Axes>"
      ]
     },
     "metadata": {
      "needs_background": "light"
     },
     "output_type": "display_data"
    },
    {
     "name": "stdout",
     "output_type": "stream",
     "text": [
      "\n",
      "**************************************************\n",
      "\n"
     ]
    },
    {
     "data": {
      "image/png": "[encoded data removed]",
      "text/plain": [
       "<Figure size 576x432 with 1 Axes>"
      ]
     },
     "metadata": {
      "needs_background": "light"
     },
     "output_type": "display_data"
    },
    {
     "name": "stdout",
     "output_type": "stream",
     "text": [
      "\n",
      "**************************************************\n",
      "\n",
      "\n",
      "**************************************************\n",
      "\n",
      "Training Fold 5...\n",
      "\n",
      "**************************************************\n",
      "\n",
      "Epoch: 1 | Train Loss: 0.43243 | Valid Loss: 0.22216 | Train Accs: 0.78892 | Valid Accs: 0.92045 | Time: 221.39 seconds\n",
      "Epoch: 2 | Train Loss: 0.17933 | Valid Loss: 0.09956 | Train Accs: 0.93170 | Valid Accs: 0.96307 | Time: 221.16 seconds\n",
      "Epoch: 3 | Train Loss: 0.12990 | Valid Loss: 0.12581 | Train Accs: 0.95386 | Valid Accs: 0.95076 | Time: 220.24 seconds\n",
      "Epoch: 4 | Train Loss: 0.12132 | Valid Loss: 0.08596 | Train Accs: 0.95721 | Valid Accs: 0.96686 | Time: 222.03 seconds\n",
      "Epoch: 5 | Train Loss: 0.09218 | Valid Loss: 0.05930 | Train Accs: 0.96576 | Valid Accs: 0.97822 | Time: 222.39 seconds\n",
      "Epoch: 6 | Train Loss: 0.06740 | Valid Loss: 0.05034 | Train Accs: 0.97510 | Valid Accs: 0.97917 | Time: 220.97 seconds\n",
      "Epoch: 7 | Train Loss: 0.05388 | Valid Loss: 0.04219 | Train Accs: 0.97797 | Valid Accs: 0.98864 | Time: 221.47 seconds\n",
      "Epoch: 8 | Train Loss: 0.04323 | Valid Loss: 0.04196 | Train Accs: 0.98443 | Valid Accs: 0.98295 | Time: 220.51 seconds\n",
      "Epoch: 9 | Train Loss: 0.03141 | Valid Loss: 0.03281 | Train Accs: 0.98827 | Valid Accs: 0.99148 | Time: 221.09 seconds\n",
      "Epoch: 10 | Train Loss: 0.02780 | Valid Loss: 0.03746 | Train Accs: 0.98851 | Valid Accs: 0.98580 | Time: 219.89 seconds\n",
      "\n",
      "**************************************************\n",
      "\n",
      "Best Validation Loss at Epoch 9\n",
      "\n",
      "**************************************************\n",
      "\n",
      "Best Validation Accs at Epoch 9\n",
      "\n",
      "**************************************************\n",
      "\n",
      "Time Taken [10 Epochs] : 36.85 minutes\n",
      "\n",
      "**************************************************\n",
      "\n"
     ]
    },
    {
     "data": {
      "image/png": "[encoded data removed]",
      "text/plain": [
       "<Figure size 432x288 with 1 Axes>"
      ]
     },
     "metadata": {
      "needs_background": "light"
     },
     "output_type": "display_data"
    },
    {
     "name": "stdout",
     "output_type": "stream",
     "text": [
      "\n",
      "**************************************************\n",
      "\n"
     ]
    },
    {
     "data": {
      "image/png": "[encoded data removed]",
      "text/plain": [
       "<Figure size 432x288 with 1 Axes>"
      ]
     },
     "metadata": {
      "needs_background": "light"
     },
     "output_type": "display_data"
    },
    {
     "name": "stdout",
     "output_type": "stream",
     "text": [
      "\n",
      "**************************************************\n",
      "\n"
     ]
    },
    {
     "data": {
      "image/png": "[encoded data removed]",
      "text/plain": [
       "<Figure size 576x432 with 1 Axes>"
      ]
     },
     "metadata": {
      "needs_background": "light"
     },
     "output_type": "display_data"
    },
    {
     "name": "stdout",
     "output_type": "stream",
     "text": [
      "\n",
      "**************************************************\n",
      "\n"
     ]
    }
   ],
   "source": [
    "fold: int = 1\n",
    "BLs: list = []\n",
    "BAs: list = []\n",
    "    \n",
    "cfg.batch_size = 16\n",
    "cfg.epochs = 10\n",
    "    \n",
    "for tr_idx, va_idx in KFold(n_splits=cfg.n_splits, random_state=cfg.seed, shuffle=True).split(filepaths):\n",
    "    \n",
    "    tr_filepaths, va_filepaths = filepaths[tr_idx], filepaths[va_idx] \n",
    "    tr_labels, va_labels       = labels[tr_idx], labels[va_idx]\n",
    "\n",
    "    tr_data_setup = DS(\n",
    "        filepaths=tr_filepaths, \n",
    "        labels=tr_labels.reshape(-1, 1),\n",
    "        size=cfg.size,\n",
    "        transform=cfg.train_transform\n",
    "    )\n",
    "\n",
    "    va_data_setup = DS(\n",
    "        filepaths=va_filepaths, \n",
    "        labels=va_labels.reshape(-1, 1),\n",
    "        size=cfg.size,\n",
    "        transform=cfg.train_transform\n",
    "    )\n",
    "\n",
    "    dataloaders = {\n",
    "        \"train\" : DL(tr_data_setup, batch_size=cfg.batch_size, shuffle=True, generator=torch.manual_seed(cfg.seed)),\n",
    "        \"valid\" : DL(va_data_setup, batch_size=cfg.batch_size, shuffle=False),\n",
    "    }\n",
    "\n",
    "    cfg.steps_per_epoch=len(dataloaders[\"train\"])\n",
    "\n",
    "    torch.manual_seed(cfg.seed)\n",
    "    model = Model().to(cfg.device)\n",
    "\n",
    "    optimizer = optim.Adam([p for p in model.parameters() if p.requires_grad], lr=cfg.lr, weight_decay=cfg.wd)\n",
    "    # optimizer = optim.AdamW([p for p in model.parameters() if p.requires_grad], lr=cfg.lr, weight_decay=cfg.wd)\n",
    "    # optimizer = optim.SGD([p for p in model.parameters() if p.requires_grad], lr=cfg.lr, weight_decay=cfg.wd, momentum=0.9)\n",
    "\n",
    "    scheduler_oclr = optim.lr_scheduler.OneCycleLR(\n",
    "        optimizer=optimizer, \n",
    "        max_lr=cfg.max_lr, \n",
    "        epochs=cfg.epochs, \n",
    "        steps_per_epoch=cfg.steps_per_epoch,\n",
    "        pct_start=cfg.pct_start, \n",
    "        div_factor=cfg.div_factor, \n",
    "        final_div_factor=cfg.final_div_factor\n",
    "    )\n",
    "\n",
    "    # scheduler_rlrop = optim.lr_scheduler.ReduceLROnPlateau(\n",
    "    #     optimizer=optimizer,\n",
    "    #     patience=cfg.patience,\n",
    "    #     eps=cfg.eps,\n",
    "    #     verbose=True\n",
    "    # )\n",
    "\n",
    "    # scheduler_oclr = None\n",
    "    scheduler_rlrop = None\n",
    "\n",
    "\n",
    "    L, A, LR, BL, BA, _, _, _, _ = fit(\n",
    "        model=model, \n",
    "        optimizer=optimizer, \n",
    "        scheduler_oclr=scheduler_oclr,\n",
    "        scheduler_rlrop=scheduler_rlrop,\n",
    "        epochs=cfg.epochs, \n",
    "        early_stopping_patience=cfg.early_stopping, \n",
    "        dataloaders=dataloaders, \n",
    "        device=cfg.device,\n",
    "        save_path=cfg.save_path,\n",
    "        fold=fold,\n",
    "        verbose=True\n",
    "    )\n",
    "\n",
    "\n",
    "    breaker()\n",
    "    show_loss_graphs(L)\n",
    "    breaker()\n",
    "    show_accuracy_graphs(A)\n",
    "    breaker()\n",
    "    if scheduler_oclr:\n",
    "        show_lr_graph(LR)\n",
    "        breaker()\n",
    "    \n",
    "    BLs.append(BL)\n",
    "    BAs.append(BA)\n",
    "    \n",
    "    fold += 1"
   ]
  },
  {
   "cell_type": "markdown",
   "id": "17a821a3",
   "metadata": {
    "papermill": {
     "duration": 0.010773,
     "end_time": "2023-01-18T09:18:27.589725",
     "exception": false,
     "start_time": "2023-01-18T09:18:27.578952",
     "status": "completed"
    },
    "tags": []
   },
   "source": [
    "### **Best Model**"
   ]
  },
  {
   "cell_type": "code",
   "execution_count": 10,
   "id": "f03182f3",
   "metadata": {
    "execution": {
     "iopub.execute_input": "2023-01-18T09:18:27.613530Z",
     "iopub.status.busy": "2023-01-18T09:18:27.612798Z",
     "iopub.status.idle": "2023-01-18T09:18:27.621139Z",
     "shell.execute_reply": "2023-01-18T09:18:27.619191Z"
    },
    "papermill": {
     "duration": 0.022653,
     "end_time": "2023-01-18T09:18:27.623278",
     "exception": false,
     "start_time": "2023-01-18T09:18:27.600625",
     "status": "completed"
    },
    "tags": []
   },
   "outputs": [
    {
     "name": "stdout",
     "output_type": "stream",
     "text": [
      "\n",
      "**************************************************\n",
      "\n",
      "Best Loss Model Fold     : 5\n",
      "Best Accuracy Model Fold : 5\n",
      "\n",
      "**************************************************\n",
      "\n"
     ]
    }
   ],
   "source": [
    "BL = np.inf\n",
    "for i in range(len(BLs)):\n",
    "    if BLs[i][\"valid\"] < BL:\n",
    "        BL = BLs[i][\"valid\"]\n",
    "        best_loss_index = i\n",
    "\n",
    "        \n",
    "BA = 0.0\n",
    "for i in range(len(BAs)):\n",
    "    if BAs[i][\"valid\"] > BA:\n",
    "        BA = BAs[i][\"valid\"]\n",
    "        best_accs_index = i\n",
    "\n",
    "breaker()\n",
    "print(f\"Best Loss Model Fold     : {best_loss_index + 1}\")\n",
    "print(f\"Best Accuracy Model Fold : {best_accs_index + 1}\")\n",
    "breaker()"
   ]
  }
 ],
 "metadata": {
  "kernelspec": {
   "display_name": "Python 3",
   "language": "python",
   "name": "python3"
  },
  "language_info": {
   "codemirror_mode": {
    "name": "ipython",
    "version": 3
   },
   "file_extension": ".py",
   "mimetype": "text/x-python",
   "name": "python",
   "nbconvert_exporter": "python",
   "pygments_lexer": "ipython3",
   "version": "3.7.12"
  },
  "papermill": {
   "default_parameters": {},
   "duration": 11133.747486,
   "end_time": "2023-01-18T09:18:30.164736",
   "environment_variables": {},
   "exception": null,
   "input_path": "__notebook__.ipynb",
   "output_path": "__notebook__.ipynb",
   "parameters": {},
   "start_time": "2023-01-18T06:12:56.417250",
   "version": "2.3.4"
  }
 },
 "nbformat": 4,
 "nbformat_minor": 5
}
