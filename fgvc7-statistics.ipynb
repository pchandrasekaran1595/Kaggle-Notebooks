{
 "cells": [
  {
   "cell_type": "code",
   "execution_count": 1,
   "id": "85ce23c8",
   "metadata": {
    "_cell_guid": "b1076dfc-b9ad-4769-8c92-a6c4dae69d19",
    "_uuid": "8f2839f25d086af736a60e9eeb907d3b93b6e0e5",
    "execution": {
     "iopub.execute_input": "2022-03-24T08:45:39.934701Z",
     "iopub.status.busy": "2022-03-24T08:45:39.933821Z",
     "iopub.status.idle": "2022-03-24T08:45:40.318624Z",
     "shell.execute_reply": "2022-03-24T08:45:40.317791Z"
    },
    "papermill": {
     "duration": 0.403519,
     "end_time": "2022-03-24T08:45:40.318786",
     "exception": false,
     "start_time": "2022-03-24T08:45:39.915267",
     "status": "completed"
    },
    "tags": []
   },
   "outputs": [],
   "source": [
    "import os\n",
    "import cv2\n",
    "import numpy as np\n",
    "import pandas as pd"
   ]
  },
  {
   "cell_type": "code",
   "execution_count": 2,
   "id": "19d40159",
   "metadata": {
    "execution": {
     "iopub.execute_input": "2022-03-24T08:45:40.347573Z",
     "iopub.status.busy": "2022-03-24T08:45:40.340378Z",
     "iopub.status.idle": "2022-03-24T08:45:40.350459Z",
     "shell.execute_reply": "2022-03-24T08:45:40.349926Z"
    },
    "papermill": {
     "duration": 0.024896,
     "end_time": "2022-03-24T08:45:40.350605",
     "exception": false,
     "start_time": "2022-03-24T08:45:40.325709",
     "status": "completed"
    },
    "tags": []
   },
   "outputs": [],
   "source": [
    "def breaker(num: int = 50, char: str = \"*\") -> None:\n",
    "    print(\"\\n\" + num*char + \"\\n\")\n",
    "\n",
    "\n",
    "def preprocess(image: np.ndarray, size: int) -> np.ndarray:\n",
    "    return cv2.resize(src=cv2.cvtColor(src=image, code=cv2.COLOR_BGR2RGB), dsize=(size, size), interpolation=cv2.INTER_AREA)\n",
    "\n",
    "\n",
    "def get_images(path: str, names: np.ndarray, size: int) -> np.ndarray:\n",
    "    images = np.zeros((len(names), size, size, 3), dtype=np.uint8)\n",
    "    \n",
    "    i = 0\n",
    "    for name in names:\n",
    "        images[i] = preprocess(cv2.imread(os.path.join(path, name+\".jpg\"), cv2.IMREAD_COLOR), size)\n",
    "        i += 1\n",
    "    return images\n",
    "\n",
    "\n",
    "def save(train_images: np.ndarray, test_images: np.ndarray, targets: np.ndarray, size: int) -> None:\n",
    "    np.save(f\"./train_images_{size}.npy\", train_images)\n",
    "    np.save(f\"./test_images_{size}.npy\", test_images)\n",
    "    np.save(f\"./targets_{size}.npy\", targets)\n",
    "\n",
    "\n",
    "def get_statistics(images: np.ndarray, size: int) -> None:\n",
    "    print(f\"Mean {size}x{size}\\n\")\n",
    "    print(f\"Red Channel Mean   {size} : {train_images[:, :, 0].mean() / 255:.5f}\")\n",
    "    print(f\"Green Channel Mean {size} : {train_images[:, :, 1].mean() / 255:.5f}\")\n",
    "    print(f\"Blue Channel Mean  {size} : {train_images[:, :, 2].mean() / 255:.5f}\")\n",
    "    print(\"\")\n",
    "    print(f\"Standard Deviation {size}x{size}\\n\")\n",
    "    print(f\"Red Channel Std    {size} : {train_images[:, :, 0].std() / 255:.5f}\")\n",
    "    print(f\"Green Channel Std  {size} : {train_images[:, :, 1].std() / 255:.5f}\")\n",
    "    print(f\"Blue Channel Std   {size} : {train_images[:, :, 2].std() / 255:.5f}\")"
   ]
  },
  {
   "cell_type": "code",
   "execution_count": 3,
   "id": "5f091e3c",
   "metadata": {
    "execution": {
     "iopub.execute_input": "2022-03-24T08:45:40.365865Z",
     "iopub.status.busy": "2022-03-24T08:45:40.362182Z",
     "iopub.status.idle": "2022-03-24T08:45:40.402632Z",
     "shell.execute_reply": "2022-03-24T08:45:40.401926Z"
    },
    "papermill": {
     "duration": 0.047576,
     "end_time": "2022-03-24T08:45:40.402775",
     "exception": false,
     "start_time": "2022-03-24T08:45:40.355199",
     "status": "completed"
    },
    "tags": []
   },
   "outputs": [],
   "source": [
    "train_df = pd.read_csv(\"../input/plant-pathology-2020-fgvc7/train.csv\")\n",
    "ss_df    = pd.read_csv(\"../input/plant-pathology-2020-fgvc7/sample_submission.csv\")\n",
    "\n",
    "\n",
    "train_filenames = train_df[\"image_id\"].copy().values\n",
    "test_filenames  = ss_df[\"image_id\"].copy().values\n",
    "targets   = train_df.iloc[:, 1:].copy().values"
   ]
  },
  {
   "cell_type": "code",
   "execution_count": 4,
   "id": "bd7981df",
   "metadata": {
    "execution": {
     "iopub.execute_input": "2022-03-24T08:45:40.421288Z",
     "iopub.status.busy": "2022-03-24T08:45:40.420645Z",
     "iopub.status.idle": "2022-03-24T08:53:39.938402Z",
     "shell.execute_reply": "2022-03-24T08:53:39.937890Z"
    },
    "papermill": {
     "duration": 479.529459,
     "end_time": "2022-03-24T08:53:39.938656",
     "exception": false,
     "start_time": "2022-03-24T08:45:40.409197",
     "status": "completed"
    },
    "tags": []
   },
   "outputs": [
    {
     "name": "stdout",
     "output_type": "stream",
     "text": [
      "\n",
      "**************************************************\n",
      "\n",
      "Mean 256x256\n",
      "\n",
      "Red Channel Mean   256 : 0.42444\n",
      "Green Channel Mean 256 : 0.42294\n",
      "Blue Channel Mean  256 : 0.42183\n",
      "\n",
      "Standard Deviation 256x256\n",
      "\n",
      "Red Channel Std    256 : 0.22885\n",
      "Green Channel Std  256 : 0.22874\n",
      "Blue Channel Std   256 : 0.22866\n",
      "\n",
      "**************************************************\n",
      "\n",
      "Mean 384x384\n",
      "\n",
      "Red Channel Mean   384 : 0.42467\n",
      "Green Channel Mean 384 : 0.42375\n",
      "Blue Channel Mean  384 : 0.42274\n",
      "\n",
      "Standard Deviation 384x384\n",
      "\n",
      "Red Channel Std    384 : 0.22928\n",
      "Green Channel Std  384 : 0.22913\n",
      "Blue Channel Std   384 : 0.22914\n",
      "\n",
      "**************************************************\n",
      "\n",
      "Mean 512x512\n",
      "\n",
      "Red Channel Mean   512 : 0.42477\n",
      "Green Channel Mean 512 : 0.42413\n",
      "Blue Channel Mean  512 : 0.42328\n",
      "\n",
      "Standard Deviation 512x512\n",
      "\n",
      "Red Channel Std    512 : 0.22949\n",
      "Green Channel Std  512 : 0.22939\n",
      "Blue Channel Std   512 : 0.22930\n",
      "\n",
      "**************************************************\n",
      "\n"
     ]
    }
   ],
   "source": [
    "sizes = [256, 384, 512]\n",
    "\n",
    "breaker()\n",
    "for size in sizes:\n",
    "    train_images = get_images(\"../input/plant-pathology-2020-fgvc7/images\", train_filenames, size)\n",
    "    test_images  = get_images(\"../input/plant-pathology-2020-fgvc7/images\", test_filenames, size)\n",
    "    save(train_images, test_images, targets, size)\n",
    "    get_statistics(train_images, size)\n",
    "    breaker()"
   ]
  }
 ],
 "metadata": {
  "kernelspec": {
   "display_name": "Python 3",
   "language": "python",
   "name": "python3"
  },
  "language_info": {
   "codemirror_mode": {
    "name": "ipython",
    "version": 3
   },
   "file_extension": ".py",
   "mimetype": "text/x-python",
   "name": "python",
   "nbconvert_exporter": "python",
   "pygments_lexer": "ipython3",
   "version": "3.7.12"
  },
  "papermill": {
   "default_parameters": {},
   "duration": 491.977774,
   "end_time": "2022-03-24T08:53:41.401216",
   "environment_variables": {},
   "exception": null,
   "input_path": "__notebook__.ipynb",
   "output_path": "__notebook__.ipynb",
   "parameters": {},
   "start_time": "2022-03-24T08:45:29.423442",
   "version": "2.3.3"
  }
 },
 "nbformat": 4,
 "nbformat_minor": 5
}
