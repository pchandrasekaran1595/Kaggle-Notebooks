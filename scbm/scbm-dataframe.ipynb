{
 "cells": [
  {
   "cell_type": "code",
   "execution_count": 1,
   "id": "85a7d9f5",
   "metadata": {
    "_cell_guid": "b1076dfc-b9ad-4769-8c92-a6c4dae69d19",
    "_uuid": "8f2839f25d086af736a60e9eeb907d3b93b6e0e5",
    "execution": {
     "iopub.execute_input": "2022-12-01T06:06:51.723250Z",
     "iopub.status.busy": "2022-12-01T06:06:51.722767Z",
     "iopub.status.idle": "2022-12-01T06:06:51.950206Z",
     "shell.execute_reply": "2022-12-01T06:06:51.949034Z"
    },
    "papermill": {
     "duration": 0.235251,
     "end_time": "2022-12-01T06:06:51.953139",
     "exception": false,
     "start_time": "2022-12-01T06:06:51.717888",
     "status": "completed"
    },
    "tags": []
   },
   "outputs": [],
   "source": [
    "import os\n",
    "import cv2\n",
    "import numpy as np\n",
    "import pandas as pd\n",
    "\n",
    "DATASET_PATH: str = \"/kaggle/input/skin-cancer-malignant-vs-benign\"\n",
    "\n",
    "LABELS: dict = {\n",
    "    0 : \"Benign\",\n",
    "    1 : \"Malignant\",\n",
    "}"
   ]
  },
  {
   "cell_type": "code",
   "execution_count": 2,
   "id": "8f971576",
   "metadata": {
    "execution": {
     "iopub.execute_input": "2022-12-01T06:06:51.958659Z",
     "iopub.status.busy": "2022-12-01T06:06:51.958271Z",
     "iopub.status.idle": "2022-12-01T06:06:51.972929Z",
     "shell.execute_reply": "2022-12-01T06:06:51.972101Z"
    },
    "papermill": {
     "duration": 0.019681,
     "end_time": "2022-12-01T06:06:51.975010",
     "exception": false,
     "start_time": "2022-12-01T06:06:51.955329",
     "status": "completed"
    },
    "tags": []
   },
   "outputs": [],
   "source": [
    "tr_df: pd.DataFrame = pd.DataFrame(data=None, columns=[\"filepaths\", \"labels\"])  \n",
    "ts_df: pd.DataFrame = pd.DataFrame(data=None, columns=[\"filepaths\", \"labels\"])  "
   ]
  },
  {
   "cell_type": "code",
   "execution_count": 3,
   "id": "5cd71d5e",
   "metadata": {
    "execution": {
     "iopub.execute_input": "2022-12-01T06:06:51.980908Z",
     "iopub.status.busy": "2022-12-01T06:06:51.979897Z",
     "iopub.status.idle": "2022-12-01T06:06:52.936717Z",
     "shell.execute_reply": "2022-12-01T06:06:52.935605Z"
    },
    "papermill": {
     "duration": 0.962536,
     "end_time": "2022-12-01T06:06:52.939574",
     "exception": false,
     "start_time": "2022-12-01T06:06:51.977038",
     "status": "completed"
    },
    "tags": []
   },
   "outputs": [],
   "source": [
    "filepaths: list = []\n",
    "labels: list = []\n",
    "    \n",
    "i: int = 0\n",
    "for folder in sorted(os.listdir(f\"{DATASET_PATH}/train\")):\n",
    "    for filename in os.listdir(f\"{DATASET_PATH}/train/{folder}\"):\n",
    "        filepaths.append(os.path.join(f\"{DATASET_PATH}/train/{folder}\", filename))\n",
    "        labels.append(i)\n",
    "    i += 1\n",
    "\n",
    "tr_df.filepaths = filepaths\n",
    "tr_df.labels = labels\n",
    "tr_df.to_csv(\"train.csv\", index=False)"
   ]
  },
  {
   "cell_type": "code",
   "execution_count": 4,
   "id": "1f6ab8d9",
   "metadata": {
    "execution": {
     "iopub.execute_input": "2022-12-01T06:06:52.945105Z",
     "iopub.status.busy": "2022-12-01T06:06:52.944720Z",
     "iopub.status.idle": "2022-12-01T06:06:53.233092Z",
     "shell.execute_reply": "2022-12-01T06:06:53.231798Z"
    },
    "papermill": {
     "duration": 0.294132,
     "end_time": "2022-12-01T06:06:53.235857",
     "exception": false,
     "start_time": "2022-12-01T06:06:52.941725",
     "status": "completed"
    },
    "tags": []
   },
   "outputs": [],
   "source": [
    "filepaths: list = []\n",
    "labels: list = []\n",
    "    \n",
    "i: int = 0\n",
    "for folder in sorted(os.listdir(f\"{DATASET_PATH}/test\")):\n",
    "    for filename in os.listdir(f\"{DATASET_PATH}/test/{folder}\"):\n",
    "        filepaths.append(os.path.join(f\"{DATASET_PATH}/test/{folder}\", filename))\n",
    "        labels.append(i)\n",
    "    i += 1\n",
    "\n",
    "ts_df.filepaths = filepaths\n",
    "ts_df.labels = labels\n",
    "ts_df.to_csv(\"test.csv\", index=False)"
   ]
  }
 ],
 "metadata": {
  "kernelspec": {
   "display_name": "Python 3",
   "language": "python",
   "name": "python3"
  },
  "language_info": {
   "codemirror_mode": {
    "name": "ipython",
    "version": 3
   },
   "file_extension": ".py",
   "mimetype": "text/x-python",
   "name": "python",
   "nbconvert_exporter": "python",
   "pygments_lexer": "ipython3",
   "version": "3.7.12"
  },
  "papermill": {
   "default_parameters": {},
   "duration": 12.133586,
   "end_time": "2022-12-01T06:06:53.858956",
   "environment_variables": {},
   "exception": null,
   "input_path": "__notebook__.ipynb",
   "output_path": "__notebook__.ipynb",
   "parameters": {},
   "start_time": "2022-12-01T06:06:41.725370",
   "version": "2.3.4"
  }
 },
 "nbformat": 4,
 "nbformat_minor": 5
}
