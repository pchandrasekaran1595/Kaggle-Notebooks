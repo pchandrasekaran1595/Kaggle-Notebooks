{
 "cells": [
  {
   "cell_type": "markdown",
   "id": "53835278",
   "metadata": {
    "_cell_guid": "b1076dfc-b9ad-4769-8c92-a6c4dae69d19",
    "_uuid": "8f2839f25d086af736a60e9eeb907d3b93b6e0e5",
    "papermill": {
     "duration": 0.004857,
     "end_time": "2022-12-01T07:55:43.168989",
     "exception": false,
     "start_time": "2022-12-01T07:55:43.164132",
     "status": "completed"
    },
    "tags": []
   },
   "source": [
    "### **Setup**"
   ]
  },
  {
   "cell_type": "code",
   "execution_count": 1,
   "id": "77c10f22",
   "metadata": {
    "execution": {
     "iopub.execute_input": "2022-12-01T07:55:43.178997Z",
     "iopub.status.busy": "2022-12-01T07:55:43.177840Z",
     "iopub.status.idle": "2022-12-01T07:55:53.708392Z",
     "shell.execute_reply": "2022-12-01T07:55:53.707238Z"
    },
    "papermill": {
     "duration": 10.537876,
     "end_time": "2022-12-01T07:55:53.710707",
     "exception": false,
     "start_time": "2022-12-01T07:55:43.172831",
     "status": "completed"
    },
    "tags": []
   },
   "outputs": [
    {
     "name": "stderr",
     "output_type": "stream",
     "text": [
      "WARNING: Running pip as the 'root' user can result in broken permissions and conflicting behaviour with the system package manager. It is recommended to use a virtual environment instead: https://pip.pypa.io/warnings/venv\n"
     ]
    }
   ],
   "source": [
    "%%bash\n",
    "pip install timm -q"
   ]
  },
  {
   "cell_type": "markdown",
   "id": "de2df2b0",
   "metadata": {
    "papermill": {
     "duration": 0.003502,
     "end_time": "2022-12-01T07:55:53.718104",
     "exception": false,
     "start_time": "2022-12-01T07:55:53.714602",
     "status": "completed"
    },
    "tags": []
   },
   "source": [
    "### **Library Imports**"
   ]
  },
  {
   "cell_type": "code",
   "execution_count": 2,
   "id": "6d8f43e1",
   "metadata": {
    "execution": {
     "iopub.execute_input": "2022-12-01T07:55:53.726682Z",
     "iopub.status.busy": "2022-12-01T07:55:53.726359Z",
     "iopub.status.idle": "2022-12-01T07:55:57.694489Z",
     "shell.execute_reply": "2022-12-01T07:55:57.693366Z"
    },
    "papermill": {
     "duration": 3.975417,
     "end_time": "2022-12-01T07:55:57.697048",
     "exception": false,
     "start_time": "2022-12-01T07:55:53.721631",
     "status": "completed"
    },
    "tags": []
   },
   "outputs": [],
   "source": [
    "import os\n",
    "import re\n",
    "import cv2\n",
    "import timm\n",
    "import torch\n",
    "import numpy as np\n",
    "import pandas as pd\n",
    "import matplotlib.pyplot as plt\n",
    "\n",
    "from time import time\n",
    "from typing import Union\n",
    "from torch import nn, optim\n",
    "from torch.utils.data import Dataset\n",
    "from torch.utils.data import DataLoader as DL\n",
    "from torchvision import transforms\n",
    "\n",
    "from sklearn.model_selection import KFold"
   ]
  },
  {
   "cell_type": "markdown",
   "id": "dc6d10d5",
   "metadata": {
    "papermill": {
     "duration": 0.003508,
     "end_time": "2022-12-01T07:55:57.705016",
     "exception": false,
     "start_time": "2022-12-01T07:55:57.701508",
     "status": "completed"
    },
    "tags": []
   },
   "source": [
    "### **Utilities and Helpers**"
   ]
  },
  {
   "cell_type": "code",
   "execution_count": 3,
   "id": "3188a931",
   "metadata": {
    "execution": {
     "iopub.execute_input": "2022-12-01T07:55:57.714391Z",
     "iopub.status.busy": "2022-12-01T07:55:57.713837Z",
     "iopub.status.idle": "2022-12-01T07:55:57.727264Z",
     "shell.execute_reply": "2022-12-01T07:55:57.726237Z"
    },
    "papermill": {
     "duration": 0.021085,
     "end_time": "2022-12-01T07:55:57.729857",
     "exception": false,
     "start_time": "2022-12-01T07:55:57.708772",
     "status": "completed"
    },
    "tags": []
   },
   "outputs": [],
   "source": [
    "SEED = 42\n",
    "SIZE = 224\n",
    "STR_TO_INT = {\n",
    "    \"benign\"   : 0,\n",
    "    \"malignant\": 1,\n",
    "}\n",
    "\n",
    "\n",
    "def breaker(num: int=50, char: str=\"*\") -> None: print(\"\\n\" + num*char + \"\\n\")\n",
    "\n",
    "    \n",
    "def get_image(path: str, size: int=224) -> np.ndarray:\n",
    "    image = cv2.imread(path, cv2.IMREAD_COLOR)\n",
    "    image = cv2.cvtColor(src=image, code=cv2.COLOR_BGR2RGB)\n",
    "    if size == 224 and image.shape == (224, 224, 3): return image\n",
    "    return cv2.resize(src=image, dsize=(size, size), interpolation=cv2.INTER_AREA)\n",
    "\n",
    "    \n",
    "def show_loss_graphs(L: list) -> None:\n",
    "    TL, VL = [], []\n",
    "    for i in range(len(L)):\n",
    "        TL.append(L[i][\"train\"])\n",
    "        VL.append(L[i][\"valid\"])\n",
    "    x_Axis = np.arange(1, len(TL) + 1)\n",
    "    plt.figure()\n",
    "    plt.plot(x_Axis, TL, \"r\", label=\"Train\")\n",
    "    plt.plot(x_Axis, VL, \"b\", label=\"Valid\")\n",
    "    plt.legend()\n",
    "    plt.grid()\n",
    "    plt.title(\"Loss Graph\")\n",
    "    plt.show()\n",
    "\n",
    "    \n",
    "def show_accuracy_graphs(A: list) -> None:\n",
    "    TA, VA = [], []\n",
    "    for i in range(len(A)):\n",
    "        TA.append(A[i][\"train\"])\n",
    "        VA.append(A[i][\"valid\"])\n",
    "    x_Axis = np.arange(1, len(TA) + 1)\n",
    "    plt.figure()\n",
    "    plt.plot(x_Axis, TA, \"r\", label=\"Train\")\n",
    "    plt.plot(x_Axis, VA, \"b\", label=\"Valid\")\n",
    "    plt.legend()\n",
    "    plt.grid()\n",
    "    plt.title(\"Accuracy Graph\")\n",
    "    plt.show()\n",
    "    \n",
    "\n",
    "def show_lr_graph(LR: list) -> None:\n",
    "    x_Axis = [i+1 for i in range(len(LR))]\n",
    "    plt.figure(figsize=(8, 6))\n",
    "    plt.plot(x_Axis, LR, \"rx\")\n",
    "    plt.grid()\n",
    "    plt.show()"
   ]
  },
  {
   "cell_type": "markdown",
   "id": "c05e984e",
   "metadata": {
    "papermill": {
     "duration": 0.003925,
     "end_time": "2022-12-01T07:55:57.737460",
     "exception": false,
     "start_time": "2022-12-01T07:55:57.733535",
     "status": "completed"
    },
    "tags": []
   },
   "source": [
    "\n",
    "\n",
    "### **Configuration**"
   ]
  },
  {
   "cell_type": "code",
   "execution_count": 4,
   "id": "9c065941",
   "metadata": {
    "execution": {
     "iopub.execute_input": "2022-12-01T07:55:57.747269Z",
     "iopub.status.busy": "2022-12-01T07:55:57.746621Z",
     "iopub.status.idle": "2022-12-01T07:55:57.825019Z",
     "shell.execute_reply": "2022-12-01T07:55:57.824047Z"
    },
    "papermill": {
     "duration": 0.086418,
     "end_time": "2022-12-01T07:55:57.827826",
     "exception": false,
     "start_time": "2022-12-01T07:55:57.741408",
     "status": "completed"
    },
    "tags": []
   },
   "outputs": [],
   "source": [
    "class CFG(object):\n",
    "    def __init__(self, \n",
    "                 seed: int = 42,\n",
    "                 size: int = 224,\n",
    "                 n_splits: int = 5,\n",
    "                 batch_size: int = 16,\n",
    "                 epochs: int = 25,\n",
    "                 early_stopping: int = 5,\n",
    "                 lr: float = 1e-4,\n",
    "                 wd: float = 0.0,\n",
    "                 max_lr: float = 1e-3,\n",
    "                 pct_start: float = 0.2,\n",
    "                 steps_per_epoch: int = 100,\n",
    "                 div_factor: int = 1e3, \n",
    "                 final_div_factor: float = 1e3,\n",
    "                 ):\n",
    "        self.seed = seed\n",
    "        self.size = size\n",
    "        self.n_splits = n_splits\n",
    "        self.batch_size = batch_size\n",
    "        self.epochs = epochs\n",
    "        self.early_stopping = early_stopping\n",
    "        self.lr = lr\n",
    "        self.wd = wd\n",
    "        self.max_lr = max_lr\n",
    "        self.pct_start = pct_start\n",
    "        self.steps_per_epoch = steps_per_epoch\n",
    "        self.div_factor = div_factor\n",
    "        self.final_div_factor = final_div_factor\n",
    "        self.device = torch.device(\"cuda\" if torch.cuda.is_available() else \"cpu\")\n",
    "        \n",
    "        if self.size == 224:\n",
    "            self.train_transform = transforms.Compose([\n",
    "                transforms.ToTensor(),\n",
    "                transforms.Normalize([0.76023, 0.53673, 0.53793], [0.09512, 0.11913, 0.13302]),\n",
    "                transforms.RandomAffine(degrees=(-45, 45), translate=(0.15, 0.15), scale=(0.5, 1.5)),\n",
    "                transforms.RandomHorizontalFlip(p=0.25),\n",
    "                transforms.RandomVerticalFlip(p=0.25),\n",
    "            ])\n",
    "            self.valid_transform = transforms.Compose([\n",
    "                transforms.ToTensor(),\n",
    "                transforms.Normalize([0.76023, 0.53673, 0.53793], [0.09512, 0.11913, 0.13302]),\n",
    "            ])\n",
    "        \n",
    "        if self.size == 384:\n",
    "            self.train_transform = transforms.Compose([\n",
    "                transforms.ToTensor(),\n",
    "                transforms.Normalize([0.75999, 0.53649, 0.53768], [0.09465, 0.11870, 0.13251]),\n",
    "                transforms.RandomAffine(degrees=(-45, 45), translate=(0.15, 0.15), scale=(0.5, 1.5)),\n",
    "                transforms.RandomHorizontalFlip(p=0.25),\n",
    "                transforms.RandomVerticalFlip(p=0.25),\n",
    "            ])\n",
    "            self.valid_transform = transforms.Compose([\n",
    "                transforms.ToTensor(),\n",
    "                transforms.Normalize([0.75999, 0.53649, 0.53768], [0.09465, 0.11870, 0.13251]),\n",
    "            ])\n",
    "        \n",
    "        if self.size == 512:\n",
    "            self.train_transform = transforms.Compose([\n",
    "                transforms.ToTensor(),\n",
    "                transforms.Normalize([0.76005, 0.53655, 0.53774], [0.09476, 0.11880, 0.13264]),\n",
    "                transforms.RandomAffine(degrees=(-45, 45), translate=(0.15, 0.15), scale=(0.5, 1.5)),\n",
    "                transforms.RandomHorizontalFlip(p=0.25),\n",
    "                transforms.RandomVerticalFlip(p=0.25),\n",
    "            ])\n",
    "            self.valid_transform = transforms.Compose([\n",
    "                transforms.ToTensor(),\n",
    "                transforms.Normalize([0.76005, 0.53655, 0.53774], [0.09476, 0.11880, 0.13264]),\n",
    "            ])\n",
    "                                \n",
    "        self.save_path = \"saves\"\n",
    "        if not os.path.exists(self.save_path): os.makedirs(self.save_path)\n",
    "    \n",
    "cfg = CFG(\n",
    "    seed=SEED, \n",
    "    size=SIZE\n",
    ")"
   ]
  },
  {
   "cell_type": "markdown",
   "id": "6945cd30",
   "metadata": {
    "papermill": {
     "duration": 0.003707,
     "end_time": "2022-12-01T07:55:57.835516",
     "exception": false,
     "start_time": "2022-12-01T07:55:57.831809",
     "status": "completed"
    },
    "tags": []
   },
   "source": [
    "### **Dataset Template**"
   ]
  },
  {
   "cell_type": "code",
   "execution_count": 5,
   "id": "275e7c1b",
   "metadata": {
    "execution": {
     "iopub.execute_input": "2022-12-01T07:55:57.844031Z",
     "iopub.status.busy": "2022-12-01T07:55:57.843730Z",
     "iopub.status.idle": "2022-12-01T07:55:57.850462Z",
     "shell.execute_reply": "2022-12-01T07:55:57.849414Z"
    },
    "papermill": {
     "duration": 0.01324,
     "end_time": "2022-12-01T07:55:57.852390",
     "exception": false,
     "start_time": "2022-12-01T07:55:57.839150",
     "status": "completed"
    },
    "tags": []
   },
   "outputs": [],
   "source": [
    "class DS(Dataset):\n",
    "    def __init__(\n",
    "        self, \n",
    "        filepaths: np.ndarray, \n",
    "        size: int,\n",
    "        labels: Union[np.ndarray, None]=None, \n",
    "        transform=None\n",
    "    ):\n",
    "        \n",
    "        self.filepaths = filepaths\n",
    "        self.labels = labels\n",
    "        self.size = size\n",
    "        self.transform = transform\n",
    "    \n",
    "    def __len__(self):\n",
    "        return self.filepaths.shape[0]\n",
    "    \n",
    "    def __getitem__(self, idx):\n",
    "        image = get_image(self.filepaths[idx], self.size)\n",
    "        if self.labels is None:\n",
    "            return self.transform(image)\n",
    "        return self.transform(image), torch.FloatTensor(self.labels[idx])"
   ]
  },
  {
   "cell_type": "markdown",
   "id": "7fcc1de2",
   "metadata": {
    "papermill": {
     "duration": 0.003676,
     "end_time": "2022-12-01T07:55:57.859722",
     "exception": false,
     "start_time": "2022-12-01T07:55:57.856046",
     "status": "completed"
    },
    "tags": []
   },
   "source": [
    "### **Model**"
   ]
  },
  {
   "cell_type": "code",
   "execution_count": 6,
   "id": "dd22250f",
   "metadata": {
    "execution": {
     "iopub.execute_input": "2022-12-01T07:55:57.868437Z",
     "iopub.status.busy": "2022-12-01T07:55:57.868125Z",
     "iopub.status.idle": "2022-12-01T07:55:57.873421Z",
     "shell.execute_reply": "2022-12-01T07:55:57.872515Z"
    },
    "papermill": {
     "duration": 0.011987,
     "end_time": "2022-12-01T07:55:57.875385",
     "exception": false,
     "start_time": "2022-12-01T07:55:57.863398",
     "status": "completed"
    },
    "tags": []
   },
   "outputs": [],
   "source": [
    "class Model(nn.Module):\n",
    "    def __init__(self):\n",
    "        super(Model, self).__init__()\n",
    "            \n",
    "        self.model = timm.create_model(model_name=\"efficientnet_b4\", pretrained=True)\n",
    "        self.model.classifier = nn.Linear(in_features=self.model.classifier.in_features, out_features=1)\n",
    "\n",
    "    def forward(self, x):\n",
    "        return self.model(x)"
   ]
  },
  {
   "cell_type": "markdown",
   "id": "b5c25e6b",
   "metadata": {
    "papermill": {
     "duration": 0.003592,
     "end_time": "2022-12-01T07:55:57.882634",
     "exception": false,
     "start_time": "2022-12-01T07:55:57.879042",
     "status": "completed"
    },
    "tags": []
   },
   "source": [
    "### **Fit and Predict**"
   ]
  },
  {
   "cell_type": "code",
   "execution_count": 7,
   "id": "c71a5761",
   "metadata": {
    "execution": {
     "iopub.execute_input": "2022-12-01T07:55:57.891523Z",
     "iopub.status.busy": "2022-12-01T07:55:57.891258Z",
     "iopub.status.idle": "2022-12-01T07:55:57.912378Z",
     "shell.execute_reply": "2022-12-01T07:55:57.911541Z"
    },
    "papermill": {
     "duration": 0.028124,
     "end_time": "2022-12-01T07:55:57.914456",
     "exception": false,
     "start_time": "2022-12-01T07:55:57.886332",
     "status": "completed"
    },
    "tags": []
   },
   "outputs": [],
   "source": [
    "def fit(\n",
    "    model=None,\n",
    "    optimizer=None, \n",
    "    scheduler_rlrop=None,\n",
    "    scheduler_oclr=None,\n",
    "    epochs=None, \n",
    "    early_stopping_patience=None, \n",
    "    dataloaders=None, \n",
    "    fold=None, \n",
    "    save_path=None,\n",
    "    device=None,\n",
    "    verbose=False\n",
    ") -> tuple:\n",
    "    \n",
    "    def get_accuracy(y_pred, y_true):\n",
    "        y_pred = torch.sigmoid(y_pred)\n",
    "        \n",
    "        y_pred[y_pred > 0.5] = 1\n",
    "        y_pred[y_pred <= 0.5] = 0\n",
    "        \n",
    "        return torch.count_nonzero(y_pred == y_true).item() / len(y_pred)\n",
    "    \n",
    "    \n",
    "    if verbose:\n",
    "        breaker()\n",
    "        if fold: print(f\"Training Fold {fold}...\")\n",
    "        else: print(\"Training ...\")\n",
    "        breaker()\n",
    "        \n",
    "    bestLoss: dict = {\"train\" : np.inf, \"valid\" : np.inf} \n",
    "    bestAccs: dict = {\"train\" : 0.0, \"valid\" : 0.0}\n",
    "    \n",
    "    Losses: list = []\n",
    "    Accuracies: list = [] \n",
    "    LRs: list = []\n",
    "        \n",
    "    if fold: \n",
    "        ble_name = f\"ble_state_fold_{fold}.pt\"\n",
    "        bae_name = f\"bae_state_fold_{fold}.pt\"\n",
    "    else: \n",
    "        ble_name = f\"ble_state.pt\"\n",
    "        bae_name = f\"bae_state.pt\"\n",
    "        \n",
    "    start_time = time()\n",
    "    for e in range(epochs):\n",
    "        e_st = time()\n",
    "        epochLoss: dict = {\"train\" : 0.0, \"valid\" : 0.0} \n",
    "        epochAccs: dict = {\"train\" : 0.0, \"valid\" : 0.0}\n",
    "\n",
    "        for phase in [\"train\", \"valid\"]:\n",
    "            if phase == \"train\":\n",
    "                model.train()\n",
    "            else:\n",
    "                model.eval()\n",
    "            \n",
    "            lossPerPass: list = []\n",
    "            accsPerPass: list = []\n",
    "                \n",
    "            for X, y in dataloaders[phase]:\n",
    "                X, y = X.to(device), y.to(device)\n",
    "\n",
    "                optimizer.zero_grad()\n",
    "                with torch.set_grad_enabled(phase == \"train\"):\n",
    "                    output = model(X)\n",
    "                    loss = nn.BCEWithLogitsLoss()(output, y)\n",
    "                    if phase == \"train\":\n",
    "                        loss.backward()\n",
    "                        optimizer.step()\n",
    "                        if scheduler_oclr: scheduler_oclr.step()\n",
    "                lossPerPass.append(loss.item())\n",
    "                accsPerPass.append(get_accuracy(output, y))\n",
    "            epochLoss[phase] = np.mean(np.array(lossPerPass))\n",
    "            epochAccs[phase] = np.mean(np.array(accsPerPass))\n",
    "        if scheduler_oclr: LRs.append(scheduler_oclr.get_last_lr())\n",
    "        Losses.append(epochLoss)\n",
    "        Accuracies.append(epochAccs)\n",
    "        \n",
    "        if scheduler_oclr:\n",
    "            save_dict = {\"model_state_dict\"     : model.state_dict(),\n",
    "                         \"optim_state_dict\"     : optimizer.state_dict(),\n",
    "                         \"scheduler_state_dict\" : scheduler_oclr.state_dict()}\n",
    "        \n",
    "        elif scheduler_rlrop:\n",
    "            save_dict = {\"model_state_dict\"     : model.state_dict(),\n",
    "                         \"optim_state_dict\"     : optimizer.state_dict(),\n",
    "                         \"scheduler_state_dict\" : scheduler_rlrop.state_dict()}\n",
    "        \n",
    "        else:\n",
    "            save_dict = {\"model_state_dict\"     : model.state_dict(),\n",
    "                         \"optim_state_dict\"     : optimizer.state_dict()}\n",
    "        \n",
    "        if early_stopping_patience:\n",
    "            if epochLoss[\"valid\"] < bestLoss[\"valid\"]:\n",
    "                bestLoss = epochLoss\n",
    "                BLE = e + 1\n",
    "                torch.save(save_dict, os.path.join(save_path, ble_name))\n",
    "                torch.save(save_dict, os.path.join(save_path, bae_name))\n",
    "                early_stopping_step = 0\n",
    "            else:\n",
    "                early_stopping_step += 1\n",
    "                if early_stopping_step > early_stopping_patience:\n",
    "                    print(\"\\nEarly Stopping at Epoch {}\".format(e + 1))\n",
    "                    break\n",
    "        \n",
    "        if epochLoss[\"valid\"] < bestLoss[\"valid\"]:\n",
    "            bestLoss = epochLoss\n",
    "            BLE = e + 1\n",
    "            torch.save(save_dict,os.path.join(save_path, ble_name))\n",
    "        \n",
    "        if epochAccs[\"valid\"] > bestAccs[\"valid\"]:\n",
    "            bestAccs = epochAccs\n",
    "            BAE = e + 1\n",
    "            torch.save(save_dict,os.path.join(save_path, bae_name))\n",
    "        \n",
    "        if scheduler_rlrop: scheduler_rlrop.step(epochLoss[\"valid\"])\n",
    "        \n",
    "        if verbose:\n",
    "            print(\"Epoch: {} | Train Loss: {:.5f} | Valid Loss: {:.5f} |\\\n",
    " Train Accs: {:.5f} | Valid Accs: {:.5f} | Time: {:.2f} seconds\".format(e+1, \n",
    "                                                                        epochLoss[\"train\"], epochLoss[\"valid\"], \n",
    "                                                                        epochAccs[\"train\"], epochAccs[\"valid\"], \n",
    "                                                                        time()-e_st))\n",
    "\n",
    "    if verbose:                                           \n",
    "        breaker()\n",
    "        print(f\"Best Validation Loss at Epoch {BLE}\")\n",
    "        breaker()\n",
    "        print(f\"Best Validation Accs at Epoch {BAE}\")\n",
    "        breaker()\n",
    "        print(\"Time Taken [{} Epochs] : {:.2f} minutes\".format(len(Losses), (time()-start_time)/60))\n",
    "    \n",
    "    return Losses, Accuracies, LRs, bestLoss, bestAccs, BLE, BAE, ble_name, bae_name\n",
    "\n",
    "\n",
    "# def predict_batch(model=None, dataloader=None, path=None, device=None) -> np.ndarray:\n",
    "#     model.load_state_dict(torch.load(path, map_location=device)[\"model_state_dict\"])\n",
    "#     model.to(device)    \n",
    "#     model.eval()\n",
    "    \n",
    "#     y_pred = torch.zeros(1, 1).to(device)\n",
    "    \n",
    "#     for X in dataloader:\n",
    "#         X = X.to(device)\n",
    "#         with torch.no_grad():\n",
    "#             output = torch.argmax(torch.exp(model(X)), dim=1)\n",
    "#         y_pred = torch.cat((y_pred, output.view(-1, 1)), dim=0)\n",
    "    \n",
    "#     return y_pred[1:].detach().cpu().numpy()"
   ]
  },
  {
   "cell_type": "markdown",
   "id": "feb0b1f0",
   "metadata": {
    "papermill": {
     "duration": 0.004519,
     "end_time": "2022-12-01T07:55:57.922686",
     "exception": false,
     "start_time": "2022-12-01T07:55:57.918167",
     "status": "completed"
    },
    "tags": []
   },
   "source": [
    "### **Train**"
   ]
  },
  {
   "cell_type": "code",
   "execution_count": 8,
   "id": "85a8f86f",
   "metadata": {
    "execution": {
     "iopub.execute_input": "2022-12-01T07:55:57.933095Z",
     "iopub.status.busy": "2022-12-01T07:55:57.931250Z",
     "iopub.status.idle": "2022-12-01T07:55:57.960482Z",
     "shell.execute_reply": "2022-12-01T07:55:57.959472Z"
    },
    "papermill": {
     "duration": 0.036131,
     "end_time": "2022-12-01T07:55:57.962540",
     "exception": false,
     "start_time": "2022-12-01T07:55:57.926409",
     "status": "completed"
    },
    "tags": []
   },
   "outputs": [],
   "source": [
    "df = pd.read_csv(\"/kaggle/input/scbm-dataframe/train.csv\")\n",
    "\n",
    "filepaths = df.filepaths.copy().values\n",
    "labels = df.labels.copy().values"
   ]
  },
  {
   "cell_type": "code",
   "execution_count": 9,
   "id": "e6fd8dbd",
   "metadata": {
    "execution": {
     "iopub.execute_input": "2022-12-01T07:55:57.972257Z",
     "iopub.status.busy": "2022-12-01T07:55:57.971578Z",
     "iopub.status.idle": "2022-12-01T08:34:19.526060Z",
     "shell.execute_reply": "2022-12-01T08:34:19.524987Z"
    },
    "papermill": {
     "duration": 2301.561754,
     "end_time": "2022-12-01T08:34:19.528217",
     "exception": false,
     "start_time": "2022-12-01T07:55:57.966463",
     "status": "completed"
    },
    "tags": []
   },
   "outputs": [
    {
     "name": "stderr",
     "output_type": "stream",
     "text": [
      "Downloading: \"https://github.com/rwightman/pytorch-image-models/releases/download/v0.1-weights/efficientnet_b4_ra2_320-7eb33cd5.pth\" to /root/.cache/torch/hub/checkpoints/efficientnet_b4_ra2_320-7eb33cd5.pth\n"
     ]
    },
    {
     "name": "stdout",
     "output_type": "stream",
     "text": [
      "\n",
      "**************************************************\n",
      "\n",
      "Training Fold 1...\n",
      "\n",
      "**************************************************\n",
      "\n",
      "Epoch: 1 | Train Loss: 0.58829 | Valid Loss: 0.37633 | Train Accs: 0.68422 | Valid Accs: 0.82008 | Time: 65.62 seconds\n",
      "Epoch: 2 | Train Loss: 0.32686 | Valid Loss: 0.30921 | Train Accs: 0.84754 | Valid Accs: 0.87311 | Time: 46.53 seconds\n",
      "Epoch: 3 | Train Loss: 0.31013 | Valid Loss: 0.33298 | Train Accs: 0.85916 | Valid Accs: 0.86174 | Time: 44.88 seconds\n",
      "Epoch: 4 | Train Loss: 0.26832 | Valid Loss: 0.28477 | Train Accs: 0.87751 | Valid Accs: 0.89205 | Time: 45.86 seconds\n",
      "Epoch: 5 | Train Loss: 0.23303 | Valid Loss: 0.25350 | Train Accs: 0.90388 | Valid Accs: 0.89583 | Time: 46.43 seconds\n",
      "Epoch: 6 | Train Loss: 0.19832 | Valid Loss: 0.26235 | Train Accs: 0.91219 | Valid Accs: 0.90341 | Time: 45.22 seconds\n",
      "Epoch: 7 | Train Loss: 0.16625 | Valid Loss: 0.28447 | Train Accs: 0.93608 | Valid Accs: 0.89583 | Time: 44.57 seconds\n",
      "Epoch: 8 | Train Loss: 0.12800 | Valid Loss: 0.32680 | Train Accs: 0.94792 | Valid Accs: 0.91098 | Time: 44.88 seconds\n",
      "Epoch: 9 | Train Loss: 0.10942 | Valid Loss: 0.29444 | Train Accs: 0.95502 | Valid Accs: 0.91667 | Time: 44.88 seconds\n",
      "Epoch: 10 | Train Loss: 0.09851 | Valid Loss: 0.31191 | Train Accs: 0.95822 | Valid Accs: 0.91288 | Time: 44.38 seconds\n",
      "\n",
      "**************************************************\n",
      "\n",
      "Best Validation Loss at Epoch 5\n",
      "\n",
      "**************************************************\n",
      "\n",
      "Best Validation Accs at Epoch 9\n",
      "\n",
      "**************************************************\n",
      "\n",
      "Time Taken [10 Epochs] : 7.89 minutes\n",
      "\n",
      "**************************************************\n",
      "\n"
     ]
    },
    {
     "data": {
      "image/png": "[encoded data removed]",
      "text/plain": [
       "<Figure size 432x288 with 1 Axes>"
      ]
     },
     "metadata": {
      "needs_background": "light"
     },
     "output_type": "display_data"
    },
    {
     "name": "stdout",
     "output_type": "stream",
     "text": [
      "\n",
      "**************************************************\n",
      "\n"
     ]
    },
    {
     "data": {
      "image/png": "[encoded data removed]",
      "text/plain": [
       "<Figure size 432x288 with 1 Axes>"
      ]
     },
     "metadata": {
      "needs_background": "light"
     },
     "output_type": "display_data"
    },
    {
     "name": "stdout",
     "output_type": "stream",
     "text": [
      "\n",
      "**************************************************\n",
      "\n"
     ]
    },
    {
     "data": {
      "image/png": "[encoded data removed]",
      "text/plain": [
       "<Figure size 576x432 with 1 Axes>"
      ]
     },
     "metadata": {
      "needs_background": "light"
     },
     "output_type": "display_data"
    },
    {
     "name": "stdout",
     "output_type": "stream",
     "text": [
      "\n",
      "**************************************************\n",
      "\n",
      "\n",
      "**************************************************\n",
      "\n",
      "Training Fold 2...\n",
      "\n",
      "**************************************************\n",
      "\n",
      "Epoch: 1 | Train Loss: 0.58903 | Valid Loss: 0.35453 | Train Accs: 0.67839 | Valid Accs: 0.83144 | Time: 45.99 seconds\n",
      "Epoch: 2 | Train Loss: 0.33389 | Valid Loss: 0.31208 | Train Accs: 0.85322 | Valid Accs: 0.84280 | Time: 45.92 seconds\n",
      "Epoch: 3 | Train Loss: 0.27836 | Valid Loss: 0.29970 | Train Accs: 0.88188 | Valid Accs: 0.86174 | Time: 46.03 seconds\n",
      "Epoch: 4 | Train Loss: 0.23887 | Valid Loss: 0.26253 | Train Accs: 0.89372 | Valid Accs: 0.87879 | Time: 46.19 seconds\n",
      "Epoch: 5 | Train Loss: 0.20326 | Valid Loss: 0.26464 | Train Accs: 0.91514 | Valid Accs: 0.86932 | Time: 44.17 seconds\n",
      "Epoch: 6 | Train Loss: 0.18970 | Valid Loss: 0.24953 | Train Accs: 0.92330 | Valid Accs: 0.87500 | Time: 45.38 seconds\n",
      "Epoch: 7 | Train Loss: 0.14239 | Valid Loss: 0.24005 | Train Accs: 0.93775 | Valid Accs: 0.88447 | Time: 45.39 seconds\n",
      "Epoch: 8 | Train Loss: 0.12379 | Valid Loss: 0.28913 | Train Accs: 0.94744 | Valid Accs: 0.88826 | Time: 44.30 seconds\n",
      "Epoch: 9 | Train Loss: 0.09433 | Valid Loss: 0.30783 | Train Accs: 0.96154 | Valid Accs: 0.89205 | Time: 45.04 seconds\n",
      "Epoch: 10 | Train Loss: 0.08900 | Valid Loss: 0.30643 | Train Accs: 0.96037 | Valid Accs: 0.88447 | Time: 45.41 seconds\n",
      "\n",
      "**************************************************\n",
      "\n",
      "Best Validation Loss at Epoch 7\n",
      "\n",
      "**************************************************\n",
      "\n",
      "Best Validation Accs at Epoch 9\n",
      "\n",
      "**************************************************\n",
      "\n",
      "Time Taken [10 Epochs] : 7.56 minutes\n",
      "\n",
      "**************************************************\n",
      "\n"
     ]
    },
    {
     "data": {
      "image/png": "[encoded data removed]",
      "text/plain": [
       "<Figure size 432x288 with 1 Axes>"
      ]
     },
     "metadata": {
      "needs_background": "light"
     },
     "output_type": "display_data"
    },
    {
     "name": "stdout",
     "output_type": "stream",
     "text": [
      "\n",
      "**************************************************\n",
      "\n"
     ]
    },
    {
     "data": {
      "image/png": "[encoded data removed]",
      "text/plain": [
       "<Figure size 432x288 with 1 Axes>"
      ]
     },
     "metadata": {
      "needs_background": "light"
     },
     "output_type": "display_data"
    },
    {
     "name": "stdout",
     "output_type": "stream",
     "text": [
      "\n",
      "**************************************************\n",
      "\n"
     ]
    },
    {
     "data": {
      "image/png": "[encoded data removed]",
      "text/plain": [
       "<Figure size 576x432 with 1 Axes>"
      ]
     },
     "metadata": {
      "needs_background": "light"
     },
     "output_type": "display_data"
    },
    {
     "name": "stdout",
     "output_type": "stream",
     "text": [
      "\n",
      "**************************************************\n",
      "\n",
      "\n",
      "**************************************************\n",
      "\n",
      "Training Fold 3...\n",
      "\n",
      "**************************************************\n",
      "\n",
      "Epoch: 1 | Train Loss: 0.59049 | Valid Loss: 0.34909 | Train Accs: 0.68554 | Valid Accs: 0.85227 | Time: 47.36 seconds\n",
      "Epoch: 2 | Train Loss: 0.34223 | Valid Loss: 0.31090 | Train Accs: 0.85065 | Valid Accs: 0.85960 | Time: 46.84 seconds\n",
      "Epoch: 3 | Train Loss: 0.31495 | Valid Loss: 0.25581 | Train Accs: 0.85011 | Valid Accs: 0.87298 | Time: 47.33 seconds\n",
      "Epoch: 4 | Train Loss: 0.27456 | Valid Loss: 0.22385 | Train Accs: 0.87574 | Valid Accs: 0.89558 | Time: 46.81 seconds\n",
      "Epoch: 5 | Train Loss: 0.22245 | Valid Loss: 0.24144 | Train Accs: 0.91132 | Valid Accs: 0.89192 | Time: 44.47 seconds\n",
      "Epoch: 6 | Train Loss: 0.20104 | Valid Loss: 0.19484 | Train Accs: 0.91464 | Valid Accs: 0.91086 | Time: 46.02 seconds\n",
      "Epoch: 7 | Train Loss: 0.18132 | Valid Loss: 0.19677 | Train Accs: 0.92837 | Valid Accs: 0.90139 | Time: 44.22 seconds\n",
      "Epoch: 8 | Train Loss: 0.16328 | Valid Loss: 0.19726 | Train Accs: 0.93364 | Valid Accs: 0.91843 | Time: 44.61 seconds\n",
      "Epoch: 9 | Train Loss: 0.12890 | Valid Loss: 0.19408 | Train Accs: 0.94366 | Valid Accs: 0.91275 | Time: 45.43 seconds\n",
      "Epoch: 10 | Train Loss: 0.12177 | Valid Loss: 0.20755 | Train Accs: 0.95116 | Valid Accs: 0.91275 | Time: 44.68 seconds\n",
      "\n",
      "**************************************************\n",
      "\n",
      "Best Validation Loss at Epoch 9\n",
      "\n",
      "**************************************************\n",
      "\n",
      "Best Validation Accs at Epoch 8\n",
      "\n",
      "**************************************************\n",
      "\n",
      "Time Taken [10 Epochs] : 7.63 minutes\n",
      "\n",
      "**************************************************\n",
      "\n"
     ]
    },
    {
     "data": {
      "image/png": "[encoded data removed]",
      "text/plain": [
       "<Figure size 432x288 with 1 Axes>"
      ]
     },
     "metadata": {
      "needs_background": "light"
     },
     "output_type": "display_data"
    },
    {
     "name": "stdout",
     "output_type": "stream",
     "text": [
      "\n",
      "**************************************************\n",
      "\n"
     ]
    },
    {
     "data": {
      "image/png": "[encoded data removed]",
      "text/plain": [
       "<Figure size 432x288 with 1 Axes>"
      ]
     },
     "metadata": {
      "needs_background": "light"
     },
     "output_type": "display_data"
    },
    {
     "name": "stdout",
     "output_type": "stream",
     "text": [
      "\n",
      "**************************************************\n",
      "\n"
     ]
    },
    {
     "data": {
      "image/png": "[encoded data removed]",
      "text/plain": [
       "<Figure size 576x432 with 1 Axes>"
      ]
     },
     "metadata": {
      "needs_background": "light"
     },
     "output_type": "display_data"
    },
    {
     "name": "stdout",
     "output_type": "stream",
     "text": [
      "\n",
      "**************************************************\n",
      "\n",
      "\n",
      "**************************************************\n",
      "\n",
      "Training Fold 4...\n",
      "\n",
      "**************************************************\n",
      "\n",
      "Epoch: 1 | Train Loss: 0.58173 | Valid Loss: 0.38161 | Train Accs: 0.69399 | Valid Accs: 0.81604 | Time: 45.71 seconds\n",
      "Epoch: 2 | Train Loss: 0.34636 | Valid Loss: 0.32667 | Train Accs: 0.83820 | Valid Accs: 0.85189 | Time: 45.95 seconds\n",
      "Epoch: 3 | Train Loss: 0.30530 | Valid Loss: 0.26989 | Train Accs: 0.85931 | Valid Accs: 0.86326 | Time: 45.76 seconds\n",
      "Epoch: 4 | Train Loss: 0.26978 | Valid Loss: 0.21398 | Train Accs: 0.89705 | Valid Accs: 0.89949 | Time: 46.43 seconds\n",
      "Epoch: 5 | Train Loss: 0.22867 | Valid Loss: 0.21529 | Train Accs: 0.89854 | Valid Accs: 0.90316 | Time: 44.64 seconds\n",
      "Epoch: 6 | Train Loss: 0.19264 | Valid Loss: 0.19271 | Train Accs: 0.91856 | Valid Accs: 0.91073 | Time: 46.17 seconds\n",
      "Epoch: 7 | Train Loss: 0.14444 | Valid Loss: 0.18995 | Train Accs: 0.94129 | Valid Accs: 0.91465 | Time: 45.58 seconds\n",
      "Epoch: 8 | Train Loss: 0.11891 | Valid Loss: 0.21072 | Train Accs: 0.95022 | Valid Accs: 0.92222 | Time: 44.84 seconds\n",
      "Epoch: 9 | Train Loss: 0.10423 | Valid Loss: 0.20541 | Train Accs: 0.96395 | Valid Accs: 0.91616 | Time: 43.69 seconds\n",
      "Epoch: 10 | Train Loss: 0.08815 | Valid Loss: 0.20148 | Train Accs: 0.96733 | Valid Accs: 0.92033 | Time: 43.73 seconds\n",
      "\n",
      "**************************************************\n",
      "\n",
      "Best Validation Loss at Epoch 7\n",
      "\n",
      "**************************************************\n",
      "\n",
      "Best Validation Accs at Epoch 8\n",
      "\n",
      "**************************************************\n",
      "\n",
      "Time Taken [10 Epochs] : 7.54 minutes\n",
      "\n",
      "**************************************************\n",
      "\n"
     ]
    },
    {
     "data": {
      "image/png": "[encoded data removed]",
      "text/plain": [
       "<Figure size 432x288 with 1 Axes>"
      ]
     },
     "metadata": {
      "needs_background": "light"
     },
     "output_type": "display_data"
    },
    {
     "name": "stdout",
     "output_type": "stream",
     "text": [
      "\n",
      "**************************************************\n",
      "\n"
     ]
    },
    {
     "data": {
      "image/png": "[encoded data removed]",
      "text/plain": [
       "<Figure size 432x288 with 1 Axes>"
      ]
     },
     "metadata": {
      "needs_background": "light"
     },
     "output_type": "display_data"
    },
    {
     "name": "stdout",
     "output_type": "stream",
     "text": [
      "\n",
      "**************************************************\n",
      "\n"
     ]
    },
    {
     "data": {
      "image/png": "[encoded data removed]",
      "text/plain": [
       "<Figure size 576x432 with 1 Axes>"
      ]
     },
     "metadata": {
      "needs_background": "light"
     },
     "output_type": "display_data"
    },
    {
     "name": "stdout",
     "output_type": "stream",
     "text": [
      "\n",
      "**************************************************\n",
      "\n",
      "\n",
      "**************************************************\n",
      "\n",
      "Training Fold 5...\n",
      "\n",
      "**************************************************\n",
      "\n",
      "Epoch: 1 | Train Loss: 0.58699 | Valid Loss: 0.32180 | Train Accs: 0.69447 | Valid Accs: 0.86730 | Time: 45.68 seconds\n",
      "Epoch: 2 | Train Loss: 0.34284 | Valid Loss: 0.26671 | Train Accs: 0.84551 | Valid Accs: 0.88977 | Time: 45.72 seconds\n",
      "Epoch: 3 | Train Loss: 0.29140 | Valid Loss: 0.29891 | Train Accs: 0.87155 | Valid Accs: 0.86705 | Time: 44.23 seconds\n",
      "Epoch: 4 | Train Loss: 0.27580 | Valid Loss: 0.32926 | Train Accs: 0.88420 | Valid Accs: 0.87096 | Time: 43.39 seconds\n",
      "Epoch: 5 | Train Loss: 0.23891 | Valid Loss: 0.24826 | Train Accs: 0.89719 | Valid Accs: 0.88788 | Time: 45.65 seconds\n",
      "Epoch: 6 | Train Loss: 0.19435 | Valid Loss: 0.24832 | Train Accs: 0.91985 | Valid Accs: 0.89545 | Time: 45.03 seconds\n",
      "Epoch: 7 | Train Loss: 0.15590 | Valid Loss: 0.22220 | Train Accs: 0.93506 | Valid Accs: 0.91641 | Time: 45.39 seconds\n",
      "Epoch: 8 | Train Loss: 0.14760 | Valid Loss: 0.27094 | Train Accs: 0.93561 | Valid Accs: 0.89558 | Time: 44.03 seconds\n",
      "Epoch: 9 | Train Loss: 0.11231 | Valid Loss: 0.24642 | Train Accs: 0.95833 | Valid Accs: 0.92399 | Time: 44.06 seconds\n",
      "Epoch: 10 | Train Loss: 0.11513 | Valid Loss: 0.23411 | Train Accs: 0.95455 | Valid Accs: 0.90694 | Time: 44.47 seconds\n",
      "\n",
      "**************************************************\n",
      "\n",
      "Best Validation Loss at Epoch 7\n",
      "\n",
      "**************************************************\n",
      "\n",
      "Best Validation Accs at Epoch 9\n",
      "\n",
      "**************************************************\n",
      "\n",
      "Time Taken [10 Epochs] : 7.46 minutes\n",
      "\n",
      "**************************************************\n",
      "\n"
     ]
    },
    {
     "data": {
      "image/png": "[encoded data removed]",
      "text/plain": [
       "<Figure size 432x288 with 1 Axes>"
      ]
     },
     "metadata": {
      "needs_background": "light"
     },
     "output_type": "display_data"
    },
    {
     "name": "stdout",
     "output_type": "stream",
     "text": [
      "\n",
      "**************************************************\n",
      "\n"
     ]
    },
    {
     "data": {
      "image/png": "[encoded data removed]",
      "text/plain": [
       "<Figure size 432x288 with 1 Axes>"
      ]
     },
     "metadata": {
      "needs_background": "light"
     },
     "output_type": "display_data"
    },
    {
     "name": "stdout",
     "output_type": "stream",
     "text": [
      "\n",
      "**************************************************\n",
      "\n"
     ]
    },
    {
     "data": {
      "image/png": "[encoded data removed]",
      "text/plain": [
       "<Figure size 576x432 with 1 Axes>"
      ]
     },
     "metadata": {
      "needs_background": "light"
     },
     "output_type": "display_data"
    },
    {
     "name": "stdout",
     "output_type": "stream",
     "text": [
      "\n",
      "**************************************************\n",
      "\n"
     ]
    }
   ],
   "source": [
    "fold: int = 1\n",
    "BLs: list = []\n",
    "BAs: list = []\n",
    "    \n",
    "cfg.batch_size = 16\n",
    "cfg.epochs = 10\n",
    "    \n",
    "for tr_idx, va_idx in KFold(n_splits=cfg.n_splits, random_state=cfg.seed, shuffle=True).split(filepaths):\n",
    "\n",
    "    tr_filepaths, va_filepaths = filepaths[tr_idx], filepaths[va_idx] \n",
    "    tr_labels, va_labels       = labels[tr_idx], labels[va_idx]\n",
    "\n",
    "    tr_data_setup = DS(\n",
    "        filepaths=tr_filepaths, \n",
    "        labels=tr_labels.reshape(-1, 1),\n",
    "        size=cfg.size,\n",
    "        transform=cfg.train_transform\n",
    "    )\n",
    "    \n",
    "    va_data_setup = DS(\n",
    "        filepaths=va_filepaths, \n",
    "        labels=va_labels.reshape(-1, 1),\n",
    "        size=cfg.size,\n",
    "        transform=cfg.train_transform\n",
    "    )\n",
    "\n",
    "    dataloaders = {\n",
    "        \"train\" : DL(tr_data_setup, batch_size=cfg.batch_size, shuffle=True, generator=torch.manual_seed(cfg.seed)),\n",
    "        \"valid\" : DL(va_data_setup, batch_size=cfg.batch_size, shuffle=False),\n",
    "    }\n",
    "\n",
    "    cfg.steps_per_epoch=len(dataloaders[\"train\"])\n",
    "    \n",
    "    torch.manual_seed(cfg.seed)\n",
    "    model = Model().to(cfg.device)\n",
    "\n",
    "    optimizer = optim.Adam([p for p in model.parameters() if p.requires_grad], lr=cfg.lr, weight_decay=cfg.wd)\n",
    "    # optimizer = optim.AdamW([p for p in model.parameters() if p.requires_grad], lr=cfg.lr, weight_decay=cfg.wd)\n",
    "    # optimizer = optim.SGD([p for p in model.parameters() if p.requires_grad], lr=cfg.lr, weight_decay=cfg.wd, momentum=0.9)\n",
    "\n",
    "    scheduler_oclr = optim.lr_scheduler.OneCycleLR(\n",
    "        optimizer=optimizer, \n",
    "        max_lr=cfg.max_lr, \n",
    "        epochs=cfg.epochs, \n",
    "        steps_per_epoch=cfg.steps_per_epoch,\n",
    "        pct_start=cfg.pct_start, \n",
    "        div_factor=cfg.div_factor, \n",
    "        final_div_factor=cfg.final_div_factor\n",
    "    )\n",
    "\n",
    "    # scheduler_rlrop = optim.lr_scheduler.ReduceLROnPlateau(\n",
    "    #     optimizer=optimizer,\n",
    "    #     patience=cfg.patience,\n",
    "    #     eps=cfg.eps,\n",
    "    #     verbose=True\n",
    "    # )\n",
    "\n",
    "    # scheduler_oclr = None\n",
    "    scheduler_rlrop = None\n",
    "\n",
    "\n",
    "    L, A, LR, BL, BA, _, _, _, _ = fit(\n",
    "        model=model, \n",
    "        optimizer=optimizer, \n",
    "        scheduler_oclr=scheduler_oclr,\n",
    "        scheduler_rlrop=scheduler_rlrop,\n",
    "        epochs=cfg.epochs, \n",
    "        early_stopping_patience=cfg.early_stopping, \n",
    "        dataloaders=dataloaders, \n",
    "        device=cfg.device,\n",
    "        save_path=cfg.save_path,\n",
    "        fold=fold,\n",
    "        verbose=True\n",
    "    )\n",
    "\n",
    "\n",
    "    breaker()\n",
    "    show_loss_graphs(L)\n",
    "    breaker()\n",
    "    show_accuracy_graphs(A)\n",
    "    breaker()\n",
    "    if scheduler_oclr:\n",
    "        show_lr_graph(LR)\n",
    "        breaker()\n",
    "    \n",
    "    BLs.append(BL)\n",
    "    BAs.append(BA)\n",
    "    \n",
    "    fold += 1"
   ]
  },
  {
   "cell_type": "markdown",
   "id": "957d2678",
   "metadata": {
    "papermill": {
     "duration": 0.010716,
     "end_time": "2022-12-01T08:34:19.550049",
     "exception": false,
     "start_time": "2022-12-01T08:34:19.539333",
     "status": "completed"
    },
    "tags": []
   },
   "source": [
    "### **Best Model**"
   ]
  },
  {
   "cell_type": "code",
   "execution_count": 10,
   "id": "de208ae8",
   "metadata": {
    "execution": {
     "iopub.execute_input": "2022-12-01T08:34:19.574355Z",
     "iopub.status.busy": "2022-12-01T08:34:19.572908Z",
     "iopub.status.idle": "2022-12-01T08:34:19.581105Z",
     "shell.execute_reply": "2022-12-01T08:34:19.580223Z"
    },
    "papermill": {
     "duration": 0.022383,
     "end_time": "2022-12-01T08:34:19.583143",
     "exception": false,
     "start_time": "2022-12-01T08:34:19.560760",
     "status": "completed"
    },
    "tags": []
   },
   "outputs": [
    {
     "name": "stdout",
     "output_type": "stream",
     "text": [
      "\n",
      "**************************************************\n",
      "\n",
      "Best Loss Model Fold     : 4\n",
      "Best Accuracy Model Fold : 5\n",
      "\n",
      "**************************************************\n",
      "\n"
     ]
    }
   ],
   "source": [
    "BL = np.inf\n",
    "for i in range(len(BLs)):\n",
    "    if BLs[i][\"valid\"] < BL:\n",
    "        BL = BLs[i][\"valid\"]\n",
    "        best_loss_index = i\n",
    "\n",
    "        \n",
    "BA = 0.0\n",
    "for i in range(len(BAs)):\n",
    "    if BAs[i][\"valid\"] > BA:\n",
    "        BA = BAs[i][\"valid\"]\n",
    "        best_accs_index = i\n",
    "\n",
    "breaker()\n",
    "print(f\"Best Loss Model Fold     : {best_loss_index + 1}\")\n",
    "print(f\"Best Accuracy Model Fold : {best_accs_index + 1}\")\n",
    "breaker()"
   ]
  }
 ],
 "metadata": {
  "kernelspec": {
   "display_name": "Python 3",
   "language": "python",
   "name": "python3"
  },
  "language_info": {
   "codemirror_mode": {
    "name": "ipython",
    "version": 3
   },
   "file_extension": ".py",
   "mimetype": "text/x-python",
   "name": "python",
   "nbconvert_exporter": "python",
   "pygments_lexer": "ipython3",
   "version": "3.7.12"
  },
  "papermill": {
   "default_parameters": {},
   "duration": 2326.136912,
   "end_time": "2022-12-01T08:34:21.219480",
   "environment_variables": {},
   "exception": null,
   "input_path": "__notebook__.ipynb",
   "output_path": "__notebook__.ipynb",
   "parameters": {},
   "start_time": "2022-12-01T07:55:35.082568",
   "version": "2.3.4"
  }
 },
 "nbformat": 4,
 "nbformat_minor": 5
}
