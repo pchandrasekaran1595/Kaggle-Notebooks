{
 "cells": [
  {
   "cell_type": "code",
   "execution_count": 1,
   "id": "6133850f",
   "metadata": {
    "_cell_guid": "b1076dfc-b9ad-4769-8c92-a6c4dae69d19",
    "_uuid": "8f2839f25d086af736a60e9eeb907d3b93b6e0e5",
    "execution": {
     "iopub.execute_input": "2023-01-25T13:01:25.244030Z",
     "iopub.status.busy": "2023-01-25T13:01:25.242254Z",
     "iopub.status.idle": "2023-01-25T13:01:25.522591Z",
     "shell.execute_reply": "2023-01-25T13:01:25.521118Z"
    },
    "papermill": {
     "duration": 0.291299,
     "end_time": "2023-01-25T13:01:25.526162",
     "exception": false,
     "start_time": "2023-01-25T13:01:25.234863",
     "status": "completed"
    },
    "tags": []
   },
   "outputs": [],
   "source": [
    "import os\n",
    "import cv2\n",
    "import json\n",
    "import numpy as np\n",
    "import pandas as pd\n",
    "\n",
    "BASE_PATH: str = \"/kaggle/input/ranzcr-clip-catheter-line-classification\""
   ]
  },
  {
   "cell_type": "code",
   "execution_count": 2,
   "id": "ce8bcf4d",
   "metadata": {
    "execution": {
     "iopub.execute_input": "2023-01-25T13:01:25.533233Z",
     "iopub.status.busy": "2023-01-25T13:01:25.532746Z",
     "iopub.status.idle": "2023-01-25T13:01:25.669059Z",
     "shell.execute_reply": "2023-01-25T13:01:25.667374Z"
    },
    "papermill": {
     "duration": 0.14361,
     "end_time": "2023-01-25T13:01:25.672497",
     "exception": false,
     "start_time": "2023-01-25T13:01:25.528887",
     "status": "completed"
    },
    "tags": []
   },
   "outputs": [],
   "source": [
    "df: pd.DataFrame    = pd.read_csv(f\"{BASE_PATH}/train.csv\")\n",
    "tr_df: pd.DataFrame = pd.DataFrame(data=None, columns=[\"filepaths\"] + [col for col in df.columns if col != \"StudyInstanceUID\" and col != \"PatientID\"])\n",
    "ts_df: pd.DataFrame = pd.DataFrame(data=None, columns=[\"filepaths\"])"
   ]
  },
  {
   "cell_type": "code",
   "execution_count": 3,
   "id": "c5090a9e",
   "metadata": {
    "execution": {
     "iopub.execute_input": "2023-01-25T13:01:25.680405Z",
     "iopub.status.busy": "2023-01-25T13:01:25.679915Z",
     "iopub.status.idle": "2023-01-25T13:01:25.951451Z",
     "shell.execute_reply": "2023-01-25T13:01:25.950115Z"
    },
    "papermill": {
     "duration": 0.279215,
     "end_time": "2023-01-25T13:01:25.954752",
     "exception": false,
     "start_time": "2023-01-25T13:01:25.675537",
     "status": "completed"
    },
    "tags": []
   },
   "outputs": [],
   "source": [
    "tr_filepaths: list = []\n",
    "\n",
    "for filename in df.StudyInstanceUID.copy().values: tr_filepaths.append(os.path.join(f\"{BASE_PATH}/train\", filename + \".jpg\"))\n",
    "    \n",
    "tr_df.filepaths = tr_filepaths\n",
    "tr_df.iloc[:, 1:] = df.iloc[:, 1:-1]\n",
    "tr_df.to_csv(\"train.csv\", index=False)"
   ]
  },
  {
   "cell_type": "code",
   "execution_count": 4,
   "id": "7e14257b",
   "metadata": {
    "execution": {
     "iopub.execute_input": "2023-01-25T13:01:25.961269Z",
     "iopub.status.busy": "2023-01-25T13:01:25.960860Z",
     "iopub.status.idle": "2023-01-25T13:01:26.145477Z",
     "shell.execute_reply": "2023-01-25T13:01:26.144248Z"
    },
    "papermill": {
     "duration": 0.190795,
     "end_time": "2023-01-25T13:01:26.147968",
     "exception": false,
     "start_time": "2023-01-25T13:01:25.957173",
     "status": "completed"
    },
    "tags": []
   },
   "outputs": [],
   "source": [
    "ts_filepaths: list = []\n",
    "\n",
    "for filename in df.StudyInstanceUID.copy().values: ts_filepaths.append(os.path.join(f\"{BASE_PATH}/test\", filename + \".jpg\"))\n",
    "    \n",
    "ts_df.filepaths = tr_filepaths\n",
    "ts_df.to_csv(\"test.csv\", index=False)"
   ]
  }
 ],
 "metadata": {
  "kernelspec": {
   "display_name": "Python 3",
   "language": "python",
   "name": "python3"
  },
  "language_info": {
   "codemirror_mode": {
    "name": "ipython",
    "version": 3
   },
   "file_extension": ".py",
   "mimetype": "text/x-python",
   "name": "python",
   "nbconvert_exporter": "python",
   "pygments_lexer": "ipython3",
   "version": "3.7.12"
  },
  "papermill": {
   "default_parameters": {},
   "duration": 12.644286,
   "end_time": "2023-01-25T13:01:26.973869",
   "environment_variables": {},
   "exception": null,
   "input_path": "__notebook__.ipynb",
   "output_path": "__notebook__.ipynb",
   "parameters": {},
   "start_time": "2023-01-25T13:01:14.329583",
   "version": "2.3.4"
  }
 },
 "nbformat": 4,
 "nbformat_minor": 5
}
