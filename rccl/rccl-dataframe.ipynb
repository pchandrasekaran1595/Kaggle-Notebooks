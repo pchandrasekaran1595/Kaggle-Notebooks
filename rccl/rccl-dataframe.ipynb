{
 "cells": [
  {
   "cell_type": "code",
   "execution_count": 1,
   "id": "ae7b39c3",
   "metadata": {
    "_cell_guid": "b1076dfc-b9ad-4769-8c92-a6c4dae69d19",
    "_uuid": "8f2839f25d086af736a60e9eeb907d3b93b6e0e5",
    "execution": {
     "iopub.execute_input": "2023-01-25T13:51:36.140241Z",
     "iopub.status.busy": "2023-01-25T13:51:36.139614Z",
     "iopub.status.idle": "2023-01-25T13:51:36.368865Z",
     "shell.execute_reply": "2023-01-25T13:51:36.367514Z"
    },
    "papermill": {
     "duration": 0.237932,
     "end_time": "2023-01-25T13:51:36.371888",
     "exception": false,
     "start_time": "2023-01-25T13:51:36.133956",
     "status": "completed"
    },
    "tags": []
   },
   "outputs": [],
   "source": [
    "import os\n",
    "import cv2\n",
    "import json\n",
    "import numpy as np\n",
    "import pandas as pd\n",
    "\n",
    "BASE_PATH: str = \"/kaggle/input/ranzcr-clip-catheter-line-classification\""
   ]
  },
  {
   "cell_type": "code",
   "execution_count": 2,
   "id": "86839c0f",
   "metadata": {
    "execution": {
     "iopub.execute_input": "2023-01-25T13:51:36.381783Z",
     "iopub.status.busy": "2023-01-25T13:51:36.381047Z",
     "iopub.status.idle": "2023-01-25T13:51:36.554361Z",
     "shell.execute_reply": "2023-01-25T13:51:36.553350Z"
    },
    "papermill": {
     "duration": 0.179736,
     "end_time": "2023-01-25T13:51:36.556940",
     "exception": false,
     "start_time": "2023-01-25T13:51:36.377204",
     "status": "completed"
    },
    "tags": []
   },
   "outputs": [],
   "source": [
    "tr_df_comp: pd.DataFrame    = pd.read_csv(f\"{BASE_PATH}/train.csv\")\n",
    "ts_df_comp: pd.DataFrame    = pd.read_csv(f\"{BASE_PATH}/sample_submission.csv\")\n",
    "\n",
    "tr_df: pd.DataFrame = pd.DataFrame(data=None, columns=[\"filepaths\"] + [col for col in tr_df_comp.columns if col != \"StudyInstanceUID\" and col != \"PatientID\"])\n",
    "ts_df: pd.DataFrame = pd.DataFrame(data=None, columns=[\"filepaths\"])"
   ]
  },
  {
   "cell_type": "code",
   "execution_count": 3,
   "id": "f3fce0fe",
   "metadata": {
    "execution": {
     "iopub.execute_input": "2023-01-25T13:51:36.563089Z",
     "iopub.status.busy": "2023-01-25T13:51:36.562661Z",
     "iopub.status.idle": "2023-01-25T13:51:36.826972Z",
     "shell.execute_reply": "2023-01-25T13:51:36.825966Z"
    },
    "papermill": {
     "duration": 0.270648,
     "end_time": "2023-01-25T13:51:36.829799",
     "exception": false,
     "start_time": "2023-01-25T13:51:36.559151",
     "status": "completed"
    },
    "tags": []
   },
   "outputs": [],
   "source": [
    "tr_filepaths: list = []\n",
    "\n",
    "for filename in tr_df_comp.StudyInstanceUID.copy().values: tr_filepaths.append(os.path.join(f\"{BASE_PATH}/train\", filename + \".jpg\"))\n",
    "    \n",
    "tr_df.filepaths = tr_filepaths\n",
    "tr_df.iloc[:, 1:] = tr_df_comp.iloc[:, 1:-1]\n",
    "tr_df.to_csv(\"train.csv\", index=False)"
   ]
  },
  {
   "cell_type": "code",
   "execution_count": 4,
   "id": "72f2b21e",
   "metadata": {
    "execution": {
     "iopub.execute_input": "2023-01-25T13:51:36.836199Z",
     "iopub.status.busy": "2023-01-25T13:51:36.835810Z",
     "iopub.status.idle": "2023-01-25T13:51:36.864066Z",
     "shell.execute_reply": "2023-01-25T13:51:36.863063Z"
    },
    "papermill": {
     "duration": 0.03462,
     "end_time": "2023-01-25T13:51:36.866746",
     "exception": false,
     "start_time": "2023-01-25T13:51:36.832126",
     "status": "completed"
    },
    "tags": []
   },
   "outputs": [],
   "source": [
    "ts_filepaths: list = []\n",
    "\n",
    "for filename in ts_df_comp.StudyInstanceUID.copy().values: ts_filepaths.append(os.path.join(f\"{BASE_PATH}/test\", filename + \".jpg\"))\n",
    "    \n",
    "ts_df.filepaths = ts_filepaths\n",
    "ts_df.to_csv(\"test.csv\", index=False)"
   ]
  }
 ],
 "metadata": {
  "kernelspec": {
   "display_name": "Python 3",
   "language": "python",
   "name": "python3"
  },
  "language_info": {
   "codemirror_mode": {
    "name": "ipython",
    "version": 3
   },
   "file_extension": ".py",
   "mimetype": "text/x-python",
   "name": "python",
   "nbconvert_exporter": "python",
   "pygments_lexer": "ipython3",
   "version": "3.7.12"
  },
  "papermill": {
   "default_parameters": {},
   "duration": 10.441779,
   "end_time": "2023-01-25T13:51:37.590669",
   "environment_variables": {},
   "exception": null,
   "input_path": "__notebook__.ipynb",
   "output_path": "__notebook__.ipynb",
   "parameters": {},
   "start_time": "2023-01-25T13:51:27.148890",
   "version": "2.3.4"
  }
 },
 "nbformat": 4,
 "nbformat_minor": 5
}
