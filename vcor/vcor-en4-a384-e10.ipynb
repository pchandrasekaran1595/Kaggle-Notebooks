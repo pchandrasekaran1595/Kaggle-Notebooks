{
 "cells": [
  {
   "cell_type": "markdown",
   "id": "46a7df36",
   "metadata": {
    "_cell_guid": "b1076dfc-b9ad-4769-8c92-a6c4dae69d19",
    "_uuid": "8f2839f25d086af736a60e9eeb907d3b93b6e0e5",
    "papermill": {
     "duration": 0.004991,
     "end_time": "2023-01-12T12:30:22.378948",
     "exception": false,
     "start_time": "2023-01-12T12:30:22.373957",
     "status": "completed"
    },
    "tags": []
   },
   "source": [
    "### **Setup**"
   ]
  },
  {
   "cell_type": "code",
   "execution_count": 1,
   "id": "6b142da6",
   "metadata": {
    "execution": {
     "iopub.execute_input": "2023-01-12T12:30:22.388561Z",
     "iopub.status.busy": "2023-01-12T12:30:22.388047Z",
     "iopub.status.idle": "2023-01-12T12:30:34.383071Z",
     "shell.execute_reply": "2023-01-12T12:30:34.381783Z"
    },
    "papermill": {
     "duration": 12.002758,
     "end_time": "2023-01-12T12:30:34.385707",
     "exception": false,
     "start_time": "2023-01-12T12:30:22.382949",
     "status": "completed"
    },
    "tags": []
   },
   "outputs": [
    {
     "name": "stderr",
     "output_type": "stream",
     "text": [
      "WARNING: Running pip as the 'root' user can result in broken permissions and conflicting behaviour with the system package manager. It is recommended to use a virtual environment instead: https://pip.pypa.io/warnings/venv\n"
     ]
    }
   ],
   "source": [
    "%%bash\n",
    "pip install timm -q"
   ]
  },
  {
   "cell_type": "markdown",
   "id": "a640f8ea",
   "metadata": {
    "papermill": {
     "duration": 0.003929,
     "end_time": "2023-01-12T12:30:34.394002",
     "exception": false,
     "start_time": "2023-01-12T12:30:34.390073",
     "status": "completed"
    },
    "tags": []
   },
   "source": [
    "### **Library Imports**"
   ]
  },
  {
   "cell_type": "code",
   "execution_count": 2,
   "id": "88f07386",
   "metadata": {
    "execution": {
     "iopub.execute_input": "2023-01-12T12:30:34.403170Z",
     "iopub.status.busy": "2023-01-12T12:30:34.402757Z",
     "iopub.status.idle": "2023-01-12T12:30:38.403295Z",
     "shell.execute_reply": "2023-01-12T12:30:38.402014Z"
    },
    "papermill": {
     "duration": 4.008116,
     "end_time": "2023-01-12T12:30:38.405907",
     "exception": false,
     "start_time": "2023-01-12T12:30:34.397791",
     "status": "completed"
    },
    "tags": []
   },
   "outputs": [],
   "source": [
    "import os\n",
    "import re\n",
    "import cv2\n",
    "import timm\n",
    "import torch\n",
    "import numpy as np\n",
    "import pandas as pd\n",
    "import matplotlib.pyplot as plt\n",
    "\n",
    "from time import time\n",
    "from typing import Union\n",
    "from torch import nn, optim\n",
    "from torch.utils.data import Dataset\n",
    "from torch.utils.data import DataLoader as DL\n",
    "from torchvision import transforms\n",
    "\n",
    "from sklearn.model_selection import StratifiedKFold"
   ]
  },
  {
   "cell_type": "markdown",
   "id": "01d664f9",
   "metadata": {
    "papermill": {
     "duration": 0.004114,
     "end_time": "2023-01-12T12:30:38.414300",
     "exception": false,
     "start_time": "2023-01-12T12:30:38.410186",
     "status": "completed"
    },
    "tags": []
   },
   "source": [
    "### **Utilities and Helpers**"
   ]
  },
  {
   "cell_type": "code",
   "execution_count": 3,
   "id": "ae81ff99",
   "metadata": {
    "execution": {
     "iopub.execute_input": "2023-01-12T12:30:38.422906Z",
     "iopub.status.busy": "2023-01-12T12:30:38.422568Z",
     "iopub.status.idle": "2023-01-12T12:30:38.435321Z",
     "shell.execute_reply": "2023-01-12T12:30:38.434371Z"
    },
    "papermill": {
     "duration": 0.019541,
     "end_time": "2023-01-12T12:30:38.437345",
     "exception": false,
     "start_time": "2023-01-12T12:30:38.417804",
     "status": "completed"
    },
    "tags": []
   },
   "outputs": [],
   "source": [
    "SEED: int = 42\n",
    "SIZE: int = 384\n",
    "\n",
    "\n",
    "def breaker(num: int=50, char: str=\"*\") -> None: print(\"\\n\" + num*char + \"\\n\")\n",
    "\n",
    "    \n",
    "def get_image(path: str, size: int=224) -> np.ndarray:\n",
    "    image = cv2.imread(path, cv2.IMREAD_COLOR)\n",
    "    image = cv2.cvtColor(src=image, code=cv2.COLOR_BGR2RGB)\n",
    "    return cv2.resize(src=image, dsize=(size, size), interpolation=cv2.INTER_AREA)\n",
    "\n",
    "    \n",
    "def show_loss_graphs(L: list) -> None:\n",
    "    TL, VL = [], []\n",
    "    for i in range(len(L)):\n",
    "        TL.append(L[i][\"train\"])\n",
    "        VL.append(L[i][\"valid\"])\n",
    "    x_Axis = np.arange(1, len(TL) + 1)\n",
    "    plt.figure()\n",
    "    plt.plot(x_Axis, TL, \"r\", label=\"Train\")\n",
    "    plt.plot(x_Axis, VL, \"b\", label=\"Valid\")\n",
    "    plt.legend()\n",
    "    plt.grid()\n",
    "    plt.title(\"Loss Graph\")\n",
    "    plt.show()\n",
    "\n",
    "    \n",
    "def show_accuracy_graphs(A: list) -> None:\n",
    "    TA, VA = [], []\n",
    "    for i in range(len(A)):\n",
    "        TA.append(A[i][\"train\"])\n",
    "        VA.append(A[i][\"valid\"])\n",
    "    x_Axis = np.arange(1, len(TA) + 1)\n",
    "    plt.figure()\n",
    "    plt.plot(x_Axis, TA, \"r\", label=\"Train\")\n",
    "    plt.plot(x_Axis, VA, \"b\", label=\"Valid\")\n",
    "    plt.legend()\n",
    "    plt.grid()\n",
    "    plt.title(\"Accuracy Graph\")\n",
    "    plt.show()\n",
    "    \n",
    "\n",
    "def show_lr_graph(LR: list) -> None:\n",
    "    x_Axis = [i+1 for i in range(len(LR))]\n",
    "    plt.figure(figsize=(8, 6))\n",
    "    plt.plot(x_Axis, LR, \"rx\")\n",
    "    plt.grid()\n",
    "    plt.show()"
   ]
  },
  {
   "cell_type": "markdown",
   "id": "0e523d93",
   "metadata": {
    "papermill": {
     "duration": 0.003696,
     "end_time": "2023-01-12T12:30:38.444680",
     "exception": false,
     "start_time": "2023-01-12T12:30:38.440984",
     "status": "completed"
    },
    "tags": []
   },
   "source": [
    "\n",
    "\n",
    "### **Configuration**"
   ]
  },
  {
   "cell_type": "code",
   "execution_count": 4,
   "id": "72f1ad81",
   "metadata": {
    "execution": {
     "iopub.execute_input": "2023-01-12T12:30:38.453891Z",
     "iopub.status.busy": "2023-01-12T12:30:38.453572Z",
     "iopub.status.idle": "2023-01-12T12:30:38.533949Z",
     "shell.execute_reply": "2023-01-12T12:30:38.532904Z"
    },
    "papermill": {
     "duration": 0.087994,
     "end_time": "2023-01-12T12:30:38.536391",
     "exception": false,
     "start_time": "2023-01-12T12:30:38.448397",
     "status": "completed"
    },
    "tags": []
   },
   "outputs": [],
   "source": [
    "class CFG(object):\n",
    "    def __init__(self, \n",
    "                 seed: int = 42,\n",
    "                 size: int = 224,\n",
    "                 n_splits: int = 5,\n",
    "                 batch_size: int = 16,\n",
    "                 epochs: int = 25,\n",
    "                 early_stopping: int = 5,\n",
    "                 lr: float = 1e-4,\n",
    "                 wd: float = 0.0,\n",
    "                 max_lr: float = 1e-3,\n",
    "                 pct_start: float = 0.2,\n",
    "                 steps_per_epoch: int = 100,\n",
    "                 div_factor: int = 1e3, \n",
    "                 final_div_factor: float = 1e3,\n",
    "                 ):\n",
    "        self.seed = seed\n",
    "        self.size = size\n",
    "        self.n_splits = n_splits\n",
    "        self.batch_size = batch_size\n",
    "        self.epochs = epochs\n",
    "        self.early_stopping = early_stopping\n",
    "        self.lr = lr\n",
    "        self.wd = wd\n",
    "        self.max_lr = max_lr\n",
    "        self.pct_start = pct_start\n",
    "        self.steps_per_epoch = steps_per_epoch\n",
    "        self.div_factor = div_factor\n",
    "        self.final_div_factor = final_div_factor\n",
    "        self.device = torch.device(\"cuda\" if torch.cuda.is_available() else \"cpu\")\n",
    "        \n",
    "        if self.size == 224:\n",
    "            self.train_transform = transforms.Compose([\n",
    "                transforms.ToTensor(),\n",
    "                transforms.Normalize([0.43445, 0.40245, 0.39370], [0.27156, 0.25762, 0.25483]),\n",
    "                transforms.RandomAffine(degrees=(-45, 45), translate=(0.15, 0.15), scale=(0.5, 1.5)),\n",
    "                transforms.RandomHorizontalFlip(p=0.25),\n",
    "                transforms.RandomVerticalFlip(p=0.25),\n",
    "            ])\n",
    "            self.valid_transform = transforms.Compose([\n",
    "                transforms.ToTensor(),\n",
    "                transforms.Normalize([0.43445, 0.40245, 0.39370], [0.27156, 0.25762, 0.25483]),\n",
    "            ])\n",
    "        \n",
    "        if self.size == 384:\n",
    "            self.train_transform = transforms.Compose([\n",
    "                transforms.ToTensor(),\n",
    "                transforms.Normalize([0.43449, 0.40249, 0.39373], [0.27364, 0.25977, 0.25695]),\n",
    "                transforms.RandomAffine(degrees=(-45, 45), translate=(0.15, 0.15), scale=(0.5, 1.5)),\n",
    "                transforms.RandomHorizontalFlip(p=0.25),\n",
    "                transforms.RandomVerticalFlip(p=0.25),\n",
    "            ])\n",
    "            self.valid_transform = transforms.Compose([\n",
    "                transforms.ToTensor(),\n",
    "                transforms.Normalize([0.43449, 0.40249, 0.39373], [0.27364, 0.25977, 0.25695]),\n",
    "            ])\n",
    "        \n",
    "        if self.size == 512:\n",
    "            self.train_transform = transforms.Compose([\n",
    "                transforms.ToTensor(),\n",
    "                transforms.Normalize([0.43450, 0.40250, 0.39374], [0.27435, 0.26052, 0.25769]),\n",
    "                transforms.RandomAffine(degrees=(-45, 45), translate=(0.15, 0.15), scale=(0.5, 1.5)),\n",
    "                transforms.RandomHorizontalFlip(p=0.25),\n",
    "                transforms.RandomVerticalFlip(p=0.25),\n",
    "            ])\n",
    "            self.valid_transform = transforms.Compose([\n",
    "                transforms.ToTensor(),\n",
    "                transforms.Normalize([0.43450, 0.40250, 0.39374], [0.27435, 0.26052, 0.25769]),\n",
    "            ])\n",
    "                                \n",
    "        self.save_path = \"saves\"\n",
    "        if not os.path.exists(self.save_path): os.makedirs(self.save_path)\n",
    "    \n",
    "cfg = CFG(\n",
    "    seed=SEED, \n",
    "    size=SIZE\n",
    ")"
   ]
  },
  {
   "cell_type": "markdown",
   "id": "a2b82d38",
   "metadata": {
    "papermill": {
     "duration": 0.003839,
     "end_time": "2023-01-12T12:30:38.544471",
     "exception": false,
     "start_time": "2023-01-12T12:30:38.540632",
     "status": "completed"
    },
    "tags": []
   },
   "source": [
    "### **Dataset Template**"
   ]
  },
  {
   "cell_type": "code",
   "execution_count": 5,
   "id": "17124dc7",
   "metadata": {
    "execution": {
     "iopub.execute_input": "2023-01-12T12:30:38.553269Z",
     "iopub.status.busy": "2023-01-12T12:30:38.552905Z",
     "iopub.status.idle": "2023-01-12T12:30:38.559957Z",
     "shell.execute_reply": "2023-01-12T12:30:38.558938Z"
    },
    "papermill": {
     "duration": 0.014127,
     "end_time": "2023-01-12T12:30:38.562256",
     "exception": false,
     "start_time": "2023-01-12T12:30:38.548129",
     "status": "completed"
    },
    "tags": []
   },
   "outputs": [],
   "source": [
    "class DS(Dataset):\n",
    "    def __init__(\n",
    "        self, \n",
    "        filepaths: np.ndarray, \n",
    "        size: int,\n",
    "        labels: Union[np.ndarray, None]=None, \n",
    "        transform=None\n",
    "    ):\n",
    "        \n",
    "        self.filepaths = filepaths\n",
    "        self.labels = labels\n",
    "        self.size = size\n",
    "        self.transform = transform\n",
    "    \n",
    "    def __len__(self):\n",
    "        return self.filepaths.shape[0]\n",
    "    \n",
    "    def __getitem__(self, idx):\n",
    "        image = get_image(self.filepaths[idx], self.size)\n",
    "        if self.labels is None:\n",
    "            return self.transform(image)\n",
    "        return self.transform(image), torch.LongTensor(self.labels[idx])"
   ]
  },
  {
   "cell_type": "markdown",
   "id": "a9ad86da",
   "metadata": {
    "papermill": {
     "duration": 0.003693,
     "end_time": "2023-01-12T12:30:38.569927",
     "exception": false,
     "start_time": "2023-01-12T12:30:38.566234",
     "status": "completed"
    },
    "tags": []
   },
   "source": [
    "### **Model**"
   ]
  },
  {
   "cell_type": "code",
   "execution_count": 6,
   "id": "b5f61fbf",
   "metadata": {
    "execution": {
     "iopub.execute_input": "2023-01-12T12:30:38.579432Z",
     "iopub.status.busy": "2023-01-12T12:30:38.578781Z",
     "iopub.status.idle": "2023-01-12T12:30:38.584858Z",
     "shell.execute_reply": "2023-01-12T12:30:38.584027Z"
    },
    "papermill": {
     "duration": 0.012808,
     "end_time": "2023-01-12T12:30:38.586770",
     "exception": false,
     "start_time": "2023-01-12T12:30:38.573962",
     "status": "completed"
    },
    "tags": []
   },
   "outputs": [],
   "source": [
    "class Model(nn.Module):\n",
    "    def __init__(self):\n",
    "        super(Model, self).__init__()\n",
    "            \n",
    "        self.model = timm.create_model(model_name=\"efficientnet_b4\", pretrained=True)\n",
    "        self.model.classifier = nn.Linear(in_features=self.model.classifier.in_features, out_features=15)\n",
    "\n",
    "    def forward(self, x):\n",
    "        return nn.LogSoftmax(dim=1)(self.model(x))"
   ]
  },
  {
   "cell_type": "markdown",
   "id": "8273d41e",
   "metadata": {
    "papermill": {
     "duration": 0.003894,
     "end_time": "2023-01-12T12:30:38.594487",
     "exception": false,
     "start_time": "2023-01-12T12:30:38.590593",
     "status": "completed"
    },
    "tags": []
   },
   "source": [
    "### **Fit and Predict**"
   ]
  },
  {
   "cell_type": "code",
   "execution_count": 7,
   "id": "74b36dd4",
   "metadata": {
    "execution": {
     "iopub.execute_input": "2023-01-12T12:30:38.604704Z",
     "iopub.status.busy": "2023-01-12T12:30:38.604422Z",
     "iopub.status.idle": "2023-01-12T12:30:38.625063Z",
     "shell.execute_reply": "2023-01-12T12:30:38.624181Z"
    },
    "papermill": {
     "duration": 0.028314,
     "end_time": "2023-01-12T12:30:38.627047",
     "exception": false,
     "start_time": "2023-01-12T12:30:38.598733",
     "status": "completed"
    },
    "tags": []
   },
   "outputs": [],
   "source": [
    "def fit(\n",
    "    model=None,\n",
    "    optimizer=None, \n",
    "    scheduler_rlrop=None,\n",
    "    scheduler_oclr=None,\n",
    "    epochs=None, \n",
    "    early_stopping_patience=None, \n",
    "    dataloaders=None, \n",
    "    fold=None, \n",
    "    save_path=None,\n",
    "    device=None,\n",
    "    verbose=False\n",
    ") -> tuple:\n",
    "    \n",
    "    def get_accuracy(y_pred, y_true):\n",
    "        y_pred = torch.argmax(y_pred, dim=1)\n",
    "        return torch.count_nonzero(y_pred == y_true).item() / len(y_pred)\n",
    "    \n",
    "    \n",
    "    if verbose:\n",
    "        breaker()\n",
    "        if fold: print(f\"Training Fold {fold}...\")\n",
    "        else: print(\"Training ...\")\n",
    "        breaker()\n",
    "        \n",
    "    bestLoss: dict = {\"train\" : np.inf, \"valid\" : np.inf} \n",
    "    bestAccs: dict = {\"train\" : 0.0, \"valid\" : 0.0}\n",
    "    \n",
    "    Losses: list = []\n",
    "    Accuracies: list = [] \n",
    "    LRs: list = []\n",
    "        \n",
    "    if fold: \n",
    "        ble_name = f\"ble_state_fold_{fold}.pt\"\n",
    "        bae_name = f\"bae_state_fold_{fold}.pt\"\n",
    "    else: \n",
    "        ble_name = f\"ble_state.pt\"\n",
    "        bae_name = f\"bae_state.pt\"\n",
    "        \n",
    "    start_time = time()\n",
    "    for e in range(epochs):\n",
    "        e_st = time()\n",
    "        epochLoss: dict = {\"train\" : 0.0, \"valid\" : 0.0} \n",
    "        epochAccs: dict = {\"train\" : 0.0, \"valid\" : 0.0}\n",
    "\n",
    "        for phase in [\"train\", \"valid\"]:\n",
    "            if phase == \"train\":\n",
    "                model.train()\n",
    "            else:\n",
    "                model.eval()\n",
    "            \n",
    "            lossPerPass: list = []\n",
    "            accsPerPass: list = []\n",
    "                \n",
    "            for X, y in dataloaders[phase]:\n",
    "                X, y = X.to(device), y.to(device).view(-1)\n",
    "\n",
    "                optimizer.zero_grad()\n",
    "                with torch.set_grad_enabled(phase == \"train\"):\n",
    "                    output = model(X)\n",
    "                    loss = nn.NLLLoss()(output, y)\n",
    "                    if phase == \"train\":\n",
    "                        loss.backward()\n",
    "                        optimizer.step()\n",
    "                        if scheduler_oclr: scheduler_oclr.step()\n",
    "                lossPerPass.append(loss.item())\n",
    "                accsPerPass.append(get_accuracy(output, y))\n",
    "            epochLoss[phase] = np.mean(np.array(lossPerPass))\n",
    "            epochAccs[phase] = np.mean(np.array(accsPerPass))\n",
    "        if scheduler_oclr: LRs.append(scheduler_oclr.get_last_lr())\n",
    "        Losses.append(epochLoss)\n",
    "        Accuracies.append(epochAccs)\n",
    "        \n",
    "        if scheduler_oclr:\n",
    "            save_dict = {\"model_state_dict\"     : model.state_dict(),\n",
    "                         \"optim_state_dict\"     : optimizer.state_dict(),\n",
    "                         \"scheduler_state_dict\" : scheduler_oclr.state_dict()}\n",
    "        \n",
    "        elif scheduler_rlrop:\n",
    "            save_dict = {\"model_state_dict\"     : model.state_dict(),\n",
    "                         \"optim_state_dict\"     : optimizer.state_dict(),\n",
    "                         \"scheduler_state_dict\" : scheduler_rlrop.state_dict()}\n",
    "        \n",
    "        else:\n",
    "            save_dict = {\"model_state_dict\"     : model.state_dict(),\n",
    "                         \"optim_state_dict\"     : optimizer.state_dict()}\n",
    "        \n",
    "        if early_stopping_patience:\n",
    "            if epochLoss[\"valid\"] < bestLoss[\"valid\"]:\n",
    "                bestLoss = epochLoss\n",
    "                BLE = e + 1\n",
    "                torch.save(save_dict, os.path.join(save_path, ble_name))\n",
    "                torch.save(save_dict, os.path.join(save_path, bae_name))\n",
    "                early_stopping_step = 0\n",
    "            else:\n",
    "                early_stopping_step += 1\n",
    "                if early_stopping_step > early_stopping_patience:\n",
    "                    print(\"\\nEarly Stopping at Epoch {}\".format(e + 1))\n",
    "                    break\n",
    "        \n",
    "        if epochLoss[\"valid\"] < bestLoss[\"valid\"]:\n",
    "            bestLoss = epochLoss\n",
    "            BLE = e + 1\n",
    "            torch.save(save_dict,os.path.join(save_path, ble_name))\n",
    "        \n",
    "        if epochAccs[\"valid\"] > bestAccs[\"valid\"]:\n",
    "            bestAccs = epochAccs\n",
    "            BAE = e + 1\n",
    "            torch.save(save_dict,os.path.join(save_path, bae_name))\n",
    "        \n",
    "        if scheduler_rlrop: scheduler_rlrop.step(epochLoss[\"valid\"])\n",
    "        \n",
    "        if verbose:\n",
    "            print(\"Epoch: {} | Train Loss: {:.5f} | Valid Loss: {:.5f} |\\\n",
    " Train Accs: {:.5f} | Valid Accs: {:.5f} | Time: {:.2f} seconds\".format(e+1, \n",
    "                                                                        epochLoss[\"train\"], epochLoss[\"valid\"], \n",
    "                                                                        epochAccs[\"train\"], epochAccs[\"valid\"], \n",
    "                                                                        time()-e_st))\n",
    "\n",
    "    if verbose:                                           \n",
    "        breaker()\n",
    "        print(f\"Best Validation Loss at Epoch {BLE}\")\n",
    "        breaker()\n",
    "        print(f\"Best Validation Accs at Epoch {BAE}\")\n",
    "        breaker()\n",
    "        print(\"Time Taken [{} Epochs] : {:.2f} minutes\".format(len(Losses), (time()-start_time)/60))\n",
    "    \n",
    "    return Losses, Accuracies, LRs, bestLoss, bestAccs, BLE, BAE, ble_name, bae_name\n",
    "\n",
    "\n",
    "# def predict_batch(model=None, dataloader=None, path=None, device=None) -> np.ndarray:\n",
    "#     model.load_state_dict(torch.load(path, map_location=device)[\"model_state_dict\"])\n",
    "#     model.to(device)    \n",
    "#     model.eval()\n",
    "    \n",
    "#     y_pred = torch.zeros(1, 1).to(device)\n",
    "    \n",
    "#     for X in dataloader:\n",
    "#         X = X.to(device)\n",
    "#         with torch.no_grad():\n",
    "#             output = torch.argmax(torch.exp(model(X)), dim=1)\n",
    "#         y_pred = torch.cat((y_pred, output.view(-1, 1)), dim=0)\n",
    "    \n",
    "#     return y_pred[1:].detach().cpu().numpy()"
   ]
  },
  {
   "cell_type": "markdown",
   "id": "c7fb8a1b",
   "metadata": {
    "papermill": {
     "duration": 0.00481,
     "end_time": "2023-01-12T12:30:38.635737",
     "exception": false,
     "start_time": "2023-01-12T12:30:38.630927",
     "status": "completed"
    },
    "tags": []
   },
   "source": [
    "### **Train**"
   ]
  },
  {
   "cell_type": "code",
   "execution_count": 8,
   "id": "ad2c6c24",
   "metadata": {
    "execution": {
     "iopub.execute_input": "2023-01-12T12:30:38.645251Z",
     "iopub.status.busy": "2023-01-12T12:30:38.644437Z",
     "iopub.status.idle": "2023-01-12T12:30:38.693821Z",
     "shell.execute_reply": "2023-01-12T12:30:38.692584Z"
    },
    "papermill": {
     "duration": 0.056725,
     "end_time": "2023-01-12T12:30:38.696292",
     "exception": false,
     "start_time": "2023-01-12T12:30:38.639567",
     "status": "completed"
    },
    "tags": []
   },
   "outputs": [],
   "source": [
    "df = pd.read_csv(\"/kaggle/input/vcor-dataframe/train.csv\")\n",
    "\n",
    "filepaths = df.filepaths.copy().values\n",
    "labels = df.labels.copy().values"
   ]
  },
  {
   "cell_type": "code",
   "execution_count": 9,
   "id": "e088d619",
   "metadata": {
    "execution": {
     "iopub.execute_input": "2023-01-12T12:30:38.706034Z",
     "iopub.status.busy": "2023-01-12T12:30:38.705741Z",
     "iopub.status.idle": "2023-01-12T17:46:23.559879Z",
     "shell.execute_reply": "2023-01-12T17:46:23.558816Z"
    },
    "papermill": {
     "duration": 18944.861916,
     "end_time": "2023-01-12T17:46:23.562307",
     "exception": false,
     "start_time": "2023-01-12T12:30:38.700391",
     "status": "completed"
    },
    "tags": []
   },
   "outputs": [
    {
     "name": "stderr",
     "output_type": "stream",
     "text": [
      "Downloading: \"https://github.com/rwightman/pytorch-image-models/releases/download/v0.1-weights/efficientnet_b4_ra2_320-7eb33cd5.pth\" to /root/.cache/torch/hub/checkpoints/efficientnet_b4_ra2_320-7eb33cd5.pth\n"
     ]
    },
    {
     "name": "stdout",
     "output_type": "stream",
     "text": [
      "\n",
      "**************************************************\n",
      "\n",
      "Training Fold 1...\n",
      "\n",
      "**************************************************\n",
      "\n",
      "Epoch: 1 | Train Loss: 1.77048 | Valid Loss: 0.60020 | Train Accs: 0.43332 | Valid Accs: 0.78378 | Time: 451.97 seconds\n",
      "Epoch: 2 | Train Loss: 0.66387 | Valid Loss: 0.54442 | Train Accs: 0.75954 | Valid Accs: 0.80068 | Time: 372.74 seconds\n",
      "Epoch: 3 | Train Loss: 0.54720 | Valid Loss: 0.52531 | Train Accs: 0.80713 | Valid Accs: 0.82320 | Time: 374.91 seconds\n",
      "Epoch: 4 | Train Loss: 0.44267 | Valid Loss: 0.44670 | Train Accs: 0.84078 | Valid Accs: 0.83615 | Time: 372.11 seconds\n",
      "Epoch: 5 | Train Loss: 0.36868 | Valid Loss: 0.40714 | Train Accs: 0.86838 | Valid Accs: 0.85923 | Time: 372.27 seconds\n",
      "Epoch: 6 | Train Loss: 0.28986 | Valid Loss: 0.39644 | Train Accs: 0.89949 | Valid Accs: 0.86430 | Time: 371.93 seconds\n",
      "Epoch: 7 | Train Loss: 0.21516 | Valid Loss: 0.39535 | Train Accs: 0.92709 | Valid Accs: 0.86993 | Time: 370.64 seconds\n",
      "Epoch: 8 | Train Loss: 0.15947 | Valid Loss: 0.42868 | Train Accs: 0.94268 | Valid Accs: 0.87050 | Time: 376.18 seconds\n",
      "Epoch: 9 | Train Loss: 0.11424 | Valid Loss: 0.43341 | Train Accs: 0.95720 | Valid Accs: 0.87613 | Time: 384.94 seconds\n",
      "Epoch: 10 | Train Loss: 0.09720 | Valid Loss: 0.44705 | Train Accs: 0.96564 | Valid Accs: 0.88119 | Time: 370.94 seconds\n",
      "\n",
      "**************************************************\n",
      "\n",
      "Best Validation Loss at Epoch 7\n",
      "\n",
      "**************************************************\n",
      "\n",
      "Best Validation Accs at Epoch 10\n",
      "\n",
      "**************************************************\n",
      "\n",
      "Time Taken [10 Epochs] : 63.64 minutes\n",
      "\n",
      "**************************************************\n",
      "\n"
     ]
    },
    {
     "data": {
      "image/png": "[encoded data removed]",
      "text/plain": [
       "<Figure size 432x288 with 1 Axes>"
      ]
     },
     "metadata": {
      "needs_background": "light"
     },
     "output_type": "display_data"
    },
    {
     "name": "stdout",
     "output_type": "stream",
     "text": [
      "\n",
      "**************************************************\n",
      "\n"
     ]
    },
    {
     "data": {
      "image/png": "[encoded data removed]",
      "text/plain": [
       "<Figure size 432x288 with 1 Axes>"
      ]
     },
     "metadata": {
      "needs_background": "light"
     },
     "output_type": "display_data"
    },
    {
     "name": "stdout",
     "output_type": "stream",
     "text": [
      "\n",
      "**************************************************\n",
      "\n"
     ]
    },
    {
     "data": {
      "image/png": "[encoded data removed]",
      "text/plain": [
       "<Figure size 576x432 with 1 Axes>"
      ]
     },
     "metadata": {
      "needs_background": "light"
     },
     "output_type": "display_data"
    },
    {
     "name": "stdout",
     "output_type": "stream",
     "text": [
      "\n",
      "**************************************************\n",
      "\n",
      "\n",
      "**************************************************\n",
      "\n",
      "Training Fold 2...\n",
      "\n",
      "**************************************************\n",
      "\n",
      "Epoch: 1 | Train Loss: 1.76801 | Valid Loss: 0.58688 | Train Accs: 0.43453 | Valid Accs: 0.79392 | Time: 370.87 seconds\n",
      "Epoch: 2 | Train Loss: 0.66269 | Valid Loss: 0.53793 | Train Accs: 0.76839 | Valid Accs: 0.79730 | Time: 374.29 seconds\n",
      "Epoch: 3 | Train Loss: 0.53609 | Valid Loss: 0.44474 | Train Accs: 0.80886 | Valid Accs: 0.84459 | Time: 376.29 seconds\n",
      "Epoch: 4 | Train Loss: 0.45354 | Valid Loss: 0.45845 | Train Accs: 0.83203 | Valid Accs: 0.83896 | Time: 371.62 seconds\n",
      "Epoch: 5 | Train Loss: 0.36907 | Valid Loss: 0.39472 | Train Accs: 0.86519 | Valid Accs: 0.86149 | Time: 374.43 seconds\n",
      "Epoch: 6 | Train Loss: 0.29104 | Valid Loss: 0.39045 | Train Accs: 0.89155 | Valid Accs: 0.87556 | Time: 372.53 seconds\n",
      "Epoch: 7 | Train Loss: 0.22553 | Valid Loss: 0.40878 | Train Accs: 0.91567 | Valid Accs: 0.87331 | Time: 369.25 seconds\n",
      "Epoch: 8 | Train Loss: 0.15523 | Valid Loss: 0.42730 | Train Accs: 0.94359 | Valid Accs: 0.88007 | Time: 376.45 seconds\n",
      "Epoch: 9 | Train Loss: 0.12754 | Valid Loss: 0.42201 | Train Accs: 0.95380 | Valid Accs: 0.88007 | Time: 369.08 seconds\n",
      "Epoch: 10 | Train Loss: 0.10026 | Valid Loss: 0.44162 | Train Accs: 0.96376 | Valid Accs: 0.88795 | Time: 374.70 seconds\n",
      "\n",
      "**************************************************\n",
      "\n",
      "Best Validation Loss at Epoch 6\n",
      "\n",
      "**************************************************\n",
      "\n",
      "Best Validation Accs at Epoch 10\n",
      "\n",
      "**************************************************\n",
      "\n",
      "Time Taken [10 Epochs] : 62.16 minutes\n",
      "\n",
      "**************************************************\n",
      "\n"
     ]
    },
    {
     "data": {
      "image/png": "[encoded data removed]",
      "text/plain": [
       "<Figure size 432x288 with 1 Axes>"
      ]
     },
     "metadata": {
      "needs_background": "light"
     },
     "output_type": "display_data"
    },
    {
     "name": "stdout",
     "output_type": "stream",
     "text": [
      "\n",
      "**************************************************\n",
      "\n"
     ]
    },
    {
     "data": {
      "image/png": "[encoded data removed]",
      "text/plain": [
       "<Figure size 432x288 with 1 Axes>"
      ]
     },
     "metadata": {
      "needs_background": "light"
     },
     "output_type": "display_data"
    },
    {
     "name": "stdout",
     "output_type": "stream",
     "text": [
      "\n",
      "**************************************************\n",
      "\n"
     ]
    },
    {
     "data": {
      "image/png": "[encoded data removed]",
      "text/plain": [
       "<Figure size 576x432 with 1 Axes>"
      ]
     },
     "metadata": {
      "needs_background": "light"
     },
     "output_type": "display_data"
    },
    {
     "name": "stdout",
     "output_type": "stream",
     "text": [
      "\n",
      "**************************************************\n",
      "\n",
      "\n",
      "**************************************************\n",
      "\n",
      "Training Fold 3...\n",
      "\n",
      "**************************************************\n",
      "\n",
      "Epoch: 1 | Train Loss: 1.76486 | Valid Loss: 0.59046 | Train Accs: 0.43371 | Valid Accs: 0.77346 | Time: 378.79 seconds\n",
      "Epoch: 2 | Train Loss: 0.66941 | Valid Loss: 0.54722 | Train Accs: 0.75921 | Valid Accs: 0.80837 | Time: 380.30 seconds\n",
      "Epoch: 3 | Train Loss: 0.53506 | Valid Loss: 0.48248 | Train Accs: 0.80794 | Valid Accs: 0.81907 | Time: 381.50 seconds\n",
      "Epoch: 4 | Train Loss: 0.45042 | Valid Loss: 0.49718 | Train Accs: 0.83437 | Valid Accs: 0.83709 | Time: 377.03 seconds\n",
      "Epoch: 5 | Train Loss: 0.37467 | Valid Loss: 0.39438 | Train Accs: 0.86139 | Valid Accs: 0.86637 | Time: 380.94 seconds\n",
      "Epoch: 6 | Train Loss: 0.30101 | Valid Loss: 0.41215 | Train Accs: 0.88846 | Valid Accs: 0.85623 | Time: 377.00 seconds\n",
      "Epoch: 7 | Train Loss: 0.22900 | Valid Loss: 0.40032 | Train Accs: 0.91648 | Valid Accs: 0.87031 | Time: 388.91 seconds\n",
      "Epoch: 8 | Train Loss: 0.15818 | Valid Loss: 0.42310 | Train Accs: 0.94274 | Valid Accs: 0.87218 | Time: 392.00 seconds\n",
      "Epoch: 9 | Train Loss: 0.12028 | Valid Loss: 0.41537 | Train Accs: 0.95422 | Valid Accs: 0.87256 | Time: 386.96 seconds\n",
      "Epoch: 10 | Train Loss: 0.10213 | Valid Loss: 0.42625 | Train Accs: 0.96499 | Valid Accs: 0.87312 | Time: 380.84 seconds\n",
      "\n",
      "**************************************************\n",
      "\n",
      "Best Validation Loss at Epoch 5\n",
      "\n",
      "**************************************************\n",
      "\n",
      "Best Validation Accs at Epoch 10\n",
      "\n",
      "**************************************************\n",
      "\n",
      "Time Taken [10 Epochs] : 63.74 minutes\n",
      "\n",
      "**************************************************\n",
      "\n"
     ]
    },
    {
     "data": {
      "image/png": "[encoded data removed]",
      "text/plain": [
       "<Figure size 432x288 with 1 Axes>"
      ]
     },
     "metadata": {
      "needs_background": "light"
     },
     "output_type": "display_data"
    },
    {
     "name": "stdout",
     "output_type": "stream",
     "text": [
      "\n",
      "**************************************************\n",
      "\n"
     ]
    },
    {
     "data": {
      "image/png": "[encoded data removed]",
      "text/plain": [
       "<Figure size 432x288 with 1 Axes>"
      ]
     },
     "metadata": {
      "needs_background": "light"
     },
     "output_type": "display_data"
    },
    {
     "name": "stdout",
     "output_type": "stream",
     "text": [
      "\n",
      "**************************************************\n",
      "\n"
     ]
    },
    {
     "data": {
      "image/png": "[encoded data removed]",
      "text/plain": [
       "<Figure size 576x432 with 1 Axes>"
      ]
     },
     "metadata": {
      "needs_background": "light"
     },
     "output_type": "display_data"
    },
    {
     "name": "stdout",
     "output_type": "stream",
     "text": [
      "\n",
      "**************************************************\n",
      "\n",
      "\n",
      "**************************************************\n",
      "\n",
      "Training Fold 4...\n",
      "\n",
      "**************************************************\n",
      "\n",
      "Epoch: 1 | Train Loss: 1.76168 | Valid Loss: 0.61025 | Train Accs: 0.44029 | Valid Accs: 0.77815 | Time: 373.93 seconds\n",
      "Epoch: 2 | Train Loss: 0.65987 | Valid Loss: 0.56007 | Train Accs: 0.76002 | Valid Accs: 0.80856 | Time: 378.19 seconds\n",
      "Epoch: 3 | Train Loss: 0.51573 | Valid Loss: 0.53566 | Train Accs: 0.81418 | Valid Accs: 0.82995 | Time: 378.29 seconds\n",
      "Epoch: 4 | Train Loss: 0.44508 | Valid Loss: 0.43938 | Train Accs: 0.84291 | Valid Accs: 0.83896 | Time: 380.19 seconds\n",
      "Epoch: 5 | Train Loss: 0.36485 | Valid Loss: 0.47069 | Train Accs: 0.86905 | Valid Accs: 0.84854 | Time: 382.33 seconds\n",
      "Epoch: 6 | Train Loss: 0.28691 | Valid Loss: 0.44971 | Train Accs: 0.89541 | Valid Accs: 0.85586 | Time: 379.14 seconds\n",
      "Epoch: 7 | Train Loss: 0.21556 | Valid Loss: 0.46721 | Train Accs: 0.92302 | Valid Accs: 0.86374 | Time: 375.76 seconds\n",
      "Epoch: 8 | Train Loss: 0.15872 | Valid Loss: 0.48406 | Train Accs: 0.94287 | Valid Accs: 0.86486 | Time: 378.69 seconds\n",
      "Epoch: 9 | Train Loss: 0.11156 | Valid Loss: 0.47433 | Train Accs: 0.96074 | Valid Accs: 0.86993 | Time: 376.85 seconds\n",
      "\n",
      "Early Stopping at Epoch 10\n",
      "\n",
      "**************************************************\n",
      "\n",
      "Best Validation Loss at Epoch 4\n",
      "\n",
      "**************************************************\n",
      "\n",
      "Best Validation Accs at Epoch 9\n",
      "\n",
      "**************************************************\n",
      "\n",
      "Time Taken [10 Epochs] : 63.04 minutes\n",
      "\n",
      "**************************************************\n",
      "\n"
     ]
    },
    {
     "data": {
      "image/png": "[encoded data removed]",
      "text/plain": [
       "<Figure size 432x288 with 1 Axes>"
      ]
     },
     "metadata": {
      "needs_background": "light"
     },
     "output_type": "display_data"
    },
    {
     "name": "stdout",
     "output_type": "stream",
     "text": [
      "\n",
      "**************************************************\n",
      "\n"
     ]
    },
    {
     "data": {
      "image/png": "[encoded data removed]",
      "text/plain": [
       "<Figure size 432x288 with 1 Axes>"
      ]
     },
     "metadata": {
      "needs_background": "light"
     },
     "output_type": "display_data"
    },
    {
     "name": "stdout",
     "output_type": "stream",
     "text": [
      "\n",
      "**************************************************\n",
      "\n"
     ]
    },
    {
     "data": {
      "image/png": "[encoded data removed]",
      "text/plain": [
       "<Figure size 576x432 with 1 Axes>"
      ]
     },
     "metadata": {
      "needs_background": "light"
     },
     "output_type": "display_data"
    },
    {
     "name": "stdout",
     "output_type": "stream",
     "text": [
      "\n",
      "**************************************************\n",
      "\n",
      "\n",
      "**************************************************\n",
      "\n",
      "Training Fold 5...\n",
      "\n",
      "**************************************************\n",
      "\n",
      "Epoch: 1 | Train Loss: 1.75672 | Valid Loss: 0.62415 | Train Accs: 0.43349 | Valid Accs: 0.77646 | Time: 378.92 seconds\n",
      "Epoch: 2 | Train Loss: 0.65470 | Valid Loss: 0.55185 | Train Accs: 0.76934 | Valid Accs: 0.81757 | Time: 381.28 seconds\n",
      "Epoch: 3 | Train Loss: 0.52627 | Valid Loss: 0.47824 | Train Accs: 0.81270 | Valid Accs: 0.81926 | Time: 379.98 seconds\n",
      "Epoch: 4 | Train Loss: 0.45011 | Valid Loss: 0.47091 | Train Accs: 0.84054 | Valid Accs: 0.82995 | Time: 388.08 seconds\n",
      "Epoch: 5 | Train Loss: 0.37200 | Valid Loss: 0.44701 | Train Accs: 0.86478 | Valid Accs: 0.84516 | Time: 386.18 seconds\n",
      "Epoch: 6 | Train Loss: 0.29436 | Valid Loss: 0.41179 | Train Accs: 0.89342 | Valid Accs: 0.85473 | Time: 375.63 seconds\n",
      "Epoch: 7 | Train Loss: 0.22799 | Valid Loss: 0.42661 | Train Accs: 0.91665 | Valid Accs: 0.85191 | Time: 368.49 seconds\n",
      "Epoch: 8 | Train Loss: 0.15716 | Valid Loss: 0.42154 | Train Accs: 0.94416 | Valid Accs: 0.86543 | Time: 370.89 seconds\n",
      "Epoch: 9 | Train Loss: 0.11549 | Valid Loss: 0.43042 | Train Accs: 0.95973 | Valid Accs: 0.87782 | Time: 370.44 seconds\n",
      "Epoch: 10 | Train Loss: 0.09978 | Valid Loss: 0.43007 | Train Accs: 0.96483 | Valid Accs: 0.87050 | Time: 378.88 seconds\n",
      "\n",
      "**************************************************\n",
      "\n",
      "Best Validation Loss at Epoch 6\n",
      "\n",
      "**************************************************\n",
      "\n",
      "Best Validation Accs at Epoch 9\n",
      "\n",
      "**************************************************\n",
      "\n",
      "Time Taken [10 Epochs] : 62.98 minutes\n",
      "\n",
      "**************************************************\n",
      "\n"
     ]
    },
    {
     "data": {
      "image/png": "[encoded data removed]",
      "text/plain": [
       "<Figure size 432x288 with 1 Axes>"
      ]
     },
     "metadata": {
      "needs_background": "light"
     },
     "output_type": "display_data"
    },
    {
     "name": "stdout",
     "output_type": "stream",
     "text": [
      "\n",
      "**************************************************\n",
      "\n"
     ]
    },
    {
     "data": {
      "image/png": "[encoded data removed]",
      "text/plain": [
       "<Figure size 432x288 with 1 Axes>"
      ]
     },
     "metadata": {
      "needs_background": "light"
     },
     "output_type": "display_data"
    },
    {
     "name": "stdout",
     "output_type": "stream",
     "text": [
      "\n",
      "**************************************************\n",
      "\n"
     ]
    },
    {
     "data": {
      "image/png": "[encoded data removed]",
      "text/plain": [
       "<Figure size 576x432 with 1 Axes>"
      ]
     },
     "metadata": {
      "needs_background": "light"
     },
     "output_type": "display_data"
    },
    {
     "name": "stdout",
     "output_type": "stream",
     "text": [
      "\n",
      "**************************************************\n",
      "\n"
     ]
    }
   ],
   "source": [
    "fold: int = 1\n",
    "BLs: list = []\n",
    "BAs: list = []\n",
    "    \n",
    "cfg.batch_size = 16\n",
    "cfg.epochs = 10\n",
    "    \n",
    "for tr_idx, va_idx in StratifiedKFold(n_splits=cfg.n_splits, random_state=cfg.seed, shuffle=True).split(filepaths, labels):\n",
    "#     if fold == 1: break\n",
    "#     fold += 1\n",
    "\n",
    "    tr_filepaths, va_filepaths = filepaths[tr_idx], filepaths[va_idx] \n",
    "    tr_labels, va_labels       = labels[tr_idx], labels[va_idx]\n",
    "\n",
    "    tr_data_setup = DS(\n",
    "        filepaths=tr_filepaths, \n",
    "        labels=tr_labels.reshape(-1, 1),\n",
    "        size=cfg.size,\n",
    "        transform=cfg.train_transform\n",
    "    )\n",
    "\n",
    "    va_data_setup = DS(\n",
    "        filepaths=va_filepaths, \n",
    "        labels=va_labels.reshape(-1, 1),\n",
    "        size=cfg.size,\n",
    "        transform=cfg.train_transform\n",
    "    )\n",
    "\n",
    "    dataloaders = {\n",
    "        \"train\" : DL(tr_data_setup, batch_size=cfg.batch_size, shuffle=True, generator=torch.manual_seed(cfg.seed)),\n",
    "        \"valid\" : DL(va_data_setup, batch_size=cfg.batch_size, shuffle=False),\n",
    "    }\n",
    "\n",
    "    cfg.steps_per_epoch=len(dataloaders[\"train\"])\n",
    "\n",
    "    torch.manual_seed(cfg.seed)\n",
    "    model = Model().to(cfg.device)\n",
    "\n",
    "    optimizer = optim.Adam([p for p in model.parameters() if p.requires_grad], lr=cfg.lr, weight_decay=cfg.wd)\n",
    "    # optimizer = optim.AdamW([p for p in model.parameters() if p.requires_grad], lr=cfg.lr, weight_decay=cfg.wd)\n",
    "    # optimizer = optim.SGD([p for p in model.parameters() if p.requires_grad], lr=cfg.lr, weight_decay=cfg.wd, momentum=0.9)\n",
    "\n",
    "    scheduler_oclr = optim.lr_scheduler.OneCycleLR(\n",
    "        optimizer=optimizer, \n",
    "        max_lr=cfg.max_lr, \n",
    "        epochs=cfg.epochs, \n",
    "        steps_per_epoch=cfg.steps_per_epoch,\n",
    "        pct_start=cfg.pct_start, \n",
    "        div_factor=cfg.div_factor, \n",
    "        final_div_factor=cfg.final_div_factor\n",
    "    )\n",
    "\n",
    "    # scheduler_rlrop = optim.lr_scheduler.ReduceLROnPlateau(\n",
    "    #     optimizer=optimizer,\n",
    "    #     patience=cfg.patience,\n",
    "    #     eps=cfg.eps,\n",
    "    #     verbose=True\n",
    "    # )\n",
    "\n",
    "    # scheduler_oclr = None\n",
    "    scheduler_rlrop = None\n",
    "\n",
    "\n",
    "    L, A, LR, BL, BA, _, _, _, _ = fit(\n",
    "        model=model, \n",
    "        optimizer=optimizer, \n",
    "        scheduler_oclr=scheduler_oclr,\n",
    "        scheduler_rlrop=scheduler_rlrop,\n",
    "        epochs=cfg.epochs, \n",
    "        early_stopping_patience=cfg.early_stopping, \n",
    "        dataloaders=dataloaders, \n",
    "        device=cfg.device,\n",
    "        save_path=cfg.save_path,\n",
    "        fold=fold,\n",
    "        verbose=True\n",
    "    )\n",
    "\n",
    "\n",
    "    breaker()\n",
    "    show_loss_graphs(L)\n",
    "    breaker()\n",
    "    show_accuracy_graphs(A)\n",
    "    breaker()\n",
    "    if scheduler_oclr:\n",
    "        show_lr_graph(LR)\n",
    "        breaker()\n",
    "\n",
    "    BLs.append(BL)\n",
    "    BAs.append(BA)\n",
    "\n",
    "    fold += 1"
   ]
  },
  {
   "cell_type": "markdown",
   "id": "cc910522",
   "metadata": {
    "papermill": {
     "duration": 0.011456,
     "end_time": "2023-01-12T17:46:23.585290",
     "exception": false,
     "start_time": "2023-01-12T17:46:23.573834",
     "status": "completed"
    },
    "tags": []
   },
   "source": [
    "### **Best Model**"
   ]
  },
  {
   "cell_type": "code",
   "execution_count": 10,
   "id": "5c223b70",
   "metadata": {
    "execution": {
     "iopub.execute_input": "2023-01-12T17:46:23.610366Z",
     "iopub.status.busy": "2023-01-12T17:46:23.608871Z",
     "iopub.status.idle": "2023-01-12T17:46:23.616833Z",
     "shell.execute_reply": "2023-01-12T17:46:23.615833Z"
    },
    "papermill": {
     "duration": 0.022493,
     "end_time": "2023-01-12T17:46:23.619024",
     "exception": false,
     "start_time": "2023-01-12T17:46:23.596531",
     "status": "completed"
    },
    "tags": []
   },
   "outputs": [
    {
     "name": "stdout",
     "output_type": "stream",
     "text": [
      "\n",
      "**************************************************\n",
      "\n",
      "Best Loss Model Fold     : 2\n",
      "Best Accuracy Model Fold : 2\n",
      "\n",
      "**************************************************\n",
      "\n"
     ]
    }
   ],
   "source": [
    "BL = np.inf\n",
    "for i in range(len(BLs)):\n",
    "    if BLs[i][\"valid\"] < BL:\n",
    "        BL = BLs[i][\"valid\"]\n",
    "        best_loss_index = i\n",
    "\n",
    "        \n",
    "BA = 0.0\n",
    "for i in range(len(BAs)):\n",
    "    if BAs[i][\"valid\"] > BA:\n",
    "        BA = BAs[i][\"valid\"]\n",
    "        best_accs_index = i\n",
    "\n",
    "breaker()\n",
    "print(f\"Best Loss Model Fold     : {best_loss_index + 1}\")\n",
    "print(f\"Best Accuracy Model Fold : {best_accs_index + 1}\")\n",
    "breaker()"
   ]
  }
 ],
 "metadata": {
  "kernelspec": {
   "display_name": "Python 3",
   "language": "python",
   "name": "python3"
  },
  "language_info": {
   "codemirror_mode": {
    "name": "ipython",
    "version": 3
   },
   "file_extension": ".py",
   "mimetype": "text/x-python",
   "name": "python",
   "nbconvert_exporter": "python",
   "pygments_lexer": "ipython3",
   "version": "3.7.12"
  },
  "papermill": {
   "default_parameters": {},
   "duration": 18971.2176,
   "end_time": "2023-01-12T17:46:25.382052",
   "environment_variables": {},
   "exception": null,
   "input_path": "__notebook__.ipynb",
   "output_path": "__notebook__.ipynb",
   "parameters": {},
   "start_time": "2023-01-12T12:30:14.164452",
   "version": "2.3.4"
  }
 },
 "nbformat": 4,
 "nbformat_minor": 5
}
