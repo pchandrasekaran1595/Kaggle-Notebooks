{
 "cells": [
  {
   "cell_type": "code",
   "execution_count": 1,
   "id": "4cdf9aa1",
   "metadata": {
    "_cell_guid": "b1076dfc-b9ad-4769-8c92-a6c4dae69d19",
    "_uuid": "8f2839f25d086af736a60e9eeb907d3b93b6e0e5",
    "execution": {
     "iopub.execute_input": "2023-01-12T10:17:49.585045Z",
     "iopub.status.busy": "2023-01-12T10:17:49.584044Z",
     "iopub.status.idle": "2023-01-12T10:17:49.777396Z",
     "shell.execute_reply": "2023-01-12T10:17:49.776340Z"
    },
    "papermill": {
     "duration": 0.20173,
     "end_time": "2023-01-12T10:17:49.780329",
     "exception": false,
     "start_time": "2023-01-12T10:17:49.578599",
     "status": "completed"
    },
    "tags": []
   },
   "outputs": [],
   "source": [
    "import os\n",
    "import cv2\n",
    "import json\n",
    "import numpy as np\n",
    "import pandas as pd\n",
    "\n",
    "BASE_PATH: str = \"/kaggle/input/vcor-vehicle-color-recognition-dataset\""
   ]
  },
  {
   "cell_type": "code",
   "execution_count": 2,
   "id": "12eead22",
   "metadata": {
    "execution": {
     "iopub.execute_input": "2023-01-12T10:17:49.787834Z",
     "iopub.status.busy": "2023-01-12T10:17:49.786918Z",
     "iopub.status.idle": "2023-01-12T10:17:49.806225Z",
     "shell.execute_reply": "2023-01-12T10:17:49.804993Z"
    },
    "papermill": {
     "duration": 0.025819,
     "end_time": "2023-01-12T10:17:49.808899",
     "exception": false,
     "start_time": "2023-01-12T10:17:49.783080",
     "status": "completed"
    },
    "tags": []
   },
   "outputs": [],
   "source": [
    "tr_df: pd.DataFrame = pd.DataFrame(data=None, columns=[\"filepaths\", \"labels\"])\n",
    "ts_df: pd.DataFrame = pd.DataFrame(data=None, columns=[\"filepaths\", \"labels\"])\n",
    "fu_df: pd.DataFrame = pd.DataFrame(data=None, columns=[\"filepaths\", \"labels\"])  "
   ]
  },
  {
   "cell_type": "code",
   "execution_count": 3,
   "id": "c77188c3",
   "metadata": {
    "execution": {
     "iopub.execute_input": "2023-01-12T10:17:49.815822Z",
     "iopub.status.busy": "2023-01-12T10:17:49.815357Z",
     "iopub.status.idle": "2023-01-12T10:17:53.154746Z",
     "shell.execute_reply": "2023-01-12T10:17:53.153792Z"
    },
    "papermill": {
     "duration": 3.346072,
     "end_time": "2023-01-12T10:17:53.157522",
     "exception": false,
     "start_time": "2023-01-12T10:17:49.811450",
     "status": "completed"
    },
    "tags": []
   },
   "outputs": [],
   "source": [
    "tr_filepaths: list = []\n",
    "tr_labels: list = []\n",
    "\n",
    "va_filepaths: list = []\n",
    "va_labels: list = []\n",
    "\n",
    "i: int = 0\n",
    "for folder in sorted(os.listdir(f\"{BASE_PATH}/train\")):\n",
    "    for filename in os.listdir(f\"{BASE_PATH}/train/{folder}\"):\n",
    "        tr_filepaths.append(os.path.join(f\"{BASE_PATH}/train/{folder}\", filename))\n",
    "        tr_labels.append(i)\n",
    "    i += 1\n",
    "\n",
    "\n",
    "i: int = 0\n",
    "for folder in sorted(os.listdir(f\"{BASE_PATH}/val\")):\n",
    "    for filename in os.listdir(f\"{BASE_PATH}/val/{folder}\"):\n",
    "        va_filepaths.append(os.path.join(f\"{BASE_PATH}/val/{folder}\", filename))\n",
    "        va_labels.append(i)\n",
    "    i += 1\n",
    "\n",
    "tr_df.filepaths = tr_filepaths + va_filepaths\n",
    "tr_df.labels = tr_labels + va_labels\n",
    "tr_df.to_csv(\"train.csv\", index=False)"
   ]
  },
  {
   "cell_type": "code",
   "execution_count": 4,
   "id": "72b82cc3",
   "metadata": {
    "execution": {
     "iopub.execute_input": "2023-01-12T10:17:53.165462Z",
     "iopub.status.busy": "2023-01-12T10:17:53.164216Z",
     "iopub.status.idle": "2023-01-12T10:17:53.777509Z",
     "shell.execute_reply": "2023-01-12T10:17:53.775849Z"
    },
    "papermill": {
     "duration": 0.620724,
     "end_time": "2023-01-12T10:17:53.780939",
     "exception": false,
     "start_time": "2023-01-12T10:17:53.160215",
     "status": "completed"
    },
    "tags": []
   },
   "outputs": [],
   "source": [
    "filepaths: list = []\n",
    "labels: list = []\n",
    "\n",
    "i: int = 0    \n",
    "for folder in sorted(os.listdir(f\"{BASE_PATH}/test\")):\n",
    "    for filename in os.listdir(f\"{BASE_PATH}/test/{folder}\"):\n",
    "        filepaths.append(os.path.join(f\"{BASE_PATH}/test/{folder}\", filename))\n",
    "        labels.append(i)\n",
    "    i += 1\n",
    "\n",
    "ts_df.filepaths = filepaths\n",
    "ts_df.labels = labels\n",
    "ts_df.to_csv(\"test.csv\", index=False)"
   ]
  },
  {
   "cell_type": "code",
   "execution_count": 5,
   "id": "95b348dc",
   "metadata": {
    "execution": {
     "iopub.execute_input": "2023-01-12T10:17:53.789544Z",
     "iopub.status.busy": "2023-01-12T10:17:53.789081Z",
     "iopub.status.idle": "2023-01-12T10:17:53.833743Z",
     "shell.execute_reply": "2023-01-12T10:17:53.832288Z"
    },
    "papermill": {
     "duration": 0.053272,
     "end_time": "2023-01-12T10:17:53.836902",
     "exception": false,
     "start_time": "2023-01-12T10:17:53.783630",
     "status": "completed"
    },
    "tags": []
   },
   "outputs": [],
   "source": [
    "fu_df.filepaths = tr_filepaths + va_filepaths + filepaths\n",
    "fu_df.labels = tr_labels + va_labels + labels\n",
    "fu_df.to_csv(\"full.csv\", index=False)"
   ]
  },
  {
   "cell_type": "code",
   "execution_count": 6,
   "id": "885100d2",
   "metadata": {
    "execution": {
     "iopub.execute_input": "2023-01-12T10:17:53.845649Z",
     "iopub.status.busy": "2023-01-12T10:17:53.845131Z",
     "iopub.status.idle": "2023-01-12T10:17:53.852664Z",
     "shell.execute_reply": "2023-01-12T10:17:53.851578Z"
    },
    "papermill": {
     "duration": 0.015125,
     "end_time": "2023-01-12T10:17:53.855209",
     "exception": false,
     "start_time": "2023-01-12T10:17:53.840084",
     "status": "completed"
    },
    "tags": []
   },
   "outputs": [],
   "source": [
    "labels: dict = dict()\n",
    "\n",
    "i = 0\n",
    "for folder in sorted(os.listdir(f\"{BASE_PATH}/test\")):\n",
    "    labels[i] = folder\n",
    "    i += 1\n",
    "\n",
    "json.dump(labels, open(\"labels.json\", \"w\"))"
   ]
  }
 ],
 "metadata": {
  "kernelspec": {
   "display_name": "Python 3",
   "language": "python",
   "name": "python3"
  },
  "language_info": {
   "codemirror_mode": {
    "name": "ipython",
    "version": 3
   },
   "file_extension": ".py",
   "mimetype": "text/x-python",
   "name": "python",
   "nbconvert_exporter": "python",
   "pygments_lexer": "ipython3",
   "version": "3.7.12"
  },
  "papermill": {
   "default_parameters": {},
   "duration": 15.803772,
   "end_time": "2023-01-12T10:17:54.782651",
   "environment_variables": {},
   "exception": null,
   "input_path": "__notebook__.ipynb",
   "output_path": "__notebook__.ipynb",
   "parameters": {},
   "start_time": "2023-01-12T10:17:38.978879",
   "version": "2.3.4"
  }
 },
 "nbformat": 4,
 "nbformat_minor": 5
}
