{
 "cells": [
  {
   "cell_type": "markdown",
   "id": "50e0e02b",
   "metadata": {
    "papermill": {
     "duration": 0.014621,
     "end_time": "2022-03-22T05:19:53.830908",
     "exception": false,
     "start_time": "2022-03-22T05:19:53.816287",
     "status": "completed"
    },
    "tags": []
   },
   "source": [
    "### **Library Imports**"
   ]
  },
  {
   "cell_type": "code",
   "execution_count": 1,
   "id": "b77d879d",
   "metadata": {
    "execution": {
     "iopub.execute_input": "2022-03-22T05:19:53.870994Z",
     "iopub.status.busy": "2022-03-22T05:19:53.870185Z",
     "iopub.status.idle": "2022-03-22T05:19:56.498847Z",
     "shell.execute_reply": "2022-03-22T05:19:56.499331Z",
     "shell.execute_reply.started": "2022-03-22T04:50:48.143085Z"
    },
    "papermill": {
     "duration": 2.653548,
     "end_time": "2022-03-22T05:19:56.499581",
     "exception": false,
     "start_time": "2022-03-22T05:19:53.846033",
     "status": "completed"
    },
    "tags": []
   },
   "outputs": [],
   "source": [
    "import os\n",
    "import re\n",
    "import torch\n",
    "import numpy as np\n",
    "import pandas as pd\n",
    "import matplotlib.pyplot as plt\n",
    "\n",
    "from time import time\n",
    "from torch import nn, optim\n",
    "from torch.utils.data import Dataset\n",
    "from torch.utils.data import DataLoader as DL\n",
    "from torch.nn.utils import weight_norm as WN\n",
    "from torchvision import transforms\n",
    "\n",
    "from sklearn.preprocessing import StandardScaler\n",
    "from sklearn.model_selection import StratifiedKFold"
   ]
  },
  {
   "cell_type": "markdown",
   "id": "6ec9bebc",
   "metadata": {
    "papermill": {
     "duration": 0.013541,
     "end_time": "2022-03-22T05:19:56.527197",
     "exception": false,
     "start_time": "2022-03-22T05:19:56.513656",
     "status": "completed"
    },
    "tags": []
   },
   "source": [
    "### **Utilities and Constants**"
   ]
  },
  {
   "cell_type": "code",
   "execution_count": 2,
   "id": "5d3e32c2",
   "metadata": {
    "execution": {
     "iopub.execute_input": "2022-03-22T05:19:56.608572Z",
     "iopub.status.busy": "2022-03-22T05:19:56.607705Z",
     "iopub.status.idle": "2022-03-22T05:19:56.611384Z",
     "shell.execute_reply": "2022-03-22T05:19:56.610562Z",
     "shell.execute_reply.started": "2022-03-22T04:50:55.941689Z"
    },
    "papermill": {
     "duration": 0.070865,
     "end_time": "2022-03-22T05:19:56.611530",
     "exception": false,
     "start_time": "2022-03-22T05:19:56.540665",
     "status": "completed"
    },
    "tags": []
   },
   "outputs": [],
   "source": [
    "def breaker(num: int = 50, char: str = \"*\") -> None:\n",
    "    print(\"\\n\" + num*char + \"\\n\")\n",
    "\n",
    "    \n",
    "def show_graphs(L: list, A: list) -> None:\n",
    "    TL, VL, TA, VA = [], [], [], []\n",
    "    for i in range(len(L)):\n",
    "        TL.append(L[i][\"train\"])\n",
    "        VL.append(L[i][\"valid\"])\n",
    "        TA.append(A[i][\"train\"])\n",
    "        VA.append(A[i][\"valid\"])\n",
    "    x_Axis = np.arange(1, len(TL) + 1)\n",
    "    plt.figure(figsize=(8, 6))\n",
    "    plt.subplot(1, 2, 1)\n",
    "    plt.plot(x_Axis, TL, \"r\", label=\"Train\")\n",
    "    plt.plot(x_Axis, VL, \"b\", label=\"Valid\")\n",
    "    plt.legend()\n",
    "    plt.grid()\n",
    "    plt.title(\"Loss Graph\")\n",
    "    plt.subplot(1, 2, 2)\n",
    "    plt.plot(x_Axis, TA, \"r\", label=\"Train\")\n",
    "    plt.plot(x_Axis, VA, \"b\", label=\"Valid\")\n",
    "    plt.legend()\n",
    "    plt.grid()\n",
    "    plt.title(\"Accuracy Graph\")\n",
    "    plt.show()\n",
    "\n",
    "\n",
    "SEED = 42\n",
    "DEVICE = torch.device(\"cuda\" if torch.cuda.is_available() else \"cpu\")\n",
    "\n",
    "SAVE_PATH = \"saves\"\n",
    "if not os.path.exists(SAVE_PATH):\n",
    "    os.makedirs(SAVE_PATH)"
   ]
  },
  {
   "cell_type": "markdown",
   "id": "ced9b0d5",
   "metadata": {
    "papermill": {
     "duration": 0.013193,
     "end_time": "2022-03-22T05:19:56.638246",
     "exception": false,
     "start_time": "2022-03-22T05:19:56.625053",
     "status": "completed"
    },
    "tags": []
   },
   "source": [
    "### **Dataset Template**"
   ]
  },
  {
   "cell_type": "code",
   "execution_count": 3,
   "id": "8e286705",
   "metadata": {
    "execution": {
     "iopub.execute_input": "2022-03-22T05:19:56.674513Z",
     "iopub.status.busy": "2022-03-22T05:19:56.673683Z",
     "iopub.status.idle": "2022-03-22T05:19:56.675921Z",
     "shell.execute_reply": "2022-03-22T05:19:56.676396Z",
     "shell.execute_reply.started": "2022-03-22T04:50:56.959332Z"
    },
    "papermill": {
     "duration": 0.025036,
     "end_time": "2022-03-22T05:19:56.676537",
     "exception": false,
     "start_time": "2022-03-22T05:19:56.651501",
     "status": "completed"
    },
    "tags": []
   },
   "outputs": [],
   "source": [
    "class DS(Dataset):\n",
    "    def __init__(self, images: np.ndarray, labels: np.ndarray = None, mode: str = \"train\", transform = None):\n",
    "\n",
    "        assert re.match(r\"^train$\", mode, re.IGNORECASE) or re.match(r\"^valid$\", mode, re.IGNORECASE) or re.match(r\"^test$\", mode, re.IGNORECASE), \"Invalid Mode\"\n",
    "        \n",
    "        self.mode = mode\n",
    "        self.images = images\n",
    "        self.transform = transform\n",
    "\n",
    "        if re.match(r\"^train$\", mode, re.IGNORECASE) or re.match(r\"^valid$\", mode, re.IGNORECASE):\n",
    "            self.labels = labels\n",
    "\n",
    "    def __len__(self):\n",
    "        return self.images.shape[0]\n",
    "\n",
    "    def __getitem__(self, idx):\n",
    "        if re.match(r\"^train$\", self.mode, re.IGNORECASE) or re.match(r\"^valid$\", self.mode, re.IGNORECASE):\n",
    "            return self.transform(self.images[idx]), torch.LongTensor(self.labels[idx])\n",
    "        else:\n",
    "            return self.transform(self.images[idx])"
   ]
  },
  {
   "cell_type": "markdown",
   "id": "c0d6eb0e",
   "metadata": {
    "papermill": {
     "duration": 0.013226,
     "end_time": "2022-03-22T05:19:56.703585",
     "exception": false,
     "start_time": "2022-03-22T05:19:56.690359",
     "status": "completed"
    },
    "tags": []
   },
   "source": [
    "### **Model**"
   ]
  },
  {
   "cell_type": "code",
   "execution_count": 4,
   "id": "4f4af210",
   "metadata": {
    "execution": {
     "iopub.execute_input": "2022-03-22T05:19:56.860506Z",
     "iopub.status.busy": "2022-03-22T05:19:56.859561Z",
     "iopub.status.idle": "2022-03-22T05:19:56.861494Z",
     "shell.execute_reply": "2022-03-22T05:19:56.861984Z",
     "shell.execute_reply.started": "2022-03-22T04:50:57.738221Z"
    },
    "papermill": {
     "duration": 0.144791,
     "end_time": "2022-03-22T05:19:56.862134",
     "exception": false,
     "start_time": "2022-03-22T05:19:56.717343",
     "status": "completed"
    },
    "tags": []
   },
   "outputs": [],
   "source": [
    "class CNN(nn.Module):\n",
    "    def __init__(self, filter_sizes: list, HL: list, DP: float=None):\n",
    "        \n",
    "        super(CNN, self).__init__()\n",
    "        \n",
    "        self.features = nn.Sequential()\n",
    "        self.features.add_module(\"CN1\", nn.Conv2d(in_channels=1, out_channels=filter_sizes[0], kernel_size=(3, 3), stride=(1, 1), padding=(1, 1)))\n",
    "        self.features.add_module(\"BN1\", nn.BatchNorm2d(num_features=filter_sizes[0], eps=1e-5))\n",
    "        self.features.add_module(\"AN1\", nn.ReLU())\n",
    "        self.features.add_module(\"MP1\", nn.MaxPool2d(kernel_size=(2, 2)))\n",
    "        self.features.add_module(\"CN2\", nn.Conv2d(in_channels=filter_sizes[0], out_channels=filter_sizes[1], kernel_size=(3, 3), stride=(1, 1), padding=(1, 1)))\n",
    "        self.features.add_module(\"BN2\", nn.BatchNorm2d(num_features=filter_sizes[1], eps=1e-5))\n",
    "        self.features.add_module(\"AN2\", nn.ReLU())\n",
    "        self.features.add_module(\"MP2\", nn.MaxPool2d(kernel_size=(2, 2)))\n",
    "        self.features.add_module(\"CN3\", nn.Conv2d(in_channels=filter_sizes[1], out_channels=filter_sizes[2], kernel_size=(3, 3), stride=(1, 1), padding=(1, 1)))\n",
    "        self.features.add_module(\"BN3\", nn.BatchNorm2d(num_features=filter_sizes[2], eps=1e-5))\n",
    "        self.features.add_module(\"AN3\", nn.ReLU())\n",
    "        self.features.add_module(\"MP3\", nn.MaxPool2d(kernel_size=(2, 2)))    \n",
    "\n",
    "        self.classifier = nn.Sequential()\n",
    "        if len(HL) == 0:\n",
    "            self.classifier.add_module(\"FC1\", nn.Linear(in_features=filter_sizes[2]*3*3, out_features=10))\n",
    "        elif len(HL) == 1:\n",
    "            self.classifier.add_module(\"FC1\", nn.Linear(in_features=filter_sizes[2]*3*3, out_features=HL[0]))\n",
    "            if isinstance(DP, float):\n",
    "                self.classifier.add_module(\"DP1\", nn.Dropout(p=DP))\n",
    "            self.classifier.add_module(\"AN1\", nn.ReLU())\n",
    "            self.classifier.add_module(\"FC2\", nn.Linear(in_features=HL[0], out_features=10))\n",
    "        elif len(HL) == 2:\n",
    "            self.classifier.add_module(\"FC1\", nn.Linear(in_features=filter_sizes[2]*3*3, out_features=HL[0]))\n",
    "            if isinstance(DP, float):\n",
    "                self.classifier.add_module(\"DP1\", nn.Dropout(p=DP))\n",
    "            self.classifier.add_module(\"AN1\", nn.ReLU())\n",
    "            self.classifier.add_module(\"FC2\", nn.Linear(in_features=HL[0], out_features=HL[1]))\n",
    "            if isinstance(DP, float):\n",
    "                self.classifier.add_module(\"DP2\", nn.Dropout(p=DP))\n",
    "            self.classifier.add_module(\"AN2\", nn.ReLU())\n",
    "            self.classifier.add_module(\"FC3\", nn.Linear(in_features=HL[1], out_features=10))\n",
    "        \n",
    "        self.classifier.add_module(\"Final Activation\", nn.LogSoftmax(dim=1))\n",
    "    \n",
    "    def get_optimizer(self, lr=1e-3, wd=0.0):\n",
    "        params = [p for p in self.parameters() if p.requires_grad]\n",
    "        return optim.Adam(params, lr=lr, weight_decay=wd)\n",
    "\n",
    "    def get_plateau_scheduler(self, optimizer=None, patience=5, eps=1e-8):\n",
    "        return optim.lr_scheduler.ReduceLROnPlateau(optimizer=optimizer, patience=patience, eps=eps)\n",
    "    \n",
    "    def forward(self, x):\n",
    "        x = self.features(x)\n",
    "        x = x.view(x.shape[0], -1)\n",
    "        return self.classifier(x)"
   ]
  },
  {
   "cell_type": "markdown",
   "id": "b15f1bee",
   "metadata": {
    "papermill": {
     "duration": 0.012906,
     "end_time": "2022-03-22T05:19:56.888480",
     "exception": false,
     "start_time": "2022-03-22T05:19:56.875574",
     "status": "completed"
    },
    "tags": []
   },
   "source": [
    "### **Fit and Predict Helpers**"
   ]
  },
  {
   "cell_type": "code",
   "execution_count": 5,
   "id": "780bfb45",
   "metadata": {
    "execution": {
     "iopub.execute_input": "2022-03-22T05:19:56.938770Z",
     "iopub.status.busy": "2022-03-22T05:19:56.937924Z",
     "iopub.status.idle": "2022-03-22T05:19:56.940612Z",
     "shell.execute_reply": "2022-03-22T05:19:56.939911Z",
     "shell.execute_reply.started": "2022-03-22T04:52:02.30047Z"
    },
    "papermill": {
     "duration": 0.038783,
     "end_time": "2022-03-22T05:19:56.940769",
     "exception": false,
     "start_time": "2022-03-22T05:19:56.901986",
     "status": "completed"
    },
    "tags": []
   },
   "outputs": [],
   "source": [
    "def fit(model=None, optimizer=None, scheduler=None, epochs=None, early_stopping_patience=None, dataloaders=None, fold=None, verbose=False) -> tuple:\n",
    "    \n",
    "    def get_accuracy(y_pred, y_true):\n",
    "        y_pred = torch.argmax(y_pred, dim=1)\n",
    "        return torch.count_nonzero(y_pred == y_true).item() / len(y_pred)\n",
    "    \n",
    "    if verbose:\n",
    "        breaker()\n",
    "        print(f\"Training Fold {fold}...\")\n",
    "        breaker()\n",
    "\n",
    "    bestLoss, bestAccs = {\"train\" : np.inf, \"valid\" : np.inf}, {\"train\" : 0.0, \"valid\" : 0.0}\n",
    "    Losses, Accuracies = [], []\n",
    "    name = f\"state_fold_{fold}.pt\"\n",
    "\n",
    "    start_time = time()\n",
    "    for e in range(epochs):\n",
    "        e_st = time()\n",
    "        epochLoss, epochAccs = {\"train\" : 0.0, \"valid\" : 0.0}, {\"train\" : 0.0, \"valid\" : 0.0}\n",
    "\n",
    "        for phase in [\"train\", \"valid\"]:\n",
    "            if phase == \"train\":\n",
    "                model.train()\n",
    "            else:\n",
    "                model.eval()\n",
    "            \n",
    "            lossPerPass, accsPerPass = [], []\n",
    "\n",
    "            for X, y in dataloaders[phase]:\n",
    "                X, y = X.to(DEVICE), y.to(DEVICE).view(-1)\n",
    "\n",
    "                optimizer.zero_grad()\n",
    "                with torch.set_grad_enabled(phase == \"train\"):\n",
    "                    output = model(X)\n",
    "                    loss = torch.nn.NLLLoss()(output, y)\n",
    "                    if phase == \"train\":\n",
    "                        loss.backward()\n",
    "                        optimizer.step()\n",
    "                lossPerPass.append(loss.item())\n",
    "                accsPerPass.append(get_accuracy(output, y))\n",
    "            epochLoss[phase] = np.mean(np.array(lossPerPass))\n",
    "            epochAccs[phase] = np.mean(np.array(accsPerPass))\n",
    "        Losses.append(epochLoss)\n",
    "        Accuracies.append(epochAccs)\n",
    "        \n",
    "        torch.save({\"model_state_dict\" : model.state_dict(),\n",
    "                    \"optim_state_dict\" : optimizer.state_dict()},\n",
    "                    os.path.join(SAVE_PATH, name))\n",
    "\n",
    "        if early_stopping_patience:\n",
    "            if epochLoss[\"valid\"] < bestLoss[\"valid\"]:\n",
    "                bestLoss = epochLoss\n",
    "                BLE = e + 1\n",
    "                torch.save({\"model_state_dict\": model.state_dict(),\n",
    "                            \"optim_state_dict\": optimizer.state_dict()},\n",
    "                           os.path.join(SAVE_PATH, name))\n",
    "                early_stopping_step = 0\n",
    "            else:\n",
    "                early_stopping_step += 1\n",
    "                if early_stopping_step > early_stopping_patience:\n",
    "                    print(\"\\nEarly Stopping at Epoch {}\".format(e + 1))\n",
    "                    break\n",
    "        \n",
    "        if epochLoss[\"valid\"] < bestLoss[\"valid\"]:\n",
    "            bestLoss = epochLoss\n",
    "            BLE = e + 1\n",
    "        \n",
    "        if epochAccs[\"valid\"] > bestAccs[\"valid\"]:\n",
    "            bestAccs = epochAccs\n",
    "            BAE = e + 1\n",
    "        \n",
    "        if scheduler:\n",
    "            scheduler.step(epochLoss[\"valid\"])\n",
    "        \n",
    "        if verbose:\n",
    "            print(\"Epoch: {} | Train Loss: {:.5f} | Valid Loss: {:.5f} |\\\n",
    "Train Accs: {:.5f} | Valid Accs: {:.5f} | Time: {:.2f} seconds\".format(e+1, \n",
    "                                                                       epochLoss[\"train\"], epochLoss[\"valid\"], \n",
    "                                                                       epochAccs[\"train\"], epochAccs[\"valid\"], \n",
    "                                                                       time()-e_st))\n",
    "\n",
    "    if verbose:                                           \n",
    "        breaker()\n",
    "        print(f\"Best Validation Loss at Epoch {BLE}\")\n",
    "        breaker()\n",
    "        print(f\"Best Validation Accs at Epoch {BAE}\")\n",
    "        breaker()\n",
    "        print(\"Time Taken [{} Epochs] : {:.2f} minutes\".format(len(Losses), (time()-start_time)/60))\n",
    "        breaker()\n",
    "        print(\"Training Completed\")\n",
    "        breaker()\n",
    "\n",
    "    return Losses, Accuracies, BLE, BAE, name\n",
    "\n",
    "\n",
    "def predict(model=None, dataloader=None, path=None) -> np.ndarray:\n",
    "    model.load_state_dict(torch.load(path, map_location=DEVICE)[\"model_state_dict\"])\n",
    "    model.to(DEVICE)    \n",
    "    model.eval()\n",
    "    \n",
    "    y_pred = torch.zeros(1, 1).to(DEVICE)\n",
    "    \n",
    "    for X in dataloader:\n",
    "        X = X.to(DEVICE)\n",
    "        with torch.no_grad():\n",
    "            output = torch.argmax(torch.exp(model(X)), dim=1)\n",
    "        y_pred = torch.cat((y_pred, output.view(-1, 1)), dim=0)\n",
    "    \n",
    "    return y_pred[1:].detach().cpu().numpy()"
   ]
  },
  {
   "cell_type": "markdown",
   "id": "21edf0f0",
   "metadata": {
    "papermill": {
     "duration": 0.013357,
     "end_time": "2022-03-22T05:19:56.967723",
     "exception": false,
     "start_time": "2022-03-22T05:19:56.954366",
     "status": "completed"
    },
    "tags": []
   },
   "source": [
    "### **Load Data**"
   ]
  },
  {
   "cell_type": "code",
   "execution_count": 6,
   "id": "4296e3b4",
   "metadata": {
    "execution": {
     "iopub.execute_input": "2022-03-22T05:19:57.001589Z",
     "iopub.status.busy": "2022-03-22T05:19:57.001010Z",
     "iopub.status.idle": "2022-03-22T05:20:02.432616Z",
     "shell.execute_reply": "2022-03-22T05:20:02.432073Z",
     "shell.execute_reply.started": "2022-03-22T04:51:00.173509Z"
    },
    "papermill": {
     "duration": 5.451738,
     "end_time": "2022-03-22T05:20:02.432757",
     "exception": false,
     "start_time": "2022-03-22T05:19:56.981019",
     "status": "completed"
    },
    "tags": []
   },
   "outputs": [],
   "source": [
    "train_df = pd.read_csv(\"../input/digit-recognizer/train.csv\")\n",
    "test_df  = pd.read_csv(\"../input/digit-recognizer/test.csv\")\n",
    "\n",
    "X = train_df.iloc[:, 1:].copy().values\n",
    "y = train_df.iloc[:, 0].copy().values\n",
    "X_test = test_df.copy().values\n",
    "\n",
    "X = X.reshape(X.shape[0], 28, 28, 1).astype(\"uint8\")\n",
    "X_test = X_test.reshape(X_test.shape[0], 28, 28, 1).astype(\"uint8\")"
   ]
  },
  {
   "cell_type": "markdown",
   "id": "ca2b8fc2",
   "metadata": {
    "papermill": {
     "duration": 0.012909,
     "end_time": "2022-03-22T05:20:02.460512",
     "exception": false,
     "start_time": "2022-03-22T05:20:02.447603",
     "status": "completed"
    },
    "tags": []
   },
   "source": [
    "### **Params**"
   ]
  },
  {
   "cell_type": "code",
   "execution_count": 7,
   "id": "72746d45",
   "metadata": {
    "execution": {
     "iopub.execute_input": "2022-03-22T05:20:02.494179Z",
     "iopub.status.busy": "2022-03-22T05:20:02.492615Z",
     "iopub.status.idle": "2022-03-22T05:20:02.494815Z",
     "shell.execute_reply": "2022-03-22T05:20:02.495227Z",
     "shell.execute_reply.started": "2022-03-22T05:01:01.539849Z"
    },
    "papermill": {
     "duration": 0.021584,
     "end_time": "2022-03-22T05:20:02.495356",
     "exception": false,
     "start_time": "2022-03-22T05:20:02.473772",
     "status": "completed"
    },
    "tags": []
   },
   "outputs": [],
   "source": [
    "DEBUG = False\n",
    "\n",
    "if DEBUG:\n",
    "    n_splits = 3\n",
    "    filter_sizes = [4]\n",
    "    HL = [16]\n",
    "    epochs = 2\n",
    "else:\n",
    "    n_splits = 5\n",
    "    filter_sizes = [64, 128, 256]\n",
    "    HL = [1024]\n",
    "    epochs = 25\n",
    "    \n",
    "batch_size = 128\n",
    "lr = 1e-3\n",
    "wd = 0.0\n",
    "early_stopping = 5\n",
    "patience = None\n",
    "eps = None"
   ]
  },
  {
   "cell_type": "markdown",
   "id": "6987a3be",
   "metadata": {
    "papermill": {
     "duration": 0.0129,
     "end_time": "2022-03-22T05:20:02.521419",
     "exception": false,
     "start_time": "2022-03-22T05:20:02.508519",
     "status": "completed"
    },
    "tags": []
   },
   "source": [
    "### **Train**"
   ]
  },
  {
   "cell_type": "code",
   "execution_count": 8,
   "id": "cfb4833c",
   "metadata": {
    "execution": {
     "iopub.execute_input": "2022-03-22T05:20:02.560013Z",
     "iopub.status.busy": "2022-03-22T05:20:02.559201Z",
     "iopub.status.idle": "2022-03-22T05:26:23.153415Z",
     "shell.execute_reply": "2022-03-22T05:26:23.154022Z",
     "shell.execute_reply.started": "2022-03-22T04:54:26.102873Z"
    },
    "papermill": {
     "duration": 380.6195,
     "end_time": "2022-03-22T05:26:23.154221",
     "exception": false,
     "start_time": "2022-03-22T05:20:02.534721",
     "status": "completed"
    },
    "tags": []
   },
   "outputs": [
    {
     "name": "stdout",
     "output_type": "stream",
     "text": [
      "\n",
      "**************************************************\n",
      "\n",
      "Training Fold 1...\n",
      "\n",
      "**************************************************\n",
      "\n",
      "Epoch: 1 | Train Loss: 0.26170 | Valid Loss: 0.05770 |Train Accs: 0.92597 | Valid Accs: 0.98210 | Time: 12.16 seconds\n",
      "Epoch: 2 | Train Loss: 0.04650 | Valid Loss: 0.05055 |Train Accs: 0.98515 | Valid Accs: 0.98400 | Time: 5.75 seconds\n",
      "Epoch: 3 | Train Loss: 0.03501 | Valid Loss: 0.03996 |Train Accs: 0.98841 | Valid Accs: 0.98743 | Time: 5.91 seconds\n",
      "Epoch: 4 | Train Loss: 0.02734 | Valid Loss: 0.03878 |Train Accs: 0.99082 | Valid Accs: 0.98880 | Time: 5.91 seconds\n",
      "Epoch: 5 | Train Loss: 0.02061 | Valid Loss: 0.03620 |Train Accs: 0.99272 | Valid Accs: 0.99022 | Time: 5.94 seconds\n",
      "Epoch: 6 | Train Loss: 0.01506 | Valid Loss: 0.03507 |Train Accs: 0.99486 | Valid Accs: 0.99058 | Time: 6.04 seconds\n",
      "Epoch: 7 | Train Loss: 0.01542 | Valid Loss: 0.06347 |Train Accs: 0.99495 | Valid Accs: 0.98345 | Time: 6.13 seconds\n",
      "Epoch: 8 | Train Loss: 0.01053 | Valid Loss: 0.03353 |Train Accs: 0.99620 | Valid Accs: 0.99164 | Time: 5.74 seconds\n",
      "Epoch: 9 | Train Loss: 0.01032 | Valid Loss: 0.04994 |Train Accs: 0.99629 | Valid Accs: 0.98916 | Time: 5.91 seconds\n",
      "Epoch: 10 | Train Loss: 0.01187 | Valid Loss: 0.04141 |Train Accs: 0.99584 | Valid Accs: 0.98980 | Time: 5.77 seconds\n",
      "Epoch: 11 | Train Loss: 0.00803 | Valid Loss: 0.08788 |Train Accs: 0.99727 | Valid Accs: 0.98288 | Time: 6.35 seconds\n",
      "Epoch: 12 | Train Loss: 0.01160 | Valid Loss: 0.04780 |Train Accs: 0.99599 | Valid Accs: 0.98939 | Time: 5.64 seconds\n",
      "Epoch: 13 | Train Loss: 0.00447 | Valid Loss: 0.04000 |Train Accs: 0.99846 | Valid Accs: 0.99105 | Time: 5.92 seconds\n",
      "\n",
      "Early Stopping at Epoch 14\n",
      "\n",
      "**************************************************\n",
      "\n",
      "Best Validation Loss at Epoch 8\n",
      "\n",
      "**************************************************\n",
      "\n",
      "Best Validation Accs at Epoch 8\n",
      "\n",
      "**************************************************\n",
      "\n",
      "Time Taken [14 Epochs] : 1.48 minutes\n",
      "\n",
      "**************************************************\n",
      "\n",
      "Training Completed\n",
      "\n",
      "**************************************************\n",
      "\n"
     ]
    },
    {
     "data": {
      "image/png": "[encoded data removed]",
      "text/plain": [
       "<Figure size 576x432 with 2 Axes>"
      ]
     },
     "metadata": {
      "needs_background": "light"
     },
     "output_type": "display_data"
    },
    {
     "name": "stdout",
     "output_type": "stream",
     "text": [
      "\n",
      "**************************************************\n",
      "\n",
      "Training Fold 2...\n",
      "\n",
      "**************************************************\n",
      "\n",
      "Epoch: 1 | Train Loss: 0.20981 | Valid Loss: 0.06177 |Train Accs: 0.94115 | Valid Accs: 0.98071 | Time: 5.75 seconds\n",
      "Epoch: 2 | Train Loss: 0.04943 | Valid Loss: 0.03613 |Train Accs: 0.98423 | Valid Accs: 0.98828 | Time: 5.88 seconds\n",
      "Epoch: 3 | Train Loss: 0.03220 | Valid Loss: 0.04649 |Train Accs: 0.98999 | Valid Accs: 0.98584 | Time: 5.91 seconds\n",
      "Epoch: 4 | Train Loss: 0.02146 | Valid Loss: 0.03505 |Train Accs: 0.99364 | Valid Accs: 0.98899 | Time: 5.84 seconds\n",
      "Epoch: 5 | Train Loss: 0.01969 | Valid Loss: 0.03112 |Train Accs: 0.99409 | Valid Accs: 0.99053 | Time: 5.73 seconds\n",
      "Epoch: 6 | Train Loss: 0.01843 | Valid Loss: 0.04796 |Train Accs: 0.99409 | Valid Accs: 0.98485 | Time: 5.81 seconds\n",
      "Epoch: 7 | Train Loss: 0.01332 | Valid Loss: 0.03237 |Train Accs: 0.99554 | Valid Accs: 0.99041 | Time: 5.85 seconds\n",
      "Epoch: 8 | Train Loss: 0.01320 | Valid Loss: 0.04077 |Train Accs: 0.99602 | Valid Accs: 0.98887 | Time: 6.01 seconds\n",
      "Epoch: 9 | Train Loss: 0.01165 | Valid Loss: 0.04774 |Train Accs: 0.99617 | Valid Accs: 0.98603 | Time: 6.02 seconds\n",
      "Epoch: 10 | Train Loss: 0.01000 | Valid Loss: 0.05663 |Train Accs: 0.99638 | Valid Accs: 0.98438 | Time: 5.81 seconds\n",
      "\n",
      "Early Stopping at Epoch 11\n",
      "\n",
      "**************************************************\n",
      "\n",
      "Best Validation Loss at Epoch 5\n",
      "\n",
      "**************************************************\n",
      "\n",
      "Best Validation Accs at Epoch 5\n",
      "\n",
      "**************************************************\n",
      "\n",
      "Time Taken [11 Epochs] : 1.07 minutes\n",
      "\n",
      "**************************************************\n",
      "\n",
      "Training Completed\n",
      "\n",
      "**************************************************\n",
      "\n"
     ]
    },
    {
     "data": {
      "image/png": "[encoded data removed]",
      "text/plain": [
       "<Figure size 576x432 with 2 Axes>"
      ]
     },
     "metadata": {
      "needs_background": "light"
     },
     "output_type": "display_data"
    },
    {
     "name": "stdout",
     "output_type": "stream",
     "text": [
      "\n",
      "**************************************************\n",
      "\n",
      "Training Fold 3...\n",
      "\n",
      "**************************************************\n",
      "\n",
      "Epoch: 1 | Train Loss: 0.22377 | Valid Loss: 0.08798 |Train Accs: 0.93542 | Valid Accs: 0.97401 | Time: 5.84 seconds\n",
      "Epoch: 2 | Train Loss: 0.04827 | Valid Loss: 0.03754 |Train Accs: 0.98488 | Valid Accs: 0.98864 | Time: 5.81 seconds\n",
      "Epoch: 3 | Train Loss: 0.03197 | Valid Loss: 0.04490 |Train Accs: 0.98945 | Valid Accs: 0.98662 | Time: 6.06 seconds\n",
      "Epoch: 4 | Train Loss: 0.02563 | Valid Loss: 0.04941 |Train Accs: 0.99198 | Valid Accs: 0.98589 | Time: 5.95 seconds\n",
      "Epoch: 5 | Train Loss: 0.02334 | Valid Loss: 0.03711 |Train Accs: 0.99240 | Valid Accs: 0.98857 | Time: 5.71 seconds\n",
      "Epoch: 6 | Train Loss: 0.01677 | Valid Loss: 0.04235 |Train Accs: 0.99450 | Valid Accs: 0.98828 | Time: 5.92 seconds\n",
      "Epoch: 7 | Train Loss: 0.01307 | Valid Loss: 0.04044 |Train Accs: 0.99593 | Valid Accs: 0.99034 | Time: 5.66 seconds\n",
      "Epoch: 8 | Train Loss: 0.01585 | Valid Loss: 0.04790 |Train Accs: 0.99510 | Valid Accs: 0.98710 | Time: 5.81 seconds\n",
      "Epoch: 9 | Train Loss: 0.00828 | Valid Loss: 0.03663 |Train Accs: 0.99715 | Valid Accs: 0.99112 | Time: 5.96 seconds\n",
      "Epoch: 10 | Train Loss: 0.00711 | Valid Loss: 0.03506 |Train Accs: 0.99771 | Valid Accs: 0.99136 | Time: 5.99 seconds\n",
      "Epoch: 11 | Train Loss: 0.01175 | Valid Loss: 0.04545 |Train Accs: 0.99626 | Valid Accs: 0.98946 | Time: 5.73 seconds\n",
      "Epoch: 12 | Train Loss: 0.00805 | Valid Loss: 0.04894 |Train Accs: 0.99733 | Valid Accs: 0.98793 | Time: 5.83 seconds\n",
      "Epoch: 13 | Train Loss: 0.00925 | Valid Loss: 0.05679 |Train Accs: 0.99676 | Valid Accs: 0.98809 | Time: 5.67 seconds\n",
      "Epoch: 14 | Train Loss: 0.00908 | Valid Loss: 0.07636 |Train Accs: 0.99694 | Valid Accs: 0.98478 | Time: 6.06 seconds\n",
      "Epoch: 15 | Train Loss: 0.00973 | Valid Loss: 0.04858 |Train Accs: 0.99670 | Valid Accs: 0.98911 | Time: 5.77 seconds\n",
      "\n",
      "Early Stopping at Epoch 16\n",
      "\n",
      "**************************************************\n",
      "\n",
      "Best Validation Loss at Epoch 10\n",
      "\n",
      "**************************************************\n",
      "\n",
      "Best Validation Accs at Epoch 10\n",
      "\n",
      "**************************************************\n",
      "\n",
      "Time Taken [16 Epochs] : 1.56 minutes\n",
      "\n",
      "**************************************************\n",
      "\n",
      "Training Completed\n",
      "\n",
      "**************************************************\n",
      "\n"
     ]
    },
    {
     "data": {
      "image/png": "[encoded data removed]",
      "text/plain": [
       "<Figure size 576x432 with 2 Axes>"
      ]
     },
     "metadata": {
      "needs_background": "light"
     },
     "output_type": "display_data"
    },
    {
     "name": "stdout",
     "output_type": "stream",
     "text": [
      "\n",
      "**************************************************\n",
      "\n",
      "Training Fold 4...\n",
      "\n",
      "**************************************************\n",
      "\n",
      "Epoch: 1 | Train Loss: 0.25347 | Valid Loss: 0.05722 |Train Accs: 0.93126 | Valid Accs: 0.98165 | Time: 5.95 seconds\n",
      "Epoch: 2 | Train Loss: 0.05219 | Valid Loss: 0.04963 |Train Accs: 0.98399 | Valid Accs: 0.98549 | Time: 6.02 seconds\n",
      "Epoch: 3 | Train Loss: 0.03222 | Valid Loss: 0.05196 |Train Accs: 0.98951 | Valid Accs: 0.98163 | Time: 5.75 seconds\n",
      "Epoch: 4 | Train Loss: 0.02476 | Valid Loss: 0.08615 |Train Accs: 0.99162 | Valid Accs: 0.97649 | Time: 5.86 seconds\n",
      "Epoch: 5 | Train Loss: 0.02653 | Valid Loss: 0.03676 |Train Accs: 0.99147 | Valid Accs: 0.98958 | Time: 5.96 seconds\n",
      "Epoch: 6 | Train Loss: 0.01848 | Valid Loss: 0.02418 |Train Accs: 0.99364 | Valid Accs: 0.99247 | Time: 5.86 seconds\n",
      "Epoch: 7 | Train Loss: 0.01467 | Valid Loss: 0.02802 |Train Accs: 0.99507 | Valid Accs: 0.99176 | Time: 5.88 seconds\n",
      "Epoch: 8 | Train Loss: 0.01136 | Valid Loss: 0.05593 |Train Accs: 0.99647 | Valid Accs: 0.98537 | Time: 5.69 seconds\n",
      "Epoch: 9 | Train Loss: 0.00889 | Valid Loss: 0.03941 |Train Accs: 0.99724 | Valid Accs: 0.98868 | Time: 5.79 seconds\n",
      "Epoch: 10 | Train Loss: 0.01219 | Valid Loss: 0.04729 |Train Accs: 0.99620 | Valid Accs: 0.98774 | Time: 6.00 seconds\n",
      "Epoch: 11 | Train Loss: 0.00987 | Valid Loss: 0.04613 |Train Accs: 0.99658 | Valid Accs: 0.98946 | Time: 5.75 seconds\n",
      "\n",
      "Early Stopping at Epoch 12\n",
      "\n",
      "**************************************************\n",
      "\n",
      "Best Validation Loss at Epoch 6\n",
      "\n",
      "**************************************************\n",
      "\n",
      "Best Validation Accs at Epoch 6\n",
      "\n",
      "**************************************************\n",
      "\n",
      "Time Taken [12 Epochs] : 1.17 minutes\n",
      "\n",
      "**************************************************\n",
      "\n",
      "Training Completed\n",
      "\n",
      "**************************************************\n",
      "\n"
     ]
    },
    {
     "data": {
      "image/png": "[encoded data removed]",
      "text/plain": [
       "<Figure size 576x432 with 2 Axes>"
      ]
     },
     "metadata": {
      "needs_background": "light"
     },
     "output_type": "display_data"
    },
    {
     "name": "stdout",
     "output_type": "stream",
     "text": [
      "\n",
      "**************************************************\n",
      "\n",
      "Training Fold 5...\n",
      "\n",
      "**************************************************\n",
      "\n",
      "Epoch: 1 | Train Loss: 0.22259 | Valid Loss: 0.04445 |Train Accs: 0.93557 | Valid Accs: 0.98696 | Time: 5.91 seconds\n",
      "Epoch: 2 | Train Loss: 0.04706 | Valid Loss: 0.04392 |Train Accs: 0.98580 | Valid Accs: 0.98565 | Time: 5.69 seconds\n",
      "Epoch: 3 | Train Loss: 0.03427 | Valid Loss: 0.05797 |Train Accs: 0.98925 | Valid Accs: 0.98329 | Time: 6.10 seconds\n",
      "Epoch: 4 | Train Loss: 0.02755 | Valid Loss: 0.04090 |Train Accs: 0.99133 | Valid Accs: 0.98809 | Time: 6.06 seconds\n",
      "Epoch: 5 | Train Loss: 0.01848 | Valid Loss: 0.07021 |Train Accs: 0.99385 | Valid Accs: 0.98063 | Time: 5.82 seconds\n",
      "Epoch: 6 | Train Loss: 0.01568 | Valid Loss: 0.04495 |Train Accs: 0.99519 | Valid Accs: 0.98771 | Time: 5.90 seconds\n",
      "Epoch: 7 | Train Loss: 0.01426 | Valid Loss: 0.04513 |Train Accs: 0.99531 | Valid Accs: 0.98809 | Time: 5.59 seconds\n",
      "Epoch: 8 | Train Loss: 0.01104 | Valid Loss: 0.04388 |Train Accs: 0.99658 | Valid Accs: 0.98909 | Time: 5.77 seconds\n",
      "Epoch: 9 | Train Loss: 0.01066 | Valid Loss: 0.04393 |Train Accs: 0.99644 | Valid Accs: 0.98975 | Time: 6.06 seconds\n",
      "\n",
      "Early Stopping at Epoch 10\n",
      "\n",
      "**************************************************\n",
      "\n",
      "Best Validation Loss at Epoch 4\n",
      "\n",
      "**************************************************\n",
      "\n",
      "Best Validation Accs at Epoch 9\n",
      "\n",
      "**************************************************\n",
      "\n",
      "Time Taken [10 Epochs] : 0.98 minutes\n",
      "\n",
      "**************************************************\n",
      "\n",
      "Training Completed\n",
      "\n",
      "**************************************************\n",
      "\n"
     ]
    },
    {
     "data": {
      "image/png": "[encoded data removed]",
      "text/plain": [
       "<Figure size 576x432 with 2 Axes>"
      ]
     },
     "metadata": {
      "needs_background": "light"
     },
     "output_type": "display_data"
    },
    {
     "name": "stdout",
     "output_type": "stream",
     "text": [
      "\n",
      "**************************************************\n",
      "\n",
      "Best Loss Model : Fold 3\n",
      "Best Accs Model : Fold 3\n",
      "\n",
      "**************************************************\n",
      "\n"
     ]
    }
   ],
   "source": [
    "fold = 1\n",
    "BLEs, BAEs = [], []\n",
    "\n",
    "for tr_idx, va_idx in StratifiedKFold(n_splits=n_splits, random_state=SEED, shuffle=True).split(X, y):\n",
    "\n",
    "    X_train, X_valid, y_train, y_valid = X[tr_idx], X[va_idx], y[tr_idx], y[va_idx]\n",
    "\n",
    "    transform = transforms.Compose([transforms.ToTensor(), \n",
    "                                    transforms.Normalize(mean=[0.13101], std=[0.30854]),\n",
    "                                   ])\n",
    "\n",
    "    tr_data_setup = DS(X_train, y_train.reshape(-1, 1), \"train\", transform)\n",
    "    va_data_setup = DS(X_valid, y_valid.reshape(-1, 1), \"valid\", transform)\n",
    "\n",
    "    dataloaders = {\n",
    "        \"train\" : DL(tr_data_setup, batch_size=batch_size, shuffle=True, generator=torch.manual_seed(SEED)),\n",
    "        \"valid\" : DL(va_data_setup, batch_size=batch_size, shuffle=False),\n",
    "    }\n",
    "\n",
    "    torch.manual_seed(SEED)\n",
    "    model = CNN(filter_sizes=filter_sizes, HL=HL, DP=0.25)\n",
    "    model.to(DEVICE)\n",
    "    optimizer = model.get_optimizer(lr=lr, wd=wd)\n",
    "    scheduler = None\n",
    "    if isinstance(patience, int) and isinstance(eps, float):\n",
    "        scheduler = get_plateau_scheduler(optimizer=optimizer, patience=patience, eps=eps)\n",
    "\n",
    "    L, A, BLE, BAE, name = fit(model=model, optimizer=optimizer, scheduler=scheduler, \n",
    "                               epochs=epochs, early_stopping_patience=early_stopping, \n",
    "                               dataloaders=dataloaders, fold=fold, verbose=True)\n",
    "\n",
    "    show_graphs(L, A)\n",
    "    BLEs.append(BLE)\n",
    "    BAEs.append(BAE)\n",
    "    fold += 1\n",
    "\n",
    "breaker()\n",
    "print(f\"Best Loss Model : Fold {BLEs.index(max(BLEs)) + 1}\")\n",
    "print(f\"Best Accs Model : Fold {BAEs.index(max(BAEs)) + 1}\")\n",
    "breaker()"
   ]
  },
  {
   "cell_type": "markdown",
   "id": "971413ce",
   "metadata": {
    "papermill": {
     "duration": 0.039421,
     "end_time": "2022-03-22T05:26:23.234552",
     "exception": false,
     "start_time": "2022-03-22T05:26:23.195131",
     "status": "completed"
    },
    "tags": []
   },
   "source": [
    "### **Submission**"
   ]
  },
  {
   "cell_type": "code",
   "execution_count": 9,
   "id": "0567f203",
   "metadata": {
    "execution": {
     "iopub.execute_input": "2022-03-22T05:26:23.318061Z",
     "iopub.status.busy": "2022-03-22T05:26:23.317297Z",
     "iopub.status.idle": "2022-03-22T05:26:23.319817Z",
     "shell.execute_reply": "2022-03-22T05:26:23.319379Z",
     "shell.execute_reply.started": "2022-03-22T04:58:46.044315Z"
    },
    "papermill": {
     "duration": 0.045997,
     "end_time": "2022-03-22T05:26:23.319934",
     "exception": false,
     "start_time": "2022-03-22T05:26:23.273937",
     "status": "completed"
    },
    "tags": []
   },
   "outputs": [],
   "source": [
    "# ts_data_setup = DS(X_test, None, \"test\", transform)\n",
    "# ts_data = DL(ts_data_setup, batch_size=batch_size, shuffle=False)\n",
    "\n",
    "# y_hat = np.zeros((len(X_test), 1))\n",
    "\n",
    "# for fold in range(1, n_splits + 1):\n",
    "#     y_hat += predict(model=model, dataloader=ts_data, path=f\"./saves/state_fold_{fold}.pt\")\n",
    "\n",
    "# y_pred = y_hat / 5\n",
    "\n",
    "# ss_df = pd.read_csv(\"../input/digit-recognizer/sample_submission.csv\")\n",
    "# ss_df[\"Label\"] = y_pred.astype(\"int64\")\n",
    "# ss_df.to_csv(\"./submission.csv\", index=False)"
   ]
  }
 ],
 "metadata": {
  "kernelspec": {
   "display_name": "Python 3",
   "language": "python",
   "name": "python3"
  },
  "language_info": {
   "codemirror_mode": {
    "name": "ipython",
    "version": 3
   },
   "file_extension": ".py",
   "mimetype": "text/x-python",
   "name": "python",
   "nbconvert_exporter": "python",
   "pygments_lexer": "ipython3",
   "version": "3.7.12"
  },
  "papermill": {
   "default_parameters": {},
   "duration": 400.543352,
   "end_time": "2022-03-22T05:26:25.891493",
   "environment_variables": {},
   "exception": null,
   "input_path": "__notebook__.ipynb",
   "output_path": "__notebook__.ipynb",
   "parameters": {},
   "start_time": "2022-03-22T05:19:45.348141",
   "version": "2.3.3"
  }
 },
 "nbformat": 4,
 "nbformat_minor": 5
}
