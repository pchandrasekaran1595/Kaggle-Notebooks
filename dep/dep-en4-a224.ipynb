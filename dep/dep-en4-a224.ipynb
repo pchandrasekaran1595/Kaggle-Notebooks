{
 "cells": [
  {
   "cell_type": "markdown",
   "id": "04b6d05a",
   "metadata": {
    "_cell_guid": "b1076dfc-b9ad-4769-8c92-a6c4dae69d19",
    "_uuid": "8f2839f25d086af736a60e9eeb907d3b93b6e0e5",
    "papermill": {
     "duration": 0.007932,
     "end_time": "2022-10-13T13:21:46.286482",
     "exception": false,
     "start_time": "2022-10-13T13:21:46.278550",
     "status": "completed"
    },
    "tags": []
   },
   "source": [
    "### **Setup**"
   ]
  },
  {
   "cell_type": "code",
   "execution_count": 1,
   "id": "15b8c849",
   "metadata": {
    "execution": {
     "iopub.execute_input": "2022-10-13T13:21:46.305509Z",
     "iopub.status.busy": "2022-10-13T13:21:46.304912Z",
     "iopub.status.idle": "2022-10-13T13:21:56.823437Z",
     "shell.execute_reply": "2022-10-13T13:21:56.822248Z"
    },
    "papermill": {
     "duration": 10.530464,
     "end_time": "2022-10-13T13:21:56.825926",
     "exception": false,
     "start_time": "2022-10-13T13:21:46.295462",
     "status": "completed"
    },
    "tags": []
   },
   "outputs": [
    {
     "name": "stderr",
     "output_type": "stream",
     "text": [
      "WARNING: Running pip as the 'root' user can result in broken permissions and conflicting behaviour with the system package manager. It is recommended to use a virtual environment instead: https://pip.pypa.io/warnings/venv\n"
     ]
    }
   ],
   "source": [
    "%%bash\n",
    "pip install timm -q"
   ]
  },
  {
   "cell_type": "markdown",
   "id": "c1eb7fc1",
   "metadata": {
    "papermill": {
     "duration": 0.004551,
     "end_time": "2022-10-13T13:21:56.835805",
     "exception": false,
     "start_time": "2022-10-13T13:21:56.831254",
     "status": "completed"
    },
    "tags": []
   },
   "source": [
    "### **Library Imports**"
   ]
  },
  {
   "cell_type": "code",
   "execution_count": 2,
   "id": "c5fcb8d9",
   "metadata": {
    "execution": {
     "iopub.execute_input": "2022-10-13T13:21:56.846802Z",
     "iopub.status.busy": "2022-10-13T13:21:56.846484Z",
     "iopub.status.idle": "2022-10-13T13:22:00.721782Z",
     "shell.execute_reply": "2022-10-13T13:22:00.720645Z"
    },
    "papermill": {
     "duration": 3.883867,
     "end_time": "2022-10-13T13:22:00.724314",
     "exception": false,
     "start_time": "2022-10-13T13:21:56.840447",
     "status": "completed"
    },
    "tags": []
   },
   "outputs": [],
   "source": [
    "import os\n",
    "import re\n",
    "import cv2\n",
    "import timm\n",
    "import torch\n",
    "import numpy as np\n",
    "import pandas as pd\n",
    "import matplotlib.pyplot as plt\n",
    "\n",
    "from time import time\n",
    "from scipy import stats\n",
    "from typing import Union\n",
    "from torch import nn, optim\n",
    "from torch.utils.data import Dataset\n",
    "from torch.utils.data import DataLoader as DL\n",
    "from torchvision import models, transforms\n",
    "\n",
    "from sklearn.metrics import accuracy_score\n",
    "from sklearn.model_selection import StratifiedKFold"
   ]
  },
  {
   "cell_type": "markdown",
   "id": "f1e6ba5a",
   "metadata": {
    "papermill": {
     "duration": 0.004113,
     "end_time": "2022-10-13T13:22:00.733168",
     "exception": false,
     "start_time": "2022-10-13T13:22:00.729055",
     "status": "completed"
    },
    "tags": []
   },
   "source": [
    "### **Utilities and Helpers**"
   ]
  },
  {
   "cell_type": "code",
   "execution_count": 3,
   "id": "5db44314",
   "metadata": {
    "execution": {
     "iopub.execute_input": "2022-10-13T13:22:00.744433Z",
     "iopub.status.busy": "2022-10-13T13:22:00.743895Z",
     "iopub.status.idle": "2022-10-13T13:22:00.757528Z",
     "shell.execute_reply": "2022-10-13T13:22:00.756691Z"
    },
    "papermill": {
     "duration": 0.022117,
     "end_time": "2022-10-13T13:22:00.759524",
     "exception": false,
     "start_time": "2022-10-13T13:22:00.737407",
     "status": "completed"
    },
    "tags": []
   },
   "outputs": [],
   "source": [
    "SEED: int = 42\n",
    "SIZE: int = 224\n",
    "\n",
    "\n",
    "def breaker(num: int=50, char: str=\"*\") -> None:\n",
    "    print(\"\\n\" + num*char + \"\\n\")\n",
    "\n",
    "    \n",
    "def get_image(path: str, size: int=224) -> np.ndarray:\n",
    "    image = cv2.imread(path, cv2.IMREAD_COLOR)\n",
    "    image = cv2.cvtColor(src=image, code=cv2.COLOR_BGR2RGB)\n",
    "    return cv2.resize(src=image, dsize=(size, size), interpolation=cv2.INTER_AREA)\n",
    "\n",
    "\n",
    "def show_loss_graphs(L: list) -> None:\n",
    "    TL, VL = [], []\n",
    "    for i in range(len(L)):\n",
    "        TL.append(L[i][\"train\"])\n",
    "        VL.append(L[i][\"valid\"])\n",
    "    x_Axis = np.arange(1, len(TL) + 1)\n",
    "    plt.figure()\n",
    "    plt.plot(x_Axis, TL, \"r\", label=\"Train\")\n",
    "    plt.plot(x_Axis, VL, \"b\", label=\"Valid\")\n",
    "    plt.legend()\n",
    "    plt.grid()\n",
    "    plt.title(\"Loss Graph\")\n",
    "    plt.show()\n",
    "\n",
    "    \n",
    "def show_accuracy_graphs(A: list) -> None:\n",
    "    TA, VA = [], []\n",
    "    for i in range(len(A)):\n",
    "        TA.append(A[i][\"train\"])\n",
    "        VA.append(A[i][\"valid\"])\n",
    "    x_Axis = np.arange(1, len(TA) + 1)\n",
    "    plt.figure()\n",
    "    plt.plot(x_Axis, TA, \"r\", label=\"Train\")\n",
    "    plt.plot(x_Axis, VA, \"b\", label=\"Valid\")\n",
    "    plt.legend()\n",
    "    plt.grid()\n",
    "    plt.title(\"Accuracy Graph\")\n",
    "    plt.show()\n",
    "    \n",
    "\n",
    "def show_lr_graph(LR: list) -> None:\n",
    "    x_Axis = [i+1 for i in range(len(LR))]\n",
    "    plt.figure(figsize=(8, 6))\n",
    "    plt.plot(x_Axis, LR, \"rx\")\n",
    "    plt.grid()\n",
    "    plt.show()"
   ]
  },
  {
   "cell_type": "markdown",
   "id": "552db544",
   "metadata": {
    "papermill": {
     "duration": 0.004024,
     "end_time": "2022-10-13T13:22:00.767813",
     "exception": false,
     "start_time": "2022-10-13T13:22:00.763789",
     "status": "completed"
    },
    "tags": []
   },
   "source": [
    "### **Configuration**"
   ]
  },
  {
   "cell_type": "code",
   "execution_count": 4,
   "id": "fd27eff4",
   "metadata": {
    "execution": {
     "iopub.execute_input": "2022-10-13T13:22:00.777651Z",
     "iopub.status.busy": "2022-10-13T13:22:00.777380Z",
     "iopub.status.idle": "2022-10-13T13:22:00.860819Z",
     "shell.execute_reply": "2022-10-13T13:22:00.859889Z"
    },
    "papermill": {
     "duration": 0.090909,
     "end_time": "2022-10-13T13:22:00.862926",
     "exception": false,
     "start_time": "2022-10-13T13:22:00.772017",
     "status": "completed"
    },
    "tags": []
   },
   "outputs": [],
   "source": [
    "class CFG(object):\n",
    "    def __init__(self, \n",
    "                 seed: int = 42,\n",
    "                 size: int = 224,\n",
    "                 n_splits: int = 5,\n",
    "                 batch_size: int = 16,\n",
    "                 epochs: int = 25,\n",
    "                 early_stopping: int = 5,\n",
    "                 lr: float = 1e-4,\n",
    "                 wd: float = 0.0,\n",
    "                 max_lr: float = 1e-3,\n",
    "                 pct_start: float = 0.2,\n",
    "                 steps_per_epoch: int = 100,\n",
    "                 div_factor: int = 1e3, \n",
    "                 final_div_factor: float = 1e3,\n",
    "                 ):\n",
    "        self.seed = seed\n",
    "        self.size = size\n",
    "        self.n_splits = n_splits\n",
    "        self.batch_size = batch_size\n",
    "        self.epochs = epochs\n",
    "        self.early_stopping = early_stopping\n",
    "        self.lr = lr\n",
    "        self.wd = wd\n",
    "        self.max_lr = max_lr\n",
    "        self.pct_start = pct_start\n",
    "        self.steps_per_epoch = steps_per_epoch\n",
    "        self.div_factor = div_factor\n",
    "        self.final_div_factor = final_div_factor\n",
    "        self.device = torch.device(\"cuda\" if torch.cuda.is_available() else \"cpu\")\n",
    "        \n",
    "        if self.size == 224:\n",
    "            self.train_transform = transforms.Compose([\n",
    "                transforms.ToTensor(),\n",
    "                transforms.Normalize([0.48246, 0.44668, 0.39587], [0.23394, 0.22923, 0.22643]),\n",
    "                transforms.RandomAffine(degrees=(-45, 45), translate=(0.15, 0.15), scale=(0.5, 1.5)),\n",
    "                transforms.RandomHorizontalFlip(p=0.25),\n",
    "                transforms.RandomVerticalFlip(p=0.25),\n",
    "            ])\n",
    "            self.valid_transform = transforms.Compose([\n",
    "                transforms.ToTensor(),\n",
    "                transforms.Normalize([0.48246, 0.44668, 0.39587], [0.23394, 0.22923, 0.22643]),\n",
    "            ])\n",
    "        \n",
    "        if self.size == 384:\n",
    "            self.train_transform = transforms.Compose([\n",
    "                transforms.ToTensor(),\n",
    "                transforms.Normalize([0.48247, 0.44668, 0.39588], [0.23723, 0.23260, 0.22982]),\n",
    "                transforms.RandomAffine(degrees=(-45, 45), translate=(0.15, 0.15), scale=(0.5, 1.5)),\n",
    "                transforms.RandomHorizontalFlip(p=0.25),\n",
    "                transforms.RandomVerticalFlip(p=0.25),\n",
    "            ])\n",
    "            self.valid_transform = transforms.Compose([\n",
    "                transforms.ToTensor(),\n",
    "                transforms.Normalize([0.48247, 0.44668, 0.39588], [0.23723, 0.23260, 0.22982]),\n",
    "            ])\n",
    "        \n",
    "        if self.size == 512:\n",
    "            self.train_transform = transforms.Compose([\n",
    "                transforms.ToTensor(),\n",
    "                transforms.Normalize([0.48225, 0.44646, 0.39566], [0.23586, 0.23120, 0.22841]),\n",
    "                transforms.RandomAffine(degrees=(-45, 45), translate=(0.15, 0.15), scale=(0.5, 1.5)),\n",
    "                transforms.RandomHorizontalFlip(p=0.25),\n",
    "                transforms.RandomVerticalFlip(p=0.25),\n",
    "            ])\n",
    "            self.valid_transform = transforms.Compose([\n",
    "                transforms.ToTensor(),\n",
    "                transforms.Normalize([0.48225, 0.44646, 0.39566], [0.23586, 0.23120, 0.22841]),\n",
    "            ])\n",
    "                                \n",
    "        self.save_path = \"saves\"\n",
    "        if not os.path.exists(self.save_path): os.makedirs(self.save_path)\n",
    "    \n",
    "cfg = CFG(\n",
    "    seed=SEED, \n",
    "    size=SIZE\n",
    ")"
   ]
  },
  {
   "cell_type": "markdown",
   "id": "12721c5d",
   "metadata": {
    "papermill": {
     "duration": 0.004055,
     "end_time": "2022-10-13T13:22:00.871346",
     "exception": false,
     "start_time": "2022-10-13T13:22:00.867291",
     "status": "completed"
    },
    "tags": []
   },
   "source": [
    "### **Dataset Template**"
   ]
  },
  {
   "cell_type": "code",
   "execution_count": 5,
   "id": "3cbce3f4",
   "metadata": {
    "execution": {
     "iopub.execute_input": "2022-10-13T13:22:00.880913Z",
     "iopub.status.busy": "2022-10-13T13:22:00.880639Z",
     "iopub.status.idle": "2022-10-13T13:22:00.887250Z",
     "shell.execute_reply": "2022-10-13T13:22:00.886269Z"
    },
    "papermill": {
     "duration": 0.013591,
     "end_time": "2022-10-13T13:22:00.889128",
     "exception": false,
     "start_time": "2022-10-13T13:22:00.875537",
     "status": "completed"
    },
    "tags": []
   },
   "outputs": [],
   "source": [
    "class DS(Dataset):\n",
    "    def __init__(\n",
    "        self, \n",
    "        filepaths: np.ndarray, \n",
    "        size: int,\n",
    "        labels: Union[np.ndarray, None]=None, \n",
    "        transform=None\n",
    "    ):\n",
    "        \n",
    "        self.filepaths = filepaths\n",
    "        self.labels = labels\n",
    "        self.size = size\n",
    "        self.transform = transform\n",
    "    \n",
    "    def __len__(self):\n",
    "        return self.filepaths.shape[0]\n",
    "    \n",
    "    def __getitem__(self, idx):\n",
    "        image = get_image(self.filepaths[idx], self.size)\n",
    "        if self.labels is None:\n",
    "            return self.transform(image)\n",
    "        return self.transform(image), self.labels[idx]"
   ]
  },
  {
   "cell_type": "markdown",
   "id": "4bd39f75",
   "metadata": {
    "papermill": {
     "duration": 0.003966,
     "end_time": "2022-10-13T13:22:00.897238",
     "exception": false,
     "start_time": "2022-10-13T13:22:00.893272",
     "status": "completed"
    },
    "tags": []
   },
   "source": [
    "### **Model**"
   ]
  },
  {
   "cell_type": "code",
   "execution_count": 6,
   "id": "14e72f3a",
   "metadata": {
    "execution": {
     "iopub.execute_input": "2022-10-13T13:22:00.907993Z",
     "iopub.status.busy": "2022-10-13T13:22:00.906476Z",
     "iopub.status.idle": "2022-10-13T13:22:00.913014Z",
     "shell.execute_reply": "2022-10-13T13:22:00.912174Z"
    },
    "papermill": {
     "duration": 0.013619,
     "end_time": "2022-10-13T13:22:00.915030",
     "exception": false,
     "start_time": "2022-10-13T13:22:00.901411",
     "status": "completed"
    },
    "tags": []
   },
   "outputs": [],
   "source": [
    "class Model(nn.Module):\n",
    "    def __init__(self):\n",
    "        super(Model, self).__init__()\n",
    "            \n",
    "        self.model = timm.create_model(model_name=\"efficientnet_b4\", pretrained=True)\n",
    "        self.model.classifier = nn.Linear(in_features=self.model.classifier.in_features, out_features=4)\n",
    "            \n",
    "    def freeze(self):\n",
    "        for params in self.parameters(): params.requires_grad = False\n",
    "\n",
    "    def forward(self, x):\n",
    "        return nn.LogSoftmax(dim=1)(self.model(x))"
   ]
  },
  {
   "cell_type": "markdown",
   "id": "76ef237c",
   "metadata": {
    "papermill": {
     "duration": 0.004033,
     "end_time": "2022-10-13T13:22:00.923255",
     "exception": false,
     "start_time": "2022-10-13T13:22:00.919222",
     "status": "completed"
    },
    "tags": []
   },
   "source": [
    "### **Fit and Predict**"
   ]
  },
  {
   "cell_type": "code",
   "execution_count": 7,
   "id": "4c7e1132",
   "metadata": {
    "execution": {
     "iopub.execute_input": "2022-10-13T13:22:00.933061Z",
     "iopub.status.busy": "2022-10-13T13:22:00.932789Z",
     "iopub.status.idle": "2022-10-13T13:22:00.955721Z",
     "shell.execute_reply": "2022-10-13T13:22:00.954913Z"
    },
    "papermill": {
     "duration": 0.030244,
     "end_time": "2022-10-13T13:22:00.957661",
     "exception": false,
     "start_time": "2022-10-13T13:22:00.927417",
     "status": "completed"
    },
    "tags": []
   },
   "outputs": [],
   "source": [
    "def fit(\n",
    "    model=None,\n",
    "    optimizer=None, \n",
    "    scheduler_rlrop=None,\n",
    "    scheduler_oclr=None,\n",
    "    epochs=None, \n",
    "    early_stopping_patience=None, \n",
    "    dataloaders=None, \n",
    "    fold=None, \n",
    "    save_path=None,\n",
    "    device=None,\n",
    "    verbose=False\n",
    ") -> tuple:\n",
    "    \n",
    "    def get_accuracy(y_pred, y_true):\n",
    "        y_pred = torch.argmax(y_pred, dim=1)\n",
    "        return torch.count_nonzero(y_pred == y_true).item() / len(y_pred)\n",
    "    \n",
    "    if verbose:\n",
    "        breaker()\n",
    "        if fold: print(f\"Training Fold {fold}...\")\n",
    "        else: print(\"Training ...\")\n",
    "        breaker()\n",
    "        \n",
    "    bestLoss: dict = {\"train\" : np.inf, \"valid\" : np.inf} \n",
    "    bestAccs: dict = {\"train\" : 0.0, \"valid\" : 0.0}\n",
    "        \n",
    "    Losses: list = []\n",
    "    Accuracies: list = [] \n",
    "    LRs: list = []\n",
    "        \n",
    "    if fold: \n",
    "        ble_name = f\"ble_state_fold_{fold}.pt\"\n",
    "        bae_name = f\"bae_state_fold_{fold}.pt\"\n",
    "    else: \n",
    "        ble_name = f\"ble_state.pt\"\n",
    "        bae_name = f\"bae_state.pt\"\n",
    "    \n",
    "    start_time = time()\n",
    "    for e in range(epochs):\n",
    "        e_st = time()\n",
    "        epochLoss: dict = {\"train\" : 0.0, \"valid\" : 0.0} \n",
    "        epochAccs: dict = {\"train\" : 0.0, \"valid\" : 0.0}\n",
    "\n",
    "        for phase in [\"train\", \"valid\"]:\n",
    "            if phase == \"train\":\n",
    "                model.train()\n",
    "            else:\n",
    "                model.eval()\n",
    "            \n",
    "            lossPerPass: list = []\n",
    "            accsPerPass: list = []\n",
    "                \n",
    "            for X, y in dataloaders[phase]:\n",
    "                X, y = X.to(device), y.to(device).view(-1)\n",
    "\n",
    "                optimizer.zero_grad()\n",
    "                with torch.set_grad_enabled(phase == \"train\"):\n",
    "                    output = model(X)\n",
    "                    loss = torch.nn.NLLLoss()(output, y)\n",
    "                    if phase == \"train\":\n",
    "                        loss.backward()\n",
    "                        optimizer.step()\n",
    "                        if scheduler_oclr: scheduler_oclr.step()\n",
    "                lossPerPass.append(loss.item())\n",
    "                accsPerPass.append(get_accuracy(output, y))\n",
    "            epochLoss[phase] = np.mean(np.array(lossPerPass))\n",
    "            epochAccs[phase] = np.mean(np.array(accsPerPass))\n",
    "        if scheduler_oclr: LRs.append(scheduler_oclr.get_last_lr())\n",
    "        Losses.append(epochLoss)\n",
    "        Accuracies.append(epochAccs)\n",
    "    \n",
    "        if scheduler_oclr:\n",
    "            save_dict = {\"model_state_dict\"     : model.state_dict(),\n",
    "                         \"optim_state_dict\"     : optimizer.state_dict(),\n",
    "                         \"scheduler_state_dict\" : scheduler_oclr.state_dict()}\n",
    "        \n",
    "        elif scheduler_rlrop:\n",
    "            save_dict = {\"model_state_dict\"     : model.state_dict(),\n",
    "                         \"optim_state_dict\"     : optimizer.state_dict(),\n",
    "                         \"scheduler_state_dict\" : scheduler_rlrop.state_dict()}\n",
    "        \n",
    "        else:\n",
    "            save_dict = {\"model_state_dict\"     : model.state_dict(),\n",
    "                         \"optim_state_dict\"     : optimizer.state_dict()}\n",
    "        \n",
    "        \n",
    "        if early_stopping_patience:\n",
    "            if epochLoss[\"valid\"] < bestLoss[\"valid\"]:\n",
    "                bestLoss = epochLoss\n",
    "                BLE = e + 1\n",
    "                torch.save(save_dict, os.path.join(save_path, ble_name))\n",
    "                torch.save(save_dict, os.path.join(save_path, bae_name))\n",
    "                early_stopping_step = 0\n",
    "            else:\n",
    "                early_stopping_step += 1\n",
    "                if early_stopping_step > early_stopping_patience:\n",
    "                    print(\"\\nEarly Stopping at Epoch {}\".format(e + 1))\n",
    "                    break\n",
    "        \n",
    "        if epochLoss[\"valid\"] < bestLoss[\"valid\"]:\n",
    "            bestLoss = epochLoss\n",
    "            BLE = e + 1\n",
    "            torch.save(save_dict,os.path.join(save_path, ble_name))\n",
    "        \n",
    "        if epochAccs[\"valid\"] > bestAccs[\"valid\"]:\n",
    "            bestAccs = epochAccs\n",
    "            BAE = e + 1\n",
    "            torch.save(save_dict,os.path.join(save_path, bae_name))\n",
    "        \n",
    "        if scheduler_rlrop: scheduler_rlrop.step(epochLoss[\"valid\"])\n",
    "        \n",
    "        if verbose:\n",
    "            print(\"Epoch: {} | Train Loss: {:.5f} | Valid Loss: {:.5f} |\\\n",
    " Train Accs: {:.5f} | Valid Accs: {:.5f} | Time: {:.2f} seconds\".format(e+1, \n",
    "                                                                        epochLoss[\"train\"], epochLoss[\"valid\"], \n",
    "                                                                        epochAccs[\"train\"], epochAccs[\"valid\"], \n",
    "                                                                        time()-e_st))\n",
    "\n",
    "    if verbose:                                           \n",
    "        breaker()\n",
    "        print(f\"Best Validation Loss at Epoch {BLE}\")\n",
    "        breaker()\n",
    "        print(f\"Best Validation Accs at Epoch {BAE}\")\n",
    "        breaker()\n",
    "        print(\"Time Taken [{} Epochs] : {:.2f} minutes\".format(len(Losses), (time()-start_time)/60))\n",
    "    \n",
    "    return Losses, Accuracies, LRs, bestLoss, bestAccs, BLE, BAE, ble_name, bae_name\n",
    "\n",
    "\n",
    "def predict_batch(model=None, dataloader=None, path=None, device=None) -> np.ndarray:\n",
    "    model.load_state_dict(torch.load(path, map_location=device)[\"model_state_dict\"])\n",
    "    model.to(device)    \n",
    "    model.eval()\n",
    "    \n",
    "    y_pred = torch.zeros(1, 1).to(device)\n",
    "    \n",
    "    for X in dataloader:\n",
    "        X = X.to(device)\n",
    "        with torch.no_grad():\n",
    "            output = torch.argmax(torch.exp(model(X)), dim=1)\n",
    "        y_pred = torch.cat((y_pred, output.view(-1, 1)), dim=0)\n",
    "    \n",
    "    return y_pred[1:].detach().cpu().numpy()"
   ]
  },
  {
   "cell_type": "markdown",
   "id": "7e8ea8c9",
   "metadata": {
    "papermill": {
     "duration": 0.003988,
     "end_time": "2022-10-13T13:22:00.966715",
     "exception": false,
     "start_time": "2022-10-13T13:22:00.962727",
     "status": "completed"
    },
    "tags": []
   },
   "source": [
    "### **Train**"
   ]
  },
  {
   "cell_type": "code",
   "execution_count": 8,
   "id": "13ed26cf",
   "metadata": {
    "execution": {
     "iopub.execute_input": "2022-10-13T13:22:00.977109Z",
     "iopub.status.busy": "2022-10-13T13:22:00.976293Z",
     "iopub.status.idle": "2022-10-13T13:22:01.030723Z",
     "shell.execute_reply": "2022-10-13T13:22:01.029904Z"
    },
    "papermill": {
     "duration": 0.061777,
     "end_time": "2022-10-13T13:22:01.032706",
     "exception": false,
     "start_time": "2022-10-13T13:22:00.970929",
     "status": "completed"
    },
    "tags": []
   },
   "outputs": [],
   "source": [
    "tr_df = pd.read_csv(\"../input/dep-dataframe/train.csv\")\n",
    "\n",
    "filepaths = tr_df.filepaths.copy().values\n",
    "labels = tr_df.labels.copy().values"
   ]
  },
  {
   "cell_type": "code",
   "execution_count": 9,
   "id": "5df424c4",
   "metadata": {
    "execution": {
     "iopub.execute_input": "2022-10-13T13:22:01.042811Z",
     "iopub.status.busy": "2022-10-13T13:22:01.042269Z",
     "iopub.status.idle": "2022-10-13T16:12:09.215468Z",
     "shell.execute_reply": "2022-10-13T16:12:09.214200Z"
    },
    "papermill": {
     "duration": 10208.18048,
     "end_time": "2022-10-13T16:12:09.217469",
     "exception": false,
     "start_time": "2022-10-13T13:22:01.036989",
     "status": "completed"
    },
    "tags": []
   },
   "outputs": [
    {
     "name": "stderr",
     "output_type": "stream",
     "text": [
      "Downloading: \"https://github.com/rwightman/pytorch-image-models/releases/download/v0.1-weights/efficientnet_b4_ra2_320-7eb33cd5.pth\" to /root/.cache/torch/hub/checkpoints/efficientnet_b4_ra2_320-7eb33cd5.pth\n"
     ]
    },
    {
     "name": "stdout",
     "output_type": "stream",
     "text": [
      "\n",
      "**************************************************\n",
      "\n",
      "Training Fold 1...\n",
      "\n",
      "**************************************************\n",
      "\n",
      "Epoch: 1 | Train Loss: 1.36776 | Valid Loss: 1.32196 | Train Accs: 0.30895 | Valid Accs: 0.39531 | Time: 303.72 seconds\n",
      "Epoch: 2 | Train Loss: 1.20710 | Valid Loss: 1.07254 | Train Accs: 0.48031 | Valid Accs: 0.55322 | Time: 218.57 seconds\n",
      "Epoch: 3 | Train Loss: 1.05844 | Valid Loss: 1.02731 | Train Accs: 0.56113 | Valid Accs: 0.58404 | Time: 218.12 seconds\n",
      "Epoch: 4 | Train Loss: 0.99188 | Valid Loss: 1.03733 | Train Accs: 0.59639 | Valid Accs: 0.57936 | Time: 216.55 seconds\n",
      "Epoch: 5 | Train Loss: 0.92696 | Valid Loss: 1.07741 | Train Accs: 0.62617 | Valid Accs: 0.57371 | Time: 216.62 seconds\n",
      "Epoch: 6 | Train Loss: 0.84551 | Valid Loss: 1.12830 | Train Accs: 0.66322 | Valid Accs: 0.55595 | Time: 216.64 seconds\n",
      "Epoch: 7 | Train Loss: 0.73492 | Valid Loss: 1.35972 | Train Accs: 0.71377 | Valid Accs: 0.53756 | Time: 216.60 seconds\n",
      "Epoch: 8 | Train Loss: 0.64254 | Valid Loss: 1.36559 | Train Accs: 0.74980 | Valid Accs: 0.54159 | Time: 216.16 seconds\n",
      "\n",
      "Early Stopping at Epoch 9\n",
      "\n",
      "**************************************************\n",
      "\n",
      "Best Validation Loss at Epoch 3\n",
      "\n",
      "**************************************************\n",
      "\n",
      "Best Validation Accs at Epoch 3\n",
      "\n",
      "**************************************************\n",
      "\n",
      "Time Taken [9 Epochs] : 33.98 minutes\n",
      "\n",
      "**************************************************\n",
      "\n"
     ]
    },
    {
     "data": {
      "image/png": "[encoded data removed]",
      "text/plain": [
       "<Figure size 432x288 with 1 Axes>"
      ]
     },
     "metadata": {
      "needs_background": "light"
     },
     "output_type": "display_data"
    },
    {
     "name": "stdout",
     "output_type": "stream",
     "text": [
      "\n",
      "**************************************************\n",
      "\n"
     ]
    },
    {
     "data": {
      "image/png": "[encoded data removed]",
      "text/plain": [
       "<Figure size 432x288 with 1 Axes>"
      ]
     },
     "metadata": {
      "needs_background": "light"
     },
     "output_type": "display_data"
    },
    {
     "name": "stdout",
     "output_type": "stream",
     "text": [
      "\n",
      "**************************************************\n",
      "\n"
     ]
    },
    {
     "data": {
      "image/png": "[encoded data removed]",
      "text/plain": [
       "<Figure size 576x432 with 1 Axes>"
      ]
     },
     "metadata": {
      "needs_background": "light"
     },
     "output_type": "display_data"
    },
    {
     "name": "stdout",
     "output_type": "stream",
     "text": [
      "\n",
      "**************************************************\n",
      "\n",
      "\n",
      "**************************************************\n",
      "\n",
      "Training Fold 2...\n",
      "\n",
      "**************************************************\n",
      "\n",
      "Epoch: 1 | Train Loss: 1.36638 | Valid Loss: 1.32435 | Train Accs: 0.30933 | Valid Accs: 0.41576 | Time: 214.75 seconds\n",
      "Epoch: 2 | Train Loss: 1.20941 | Valid Loss: 1.08401 | Train Accs: 0.47780 | Valid Accs: 0.54429 | Time: 214.84 seconds\n",
      "Epoch: 3 | Train Loss: 1.06111 | Valid Loss: 1.06047 | Train Accs: 0.55931 | Valid Accs: 0.57348 | Time: 214.46 seconds\n",
      "Epoch: 4 | Train Loss: 0.99417 | Valid Loss: 1.05177 | Train Accs: 0.58960 | Valid Accs: 0.56284 | Time: 214.07 seconds\n",
      "Epoch: 5 | Train Loss: 0.92721 | Valid Loss: 1.10233 | Train Accs: 0.61774 | Valid Accs: 0.57076 | Time: 213.31 seconds\n",
      "Epoch: 6 | Train Loss: 0.83941 | Valid Loss: 1.14738 | Train Accs: 0.66947 | Valid Accs: 0.56558 | Time: 212.90 seconds\n",
      "Epoch: 7 | Train Loss: 0.74442 | Valid Loss: 1.31453 | Train Accs: 0.70698 | Valid Accs: 0.53443 | Time: 213.82 seconds\n",
      "Epoch: 8 | Train Loss: 0.64678 | Valid Loss: 1.45746 | Train Accs: 0.75186 | Valid Accs: 0.55005 | Time: 212.93 seconds\n",
      "Epoch: 9 | Train Loss: 0.52548 | Valid Loss: 1.59537 | Train Accs: 0.79738 | Valid Accs: 0.54497 | Time: 210.73 seconds\n",
      "\n",
      "Early Stopping at Epoch 10\n",
      "\n",
      "**************************************************\n",
      "\n",
      "Best Validation Loss at Epoch 4\n",
      "\n",
      "**************************************************\n",
      "\n",
      "Best Validation Accs at Epoch 3\n",
      "\n",
      "**************************************************\n",
      "\n",
      "Time Taken [10 Epochs] : 35.54 minutes\n",
      "\n",
      "**************************************************\n",
      "\n"
     ]
    },
    {
     "data": {
      "image/png": "[encoded data removed]",
      "text/plain": [
       "<Figure size 432x288 with 1 Axes>"
      ]
     },
     "metadata": {
      "needs_background": "light"
     },
     "output_type": "display_data"
    },
    {
     "name": "stdout",
     "output_type": "stream",
     "text": [
      "\n",
      "**************************************************\n",
      "\n"
     ]
    },
    {
     "data": {
      "image/png": "[encoded data removed]",
      "text/plain": [
       "<Figure size 432x288 with 1 Axes>"
      ]
     },
     "metadata": {
      "needs_background": "light"
     },
     "output_type": "display_data"
    },
    {
     "name": "stdout",
     "output_type": "stream",
     "text": [
      "\n",
      "**************************************************\n",
      "\n"
     ]
    },
    {
     "data": {
      "image/png": "[encoded data removed]",
      "text/plain": [
       "<Figure size 576x432 with 1 Axes>"
      ]
     },
     "metadata": {
      "needs_background": "light"
     },
     "output_type": "display_data"
    },
    {
     "name": "stdout",
     "output_type": "stream",
     "text": [
      "\n",
      "**************************************************\n",
      "\n",
      "\n",
      "**************************************************\n",
      "\n",
      "Training Fold 3...\n",
      "\n",
      "**************************************************\n",
      "\n",
      "Epoch: 1 | Train Loss: 1.36873 | Valid Loss: 1.32333 | Train Accs: 0.31091 | Valid Accs: 0.38743 | Time: 213.09 seconds\n",
      "Epoch: 2 | Train Loss: 1.21125 | Valid Loss: 1.07563 | Train Accs: 0.47995 | Valid Accs: 0.54889 | Time: 215.02 seconds\n",
      "Epoch: 3 | Train Loss: 1.05837 | Valid Loss: 1.05743 | Train Accs: 0.56040 | Valid Accs: 0.56716 | Time: 215.26 seconds\n",
      "Epoch: 4 | Train Loss: 0.98670 | Valid Loss: 1.04402 | Train Accs: 0.59701 | Valid Accs: 0.56989 | Time: 212.99 seconds\n",
      "Epoch: 5 | Train Loss: 0.92756 | Valid Loss: 1.05503 | Train Accs: 0.62366 | Valid Accs: 0.56148 | Time: 211.78 seconds\n",
      "Epoch: 6 | Train Loss: 0.84073 | Valid Loss: 1.13732 | Train Accs: 0.66429 | Valid Accs: 0.56461 | Time: 212.95 seconds\n",
      "Epoch: 7 | Train Loss: 0.74163 | Valid Loss: 1.20269 | Train Accs: 0.70989 | Valid Accs: 0.55690 | Time: 211.18 seconds\n",
      "Epoch: 8 | Train Loss: 0.65182 | Valid Loss: 1.44401 | Train Accs: 0.75207 | Valid Accs: 0.53375 | Time: 211.68 seconds\n",
      "Epoch: 9 | Train Loss: 0.55057 | Valid Loss: 1.49347 | Train Accs: 0.79290 | Valid Accs: 0.53834 | Time: 215.03 seconds\n",
      "\n",
      "Early Stopping at Epoch 10\n",
      "\n",
      "**************************************************\n",
      "\n",
      "Best Validation Loss at Epoch 4\n",
      "\n",
      "**************************************************\n",
      "\n",
      "Best Validation Accs at Epoch 4\n",
      "\n",
      "**************************************************\n",
      "\n",
      "Time Taken [10 Epochs] : 35.58 minutes\n",
      "\n",
      "**************************************************\n",
      "\n"
     ]
    },
    {
     "data": {
      "image/png": "[encoded data removed]",
      "text/plain": [
       "<Figure size 432x288 with 1 Axes>"
      ]
     },
     "metadata": {
      "needs_background": "light"
     },
     "output_type": "display_data"
    },
    {
     "name": "stdout",
     "output_type": "stream",
     "text": [
      "\n",
      "**************************************************\n",
      "\n"
     ]
    },
    {
     "data": {
      "image/png": "[encoded data removed]",
      "text/plain": [
       "<Figure size 432x288 with 1 Axes>"
      ]
     },
     "metadata": {
      "needs_background": "light"
     },
     "output_type": "display_data"
    },
    {
     "name": "stdout",
     "output_type": "stream",
     "text": [
      "\n",
      "**************************************************\n",
      "\n"
     ]
    },
    {
     "data": {
      "image/png": "[encoded data removed]",
      "text/plain": [
       "<Figure size 576x432 with 1 Axes>"
      ]
     },
     "metadata": {
      "needs_background": "light"
     },
     "output_type": "display_data"
    },
    {
     "name": "stdout",
     "output_type": "stream",
     "text": [
      "\n",
      "**************************************************\n",
      "\n",
      "\n",
      "**************************************************\n",
      "\n",
      "Training Fold 4...\n",
      "\n",
      "**************************************************\n",
      "\n",
      "Epoch: 1 | Train Loss: 1.36836 | Valid Loss: 1.32178 | Train Accs: 0.30727 | Valid Accs: 0.39389 | Time: 216.86 seconds\n",
      "Epoch: 2 | Train Loss: 1.21204 | Valid Loss: 1.04204 | Train Accs: 0.47563 | Valid Accs: 0.57310 | Time: 219.29 seconds\n",
      "Epoch: 3 | Train Loss: 1.06263 | Valid Loss: 1.01727 | Train Accs: 0.55519 | Valid Accs: 0.58208 | Time: 220.05 seconds\n",
      "Epoch: 4 | Train Loss: 0.99262 | Valid Loss: 1.03307 | Train Accs: 0.59201 | Valid Accs: 0.57213 | Time: 215.90 seconds\n",
      "Epoch: 5 | Train Loss: 0.92996 | Valid Loss: 1.05623 | Train Accs: 0.62338 | Valid Accs: 0.55815 | Time: 218.71 seconds\n",
      "Epoch: 6 | Train Loss: 0.84992 | Valid Loss: 1.08873 | Train Accs: 0.66323 | Valid Accs: 0.57124 | Time: 215.13 seconds\n",
      "Epoch: 7 | Train Loss: 0.74835 | Valid Loss: 1.22135 | Train Accs: 0.70775 | Valid Accs: 0.56890 | Time: 214.99 seconds\n",
      "Epoch: 8 | Train Loss: 0.64016 | Valid Loss: 1.39281 | Train Accs: 0.75131 | Valid Accs: 0.52905 | Time: 214.24 seconds\n",
      "\n",
      "Early Stopping at Epoch 9\n",
      "\n",
      "**************************************************\n",
      "\n",
      "Best Validation Loss at Epoch 3\n",
      "\n",
      "**************************************************\n",
      "\n",
      "Best Validation Accs at Epoch 3\n",
      "\n",
      "**************************************************\n",
      "\n",
      "Time Taken [9 Epochs] : 32.48 minutes\n",
      "\n",
      "**************************************************\n",
      "\n"
     ]
    },
    {
     "data": {
      "image/png": "[encoded data removed]",
      "text/plain": [
       "<Figure size 432x288 with 1 Axes>"
      ]
     },
     "metadata": {
      "needs_background": "light"
     },
     "output_type": "display_data"
    },
    {
     "name": "stdout",
     "output_type": "stream",
     "text": [
      "\n",
      "**************************************************\n",
      "\n"
     ]
    },
    {
     "data": {
      "image/png": "[encoded data removed]",
      "text/plain": [
       "<Figure size 432x288 with 1 Axes>"
      ]
     },
     "metadata": {
      "needs_background": "light"
     },
     "output_type": "display_data"
    },
    {
     "name": "stdout",
     "output_type": "stream",
     "text": [
      "\n",
      "**************************************************\n",
      "\n"
     ]
    },
    {
     "data": {
      "image/png": "[encoded data removed]",
      "text/plain": [
       "<Figure size 576x432 with 1 Axes>"
      ]
     },
     "metadata": {
      "needs_background": "light"
     },
     "output_type": "display_data"
    },
    {
     "name": "stdout",
     "output_type": "stream",
     "text": [
      "\n",
      "**************************************************\n",
      "\n",
      "\n",
      "**************************************************\n",
      "\n",
      "Training Fold 5...\n",
      "\n",
      "**************************************************\n",
      "\n",
      "Epoch: 1 | Train Loss: 1.36912 | Valid Loss: 1.32081 | Train Accs: 0.29954 | Valid Accs: 0.39076 | Time: 214.15 seconds\n",
      "Epoch: 2 | Train Loss: 1.21343 | Valid Loss: 1.09131 | Train Accs: 0.46967 | Valid Accs: 0.55221 | Time: 216.88 seconds\n",
      "Epoch: 3 | Train Loss: 1.06906 | Valid Loss: 1.03761 | Train Accs: 0.55180 | Valid Accs: 0.58395 | Time: 221.41 seconds\n",
      "Epoch: 4 | Train Loss: 0.99682 | Valid Loss: 1.03932 | Train Accs: 0.58756 | Valid Accs: 0.56510 | Time: 214.06 seconds\n",
      "Epoch: 5 | Train Loss: 0.92986 | Valid Loss: 1.09705 | Train Accs: 0.62818 | Valid Accs: 0.56500 | Time: 214.11 seconds\n",
      "Epoch: 6 | Train Loss: 0.83880 | Valid Loss: 1.18896 | Train Accs: 0.66585 | Valid Accs: 0.54829 | Time: 215.53 seconds\n",
      "Epoch: 7 | Train Loss: 0.73810 | Valid Loss: 1.19593 | Train Accs: 0.71039 | Valid Accs: 0.55523 | Time: 214.15 seconds\n",
      "Epoch: 8 | Train Loss: 0.64667 | Valid Loss: 1.32541 | Train Accs: 0.74866 | Valid Accs: 0.56021 | Time: 214.90 seconds\n",
      "\n",
      "Early Stopping at Epoch 9\n",
      "\n",
      "**************************************************\n",
      "\n",
      "Best Validation Loss at Epoch 3\n",
      "\n",
      "**************************************************\n",
      "\n",
      "Best Validation Accs at Epoch 3\n",
      "\n",
      "**************************************************\n",
      "\n",
      "Time Taken [9 Epochs] : 32.39 minutes\n",
      "\n",
      "**************************************************\n",
      "\n"
     ]
    },
    {
     "data": {
      "image/png": "[encoded data removed]",
      "text/plain": [
       "<Figure size 432x288 with 1 Axes>"
      ]
     },
     "metadata": {
      "needs_background": "light"
     },
     "output_type": "display_data"
    },
    {
     "name": "stdout",
     "output_type": "stream",
     "text": [
      "\n",
      "**************************************************\n",
      "\n"
     ]
    },
    {
     "data": {
      "image/png": "[encoded data removed]",
      "text/plain": [
       "<Figure size 432x288 with 1 Axes>"
      ]
     },
     "metadata": {
      "needs_background": "light"
     },
     "output_type": "display_data"
    },
    {
     "name": "stdout",
     "output_type": "stream",
     "text": [
      "\n",
      "**************************************************\n",
      "\n"
     ]
    },
    {
     "data": {
      "image/png": "[encoded data removed]",
      "text/plain": [
       "<Figure size 576x432 with 1 Axes>"
      ]
     },
     "metadata": {
      "needs_background": "light"
     },
     "output_type": "display_data"
    },
    {
     "name": "stdout",
     "output_type": "stream",
     "text": [
      "\n",
      "**************************************************\n",
      "\n"
     ]
    }
   ],
   "source": [
    "fold: int = 1\n",
    "BLs: list = []\n",
    "BAs: list = []\n",
    "\n",
    "# # Test \n",
    "# cfg.epochs = 2\n",
    "# cfg.n_splits = 3\n",
    "\n",
    "cfg.batch_size = 64\n",
    "    \n",
    "for tr_idx, va_idx in StratifiedKFold(n_splits=cfg.n_splits, random_state=cfg.seed, shuffle=True).split(filepaths, labels):\n",
    "\n",
    "    tr_filepaths, va_filepaths = filepaths[tr_idx], filepaths[va_idx] \n",
    "    tr_labels, va_labels       = labels[tr_idx], labels[va_idx]\n",
    "    \n",
    "    tr_data_setup = DS(\n",
    "        filepaths=tr_filepaths, \n",
    "        labels=tr_labels.reshape(-1, 1),\n",
    "        size=cfg.size,\n",
    "        transform=cfg.train_transform\n",
    "    )\n",
    "    \n",
    "    va_data_setup = DS(\n",
    "        filepaths=va_filepaths, \n",
    "        labels=va_labels.reshape(-1, 1),\n",
    "        size=cfg.size,\n",
    "        transform=cfg.valid_transform\n",
    "    )\n",
    "\n",
    "    dataloaders = {\n",
    "        \"train\" : DL(tr_data_setup, batch_size=cfg.batch_size, shuffle=True, generator=torch.manual_seed(cfg.seed)),\n",
    "        \"valid\" : DL(va_data_setup, batch_size=cfg.batch_size, shuffle=False),\n",
    "    }\n",
    "\n",
    "    cfg.steps_per_epoch = len(dataloaders[\"train\"])\n",
    "    \n",
    "    torch.manual_seed(cfg.seed)\n",
    "    model = Model().to(cfg.device)\n",
    "\n",
    "    optimizer = optim.Adam([p for p in model.parameters() if p.requires_grad], lr=cfg.lr, weight_decay=cfg.wd)\n",
    "    # optimizer = optim.AdamW([p for p in model.parameters() if p.requires_grad], lr=cfg.lr, weight_decay=cfg.wd)\n",
    "    # optimizer = optim.SGD([p for p in model.parameters() if p.requires_grad], lr=cfg.lr, weight_decay=cfg.wd, momentum=0.9)\n",
    "    \n",
    "    scheduler_oclr = optim.lr_scheduler.OneCycleLR(\n",
    "        optimizer=optimizer, \n",
    "        max_lr=cfg.max_lr, \n",
    "        epochs=cfg.epochs, \n",
    "        steps_per_epoch=cfg.steps_per_epoch,\n",
    "        pct_start=cfg.pct_start, \n",
    "        div_factor=cfg.div_factor, \n",
    "        final_div_factor=cfg.final_div_factor\n",
    "    )\n",
    "\n",
    "    # scheduler_rlrop = optim.lr_scheduler.ReduceLROnPlateau(\n",
    "    #     optimizer=optimizer,\n",
    "    #     patience=cfg.patience,\n",
    "    #     eps=cfg.eps,\n",
    "    #     verbose=True\n",
    "    # )\n",
    "\n",
    "    # scheduler_oclr = None\n",
    "    scheduler_rlrop = None\n",
    "    \n",
    "    L, A, LR, BL, BA, _, _, _, _ = fit(\n",
    "        model=model, \n",
    "        optimizer=optimizer, \n",
    "        scheduler_oclr=scheduler_oclr,\n",
    "        scheduler_rlrop=scheduler_rlrop,\n",
    "        epochs=cfg.epochs, \n",
    "        early_stopping_patience=cfg.early_stopping, \n",
    "        dataloaders=dataloaders, \n",
    "        device=cfg.device,\n",
    "        save_path=cfg.save_path,\n",
    "        fold=fold,\n",
    "        verbose=True\n",
    "    )\n",
    "    \n",
    "    breaker()\n",
    "    show_loss_graphs(L)\n",
    "    breaker()\n",
    "    show_accuracy_graphs(A)\n",
    "    breaker()\n",
    "    if scheduler_oclr:\n",
    "        show_lr_graph(LR)\n",
    "        breaker()\n",
    "    \n",
    "    BLs.append(BL)\n",
    "    BAs.append(BA)\n",
    "    \n",
    "    fold += 1"
   ]
  },
  {
   "cell_type": "markdown",
   "id": "e5906899",
   "metadata": {
    "papermill": {
     "duration": 0.011164,
     "end_time": "2022-10-13T16:12:09.240608",
     "exception": false,
     "start_time": "2022-10-13T16:12:09.229444",
     "status": "completed"
    },
    "tags": []
   },
   "source": [
    "### **Best Model**"
   ]
  },
  {
   "cell_type": "code",
   "execution_count": 10,
   "id": "93a51c73",
   "metadata": {
    "execution": {
     "iopub.execute_input": "2022-10-13T16:12:09.264886Z",
     "iopub.status.busy": "2022-10-13T16:12:09.263990Z",
     "iopub.status.idle": "2022-10-13T16:12:09.273002Z",
     "shell.execute_reply": "2022-10-13T16:12:09.272082Z"
    },
    "papermill": {
     "duration": 0.023212,
     "end_time": "2022-10-13T16:12:09.274974",
     "exception": false,
     "start_time": "2022-10-13T16:12:09.251762",
     "status": "completed"
    },
    "tags": []
   },
   "outputs": [
    {
     "name": "stdout",
     "output_type": "stream",
     "text": [
      "\n",
      "**************************************************\n",
      "\n",
      "Best Loss Model Fold     : 4\n",
      "Best Accuracy Model Fold : 1\n",
      "\n",
      "**************************************************\n",
      "\n"
     ]
    }
   ],
   "source": [
    "BL = np.inf\n",
    "for i in range(len(BLs)):\n",
    "    if BLs[i][\"valid\"] < BL:\n",
    "        BL = BLs[i][\"valid\"]\n",
    "        best_loss_index = i\n",
    "\n",
    "        \n",
    "BA = 0.0\n",
    "for i in range(len(BAs)):\n",
    "    if BAs[i][\"valid\"] > BA:\n",
    "        BA = BAs[i][\"valid\"]\n",
    "        best_accs_index = i\n",
    "\n",
    "breaker()\n",
    "print(f\"Best Loss Model Fold     : {best_loss_index + 1}\")\n",
    "print(f\"Best Accuracy Model Fold : {best_accs_index + 1}\")\n",
    "breaker()"
   ]
  },
  {
   "cell_type": "markdown",
   "id": "ec40b473",
   "metadata": {
    "papermill": {
     "duration": 0.010882,
     "end_time": "2022-10-13T16:12:09.297349",
     "exception": false,
     "start_time": "2022-10-13T16:12:09.286467",
     "status": "completed"
    },
    "tags": []
   },
   "source": [
    "### **Predictions** "
   ]
  },
  {
   "cell_type": "code",
   "execution_count": 11,
   "id": "85395e9d",
   "metadata": {
    "execution": {
     "iopub.execute_input": "2022-10-13T16:12:09.321754Z",
     "iopub.status.busy": "2022-10-13T16:12:09.321423Z",
     "iopub.status.idle": "2022-10-13T16:13:28.791420Z",
     "shell.execute_reply": "2022-10-13T16:13:28.790266Z"
    },
    "papermill": {
     "duration": 79.497825,
     "end_time": "2022-10-13T16:13:28.806588",
     "exception": false,
     "start_time": "2022-10-13T16:12:09.308763",
     "status": "completed"
    },
    "tags": []
   },
   "outputs": [
    {
     "name": "stdout",
     "output_type": "stream",
     "text": [
      "\n",
      "**************************************************\n",
      "\n",
      "Accuracy : 0.57614\n",
      "\n",
      "**************************************************\n",
      "\n"
     ]
    }
   ],
   "source": [
    "### Mode Ensemble of BLE and BAE\n",
    "\n",
    "ts_df = pd.read_csv(\"../input/dep-dataframe/test.csv\")\n",
    "\n",
    "ts_filepaths = ts_df.filepaths.copy().values\n",
    "ts_labels = ts_df.labels.copy().values\n",
    "\n",
    "ts_data_setup = DS(\n",
    "    filepaths=ts_filepaths, \n",
    "    size=cfg.size,\n",
    "    transform=cfg.valid_transform\n",
    ")\n",
    "\n",
    "ts_data = DL(ts_data_setup, batch_size=cfg.batch_size, shuffle=False)\n",
    "\n",
    "torch.manual_seed(cfg.seed)\n",
    "model = Model().to(cfg.device)\n",
    "\n",
    "y_pred_ble = predict_batch(\n",
    "    model=model,\n",
    "    dataloader=ts_data,\n",
    "    path=f\"saves/ble_state_fold_{best_loss_index + 1}.pt\",\n",
    "    device=cfg.device\n",
    ")\n",
    "\n",
    "y_pred_bae = predict_batch(\n",
    "    model=model,\n",
    "    dataloader=ts_data,\n",
    "    path=f\"saves/bae_state_fold_{best_accs_index + 1}.pt\",\n",
    "    device=cfg.device\n",
    ")\n",
    "\n",
    "y_pred = np.concatenate((y_pred_ble.reshape(1, -1), y_pred_bae.reshape(1, -1)), axis=0)\n",
    "y_pred = stats.mode(y_pred)[0]\n",
    "\n",
    "breaker()\n",
    "print(f\"Accuracy : {accuracy_score(y_pred.reshape(-1), ts_labels.reshape(-1)):.5f}\")\n",
    "breaker()"
   ]
  }
 ],
 "metadata": {
  "kernelspec": {
   "display_name": "Python 3",
   "language": "python",
   "name": "python3"
  },
  "language_info": {
   "codemirror_mode": {
    "name": "ipython",
    "version": 3
   },
   "file_extension": ".py",
   "mimetype": "text/x-python",
   "name": "python",
   "nbconvert_exporter": "python",
   "pygments_lexer": "ipython3",
   "version": "3.7.12"
  },
  "papermill": {
   "default_parameters": {},
   "duration": 10311.949784,
   "end_time": "2022-10-13T16:13:30.563002",
   "environment_variables": {},
   "exception": null,
   "input_path": "__notebook__.ipynb",
   "output_path": "__notebook__.ipynb",
   "parameters": {},
   "start_time": "2022-10-13T13:21:38.613218",
   "version": "2.3.4"
  }
 },
 "nbformat": 4,
 "nbformat_minor": 5
}
