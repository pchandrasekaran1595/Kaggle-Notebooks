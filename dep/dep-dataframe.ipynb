{
 "cells": [
  {
   "cell_type": "code",
   "execution_count": 1,
   "id": "b5f853c0",
   "metadata": {
    "_cell_guid": "b1076dfc-b9ad-4769-8c92-a6c4dae69d19",
    "_uuid": "8f2839f25d086af736a60e9eeb907d3b93b6e0e5",
    "execution": {
     "iopub.execute_input": "2022-10-13T07:03:56.455573Z",
     "iopub.status.busy": "2022-10-13T07:03:56.454606Z",
     "iopub.status.idle": "2022-10-13T07:03:56.468210Z",
     "shell.execute_reply": "2022-10-13T07:03:56.467277Z"
    },
    "papermill": {
     "duration": 0.021266,
     "end_time": "2022-10-13T07:03:56.470620",
     "exception": false,
     "start_time": "2022-10-13T07:03:56.449354",
     "status": "completed"
    },
    "tags": []
   },
   "outputs": [],
   "source": [
    "import os\n",
    "import pandas as pd\n",
    "\n",
    "BASE_PATH: str = \"../input/dog-emotions-prediction/images\""
   ]
  },
  {
   "cell_type": "code",
   "execution_count": 2,
   "id": "a7ab7a9e",
   "metadata": {
    "execution": {
     "iopub.execute_input": "2022-10-13T07:03:56.476609Z",
     "iopub.status.busy": "2022-10-13T07:03:56.475462Z",
     "iopub.status.idle": "2022-10-13T07:03:57.835691Z",
     "shell.execute_reply": "2022-10-13T07:03:57.834346Z"
    },
    "papermill": {
     "duration": 1.366662,
     "end_time": "2022-10-13T07:03:57.839285",
     "exception": false,
     "start_time": "2022-10-13T07:03:56.472623",
     "status": "completed"
    },
    "tags": []
   },
   "outputs": [],
   "source": [
    "df = pd.DataFrame(data=None, columns=[\"filepaths\", \"labels\"])\n",
    "\n",
    "folders: list = sorted(os.listdir(BASE_PATH))\n",
    "filepaths: list = []\n",
    "labels: list = []\n",
    "\n",
    "i: int = 0\n",
    "for folder in folders:\n",
    "    for filename in os.listdir(os.path.join(BASE_PATH, folder)):\n",
    "        filepaths.append(os.path.join(os.path.join(BASE_PATH, folder), filename))\n",
    "        labels.append(i)\n",
    "    i += 1\n",
    "\n",
    "df.filepaths = filepaths\n",
    "df.labels = labels\n",
    "\n",
    "df.to_csv(\"dataframe.csv\", index=False)"
   ]
  }
 ],
 "metadata": {
  "kernelspec": {
   "display_name": "Python 3",
   "language": "python",
   "name": "python3"
  },
  "language_info": {
   "codemirror_mode": {
    "name": "ipython",
    "version": 3
   },
   "file_extension": ".py",
   "mimetype": "text/x-python",
   "name": "python",
   "nbconvert_exporter": "python",
   "pygments_lexer": "ipython3",
   "version": "3.7.12"
  },
  "papermill": {
   "default_parameters": {},
   "duration": 11.300352,
   "end_time": "2022-10-13T07:03:58.563439",
   "environment_variables": {},
   "exception": null,
   "input_path": "__notebook__.ipynb",
   "output_path": "__notebook__.ipynb",
   "parameters": {},
   "start_time": "2022-10-13T07:03:47.263087",
   "version": "2.3.4"
  }
 },
 "nbformat": 4,
 "nbformat_minor": 5
}
