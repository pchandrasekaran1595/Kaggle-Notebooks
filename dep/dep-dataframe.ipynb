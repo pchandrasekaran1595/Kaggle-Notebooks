{
 "cells": [
  {
   "cell_type": "code",
   "execution_count": 1,
   "id": "9c5095d7",
   "metadata": {
    "_cell_guid": "b1076dfc-b9ad-4769-8c92-a6c4dae69d19",
    "_uuid": "8f2839f25d086af736a60e9eeb907d3b93b6e0e5",
    "execution": {
     "iopub.execute_input": "2022-10-13T08:27:07.664101Z",
     "iopub.status.busy": "2022-10-13T08:27:07.662688Z",
     "iopub.status.idle": "2022-10-13T08:27:07.677331Z",
     "shell.execute_reply": "2022-10-13T08:27:07.676337Z"
    },
    "papermill": {
     "duration": 0.026566,
     "end_time": "2022-10-13T08:27:07.681459",
     "exception": false,
     "start_time": "2022-10-13T08:27:07.654893",
     "status": "completed"
    },
    "tags": []
   },
   "outputs": [],
   "source": [
    "import os\n",
    "import random as r\n",
    "import pandas as pd\n",
    "\n",
    "BASE_PATH: str = \"../input/dog-emotions-prediction/images\""
   ]
  },
  {
   "cell_type": "code",
   "execution_count": 2,
   "id": "7fbc1ca6",
   "metadata": {
    "execution": {
     "iopub.execute_input": "2022-10-13T08:27:07.691530Z",
     "iopub.status.busy": "2022-10-13T08:27:07.690505Z",
     "iopub.status.idle": "2022-10-13T08:27:08.184545Z",
     "shell.execute_reply": "2022-10-13T08:27:08.183519Z"
    },
    "papermill": {
     "duration": 0.501327,
     "end_time": "2022-10-13T08:27:08.187123",
     "exception": false,
     "start_time": "2022-10-13T08:27:07.685796",
     "status": "completed"
    },
    "tags": []
   },
   "outputs": [],
   "source": [
    "tr_df = pd.DataFrame(data=None, columns=[\"filepaths\", \"labels\"])\n",
    "ts_df = pd.DataFrame(data=None, columns=[\"filepaths\", \"labels\"])\n",
    "\n",
    "folders: list = sorted(os.listdir(BASE_PATH))\n",
    "filepaths: list = []\n",
    "labels: list = []\n",
    "\n",
    "i: int = 0\n",
    "for folder in folders:\n",
    "    for filename in os.listdir(os.path.join(BASE_PATH, folder)):\n",
    "        filepaths.append(os.path.join(os.path.join(BASE_PATH, folder), filename))\n",
    "        labels.append(i)\n",
    "    i += 1"
   ]
  },
  {
   "cell_type": "code",
   "execution_count": 3,
   "id": "c782f5bb",
   "metadata": {
    "execution": {
     "iopub.execute_input": "2022-10-13T08:27:08.194271Z",
     "iopub.status.busy": "2022-10-13T08:27:08.193825Z",
     "iopub.status.idle": "2022-10-13T08:27:09.527230Z",
     "shell.execute_reply": "2022-10-13T08:27:09.525999Z"
    },
    "papermill": {
     "duration": 1.340082,
     "end_time": "2022-10-13T08:27:09.529819",
     "exception": false,
     "start_time": "2022-10-13T08:27:08.189737",
     "status": "completed"
    },
    "tags": []
   },
   "outputs": [],
   "source": [
    "from sklearn.model_selection import train_test_split\n",
    "\n",
    "tr_filepaths, ts_filepaths, tr_labels, ts_labels = train_test_split(filepaths, labels, test_size=0.2, random_state=42, stratify=labels)\n",
    "\n",
    "tr_df.filepaths = tr_filepaths\n",
    "ts_df.filepaths = ts_filepaths\n",
    "tr_df.labels    = tr_labels\n",
    "ts_df.labels    = ts_labels\n",
    "\n",
    "tr_df.to_csv(\"train.csv\", index=False)\n",
    "ts_df.to_csv(\"test.csv\", index=False)"
   ]
  },
  {
   "cell_type": "code",
   "execution_count": 4,
   "id": "cfaaa210",
   "metadata": {
    "execution": {
     "iopub.execute_input": "2022-10-13T08:27:09.536602Z",
     "iopub.status.busy": "2022-10-13T08:27:09.535754Z",
     "iopub.status.idle": "2022-10-13T08:27:09.552495Z",
     "shell.execute_reply": "2022-10-13T08:27:09.551172Z"
    },
    "papermill": {
     "duration": 0.023051,
     "end_time": "2022-10-13T08:27:09.555320",
     "exception": false,
     "start_time": "2022-10-13T08:27:09.532269",
     "status": "completed"
    },
    "tags": []
   },
   "outputs": [
    {
     "name": "stdout",
     "output_type": "stream",
     "text": [
      "\n",
      "**************************************************\n",
      "\n",
      "Class 0 - 1805\n",
      "Class 1 - 3827\n",
      "Class 2 - 3479\n",
      "Class 3 - 3625\n",
      "\n",
      "**************************************************\n",
      "\n",
      "Class 0 - 451\n",
      "Class 1 - 957\n",
      "Class 2 - 870\n",
      "Class 3 - 907\n",
      "\n",
      "**************************************************\n",
      "\n"
     ]
    }
   ],
   "source": [
    "print(\"\\n\" + 50*\"*\" + \"\\n\")\n",
    "for val in set(tr_df.labels): print(f\"Class {val} - {tr_df[tr_df.labels == val].shape[0]}\")\n",
    "print(\"\\n\" + 50*\"*\" + \"\\n\")\n",
    "for val in set(ts_df.labels): print(f\"Class {val} - {ts_df[ts_df.labels == val].shape[0]}\")\n",
    "print(\"\\n\" + 50*\"*\" + \"\\n\")"
   ]
  },
  {
   "cell_type": "code",
   "execution_count": 5,
   "id": "806da5d5",
   "metadata": {
    "execution": {
     "iopub.execute_input": "2022-10-13T08:27:09.562247Z",
     "iopub.status.busy": "2022-10-13T08:27:09.561768Z",
     "iopub.status.idle": "2022-10-13T08:27:09.567244Z",
     "shell.execute_reply": "2022-10-13T08:27:09.565999Z"
    },
    "papermill": {
     "duration": 0.011705,
     "end_time": "2022-10-13T08:27:09.569564",
     "exception": false,
     "start_time": "2022-10-13T08:27:09.557859",
     "status": "completed"
    },
    "tags": []
   },
   "outputs": [],
   "source": [
    "REFERENCE_LABELS: dict = {\n",
    "    0 : \"angry\",\n",
    "    1 : \"happy\",\n",
    "    2 : \"relaxed\",\n",
    "    3 : \"sad\",\n",
    "}"
   ]
  }
 ],
 "metadata": {
  "kernelspec": {
   "display_name": "Python 3",
   "language": "python",
   "name": "python3"
  },
  "language_info": {
   "codemirror_mode": {
    "name": "ipython",
    "version": 3
   },
   "file_extension": ".py",
   "mimetype": "text/x-python",
   "name": "python",
   "nbconvert_exporter": "python",
   "pygments_lexer": "ipython3",
   "version": "3.7.12"
  },
  "papermill": {
   "default_parameters": {},
   "duration": 12.634616,
   "end_time": "2022-10-13T08:27:10.395222",
   "environment_variables": {},
   "exception": null,
   "input_path": "__notebook__.ipynb",
   "output_path": "__notebook__.ipynb",
   "parameters": {},
   "start_time": "2022-10-13T08:26:57.760606",
   "version": "2.3.4"
  }
 },
 "nbformat": 4,
 "nbformat_minor": 5
}
