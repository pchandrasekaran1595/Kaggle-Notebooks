{
 "cells": [
  {
   "cell_type": "code",
   "execution_count": 1,
   "id": "e51cd347",
   "metadata": {
    "_cell_guid": "b1076dfc-b9ad-4769-8c92-a6c4dae69d19",
    "_uuid": "8f2839f25d086af736a60e9eeb907d3b93b6e0e5",
    "execution": {
     "iopub.execute_input": "2022-10-13T08:35:53.836067Z",
     "iopub.status.busy": "2022-10-13T08:35:53.835004Z",
     "iopub.status.idle": "2022-10-13T08:35:53.848929Z",
     "shell.execute_reply": "2022-10-13T08:35:53.847735Z"
    },
    "papermill": {
     "duration": 0.024673,
     "end_time": "2022-10-13T08:35:53.852248",
     "exception": false,
     "start_time": "2022-10-13T08:35:53.827575",
     "status": "completed"
    },
    "tags": []
   },
   "outputs": [],
   "source": [
    "import os\n",
    "import random as r\n",
    "import pandas as pd\n",
    "\n",
    "BASE_PATH: str = \"../input/dog-emotions-prediction/images\""
   ]
  },
  {
   "cell_type": "code",
   "execution_count": 2,
   "id": "eb09e986",
   "metadata": {
    "execution": {
     "iopub.execute_input": "2022-10-13T08:35:53.860291Z",
     "iopub.status.busy": "2022-10-13T08:35:53.859484Z",
     "iopub.status.idle": "2022-10-13T08:35:54.926600Z",
     "shell.execute_reply": "2022-10-13T08:35:54.925126Z"
    },
    "papermill": {
     "duration": 1.074469,
     "end_time": "2022-10-13T08:35:54.929741",
     "exception": false,
     "start_time": "2022-10-13T08:35:53.855272",
     "status": "completed"
    },
    "tags": []
   },
   "outputs": [],
   "source": [
    "fu_df = pd.DataFrame(data=None, columns=[\"filepaths\", \"labels\"])\n",
    "tr_df = pd.DataFrame(data=None, columns=[\"filepaths\", \"labels\"])\n",
    "ts_df = pd.DataFrame(data=None, columns=[\"filepaths\", \"labels\"])\n",
    "\n",
    "folders: list = sorted(os.listdir(BASE_PATH))\n",
    "filepaths: list = []\n",
    "labels: list = []\n",
    "\n",
    "i: int = 0\n",
    "for folder in folders:\n",
    "    for filename in os.listdir(os.path.join(BASE_PATH, folder)):\n",
    "        filepaths.append(os.path.join(os.path.join(BASE_PATH, folder), filename))\n",
    "        labels.append(i)\n",
    "    i += 1\n",
    "\n",
    "fu_df.filepaths = filepaths\n",
    "fu_df.labels    = labels\n",
    "fu_df.to_csv(\"full.csv\", index=False)"
   ]
  },
  {
   "cell_type": "code",
   "execution_count": 3,
   "id": "0f07a4f3",
   "metadata": {
    "execution": {
     "iopub.execute_input": "2022-10-13T08:35:54.936599Z",
     "iopub.status.busy": "2022-10-13T08:35:54.936144Z",
     "iopub.status.idle": "2022-10-13T08:35:56.217480Z",
     "shell.execute_reply": "2022-10-13T08:35:56.216341Z"
    },
    "papermill": {
     "duration": 1.288173,
     "end_time": "2022-10-13T08:35:56.220672",
     "exception": false,
     "start_time": "2022-10-13T08:35:54.932499",
     "status": "completed"
    },
    "tags": []
   },
   "outputs": [],
   "source": [
    "from sklearn.model_selection import train_test_split\n",
    "\n",
    "tr_filepaths, ts_filepaths, tr_labels, ts_labels = train_test_split(filepaths, labels, test_size=0.2, random_state=42, stratify=labels)\n",
    "\n",
    "tr_df.filepaths = tr_filepaths\n",
    "ts_df.filepaths = ts_filepaths\n",
    "tr_df.labels    = tr_labels\n",
    "ts_df.labels    = ts_labels\n",
    "\n",
    "tr_df.to_csv(\"train.csv\", index=False)\n",
    "ts_df.to_csv(\"test.csv\", index=False)"
   ]
  },
  {
   "cell_type": "code",
   "execution_count": 4,
   "id": "cad63332",
   "metadata": {
    "execution": {
     "iopub.execute_input": "2022-10-13T08:35:56.227130Z",
     "iopub.status.busy": "2022-10-13T08:35:56.226741Z",
     "iopub.status.idle": "2022-10-13T08:35:56.241280Z",
     "shell.execute_reply": "2022-10-13T08:35:56.240174Z"
    },
    "papermill": {
     "duration": 0.020557,
     "end_time": "2022-10-13T08:35:56.243792",
     "exception": false,
     "start_time": "2022-10-13T08:35:56.223235",
     "status": "completed"
    },
    "tags": []
   },
   "outputs": [
    {
     "name": "stdout",
     "output_type": "stream",
     "text": [
      "\n",
      "**************************************************\n",
      "\n",
      "Class 0 - 1805\n",
      "Class 1 - 3827\n",
      "Class 2 - 3479\n",
      "Class 3 - 3625\n",
      "\n",
      "**************************************************\n",
      "\n",
      "Class 0 - 451\n",
      "Class 1 - 957\n",
      "Class 2 - 870\n",
      "Class 3 - 907\n",
      "\n",
      "**************************************************\n",
      "\n"
     ]
    }
   ],
   "source": [
    "print(\"\\n\" + 50*\"*\" + \"\\n\")\n",
    "for val in set(tr_df.labels): print(f\"Class {val} - {tr_df[tr_df.labels == val].shape[0]}\")\n",
    "print(\"\\n\" + 50*\"*\" + \"\\n\")\n",
    "for val in set(ts_df.labels): print(f\"Class {val} - {ts_df[ts_df.labels == val].shape[0]}\")\n",
    "print(\"\\n\" + 50*\"*\" + \"\\n\")"
   ]
  },
  {
   "cell_type": "code",
   "execution_count": 5,
   "id": "af1d6898",
   "metadata": {
    "execution": {
     "iopub.execute_input": "2022-10-13T08:35:56.251184Z",
     "iopub.status.busy": "2022-10-13T08:35:56.249934Z",
     "iopub.status.idle": "2022-10-13T08:35:56.255817Z",
     "shell.execute_reply": "2022-10-13T08:35:56.254681Z"
    },
    "papermill": {
     "duration": 0.011892,
     "end_time": "2022-10-13T08:35:56.258335",
     "exception": false,
     "start_time": "2022-10-13T08:35:56.246443",
     "status": "completed"
    },
    "tags": []
   },
   "outputs": [],
   "source": [
    "REFERENCE_LABELS: dict = {\n",
    "    0 : \"angry\",\n",
    "    1 : \"happy\",\n",
    "    2 : \"relaxed\",\n",
    "    3 : \"sad\",\n",
    "}"
   ]
  }
 ],
 "metadata": {
  "kernelspec": {
   "display_name": "Python 3",
   "language": "python",
   "name": "python3"
  },
  "language_info": {
   "codemirror_mode": {
    "name": "ipython",
    "version": 3
   },
   "file_extension": ".py",
   "mimetype": "text/x-python",
   "name": "python",
   "nbconvert_exporter": "python",
   "pygments_lexer": "ipython3",
   "version": "3.7.12"
  },
  "papermill": {
   "default_parameters": {},
   "duration": 12.525927,
   "end_time": "2022-10-13T08:35:57.083828",
   "environment_variables": {},
   "exception": null,
   "input_path": "__notebook__.ipynb",
   "output_path": "__notebook__.ipynb",
   "parameters": {},
   "start_time": "2022-10-13T08:35:44.557901",
   "version": "2.3.4"
  }
 },
 "nbformat": 4,
 "nbformat_minor": 5
}
