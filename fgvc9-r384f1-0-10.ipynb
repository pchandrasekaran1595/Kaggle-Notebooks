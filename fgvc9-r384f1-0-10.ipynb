{
 "cells": [
  {
   "cell_type": "markdown",
   "id": "a39da73e",
   "metadata": {
    "papermill": {
     "duration": 0.015277,
     "end_time": "2022-03-27T01:18:58.234557",
     "exception": false,
     "start_time": "2022-03-27T01:18:58.219280",
     "status": "completed"
    },
    "tags": []
   },
   "source": [
    "### **Library Imports**"
   ]
  },
  {
   "cell_type": "code",
   "execution_count": 1,
   "id": "f2ec8bd5",
   "metadata": {
    "execution": {
     "iopub.execute_input": "2022-03-27T01:18:58.269660Z",
     "iopub.status.busy": "2022-03-27T01:18:58.268168Z",
     "iopub.status.idle": "2022-03-27T01:19:01.076217Z",
     "shell.execute_reply": "2022-03-27T01:19:01.075624Z",
     "shell.execute_reply.started": "2022-03-22T15:13:33.290481Z"
    },
    "papermill": {
     "duration": 2.825829,
     "end_time": "2022-03-27T01:19:01.076400",
     "exception": false,
     "start_time": "2022-03-27T01:18:58.250571",
     "status": "completed"
    },
    "tags": []
   },
   "outputs": [],
   "source": [
    "import os\n",
    "import re\n",
    "import cv2\n",
    "import torch\n",
    "import pickle\n",
    "import numpy as np\n",
    "import pandas as pd\n",
    "import matplotlib.pyplot as plt\n",
    "\n",
    "from time import time\n",
    "from torch import nn, optim\n",
    "from torch.utils.data import Dataset\n",
    "from torch.utils.data import DataLoader as DL\n",
    "from torch.nn.utils import weight_norm as WN\n",
    "from torchvision import models, transforms\n",
    "\n",
    "from sklearn.model_selection import StratifiedKFold\n",
    "from sklearn.preprocessing import StandardScaler, LabelEncoder"
   ]
  },
  {
   "cell_type": "markdown",
   "id": "8a15bc29",
   "metadata": {
    "papermill": {
     "duration": 0.014469,
     "end_time": "2022-03-27T01:19:01.105710",
     "exception": false,
     "start_time": "2022-03-27T01:19:01.091241",
     "status": "completed"
    },
    "tags": []
   },
   "source": [
    "### **Utilities and Constants**"
   ]
  },
  {
   "cell_type": "code",
   "execution_count": 2,
   "id": "f390ebb7",
   "metadata": {
    "execution": {
     "iopub.execute_input": "2022-03-27T01:19:01.190409Z",
     "iopub.status.busy": "2022-03-27T01:19:01.189633Z",
     "iopub.status.idle": "2022-03-27T01:19:01.193190Z",
     "shell.execute_reply": "2022-03-27T01:19:01.192515Z",
     "shell.execute_reply.started": "2022-03-22T15:13:34.186981Z"
    },
    "papermill": {
     "duration": 0.073663,
     "end_time": "2022-03-27T01:19:01.193346",
     "exception": false,
     "start_time": "2022-03-27T01:19:01.119683",
     "status": "completed"
    },
    "tags": []
   },
   "outputs": [],
   "source": [
    "le = LabelEncoder()\n",
    "\n",
    "SEED = 42\n",
    "SIZE = 384\n",
    "DEVICE = torch.device(\"cuda\" if torch.cuda.is_available() else \"cpu\")\n",
    "\n",
    "TRANSFORM_FINAL = transforms.Compose([transforms.ToTensor(), transforms.Normalize([0.485, 0.456, 0.406], [0.229, 0.224, 0.225])])\n",
    "TRANSFORM = transforms.Compose([transforms.ToTensor(), transforms.Normalize([0.35830, 0.38226, 0.29284], [0.15860, 0.16281, 0.12653])])\n",
    "\n",
    "SAVE_PATH = \"saves\"\n",
    "if not os.path.exists(SAVE_PATH):\n",
    "    os.makedirs(SAVE_PATH)"
   ]
  },
  {
   "cell_type": "code",
   "execution_count": 3,
   "id": "e060e06b",
   "metadata": {
    "execution": {
     "iopub.execute_input": "2022-03-27T01:19:01.233437Z",
     "iopub.status.busy": "2022-03-27T01:19:01.232733Z",
     "iopub.status.idle": "2022-03-27T01:19:01.235226Z",
     "shell.execute_reply": "2022-03-27T01:19:01.234816Z",
     "shell.execute_reply.started": "2022-03-22T15:13:34.217411Z"
    },
    "papermill": {
     "duration": 0.027884,
     "end_time": "2022-03-27T01:19:01.235355",
     "exception": false,
     "start_time": "2022-03-27T01:19:01.207471",
     "status": "completed"
    },
    "tags": []
   },
   "outputs": [],
   "source": [
    "def breaker(num: int = 50, char: str = \"*\") -> None:\n",
    "    print(\"\\n\" + num*char + \"\\n\")\n",
    "\n",
    "\n",
    "def show_graphs(L: list, A: list) -> None:\n",
    "    TL, VL, TA, VA = [], [], [], []\n",
    "    for i in range(len(L)):\n",
    "        TL.append(L[i][\"train\"])\n",
    "        VL.append(L[i][\"valid\"])\n",
    "        TA.append(A[i][\"train\"])\n",
    "        VA.append(A[i][\"valid\"])\n",
    "    x_Axis = np.arange(1, len(TL) + 1)\n",
    "    plt.figure(figsize=(8, 6))\n",
    "    plt.subplot(1, 2, 1)\n",
    "    plt.plot(x_Axis, TL, \"r\", label=\"Train\")\n",
    "    plt.plot(x_Axis, VL, \"b\", label=\"Valid\")\n",
    "    plt.legend()\n",
    "    plt.grid()\n",
    "    plt.title(\"Loss Graph\")\n",
    "    plt.subplot(1, 2, 2)\n",
    "    plt.plot(x_Axis, TA, \"r\", label=\"Train\")\n",
    "    plt.plot(x_Axis, VA, \"b\", label=\"Valid\")\n",
    "    plt.legend()\n",
    "    plt.grid()\n",
    "    plt.title(\"Accuracy Graph\")\n",
    "    plt.show()\n",
    "\n",
    "    \n",
    "# def load_image(path: str, size: int, make_rgb: bool=False) -> np.ndarray:\n",
    "#     image = cv2.imread(path, cv2.IMREAD_COLOR).astype(\"uint8\")\n",
    "#     if make_rgb:\n",
    "#         image = cv2.cvtColor(src=image, code=cv2.COLOR_BGR2RGB)\n",
    "#     image = cv2.resize(src=image, dsize=(size, size), interpolation=cv2.INTER_AREA)\n",
    "#     return image\n",
    "\n",
    "\n",
    "def load_image(path: str, size: int) -> np.ndarray:\n",
    "    image = cv2.imread(path, cv2.IMREAD_COLOR)\n",
    "    image = cv2.cvtColor(src=image, code=cv2.COLOR_BGR2RGB)\n",
    "    image = cv2.resize(src=image, dsize=(size, size), interpolation=cv2.INTER_AREA)\n",
    "    return image\n",
    "\n",
    "\n",
    "def show_image(image: np.ndarray, cmap: str = \"gnuplot2\") -> None:\n",
    "    plt.figure()\n",
    "    plt.imshow(image, cmap=cmap)\n",
    "    plt.axis(\"off\")\n",
    "    plt.show()"
   ]
  },
  {
   "cell_type": "markdown",
   "id": "9a1b8f7c",
   "metadata": {
    "papermill": {
     "duration": 0.013611,
     "end_time": "2022-03-27T01:19:01.262796",
     "exception": false,
     "start_time": "2022-03-27T01:19:01.249185",
     "status": "completed"
    },
    "tags": []
   },
   "source": [
    "### **Dataset Template**"
   ]
  },
  {
   "cell_type": "code",
   "execution_count": 4,
   "id": "8795fcc9",
   "metadata": {
    "execution": {
     "iopub.execute_input": "2022-03-27T01:19:01.299453Z",
     "iopub.status.busy": "2022-03-27T01:19:01.298700Z",
     "iopub.status.idle": "2022-03-27T01:19:01.301026Z",
     "shell.execute_reply": "2022-03-27T01:19:01.300633Z",
     "shell.execute_reply.started": "2022-03-22T15:13:34.245805Z"
    },
    "papermill": {
     "duration": 0.024613,
     "end_time": "2022-03-27T01:19:01.301126",
     "exception": false,
     "start_time": "2022-03-27T01:19:01.276513",
     "status": "completed"
    },
    "tags": []
   },
   "outputs": [],
   "source": [
    "class DS(Dataset):\n",
    "    def __init__(self, base_path: str, filenames: np.ndarray, labels: np.ndarray = None, mode: str = \"train\", transform = None):\n",
    "\n",
    "        assert re.match(r\"^train$\", mode, re.IGNORECASE) or re.match(r\"^valid$\", mode, re.IGNORECASE) or re.match(r\"^test$\", mode, re.IGNORECASE), \"Invalid Mode\"\n",
    "        \n",
    "        self.mode = mode\n",
    "        self.base_path = base_path\n",
    "        self.filenames = filenames\n",
    "        self.transform = transform\n",
    "\n",
    "        if re.match(r\"^train$\", mode, re.IGNORECASE) or re.match(r\"^valid$\", mode, re.IGNORECASE):\n",
    "            self.labels = labels\n",
    "\n",
    "    def __len__(self):\n",
    "        return self.filenames.shape[0]\n",
    "\n",
    "    def __getitem__(self, idx):\n",
    "        image = load_image(os.path.join(self.base_path, self.filenames[idx]), SIZE)\n",
    "        if re.match(r\"^train$\", self.mode, re.IGNORECASE) or re.match(r\"^valid$\", self.mode, re.IGNORECASE):\n",
    "            return self.transform(image), torch.LongTensor(self.labels[idx])\n",
    "        else:\n",
    "            return self.transform(image)"
   ]
  },
  {
   "cell_type": "markdown",
   "id": "40c2fb90",
   "metadata": {
    "papermill": {
     "duration": 0.013589,
     "end_time": "2022-03-27T01:19:01.328419",
     "exception": false,
     "start_time": "2022-03-27T01:19:01.314830",
     "status": "completed"
    },
    "tags": []
   },
   "source": [
    "### **Model**"
   ]
  },
  {
   "cell_type": "code",
   "execution_count": 5,
   "id": "0a817699",
   "metadata": {
    "execution": {
     "iopub.execute_input": "2022-03-27T01:19:01.487415Z",
     "iopub.status.busy": "2022-03-27T01:19:01.478936Z",
     "iopub.status.idle": "2022-03-27T01:19:01.490055Z",
     "shell.execute_reply": "2022-03-27T01:19:01.489284Z",
     "shell.execute_reply.started": "2022-03-22T15:13:34.260152Z"
    },
    "papermill": {
     "duration": 0.148057,
     "end_time": "2022-03-27T01:19:01.490183",
     "exception": false,
     "start_time": "2022-03-27T01:19:01.342126",
     "status": "completed"
    },
    "tags": []
   },
   "outputs": [],
   "source": [
    "class CNN(nn.Module):\n",
    "    def __init__(self, mode: str, model_name: str, out_features: int=100):\n",
    "        \n",
    "        super(CNN, self).__init__()\n",
    "        \n",
    "        self.model_name = model_name\n",
    "        self.mode = mode\n",
    "        \n",
    "        if re.match(r\"^vgg$\", self.model_name, re.IGNORECASE):\n",
    "            if re.match(r\"^full$\", self.mode, re.IGNORECASE):\n",
    "                self.model = models.vgg16_bn(pretrained=False, progress=True)\n",
    "                self.model.classifier[-1] = nn.Linear(in_features=self.model.classifier[-1].in_features, out_features=100)\n",
    "            elif re.match(r\"^semi$\", self.mode, re.IGNORECASE) or re.match(r\"^final$\", self.mode, re.IGNORECASE):\n",
    "                self.model = models.vgg16_bn(pretrained=True, progress=True)\n",
    "                self.freeze()\n",
    "                self.model.classifier[-1] = nn.Linear(in_features=self.model.classifier[-1].in_features, out_features=100)\n",
    "            \n",
    "        elif re.match(r\"^resnet$\", self.model_name, re.IGNORECASE):\n",
    "            if re.match(r\"^full$\", self.mode, re.IGNORECASE):\n",
    "                self.model = models.resnet50(pretrained=False, progress=True)\n",
    "                self.model.fc = nn.Linear(in_features=self.model.fc.in_features, out_features=100)\n",
    "            elif re.match(r\"^semi$\", self.mode, re.IGNORECASE) or re.match(r\"^final$\", self.mode, re.IGNORECASE):\n",
    "                self.model = models.resnet50(pretrained=True, progress=True)\n",
    "                self.freeze()\n",
    "                self.model.fc = nn.Linear(in_features=self.model.fc.in_features, out_features=100)\n",
    "        \n",
    "        elif re.match(r\"^densenet$\", self.model_name, re.IGNORECASE):\n",
    "            if re.match(r\"^full$\", self.mode, re.IGNORECASE):\n",
    "                self.model = models.densenet169(pretrained=False, progress=True)\n",
    "                self.model.classifier = nn.Linear(in_features=self.model.classifier.in_features, out_features=100)\n",
    "            elif re.match(r\"^semi$\", self.mode, re.IGNORECASE) or re.match(r\"^final$\", self.mode, re.IGNORECASE):\n",
    "                self.model = models.densenet169(pretrained=False, progress=True)\n",
    "                self.freeze()\n",
    "                self.model.classifier = nn.Linear(in_features=self.model.classifier.in_features, out_features=100)\n",
    "        \n",
    "        elif re.match(r\"^mobilenet$\", self.model_name, re.IGNORECASE):\n",
    "            if re.match(r\"^full$\", self.mode, re.IGNORECASE):\n",
    "                self.model = models.mobilenet_v3_small(pretrained=False, progress=True)\n",
    "                self.model.classifier[-1] = nn.Linear(in_features=self.model.classifier[-1].in_features, out_features=100)\n",
    "            elif re.match(r\"^semi$\", self.mode, re.IGNORECASE) or re.match(r\"^final$\", self.mode, re.IGNORECASE):\n",
    "                self.model = models.mobilenet_v3_small(pretrained=False, progress=True)\n",
    "                self.freeze()\n",
    "                self.model.classifier[-1] = nn.Linear(in_features=self.model.classifier[-1].in_features, out_features=100)\n",
    "\n",
    "    def freeze(self):\n",
    "        for params in self.parameters():\n",
    "            params.requires_grad = False\n",
    "\n",
    "        if re.match(r\"^vgg$\", self.model_name, re.IGNORECASE):\n",
    "            if re.match(r\"^semi$\", self.mode, re.IGNORECASE):\n",
    "                for names, params in self.named_parameters():\n",
    "                    if re.match(r\".*features.3[4-9].*\", names, re.IGNORECASE) or re.match(r\".*features.4[0-9].*\", names, re.IGNORECASE) or re.match(r\".*classifier.*\", names, re.IGNORECASE):\n",
    "                        params.requires_grad = True\n",
    "        \n",
    "        elif re.match(r\"^resnet$\", self.model_name, re.IGNORECASE):\n",
    "            if re.match(r\"^semi$\", self.mode, re.IGNORECASE):\n",
    "                for names, params in self.named_parameters():\n",
    "                    if re.match(r\".*layer4.*\", names, re.IGNORECASE):\n",
    "                        params.requires_grad = True\n",
    "        \n",
    "        elif re.match(r\"^densenet$\", self.model_name, re.IGNORECASE):\n",
    "            if re.match(r\"^semi$\", self.mode, re.IGNORECASE):\n",
    "                for names, params in self.named_parameters():\n",
    "                    if re.match(r\".*denseblock4.*\", names, re.IGNORECASE) or re.match(r\".*norm5.*\", names, re.IGNORECASE):\n",
    "                        params.requires_grad = True\n",
    "        \n",
    "        elif re.match(r\"^mobilenet$\", self.model_name, re.IGNORECASE):\n",
    "            if re.match(r\"^semi$\", self.mode, re.IGNORECASE):\n",
    "                for names, params in self.named_parameters():\n",
    "                    if re.match(r\".*features.9.*\", names, re.IGNORECASE) or re.match(r\".*features.1[0-2].*\", names, re.IGNORECASE) or re.match(r\".*classifier.*\", names, re.IGNORECASE):\n",
    "                        params.requires_grad = True\n",
    "    \n",
    "    def get_optimizer(self, lr=1e-3, wd=0.0):\n",
    "        params = [p for p in self.parameters() if p.requires_grad]\n",
    "        return optim.Adam(params, lr=lr, weight_decay=wd)\n",
    "\n",
    "    def get_plateau_scheduler(self, optimizer=None, patience=5, eps=1e-8):\n",
    "        return optim.lr_scheduler.ReduceLROnPlateau(optimizer=optimizer, patience=patience, eps=eps)\n",
    "    \n",
    "    def forward(self, x):\n",
    "        return nn.LogSoftmax(dim=1)(self.model(x))"
   ]
  },
  {
   "cell_type": "markdown",
   "id": "7f899167",
   "metadata": {
    "papermill": {
     "duration": 0.01379,
     "end_time": "2022-03-27T01:19:01.518351",
     "exception": false,
     "start_time": "2022-03-27T01:19:01.504561",
     "status": "completed"
    },
    "tags": []
   },
   "source": [
    "### **Fit and Predict Helpers**"
   ]
  },
  {
   "cell_type": "code",
   "execution_count": 6,
   "id": "cfd071b0",
   "metadata": {
    "execution": {
     "iopub.execute_input": "2022-03-27T01:19:01.565891Z",
     "iopub.status.busy": "2022-03-27T01:19:01.565093Z",
     "iopub.status.idle": "2022-03-27T01:19:01.567436Z",
     "shell.execute_reply": "2022-03-27T01:19:01.566897Z",
     "shell.execute_reply.started": "2022-03-22T15:13:34.405944Z"
    },
    "papermill": {
     "duration": 0.035442,
     "end_time": "2022-03-27T01:19:01.567542",
     "exception": false,
     "start_time": "2022-03-27T01:19:01.532100",
     "status": "completed"
    },
    "tags": []
   },
   "outputs": [],
   "source": [
    "def fit(model=None, optimizer=None, scheduler=None, epochs=None, early_stopping_patience=None, dataloaders=None, verbose=False) -> tuple:\n",
    "    \n",
    "    def get_accuracy(y_pred, y_true):\n",
    "        y_pred = torch.argmax(y_pred, dim=1)\n",
    "        return torch.count_nonzero(y_pred == y_true).item() / len(y_pred)\n",
    "    \n",
    "    if verbose:\n",
    "        breaker()\n",
    "        print(f\"Training ...\")\n",
    "        breaker()\n",
    "\n",
    "    bestLoss, bestAccs = {\"train\" : np.inf, \"valid\" : np.inf}, {\"train\" : 0.0, \"valid\" : 0.0}\n",
    "    Losses, Accuracies = [], []\n",
    "    name = f\"state.pt\"\n",
    "\n",
    "    start_time = time()\n",
    "    for e in range(epochs):\n",
    "        e_st = time()\n",
    "        epochLoss, epochAccs = {\"train\" : 0.0, \"valid\" : 0.0}, {\"train\" : 0.0, \"valid\" : 0.0}\n",
    "\n",
    "        for phase in [\"train\", \"valid\"]:\n",
    "            if phase == \"train\":\n",
    "                model.train()\n",
    "            else:\n",
    "                model.eval()\n",
    "            \n",
    "            lossPerPass, accsPerPass = [], []\n",
    "\n",
    "            for X, y in dataloaders[phase]:\n",
    "                X, y = X.to(DEVICE), y.to(DEVICE).view(-1)\n",
    "\n",
    "                optimizer.zero_grad()\n",
    "                with torch.set_grad_enabled(phase == \"train\"):\n",
    "                    output = model(X)\n",
    "                    loss = torch.nn.NLLLoss()(output, y)\n",
    "                    if phase == \"train\":\n",
    "                        loss.backward()\n",
    "                        optimizer.step()\n",
    "                lossPerPass.append(loss.item())\n",
    "                accsPerPass.append(get_accuracy(output, y))\n",
    "            epochLoss[phase] = np.mean(np.array(lossPerPass))\n",
    "            epochAccs[phase] = np.mean(np.array(accsPerPass))\n",
    "        Losses.append(epochLoss)\n",
    "        Accuracies.append(epochAccs)\n",
    "        \n",
    "        if (e + 1) == 25:\n",
    "            torch.save({\"model_state_dict\" : model.state_dict(),\n",
    "                        \"optim_state_dict\" : optimizer.state_dict()},\n",
    "                        os.path.join(SAVE_PATH, f\"{name[:-3]}_{e + 1}.pt\"))\n",
    "\n",
    "        if early_stopping_patience:\n",
    "            if epochLoss[\"valid\"] < bestLoss[\"valid\"]:\n",
    "                bestLoss = epochLoss\n",
    "                BLE = e + 1\n",
    "                torch.save({\"model_state_dict\": model.state_dict(),\n",
    "                            \"optim_state_dict\": optimizer.state_dict()},\n",
    "                           os.path.join(SAVE_PATH, name))\n",
    "                early_stopping_step = 0\n",
    "            else:\n",
    "                early_stopping_step += 1\n",
    "                if early_stopping_step > early_stopping_patience:\n",
    "                    print(\"\\nEarly Stopping at Epoch {}\".format(e + 1))\n",
    "                    break\n",
    "        \n",
    "        if epochLoss[\"valid\"] < bestLoss[\"valid\"]:\n",
    "            bestLoss = epochLoss\n",
    "            BLE = e + 1\n",
    "            torch.save({\"model_state_dict\" : model.state_dict(),\n",
    "                        \"optim_state_dict\" : optimizer.state_dict()},\n",
    "                        os.path.join(SAVE_PATH, name))\n",
    "        \n",
    "        if epochAccs[\"valid\"] > bestAccs[\"valid\"]:\n",
    "            bestAccs = epochAccs\n",
    "            BAE = e + 1\n",
    "        \n",
    "        if scheduler:\n",
    "            scheduler.step(epochLoss[\"valid\"])\n",
    "        \n",
    "        if verbose:\n",
    "            print(\"Epoch: {} | Train Loss: {:.5f} | Valid Loss: {:.5f} |\\\n",
    "Train Accs: {:.5f} | Valid Accs: {:.5f} | Time: {:.2f} seconds\".format(e+1, \n",
    "                                                                       epochLoss[\"train\"], epochLoss[\"valid\"], \n",
    "                                                                       epochAccs[\"train\"], epochAccs[\"valid\"], \n",
    "                                                                       time()-e_st))\n",
    "\n",
    "    if verbose:                                           \n",
    "        breaker()\n",
    "        print(f\"Best Validation Loss at Epoch {BLE}\")\n",
    "        breaker()\n",
    "        print(f\"Best Validation Accs at Epoch {BAE}\")\n",
    "        breaker()\n",
    "        print(\"Time Taken [{} Epochs] : {:.2f} minutes\".format(len(Losses), (time()-start_time)/60))\n",
    "        breaker()\n",
    "        print(\"Training Completed\")\n",
    "        breaker()\n",
    "\n",
    "    return Losses, Accuracies, BLE, BAE, name\n",
    "\n",
    "\n",
    "# def predict(model=None, dataloader=None, path=None) -> np.ndarray:\n",
    "#     model.load_state_dict(torch.load(path, map_location=DEVICE)[\"model_state_dict\"])\n",
    "#     model.to(DEVICE)    \n",
    "#     model.eval()\n",
    "    \n",
    "#     y_pred = torch.zeros(1, 1).to(DEVICE)\n",
    "    \n",
    "#     for X in dataloader:\n",
    "#         X = X.to(DEVICE)\n",
    "#         with torch.no_grad():\n",
    "#             output = torch.argmax(torch.exp(model(X)), dim=1)\n",
    "#         y_pred = torch.cat((y_pred, output.view(-1, 1)), dim=0)\n",
    "    \n",
    "#     return y_pred[1:].detach().cpu().numpy()"
   ]
  },
  {
   "cell_type": "markdown",
   "id": "6d50f9ce",
   "metadata": {
    "papermill": {
     "duration": 0.01355,
     "end_time": "2022-03-27T01:19:01.594904",
     "exception": false,
     "start_time": "2022-03-27T01:19:01.581354",
     "status": "completed"
    },
    "tags": []
   },
   "source": [
    "### **Params**"
   ]
  },
  {
   "cell_type": "code",
   "execution_count": 7,
   "id": "b9bbd0f3",
   "metadata": {
    "execution": {
     "iopub.execute_input": "2022-03-27T01:19:01.628810Z",
     "iopub.status.busy": "2022-03-27T01:19:01.628078Z",
     "iopub.status.idle": "2022-03-27T01:19:01.630033Z",
     "shell.execute_reply": "2022-03-27T01:19:01.630425Z",
     "shell.execute_reply.started": "2022-03-22T15:13:34.429157Z"
    },
    "papermill": {
     "duration": 0.021627,
     "end_time": "2022-03-27T01:19:01.630558",
     "exception": false,
     "start_time": "2022-03-27T01:19:01.608931",
     "status": "completed"
    },
    "tags": []
   },
   "outputs": [],
   "source": [
    "DEBUG: bool = False\n",
    "    \n",
    "if DEBUG:\n",
    "    n_splits = 3\n",
    "    epochs = 2\n",
    "    mode = \"semi\"\n",
    "    model_name = \"mobilenet\"\n",
    "else:\n",
    "    n_splits = 5\n",
    "    epochs = 10\n",
    "    mode = \"semi\"\n",
    "    model_name = \"resnet\"\n",
    "\n",
    "batch_size = 128\n",
    "lr = 1e-6\n",
    "wd = 1e-5\n",
    "early_stopping = 5\n",
    "patience = None\n",
    "eps = None"
   ]
  },
  {
   "cell_type": "markdown",
   "id": "f6cfc1bc",
   "metadata": {
    "papermill": {
     "duration": 0.013546,
     "end_time": "2022-03-27T01:19:01.657913",
     "exception": false,
     "start_time": "2022-03-27T01:19:01.644367",
     "status": "completed"
    },
    "tags": []
   },
   "source": [
    "### **Load & Preprocess Data**"
   ]
  },
  {
   "cell_type": "code",
   "execution_count": 8,
   "id": "c04bbcf3",
   "metadata": {
    "execution": {
     "iopub.execute_input": "2022-03-27T01:19:01.692658Z",
     "iopub.status.busy": "2022-03-27T01:19:01.691991Z",
     "iopub.status.idle": "2022-03-27T01:22:00.809689Z",
     "shell.execute_reply": "2022-03-27T01:22:00.808748Z",
     "shell.execute_reply.started": "2022-03-22T15:13:34.439267Z"
    },
    "papermill": {
     "duration": 179.138144,
     "end_time": "2022-03-27T01:22:00.809844",
     "exception": false,
     "start_time": "2022-03-27T01:19:01.671700",
     "status": "completed"
    },
    "tags": []
   },
   "outputs": [],
   "source": [
    "start_time = time()\n",
    "\n",
    "train_df = pd.read_csv(\"../input/sorghum-id-fgvc-9/train_cultivar_mapping.csv\")\n",
    "\n",
    "broken_images = [filename for filename in train_df.image if filename not in os.listdir(\"../input/sorghum-id-fgvc-9/train_images\")]\n",
    "for broken_image in broken_images:\n",
    "    index = train_df.index[train_df.image == broken_image]\n",
    "    train_df = train_df.drop(index=index)\n",
    "\n",
    "filenames = train_df.iloc[:, 0].copy().values\n",
    "labels = train_df.iloc[:, -1].copy().values"
   ]
  },
  {
   "cell_type": "markdown",
   "id": "21ffd585",
   "metadata": {
    "papermill": {
     "duration": 0.015222,
     "end_time": "2022-03-27T01:22:00.841906",
     "exception": false,
     "start_time": "2022-03-27T01:22:00.826684",
     "status": "completed"
    },
    "tags": []
   },
   "source": [
    "### **Train**"
   ]
  },
  {
   "cell_type": "code",
   "execution_count": 9,
   "id": "814de479",
   "metadata": {
    "execution": {
     "iopub.execute_input": "2022-03-27T01:22:00.882826Z",
     "iopub.status.busy": "2022-03-27T01:22:00.881910Z",
     "iopub.status.idle": "2022-03-27T04:37:54.161156Z",
     "shell.execute_reply": "2022-03-27T04:37:54.160606Z",
     "shell.execute_reply.started": "2022-03-22T15:13:36.405738Z"
    },
    "papermill": {
     "duration": 11753.305002,
     "end_time": "2022-03-27T04:37:54.161894",
     "exception": false,
     "start_time": "2022-03-27T01:22:00.856892",
     "status": "completed"
    },
    "tags": []
   },
   "outputs": [
    {
     "name": "stderr",
     "output_type": "stream",
     "text": [
      "Downloading: \"https://download.pytorch.org/models/resnet50-0676ba61.pth\" to /root/.cache/torch/hub/checkpoints/resnet50-0676ba61.pth\n"
     ]
    },
    {
     "data": {
      "application/vnd.jupyter.widget-view+json": {
       "model_id": "4ee43abce1a94a70996375d9c5975274",
       "version_major": 2,
       "version_minor": 0
      },
      "text/plain": [
       "  0%|          | 0.00/97.8M [00:00<?, ?B/s]"
      ]
     },
     "metadata": {},
     "output_type": "display_data"
    },
    {
     "name": "stdout",
     "output_type": "stream",
     "text": [
      "\n",
      "**************************************************\n",
      "\n",
      "Training ...\n",
      "\n",
      "**************************************************\n",
      "\n",
      "Epoch: 1 | Train Loss: 4.63041 | Valid Loss: 4.61063 |Train Accs: 0.00947 | Valid Accs: 0.01450 | Time: 1148.57 seconds\n",
      "Epoch: 2 | Train Loss: 4.59299 | Valid Loss: 4.57696 |Train Accs: 0.01619 | Valid Accs: 0.02365 | Time: 1166.74 seconds\n",
      "Epoch: 3 | Train Loss: 4.55764 | Valid Loss: 4.54389 |Train Accs: 0.02520 | Valid Accs: 0.03514 | Time: 1177.83 seconds\n",
      "Epoch: 4 | Train Loss: 4.52113 | Valid Loss: 4.50901 |Train Accs: 0.03782 | Valid Accs: 0.04551 | Time: 1176.04 seconds\n",
      "Epoch: 5 | Train Loss: 4.48257 | Valid Loss: 4.47033 |Train Accs: 0.05093 | Valid Accs: 0.05801 | Time: 1177.34 seconds\n",
      "Epoch: 6 | Train Loss: 4.43976 | Valid Loss: 4.42722 |Train Accs: 0.06633 | Valid Accs: 0.06939 | Time: 1180.12 seconds\n",
      "Epoch: 7 | Train Loss: 4.39162 | Valid Loss: 4.37468 |Train Accs: 0.08105 | Valid Accs: 0.08210 | Time: 1185.49 seconds\n",
      "Epoch: 8 | Train Loss: 4.34148 | Valid Loss: 4.32785 |Train Accs: 0.09463 | Valid Accs: 0.08959 | Time: 1179.68 seconds\n",
      "Epoch: 9 | Train Loss: 4.29284 | Valid Loss: 4.28025 |Train Accs: 0.10514 | Valid Accs: 0.10285 | Time: 1177.51 seconds\n",
      "Epoch: 10 | Train Loss: 4.24672 | Valid Loss: 4.23157 |Train Accs: 0.11641 | Valid Accs: 0.11166 | Time: 1172.58 seconds\n",
      "\n",
      "**************************************************\n",
      "\n",
      "Best Validation Loss at Epoch 10\n",
      "\n",
      "**************************************************\n",
      "\n",
      "Best Validation Accs at Epoch 10\n",
      "\n",
      "**************************************************\n",
      "\n",
      "Time Taken [10 Epochs] : 195.70 minutes\n",
      "\n",
      "**************************************************\n",
      "\n",
      "Training Completed\n",
      "\n",
      "**************************************************\n",
      "\n"
     ]
    },
    {
     "data": {
      "image/png": "[encoded data removed]",
      "text/plain": [
       "<Figure size 576x432 with 2 Axes>"
      ]
     },
     "metadata": {
      "needs_background": "light"
     },
     "output_type": "display_data"
    }
   ],
   "source": [
    "for tr_idx, va_idx in StratifiedKFold(n_splits=n_splits, random_state=SEED, shuffle=True).split(filenames, labels):\n",
    "    break\n",
    "\n",
    "tr_filenames, va_filenames, tr_labels, va_labels = filenames[tr_idx], filenames[va_idx], labels[tr_idx], labels[va_idx]\n",
    "\n",
    "tr_labels = le.fit_transform(tr_labels)\n",
    "va_labels = le.transform(va_labels)\n",
    "\n",
    "tr_data_setup = DS(\"../input/sorghum-id-fgvc-9/train_images\", tr_filenames, tr_labels.reshape(-1, 1), \"train\", TRANSFORM)\n",
    "va_data_setup = DS(\"../input/sorghum-id-fgvc-9/train_images\", va_filenames, va_labels.reshape(-1, 1), \"valid\", TRANSFORM)\n",
    "\n",
    "dataloaders = {\n",
    "    \"train\" : DL(tr_data_setup, batch_size=batch_size, shuffle=True, generator=torch.manual_seed(SEED)),\n",
    "    \"valid\" : DL(va_data_setup, batch_size=batch_size, shuffle=False),\n",
    "}\n",
    "\n",
    "torch.manual_seed(SEED)\n",
    "model = CNN(mode=mode, model_name=model_name).to(DEVICE)\n",
    "optimizer = model.get_optimizer(lr=lr, wd=wd)\n",
    "scheduler = None\n",
    "if isinstance(patience, int) and isinstance(eps, float):\n",
    "    scheduler = get_plateau_scheduler(optimizer=optimizer, patience=patience, eps=eps)\n",
    "\n",
    "L, A, BLE, BAE, name = fit(model=model, optimizer=optimizer, scheduler=scheduler, \n",
    "                           epochs=epochs, early_stopping_patience=early_stopping, \n",
    "                           dataloaders=dataloaders, verbose=True)\n",
    "\n",
    "show_graphs(L, A)"
   ]
  },
  {
   "cell_type": "markdown",
   "id": "1a77aae3",
   "metadata": {
    "papermill": {
     "duration": 0.01917,
     "end_time": "2022-03-27T04:37:54.200816",
     "exception": false,
     "start_time": "2022-03-27T04:37:54.181646",
     "status": "completed"
    },
    "tags": []
   },
   "source": [
    "### **Submission**"
   ]
  },
  {
   "cell_type": "code",
   "execution_count": 10,
   "id": "e86fd11a",
   "metadata": {
    "execution": {
     "iopub.execute_input": "2022-03-27T04:37:54.245595Z",
     "iopub.status.busy": "2022-03-27T04:37:54.244040Z",
     "iopub.status.idle": "2022-03-27T04:37:54.246217Z",
     "shell.execute_reply": "2022-03-27T04:37:54.246651Z",
     "shell.execute_reply.started": "2022-03-22T15:15:41.436211Z"
    },
    "papermill": {
     "duration": 0.026887,
     "end_time": "2022-03-27T04:37:54.246774",
     "exception": false,
     "start_time": "2022-03-27T04:37:54.219887",
     "status": "completed"
    },
    "tags": []
   },
   "outputs": [],
   "source": [
    "# ss_df = pd.read_csv(\"../input/sorghum-id-fgvc-9/sample_submission.csv\")\n",
    "# ts_filenames = ss_df.filename.copy().values\n",
    "\n",
    "# ts_data_setup = DS(\"../input/sorghum-id-fgvc-9/test\", ts_filenames, None, \"test\", TRANSFORM)\n",
    "# ts_data = DL(ts_data_setup, batch_size=batch_size, shuffle=False)\n",
    "\n",
    "# y_pred = predict(model=model, dataloader=ts_data, path=\"../saves/state.pt\")\n",
    "\n",
    "# ss_df[\"cultivar\"] = y_pred.astype(\"uint8\")\n",
    "# ss_df.to_csv(\"submission.csv\", index=False)"
   ]
  }
 ],
 "metadata": {
  "kernelspec": {
   "display_name": "Python 3",
   "language": "python",
   "name": "python3"
  },
  "language_info": {
   "codemirror_mode": {
    "name": "ipython",
    "version": 3
   },
   "file_extension": ".py",
   "mimetype": "text/x-python",
   "name": "python",
   "nbconvert_exporter": "python",
   "pygments_lexer": "ipython3",
   "version": "3.7.12"
  },
  "papermill": {
   "default_parameters": {},
   "duration": 11946.991319,
   "end_time": "2022-03-27T04:37:56.999650",
   "environment_variables": {},
   "exception": null,
   "input_path": "__notebook__.ipynb",
   "output_path": "__notebook__.ipynb",
   "parameters": {},
   "start_time": "2022-03-27T01:18:50.008331",
   "version": "2.3.3"
  },
  "widgets": {
   "application/vnd.jupyter.widget-state+json": {
    "state": {
     "1e9bb0da16464d7f8f119bd602c80d84": {
      "model_module": "@jupyter-widgets/base",
      "model_module_version": "1.2.0",
      "model_name": "LayoutModel",
      "state": {
       "_model_module": "@jupyter-widgets/base",
       "_model_module_version": "1.2.0",
       "_model_name": "LayoutModel",
       "_view_count": null,
       "_view_module": "@jupyter-widgets/base",
       "_view_module_version": "1.2.0",
       "_view_name": "LayoutView",
       "align_content": null,
       "align_items": null,
       "align_self": null,
       "border": null,
       "bottom": null,
       "display": null,
       "flex": null,
       "flex_flow": null,
       "grid_area": null,
       "grid_auto_columns": null,
       "grid_auto_flow": null,
       "grid_auto_rows": null,
       "grid_column": null,
       "grid_gap": null,
       "grid_row": null,
       "grid_template_areas": null,
       "grid_template_columns": null,
       "grid_template_rows": null,
       "height": null,
       "justify_content": null,
       "justify_items": null,
       "left": null,
       "margin": null,
       "max_height": null,
       "max_width": null,
       "min_height": null,
       "min_width": null,
       "object_fit": null,
       "object_position": null,
       "order": null,
       "overflow": null,
       "overflow_x": null,
       "overflow_y": null,
       "padding": null,
       "right": null,
       "top": null,
       "visibility": null,
       "width": null
      }
     },
     "28c9db969e0b49f8a3cb0ae01ac72a47": {
      "model_module": "@jupyter-widgets/base",
      "model_module_version": "1.2.0",
      "model_name": "LayoutModel",
      "state": {
       "_model_module": "@jupyter-widgets/base",
       "_model_module_version": "1.2.0",
       "_model_name": "LayoutModel",
       "_view_count": null,
       "_view_module": "@jupyter-widgets/base",
       "_view_module_version": "1.2.0",
       "_view_name": "LayoutView",
       "align_content": null,
       "align_items": null,
       "align_self": null,
       "border": null,
       "bottom": null,
       "display": null,
       "flex": null,
       "flex_flow": null,
       "grid_area": null,
       "grid_auto_columns": null,
       "grid_auto_flow": null,
       "grid_auto_rows": null,
       "grid_column": null,
       "grid_gap": null,
       "grid_row": null,
       "grid_template_areas": null,
       "grid_template_columns": null,
       "grid_template_rows": null,
       "height": null,
       "justify_content": null,
       "justify_items": null,
       "left": null,
       "margin": null,
       "max_height": null,
       "max_width": null,
       "min_height": null,
       "min_width": null,
       "object_fit": null,
       "object_position": null,
       "order": null,
       "overflow": null,
       "overflow_x": null,
       "overflow_y": null,
       "padding": null,
       "right": null,
       "top": null,
       "visibility": null,
       "width": null
      }
     },
     "4261178cdd5d4b09a1e02b6cbd38e3ae": {
      "model_module": "@jupyter-widgets/controls",
      "model_module_version": "1.5.0",
      "model_name": "HTMLModel",
      "state": {
       "_dom_classes": [],
       "_model_module": "@jupyter-widgets/controls",
       "_model_module_version": "1.5.0",
       "_model_name": "HTMLModel",
       "_view_count": null,
       "_view_module": "@jupyter-widgets/controls",
       "_view_module_version": "1.5.0",
       "_view_name": "HTMLView",
       "description": "",
       "description_tooltip": null,
       "layout": "IPY_MODEL_f98d6d49e3c74c3eaa3bbaa7e8a1a42e",
       "placeholder": "​",
       "style": "IPY_MODEL_9017374e9a5840c985174b4e47ccc159",
       "value": "100%"
      }
     },
     "4ee43abce1a94a70996375d9c5975274": {
      "model_module": "@jupyter-widgets/controls",
      "model_module_version": "1.5.0",
      "model_name": "HBoxModel",
      "state": {
       "_dom_classes": [],
       "_model_module": "@jupyter-widgets/controls",
       "_model_module_version": "1.5.0",
       "_model_name": "HBoxModel",
       "_view_count": null,
       "_view_module": "@jupyter-widgets/controls",
       "_view_module_version": "1.5.0",
       "_view_name": "HBoxView",
       "box_style": "",
       "children": [
        "IPY_MODEL_4261178cdd5d4b09a1e02b6cbd38e3ae",
        "IPY_MODEL_f386e036eba044ddb8a34170f99d7a05",
        "IPY_MODEL_c33095ed4b5640f99bb8336932efef2a"
       ],
       "layout": "IPY_MODEL_28c9db969e0b49f8a3cb0ae01ac72a47"
      }
     },
     "57f1309349574835b1ab4ba420118052": {
      "model_module": "@jupyter-widgets/controls",
      "model_module_version": "1.5.0",
      "model_name": "ProgressStyleModel",
      "state": {
       "_model_module": "@jupyter-widgets/controls",
       "_model_module_version": "1.5.0",
       "_model_name": "ProgressStyleModel",
       "_view_count": null,
       "_view_module": "@jupyter-widgets/base",
       "_view_module_version": "1.2.0",
       "_view_name": "StyleView",
       "bar_color": null,
       "description_width": ""
      }
     },
     "644060645bd94de7bca24e7c76badc65": {
      "model_module": "@jupyter-widgets/base",
      "model_module_version": "1.2.0",
      "model_name": "LayoutModel",
      "state": {
       "_model_module": "@jupyter-widgets/base",
       "_model_module_version": "1.2.0",
       "_model_name": "LayoutModel",
       "_view_count": null,
       "_view_module": "@jupyter-widgets/base",
       "_view_module_version": "1.2.0",
       "_view_name": "LayoutView",
       "align_content": null,
       "align_items": null,
       "align_self": null,
       "border": null,
       "bottom": null,
       "display": null,
       "flex": null,
       "flex_flow": null,
       "grid_area": null,
       "grid_auto_columns": null,
       "grid_auto_flow": null,
       "grid_auto_rows": null,
       "grid_column": null,
       "grid_gap": null,
       "grid_row": null,
       "grid_template_areas": null,
       "grid_template_columns": null,
       "grid_template_rows": null,
       "height": null,
       "justify_content": null,
       "justify_items": null,
       "left": null,
       "margin": null,
       "max_height": null,
       "max_width": null,
       "min_height": null,
       "min_width": null,
       "object_fit": null,
       "object_position": null,
       "order": null,
       "overflow": null,
       "overflow_x": null,
       "overflow_y": null,
       "padding": null,
       "right": null,
       "top": null,
       "visibility": null,
       "width": null
      }
     },
     "66513d55ba9d4cc0929a68a583668a3d": {
      "model_module": "@jupyter-widgets/controls",
      "model_module_version": "1.5.0",
      "model_name": "DescriptionStyleModel",
      "state": {
       "_model_module": "@jupyter-widgets/controls",
       "_model_module_version": "1.5.0",
       "_model_name": "DescriptionStyleModel",
       "_view_count": null,
       "_view_module": "@jupyter-widgets/base",
       "_view_module_version": "1.2.0",
       "_view_name": "StyleView",
       "description_width": ""
      }
     },
     "9017374e9a5840c985174b4e47ccc159": {
      "model_module": "@jupyter-widgets/controls",
      "model_module_version": "1.5.0",
      "model_name": "DescriptionStyleModel",
      "state": {
       "_model_module": "@jupyter-widgets/controls",
       "_model_module_version": "1.5.0",
       "_model_name": "DescriptionStyleModel",
       "_view_count": null,
       "_view_module": "@jupyter-widgets/base",
       "_view_module_version": "1.2.0",
       "_view_name": "StyleView",
       "description_width": ""
      }
     },
     "c33095ed4b5640f99bb8336932efef2a": {
      "model_module": "@jupyter-widgets/controls",
      "model_module_version": "1.5.0",
      "model_name": "HTMLModel",
      "state": {
       "_dom_classes": [],
       "_model_module": "@jupyter-widgets/controls",
       "_model_module_version": "1.5.0",
       "_model_name": "HTMLModel",
       "_view_count": null,
       "_view_module": "@jupyter-widgets/controls",
       "_view_module_version": "1.5.0",
       "_view_name": "HTMLView",
       "description": "",
       "description_tooltip": null,
       "layout": "IPY_MODEL_644060645bd94de7bca24e7c76badc65",
       "placeholder": "​",
       "style": "IPY_MODEL_66513d55ba9d4cc0929a68a583668a3d",
       "value": " 97.8M/97.8M [00:07&lt;00:00, 16.7MB/s]"
      }
     },
     "f386e036eba044ddb8a34170f99d7a05": {
      "model_module": "@jupyter-widgets/controls",
      "model_module_version": "1.5.0",
      "model_name": "FloatProgressModel",
      "state": {
       "_dom_classes": [],
       "_model_module": "@jupyter-widgets/controls",
       "_model_module_version": "1.5.0",
       "_model_name": "FloatProgressModel",
       "_view_count": null,
       "_view_module": "@jupyter-widgets/controls",
       "_view_module_version": "1.5.0",
       "_view_name": "ProgressView",
       "bar_style": "success",
       "description": "",
       "description_tooltip": null,
       "layout": "IPY_MODEL_1e9bb0da16464d7f8f119bd602c80d84",
       "max": 102530333.0,
       "min": 0.0,
       "orientation": "horizontal",
       "style": "IPY_MODEL_57f1309349574835b1ab4ba420118052",
       "value": 102530333.0
      }
     },
     "f98d6d49e3c74c3eaa3bbaa7e8a1a42e": {
      "model_module": "@jupyter-widgets/base",
      "model_module_version": "1.2.0",
      "model_name": "LayoutModel",
      "state": {
       "_model_module": "@jupyter-widgets/base",
       "_model_module_version": "1.2.0",
       "_model_name": "LayoutModel",
       "_view_count": null,
       "_view_module": "@jupyter-widgets/base",
       "_view_module_version": "1.2.0",
       "_view_name": "LayoutView",
       "align_content": null,
       "align_items": null,
       "align_self": null,
       "border": null,
       "bottom": null,
       "display": null,
       "flex": null,
       "flex_flow": null,
       "grid_area": null,
       "grid_auto_columns": null,
       "grid_auto_flow": null,
       "grid_auto_rows": null,
       "grid_column": null,
       "grid_gap": null,
       "grid_row": null,
       "grid_template_areas": null,
       "grid_template_columns": null,
       "grid_template_rows": null,
       "height": null,
       "justify_content": null,
       "justify_items": null,
       "left": null,
       "margin": null,
       "max_height": null,
       "max_width": null,
       "min_height": null,
       "min_width": null,
       "object_fit": null,
       "object_position": null,
       "order": null,
       "overflow": null,
       "overflow_x": null,
       "overflow_y": null,
       "padding": null,
       "right": null,
       "top": null,
       "visibility": null,
       "width": null
      }
     }
    },
    "version_major": 2,
    "version_minor": 0
   }
  }
 },
 "nbformat": 4,
 "nbformat_minor": 5
}
