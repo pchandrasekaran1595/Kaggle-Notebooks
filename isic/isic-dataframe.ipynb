{
 "cells": [
  {
   "cell_type": "code",
   "execution_count": 1,
   "id": "cb79e193",
   "metadata": {
    "_cell_guid": "b1076dfc-b9ad-4769-8c92-a6c4dae69d19",
    "_uuid": "8f2839f25d086af736a60e9eeb907d3b93b6e0e5",
    "execution": {
     "iopub.execute_input": "2023-01-25T10:51:56.760755Z",
     "iopub.status.busy": "2023-01-25T10:51:56.759619Z",
     "iopub.status.idle": "2023-01-25T10:51:56.974912Z",
     "shell.execute_reply": "2023-01-25T10:51:56.973932Z"
    },
    "papermill": {
     "duration": 0.223841,
     "end_time": "2023-01-25T10:51:56.977858",
     "exception": false,
     "start_time": "2023-01-25T10:51:56.754017",
     "status": "completed"
    },
    "tags": []
   },
   "outputs": [],
   "source": [
    "import os\n",
    "import cv2\n",
    "import json\n",
    "import numpy as np\n",
    "import pandas as pd\n",
    "\n",
    "BASE_PATH: str = \"/kaggle/input/isic-2019/ISIC_2019_Training_Input/ISIC_2019_Training_Input\""
   ]
  },
  {
   "cell_type": "code",
   "execution_count": 2,
   "id": "cf42b423",
   "metadata": {
    "execution": {
     "iopub.execute_input": "2023-01-25T10:51:56.985230Z",
     "iopub.status.busy": "2023-01-25T10:51:56.984181Z",
     "iopub.status.idle": "2023-01-25T10:51:57.135322Z",
     "shell.execute_reply": "2023-01-25T10:51:57.134157Z"
    },
    "papermill": {
     "duration": 0.157834,
     "end_time": "2023-01-25T10:51:57.138066",
     "exception": false,
     "start_time": "2023-01-25T10:51:56.980232",
     "status": "completed"
    },
    "tags": []
   },
   "outputs": [],
   "source": [
    "df_1: pd.DataFrame = pd.read_csv(\"/kaggle/input/isic-2019/ISIC_2019_Training_GroundTruth.csv\")\n",
    "df_2: pd.DataFrame = pd.read_csv(\"/kaggle/input/isic-2019/ISIC_2019_Training_Metadata.csv\")\n",
    "\n",
    "df = pd.DataFrame = pd.DataFrame(\n",
    "    data=None, \n",
    "    columns=[\n",
    "    \"filepaths\", \n",
    "    \"age\", \n",
    "    \"anatomy_site\", \n",
    "    \"sex\", \n",
    "    \"MEL\", \n",
    "    \"NV\", \n",
    "    \"BCC\", \n",
    "    \"AK\", \n",
    "    \"BKL\", \n",
    "    \"DF\", \n",
    "    \"VASC\", \n",
    "    \"SCC\", \n",
    "    \"UNK\"\n",
    "    ]\n",
    ")"
   ]
  },
  {
   "cell_type": "code",
   "execution_count": 3,
   "id": "f03717a3",
   "metadata": {
    "execution": {
     "iopub.execute_input": "2023-01-25T10:51:57.144425Z",
     "iopub.status.busy": "2023-01-25T10:51:57.143690Z",
     "iopub.status.idle": "2023-01-25T10:51:57.460178Z",
     "shell.execute_reply": "2023-01-25T10:51:57.458831Z"
    },
    "papermill": {
     "duration": 0.322934,
     "end_time": "2023-01-25T10:51:57.463123",
     "exception": false,
     "start_time": "2023-01-25T10:51:57.140189",
     "status": "completed"
    },
    "tags": []
   },
   "outputs": [],
   "source": [
    "filepaths: list = [os.path.join(BASE_PATH, name + \".jpg\") for name in df_1.image.copy().values if \".txt\" not in name]\n",
    "\n",
    "df.filepaths = filepaths\n",
    "df.age = df_2.age_approx\n",
    "df.anatomy_site = df_2.anatom_site_general\n",
    "df.sex = df_2.sex\n",
    "df.iloc[:, 4:] = df_1.iloc[:, 1:]\n",
    "\n",
    "df.to_csv(\"dataframe.csv\", index=False)"
   ]
  }
 ],
 "metadata": {
  "kernelspec": {
   "display_name": "Python 3",
   "language": "python",
   "name": "python3"
  },
  "language_info": {
   "codemirror_mode": {
    "name": "ipython",
    "version": 3
   },
   "file_extension": ".py",
   "mimetype": "text/x-python",
   "name": "python",
   "nbconvert_exporter": "python",
   "pygments_lexer": "ipython3",
   "version": "3.7.12"
  },
  "papermill": {
   "default_parameters": {},
   "duration": 11.677595,
   "end_time": "2023-01-25T10:51:58.189862",
   "environment_variables": {},
   "exception": null,
   "input_path": "__notebook__.ipynb",
   "output_path": "__notebook__.ipynb",
   "parameters": {},
   "start_time": "2023-01-25T10:51:46.512267",
   "version": "2.3.4"
  }
 },
 "nbformat": 4,
 "nbformat_minor": 5
}
