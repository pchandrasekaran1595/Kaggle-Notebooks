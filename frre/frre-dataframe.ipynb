{
 "cells": [
  {
   "cell_type": "code",
   "execution_count": 1,
   "id": "49087420",
   "metadata": {
    "_cell_guid": "b1076dfc-b9ad-4769-8c92-a6c4dae69d19",
    "_uuid": "8f2839f25d086af736a60e9eeb907d3b93b6e0e5",
    "execution": {
     "iopub.execute_input": "2023-01-24T04:59:04.503715Z",
     "iopub.status.busy": "2023-01-24T04:59:04.503147Z",
     "iopub.status.idle": "2023-01-24T04:59:04.715258Z",
     "shell.execute_reply": "2023-01-24T04:59:04.714024Z"
    },
    "papermill": {
     "duration": 0.220442,
     "end_time": "2023-01-24T04:59:04.718923",
     "exception": false,
     "start_time": "2023-01-24T04:59:04.498481",
     "status": "completed"
    },
    "tags": []
   },
   "outputs": [],
   "source": [
    "import os\n",
    "import cv2\n",
    "import json\n",
    "import numpy as np\n",
    "import pandas as pd\n",
    "\n",
    "BASE_PATH: str = \"/kaggle/input/fruit-recognition\""
   ]
  },
  {
   "cell_type": "code",
   "execution_count": 2,
   "id": "a45fc363",
   "metadata": {
    "execution": {
     "iopub.execute_input": "2023-01-24T04:59:04.726529Z",
     "iopub.status.busy": "2023-01-24T04:59:04.726098Z",
     "iopub.status.idle": "2023-01-24T04:59:04.741828Z",
     "shell.execute_reply": "2023-01-24T04:59:04.740404Z"
    },
    "papermill": {
     "duration": 0.021598,
     "end_time": "2023-01-24T04:59:04.744213",
     "exception": false,
     "start_time": "2023-01-24T04:59:04.722615",
     "status": "completed"
    },
    "tags": []
   },
   "outputs": [],
   "source": [
    "tr_df: pd.DataFrame = pd.DataFrame(data=None, columns=[\"filepaths\", \"labels\"])\n",
    "ts_df: pd.DataFrame = pd.DataFrame(data=None, columns=[\"filepaths\", \"labels\"])"
   ]
  },
  {
   "cell_type": "code",
   "execution_count": 3,
   "id": "5300b0b7",
   "metadata": {
    "execution": {
     "iopub.execute_input": "2023-01-24T04:59:04.750592Z",
     "iopub.status.busy": "2023-01-24T04:59:04.750177Z",
     "iopub.status.idle": "2023-01-24T04:59:04.802649Z",
     "shell.execute_reply": "2023-01-24T04:59:04.801489Z"
    },
    "papermill": {
     "duration": 0.059011,
     "end_time": "2023-01-24T04:59:04.805665",
     "exception": false,
     "start_time": "2023-01-24T04:59:04.746654",
     "status": "completed"
    },
    "tags": []
   },
   "outputs": [],
   "source": [
    "tr_filepaths: list = []\n",
    "tr_labels: list = []\n",
    "\n",
    "i: int = 0\n",
    "for folder in sorted(os.listdir(f\"{BASE_PATH}/train\")):\n",
    "    for filename in os.listdir(f\"{BASE_PATH}/train/{folder}\"):\n",
    "        tr_filepaths.append(os.path.join(f\"{BASE_PATH}/train/{folder}\", filename))\n",
    "        tr_labels.append(i)\n",
    "    i += 1\n",
    "\n",
    "tr_df.filepaths = tr_filepaths\n",
    "tr_df.labels = tr_labels\n",
    "tr_df.to_csv(\"train.csv\", index=False)"
   ]
  },
  {
   "cell_type": "code",
   "execution_count": 4,
   "id": "d43f1593",
   "metadata": {
    "execution": {
     "iopub.execute_input": "2023-01-24T04:59:04.813605Z",
     "iopub.status.busy": "2023-01-24T04:59:04.813187Z",
     "iopub.status.idle": "2023-01-24T04:59:05.588842Z",
     "shell.execute_reply": "2023-01-24T04:59:05.587348Z"
    },
    "papermill": {
     "duration": 0.782877,
     "end_time": "2023-01-24T04:59:05.592058",
     "exception": false,
     "start_time": "2023-01-24T04:59:04.809181",
     "status": "completed"
    },
    "tags": []
   },
   "outputs": [],
   "source": [
    "filepaths: list = []\n",
    "labels: list = []\n",
    "\n",
    "i: int = 0    \n",
    "for folder in sorted(os.listdir(f\"{BASE_PATH}/test\")):\n",
    "    for filename in os.listdir(f\"{BASE_PATH}/test/{folder}\"):\n",
    "        filepaths.append(os.path.join(f\"{BASE_PATH}/test/{folder}\", filename))\n",
    "        labels.append(i)\n",
    "    i += 1\n",
    "\n",
    "ts_df.filepaths = filepaths\n",
    "ts_df.labels = labels\n",
    "ts_df.to_csv(\"test.csv\", index=False)"
   ]
  },
  {
   "cell_type": "code",
   "execution_count": 5,
   "id": "1e52205d",
   "metadata": {
    "execution": {
     "iopub.execute_input": "2023-01-24T04:59:05.598669Z",
     "iopub.status.busy": "2023-01-24T04:59:05.598190Z",
     "iopub.status.idle": "2023-01-24T04:59:05.604812Z",
     "shell.execute_reply": "2023-01-24T04:59:05.604003Z"
    },
    "papermill": {
     "duration": 0.01235,
     "end_time": "2023-01-24T04:59:05.606938",
     "exception": false,
     "start_time": "2023-01-24T04:59:05.594588",
     "status": "completed"
    },
    "tags": []
   },
   "outputs": [],
   "source": [
    "labels: dict = dict()\n",
    "\n",
    "i = 0\n",
    "for folder in sorted(os.listdir(f\"{BASE_PATH}/test\")):\n",
    "    labels[i] = folder\n",
    "    i += 1\n",
    "\n",
    "json.dump(labels, open(\"labels.json\", \"w\"))"
   ]
  }
 ],
 "metadata": {
  "kernelspec": {
   "display_name": "Python 3",
   "language": "python",
   "name": "python3"
  },
  "language_info": {
   "codemirror_mode": {
    "name": "ipython",
    "version": 3
   },
   "file_extension": ".py",
   "mimetype": "text/x-python",
   "name": "python",
   "nbconvert_exporter": "python",
   "pygments_lexer": "ipython3",
   "version": "3.7.12"
  },
  "papermill": {
   "default_parameters": {},
   "duration": 10.344658,
   "end_time": "2023-01-24T04:59:06.231644",
   "environment_variables": {},
   "exception": null,
   "input_path": "__notebook__.ipynb",
   "output_path": "__notebook__.ipynb",
   "parameters": {},
   "start_time": "2023-01-24T04:58:55.886986",
   "version": "2.3.4"
  }
 },
 "nbformat": 4,
 "nbformat_minor": 5
}
