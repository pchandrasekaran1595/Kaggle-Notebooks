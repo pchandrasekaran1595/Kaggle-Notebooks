{
 "cells": [
  {
   "cell_type": "code",
   "execution_count": 1,
   "id": "6d69ac53",
   "metadata": {
    "_cell_guid": "b1076dfc-b9ad-4769-8c92-a6c4dae69d19",
    "_uuid": "8f2839f25d086af736a60e9eeb907d3b93b6e0e5",
    "execution": {
     "iopub.execute_input": "2023-01-24T07:34:18.188434Z",
     "iopub.status.busy": "2023-01-24T07:34:18.187394Z",
     "iopub.status.idle": "2023-01-24T07:34:18.383255Z",
     "shell.execute_reply": "2023-01-24T07:34:18.382193Z"
    },
    "papermill": {
     "duration": 0.202581,
     "end_time": "2023-01-24T07:34:18.385933",
     "exception": false,
     "start_time": "2023-01-24T07:34:18.183352",
     "status": "completed"
    },
    "tags": []
   },
   "outputs": [],
   "source": [
    "import os\n",
    "import cv2\n",
    "import json\n",
    "import numpy as np\n",
    "import pandas as pd\n",
    "\n",
    "BASE_PATH: str = \"/kaggle/input/fruit-recognition\""
   ]
  },
  {
   "cell_type": "code",
   "execution_count": 2,
   "id": "b83a892a",
   "metadata": {
    "execution": {
     "iopub.execute_input": "2023-01-24T07:34:18.392309Z",
     "iopub.status.busy": "2023-01-24T07:34:18.391956Z",
     "iopub.status.idle": "2023-01-24T07:34:18.407337Z",
     "shell.execute_reply": "2023-01-24T07:34:18.405871Z"
    },
    "papermill": {
     "duration": 0.021506,
     "end_time": "2023-01-24T07:34:18.409825",
     "exception": false,
     "start_time": "2023-01-24T07:34:18.388319",
     "status": "completed"
    },
    "tags": []
   },
   "outputs": [],
   "source": [
    "tr_df: pd.DataFrame = pd.DataFrame(data=None, columns=[\"filepaths\", \"labels\"])\n",
    "ts_df: pd.DataFrame = pd.DataFrame(data=None, columns=[\"filepaths\"])"
   ]
  },
  {
   "cell_type": "code",
   "execution_count": 3,
   "id": "1fbff2e8",
   "metadata": {
    "execution": {
     "iopub.execute_input": "2023-01-24T07:34:18.415723Z",
     "iopub.status.busy": "2023-01-24T07:34:18.414854Z",
     "iopub.status.idle": "2023-01-24T07:34:23.015236Z",
     "shell.execute_reply": "2023-01-24T07:34:23.014162Z"
    },
    "papermill": {
     "duration": 4.605695,
     "end_time": "2023-01-24T07:34:23.017564",
     "exception": false,
     "start_time": "2023-01-24T07:34:18.411869",
     "status": "completed"
    },
    "tags": []
   },
   "outputs": [],
   "source": [
    "tr_filepaths: list = []\n",
    "tr_labels: list = []\n",
    "\n",
    "i: int = 0\n",
    "for folder in sorted(os.listdir(f\"{BASE_PATH}/train/train\")):\n",
    "    for filename in os.listdir(f\"{BASE_PATH}/train/train/{folder}\"):\n",
    "        tr_filepaths.append(os.path.join(f\"{BASE_PATH}/train/train/{folder}\", filename))\n",
    "        tr_labels.append(i)\n",
    "    i += 1\n",
    "\n",
    "tr_df.filepaths = tr_filepaths\n",
    "tr_df.labels = tr_labels\n",
    "tr_df.to_csv(\"train.csv\", index=False)"
   ]
  },
  {
   "cell_type": "code",
   "execution_count": 4,
   "id": "db93de17",
   "metadata": {
    "execution": {
     "iopub.execute_input": "2023-01-24T07:34:23.023024Z",
     "iopub.status.busy": "2023-01-24T07:34:23.022587Z",
     "iopub.status.idle": "2023-01-24T07:34:23.393624Z",
     "shell.execute_reply": "2023-01-24T07:34:23.392174Z"
    },
    "papermill": {
     "duration": 0.376682,
     "end_time": "2023-01-24T07:34:23.396295",
     "exception": false,
     "start_time": "2023-01-24T07:34:23.019613",
     "status": "completed"
    },
    "tags": []
   },
   "outputs": [],
   "source": [
    "filepaths: list = []\n",
    "labels: list = []\n",
    "\n",
    "for filename in os.listdir(f\"{BASE_PATH}/test/test\"):\n",
    "    filepaths.append(os.path.join(f\"{BASE_PATH}/test/test\", filename))\n",
    "\n",
    "ts_df.filepaths = filepaths\n",
    "ts_df.to_csv(\"test.csv\", index=False)"
   ]
  },
  {
   "cell_type": "code",
   "execution_count": 5,
   "id": "b88cd4f3",
   "metadata": {
    "execution": {
     "iopub.execute_input": "2023-01-24T07:34:23.402378Z",
     "iopub.status.busy": "2023-01-24T07:34:23.402057Z",
     "iopub.status.idle": "2023-01-24T07:34:23.408274Z",
     "shell.execute_reply": "2023-01-24T07:34:23.407108Z"
    },
    "papermill": {
     "duration": 0.012574,
     "end_time": "2023-01-24T07:34:23.410899",
     "exception": false,
     "start_time": "2023-01-24T07:34:23.398325",
     "status": "completed"
    },
    "tags": []
   },
   "outputs": [],
   "source": [
    "labels: dict = dict()\n",
    "\n",
    "i = 0\n",
    "for folder in sorted(os.listdir(f\"{BASE_PATH}/train/train\")):\n",
    "    labels[i] = folder\n",
    "    i += 1\n",
    "\n",
    "json.dump(labels, open(\"labels.json\", \"w\"))"
   ]
  }
 ],
 "metadata": {
  "kernelspec": {
   "display_name": "Python 3",
   "language": "python",
   "name": "python3"
  },
  "language_info": {
   "codemirror_mode": {
    "name": "ipython",
    "version": 3
   },
   "file_extension": ".py",
   "mimetype": "text/x-python",
   "name": "python",
   "nbconvert_exporter": "python",
   "pygments_lexer": "ipython3",
   "version": "3.7.12"
  },
  "papermill": {
   "default_parameters": {},
   "duration": 15.323225,
   "end_time": "2023-01-24T07:34:24.037610",
   "environment_variables": {},
   "exception": null,
   "input_path": "__notebook__.ipynb",
   "output_path": "__notebook__.ipynb",
   "parameters": {},
   "start_time": "2023-01-24T07:34:08.714385",
   "version": "2.3.4"
  }
 },
 "nbformat": 4,
 "nbformat_minor": 5
}
