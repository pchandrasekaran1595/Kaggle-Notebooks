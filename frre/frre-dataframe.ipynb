{
 "cells": [
  {
   "cell_type": "code",
   "execution_count": 1,
   "id": "d56c3fb1",
   "metadata": {
    "_cell_guid": "b1076dfc-b9ad-4769-8c92-a6c4dae69d19",
    "_uuid": "8f2839f25d086af736a60e9eeb907d3b93b6e0e5",
    "execution": {
     "iopub.execute_input": "2023-01-24T05:12:15.399578Z",
     "iopub.status.busy": "2023-01-24T05:12:15.399055Z",
     "iopub.status.idle": "2023-01-24T05:12:15.638598Z",
     "shell.execute_reply": "2023-01-24T05:12:15.636560Z"
    },
    "papermill": {
     "duration": 0.248895,
     "end_time": "2023-01-24T05:12:15.641936",
     "exception": false,
     "start_time": "2023-01-24T05:12:15.393041",
     "status": "completed"
    },
    "tags": []
   },
   "outputs": [],
   "source": [
    "import os\n",
    "import cv2\n",
    "import json\n",
    "import numpy as np\n",
    "import pandas as pd\n",
    "\n",
    "BASE_PATH: str = \"/kaggle/input/fruit-recognition\""
   ]
  },
  {
   "cell_type": "code",
   "execution_count": 2,
   "id": "558da3c3",
   "metadata": {
    "execution": {
     "iopub.execute_input": "2023-01-24T05:12:15.648969Z",
     "iopub.status.busy": "2023-01-24T05:12:15.648086Z",
     "iopub.status.idle": "2023-01-24T05:12:15.670394Z",
     "shell.execute_reply": "2023-01-24T05:12:15.668962Z"
    },
    "papermill": {
     "duration": 0.02866,
     "end_time": "2023-01-24T05:12:15.673104",
     "exception": false,
     "start_time": "2023-01-24T05:12:15.644444",
     "status": "completed"
    },
    "tags": []
   },
   "outputs": [],
   "source": [
    "tr_df: pd.DataFrame = pd.DataFrame(data=None, columns=[\"filepaths\", \"labels\"])\n",
    "ts_df: pd.DataFrame = pd.DataFrame(data=None, columns=[\"filepaths\"])"
   ]
  },
  {
   "cell_type": "code",
   "execution_count": 3,
   "id": "ac61e4dc",
   "metadata": {
    "execution": {
     "iopub.execute_input": "2023-01-24T05:12:15.681469Z",
     "iopub.status.busy": "2023-01-24T05:12:15.680252Z",
     "iopub.status.idle": "2023-01-24T05:12:17.747969Z",
     "shell.execute_reply": "2023-01-24T05:12:17.746625Z"
    },
    "papermill": {
     "duration": 2.075951,
     "end_time": "2023-01-24T05:12:17.751422",
     "exception": false,
     "start_time": "2023-01-24T05:12:15.675471",
     "status": "completed"
    },
    "tags": []
   },
   "outputs": [],
   "source": [
    "tr_filepaths: list = []\n",
    "tr_labels: list = []\n",
    "\n",
    "i: int = 0\n",
    "for folder in sorted(os.listdir(f\"{BASE_PATH}/train/train\")):\n",
    "    for filename in os.listdir(f\"{BASE_PATH}/train/train/{folder}\"):\n",
    "        tr_filepaths.append(os.path.join(f\"{BASE_PATH}/train/train/{folder}\", filename))\n",
    "        tr_labels.append(i)\n",
    "    i += 1\n",
    "\n",
    "tr_df.filepaths = tr_filepaths\n",
    "tr_df.labels = tr_labels\n",
    "tr_df.to_csv(\"train.csv\", index=False)"
   ]
  },
  {
   "cell_type": "code",
   "execution_count": 4,
   "id": "fe5110a3",
   "metadata": {
    "execution": {
     "iopub.execute_input": "2023-01-24T05:12:17.757657Z",
     "iopub.status.busy": "2023-01-24T05:12:17.757210Z",
     "iopub.status.idle": "2023-01-24T05:12:17.913956Z",
     "shell.execute_reply": "2023-01-24T05:12:17.912708Z"
    },
    "papermill": {
     "duration": 0.163075,
     "end_time": "2023-01-24T05:12:17.916820",
     "exception": false,
     "start_time": "2023-01-24T05:12:17.753745",
     "status": "completed"
    },
    "tags": []
   },
   "outputs": [],
   "source": [
    "filepaths: list = []\n",
    "labels: list = []\n",
    "\n",
    "for filename in os.listdir(f\"{BASE_PATH}/test/test\"):\n",
    "    filepaths.append(os.path.join(f\"{BASE_PATH}/test/test/{folder}\", filename))\n",
    "\n",
    "ts_df.filepaths = filepaths\n",
    "ts_df.to_csv(\"test.csv\", index=False)"
   ]
  },
  {
   "cell_type": "code",
   "execution_count": 5,
   "id": "b73d8316",
   "metadata": {
    "execution": {
     "iopub.execute_input": "2023-01-24T05:12:17.923299Z",
     "iopub.status.busy": "2023-01-24T05:12:17.922830Z",
     "iopub.status.idle": "2023-01-24T05:12:17.930361Z",
     "shell.execute_reply": "2023-01-24T05:12:17.929027Z"
    },
    "papermill": {
     "duration": 0.013671,
     "end_time": "2023-01-24T05:12:17.932923",
     "exception": false,
     "start_time": "2023-01-24T05:12:17.919252",
     "status": "completed"
    },
    "tags": []
   },
   "outputs": [],
   "source": [
    "labels: dict = dict()\n",
    "\n",
    "i = 0\n",
    "for folder in sorted(os.listdir(f\"{BASE_PATH}/train/train\")):\n",
    "    labels[i] = folder\n",
    "    i += 1\n",
    "\n",
    "json.dump(labels, open(\"labels.json\", \"w\"))"
   ]
  }
 ],
 "metadata": {
  "kernelspec": {
   "display_name": "Python 3",
   "language": "python",
   "name": "python3"
  },
  "language_info": {
   "codemirror_mode": {
    "name": "ipython",
    "version": 3
   },
   "file_extension": ".py",
   "mimetype": "text/x-python",
   "name": "python",
   "nbconvert_exporter": "python",
   "pygments_lexer": "ipython3",
   "version": "3.7.12"
  },
  "papermill": {
   "default_parameters": {},
   "duration": 12.674981,
   "end_time": "2023-01-24T05:12:18.657915",
   "environment_variables": {},
   "exception": null,
   "input_path": "__notebook__.ipynb",
   "output_path": "__notebook__.ipynb",
   "parameters": {},
   "start_time": "2023-01-24T05:12:05.982934",
   "version": "2.3.4"
  }
 },
 "nbformat": 4,
 "nbformat_minor": 5
}
