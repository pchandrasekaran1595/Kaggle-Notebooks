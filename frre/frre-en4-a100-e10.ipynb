{
 "cells": [
  {
   "cell_type": "markdown",
   "id": "8a9c494d",
   "metadata": {
    "_cell_guid": "b1076dfc-b9ad-4769-8c92-a6c4dae69d19",
    "_uuid": "8f2839f25d086af736a60e9eeb907d3b93b6e0e5",
    "papermill": {
     "duration": 0.004559,
     "end_time": "2023-01-24T05:40:28.037076",
     "exception": false,
     "start_time": "2023-01-24T05:40:28.032517",
     "status": "completed"
    },
    "tags": []
   },
   "source": [
    "### **Setup**"
   ]
  },
  {
   "cell_type": "code",
   "execution_count": 1,
   "id": "1f574556",
   "metadata": {
    "execution": {
     "iopub.execute_input": "2023-01-24T05:40:28.046742Z",
     "iopub.status.busy": "2023-01-24T05:40:28.045992Z",
     "iopub.status.idle": "2023-01-24T05:40:37.691345Z",
     "shell.execute_reply": "2023-01-24T05:40:37.689918Z"
    },
    "papermill": {
     "duration": 9.652879,
     "end_time": "2023-01-24T05:40:37.693808",
     "exception": false,
     "start_time": "2023-01-24T05:40:28.040929",
     "status": "completed"
    },
    "tags": []
   },
   "outputs": [
    {
     "name": "stderr",
     "output_type": "stream",
     "text": [
      "WARNING: Running pip as the 'root' user can result in broken permissions and conflicting behaviour with the system package manager. It is recommended to use a virtual environment instead: https://pip.pypa.io/warnings/venv\n"
     ]
    }
   ],
   "source": [
    "%%bash\n",
    "pip install timm -q"
   ]
  },
  {
   "cell_type": "markdown",
   "id": "13248d08",
   "metadata": {
    "papermill": {
     "duration": 0.003419,
     "end_time": "2023-01-24T05:40:37.701289",
     "exception": false,
     "start_time": "2023-01-24T05:40:37.697870",
     "status": "completed"
    },
    "tags": []
   },
   "source": [
    "### **Library Imports**"
   ]
  },
  {
   "cell_type": "code",
   "execution_count": 2,
   "id": "56e018aa",
   "metadata": {
    "execution": {
     "iopub.execute_input": "2023-01-24T05:40:37.710018Z",
     "iopub.status.busy": "2023-01-24T05:40:37.709704Z",
     "iopub.status.idle": "2023-01-24T05:40:41.500037Z",
     "shell.execute_reply": "2023-01-24T05:40:41.498911Z"
    },
    "papermill": {
     "duration": 3.797691,
     "end_time": "2023-01-24T05:40:41.502562",
     "exception": false,
     "start_time": "2023-01-24T05:40:37.704871",
     "status": "completed"
    },
    "tags": []
   },
   "outputs": [],
   "source": [
    "import os\n",
    "import re\n",
    "import cv2\n",
    "import timm\n",
    "import torch\n",
    "import numpy as np\n",
    "import pandas as pd\n",
    "import matplotlib.pyplot as plt\n",
    "\n",
    "from time import time\n",
    "from PIL import Image\n",
    "from typing import Union\n",
    "from torch import nn, optim\n",
    "from torch.utils.data import Dataset\n",
    "from torch.utils.data import DataLoader as DL\n",
    "from torchvision import transforms\n",
    "\n",
    "from sklearn.model_selection import StratifiedKFold"
   ]
  },
  {
   "cell_type": "markdown",
   "id": "ff5677a8",
   "metadata": {
    "papermill": {
     "duration": 0.003891,
     "end_time": "2023-01-24T05:40:41.510431",
     "exception": false,
     "start_time": "2023-01-24T05:40:41.506540",
     "status": "completed"
    },
    "tags": []
   },
   "source": [
    "### **Utilities and Helpers**"
   ]
  },
  {
   "cell_type": "code",
   "execution_count": 3,
   "id": "ad846225",
   "metadata": {
    "execution": {
     "iopub.execute_input": "2023-01-24T05:40:41.519568Z",
     "iopub.status.busy": "2023-01-24T05:40:41.518979Z",
     "iopub.status.idle": "2023-01-24T05:40:41.532243Z",
     "shell.execute_reply": "2023-01-24T05:40:41.531403Z"
    },
    "papermill": {
     "duration": 0.020235,
     "end_time": "2023-01-24T05:40:41.534230",
     "exception": false,
     "start_time": "2023-01-24T05:40:41.513995",
     "status": "completed"
    },
    "tags": []
   },
   "outputs": [],
   "source": [
    "SEED: int = 42\n",
    "SIZE: int = 100\n",
    "\n",
    "\n",
    "def breaker(num: int=50, char: str=\"*\") -> None: print(\"\\n\" + num*char + \"\\n\")\n",
    "\n",
    "    \n",
    "def get_image(path: str, size: int=224) -> np.ndarray:\n",
    "    image = cv2.imread(path, cv2.IMREAD_COLOR)\n",
    "    image = cv2.cvtColor(src=image, code=cv2.COLOR_BGR2RGB)\n",
    "    if image.shape == (100, 100, 3) and size == 100: return image\n",
    "    return cv2.resize(src=image, dsize=(size, size), interpolation=cv2.INTER_AREA)\n",
    "\n",
    "    \n",
    "def show_loss_graphs(L: list) -> None:\n",
    "    TL, VL = [], []\n",
    "    for i in range(len(L)):\n",
    "        TL.append(L[i][\"train\"])\n",
    "        VL.append(L[i][\"valid\"])\n",
    "    x_Axis = np.arange(1, len(TL) + 1)\n",
    "    plt.figure()\n",
    "    plt.plot(x_Axis, TL, \"r\", label=\"Train\")\n",
    "    plt.plot(x_Axis, VL, \"b\", label=\"Valid\")\n",
    "    plt.legend()\n",
    "    plt.grid()\n",
    "    plt.title(\"Loss Graph\")\n",
    "    plt.show()\n",
    "\n",
    "    \n",
    "def show_accuracy_graphs(A: list) -> None:\n",
    "    TA, VA = [], []\n",
    "    for i in range(len(A)):\n",
    "        TA.append(A[i][\"train\"])\n",
    "        VA.append(A[i][\"valid\"])\n",
    "    x_Axis = np.arange(1, len(TA) + 1)\n",
    "    plt.figure()\n",
    "    plt.plot(x_Axis, TA, \"r\", label=\"Train\")\n",
    "    plt.plot(x_Axis, VA, \"b\", label=\"Valid\")\n",
    "    plt.legend()\n",
    "    plt.grid()\n",
    "    plt.title(\"Accuracy Graph\")\n",
    "    plt.show()\n",
    "    \n",
    "\n",
    "def show_lr_graph(LR: list) -> None:\n",
    "    x_Axis = [i+1 for i in range(len(LR))]\n",
    "    plt.figure(figsize=(8, 6))\n",
    "    plt.plot(x_Axis, LR, \"rx\")\n",
    "    plt.grid()\n",
    "    plt.show()"
   ]
  },
  {
   "cell_type": "markdown",
   "id": "208abe2d",
   "metadata": {
    "papermill": {
     "duration": 0.003476,
     "end_time": "2023-01-24T05:40:41.541356",
     "exception": false,
     "start_time": "2023-01-24T05:40:41.537880",
     "status": "completed"
    },
    "tags": []
   },
   "source": [
    "\n",
    "\n",
    "### **Configuration**"
   ]
  },
  {
   "cell_type": "code",
   "execution_count": 4,
   "id": "af5bd22f",
   "metadata": {
    "execution": {
     "iopub.execute_input": "2023-01-24T05:40:41.550985Z",
     "iopub.status.busy": "2023-01-24T05:40:41.549593Z",
     "iopub.status.idle": "2023-01-24T05:40:41.614441Z",
     "shell.execute_reply": "2023-01-24T05:40:41.613538Z"
    },
    "papermill": {
     "duration": 0.071642,
     "end_time": "2023-01-24T05:40:41.616557",
     "exception": false,
     "start_time": "2023-01-24T05:40:41.544915",
     "status": "completed"
    },
    "tags": []
   },
   "outputs": [],
   "source": [
    "class CFG(object):\n",
    "    def __init__(self,\n",
    "             seed: int = 42,\n",
    "             size: int = 224,\n",
    "             n_splits: int = 5,\n",
    "             batch_size: int = 16,\n",
    "             epochs: int = 25,\n",
    "             early_stopping: int = 5,\n",
    "             lr: float = 1e-4,\n",
    "             wd: float = 0.0,\n",
    "             max_lr: float = 1e-3,\n",
    "             pct_start: float = 0.2,\n",
    "             steps_per_epoch: int = 100,\n",
    "             div_factor: int = 1e3, \n",
    "             final_div_factor: float = 1e3,\n",
    "         ):\n",
    "        self.seed = seed\n",
    "        self.size = size\n",
    "        self.n_splits = n_splits\n",
    "        self.batch_size = batch_size\n",
    "        self.epochs = epochs\n",
    "        self.early_stopping = early_stopping\n",
    "        self.lr = lr\n",
    "        self.wd = wd\n",
    "        self.max_lr = max_lr\n",
    "        self.pct_start = pct_start\n",
    "        self.steps_per_epoch = steps_per_epoch\n",
    "        self.div_factor = div_factor\n",
    "        self.final_div_factor = final_div_factor\n",
    "        self.device = torch.device(\"cuda\" if torch.cuda.is_available() else \"cpu\")\n",
    "        \n",
    "        if self.size == 100:\n",
    "            self.train_transform = transforms.Compose([\n",
    "                transforms.ToTensor(),\n",
    "                transforms.Normalize([0.64337, 0.55080, 0.48389], [0.27695, 0.33077, 0.37175]),\n",
    "                transforms.RandomAffine(degrees=(-45, 45), translate=(0.15, 0.15), scale=(0.5, 1.5)),\n",
    "                transforms.RandomHorizontalFlip(p=0.25),\n",
    "                transforms.RandomVerticalFlip(p=0.25),\n",
    "            ])\n",
    "            self.valid_transform = transforms.Compose([\n",
    "                transforms.ToTensor(),\n",
    "                transforms.Normalize([0.64337, 0.55080, 0.48389], [0.27695, 0.33077, 0.37175]),\n",
    "            ])\n",
    "        \n",
    "        if self.size == 224:\n",
    "            self.train_transform = transforms.Compose([\n",
    "                transforms.ToTensor(),\n",
    "                transforms.Normalize([0.64322, 0.55066, 0.48374], [0.27586, 0.32975, 0.37079]),\n",
    "                transforms.RandomAffine(degrees=(-45, 45), translate=(0.15, 0.15), scale=(0.5, 1.5)),\n",
    "                transforms.RandomHorizontalFlip(p=0.25),\n",
    "                transforms.RandomVerticalFlip(p=0.25),\n",
    "            ])\n",
    "            self.valid_transform = transforms.Compose([\n",
    "                transforms.ToTensor(),\n",
    "                transforms.Normalize([0.64322, 0.55066, 0.48374], [0.27586, 0.32975, 0.37079]),\n",
    "            ])\n",
    "                                \n",
    "        self.save_path = \"saves\"\n",
    "        if not os.path.exists(self.save_path): os.makedirs(self.save_path)\n",
    "    \n",
    "cfg = CFG(\n",
    "    seed=SEED, \n",
    "    size=SIZE\n",
    ")"
   ]
  },
  {
   "cell_type": "markdown",
   "id": "28b34938",
   "metadata": {
    "papermill": {
     "duration": 0.003561,
     "end_time": "2023-01-24T05:40:41.624053",
     "exception": false,
     "start_time": "2023-01-24T05:40:41.620492",
     "status": "completed"
    },
    "tags": []
   },
   "source": [
    "### **Dataset Template**"
   ]
  },
  {
   "cell_type": "code",
   "execution_count": 5,
   "id": "f8b99f82",
   "metadata": {
    "execution": {
     "iopub.execute_input": "2023-01-24T05:40:41.632691Z",
     "iopub.status.busy": "2023-01-24T05:40:41.632416Z",
     "iopub.status.idle": "2023-01-24T05:40:41.638650Z",
     "shell.execute_reply": "2023-01-24T05:40:41.637714Z"
    },
    "papermill": {
     "duration": 0.012847,
     "end_time": "2023-01-24T05:40:41.640591",
     "exception": false,
     "start_time": "2023-01-24T05:40:41.627744",
     "status": "completed"
    },
    "tags": []
   },
   "outputs": [],
   "source": [
    "class DS(Dataset):\n",
    "    def __init__(\n",
    "        self, \n",
    "        filepaths: np.ndarray, \n",
    "        size: int,\n",
    "        labels: Union[np.ndarray, None]=None, \n",
    "        transform=None\n",
    "    ):\n",
    "        \n",
    "        self.filepaths = filepaths\n",
    "        self.labels = labels\n",
    "        self.size = size\n",
    "        self.transform = transform\n",
    "    \n",
    "    def __len__(self):\n",
    "        return self.filepaths.shape[0]\n",
    "    \n",
    "    def __getitem__(self, idx):\n",
    "        image = get_image(self.filepaths[idx], self.size)\n",
    "        if self.labels is None:\n",
    "            return self.transform(image)\n",
    "        return self.transform(image), torch.LongTensor(self.labels[idx])"
   ]
  },
  {
   "cell_type": "markdown",
   "id": "ae1c57fd",
   "metadata": {
    "papermill": {
     "duration": 0.003495,
     "end_time": "2023-01-24T05:40:41.647790",
     "exception": false,
     "start_time": "2023-01-24T05:40:41.644295",
     "status": "completed"
    },
    "tags": []
   },
   "source": [
    "### **Model**"
   ]
  },
  {
   "cell_type": "code",
   "execution_count": 6,
   "id": "53708cf4",
   "metadata": {
    "execution": {
     "iopub.execute_input": "2023-01-24T05:40:41.656411Z",
     "iopub.status.busy": "2023-01-24T05:40:41.656131Z",
     "iopub.status.idle": "2023-01-24T05:40:41.662183Z",
     "shell.execute_reply": "2023-01-24T05:40:41.661348Z"
    },
    "papermill": {
     "duration": 0.012636,
     "end_time": "2023-01-24T05:40:41.664236",
     "exception": false,
     "start_time": "2023-01-24T05:40:41.651600",
     "status": "completed"
    },
    "tags": []
   },
   "outputs": [],
   "source": [
    "class Model(nn.Module):\n",
    "    def __init__(self):\n",
    "        super(Model, self).__init__()\n",
    "            \n",
    "        self.model = timm.create_model(model_name=\"efficientnet_b4\", pretrained=True)\n",
    "        self.model.classifier = nn.Linear(in_features=self.model.classifier.in_features, out_features=33)\n",
    "\n",
    "    def forward(self, x):\n",
    "        return nn.LogSoftmax(dim=1)(self.model(x))"
   ]
  },
  {
   "cell_type": "markdown",
   "id": "adf2ff64",
   "metadata": {
    "papermill": {
     "duration": 0.003605,
     "end_time": "2023-01-24T05:40:41.671626",
     "exception": false,
     "start_time": "2023-01-24T05:40:41.668021",
     "status": "completed"
    },
    "tags": []
   },
   "source": [
    "### **Fit and Predict**"
   ]
  },
  {
   "cell_type": "code",
   "execution_count": 7,
   "id": "b6dd1f84",
   "metadata": {
    "execution": {
     "iopub.execute_input": "2023-01-24T05:40:41.680635Z",
     "iopub.status.busy": "2023-01-24T05:40:41.680352Z",
     "iopub.status.idle": "2023-01-24T05:40:41.700712Z",
     "shell.execute_reply": "2023-01-24T05:40:41.699775Z"
    },
    "papermill": {
     "duration": 0.027098,
     "end_time": "2023-01-24T05:40:41.702615",
     "exception": false,
     "start_time": "2023-01-24T05:40:41.675517",
     "status": "completed"
    },
    "tags": []
   },
   "outputs": [],
   "source": [
    "def fit(\n",
    "    model=None,\n",
    "    optimizer=None, \n",
    "    scheduler_rlrop=None,\n",
    "    scheduler_oclr=None,\n",
    "    epochs=None, \n",
    "    early_stopping_patience=None, \n",
    "    dataloaders=None, \n",
    "    fold=None, \n",
    "    save_path=None,\n",
    "    device=None,\n",
    "    verbose=False\n",
    ") -> tuple:\n",
    "    \n",
    "    def get_accuracy(y_pred, y_true):\n",
    "        y_pred = torch.argmax(y_pred, dim=1)\n",
    "        return torch.count_nonzero(y_pred == y_true).item() / len(y_pred)\n",
    "    \n",
    "    \n",
    "    if verbose:\n",
    "        breaker()\n",
    "        if fold: print(f\"Training Fold {fold}...\")\n",
    "        else: print(\"Training ...\")\n",
    "        breaker()\n",
    "        \n",
    "    bestLoss: dict = {\"train\" : np.inf, \"valid\" : np.inf} \n",
    "    bestAccs: dict = {\"train\" : 0.0, \"valid\" : 0.0}\n",
    "    \n",
    "    Losses: list = []\n",
    "    Accuracies: list = [] \n",
    "    LRs: list = []\n",
    "        \n",
    "    if fold: \n",
    "        ble_name = f\"ble_state_fold_{fold}.pt\"\n",
    "        bae_name = f\"bae_state_fold_{fold}.pt\"\n",
    "    else: \n",
    "        ble_name = f\"ble_state.pt\"\n",
    "        bae_name = f\"bae_state.pt\"\n",
    "        \n",
    "    start_time = time()\n",
    "    for e in range(epochs):\n",
    "        e_st = time()\n",
    "        epochLoss: dict = {\"train\" : 0.0, \"valid\" : 0.0} \n",
    "        epochAccs: dict = {\"train\" : 0.0, \"valid\" : 0.0}\n",
    "\n",
    "        for phase in [\"train\", \"valid\"]:\n",
    "            if phase == \"train\":\n",
    "                model.train()\n",
    "            else:\n",
    "                model.eval()\n",
    "            \n",
    "            lossPerPass: list = []\n",
    "            accsPerPass: list = []\n",
    "                \n",
    "            for X, y in dataloaders[phase]:\n",
    "                X, y = X.to(device), y.to(device).view(-1)\n",
    "\n",
    "                optimizer.zero_grad()\n",
    "                with torch.set_grad_enabled(phase == \"train\"):\n",
    "                    output = model(X)\n",
    "                    loss = nn.NLLLoss()(output, y)\n",
    "                    if phase == \"train\":\n",
    "                        loss.backward()\n",
    "                        optimizer.step()\n",
    "                        if scheduler_oclr: scheduler_oclr.step()\n",
    "                lossPerPass.append(loss.item())\n",
    "                accsPerPass.append(get_accuracy(output, y))\n",
    "            epochLoss[phase] = np.mean(np.array(lossPerPass))\n",
    "            epochAccs[phase] = np.mean(np.array(accsPerPass))\n",
    "        if scheduler_oclr: LRs.append(scheduler_oclr.get_last_lr())\n",
    "        Losses.append(epochLoss)\n",
    "        Accuracies.append(epochAccs)\n",
    "        \n",
    "        if scheduler_oclr:\n",
    "            save_dict = {\"model_state_dict\"     : model.state_dict(),\n",
    "                         \"optim_state_dict\"     : optimizer.state_dict(),\n",
    "                         \"scheduler_state_dict\" : scheduler_oclr.state_dict()}\n",
    "        \n",
    "        elif scheduler_rlrop:\n",
    "            save_dict = {\"model_state_dict\"     : model.state_dict(),\n",
    "                         \"optim_state_dict\"     : optimizer.state_dict(),\n",
    "                         \"scheduler_state_dict\" : scheduler_rlrop.state_dict()}\n",
    "        \n",
    "        else:\n",
    "            save_dict = {\"model_state_dict\"     : model.state_dict(),\n",
    "                         \"optim_state_dict\"     : optimizer.state_dict()}\n",
    "        \n",
    "        if early_stopping_patience:\n",
    "            if epochLoss[\"valid\"] < bestLoss[\"valid\"]:\n",
    "                bestLoss = epochLoss\n",
    "                BLE = e + 1\n",
    "                torch.save(save_dict, os.path.join(save_path, ble_name))\n",
    "                torch.save(save_dict, os.path.join(save_path, bae_name))\n",
    "                early_stopping_step = 0\n",
    "            else:\n",
    "                early_stopping_step += 1\n",
    "                if early_stopping_step > early_stopping_patience:\n",
    "                    print(\"\\nEarly Stopping at Epoch {}\".format(e + 1))\n",
    "                    break\n",
    "        \n",
    "        if epochLoss[\"valid\"] < bestLoss[\"valid\"]:\n",
    "            bestLoss = epochLoss\n",
    "            BLE = e + 1\n",
    "            torch.save(save_dict,os.path.join(save_path, ble_name))\n",
    "        \n",
    "        if epochAccs[\"valid\"] > bestAccs[\"valid\"]:\n",
    "            bestAccs = epochAccs\n",
    "            BAE = e + 1\n",
    "            torch.save(save_dict,os.path.join(save_path, bae_name))\n",
    "        \n",
    "        if scheduler_rlrop: scheduler_rlrop.step(epochLoss[\"valid\"])\n",
    "        \n",
    "        if verbose:\n",
    "            print(\"Epoch: {} | Train Loss: {:.5f} | Valid Loss: {:.5f} |\\\n",
    " Train Accs: {:.5f} | Valid Accs: {:.5f} | Time: {:.2f} seconds\".format(e+1, \n",
    "                                                                        epochLoss[\"train\"], epochLoss[\"valid\"], \n",
    "                                                                        epochAccs[\"train\"], epochAccs[\"valid\"], \n",
    "                                                                        time()-e_st))\n",
    "\n",
    "    if verbose:                                           \n",
    "        breaker()\n",
    "        print(f\"Best Validation Loss at Epoch {BLE}\")\n",
    "        breaker()\n",
    "        print(f\"Best Validation Accs at Epoch {BAE}\")\n",
    "        breaker()\n",
    "        print(\"Time Taken [{} Epochs] : {:.2f} minutes\".format(len(Losses), (time()-start_time)/60))\n",
    "    \n",
    "    return Losses, Accuracies, LRs, bestLoss, bestAccs, BLE, BAE, ble_name, bae_name\n",
    "\n",
    "\n",
    "# def predict_batch(model=None, dataloader=None, path=None, device=None) -> np.ndarray:\n",
    "#     model.load_state_dict(torch.load(path, map_location=device)[\"model_state_dict\"])\n",
    "#     model.to(device)    \n",
    "#     model.eval()\n",
    "    \n",
    "#     y_pred = torch.zeros(1, 1).to(device)\n",
    "    \n",
    "#     for X in dataloader:\n",
    "#         X = X.to(device)\n",
    "#         with torch.no_grad():\n",
    "#             output = torch.argmax(torch.exp(model(X)), dim=1)\n",
    "#         y_pred = torch.cat((y_pred, output.view(-1, 1)), dim=0)\n",
    "    \n",
    "#     return y_pred[1:].detach().cpu().numpy()"
   ]
  },
  {
   "cell_type": "markdown",
   "id": "d71eb96a",
   "metadata": {
    "papermill": {
     "duration": 0.003599,
     "end_time": "2023-01-24T05:40:41.710866",
     "exception": false,
     "start_time": "2023-01-24T05:40:41.707267",
     "status": "completed"
    },
    "tags": []
   },
   "source": [
    "### **Train**"
   ]
  },
  {
   "cell_type": "code",
   "execution_count": 8,
   "id": "05d606a8",
   "metadata": {
    "execution": {
     "iopub.execute_input": "2023-01-24T05:40:41.720089Z",
     "iopub.status.busy": "2023-01-24T05:40:41.719329Z",
     "iopub.status.idle": "2023-01-24T05:40:41.786964Z",
     "shell.execute_reply": "2023-01-24T05:40:41.786098Z"
    },
    "papermill": {
     "duration": 0.074377,
     "end_time": "2023-01-24T05:40:41.789112",
     "exception": false,
     "start_time": "2023-01-24T05:40:41.714735",
     "status": "completed"
    },
    "tags": []
   },
   "outputs": [],
   "source": [
    "df = pd.read_csv(\"/kaggle/input/frre-dataframe/train.csv\")\n",
    "\n",
    "filepaths = df.filepaths.copy().values\n",
    "labels = df.labels.copy().values"
   ]
  },
  {
   "cell_type": "code",
   "execution_count": 9,
   "id": "7fa3fa85",
   "metadata": {
    "execution": {
     "iopub.execute_input": "2023-01-24T05:40:41.798343Z",
     "iopub.status.busy": "2023-01-24T05:40:41.798067Z",
     "iopub.status.idle": "2023-01-24T06:53:43.626592Z",
     "shell.execute_reply": "2023-01-24T06:53:43.625553Z"
    },
    "papermill": {
     "duration": 4381.83562,
     "end_time": "2023-01-24T06:53:43.628916",
     "exception": false,
     "start_time": "2023-01-24T05:40:41.793296",
     "status": "completed"
    },
    "tags": []
   },
   "outputs": [
    {
     "name": "stderr",
     "output_type": "stream",
     "text": [
      "Downloading: \"https://github.com/rwightman/pytorch-image-models/releases/download/v0.1-weights/efficientnet_b4_ra2_320-7eb33cd5.pth\" to /root/.cache/torch/hub/checkpoints/efficientnet_b4_ra2_320-7eb33cd5.pth\n"
     ]
    },
    {
     "name": "stdout",
     "output_type": "stream",
     "text": [
      "\n",
      "**************************************************\n",
      "\n",
      "Training Fold 1...\n",
      "\n",
      "**************************************************\n",
      "\n",
      "Epoch: 1 | Train Loss: 2.25327 | Valid Loss: 0.03742 | Train Accs: 0.43939 | Valid Accs: 0.98909 | Time: 141.16 seconds\n",
      "Epoch: 2 | Train Loss: 0.04865 | Valid Loss: 0.00285 | Train Accs: 0.98541 | Valid Accs: 0.99941 | Time: 86.73 seconds\n",
      "Epoch: 3 | Train Loss: 0.02855 | Valid Loss: 0.00211 | Train Accs: 0.99267 | Valid Accs: 0.99971 | Time: 86.69 seconds\n",
      "Epoch: 4 | Train Loss: 0.01346 | Valid Loss: 0.00004 | Train Accs: 0.99619 | Valid Accs: 1.00000 | Time: 88.24 seconds\n",
      "Epoch: 5 | Train Loss: 0.00846 | Valid Loss: 0.00006 | Train Accs: 0.99763 | Valid Accs: 1.00000 | Time: 84.48 seconds\n",
      "Epoch: 6 | Train Loss: 0.00552 | Valid Loss: 0.00008 | Train Accs: 0.99837 | Valid Accs: 1.00000 | Time: 86.31 seconds\n",
      "Epoch: 7 | Train Loss: 0.00369 | Valid Loss: 0.00040 | Train Accs: 0.99896 | Valid Accs: 1.00000 | Time: 83.55 seconds\n",
      "Epoch: 8 | Train Loss: 0.00282 | Valid Loss: 0.00002 | Train Accs: 0.99933 | Valid Accs: 1.00000 | Time: 85.80 seconds\n",
      "Epoch: 9 | Train Loss: 0.00082 | Valid Loss: 0.00002 | Train Accs: 0.99985 | Valid Accs: 1.00000 | Time: 85.88 seconds\n",
      "Epoch: 10 | Train Loss: 0.00140 | Valid Loss: 0.00001 | Train Accs: 0.99956 | Valid Accs: 1.00000 | Time: 84.55 seconds\n",
      "\n",
      "**************************************************\n",
      "\n",
      "Best Validation Loss at Epoch 10\n",
      "\n",
      "**************************************************\n",
      "\n",
      "Best Validation Accs at Epoch 4\n",
      "\n",
      "**************************************************\n",
      "\n",
      "Time Taken [10 Epochs] : 15.22 minutes\n",
      "\n",
      "**************************************************\n",
      "\n"
     ]
    },
    {
     "data": {
      "image/png": "[encoded data removed]",
      "text/plain": [
       "<Figure size 432x288 with 1 Axes>"
      ]
     },
     "metadata": {
      "needs_background": "light"
     },
     "output_type": "display_data"
    },
    {
     "name": "stdout",
     "output_type": "stream",
     "text": [
      "\n",
      "**************************************************\n",
      "\n"
     ]
    },
    {
     "data": {
      "image/png": "[encoded data removed]",
      "text/plain": [
       "<Figure size 432x288 with 1 Axes>"
      ]
     },
     "metadata": {
      "needs_background": "light"
     },
     "output_type": "display_data"
    },
    {
     "name": "stdout",
     "output_type": "stream",
     "text": [
      "\n",
      "**************************************************\n",
      "\n"
     ]
    },
    {
     "data": {
      "image/png": "[encoded data removed]",
      "text/plain": [
       "<Figure size 576x432 with 1 Axes>"
      ]
     },
     "metadata": {
      "needs_background": "light"
     },
     "output_type": "display_data"
    },
    {
     "name": "stdout",
     "output_type": "stream",
     "text": [
      "\n",
      "**************************************************\n",
      "\n",
      "\n",
      "**************************************************\n",
      "\n",
      "Training Fold 2...\n",
      "\n",
      "**************************************************\n",
      "\n",
      "Epoch: 1 | Train Loss: 2.24295 | Valid Loss: 0.05045 | Train Accs: 0.45053 | Valid Accs: 0.98172 | Time: 86.57 seconds\n",
      "Epoch: 2 | Train Loss: 0.04398 | Valid Loss: 0.00348 | Train Accs: 0.98534 | Valid Accs: 0.99912 | Time: 87.11 seconds\n",
      "Epoch: 3 | Train Loss: 0.02243 | Valid Loss: 0.00008 | Train Accs: 0.99415 | Valid Accs: 1.00000 | Time: 86.88 seconds\n",
      "Epoch: 4 | Train Loss: 0.01653 | Valid Loss: 0.00045 | Train Accs: 0.99541 | Valid Accs: 1.00000 | Time: 85.92 seconds\n",
      "Epoch: 5 | Train Loss: 0.00716 | Valid Loss: 0.00056 | Train Accs: 0.99815 | Valid Accs: 0.99971 | Time: 87.00 seconds\n",
      "Epoch: 6 | Train Loss: 0.00560 | Valid Loss: 0.00008 | Train Accs: 0.99874 | Valid Accs: 1.00000 | Time: 88.27 seconds\n",
      "Epoch: 7 | Train Loss: 0.00353 | Valid Loss: 0.00009 | Train Accs: 0.99919 | Valid Accs: 1.00000 | Time: 97.11 seconds\n",
      "Epoch: 8 | Train Loss: 0.00331 | Valid Loss: 0.00001 | Train Accs: 0.99911 | Valid Accs: 1.00000 | Time: 99.85 seconds\n",
      "Epoch: 9 | Train Loss: 0.00113 | Valid Loss: 0.00001 | Train Accs: 0.99963 | Valid Accs: 1.00000 | Time: 84.98 seconds\n",
      "Epoch: 10 | Train Loss: 0.00105 | Valid Loss: 0.00001 | Train Accs: 0.99970 | Valid Accs: 1.00000 | Time: 84.24 seconds\n",
      "\n",
      "**************************************************\n",
      "\n",
      "Best Validation Loss at Epoch 10\n",
      "\n",
      "**************************************************\n",
      "\n",
      "Best Validation Accs at Epoch 3\n",
      "\n",
      "**************************************************\n",
      "\n",
      "Time Taken [10 Epochs] : 14.80 minutes\n",
      "\n",
      "**************************************************\n",
      "\n"
     ]
    },
    {
     "data": {
      "image/png": "[encoded data removed]",
      "text/plain": [
       "<Figure size 432x288 with 1 Axes>"
      ]
     },
     "metadata": {
      "needs_background": "light"
     },
     "output_type": "display_data"
    },
    {
     "name": "stdout",
     "output_type": "stream",
     "text": [
      "\n",
      "**************************************************\n",
      "\n"
     ]
    },
    {
     "data": {
      "image/png": "[encoded data removed]",
      "text/plain": [
       "<Figure size 432x288 with 1 Axes>"
      ]
     },
     "metadata": {
      "needs_background": "light"
     },
     "output_type": "display_data"
    },
    {
     "name": "stdout",
     "output_type": "stream",
     "text": [
      "\n",
      "**************************************************\n",
      "\n"
     ]
    },
    {
     "data": {
      "image/png": "[encoded data removed]",
      "text/plain": [
       "<Figure size 576x432 with 1 Axes>"
      ]
     },
     "metadata": {
      "needs_background": "light"
     },
     "output_type": "display_data"
    },
    {
     "name": "stdout",
     "output_type": "stream",
     "text": [
      "\n",
      "**************************************************\n",
      "\n",
      "\n",
      "**************************************************\n",
      "\n",
      "Training Fold 3...\n",
      "\n",
      "**************************************************\n",
      "\n",
      "Epoch: 1 | Train Loss: 2.26404 | Valid Loss: 0.02170 | Train Accs: 0.44365 | Valid Accs: 0.99410 | Time: 84.73 seconds\n",
      "Epoch: 2 | Train Loss: 0.05079 | Valid Loss: 0.00922 | Train Accs: 0.98508 | Valid Accs: 0.99735 | Time: 91.25 seconds\n",
      "Epoch: 3 | Train Loss: 0.02493 | Valid Loss: 0.00295 | Train Accs: 0.99337 | Valid Accs: 1.00000 | Time: 90.75 seconds\n",
      "Epoch: 4 | Train Loss: 0.01119 | Valid Loss: 0.00067 | Train Accs: 0.99696 | Valid Accs: 0.99971 | Time: 85.57 seconds\n",
      "Epoch: 5 | Train Loss: 0.00708 | Valid Loss: 0.00004 | Train Accs: 0.99837 | Valid Accs: 1.00000 | Time: 96.63 seconds\n",
      "Epoch: 6 | Train Loss: 0.00385 | Valid Loss: 0.01279 | Train Accs: 0.99867 | Valid Accs: 0.99440 | Time: 84.21 seconds\n",
      "Epoch: 7 | Train Loss: 0.00526 | Valid Loss: 0.00009 | Train Accs: 0.99882 | Valid Accs: 1.00000 | Time: 83.68 seconds\n",
      "Epoch: 8 | Train Loss: 0.00129 | Valid Loss: 0.00005 | Train Accs: 0.99941 | Valid Accs: 1.00000 | Time: 83.31 seconds\n",
      "Epoch: 9 | Train Loss: 0.00090 | Valid Loss: 0.00001 | Train Accs: 0.99978 | Valid Accs: 1.00000 | Time: 84.08 seconds\n",
      "Epoch: 10 | Train Loss: 0.00065 | Valid Loss: 0.00002 | Train Accs: 0.99978 | Valid Accs: 1.00000 | Time: 84.73 seconds\n",
      "\n",
      "**************************************************\n",
      "\n",
      "Best Validation Loss at Epoch 9\n",
      "\n",
      "**************************************************\n",
      "\n",
      "Best Validation Accs at Epoch 3\n",
      "\n",
      "**************************************************\n",
      "\n",
      "Time Taken [10 Epochs] : 14.48 minutes\n",
      "\n",
      "**************************************************\n",
      "\n"
     ]
    },
    {
     "data": {
      "image/png": "[encoded data removed]",
      "text/plain": [
       "<Figure size 432x288 with 1 Axes>"
      ]
     },
     "metadata": {
      "needs_background": "light"
     },
     "output_type": "display_data"
    },
    {
     "name": "stdout",
     "output_type": "stream",
     "text": [
      "\n",
      "**************************************************\n",
      "\n"
     ]
    },
    {
     "data": {
      "image/png": "[encoded data removed]",
      "text/plain": [
       "<Figure size 432x288 with 1 Axes>"
      ]
     },
     "metadata": {
      "needs_background": "light"
     },
     "output_type": "display_data"
    },
    {
     "name": "stdout",
     "output_type": "stream",
     "text": [
      "\n",
      "**************************************************\n",
      "\n"
     ]
    },
    {
     "data": {
      "image/png": "[encoded data removed]",
      "text/plain": [
       "<Figure size 576x432 with 1 Axes>"
      ]
     },
     "metadata": {
      "needs_background": "light"
     },
     "output_type": "display_data"
    },
    {
     "name": "stdout",
     "output_type": "stream",
     "text": [
      "\n",
      "**************************************************\n",
      "\n",
      "\n",
      "**************************************************\n",
      "\n",
      "Training Fold 4...\n",
      "\n",
      "**************************************************\n",
      "\n",
      "Epoch: 1 | Train Loss: 2.24066 | Valid Loss: 0.01181 | Train Accs: 0.44861 | Valid Accs: 0.99735 | Time: 85.42 seconds\n",
      "Epoch: 2 | Train Loss: 0.04781 | Valid Loss: 0.00464 | Train Accs: 0.98508 | Valid Accs: 0.99912 | Time: 85.27 seconds\n",
      "Epoch: 3 | Train Loss: 0.02484 | Valid Loss: 0.00029 | Train Accs: 0.99371 | Valid Accs: 1.00000 | Time: 84.95 seconds\n",
      "Epoch: 4 | Train Loss: 0.01037 | Valid Loss: 0.00465 | Train Accs: 0.99726 | Valid Accs: 0.99853 | Time: 83.67 seconds\n",
      "Epoch: 5 | Train Loss: 0.00361 | Valid Loss: 0.00013 | Train Accs: 0.99882 | Valid Accs: 1.00000 | Time: 84.27 seconds\n",
      "Epoch: 6 | Train Loss: 0.00514 | Valid Loss: 0.00013 | Train Accs: 0.99785 | Valid Accs: 1.00000 | Time: 83.12 seconds\n",
      "Epoch: 7 | Train Loss: 0.00288 | Valid Loss: 0.00003 | Train Accs: 0.99904 | Valid Accs: 1.00000 | Time: 84.95 seconds\n",
      "Epoch: 8 | Train Loss: 0.00154 | Valid Loss: 0.00002 | Train Accs: 0.99941 | Valid Accs: 1.00000 | Time: 84.03 seconds\n",
      "Epoch: 9 | Train Loss: 0.00136 | Valid Loss: 0.00001 | Train Accs: 0.99970 | Valid Accs: 1.00000 | Time: 83.96 seconds\n",
      "Epoch: 10 | Train Loss: 0.00066 | Valid Loss: 0.00001 | Train Accs: 0.99985 | Valid Accs: 1.00000 | Time: 83.50 seconds\n",
      "\n",
      "**************************************************\n",
      "\n",
      "Best Validation Loss at Epoch 9\n",
      "\n",
      "**************************************************\n",
      "\n",
      "Best Validation Accs at Epoch 3\n",
      "\n",
      "**************************************************\n",
      "\n",
      "Time Taken [10 Epochs] : 14.05 minutes\n",
      "\n",
      "**************************************************\n",
      "\n"
     ]
    },
    {
     "data": {
      "image/png": "[encoded data removed]",
      "text/plain": [
       "<Figure size 432x288 with 1 Axes>"
      ]
     },
     "metadata": {
      "needs_background": "light"
     },
     "output_type": "display_data"
    },
    {
     "name": "stdout",
     "output_type": "stream",
     "text": [
      "\n",
      "**************************************************\n",
      "\n"
     ]
    },
    {
     "data": {
      "image/png": "[encoded data removed]",
      "text/plain": [
       "<Figure size 432x288 with 1 Axes>"
      ]
     },
     "metadata": {
      "needs_background": "light"
     },
     "output_type": "display_data"
    },
    {
     "name": "stdout",
     "output_type": "stream",
     "text": [
      "\n",
      "**************************************************\n",
      "\n"
     ]
    },
    {
     "data": {
      "image/png": "[encoded data removed]",
      "text/plain": [
       "<Figure size 576x432 with 1 Axes>"
      ]
     },
     "metadata": {
      "needs_background": "light"
     },
     "output_type": "display_data"
    },
    {
     "name": "stdout",
     "output_type": "stream",
     "text": [
      "\n",
      "**************************************************\n",
      "\n",
      "\n",
      "**************************************************\n",
      "\n",
      "Training Fold 5...\n",
      "\n",
      "**************************************************\n",
      "\n",
      "Epoch: 1 | Train Loss: 2.22969 | Valid Loss: 0.01008 | Train Accs: 0.44931 | Valid Accs: 0.99882 | Time: 84.53 seconds\n",
      "Epoch: 2 | Train Loss: 0.05003 | Valid Loss: 0.00280 | Train Accs: 0.98489 | Valid Accs: 0.99912 | Time: 85.85 seconds\n",
      "Epoch: 3 | Train Loss: 0.02173 | Valid Loss: 0.00074 | Train Accs: 0.99400 | Valid Accs: 0.99971 | Time: 85.53 seconds\n",
      "Epoch: 4 | Train Loss: 0.01260 | Valid Loss: 0.00061 | Train Accs: 0.99715 | Valid Accs: 1.00000 | Time: 85.39 seconds\n",
      "Epoch: 5 | Train Loss: 0.01228 | Valid Loss: 0.00013 | Train Accs: 0.99645 | Valid Accs: 1.00000 | Time: 85.28 seconds\n",
      "Epoch: 6 | Train Loss: 0.00505 | Valid Loss: 0.00036 | Train Accs: 0.99882 | Valid Accs: 1.00000 | Time: 83.95 seconds\n",
      "Epoch: 7 | Train Loss: 0.00164 | Valid Loss: 0.00002 | Train Accs: 0.99956 | Valid Accs: 1.00000 | Time: 83.85 seconds\n",
      "Epoch: 8 | Train Loss: 0.00145 | Valid Loss: 0.00002 | Train Accs: 0.99963 | Valid Accs: 1.00000 | Time: 84.13 seconds\n",
      "Epoch: 9 | Train Loss: 0.00126 | Valid Loss: 0.00001 | Train Accs: 0.99963 | Valid Accs: 1.00000 | Time: 84.20 seconds\n",
      "Epoch: 10 | Train Loss: 0.00086 | Valid Loss: 0.00001 | Train Accs: 0.99978 | Valid Accs: 1.00000 | Time: 82.47 seconds\n",
      "\n",
      "**************************************************\n",
      "\n",
      "Best Validation Loss at Epoch 9\n",
      "\n",
      "**************************************************\n",
      "\n",
      "Best Validation Accs at Epoch 4\n",
      "\n",
      "**************************************************\n",
      "\n",
      "Time Taken [10 Epochs] : 14.09 minutes\n",
      "\n",
      "**************************************************\n",
      "\n"
     ]
    },
    {
     "data": {
      "image/png": "[encoded data removed]",
      "text/plain": [
       "<Figure size 432x288 with 1 Axes>"
      ]
     },
     "metadata": {
      "needs_background": "light"
     },
     "output_type": "display_data"
    },
    {
     "name": "stdout",
     "output_type": "stream",
     "text": [
      "\n",
      "**************************************************\n",
      "\n"
     ]
    },
    {
     "data": {
      "image/png": "[encoded data removed]",
      "text/plain": [
       "<Figure size 432x288 with 1 Axes>"
      ]
     },
     "metadata": {
      "needs_background": "light"
     },
     "output_type": "display_data"
    },
    {
     "name": "stdout",
     "output_type": "stream",
     "text": [
      "\n",
      "**************************************************\n",
      "\n"
     ]
    },
    {
     "data": {
      "image/png": "[encoded data removed]",
      "text/plain": [
       "<Figure size 576x432 with 1 Axes>"
      ]
     },
     "metadata": {
      "needs_background": "light"
     },
     "output_type": "display_data"
    },
    {
     "name": "stdout",
     "output_type": "stream",
     "text": [
      "\n",
      "**************************************************\n",
      "\n"
     ]
    }
   ],
   "source": [
    "fold: int = 1\n",
    "BLs: list = []\n",
    "BAs: list = []\n",
    "    \n",
    "cfg.batch_size = 64\n",
    "cfg.epochs = 10\n",
    "    \n",
    "for tr_idx, va_idx in StratifiedKFold(n_splits=cfg.n_splits, random_state=cfg.seed, shuffle=True).split(filepaths, labels):\n",
    "#     if fold == 1: break\n",
    "#     fold += 1\n",
    "\n",
    "    tr_filepaths, va_filepaths = filepaths[tr_idx], filepaths[va_idx] \n",
    "    tr_labels, va_labels       = labels[tr_idx], labels[va_idx]\n",
    "\n",
    "    tr_data_setup = DS(\n",
    "        filepaths=tr_filepaths, \n",
    "        labels=tr_labels.reshape(-1, 1),\n",
    "        size=cfg.size,\n",
    "        transform=cfg.train_transform\n",
    "    )\n",
    "\n",
    "    va_data_setup = DS(\n",
    "        filepaths=va_filepaths, \n",
    "        labels=va_labels.reshape(-1, 1),\n",
    "        size=cfg.size,\n",
    "        transform=cfg.valid_transform\n",
    "    )\n",
    "\n",
    "    dataloaders = {\n",
    "        \"train\" : DL(tr_data_setup, batch_size=cfg.batch_size, shuffle=True, generator=torch.manual_seed(cfg.seed)),\n",
    "        \"valid\" : DL(va_data_setup, batch_size=cfg.batch_size, shuffle=False),\n",
    "    }\n",
    "\n",
    "    cfg.steps_per_epoch=len(dataloaders[\"train\"])\n",
    "\n",
    "    torch.manual_seed(cfg.seed)\n",
    "    model = Model().to(cfg.device)\n",
    "\n",
    "    optimizer = optim.Adam([p for p in model.parameters() if p.requires_grad], lr=cfg.lr, weight_decay=cfg.wd)\n",
    "    # optimizer = optim.AdamW([p for p in model.parameters() if p.requires_grad], lr=cfg.lr, weight_decay=cfg.wd)\n",
    "    # optimizer = optim.SGD([p for p in model.parameters() if p.requires_grad], lr=cfg.lr, weight_decay=cfg.wd, momentum=0.9)\n",
    "\n",
    "    scheduler_oclr = optim.lr_scheduler.OneCycleLR(\n",
    "        optimizer=optimizer, \n",
    "        max_lr=cfg.max_lr, \n",
    "        epochs=cfg.epochs, \n",
    "        steps_per_epoch=cfg.steps_per_epoch,\n",
    "        pct_start=cfg.pct_start, \n",
    "        div_factor=cfg.div_factor, \n",
    "        final_div_factor=cfg.final_div_factor\n",
    "    )\n",
    "\n",
    "    # scheduler_rlrop = optim.lr_scheduler.ReduceLROnPlateau(\n",
    "    #     optimizer=optimizer,\n",
    "    #     patience=cfg.patience,\n",
    "    #     eps=cfg.eps,\n",
    "    #     verbose=True\n",
    "    # )\n",
    "\n",
    "    # scheduler_oclr = None\n",
    "    scheduler_rlrop = None\n",
    "\n",
    "\n",
    "    L, A, LR, BL, BA, _, _, _, _ = fit(\n",
    "        model=model, \n",
    "        optimizer=optimizer, \n",
    "        scheduler_oclr=scheduler_oclr,\n",
    "        scheduler_rlrop=scheduler_rlrop,\n",
    "        epochs=cfg.epochs, \n",
    "        early_stopping_patience=cfg.early_stopping, \n",
    "        dataloaders=dataloaders, \n",
    "        device=cfg.device,\n",
    "        save_path=cfg.save_path,\n",
    "        fold=fold,\n",
    "        verbose=True\n",
    "    )\n",
    "\n",
    "\n",
    "    breaker()\n",
    "    show_loss_graphs(L)\n",
    "    breaker()\n",
    "    show_accuracy_graphs(A)\n",
    "    breaker()\n",
    "    if scheduler_oclr:\n",
    "        show_lr_graph(LR)\n",
    "        breaker()\n",
    "\n",
    "    BLs.append(BL)\n",
    "    BAs.append(BA)\n",
    "\n",
    "    fold += 1"
   ]
  },
  {
   "cell_type": "markdown",
   "id": "4c2570d2",
   "metadata": {
    "papermill": {
     "duration": 0.010093,
     "end_time": "2023-01-24T06:53:43.649664",
     "exception": false,
     "start_time": "2023-01-24T06:53:43.639571",
     "status": "completed"
    },
    "tags": []
   },
   "source": [
    "### **Best Model**"
   ]
  },
  {
   "cell_type": "code",
   "execution_count": 10,
   "id": "b9d61087",
   "metadata": {
    "execution": {
     "iopub.execute_input": "2023-01-24T06:53:43.672646Z",
     "iopub.status.busy": "2023-01-24T06:53:43.671863Z",
     "iopub.status.idle": "2023-01-24T06:53:43.679383Z",
     "shell.execute_reply": "2023-01-24T06:53:43.678082Z"
    },
    "papermill": {
     "duration": 0.021229,
     "end_time": "2023-01-24T06:53:43.681307",
     "exception": false,
     "start_time": "2023-01-24T06:53:43.660078",
     "status": "completed"
    },
    "tags": []
   },
   "outputs": [
    {
     "name": "stdout",
     "output_type": "stream",
     "text": [
      "\n",
      "**************************************************\n",
      "\n",
      "Best Loss Model Fold     : 2\n",
      "Best Accuracy Model Fold : 1\n",
      "\n",
      "**************************************************\n",
      "\n"
     ]
    }
   ],
   "source": [
    "BL = np.inf\n",
    "for i in range(len(BLs)):\n",
    "    if BLs[i][\"valid\"] < BL:\n",
    "        BL = BLs[i][\"valid\"]\n",
    "        best_loss_index = i\n",
    "\n",
    "        \n",
    "BA = 0.0\n",
    "for i in range(len(BAs)):\n",
    "    if BAs[i][\"valid\"] > BA:\n",
    "        BA = BAs[i][\"valid\"]\n",
    "        best_accs_index = i\n",
    "\n",
    "breaker()\n",
    "print(f\"Best Loss Model Fold     : {best_loss_index + 1}\")\n",
    "print(f\"Best Accuracy Model Fold : {best_accs_index + 1}\")\n",
    "breaker()"
   ]
  }
 ],
 "metadata": {
  "kernelspec": {
   "display_name": "Python 3",
   "language": "python",
   "name": "python3"
  },
  "language_info": {
   "codemirror_mode": {
    "name": "ipython",
    "version": 3
   },
   "file_extension": ".py",
   "mimetype": "text/x-python",
   "name": "python",
   "nbconvert_exporter": "python",
   "pygments_lexer": "ipython3",
   "version": "3.7.12"
  },
  "papermill": {
   "default_parameters": {},
   "duration": 4405.242774,
   "end_time": "2023-01-24T06:53:45.424644",
   "environment_variables": {},
   "exception": null,
   "input_path": "__notebook__.ipynb",
   "output_path": "__notebook__.ipynb",
   "parameters": {},
   "start_time": "2023-01-24T05:40:20.181870",
   "version": "2.3.4"
  }
 },
 "nbformat": 4,
 "nbformat_minor": 5
}
