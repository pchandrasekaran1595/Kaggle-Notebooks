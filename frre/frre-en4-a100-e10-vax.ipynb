{
 "cells": [
  {
   "cell_type": "markdown",
   "id": "b74c5f3a",
   "metadata": {
    "_cell_guid": "b1076dfc-b9ad-4769-8c92-a6c4dae69d19",
    "_uuid": "8f2839f25d086af736a60e9eeb907d3b93b6e0e5",
    "papermill": {
     "duration": 0.004716,
     "end_time": "2023-01-24T05:38:40.151523",
     "exception": false,
     "start_time": "2023-01-24T05:38:40.146807",
     "status": "completed"
    },
    "tags": []
   },
   "source": [
    "### **Setup**"
   ]
  },
  {
   "cell_type": "code",
   "execution_count": 1,
   "id": "8ca395af",
   "metadata": {
    "execution": {
     "iopub.execute_input": "2023-01-24T05:38:40.161175Z",
     "iopub.status.busy": "2023-01-24T05:38:40.160329Z",
     "iopub.status.idle": "2023-01-24T05:38:49.607744Z",
     "shell.execute_reply": "2023-01-24T05:38:49.605856Z"
    },
    "papermill": {
     "duration": 9.45581,
     "end_time": "2023-01-24T05:38:49.611009",
     "exception": false,
     "start_time": "2023-01-24T05:38:40.155199",
     "status": "completed"
    },
    "tags": []
   },
   "outputs": [
    {
     "name": "stderr",
     "output_type": "stream",
     "text": [
      "WARNING: Running pip as the 'root' user can result in broken permissions and conflicting behaviour with the system package manager. It is recommended to use a virtual environment instead: https://pip.pypa.io/warnings/venv\n"
     ]
    }
   ],
   "source": [
    "%%bash\n",
    "pip install timm -q"
   ]
  },
  {
   "cell_type": "markdown",
   "id": "4abc16a5",
   "metadata": {
    "papermill": {
     "duration": 0.003483,
     "end_time": "2023-01-24T05:38:49.618541",
     "exception": false,
     "start_time": "2023-01-24T05:38:49.615058",
     "status": "completed"
    },
    "tags": []
   },
   "source": [
    "### **Library Imports**"
   ]
  },
  {
   "cell_type": "code",
   "execution_count": 2,
   "id": "bc9c8f4d",
   "metadata": {
    "execution": {
     "iopub.execute_input": "2023-01-24T05:38:49.627272Z",
     "iopub.status.busy": "2023-01-24T05:38:49.626930Z",
     "iopub.status.idle": "2023-01-24T05:38:53.512442Z",
     "shell.execute_reply": "2023-01-24T05:38:53.511306Z"
    },
    "papermill": {
     "duration": 3.893089,
     "end_time": "2023-01-24T05:38:53.515105",
     "exception": false,
     "start_time": "2023-01-24T05:38:49.622016",
     "status": "completed"
    },
    "tags": []
   },
   "outputs": [],
   "source": [
    "import os\n",
    "import re\n",
    "import cv2\n",
    "import timm\n",
    "import torch\n",
    "import numpy as np\n",
    "import pandas as pd\n",
    "import matplotlib.pyplot as plt\n",
    "\n",
    "from time import time\n",
    "from PIL import Image\n",
    "from typing import Union\n",
    "from torch import nn, optim\n",
    "from torch.utils.data import Dataset\n",
    "from torch.utils.data import DataLoader as DL\n",
    "from torchvision import transforms\n",
    "\n",
    "from sklearn.model_selection import StratifiedKFold"
   ]
  },
  {
   "cell_type": "markdown",
   "id": "49e62cd3",
   "metadata": {
    "papermill": {
     "duration": 0.003617,
     "end_time": "2023-01-24T05:38:53.522866",
     "exception": false,
     "start_time": "2023-01-24T05:38:53.519249",
     "status": "completed"
    },
    "tags": []
   },
   "source": [
    "### **Utilities and Helpers**"
   ]
  },
  {
   "cell_type": "code",
   "execution_count": 3,
   "id": "05038b49",
   "metadata": {
    "execution": {
     "iopub.execute_input": "2023-01-24T05:38:53.532159Z",
     "iopub.status.busy": "2023-01-24T05:38:53.531464Z",
     "iopub.status.idle": "2023-01-24T05:38:53.546228Z",
     "shell.execute_reply": "2023-01-24T05:38:53.545337Z"
    },
    "papermill": {
     "duration": 0.021993,
     "end_time": "2023-01-24T05:38:53.548558",
     "exception": false,
     "start_time": "2023-01-24T05:38:53.526565",
     "status": "completed"
    },
    "tags": []
   },
   "outputs": [],
   "source": [
    "SEED: int = 42\n",
    "SIZE: int = 100\n",
    "\n",
    "\n",
    "def breaker(num: int=50, char: str=\"*\") -> None: print(\"\\n\" + num*char + \"\\n\")\n",
    "\n",
    "    \n",
    "def get_image(path: str, size: int=224) -> np.ndarray:\n",
    "    image = cv2.imread(path, cv2.IMREAD_COLOR)\n",
    "    image = cv2.cvtColor(src=image, code=cv2.COLOR_BGR2RGB)\n",
    "    if image.shape == (100, 100, 3) and size == 100: return image\n",
    "    return cv2.resize(src=image, dsize=(size, size), interpolation=cv2.INTER_AREA)\n",
    "\n",
    "    \n",
    "def show_loss_graphs(L: list) -> None:\n",
    "    TL, VL = [], []\n",
    "    for i in range(len(L)):\n",
    "        TL.append(L[i][\"train\"])\n",
    "        VL.append(L[i][\"valid\"])\n",
    "    x_Axis = np.arange(1, len(TL) + 1)\n",
    "    plt.figure()\n",
    "    plt.plot(x_Axis, TL, \"r\", label=\"Train\")\n",
    "    plt.plot(x_Axis, VL, \"b\", label=\"Valid\")\n",
    "    plt.legend()\n",
    "    plt.grid()\n",
    "    plt.title(\"Loss Graph\")\n",
    "    plt.show()\n",
    "\n",
    "    \n",
    "def show_accuracy_graphs(A: list) -> None:\n",
    "    TA, VA = [], []\n",
    "    for i in range(len(A)):\n",
    "        TA.append(A[i][\"train\"])\n",
    "        VA.append(A[i][\"valid\"])\n",
    "    x_Axis = np.arange(1, len(TA) + 1)\n",
    "    plt.figure()\n",
    "    plt.plot(x_Axis, TA, \"r\", label=\"Train\")\n",
    "    plt.plot(x_Axis, VA, \"b\", label=\"Valid\")\n",
    "    plt.legend()\n",
    "    plt.grid()\n",
    "    plt.title(\"Accuracy Graph\")\n",
    "    plt.show()\n",
    "    \n",
    "\n",
    "def show_lr_graph(LR: list) -> None:\n",
    "    x_Axis = [i+1 for i in range(len(LR))]\n",
    "    plt.figure(figsize=(8, 6))\n",
    "    plt.plot(x_Axis, LR, \"rx\")\n",
    "    plt.grid()\n",
    "    plt.show()"
   ]
  },
  {
   "cell_type": "markdown",
   "id": "b45dd68c",
   "metadata": {
    "papermill": {
     "duration": 0.003572,
     "end_time": "2023-01-24T05:38:53.556045",
     "exception": false,
     "start_time": "2023-01-24T05:38:53.552473",
     "status": "completed"
    },
    "tags": []
   },
   "source": [
    "\n",
    "\n",
    "### **Configuration**"
   ]
  },
  {
   "cell_type": "code",
   "execution_count": 4,
   "id": "b03b5fe1",
   "metadata": {
    "execution": {
     "iopub.execute_input": "2023-01-24T05:38:53.565022Z",
     "iopub.status.busy": "2023-01-24T05:38:53.564752Z",
     "iopub.status.idle": "2023-01-24T05:38:53.641657Z",
     "shell.execute_reply": "2023-01-24T05:38:53.640630Z"
    },
    "papermill": {
     "duration": 0.084065,
     "end_time": "2023-01-24T05:38:53.643799",
     "exception": false,
     "start_time": "2023-01-24T05:38:53.559734",
     "status": "completed"
    },
    "tags": []
   },
   "outputs": [],
   "source": [
    "class CFG(object):\n",
    "    def __init__(self,\n",
    "             seed: int = 42,\n",
    "             size: int = 224,\n",
    "             n_splits: int = 5,\n",
    "             batch_size: int = 16,\n",
    "             epochs: int = 25,\n",
    "             early_stopping: int = 5,\n",
    "             lr: float = 1e-4,\n",
    "             wd: float = 0.0,\n",
    "             max_lr: float = 1e-3,\n",
    "             pct_start: float = 0.2,\n",
    "             steps_per_epoch: int = 100,\n",
    "             div_factor: int = 1e3, \n",
    "             final_div_factor: float = 1e3,\n",
    "         ):\n",
    "        self.seed = seed\n",
    "        self.size = size\n",
    "        self.n_splits = n_splits\n",
    "        self.batch_size = batch_size\n",
    "        self.epochs = epochs\n",
    "        self.early_stopping = early_stopping\n",
    "        self.lr = lr\n",
    "        self.wd = wd\n",
    "        self.max_lr = max_lr\n",
    "        self.pct_start = pct_start\n",
    "        self.steps_per_epoch = steps_per_epoch\n",
    "        self.div_factor = div_factor\n",
    "        self.final_div_factor = final_div_factor\n",
    "        self.device = torch.device(\"cuda\" if torch.cuda.is_available() else \"cpu\")\n",
    "        \n",
    "        if self.size == 100:\n",
    "            self.train_transform = transforms.Compose([\n",
    "                transforms.ToTensor(),\n",
    "                transforms.Normalize([0.64337, 0.55080, 0.48389], [0.27695, 0.33077, 0.37175]),\n",
    "                transforms.RandomAffine(degrees=(-45, 45), translate=(0.15, 0.15), scale=(0.5, 1.5)),\n",
    "                transforms.RandomHorizontalFlip(p=0.25),\n",
    "                transforms.RandomVerticalFlip(p=0.25),\n",
    "            ])\n",
    "            self.valid_transform = transforms.Compose([\n",
    "                transforms.ToTensor(),\n",
    "                transforms.Normalize([0.64337, 0.55080, 0.48389], [0.27695, 0.33077, 0.37175]),\n",
    "            ])\n",
    "        \n",
    "        if self.size == 224:\n",
    "            self.train_transform = transforms.Compose([\n",
    "                transforms.ToTensor(),\n",
    "                transforms.Normalize([0.64322, 0.55066, 0.48374], [0.27586, 0.32975, 0.37079]),\n",
    "                transforms.RandomAffine(degrees=(-45, 45), translate=(0.15, 0.15), scale=(0.5, 1.5)),\n",
    "                transforms.RandomHorizontalFlip(p=0.25),\n",
    "                transforms.RandomVerticalFlip(p=0.25),\n",
    "            ])\n",
    "            self.valid_transform = transforms.Compose([\n",
    "                transforms.ToTensor(),\n",
    "                transforms.Normalize([0.64322, 0.55066, 0.48374], [0.27586, 0.32975, 0.37079]),\n",
    "            ])\n",
    "                                \n",
    "        self.save_path = \"saves\"\n",
    "        if not os.path.exists(self.save_path): os.makedirs(self.save_path)\n",
    "    \n",
    "cfg = CFG(\n",
    "    seed=SEED, \n",
    "    size=SIZE\n",
    ")"
   ]
  },
  {
   "cell_type": "markdown",
   "id": "a7c13971",
   "metadata": {
    "papermill": {
     "duration": 0.004177,
     "end_time": "2023-01-24T05:38:53.652098",
     "exception": false,
     "start_time": "2023-01-24T05:38:53.647921",
     "status": "completed"
    },
    "tags": []
   },
   "source": [
    "### **Dataset Template**"
   ]
  },
  {
   "cell_type": "code",
   "execution_count": 5,
   "id": "ca460999",
   "metadata": {
    "execution": {
     "iopub.execute_input": "2023-01-24T05:38:53.661606Z",
     "iopub.status.busy": "2023-01-24T05:38:53.660730Z",
     "iopub.status.idle": "2023-01-24T05:38:53.669083Z",
     "shell.execute_reply": "2023-01-24T05:38:53.667929Z"
    },
    "papermill": {
     "duration": 0.015521,
     "end_time": "2023-01-24T05:38:53.671406",
     "exception": false,
     "start_time": "2023-01-24T05:38:53.655885",
     "status": "completed"
    },
    "tags": []
   },
   "outputs": [],
   "source": [
    "class DS(Dataset):\n",
    "    def __init__(\n",
    "        self, \n",
    "        filepaths: np.ndarray, \n",
    "        size: int,\n",
    "        labels: Union[np.ndarray, None]=None, \n",
    "        transform=None\n",
    "    ):\n",
    "        \n",
    "        self.filepaths = filepaths\n",
    "        self.labels = labels\n",
    "        self.size = size\n",
    "        self.transform = transform\n",
    "    \n",
    "    def __len__(self):\n",
    "        return self.filepaths.shape[0]\n",
    "    \n",
    "    def __getitem__(self, idx):\n",
    "        image = get_image(self.filepaths[idx], self.size)\n",
    "        if self.labels is None:\n",
    "            return self.transform(image)\n",
    "        return self.transform(image), torch.LongTensor(self.labels[idx])"
   ]
  },
  {
   "cell_type": "markdown",
   "id": "8be4e837",
   "metadata": {
    "papermill": {
     "duration": 0.003664,
     "end_time": "2023-01-24T05:38:53.678878",
     "exception": false,
     "start_time": "2023-01-24T05:38:53.675214",
     "status": "completed"
    },
    "tags": []
   },
   "source": [
    "### **Model**"
   ]
  },
  {
   "cell_type": "code",
   "execution_count": 6,
   "id": "695f539c",
   "metadata": {
    "execution": {
     "iopub.execute_input": "2023-01-24T05:38:53.688003Z",
     "iopub.status.busy": "2023-01-24T05:38:53.687720Z",
     "iopub.status.idle": "2023-01-24T05:38:53.693806Z",
     "shell.execute_reply": "2023-01-24T05:38:53.692788Z"
    },
    "papermill": {
     "duration": 0.013523,
     "end_time": "2023-01-24T05:38:53.696234",
     "exception": false,
     "start_time": "2023-01-24T05:38:53.682711",
     "status": "completed"
    },
    "tags": []
   },
   "outputs": [],
   "source": [
    "class Model(nn.Module):\n",
    "    def __init__(self):\n",
    "        super(Model, self).__init__()\n",
    "            \n",
    "        self.model = timm.create_model(model_name=\"efficientnet_b4\", pretrained=True)\n",
    "        self.model.classifier = nn.Linear(in_features=self.model.classifier.in_features, out_features=33)\n",
    "\n",
    "    def forward(self, x):\n",
    "        return nn.LogSoftmax(dim=1)(self.model(x))"
   ]
  },
  {
   "cell_type": "markdown",
   "id": "886be8bf",
   "metadata": {
    "papermill": {
     "duration": 0.003844,
     "end_time": "2023-01-24T05:38:53.703920",
     "exception": false,
     "start_time": "2023-01-24T05:38:53.700076",
     "status": "completed"
    },
    "tags": []
   },
   "source": [
    "### **Fit and Predict**"
   ]
  },
  {
   "cell_type": "code",
   "execution_count": 7,
   "id": "f8d602b2",
   "metadata": {
    "execution": {
     "iopub.execute_input": "2023-01-24T05:38:53.713999Z",
     "iopub.status.busy": "2023-01-24T05:38:53.713370Z",
     "iopub.status.idle": "2023-01-24T05:38:53.735287Z",
     "shell.execute_reply": "2023-01-24T05:38:53.734412Z"
    },
    "papermill": {
     "duration": 0.029517,
     "end_time": "2023-01-24T05:38:53.737309",
     "exception": false,
     "start_time": "2023-01-24T05:38:53.707792",
     "status": "completed"
    },
    "tags": []
   },
   "outputs": [],
   "source": [
    "def fit(\n",
    "    model=None,\n",
    "    optimizer=None, \n",
    "    scheduler_rlrop=None,\n",
    "    scheduler_oclr=None,\n",
    "    epochs=None, \n",
    "    early_stopping_patience=None, \n",
    "    dataloaders=None, \n",
    "    fold=None, \n",
    "    save_path=None,\n",
    "    device=None,\n",
    "    verbose=False\n",
    ") -> tuple:\n",
    "    \n",
    "    def get_accuracy(y_pred, y_true):\n",
    "        y_pred = torch.argmax(y_pred, dim=1)\n",
    "        return torch.count_nonzero(y_pred == y_true).item() / len(y_pred)\n",
    "    \n",
    "    \n",
    "    if verbose:\n",
    "        breaker()\n",
    "        if fold: print(f\"Training Fold {fold}...\")\n",
    "        else: print(\"Training ...\")\n",
    "        breaker()\n",
    "        \n",
    "    bestLoss: dict = {\"train\" : np.inf, \"valid\" : np.inf} \n",
    "    bestAccs: dict = {\"train\" : 0.0, \"valid\" : 0.0}\n",
    "    \n",
    "    Losses: list = []\n",
    "    Accuracies: list = [] \n",
    "    LRs: list = []\n",
    "        \n",
    "    if fold: \n",
    "        ble_name = f\"ble_state_fold_{fold}.pt\"\n",
    "        bae_name = f\"bae_state_fold_{fold}.pt\"\n",
    "    else: \n",
    "        ble_name = f\"ble_state.pt\"\n",
    "        bae_name = f\"bae_state.pt\"\n",
    "        \n",
    "    start_time = time()\n",
    "    for e in range(epochs):\n",
    "        e_st = time()\n",
    "        epochLoss: dict = {\"train\" : 0.0, \"valid\" : 0.0} \n",
    "        epochAccs: dict = {\"train\" : 0.0, \"valid\" : 0.0}\n",
    "\n",
    "        for phase in [\"train\", \"valid\"]:\n",
    "            if phase == \"train\":\n",
    "                model.train()\n",
    "            else:\n",
    "                model.eval()\n",
    "            \n",
    "            lossPerPass: list = []\n",
    "            accsPerPass: list = []\n",
    "                \n",
    "            for X, y in dataloaders[phase]:\n",
    "                X, y = X.to(device), y.to(device).view(-1)\n",
    "\n",
    "                optimizer.zero_grad()\n",
    "                with torch.set_grad_enabled(phase == \"train\"):\n",
    "                    output = model(X)\n",
    "                    loss = nn.NLLLoss()(output, y)\n",
    "                    if phase == \"train\":\n",
    "                        loss.backward()\n",
    "                        optimizer.step()\n",
    "                        if scheduler_oclr: scheduler_oclr.step()\n",
    "                lossPerPass.append(loss.item())\n",
    "                accsPerPass.append(get_accuracy(output, y))\n",
    "            epochLoss[phase] = np.mean(np.array(lossPerPass))\n",
    "            epochAccs[phase] = np.mean(np.array(accsPerPass))\n",
    "        if scheduler_oclr: LRs.append(scheduler_oclr.get_last_lr())\n",
    "        Losses.append(epochLoss)\n",
    "        Accuracies.append(epochAccs)\n",
    "        \n",
    "        if scheduler_oclr:\n",
    "            save_dict = {\"model_state_dict\"     : model.state_dict(),\n",
    "                         \"optim_state_dict\"     : optimizer.state_dict(),\n",
    "                         \"scheduler_state_dict\" : scheduler_oclr.state_dict()}\n",
    "        \n",
    "        elif scheduler_rlrop:\n",
    "            save_dict = {\"model_state_dict\"     : model.state_dict(),\n",
    "                         \"optim_state_dict\"     : optimizer.state_dict(),\n",
    "                         \"scheduler_state_dict\" : scheduler_rlrop.state_dict()}\n",
    "        \n",
    "        else:\n",
    "            save_dict = {\"model_state_dict\"     : model.state_dict(),\n",
    "                         \"optim_state_dict\"     : optimizer.state_dict()}\n",
    "        \n",
    "        if early_stopping_patience:\n",
    "            if epochLoss[\"valid\"] < bestLoss[\"valid\"]:\n",
    "                bestLoss = epochLoss\n",
    "                BLE = e + 1\n",
    "                torch.save(save_dict, os.path.join(save_path, ble_name))\n",
    "                torch.save(save_dict, os.path.join(save_path, bae_name))\n",
    "                early_stopping_step = 0\n",
    "            else:\n",
    "                early_stopping_step += 1\n",
    "                if early_stopping_step > early_stopping_patience:\n",
    "                    print(\"\\nEarly Stopping at Epoch {}\".format(e + 1))\n",
    "                    break\n",
    "        \n",
    "        if epochLoss[\"valid\"] < bestLoss[\"valid\"]:\n",
    "            bestLoss = epochLoss\n",
    "            BLE = e + 1\n",
    "            torch.save(save_dict,os.path.join(save_path, ble_name))\n",
    "        \n",
    "        if epochAccs[\"valid\"] > bestAccs[\"valid\"]:\n",
    "            bestAccs = epochAccs\n",
    "            BAE = e + 1\n",
    "            torch.save(save_dict,os.path.join(save_path, bae_name))\n",
    "        \n",
    "        if scheduler_rlrop: scheduler_rlrop.step(epochLoss[\"valid\"])\n",
    "        \n",
    "        if verbose:\n",
    "            print(\"Epoch: {} | Train Loss: {:.5f} | Valid Loss: {:.5f} |\\\n",
    " Train Accs: {:.5f} | Valid Accs: {:.5f} | Time: {:.2f} seconds\".format(e+1, \n",
    "                                                                        epochLoss[\"train\"], epochLoss[\"valid\"], \n",
    "                                                                        epochAccs[\"train\"], epochAccs[\"valid\"], \n",
    "                                                                        time()-e_st))\n",
    "\n",
    "    if verbose:                                           \n",
    "        breaker()\n",
    "        print(f\"Best Validation Loss at Epoch {BLE}\")\n",
    "        breaker()\n",
    "        print(f\"Best Validation Accs at Epoch {BAE}\")\n",
    "        breaker()\n",
    "        print(\"Time Taken [{} Epochs] : {:.2f} minutes\".format(len(Losses), (time()-start_time)/60))\n",
    "    \n",
    "    return Losses, Accuracies, LRs, bestLoss, bestAccs, BLE, BAE, ble_name, bae_name\n",
    "\n",
    "\n",
    "# def predict_batch(model=None, dataloader=None, path=None, device=None) -> np.ndarray:\n",
    "#     model.load_state_dict(torch.load(path, map_location=device)[\"model_state_dict\"])\n",
    "#     model.to(device)    \n",
    "#     model.eval()\n",
    "    \n",
    "#     y_pred = torch.zeros(1, 1).to(device)\n",
    "    \n",
    "#     for X in dataloader:\n",
    "#         X = X.to(device)\n",
    "#         with torch.no_grad():\n",
    "#             output = torch.argmax(torch.exp(model(X)), dim=1)\n",
    "#         y_pred = torch.cat((y_pred, output.view(-1, 1)), dim=0)\n",
    "    \n",
    "#     return y_pred[1:].detach().cpu().numpy()"
   ]
  },
  {
   "cell_type": "markdown",
   "id": "70419bf2",
   "metadata": {
    "papermill": {
     "duration": 0.004699,
     "end_time": "2023-01-24T05:38:53.745970",
     "exception": false,
     "start_time": "2023-01-24T05:38:53.741271",
     "status": "completed"
    },
    "tags": []
   },
   "source": [
    "### **Train**"
   ]
  },
  {
   "cell_type": "code",
   "execution_count": 8,
   "id": "92830ecc",
   "metadata": {
    "execution": {
     "iopub.execute_input": "2023-01-24T05:38:53.755296Z",
     "iopub.status.busy": "2023-01-24T05:38:53.755002Z",
     "iopub.status.idle": "2023-01-24T05:38:53.811792Z",
     "shell.execute_reply": "2023-01-24T05:38:53.810826Z"
    },
    "papermill": {
     "duration": 0.064153,
     "end_time": "2023-01-24T05:38:53.814322",
     "exception": false,
     "start_time": "2023-01-24T05:38:53.750169",
     "status": "completed"
    },
    "tags": []
   },
   "outputs": [],
   "source": [
    "df = pd.read_csv(\"/kaggle/input/frre-dataframe/train.csv\")\n",
    "\n",
    "filepaths = df.filepaths.copy().values\n",
    "labels = df.labels.copy().values"
   ]
  },
  {
   "cell_type": "code",
   "execution_count": 9,
   "id": "c6438c11",
   "metadata": {
    "execution": {
     "iopub.execute_input": "2023-01-24T05:38:53.824404Z",
     "iopub.status.busy": "2023-01-24T05:38:53.823739Z",
     "iopub.status.idle": "2023-01-24T06:56:59.904666Z",
     "shell.execute_reply": "2023-01-24T06:56:59.903471Z"
    },
    "papermill": {
     "duration": 4686.088055,
     "end_time": "2023-01-24T06:56:59.906648",
     "exception": false,
     "start_time": "2023-01-24T05:38:53.818593",
     "status": "completed"
    },
    "tags": []
   },
   "outputs": [
    {
     "name": "stderr",
     "output_type": "stream",
     "text": [
      "Downloading: \"https://github.com/rwightman/pytorch-image-models/releases/download/v0.1-weights/efficientnet_b4_ra2_320-7eb33cd5.pth\" to /root/.cache/torch/hub/checkpoints/efficientnet_b4_ra2_320-7eb33cd5.pth\n"
     ]
    },
    {
     "name": "stdout",
     "output_type": "stream",
     "text": [
      "\n",
      "**************************************************\n",
      "\n",
      "Training Fold 1...\n",
      "\n",
      "**************************************************\n",
      "\n",
      "Epoch: 1 | Train Loss: 2.26292 | Valid Loss: 0.07934 | Train Accs: 0.43824 | Valid Accs: 0.97376 | Time: 238.30 seconds\n",
      "Epoch: 2 | Train Loss: 0.05082 | Valid Loss: 0.01403 | Train Accs: 0.98556 | Valid Accs: 0.99632 | Time: 92.75 seconds\n",
      "Epoch: 3 | Train Loss: 0.02531 | Valid Loss: 0.01230 | Train Accs: 0.99193 | Valid Accs: 0.99676 | Time: 92.49 seconds\n",
      "Epoch: 4 | Train Loss: 0.01585 | Valid Loss: 0.00439 | Train Accs: 0.99556 | Valid Accs: 0.99912 | Time: 91.94 seconds\n",
      "Epoch: 5 | Train Loss: 0.00561 | Valid Loss: 0.00343 | Train Accs: 0.99837 | Valid Accs: 0.99882 | Time: 91.78 seconds\n",
      "Epoch: 6 | Train Loss: 0.00425 | Valid Loss: 0.00053 | Train Accs: 0.99896 | Valid Accs: 0.99971 | Time: 92.06 seconds\n",
      "Epoch: 7 | Train Loss: 0.00421 | Valid Loss: 0.00016 | Train Accs: 0.99859 | Valid Accs: 1.00000 | Time: 91.53 seconds\n",
      "Epoch: 8 | Train Loss: 0.00281 | Valid Loss: 0.00056 | Train Accs: 0.99956 | Valid Accs: 0.99971 | Time: 89.89 seconds\n",
      "Epoch: 9 | Train Loss: 0.00282 | Valid Loss: 0.00046 | Train Accs: 0.99948 | Valid Accs: 0.99971 | Time: 92.10 seconds\n",
      "Epoch: 10 | Train Loss: 0.00128 | Valid Loss: 0.00009 | Train Accs: 0.99970 | Valid Accs: 1.00000 | Time: 91.55 seconds\n",
      "\n",
      "**************************************************\n",
      "\n",
      "Best Validation Loss at Epoch 10\n",
      "\n",
      "**************************************************\n",
      "\n",
      "Best Validation Accs at Epoch 7\n",
      "\n",
      "**************************************************\n",
      "\n",
      "Time Taken [10 Epochs] : 17.74 minutes\n",
      "\n",
      "**************************************************\n",
      "\n"
     ]
    },
    {
     "data": {
      "image/png": "[encoded data removed]",
      "text/plain": [
       "<Figure size 432x288 with 1 Axes>"
      ]
     },
     "metadata": {
      "needs_background": "light"
     },
     "output_type": "display_data"
    },
    {
     "name": "stdout",
     "output_type": "stream",
     "text": [
      "\n",
      "**************************************************\n",
      "\n"
     ]
    },
    {
     "data": {
      "image/png": "[encoded data removed]",
      "text/plain": [
       "<Figure size 432x288 with 1 Axes>"
      ]
     },
     "metadata": {
      "needs_background": "light"
     },
     "output_type": "display_data"
    },
    {
     "name": "stdout",
     "output_type": "stream",
     "text": [
      "\n",
      "**************************************************\n",
      "\n"
     ]
    },
    {
     "data": {
      "image/png": "[encoded data removed]",
      "text/plain": [
       "<Figure size 576x432 with 1 Axes>"
      ]
     },
     "metadata": {
      "needs_background": "light"
     },
     "output_type": "display_data"
    },
    {
     "name": "stdout",
     "output_type": "stream",
     "text": [
      "\n",
      "**************************************************\n",
      "\n",
      "\n",
      "**************************************************\n",
      "\n",
      "Training Fold 2...\n",
      "\n",
      "**************************************************\n",
      "\n",
      "Epoch: 1 | Train Loss: 2.24230 | Valid Loss: 0.06330 | Train Accs: 0.45072 | Valid Accs: 0.97877 | Time: 92.10 seconds\n",
      "Epoch: 2 | Train Loss: 0.04688 | Valid Loss: 0.02379 | Train Accs: 0.98545 | Valid Accs: 0.99292 | Time: 94.16 seconds\n",
      "Epoch: 3 | Train Loss: 0.02096 | Valid Loss: 0.00569 | Train Accs: 0.99385 | Valid Accs: 0.99853 | Time: 91.79 seconds\n",
      "Epoch: 4 | Train Loss: 0.01142 | Valid Loss: 0.00143 | Train Accs: 0.99663 | Valid Accs: 0.99971 | Time: 92.16 seconds\n",
      "Epoch: 5 | Train Loss: 0.01039 | Valid Loss: 0.00374 | Train Accs: 0.99693 | Valid Accs: 0.99912 | Time: 89.88 seconds\n",
      "Epoch: 6 | Train Loss: 0.00459 | Valid Loss: 0.00105 | Train Accs: 0.99852 | Valid Accs: 0.99941 | Time: 91.17 seconds\n",
      "Epoch: 7 | Train Loss: 0.00320 | Valid Loss: 0.00036 | Train Accs: 0.99889 | Valid Accs: 1.00000 | Time: 91.41 seconds\n",
      "Epoch: 8 | Train Loss: 0.00182 | Valid Loss: 0.00009 | Train Accs: 0.99948 | Valid Accs: 1.00000 | Time: 90.59 seconds\n",
      "Epoch: 9 | Train Loss: 0.00083 | Valid Loss: 0.00005 | Train Accs: 0.99978 | Valid Accs: 1.00000 | Time: 91.01 seconds\n",
      "Epoch: 10 | Train Loss: 0.00046 | Valid Loss: 0.00004 | Train Accs: 0.99985 | Valid Accs: 1.00000 | Time: 90.27 seconds\n",
      "\n",
      "**************************************************\n",
      "\n",
      "Best Validation Loss at Epoch 10\n",
      "\n",
      "**************************************************\n",
      "\n",
      "Best Validation Accs at Epoch 7\n",
      "\n",
      "**************************************************\n",
      "\n",
      "Time Taken [10 Epochs] : 15.24 minutes\n",
      "\n",
      "**************************************************\n",
      "\n"
     ]
    },
    {
     "data": {
      "image/png": "[encoded data removed]",
      "text/plain": [
       "<Figure size 432x288 with 1 Axes>"
      ]
     },
     "metadata": {
      "needs_background": "light"
     },
     "output_type": "display_data"
    },
    {
     "name": "stdout",
     "output_type": "stream",
     "text": [
      "\n",
      "**************************************************\n",
      "\n"
     ]
    },
    {
     "data": {
      "image/png": "[encoded data removed]",
      "text/plain": [
       "<Figure size 432x288 with 1 Axes>"
      ]
     },
     "metadata": {
      "needs_background": "light"
     },
     "output_type": "display_data"
    },
    {
     "name": "stdout",
     "output_type": "stream",
     "text": [
      "\n",
      "**************************************************\n",
      "\n"
     ]
    },
    {
     "data": {
      "image/png": "[encoded data removed]",
      "text/plain": [
       "<Figure size 576x432 with 1 Axes>"
      ]
     },
     "metadata": {
      "needs_background": "light"
     },
     "output_type": "display_data"
    },
    {
     "name": "stdout",
     "output_type": "stream",
     "text": [
      "\n",
      "**************************************************\n",
      "\n",
      "\n",
      "**************************************************\n",
      "\n",
      "Training Fold 3...\n",
      "\n",
      "**************************************************\n",
      "\n",
      "Epoch: 1 | Train Loss: 2.26268 | Valid Loss: 0.10431 | Train Accs: 0.44357 | Valid Accs: 0.97140 | Time: 90.62 seconds\n",
      "Epoch: 2 | Train Loss: 0.04939 | Valid Loss: 0.03297 | Train Accs: 0.98386 | Valid Accs: 0.98968 | Time: 90.32 seconds\n",
      "Epoch: 3 | Train Loss: 0.02578 | Valid Loss: 0.00876 | Train Accs: 0.99341 | Valid Accs: 0.99764 | Time: 90.60 seconds\n",
      "Epoch: 4 | Train Loss: 0.01170 | Valid Loss: 0.00271 | Train Accs: 0.99696 | Valid Accs: 0.99912 | Time: 90.84 seconds\n",
      "Epoch: 5 | Train Loss: 0.01167 | Valid Loss: 0.01323 | Train Accs: 0.99719 | Valid Accs: 0.99617 | Time: 88.67 seconds\n",
      "Epoch: 6 | Train Loss: 0.00619 | Valid Loss: 0.00038 | Train Accs: 0.99815 | Valid Accs: 1.00000 | Time: 90.83 seconds\n",
      "Epoch: 7 | Train Loss: 0.00291 | Valid Loss: 0.00095 | Train Accs: 0.99926 | Valid Accs: 0.99971 | Time: 88.26 seconds\n",
      "Epoch: 8 | Train Loss: 0.00303 | Valid Loss: 0.00031 | Train Accs: 0.99896 | Valid Accs: 1.00000 | Time: 89.16 seconds\n",
      "Epoch: 9 | Train Loss: 0.00104 | Valid Loss: 0.00021 | Train Accs: 0.99970 | Valid Accs: 1.00000 | Time: 90.00 seconds\n",
      "Epoch: 10 | Train Loss: 0.00094 | Valid Loss: 0.00007 | Train Accs: 0.99963 | Valid Accs: 1.00000 | Time: 90.14 seconds\n",
      "\n",
      "**************************************************\n",
      "\n",
      "Best Validation Loss at Epoch 10\n",
      "\n",
      "**************************************************\n",
      "\n",
      "Best Validation Accs at Epoch 6\n",
      "\n",
      "**************************************************\n",
      "\n",
      "Time Taken [10 Epochs] : 14.99 minutes\n",
      "\n",
      "**************************************************\n",
      "\n"
     ]
    },
    {
     "data": {
      "image/png": "[encoded data removed]",
      "text/plain": [
       "<Figure size 432x288 with 1 Axes>"
      ]
     },
     "metadata": {
      "needs_background": "light"
     },
     "output_type": "display_data"
    },
    {
     "name": "stdout",
     "output_type": "stream",
     "text": [
      "\n",
      "**************************************************\n",
      "\n"
     ]
    },
    {
     "data": {
      "image/png": "[encoded data removed]",
      "text/plain": [
       "<Figure size 432x288 with 1 Axes>"
      ]
     },
     "metadata": {
      "needs_background": "light"
     },
     "output_type": "display_data"
    },
    {
     "name": "stdout",
     "output_type": "stream",
     "text": [
      "\n",
      "**************************************************\n",
      "\n"
     ]
    },
    {
     "data": {
      "image/png": "[encoded data removed]",
      "text/plain": [
       "<Figure size 576x432 with 1 Axes>"
      ]
     },
     "metadata": {
      "needs_background": "light"
     },
     "output_type": "display_data"
    },
    {
     "name": "stdout",
     "output_type": "stream",
     "text": [
      "\n",
      "**************************************************\n",
      "\n",
      "\n",
      "**************************************************\n",
      "\n",
      "Training Fold 4...\n",
      "\n",
      "**************************************************\n",
      "\n",
      "Epoch: 1 | Train Loss: 2.23500 | Valid Loss: 0.03890 | Train Accs: 0.44868 | Valid Accs: 0.98998 | Time: 90.33 seconds\n",
      "Epoch: 2 | Train Loss: 0.04503 | Valid Loss: 0.01340 | Train Accs: 0.98630 | Valid Accs: 0.99558 | Time: 91.26 seconds\n",
      "Epoch: 3 | Train Loss: 0.01937 | Valid Loss: 0.00203 | Train Accs: 0.99474 | Valid Accs: 0.99971 | Time: 90.29 seconds\n",
      "Epoch: 4 | Train Loss: 0.01267 | Valid Loss: 0.00720 | Train Accs: 0.99600 | Valid Accs: 0.99794 | Time: 88.31 seconds\n",
      "Epoch: 5 | Train Loss: 0.01138 | Valid Loss: 0.00108 | Train Accs: 0.99682 | Valid Accs: 0.99971 | Time: 89.50 seconds\n",
      "Epoch: 6 | Train Loss: 0.00465 | Valid Loss: 0.00031 | Train Accs: 0.99852 | Valid Accs: 1.00000 | Time: 91.66 seconds\n",
      "Epoch: 7 | Train Loss: 0.00292 | Valid Loss: 0.00115 | Train Accs: 0.99896 | Valid Accs: 0.99941 | Time: 88.28 seconds\n",
      "Epoch: 8 | Train Loss: 0.00079 | Valid Loss: 0.00099 | Train Accs: 0.99978 | Valid Accs: 0.99971 | Time: 89.20 seconds\n",
      "Epoch: 9 | Train Loss: 0.00089 | Valid Loss: 0.00144 | Train Accs: 0.99985 | Valid Accs: 0.99971 | Time: 89.17 seconds\n",
      "Epoch: 10 | Train Loss: 0.00122 | Valid Loss: 0.00022 | Train Accs: 0.99978 | Valid Accs: 1.00000 | Time: 90.37 seconds\n",
      "\n",
      "**************************************************\n",
      "\n",
      "Best Validation Loss at Epoch 10\n",
      "\n",
      "**************************************************\n",
      "\n",
      "Best Validation Accs at Epoch 6\n",
      "\n",
      "**************************************************\n",
      "\n",
      "Time Taken [10 Epochs] : 14.97 minutes\n",
      "\n",
      "**************************************************\n",
      "\n"
     ]
    },
    {
     "data": {
      "image/png": "[encoded data removed]",
      "text/plain": [
       "<Figure size 432x288 with 1 Axes>"
      ]
     },
     "metadata": {
      "needs_background": "light"
     },
     "output_type": "display_data"
    },
    {
     "name": "stdout",
     "output_type": "stream",
     "text": [
      "\n",
      "**************************************************\n",
      "\n"
     ]
    },
    {
     "data": {
      "image/png": "[encoded data removed]",
      "text/plain": [
       "<Figure size 432x288 with 1 Axes>"
      ]
     },
     "metadata": {
      "needs_background": "light"
     },
     "output_type": "display_data"
    },
    {
     "name": "stdout",
     "output_type": "stream",
     "text": [
      "\n",
      "**************************************************\n",
      "\n"
     ]
    },
    {
     "data": {
      "image/png": "[encoded data removed]",
      "text/plain": [
       "<Figure size 576x432 with 1 Axes>"
      ]
     },
     "metadata": {
      "needs_background": "light"
     },
     "output_type": "display_data"
    },
    {
     "name": "stdout",
     "output_type": "stream",
     "text": [
      "\n",
      "**************************************************\n",
      "\n",
      "\n",
      "**************************************************\n",
      "\n",
      "Training Fold 5...\n",
      "\n",
      "**************************************************\n",
      "\n",
      "Epoch: 1 | Train Loss: 2.22990 | Valid Loss: 0.04064 | Train Accs: 0.44968 | Valid Accs: 0.98732 | Time: 90.03 seconds\n",
      "Epoch: 2 | Train Loss: 0.04425 | Valid Loss: 0.02123 | Train Accs: 0.98600 | Valid Accs: 0.99395 | Time: 90.74 seconds\n",
      "Epoch: 3 | Train Loss: 0.02381 | Valid Loss: 0.00961 | Train Accs: 0.99323 | Valid Accs: 0.99646 | Time: 90.30 seconds\n",
      "Epoch: 4 | Train Loss: 0.01655 | Valid Loss: 0.00844 | Train Accs: 0.99570 | Valid Accs: 0.99823 | Time: 90.63 seconds\n",
      "Epoch: 5 | Train Loss: 0.00716 | Valid Loss: 0.00300 | Train Accs: 0.99800 | Valid Accs: 0.99912 | Time: 89.95 seconds\n",
      "Epoch: 6 | Train Loss: 0.00553 | Valid Loss: 0.00043 | Train Accs: 0.99867 | Valid Accs: 1.00000 | Time: 90.17 seconds\n",
      "Epoch: 7 | Train Loss: 0.00186 | Valid Loss: 0.00011 | Train Accs: 0.99948 | Valid Accs: 1.00000 | Time: 89.53 seconds\n",
      "Epoch: 8 | Train Loss: 0.00102 | Valid Loss: 0.00020 | Train Accs: 0.99960 | Valid Accs: 1.00000 | Time: 88.33 seconds\n",
      "Epoch: 9 | Train Loss: 0.00126 | Valid Loss: 0.00004 | Train Accs: 0.99963 | Valid Accs: 1.00000 | Time: 89.66 seconds\n",
      "Epoch: 10 | Train Loss: 0.00069 | Valid Loss: 0.00006 | Train Accs: 0.99985 | Valid Accs: 1.00000 | Time: 88.03 seconds\n",
      "\n",
      "**************************************************\n",
      "\n",
      "Best Validation Loss at Epoch 9\n",
      "\n",
      "**************************************************\n",
      "\n",
      "Best Validation Accs at Epoch 6\n",
      "\n",
      "**************************************************\n",
      "\n",
      "Time Taken [10 Epochs] : 14.96 minutes\n",
      "\n",
      "**************************************************\n",
      "\n"
     ]
    },
    {
     "data": {
      "image/png": "[encoded data removed]",
      "text/plain": [
       "<Figure size 432x288 with 1 Axes>"
      ]
     },
     "metadata": {
      "needs_background": "light"
     },
     "output_type": "display_data"
    },
    {
     "name": "stdout",
     "output_type": "stream",
     "text": [
      "\n",
      "**************************************************\n",
      "\n"
     ]
    },
    {
     "data": {
      "image/png": "[encoded data removed]",
      "text/plain": [
       "<Figure size 432x288 with 1 Axes>"
      ]
     },
     "metadata": {
      "needs_background": "light"
     },
     "output_type": "display_data"
    },
    {
     "name": "stdout",
     "output_type": "stream",
     "text": [
      "\n",
      "**************************************************\n",
      "\n"
     ]
    },
    {
     "data": {
      "image/png": "[encoded data removed]",
      "text/plain": [
       "<Figure size 576x432 with 1 Axes>"
      ]
     },
     "metadata": {
      "needs_background": "light"
     },
     "output_type": "display_data"
    },
    {
     "name": "stdout",
     "output_type": "stream",
     "text": [
      "\n",
      "**************************************************\n",
      "\n"
     ]
    }
   ],
   "source": [
    "fold: int = 1\n",
    "BLs: list = []\n",
    "BAs: list = []\n",
    "    \n",
    "cfg.batch_size = 64\n",
    "cfg.epochs = 10\n",
    "    \n",
    "for tr_idx, va_idx in StratifiedKFold(n_splits=cfg.n_splits, random_state=cfg.seed, shuffle=True).split(filepaths, labels):\n",
    "#     if fold == 1: break\n",
    "#     fold += 1\n",
    "\n",
    "    tr_filepaths, va_filepaths = filepaths[tr_idx], filepaths[va_idx] \n",
    "    tr_labels, va_labels       = labels[tr_idx], labels[va_idx]\n",
    "\n",
    "    tr_data_setup = DS(\n",
    "        filepaths=tr_filepaths, \n",
    "        labels=tr_labels.reshape(-1, 1),\n",
    "        size=cfg.size,\n",
    "        transform=cfg.train_transform\n",
    "    )\n",
    "\n",
    "    va_data_setup = DS(\n",
    "        filepaths=va_filepaths, \n",
    "        labels=va_labels.reshape(-1, 1),\n",
    "        size=cfg.size,\n",
    "        transform=cfg.train_transform\n",
    "    )\n",
    "\n",
    "    dataloaders = {\n",
    "        \"train\" : DL(tr_data_setup, batch_size=cfg.batch_size, shuffle=True, generator=torch.manual_seed(cfg.seed)),\n",
    "        \"valid\" : DL(va_data_setup, batch_size=cfg.batch_size, shuffle=False),\n",
    "    }\n",
    "\n",
    "    cfg.steps_per_epoch=len(dataloaders[\"train\"])\n",
    "\n",
    "    torch.manual_seed(cfg.seed)\n",
    "    model = Model().to(cfg.device)\n",
    "\n",
    "    optimizer = optim.Adam([p for p in model.parameters() if p.requires_grad], lr=cfg.lr, weight_decay=cfg.wd)\n",
    "    # optimizer = optim.AdamW([p for p in model.parameters() if p.requires_grad], lr=cfg.lr, weight_decay=cfg.wd)\n",
    "    # optimizer = optim.SGD([p for p in model.parameters() if p.requires_grad], lr=cfg.lr, weight_decay=cfg.wd, momentum=0.9)\n",
    "\n",
    "    scheduler_oclr = optim.lr_scheduler.OneCycleLR(\n",
    "        optimizer=optimizer, \n",
    "        max_lr=cfg.max_lr, \n",
    "        epochs=cfg.epochs, \n",
    "        steps_per_epoch=cfg.steps_per_epoch,\n",
    "        pct_start=cfg.pct_start, \n",
    "        div_factor=cfg.div_factor, \n",
    "        final_div_factor=cfg.final_div_factor\n",
    "    )\n",
    "\n",
    "    # scheduler_rlrop = optim.lr_scheduler.ReduceLROnPlateau(\n",
    "    #     optimizer=optimizer,\n",
    "    #     patience=cfg.patience,\n",
    "    #     eps=cfg.eps,\n",
    "    #     verbose=True\n",
    "    # )\n",
    "\n",
    "    # scheduler_oclr = None\n",
    "    scheduler_rlrop = None\n",
    "\n",
    "\n",
    "    L, A, LR, BL, BA, _, _, _, _ = fit(\n",
    "        model=model, \n",
    "        optimizer=optimizer, \n",
    "        scheduler_oclr=scheduler_oclr,\n",
    "        scheduler_rlrop=scheduler_rlrop,\n",
    "        epochs=cfg.epochs, \n",
    "        early_stopping_patience=cfg.early_stopping, \n",
    "        dataloaders=dataloaders, \n",
    "        device=cfg.device,\n",
    "        save_path=cfg.save_path,\n",
    "        fold=fold,\n",
    "        verbose=True\n",
    "    )\n",
    "\n",
    "\n",
    "    breaker()\n",
    "    show_loss_graphs(L)\n",
    "    breaker()\n",
    "    show_accuracy_graphs(A)\n",
    "    breaker()\n",
    "    if scheduler_oclr:\n",
    "        show_lr_graph(LR)\n",
    "        breaker()\n",
    "\n",
    "    BLs.append(BL)\n",
    "    BAs.append(BA)\n",
    "\n",
    "    fold += 1"
   ]
  },
  {
   "cell_type": "markdown",
   "id": "f18189bf",
   "metadata": {
    "papermill": {
     "duration": 0.010127,
     "end_time": "2023-01-24T06:56:59.927679",
     "exception": false,
     "start_time": "2023-01-24T06:56:59.917552",
     "status": "completed"
    },
    "tags": []
   },
   "source": [
    "### **Best Model**"
   ]
  },
  {
   "cell_type": "code",
   "execution_count": 10,
   "id": "0a80bb2f",
   "metadata": {
    "execution": {
     "iopub.execute_input": "2023-01-24T06:56:59.949751Z",
     "iopub.status.busy": "2023-01-24T06:56:59.949410Z",
     "iopub.status.idle": "2023-01-24T06:56:59.956277Z",
     "shell.execute_reply": "2023-01-24T06:56:59.955337Z"
    },
    "papermill": {
     "duration": 0.020352,
     "end_time": "2023-01-24T06:56:59.958355",
     "exception": false,
     "start_time": "2023-01-24T06:56:59.938003",
     "status": "completed"
    },
    "tags": []
   },
   "outputs": [
    {
     "name": "stdout",
     "output_type": "stream",
     "text": [
      "\n",
      "**************************************************\n",
      "\n",
      "Best Loss Model Fold     : 5\n",
      "Best Accuracy Model Fold : 1\n",
      "\n",
      "**************************************************\n",
      "\n"
     ]
    }
   ],
   "source": [
    "BL = np.inf\n",
    "for i in range(len(BLs)):\n",
    "    if BLs[i][\"valid\"] < BL:\n",
    "        BL = BLs[i][\"valid\"]\n",
    "        best_loss_index = i\n",
    "\n",
    "        \n",
    "BA = 0.0\n",
    "for i in range(len(BAs)):\n",
    "    if BAs[i][\"valid\"] > BA:\n",
    "        BA = BAs[i][\"valid\"]\n",
    "        best_accs_index = i\n",
    "\n",
    "breaker()\n",
    "print(f\"Best Loss Model Fold     : {best_loss_index + 1}\")\n",
    "print(f\"Best Accuracy Model Fold : {best_accs_index + 1}\")\n",
    "breaker()"
   ]
  }
 ],
 "metadata": {
  "kernelspec": {
   "display_name": "Python 3",
   "language": "python",
   "name": "python3"
  },
  "language_info": {
   "codemirror_mode": {
    "name": "ipython",
    "version": 3
   },
   "file_extension": ".py",
   "mimetype": "text/x-python",
   "name": "python",
   "nbconvert_exporter": "python",
   "pygments_lexer": "ipython3",
   "version": "3.7.12"
  },
  "papermill": {
   "default_parameters": {},
   "duration": 4709.34326,
   "end_time": "2023-01-24T06:57:01.497181",
   "environment_variables": {},
   "exception": null,
   "input_path": "__notebook__.ipynb",
   "output_path": "__notebook__.ipynb",
   "parameters": {},
   "start_time": "2023-01-24T05:38:32.153921",
   "version": "2.3.4"
  }
 },
 "nbformat": 4,
 "nbformat_minor": 5
}
