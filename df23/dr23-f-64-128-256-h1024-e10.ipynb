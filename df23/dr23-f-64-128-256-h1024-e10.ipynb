{
 "cells": [
  {
   "cell_type": "markdown",
   "id": "e16ec5c0",
   "metadata": {
    "_cell_guid": "b1076dfc-b9ad-4769-8c92-a6c4dae69d19",
    "_uuid": "8f2839f25d086af736a60e9eeb907d3b93b6e0e5",
    "papermill": {
     "duration": 0.003971,
     "end_time": "2023-02-02T11:30:03.068973",
     "exception": false,
     "start_time": "2023-02-02T11:30:03.065002",
     "status": "completed"
    },
    "tags": []
   },
   "source": [
    "### **Library Imports**"
   ]
  },
  {
   "cell_type": "code",
   "execution_count": 1,
   "id": "04443768",
   "metadata": {
    "execution": {
     "iopub.execute_input": "2023-02-02T11:30:03.077068Z",
     "iopub.status.busy": "2023-02-02T11:30:03.076482Z",
     "iopub.status.idle": "2023-02-02T11:30:05.981695Z",
     "shell.execute_reply": "2023-02-02T11:30:05.980653Z"
    },
    "papermill": {
     "duration": 2.912802,
     "end_time": "2023-02-02T11:30:05.984969",
     "exception": false,
     "start_time": "2023-02-02T11:30:03.072167",
     "status": "completed"
    },
    "tags": []
   },
   "outputs": [],
   "source": [
    "import os\n",
    "import re\n",
    "import cv2\n",
    "import torch\n",
    "import numpy as np\n",
    "import pandas as pd\n",
    "import matplotlib.pyplot as plt\n",
    "\n",
    "from time import time\n",
    "from typing import Union\n",
    "from torch import nn, optim\n",
    "from torch.utils.data import Dataset\n",
    "from torch.utils.data import DataLoader as DL\n",
    "from torchvision import transforms\n",
    "\n",
    "from sklearn.model_selection import StratifiedKFold"
   ]
  },
  {
   "cell_type": "code",
   "execution_count": 2,
   "id": "ee4f9c52",
   "metadata": {
    "execution": {
     "iopub.execute_input": "2023-02-02T11:30:05.996478Z",
     "iopub.status.busy": "2023-02-02T11:30:05.995362Z",
     "iopub.status.idle": "2023-02-02T11:30:06.012606Z",
     "shell.execute_reply": "2023-02-02T11:30:06.011427Z"
    },
    "papermill": {
     "duration": 0.025088,
     "end_time": "2023-02-02T11:30:06.015098",
     "exception": false,
     "start_time": "2023-02-02T11:30:05.990010",
     "status": "completed"
    },
    "tags": []
   },
   "outputs": [],
   "source": [
    "SEED: int = 42\n",
    "    \n",
    "\n",
    "def breaker(num: int=50, char: str=\"*\") -> None: print(\"\\n\" + num*char + \"\\n\")\n",
    "\n",
    "    \n",
    "def show_loss_graphs(L: list) -> None:\n",
    "    TL, VL = [], []\n",
    "    for i in range(len(L)):\n",
    "        TL.append(L[i][\"train\"])\n",
    "        VL.append(L[i][\"valid\"])\n",
    "    x_Axis = np.arange(1, len(TL) + 1)\n",
    "    plt.figure()\n",
    "    plt.plot(x_Axis, TL, \"r\", label=\"Train\")\n",
    "    plt.plot(x_Axis, VL, \"b\", label=\"Valid\")\n",
    "    plt.legend()\n",
    "    plt.grid()\n",
    "    plt.title(\"Loss Graph\")\n",
    "    plt.show()\n",
    "    \n",
    "\n",
    "def show_accuracy_graphs(A: list) -> None:\n",
    "    TA, VA = [], []\n",
    "    for i in range(len(A)):\n",
    "        TA.append(A[i][\"train\"])\n",
    "        VA.append(A[i][\"valid\"])\n",
    "    x_Axis = np.arange(1, len(TA) + 1)\n",
    "    plt.figure()\n",
    "    plt.plot(x_Axis, TA, \"r\", label=\"Train\")\n",
    "    plt.plot(x_Axis, VA, \"b\", label=\"Valid\")\n",
    "    plt.legend()\n",
    "    plt.grid()\n",
    "    plt.title(\"Accuracy Graph\")\n",
    "    plt.show()\n",
    "    \n",
    "\n",
    "def show_lr_graph(LR: list) -> None:\n",
    "    x_Axis = [i+1 for i in range(len(LR))]\n",
    "    plt.figure(figsize=(8, 6))\n",
    "    plt.plot(x_Axis, LR, \"rx\")\n",
    "    plt.grid()\n",
    "    plt.show()"
   ]
  },
  {
   "cell_type": "code",
   "execution_count": 3,
   "id": "b7177bd5",
   "metadata": {
    "execution": {
     "iopub.execute_input": "2023-02-02T11:30:06.025804Z",
     "iopub.status.busy": "2023-02-02T11:30:06.025196Z",
     "iopub.status.idle": "2023-02-02T11:30:06.109008Z",
     "shell.execute_reply": "2023-02-02T11:30:06.107755Z"
    },
    "papermill": {
     "duration": 0.092257,
     "end_time": "2023-02-02T11:30:06.111755",
     "exception": false,
     "start_time": "2023-02-02T11:30:06.019498",
     "status": "completed"
    },
    "tags": []
   },
   "outputs": [],
   "source": [
    "class CFG(object):\n",
    "    def __init__(self,\n",
    "             seed: int = 42,\n",
    "             n_splits: int = 5,\n",
    "             batch_size: int = 16,\n",
    "             epochs: int = 25,\n",
    "             early_stopping: int = 5,\n",
    "             lr: float = 1e-4,\n",
    "             wd: float = 0.0,\n",
    "             max_lr: float = 1e-3,\n",
    "             pct_start: float = 0.2,\n",
    "             steps_per_epoch: int = 100,\n",
    "             div_factor: int = 1e3, \n",
    "             final_div_factor: float = 1e3,\n",
    "             filter_sizes: list = [64, 128, 256],\n",
    "             HL: list = [1024]\n",
    "         ):\n",
    "        \n",
    "        self.seed = seed\n",
    "        self.n_splits = n_splits\n",
    "        self.batch_size = batch_size\n",
    "        self.epochs = epochs\n",
    "        self.early_stopping = early_stopping\n",
    "        self.lr = lr\n",
    "        self.wd = wd\n",
    "        self.max_lr = max_lr\n",
    "        self.pct_start = pct_start\n",
    "        self.steps_per_epoch = steps_per_epoch\n",
    "        self.div_factor = div_factor\n",
    "        self.final_div_factor = final_div_factor\n",
    "        self.filter_sizes = filter_sizes\n",
    "        self.HL = HL\n",
    "        self.device = torch.device(\"cuda\" if torch.cuda.is_available() else \"cpu\")\n",
    "        \n",
    "        self.train_transform = transforms.Compose([\n",
    "            transforms.ToTensor(),\n",
    "            transforms.Normalize([0.13102], [0.17323]),\n",
    "            transforms.RandomAffine(degrees=(-45, 45), translate=(0.15, 0.15), scale=(0.5, 1.5)),\n",
    "            transforms.RandomHorizontalFlip(p=0.25),\n",
    "            transforms.RandomVerticalFlip(p=0.25),\n",
    "        ])\n",
    "        self.valid_transform = transforms.Compose([\n",
    "            transforms.ToTensor(),\n",
    "            transforms.Normalize([0.13102], [0.17323]),\n",
    "        ])\n",
    "        self.save_path = \"saves\"\n",
    "        if not os.path.exists(self.save_path): os.makedirs(self.save_path)\n",
    "\n",
    "\n",
    "cfg = CFG(\n",
    "    seed=SEED, \n",
    ")"
   ]
  },
  {
   "cell_type": "markdown",
   "id": "f1a193e1",
   "metadata": {
    "papermill": {
     "duration": 0.004126,
     "end_time": "2023-02-02T11:30:06.120674",
     "exception": false,
     "start_time": "2023-02-02T11:30:06.116548",
     "status": "completed"
    },
    "tags": []
   },
   "source": [
    "### **Dataset Template**"
   ]
  },
  {
   "cell_type": "code",
   "execution_count": 4,
   "id": "ff3a86a2",
   "metadata": {
    "execution": {
     "iopub.execute_input": "2023-02-02T11:30:06.130887Z",
     "iopub.status.busy": "2023-02-02T11:30:06.130371Z",
     "iopub.status.idle": "2023-02-02T11:30:06.140211Z",
     "shell.execute_reply": "2023-02-02T11:30:06.139059Z"
    },
    "papermill": {
     "duration": 0.017611,
     "end_time": "2023-02-02T11:30:06.142553",
     "exception": false,
     "start_time": "2023-02-02T11:30:06.124942",
     "status": "completed"
    },
    "tags": []
   },
   "outputs": [],
   "source": [
    "class DS(Dataset):\n",
    "    def __init__(\n",
    "        self, \n",
    "        images: np.ndarray, \n",
    "        labels: Union[np.ndarray, None]=None, \n",
    "        transform=None\n",
    "    ):\n",
    "        \n",
    "        self.images = images\n",
    "        self.labels = labels\n",
    "        self.transform = transform\n",
    "\n",
    "    def __len__(self):\n",
    "        return self.images.shape[0]\n",
    "\n",
    "    def __getitem__(self, idx):\n",
    "        if self.labels is not None:\n",
    "            return self.transform(self.images[idx]), torch.LongTensor(self.labels[idx])\n",
    "        return self.transform(self.images[idx])"
   ]
  },
  {
   "cell_type": "markdown",
   "id": "1488d849",
   "metadata": {
    "papermill": {
     "duration": 0.00406,
     "end_time": "2023-02-02T11:30:06.151145",
     "exception": false,
     "start_time": "2023-02-02T11:30:06.147085",
     "status": "completed"
    },
    "tags": []
   },
   "source": [
    "### **Model**"
   ]
  },
  {
   "cell_type": "code",
   "execution_count": 5,
   "id": "bf3c68b5",
   "metadata": {
    "execution": {
     "iopub.execute_input": "2023-02-02T11:30:06.161102Z",
     "iopub.status.busy": "2023-02-02T11:30:06.160755Z",
     "iopub.status.idle": "2023-02-02T11:30:06.184600Z",
     "shell.execute_reply": "2023-02-02T11:30:06.183633Z"
    },
    "papermill": {
     "duration": 0.031253,
     "end_time": "2023-02-02T11:30:06.186668",
     "exception": false,
     "start_time": "2023-02-02T11:30:06.155415",
     "status": "completed"
    },
    "tags": []
   },
   "outputs": [],
   "source": [
    "class Model(nn.Module):\n",
    "    def __init__(self, filter_sizes: list, HL: list, DP: Union[float, None]=None):\n",
    "        \n",
    "        super(Model, self).__init__()\n",
    "        \n",
    "        self.features = nn.Sequential()\n",
    "        self.features.add_module(\"CN1\", nn.Conv2d(in_channels=1, out_channels=filter_sizes[0], kernel_size=(3, 3), stride=(1, 1), padding=(1, 1)))\n",
    "        self.features.add_module(\"BN1\", nn.BatchNorm2d(num_features=filter_sizes[0], eps=1e-5))\n",
    "        self.features.add_module(\"AN1\", nn.ReLU())\n",
    "        self.features.add_module(\"MP1\", nn.MaxPool2d(kernel_size=(2, 2)))\n",
    "        self.features.add_module(\"CN2\", nn.Conv2d(in_channels=filter_sizes[0], out_channels=filter_sizes[1], kernel_size=(3, 3), stride=(1, 1), padding=(1, 1)))\n",
    "        self.features.add_module(\"BN2\", nn.BatchNorm2d(num_features=filter_sizes[1], eps=1e-5))\n",
    "        self.features.add_module(\"AN2\", nn.ReLU())\n",
    "        self.features.add_module(\"MP2\", nn.MaxPool2d(kernel_size=(2, 2)))\n",
    "        self.features.add_module(\"CN3\", nn.Conv2d(in_channels=filter_sizes[1], out_channels=filter_sizes[2], kernel_size=(3, 3), stride=(1, 1), padding=(1, 1)))\n",
    "        self.features.add_module(\"BN3\", nn.BatchNorm2d(num_features=filter_sizes[2], eps=1e-5))\n",
    "        self.features.add_module(\"AN3\", nn.ReLU())\n",
    "        self.features.add_module(\"MP3\", nn.MaxPool2d(kernel_size=(2, 2))) \n",
    "        \n",
    "        self.classifier = nn.Sequential()\n",
    "        if len(HL) == 0:\n",
    "            self.classifier.add_module(\"FC1\", nn.Linear(in_features=filter_sizes[2]*3*3, out_features=10))\n",
    "        elif len(HL) == 1:\n",
    "            self.classifier.add_module(\"FC1\", nn.Linear(in_features=filter_sizes[2]*3*3, out_features=HL[0]))\n",
    "            if isinstance(DP, float):\n",
    "                self.classifier.add_module(\"DP1\", nn.Dropout(p=DP))\n",
    "            self.classifier.add_module(\"AN1\", nn.ReLU())\n",
    "            self.classifier.add_module(\"FC2\", nn.Linear(in_features=HL[0], out_features=10))\n",
    "        elif len(HL) == 2:\n",
    "            self.classifier.add_module(\"FC1\", nn.Linear(in_features=filter_sizes[2]*3*3, out_features=HL[0]))\n",
    "            if isinstance(DP, float):\n",
    "                self.classifier.add_module(\"DP1\", nn.Dropout(p=DP))\n",
    "            self.classifier.add_module(\"AN1\", nn.ReLU())\n",
    "            self.classifier.add_module(\"FC2\", nn.Linear(in_features=HL[0], out_features=HL[1]))\n",
    "            if isinstance(DP, float):\n",
    "                self.classifier.add_module(\"DP2\", nn.Dropout(p=DP))\n",
    "            self.classifier.add_module(\"AN2\", nn.ReLU())\n",
    "            self.classifier.add_module(\"FC3\", nn.Linear(in_features=HL[1], out_features=10))\n",
    "        self.classifier.add_module(\"Final Activation\", nn.LogSoftmax(dim=1))\n",
    "    \n",
    "    def forward(self, x):\n",
    "        x = self.features(x)\n",
    "        x = x.view(x.shape[0], -1)\n",
    "        return self.classifier(x)"
   ]
  },
  {
   "cell_type": "markdown",
   "id": "2b707581",
   "metadata": {
    "papermill": {
     "duration": 0.004165,
     "end_time": "2023-02-02T11:30:06.195180",
     "exception": false,
     "start_time": "2023-02-02T11:30:06.191015",
     "status": "completed"
    },
    "tags": []
   },
   "source": [
    "### **Fit and Predict**"
   ]
  },
  {
   "cell_type": "code",
   "execution_count": 6,
   "id": "919f95ed",
   "metadata": {
    "execution": {
     "iopub.execute_input": "2023-02-02T11:30:06.205641Z",
     "iopub.status.busy": "2023-02-02T11:30:06.205274Z",
     "iopub.status.idle": "2023-02-02T11:30:06.233743Z",
     "shell.execute_reply": "2023-02-02T11:30:06.232877Z"
    },
    "papermill": {
     "duration": 0.036702,
     "end_time": "2023-02-02T11:30:06.236371",
     "exception": false,
     "start_time": "2023-02-02T11:30:06.199669",
     "status": "completed"
    },
    "tags": []
   },
   "outputs": [],
   "source": [
    "def fit(\n",
    "    model=None,\n",
    "    optimizer=None, \n",
    "    scheduler_rlrop=None,\n",
    "    scheduler_oclr=None,\n",
    "    epochs=None, \n",
    "    early_stopping_patience=None, \n",
    "    dataloaders=None, \n",
    "    fold=None, \n",
    "    save_path=None,\n",
    "    device=None,\n",
    "    verbose=False\n",
    ") -> tuple:\n",
    "    \n",
    "    def get_accuracy(y_pred, y_true):\n",
    "        y_pred = torch.argmax(y_pred, dim=1)\n",
    "        return torch.count_nonzero(y_pred == y_true).item() / len(y_pred)\n",
    "    \n",
    "    if verbose:\n",
    "        breaker()\n",
    "        if fold: print(f\"Training Fold {fold}...\")\n",
    "        else: print(\"Training ...\")\n",
    "        breaker()\n",
    "        \n",
    "    bestLoss: dict = {\"train\" : np.inf, \"valid\" : np.inf} \n",
    "    bestAccs: dict = {\"train\" : 0.0, \"valid\" : 0.0}\n",
    "        \n",
    "    Losses: list = []\n",
    "    Accuracies: list = [] \n",
    "    LRs: list = []\n",
    "        \n",
    "    if fold: \n",
    "        ble_name = f\"ble_state_fold_{fold}.pt\"\n",
    "        bae_name = f\"bae_state_fold_{fold}.pt\"\n",
    "    else: \n",
    "        ble_name = f\"ble_state.pt\"\n",
    "        bae_name = f\"bae_state.pt\"\n",
    "        \n",
    "    start_time = time()\n",
    "    for e in range(epochs):\n",
    "        e_st = time()\n",
    "        epochLoss: dict = {\"train\" : 0.0, \"valid\" : 0.0} \n",
    "        epochAccs: dict = {\"train\" : 0.0, \"valid\" : 0.0}\n",
    "            \n",
    "        for phase in [\"train\", \"valid\"]:\n",
    "            if phase == \"train\":\n",
    "                model.train()\n",
    "            else:\n",
    "                model.eval()\n",
    "            \n",
    "            lossPerPass: list = []\n",
    "            accsPerPass: list = []\n",
    "                \n",
    "            for X, y in dataloaders[phase]:\n",
    "                X, y = X.to(device), y.to(device).view(-1)\n",
    "                \n",
    "                optimizer.zero_grad()\n",
    "                with torch.set_grad_enabled(phase == \"train\"):\n",
    "                    output = model(X)\n",
    "                    loss = nn.NLLLoss()(output, y)\n",
    "                    if phase == \"train\":\n",
    "                        loss.backward()\n",
    "                        optimizer.step()\n",
    "                        if scheduler_oclr: scheduler_oclr.step()\n",
    "                lossPerPass.append(loss.item())\n",
    "                accsPerPass.append(get_accuracy(output, y))\n",
    "            epochLoss[phase] = np.mean(np.array(lossPerPass))\n",
    "            epochAccs[phase] = np.mean(np.array(accsPerPass))\n",
    "        if scheduler_oclr: LRs.append(scheduler_oclr.get_last_lr())\n",
    "        Losses.append(epochLoss)\n",
    "        Accuracies.append(epochAccs)\n",
    "        \n",
    "        if scheduler_oclr:\n",
    "            save_dict = {\"model_state_dict\"     : model.state_dict(),\n",
    "                         \"optim_state_dict\"     : optimizer.state_dict(),\n",
    "                         \"scheduler_state_dict\" : scheduler_oclr.state_dict()}\n",
    "        \n",
    "        elif scheduler_rlrop:\n",
    "            save_dict = {\"model_state_dict\"     : model.state_dict(),\n",
    "                         \"optim_state_dict\"     : optimizer.state_dict(),\n",
    "                         \"scheduler_state_dict\" : scheduler_rlrop.state_dict()}\n",
    "        \n",
    "        else:\n",
    "            save_dict = {\"model_state_dict\"     : model.state_dict(),\n",
    "                         \"optim_state_dict\"     : optimizer.state_dict()}\n",
    "        \n",
    "        if early_stopping_patience:\n",
    "            if epochLoss[\"valid\"] < bestLoss[\"valid\"]:\n",
    "                bestLoss = epochLoss\n",
    "                BLE = e + 1\n",
    "                torch.save(save_dict, os.path.join(save_path, ble_name))\n",
    "                torch.save(save_dict, os.path.join(save_path, bae_name))\n",
    "                early_stopping_step = 0\n",
    "            else:\n",
    "                early_stopping_step += 1\n",
    "                if early_stopping_step > early_stopping_patience:\n",
    "                    print(\"\\nEarly Stopping at Epoch {}\".format(e + 1))\n",
    "                    break\n",
    "        \n",
    "        if epochLoss[\"valid\"] < bestLoss[\"valid\"]:\n",
    "            bestLoss = epochLoss\n",
    "            BLE = e + 1\n",
    "            torch.save(save_dict,os.path.join(save_path, ble_name))\n",
    "        \n",
    "        if epochAccs[\"valid\"] > bestAccs[\"valid\"]:\n",
    "            bestAccs = epochAccs\n",
    "            BAE = e + 1\n",
    "            torch.save(save_dict,os.path.join(save_path, bae_name))\n",
    "        \n",
    "        if scheduler_rlrop: scheduler_rlrop.step(epochLoss[\"valid\"])\n",
    "        \n",
    "        if verbose:\n",
    "            print(\"Epoch: {} | Train Loss: {:.5f} | Valid Loss: {:.5f} |\\\n",
    " Train Accs: {:.5f} | Valid Accs: {:.5f} | Time: {:.2f} seconds\".format(\n",
    "                e+1, \n",
    "                epochLoss[\"train\"], epochLoss[\"valid\"], \n",
    "                epochAccs[\"train\"], epochAccs[\"valid\"], \n",
    "                time()-e_st)\n",
    "            )\n",
    "        \n",
    "    if verbose:                                           \n",
    "        breaker()\n",
    "        print(f\"Best Validation Loss at Epoch {BLE}\")\n",
    "        breaker()\n",
    "        print(f\"Best Validation Accs at Epoch {BAE}\")\n",
    "        breaker()\n",
    "        print(\"Time Taken [{} Epochs] : {:.2f} minutes\".format(len(Losses), (time()-start_time)/60))\n",
    "    \n",
    "    return Losses, Accuracies, LRs, bestLoss, bestAccs, BLE, BAE, ble_name, bae_name\n",
    "\n",
    "\n",
    "# def predict_batch(model=None, dataloader=None, path=None, device=None) -> np.ndarray:\n",
    "#     model.load_state_dict(torch.load(path, map_location=device)[\"model_state_dict\"])\n",
    "#     model.to(device)    \n",
    "#     model.eval()\n",
    "    \n",
    "#     y_pred = torch.zeros(1, 1).to(device)\n",
    "    \n",
    "#     for X in dataloader:\n",
    "#         X = X.to(device)\n",
    "#         with torch.no_grad():\n",
    "#             output = torch.argmax(torch.exp(model(X)), dim=1)\n",
    "#         y_pred = torch.cat((y_pred, output.view(-1, 1)), dim=0)\n",
    "    \n",
    "#     return y_pred[1:].detach().cpu().numpy()"
   ]
  },
  {
   "cell_type": "markdown",
   "id": "ffdf2dab",
   "metadata": {
    "papermill": {
     "duration": 0.004294,
     "end_time": "2023-02-02T11:30:06.245668",
     "exception": false,
     "start_time": "2023-02-02T11:30:06.241374",
     "status": "completed"
    },
    "tags": []
   },
   "source": [
    "### **Train**"
   ]
  },
  {
   "cell_type": "code",
   "execution_count": 7,
   "id": "e42ac0a6",
   "metadata": {
    "execution": {
     "iopub.execute_input": "2023-02-02T11:30:06.255893Z",
     "iopub.status.busy": "2023-02-02T11:30:06.255411Z",
     "iopub.status.idle": "2023-02-02T11:30:09.669012Z",
     "shell.execute_reply": "2023-02-02T11:30:09.668024Z"
    },
    "papermill": {
     "duration": 3.422027,
     "end_time": "2023-02-02T11:30:09.672093",
     "exception": false,
     "start_time": "2023-02-02T11:30:06.250066",
     "status": "completed"
    },
    "tags": []
   },
   "outputs": [],
   "source": [
    "df = pd.read_csv(\"/kaggle/input/digit-recognizer-ii-2023/train.csv\")\n",
    "\n",
    "images = df.iloc[:, 1:].copy().values.reshape(df.shape[0], 28, 28, 1).astype(\"uint8\")\n",
    "labels = df.iloc[:, 0].copy().values"
   ]
  },
  {
   "cell_type": "code",
   "execution_count": 8,
   "id": "3feea661",
   "metadata": {
    "execution": {
     "iopub.execute_input": "2023-02-02T11:30:09.684014Z",
     "iopub.status.busy": "2023-02-02T11:30:09.683363Z",
     "iopub.status.idle": "2023-02-02T11:48:53.527698Z",
     "shell.execute_reply": "2023-02-02T11:48:53.526706Z"
    },
    "papermill": {
     "duration": 1123.853165,
     "end_time": "2023-02-02T11:48:53.530446",
     "exception": false,
     "start_time": "2023-02-02T11:30:09.677281",
     "status": "completed"
    },
    "tags": []
   },
   "outputs": [
    {
     "name": "stdout",
     "output_type": "stream",
     "text": [
      "\n",
      "**************************************************\n",
      "\n",
      "Training Fold 1...\n",
      "\n",
      "**************************************************\n",
      "\n",
      "Epoch: 1 | Train Loss: 1.57304 | Valid Loss: 0.42165 | Train Accs: 0.44479 | Valid Accs: 0.87559 | Time: 28.85 seconds\n",
      "Epoch: 2 | Train Loss: 0.73232 | Valid Loss: 0.27177 | Train Accs: 0.75607 | Valid Accs: 0.91572 | Time: 22.10 seconds\n",
      "Epoch: 3 | Train Loss: 0.48391 | Valid Loss: 0.20598 | Train Accs: 0.84077 | Valid Accs: 0.93928 | Time: 22.62 seconds\n",
      "Epoch: 4 | Train Loss: 0.38423 | Valid Loss: 0.20169 | Train Accs: 0.87518 | Valid Accs: 0.93655 | Time: 22.57 seconds\n",
      "Epoch: 5 | Train Loss: 0.32722 | Valid Loss: 0.12853 | Train Accs: 0.89122 | Valid Accs: 0.96188 | Time: 21.96 seconds\n",
      "Epoch: 6 | Train Loss: 0.28206 | Valid Loss: 0.13472 | Train Accs: 0.90717 | Valid Accs: 0.95727 | Time: 22.50 seconds\n",
      "Epoch: 7 | Train Loss: 0.25314 | Valid Loss: 0.13521 | Train Accs: 0.91830 | Valid Accs: 0.95620 | Time: 21.96 seconds\n",
      "Epoch: 8 | Train Loss: 0.21869 | Valid Loss: 0.09941 | Train Accs: 0.92753 | Valid Accs: 0.97053 | Time: 22.09 seconds\n",
      "Epoch: 9 | Train Loss: 0.19904 | Valid Loss: 0.09547 | Train Accs: 0.93616 | Valid Accs: 0.97183 | Time: 22.46 seconds\n",
      "Epoch: 10 | Train Loss: 0.19185 | Valid Loss: 0.09272 | Train Accs: 0.93667 | Valid Accs: 0.97289 | Time: 22.40 seconds\n",
      "\n",
      "**************************************************\n",
      "\n",
      "Best Validation Loss at Epoch 10\n",
      "\n",
      "**************************************************\n",
      "\n",
      "Best Validation Accs at Epoch 10\n",
      "\n",
      "**************************************************\n",
      "\n",
      "Time Taken [10 Epochs] : 3.83 minutes\n",
      "\n",
      "**************************************************\n",
      "\n"
     ]
    },
    {
     "data": {
      "image/png": "[encoded data removed]",
      "text/plain": [
       "<Figure size 432x288 with 1 Axes>"
      ]
     },
     "metadata": {
      "needs_background": "light"
     },
     "output_type": "display_data"
    },
    {
     "name": "stdout",
     "output_type": "stream",
     "text": [
      "\n",
      "**************************************************\n",
      "\n"
     ]
    },
    {
     "data": {
      "image/png": "[encoded data removed]",
      "text/plain": [
       "<Figure size 432x288 with 1 Axes>"
      ]
     },
     "metadata": {
      "needs_background": "light"
     },
     "output_type": "display_data"
    },
    {
     "name": "stdout",
     "output_type": "stream",
     "text": [
      "\n",
      "**************************************************\n",
      "\n"
     ]
    },
    {
     "data": {
      "image/png": "[encoded data removed]",
      "text/plain": [
       "<Figure size 576x432 with 1 Axes>"
      ]
     },
     "metadata": {
      "needs_background": "light"
     },
     "output_type": "display_data"
    },
    {
     "name": "stdout",
     "output_type": "stream",
     "text": [
      "\n",
      "**************************************************\n",
      "\n",
      "\n",
      "**************************************************\n",
      "\n",
      "Training Fold 2...\n",
      "\n",
      "**************************************************\n",
      "\n",
      "Epoch: 1 | Train Loss: 1.57520 | Valid Loss: 0.55365 | Train Accs: 0.44345 | Valid Accs: 0.82375 | Time: 22.35 seconds\n",
      "Epoch: 2 | Train Loss: 0.74951 | Valid Loss: 0.19333 | Train Accs: 0.74821 | Valid Accs: 0.94223 | Time: 22.50 seconds\n",
      "Epoch: 3 | Train Loss: 0.48652 | Valid Loss: 0.26589 | Train Accs: 0.84042 | Valid Accs: 0.91785 | Time: 22.02 seconds\n",
      "Epoch: 4 | Train Loss: 0.38760 | Valid Loss: 0.18328 | Train Accs: 0.87452 | Valid Accs: 0.94377 | Time: 22.59 seconds\n",
      "Epoch: 5 | Train Loss: 0.32923 | Valid Loss: 0.13701 | Train Accs: 0.89244 | Valid Accs: 0.95786 | Time: 22.15 seconds\n",
      "Epoch: 6 | Train Loss: 0.29033 | Valid Loss: 0.11100 | Train Accs: 0.90417 | Valid Accs: 0.96484 | Time: 22.49 seconds\n",
      "Epoch: 7 | Train Loss: 0.25371 | Valid Loss: 0.08486 | Train Accs: 0.91702 | Valid Accs: 0.97360 | Time: 22.77 seconds\n",
      "Epoch: 8 | Train Loss: 0.21745 | Valid Loss: 0.09298 | Train Accs: 0.92976 | Valid Accs: 0.97230 | Time: 21.44 seconds\n",
      "Epoch: 9 | Train Loss: 0.20089 | Valid Loss: 0.08002 | Train Accs: 0.93437 | Valid Accs: 0.97573 | Time: 22.82 seconds\n",
      "Epoch: 10 | Train Loss: 0.19413 | Valid Loss: 0.08512 | Train Accs: 0.93625 | Valid Accs: 0.97337 | Time: 22.12 seconds\n",
      "\n",
      "**************************************************\n",
      "\n",
      "Best Validation Loss at Epoch 9\n",
      "\n",
      "**************************************************\n",
      "\n",
      "Best Validation Accs at Epoch 9\n",
      "\n",
      "**************************************************\n",
      "\n",
      "Time Taken [10 Epochs] : 3.72 minutes\n",
      "\n",
      "**************************************************\n",
      "\n"
     ]
    },
    {
     "data": {
      "image/png": "[encoded data removed]",
      "text/plain": [
       "<Figure size 432x288 with 1 Axes>"
      ]
     },
     "metadata": {
      "needs_background": "light"
     },
     "output_type": "display_data"
    },
    {
     "name": "stdout",
     "output_type": "stream",
     "text": [
      "\n",
      "**************************************************\n",
      "\n"
     ]
    },
    {
     "data": {
      "image/png": "[encoded data removed]",
      "text/plain": [
       "<Figure size 432x288 with 1 Axes>"
      ]
     },
     "metadata": {
      "needs_background": "light"
     },
     "output_type": "display_data"
    },
    {
     "name": "stdout",
     "output_type": "stream",
     "text": [
      "\n",
      "**************************************************\n",
      "\n"
     ]
    },
    {
     "data": {
      "image/png": "[encoded data removed]",
      "text/plain": [
       "<Figure size 576x432 with 1 Axes>"
      ]
     },
     "metadata": {
      "needs_background": "light"
     },
     "output_type": "display_data"
    },
    {
     "name": "stdout",
     "output_type": "stream",
     "text": [
      "\n",
      "**************************************************\n",
      "\n",
      "\n",
      "**************************************************\n",
      "\n",
      "Training Fold 3...\n",
      "\n",
      "**************************************************\n",
      "\n",
      "Epoch: 1 | Train Loss: 1.57716 | Valid Loss: 0.29608 | Train Accs: 0.44625 | Valid Accs: 0.92093 | Time: 22.30 seconds\n",
      "Epoch: 2 | Train Loss: 0.74825 | Valid Loss: 0.27884 | Train Accs: 0.74839 | Valid Accs: 0.91063 | Time: 21.95 seconds\n",
      "Epoch: 3 | Train Loss: 0.48367 | Valid Loss: 0.18038 | Train Accs: 0.84158 | Valid Accs: 0.94105 | Time: 22.49 seconds\n",
      "Epoch: 4 | Train Loss: 0.38457 | Valid Loss: 0.12827 | Train Accs: 0.87298 | Valid Accs: 0.95739 | Time: 22.48 seconds\n",
      "Epoch: 5 | Train Loss: 0.32527 | Valid Loss: 0.12430 | Train Accs: 0.89452 | Valid Accs: 0.96070 | Time: 22.20 seconds\n",
      "Epoch: 6 | Train Loss: 0.28639 | Valid Loss: 0.12608 | Train Accs: 0.90741 | Valid Accs: 0.96271 | Time: 21.77 seconds\n",
      "Epoch: 7 | Train Loss: 0.25534 | Valid Loss: 0.13056 | Train Accs: 0.91690 | Valid Accs: 0.95881 | Time: 21.99 seconds\n",
      "Epoch: 8 | Train Loss: 0.21760 | Valid Loss: 0.09643 | Train Accs: 0.92887 | Valid Accs: 0.97124 | Time: 22.14 seconds\n",
      "Epoch: 9 | Train Loss: 0.19713 | Valid Loss: 0.08391 | Train Accs: 0.93497 | Valid Accs: 0.97431 | Time: 22.21 seconds\n",
      "Epoch: 10 | Train Loss: 0.19111 | Valid Loss: 0.08360 | Train Accs: 0.93753 | Valid Accs: 0.97467 | Time: 22.72 seconds\n",
      "\n",
      "**************************************************\n",
      "\n",
      "Best Validation Loss at Epoch 10\n",
      "\n",
      "**************************************************\n",
      "\n",
      "Best Validation Accs at Epoch 10\n",
      "\n",
      "**************************************************\n",
      "\n",
      "Time Taken [10 Epochs] : 3.70 minutes\n",
      "\n",
      "**************************************************\n",
      "\n"
     ]
    },
    {
     "data": {
      "image/png": "[encoded data removed]",
      "text/plain": [
       "<Figure size 432x288 with 1 Axes>"
      ]
     },
     "metadata": {
      "needs_background": "light"
     },
     "output_type": "display_data"
    },
    {
     "name": "stdout",
     "output_type": "stream",
     "text": [
      "\n",
      "**************************************************\n",
      "\n"
     ]
    },
    {
     "data": {
      "image/png": "[encoded data removed]",
      "text/plain": [
       "<Figure size 432x288 with 1 Axes>"
      ]
     },
     "metadata": {
      "needs_background": "light"
     },
     "output_type": "display_data"
    },
    {
     "name": "stdout",
     "output_type": "stream",
     "text": [
      "\n",
      "**************************************************\n",
      "\n"
     ]
    },
    {
     "data": {
      "image/png": "[encoded data removed]",
      "text/plain": [
       "<Figure size 576x432 with 1 Axes>"
      ]
     },
     "metadata": {
      "needs_background": "light"
     },
     "output_type": "display_data"
    },
    {
     "name": "stdout",
     "output_type": "stream",
     "text": [
      "\n",
      "**************************************************\n",
      "\n",
      "\n",
      "**************************************************\n",
      "\n",
      "Training Fold 4...\n",
      "\n",
      "**************************************************\n",
      "\n",
      "Epoch: 1 | Train Loss: 1.57405 | Valid Loss: 0.29475 | Train Accs: 0.44494 | Valid Accs: 0.92377 | Time: 22.35 seconds\n",
      "Epoch: 2 | Train Loss: 0.74166 | Valid Loss: 0.44168 | Train Accs: 0.75208 | Valid Accs: 0.86127 | Time: 21.51 seconds\n",
      "Epoch: 3 | Train Loss: 0.48337 | Valid Loss: 0.22961 | Train Accs: 0.84110 | Valid Accs: 0.92365 | Time: 22.38 seconds\n",
      "Epoch: 4 | Train Loss: 0.39226 | Valid Loss: 0.15475 | Train Accs: 0.87298 | Valid Accs: 0.95159 | Time: 22.48 seconds\n",
      "Epoch: 5 | Train Loss: 0.32381 | Valid Loss: 0.11436 | Train Accs: 0.89196 | Valid Accs: 0.96259 | Time: 22.06 seconds\n",
      "Epoch: 6 | Train Loss: 0.28738 | Valid Loss: 0.10223 | Train Accs: 0.90551 | Valid Accs: 0.96780 | Time: 22.47 seconds\n",
      "Epoch: 7 | Train Loss: 0.25421 | Valid Loss: 0.09142 | Train Accs: 0.91702 | Valid Accs: 0.97064 | Time: 22.49 seconds\n",
      "Epoch: 8 | Train Loss: 0.22435 | Valid Loss: 0.09408 | Train Accs: 0.92711 | Valid Accs: 0.97076 | Time: 21.69 seconds\n",
      "Epoch: 9 | Train Loss: 0.20653 | Valid Loss: 0.09283 | Train Accs: 0.93310 | Valid Accs: 0.97195 | Time: 22.13 seconds\n",
      "Epoch: 10 | Train Loss: 0.19129 | Valid Loss: 0.08802 | Train Accs: 0.93693 | Valid Accs: 0.97431 | Time: 22.02 seconds\n",
      "\n",
      "**************************************************\n",
      "\n",
      "Best Validation Loss at Epoch 10\n",
      "\n",
      "**************************************************\n",
      "\n",
      "Best Validation Accs at Epoch 10\n",
      "\n",
      "**************************************************\n",
      "\n",
      "Time Taken [10 Epochs] : 3.69 minutes\n",
      "\n",
      "**************************************************\n",
      "\n"
     ]
    },
    {
     "data": {
      "image/png": "[encoded data removed]",
      "text/plain": [
       "<Figure size 432x288 with 1 Axes>"
      ]
     },
     "metadata": {
      "needs_background": "light"
     },
     "output_type": "display_data"
    },
    {
     "name": "stdout",
     "output_type": "stream",
     "text": [
      "\n",
      "**************************************************\n",
      "\n"
     ]
    },
    {
     "data": {
      "image/png": "[encoded data removed]",
      "text/plain": [
       "<Figure size 432x288 with 1 Axes>"
      ]
     },
     "metadata": {
      "needs_background": "light"
     },
     "output_type": "display_data"
    },
    {
     "name": "stdout",
     "output_type": "stream",
     "text": [
      "\n",
      "**************************************************\n",
      "\n"
     ]
    },
    {
     "data": {
      "image/png": "[encoded data removed]",
      "text/plain": [
       "<Figure size 576x432 with 1 Axes>"
      ]
     },
     "metadata": {
      "needs_background": "light"
     },
     "output_type": "display_data"
    },
    {
     "name": "stdout",
     "output_type": "stream",
     "text": [
      "\n",
      "**************************************************\n",
      "\n",
      "\n",
      "**************************************************\n",
      "\n",
      "Training Fold 5...\n",
      "\n",
      "**************************************************\n",
      "\n",
      "Epoch: 1 | Train Loss: 1.57219 | Valid Loss: 0.34868 | Train Accs: 0.44470 | Valid Accs: 0.89157 | Time: 22.45 seconds\n",
      "Epoch: 2 | Train Loss: 0.74707 | Valid Loss: 0.30697 | Train Accs: 0.74568 | Valid Accs: 0.90507 | Time: 22.12 seconds\n",
      "Epoch: 3 | Train Loss: 0.48740 | Valid Loss: 0.45910 | Train Accs: 0.84027 | Valid Accs: 0.84257 | Time: 21.92 seconds\n",
      "Epoch: 4 | Train Loss: 0.39174 | Valid Loss: 0.12869 | Train Accs: 0.87199 | Valid Accs: 0.95656 | Time: 22.50 seconds\n",
      "Epoch: 5 | Train Loss: 0.33330 | Valid Loss: 0.14068 | Train Accs: 0.89027 | Valid Accs: 0.95620 | Time: 21.63 seconds\n",
      "Epoch: 6 | Train Loss: 0.28694 | Valid Loss: 0.09951 | Train Accs: 0.90780 | Valid Accs: 0.96851 | Time: 22.26 seconds\n",
      "Epoch: 7 | Train Loss: 0.26401 | Valid Loss: 0.10247 | Train Accs: 0.91277 | Valid Accs: 0.96792 | Time: 21.94 seconds\n",
      "Epoch: 8 | Train Loss: 0.22663 | Valid Loss: 0.09374 | Train Accs: 0.92512 | Valid Accs: 0.96946 | Time: 21.83 seconds\n",
      "Epoch: 9 | Train Loss: 0.20241 | Valid Loss: 0.08152 | Train Accs: 0.93497 | Valid Accs: 0.97301 | Time: 22.22 seconds\n",
      "Epoch: 10 | Train Loss: 0.19366 | Valid Loss: 0.07312 | Train Accs: 0.93688 | Valid Accs: 0.97491 | Time: 22.37 seconds\n",
      "\n",
      "**************************************************\n",
      "\n",
      "Best Validation Loss at Epoch 10\n",
      "\n",
      "**************************************************\n",
      "\n",
      "Best Validation Accs at Epoch 10\n",
      "\n",
      "**************************************************\n",
      "\n",
      "Time Taken [10 Epochs] : 3.69 minutes\n",
      "\n",
      "**************************************************\n",
      "\n"
     ]
    },
    {
     "data": {
      "image/png": "[encoded data removed]",
      "text/plain": [
       "<Figure size 432x288 with 1 Axes>"
      ]
     },
     "metadata": {
      "needs_background": "light"
     },
     "output_type": "display_data"
    },
    {
     "name": "stdout",
     "output_type": "stream",
     "text": [
      "\n",
      "**************************************************\n",
      "\n"
     ]
    },
    {
     "data": {
      "image/png": "[encoded data removed]",
      "text/plain": [
       "<Figure size 432x288 with 1 Axes>"
      ]
     },
     "metadata": {
      "needs_background": "light"
     },
     "output_type": "display_data"
    },
    {
     "name": "stdout",
     "output_type": "stream",
     "text": [
      "\n",
      "**************************************************\n",
      "\n"
     ]
    },
    {
     "data": {
      "image/png": "[encoded data removed]",
      "text/plain": [
       "<Figure size 576x432 with 1 Axes>"
      ]
     },
     "metadata": {
      "needs_background": "light"
     },
     "output_type": "display_data"
    },
    {
     "name": "stdout",
     "output_type": "stream",
     "text": [
      "\n",
      "**************************************************\n",
      "\n"
     ]
    }
   ],
   "source": [
    "fold: int = 1\n",
    "BLs: list = []\n",
    "BAs: list = []\n",
    "    \n",
    "cfg.batch_size = 64\n",
    "cfg.epochs = 10\n",
    "    \n",
    "for tr_idx, va_idx in StratifiedKFold(n_splits=cfg.n_splits, random_state=cfg.seed, shuffle=True).split(images, labels):\n",
    "\n",
    "    tr_images, va_images = images[tr_idx], images[va_idx] \n",
    "    tr_labels, va_labels = labels[tr_idx], labels[va_idx]\n",
    "    \n",
    "    tr_data_setup = DS(\n",
    "        images=tr_images, \n",
    "        labels=tr_labels.reshape(-1, 1),\n",
    "        transform=cfg.train_transform\n",
    "    )\n",
    "\n",
    "    va_data_setup = DS(\n",
    "        images=va_images, \n",
    "        labels=va_labels.reshape(-1, 1),\n",
    "        transform=cfg.valid_transform\n",
    "    )\n",
    "\n",
    "    dataloaders = {\n",
    "        \"train\" : DL(tr_data_setup, batch_size=cfg.batch_size, shuffle=True, generator=torch.manual_seed(cfg.seed)),\n",
    "        \"valid\" : DL(va_data_setup, batch_size=cfg.batch_size, shuffle=False),\n",
    "    }\n",
    "\n",
    "    cfg.steps_per_epoch=len(dataloaders[\"train\"])\n",
    "    \n",
    "    torch.manual_seed(cfg.seed)\n",
    "    model = Model(filter_sizes=cfg.filter_sizes, HL=cfg.HL).to(cfg.device)\n",
    "\n",
    "    optimizer = optim.Adam([p for p in model.parameters() if p.requires_grad], lr=cfg.lr, weight_decay=cfg.wd)\n",
    "    # optimizer = optim.AdamW([p for p in model.parameters() if p.requires_grad], lr=cfg.lr, weight_decay=cfg.wd)\n",
    "    # optimizer = optim.SGD([p for p in model.parameters() if p.requires_grad], lr=cfg.lr, weight_decay=cfg.wd, momentum=0.9)\n",
    "\n",
    "    scheduler_oclr = optim.lr_scheduler.OneCycleLR(\n",
    "        optimizer=optimizer, \n",
    "        max_lr=cfg.max_lr, \n",
    "        epochs=cfg.epochs, \n",
    "        steps_per_epoch=cfg.steps_per_epoch,\n",
    "        pct_start=cfg.pct_start, \n",
    "        div_factor=cfg.div_factor, \n",
    "        final_div_factor=cfg.final_div_factor\n",
    "    )\n",
    "    \n",
    "    # scheduler_rlrop = optim.lr_scheduler.ReduceLROnPlateau(\n",
    "    #     optimizer=optimizer,\n",
    "    #     patience=cfg.patience,\n",
    "    #     eps=cfg.eps,\n",
    "    #     verbose=True\n",
    "    # )\n",
    "\n",
    "    # scheduler_oclr = None\n",
    "    scheduler_rlrop = None\n",
    "    \n",
    "    L, A, LR, BL, BA, _, _, _, _ = fit(\n",
    "        model=model, \n",
    "        optimizer=optimizer, \n",
    "        scheduler_oclr=scheduler_oclr,\n",
    "        scheduler_rlrop=scheduler_rlrop,\n",
    "        epochs=cfg.epochs, \n",
    "        early_stopping_patience=cfg.early_stopping, \n",
    "        dataloaders=dataloaders, \n",
    "        device=cfg.device,\n",
    "        save_path=cfg.save_path,\n",
    "        fold=fold,\n",
    "        verbose=True\n",
    "    )\n",
    "\n",
    "\n",
    "    breaker()\n",
    "    show_loss_graphs(L)\n",
    "    breaker()\n",
    "    show_accuracy_graphs(A)\n",
    "    breaker()\n",
    "    if scheduler_oclr:\n",
    "        show_lr_graph(LR)\n",
    "        breaker()\n",
    "    \n",
    "    BLs.append(BL)\n",
    "    BAs.append(BA)\n",
    "\n",
    "    fold += 1"
   ]
  },
  {
   "cell_type": "code",
   "execution_count": 9,
   "id": "74f53586",
   "metadata": {
    "execution": {
     "iopub.execute_input": "2023-02-02T11:48:53.553635Z",
     "iopub.status.busy": "2023-02-02T11:48:53.552052Z",
     "iopub.status.idle": "2023-02-02T11:48:53.559952Z",
     "shell.execute_reply": "2023-02-02T11:48:53.558943Z"
    },
    "papermill": {
     "duration": 0.021138,
     "end_time": "2023-02-02T11:48:53.562087",
     "exception": false,
     "start_time": "2023-02-02T11:48:53.540949",
     "status": "completed"
    },
    "tags": []
   },
   "outputs": [
    {
     "name": "stdout",
     "output_type": "stream",
     "text": [
      "\n",
      "**************************************************\n",
      "\n",
      "Best Loss Model Fold     : 5\n",
      "Best Accuracy Model Fold : 2\n",
      "\n",
      "**************************************************\n",
      "\n"
     ]
    }
   ],
   "source": [
    "BL = np.inf\n",
    "for i in range(len(BLs)):\n",
    "    if BLs[i][\"valid\"] < BL:\n",
    "        BL = BLs[i][\"valid\"]\n",
    "        best_loss_index = i\n",
    "\n",
    "        \n",
    "BA = 0.0\n",
    "for i in range(len(BAs)):\n",
    "    if BAs[i][\"valid\"] > BA:\n",
    "        BA = BAs[i][\"valid\"]\n",
    "        best_accs_index = i\n",
    "\n",
    "breaker()\n",
    "print(f\"Best Loss Model Fold     : {best_loss_index + 1}\")\n",
    "print(f\"Best Accuracy Model Fold : {best_accs_index + 1}\")\n",
    "breaker()"
   ]
  }
 ],
 "metadata": {
  "kernelspec": {
   "display_name": "Python 3",
   "language": "python",
   "name": "python3"
  },
  "language_info": {
   "codemirror_mode": {
    "name": "ipython",
    "version": 3
   },
   "file_extension": ".py",
   "mimetype": "text/x-python",
   "name": "python",
   "nbconvert_exporter": "python",
   "pygments_lexer": "ipython3",
   "version": "3.7.12"
  },
  "papermill": {
   "default_parameters": {},
   "duration": 1139.658383,
   "end_time": "2023-02-02T11:48:55.202621",
   "environment_variables": {},
   "exception": null,
   "input_path": "__notebook__.ipynb",
   "output_path": "__notebook__.ipynb",
   "parameters": {},
   "start_time": "2023-02-02T11:29:55.544238",
   "version": "2.3.4"
  }
 },
 "nbformat": 4,
 "nbformat_minor": 5
}
