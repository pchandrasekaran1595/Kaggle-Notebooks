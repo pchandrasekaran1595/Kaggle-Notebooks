{
 "cells": [
  {
   "cell_type": "markdown",
   "id": "90729e3e",
   "metadata": {
    "_cell_guid": "b1076dfc-b9ad-4769-8c92-a6c4dae69d19",
    "_uuid": "8f2839f25d086af736a60e9eeb907d3b93b6e0e5",
    "papermill": {
     "duration": 0.005948,
     "end_time": "2023-02-01T10:25:56.219365",
     "exception": false,
     "start_time": "2023-02-01T10:25:56.213417",
     "status": "completed"
    },
    "tags": []
   },
   "source": [
    "### **Library Imports**"
   ]
  },
  {
   "cell_type": "code",
   "execution_count": 1,
   "id": "1bcc6a0c",
   "metadata": {
    "execution": {
     "iopub.execute_input": "2023-02-01T10:25:56.229015Z",
     "iopub.status.busy": "2023-02-01T10:25:56.227474Z",
     "iopub.status.idle": "2023-02-01T10:25:59.044968Z",
     "shell.execute_reply": "2023-02-01T10:25:59.044016Z"
    },
    "papermill": {
     "duration": 2.824874,
     "end_time": "2023-02-01T10:25:59.047661",
     "exception": false,
     "start_time": "2023-02-01T10:25:56.222787",
     "status": "completed"
    },
    "tags": []
   },
   "outputs": [],
   "source": [
    "import os\n",
    "import re\n",
    "import cv2\n",
    "import torch\n",
    "import numpy as np\n",
    "import pandas as pd\n",
    "import matplotlib.pyplot as plt\n",
    "\n",
    "from time import time\n",
    "from typing import Union\n",
    "from torch import nn, optim\n",
    "from torch.utils.data import Dataset\n",
    "from torch.utils.data import DataLoader as DL\n",
    "from torchvision import transforms\n",
    "\n",
    "from sklearn.model_selection import StratifiedKFold"
   ]
  },
  {
   "cell_type": "code",
   "execution_count": 2,
   "id": "6f146c83",
   "metadata": {
    "execution": {
     "iopub.execute_input": "2023-02-01T10:25:59.056364Z",
     "iopub.status.busy": "2023-02-01T10:25:59.055231Z",
     "iopub.status.idle": "2023-02-01T10:25:59.067238Z",
     "shell.execute_reply": "2023-02-01T10:25:59.066289Z"
    },
    "papermill": {
     "duration": 0.018212,
     "end_time": "2023-02-01T10:25:59.069177",
     "exception": false,
     "start_time": "2023-02-01T10:25:59.050965",
     "status": "completed"
    },
    "tags": []
   },
   "outputs": [],
   "source": [
    "SEED: int = 42\n",
    "    \n",
    "\n",
    "def breaker(num: int=50, char: str=\"*\") -> None: print(\"\\n\" + num*char + \"\\n\")\n",
    "\n",
    "    \n",
    "def show_loss_graphs(L: list) -> None:\n",
    "    TL, VL = [], []\n",
    "    for i in range(len(L)):\n",
    "        TL.append(L[i][\"train\"])\n",
    "        VL.append(L[i][\"valid\"])\n",
    "    x_Axis = np.arange(1, len(TL) + 1)\n",
    "    plt.figure()\n",
    "    plt.plot(x_Axis, TL, \"r\", label=\"Train\")\n",
    "    plt.plot(x_Axis, VL, \"b\", label=\"Valid\")\n",
    "    plt.legend()\n",
    "    plt.grid()\n",
    "    plt.title(\"Loss Graph\")\n",
    "    plt.show()\n",
    "    \n",
    "\n",
    "def show_accuracy_graphs(A: list) -> None:\n",
    "    TA, VA = [], []\n",
    "    for i in range(len(A)):\n",
    "        TA.append(A[i][\"train\"])\n",
    "        VA.append(A[i][\"valid\"])\n",
    "    x_Axis = np.arange(1, len(TA) + 1)\n",
    "    plt.figure()\n",
    "    plt.plot(x_Axis, TA, \"r\", label=\"Train\")\n",
    "    plt.plot(x_Axis, VA, \"b\", label=\"Valid\")\n",
    "    plt.legend()\n",
    "    plt.grid()\n",
    "    plt.title(\"Accuracy Graph\")\n",
    "    plt.show()\n",
    "    \n",
    "\n",
    "def show_lr_graph(LR: list) -> None:\n",
    "    x_Axis = [i+1 for i in range(len(LR))]\n",
    "    plt.figure(figsize=(8, 6))\n",
    "    plt.plot(x_Axis, LR, \"rx\")\n",
    "    plt.grid()\n",
    "    plt.show()"
   ]
  },
  {
   "cell_type": "code",
   "execution_count": 3,
   "id": "c655ab4f",
   "metadata": {
    "execution": {
     "iopub.execute_input": "2023-02-01T10:25:59.076289Z",
     "iopub.status.busy": "2023-02-01T10:25:59.076034Z",
     "iopub.status.idle": "2023-02-01T10:25:59.145347Z",
     "shell.execute_reply": "2023-02-01T10:25:59.144430Z"
    },
    "papermill": {
     "duration": 0.075345,
     "end_time": "2023-02-01T10:25:59.147501",
     "exception": false,
     "start_time": "2023-02-01T10:25:59.072156",
     "status": "completed"
    },
    "tags": []
   },
   "outputs": [],
   "source": [
    "class CFG(object):\n",
    "    def __init__(self,\n",
    "             seed: int = 42,\n",
    "             n_splits: int = 5,\n",
    "             batch_size: int = 16,\n",
    "             epochs: int = 25,\n",
    "             early_stopping: int = 5,\n",
    "             lr: float = 1e-4,\n",
    "             wd: float = 0.0,\n",
    "             max_lr: float = 1e-3,\n",
    "             pct_start: float = 0.2,\n",
    "             steps_per_epoch: int = 100,\n",
    "             div_factor: int = 1e3, \n",
    "             final_div_factor: float = 1e3,\n",
    "             filter_sizes: list = [64, 128, 256],\n",
    "             HL: list = [1024]\n",
    "         ):\n",
    "        \n",
    "        self.seed = seed\n",
    "        self.n_splits = n_splits\n",
    "        self.batch_size = batch_size\n",
    "        self.epochs = epochs\n",
    "        self.early_stopping = early_stopping\n",
    "        self.lr = lr\n",
    "        self.wd = wd\n",
    "        self.max_lr = max_lr\n",
    "        self.pct_start = pct_start\n",
    "        self.steps_per_epoch = steps_per_epoch\n",
    "        self.div_factor = div_factor\n",
    "        self.final_div_factor = final_div_factor\n",
    "        self.filter_sizes = filter_sizes\n",
    "        self.HL = HL\n",
    "        self.device = torch.device(\"cuda\" if torch.cuda.is_available() else \"cpu\")\n",
    "        \n",
    "        self.train_transform = transforms.Compose([\n",
    "            transforms.ToTensor(),\n",
    "            transforms.Normalize([0.13102], [0.17323]),\n",
    "            transforms.RandomAffine(degrees=(-45, 45), translate=(0.15, 0.15), scale=(0.5, 1.5)),\n",
    "            transforms.RandomHorizontalFlip(p=0.25),\n",
    "            transforms.RandomVerticalFlip(p=0.25),\n",
    "        ])\n",
    "        self.valid_transform = transforms.Compose([\n",
    "            transforms.ToTensor(),\n",
    "            transforms.Normalize([0.13102], [0.17323]),\n",
    "        ])\n",
    "        self.save_path = \"saves\"\n",
    "        if not os.path.exists(self.save_path): os.makedirs(self.save_path)\n",
    "\n",
    "\n",
    "cfg = CFG(\n",
    "    seed=SEED, \n",
    ")"
   ]
  },
  {
   "cell_type": "markdown",
   "id": "f6cdb4e2",
   "metadata": {
    "papermill": {
     "duration": 0.002943,
     "end_time": "2023-02-01T10:25:59.153780",
     "exception": false,
     "start_time": "2023-02-01T10:25:59.150837",
     "status": "completed"
    },
    "tags": []
   },
   "source": [
    "### **Dataset Template**"
   ]
  },
  {
   "cell_type": "code",
   "execution_count": 4,
   "id": "adce0e30",
   "metadata": {
    "execution": {
     "iopub.execute_input": "2023-02-01T10:25:59.161403Z",
     "iopub.status.busy": "2023-02-01T10:25:59.161047Z",
     "iopub.status.idle": "2023-02-01T10:25:59.167863Z",
     "shell.execute_reply": "2023-02-01T10:25:59.166825Z"
    },
    "papermill": {
     "duration": 0.013079,
     "end_time": "2023-02-01T10:25:59.169890",
     "exception": false,
     "start_time": "2023-02-01T10:25:59.156811",
     "status": "completed"
    },
    "tags": []
   },
   "outputs": [],
   "source": [
    "class DS(Dataset):\n",
    "    def __init__(\n",
    "        self, \n",
    "        images: np.ndarray, \n",
    "        labels: Union[np.ndarray, None]=None, \n",
    "        transform=None\n",
    "    ):\n",
    "        \n",
    "        self.images = images\n",
    "        self.labels = labels\n",
    "        self.transform = transform\n",
    "\n",
    "    def __len__(self):\n",
    "        return self.images.shape[0]\n",
    "\n",
    "    def __getitem__(self, idx):\n",
    "        if self.labels is not None:\n",
    "            return self.transform(self.images[idx]), torch.LongTensor(self.labels[idx])\n",
    "        return self.transform(self.images[idx])"
   ]
  },
  {
   "cell_type": "markdown",
   "id": "83458aa9",
   "metadata": {
    "papermill": {
     "duration": 0.002991,
     "end_time": "2023-02-01T10:25:59.176458",
     "exception": false,
     "start_time": "2023-02-01T10:25:59.173467",
     "status": "completed"
    },
    "tags": []
   },
   "source": [
    "### **Model**"
   ]
  },
  {
   "cell_type": "code",
   "execution_count": 5,
   "id": "74f53988",
   "metadata": {
    "execution": {
     "iopub.execute_input": "2023-02-01T10:25:59.185041Z",
     "iopub.status.busy": "2023-02-01T10:25:59.184149Z",
     "iopub.status.idle": "2023-02-01T10:25:59.201997Z",
     "shell.execute_reply": "2023-02-01T10:25:59.200832Z"
    },
    "papermill": {
     "duration": 0.024749,
     "end_time": "2023-02-01T10:25:59.204286",
     "exception": false,
     "start_time": "2023-02-01T10:25:59.179537",
     "status": "completed"
    },
    "tags": []
   },
   "outputs": [],
   "source": [
    "class Model(nn.Module):\n",
    "    def __init__(self, filter_sizes: list, HL: list, DP: Union[float, None]=None):\n",
    "        \n",
    "        super(Model, self).__init__()\n",
    "        \n",
    "        self.features = nn.Sequential()\n",
    "        self.features.add_module(\"CN1\", nn.Conv2d(in_channels=1, out_channels=filter_sizes[0], kernel_size=(3, 3), stride=(1, 1), padding=(1, 1)))\n",
    "        self.features.add_module(\"BN1\", nn.BatchNorm2d(num_features=filter_sizes[0], eps=1e-5))\n",
    "        self.features.add_module(\"AN1\", nn.ReLU())\n",
    "        self.features.add_module(\"MP1\", nn.MaxPool2d(kernel_size=(2, 2)))\n",
    "        self.features.add_module(\"CN2\", nn.Conv2d(in_channels=filter_sizes[0], out_channels=filter_sizes[1], kernel_size=(3, 3), stride=(1, 1), padding=(1, 1)))\n",
    "        self.features.add_module(\"BN2\", nn.BatchNorm2d(num_features=filter_sizes[1], eps=1e-5))\n",
    "        self.features.add_module(\"AN2\", nn.ReLU())\n",
    "        self.features.add_module(\"MP2\", nn.MaxPool2d(kernel_size=(2, 2)))\n",
    "        self.features.add_module(\"CN3\", nn.Conv2d(in_channels=filter_sizes[1], out_channels=filter_sizes[2], kernel_size=(3, 3), stride=(1, 1), padding=(1, 1)))\n",
    "        self.features.add_module(\"BN3\", nn.BatchNorm2d(num_features=filter_sizes[2], eps=1e-5))\n",
    "        self.features.add_module(\"AN3\", nn.ReLU())\n",
    "        self.features.add_module(\"MP3\", nn.MaxPool2d(kernel_size=(2, 2))) \n",
    "        \n",
    "        self.classifier = nn.Sequential()\n",
    "        if len(HL) == 0:\n",
    "            self.classifier.add_module(\"FC1\", nn.Linear(in_features=filter_sizes[2]*3*3, out_features=26))\n",
    "        elif len(HL) == 1:\n",
    "            self.classifier.add_module(\"FC1\", nn.Linear(in_features=filter_sizes[2]*3*3, out_features=HL[0]))\n",
    "            if isinstance(DP, float):\n",
    "                self.classifier.add_module(\"DP1\", nn.Dropout(p=DP))\n",
    "            self.classifier.add_module(\"AN1\", nn.ReLU())\n",
    "            self.classifier.add_module(\"FC2\", nn.Linear(in_features=HL[0], out_features=26))\n",
    "        elif len(HL) == 2:\n",
    "            self.classifier.add_module(\"FC1\", nn.Linear(in_features=filter_sizes[2]*3*3, out_features=HL[0]))\n",
    "            if isinstance(DP, float):\n",
    "                self.classifier.add_module(\"DP1\", nn.Dropout(p=DP))\n",
    "            self.classifier.add_module(\"AN1\", nn.ReLU())\n",
    "            self.classifier.add_module(\"FC2\", nn.Linear(in_features=HL[0], out_features=HL[1]))\n",
    "            if isinstance(DP, float):\n",
    "                self.classifier.add_module(\"DP2\", nn.Dropout(p=DP))\n",
    "            self.classifier.add_module(\"AN2\", nn.ReLU())\n",
    "            self.classifier.add_module(\"FC3\", nn.Linear(in_features=HL[1], out_features=26))\n",
    "        self.classifier.add_module(\"Final Activation\", nn.LogSoftmax(dim=1))\n",
    "    \n",
    "    def forward(self, x):\n",
    "        x = self.features(x)\n",
    "        x = x.view(x.shape[0], -1)\n",
    "        return self.classifier(x)"
   ]
  },
  {
   "cell_type": "markdown",
   "id": "33c35767",
   "metadata": {
    "papermill": {
     "duration": 0.003261,
     "end_time": "2023-02-01T10:25:59.210919",
     "exception": false,
     "start_time": "2023-02-01T10:25:59.207658",
     "status": "completed"
    },
    "tags": []
   },
   "source": [
    "### **Fit and Predict**"
   ]
  },
  {
   "cell_type": "code",
   "execution_count": 6,
   "id": "68f6e505",
   "metadata": {
    "execution": {
     "iopub.execute_input": "2023-02-01T10:25:59.219293Z",
     "iopub.status.busy": "2023-02-01T10:25:59.218949Z",
     "iopub.status.idle": "2023-02-01T10:25:59.240115Z",
     "shell.execute_reply": "2023-02-01T10:25:59.239039Z"
    },
    "papermill": {
     "duration": 0.028144,
     "end_time": "2023-02-01T10:25:59.242285",
     "exception": false,
     "start_time": "2023-02-01T10:25:59.214141",
     "status": "completed"
    },
    "tags": []
   },
   "outputs": [],
   "source": [
    "def fit(\n",
    "    model=None,\n",
    "    optimizer=None, \n",
    "    scheduler_rlrop=None,\n",
    "    scheduler_oclr=None,\n",
    "    epochs=None, \n",
    "    early_stopping_patience=None, \n",
    "    dataloaders=None, \n",
    "    fold=None, \n",
    "    save_path=None,\n",
    "    device=None,\n",
    "    verbose=False\n",
    ") -> tuple:\n",
    "    \n",
    "    def get_accuracy(y_pred, y_true):\n",
    "        y_pred = torch.argmax(y_pred, dim=1)\n",
    "        return torch.count_nonzero(y_pred == y_true).item() / len(y_pred)\n",
    "    \n",
    "    if verbose:\n",
    "        breaker()\n",
    "        if fold: print(f\"Training Fold {fold}...\")\n",
    "        else: print(\"Training ...\")\n",
    "        breaker()\n",
    "        \n",
    "    bestLoss: dict = {\"train\" : np.inf, \"valid\" : np.inf} \n",
    "    bestAccs: dict = {\"train\" : 0.0, \"valid\" : 0.0}\n",
    "        \n",
    "    Losses: list = []\n",
    "    Accuracies: list = [] \n",
    "    LRs: list = []\n",
    "        \n",
    "    if fold: \n",
    "        ble_name = f\"ble_state_fold_{fold}.pt\"\n",
    "        bae_name = f\"bae_state_fold_{fold}.pt\"\n",
    "    else: \n",
    "        ble_name = f\"ble_state.pt\"\n",
    "        bae_name = f\"bae_state.pt\"\n",
    "        \n",
    "    start_time = time()\n",
    "    for e in range(epochs):\n",
    "        e_st = time()\n",
    "        epochLoss: dict = {\"train\" : 0.0, \"valid\" : 0.0} \n",
    "        epochAccs: dict = {\"train\" : 0.0, \"valid\" : 0.0}\n",
    "            \n",
    "        for phase in [\"train\", \"valid\"]:\n",
    "            if phase == \"train\":\n",
    "                model.train()\n",
    "            else:\n",
    "                model.eval()\n",
    "            \n",
    "            lossPerPass: list = []\n",
    "            accsPerPass: list = []\n",
    "                \n",
    "            for X, y in dataloaders[phase]:\n",
    "                X, y = X.to(device), y.to(device).view(-1)\n",
    "                \n",
    "                optimizer.zero_grad()\n",
    "                with torch.set_grad_enabled(phase == \"train\"):\n",
    "                    output = model(X)\n",
    "                    loss = nn.NLLLoss()(output, y)\n",
    "                    if phase == \"train\":\n",
    "                        loss.backward()\n",
    "                        optimizer.step()\n",
    "                        if scheduler_oclr: scheduler_oclr.step()\n",
    "                lossPerPass.append(loss.item())\n",
    "                accsPerPass.append(get_accuracy(output, y))\n",
    "            epochLoss[phase] = np.mean(np.array(lossPerPass))\n",
    "            epochAccs[phase] = np.mean(np.array(accsPerPass))\n",
    "        if scheduler_oclr: LRs.append(scheduler_oclr.get_last_lr())\n",
    "        Losses.append(epochLoss)\n",
    "        Accuracies.append(epochAccs)\n",
    "        \n",
    "        if scheduler_oclr:\n",
    "            save_dict = {\"model_state_dict\"     : model.state_dict(),\n",
    "                         \"optim_state_dict\"     : optimizer.state_dict(),\n",
    "                         \"scheduler_state_dict\" : scheduler_oclr.state_dict()}\n",
    "        \n",
    "        elif scheduler_rlrop:\n",
    "            save_dict = {\"model_state_dict\"     : model.state_dict(),\n",
    "                         \"optim_state_dict\"     : optimizer.state_dict(),\n",
    "                         \"scheduler_state_dict\" : scheduler_rlrop.state_dict()}\n",
    "        \n",
    "        else:\n",
    "            save_dict = {\"model_state_dict\"     : model.state_dict(),\n",
    "                         \"optim_state_dict\"     : optimizer.state_dict()}\n",
    "        \n",
    "        if early_stopping_patience:\n",
    "            if epochLoss[\"valid\"] < bestLoss[\"valid\"]:\n",
    "                bestLoss = epochLoss\n",
    "                BLE = e + 1\n",
    "                torch.save(save_dict, os.path.join(save_path, ble_name))\n",
    "                torch.save(save_dict, os.path.join(save_path, bae_name))\n",
    "                early_stopping_step = 0\n",
    "            else:\n",
    "                early_stopping_step += 1\n",
    "                if early_stopping_step > early_stopping_patience:\n",
    "                    print(\"\\nEarly Stopping at Epoch {}\".format(e + 1))\n",
    "                    break\n",
    "        \n",
    "        if epochLoss[\"valid\"] < bestLoss[\"valid\"]:\n",
    "            bestLoss = epochLoss\n",
    "            BLE = e + 1\n",
    "            torch.save(save_dict,os.path.join(save_path, ble_name))\n",
    "        \n",
    "        if epochAccs[\"valid\"] > bestAccs[\"valid\"]:\n",
    "            bestAccs = epochAccs\n",
    "            BAE = e + 1\n",
    "            torch.save(save_dict,os.path.join(save_path, bae_name))\n",
    "        \n",
    "        if scheduler_rlrop: scheduler_rlrop.step(epochLoss[\"valid\"])\n",
    "        \n",
    "        if verbose:\n",
    "            print(\"Epoch: {} | Train Loss: {:.5f} | Valid Loss: {:.5f} |\\\n",
    " Train Accs: {:.5f} | Valid Accs: {:.5f} | Time: {:.2f} seconds\".format(\n",
    "                e+1, \n",
    "                epochLoss[\"train\"], epochLoss[\"valid\"], \n",
    "                epochAccs[\"train\"], epochAccs[\"valid\"], \n",
    "                time()-e_st)\n",
    "            )\n",
    "        \n",
    "    if verbose:                                           \n",
    "        breaker()\n",
    "        print(f\"Best Validation Loss at Epoch {BLE}\")\n",
    "        breaker()\n",
    "        print(f\"Best Validation Accs at Epoch {BAE}\")\n",
    "        breaker()\n",
    "        print(\"Time Taken [{} Epochs] : {:.2f} minutes\".format(len(Losses), (time()-start_time)/60))\n",
    "    \n",
    "    return Losses, Accuracies, LRs, bestLoss, bestAccs, BLE, BAE, ble_name, bae_name\n",
    "\n",
    "\n",
    "# def predict_batch(model=None, dataloader=None, path=None, device=None) -> np.ndarray:\n",
    "#     model.load_state_dict(torch.load(path, map_location=device)[\"model_state_dict\"])\n",
    "#     model.to(device)    \n",
    "#     model.eval()\n",
    "    \n",
    "#     y_pred = torch.zeros(1, 1).to(device)\n",
    "    \n",
    "#     for X in dataloader:\n",
    "#         X = X.to(device)\n",
    "#         with torch.no_grad():\n",
    "#             output = torch.argmax(torch.exp(model(X)), dim=1)\n",
    "#         y_pred = torch.cat((y_pred, output.view(-1, 1)), dim=0)\n",
    "    \n",
    "#     return y_pred[1:].detach().cpu().numpy()"
   ]
  },
  {
   "cell_type": "markdown",
   "id": "cd0bafaf",
   "metadata": {
    "papermill": {
     "duration": 0.003063,
     "end_time": "2023-02-01T10:25:59.248717",
     "exception": false,
     "start_time": "2023-02-01T10:25:59.245654",
     "status": "completed"
    },
    "tags": []
   },
   "source": [
    "### **Train**"
   ]
  },
  {
   "cell_type": "code",
   "execution_count": 7,
   "id": "206fd070",
   "metadata": {
    "execution": {
     "iopub.execute_input": "2023-02-01T10:25:59.256384Z",
     "iopub.status.busy": "2023-02-01T10:25:59.256060Z",
     "iopub.status.idle": "2023-02-01T10:26:02.231567Z",
     "shell.execute_reply": "2023-02-01T10:26:02.230369Z"
    },
    "papermill": {
     "duration": 2.982054,
     "end_time": "2023-02-01T10:26:02.233992",
     "exception": false,
     "start_time": "2023-02-01T10:25:59.251938",
     "status": "completed"
    },
    "tags": []
   },
   "outputs": [],
   "source": [
    "df = pd.read_csv(\"/kaggle/input/digit-recognizer-ii-2023/train.csv\")\n",
    "\n",
    "images = df.iloc[:, 1:].copy().values.reshape(df.shape[0], 28, 28, 1).astype(\"uint8\")\n",
    "labels = df.iloc[:, 0].copy().values"
   ]
  },
  {
   "cell_type": "code",
   "execution_count": 8,
   "id": "b415ddc9",
   "metadata": {
    "execution": {
     "iopub.execute_input": "2023-02-01T10:26:02.242820Z",
     "iopub.status.busy": "2023-02-01T10:26:02.242481Z",
     "iopub.status.idle": "2023-02-01T10:44:55.979129Z",
     "shell.execute_reply": "2023-02-01T10:44:55.978009Z"
    },
    "papermill": {
     "duration": 1133.743509,
     "end_time": "2023-02-01T10:44:55.981231",
     "exception": false,
     "start_time": "2023-02-01T10:26:02.237722",
     "status": "completed"
    },
    "tags": []
   },
   "outputs": [
    {
     "name": "stdout",
     "output_type": "stream",
     "text": [
      "\n",
      "**************************************************\n",
      "\n",
      "Training Fold 1...\n",
      "\n",
      "**************************************************\n",
      "\n",
      "Epoch: 1 | Train Loss: 1.70858 | Valid Loss: 0.32448 | Train Accs: 0.42759 | Valid Accs: 0.91643 | Time: 30.02 seconds\n",
      "Epoch: 2 | Train Loss: 0.76165 | Valid Loss: 0.18630 | Train Accs: 0.74568 | Valid Accs: 0.94567 | Time: 23.92 seconds\n",
      "Epoch: 3 | Train Loss: 0.49541 | Valid Loss: 0.26447 | Train Accs: 0.83607 | Valid Accs: 0.92045 | Time: 23.59 seconds\n",
      "Epoch: 4 | Train Loss: 0.38870 | Valid Loss: 0.13770 | Train Accs: 0.87426 | Valid Accs: 0.95786 | Time: 22.95 seconds\n",
      "Epoch: 5 | Train Loss: 0.33395 | Valid Loss: 0.12344 | Train Accs: 0.89009 | Valid Accs: 0.96579 | Time: 23.56 seconds\n",
      "Epoch: 6 | Train Loss: 0.28690 | Valid Loss: 0.10243 | Train Accs: 0.90774 | Valid Accs: 0.96804 | Time: 22.94 seconds\n",
      "Epoch: 7 | Train Loss: 0.25509 | Valid Loss: 0.11164 | Train Accs: 0.91586 | Valid Accs: 0.96508 | Time: 23.79 seconds\n",
      "Epoch: 8 | Train Loss: 0.22406 | Valid Loss: 0.09292 | Train Accs: 0.92690 | Valid Accs: 0.97325 | Time: 22.96 seconds\n",
      "Epoch: 9 | Train Loss: 0.20181 | Valid Loss: 0.09240 | Train Accs: 0.93333 | Valid Accs: 0.97313 | Time: 23.36 seconds\n",
      "Epoch: 10 | Train Loss: 0.18838 | Valid Loss: 0.09032 | Train Accs: 0.93973 | Valid Accs: 0.97313 | Time: 23.09 seconds\n",
      "\n",
      "**************************************************\n",
      "\n",
      "Best Validation Loss at Epoch 10\n",
      "\n",
      "**************************************************\n",
      "\n",
      "Best Validation Accs at Epoch 8\n",
      "\n",
      "**************************************************\n",
      "\n",
      "Time Taken [10 Epochs] : 4.00 minutes\n",
      "\n",
      "**************************************************\n",
      "\n"
     ]
    },
    {
     "data": {
      "image/png": "[encoded data removed]",
      "text/plain": [
       "<Figure size 432x288 with 1 Axes>"
      ]
     },
     "metadata": {
      "needs_background": "light"
     },
     "output_type": "display_data"
    },
    {
     "name": "stdout",
     "output_type": "stream",
     "text": [
      "\n",
      "**************************************************\n",
      "\n"
     ]
    },
    {
     "data": {
      "image/png": "[encoded data removed]",
      "text/plain": [
       "<Figure size 432x288 with 1 Axes>"
      ]
     },
     "metadata": {
      "needs_background": "light"
     },
     "output_type": "display_data"
    },
    {
     "name": "stdout",
     "output_type": "stream",
     "text": [
      "\n",
      "**************************************************\n",
      "\n"
     ]
    },
    {
     "data": {
      "image/png": "[encoded data removed]",
      "text/plain": [
       "<Figure size 576x432 with 1 Axes>"
      ]
     },
     "metadata": {
      "needs_background": "light"
     },
     "output_type": "display_data"
    },
    {
     "name": "stdout",
     "output_type": "stream",
     "text": [
      "\n",
      "**************************************************\n",
      "\n",
      "\n",
      "**************************************************\n",
      "\n",
      "Training Fold 2...\n",
      "\n",
      "**************************************************\n",
      "\n",
      "Epoch: 1 | Train Loss: 1.70636 | Valid Loss: 0.72637 | Train Accs: 0.43057 | Valid Accs: 0.76231 | Time: 22.93 seconds\n",
      "Epoch: 2 | Train Loss: 0.76881 | Valid Loss: 0.97752 | Train Accs: 0.74229 | Valid Accs: 0.73366 | Time: 22.43 seconds\n",
      "Epoch: 3 | Train Loss: 0.49995 | Valid Loss: 0.21643 | Train Accs: 0.83628 | Valid Accs: 0.93170 | Time: 23.51 seconds\n",
      "Epoch: 4 | Train Loss: 0.39136 | Valid Loss: 0.13589 | Train Accs: 0.87107 | Valid Accs: 0.95869 | Time: 22.96 seconds\n",
      "Epoch: 5 | Train Loss: 0.33574 | Valid Loss: 0.14052 | Train Accs: 0.89060 | Valid Accs: 0.95206 | Time: 23.12 seconds\n",
      "Epoch: 6 | Train Loss: 0.29420 | Valid Loss: 0.12894 | Train Accs: 0.90461 | Valid Accs: 0.95952 | Time: 22.23 seconds\n",
      "Epoch: 7 | Train Loss: 0.25477 | Valid Loss: 0.10346 | Train Accs: 0.91604 | Valid Accs: 0.96686 | Time: 22.84 seconds\n",
      "Epoch: 8 | Train Loss: 0.22653 | Valid Loss: 0.08658 | Train Accs: 0.92571 | Valid Accs: 0.97313 | Time: 22.45 seconds\n",
      "Epoch: 9 | Train Loss: 0.20167 | Valid Loss: 0.08133 | Train Accs: 0.93435 | Valid Accs: 0.97514 | Time: 21.78 seconds\n",
      "Epoch: 10 | Train Loss: 0.19232 | Valid Loss: 0.08610 | Train Accs: 0.93780 | Valid Accs: 0.97301 | Time: 22.34 seconds\n",
      "\n",
      "**************************************************\n",
      "\n",
      "Best Validation Loss at Epoch 9\n",
      "\n",
      "**************************************************\n",
      "\n",
      "Best Validation Accs at Epoch 9\n",
      "\n",
      "**************************************************\n",
      "\n",
      "Time Taken [10 Epochs] : 3.78 minutes\n",
      "\n",
      "**************************************************\n",
      "\n"
     ]
    },
    {
     "data": {
      "image/png": "[encoded data removed]",
      "text/plain": [
       "<Figure size 432x288 with 1 Axes>"
      ]
     },
     "metadata": {
      "needs_background": "light"
     },
     "output_type": "display_data"
    },
    {
     "name": "stdout",
     "output_type": "stream",
     "text": [
      "\n",
      "**************************************************\n",
      "\n"
     ]
    },
    {
     "data": {
      "image/png": "[encoded data removed]",
      "text/plain": [
       "<Figure size 432x288 with 1 Axes>"
      ]
     },
     "metadata": {
      "needs_background": "light"
     },
     "output_type": "display_data"
    },
    {
     "name": "stdout",
     "output_type": "stream",
     "text": [
      "\n",
      "**************************************************\n",
      "\n"
     ]
    },
    {
     "data": {
      "image/png": "[encoded data removed]",
      "text/plain": [
       "<Figure size 576x432 with 1 Axes>"
      ]
     },
     "metadata": {
      "needs_background": "light"
     },
     "output_type": "display_data"
    },
    {
     "name": "stdout",
     "output_type": "stream",
     "text": [
      "\n",
      "**************************************************\n",
      "\n",
      "\n",
      "**************************************************\n",
      "\n",
      "Training Fold 3...\n",
      "\n",
      "**************************************************\n",
      "\n",
      "Epoch: 1 | Train Loss: 1.71832 | Valid Loss: 0.87496 | Train Accs: 0.42568 | Valid Accs: 0.71899 | Time: 23.06 seconds\n",
      "Epoch: 2 | Train Loss: 0.75070 | Valid Loss: 0.20541 | Train Accs: 0.74914 | Valid Accs: 0.93253 | Time: 22.40 seconds\n",
      "Epoch: 3 | Train Loss: 0.48781 | Valid Loss: 0.19350 | Train Accs: 0.84182 | Valid Accs: 0.93833 | Time: 21.81 seconds\n",
      "Epoch: 4 | Train Loss: 0.39977 | Valid Loss: 0.13962 | Train Accs: 0.86771 | Valid Accs: 0.95384 | Time: 22.14 seconds\n",
      "Epoch: 5 | Train Loss: 0.32609 | Valid Loss: 0.12273 | Train Accs: 0.89518 | Valid Accs: 0.96378 | Time: 22.21 seconds\n",
      "Epoch: 6 | Train Loss: 0.28757 | Valid Loss: 0.10848 | Train Accs: 0.90616 | Valid Accs: 0.96484 | Time: 22.35 seconds\n",
      "Epoch: 7 | Train Loss: 0.25684 | Valid Loss: 0.09741 | Train Accs: 0.91741 | Valid Accs: 0.96958 | Time: 22.71 seconds\n",
      "Epoch: 8 | Train Loss: 0.22598 | Valid Loss: 0.10395 | Train Accs: 0.92753 | Valid Accs: 0.96887 | Time: 22.38 seconds\n",
      "Epoch: 9 | Train Loss: 0.20681 | Valid Loss: 0.08692 | Train Accs: 0.93307 | Valid Accs: 0.97337 | Time: 22.31 seconds\n",
      "Epoch: 10 | Train Loss: 0.19714 | Valid Loss: 0.08658 | Train Accs: 0.93571 | Valid Accs: 0.97396 | Time: 21.60 seconds\n",
      "\n",
      "**************************************************\n",
      "\n",
      "Best Validation Loss at Epoch 10\n",
      "\n",
      "**************************************************\n",
      "\n",
      "Best Validation Accs at Epoch 10\n",
      "\n",
      "**************************************************\n",
      "\n",
      "Time Taken [10 Epochs] : 3.72 minutes\n",
      "\n",
      "**************************************************\n",
      "\n"
     ]
    },
    {
     "data": {
      "image/png": "[encoded data removed]",
      "text/plain": [
       "<Figure size 432x288 with 1 Axes>"
      ]
     },
     "metadata": {
      "needs_background": "light"
     },
     "output_type": "display_data"
    },
    {
     "name": "stdout",
     "output_type": "stream",
     "text": [
      "\n",
      "**************************************************\n",
      "\n"
     ]
    },
    {
     "data": {
      "image/png": "[encoded data removed]",
      "text/plain": [
       "<Figure size 432x288 with 1 Axes>"
      ]
     },
     "metadata": {
      "needs_background": "light"
     },
     "output_type": "display_data"
    },
    {
     "name": "stdout",
     "output_type": "stream",
     "text": [
      "\n",
      "**************************************************\n",
      "\n"
     ]
    },
    {
     "data": {
      "image/png": "[encoded data removed]",
      "text/plain": [
       "<Figure size 576x432 with 1 Axes>"
      ]
     },
     "metadata": {
      "needs_background": "light"
     },
     "output_type": "display_data"
    },
    {
     "name": "stdout",
     "output_type": "stream",
     "text": [
      "\n",
      "**************************************************\n",
      "\n",
      "\n",
      "**************************************************\n",
      "\n",
      "Training Fold 4...\n",
      "\n",
      "**************************************************\n",
      "\n",
      "Epoch: 1 | Train Loss: 1.71703 | Valid Loss: 0.52861 | Train Accs: 0.42455 | Valid Accs: 0.84257 | Time: 21.87 seconds\n",
      "Epoch: 2 | Train Loss: 0.75570 | Valid Loss: 0.23628 | Train Accs: 0.74738 | Valid Accs: 0.92543 | Time: 22.03 seconds\n",
      "Epoch: 3 | Train Loss: 0.48565 | Valid Loss: 0.21954 | Train Accs: 0.84068 | Valid Accs: 0.93265 | Time: 21.41 seconds\n",
      "Epoch: 4 | Train Loss: 0.39211 | Valid Loss: 0.14595 | Train Accs: 0.87071 | Valid Accs: 0.95526 | Time: 21.71 seconds\n",
      "Epoch: 5 | Train Loss: 0.33358 | Valid Loss: 0.12884 | Train Accs: 0.88952 | Valid Accs: 0.96011 | Time: 21.81 seconds\n",
      "Epoch: 6 | Train Loss: 0.29292 | Valid Loss: 0.10927 | Train Accs: 0.90217 | Valid Accs: 0.96626 | Time: 21.31 seconds\n",
      "Epoch: 7 | Train Loss: 0.26277 | Valid Loss: 0.10217 | Train Accs: 0.91402 | Valid Accs: 0.96875 | Time: 21.93 seconds\n",
      "Epoch: 8 | Train Loss: 0.22537 | Valid Loss: 0.09158 | Train Accs: 0.92423 | Valid Accs: 0.97112 | Time: 21.85 seconds\n",
      "Epoch: 9 | Train Loss: 0.20430 | Valid Loss: 0.08253 | Train Accs: 0.93146 | Valid Accs: 0.97479 | Time: 21.27 seconds\n",
      "Epoch: 10 | Train Loss: 0.19331 | Valid Loss: 0.08466 | Train Accs: 0.93664 | Valid Accs: 0.97348 | Time: 22.37 seconds\n",
      "\n",
      "**************************************************\n",
      "\n",
      "Best Validation Loss at Epoch 9\n",
      "\n",
      "**************************************************\n",
      "\n",
      "Best Validation Accs at Epoch 9\n",
      "\n",
      "**************************************************\n",
      "\n",
      "Time Taken [10 Epochs] : 3.63 minutes\n",
      "\n",
      "**************************************************\n",
      "\n"
     ]
    },
    {
     "data": {
      "image/png": "[encoded data removed]",
      "text/plain": [
       "<Figure size 432x288 with 1 Axes>"
      ]
     },
     "metadata": {
      "needs_background": "light"
     },
     "output_type": "display_data"
    },
    {
     "name": "stdout",
     "output_type": "stream",
     "text": [
      "\n",
      "**************************************************\n",
      "\n"
     ]
    },
    {
     "data": {
      "image/png": "[encoded data removed]",
      "text/plain": [
       "<Figure size 432x288 with 1 Axes>"
      ]
     },
     "metadata": {
      "needs_background": "light"
     },
     "output_type": "display_data"
    },
    {
     "name": "stdout",
     "output_type": "stream",
     "text": [
      "\n",
      "**************************************************\n",
      "\n"
     ]
    },
    {
     "data": {
      "image/png": "[encoded data removed]",
      "text/plain": [
       "<Figure size 576x432 with 1 Axes>"
      ]
     },
     "metadata": {
      "needs_background": "light"
     },
     "output_type": "display_data"
    },
    {
     "name": "stdout",
     "output_type": "stream",
     "text": [
      "\n",
      "**************************************************\n",
      "\n",
      "\n",
      "**************************************************\n",
      "\n",
      "Training Fold 5...\n",
      "\n",
      "**************************************************\n",
      "\n",
      "Epoch: 1 | Train Loss: 1.69533 | Valid Loss: 0.51503 | Train Accs: 0.43536 | Valid Accs: 0.84067 | Time: 21.84 seconds\n",
      "Epoch: 2 | Train Loss: 0.76030 | Valid Loss: 0.28308 | Train Accs: 0.74485 | Valid Accs: 0.91004 | Time: 22.07 seconds\n",
      "Epoch: 3 | Train Loss: 0.48827 | Valid Loss: 0.21435 | Train Accs: 0.83607 | Valid Accs: 0.93229 | Time: 21.73 seconds\n",
      "Epoch: 4 | Train Loss: 0.39239 | Valid Loss: 0.15793 | Train Accs: 0.87122 | Valid Accs: 0.95159 | Time: 22.98 seconds\n",
      "Epoch: 5 | Train Loss: 0.32885 | Valid Loss: 0.11054 | Train Accs: 0.89217 | Valid Accs: 0.96780 | Time: 22.13 seconds\n",
      "Epoch: 6 | Train Loss: 0.29435 | Valid Loss: 0.10310 | Train Accs: 0.90333 | Valid Accs: 0.96828 | Time: 21.26 seconds\n",
      "Epoch: 7 | Train Loss: 0.26206 | Valid Loss: 0.09273 | Train Accs: 0.91452 | Valid Accs: 0.96745 | Time: 22.34 seconds\n",
      "Epoch: 8 | Train Loss: 0.22522 | Valid Loss: 0.08919 | Train Accs: 0.92693 | Valid Accs: 0.97159 | Time: 22.22 seconds\n",
      "Epoch: 9 | Train Loss: 0.20558 | Valid Loss: 0.07868 | Train Accs: 0.93304 | Valid Accs: 0.97514 | Time: 21.96 seconds\n",
      "Epoch: 10 | Train Loss: 0.18587 | Valid Loss: 0.07804 | Train Accs: 0.93935 | Valid Accs: 0.97502 | Time: 21.86 seconds\n",
      "\n",
      "**************************************************\n",
      "\n",
      "Best Validation Loss at Epoch 10\n",
      "\n",
      "**************************************************\n",
      "\n",
      "Best Validation Accs at Epoch 9\n",
      "\n",
      "**************************************************\n",
      "\n",
      "Time Taken [10 Epochs] : 3.67 minutes\n",
      "\n",
      "**************************************************\n",
      "\n"
     ]
    },
    {
     "data": {
      "image/png": "[encoded data removed]",
      "text/plain": [
       "<Figure size 432x288 with 1 Axes>"
      ]
     },
     "metadata": {
      "needs_background": "light"
     },
     "output_type": "display_data"
    },
    {
     "name": "stdout",
     "output_type": "stream",
     "text": [
      "\n",
      "**************************************************\n",
      "\n"
     ]
    },
    {
     "data": {
      "image/png": "[encoded data removed]",
      "text/plain": [
       "<Figure size 432x288 with 1 Axes>"
      ]
     },
     "metadata": {
      "needs_background": "light"
     },
     "output_type": "display_data"
    },
    {
     "name": "stdout",
     "output_type": "stream",
     "text": [
      "\n",
      "**************************************************\n",
      "\n"
     ]
    },
    {
     "data": {
      "image/png": "[encoded data removed]",
      "text/plain": [
       "<Figure size 576x432 with 1 Axes>"
      ]
     },
     "metadata": {
      "needs_background": "light"
     },
     "output_type": "display_data"
    },
    {
     "name": "stdout",
     "output_type": "stream",
     "text": [
      "\n",
      "**************************************************\n",
      "\n"
     ]
    }
   ],
   "source": [
    "fold: int = 1\n",
    "BLs: list = []\n",
    "BAs: list = []\n",
    "    \n",
    "cfg.batch_size = 64\n",
    "cfg.epochs = 10\n",
    "    \n",
    "for tr_idx, va_idx in StratifiedKFold(n_splits=cfg.n_splits, random_state=cfg.seed, shuffle=True).split(images, labels):\n",
    "\n",
    "    tr_images, va_images = images[tr_idx], images[va_idx] \n",
    "    tr_labels, va_labels = labels[tr_idx], labels[va_idx]\n",
    "    \n",
    "    tr_data_setup = DS(\n",
    "        images=tr_images, \n",
    "        labels=tr_labels.reshape(-1, 1),\n",
    "        transform=cfg.train_transform\n",
    "    )\n",
    "\n",
    "    va_data_setup = DS(\n",
    "        images=va_images, \n",
    "        labels=va_labels.reshape(-1, 1),\n",
    "        transform=cfg.valid_transform\n",
    "    )\n",
    "\n",
    "    dataloaders = {\n",
    "        \"train\" : DL(tr_data_setup, batch_size=cfg.batch_size, shuffle=True, generator=torch.manual_seed(cfg.seed)),\n",
    "        \"valid\" : DL(va_data_setup, batch_size=cfg.batch_size, shuffle=False),\n",
    "    }\n",
    "\n",
    "    cfg.steps_per_epoch=len(dataloaders[\"train\"])\n",
    "    \n",
    "    torch.manual_seed(cfg.seed)\n",
    "    model = Model(filter_sizes=cfg.filter_sizes, HL=cfg.HL).to(cfg.device)\n",
    "\n",
    "    optimizer = optim.Adam([p for p in model.parameters() if p.requires_grad], lr=cfg.lr, weight_decay=cfg.wd)\n",
    "    # optimizer = optim.AdamW([p for p in model.parameters() if p.requires_grad], lr=cfg.lr, weight_decay=cfg.wd)\n",
    "    # optimizer = optim.SGD([p for p in model.parameters() if p.requires_grad], lr=cfg.lr, weight_decay=cfg.wd, momentum=0.9)\n",
    "\n",
    "    scheduler_oclr = optim.lr_scheduler.OneCycleLR(\n",
    "        optimizer=optimizer, \n",
    "        max_lr=cfg.max_lr, \n",
    "        epochs=cfg.epochs, \n",
    "        steps_per_epoch=cfg.steps_per_epoch,\n",
    "        pct_start=cfg.pct_start, \n",
    "        div_factor=cfg.div_factor, \n",
    "        final_div_factor=cfg.final_div_factor\n",
    "    )\n",
    "    \n",
    "    # scheduler_rlrop = optim.lr_scheduler.ReduceLROnPlateau(\n",
    "    #     optimizer=optimizer,\n",
    "    #     patience=cfg.patience,\n",
    "    #     eps=cfg.eps,\n",
    "    #     verbose=True\n",
    "    # )\n",
    "\n",
    "    # scheduler_oclr = None\n",
    "    scheduler_rlrop = None\n",
    "    \n",
    "    L, A, LR, BL, BA, _, _, _, _ = fit(\n",
    "        model=model, \n",
    "        optimizer=optimizer, \n",
    "        scheduler_oclr=scheduler_oclr,\n",
    "        scheduler_rlrop=scheduler_rlrop,\n",
    "        epochs=cfg.epochs, \n",
    "        early_stopping_patience=cfg.early_stopping, \n",
    "        dataloaders=dataloaders, \n",
    "        device=cfg.device,\n",
    "        save_path=cfg.save_path,\n",
    "        fold=fold,\n",
    "        verbose=True\n",
    "    )\n",
    "\n",
    "\n",
    "    breaker()\n",
    "    show_loss_graphs(L)\n",
    "    breaker()\n",
    "    show_accuracy_graphs(A)\n",
    "    breaker()\n",
    "    if scheduler_oclr:\n",
    "        show_lr_graph(LR)\n",
    "        breaker()\n",
    "    \n",
    "    BLs.append(BL)\n",
    "    BAs.append(BA)\n",
    "\n",
    "    fold += 1"
   ]
  },
  {
   "cell_type": "code",
   "execution_count": 9,
   "id": "e87dc53d",
   "metadata": {
    "execution": {
     "iopub.execute_input": "2023-02-01T10:44:56.002799Z",
     "iopub.status.busy": "2023-02-01T10:44:56.002501Z",
     "iopub.status.idle": "2023-02-01T10:44:56.009114Z",
     "shell.execute_reply": "2023-02-01T10:44:56.008059Z"
    },
    "papermill": {
     "duration": 0.020865,
     "end_time": "2023-02-01T10:44:56.012392",
     "exception": false,
     "start_time": "2023-02-01T10:44:55.991527",
     "status": "completed"
    },
    "tags": []
   },
   "outputs": [
    {
     "name": "stdout",
     "output_type": "stream",
     "text": [
      "\n",
      "**************************************************\n",
      "\n",
      "Best Loss Model Fold     : 5\n",
      "Best Accuracy Model Fold : 2\n",
      "\n",
      "**************************************************\n",
      "\n"
     ]
    }
   ],
   "source": [
    "BL = np.inf\n",
    "for i in range(len(BLs)):\n",
    "    if BLs[i][\"valid\"] < BL:\n",
    "        BL = BLs[i][\"valid\"]\n",
    "        best_loss_index = i\n",
    "\n",
    "        \n",
    "BA = 0.0\n",
    "for i in range(len(BAs)):\n",
    "    if BAs[i][\"valid\"] > BA:\n",
    "        BA = BAs[i][\"valid\"]\n",
    "        best_accs_index = i\n",
    "\n",
    "breaker()\n",
    "print(f\"Best Loss Model Fold     : {best_loss_index + 1}\")\n",
    "print(f\"Best Accuracy Model Fold : {best_accs_index + 1}\")\n",
    "breaker()"
   ]
  }
 ],
 "metadata": {
  "kernelspec": {
   "display_name": "Python 3",
   "language": "python",
   "name": "python3"
  },
  "language_info": {
   "codemirror_mode": {
    "name": "ipython",
    "version": 3
   },
   "file_extension": ".py",
   "mimetype": "text/x-python",
   "name": "python",
   "nbconvert_exporter": "python",
   "pygments_lexer": "ipython3",
   "version": "3.7.12"
  },
  "papermill": {
   "default_parameters": {},
   "duration": 1148.770177,
   "end_time": "2023-02-01T10:44:57.447002",
   "environment_variables": {},
   "exception": null,
   "input_path": "__notebook__.ipynb",
   "output_path": "__notebook__.ipynb",
   "parameters": {},
   "start_time": "2023-02-01T10:25:48.676825",
   "version": "2.3.4"
  }
 },
 "nbformat": 4,
 "nbformat_minor": 5
}
